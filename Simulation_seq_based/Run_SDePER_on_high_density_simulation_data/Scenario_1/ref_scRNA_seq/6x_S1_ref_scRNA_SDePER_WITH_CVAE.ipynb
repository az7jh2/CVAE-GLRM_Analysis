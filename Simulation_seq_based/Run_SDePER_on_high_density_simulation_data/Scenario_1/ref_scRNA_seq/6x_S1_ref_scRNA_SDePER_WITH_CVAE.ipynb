{
 "cells": [
  {
   "cell_type": "markdown",
   "id": "db496b92",
   "metadata": {},
   "source": [
    "# Run *SDePER* on sequencing-based 6x simulated data: Scenario 1 + scRNA-seq data as reference + WITH CVAE\n",
    "\n",
    "In this Notebook we run SDePER on simulated data. For generating **sequencing-based high density** simulated data via coarse-graining procedure please refer [generate_simulated_spatial_data.nb.html](https://rawcdn.githack.com/az7jh2/SDePER_Analysis/e9d87754ce22aa950aaab511d902525d685224e9/Simulation_seq_based/Generate_high_density_simulation_data/generate_simulated_spatial_data.nb.html) in [Generate_high_density_simulation_data](https://github.com/az7jh2/SDePER_Analysis/tree/main/Simulation_seq_based/Generate_high_density_simulation_data) folder.\n",
    "\n",
    "**Scenario 1** means the reference data for deconvolution includes all single cells with the **matched 12 cell types**.\n",
    "\n",
    "**scRNA-seq data as reference** means the reference data is another scRNA-seq data ([GSE115746](https://www.ncbi.nlm.nih.gov/geo/query/acc.cgi?acc=GSE115746)) from the same tissue with simulated spatial data, therefore **platform effect exists**.\n",
    "\n",
    "**WITH CVAE** means we still use CVAE to remove platform effect.\n",
    "\n",
    "==================================================================================================================\n",
    "\n",
    "So here we use the **4 input files** as shown below:\n",
    "\n",
    "1. raw nUMI counts of **6x** simulated spatial transcriptomic data (spots × genes): [sim_seq_based_6x_spatial_spot_nUMI.csv](https://github.com/az7jh2/SDePER_Analysis/blob/main/Simulation_seq_based/Generate_high_density_simulation_data/sim_seq_based_6x_spatial_spot_nUMI.csv)\n",
    "2. raw nUMI counts of reference scRNA-seq data (cells × genes): `scRNA_data_full.csv`. Since the file size of csv file of raw nUMI matrix of all 23,178 cells and 45,768 genes is up to 2.3 GB, we do not provide this file in our repository. It's just a **matrix transpose** of [GSE115746_cells_exon_counts.csv.gz](https://www.ncbi.nlm.nih.gov/geo/download/?acc=GSE115746&format=file&file=GSE115746%5Fcells%5Fexon%5Fcounts%2Ecsv%2Egz) in [GSE115746](https://www.ncbi.nlm.nih.gov/geo/query/acc.cgi?acc=GSE115746) to satisty the file format requirement that rows as cells and columns as genes\n",
    "3. cell type annotations for cells of **the matched 12 cell types** in reference scRNA-seq data (cells × 1): [ref_scRNA_cell_celltype.csv](https://github.com/az7jh2/SDePER_Analysis/blob/main/Simulation/Run_SDePER_on_simulation_data/Scenario_1/ref_scRNA_seq/ref_scRNA_cell_celltype.csv)\n",
    "4. adjacency matrix of spots in simulated spatial transcriptomic data (spots × spots): [sim_spatial_spot_adjacency_matrix.csv](https://github.com/az7jh2/SDePER_Analysis/blob/main/Simulation/Generate_simulation_data/sim_spatial_spot_adjacency_matrix.csv)\n",
    "\n",
    "==================================================================================================================\n",
    "\n",
    "SDePER settings are the same as those used for the 1x setting ([S1_ref_scRNA_SDePER_WITH_CVAE.ipynb](https://github.com/az7jh2/SDePER_Analysis/blob/main/Simulation_seq_based/Run_SDePER_on_simulation_data/Scenario_1/ref_scRNA_seq/S1_ref_scRNA_SDePER_WITH_CVAE.ipynb)):\n",
    "\n",
    "* number of selected TOP marker genes for each comparison in Differential `n_marker_per_cmp`: 20\n",
    "* number of used CPU cores `n_core`: 64\n",
    "* initial learning rate for training CVAE `cvae_init_lr`: 0.003\n",
    "* number of hidden layers in encoder and decoder of CVAE `num_hidden_layer`: 1\n",
    "* whether to use Batch Normalization `use_batch_norm`: false\n",
    "* CVAE training epochs `cvae_train_epoch`: 1000\n",
    "* for diagnostic purposes set `diagnosis`: true\n",
    "\n",
    "ALL other options are left as default.\n",
    "\n",
    "==================================================================================================================\n",
    "\n",
    "the `bash` command to start cell type deconvolution is\n",
    "\n",
    "`runDeconvolution -q sim_seq_based_6x_spatial_spot_nUMI.csv -r scRNA_data_full.csv -c ref_scRNA_cell_celltype.csv -a sim_spatial_spot_adjacency_matrix.csv --n_marker_per_cmp 20 -n 64 --cvae_init_lr 0.003 --num_hidden_layer 1 --use_batch_norm false --cvae_train_epoch 1000 --diagnosis true`\n",
    "\n",
    "Note this Notebook uses **SDePER v1.2.1**. Cell type deconvolution result is renamed as [6x_S1_ref_scRNA_SDePER_WITH_CVAE_celltype_proportions.csv](https://github.com/az7jh2/SDePER_Analysis/blob/main/Simulation_seq_based/Run_SDePER_on_high_density_simulation_data/Scenario_1/ref_scRNA_seq/6x_S1_ref_scRNA_SDePER_WITH_CVAE_celltype_proportions.csv). Folder of diagnostic plots is compressed and renamed as [6x_S1_ref_scRNA_SDePER_WITH_CVAE_diagnosis.tar](https://github.com/az7jh2/SDePER_Analysis/blob/main/Simulation_seq_based/Run_SDePER_on_high_density_simulation_data/Scenario_1/ref_scRNA_seq/6x_S1_ref_scRNA_SDePER_WITH_CVAE_diagnosis.tar)."
   ]
  },
  {
   "cell_type": "code",
   "execution_count": 1,
   "id": "df9e3939",
   "metadata": {
    "execution": {
     "iopub.execute_input": "2024-05-19T16:23:54.971673Z",
     "iopub.status.busy": "2024-05-19T16:23:54.971467Z",
     "iopub.status.idle": "2024-05-19T20:00:10.326379Z",
     "shell.execute_reply": "2024-05-19T20:00:10.324547Z"
    }
   },
   "outputs": [
    {
     "name": "stdout",
     "output_type": "stream",
     "text": [
      "\n",
      "SDePER (Spatial Deconvolution method with Platform Effect Removal) v1.2.1\n",
      "\n"
     ]
    },
    {
     "name": "stdout",
     "output_type": "stream",
     "text": [
      "\n",
      "running options:\n",
      "spatial_file: /home/exouser/Spatial/sim_seq_based_6x_spatial_spot_nUMI.csv\n",
      "ref_file: /home/exouser/Spatial/scRNA_data_full.csv\n",
      "ref_celltype_file: /home/exouser/Spatial/ref_scRNA_cell_celltype.csv\n",
      "marker_file: None\n",
      "loc_file: None\n",
      "A_file: /home/exouser/Spatial/sim_spatial_spot_adjacency_matrix.csv\n",
      "n_cores: 64\n",
      "threshold: 0\n",
      "use_cvae: True\n",
      "use_imputation: False\n",
      "diagnosis: True\n",
      "verbose: True\n",
      "use_fdr: True\n",
      "p_val_cutoff: 0.05\n",
      "fc_cutoff: 1.2\n",
      "pct1_cutoff: 0.3\n",
      "pct2_cutoff: 0.1\n",
      "sortby_fc: True\n",
      "n_marker_per_cmp: 20\n",
      "filter_cell: True\n",
      "filter_gene: True\n",
      "n_hv_gene: 200\n",
      "n_pseudo_spot: 500000\n",
      "pseudo_spot_min_cell: 2\n",
      "pseudo_spot_max_cell: 8\n",
      "seq_depth_scaler: 10000\n",
      "cvae_input_scaler: 10\n",
      "cvae_init_lr: 0.003\n",
      "num_hidden_layer: 1\n",
      "use_batch_norm: False\n",
      "cvae_train_epoch: 1000\n",
      "use_spatial_pseudo: False\n",
      "redo_de: True\n",
      "seed: 383\n",
      "lambda_r: [0.1, 0.268, 0.72, 1.931, 5.179, 13.895, 37.276, 100.0]\n",
      "lambda_g: [0.1, 0.268, 0.72, 1.931, 5.179, 13.895, 37.276, 100.0]\n",
      "diameter: 200\n",
      "impute_diameter: [160, 114, 80]\n"
     ]
    },
    {
     "name": "stdout",
     "output_type": "stream",
     "text": [
      "\n",
      "\n",
      "######### Preprocessing... #########\n",
      "\n",
      "first build CVAE...\n",
      "\n"
     ]
    },
    {
     "name": "stdout",
     "output_type": "stream",
     "text": [
      "read spatial data from file /home/exouser/Spatial/sim_seq_based_6x_spatial_spot_nUMI.csv\n",
      "total 581 spots; 25187 genes\n",
      "\n",
      "filtering genes present in <3 spots: 7204 genes removed\n",
      "\n"
     ]
    },
    {
     "name": "stdout",
     "output_type": "stream",
     "text": [
      "read scRNA-seq data from file /home/exouser/Spatial/scRNA_data_full.csv\n",
      "total 23178 cells; 45768 genes\n",
      "read scRNA-seq cell-type annotation from file /home/exouser/Spatial/ref_scRNA_cell_celltype.csv\n",
      "total 12 cell-types\n"
     ]
    },
    {
     "name": "stdout",
     "output_type": "stream",
     "text": [
      "subset cells with cell-type annotation, finally keep 11835 cells; 45768 genes\n",
      "\n"
     ]
    },
    {
     "name": "stdout",
     "output_type": "stream",
     "text": [
      "filtering cells with <200 genes: No cells removed\n",
      "\n"
     ]
    },
    {
     "name": "stdout",
     "output_type": "stream",
     "text": [
      "filtering genes present in <10 cells: 12063 genes removed\n",
      "\n"
     ]
    },
    {
     "name": "stdout",
     "output_type": "stream",
     "text": [
      "total 16330 overlapped genes\n"
     ]
    },
    {
     "name": "stdout",
     "output_type": "stream",
     "text": [
      "\n",
      "identify 200 highly variable genes from scRNA-seq data...\n"
     ]
    },
    {
     "name": "stdout",
     "output_type": "stream",
     "text": [
      "\n",
      "identify cell-type marker genes...\n",
      "no marker gene profile provided. Perform DE to get cell-type marker genes on scRNA-seq data...\n",
      "\n",
      "Differential analysis across cell-types on scRNA-seq data...\n"
     ]
    },
    {
     "name": "stdout",
     "output_type": "stream",
     "text": [
      "0%..."
     ]
    },
    {
     "name": "stdout",
     "output_type": "stream",
     "text": [
      "8%..."
     ]
    },
    {
     "name": "stdout",
     "output_type": "stream",
     "text": [
      "17%..."
     ]
    },
    {
     "name": "stdout",
     "output_type": "stream",
     "text": [
      "25%..."
     ]
    },
    {
     "name": "stdout",
     "output_type": "stream",
     "text": [
      "33%..."
     ]
    },
    {
     "name": "stdout",
     "output_type": "stream",
     "text": [
      "42%..."
     ]
    },
    {
     "name": "stdout",
     "output_type": "stream",
     "text": [
      "50%..."
     ]
    },
    {
     "name": "stdout",
     "output_type": "stream",
     "text": [
      "58%..."
     ]
    },
    {
     "name": "stdout",
     "output_type": "stream",
     "text": [
      "67%..."
     ]
    },
    {
     "name": "stdout",
     "output_type": "stream",
     "text": [
      "75%..."
     ]
    },
    {
     "name": "stdout",
     "output_type": "stream",
     "text": [
      "83%..."
     ]
    },
    {
     "name": "stdout",
     "output_type": "stream",
     "text": [
      "92%..."
     ]
    },
    {
     "name": "stdout",
     "output_type": "stream",
     "text": [
      "finally selected 745 cell-type marker genes\n",
      "\n"
     ]
    },
    {
     "name": "stdout",
     "output_type": "stream",
     "text": [
      "\n",
      "use union of highly variable gene list and cell-type marker gene list derived from scRNA-seq data, finally get 827 genes for downstream analysis\n",
      "\n",
      "start CVAE building...\n",
      "\n"
     ]
    },
    {
     "name": "stdout",
     "output_type": "stream",
     "text": [
      "generate 500000 pseudo-spots containing 2 to 8 cells from scRNA-seq cells...\n"
     ]
    },
    {
     "name": "stdout",
     "output_type": "stream",
     "text": [
      "10%..."
     ]
    },
    {
     "name": "stdout",
     "output_type": "stream",
     "text": [
      "20%..."
     ]
    },
    {
     "name": "stdout",
     "output_type": "stream",
     "text": [
      "30%..."
     ]
    },
    {
     "name": "stdout",
     "output_type": "stream",
     "text": [
      "40%..."
     ]
    },
    {
     "name": "stdout",
     "output_type": "stream",
     "text": [
      "50%..."
     ]
    },
    {
     "name": "stdout",
     "output_type": "stream",
     "text": [
      "60%..."
     ]
    },
    {
     "name": "stdout",
     "output_type": "stream",
     "text": [
      "70%..."
     ]
    },
    {
     "name": "stdout",
     "output_type": "stream",
     "text": [
      "80%..."
     ]
    },
    {
     "name": "stdout",
     "output_type": "stream",
     "text": [
      "90%..."
     ]
    },
    {
     "name": "stdout",
     "output_type": "stream",
     "text": [
      "100%...\n",
      "\n"
     ]
    },
    {
     "name": "stdout",
     "output_type": "stream",
     "text": [
      "generate 0 pseudo-spots containing 2 to 6 spots from spatial spots...\n",
      "\n",
      "WARNING: first apply log transformation on sequencing depth normalized gene expressions, followed by Min-Max scaling\n"
     ]
    },
    {
     "name": "stdout",
     "output_type": "stream",
     "text": [
      "\n",
      "                         |  training | validation\n",
      "spatial spots            |       581 |         0\n",
      "spatial pseudo-spots     |         0 |         0\n",
      "scRNA-seq cells          |     11835 |         0\n",
      "scRNA-seq pseudo-spots   |    400000 |    100000\n",
      "\n"
     ]
    },
    {
     "name": "stdout",
     "output_type": "stream",
     "text": [
      "scaling inputs to range 0 to 10\n"
     ]
    },
    {
     "name": "stdout",
     "output_type": "stream",
     "text": [
      "\n",
      "CVAE structure:\n",
      "Encoder: 828 - 172 - 36\n",
      "Decoder: 37 - 172 - 827\n",
      "\n"
     ]
    },
    {
     "name": "stdout",
     "output_type": "stream",
     "text": [
      "\n",
      "Start training...\n",
      "\n"
     ]
    },
    {
     "name": "stdout",
     "output_type": "stream",
     "text": [
      "Train on 412416 samples, validate on 100000 samples\n",
      "Epoch 1/1000\n"
     ]
    },
    {
     "name": "stdout",
     "output_type": "stream",
     "text": [
      "\r",
      "412416/412416 [==============================] - ETA: 0s - loss: 1010.3177 - reconstruction_loss: 403.7640 - KL_loss: 25.0549"
     ]
    },
    {
     "name": "stdout",
     "output_type": "stream",
     "text": [
      "\b\b\b\b\b\b\b\b\b\b\b\b\b\b\b\b\b\b\b\b\b\b\b\b\b\b\b\b\b\b\b\b\b\b\b\b\b\b\b\b\b\b\b\b\b\b\b\b\b\b\b\b\b\b\b\b\b\b\b\b\b\b\b\b\b\b\b\b\b\b\b\b\b\b\b\b\b\b\b\b\b\b\b\b\b\b\b\b\b\b\b\b\b\b\b\b\b\b\b\b\b\b\b\b\b\b\b\b\b\b\b\b\b\b\b\b\b\b\b\b\b\b\b\b\b\r",
      "412416/412416 [==============================] - 16s 38us/sample - loss: 1010.3177 - reconstruction_loss: 403.7640 - KL_loss: 25.0549 - val_loss: 391.9471 - val_reconstruction_loss: 360.1912 - val_KL_loss: 31.7559 - lr: 0.0030\n",
      "Epoch 2/1000\n"
     ]
    },
    {
     "name": "stdout",
     "output_type": "stream",
     "text": [
      "\r",
      "412416/412416 [==============================] - ETA: 0s - loss: 1198.3694 - reconstruction_loss: 381.5185 - KL_loss: 35.1181"
     ]
    },
    {
     "name": "stdout",
     "output_type": "stream",
     "text": [
      "\b\b\b\b\b\b\b\b\b\b\b\b\b\b\b\b\b\b\b\b\b\b\b\b\b\b\b\b\b\b\b\b\b\b\b\b\b\b\b\b\b\b\b\b\b\b\b\b\b\b\b\b\b\b\b\b\b\b\b\b\b\b\b\b\b\b\b\b\b\b\b\b\b\b\b\b\b\b\b\b\b\b\b\b\b\b\b\b\b\b\b\b\b\b\b\b\b\b\b\b\b\b\b\b\b\b\b\b\b\b\b\b\b\b\b\b\b\b\b\b\b\b\b\b\b\r",
      "412416/412416 [==============================] - 12s 29us/sample - loss: 1198.3694 - reconstruction_loss: 381.5185 - KL_loss: 35.1181 - val_loss: 380.0309 - val_reconstruction_loss: 342.8948 - val_KL_loss: 37.1361 - lr: 0.0030\n",
      "Epoch 3/1000\n"
     ]
    },
    {
     "name": "stdout",
     "output_type": "stream",
     "text": [
      "\r",
      "412416/412416 [==============================] - ETA: 0s - loss: 931.7897 - reconstruction_loss: 361.5485 - KL_loss: 38.8517"
     ]
    },
    {
     "name": "stdout",
     "output_type": "stream",
     "text": [
      "\b\b\b\b\b\b\b\b\b\b\b\b\b\b\b\b\b\b\b\b\b\b\b\b\b\b\b\b\b\b\b\b\b\b\b\b\b\b\b\b\b\b\b\b\b\b\b\b\b\b\b\b\b\b\b\b\b\b\b\b\b\b\b\b\b\b\b\b\b\b\b\b\b\b\b\b\b\b\b\b\b\b\b\b\b\b\b\b\b\b\b\b\b\b\b\b\b\b\b\b\b\b\b\b\b\b\b\b\b\b\b\b\b\b\b\b\b\b\b\b\b\b\b\b\r",
      "412416/412416 [==============================] - 12s 28us/sample - loss: 931.7897 - reconstruction_loss: 361.5485 - KL_loss: 38.8517 - val_loss: 354.3856 - val_reconstruction_loss: 316.3230 - val_KL_loss: 38.0626 - lr: 0.0030\n",
      "Epoch 4/1000\n"
     ]
    },
    {
     "name": "stdout",
     "output_type": "stream",
     "text": [
      "\r",
      "412416/412416 [==============================] - ETA: 0s - loss: 796.9444 - reconstruction_loss: 333.1867 - KL_loss: 39.2349"
     ]
    },
    {
     "name": "stdout",
     "output_type": "stream",
     "text": [
      "\b\b\b\b\b\b\b\b\b\b\b\b\b\b\b\b\b\b\b\b\b\b\b\b\b\b\b\b\b\b\b\b\b\b\b\b\b\b\b\b\b\b\b\b\b\b\b\b\b\b\b\b\b\b\b\b\b\b\b\b\b\b\b\b\b\b\b\b\b\b\b\b\b\b\b\b\b\b\b\b\b\b\b\b\b\b\b\b\b\b\b\b\b\b\b\b\b\b\b\b\b\b\b\b\b\b\b\b\b\b\b\b\b\b\b\b\b\b\b\b\b\b\b\b\r",
      "412416/412416 [==============================] - 12s 28us/sample - loss: 796.9444 - reconstruction_loss: 333.1867 - KL_loss: 39.2349 - val_loss: 318.2337 - val_reconstruction_loss: 279.1603 - val_KL_loss: 39.0734 - lr: 0.0030\n",
      "Epoch 5/1000\n"
     ]
    },
    {
     "name": "stdout",
     "output_type": "stream",
     "text": [
      "\r",
      "412416/412416 [==============================] - ETA: 0s - loss: 709.3284 - reconstruction_loss: 293.7699 - KL_loss: 40.2909"
     ]
    },
    {
     "name": "stdout",
     "output_type": "stream",
     "text": [
      "\b\b\b\b\b\b\b\b\b\b\b\b\b\b\b\b\b\b\b\b\b\b\b\b\b\b\b\b\b\b\b\b\b\b\b\b\b\b\b\b\b\b\b\b\b\b\b\b\b\b\b\b\b\b\b\b\b\b\b\b\b\b\b\b\b\b\b\b\b\b\b\b\b\b\b\b\b\b\b\b\b\b\b\b\b\b\b\b\b\b\b\b\b\b\b\b\b\b\b\b\b\b\b\b\b\b\b\b\b\b\b\b\b\b\b\b\b\b\b\b\b\b\b\b\r",
      "412416/412416 [==============================] - 12s 29us/sample - loss: 709.3284 - reconstruction_loss: 293.7699 - KL_loss: 40.2909 - val_loss: 294.1273 - val_reconstruction_loss: 260.2575 - val_KL_loss: 33.8698 - lr: 0.0030\n",
      "Epoch 6/1000\n"
     ]
    },
    {
     "name": "stdout",
     "output_type": "stream",
     "text": [
      "\r",
      "412416/412416 [==============================] - ETA: 0s - loss: 643.1510 - reconstruction_loss: 273.9001 - KL_loss: 34.7902"
     ]
    },
    {
     "name": "stdout",
     "output_type": "stream",
     "text": [
      "\b\b\b\b\b\b\b\b\b\b\b\b\b\b\b\b\b\b\b\b\b\b\b\b\b\b\b\b\b\b\b\b\b\b\b\b\b\b\b\b\b\b\b\b\b\b\b\b\b\b\b\b\b\b\b\b\b\b\b\b\b\b\b\b\b\b\b\b\b\b\b\b\b\b\b\b\b\b\b\b\b\b\b\b\b\b\b\b\b\b\b\b\b\b\b\b\b\b\b\b\b\b\b\b\b\b\b\b\b\b\b\b\b\b\b\b\b\b\b\b\b\b\b\b\r",
      "412416/412416 [==============================] - 12s 29us/sample - loss: 643.1510 - reconstruction_loss: 273.9001 - KL_loss: 34.7902 - val_loss: 274.5896 - val_reconstruction_loss: 238.1752 - val_KL_loss: 36.4144 - lr: 0.0030\n",
      "Epoch 7/1000\n"
     ]
    },
    {
     "name": "stdout",
     "output_type": "stream",
     "text": [
      "\r",
      "412416/412416 [==============================] - ETA: 0s - loss: 601.2787 - reconstruction_loss: 251.3081 - KL_loss: 37.4126"
     ]
    },
    {
     "name": "stdout",
     "output_type": "stream",
     "text": [
      "\b\b\b\b\b\b\b\b\b\b\b\b\b\b\b\b\b\b\b\b\b\b\b\b\b\b\b\b\b\b\b\b\b\b\b\b\b\b\b\b\b\b\b\b\b\b\b\b\b\b\b\b\b\b\b\b\b\b\b\b\b\b\b\b\b\b\b\b\b\b\b\b\b\b\b\b\b\b\b\b\b\b\b\b\b\b\b\b\b\b\b\b\b\b\b\b\b\b\b\b\b\b\b\b\b\b\b\b\b\b\b\b\b\b\b\b\b\b\b\b\b\b\b\b\r",
      "412416/412416 [==============================] - 12s 29us/sample - loss: 601.2787 - reconstruction_loss: 251.3081 - KL_loss: 37.4126 - val_loss: 261.7368 - val_reconstruction_loss: 227.2964 - val_KL_loss: 34.4405 - lr: 0.0030\n",
      "Epoch 8/1000\n"
     ]
    },
    {
     "name": "stdout",
     "output_type": "stream",
     "text": [
      "\r",
      "412416/412416 [==============================] - ETA: 0s - loss: 563.7096 - reconstruction_loss: 239.5943 - KL_loss: 35.2195"
     ]
    },
    {
     "name": "stdout",
     "output_type": "stream",
     "text": [
      "\b\b\b\b\b\b\b\b\b\b\b\b\b\b\b\b\b\b\b\b\b\b\b\b\b\b\b\b\b\b\b\b\b\b\b\b\b\b\b\b\b\b\b\b\b\b\b\b\b\b\b\b\b\b\b\b\b\b\b\b\b\b\b\b\b\b\b\b\b\b\b\b\b\b\b\b\b\b\b\b\b\b\b\b\b\b\b\b\b\b\b\b\b\b\b\b\b\b\b\b\b\b\b\b\b\b\b\b\b\b\b\b\b\b\b\b\b\b\b\b\b\b\b\b\r",
      "412416/412416 [==============================] - 12s 29us/sample - loss: 563.7096 - reconstruction_loss: 239.5943 - KL_loss: 35.2195 - val_loss: 247.0796 - val_reconstruction_loss: 211.8330 - val_KL_loss: 35.2466 - lr: 0.0030\n",
      "Epoch 9/1000\n"
     ]
    },
    {
     "name": "stdout",
     "output_type": "stream",
     "text": [
      "\r",
      "412416/412416 [==============================] - ETA: 0s - loss: 534.0640 - reconstruction_loss: 224.0845 - KL_loss: 36.0207"
     ]
    },
    {
     "name": "stdout",
     "output_type": "stream",
     "text": [
      "\b\b\b\b\b\b\b\b\b\b\b\b\b\b\b\b\b\b\b\b\b\b\b\b\b\b\b\b\b\b\b\b\b\b\b\b\b\b\b\b\b\b\b\b\b\b\b\b\b\b\b\b\b\b\b\b\b\b\b\b\b\b\b\b\b\b\b\b\b\b\b\b\b\b\b\b\b\b\b\b\b\b\b\b\b\b\b\b\b\b\b\b\b\b\b\b\b\b\b\b\b\b\b\b\b\b\b\b\b\b\b\b\b\b\b\b\b\b\b\b\b\b\b\b\r",
      "412416/412416 [==============================] - 12s 29us/sample - loss: 534.0640 - reconstruction_loss: 224.0845 - KL_loss: 36.0207 - val_loss: 230.7640 - val_reconstruction_loss: 199.4137 - val_KL_loss: 31.3503 - lr: 0.0030\n",
      "Epoch 10/1000\n"
     ]
    },
    {
     "name": "stdout",
     "output_type": "stream",
     "text": [
      "\r",
      "412416/412416 [==============================] - ETA: 0s - loss: 508.2484 - reconstruction_loss: 211.2157 - KL_loss: 31.8941"
     ]
    },
    {
     "name": "stdout",
     "output_type": "stream",
     "text": [
      "\b\b\b\b\b\b\b\b\b\b\b\b\b\b\b\b\b\b\b\b\b\b\b\b\b\b\b\b\b\b\b\b\b\b\b\b\b\b\b\b\b\b\b\b\b\b\b\b\b\b\b\b\b\b\b\b\b\b\b\b\b\b\b\b\b\b\b\b\b\b\b\b\b\b\b\b\b\b\b\b\b\b\b\b\b\b\b\b\b\b\b\b\b\b\b\b\b\b\b\b\b\b\b\b\b\b\b\b\b\b\b\b\b\b\b\b\b\b\b\b\b\b\b\b\r",
      "412416/412416 [==============================] - 12s 29us/sample - loss: 508.2484 - reconstruction_loss: 211.2157 - KL_loss: 31.8941 - val_loss: 221.7209 - val_reconstruction_loss: 190.1745 - val_KL_loss: 31.5464 - lr: 0.0030\n",
      "Epoch 11/1000\n"
     ]
    },
    {
     "name": "stdout",
     "output_type": "stream",
     "text": [
      "\r",
      "412416/412416 [==============================] - ETA: 0s - loss: 484.4587 - reconstruction_loss: 201.8951 - KL_loss: 32.0580"
     ]
    },
    {
     "name": "stdout",
     "output_type": "stream",
     "text": [
      "\b\b\b\b\b\b\b\b\b\b\b\b\b\b\b\b\b\b\b\b\b\b\b\b\b\b\b\b\b\b\b\b\b\b\b\b\b\b\b\b\b\b\b\b\b\b\b\b\b\b\b\b\b\b\b\b\b\b\b\b\b\b\b\b\b\b\b\b\b\b\b\b\b\b\b\b\b\b\b\b\b\b\b\b\b\b\b\b\b\b\b\b\b\b\b\b\b\b\b\b\b\b\b\b\b\b\b\b\b\b\b\b\b\b\b\b\b\b\b\b\b\b\b\b\r",
      "412416/412416 [==============================] - 12s 28us/sample - loss: 484.4587 - reconstruction_loss: 201.8951 - KL_loss: 32.0580 - val_loss: 214.0431 - val_reconstruction_loss: 185.3341 - val_KL_loss: 28.7089 - lr: 0.0030\n",
      "Epoch 12/1000\n"
     ]
    },
    {
     "name": "stdout",
     "output_type": "stream",
     "text": [
      "\r",
      "412416/412416 [==============================] - ETA: 0s - loss: 467.9522 - reconstruction_loss: 196.8191 - KL_loss: 29.0863"
     ]
    },
    {
     "name": "stdout",
     "output_type": "stream",
     "text": [
      "\b\b\b\b\b\b\b\b\b\b\b\b\b\b\b\b\b\b\b\b\b\b\b\b\b\b\b\b\b\b\b\b\b\b\b\b\b\b\b\b\b\b\b\b\b\b\b\b\b\b\b\b\b\b\b\b\b\b\b\b\b\b\b\b\b\b\b\b\b\b\b\b\b\b\b\b\b\b\b\b\b\b\b\b\b\b\b\b\b\b\b\b\b\b\b\b\b\b\b\b\b\b\b\b\b\b\b\b\b\b\b\b\b\b\b\b\b\b\b\b\b\b\b\b\r",
      "412416/412416 [==============================] - 12s 29us/sample - loss: 467.9522 - reconstruction_loss: 196.8191 - KL_loss: 29.0863 - val_loss: 203.5994 - val_reconstruction_loss: 174.8233 - val_KL_loss: 28.7760 - lr: 0.0030\n",
      "Epoch 13/1000\n"
     ]
    },
    {
     "name": "stdout",
     "output_type": "stream",
     "text": [
      "\r",
      "412416/412416 [==============================] - ETA: 0s - loss: 448.9025 - reconstruction_loss: 186.1499 - KL_loss: 29.1800"
     ]
    },
    {
     "name": "stdout",
     "output_type": "stream",
     "text": [
      "\b\b\b\b\b\b\b\b\b\b\b\b\b\b\b\b\b\b\b\b\b\b\b\b\b\b\b\b\b\b\b\b\b\b\b\b\b\b\b\b\b\b\b\b\b\b\b\b\b\b\b\b\b\b\b\b\b\b\b\b\b\b\b\b\b\b\b\b\b\b\b\b\b\b\b\b\b\b\b\b\b\b\b\b\b\b\b\b\b\b\b\b\b\b\b\b\b\b\b\b\b\b\b\b\b\b\b\b\b\b\b\b\b\b\b\b\b\b\b\b\b\b\b\b\r",
      "412416/412416 [==============================] - 12s 30us/sample - loss: 448.9025 - reconstruction_loss: 186.1499 - KL_loss: 29.1800 - val_loss: 197.9208 - val_reconstruction_loss: 171.0318 - val_KL_loss: 26.8890 - lr: 0.0030\n",
      "Epoch 14/1000\n"
     ]
    },
    {
     "name": "stdout",
     "output_type": "stream",
     "text": [
      "\r",
      "412416/412416 [==============================] - ETA: 0s - loss: 433.0674 - reconstruction_loss: 182.0616 - KL_loss: 27.2198"
     ]
    },
    {
     "name": "stdout",
     "output_type": "stream",
     "text": [
      "\b\b\b\b\b\b\b\b\b\b\b\b\b\b\b\b\b\b\b\b\b\b\b\b\b\b\b\b\b\b\b\b\b\b\b\b\b\b\b\b\b\b\b\b\b\b\b\b\b\b\b\b\b\b\b\b\b\b\b\b\b\b\b\b\b\b\b\b\b\b\b\b\b\b\b\b\b\b\b\b\b\b\b\b\b\b\b\b\b\b\b\b\b\b\b\b\b\b\b\b\b\b\b\b\b\b\b\b\b\b\b\b\b\b\b\b\b\b\b\b\b\b\b\b\r",
      "412416/412416 [==============================] - 11s 27us/sample - loss: 433.0674 - reconstruction_loss: 182.0616 - KL_loss: 27.2198 - val_loss: 193.6867 - val_reconstruction_loss: 167.0942 - val_KL_loss: 26.5925 - lr: 0.0030\n",
      "Epoch 15/1000\n"
     ]
    },
    {
     "name": "stdout",
     "output_type": "stream",
     "text": [
      "\r",
      "412416/412416 [==============================] - ETA: 0s - loss: 423.9973 - reconstruction_loss: 178.0849 - KL_loss: 26.9679"
     ]
    },
    {
     "name": "stdout",
     "output_type": "stream",
     "text": [
      "\b\b\b\b\b\b\b\b\b\b\b\b\b\b\b\b\b\b\b\b\b\b\b\b\b\b\b\b\b\b\b\b\b\b\b\b\b\b\b\b\b\b\b\b\b\b\b\b\b\b\b\b\b\b\b\b\b\b\b\b\b\b\b\b\b\b\b\b\b\b\b\b\b\b\b\b\b\b\b\b\b\b\b\b\b\b\b\b\b\b\b\b\b\b\b\b\b\b\b\b\b\b\b\b\b\b\b\b\b\b\b\b\b\b\b\b\b\b\b\b\b\b\b\b\r",
      "412416/412416 [==============================] - 14s 33us/sample - loss: 423.9973 - reconstruction_loss: 178.0849 - KL_loss: 26.9679 - val_loss: 183.2887 - val_reconstruction_loss: 158.8252 - val_KL_loss: 24.4635 - lr: 0.0030\n",
      "Epoch 16/1000\n"
     ]
    },
    {
     "name": "stdout",
     "output_type": "stream",
     "text": [
      "\r",
      "412416/412416 [==============================] - ETA: 0s - loss: 406.3105 - reconstruction_loss: 169.5868 - KL_loss: 24.7810"
     ]
    },
    {
     "name": "stdout",
     "output_type": "stream",
     "text": [
      "\b\b\b\b\b\b\b\b\b\b\b\b\b\b\b\b\b\b\b\b\b\b\b\b\b\b\b\b\b\b\b\b\b\b\b\b\b\b\b\b\b\b\b\b\b\b\b\b\b\b\b\b\b\b\b\b\b\b\b\b\b\b\b\b\b\b\b\b\b\b\b\b\b\b\b\b\b\b\b\b\b\b\b\b\b\b\b\b\b\b\b\b\b\b\b\b\b\b\b\b\b\b\b\b\b\b\b\b\b\b\b\b\b\b\b\b\b\b\b\b\b\b\b\b\r",
      "412416/412416 [==============================] - 11s 26us/sample - loss: 406.3105 - reconstruction_loss: 169.5868 - KL_loss: 24.7810 - val_loss: 177.2218 - val_reconstruction_loss: 153.0804 - val_KL_loss: 24.1414 - lr: 0.0030\n",
      "Epoch 17/1000\n"
     ]
    },
    {
     "name": "stdout",
     "output_type": "stream",
     "text": [
      "\r",
      "412416/412416 [==============================] - ETA: 0s - loss: 393.5938 - reconstruction_loss: 163.8602 - KL_loss: 24.4714"
     ]
    },
    {
     "name": "stdout",
     "output_type": "stream",
     "text": [
      "\b\b\b\b\b\b\b\b\b\b\b\b\b\b\b\b\b\b\b\b\b\b\b\b\b\b\b\b\b\b\b\b\b\b\b\b\b\b\b\b\b\b\b\b\b\b\b\b\b\b\b\b\b\b\b\b\b\b\b\b\b\b\b\b\b\b\b\b\b\b\b\b\b\b\b\b\b\b\b\b\b\b\b\b\b\b\b\b\b\b\b\b\b\b\b\b\b\b\b\b\b\b\b\b\b\b\b\b\b\b\b\b\b\b\b\b\b\b\b\b\b\b\b\b\r",
      "412416/412416 [==============================] - 12s 28us/sample - loss: 393.5938 - reconstruction_loss: 163.8602 - KL_loss: 24.4714 - val_loss: 178.5677 - val_reconstruction_loss: 154.3427 - val_KL_loss: 24.2250 - lr: 0.0030\n",
      "Epoch 18/1000\n"
     ]
    },
    {
     "name": "stdout",
     "output_type": "stream",
     "text": [
      "\r",
      "412416/412416 [==============================] - ETA: 0s - loss: 392.0923 - reconstruction_loss: 165.1042 - KL_loss: 24.4770"
     ]
    },
    {
     "name": "stdout",
     "output_type": "stream",
     "text": [
      "\b\b\b\b\b\b\b\b\b\b\b\b\b\b\b\b\b\b\b\b\b\b\b\b\b\b\b\b\b\b\b\b\b\b\b\b\b\b\b\b\b\b\b\b\b\b\b\b\b\b\b\b\b\b\b\b\b\b\b\b\b\b\b\b\b\b\b\b\b\b\b\b\b\b\b\b\b\b\b\b\b\b\b\b\b\b\b\b\b\b\b\b\b\b\b\b\b\b\b\b\b\b\b\b\b\b\b\b\b\b\b\b\b\b\b\b\b\b\b\b\b\b\b\b\r",
      "412416/412416 [==============================] - 12s 28us/sample - loss: 392.0923 - reconstruction_loss: 165.1042 - KL_loss: 24.4770 - val_loss: 168.2523 - val_reconstruction_loss: 142.6084 - val_KL_loss: 25.6440 - lr: 0.0030\n",
      "Epoch 19/1000\n"
     ]
    },
    {
     "name": "stdout",
     "output_type": "stream",
     "text": [
      "\r",
      "412416/412416 [==============================] - ETA: 0s - loss: 374.0888 - reconstruction_loss: 153.1530 - KL_loss: 25.9154"
     ]
    },
    {
     "name": "stdout",
     "output_type": "stream",
     "text": [
      "\b\b\b\b\b\b\b\b\b\b\b\b\b\b\b\b\b\b\b\b\b\b\b\b\b\b\b\b\b\b\b\b\b\b\b\b\b\b\b\b\b\b\b\b\b\b\b\b\b\b\b\b\b\b\b\b\b\b\b\b\b\b\b\b\b\b\b\b\b\b\b\b\b\b\b\b\b\b\b\b\b\b\b\b\b\b\b\b\b\b\b\b\b\b\b\b\b\b\b\b\b\b\b\b\b\b\b\b\b\b\b\b\b\b\b\b\b\b\b\b\b\b\b\b\r",
      "412416/412416 [==============================] - 12s 30us/sample - loss: 374.0888 - reconstruction_loss: 153.1530 - KL_loss: 25.9154 - val_loss: 185.4631 - val_reconstruction_loss: 157.9148 - val_KL_loss: 27.5483 - lr: 0.0030\n",
      "Epoch 20/1000\n"
     ]
    },
    {
     "name": "stdout",
     "output_type": "stream",
     "text": [
      "\r",
      "412416/412416 [==============================] - ETA: 0s - loss: 402.2287 - reconstruction_loss: 168.2085 - KL_loss: 27.9051"
     ]
    },
    {
     "name": "stdout",
     "output_type": "stream",
     "text": [
      "\b\b\b\b\b\b\b\b\b\b\b\b\b\b\b\b\b\b\b\b\b\b\b\b\b\b\b\b\b\b\b\b\b\b\b\b\b\b\b\b\b\b\b\b\b\b\b\b\b\b\b\b\b\b\b\b\b\b\b\b\b\b\b\b\b\b\b\b\b\b\b\b\b\b\b\b\b\b\b\b\b\b\b\b\b\b\b\b\b\b\b\b\b\b\b\b\b\b\b\b\b\b\b\b\b\b\b\b\b\b\b\b\b\b\b\b\b\b\b\b\b\b\b\b\r",
      "412416/412416 [==============================] - 11s 26us/sample - loss: 402.2287 - reconstruction_loss: 168.2085 - KL_loss: 27.9051 - val_loss: 185.5018 - val_reconstruction_loss: 157.0831 - val_KL_loss: 28.4187 - lr: 0.0030\n",
      "Epoch 21/1000\n"
     ]
    },
    {
     "name": "stdout",
     "output_type": "stream",
     "text": [
      "\r",
      "412416/412416 [==============================] - ETA: 0s - loss: 396.0452 - reconstruction_loss: 167.2804 - KL_loss: 28.7713"
     ]
    },
    {
     "name": "stdout",
     "output_type": "stream",
     "text": [
      "\b\b\b\b\b\b\b\b\b\b\b\b\b\b\b\b\b\b\b\b\b\b\b\b\b\b\b\b\b\b\b\b\b\b\b\b\b\b\b\b\b\b\b\b\b\b\b\b\b\b\b\b\b\b\b\b\b\b\b\b\b\b\b\b\b\b\b\b\b\b\b\b\b\b\b\b\b\b\b\b\b\b\b\b\b\b\b\b\b\b\b\b\b\b\b\b\b\b\b\b\b\b\b\b\b\b\b\b\b\b\b\b\b\b\b\b\b\b\b\b\b\b\b\b\r",
      "412416/412416 [==============================] - 11s 27us/sample - loss: 396.0452 - reconstruction_loss: 167.2804 - KL_loss: 28.7713 - val_loss: 161.2909 - val_reconstruction_loss: 133.4996 - val_KL_loss: 27.7913 - lr: 0.0030\n",
      "Epoch 22/1000\n"
     ]
    },
    {
     "name": "stdout",
     "output_type": "stream",
     "text": [
      "\r",
      "412416/412416 [==============================] - ETA: 0s - loss: 362.2999 - reconstruction_loss: 143.5959 - KL_loss: 28.0737"
     ]
    },
    {
     "name": "stdout",
     "output_type": "stream",
     "text": [
      "\b\b\b\b\b\b\b\b\b\b\b\b\b\b\b\b\b\b\b\b\b\b\b\b\b\b\b\b\b\b\b\b\b\b\b\b\b\b\b\b\b\b\b\b\b\b\b\b\b\b\b\b\b\b\b\b\b\b\b\b\b\b\b\b\b\b\b\b\b\b\b\b\b\b\b\b\b\b\b\b\b\b\b\b\b\b\b\b\b\b\b\b\b\b\b\b\b\b\b\b\b\b\b\b\b\b\b\b\b\b\b\b\b\b\b\b\b\b\b\b\b\b\b\b\r",
      "412416/412416 [==============================] - 11s 28us/sample - loss: 362.2999 - reconstruction_loss: 143.5959 - KL_loss: 28.0737 - val_loss: 163.6650 - val_reconstruction_loss: 134.7484 - val_KL_loss: 28.9166 - lr: 0.0030\n",
      "Epoch 23/1000\n"
     ]
    },
    {
     "name": "stdout",
     "output_type": "stream",
     "text": [
      "\r",
      "412416/412416 [==============================] - ETA: 0s - loss: 369.5703 - reconstruction_loss: 144.8154 - KL_loss: 29.1501"
     ]
    },
    {
     "name": "stdout",
     "output_type": "stream",
     "text": [
      "\b\b\b\b\b\b\b\b\b\b\b\b\b\b\b\b\b\b\b\b\b\b\b\b\b\b\b\b\b\b\b\b\b\b\b\b\b\b\b\b\b\b\b\b\b\b\b\b\b\b\b\b\b\b\b\b\b\b\b\b\b\b\b\b\b\b\b\b\b\b\b\b\b\b\b\b\b\b\b\b\b\b\b\b\b\b\b\b\b\b\b\b\b\b\b\b\b\b\b\b\b\b\b\b\b\b\b\b\b\b\b\b\b\b\b\b\b\b\b\b\b\b\b\b\r",
      "412416/412416 [==============================] - 13s 32us/sample - loss: 369.5703 - reconstruction_loss: 144.8154 - KL_loss: 29.1501 - val_loss: 163.1689 - val_reconstruction_loss: 133.0452 - val_KL_loss: 30.1237 - lr: 0.0030\n",
      "Epoch 24/1000\n"
     ]
    },
    {
     "name": "stdout",
     "output_type": "stream",
     "text": [
      "\r",
      "412416/412416 [==============================] - ETA: 0s - loss: 364.6544 - reconstruction_loss: 142.9317 - KL_loss: 30.3914"
     ]
    },
    {
     "name": "stdout",
     "output_type": "stream",
     "text": [
      "\b\b\b\b\b\b\b\b\b\b\b\b\b\b\b\b\b\b\b\b\b\b\b\b\b\b\b\b\b\b\b\b\b\b\b\b\b\b\b\b\b\b\b\b\b\b\b\b\b\b\b\b\b\b\b\b\b\b\b\b\b\b\b\b\b\b\b\b\b\b\b\b\b\b\b\b\b\b\b\b\b\b\b\b\b\b\b\b\b\b\b\b\b\b\b\b\b\b\b\b\b\b\b\b\b\b\b\b\b\b\b\b\b\b\b\b\b\b\b\b\b\b\b\b\r",
      "412416/412416 [==============================] - 12s 30us/sample - loss: 364.6544 - reconstruction_loss: 142.9317 - KL_loss: 30.3914 - val_loss: 156.3103 - val_reconstruction_loss: 126.6251 - val_KL_loss: 29.6851 - lr: 0.0030\n",
      "Epoch 25/1000\n"
     ]
    },
    {
     "name": "stdout",
     "output_type": "stream",
     "text": [
      "\r",
      "412416/412416 [==============================] - ETA: 0s - loss: 349.5928 - reconstruction_loss: 136.2033 - KL_loss: 30.0475"
     ]
    },
    {
     "name": "stdout",
     "output_type": "stream",
     "text": [
      "\b\b\b\b\b\b\b\b\b\b\b\b\b\b\b\b\b\b\b\b\b\b\b\b\b\b\b\b\b\b\b\b\b\b\b\b\b\b\b\b\b\b\b\b\b\b\b\b\b\b\b\b\b\b\b\b\b\b\b\b\b\b\b\b\b\b\b\b\b\b\b\b\b\b\b\b\b\b\b\b\b\b\b\b\b\b\b\b\b\b\b\b\b\b\b\b\b\b\b\b\b\b\b\b\b\b\b\b\b\b\b\b\b\b\b\b\b\b\b\b\b\b\b\b\r",
      "412416/412416 [==============================] - 12s 29us/sample - loss: 349.5928 - reconstruction_loss: 136.2033 - KL_loss: 30.0475 - val_loss: 154.5767 - val_reconstruction_loss: 127.2601 - val_KL_loss: 27.3167 - lr: 0.0030\n",
      "Epoch 26/1000\n"
     ]
    },
    {
     "name": "stdout",
     "output_type": "stream",
     "text": [
      "\r",
      "412416/412416 [==============================] - ETA: 0s - loss: 345.6956 - reconstruction_loss: 136.6483 - KL_loss: 27.7201"
     ]
    },
    {
     "name": "stdout",
     "output_type": "stream",
     "text": [
      "\b\b\b\b\b\b\b\b\b\b\b\b\b\b\b\b\b\b\b\b\b\b\b\b\b\b\b\b\b\b\b\b\b\b\b\b\b\b\b\b\b\b\b\b\b\b\b\b\b\b\b\b\b\b\b\b\b\b\b\b\b\b\b\b\b\b\b\b\b\b\b\b\b\b\b\b\b\b\b\b\b\b\b\b\b\b\b\b\b\b\b\b\b\b\b\b\b\b\b\b\b\b\b\b\b\b\b\b\b\b\b\b\b\b\b\b\b\b\b\b\b\b\b\b\r",
      "412416/412416 [==============================] - 12s 29us/sample - loss: 345.6956 - reconstruction_loss: 136.6483 - KL_loss: 27.7201 - val_loss: 157.9755 - val_reconstruction_loss: 132.6419 - val_KL_loss: 25.3336 - lr: 0.0030\n",
      "Epoch 27/1000\n"
     ]
    },
    {
     "name": "stdout",
     "output_type": "stream",
     "text": [
      "\r",
      "412416/412416 [==============================] - ETA: 0s - loss: 344.0964 - reconstruction_loss: 141.9481 - KL_loss: 25.6937"
     ]
    },
    {
     "name": "stdout",
     "output_type": "stream",
     "text": [
      "\b\b\b\b\b\b\b\b\b\b\b\b\b\b\b\b\b\b\b\b\b\b\b\b\b\b\b\b\b\b\b\b\b\b\b\b\b\b\b\b\b\b\b\b\b\b\b\b\b\b\b\b\b\b\b\b\b\b\b\b\b\b\b\b\b\b\b\b\b\b\b\b\b\b\b\b\b\b\b\b\b\b\b\b\b\b\b\b\b\b\b\b\b\b\b\b\b\b\b\b\b\b\b\b\b\b\b\b\b\b\b\b\b\b\b\b\b\b\b\b\b\b\b\b\r",
      "412416/412416 [==============================] - 16s 38us/sample - loss: 344.0964 - reconstruction_loss: 141.9481 - KL_loss: 25.6937 - val_loss: 148.6272 - val_reconstruction_loss: 123.3344 - val_KL_loss: 25.2929 - lr: 0.0030\n",
      "Epoch 28/1000\n"
     ]
    },
    {
     "name": "stdout",
     "output_type": "stream",
     "text": [
      "\r",
      "412416/412416 [==============================] - ETA: 0s - loss: 331.1187 - reconstruction_loss: 132.5728 - KL_loss: 25.6324"
     ]
    },
    {
     "name": "stdout",
     "output_type": "stream",
     "text": [
      "\b\b\b\b\b\b\b\b\b\b\b\b\b\b\b\b\b\b\b\b\b\b\b\b\b\b\b\b\b\b\b\b\b\b\b\b\b\b\b\b\b\b\b\b\b\b\b\b\b\b\b\b\b\b\b\b\b\b\b\b\b\b\b\b\b\b\b\b\b\b\b\b\b\b\b\b\b\b\b\b\b\b\b\b\b\b\b\b\b\b\b\b\b\b\b\b\b\b\b\b\b\b\b\b\b\b\b\b\b\b\b\b\b\b\b\b\b\b\b\b\b\b\b\b\r",
      "412416/412416 [==============================] - 15s 35us/sample - loss: 331.1187 - reconstruction_loss: 132.5728 - KL_loss: 25.6324 - val_loss: 157.2471 - val_reconstruction_loss: 130.0574 - val_KL_loss: 27.1897 - lr: 0.0030\n",
      "Epoch 29/1000\n"
     ]
    },
    {
     "name": "stdout",
     "output_type": "stream",
     "text": [
      "\r",
      "412416/412416 [==============================] - ETA: 0s - loss: 341.5313 - reconstruction_loss: 139.1925 - KL_loss: 27.5659"
     ]
    },
    {
     "name": "stdout",
     "output_type": "stream",
     "text": [
      "\b\b\b\b\b\b\b\b\b\b\b\b\b\b\b\b\b\b\b\b\b\b\b\b\b\b\b\b\b\b\b\b\b\b\b\b\b\b\b\b\b\b\b\b\b\b\b\b\b\b\b\b\b\b\b\b\b\b\b\b\b\b\b\b\b\b\b\b\b\b\b\b\b\b\b\b\b\b\b\b\b\b\b\b\b\b\b\b\b\b\b\b\b\b\b\b\b\b\b\b\b\b\b\b\b\b\b\b\b\b\b\b\b\b\b\b\b\b\b\b\b\b\b\b\r",
      "412416/412416 [==============================] - 13s 31us/sample - loss: 341.5313 - reconstruction_loss: 139.1925 - KL_loss: 27.5659 - val_loss: 157.7180 - val_reconstruction_loss: 130.3005 - val_KL_loss: 27.4175 - lr: 0.0030\n",
      "Epoch 30/1000\n"
     ]
    },
    {
     "name": "stdout",
     "output_type": "stream",
     "text": [
      "\r",
      "412416/412416 [==============================] - ETA: 0s - loss: 340.7523 - reconstruction_loss: 139.3067 - KL_loss: 27.7885"
     ]
    },
    {
     "name": "stdout",
     "output_type": "stream",
     "text": [
      "\b\b\b\b\b\b\b\b\b\b\b\b\b\b\b\b\b\b\b\b\b\b\b\b\b\b\b\b\b\b\b\b\b\b\b\b\b\b\b\b\b\b\b\b\b\b\b\b\b\b\b\b\b\b\b\b\b\b\b\b\b\b\b\b\b\b\b\b\b\b\b\b\b\b\b\b\b\b\b\b\b\b\b\b\b\b\b\b\b\b\b\b\b\b\b\b\b\b\b\b\b\b\b\b\b\b\b\b\b\b\b\b\b\b\b\b\b\b\b\b\b\b\b\b\r",
      "412416/412416 [==============================] - 12s 30us/sample - loss: 340.7523 - reconstruction_loss: 139.3067 - KL_loss: 27.7885 - val_loss: 144.9263 - val_reconstruction_loss: 119.2889 - val_KL_loss: 25.6374 - lr: 0.0030\n",
      "Epoch 31/1000\n"
     ]
    },
    {
     "name": "stdout",
     "output_type": "stream",
     "text": [
      "\r",
      "412416/412416 [==============================] - ETA: 0s - loss: 326.0673 - reconstruction_loss: 128.3574 - KL_loss: 25.9696"
     ]
    },
    {
     "name": "stdout",
     "output_type": "stream",
     "text": [
      "\b\b\b\b\b\b\b\b\b\b\b\b\b\b\b\b\b\b\b\b\b\b\b\b\b\b\b\b\b\b\b\b\b\b\b\b\b\b\b\b\b\b\b\b\b\b\b\b\b\b\b\b\b\b\b\b\b\b\b\b\b\b\b\b\b\b\b\b\b\b\b\b\b\b\b\b\b\b\b\b\b\b\b\b\b\b\b\b\b\b\b\b\b\b\b\b\b\b\b\b\b\b\b\b\b\b\b\b\b\b\b\b\b\b\b\b\b\b\b\b\b\b\b\b\r",
      "412416/412416 [==============================] - 12s 29us/sample - loss: 326.0673 - reconstruction_loss: 128.3574 - KL_loss: 25.9696 - val_loss: 144.9593 - val_reconstruction_loss: 120.6463 - val_KL_loss: 24.3129 - lr: 0.0030\n",
      "Epoch 32/1000\n"
     ]
    },
    {
     "name": "stdout",
     "output_type": "stream",
     "text": [
      "\r",
      "412416/412416 [==============================] - ETA: 0s - loss: 324.1066 - reconstruction_loss: 129.7302 - KL_loss: 24.6473"
     ]
    },
    {
     "name": "stdout",
     "output_type": "stream",
     "text": [
      "\b\b\b\b\b\b\b\b\b\b\b\b\b\b\b\b\b\b\b\b\b\b\b\b\b\b\b\b\b\b\b\b\b\b\b\b\b\b\b\b\b\b\b\b\b\b\b\b\b\b\b\b\b\b\b\b\b\b\b\b\b\b\b\b\b\b\b\b\b\b\b\b\b\b\b\b\b\b\b\b\b\b\b\b\b\b\b\b\b\b\b\b\b\b\b\b\b\b\b\b\b\b\b\b\b\b\b\b\b\b\b\b\b\b\b\b\b\b\b\b\b\b\b\b\r",
      "412416/412416 [==============================] - 21s 52us/sample - loss: 324.1066 - reconstruction_loss: 129.7302 - KL_loss: 24.6473 - val_loss: 145.5535 - val_reconstruction_loss: 120.8282 - val_KL_loss: 24.7253 - lr: 0.0030\n",
      "Epoch 33/1000\n"
     ]
    },
    {
     "name": "stdout",
     "output_type": "stream",
     "text": [
      "\r",
      "412416/412416 [==============================] - ETA: 0s - loss: 325.0919 - reconstruction_loss: 129.8338 - KL_loss: 25.1024"
     ]
    },
    {
     "name": "stdout",
     "output_type": "stream",
     "text": [
      "\b\b\b\b\b\b\b\b\b\b\b\b\b\b\b\b\b\b\b\b\b\b\b\b\b\b\b\b\b\b\b\b\b\b\b\b\b\b\b\b\b\b\b\b\b\b\b\b\b\b\b\b\b\b\b\b\b\b\b\b\b\b\b\b\b\b\b\b\b\b\b\b\b\b\b\b\b\b\b\b\b\b\b\b\b\b\b\b\b\b\b\b\b\b\b\b\b\b\b\b\b\b\b\b\b\b\b\b\b\b\b\b\b\b\b\b\b\b\b\b\b\b\b\b\r",
      "412416/412416 [==============================] - 18s 44us/sample - loss: 325.0919 - reconstruction_loss: 129.8338 - KL_loss: 25.1024 - val_loss: 142.9677 - val_reconstruction_loss: 117.8806 - val_KL_loss: 25.0870 - lr: 0.0030\n",
      "Epoch 34/1000\n"
     ]
    },
    {
     "name": "stdout",
     "output_type": "stream",
     "text": [
      "\r",
      "412416/412416 [==============================] - ETA: 0s - loss: 318.4980 - reconstruction_loss: 126.8016 - KL_loss: 25.4684"
     ]
    },
    {
     "name": "stdout",
     "output_type": "stream",
     "text": [
      "\b\b\b\b\b\b\b\b\b\b\b\b\b\b\b\b\b\b\b\b\b\b\b\b\b\b\b\b\b\b\b\b\b\b\b\b\b\b\b\b\b\b\b\b\b\b\b\b\b\b\b\b\b\b\b\b\b\b\b\b\b\b\b\b\b\b\b\b\b\b\b\b\b\b\b\b\b\b\b\b\b\b\b\b\b\b\b\b\b\b\b\b\b\b\b\b\b\b\b\b\b\b\b\b\b\b\b\b\b\b\b\b\b\b\b\b\b\b\b\b\b\b\b\b\r",
      "412416/412416 [==============================] - 13s 31us/sample - loss: 318.4980 - reconstruction_loss: 126.8016 - KL_loss: 25.4684 - val_loss: 142.6716 - val_reconstruction_loss: 117.6678 - val_KL_loss: 25.0038 - lr: 0.0030\n",
      "Epoch 35/1000\n"
     ]
    },
    {
     "name": "stdout",
     "output_type": "stream",
     "text": [
      "\r",
      "412416/412416 [==============================] - ETA: 0s - loss: 315.5551 - reconstruction_loss: 126.5537 - KL_loss: 25.3411"
     ]
    },
    {
     "name": "stdout",
     "output_type": "stream",
     "text": [
      "\b\b\b\b\b\b\b\b\b\b\b\b\b\b\b\b\b\b\b\b\b\b\b\b\b\b\b\b\b\b\b\b\b\b\b\b\b\b\b\b\b\b\b\b\b\b\b\b\b\b\b\b\b\b\b\b\b\b\b\b\b\b\b\b\b\b\b\b\b\b\b\b\b\b\b\b\b\b\b\b\b\b\b\b\b\b\b\b\b\b\b\b\b\b\b\b\b\b\b\b\b\b\b\b\b\b\b\b\b\b\b\b\b\b\b\b\b\b\b\b\b\b\b\b\r",
      "412416/412416 [==============================] - 22s 53us/sample - loss: 315.5551 - reconstruction_loss: 126.5537 - KL_loss: 25.3411 - val_loss: 142.1628 - val_reconstruction_loss: 117.0403 - val_KL_loss: 25.1225 - lr: 0.0030\n",
      "Epoch 36/1000\n"
     ]
    },
    {
     "name": "stdout",
     "output_type": "stream",
     "text": [
      "\r",
      "412416/412416 [==============================] - ETA: 0s - loss: 313.8035 - reconstruction_loss: 125.8507 - KL_loss: 25.4561"
     ]
    },
    {
     "name": "stdout",
     "output_type": "stream",
     "text": [
      "\b\b\b\b\b\b\b\b\b\b\b\b\b\b\b\b\b\b\b\b\b\b\b\b\b\b\b\b\b\b\b\b\b\b\b\b\b\b\b\b\b\b\b\b\b\b\b\b\b\b\b\b\b\b\b\b\b\b\b\b\b\b\b\b\b\b\b\b\b\b\b\b\b\b\b\b\b\b\b\b\b\b\b\b\b\b\b\b\b\b\b\b\b\b\b\b\b\b\b\b\b\b\b\b\b\b\b\b\b\b\b\b\b\b\b\b\b\b\b\b\b\b\b\b\r",
      "412416/412416 [==============================] - 12s 30us/sample - loss: 313.8035 - reconstruction_loss: 125.8507 - KL_loss: 25.4561 - val_loss: 141.6429 - val_reconstruction_loss: 116.7503 - val_KL_loss: 24.8925 - lr: 0.0030\n",
      "Epoch 37/1000\n"
     ]
    },
    {
     "name": "stdout",
     "output_type": "stream",
     "text": [
      "\r",
      "412416/412416 [==============================] - ETA: 0s - loss: 311.6127 - reconstruction_loss: 125.4395 - KL_loss: 25.2483"
     ]
    },
    {
     "name": "stdout",
     "output_type": "stream",
     "text": [
      "\b\b\b\b\b\b\b\b\b\b\b\b\b\b\b\b\b\b\b\b\b\b\b\b\b\b\b\b\b\b\b\b\b\b\b\b\b\b\b\b\b\b\b\b\b\b\b\b\b\b\b\b\b\b\b\b\b\b\b\b\b\b\b\b\b\b\b\b\b\b\b\b\b\b\b\b\b\b\b\b\b\b\b\b\b\b\b\b\b\b\b\b\b\b\b\b\b\b\b\b\b\b\b\b\b\b\b\b\b\b\b\b\b\b\b\b\b\b\b\b\b\b\b\b\r",
      "412416/412416 [==============================] - 17s 40us/sample - loss: 311.6127 - reconstruction_loss: 125.4395 - KL_loss: 25.2483 - val_loss: 139.1815 - val_reconstruction_loss: 115.6028 - val_KL_loss: 23.5787 - lr: 0.0030\n",
      "Epoch 38/1000\n"
     ]
    },
    {
     "name": "stdout",
     "output_type": "stream",
     "text": [
      "\r",
      "412416/412416 [==============================] - ETA: 0s - loss: 307.6147 - reconstruction_loss: 124.2377 - KL_loss: 23.9232"
     ]
    },
    {
     "name": "stdout",
     "output_type": "stream",
     "text": [
      "\b\b\b\b\b\b\b\b\b\b\b\b\b\b\b\b\b\b\b\b\b\b\b\b\b\b\b\b\b\b\b\b\b\b\b\b\b\b\b\b\b\b\b\b\b\b\b\b\b\b\b\b\b\b\b\b\b\b\b\b\b\b\b\b\b\b\b\b\b\b\b\b\b\b\b\b\b\b\b\b\b\b\b\b\b\b\b\b\b\b\b\b\b\b\b\b\b\b\b\b\b\b\b\b\b\b\b\b\b\b\b\b\b\b\b\b\b\b\b\b\b\b\b\b\r",
      "412416/412416 [==============================] - 12s 30us/sample - loss: 307.6147 - reconstruction_loss: 124.2377 - KL_loss: 23.9232 - val_loss: 140.4737 - val_reconstruction_loss: 117.5843 - val_KL_loss: 22.8894 - lr: 0.0030\n",
      "Epoch 39/1000\n"
     ]
    },
    {
     "name": "stdout",
     "output_type": "stream",
     "text": [
      "\r",
      "412416/412416 [==============================] - ETA: 0s - loss: 309.1456 - reconstruction_loss: 126.2278 - KL_loss: 23.2275"
     ]
    },
    {
     "name": "stdout",
     "output_type": "stream",
     "text": [
      "\b\b\b\b\b\b\b\b\b\b\b\b\b\b\b\b\b\b\b\b\b\b\b\b\b\b\b\b\b\b\b\b\b\b\b\b\b\b\b\b\b\b\b\b\b\b\b\b\b\b\b\b\b\b\b\b\b\b\b\b\b\b\b\b\b\b\b\b\b\b\b\b\b\b\b\b\b\b\b\b\b\b\b\b\b\b\b\b\b\b\b\b\b\b\b\b\b\b\b\b\b\b\b\b\b\b\b\b\b\b\b\b\b\b\b\b\b\b\b\b\b\b\b\b\r",
      "412416/412416 [==============================] - 12s 29us/sample - loss: 309.1456 - reconstruction_loss: 126.2278 - KL_loss: 23.2275 - val_loss: 139.2722 - val_reconstruction_loss: 115.5841 - val_KL_loss: 23.6881 - lr: 0.0030\n",
      "Epoch 40/1000\n"
     ]
    },
    {
     "name": "stdout",
     "output_type": "stream",
     "text": [
      "\r",
      "412416/412416 [==============================] - ETA: 0s - loss: 306.7084 - reconstruction_loss: 124.1959 - KL_loss: 24.0524"
     ]
    },
    {
     "name": "stdout",
     "output_type": "stream",
     "text": [
      "\b\b\b\b\b\b\b\b\b\b\b\b\b\b\b\b\b\b\b\b\b\b\b\b\b\b\b\b\b\b\b\b\b\b\b\b\b\b\b\b\b\b\b\b\b\b\b\b\b\b\b\b\b\b\b\b\b\b\b\b\b\b\b\b\b\b\b\b\b\b\b\b\b\b\b\b\b\b\b\b\b\b\b\b\b\b\b\b\b\b\b\b\b\b\b\b\b\b\b\b\b\b\b\b\b\b\b\b\b\b\b\b\b\b\b\b\b\b\b\b\b\b\b\b\r",
      "412416/412416 [==============================] - 12s 29us/sample - loss: 306.7084 - reconstruction_loss: 124.1959 - KL_loss: 24.0524 - val_loss: 137.7698 - val_reconstruction_loss: 113.1701 - val_KL_loss: 24.5998 - lr: 0.0030\n",
      "Epoch 41/1000\n"
     ]
    },
    {
     "name": "stdout",
     "output_type": "stream",
     "text": [
      "\r",
      "412416/412416 [==============================] - ETA: 0s - loss: 303.1438 - reconstruction_loss: 121.7186 - KL_loss: 24.9624"
     ]
    },
    {
     "name": "stdout",
     "output_type": "stream",
     "text": [
      "\b\b\b\b\b\b\b\b\b\b\b\b\b\b\b\b\b\b\b\b\b\b\b\b\b\b\b\b\b\b\b\b\b\b\b\b\b\b\b\b\b\b\b\b\b\b\b\b\b\b\b\b\b\b\b\b\b\b\b\b\b\b\b\b\b\b\b\b\b\b\b\b\b\b\b\b\b\b\b\b\b\b\b\b\b\b\b\b\b\b\b\b\b\b\b\b\b\b\b\b\b\b\b\b\b\b\b\b\b\b\b\b\b\b\b\b\b\b\b\b\b\b\b\b\r",
      "412416/412416 [==============================] - 12s 30us/sample - loss: 303.1438 - reconstruction_loss: 121.7186 - KL_loss: 24.9624 - val_loss: 137.9917 - val_reconstruction_loss: 113.5393 - val_KL_loss: 24.4524 - lr: 0.0030\n",
      "Epoch 42/1000\n"
     ]
    },
    {
     "name": "stdout",
     "output_type": "stream",
     "text": [
      "\r",
      "412416/412416 [==============================] - ETA: 0s - loss: 303.6705 - reconstruction_loss: 122.1864 - KL_loss: 24.7731"
     ]
    },
    {
     "name": "stdout",
     "output_type": "stream",
     "text": [
      "\b\b\b\b\b\b\b\b\b\b\b\b\b\b\b\b\b\b\b\b\b\b\b\b\b\b\b\b\b\b\b\b\b\b\b\b\b\b\b\b\b\b\b\b\b\b\b\b\b\b\b\b\b\b\b\b\b\b\b\b\b\b\b\b\b\b\b\b\b\b\b\b\b\b\b\b\b\b\b\b\b\b\b\b\b\b\b\b\b\b\b\b\b\b\b\b\b\b\b\b\b\b\b\b\b\b\b\b\b\b\b\b\b\b\b\b\b\b\b\b\b\b\b\b\r",
      "412416/412416 [==============================] - 12s 30us/sample - loss: 303.6705 - reconstruction_loss: 122.1864 - KL_loss: 24.7731 - val_loss: 135.8500 - val_reconstruction_loss: 111.9294 - val_KL_loss: 23.9206 - lr: 0.0030\n",
      "Epoch 43/1000\n"
     ]
    },
    {
     "name": "stdout",
     "output_type": "stream",
     "text": [
      "\r",
      "412416/412416 [==============================] - ETA: 0s - loss: 299.1865 - reconstruction_loss: 120.4881 - KL_loss: 24.2596"
     ]
    },
    {
     "name": "stdout",
     "output_type": "stream",
     "text": [
      "\b\b\b\b\b\b\b\b\b\b\b\b\b\b\b\b\b\b\b\b\b\b\b\b\b\b\b\b\b\b\b\b\b\b\b\b\b\b\b\b\b\b\b\b\b\b\b\b\b\b\b\b\b\b\b\b\b\b\b\b\b\b\b\b\b\b\b\b\b\b\b\b\b\b\b\b\b\b\b\b\b\b\b\b\b\b\b\b\b\b\b\b\b\b\b\b\b\b\b\b\b\b\b\b\b\b\b\b\b\b\b\b\b\b\b\b\b\b\b\b\b\b\b\b\r",
      "412416/412416 [==============================] - 12s 29us/sample - loss: 299.1865 - reconstruction_loss: 120.4881 - KL_loss: 24.2596 - val_loss: 136.9872 - val_reconstruction_loss: 112.9503 - val_KL_loss: 24.0369 - lr: 0.0030\n",
      "Epoch 44/1000\n"
     ]
    },
    {
     "name": "stdout",
     "output_type": "stream",
     "text": [
      "\r",
      "412416/412416 [==============================] - ETA: 0s - loss: 300.1441 - reconstruction_loss: 121.3341 - KL_loss: 24.4435"
     ]
    },
    {
     "name": "stdout",
     "output_type": "stream",
     "text": [
      "\b\b\b\b\b\b\b\b\b\b\b\b\b\b\b\b\b\b\b\b\b\b\b\b\b\b\b\b\b\b\b\b\b\b\b\b\b\b\b\b\b\b\b\b\b\b\b\b\b\b\b\b\b\b\b\b\b\b\b\b\b\b\b\b\b\b\b\b\b\b\b\b\b\b\b\b\b\b\b\b\b\b\b\b\b\b\b\b\b\b\b\b\b\b\b\b\b\b\b\b\b\b\b\b\b\b\b\b\b\b\b\b\b\b\b\b\b\b\b\b\b\b\b\b\r",
      "412416/412416 [==============================] - 12s 29us/sample - loss: 300.1441 - reconstruction_loss: 121.3341 - KL_loss: 24.4435 - val_loss: 136.2434 - val_reconstruction_loss: 112.8445 - val_KL_loss: 23.3989 - lr: 0.0030\n",
      "Epoch 45/1000\n"
     ]
    },
    {
     "name": "stdout",
     "output_type": "stream",
     "text": [
      "\r",
      "412416/412416 [==============================] - ETA: 0s - loss: 299.2876 - reconstruction_loss: 121.1589 - KL_loss: 23.8005"
     ]
    },
    {
     "name": "stdout",
     "output_type": "stream",
     "text": [
      "\b\b\b\b\b\b\b\b\b\b\b\b\b\b\b\b\b\b\b\b\b\b\b\b\b\b\b\b\b\b\b\b\b\b\b\b\b\b\b\b\b\b\b\b\b\b\b\b\b\b\b\b\b\b\b\b\b\b\b\b\b\b\b\b\b\b\b\b\b\b\b\b\b\b\b\b\b\b\b\b\b\b\b\b\b\b\b\b\b\b\b\b\b\b\b\b\b\b\b\b\b\b\b\b\b\b\b\b\b\b\b\b\b\b\b\b\b\b\b\b\b\b\b\b\r",
      "412416/412416 [==============================] - 12s 29us/sample - loss: 299.2876 - reconstruction_loss: 121.1589 - KL_loss: 23.8005 - val_loss: 134.6432 - val_reconstruction_loss: 111.8937 - val_KL_loss: 22.7495 - lr: 0.0030\n",
      "Epoch 46/1000\n"
     ]
    },
    {
     "name": "stdout",
     "output_type": "stream",
     "text": [
      "\r",
      "412416/412416 [==============================] - ETA: 0s - loss: 294.7246 - reconstruction_loss: 120.2756 - KL_loss: 23.1141"
     ]
    },
    {
     "name": "stdout",
     "output_type": "stream",
     "text": [
      "\b\b\b\b\b\b\b\b\b\b\b\b\b\b\b\b\b\b\b\b\b\b\b\b\b\b\b\b\b\b\b\b\b\b\b\b\b\b\b\b\b\b\b\b\b\b\b\b\b\b\b\b\b\b\b\b\b\b\b\b\b\b\b\b\b\b\b\b\b\b\b\b\b\b\b\b\b\b\b\b\b\b\b\b\b\b\b\b\b\b\b\b\b\b\b\b\b\b\b\b\b\b\b\b\b\b\b\b\b\b\b\b\b\b\b\b\b\b\b\b\b\b\b\b\r",
      "412416/412416 [==============================] - 12s 30us/sample - loss: 294.7246 - reconstruction_loss: 120.2756 - KL_loss: 23.1141 - val_loss: 134.6642 - val_reconstruction_loss: 110.8064 - val_KL_loss: 23.8578 - lr: 0.0030\n",
      "Epoch 47/1000\n"
     ]
    },
    {
     "name": "stdout",
     "output_type": "stream",
     "text": [
      "\r",
      "412416/412416 [==============================] - ETA: 0s - loss: 295.7069 - reconstruction_loss: 119.1517 - KL_loss: 24.2362"
     ]
    },
    {
     "name": "stdout",
     "output_type": "stream",
     "text": [
      "\b\b\b\b\b\b\b\b\b\b\b\b\b\b\b\b\b\b\b\b\b\b\b\b\b\b\b\b\b\b\b\b\b\b\b\b\b\b\b\b\b\b\b\b\b\b\b\b\b\b\b\b\b\b\b\b\b\b\b\b\b\b\b\b\b\b\b\b\b\b\b\b\b\b\b\b\b\b\b\b\b\b\b\b\b\b\b\b\b\b\b\b\b\b\b\b\b\b\b\b\b\b\b\b\b\b\b\b\b\b\b\b\b\b\b\b\b\b\b\b\b\b\b\b\r",
      "412416/412416 [==============================] - 12s 29us/sample - loss: 295.7069 - reconstruction_loss: 119.1517 - KL_loss: 24.2362 - val_loss: 134.9387 - val_reconstruction_loss: 110.5644 - val_KL_loss: 24.3743 - lr: 0.0030\n",
      "Epoch 48/1000\n"
     ]
    },
    {
     "name": "stdout",
     "output_type": "stream",
     "text": [
      "\r",
      "412416/412416 [==============================] - ETA: 0s - loss: 294.7614 - reconstruction_loss: 118.8531 - KL_loss: 24.7423"
     ]
    },
    {
     "name": "stdout",
     "output_type": "stream",
     "text": [
      "\b\b\b\b\b\b\b\b\b\b\b\b\b\b\b\b\b\b\b\b\b\b\b\b\b\b\b\b\b\b\b\b\b\b\b\b\b\b\b\b\b\b\b\b\b\b\b\b\b\b\b\b\b\b\b\b\b\b\b\b\b\b\b\b\b\b\b\b\b\b\b\b\b\b\b\b\b\b\b\b\b\b\b\b\b\b\b\b\b\b\b\b\b\b\b\b\b\b\b\b\b\b\b\b\b\b\b\b\b\b\b\b\b\b\b\b\b\b\b\b\b\b\b\b\r",
      "412416/412416 [==============================] - 15s 36us/sample - loss: 294.7614 - reconstruction_loss: 118.8531 - KL_loss: 24.7423 - val_loss: 133.4512 - val_reconstruction_loss: 109.7504 - val_KL_loss: 23.7009 - lr: 0.0030\n",
      "Epoch 49/1000\n"
     ]
    },
    {
     "name": "stdout",
     "output_type": "stream",
     "text": [
      "\r",
      "412416/412416 [==============================] - ETA: 0s - loss: 291.5108 - reconstruction_loss: 117.9202 - KL_loss: 24.0660"
     ]
    },
    {
     "name": "stdout",
     "output_type": "stream",
     "text": [
      "\b\b\b\b\b\b\b\b\b\b\b\b\b\b\b\b\b\b\b\b\b\b\b\b\b\b\b\b\b\b\b\b\b\b\b\b\b\b\b\b\b\b\b\b\b\b\b\b\b\b\b\b\b\b\b\b\b\b\b\b\b\b\b\b\b\b\b\b\b\b\b\b\b\b\b\b\b\b\b\b\b\b\b\b\b\b\b\b\b\b\b\b\b\b\b\b\b\b\b\b\b\b\b\b\b\b\b\b\b\b\b\b\b\b\b\b\b\b\b\b\b\b\b\b\r",
      "412416/412416 [==============================] - 12s 29us/sample - loss: 291.5108 - reconstruction_loss: 117.9202 - KL_loss: 24.0660 - val_loss: 132.4138 - val_reconstruction_loss: 108.9196 - val_KL_loss: 23.4942 - lr: 0.0030\n",
      "Epoch 50/1000\n"
     ]
    },
    {
     "name": "stdout",
     "output_type": "stream",
     "text": [
      "\r",
      "412416/412416 [==============================] - ETA: 0s - loss: 289.3861 - reconstruction_loss: 116.9992 - KL_loss: 23.9163"
     ]
    },
    {
     "name": "stdout",
     "output_type": "stream",
     "text": [
      "\b\b\b\b\b\b\b\b\b\b\b\b\b\b\b\b\b\b\b\b\b\b\b\b\b\b\b\b\b\b\b\b\b\b\b\b\b\b\b\b\b\b\b\b\b\b\b\b\b\b\b\b\b\b\b\b\b\b\b\b\b\b\b\b\b\b\b\b\b\b\b\b\b\b\b\b\b\b\b\b\b\b\b\b\b\b\b\b\b\b\b\b\b\b\b\b\b\b\b\b\b\b\b\b\b\b\b\b\b\b\b\b\b\b\b\b\b\b\b\b\b\b\b\b\r",
      "412416/412416 [==============================] - 12s 30us/sample - loss: 289.3861 - reconstruction_loss: 116.9992 - KL_loss: 23.9163 - val_loss: 132.1740 - val_reconstruction_loss: 109.0729 - val_KL_loss: 23.1011 - lr: 0.0030\n",
      "Epoch 51/1000\n"
     ]
    },
    {
     "name": "stdout",
     "output_type": "stream",
     "text": [
      "\r",
      "412416/412416 [==============================] - ETA: 0s - loss: 288.4437 - reconstruction_loss: 117.0544 - KL_loss: 23.5267"
     ]
    },
    {
     "name": "stdout",
     "output_type": "stream",
     "text": [
      "\b\b\b\b\b\b\b\b\b\b\b\b\b\b\b\b\b\b\b\b\b\b\b\b\b\b\b\b\b\b\b\b\b\b\b\b\b\b\b\b\b\b\b\b\b\b\b\b\b\b\b\b\b\b\b\b\b\b\b\b\b\b\b\b\b\b\b\b\b\b\b\b\b\b\b\b\b\b\b\b\b\b\b\b\b\b\b\b\b\b\b\b\b\b\b\b\b\b\b\b\b\b\b\b\b\b\b\b\b\b\b\b\b\b\b\b\b\b\b\b\b\b\b\b\r",
      "412416/412416 [==============================] - 12s 29us/sample - loss: 288.4437 - reconstruction_loss: 117.0544 - KL_loss: 23.5267 - val_loss: 131.1877 - val_reconstruction_loss: 108.6247 - val_KL_loss: 22.5631 - lr: 0.0030\n",
      "Epoch 52/1000\n"
     ]
    },
    {
     "name": "stdout",
     "output_type": "stream",
     "text": [
      "\r",
      "412416/412416 [==============================] - ETA: 0s - loss: 286.3348 - reconstruction_loss: 116.6091 - KL_loss: 22.9407"
     ]
    },
    {
     "name": "stdout",
     "output_type": "stream",
     "text": [
      "\b\b\b\b\b\b\b\b\b\b\b\b\b\b\b\b\b\b\b\b\b\b\b\b\b\b\b\b\b\b\b\b\b\b\b\b\b\b\b\b\b\b\b\b\b\b\b\b\b\b\b\b\b\b\b\b\b\b\b\b\b\b\b\b\b\b\b\b\b\b\b\b\b\b\b\b\b\b\b\b\b\b\b\b\b\b\b\b\b\b\b\b\b\b\b\b\b\b\b\b\b\b\b\b\b\b\b\b\b\b\b\b\b\b\b\b\b\b\b\b\b\b\b\b\r",
      "412416/412416 [==============================] - 12s 29us/sample - loss: 286.3348 - reconstruction_loss: 116.6091 - KL_loss: 22.9407 - val_loss: 130.3529 - val_reconstruction_loss: 106.8922 - val_KL_loss: 23.4607 - lr: 0.0030\n",
      "Epoch 53/1000\n"
     ]
    },
    {
     "name": "stdout",
     "output_type": "stream",
     "text": [
      "\r",
      "412416/412416 [==============================] - ETA: 0s - loss: 284.5732 - reconstruction_loss: 114.8460 - KL_loss: 23.8457"
     ]
    },
    {
     "name": "stdout",
     "output_type": "stream",
     "text": [
      "\b\b\b\b\b\b\b\b\b\b\b\b\b\b\b\b\b\b\b\b\b\b\b\b\b\b\b\b\b\b\b\b\b\b\b\b\b\b\b\b\b\b\b\b\b\b\b\b\b\b\b\b\b\b\b\b\b\b\b\b\b\b\b\b\b\b\b\b\b\b\b\b\b\b\b\b\b\b\b\b\b\b\b\b\b\b\b\b\b\b\b\b\b\b\b\b\b\b\b\b\b\b\b\b\b\b\b\b\b\b\b\b\b\b\b\b\b\b\b\b\b\b\b\b\r",
      "412416/412416 [==============================] - 12s 30us/sample - loss: 284.5732 - reconstruction_loss: 114.8460 - KL_loss: 23.8457 - val_loss: 129.7921 - val_reconstruction_loss: 106.2500 - val_KL_loss: 23.5420 - lr: 0.0030\n",
      "Epoch 54/1000\n"
     ]
    },
    {
     "name": "stdout",
     "output_type": "stream",
     "text": [
      "\r",
      "412416/412416 [==============================] - ETA: 0s - loss: 282.9471 - reconstruction_loss: 114.1940 - KL_loss: 23.9421"
     ]
    },
    {
     "name": "stdout",
     "output_type": "stream",
     "text": [
      "\b\b\b\b\b\b\b\b\b\b\b\b\b\b\b\b\b\b\b\b\b\b\b\b\b\b\b\b\b\b\b\b\b\b\b\b\b\b\b\b\b\b\b\b\b\b\b\b\b\b\b\b\b\b\b\b\b\b\b\b\b\b\b\b\b\b\b\b\b\b\b\b\b\b\b\b\b\b\b\b\b\b\b\b\b\b\b\b\b\b\b\b\b\b\b\b\b\b\b\b\b\b\b\b\b\b\b\b\b\b\b\b\b\b\b\b\b\b\b\b\b\b\b\b\r",
      "412416/412416 [==============================] - 15s 37us/sample - loss: 282.9471 - reconstruction_loss: 114.1940 - KL_loss: 23.9421 - val_loss: 130.2522 - val_reconstruction_loss: 107.0675 - val_KL_loss: 23.1847 - lr: 0.0030\n",
      "Epoch 55/1000\n"
     ]
    },
    {
     "name": "stdout",
     "output_type": "stream",
     "text": [
      "\r",
      "412416/412416 [==============================] - ETA: 0s - loss: 283.1689 - reconstruction_loss: 114.9691 - KL_loss: 23.5777"
     ]
    },
    {
     "name": "stdout",
     "output_type": "stream",
     "text": [
      "\b\b\b\b\b\b\b\b\b\b\b\b\b\b\b\b\b\b\b\b\b\b\b\b\b\b\b\b\b\b\b\b\b\b\b\b\b\b\b\b\b\b\b\b\b\b\b\b\b\b\b\b\b\b\b\b\b\b\b\b\b\b\b\b\b\b\b\b\b\b\b\b\b\b\b\b\b\b\b\b\b\b\b\b\b\b\b\b\b\b\b\b\b\b\b\b\b\b\b\b\b\b\b\b\b\b\b\b\b\b\b\b\b\b\b\b\b\b\b\b\b\b\b\b\r",
      "412416/412416 [==============================] - 12s 30us/sample - loss: 283.1689 - reconstruction_loss: 114.9691 - KL_loss: 23.5777 - val_loss: 129.4703 - val_reconstruction_loss: 106.0401 - val_KL_loss: 23.4303 - lr: 0.0030\n",
      "Epoch 56/1000\n"
     ]
    },
    {
     "name": "stdout",
     "output_type": "stream",
     "text": [
      "\r",
      "412416/412416 [==============================] - ETA: 0s - loss: 281.6609 - reconstruction_loss: 113.8661 - KL_loss: 23.8558"
     ]
    },
    {
     "name": "stdout",
     "output_type": "stream",
     "text": [
      "\b\b\b\b\b\b\b\b\b\b\b\b\b\b\b\b\b\b\b\b\b\b\b\b\b\b\b\b\b\b\b\b\b\b\b\b\b\b\b\b\b\b\b\b\b\b\b\b\b\b\b\b\b\b\b\b\b\b\b\b\b\b\b\b\b\b\b\b\b\b\b\b\b\b\b\b\b\b\b\b\b\b\b\b\b\b\b\b\b\b\b\b\b\b\b\b\b\b\b\b\b\b\b\b\b\b\b\b\b\b\b\b\b\b\b\b\b\b\b\b\b\b\b\b\r",
      "412416/412416 [==============================] - 12s 30us/sample - loss: 281.6609 - reconstruction_loss: 113.8661 - KL_loss: 23.8558 - val_loss: 128.0459 - val_reconstruction_loss: 104.7898 - val_KL_loss: 23.2561 - lr: 0.0030\n",
      "Epoch 57/1000\n"
     ]
    },
    {
     "name": "stdout",
     "output_type": "stream",
     "text": [
      "\r",
      "412416/412416 [==============================] - ETA: 0s - loss: 279.0920 - reconstruction_loss: 112.6216 - KL_loss: 23.6706"
     ]
    },
    {
     "name": "stdout",
     "output_type": "stream",
     "text": [
      "\b\b\b\b\b\b\b\b\b\b\b\b\b\b\b\b\b\b\b\b\b\b\b\b\b\b\b\b\b\b\b\b\b\b\b\b\b\b\b\b\b\b\b\b\b\b\b\b\b\b\b\b\b\b\b\b\b\b\b\b\b\b\b\b\b\b\b\b\b\b\b\b\b\b\b\b\b\b\b\b\b\b\b\b\b\b\b\b\b\b\b\b\b\b\b\b\b\b\b\b\b\b\b\b\b\b\b\b\b\b\b\b\b\b\b\b\b\b\b\b\b\b\b\b\r",
      "412416/412416 [==============================] - 16s 39us/sample - loss: 279.0920 - reconstruction_loss: 112.6216 - KL_loss: 23.6706 - val_loss: 128.8409 - val_reconstruction_loss: 104.9411 - val_KL_loss: 23.8997 - lr: 0.0030\n",
      "Epoch 58/1000\n"
     ]
    },
    {
     "name": "stdout",
     "output_type": "stream",
     "text": [
      "\r",
      "412416/412416 [==============================] - ETA: 0s - loss: 279.8482 - reconstruction_loss: 112.6556 - KL_loss: 24.2940"
     ]
    },
    {
     "name": "stdout",
     "output_type": "stream",
     "text": [
      "\b\b\b\b\b\b\b\b\b\b\b\b\b\b\b\b\b\b\b\b\b\b\b\b\b\b\b\b\b\b\b\b\b\b\b\b\b\b\b\b\b\b\b\b\b\b\b\b\b\b\b\b\b\b\b\b\b\b\b\b\b\b\b\b\b\b\b\b\b\b\b\b\b\b\b\b\b\b\b\b\b\b\b\b\b\b\b\b\b\b\b\b\b\b\b\b\b\b\b\b\b\b\b\b\b\b\b\b\b\b\b\b\b\b\b\b\b\b\b\b\b\b\b\b\r",
      "412416/412416 [==============================] - 13s 31us/sample - loss: 279.8482 - reconstruction_loss: 112.6556 - KL_loss: 24.2940 - val_loss: 127.2348 - val_reconstruction_loss: 103.8471 - val_KL_loss: 23.3877 - lr: 0.0030\n",
      "Epoch 59/1000\n"
     ]
    },
    {
     "name": "stdout",
     "output_type": "stream",
     "text": [
      "\r",
      "412416/412416 [==============================] - ETA: 0s - loss: 276.5542 - reconstruction_loss: 111.5488 - KL_loss: 23.7899"
     ]
    },
    {
     "name": "stdout",
     "output_type": "stream",
     "text": [
      "\b\b\b\b\b\b\b\b\b\b\b\b\b\b\b\b\b\b\b\b\b\b\b\b\b\b\b\b\b\b\b\b\b\b\b\b\b\b\b\b\b\b\b\b\b\b\b\b\b\b\b\b\b\b\b\b\b\b\b\b\b\b\b\b\b\b\b\b\b\b\b\b\b\b\b\b\b\b\b\b\b\b\b\b\b\b\b\b\b\b\b\b\b\b\b\b\b\b\b\b\b\b\b\b\b\b\b\b\b\b\b\b\b\b\b\b\b\b\b\b\b\b\b\b\r",
      "412416/412416 [==============================] - 12s 30us/sample - loss: 276.5542 - reconstruction_loss: 111.5488 - KL_loss: 23.7899 - val_loss: 129.3309 - val_reconstruction_loss: 107.0249 - val_KL_loss: 22.3060 - lr: 0.0030\n",
      "Epoch 60/1000\n"
     ]
    },
    {
     "name": "stdout",
     "output_type": "stream",
     "text": [
      "\r",
      "412416/412416 [==============================] - ETA: 0s - loss: 279.3982 - reconstruction_loss: 114.6754 - KL_loss: 22.7420"
     ]
    },
    {
     "name": "stdout",
     "output_type": "stream",
     "text": [
      "\b\b\b\b\b\b\b\b\b\b\b\b\b\b\b\b\b\b\b\b\b\b\b\b\b\b\b\b\b\b\b\b\b\b\b\b\b\b\b\b\b\b\b\b\b\b\b\b\b\b\b\b\b\b\b\b\b\b\b\b\b\b\b\b\b\b\b\b\b\b\b\b\b\b\b\b\b\b\b\b\b\b\b\b\b\b\b\b\b\b\b\b\b\b\b\b\b\b\b\b\b\b\b\b\b\b\b\b\b\b\b\b\b\b\b\b\b\b\b\b\b\b\b\b\r",
      "412416/412416 [==============================] - 12s 30us/sample - loss: 279.3982 - reconstruction_loss: 114.6754 - KL_loss: 22.7420 - val_loss: 128.7837 - val_reconstruction_loss: 106.2075 - val_KL_loss: 22.5762 - lr: 0.0030\n",
      "Epoch 61/1000\n"
     ]
    },
    {
     "name": "stdout",
     "output_type": "stream",
     "text": [
      "\r",
      "412416/412416 [==============================] - ETA: 0s - loss: 278.1566 - reconstruction_loss: 113.7960 - KL_loss: 23.0386"
     ]
    },
    {
     "name": "stdout",
     "output_type": "stream",
     "text": [
      "\b\b\b\b\b\b\b\b\b\b\b\b\b\b\b\b\b\b\b\b\b\b\b\b\b\b\b\b\b\b\b\b\b\b\b\b\b\b\b\b\b\b\b\b\b\b\b\b\b\b\b\b\b\b\b\b\b\b\b\b\b\b\b\b\b\b\b\b\b\b\b\b\b\b\b\b\b\b\b\b\b\b\b\b\b\b\b\b\b\b\b\b\b\b\b\b\b\b\b\b\b\b\b\b\b\b\b\b\b\b\b\b\b\b\b\b\b\b\b\b\b\b\b\b\r",
      "412416/412416 [==============================] - 12s 29us/sample - loss: 278.1566 - reconstruction_loss: 113.7960 - KL_loss: 23.0386 - val_loss: 127.1804 - val_reconstruction_loss: 103.7805 - val_KL_loss: 23.3999 - lr: 0.0030\n",
      "Epoch 62/1000\n"
     ]
    },
    {
     "name": "stdout",
     "output_type": "stream",
     "text": [
      "\r",
      "412416/412416 [==============================] - ETA: 0s - loss: 275.2261 - reconstruction_loss: 111.3758 - KL_loss: 23.8367"
     ]
    },
    {
     "name": "stdout",
     "output_type": "stream",
     "text": [
      "\b\b\b\b\b\b\b\b\b\b\b\b\b\b\b\b\b\b\b\b\b\b\b\b\b\b\b\b\b\b\b\b\b\b\b\b\b\b\b\b\b\b\b\b\b\b\b\b\b\b\b\b\b\b\b\b\b\b\b\b\b\b\b\b\b\b\b\b\b\b\b\b\b\b\b\b\b\b\b\b\b\b\b\b\b\b\b\b\b\b\b\b\b\b\b\b\b\b\b\b\b\b\b\b\b\b\b\b\b\b\b\b\b\b\b\b\b\b\b\b\b\b\b\b\r",
      "412416/412416 [==============================] - 13s 31us/sample - loss: 275.2261 - reconstruction_loss: 111.3758 - KL_loss: 23.8367 - val_loss: 127.0482 - val_reconstruction_loss: 103.4659 - val_KL_loss: 23.5823 - lr: 0.0030\n",
      "Epoch 63/1000\n"
     ]
    },
    {
     "name": "stdout",
     "output_type": "stream",
     "text": [
      "\r",
      "412416/412416 [==============================] - ETA: 0s - loss: 274.9451 - reconstruction_loss: 111.0631 - KL_loss: 23.9674"
     ]
    },
    {
     "name": "stdout",
     "output_type": "stream",
     "text": [
      "\b\b\b\b\b\b\b\b\b\b\b\b\b\b\b\b\b\b\b\b\b\b\b\b\b\b\b\b\b\b\b\b\b\b\b\b\b\b\b\b\b\b\b\b\b\b\b\b\b\b\b\b\b\b\b\b\b\b\b\b\b\b\b\b\b\b\b\b\b\b\b\b\b\b\b\b\b\b\b\b\b\b\b\b\b\b\b\b\b\b\b\b\b\b\b\b\b\b\b\b\b\b\b\b\b\b\b\b\b\b\b\b\b\b\b\b\b\b\b\b\b\b\b\b\r",
      "412416/412416 [==============================] - 12s 30us/sample - loss: 274.9451 - reconstruction_loss: 111.0631 - KL_loss: 23.9674 - val_loss: 127.1026 - val_reconstruction_loss: 103.0751 - val_KL_loss: 24.0275 - lr: 0.0030\n",
      "Epoch 64/1000\n"
     ]
    },
    {
     "name": "stdout",
     "output_type": "stream",
     "text": [
      "\r",
      "412416/412416 [==============================] - ETA: 0s - loss: 275.2482 - reconstruction_loss: 110.7442 - KL_loss: 24.4215"
     ]
    },
    {
     "name": "stdout",
     "output_type": "stream",
     "text": [
      "\b\b\b\b\b\b\b\b\b\b\b\b\b\b\b\b\b\b\b\b\b\b\b\b\b\b\b\b\b\b\b\b\b\b\b\b\b\b\b\b\b\b\b\b\b\b\b\b\b\b\b\b\b\b\b\b\b\b\b\b\b\b\b\b\b\b\b\b\b\b\b\b\b\b\b\b\b\b\b\b\b\b\b\b\b\b\b\b\b\b\b\b\b\b\b\b\b\b\b\b\b\b\b\b\b\b\b\b\b\b\b\b\b\b\b\b\b\b\b\b\b\b\b\b\r",
      "412416/412416 [==============================] - 16s 38us/sample - loss: 275.2482 - reconstruction_loss: 110.7442 - KL_loss: 24.4215 - val_loss: 125.3909 - val_reconstruction_loss: 101.6254 - val_KL_loss: 23.7655 - lr: 0.0030\n",
      "Epoch 65/1000\n"
     ]
    },
    {
     "name": "stdout",
     "output_type": "stream",
     "text": [
      "\r",
      "412416/412416 [==============================] - ETA: 0s - loss: 271.7714 - reconstruction_loss: 109.1326 - KL_loss: 24.1764"
     ]
    },
    {
     "name": "stdout",
     "output_type": "stream",
     "text": [
      "\b\b\b\b\b\b\b\b\b\b\b\b\b\b\b\b\b\b\b\b\b\b\b\b\b\b\b\b\b\b\b\b\b\b\b\b\b\b\b\b\b\b\b\b\b\b\b\b\b\b\b\b\b\b\b\b\b\b\b\b\b\b\b\b\b\b\b\b\b\b\b\b\b\b\b\b\b\b\b\b\b\b\b\b\b\b\b\b\b\b\b\b\b\b\b\b\b\b\b\b\b\b\b\b\b\b\b\b\b\b\b\b\b\b\b\b\b\b\b\b\b\b\b\b\r",
      "412416/412416 [==============================] - 13s 31us/sample - loss: 271.7714 - reconstruction_loss: 109.1326 - KL_loss: 24.1764 - val_loss: 127.1407 - val_reconstruction_loss: 104.1749 - val_KL_loss: 22.9658 - lr: 0.0030\n",
      "Epoch 66/1000\n"
     ]
    },
    {
     "name": "stdout",
     "output_type": "stream",
     "text": [
      "\r",
      "412416/412416 [==============================] - ETA: 0s - loss: 273.8120 - reconstruction_loss: 111.5992 - KL_loss: 23.3751"
     ]
    },
    {
     "name": "stdout",
     "output_type": "stream",
     "text": [
      "\b\b\b\b\b\b\b\b\b\b\b\b\b\b\b\b\b\b\b\b\b\b\b\b\b\b\b\b\b\b\b\b\b\b\b\b\b\b\b\b\b\b\b\b\b\b\b\b\b\b\b\b\b\b\b\b\b\b\b\b\b\b\b\b\b\b\b\b\b\b\b\b\b\b\b\b\b\b\b\b\b\b\b\b\b\b\b\b\b\b\b\b\b\b\b\b\b\b\b\b\b\b\b\b\b\b\b\b\b\b\b\b\b\b\b\b\b\b\b\b\b\b\b\b\r",
      "412416/412416 [==============================] - 13s 31us/sample - loss: 273.8120 - reconstruction_loss: 111.5992 - KL_loss: 23.3751 - val_loss: 127.1851 - val_reconstruction_loss: 104.3628 - val_KL_loss: 22.8223 - lr: 0.0030\n",
      "Epoch 67/1000\n"
     ]
    },
    {
     "name": "stdout",
     "output_type": "stream",
     "text": [
      "\r",
      "412416/412416 [==============================] - ETA: 0s - loss: 274.1241 - reconstruction_loss: 111.6759 - KL_loss: 23.2638"
     ]
    },
    {
     "name": "stdout",
     "output_type": "stream",
     "text": [
      "\b\b\b\b\b\b\b\b\b\b\b\b\b\b\b\b\b\b\b\b\b\b\b\b\b\b\b\b\b\b\b\b\b\b\b\b\b\b\b\b\b\b\b\b\b\b\b\b\b\b\b\b\b\b\b\b\b\b\b\b\b\b\b\b\b\b\b\b\b\b\b\b\b\b\b\b\b\b\b\b\b\b\b\b\b\b\b\b\b\b\b\b\b\b\b\b\b\b\b\b\b\b\b\b\b\b\b\b\b\b\b\b\b\b\b\b\b\b\b\b\b\b\b\b\r",
      "412416/412416 [==============================] - 12s 30us/sample - loss: 274.1241 - reconstruction_loss: 111.6759 - KL_loss: 23.2638 - val_loss: 126.6357 - val_reconstruction_loss: 103.9327 - val_KL_loss: 22.7030 - lr: 0.0030\n",
      "Epoch 68/1000\n"
     ]
    },
    {
     "name": "stdout",
     "output_type": "stream",
     "text": [
      "\r",
      "412416/412416 [==============================] - ETA: 0s - loss: 272.5689 - reconstruction_loss: 111.2607 - KL_loss: 23.1578"
     ]
    },
    {
     "name": "stdout",
     "output_type": "stream",
     "text": [
      "\b\b\b\b\b\b\b\b\b\b\b\b\b\b\b\b\b\b\b\b\b\b\b\b\b\b\b\b\b\b\b\b\b\b\b\b\b\b\b\b\b\b\b\b\b\b\b\b\b\b\b\b\b\b\b\b\b\b\b\b\b\b\b\b\b\b\b\b\b\b\b\b\b\b\b\b\b\b\b\b\b\b\b\b\b\b\b\b\b\b\b\b\b\b\b\b\b\b\b\b\b\b\b\b\b\b\b\b\b\b\b\b\b\b\b\b\b\b\b\b\b\b\b\b\r",
      "412416/412416 [==============================] - 14s 33us/sample - loss: 272.5689 - reconstruction_loss: 111.2607 - KL_loss: 23.1578 - val_loss: 125.2009 - val_reconstruction_loss: 102.7140 - val_KL_loss: 22.4869 - lr: 0.0030\n",
      "Epoch 69/1000\n"
     ]
    },
    {
     "name": "stdout",
     "output_type": "stream",
     "text": [
      "\r",
      "412416/412416 [==============================] - ETA: 0s - loss: 269.8628 - reconstruction_loss: 110.1045 - KL_loss: 22.9063"
     ]
    },
    {
     "name": "stdout",
     "output_type": "stream",
     "text": [
      "\b\b\b\b\b\b\b\b\b\b\b\b\b\b\b\b\b\b\b\b\b\b\b\b\b\b\b\b\b\b\b\b\b\b\b\b\b\b\b\b\b\b\b\b\b\b\b\b\b\b\b\b\b\b\b\b\b\b\b\b\b\b\b\b\b\b\b\b\b\b\b\b\b\b\b\b\b\b\b\b\b\b\b\b\b\b\b\b\b\b\b\b\b\b\b\b\b\b\b\b\b\b\b\b\b\b\b\b\b\b\b\b\b\b\b\b\b\b\b\b\b\b\b\b\r",
      "412416/412416 [==============================] - 13s 32us/sample - loss: 269.8628 - reconstruction_loss: 110.1045 - KL_loss: 22.9063 - val_loss: 125.0261 - val_reconstruction_loss: 101.8605 - val_KL_loss: 23.1656 - lr: 0.0030\n",
      "Epoch 70/1000\n"
     ]
    },
    {
     "name": "stdout",
     "output_type": "stream",
     "text": [
      "\r",
      "412416/412416 [==============================] - ETA: 0s - loss: 269.5587 - reconstruction_loss: 109.2163 - KL_loss: 23.5549"
     ]
    },
    {
     "name": "stdout",
     "output_type": "stream",
     "text": [
      "\b\b\b\b\b\b\b\b\b\b\b\b\b\b\b\b\b\b\b\b\b\b\b\b\b\b\b\b\b\b\b\b\b\b\b\b\b\b\b\b\b\b\b\b\b\b\b\b\b\b\b\b\b\b\b\b\b\b\b\b\b\b\b\b\b\b\b\b\b\b\b\b\b\b\b\b\b\b\b\b\b\b\b\b\b\b\b\b\b\b\b\b\b\b\b\b\b\b\b\b\b\b\b\b\b\b\b\b\b\b\b\b\b\b\b\b\b\b\b\b\b\b\b\b\r",
      "412416/412416 [==============================] - 16s 39us/sample - loss: 269.5587 - reconstruction_loss: 109.2163 - KL_loss: 23.5549 - val_loss: 125.4811 - val_reconstruction_loss: 101.3856 - val_KL_loss: 24.0955 - lr: 0.0030\n",
      "Epoch 71/1000\n"
     ]
    },
    {
     "name": "stdout",
     "output_type": "stream",
     "text": [
      "\r",
      "412416/412416 [==============================] - ETA: 0s - loss: 269.8434 - reconstruction_loss: 108.7078 - KL_loss: 24.5053"
     ]
    },
    {
     "name": "stdout",
     "output_type": "stream",
     "text": [
      "\b\b\b\b\b\b\b\b\b\b\b\b\b\b\b\b\b\b\b\b\b\b\b\b\b\b\b\b\b\b\b\b\b\b\b\b\b\b\b\b\b\b\b\b\b\b\b\b\b\b\b\b\b\b\b\b\b\b\b\b\b\b\b\b\b\b\b\b\b\b\b\b\b\b\b\b\b\b\b\b\b\b\b\b\b\b\b\b\b\b\b\b\b\b\b\b\b\b\b\b\b\b\b\b\b\b\b\b\b\b\b\b\b\b\b\b\b\b\b\b\b\b\b\b\r",
      "412416/412416 [==============================] - 16s 39us/sample - loss: 269.8434 - reconstruction_loss: 108.7078 - KL_loss: 24.5053 - val_loss: 123.6994 - val_reconstruction_loss: 100.0837 - val_KL_loss: 23.6158 - lr: 0.0030\n",
      "Epoch 72/1000\n"
     ]
    },
    {
     "name": "stdout",
     "output_type": "stream",
     "text": [
      "\r",
      "412416/412416 [==============================] - ETA: 0s - loss: 266.8641 - reconstruction_loss: 107.3904 - KL_loss: 24.0368"
     ]
    },
    {
     "name": "stdout",
     "output_type": "stream",
     "text": [
      "\b\b\b\b\b\b\b\b\b\b\b\b\b\b\b\b\b\b\b\b\b\b\b\b\b\b\b\b\b\b\b\b\b\b\b\b\b\b\b\b\b\b\b\b\b\b\b\b\b\b\b\b\b\b\b\b\b\b\b\b\b\b\b\b\b\b\b\b\b\b\b\b\b\b\b\b\b\b\b\b\b\b\b\b\b\b\b\b\b\b\b\b\b\b\b\b\b\b\b\b\b\b\b\b\b\b\b\b\b\b\b\b\b\b\b\b\b\b\b\b\b\b\b\b\r",
      "412416/412416 [==============================] - 12s 30us/sample - loss: 266.8641 - reconstruction_loss: 107.3904 - KL_loss: 24.0368 - val_loss: 125.3491 - val_reconstruction_loss: 102.8494 - val_KL_loss: 22.4997 - lr: 0.0030\n",
      "Epoch 73/1000\n"
     ]
    },
    {
     "name": "stdout",
     "output_type": "stream",
     "text": [
      "\r",
      "412416/412416 [==============================] - ETA: 0s - loss: 268.5980 - reconstruction_loss: 110.0722 - KL_loss: 22.9168"
     ]
    },
    {
     "name": "stdout",
     "output_type": "stream",
     "text": [
      "\b\b\b\b\b\b\b\b\b\b\b\b\b\b\b\b\b\b\b\b\b\b\b\b\b\b\b\b\b\b\b\b\b\b\b\b\b\b\b\b\b\b\b\b\b\b\b\b\b\b\b\b\b\b\b\b\b\b\b\b\b\b\b\b\b\b\b\b\b\b\b\b\b\b\b\b\b\b\b\b\b\b\b\b\b\b\b\b\b\b\b\b\b\b\b\b\b\b\b\b\b\b\b\b\b\b\b\b\b\b\b\b\b\b\b\b\b\b\b\b\b\b\b\b\r",
      "412416/412416 [==============================] - 12s 30us/sample - loss: 268.5980 - reconstruction_loss: 110.0722 - KL_loss: 22.9168 - val_loss: 125.0396 - val_reconstruction_loss: 102.6064 - val_KL_loss: 22.4333 - lr: 0.0030\n",
      "Epoch 74/1000\n"
     ]
    },
    {
     "name": "stdout",
     "output_type": "stream",
     "text": [
      "\r",
      "412416/412416 [==============================] - ETA: 0s - loss: 268.2276 - reconstruction_loss: 109.8287 - KL_loss: 22.8740"
     ]
    },
    {
     "name": "stdout",
     "output_type": "stream",
     "text": [
      "\b\b\b\b\b\b\b\b\b\b\b\b\b\b\b\b\b\b\b\b\b\b\b\b\b\b\b\b\b\b\b\b\b\b\b\b\b\b\b\b\b\b\b\b\b\b\b\b\b\b\b\b\b\b\b\b\b\b\b\b\b\b\b\b\b\b\b\b\b\b\b\b\b\b\b\b\b\b\b\b\b\b\b\b\b\b\b\b\b\b\b\b\b\b\b\b\b\b\b\b\b\b\b\b\b\b\b\b\b\b\b\b\b\b\b\b\b\b\b\b\b\b\b\b\r",
      "412416/412416 [==============================] - 12s 29us/sample - loss: 268.2276 - reconstruction_loss: 109.8287 - KL_loss: 22.8740 - val_loss: 125.1110 - val_reconstruction_loss: 102.0263 - val_KL_loss: 23.0847 - lr: 0.0030\n",
      "Epoch 75/1000\n"
     ]
    },
    {
     "name": "stdout",
     "output_type": "stream",
     "text": [
      "\r",
      "412416/412416 [==============================] - ETA: 0s - loss: 268.3170 - reconstruction_loss: 109.2377 - KL_loss: 23.5378"
     ]
    },
    {
     "name": "stdout",
     "output_type": "stream",
     "text": [
      "\b\b\b\b\b\b\b\b\b\b\b\b\b\b\b\b\b\b\b\b\b\b\b\b\b\b\b\b\b\b\b\b\b\b\b\b\b\b\b\b\b\b\b\b\b\b\b\b\b\b\b\b\b\b\b\b\b\b\b\b\b\b\b\b\b\b\b\b\b\b\b\b\b\b\b\b\b\b\b\b\b\b\b\b\b\b\b\b\b\b\b\b\b\b\b\b\b\b\b\b\b\b\b\b\b\b\b\b\b\b\b\b\b\b\b\b\b\b\b\b\b\b\b\b\r",
      "412416/412416 [==============================] - 12s 30us/sample - loss: 268.3170 - reconstruction_loss: 109.2377 - KL_loss: 23.5378 - val_loss: 123.6966 - val_reconstruction_loss: 100.4594 - val_KL_loss: 23.2371 - lr: 0.0030\n",
      "Epoch 76/1000\n"
     ]
    },
    {
     "name": "stdout",
     "output_type": "stream",
     "text": [
      "\r",
      "412416/412416 [==============================] - ETA: 0s - loss: 266.1331 - reconstruction_loss: 107.6090 - KL_loss: 23.6608"
     ]
    },
    {
     "name": "stdout",
     "output_type": "stream",
     "text": [
      "\b\b\b\b\b\b\b\b\b\b\b\b\b\b\b\b\b\b\b\b\b\b\b\b\b\b\b\b\b\b\b\b\b\b\b\b\b\b\b\b\b\b\b\b\b\b\b\b\b\b\b\b\b\b\b\b\b\b\b\b\b\b\b\b\b\b\b\b\b\b\b\b\b\b\b\b\b\b\b\b\b\b\b\b\b\b\b\b\b\b\b\b\b\b\b\b\b\b\b\b\b\b\b\b\b\b\b\b\b\b\b\b\b\b\b\b\b\b\b\b\b\b\b\b\r",
      "412416/412416 [==============================] - 12s 30us/sample - loss: 266.1331 - reconstruction_loss: 107.6090 - KL_loss: 23.6608 - val_loss: 124.2302 - val_reconstruction_loss: 101.3900 - val_KL_loss: 22.8402 - lr: 0.0030\n",
      "Epoch 77/1000\n"
     ]
    },
    {
     "name": "stdout",
     "output_type": "stream",
     "text": [
      "\r",
      "412416/412416 [==============================] - ETA: 0s - loss: 266.4108 - reconstruction_loss: 108.6317 - KL_loss: 23.2339"
     ]
    },
    {
     "name": "stdout",
     "output_type": "stream",
     "text": [
      "\b\b\b\b\b\b\b\b\b\b\b\b\b\b\b\b\b\b\b\b\b\b\b\b\b\b\b\b\b\b\b\b\b\b\b\b\b\b\b\b\b\b\b\b\b\b\b\b\b\b\b\b\b\b\b\b\b\b\b\b\b\b\b\b\b\b\b\b\b\b\b\b\b\b\b\b\b\b\b\b\b\b\b\b\b\b\b\b\b\b\b\b\b\b\b\b\b\b\b\b\b\b\b\b\b\b\b\b\b\b\b\b\b\b\b\b\b\b\b\b\b\b\b\b\r",
      "412416/412416 [==============================] - 12s 30us/sample - loss: 266.4108 - reconstruction_loss: 108.6317 - KL_loss: 23.2339 - val_loss: 123.2950 - val_reconstruction_loss: 100.2782 - val_KL_loss: 23.0168 - lr: 0.0030\n",
      "Epoch 78/1000\n"
     ]
    },
    {
     "name": "stdout",
     "output_type": "stream",
     "text": [
      "\r",
      "412416/412416 [==============================] - ETA: 0s - loss: 265.3119 - reconstruction_loss: 107.4594 - KL_loss: 23.4313"
     ]
    },
    {
     "name": "stdout",
     "output_type": "stream",
     "text": [
      "\b\b\b\b\b\b\b\b\b\b\b\b\b\b\b\b\b\b\b\b\b\b\b\b\b\b\b\b\b\b\b\b\b\b\b\b\b\b\b\b\b\b\b\b\b\b\b\b\b\b\b\b\b\b\b\b\b\b\b\b\b\b\b\b\b\b\b\b\b\b\b\b\b\b\b\b\b\b\b\b\b\b\b\b\b\b\b\b\b\b\b\b\b\b\b\b\b\b\b\b\b\b\b\b\b\b\b\b\b\b\b\b\b\b\b\b\b\b\b\b\b\b\b\b\r",
      "412416/412416 [==============================] - 13s 33us/sample - loss: 265.3119 - reconstruction_loss: 107.4594 - KL_loss: 23.4313 - val_loss: 124.5807 - val_reconstruction_loss: 101.2746 - val_KL_loss: 23.3061 - lr: 0.0030\n",
      "Epoch 79/1000\n"
     ]
    },
    {
     "name": "stdout",
     "output_type": "stream",
     "text": [
      "\r",
      "412416/412416 [==============================] - ETA: 0s - loss: 267.1173 - reconstruction_loss: 108.4305 - KL_loss: 23.7630"
     ]
    },
    {
     "name": "stdout",
     "output_type": "stream",
     "text": [
      "\b\b\b\b\b\b\b\b\b\b\b\b\b\b\b\b\b\b\b\b\b\b\b\b\b\b\b\b\b\b\b\b\b\b\b\b\b\b\b\b\b\b\b\b\b\b\b\b\b\b\b\b\b\b\b\b\b\b\b\b\b\b\b\b\b\b\b\b\b\b\b\b\b\b\b\b\b\b\b\b\b\b\b\b\b\b\b\b\b\b\b\b\b\b\b\b\b\b\b\b\b\b\b\b\b\b\b\b\b\b\b\b\b\b\b\b\b\b\b\b\b\b\b\b\r",
      "412416/412416 [==============================] - 12s 30us/sample - loss: 267.1173 - reconstruction_loss: 108.4305 - KL_loss: 23.7630 - val_loss: 122.8622 - val_reconstruction_loss: 99.9146 - val_KL_loss: 22.9476 - lr: 0.0030\n",
      "Epoch 80/1000\n"
     ]
    },
    {
     "name": "stdout",
     "output_type": "stream",
     "text": [
      "\r",
      "412416/412416 [==============================] - ETA: 0s - loss: 264.2257 - reconstruction_loss: 107.0457 - KL_loss: 23.3961"
     ]
    },
    {
     "name": "stdout",
     "output_type": "stream",
     "text": [
      "\b\b\b\b\b\b\b\b\b\b\b\b\b\b\b\b\b\b\b\b\b\b\b\b\b\b\b\b\b\b\b\b\b\b\b\b\b\b\b\b\b\b\b\b\b\b\b\b\b\b\b\b\b\b\b\b\b\b\b\b\b\b\b\b\b\b\b\b\b\b\b\b\b\b\b\b\b\b\b\b\b\b\b\b\b\b\b\b\b\b\b\b\b\b\b\b\b\b\b\b\b\b\b\b\b\b\b\b\b\b\b\b\b\b\b\b\b\b\b\b\b\b\b\b\r",
      "412416/412416 [==============================] - 12s 30us/sample - loss: 264.2257 - reconstruction_loss: 107.0457 - KL_loss: 23.3961 - val_loss: 123.5923 - val_reconstruction_loss: 101.1306 - val_KL_loss: 22.4617 - lr: 0.0030\n",
      "Epoch 81/1000\n"
     ]
    },
    {
     "name": "stdout",
     "output_type": "stream",
     "text": [
      "\r",
      "412416/412416 [==============================] - ETA: 0s - loss: 264.7114 - reconstruction_loss: 108.3271 - KL_loss: 22.8712"
     ]
    },
    {
     "name": "stdout",
     "output_type": "stream",
     "text": [
      "\b\b\b\b\b\b\b\b\b\b\b\b\b\b\b\b\b\b\b\b\b\b\b\b\b\b\b\b\b\b\b\b\b\b\b\b\b\b\b\b\b\b\b\b\b\b\b\b\b\b\b\b\b\b\b\b\b\b\b\b\b\b\b\b\b\b\b\b\b\b\b\b\b\b\b\b\b\b\b\b\b\b\b\b\b\b\b\b\b\b\b\b\b\b\b\b\b\b\b\b\b\b\b\b\b\b\b\b\b\b\b\b\b\b\b\b\b\b\b\b\b\b\b\b\r",
      "412416/412416 [==============================] - 12s 30us/sample - loss: 264.7114 - reconstruction_loss: 108.3271 - KL_loss: 22.8712 - val_loss: 123.1108 - val_reconstruction_loss: 100.4298 - val_KL_loss: 22.6810 - lr: 0.0030\n",
      "Epoch 82/1000\n"
     ]
    },
    {
     "name": "stdout",
     "output_type": "stream",
     "text": [
      "\r",
      "412416/412416 [==============================] - ETA: 0s - loss: 264.4230 - reconstruction_loss: 107.5878 - KL_loss: 23.0893"
     ]
    },
    {
     "name": "stdout",
     "output_type": "stream",
     "text": [
      "\b\b\b\b\b\b\b\b\b\b\b\b\b\b\b\b\b\b\b\b\b\b\b\b\b\b\b\b\b\b\b\b\b\b\b\b\b\b\b\b\b\b\b\b\b\b\b\b\b\b\b\b\b\b\b\b\b\b\b\b\b\b\b\b\b\b\b\b\b\b\b\b\b\b\b\b\b\b\b\b\b\b\b\b\b\b\b\b\b\b\b\b\b\b\b\b\b\b\b\b\b\b\b\b\b\b\b\b\b\b\b\b\b\b\b\b\b\b\b\b\b\b\b\b\r",
      "412416/412416 [==============================] - 12s 29us/sample - loss: 264.4230 - reconstruction_loss: 107.5878 - KL_loss: 23.0893 - val_loss: 122.5885 - val_reconstruction_loss: 99.4349 - val_KL_loss: 23.1536 - lr: 0.0030\n",
      "Epoch 83/1000\n"
     ]
    },
    {
     "name": "stdout",
     "output_type": "stream",
     "text": [
      "\r",
      "412416/412416 [==============================] - ETA: 0s - loss: 263.1823 - reconstruction_loss: 106.4801 - KL_loss: 23.5953"
     ]
    },
    {
     "name": "stdout",
     "output_type": "stream",
     "text": [
      "\b\b\b\b\b\b\b\b\b\b\b\b\b\b\b\b\b\b\b\b\b\b\b\b\b\b\b\b\b\b\b\b\b\b\b\b\b\b\b\b\b\b\b\b\b\b\b\b\b\b\b\b\b\b\b\b\b\b\b\b\b\b\b\b\b\b\b\b\b\b\b\b\b\b\b\b\b\b\b\b\b\b\b\b\b\b\b\b\b\b\b\b\b\b\b\b\b\b\b\b\b\b\b\b\b\b\b\b\b\b\b\b\b\b\b\b\b\b\b\b\b\b\b\b\r",
      "412416/412416 [==============================] - 12s 29us/sample - loss: 263.1823 - reconstruction_loss: 106.4801 - KL_loss: 23.5953 - val_loss: 122.0761 - val_reconstruction_loss: 99.2253 - val_KL_loss: 22.8508 - lr: 0.0030\n",
      "Epoch 84/1000\n"
     ]
    },
    {
     "name": "stdout",
     "output_type": "stream",
     "text": [
      "\r",
      "412416/412416 [==============================] - ETA: 0s - loss: 261.9217 - reconstruction_loss: 106.3117 - KL_loss: 23.2973"
     ]
    },
    {
     "name": "stdout",
     "output_type": "stream",
     "text": [
      "\b\b\b\b\b\b\b\b\b\b\b\b\b\b\b\b\b\b\b\b\b\b\b\b\b\b\b\b\b\b\b\b\b\b\b\b\b\b\b\b\b\b\b\b\b\b\b\b\b\b\b\b\b\b\b\b\b\b\b\b\b\b\b\b\b\b\b\b\b\b\b\b\b\b\b\b\b\b\b\b\b\b\b\b\b\b\b\b\b\b\b\b\b\b\b\b\b\b\b\b\b\b\b\b\b\b\b\b\b\b\b\b\b\b\b\b\b\b\b\b\b\b\b\b\r",
      "412416/412416 [==============================] - 34s 83us/sample - loss: 261.9217 - reconstruction_loss: 106.3117 - KL_loss: 23.2973 - val_loss: 122.3971 - val_reconstruction_loss: 100.3556 - val_KL_loss: 22.0415 - lr: 0.0030\n",
      "Epoch 85/1000\n"
     ]
    },
    {
     "name": "stdout",
     "output_type": "stream",
     "text": [
      "\r",
      "412416/412416 [==============================] - ETA: 0s - loss: 261.8592 - reconstruction_loss: 107.4749 - KL_loss: 22.4585"
     ]
    },
    {
     "name": "stdout",
     "output_type": "stream",
     "text": [
      "\b\b\b\b\b\b\b\b\b\b\b\b\b\b\b\b\b\b\b\b\b\b\b\b\b\b\b\b\b\b\b\b\b\b\b\b\b\b\b\b\b\b\b\b\b\b\b\b\b\b\b\b\b\b\b\b\b\b\b\b\b\b\b\b\b\b\b\b\b\b\b\b\b\b\b\b\b\b\b\b\b\b\b\b\b\b\b\b\b\b\b\b\b\b\b\b\b\b\b\b\b\b\b\b\b\b\b\b\b\b\b\b\b\b\b\b\b\b\b\b\b\b\b\b\r",
      "412416/412416 [==============================] - 13s 32us/sample - loss: 261.8592 - reconstruction_loss: 107.4749 - KL_loss: 22.4585 - val_loss: 121.3896 - val_reconstruction_loss: 99.2911 - val_KL_loss: 22.0985 - lr: 0.0030\n",
      "Epoch 86/1000\n"
     ]
    },
    {
     "name": "stdout",
     "output_type": "stream",
     "text": [
      "\r",
      "412416/412416 [==============================] - ETA: 0s - loss: 259.8893 - reconstruction_loss: 106.3089 - KL_loss: 22.5143"
     ]
    },
    {
     "name": "stdout",
     "output_type": "stream",
     "text": [
      "\b\b\b\b\b\b\b\b\b\b\b\b\b\b\b\b\b\b\b\b\b\b\b\b\b\b\b\b\b\b\b\b\b\b\b\b\b\b\b\b\b\b\b\b\b\b\b\b\b\b\b\b\b\b\b\b\b\b\b\b\b\b\b\b\b\b\b\b\b\b\b\b\b\b\b\b\b\b\b\b\b\b\b\b\b\b\b\b\b\b\b\b\b\b\b\b\b\b\b\b\b\b\b\b\b\b\b\b\b\b\b\b\b\b\b\b\b\b\b\b\b\b\b\b\r",
      "412416/412416 [==============================] - 18s 45us/sample - loss: 259.8893 - reconstruction_loss: 106.3089 - KL_loss: 22.5143 - val_loss: 123.3412 - val_reconstruction_loss: 100.4673 - val_KL_loss: 22.8739 - lr: 0.0030\n",
      "Epoch 87/1000\n"
     ]
    },
    {
     "name": "stdout",
     "output_type": "stream",
     "text": [
      "\r",
      "412416/412416 [==============================] - ETA: 0s - loss: 262.7749 - reconstruction_loss: 107.4986 - KL_loss: 23.3274"
     ]
    },
    {
     "name": "stdout",
     "output_type": "stream",
     "text": [
      "\b\b\b\b\b\b\b\b\b\b\b\b\b\b\b\b\b\b\b\b\b\b\b\b\b\b\b\b\b\b\b\b\b\b\b\b\b\b\b\b\b\b\b\b\b\b\b\b\b\b\b\b\b\b\b\b\b\b\b\b\b\b\b\b\b\b\b\b\b\b\b\b\b\b\b\b\b\b\b\b\b\b\b\b\b\b\b\b\b\b\b\b\b\b\b\b\b\b\b\b\b\b\b\b\b\b\b\b\b\b\b\b\b\b\b\b\b\b\b\b\b\b\b\b\r",
      "412416/412416 [==============================] - 12s 29us/sample - loss: 262.7749 - reconstruction_loss: 107.4986 - KL_loss: 23.3274 - val_loss: 121.9774 - val_reconstruction_loss: 99.0431 - val_KL_loss: 22.9343 - lr: 0.0030\n",
      "Epoch 88/1000\n"
     ]
    },
    {
     "name": "stdout",
     "output_type": "stream",
     "text": [
      "\r",
      "412416/412416 [==============================] - ETA: 0s - loss: 260.5115 - reconstruction_loss: 106.0944 - KL_loss: 23.3835"
     ]
    },
    {
     "name": "stdout",
     "output_type": "stream",
     "text": [
      "\b\b\b\b\b\b\b\b\b\b\b\b\b\b\b\b\b\b\b\b\b\b\b\b\b\b\b\b\b\b\b\b\b\b\b\b\b\b\b\b\b\b\b\b\b\b\b\b\b\b\b\b\b\b\b\b\b\b\b\b\b\b\b\b\b\b\b\b\b\b\b\b\b\b\b\b\b\b\b\b\b\b\b\b\b\b\b\b\b\b\b\b\b\b\b\b\b\b\b\b\b\b\b\b\b\b\b\b\b\b\b\b\b\b\b\b\b\b\b\b\b\b\b\b\r",
      "412416/412416 [==============================] - 12s 30us/sample - loss: 260.5115 - reconstruction_loss: 106.0944 - KL_loss: 23.3835 - val_loss: 121.4915 - val_reconstruction_loss: 99.1285 - val_KL_loss: 22.3630 - lr: 0.0030\n",
      "Epoch 89/1000\n"
     ]
    },
    {
     "name": "stdout",
     "output_type": "stream",
     "text": [
      "\r",
      "412416/412416 [==============================] - ETA: 0s - loss: 260.0206 - reconstruction_loss: 106.2032 - KL_loss: 22.7713"
     ]
    },
    {
     "name": "stdout",
     "output_type": "stream",
     "text": [
      "\b\b\b\b\b\b\b\b\b\b\b\b\b\b\b\b\b\b\b\b\b\b\b\b\b\b\b\b\b\b\b\b\b\b\b\b\b\b\b\b\b\b\b\b\b\b\b\b\b\b\b\b\b\b\b\b\b\b\b\b\b\b\b\b\b\b\b\b\b\b\b\b\b\b\b\b\b\b\b\b\b\b\b\b\b\b\b\b\b\b\b\b\b\b\b\b\b\b\b\b\b\b\b\b\b\b\b\b\b\b\b\b\b\b\b\b\b\b\b\b\b\b\b\b\r",
      "412416/412416 [==============================] - 27s 65us/sample - loss: 260.0206 - reconstruction_loss: 106.2032 - KL_loss: 22.7713 - val_loss: 121.5839 - val_reconstruction_loss: 99.3516 - val_KL_loss: 22.2323 - lr: 0.0030\n",
      "Epoch 90/1000\n"
     ]
    },
    {
     "name": "stdout",
     "output_type": "stream",
     "text": [
      "\r",
      "412416/412416 [==============================] - ETA: 0s - loss: 259.6389 - reconstruction_loss: 106.4386 - KL_loss: 22.6350"
     ]
    },
    {
     "name": "stdout",
     "output_type": "stream",
     "text": [
      "\b\b\b\b\b\b\b\b\b\b\b\b\b\b\b\b\b\b\b\b\b\b\b\b\b\b\b\b\b\b\b\b\b\b\b\b\b\b\b\b\b\b\b\b\b\b\b\b\b\b\b\b\b\b\b\b\b\b\b\b\b\b\b\b\b\b\b\b\b\b\b\b\b\b\b\b\b\b\b\b\b\b\b\b\b\b\b\b\b\b\b\b\b\b\b\b\b\b\b\b\b\b\b\b\b\b\b\b\b\b\b\b\b\b\b\b\b\b\b\b\b\b\b\b\r",
      "412416/412416 [==============================] - 15s 35us/sample - loss: 259.6389 - reconstruction_loss: 106.4386 - KL_loss: 22.6350 - val_loss: 120.4960 - val_reconstruction_loss: 97.9608 - val_KL_loss: 22.5352 - lr: 0.0030\n",
      "Epoch 91/1000\n"
     ]
    },
    {
     "name": "stdout",
     "output_type": "stream",
     "text": [
      "\r",
      "412416/412416 [==============================] - ETA: 0s - loss: 257.8898 - reconstruction_loss: 104.9355 - KL_loss: 22.9666"
     ]
    },
    {
     "name": "stdout",
     "output_type": "stream",
     "text": [
      "\b\b\b\b\b\b\b\b\b\b\b\b\b\b\b\b\b\b\b\b\b\b\b\b\b\b\b\b\b\b\b\b\b\b\b\b\b\b\b\b\b\b\b\b\b\b\b\b\b\b\b\b\b\b\b\b\b\b\b\b\b\b\b\b\b\b\b\b\b\b\b\b\b\b\b\b\b\b\b\b\b\b\b\b\b\b\b\b\b\b\b\b\b\b\b\b\b\b\b\b\b\b\b\b\b\b\b\b\b\b\b\b\b\b\b\b\b\b\b\b\b\b\b\b\r",
      "412416/412416 [==============================] - 12s 30us/sample - loss: 257.8898 - reconstruction_loss: 104.9355 - KL_loss: 22.9666 - val_loss: 120.0610 - val_reconstruction_loss: 97.7238 - val_KL_loss: 22.3372 - lr: 0.0030\n",
      "Epoch 92/1000\n"
     ]
    },
    {
     "name": "stdout",
     "output_type": "stream",
     "text": [
      "\r",
      "412416/412416 [==============================] - ETA: 0s - loss: 257.1609 - reconstruction_loss: 104.6736 - KL_loss: 22.7710"
     ]
    },
    {
     "name": "stdout",
     "output_type": "stream",
     "text": [
      "\b\b\b\b\b\b\b\b\b\b\b\b\b\b\b\b\b\b\b\b\b\b\b\b\b\b\b\b\b\b\b\b\b\b\b\b\b\b\b\b\b\b\b\b\b\b\b\b\b\b\b\b\b\b\b\b\b\b\b\b\b\b\b\b\b\b\b\b\b\b\b\b\b\b\b\b\b\b\b\b\b\b\b\b\b\b\b\b\b\b\b\b\b\b\b\b\b\b\b\b\b\b\b\b\b\b\b\b\b\b\b\b\b\b\b\b\b\b\b\b\b\b\b\b\r",
      "412416/412416 [==============================] - 12s 29us/sample - loss: 257.1609 - reconstruction_loss: 104.6736 - KL_loss: 22.7710 - val_loss: 121.3428 - val_reconstruction_loss: 99.5746 - val_KL_loss: 21.7682 - lr: 0.0030\n",
      "Epoch 93/1000\n"
     ]
    },
    {
     "name": "stdout",
     "output_type": "stream",
     "text": [
      "\r",
      "412416/412416 [==============================] - ETA: 0s - loss: 258.8076 - reconstruction_loss: 106.5541 - KL_loss: 22.1774"
     ]
    },
    {
     "name": "stdout",
     "output_type": "stream",
     "text": [
      "\b\b\b\b\b\b\b\b\b\b\b\b\b\b\b\b\b\b\b\b\b\b\b\b\b\b\b\b\b\b\b\b\b\b\b\b\b\b\b\b\b\b\b\b\b\b\b\b\b\b\b\b\b\b\b\b\b\b\b\b\b\b\b\b\b\b\b\b\b\b\b\b\b\b\b\b\b\b\b\b\b\b\b\b\b\b\b\b\b\b\b\b\b\b\b\b\b\b\b\b\b\b\b\b\b\b\b\b\b\b\b\b\b\b\b\b\b\b\b\b\b\b\b\b\r",
      "412416/412416 [==============================] - 12s 29us/sample - loss: 258.8076 - reconstruction_loss: 106.5541 - KL_loss: 22.1774 - val_loss: 120.4188 - val_reconstruction_loss: 98.4315 - val_KL_loss: 21.9873 - lr: 0.0030\n",
      "Epoch 94/1000\n"
     ]
    },
    {
     "name": "stdout",
     "output_type": "stream",
     "text": [
      "\r",
      "412416/412416 [==============================] - ETA: 0s - loss: 257.2552 - reconstruction_loss: 105.3979 - KL_loss: 22.4053"
     ]
    },
    {
     "name": "stdout",
     "output_type": "stream",
     "text": [
      "\b\b\b\b\b\b\b\b\b\b\b\b\b\b\b\b\b\b\b\b\b\b\b\b\b\b\b\b\b\b\b\b\b\b\b\b\b\b\b\b\b\b\b\b\b\b\b\b\b\b\b\b\b\b\b\b\b\b\b\b\b\b\b\b\b\b\b\b\b\b\b\b\b\b\b\b\b\b\b\b\b\b\b\b\b\b\b\b\b\b\b\b\b\b\b\b\b\b\b\b\b\b\b\b\b\b\b\b\b\b\b\b\b\b\b\b\b\b\b\b\b\b\b\b\r",
      "412416/412416 [==============================] - 12s 29us/sample - loss: 257.2552 - reconstruction_loss: 105.3979 - KL_loss: 22.4053 - val_loss: 120.8637 - val_reconstruction_loss: 98.1375 - val_KL_loss: 22.7262 - lr: 0.0030\n",
      "Epoch 95/1000\n"
     ]
    },
    {
     "name": "stdout",
     "output_type": "stream",
     "text": [
      "\r",
      "412416/412416 [==============================] - ETA: 0s - loss: 258.0347 - reconstruction_loss: 105.1118 - KL_loss: 23.1768"
     ]
    },
    {
     "name": "stdout",
     "output_type": "stream",
     "text": [
      "\b\b\b\b\b\b\b\b\b\b\b\b\b\b\b\b\b\b\b\b\b\b\b\b\b\b\b\b\b\b\b\b\b\b\b\b\b\b\b\b\b\b\b\b\b\b\b\b\b\b\b\b\b\b\b\b\b\b\b\b\b\b\b\b\b\b\b\b\b\b\b\b\b\b\b\b\b\b\b\b\b\b\b\b\b\b\b\b\b\b\b\b\b\b\b\b\b\b\b\b\b\b\b\b\b\b\b\b\b\b\b\b\b\b\b\b\b\b\b\b\b\b\b\b\r",
      "412416/412416 [==============================] - 12s 29us/sample - loss: 258.0347 - reconstruction_loss: 105.1118 - KL_loss: 23.1768 - val_loss: 120.8074 - val_reconstruction_loss: 98.1369 - val_KL_loss: 22.6705 - lr: 0.0030\n",
      "Epoch 96/1000\n"
     ]
    },
    {
     "name": "stdout",
     "output_type": "stream",
     "text": [
      "\r",
      "412416/412416 [==============================] - ETA: 0s - loss: 257.4960 - reconstruction_loss: 105.0798 - KL_loss: 23.1138"
     ]
    },
    {
     "name": "stdout",
     "output_type": "stream",
     "text": [
      "\b\b\b\b\b\b\b\b\b\b\b\b\b\b\b\b\b\b\b\b\b\b\b\b\b\b\b\b\b\b\b\b\b\b\b\b\b\b\b\b\b\b\b\b\b\b\b\b\b\b\b\b\b\b\b\b\b\b\b\b\b\b\b\b\b\b\b\b\b\b\b\b\b\b\b\b\b\b\b\b\b\b\b\b\b\b\b\b\b\b\b\b\b\b\b\b\b\b\b\b\b\b\b\b\b\b\b\b\b\b\b\b\b\b\b\b\b\b\b\b\b\b\b\b\r",
      "412416/412416 [==============================] - 12s 30us/sample - loss: 257.4960 - reconstruction_loss: 105.0798 - KL_loss: 23.1138 - val_loss: 119.7677 - val_reconstruction_loss: 97.7813 - val_KL_loss: 21.9864 - lr: 0.0030\n",
      "Epoch 97/1000\n"
     ]
    },
    {
     "name": "stdout",
     "output_type": "stream",
     "text": [
      "\r",
      "412416/412416 [==============================] - ETA: 0s - loss: 255.6337 - reconstruction_loss: 104.6706 - KL_loss: 22.3982"
     ]
    },
    {
     "name": "stdout",
     "output_type": "stream",
     "text": [
      "\b\b\b\b\b\b\b\b\b\b\b\b\b\b\b\b\b\b\b\b\b\b\b\b\b\b\b\b\b\b\b\b\b\b\b\b\b\b\b\b\b\b\b\b\b\b\b\b\b\b\b\b\b\b\b\b\b\b\b\b\b\b\b\b\b\b\b\b\b\b\b\b\b\b\b\b\b\b\b\b\b\b\b\b\b\b\b\b\b\b\b\b\b\b\b\b\b\b\b\b\b\b\b\b\b\b\b\b\b\b\b\b\b\b\b\b\b\b\b\b\b\b\b\b\r",
      "412416/412416 [==============================] - 12s 29us/sample - loss: 255.6337 - reconstruction_loss: 104.6706 - KL_loss: 22.3982 - val_loss: 119.8572 - val_reconstruction_loss: 98.0982 - val_KL_loss: 21.7590 - lr: 0.0030\n",
      "Epoch 98/1000\n"
     ]
    },
    {
     "name": "stdout",
     "output_type": "stream",
     "text": [
      "\r",
      "412416/412416 [==============================] - ETA: 0s - loss: 255.5651 - reconstruction_loss: 105.0020 - KL_loss: 22.1798"
     ]
    },
    {
     "name": "stdout",
     "output_type": "stream",
     "text": [
      "\b\b\b\b\b\b\b\b\b\b\b\b\b\b\b\b\b\b\b\b\b\b\b\b\b\b\b\b\b\b\b\b\b\b\b\b\b\b\b\b\b\b\b\b\b\b\b\b\b\b\b\b\b\b\b\b\b\b\b\b\b\b\b\b\b\b\b\b\b\b\b\b\b\b\b\b\b\b\b\b\b\b\b\b\b\b\b\b\b\b\b\b\b\b\b\b\b\b\b\b\b\b\b\b\b\b\b\b\b\b\b\b\b\b\b\b\b\b\b\b\b\b\b\b\r",
      "412416/412416 [==============================] - 12s 29us/sample - loss: 255.5651 - reconstruction_loss: 105.0020 - KL_loss: 22.1798 - val_loss: 119.4903 - val_reconstruction_loss: 97.4050 - val_KL_loss: 22.0853 - lr: 0.0030\n",
      "Epoch 99/1000\n"
     ]
    },
    {
     "name": "stdout",
     "output_type": "stream",
     "text": [
      "\r",
      "412416/412416 [==============================] - ETA: 0s - loss: 254.7639 - reconstruction_loss: 104.2395 - KL_loss: 22.5400"
     ]
    },
    {
     "name": "stdout",
     "output_type": "stream",
     "text": [
      "\b\b\b\b\b\b\b\b\b\b\b\b\b\b\b\b\b\b\b\b\b\b\b\b\b\b\b\b\b\b\b\b\b\b\b\b\b\b\b\b\b\b\b\b\b\b\b\b\b\b\b\b\b\b\b\b\b\b\b\b\b\b\b\b\b\b\b\b\b\b\b\b\b\b\b\b\b\b\b\b\b\b\b\b\b\b\b\b\b\b\b\b\b\b\b\b\b\b\b\b\b\b\b\b\b\b\b\b\b\b\b\b\b\b\b\b\b\b\b\b\b\b\b\b\r",
      "412416/412416 [==============================] - 12s 28us/sample - loss: 254.7639 - reconstruction_loss: 104.2395 - KL_loss: 22.5400 - val_loss: 119.1713 - val_reconstruction_loss: 96.9954 - val_KL_loss: 22.1759 - lr: 0.0030\n",
      "Epoch 100/1000\n"
     ]
    },
    {
     "name": "stdout",
     "output_type": "stream",
     "text": [
      "\r",
      "412416/412416 [==============================] - ETA: 0s - loss: 254.4284 - reconstruction_loss: 103.8539 - KL_loss: 22.6210"
     ]
    },
    {
     "name": "stdout",
     "output_type": "stream",
     "text": [
      "\b\b\b\b\b\b\b\b\b\b\b\b\b\b\b\b\b\b\b\b\b\b\b\b\b\b\b\b\b\b\b\b\b\b\b\b\b\b\b\b\b\b\b\b\b\b\b\b\b\b\b\b\b\b\b\b\b\b\b\b\b\b\b\b\b\b\b\b\b\b\b\b\b\b\b\b\b\b\b\b\b\b\b\b\b\b\b\b\b\b\b\b\b\b\b\b\b\b\b\b\b\b\b\b\b\b\b\b\b\b\b\b\b\b\b\b\b\b\b\b\b\b\b\b\r",
      "412416/412416 [==============================] - 12s 28us/sample - loss: 254.4284 - reconstruction_loss: 103.8539 - KL_loss: 22.6210 - val_loss: 118.8915 - val_reconstruction_loss: 96.9064 - val_KL_loss: 21.9852 - lr: 0.0030\n",
      "Epoch 101/1000\n"
     ]
    },
    {
     "name": "stdout",
     "output_type": "stream",
     "text": [
      "\r",
      "412416/412416 [==============================] - ETA: 0s - loss: 253.5447 - reconstruction_loss: 103.8324 - KL_loss: 22.4004"
     ]
    },
    {
     "name": "stdout",
     "output_type": "stream",
     "text": [
      "\b\b\b\b\b\b\b\b\b\b\b\b\b\b\b\b\b\b\b\b\b\b\b\b\b\b\b\b\b\b\b\b\b\b\b\b\b\b\b\b\b\b\b\b\b\b\b\b\b\b\b\b\b\b\b\b\b\b\b\b\b\b\b\b\b\b\b\b\b\b\b\b\b\b\b\b\b\b\b\b\b\b\b\b\b\b\b\b\b\b\b\b\b\b\b\b\b\b\b\b\b\b\b\b\b\b\b\b\b\b\b\b\b\b\b\b\b\b\b\b\b\b\b\b\r",
      "412416/412416 [==============================] - 12s 29us/sample - loss: 253.5447 - reconstruction_loss: 103.8324 - KL_loss: 22.4004 - val_loss: 118.8340 - val_reconstruction_loss: 96.6105 - val_KL_loss: 22.2235 - lr: 0.0030\n",
      "Epoch 102/1000\n"
     ]
    },
    {
     "name": "stdout",
     "output_type": "stream",
     "text": [
      "\r",
      "412416/412416 [==============================] - ETA: 0s - loss: 253.3704 - reconstruction_loss: 103.4020 - KL_loss: 22.6575"
     ]
    },
    {
     "name": "stdout",
     "output_type": "stream",
     "text": [
      "\b\b\b\b\b\b\b\b\b\b\b\b\b\b\b\b\b\b\b\b\b\b\b\b\b\b\b\b\b\b\b\b\b\b\b\b\b\b\b\b\b\b\b\b\b\b\b\b\b\b\b\b\b\b\b\b\b\b\b\b\b\b\b\b\b\b\b\b\b\b\b\b\b\b\b\b\b\b\b\b\b\b\b\b\b\b\b\b\b\b\b\b\b\b\b\b\b\b\b\b\b\b\b\b\b\b\b\b\b\b\b\b\b\b\b\b\b\b\b\b\b\b\b\b\r",
      "412416/412416 [==============================] - 12s 29us/sample - loss: 253.3704 - reconstruction_loss: 103.4020 - KL_loss: 22.6575 - val_loss: 118.2992 - val_reconstruction_loss: 96.3474 - val_KL_loss: 21.9518 - lr: 0.0030\n",
      "Epoch 103/1000\n"
     ]
    },
    {
     "name": "stdout",
     "output_type": "stream",
     "text": [
      "\r",
      "412416/412416 [==============================] - ETA: 0s - loss: 252.3216 - reconstruction_loss: 103.1614 - KL_loss: 22.4020"
     ]
    },
    {
     "name": "stdout",
     "output_type": "stream",
     "text": [
      "\b\b\b\b\b\b\b\b\b\b\b\b\b\b\b\b\b\b\b\b\b\b\b\b\b\b\b\b\b\b\b\b\b\b\b\b\b\b\b\b\b\b\b\b\b\b\b\b\b\b\b\b\b\b\b\b\b\b\b\b\b\b\b\b\b\b\b\b\b\b\b\b\b\b\b\b\b\b\b\b\b\b\b\b\b\b\b\b\b\b\b\b\b\b\b\b\b\b\b\b\b\b\b\b\b\b\b\b\b\b\b\b\b\b\b\b\b\b\b\b\b\b\b\b\r",
      "412416/412416 [==============================] - 12s 29us/sample - loss: 252.3216 - reconstruction_loss: 103.1614 - KL_loss: 22.4020 - val_loss: 118.7589 - val_reconstruction_loss: 97.1331 - val_KL_loss: 21.6258 - lr: 0.0030\n",
      "Epoch 104/1000\n"
     ]
    },
    {
     "name": "stdout",
     "output_type": "stream",
     "text": [
      "\r",
      "412416/412416 [==============================] - ETA: 0s - loss: 252.7336 - reconstruction_loss: 103.9660 - KL_loss: 22.0491"
     ]
    },
    {
     "name": "stdout",
     "output_type": "stream",
     "text": [
      "\b\b\b\b\b\b\b\b\b\b\b\b\b\b\b\b\b\b\b\b\b\b\b\b\b\b\b\b\b\b\b\b\b\b\b\b\b\b\b\b\b\b\b\b\b\b\b\b\b\b\b\b\b\b\b\b\b\b\b\b\b\b\b\b\b\b\b\b\b\b\b\b\b\b\b\b\b\b\b\b\b\b\b\b\b\b\b\b\b\b\b\b\b\b\b\b\b\b\b\b\b\b\b\b\b\b\b\b\b\b\b\b\b\b\b\b\b\b\b\b\b\b\b\b\r",
      "412416/412416 [==============================] - 12s 29us/sample - loss: 252.7336 - reconstruction_loss: 103.9660 - KL_loss: 22.0491 - val_loss: 117.9823 - val_reconstruction_loss: 96.1579 - val_KL_loss: 21.8244 - lr: 0.0030\n",
      "Epoch 105/1000\n"
     ]
    },
    {
     "name": "stdout",
     "output_type": "stream",
     "text": [
      "\r",
      "412416/412416 [==============================] - ETA: 0s - loss: 251.3849 - reconstruction_loss: 103.0155 - KL_loss: 22.2536"
     ]
    },
    {
     "name": "stdout",
     "output_type": "stream",
     "text": [
      "\b\b\b\b\b\b\b\b\b\b\b\b\b\b\b\b\b\b\b\b\b\b\b\b\b\b\b\b\b\b\b\b\b\b\b\b\b\b\b\b\b\b\b\b\b\b\b\b\b\b\b\b\b\b\b\b\b\b\b\b\b\b\b\b\b\b\b\b\b\b\b\b\b\b\b\b\b\b\b\b\b\b\b\b\b\b\b\b\b\b\b\b\b\b\b\b\b\b\b\b\b\b\b\b\b\b\b\b\b\b\b\b\b\b\b\b\b\b\b\b\b\b\b\b\r",
      "412416/412416 [==============================] - 12s 29us/sample - loss: 251.3849 - reconstruction_loss: 103.0155 - KL_loss: 22.2536 - val_loss: 118.3146 - val_reconstruction_loss: 96.3329 - val_KL_loss: 21.9817 - lr: 0.0030\n",
      "Epoch 106/1000\n"
     ]
    },
    {
     "name": "stdout",
     "output_type": "stream",
     "text": [
      "\r",
      "412416/412416 [==============================] - ETA: 0s - loss: 251.7868 - reconstruction_loss: 103.1929 - KL_loss: 22.4308"
     ]
    },
    {
     "name": "stdout",
     "output_type": "stream",
     "text": [
      "\b\b\b\b\b\b\b\b\b\b\b\b\b\b\b\b\b\b\b\b\b\b\b\b\b\b\b\b\b\b\b\b\b\b\b\b\b\b\b\b\b\b\b\b\b\b\b\b\b\b\b\b\b\b\b\b\b\b\b\b\b\b\b\b\b\b\b\b\b\b\b\b\b\b\b\b\b\b\b\b\b\b\b\b\b\b\b\b\b\b\b\b\b\b\b\b\b\b\b\b\b\b\b\b\b\b\b\b\b\b\b\b\b\b\b\b\b\b\b\b\b\b\b\b\r",
      "412416/412416 [==============================] - 12s 29us/sample - loss: 251.7868 - reconstruction_loss: 103.1929 - KL_loss: 22.4308 - val_loss: 117.6990 - val_reconstruction_loss: 95.9423 - val_KL_loss: 21.7567 - lr: 0.0030\n",
      "Epoch 107/1000\n"
     ]
    },
    {
     "name": "stdout",
     "output_type": "stream",
     "text": [
      "\r",
      "412416/412416 [==============================] - ETA: 0s - loss: 250.7723 - reconstruction_loss: 102.7481 - KL_loss: 22.1892"
     ]
    },
    {
     "name": "stdout",
     "output_type": "stream",
     "text": [
      "\b\b\b\b\b\b\b\b\b\b\b\b\b\b\b\b\b\b\b\b\b\b\b\b\b\b\b\b\b\b\b\b\b\b\b\b\b\b\b\b\b\b\b\b\b\b\b\b\b\b\b\b\b\b\b\b\b\b\b\b\b\b\b\b\b\b\b\b\b\b\b\b\b\b\b\b\b\b\b\b\b\b\b\b\b\b\b\b\b\b\b\b\b\b\b\b\b\b\b\b\b\b\b\b\b\b\b\b\b\b\b\b\b\b\b\b\b\b\b\b\b\b\b\b\r",
      "412416/412416 [==============================] - 12s 29us/sample - loss: 250.7723 - reconstruction_loss: 102.7481 - KL_loss: 22.1892 - val_loss: 117.9718 - val_reconstruction_loss: 96.3136 - val_KL_loss: 21.6583 - lr: 0.0030\n",
      "Epoch 108/1000\n"
     ]
    },
    {
     "name": "stdout",
     "output_type": "stream",
     "text": [
      "\r",
      "412416/412416 [==============================] - ETA: 0s - loss: 250.9673 - reconstruction_loss: 103.1271 - KL_loss: 22.0732"
     ]
    },
    {
     "name": "stdout",
     "output_type": "stream",
     "text": [
      "\b\b\b\b\b\b\b\b\b\b\b\b\b\b\b\b\b\b\b\b\b\b\b\b\b\b\b\b\b\b\b\b\b\b\b\b\b\b\b\b\b\b\b\b\b\b\b\b\b\b\b\b\b\b\b\b\b\b\b\b\b\b\b\b\b\b\b\b\b\b\b\b\b\b\b\b\b\b\b\b\b\b\b\b\b\b\b\b\b\b\b\b\b\b\b\b\b\b\b\b\b\b\b\b\b\b\b\b\b\b\b\b\b\b\b\b\b\b\b\b\b\b\b\b\r",
      "412416/412416 [==============================] - 12s 29us/sample - loss: 250.9673 - reconstruction_loss: 103.1271 - KL_loss: 22.0732 - val_loss: 117.4991 - val_reconstruction_loss: 95.9720 - val_KL_loss: 21.5271 - lr: 0.0030\n",
      "Epoch 109/1000\n"
     ]
    },
    {
     "name": "stdout",
     "output_type": "stream",
     "text": [
      "\r",
      "412416/412416 [==============================] - ETA: 0s - loss: 250.0886 - reconstruction_loss: 102.7651 - KL_loss: 21.9523"
     ]
    },
    {
     "name": "stdout",
     "output_type": "stream",
     "text": [
      "\b\b\b\b\b\b\b\b\b\b\b\b\b\b\b\b\b\b\b\b\b\b\b\b\b\b\b\b\b\b\b\b\b\b\b\b\b\b\b\b\b\b\b\b\b\b\b\b\b\b\b\b\b\b\b\b\b\b\b\b\b\b\b\b\b\b\b\b\b\b\b\b\b\b\b\b\b\b\b\b\b\b\b\b\b\b\b\b\b\b\b\b\b\b\b\b\b\b\b\b\b\b\b\b\b\b\b\b\b\b\b\b\b\b\b\b\b\b\b\b\b\b\b\b\r",
      "412416/412416 [==============================] - 12s 29us/sample - loss: 250.0886 - reconstruction_loss: 102.7651 - KL_loss: 21.9523 - val_loss: 117.8852 - val_reconstruction_loss: 96.3089 - val_KL_loss: 21.5764 - lr: 0.0030\n",
      "Epoch 110/1000\n"
     ]
    },
    {
     "name": "stdout",
     "output_type": "stream",
     "text": [
      "\r",
      "412416/412416 [==============================] - ETA: 0s - loss: 250.2002 - reconstruction_loss: 103.0785 - KL_loss: 22.0225"
     ]
    },
    {
     "name": "stdout",
     "output_type": "stream",
     "text": [
      "\b\b\b\b\b\b\b\b\b\b\b\b\b\b\b\b\b\b\b\b\b\b\b\b\b\b\b\b\b\b\b\b\b\b\b\b\b\b\b\b\b\b\b\b\b\b\b\b\b\b\b\b\b\b\b\b\b\b\b\b\b\b\b\b\b\b\b\b\b\b\b\b\b\b\b\b\b\b\b\b\b\b\b\b\b\b\b\b\b\b\b\b\b\b\b\b\b\b\b\b\b\b\b\b\b\b\b\b\b\b\b\b\b\b\b\b\b\b\b\b\b\b\b\b\r",
      "412416/412416 [==============================] - 12s 28us/sample - loss: 250.2002 - reconstruction_loss: 103.0785 - KL_loss: 22.0225 - val_loss: 117.4038 - val_reconstruction_loss: 95.8138 - val_KL_loss: 21.5900 - lr: 0.0030\n",
      "Epoch 111/1000\n"
     ]
    },
    {
     "name": "stdout",
     "output_type": "stream",
     "text": [
      "\r",
      "412416/412416 [==============================] - ETA: 0s - loss: 249.4688 - reconstruction_loss: 102.5568 - KL_loss: 22.0286"
     ]
    },
    {
     "name": "stdout",
     "output_type": "stream",
     "text": [
      "\b\b\b\b\b\b\b\b\b\b\b\b\b\b\b\b\b\b\b\b\b\b\b\b\b\b\b\b\b\b\b\b\b\b\b\b\b\b\b\b\b\b\b\b\b\b\b\b\b\b\b\b\b\b\b\b\b\b\b\b\b\b\b\b\b\b\b\b\b\b\b\b\b\b\b\b\b\b\b\b\b\b\b\b\b\b\b\b\b\b\b\b\b\b\b\b\b\b\b\b\b\b\b\b\b\b\b\b\b\b\b\b\b\b\b\b\b\b\b\b\b\b\b\b\r",
      "412416/412416 [==============================] - 12s 29us/sample - loss: 249.4688 - reconstruction_loss: 102.5568 - KL_loss: 22.0286 - val_loss: 117.4104 - val_reconstruction_loss: 95.6924 - val_KL_loss: 21.7180 - lr: 0.0030\n",
      "Epoch 112/1000\n"
     ]
    },
    {
     "name": "stdout",
     "output_type": "stream",
     "text": [
      "\r",
      "412416/412416 [==============================] - ETA: 0s - loss: 249.2275 - reconstruction_loss: 102.4858 - KL_loss: 22.1280"
     ]
    },
    {
     "name": "stdout",
     "output_type": "stream",
     "text": [
      "\b\b\b\b\b\b\b\b\b\b\b\b\b\b\b\b\b\b\b\b\b\b\b\b\b\b\b\b\b\b\b\b\b\b\b\b\b\b\b\b\b\b\b\b\b\b\b\b\b\b\b\b\b\b\b\b\b\b\b\b\b\b\b\b\b\b\b\b\b\b\b\b\b\b\b\b\b\b\b\b\b\b\b\b\b\b\b\b\b\b\b\b\b\b\b\b\b\b\b\b\b\b\b\b\b\b\b\b\b\b\b\b\b\b\b\b\b\b\b\b\b\b\b\b\r",
      "412416/412416 [==============================] - 12s 29us/sample - loss: 249.2275 - reconstruction_loss: 102.4858 - KL_loss: 22.1280 - val_loss: 116.8422 - val_reconstruction_loss: 95.1575 - val_KL_loss: 21.6847 - lr: 0.0030\n",
      "Epoch 113/1000\n"
     ]
    },
    {
     "name": "stdout",
     "output_type": "stream",
     "text": [
      "\r",
      "412416/412416 [==============================] - ETA: 0s - loss: 248.2085 - reconstruction_loss: 101.9141 - KL_loss: 22.0993"
     ]
    },
    {
     "name": "stdout",
     "output_type": "stream",
     "text": [
      "\b\b\b\b\b\b\b\b\b\b\b\b\b\b\b\b\b\b\b\b\b\b\b\b\b\b\b\b\b\b\b\b\b\b\b\b\b\b\b\b\b\b\b\b\b\b\b\b\b\b\b\b\b\b\b\b\b\b\b\b\b\b\b\b\b\b\b\b\b\b\b\b\b\b\b\b\b\b\b\b\b\b\b\b\b\b\b\b\b\b\b\b\b\b\b\b\b\b\b\b\b\b\b\b\b\b\b\b\b\b\b\b\b\b\b\b\b\b\b\b\b\b\b\b\r",
      "412416/412416 [==============================] - 12s 29us/sample - loss: 248.2085 - reconstruction_loss: 101.9141 - KL_loss: 22.0993 - val_loss: 116.8829 - val_reconstruction_loss: 95.6794 - val_KL_loss: 21.2035 - lr: 0.0030\n",
      "Epoch 114/1000\n"
     ]
    },
    {
     "name": "stdout",
     "output_type": "stream",
     "text": [
      "\r",
      "412416/412416 [==============================] - ETA: 0s - loss: 248.1311 - reconstruction_loss: 102.3813 - KL_loss: 21.6424"
     ]
    },
    {
     "name": "stdout",
     "output_type": "stream",
     "text": [
      "\b\b\b\b\b\b\b\b\b\b\b\b\b\b\b\b\b\b\b\b\b\b\b\b\b\b\b\b\b\b\b\b\b\b\b\b\b\b\b\b\b\b\b\b\b\b\b\b\b\b\b\b\b\b\b\b\b\b\b\b\b\b\b\b\b\b\b\b\b\b\b\b\b\b\b\b\b\b\b\b\b\b\b\b\b\b\b\b\b\b\b\b\b\b\b\b\b\b\b\b\b\b\b\b\b\b\b\b\b\b\b\b\b\b\b\b\b\b\b\b\b\b\b\b\r",
      "412416/412416 [==============================] - 12s 29us/sample - loss: 248.1311 - reconstruction_loss: 102.3813 - KL_loss: 21.6424 - val_loss: 116.6955 - val_reconstruction_loss: 95.7048 - val_KL_loss: 20.9906 - lr: 0.0030\n",
      "Epoch 115/1000\n"
     ]
    },
    {
     "name": "stdout",
     "output_type": "stream",
     "text": [
      "\r",
      "412416/412416 [==============================] - ETA: 0s - loss: 247.4102 - reconstruction_loss: 102.4257 - KL_loss: 21.4288"
     ]
    },
    {
     "name": "stdout",
     "output_type": "stream",
     "text": [
      "\b\b\b\b\b\b\b\b\b\b\b\b\b\b\b\b\b\b\b\b\b\b\b\b\b\b\b\b\b\b\b\b\b\b\b\b\b\b\b\b\b\b\b\b\b\b\b\b\b\b\b\b\b\b\b\b\b\b\b\b\b\b\b\b\b\b\b\b\b\b\b\b\b\b\b\b\b\b\b\b\b\b\b\b\b\b\b\b\b\b\b\b\b\b\b\b\b\b\b\b\b\b\b\b\b\b\b\b\b\b\b\b\b\b\b\b\b\b\b\b\b\b\b\b\r",
      "412416/412416 [==============================] - 12s 29us/sample - loss: 247.4102 - reconstruction_loss: 102.4257 - KL_loss: 21.4288 - val_loss: 116.5186 - val_reconstruction_loss: 95.2623 - val_KL_loss: 21.2563 - lr: 0.0030\n",
      "Epoch 116/1000\n"
     ]
    },
    {
     "name": "stdout",
     "output_type": "stream",
     "text": [
      "\r",
      "412416/412416 [==============================] - ETA: 0s - loss: 247.1110 - reconstruction_loss: 102.0277 - KL_loss: 21.6633"
     ]
    },
    {
     "name": "stdout",
     "output_type": "stream",
     "text": [
      "\b\b\b\b\b\b\b\b\b\b\b\b\b\b\b\b\b\b\b\b\b\b\b\b\b\b\b\b\b\b\b\b\b\b\b\b\b\b\b\b\b\b\b\b\b\b\b\b\b\b\b\b\b\b\b\b\b\b\b\b\b\b\b\b\b\b\b\b\b\b\b\b\b\b\b\b\b\b\b\b\b\b\b\b\b\b\b\b\b\b\b\b\b\b\b\b\b\b\b\b\b\b\b\b\b\b\b\b\b\b\b\b\b\b\b\b\b\b\b\b\b\b\b\b\r",
      "412416/412416 [==============================] - 12s 29us/sample - loss: 247.1110 - reconstruction_loss: 102.0277 - KL_loss: 21.6633 - val_loss: 116.2856 - val_reconstruction_loss: 94.6229 - val_KL_loss: 21.6627 - lr: 0.0030\n",
      "Epoch 117/1000\n"
     ]
    },
    {
     "name": "stdout",
     "output_type": "stream",
     "text": [
      "\r",
      "412416/412416 [==============================] - ETA: 0s - loss: 246.6100 - reconstruction_loss: 101.3662 - KL_loss: 22.0773"
     ]
    },
    {
     "name": "stdout",
     "output_type": "stream",
     "text": [
      "\b\b\b\b\b\b\b\b\b\b\b\b\b\b\b\b\b\b\b\b\b\b\b\b\b\b\b\b\b\b\b\b\b\b\b\b\b\b\b\b\b\b\b\b\b\b\b\b\b\b\b\b\b\b\b\b\b\b\b\b\b\b\b\b\b\b\b\b\b\b\b\b\b\b\b\b\b\b\b\b\b\b\b\b\b\b\b\b\b\b\b\b\b\b\b\b\b\b\b\b\b\b\b\b\b\b\b\b\b\b\b\b\b\b\b\b\b\b\b\b\b\b\b\b\r",
      "412416/412416 [==============================] - 12s 29us/sample - loss: 246.6100 - reconstruction_loss: 101.3662 - KL_loss: 22.0773 - val_loss: 116.1499 - val_reconstruction_loss: 94.7469 - val_KL_loss: 21.4030 - lr: 0.0030\n",
      "Epoch 118/1000\n"
     ]
    },
    {
     "name": "stdout",
     "output_type": "stream",
     "text": [
      "\r",
      "412416/412416 [==============================] - ETA: 0s - loss: 245.6795 - reconstruction_loss: 101.4101 - KL_loss: 21.8231"
     ]
    },
    {
     "name": "stdout",
     "output_type": "stream",
     "text": [
      "\b\b\b\b\b\b\b\b\b\b\b\b\b\b\b\b\b\b\b\b\b\b\b\b\b\b\b\b\b\b\b\b\b\b\b\b\b\b\b\b\b\b\b\b\b\b\b\b\b\b\b\b\b\b\b\b\b\b\b\b\b\b\b\b\b\b\b\b\b\b\b\b\b\b\b\b\b\b\b\b\b\b\b\b\b\b\b\b\b\b\b\b\b\b\b\b\b\b\b\b\b\b\b\b\b\b\b\b\b\b\b\b\b\b\b\b\b\b\b\b\b\b\b\b\r",
      "412416/412416 [==============================] - 12s 30us/sample - loss: 245.6795 - reconstruction_loss: 101.4101 - KL_loss: 21.8231 - val_loss: 115.9728 - val_reconstruction_loss: 94.9371 - val_KL_loss: 21.0357 - lr: 0.0030\n",
      "Epoch 119/1000\n"
     ]
    },
    {
     "name": "stdout",
     "output_type": "stream",
     "text": [
      "\r",
      "412416/412416 [==============================] - ETA: 0s - loss: 245.7225 - reconstruction_loss: 101.6128 - KL_loss: 21.4686"
     ]
    },
    {
     "name": "stdout",
     "output_type": "stream",
     "text": [
      "\b\b\b\b\b\b\b\b\b\b\b\b\b\b\b\b\b\b\b\b\b\b\b\b\b\b\b\b\b\b\b\b\b\b\b\b\b\b\b\b\b\b\b\b\b\b\b\b\b\b\b\b\b\b\b\b\b\b\b\b\b\b\b\b\b\b\b\b\b\b\b\b\b\b\b\b\b\b\b\b\b\b\b\b\b\b\b\b\b\b\b\b\b\b\b\b\b\b\b\b\b\b\b\b\b\b\b\b\b\b\b\b\b\b\b\b\b\b\b\b\b\b\b\b\r",
      "412416/412416 [==============================] - 12s 30us/sample - loss: 245.7225 - reconstruction_loss: 101.6128 - KL_loss: 21.4686 - val_loss: 115.3549 - val_reconstruction_loss: 94.5646 - val_KL_loss: 20.7902 - lr: 0.0030\n",
      "Epoch 120/1000\n"
     ]
    },
    {
     "name": "stdout",
     "output_type": "stream",
     "text": [
      "\r",
      "412416/412416 [==============================] - ETA: 0s - loss: 244.7251 - reconstruction_loss: 101.2449 - KL_loss: 21.2095"
     ]
    },
    {
     "name": "stdout",
     "output_type": "stream",
     "text": [
      "\b\b\b\b\b\b\b\b\b\b\b\b\b\b\b\b\b\b\b\b\b\b\b\b\b\b\b\b\b\b\b\b\b\b\b\b\b\b\b\b\b\b\b\b\b\b\b\b\b\b\b\b\b\b\b\b\b\b\b\b\b\b\b\b\b\b\b\b\b\b\b\b\b\b\b\b\b\b\b\b\b\b\b\b\b\b\b\b\b\b\b\b\b\b\b\b\b\b\b\b\b\b\b\b\b\b\b\b\b\b\b\b\b\b\b\b\b\b\b\b\b\b\b\b\r",
      "412416/412416 [==============================] - 12s 29us/sample - loss: 244.7251 - reconstruction_loss: 101.2449 - KL_loss: 21.2095 - val_loss: 115.5640 - val_reconstruction_loss: 94.2493 - val_KL_loss: 21.3147 - lr: 0.0030\n",
      "Epoch 121/1000\n"
     ]
    },
    {
     "name": "stdout",
     "output_type": "stream",
     "text": [
      "\r",
      "412416/412416 [==============================] - ETA: 0s - loss: 244.4479 - reconstruction_loss: 100.9081 - KL_loss: 21.7341"
     ]
    },
    {
     "name": "stdout",
     "output_type": "stream",
     "text": [
      "\b\b\b\b\b\b\b\b\b\b\b\b\b\b\b\b\b\b\b\b\b\b\b\b\b\b\b\b\b\b\b\b\b\b\b\b\b\b\b\b\b\b\b\b\b\b\b\b\b\b\b\b\b\b\b\b\b\b\b\b\b\b\b\b\b\b\b\b\b\b\b\b\b\b\b\b\b\b\b\b\b\b\b\b\b\b\b\b\b\b\b\b\b\b\b\b\b\b\b\b\b\b\b\b\b\b\b\b\b\b\b\b\b\b\b\b\b\b\b\b\b\b\b\b\r",
      "412416/412416 [==============================] - 12s 30us/sample - loss: 244.4479 - reconstruction_loss: 100.9081 - KL_loss: 21.7341 - val_loss: 115.6393 - val_reconstruction_loss: 94.4406 - val_KL_loss: 21.1987 - lr: 0.0030\n",
      "Epoch 122/1000\n"
     ]
    },
    {
     "name": "stdout",
     "output_type": "stream",
     "text": [
      "\r",
      "412416/412416 [==============================] - ETA: 0s - loss: 243.9442 - reconstruction_loss: 101.1017 - KL_loss: 21.6058"
     ]
    },
    {
     "name": "stdout",
     "output_type": "stream",
     "text": [
      "\b\b\b\b\b\b\b\b\b\b\b\b\b\b\b\b\b\b\b\b\b\b\b\b\b\b\b\b\b\b\b\b\b\b\b\b\b\b\b\b\b\b\b\b\b\b\b\b\b\b\b\b\b\b\b\b\b\b\b\b\b\b\b\b\b\b\b\b\b\b\b\b\b\b\b\b\b\b\b\b\b\b\b\b\b\b\b\b\b\b\b\b\b\b\b\b\b\b\b\b\b\b\b\b\b\b\b\b\b\b\b\b\b\b\b\b\b\b\b\b\b\b\b\b\r",
      "412416/412416 [==============================] - 12s 30us/sample - loss: 243.9442 - reconstruction_loss: 101.1017 - KL_loss: 21.6058 - val_loss: 115.1702 - val_reconstruction_loss: 94.2309 - val_KL_loss: 20.9392 - lr: 0.0030\n",
      "Epoch 123/1000\n"
     ]
    },
    {
     "name": "stdout",
     "output_type": "stream",
     "text": [
      "\r",
      "412416/412416 [==============================] - ETA: 0s - loss: 243.5812 - reconstruction_loss: 100.8826 - KL_loss: 21.3668"
     ]
    },
    {
     "name": "stdout",
     "output_type": "stream",
     "text": [
      "\b\b\b\b\b\b\b\b\b\b\b\b\b\b\b\b\b\b\b\b\b\b\b\b\b\b\b\b\b\b\b\b\b\b\b\b\b\b\b\b\b\b\b\b\b\b\b\b\b\b\b\b\b\b\b\b\b\b\b\b\b\b\b\b\b\b\b\b\b\b\b\b\b\b\b\b\b\b\b\b\b\b\b\b\b\b\b\b\b\b\b\b\b\b\b\b\b\b\b\b\b\b\b\b\b\b\b\b\b\b\b\b\b\b\b\b\b\b\b\b\b\b\b\b\r",
      "412416/412416 [==============================] - 12s 30us/sample - loss: 243.5812 - reconstruction_loss: 100.8826 - KL_loss: 21.3668 - val_loss: 114.7143 - val_reconstruction_loss: 94.0259 - val_KL_loss: 20.6884 - lr: 0.0030\n",
      "Epoch 124/1000\n"
     ]
    },
    {
     "name": "stdout",
     "output_type": "stream",
     "text": [
      "\r",
      "412416/412416 [==============================] - ETA: 0s - loss: 242.8521 - reconstruction_loss: 100.6830 - KL_loss: 21.1091"
     ]
    },
    {
     "name": "stdout",
     "output_type": "stream",
     "text": [
      "\b\b\b\b\b\b\b\b\b\b\b\b\b\b\b\b\b\b\b\b\b\b\b\b\b\b\b\b\b\b\b\b\b\b\b\b\b\b\b\b\b\b\b\b\b\b\b\b\b\b\b\b\b\b\b\b\b\b\b\b\b\b\b\b\b\b\b\b\b\b\b\b\b\b\b\b\b\b\b\b\b\b\b\b\b\b\b\b\b\b\b\b\b\b\b\b\b\b\b\b\b\b\b\b\b\b\b\b\b\b\b\b\b\b\b\b\b\b\b\b\b\b\b\b\r",
      "412416/412416 [==============================] - 11s 26us/sample - loss: 242.8521 - reconstruction_loss: 100.6830 - KL_loss: 21.1091 - val_loss: 114.8933 - val_reconstruction_loss: 93.8995 - val_KL_loss: 20.9938 - lr: 0.0030\n",
      "Epoch 125/1000\n"
     ]
    },
    {
     "name": "stdout",
     "output_type": "stream",
     "text": [
      "\r",
      "412416/412416 [==============================] - ETA: 0s - loss: 242.4437 - reconstruction_loss: 100.5342 - KL_loss: 21.4130"
     ]
    },
    {
     "name": "stdout",
     "output_type": "stream",
     "text": [
      "\b\b\b\b\b\b\b\b\b\b\b\b\b\b\b\b\b\b\b\b\b\b\b\b\b\b\b\b\b\b\b\b\b\b\b\b\b\b\b\b\b\b\b\b\b\b\b\b\b\b\b\b\b\b\b\b\b\b\b\b\b\b\b\b\b\b\b\b\b\b\b\b\b\b\b\b\b\b\b\b\b\b\b\b\b\b\b\b\b\b\b\b\b\b\b\b\b\b\b\b\b\b\b\b\b\b\b\b\b\b\b\b\b\b\b\b\b\b\b\b\b\b\b\b\r",
      "412416/412416 [==============================] - 12s 29us/sample - loss: 242.4437 - reconstruction_loss: 100.5342 - KL_loss: 21.4130 - val_loss: 115.1516 - val_reconstruction_loss: 94.0367 - val_KL_loss: 21.1149 - lr: 0.0030\n",
      "Epoch 126/1000\n"
     ]
    },
    {
     "name": "stdout",
     "output_type": "stream",
     "text": [
      "\r",
      "412416/412416 [==============================] - ETA: 0s - loss: 242.6415 - reconstruction_loss: 100.6305 - KL_loss: 21.5184"
     ]
    },
    {
     "name": "stdout",
     "output_type": "stream",
     "text": [
      "\b\b\b\b\b\b\b\b\b\b\b\b\b\b\b\b\b\b\b\b\b\b\b\b\b\b\b\b\b\b\b\b\b\b\b\b\b\b\b\b\b\b\b\b\b\b\b\b\b\b\b\b\b\b\b\b\b\b\b\b\b\b\b\b\b\b\b\b\b\b\b\b\b\b\b\b\b\b\b\b\b\b\b\b\b\b\b\b\b\b\b\b\b\b\b\b\b\b\b\b\b\b\b\b\b\b\b\b\b\b\b\b\b\b\b\b\b\b\b\b\b\b\b\b\r",
      "412416/412416 [==============================] - 11s 28us/sample - loss: 242.6415 - reconstruction_loss: 100.6305 - KL_loss: 21.5184 - val_loss: 114.3244 - val_reconstruction_loss: 93.3205 - val_KL_loss: 21.0039 - lr: 0.0030\n",
      "Epoch 127/1000\n"
     ]
    },
    {
     "name": "stdout",
     "output_type": "stream",
     "text": [
      "\r",
      "412416/412416 [==============================] - ETA: 0s - loss: 241.4210 - reconstruction_loss: 99.9301 - KL_loss: 21.4242"
     ]
    },
    {
     "name": "stdout",
     "output_type": "stream",
     "text": [
      "\b\b\b\b\b\b\b\b\b\b\b\b\b\b\b\b\b\b\b\b\b\b\b\b\b\b\b\b\b\b\b\b\b\b\b\b\b\b\b\b\b\b\b\b\b\b\b\b\b\b\b\b\b\b\b\b\b\b\b\b\b\b\b\b\b\b\b\b\b\b\b\b\b\b\b\b\b\b\b\b\b\b\b\b\b\b\b\b\b\b\b\b\b\b\b\b\b\b\b\b\b\b\b\b\b\b\b\b\b\b\b\b\b\b\b\b\b\b\b\b\b\b\b\r",
      "412416/412416 [==============================] - 11s 28us/sample - loss: 241.4210 - reconstruction_loss: 99.9301 - KL_loss: 21.4242 - val_loss: 114.7213 - val_reconstruction_loss: 94.0460 - val_KL_loss: 20.6753 - lr: 0.0030\n",
      "Epoch 128/1000\n"
     ]
    },
    {
     "name": "stdout",
     "output_type": "stream",
     "text": [
      "\r",
      "412416/412416 [==============================] - ETA: 0s - loss: 241.2233 - reconstruction_loss: 100.6418 - KL_loss: 21.0993"
     ]
    },
    {
     "name": "stdout",
     "output_type": "stream",
     "text": [
      "\b\b\b\b\b\b\b\b\b\b\b\b\b\b\b\b\b\b\b\b\b\b\b\b\b\b\b\b\b\b\b\b\b\b\b\b\b\b\b\b\b\b\b\b\b\b\b\b\b\b\b\b\b\b\b\b\b\b\b\b\b\b\b\b\b\b\b\b\b\b\b\b\b\b\b\b\b\b\b\b\b\b\b\b\b\b\b\b\b\b\b\b\b\b\b\b\b\b\b\b\b\b\b\b\b\b\b\b\b\b\b\b\b\b\b\b\b\b\b\b\b\b\b\b\r",
      "412416/412416 [==============================] - 11s 26us/sample - loss: 241.2233 - reconstruction_loss: 100.6418 - KL_loss: 21.0993 - val_loss: 114.4845 - val_reconstruction_loss: 93.7089 - val_KL_loss: 20.7756 - lr: 0.0030\n",
      "Epoch 129/1000\n"
     ]
    },
    {
     "name": "stdout",
     "output_type": "stream",
     "text": [
      "\r",
      "412416/412416 [==============================] - ETA: 0s - loss: 241.1213 - reconstruction_loss: 100.2717 - KL_loss: 21.1970"
     ]
    },
    {
     "name": "stdout",
     "output_type": "stream",
     "text": [
      "\b\b\b\b\b\b\b\b\b\b\b\b\b\b\b\b\b\b\b\b\b\b\b\b\b\b\b\b\b\b\b\b\b\b\b\b\b\b\b\b\b\b\b\b\b\b\b\b\b\b\b\b\b\b\b\b\b\b\b\b\b\b\b\b\b\b\b\b\b\b\b\b\b\b\b\b\b\b\b\b\b\b\b\b\b\b\b\b\b\b\b\b\b\b\b\b\b\b\b\b\b\b\b\b\b\b\b\b\b\b\b\b\b\b\b\b\b\b\b\b\b\b\b\b\r",
      "412416/412416 [==============================] - 12s 28us/sample - loss: 241.1213 - reconstruction_loss: 100.2717 - KL_loss: 21.1970 - val_loss: 113.9783 - val_reconstruction_loss: 93.3501 - val_KL_loss: 20.6282 - lr: 0.0030\n",
      "Epoch 130/1000\n"
     ]
    },
    {
     "name": "stdout",
     "output_type": "stream",
     "text": [
      "\r",
      "412416/412416 [==============================] - ETA: 0s - loss: 239.9233 - reconstruction_loss: 99.9171 - KL_loss: 21.0410"
     ]
    },
    {
     "name": "stdout",
     "output_type": "stream",
     "text": [
      "\b\b\b\b\b\b\b\b\b\b\b\b\b\b\b\b\b\b\b\b\b\b\b\b\b\b\b\b\b\b\b\b\b\b\b\b\b\b\b\b\b\b\b\b\b\b\b\b\b\b\b\b\b\b\b\b\b\b\b\b\b\b\b\b\b\b\b\b\b\b\b\b\b\b\b\b\b\b\b\b\b\b\b\b\b\b\b\b\b\b\b\b\b\b\b\b\b\b\b\b\b\b\b\b\b\b\b\b\b\b\b\b\b\b\b\b\b\b\b\b\b\b\b\r",
      "412416/412416 [==============================] - 11s 26us/sample - loss: 239.9233 - reconstruction_loss: 99.9171 - KL_loss: 21.0410 - val_loss: 114.1955 - val_reconstruction_loss: 93.2737 - val_KL_loss: 20.9218 - lr: 0.0030\n",
      "Epoch 131/1000\n"
     ]
    },
    {
     "name": "stdout",
     "output_type": "stream",
     "text": [
      "\r",
      "412416/412416 [==============================] - ETA: 0s - loss: 240.6043 - reconstruction_loss: 99.8679 - KL_loss: 21.3524"
     ]
    },
    {
     "name": "stdout",
     "output_type": "stream",
     "text": [
      "\b\b\b\b\b\b\b\b\b\b\b\b\b\b\b\b\b\b\b\b\b\b\b\b\b\b\b\b\b\b\b\b\b\b\b\b\b\b\b\b\b\b\b\b\b\b\b\b\b\b\b\b\b\b\b\b\b\b\b\b\b\b\b\b\b\b\b\b\b\b\b\b\b\b\b\b\b\b\b\b\b\b\b\b\b\b\b\b\b\b\b\b\b\b\b\b\b\b\b\b\b\b\b\b\b\b\b\b\b\b\b\b\b\b\b\b\b\b\b\b\b\b\b\r",
      "412416/412416 [==============================] - 12s 30us/sample - loss: 240.6043 - reconstruction_loss: 99.8679 - KL_loss: 21.3524 - val_loss: 113.8791 - val_reconstruction_loss: 93.0560 - val_KL_loss: 20.8231 - lr: 0.0030\n",
      "Epoch 132/1000\n"
     ]
    },
    {
     "name": "stdout",
     "output_type": "stream",
     "text": [
      "\r",
      "412416/412416 [==============================] - ETA: 0s - loss: 239.3702 - reconstruction_loss: 99.5782 - KL_loss: 21.2433"
     ]
    },
    {
     "name": "stdout",
     "output_type": "stream",
     "text": [
      "\b\b\b\b\b\b\b\b\b\b\b\b\b\b\b\b\b\b\b\b\b\b\b\b\b\b\b\b\b\b\b\b\b\b\b\b\b\b\b\b\b\b\b\b\b\b\b\b\b\b\b\b\b\b\b\b\b\b\b\b\b\b\b\b\b\b\b\b\b\b\b\b\b\b\b\b\b\b\b\b\b\b\b\b\b\b\b\b\b\b\b\b\b\b\b\b\b\b\b\b\b\b\b\b\b\b\b\b\b\b\b\b\b\b\b\b\b\b\b\b\b\b\b\r",
      "412416/412416 [==============================] - 19s 46us/sample - loss: 239.3702 - reconstruction_loss: 99.5782 - KL_loss: 21.2433 - val_loss: 114.3588 - val_reconstruction_loss: 93.8483 - val_KL_loss: 20.5105 - lr: 0.0030\n",
      "Epoch 133/1000\n"
     ]
    },
    {
     "name": "stdout",
     "output_type": "stream",
     "text": [
      "\r",
      "412416/412416 [==============================] - ETA: 0s - loss: 240.2141 - reconstruction_loss: 100.3711 - KL_loss: 20.9363"
     ]
    },
    {
     "name": "stdout",
     "output_type": "stream",
     "text": [
      "\b\b\b\b\b\b\b\b\b\b\b\b\b\b\b\b\b\b\b\b\b\b\b\b\b\b\b\b\b\b\b\b\b\b\b\b\b\b\b\b\b\b\b\b\b\b\b\b\b\b\b\b\b\b\b\b\b\b\b\b\b\b\b\b\b\b\b\b\b\b\b\b\b\b\b\b\b\b\b\b\b\b\b\b\b\b\b\b\b\b\b\b\b\b\b\b\b\b\b\b\b\b\b\b\b\b\b\b\b\b\b\b\b\b\b\b\b\b\b\b\b\b\b\b\r",
      "412416/412416 [==============================] - 12s 30us/sample - loss: 240.2141 - reconstruction_loss: 100.3711 - KL_loss: 20.9363 - val_loss: 113.7492 - val_reconstruction_loss: 93.4027 - val_KL_loss: 20.3464 - lr: 0.0030\n",
      "Epoch 134/1000\n"
     ]
    },
    {
     "name": "stdout",
     "output_type": "stream",
     "text": [
      "\r",
      "412416/412416 [==============================] - ETA: 0s - loss: 239.0743 - reconstruction_loss: 99.9380 - KL_loss: 20.7647"
     ]
    },
    {
     "name": "stdout",
     "output_type": "stream",
     "text": [
      "\b\b\b\b\b\b\b\b\b\b\b\b\b\b\b\b\b\b\b\b\b\b\b\b\b\b\b\b\b\b\b\b\b\b\b\b\b\b\b\b\b\b\b\b\b\b\b\b\b\b\b\b\b\b\b\b\b\b\b\b\b\b\b\b\b\b\b\b\b\b\b\b\b\b\b\b\b\b\b\b\b\b\b\b\b\b\b\b\b\b\b\b\b\b\b\b\b\b\b\b\b\b\b\b\b\b\b\b\b\b\b\b\b\b\b\b\b\b\b\b\b\b\b\r",
      "412416/412416 [==============================] - 13s 31us/sample - loss: 239.0743 - reconstruction_loss: 99.9380 - KL_loss: 20.7647 - val_loss: 114.4533 - val_reconstruction_loss: 93.6060 - val_KL_loss: 20.8473 - lr: 0.0030\n",
      "Epoch 135/1000\n"
     ]
    },
    {
     "name": "stdout",
     "output_type": "stream",
     "text": [
      "\r",
      "412416/412416 [==============================] - ETA: 0s - loss: 240.2007 - reconstruction_loss: 100.1367 - KL_loss: 21.2716"
     ]
    },
    {
     "name": "stdout",
     "output_type": "stream",
     "text": [
      "\b\b\b\b\b\b\b\b\b\b\b\b\b\b\b\b\b\b\b\b\b\b\b\b\b\b\b\b\b\b\b\b\b\b\b\b\b\b\b\b\b\b\b\b\b\b\b\b\b\b\b\b\b\b\b\b\b\b\b\b\b\b\b\b\b\b\b\b\b\b\b\b\b\b\b\b\b\b\b\b\b\b\b\b\b\b\b\b\b\b\b\b\b\b\b\b\b\b\b\b\b\b\b\b\b\b\b\b\b\b\b\b\b\b\b\b\b\b\b\b\b\b\b\b\r",
      "412416/412416 [==============================] - 12s 30us/sample - loss: 240.2007 - reconstruction_loss: 100.1367 - KL_loss: 21.2716 - val_loss: 114.1607 - val_reconstruction_loss: 93.1988 - val_KL_loss: 20.9619 - lr: 0.0030\n",
      "Epoch 136/1000\n"
     ]
    },
    {
     "name": "stdout",
     "output_type": "stream",
     "text": [
      "\r",
      "412416/412416 [==============================] - ETA: 0s - loss: 239.3751 - reconstruction_loss: 99.6926 - KL_loss: 21.4004"
     ]
    },
    {
     "name": "stdout",
     "output_type": "stream",
     "text": [
      "\b\b\b\b\b\b\b\b\b\b\b\b\b\b\b\b\b\b\b\b\b\b\b\b\b\b\b\b\b\b\b\b\b\b\b\b\b\b\b\b\b\b\b\b\b\b\b\b\b\b\b\b\b\b\b\b\b\b\b\b\b\b\b\b\b\b\b\b\b\b\b\b\b\b\b\b\b\b\b\b\b\b\b\b\b\b\b\b\b\b\b\b\b\b\b\b\b\b\b\b\b\b\b\b\b\b\b\b\b\b\b\b\b\b\b\b\b\b\b\b\b\b\b\r",
      "412416/412416 [==============================] - 12s 30us/sample - loss: 239.3751 - reconstruction_loss: 99.6926 - KL_loss: 21.4004 - val_loss: 113.7180 - val_reconstruction_loss: 93.2067 - val_KL_loss: 20.5113 - lr: 0.0030\n",
      "Epoch 137/1000\n"
     ]
    },
    {
     "name": "stdout",
     "output_type": "stream",
     "text": [
      "\r",
      "412416/412416 [==============================] - ETA: 0s - loss: 238.4699 - reconstruction_loss: 99.7052 - KL_loss: 20.9379"
     ]
    },
    {
     "name": "stdout",
     "output_type": "stream",
     "text": [
      "\b\b\b\b\b\b\b\b\b\b\b\b\b\b\b\b\b\b\b\b\b\b\b\b\b\b\b\b\b\b\b\b\b\b\b\b\b\b\b\b\b\b\b\b\b\b\b\b\b\b\b\b\b\b\b\b\b\b\b\b\b\b\b\b\b\b\b\b\b\b\b\b\b\b\b\b\b\b\b\b\b\b\b\b\b\b\b\b\b\b\b\b\b\b\b\b\b\b\b\b\b\b\b\b\b\b\b\b\b\b\b\b\b\b\b\b\b\b\b\b\b\b\b\r",
      "412416/412416 [==============================] - 12s 30us/sample - loss: 238.4699 - reconstruction_loss: 99.7052 - KL_loss: 20.9379 - val_loss: 113.6555 - val_reconstruction_loss: 93.1910 - val_KL_loss: 20.4645 - lr: 0.0030\n",
      "Epoch 138/1000\n"
     ]
    },
    {
     "name": "stdout",
     "output_type": "stream",
     "text": [
      "\r",
      "412416/412416 [==============================] - ETA: 0s - loss: 238.0291 - reconstruction_loss: 99.6891 - KL_loss: 20.8756"
     ]
    },
    {
     "name": "stdout",
     "output_type": "stream",
     "text": [
      "\b\b\b\b\b\b\b\b\b\b\b\b\b\b\b\b\b\b\b\b\b\b\b\b\b\b\b\b\b\b\b\b\b\b\b\b\b\b\b\b\b\b\b\b\b\b\b\b\b\b\b\b\b\b\b\b\b\b\b\b\b\b\b\b\b\b\b\b\b\b\b\b\b\b\b\b\b\b\b\b\b\b\b\b\b\b\b\b\b\b\b\b\b\b\b\b\b\b\b\b\b\b\b\b\b\b\b\b\b\b\b\b\b\b\b\b\b\b\b\b\b\b\b\r",
      "412416/412416 [==============================] - 13s 32us/sample - loss: 238.0291 - reconstruction_loss: 99.6891 - KL_loss: 20.8756 - val_loss: 113.5634 - val_reconstruction_loss: 92.8895 - val_KL_loss: 20.6739 - lr: 0.0030\n",
      "Epoch 139/1000\n"
     ]
    },
    {
     "name": "stdout",
     "output_type": "stream",
     "text": [
      "\r",
      "412416/412416 [==============================] - ETA: 0s - loss: 237.5026 - reconstruction_loss: 99.3453 - KL_loss: 21.0950"
     ]
    },
    {
     "name": "stdout",
     "output_type": "stream",
     "text": [
      "\b\b\b\b\b\b\b\b\b\b\b\b\b\b\b\b\b\b\b\b\b\b\b\b\b\b\b\b\b\b\b\b\b\b\b\b\b\b\b\b\b\b\b\b\b\b\b\b\b\b\b\b\b\b\b\b\b\b\b\b\b\b\b\b\b\b\b\b\b\b\b\b\b\b\b\b\b\b\b\b\b\b\b\b\b\b\b\b\b\b\b\b\b\b\b\b\b\b\b\b\b\b\b\b\b\b\b\b\b\b\b\b\b\b\b\b\b\b\b\b\b\b\b\r",
      "412416/412416 [==============================] - 12s 30us/sample - loss: 237.5026 - reconstruction_loss: 99.3453 - KL_loss: 21.0950 - val_loss: 113.0443 - val_reconstruction_loss: 92.5600 - val_KL_loss: 20.4844 - lr: 0.0030\n",
      "Epoch 140/1000\n"
     ]
    },
    {
     "name": "stdout",
     "output_type": "stream",
     "text": [
      "\r",
      "412416/412416 [==============================] - ETA: 0s - loss: 237.0415 - reconstruction_loss: 99.0398 - KL_loss: 20.8990"
     ]
    },
    {
     "name": "stdout",
     "output_type": "stream",
     "text": [
      "\b\b\b\b\b\b\b\b\b\b\b\b\b\b\b\b\b\b\b\b\b\b\b\b\b\b\b\b\b\b\b\b\b\b\b\b\b\b\b\b\b\b\b\b\b\b\b\b\b\b\b\b\b\b\b\b\b\b\b\b\b\b\b\b\b\b\b\b\b\b\b\b\b\b\b\b\b\b\b\b\b\b\b\b\b\b\b\b\b\b\b\b\b\b\b\b\b\b\b\b\b\b\b\b\b\b\b\b\b\b\b\b\b\b\b\b\b\b\b\b\b\b\b\r",
      "412416/412416 [==============================] - 12s 29us/sample - loss: 237.0415 - reconstruction_loss: 99.0398 - KL_loss: 20.8990 - val_loss: 112.9070 - val_reconstruction_loss: 92.4969 - val_KL_loss: 20.4101 - lr: 0.0030\n",
      "Epoch 141/1000\n"
     ]
    },
    {
     "name": "stdout",
     "output_type": "stream",
     "text": [
      "\r",
      "412416/412416 [==============================] - ETA: 0s - loss: 236.3033 - reconstruction_loss: 98.9809 - KL_loss: 20.8311"
     ]
    },
    {
     "name": "stdout",
     "output_type": "stream",
     "text": [
      "\b\b\b\b\b\b\b\b\b\b\b\b\b\b\b\b\b\b\b\b\b\b\b\b\b\b\b\b\b\b\b\b\b\b\b\b\b\b\b\b\b\b\b\b\b\b\b\b\b\b\b\b\b\b\b\b\b\b\b\b\b\b\b\b\b\b\b\b\b\b\b\b\b\b\b\b\b\b\b\b\b\b\b\b\b\b\b\b\b\b\b\b\b\b\b\b\b\b\b\b\b\b\b\b\b\b\b\b\b\b\b\b\b\b\b\b\b\b\b\b\b\b\b\r",
      "412416/412416 [==============================] - 13s 31us/sample - loss: 236.3033 - reconstruction_loss: 98.9809 - KL_loss: 20.8311 - val_loss: 113.1942 - val_reconstruction_loss: 92.8283 - val_KL_loss: 20.3659 - lr: 0.0030\n",
      "Epoch 142/1000\n"
     ]
    },
    {
     "name": "stdout",
     "output_type": "stream",
     "text": [
      "\r",
      "412416/412416 [==============================] - ETA: 0s - loss: 236.4341 - reconstruction_loss: 99.2837 - KL_loss: 20.7828"
     ]
    },
    {
     "name": "stdout",
     "output_type": "stream",
     "text": [
      "\b\b\b\b\b\b\b\b\b\b\b\b\b\b\b\b\b\b\b\b\b\b\b\b\b\b\b\b\b\b\b\b\b\b\b\b\b\b\b\b\b\b\b\b\b\b\b\b\b\b\b\b\b\b\b\b\b\b\b\b\b\b\b\b\b\b\b\b\b\b\b\b\b\b\b\b\b\b\b\b\b\b\b\b\b\b\b\b\b\b\b\b\b\b\b\b\b\b\b\b\b\b\b\b\b\b\b\b\b\b\b\b\b\b\b\b\b\b\b\b\b\b\b\r",
      "412416/412416 [==============================] - 12s 30us/sample - loss: 236.4341 - reconstruction_loss: 99.2837 - KL_loss: 20.7828 - val_loss: 112.6496 - val_reconstruction_loss: 91.9867 - val_KL_loss: 20.6629 - lr: 0.0030\n",
      "Epoch 143/1000\n"
     ]
    },
    {
     "name": "stdout",
     "output_type": "stream",
     "text": [
      "\r",
      "412416/412416 [==============================] - ETA: 0s - loss: 235.4135 - reconstruction_loss: 98.4747 - KL_loss: 21.0845"
     ]
    },
    {
     "name": "stdout",
     "output_type": "stream",
     "text": [
      "\b\b\b\b\b\b\b\b\b\b\b\b\b\b\b\b\b\b\b\b\b\b\b\b\b\b\b\b\b\b\b\b\b\b\b\b\b\b\b\b\b\b\b\b\b\b\b\b\b\b\b\b\b\b\b\b\b\b\b\b\b\b\b\b\b\b\b\b\b\b\b\b\b\b\b\b\b\b\b\b\b\b\b\b\b\b\b\b\b\b\b\b\b\b\b\b\b\b\b\b\b\b\b\b\b\b\b\b\b\b\b\b\b\b\b\b\b\b\b\b\b\b\b\r",
      "412416/412416 [==============================] - 12s 30us/sample - loss: 235.4135 - reconstruction_loss: 98.4747 - KL_loss: 21.0845 - val_loss: 112.7162 - val_reconstruction_loss: 92.2826 - val_KL_loss: 20.4336 - lr: 0.0030\n",
      "Epoch 144/1000\n"
     ]
    },
    {
     "name": "stdout",
     "output_type": "stream",
     "text": [
      "\r",
      "412416/412416 [==============================] - ETA: 0s - loss: 235.7652 - reconstruction_loss: 98.7413 - KL_loss: 20.8442"
     ]
    },
    {
     "name": "stdout",
     "output_type": "stream",
     "text": [
      "\b\b\b\b\b\b\b\b\b\b\b\b\b\b\b\b\b\b\b\b\b\b\b\b\b\b\b\b\b\b\b\b\b\b\b\b\b\b\b\b\b\b\b\b\b\b\b\b\b\b\b\b\b\b\b\b\b\b\b\b\b\b\b\b\b\b\b\b\b\b\b\b\b\b\b\b\b\b\b\b\b\b\b\b\b\b\b\b\b\b\b\b\b\b\b\b\b\b\b\b\b\b\b\b\b\b\b\b\b\b\b\b\b\b\b\b\b\b\b\b\b\b\b\r",
      "412416/412416 [==============================] - 12s 30us/sample - loss: 235.7652 - reconstruction_loss: 98.7413 - KL_loss: 20.8442 - val_loss: 112.8329 - val_reconstruction_loss: 92.5127 - val_KL_loss: 20.3202 - lr: 0.0030\n",
      "Epoch 145/1000\n"
     ]
    },
    {
     "name": "stdout",
     "output_type": "stream",
     "text": [
      "\r",
      "412416/412416 [==============================] - ETA: 0s - loss: 235.0510 - reconstruction_loss: 98.9190 - KL_loss: 20.7455"
     ]
    },
    {
     "name": "stdout",
     "output_type": "stream",
     "text": [
      "\b\b\b\b\b\b\b\b\b\b\b\b\b\b\b\b\b\b\b\b\b\b\b\b\b\b\b\b\b\b\b\b\b\b\b\b\b\b\b\b\b\b\b\b\b\b\b\b\b\b\b\b\b\b\b\b\b\b\b\b\b\b\b\b\b\b\b\b\b\b\b\b\b\b\b\b\b\b\b\b\b\b\b\b\b\b\b\b\b\b\b\b\b\b\b\b\b\b\b\b\b\b\b\b\b\b\b\b\b\b\b\b\b\b\b\b\b\b\b\b\b\b\b\r",
      "412416/412416 [==============================] - 13s 31us/sample - loss: 235.0510 - reconstruction_loss: 98.9190 - KL_loss: 20.7455 - val_loss: 112.4201 - val_reconstruction_loss: 92.1748 - val_KL_loss: 20.2453 - lr: 0.0030\n",
      "Epoch 146/1000\n"
     ]
    },
    {
     "name": "stdout",
     "output_type": "stream",
     "text": [
      "\r",
      "412416/412416 [==============================] - ETA: 0s - loss: 234.2294 - reconstruction_loss: 98.6105 - KL_loss: 20.6609"
     ]
    },
    {
     "name": "stdout",
     "output_type": "stream",
     "text": [
      "\b\b\b\b\b\b\b\b\b\b\b\b\b\b\b\b\b\b\b\b\b\b\b\b\b\b\b\b\b\b\b\b\b\b\b\b\b\b\b\b\b\b\b\b\b\b\b\b\b\b\b\b\b\b\b\b\b\b\b\b\b\b\b\b\b\b\b\b\b\b\b\b\b\b\b\b\b\b\b\b\b\b\b\b\b\b\b\b\b\b\b\b\b\b\b\b\b\b\b\b\b\b\b\b\b\b\b\b\b\b\b\b\b\b\b\b\b\b\b\b\b\b\b\r",
      "412416/412416 [==============================] - 12s 29us/sample - loss: 234.2294 - reconstruction_loss: 98.6105 - KL_loss: 20.6609 - val_loss: 112.3263 - val_reconstruction_loss: 91.7064 - val_KL_loss: 20.6199 - lr: 0.0030\n",
      "Epoch 147/1000\n"
     ]
    },
    {
     "name": "stdout",
     "output_type": "stream",
     "text": [
      "\r",
      "412416/412416 [==============================] - ETA: 0s - loss: 233.8844 - reconstruction_loss: 98.1346 - KL_loss: 21.0380"
     ]
    },
    {
     "name": "stdout",
     "output_type": "stream",
     "text": [
      "\b\b\b\b\b\b\b\b\b\b\b\b\b\b\b\b\b\b\b\b\b\b\b\b\b\b\b\b\b\b\b\b\b\b\b\b\b\b\b\b\b\b\b\b\b\b\b\b\b\b\b\b\b\b\b\b\b\b\b\b\b\b\b\b\b\b\b\b\b\b\b\b\b\b\b\b\b\b\b\b\b\b\b\b\b\b\b\b\b\b\b\b\b\b\b\b\b\b\b\b\b\b\b\b\b\b\b\b\b\b\b\b\b\b\b\b\b\b\b\b\b\b\b\r",
      "412416/412416 [==============================] - 12s 30us/sample - loss: 233.8844 - reconstruction_loss: 98.1346 - KL_loss: 21.0380 - val_loss: 112.5512 - val_reconstruction_loss: 92.1710 - val_KL_loss: 20.3802 - lr: 0.0030\n",
      "Epoch 148/1000\n"
     ]
    },
    {
     "name": "stdout",
     "output_type": "stream",
     "text": [
      "\r",
      "412416/412416 [==============================] - ETA: 0s - loss: 234.1695 - reconstruction_loss: 98.6125 - KL_loss: 20.7864"
     ]
    },
    {
     "name": "stdout",
     "output_type": "stream",
     "text": [
      "\b\b\b\b\b\b\b\b\b\b\b\b\b\b\b\b\b\b\b\b\b\b\b\b\b\b\b\b\b\b\b\b\b\b\b\b\b\b\b\b\b\b\b\b\b\b\b\b\b\b\b\b\b\b\b\b\b\b\b\b\b\b\b\b\b\b\b\b\b\b\b\b\b\b\b\b\b\b\b\b\b\b\b\b\b\b\b\b\b\b\b\b\b\b\b\b\b\b\b\b\b\b\b\b\b\b\b\b\b\b\b\b\b\b\b\b\b\b\b\b\b\b\b\r",
      "412416/412416 [==============================] - 12s 29us/sample - loss: 234.1695 - reconstruction_loss: 98.6125 - KL_loss: 20.7864 - val_loss: 111.9647 - val_reconstruction_loss: 91.8154 - val_KL_loss: 20.1493 - lr: 0.0030\n",
      "Epoch 149/1000\n"
     ]
    },
    {
     "name": "stdout",
     "output_type": "stream",
     "text": [
      "\r",
      "412416/412416 [==============================] - ETA: 0s - loss: 232.5808 - reconstruction_loss: 98.1930 - KL_loss: 20.5743"
     ]
    },
    {
     "name": "stdout",
     "output_type": "stream",
     "text": [
      "\b\b\b\b\b\b\b\b\b\b\b\b\b\b\b\b\b\b\b\b\b\b\b\b\b\b\b\b\b\b\b\b\b\b\b\b\b\b\b\b\b\b\b\b\b\b\b\b\b\b\b\b\b\b\b\b\b\b\b\b\b\b\b\b\b\b\b\b\b\b\b\b\b\b\b\b\b\b\b\b\b\b\b\b\b\b\b\b\b\b\b\b\b\b\b\b\b\b\b\b\b\b\b\b\b\b\b\b\b\b\b\b\b\b\b\b\b\b\b\b\b\b\b\r",
      "412416/412416 [==============================] - 12s 30us/sample - loss: 232.5808 - reconstruction_loss: 98.1930 - KL_loss: 20.5743 - val_loss: 112.5981 - val_reconstruction_loss: 92.4876 - val_KL_loss: 20.1105 - lr: 0.0030\n",
      "Epoch 150/1000\n"
     ]
    },
    {
     "name": "stdout",
     "output_type": "stream",
     "text": [
      "\r",
      "412416/412416 [==============================] - ETA: 0s - loss: 233.8585 - reconstruction_loss: 98.8726 - KL_loss: 20.5252"
     ]
    },
    {
     "name": "stdout",
     "output_type": "stream",
     "text": [
      "\b\b\b\b\b\b\b\b\b\b\b\b\b\b\b\b\b\b\b\b\b\b\b\b\b\b\b\b\b\b\b\b\b\b\b\b\b\b\b\b\b\b\b\b\b\b\b\b\b\b\b\b\b\b\b\b\b\b\b\b\b\b\b\b\b\b\b\b\b\b\b\b\b\b\b\b\b\b\b\b\b\b\b\b\b\b\b\b\b\b\b\b\b\b\b\b\b\b\b\b\b\b\b\b\b\b\b\b\b\b\b\b\b\b\b\b\b\b\b\b\b\b\b\r",
      "412416/412416 [==============================] - 12s 30us/sample - loss: 233.8585 - reconstruction_loss: 98.8726 - KL_loss: 20.5252 - val_loss: 112.1539 - val_reconstruction_loss: 91.7652 - val_KL_loss: 20.3887 - lr: 0.0030\n",
      "Epoch 151/1000\n"
     ]
    },
    {
     "name": "stdout",
     "output_type": "stream",
     "text": [
      "\r",
      "412416/412416 [==============================] - ETA: 0s - loss: 233.0740 - reconstruction_loss: 98.1063 - KL_loss: 20.8090"
     ]
    },
    {
     "name": "stdout",
     "output_type": "stream",
     "text": [
      "\b\b\b\b\b\b\b\b\b\b\b\b\b\b\b\b\b\b\b\b\b\b\b\b\b\b\b\b\b\b\b\b\b\b\b\b\b\b\b\b\b\b\b\b\b\b\b\b\b\b\b\b\b\b\b\b\b\b\b\b\b\b\b\b\b\b\b\b\b\b\b\b\b\b\b\b\b\b\b\b\b\b\b\b\b\b\b\b\b\b\b\b\b\b\b\b\b\b\b\b\b\b\b\b\b\b\b\b\b\b\b\b\b\b\b\b\b\b\b\b\b\b\b\r",
      "412416/412416 [==============================] - 12s 29us/sample - loss: 233.0740 - reconstruction_loss: 98.1063 - KL_loss: 20.8090 - val_loss: 111.7708 - val_reconstruction_loss: 91.4739 - val_KL_loss: 20.2969 - lr: 0.0030\n",
      "Epoch 152/1000\n"
     ]
    },
    {
     "name": "stdout",
     "output_type": "stream",
     "text": [
      "\r",
      "412416/412416 [==============================] - ETA: 0s - loss: 231.8104 - reconstruction_loss: 97.8514 - KL_loss: 20.7108"
     ]
    },
    {
     "name": "stdout",
     "output_type": "stream",
     "text": [
      "\b\b\b\b\b\b\b\b\b\b\b\b\b\b\b\b\b\b\b\b\b\b\b\b\b\b\b\b\b\b\b\b\b\b\b\b\b\b\b\b\b\b\b\b\b\b\b\b\b\b\b\b\b\b\b\b\b\b\b\b\b\b\b\b\b\b\b\b\b\b\b\b\b\b\b\b\b\b\b\b\b\b\b\b\b\b\b\b\b\b\b\b\b\b\b\b\b\b\b\b\b\b\b\b\b\b\b\b\b\b\b\b\b\b\b\b\b\b\b\b\b\b\b\r",
      "412416/412416 [==============================] - 12s 30us/sample - loss: 231.8104 - reconstruction_loss: 97.8514 - KL_loss: 20.7108 - val_loss: 112.0648 - val_reconstruction_loss: 91.8041 - val_KL_loss: 20.2606 - lr: 0.0030\n",
      "Epoch 153/1000\n"
     ]
    },
    {
     "name": "stdout",
     "output_type": "stream",
     "text": [
      "\r",
      "412416/412416 [==============================] - ETA: 0s - loss: 232.5240 - reconstruction_loss: 98.1408 - KL_loss: 20.6855"
     ]
    },
    {
     "name": "stdout",
     "output_type": "stream",
     "text": [
      "\b\b\b\b\b\b\b\b\b\b\b\b\b\b\b\b\b\b\b\b\b\b\b\b\b\b\b\b\b\b\b\b\b\b\b\b\b\b\b\b\b\b\b\b\b\b\b\b\b\b\b\b\b\b\b\b\b\b\b\b\b\b\b\b\b\b\b\b\b\b\b\b\b\b\b\b\b\b\b\b\b\b\b\b\b\b\b\b\b\b\b\b\b\b\b\b\b\b\b\b\b\b\b\b\b\b\b\b\b\b\b\b\b\b\b\b\b\b\b\b\b\b\b\r",
      "412416/412416 [==============================] - 12s 30us/sample - loss: 232.5240 - reconstruction_loss: 98.1408 - KL_loss: 20.6855 - val_loss: 111.4953 - val_reconstruction_loss: 91.5564 - val_KL_loss: 19.9390 - lr: 0.0030\n",
      "Epoch 154/1000\n"
     ]
    },
    {
     "name": "stdout",
     "output_type": "stream",
     "text": [
      "\r",
      "412416/412416 [==============================] - ETA: 0s - loss: 231.2432 - reconstruction_loss: 97.9329 - KL_loss: 20.3691"
     ]
    },
    {
     "name": "stdout",
     "output_type": "stream",
     "text": [
      "\b\b\b\b\b\b\b\b\b\b\b\b\b\b\b\b\b\b\b\b\b\b\b\b\b\b\b\b\b\b\b\b\b\b\b\b\b\b\b\b\b\b\b\b\b\b\b\b\b\b\b\b\b\b\b\b\b\b\b\b\b\b\b\b\b\b\b\b\b\b\b\b\b\b\b\b\b\b\b\b\b\b\b\b\b\b\b\b\b\b\b\b\b\b\b\b\b\b\b\b\b\b\b\b\b\b\b\b\b\b\b\b\b\b\b\b\b\b\b\b\b\b\b\r",
      "412416/412416 [==============================] - 12s 30us/sample - loss: 231.2432 - reconstruction_loss: 97.9329 - KL_loss: 20.3691 - val_loss: 111.9416 - val_reconstruction_loss: 91.6500 - val_KL_loss: 20.2916 - lr: 0.0030\n",
      "Epoch 155/1000\n"
     ]
    },
    {
     "name": "stdout",
     "output_type": "stream",
     "text": [
      "\r",
      "412416/412416 [==============================] - ETA: 0s - loss: 231.4502 - reconstruction_loss: 97.9776 - KL_loss: 20.7096"
     ]
    },
    {
     "name": "stdout",
     "output_type": "stream",
     "text": [
      "\b\b\b\b\b\b\b\b\b\b\b\b\b\b\b\b\b\b\b\b\b\b\b\b\b\b\b\b\b\b\b\b\b\b\b\b\b\b\b\b\b\b\b\b\b\b\b\b\b\b\b\b\b\b\b\b\b\b\b\b\b\b\b\b\b\b\b\b\b\b\b\b\b\b\b\b\b\b\b\b\b\b\b\b\b\b\b\b\b\b\b\b\b\b\b\b\b\b\b\b\b\b\b\b\b\b\b\b\b\b\b\b\b\b\b\b\b\b\b\b\b\b\b\r",
      "412416/412416 [==============================] - 12s 30us/sample - loss: 231.4502 - reconstruction_loss: 97.9776 - KL_loss: 20.7096 - val_loss: 111.7943 - val_reconstruction_loss: 91.3268 - val_KL_loss: 20.4675 - lr: 0.0030\n",
      "Epoch 156/1000\n"
     ]
    },
    {
     "name": "stdout",
     "output_type": "stream",
     "text": [
      "\r",
      "412416/412416 [==============================] - ETA: 0s - loss: 231.2913 - reconstruction_loss: 97.6865 - KL_loss: 20.8731"
     ]
    },
    {
     "name": "stdout",
     "output_type": "stream",
     "text": [
      "\b\b\b\b\b\b\b\b\b\b\b\b\b\b\b\b\b\b\b\b\b\b\b\b\b\b\b\b\b\b\b\b\b\b\b\b\b\b\b\b\b\b\b\b\b\b\b\b\b\b\b\b\b\b\b\b\b\b\b\b\b\b\b\b\b\b\b\b\b\b\b\b\b\b\b\b\b\b\b\b\b\b\b\b\b\b\b\b\b\b\b\b\b\b\b\b\b\b\b\b\b\b\b\b\b\b\b\b\b\b\b\b\b\b\b\b\b\b\b\b\b\b\b\r",
      "412416/412416 [==============================] - 20s 50us/sample - loss: 231.2913 - reconstruction_loss: 97.6865 - KL_loss: 20.8731 - val_loss: 111.5936 - val_reconstruction_loss: 91.4026 - val_KL_loss: 20.1910 - lr: 0.0030\n",
      "Epoch 157/1000\n"
     ]
    },
    {
     "name": "stdout",
     "output_type": "stream",
     "text": [
      "\r",
      "412416/412416 [==============================] - ETA: 0s - loss: 230.5508 - reconstruction_loss: 97.6826 - KL_loss: 20.6137"
     ]
    },
    {
     "name": "stdout",
     "output_type": "stream",
     "text": [
      "\b\b\b\b\b\b\b\b\b\b\b\b\b\b\b\b\b\b\b\b\b\b\b\b\b\b\b\b\b\b\b\b\b\b\b\b\b\b\b\b\b\b\b\b\b\b\b\b\b\b\b\b\b\b\b\b\b\b\b\b\b\b\b\b\b\b\b\b\b\b\b\b\b\b\b\b\b\b\b\b\b\b\b\b\b\b\b\b\b\b\b\b\b\b\b\b\b\b\b\b\b\b\b\b\b\b\b\b\b\b\b\b\b\b\b\b\b\b\b\b\b\b\b\r",
      "412416/412416 [==============================] - 14s 33us/sample - loss: 230.5508 - reconstruction_loss: 97.6826 - KL_loss: 20.6137 - val_loss: 111.2214 - val_reconstruction_loss: 91.2859 - val_KL_loss: 19.9355 - lr: 0.0030\n",
      "Epoch 158/1000\n"
     ]
    },
    {
     "name": "stdout",
     "output_type": "stream",
     "text": [
      "\r",
      "412416/412416 [==============================] - ETA: 0s - loss: 230.1667 - reconstruction_loss: 97.6386 - KL_loss: 20.3577"
     ]
    },
    {
     "name": "stdout",
     "output_type": "stream",
     "text": [
      "\b\b\b\b\b\b\b\b\b\b\b\b\b\b\b\b\b\b\b\b\b\b\b\b\b\b\b\b\b\b\b\b\b\b\b\b\b\b\b\b\b\b\b\b\b\b\b\b\b\b\b\b\b\b\b\b\b\b\b\b\b\b\b\b\b\b\b\b\b\b\b\b\b\b\b\b\b\b\b\b\b\b\b\b\b\b\b\b\b\b\b\b\b\b\b\b\b\b\b\b\b\b\b\b\b\b\b\b\b\b\b\b\b\b\b\b\b\b\b\b\b\b\b\r",
      "412416/412416 [==============================] - 12s 30us/sample - loss: 230.1667 - reconstruction_loss: 97.6386 - KL_loss: 20.3577 - val_loss: 111.1504 - val_reconstruction_loss: 90.9595 - val_KL_loss: 20.1908 - lr: 0.0030\n",
      "Epoch 159/1000\n"
     ]
    },
    {
     "name": "stdout",
     "output_type": "stream",
     "text": [
      "\r",
      "412416/412416 [==============================] - ETA: 0s - loss: 229.5551 - reconstruction_loss: 97.2776 - KL_loss: 20.6143"
     ]
    },
    {
     "name": "stdout",
     "output_type": "stream",
     "text": [
      "\b\b\b\b\b\b\b\b\b\b\b\b\b\b\b\b\b\b\b\b\b\b\b\b\b\b\b\b\b\b\b\b\b\b\b\b\b\b\b\b\b\b\b\b\b\b\b\b\b\b\b\b\b\b\b\b\b\b\b\b\b\b\b\b\b\b\b\b\b\b\b\b\b\b\b\b\b\b\b\b\b\b\b\b\b\b\b\b\b\b\b\b\b\b\b\b\b\b\b\b\b\b\b\b\b\b\b\b\b\b\b\b\b\b\b\b\b\b\b\b\b\b\b\r",
      "412416/412416 [==============================] - 12s 30us/sample - loss: 229.5551 - reconstruction_loss: 97.2776 - KL_loss: 20.6143 - val_loss: 111.7385 - val_reconstruction_loss: 91.5454 - val_KL_loss: 20.1932 - lr: 0.0030\n",
      "Epoch 160/1000\n"
     ]
    },
    {
     "name": "stdout",
     "output_type": "stream",
     "text": [
      "\r",
      "412416/412416 [==============================] - ETA: 0s - loss: 230.0932 - reconstruction_loss: 97.8459 - KL_loss: 20.5974"
     ]
    },
    {
     "name": "stdout",
     "output_type": "stream",
     "text": [
      "\b\b\b\b\b\b\b\b\b\b\b\b\b\b\b\b\b\b\b\b\b\b\b\b\b\b\b\b\b\b\b\b\b\b\b\b\b\b\b\b\b\b\b\b\b\b\b\b\b\b\b\b\b\b\b\b\b\b\b\b\b\b\b\b\b\b\b\b\b\b\b\b\b\b\b\b\b\b\b\b\b\b\b\b\b\b\b\b\b\b\b\b\b\b\b\b\b\b\b\b\b\b\b\b\b\b\b\b\b\b\b\b\b\b\b\b\b\b\b\b\b\b\b\r",
      "412416/412416 [==============================] - 13s 33us/sample - loss: 230.0932 - reconstruction_loss: 97.8459 - KL_loss: 20.5974 - val_loss: 110.9914 - val_reconstruction_loss: 90.6888 - val_KL_loss: 20.3026 - lr: 0.0030\n",
      "Epoch 161/1000\n"
     ]
    },
    {
     "name": "stdout",
     "output_type": "stream",
     "text": [
      "\r",
      "412416/412416 [==============================] - ETA: 0s - loss: 228.9255 - reconstruction_loss: 96.9743 - KL_loss: 20.7216"
     ]
    },
    {
     "name": "stdout",
     "output_type": "stream",
     "text": [
      "\b\b\b\b\b\b\b\b\b\b\b\b\b\b\b\b\b\b\b\b\b\b\b\b\b\b\b\b\b\b\b\b\b\b\b\b\b\b\b\b\b\b\b\b\b\b\b\b\b\b\b\b\b\b\b\b\b\b\b\b\b\b\b\b\b\b\b\b\b\b\b\b\b\b\b\b\b\b\b\b\b\b\b\b\b\b\b\b\b\b\b\b\b\b\b\b\b\b\b\b\b\b\b\b\b\b\b\b\b\b\b\b\b\b\b\b\b\b\b\b\b\b\b\r",
      "412416/412416 [==============================] - 20s 48us/sample - loss: 228.9255 - reconstruction_loss: 96.9743 - KL_loss: 20.7216 - val_loss: 111.4672 - val_reconstruction_loss: 91.4357 - val_KL_loss: 20.0315 - lr: 0.0030\n",
      "Epoch 162/1000\n"
     ]
    },
    {
     "name": "stdout",
     "output_type": "stream",
     "text": [
      "\r",
      "412416/412416 [==============================] - ETA: 0s - loss: 229.7487 - reconstruction_loss: 97.6943 - KL_loss: 20.4542"
     ]
    },
    {
     "name": "stdout",
     "output_type": "stream",
     "text": [
      "\b\b\b\b\b\b\b\b\b\b\b\b\b\b\b\b\b\b\b\b\b\b\b\b\b\b\b\b\b\b\b\b\b\b\b\b\b\b\b\b\b\b\b\b\b\b\b\b\b\b\b\b\b\b\b\b\b\b\b\b\b\b\b\b\b\b\b\b\b\b\b\b\b\b\b\b\b\b\b\b\b\b\b\b\b\b\b\b\b\b\b\b\b\b\b\b\b\b\b\b\b\b\b\b\b\b\b\b\b\b\b\b\b\b\b\b\b\b\b\b\b\b\b\r",
      "412416/412416 [==============================] - 13s 30us/sample - loss: 229.7487 - reconstruction_loss: 97.6943 - KL_loss: 20.4542 - val_loss: 110.9892 - val_reconstruction_loss: 90.9162 - val_KL_loss: 20.0730 - lr: 0.0030\n",
      "Epoch 163/1000\n"
     ]
    },
    {
     "name": "stdout",
     "output_type": "stream",
     "text": [
      "\r",
      "412416/412416 [==============================] - ETA: 0s - loss: 228.5678 - reconstruction_loss: 97.2078 - KL_loss: 20.5085"
     ]
    },
    {
     "name": "stdout",
     "output_type": "stream",
     "text": [
      "\b\b\b\b\b\b\b\b\b\b\b\b\b\b\b\b\b\b\b\b\b\b\b\b\b\b\b\b\b\b\b\b\b\b\b\b\b\b\b\b\b\b\b\b\b\b\b\b\b\b\b\b\b\b\b\b\b\b\b\b\b\b\b\b\b\b\b\b\b\b\b\b\b\b\b\b\b\b\b\b\b\b\b\b\b\b\b\b\b\b\b\b\b\b\b\b\b\b\b\b\b\b\b\b\b\b\b\b\b\b\b\b\b\b\b\b\b\b\b\b\b\b\b\r",
      "412416/412416 [==============================] - 12s 30us/sample - loss: 228.5678 - reconstruction_loss: 97.2078 - KL_loss: 20.5085 - val_loss: 110.9704 - val_reconstruction_loss: 90.7227 - val_KL_loss: 20.2477 - lr: 0.0030\n",
      "Epoch 164/1000\n"
     ]
    },
    {
     "name": "stdout",
     "output_type": "stream",
     "text": [
      "\r",
      "412416/412416 [==============================] - ETA: 0s - loss: 228.4108 - reconstruction_loss: 96.9837 - KL_loss: 20.6630"
     ]
    },
    {
     "name": "stdout",
     "output_type": "stream",
     "text": [
      "\b\b\b\b\b\b\b\b\b\b\b\b\b\b\b\b\b\b\b\b\b\b\b\b\b\b\b\b\b\b\b\b\b\b\b\b\b\b\b\b\b\b\b\b\b\b\b\b\b\b\b\b\b\b\b\b\b\b\b\b\b\b\b\b\b\b\b\b\b\b\b\b\b\b\b\b\b\b\b\b\b\b\b\b\b\b\b\b\b\b\b\b\b\b\b\b\b\b\b\b\b\b\b\b\b\b\b\b\b\b\b\b\b\b\b\b\b\b\b\b\b\b\b\r",
      "412416/412416 [==============================] - 18s 45us/sample - loss: 228.4108 - reconstruction_loss: 96.9837 - KL_loss: 20.6630 - val_loss: 110.9735 - val_reconstruction_loss: 90.7315 - val_KL_loss: 20.2420 - lr: 0.0030\n",
      "Epoch 165/1000\n"
     ]
    },
    {
     "name": "stdout",
     "output_type": "stream",
     "text": [
      "\r",
      "412416/412416 [==============================] - ETA: 0s - loss: 228.2985 - reconstruction_loss: 96.9919 - KL_loss: 20.6518"
     ]
    },
    {
     "name": "stdout",
     "output_type": "stream",
     "text": [
      "\b\b\b\b\b\b\b\b\b\b\b\b\b\b\b\b\b\b\b\b\b\b\b\b\b\b\b\b\b\b\b\b\b\b\b\b\b\b\b\b\b\b\b\b\b\b\b\b\b\b\b\b\b\b\b\b\b\b\b\b\b\b\b\b\b\b\b\b\b\b\b\b\b\b\b\b\b\b\b\b\b\b\b\b\b\b\b\b\b\b\b\b\b\b\b\b\b\b\b\b\b\b\b\b\b\b\b\b\b\b\b\b\b\b\b\b\b\b\b\b\b\b\b\r",
      "412416/412416 [==============================] - 23s 55us/sample - loss: 228.2985 - reconstruction_loss: 96.9919 - KL_loss: 20.6518 - val_loss: 110.6046 - val_reconstruction_loss: 90.8942 - val_KL_loss: 19.7105 - lr: 0.0030\n",
      "Epoch 166/1000\n"
     ]
    },
    {
     "name": "stdout",
     "output_type": "stream",
     "text": [
      "\r",
      "412416/412416 [==============================] - ETA: 0s - loss: 227.5662 - reconstruction_loss: 97.1769 - KL_loss: 20.1247"
     ]
    },
    {
     "name": "stdout",
     "output_type": "stream",
     "text": [
      "\b\b\b\b\b\b\b\b\b\b\b\b\b\b\b\b\b\b\b\b\b\b\b\b\b\b\b\b\b\b\b\b\b\b\b\b\b\b\b\b\b\b\b\b\b\b\b\b\b\b\b\b\b\b\b\b\b\b\b\b\b\b\b\b\b\b\b\b\b\b\b\b\b\b\b\b\b\b\b\b\b\b\b\b\b\b\b\b\b\b\b\b\b\b\b\b\b\b\b\b\b\b\b\b\b\b\b\b\b\b\b\b\b\b\b\b\b\b\b\b\b\b\b\r",
      "412416/412416 [==============================] - 12s 30us/sample - loss: 227.5662 - reconstruction_loss: 97.1769 - KL_loss: 20.1247 - val_loss: 111.2924 - val_reconstruction_loss: 91.4466 - val_KL_loss: 19.8458 - lr: 0.0030\n",
      "Epoch 167/1000\n"
     ]
    },
    {
     "name": "stdout",
     "output_type": "stream",
     "text": [
      "\r",
      "412416/412416 [==============================] - ETA: 0s - loss: 227.9771 - reconstruction_loss: 97.6497 - KL_loss: 20.2831"
     ]
    },
    {
     "name": "stdout",
     "output_type": "stream",
     "text": [
      "\b\b\b\b\b\b\b\b\b\b\b\b\b\b\b\b\b\b\b\b\b\b\b\b\b\b\b\b\b\b\b\b\b\b\b\b\b\b\b\b\b\b\b\b\b\b\b\b\b\b\b\b\b\b\b\b\b\b\b\b\b\b\b\b\b\b\b\b\b\b\b\b\b\b\b\b\b\b\b\b\b\b\b\b\b\b\b\b\b\b\b\b\b\b\b\b\b\b\b\b\b\b\b\b\b\b\b\b\b\b\b\b\b\b\b\b\b\b\b\b\b\b\b\r",
      "412416/412416 [==============================] - 13s 32us/sample - loss: 227.9771 - reconstruction_loss: 97.6497 - KL_loss: 20.2831 - val_loss: 110.6406 - val_reconstruction_loss: 90.6100 - val_KL_loss: 20.0306 - lr: 0.0030\n",
      "Epoch 168/1000\n"
     ]
    },
    {
     "name": "stdout",
     "output_type": "stream",
     "text": [
      "\r",
      "412416/412416 [==============================] - ETA: 0s - loss: 226.8086 - reconstruction_loss: 96.8352 - KL_loss: 20.4551"
     ]
    },
    {
     "name": "stdout",
     "output_type": "stream",
     "text": [
      "\b\b\b\b\b\b\b\b\b\b\b\b\b\b\b\b\b\b\b\b\b\b\b\b\b\b\b\b\b\b\b\b\b\b\b\b\b\b\b\b\b\b\b\b\b\b\b\b\b\b\b\b\b\b\b\b\b\b\b\b\b\b\b\b\b\b\b\b\b\b\b\b\b\b\b\b\b\b\b\b\b\b\b\b\b\b\b\b\b\b\b\b\b\b\b\b\b\b\b\b\b\b\b\b\b\b\b\b\b\b\b\b\b\b\b\b\b\b\b\b\b\b\b\r",
      "412416/412416 [==============================] - 12s 29us/sample - loss: 226.8086 - reconstruction_loss: 96.8352 - KL_loss: 20.4551 - val_loss: 110.9227 - val_reconstruction_loss: 90.6213 - val_KL_loss: 20.3014 - lr: 0.0030\n",
      "Epoch 169/1000\n"
     ]
    },
    {
     "name": "stdout",
     "output_type": "stream",
     "text": [
      "\r",
      "412416/412416 [==============================] - ETA: 0s - loss: 227.2726 - reconstruction_loss: 96.8567 - KL_loss: 20.7139"
     ]
    },
    {
     "name": "stdout",
     "output_type": "stream",
     "text": [
      "\b\b\b\b\b\b\b\b\b\b\b\b\b\b\b\b\b\b\b\b\b\b\b\b\b\b\b\b\b\b\b\b\b\b\b\b\b\b\b\b\b\b\b\b\b\b\b\b\b\b\b\b\b\b\b\b\b\b\b\b\b\b\b\b\b\b\b\b\b\b\b\b\b\b\b\b\b\b\b\b\b\b\b\b\b\b\b\b\b\b\b\b\b\b\b\b\b\b\b\b\b\b\b\b\b\b\b\b\b\b\b\b\b\b\b\b\b\b\b\b\b\b\b\r",
      "412416/412416 [==============================] - 12s 30us/sample - loss: 227.2726 - reconstruction_loss: 96.8567 - KL_loss: 20.7139 - val_loss: 110.7883 - val_reconstruction_loss: 90.5677 - val_KL_loss: 20.2206 - lr: 0.0030\n",
      "Epoch 170/1000\n"
     ]
    },
    {
     "name": "stdout",
     "output_type": "stream",
     "text": [
      "\r",
      "412416/412416 [==============================] - ETA: 0s - loss: 226.5248 - reconstruction_loss: 96.7885 - KL_loss: 20.6229"
     ]
    },
    {
     "name": "stdout",
     "output_type": "stream",
     "text": [
      "\b\b\b\b\b\b\b\b\b\b\b\b\b\b\b\b\b\b\b\b\b\b\b\b\b\b\b\b\b\b\b\b\b\b\b\b\b\b\b\b\b\b\b\b\b\b\b\b\b\b\b\b\b\b\b\b\b\b\b\b\b\b\b\b\b\b\b\b\b\b\b\b\b\b\b\b\b\b\b\b\b\b\b\b\b\b\b\b\b\b\b\b\b\b\b\b\b\b\b\b\b\b\b\b\b\b\b\b\b\b\b\b\b\b\b\b\b\b\b\b\b\b\b\r",
      "412416/412416 [==============================] - 12s 29us/sample - loss: 226.5248 - reconstruction_loss: 96.7885 - KL_loss: 20.6229 - val_loss: 110.6398 - val_reconstruction_loss: 90.8631 - val_KL_loss: 19.7767 - lr: 0.0030\n",
      "Epoch 171/1000\n"
     ]
    },
    {
     "name": "stdout",
     "output_type": "stream",
     "text": [
      "\r",
      "412416/412416 [==============================] - ETA: 0s - loss: 226.5902 - reconstruction_loss: 97.0690 - KL_loss: 20.2019"
     ]
    },
    {
     "name": "stdout",
     "output_type": "stream",
     "text": [
      "\b\b\b\b\b\b\b\b\b\b\b\b\b\b\b\b\b\b\b\b\b\b\b\b\b\b\b\b\b\b\b\b\b\b\b\b\b\b\b\b\b\b\b\b\b\b\b\b\b\b\b\b\b\b\b\b\b\b\b\b\b\b\b\b\b\b\b\b\b\b\b\b\b\b\b\b\b\b\b\b\b\b\b\b\b\b\b\b\b\b\b\b\b\b\b\b\b\b\b\b\b\b\b\b\b\b\b\b\b\b\b\b\b\b\b\b\b\b\b\b\b\b\b\r",
      "412416/412416 [==============================] - 12s 29us/sample - loss: 226.5902 - reconstruction_loss: 97.0690 - KL_loss: 20.2019 - val_loss: 110.5534 - val_reconstruction_loss: 91.0142 - val_KL_loss: 19.5392 - lr: 0.0030\n",
      "Epoch 172/1000\n"
     ]
    },
    {
     "name": "stdout",
     "output_type": "stream",
     "text": [
      "\r",
      "412416/412416 [==============================] - ETA: 0s - loss: 226.2002 - reconstruction_loss: 97.2255 - KL_loss: 19.9712"
     ]
    },
    {
     "name": "stdout",
     "output_type": "stream",
     "text": [
      "\b\b\b\b\b\b\b\b\b\b\b\b\b\b\b\b\b\b\b\b\b\b\b\b\b\b\b\b\b\b\b\b\b\b\b\b\b\b\b\b\b\b\b\b\b\b\b\b\b\b\b\b\b\b\b\b\b\b\b\b\b\b\b\b\b\b\b\b\b\b\b\b\b\b\b\b\b\b\b\b\b\b\b\b\b\b\b\b\b\b\b\b\b\b\b\b\b\b\b\b\b\b\b\b\b\b\b\b\b\b\b\b\b\b\b\b\b\b\b\b\b\b\b\r",
      "412416/412416 [==============================] - 12s 29us/sample - loss: 226.2002 - reconstruction_loss: 97.2255 - KL_loss: 19.9712 - val_loss: 110.2097 - val_reconstruction_loss: 90.3025 - val_KL_loss: 19.9073 - lr: 0.0030\n",
      "Epoch 173/1000\n"
     ]
    },
    {
     "name": "stdout",
     "output_type": "stream",
     "text": [
      "\r",
      "412416/412416 [==============================] - ETA: 0s - loss: 225.3722 - reconstruction_loss: 96.5417 - KL_loss: 20.3223"
     ]
    },
    {
     "name": "stdout",
     "output_type": "stream",
     "text": [
      "\b\b\b\b\b\b\b\b\b\b\b\b\b\b\b\b\b\b\b\b\b\b\b\b\b\b\b\b\b\b\b\b\b\b\b\b\b\b\b\b\b\b\b\b\b\b\b\b\b\b\b\b\b\b\b\b\b\b\b\b\b\b\b\b\b\b\b\b\b\b\b\b\b\b\b\b\b\b\b\b\b\b\b\b\b\b\b\b\b\b\b\b\b\b\b\b\b\b\b\b\b\b\b\b\b\b\b\b\b\b\b\b\b\b\b\b\b\b\b\b\b\b\b\r",
      "412416/412416 [==============================] - 12s 29us/sample - loss: 225.3722 - reconstruction_loss: 96.5417 - KL_loss: 20.3223 - val_loss: 110.2838 - val_reconstruction_loss: 90.0001 - val_KL_loss: 20.2837 - lr: 0.0030\n",
      "Epoch 174/1000\n"
     ]
    },
    {
     "name": "stdout",
     "output_type": "stream",
     "text": [
      "\r",
      "412416/412416 [==============================] - ETA: 0s - loss: 225.3593 - reconstruction_loss: 96.2097 - KL_loss: 20.6953"
     ]
    },
    {
     "name": "stdout",
     "output_type": "stream",
     "text": [
      "\b\b\b\b\b\b\b\b\b\b\b\b\b\b\b\b\b\b\b\b\b\b\b\b\b\b\b\b\b\b\b\b\b\b\b\b\b\b\b\b\b\b\b\b\b\b\b\b\b\b\b\b\b\b\b\b\b\b\b\b\b\b\b\b\b\b\b\b\b\b\b\b\b\b\b\b\b\b\b\b\b\b\b\b\b\b\b\b\b\b\b\b\b\b\b\b\b\b\b\b\b\b\b\b\b\b\b\b\b\b\b\b\b\b\b\b\b\b\b\b\b\b\b\r",
      "412416/412416 [==============================] - 12s 29us/sample - loss: 225.3593 - reconstruction_loss: 96.2097 - KL_loss: 20.6953 - val_loss: 110.5091 - val_reconstruction_loss: 90.2990 - val_KL_loss: 20.2102 - lr: 0.0030\n",
      "Epoch 175/1000\n"
     ]
    },
    {
     "name": "stdout",
     "output_type": "stream",
     "text": [
      "\r",
      "412416/412416 [==============================] - ETA: 0s - loss: 225.2132 - reconstruction_loss: 96.4629 - KL_loss: 20.6243"
     ]
    },
    {
     "name": "stdout",
     "output_type": "stream",
     "text": [
      "\b\b\b\b\b\b\b\b\b\b\b\b\b\b\b\b\b\b\b\b\b\b\b\b\b\b\b\b\b\b\b\b\b\b\b\b\b\b\b\b\b\b\b\b\b\b\b\b\b\b\b\b\b\b\b\b\b\b\b\b\b\b\b\b\b\b\b\b\b\b\b\b\b\b\b\b\b\b\b\b\b\b\b\b\b\b\b\b\b\b\b\b\b\b\b\b\b\b\b\b\b\b\b\b\b\b\b\b\b\b\b\b\b\b\b\b\b\b\b\b\b\b\b\r",
      "412416/412416 [==============================] - 12s 29us/sample - loss: 225.2132 - reconstruction_loss: 96.4629 - KL_loss: 20.6243 - val_loss: 110.0860 - val_reconstruction_loss: 90.4122 - val_KL_loss: 19.6738 - lr: 0.0030\n",
      "Epoch 176/1000\n"
     ]
    },
    {
     "name": "stdout",
     "output_type": "stream",
     "text": [
      "\r",
      "412416/412416 [==============================] - ETA: 0s - loss: 224.3440 - reconstruction_loss: 96.5805 - KL_loss: 20.1000"
     ]
    },
    {
     "name": "stdout",
     "output_type": "stream",
     "text": [
      "\b\b\b\b\b\b\b\b\b\b\b\b\b\b\b\b\b\b\b\b\b\b\b\b\b\b\b\b\b\b\b\b\b\b\b\b\b\b\b\b\b\b\b\b\b\b\b\b\b\b\b\b\b\b\b\b\b\b\b\b\b\b\b\b\b\b\b\b\b\b\b\b\b\b\b\b\b\b\b\b\b\b\b\b\b\b\b\b\b\b\b\b\b\b\b\b\b\b\b\b\b\b\b\b\b\b\b\b\b\b\b\b\b\b\b\b\b\b\b\b\b\b\b\r",
      "412416/412416 [==============================] - 15s 36us/sample - loss: 224.3440 - reconstruction_loss: 96.5805 - KL_loss: 20.1000 - val_loss: 110.2210 - val_reconstruction_loss: 90.4846 - val_KL_loss: 19.7365 - lr: 0.0030\n",
      "Epoch 177/1000\n"
     ]
    },
    {
     "name": "stdout",
     "output_type": "stream",
     "text": [
      "\r",
      "412416/412416 [==============================] - ETA: 0s - loss: 224.5631 - reconstruction_loss: 96.6689 - KL_loss: 20.1638"
     ]
    },
    {
     "name": "stdout",
     "output_type": "stream",
     "text": [
      "\b\b\b\b\b\b\b\b\b\b\b\b\b\b\b\b\b\b\b\b\b\b\b\b\b\b\b\b\b\b\b\b\b\b\b\b\b\b\b\b\b\b\b\b\b\b\b\b\b\b\b\b\b\b\b\b\b\b\b\b\b\b\b\b\b\b\b\b\b\b\b\b\b\b\b\b\b\b\b\b\b\b\b\b\b\b\b\b\b\b\b\b\b\b\b\b\b\b\b\b\b\b\b\b\b\b\b\b\b\b\b\b\b\b\b\b\b\b\b\b\b\b\b\r",
      "412416/412416 [==============================] - 12s 29us/sample - loss: 224.5631 - reconstruction_loss: 96.6689 - KL_loss: 20.1638 - val_loss: 110.0357 - val_reconstruction_loss: 90.0720 - val_KL_loss: 19.9637 - lr: 0.0030\n",
      "Epoch 178/1000\n"
     ]
    },
    {
     "name": "stdout",
     "output_type": "stream",
     "text": [
      "\r",
      "412416/412416 [==============================] - ETA: 0s - loss: 223.8583 - reconstruction_loss: 96.2341 - KL_loss: 20.3843"
     ]
    },
    {
     "name": "stdout",
     "output_type": "stream",
     "text": [
      "\b\b\b\b\b\b\b\b\b\b\b\b\b\b\b\b\b\b\b\b\b\b\b\b\b\b\b\b\b\b\b\b\b\b\b\b\b\b\b\b\b\b\b\b\b\b\b\b\b\b\b\b\b\b\b\b\b\b\b\b\b\b\b\b\b\b\b\b\b\b\b\b\b\b\b\b\b\b\b\b\b\b\b\b\b\b\b\b\b\b\b\b\b\b\b\b\b\b\b\b\b\b\b\b\b\b\b\b\b\b\b\b\b\b\b\b\b\b\b\b\b\b\b\r",
      "412416/412416 [==============================] - 12s 30us/sample - loss: 223.8583 - reconstruction_loss: 96.2341 - KL_loss: 20.3843 - val_loss: 110.1487 - val_reconstruction_loss: 90.0098 - val_KL_loss: 20.1389 - lr: 0.0030\n",
      "Epoch 179/1000\n"
     ]
    },
    {
     "name": "stdout",
     "output_type": "stream",
     "text": [
      "\r",
      "412416/412416 [==============================] - ETA: 0s - loss: 224.4760 - reconstruction_loss: 96.1813 - KL_loss: 20.5657"
     ]
    },
    {
     "name": "stdout",
     "output_type": "stream",
     "text": [
      "\b\b\b\b\b\b\b\b\b\b\b\b\b\b\b\b\b\b\b\b\b\b\b\b\b\b\b\b\b\b\b\b\b\b\b\b\b\b\b\b\b\b\b\b\b\b\b\b\b\b\b\b\b\b\b\b\b\b\b\b\b\b\b\b\b\b\b\b\b\b\b\b\b\b\b\b\b\b\b\b\b\b\b\b\b\b\b\b\b\b\b\b\b\b\b\b\b\b\b\b\b\b\b\b\b\b\b\b\b\b\b\b\b\b\b\b\b\b\b\b\b\b\b\r",
      "412416/412416 [==============================] - 12s 29us/sample - loss: 224.4760 - reconstruction_loss: 96.1813 - KL_loss: 20.5657 - val_loss: 109.8257 - val_reconstruction_loss: 89.8107 - val_KL_loss: 20.0150 - lr: 0.0030\n",
      "Epoch 180/1000\n"
     ]
    },
    {
     "name": "stdout",
     "output_type": "stream",
     "text": [
      "\r",
      "412416/412416 [==============================] - ETA: 0s - loss: 222.9456 - reconstruction_loss: 95.9798 - KL_loss: 20.4285"
     ]
    },
    {
     "name": "stdout",
     "output_type": "stream",
     "text": [
      "\b\b\b\b\b\b\b\b\b\b\b\b\b\b\b\b\b\b\b\b\b\b\b\b\b\b\b\b\b\b\b\b\b\b\b\b\b\b\b\b\b\b\b\b\b\b\b\b\b\b\b\b\b\b\b\b\b\b\b\b\b\b\b\b\b\b\b\b\b\b\b\b\b\b\b\b\b\b\b\b\b\b\b\b\b\b\b\b\b\b\b\b\b\b\b\b\b\b\b\b\b\b\b\b\b\b\b\b\b\b\b\b\b\b\b\b\b\b\b\b\b\b\b\r",
      "412416/412416 [==============================] - 12s 29us/sample - loss: 222.9456 - reconstruction_loss: 95.9798 - KL_loss: 20.4285 - val_loss: 110.5088 - val_reconstruction_loss: 90.4983 - val_KL_loss: 20.0105 - lr: 0.0030\n",
      "Epoch 181/1000\n"
     ]
    },
    {
     "name": "stdout",
     "output_type": "stream",
     "text": [
      "\r",
      "412416/412416 [==============================] - ETA: 0s - loss: 224.4782 - reconstruction_loss: 96.6205 - KL_loss: 20.4518"
     ]
    },
    {
     "name": "stdout",
     "output_type": "stream",
     "text": [
      "\b\b\b\b\b\b\b\b\b\b\b\b\b\b\b\b\b\b\b\b\b\b\b\b\b\b\b\b\b\b\b\b\b\b\b\b\b\b\b\b\b\b\b\b\b\b\b\b\b\b\b\b\b\b\b\b\b\b\b\b\b\b\b\b\b\b\b\b\b\b\b\b\b\b\b\b\b\b\b\b\b\b\b\b\b\b\b\b\b\b\b\b\b\b\b\b\b\b\b\b\b\b\b\b\b\b\b\b\b\b\b\b\b\b\b\b\b\b\b\b\b\b\b\r",
      "412416/412416 [==============================] - 14s 35us/sample - loss: 224.4782 - reconstruction_loss: 96.6205 - KL_loss: 20.4518 - val_loss: 109.9424 - val_reconstruction_loss: 90.0703 - val_KL_loss: 19.8721 - lr: 0.0030\n",
      "Epoch 182/1000\n"
     ]
    },
    {
     "name": "stdout",
     "output_type": "stream",
     "text": [
      "\r",
      "412416/412416 [==============================] - ETA: 0s - loss: 223.6701 - reconstruction_loss: 96.1854 - KL_loss: 20.3125"
     ]
    },
    {
     "name": "stdout",
     "output_type": "stream",
     "text": [
      "\b\b\b\b\b\b\b\b\b\b\b\b\b\b\b\b\b\b\b\b\b\b\b\b\b\b\b\b\b\b\b\b\b\b\b\b\b\b\b\b\b\b\b\b\b\b\b\b\b\b\b\b\b\b\b\b\b\b\b\b\b\b\b\b\b\b\b\b\b\b\b\b\b\b\b\b\b\b\b\b\b\b\b\b\b\b\b\b\b\b\b\b\b\b\b\b\b\b\b\b\b\b\b\b\b\b\b\b\b\b\b\b\b\b\b\b\b\b\b\b\b\b\b\r",
      "412416/412416 [==============================] - 12s 30us/sample - loss: 223.6701 - reconstruction_loss: 96.1854 - KL_loss: 20.3125 - val_loss: 109.9574 - val_reconstruction_loss: 90.0955 - val_KL_loss: 19.8619 - lr: 0.0030\n",
      "Epoch 183/1000\n"
     ]
    },
    {
     "name": "stdout",
     "output_type": "stream",
     "text": [
      "\r",
      "412416/412416 [==============================] - ETA: 0s - loss: 223.0388 - reconstruction_loss: 96.2382 - KL_loss: 20.2891"
     ]
    },
    {
     "name": "stdout",
     "output_type": "stream",
     "text": [
      "\b\b\b\b\b\b\b\b\b\b\b\b\b\b\b\b\b\b\b\b\b\b\b\b\b\b\b\b\b\b\b\b\b\b\b\b\b\b\b\b\b\b\b\b\b\b\b\b\b\b\b\b\b\b\b\b\b\b\b\b\b\b\b\b\b\b\b\b\b\b\b\b\b\b\b\b\b\b\b\b\b\b\b\b\b\b\b\b\b\b\b\b\b\b\b\b\b\b\b\b\b\b\b\b\b\b\b\b\b\b\b\b\b\b\b\b\b\b\b\b\b\b\b\r",
      "412416/412416 [==============================] - 12s 29us/sample - loss: 223.0388 - reconstruction_loss: 96.2382 - KL_loss: 20.2891 - val_loss: 109.8142 - val_reconstruction_loss: 89.7598 - val_KL_loss: 20.0543 - lr: 0.0030\n",
      "Epoch 184/1000\n"
     ]
    },
    {
     "name": "stdout",
     "output_type": "stream",
     "text": [
      "\r",
      "412416/412416 [==============================] - ETA: 0s - loss: 223.0717 - reconstruction_loss: 95.9035 - KL_loss: 20.4769"
     ]
    },
    {
     "name": "stdout",
     "output_type": "stream",
     "text": [
      "\b\b\b\b\b\b\b\b\b\b\b\b\b\b\b\b\b\b\b\b\b\b\b\b\b\b\b\b\b\b\b\b\b\b\b\b\b\b\b\b\b\b\b\b\b\b\b\b\b\b\b\b\b\b\b\b\b\b\b\b\b\b\b\b\b\b\b\b\b\b\b\b\b\b\b\b\b\b\b\b\b\b\b\b\b\b\b\b\b\b\b\b\b\b\b\b\b\b\b\b\b\b\b\b\b\b\b\b\b\b\b\b\b\b\b\b\b\b\b\b\b\b\b\r",
      "412416/412416 [==============================] - 12s 29us/sample - loss: 223.0717 - reconstruction_loss: 95.9035 - KL_loss: 20.4769 - val_loss: 109.9491 - val_reconstruction_loss: 89.8054 - val_KL_loss: 20.1437 - lr: 0.0030\n",
      "Epoch 185/1000\n"
     ]
    },
    {
     "name": "stdout",
     "output_type": "stream",
     "text": [
      "\r",
      "412416/412416 [==============================] - ETA: 0s - loss: 222.4007 - reconstruction_loss: 95.9387 - KL_loss: 20.5633"
     ]
    },
    {
     "name": "stdout",
     "output_type": "stream",
     "text": [
      "\b\b\b\b\b\b\b\b\b\b\b\b\b\b\b\b\b\b\b\b\b\b\b\b\b\b\b\b\b\b\b\b\b\b\b\b\b\b\b\b\b\b\b\b\b\b\b\b\b\b\b\b\b\b\b\b\b\b\b\b\b\b\b\b\b\b\b\b\b\b\b\b\b\b\b\b\b\b\b\b\b\b\b\b\b\b\b\b\b\b\b\b\b\b\b\b\b\b\b\b\b\b\b\b\b\b\b\b\b\b\b\b\b\b\b\b\b\b\b\b\b\b\b\r",
      "412416/412416 [==============================] - 12s 29us/sample - loss: 222.4007 - reconstruction_loss: 95.9387 - KL_loss: 20.5633 - val_loss: 109.9325 - val_reconstruction_loss: 90.1297 - val_KL_loss: 19.8028 - lr: 0.0030\n",
      "Epoch 186/1000\n"
     ]
    },
    {
     "name": "stdout",
     "output_type": "stream",
     "text": [
      "\r",
      "412416/412416 [==============================] - ETA: 0s - loss: 222.5307 - reconstruction_loss: 96.2640 - KL_loss: 20.2492"
     ]
    },
    {
     "name": "stdout",
     "output_type": "stream",
     "text": [
      "\b\b\b\b\b\b\b\b\b\b\b\b\b\b\b\b\b\b\b\b\b\b\b\b\b\b\b\b\b\b\b\b\b\b\b\b\b\b\b\b\b\b\b\b\b\b\b\b\b\b\b\b\b\b\b\b\b\b\b\b\b\b\b\b\b\b\b\b\b\b\b\b\b\b\b\b\b\b\b\b\b\b\b\b\b\b\b\b\b\b\b\b\b\b\b\b\b\b\b\b\b\b\b\b\b\b\b\b\b\b\b\b\b\b\b\b\b\b\b\b\b\b\b\r",
      "412416/412416 [==============================] - 12s 29us/sample - loss: 222.5307 - reconstruction_loss: 96.2640 - KL_loss: 20.2492 - val_loss: 109.7266 - val_reconstruction_loss: 90.0308 - val_KL_loss: 19.6958 - lr: 0.0030\n",
      "Epoch 187/1000\n"
     ]
    },
    {
     "name": "stdout",
     "output_type": "stream",
     "text": [
      "\r",
      "412416/412416 [==============================] - ETA: 0s - loss: 221.9390 - reconstruction_loss: 96.1356 - KL_loss: 20.1369"
     ]
    },
    {
     "name": "stdout",
     "output_type": "stream",
     "text": [
      "\b\b\b\b\b\b\b\b\b\b\b\b\b\b\b\b\b\b\b\b\b\b\b\b\b\b\b\b\b\b\b\b\b\b\b\b\b\b\b\b\b\b\b\b\b\b\b\b\b\b\b\b\b\b\b\b\b\b\b\b\b\b\b\b\b\b\b\b\b\b\b\b\b\b\b\b\b\b\b\b\b\b\b\b\b\b\b\b\b\b\b\b\b\b\b\b\b\b\b\b\b\b\b\b\b\b\b\b\b\b\b\b\b\b\b\b\b\b\b\b\b\b\b\r",
      "412416/412416 [==============================] - 12s 29us/sample - loss: 221.9390 - reconstruction_loss: 96.1356 - KL_loss: 20.1369 - val_loss: 109.4211 - val_reconstruction_loss: 89.4762 - val_KL_loss: 19.9450 - lr: 0.0030\n",
      "Epoch 188/1000\n"
     ]
    },
    {
     "name": "stdout",
     "output_type": "stream",
     "text": [
      "\r",
      "412416/412416 [==============================] - ETA: 0s - loss: 221.3193 - reconstruction_loss: 95.6077 - KL_loss: 20.3735"
     ]
    },
    {
     "name": "stdout",
     "output_type": "stream",
     "text": [
      "\b\b\b\b\b\b\b\b\b\b\b\b\b\b\b\b\b\b\b\b\b\b\b\b\b\b\b\b\b\b\b\b\b\b\b\b\b\b\b\b\b\b\b\b\b\b\b\b\b\b\b\b\b\b\b\b\b\b\b\b\b\b\b\b\b\b\b\b\b\b\b\b\b\b\b\b\b\b\b\b\b\b\b\b\b\b\b\b\b\b\b\b\b\b\b\b\b\b\b\b\b\b\b\b\b\b\b\b\b\b\b\b\b\b\b\b\b\b\b\b\b\b\b\r",
      "412416/412416 [==============================] - 12s 29us/sample - loss: 221.3193 - reconstruction_loss: 95.6077 - KL_loss: 20.3735 - val_loss: 109.9264 - val_reconstruction_loss: 89.8157 - val_KL_loss: 20.1106 - lr: 0.0030\n",
      "Epoch 189/1000\n"
     ]
    },
    {
     "name": "stdout",
     "output_type": "stream",
     "text": [
      "\r",
      "412416/412416 [==============================] - ETA: 0s - loss: 222.0602 - reconstruction_loss: 95.9410 - KL_loss: 20.5297"
     ]
    },
    {
     "name": "stdout",
     "output_type": "stream",
     "text": [
      "\b\b\b\b\b\b\b\b\b\b\b\b\b\b\b\b\b\b\b\b\b\b\b\b\b\b\b\b\b\b\b\b\b\b\b\b\b\b\b\b\b\b\b\b\b\b\b\b\b\b\b\b\b\b\b\b\b\b\b\b\b\b\b\b\b\b\b\b\b\b\b\b\b\b\b\b\b\b\b\b\b\b\b\b\b\b\b\b\b\b\b\b\b\b\b\b\b\b\b\b\b\b\b\b\b\b\b\b\b\b\b\b\b\b\b\b\b\b\b\b\b\b\b\r",
      "412416/412416 [==============================] - 12s 29us/sample - loss: 222.0602 - reconstruction_loss: 95.9410 - KL_loss: 20.5297 - val_loss: 109.6924 - val_reconstruction_loss: 89.9546 - val_KL_loss: 19.7378 - lr: 0.0030\n",
      "Epoch 190/1000\n"
     ]
    },
    {
     "name": "stdout",
     "output_type": "stream",
     "text": [
      "\r",
      "412416/412416 [==============================] - ETA: 0s - loss: 220.9076 - reconstruction_loss: 96.0691 - KL_loss: 20.1525"
     ]
    },
    {
     "name": "stdout",
     "output_type": "stream",
     "text": [
      "\b\b\b\b\b\b\b\b\b\b\b\b\b\b\b\b\b\b\b\b\b\b\b\b\b\b\b\b\b\b\b\b\b\b\b\b\b\b\b\b\b\b\b\b\b\b\b\b\b\b\b\b\b\b\b\b\b\b\b\b\b\b\b\b\b\b\b\b\b\b\b\b\b\b\b\b\b\b\b\b\b\b\b\b\b\b\b\b\b\b\b\b\b\b\b\b\b\b\b\b\b\b\b\b\b\b\b\b\b\b\b\b\b\b\b\b\b\b\b\b\b\b\b\r",
      "412416/412416 [==============================] - 12s 29us/sample - loss: 220.9076 - reconstruction_loss: 96.0691 - KL_loss: 20.1525 - val_loss: 110.2530 - val_reconstruction_loss: 90.6077 - val_KL_loss: 19.6453 - lr: 0.0030\n",
      "Epoch 191/1000\n"
     ]
    },
    {
     "name": "stdout",
     "output_type": "stream",
     "text": [
      "\r",
      "412416/412416 [==============================] - ETA: 0s - loss: 221.6656 - reconstruction_loss: 96.6941 - KL_loss: 20.0836"
     ]
    },
    {
     "name": "stdout",
     "output_type": "stream",
     "text": [
      "\b\b\b\b\b\b\b\b\b\b\b\b\b\b\b\b\b\b\b\b\b\b\b\b\b\b\b\b\b\b\b\b\b\b\b\b\b\b\b\b\b\b\b\b\b\b\b\b\b\b\b\b\b\b\b\b\b\b\b\b\b\b\b\b\b\b\b\b\b\b\b\b\b\b\b\b\b\b\b\b\b\b\b\b\b\b\b\b\b\b\b\b\b\b\b\b\b\b\b\b\b\b\b\b\b\b\b\b\b\b\b\b\b\b\b\b\b\b\b\b\b\b\b\r",
      "412416/412416 [==============================] - 12s 29us/sample - loss: 221.6656 - reconstruction_loss: 96.6941 - KL_loss: 20.0836 - val_loss: 109.6256 - val_reconstruction_loss: 89.8822 - val_KL_loss: 19.7434 - lr: 0.0030\n",
      "Epoch 192/1000\n"
     ]
    },
    {
     "name": "stdout",
     "output_type": "stream",
     "text": [
      "\r",
      "412416/412416 [==============================] - ETA: 0s - loss: 220.9408 - reconstruction_loss: 95.9793 - KL_loss: 20.1806"
     ]
    },
    {
     "name": "stdout",
     "output_type": "stream",
     "text": [
      "\b\b\b\b\b\b\b\b\b\b\b\b\b\b\b\b\b\b\b\b\b\b\b\b\b\b\b\b\b\b\b\b\b\b\b\b\b\b\b\b\b\b\b\b\b\b\b\b\b\b\b\b\b\b\b\b\b\b\b\b\b\b\b\b\b\b\b\b\b\b\b\b\b\b\b\b\b\b\b\b\b\b\b\b\b\b\b\b\b\b\b\b\b\b\b\b\b\b\b\b\b\b\b\b\b\b\b\b\b\b\b\b\b\b\b\b\b\b\b\b\b\b\b\r",
      "412416/412416 [==============================] - 15s 36us/sample - loss: 220.9408 - reconstruction_loss: 95.9793 - KL_loss: 20.1806 - val_loss: 110.0287 - val_reconstruction_loss: 89.8831 - val_KL_loss: 20.1456 - lr: 0.0030\n",
      "Epoch 193/1000\n"
     ]
    },
    {
     "name": "stdout",
     "output_type": "stream",
     "text": [
      "\r",
      "412416/412416 [==============================] - ETA: 0s - loss: 221.2031 - reconstruction_loss: 95.9610 - KL_loss: 20.5755"
     ]
    },
    {
     "name": "stdout",
     "output_type": "stream",
     "text": [
      "\b\b\b\b\b\b\b\b\b\b\b\b\b\b\b\b\b\b\b\b\b\b\b\b\b\b\b\b\b\b\b\b\b\b\b\b\b\b\b\b\b\b\b\b\b\b\b\b\b\b\b\b\b\b\b\b\b\b\b\b\b\b\b\b\b\b\b\b\b\b\b\b\b\b\b\b\b\b\b\b\b\b\b\b\b\b\b\b\b\b\b\b\b\b\b\b\b\b\b\b\b\b\b\b\b\b\b\b\b\b\b\b\b\b\b\b\b\b\b\b\b\b\b\r",
      "412416/412416 [==============================] - 20s 50us/sample - loss: 221.2031 - reconstruction_loss: 95.9610 - KL_loss: 20.5755 - val_loss: 109.5272 - val_reconstruction_loss: 89.3226 - val_KL_loss: 20.2047 - lr: 0.0030\n",
      "Epoch 194/1000\n"
     ]
    },
    {
     "name": "stdout",
     "output_type": "stream",
     "text": [
      "\r",
      "412416/412416 [==============================] - ETA: 0s - loss: 220.2073 - reconstruction_loss: 95.4183 - KL_loss: 20.6226"
     ]
    },
    {
     "name": "stdout",
     "output_type": "stream",
     "text": [
      "\b\b\b\b\b\b\b\b\b\b\b\b\b\b\b\b\b\b\b\b\b\b\b\b\b\b\b\b\b\b\b\b\b\b\b\b\b\b\b\b\b\b\b\b\b\b\b\b\b\b\b\b\b\b\b\b\b\b\b\b\b\b\b\b\b\b\b\b\b\b\b\b\b\b\b\b\b\b\b\b\b\b\b\b\b\b\b\b\b\b\b\b\b\b\b\b\b\b\b\b\b\b\b\b\b\b\b\b\b\b\b\b\b\b\b\b\b\b\b\b\b\b\b\r",
      "412416/412416 [==============================] - 12s 29us/sample - loss: 220.2073 - reconstruction_loss: 95.4183 - KL_loss: 20.6226 - val_loss: 110.4037 - val_reconstruction_loss: 90.4744 - val_KL_loss: 19.9293 - lr: 0.0030\n",
      "Epoch 195/1000\n"
     ]
    },
    {
     "name": "stdout",
     "output_type": "stream",
     "text": [
      "\r",
      "412416/412416 [==============================] - ETA: 0s - loss: 221.5189 - reconstruction_loss: 96.5437 - KL_loss: 20.3575"
     ]
    },
    {
     "name": "stdout",
     "output_type": "stream",
     "text": [
      "\b\b\b\b\b\b\b\b\b\b\b\b\b\b\b\b\b\b\b\b\b\b\b\b\b\b\b\b\b\b\b\b\b\b\b\b\b\b\b\b\b\b\b\b\b\b\b\b\b\b\b\b\b\b\b\b\b\b\b\b\b\b\b\b\b\b\b\b\b\b\b\b\b\b\b\b\b\b\b\b\b\b\b\b\b\b\b\b\b\b\b\b\b\b\b\b\b\b\b\b\b\b\b\b\b\b\b\b\b\b\b\b\b\b\b\b\b\b\b\b\b\b\b\r",
      "412416/412416 [==============================] - 12s 30us/sample - loss: 221.5189 - reconstruction_loss: 96.5437 - KL_loss: 20.3575 - val_loss: 109.6591 - val_reconstruction_loss: 89.9659 - val_KL_loss: 19.6933 - lr: 0.0030\n",
      "Epoch 196/1000\n"
     ]
    },
    {
     "name": "stdout",
     "output_type": "stream",
     "text": [
      "\r",
      "412416/412416 [==============================] - ETA: 0s - loss: 220.1027 - reconstruction_loss: 96.0267 - KL_loss: 20.1333"
     ]
    },
    {
     "name": "stdout",
     "output_type": "stream",
     "text": [
      "\b\b\b\b\b\b\b\b\b\b\b\b\b\b\b\b\b\b\b\b\b\b\b\b\b\b\b\b\b\b\b\b\b\b\b\b\b\b\b\b\b\b\b\b\b\b\b\b\b\b\b\b\b\b\b\b\b\b\b\b\b\b\b\b\b\b\b\b\b\b\b\b\b\b\b\b\b\b\b\b\b\b\b\b\b\b\b\b\b\b\b\b\b\b\b\b\b\b\b\b\b\b\b\b\b\b\b\b\b\b\b\b\b\b\b\b\b\b\b\b\b\b\b\r",
      "412416/412416 [==============================] - 17s 42us/sample - loss: 220.1027 - reconstruction_loss: 96.0267 - KL_loss: 20.1333 - val_loss: 109.9042 - val_reconstruction_loss: 90.0354 - val_KL_loss: 19.8688 - lr: 0.0030\n",
      "Epoch 197/1000\n"
     ]
    },
    {
     "name": "stdout",
     "output_type": "stream",
     "text": [
      "\r",
      "412416/412416 [==============================] - ETA: 0s - loss: 221.1949 - reconstruction_loss: 96.1541 - KL_loss: 20.2981"
     ]
    },
    {
     "name": "stdout",
     "output_type": "stream",
     "text": [
      "\b\b\b\b\b\b\b\b\b\b\b\b\b\b\b\b\b\b\b\b\b\b\b\b\b\b\b\b\b\b\b\b\b\b\b\b\b\b\b\b\b\b\b\b\b\b\b\b\b\b\b\b\b\b\b\b\b\b\b\b\b\b\b\b\b\b\b\b\b\b\b\b\b\b\b\b\b\b\b\b\b\b\b\b\b\b\b\b\b\b\b\b\b\b\b\b\b\b\b\b\b\b\b\b\b\b\b\b\b\b\b\b\b\b\b\b\b\b\b\b\b\b\b\r",
      "412416/412416 [==============================] - 12s 30us/sample - loss: 221.1949 - reconstruction_loss: 96.1541 - KL_loss: 20.2981 - val_loss: 109.8514 - val_reconstruction_loss: 89.7737 - val_KL_loss: 20.0777 - lr: 0.0030\n",
      "Epoch 198/1000\n"
     ]
    },
    {
     "name": "stdout",
     "output_type": "stream",
     "text": [
      "\r",
      "412416/412416 [==============================] - ETA: 0s - loss: 220.2955 - reconstruction_loss: 95.8444 - KL_loss: 20.5000"
     ]
    },
    {
     "name": "stdout",
     "output_type": "stream",
     "text": [
      "\b\b\b\b\b\b\b\b\b\b\b\b\b\b\b\b\b\b\b\b\b\b\b\b\b\b\b\b\b\b\b\b\b\b\b\b\b\b\b\b\b\b\b\b\b\b\b\b\b\b\b\b\b\b\b\b\b\b\b\b\b\b\b\b\b\b\b\b\b\b\b\b\b\b\b\b\b\b\b\b\b\b\b\b\b\b\b\b\b\b\b\b\b\b\b\b\b\b\b\b\b\b\b\b\b\b\b\b\b\b\b\b\b\b\b\b\b\b\b\b\b\b\b\r",
      "412416/412416 [==============================] - 12s 29us/sample - loss: 220.2955 - reconstruction_loss: 95.8444 - KL_loss: 20.5000 - val_loss: 109.3102 - val_reconstruction_loss: 89.3056 - val_KL_loss: 20.0046 - lr: 0.0027\n",
      "Epoch 199/1000\n"
     ]
    },
    {
     "name": "stdout",
     "output_type": "stream",
     "text": [
      "\r",
      "412416/412416 [==============================] - ETA: 0s - loss: 219.3589 - reconstruction_loss: 95.3372 - KL_loss: 20.4318"
     ]
    },
    {
     "name": "stdout",
     "output_type": "stream",
     "text": [
      "\b\b\b\b\b\b\b\b\b\b\b\b\b\b\b\b\b\b\b\b\b\b\b\b\b\b\b\b\b\b\b\b\b\b\b\b\b\b\b\b\b\b\b\b\b\b\b\b\b\b\b\b\b\b\b\b\b\b\b\b\b\b\b\b\b\b\b\b\b\b\b\b\b\b\b\b\b\b\b\b\b\b\b\b\b\b\b\b\b\b\b\b\b\b\b\b\b\b\b\b\b\b\b\b\b\b\b\b\b\b\b\b\b\b\b\b\b\b\b\b\b\b\b\r",
      "412416/412416 [==============================] - 12s 30us/sample - loss: 219.3589 - reconstruction_loss: 95.3372 - KL_loss: 20.4318 - val_loss: 109.4003 - val_reconstruction_loss: 89.6417 - val_KL_loss: 19.7586 - lr: 0.0027\n",
      "Epoch 200/1000\n"
     ]
    },
    {
     "name": "stdout",
     "output_type": "stream",
     "text": [
      "\r",
      "412416/412416 [==============================] - ETA: 0s - loss: 218.9035 - reconstruction_loss: 95.6585 - KL_loss: 20.1890"
     ]
    },
    {
     "name": "stdout",
     "output_type": "stream",
     "text": [
      "\b\b\b\b\b\b\b\b\b\b\b\b\b\b\b\b\b\b\b\b\b\b\b\b\b\b\b\b\b\b\b\b\b\b\b\b\b\b\b\b\b\b\b\b\b\b\b\b\b\b\b\b\b\b\b\b\b\b\b\b\b\b\b\b\b\b\b\b\b\b\b\b\b\b\b\b\b\b\b\b\b\b\b\b\b\b\b\b\b\b\b\b\b\b\b\b\b\b\b\b\b\b\b\b\b\b\b\b\b\b\b\b\b\b\b\b\b\b\b\b\b\b\b\r",
      "412416/412416 [==============================] - 12s 29us/sample - loss: 218.9035 - reconstruction_loss: 95.6585 - KL_loss: 20.1890 - val_loss: 109.4140 - val_reconstruction_loss: 89.6684 - val_KL_loss: 19.7457 - lr: 0.0027\n",
      "Epoch 201/1000\n"
     ]
    },
    {
     "name": "stdout",
     "output_type": "stream",
     "text": [
      "\r",
      "412416/412416 [==============================] - ETA: 0s - loss: 219.2898 - reconstruction_loss: 95.6919 - KL_loss: 20.1773"
     ]
    },
    {
     "name": "stdout",
     "output_type": "stream",
     "text": [
      "\b\b\b\b\b\b\b\b\b\b\b\b\b\b\b\b\b\b\b\b\b\b\b\b\b\b\b\b\b\b\b\b\b\b\b\b\b\b\b\b\b\b\b\b\b\b\b\b\b\b\b\b\b\b\b\b\b\b\b\b\b\b\b\b\b\b\b\b\b\b\b\b\b\b\b\b\b\b\b\b\b\b\b\b\b\b\b\b\b\b\b\b\b\b\b\b\b\b\b\b\b\b\b\b\b\b\b\b\b\b\b\b\b\b\b\b\b\b\b\b\b\b\b\r",
      "412416/412416 [==============================] - 12s 29us/sample - loss: 219.2898 - reconstruction_loss: 95.6919 - KL_loss: 20.1773 - val_loss: 109.2776 - val_reconstruction_loss: 89.4363 - val_KL_loss: 19.8413 - lr: 0.0027\n",
      "Epoch 202/1000\n"
     ]
    },
    {
     "name": "stdout",
     "output_type": "stream",
     "text": [
      "\r",
      "412416/412416 [==============================] - ETA: 0s - loss: 218.8921 - reconstruction_loss: 95.4533 - KL_loss: 20.2657"
     ]
    },
    {
     "name": "stdout",
     "output_type": "stream",
     "text": [
      "\b\b\b\b\b\b\b\b\b\b\b\b\b\b\b\b\b\b\b\b\b\b\b\b\b\b\b\b\b\b\b\b\b\b\b\b\b\b\b\b\b\b\b\b\b\b\b\b\b\b\b\b\b\b\b\b\b\b\b\b\b\b\b\b\b\b\b\b\b\b\b\b\b\b\b\b\b\b\b\b\b\b\b\b\b\b\b\b\b\b\b\b\b\b\b\b\b\b\b\b\b\b\b\b\b\b\b\b\b\b\b\b\b\b\b\b\b\b\b\b\b\b\b\r",
      "412416/412416 [==============================] - 12s 30us/sample - loss: 218.8921 - reconstruction_loss: 95.4533 - KL_loss: 20.2657 - val_loss: 108.9598 - val_reconstruction_loss: 89.0312 - val_KL_loss: 19.9286 - lr: 0.0027\n",
      "Epoch 203/1000\n"
     ]
    },
    {
     "name": "stdout",
     "output_type": "stream",
     "text": [
      "\r",
      "412416/412416 [==============================] - ETA: 0s - loss: 217.8575 - reconstruction_loss: 95.0290 - KL_loss: 20.3595"
     ]
    },
    {
     "name": "stdout",
     "output_type": "stream",
     "text": [
      "\b\b\b\b\b\b\b\b\b\b\b\b\b\b\b\b\b\b\b\b\b\b\b\b\b\b\b\b\b\b\b\b\b\b\b\b\b\b\b\b\b\b\b\b\b\b\b\b\b\b\b\b\b\b\b\b\b\b\b\b\b\b\b\b\b\b\b\b\b\b\b\b\b\b\b\b\b\b\b\b\b\b\b\b\b\b\b\b\b\b\b\b\b\b\b\b\b\b\b\b\b\b\b\b\b\b\b\b\b\b\b\b\b\b\b\b\b\b\b\b\b\b\b\r",
      "412416/412416 [==============================] - 12s 29us/sample - loss: 217.8575 - reconstruction_loss: 95.0290 - KL_loss: 20.3595 - val_loss: 109.1718 - val_reconstruction_loss: 89.2311 - val_KL_loss: 19.9407 - lr: 0.0027\n",
      "Epoch 204/1000\n"
     ]
    },
    {
     "name": "stdout",
     "output_type": "stream",
     "text": [
      "\r",
      "412416/412416 [==============================] - ETA: 0s - loss: 218.3175 - reconstruction_loss: 95.2405 - KL_loss: 20.3713"
     ]
    },
    {
     "name": "stdout",
     "output_type": "stream",
     "text": [
      "\b\b\b\b\b\b\b\b\b\b\b\b\b\b\b\b\b\b\b\b\b\b\b\b\b\b\b\b\b\b\b\b\b\b\b\b\b\b\b\b\b\b\b\b\b\b\b\b\b\b\b\b\b\b\b\b\b\b\b\b\b\b\b\b\b\b\b\b\b\b\b\b\b\b\b\b\b\b\b\b\b\b\b\b\b\b\b\b\b\b\b\b\b\b\b\b\b\b\b\b\b\b\b\b\b\b\b\b\b\b\b\b\b\b\b\b\b\b\b\b\b\b\b\r",
      "412416/412416 [==============================] - 14s 33us/sample - loss: 218.3175 - reconstruction_loss: 95.2405 - KL_loss: 20.3713 - val_loss: 109.3144 - val_reconstruction_loss: 89.3841 - val_KL_loss: 19.9303 - lr: 0.0027\n",
      "Epoch 205/1000\n"
     ]
    },
    {
     "name": "stdout",
     "output_type": "stream",
     "text": [
      "\r",
      "412416/412416 [==============================] - ETA: 0s - loss: 217.9730 - reconstruction_loss: 95.4151 - KL_loss: 20.3596"
     ]
    },
    {
     "name": "stdout",
     "output_type": "stream",
     "text": [
      "\b\b\b\b\b\b\b\b\b\b\b\b\b\b\b\b\b\b\b\b\b\b\b\b\b\b\b\b\b\b\b\b\b\b\b\b\b\b\b\b\b\b\b\b\b\b\b\b\b\b\b\b\b\b\b\b\b\b\b\b\b\b\b\b\b\b\b\b\b\b\b\b\b\b\b\b\b\b\b\b\b\b\b\b\b\b\b\b\b\b\b\b\b\b\b\b\b\b\b\b\b\b\b\b\b\b\b\b\b\b\b\b\b\b\b\b\b\b\b\b\b\b\b\r",
      "412416/412416 [==============================] - 12s 29us/sample - loss: 217.9730 - reconstruction_loss: 95.4151 - KL_loss: 20.3596 - val_loss: 109.0245 - val_reconstruction_loss: 89.0309 - val_KL_loss: 19.9936 - lr: 0.0027\n",
      "Epoch 206/1000\n"
     ]
    },
    {
     "name": "stdout",
     "output_type": "stream",
     "text": [
      "\r",
      "412416/412416 [==============================] - ETA: 0s - loss: 217.3894 - reconstruction_loss: 95.0484 - KL_loss: 20.4188"
     ]
    },
    {
     "name": "stdout",
     "output_type": "stream",
     "text": [
      "\b\b\b\b\b\b\b\b\b\b\b\b\b\b\b\b\b\b\b\b\b\b\b\b\b\b\b\b\b\b\b\b\b\b\b\b\b\b\b\b\b\b\b\b\b\b\b\b\b\b\b\b\b\b\b\b\b\b\b\b\b\b\b\b\b\b\b\b\b\b\b\b\b\b\b\b\b\b\b\b\b\b\b\b\b\b\b\b\b\b\b\b\b\b\b\b\b\b\b\b\b\b\b\b\b\b\b\b\b\b\b\b\b\b\b\b\b\b\b\b\b\b\b\r",
      "412416/412416 [==============================] - 12s 29us/sample - loss: 217.3894 - reconstruction_loss: 95.0484 - KL_loss: 20.4188 - val_loss: 109.0670 - val_reconstruction_loss: 89.2473 - val_KL_loss: 19.8197 - lr: 0.0027\n",
      "Epoch 207/1000\n"
     ]
    },
    {
     "name": "stdout",
     "output_type": "stream",
     "text": [
      "\r",
      "412416/412416 [==============================] - ETA: 0s - loss: 217.6596 - reconstruction_loss: 95.2492 - KL_loss: 20.2489"
     ]
    },
    {
     "name": "stdout",
     "output_type": "stream",
     "text": [
      "\b\b\b\b\b\b\b\b\b\b\b\b\b\b\b\b\b\b\b\b\b\b\b\b\b\b\b\b\b\b\b\b\b\b\b\b\b\b\b\b\b\b\b\b\b\b\b\b\b\b\b\b\b\b\b\b\b\b\b\b\b\b\b\b\b\b\b\b\b\b\b\b\b\b\b\b\b\b\b\b\b\b\b\b\b\b\b\b\b\b\b\b\b\b\b\b\b\b\b\b\b\b\b\b\b\b\b\b\b\b\b\b\b\b\b\b\b\b\b\b\b\b\b\r",
      "412416/412416 [==============================] - 12s 29us/sample - loss: 217.6596 - reconstruction_loss: 95.2492 - KL_loss: 20.2489 - val_loss: 108.9831 - val_reconstruction_loss: 89.2187 - val_KL_loss: 19.7644 - lr: 0.0027\n",
      "Epoch 208/1000\n"
     ]
    },
    {
     "name": "stdout",
     "output_type": "stream",
     "text": [
      "\r",
      "412416/412416 [==============================] - ETA: 0s - loss: 216.8945 - reconstruction_loss: 95.2225 - KL_loss: 20.1972"
     ]
    },
    {
     "name": "stdout",
     "output_type": "stream",
     "text": [
      "\b\b\b\b\b\b\b\b\b\b\b\b\b\b\b\b\b\b\b\b\b\b\b\b\b\b\b\b\b\b\b\b\b\b\b\b\b\b\b\b\b\b\b\b\b\b\b\b\b\b\b\b\b\b\b\b\b\b\b\b\b\b\b\b\b\b\b\b\b\b\b\b\b\b\b\b\b\b\b\b\b\b\b\b\b\b\b\b\b\b\b\b\b\b\b\b\b\b\b\b\b\b\b\b\b\b\b\b\b\b\b\b\b\b\b\b\b\b\b\b\b\b\b\r",
      "412416/412416 [==============================] - 12s 29us/sample - loss: 216.8945 - reconstruction_loss: 95.2225 - KL_loss: 20.1972 - val_loss: 109.0251 - val_reconstruction_loss: 89.2748 - val_KL_loss: 19.7502 - lr: 0.0027\n",
      "Epoch 209/1000\n"
     ]
    },
    {
     "name": "stdout",
     "output_type": "stream",
     "text": [
      "\r",
      "412416/412416 [==============================] - ETA: 0s - loss: 216.9100 - reconstruction_loss: 95.3067 - KL_loss: 20.1711"
     ]
    },
    {
     "name": "stdout",
     "output_type": "stream",
     "text": [
      "\b\b\b\b\b\b\b\b\b\b\b\b\b\b\b\b\b\b\b\b\b\b\b\b\b\b\b\b\b\b\b\b\b\b\b\b\b\b\b\b\b\b\b\b\b\b\b\b\b\b\b\b\b\b\b\b\b\b\b\b\b\b\b\b\b\b\b\b\b\b\b\b\b\b\b\b\b\b\b\b\b\b\b\b\b\b\b\b\b\b\b\b\b\b\b\b\b\b\b\b\b\b\b\b\b\b\b\b\b\b\b\b\b\b\b\b\b\b\b\b\b\b\b\r",
      "412416/412416 [==============================] - 13s 31us/sample - loss: 216.9100 - reconstruction_loss: 95.3067 - KL_loss: 20.1711 - val_loss: 108.8531 - val_reconstruction_loss: 88.9738 - val_KL_loss: 19.8794 - lr: 0.0027\n",
      "Epoch 210/1000\n"
     ]
    },
    {
     "name": "stdout",
     "output_type": "stream",
     "text": [
      "\r",
      "412416/412416 [==============================] - ETA: 0s - loss: 216.3336 - reconstruction_loss: 94.9592 - KL_loss: 20.3083"
     ]
    },
    {
     "name": "stdout",
     "output_type": "stream",
     "text": [
      "\b\b\b\b\b\b\b\b\b\b\b\b\b\b\b\b\b\b\b\b\b\b\b\b\b\b\b\b\b\b\b\b\b\b\b\b\b\b\b\b\b\b\b\b\b\b\b\b\b\b\b\b\b\b\b\b\b\b\b\b\b\b\b\b\b\b\b\b\b\b\b\b\b\b\b\b\b\b\b\b\b\b\b\b\b\b\b\b\b\b\b\b\b\b\b\b\b\b\b\b\b\b\b\b\b\b\b\b\b\b\b\b\b\b\b\b\b\b\b\b\b\b\b\r",
      "412416/412416 [==============================] - 12s 29us/sample - loss: 216.3336 - reconstruction_loss: 94.9592 - KL_loss: 20.3083 - val_loss: 109.3809 - val_reconstruction_loss: 89.4551 - val_KL_loss: 19.9258 - lr: 0.0027\n",
      "Epoch 211/1000\n"
     ]
    },
    {
     "name": "stdout",
     "output_type": "stream",
     "text": [
      "\r",
      "412416/412416 [==============================] - ETA: 0s - loss: 217.1275 - reconstruction_loss: 95.4249 - KL_loss: 20.3511"
     ]
    },
    {
     "name": "stdout",
     "output_type": "stream",
     "text": [
      "\b\b\b\b\b\b\b\b\b\b\b\b\b\b\b\b\b\b\b\b\b\b\b\b\b\b\b\b\b\b\b\b\b\b\b\b\b\b\b\b\b\b\b\b\b\b\b\b\b\b\b\b\b\b\b\b\b\b\b\b\b\b\b\b\b\b\b\b\b\b\b\b\b\b\b\b\b\b\b\b\b\b\b\b\b\b\b\b\b\b\b\b\b\b\b\b\b\b\b\b\b\b\b\b\b\b\b\b\b\b\b\b\b\b\b\b\b\b\b\b\b\b\b\r",
      "412416/412416 [==============================] - 12s 29us/sample - loss: 217.1275 - reconstruction_loss: 95.4249 - KL_loss: 20.3511 - val_loss: 108.8279 - val_reconstruction_loss: 88.8128 - val_KL_loss: 20.0152 - lr: 0.0027\n",
      "Epoch 212/1000\n"
     ]
    },
    {
     "name": "stdout",
     "output_type": "stream",
     "text": [
      "\r",
      "412416/412416 [==============================] - ETA: 0s - loss: 216.0938 - reconstruction_loss: 94.7614 - KL_loss: 20.4525"
     ]
    },
    {
     "name": "stdout",
     "output_type": "stream",
     "text": [
      "\b\b\b\b\b\b\b\b\b\b\b\b\b\b\b\b\b\b\b\b\b\b\b\b\b\b\b\b\b\b\b\b\b\b\b\b\b\b\b\b\b\b\b\b\b\b\b\b\b\b\b\b\b\b\b\b\b\b\b\b\b\b\b\b\b\b\b\b\b\b\b\b\b\b\b\b\b\b\b\b\b\b\b\b\b\b\b\b\b\b\b\b\b\b\b\b\b\b\b\b\b\b\b\b\b\b\b\b\b\b\b\b\b\b\b\b\b\b\b\b\b\b\b\r",
      "412416/412416 [==============================] - 20s 49us/sample - loss: 216.0938 - reconstruction_loss: 94.7614 - KL_loss: 20.4525 - val_loss: 109.0214 - val_reconstruction_loss: 89.0639 - val_KL_loss: 19.9576 - lr: 0.0027\n",
      "Epoch 213/1000\n"
     ]
    },
    {
     "name": "stdout",
     "output_type": "stream",
     "text": [
      "\r",
      "412416/412416 [==============================] - ETA: 0s - loss: 216.4270 - reconstruction_loss: 95.0288 - KL_loss: 20.3786"
     ]
    },
    {
     "name": "stdout",
     "output_type": "stream",
     "text": [
      "\b\b\b\b\b\b\b\b\b\b\b\b\b\b\b\b\b\b\b\b\b\b\b\b\b\b\b\b\b\b\b\b\b\b\b\b\b\b\b\b\b\b\b\b\b\b\b\b\b\b\b\b\b\b\b\b\b\b\b\b\b\b\b\b\b\b\b\b\b\b\b\b\b\b\b\b\b\b\b\b\b\b\b\b\b\b\b\b\b\b\b\b\b\b\b\b\b\b\b\b\b\b\b\b\b\b\b\b\b\b\b\b\b\b\b\b\b\b\b\b\b\b\b\r",
      "412416/412416 [==============================] - 12s 29us/sample - loss: 216.4270 - reconstruction_loss: 95.0288 - KL_loss: 20.3786 - val_loss: 108.8543 - val_reconstruction_loss: 88.8560 - val_KL_loss: 19.9983 - lr: 0.0027\n",
      "Epoch 214/1000\n"
     ]
    },
    {
     "name": "stdout",
     "output_type": "stream",
     "text": [
      "\r",
      "412416/412416 [==============================] - ETA: 0s - loss: 216.0412 - reconstruction_loss: 94.8145 - KL_loss: 20.4164"
     ]
    },
    {
     "name": "stdout",
     "output_type": "stream",
     "text": [
      "\b\b\b\b\b\b\b\b\b\b\b\b\b\b\b\b\b\b\b\b\b\b\b\b\b\b\b\b\b\b\b\b\b\b\b\b\b\b\b\b\b\b\b\b\b\b\b\b\b\b\b\b\b\b\b\b\b\b\b\b\b\b\b\b\b\b\b\b\b\b\b\b\b\b\b\b\b\b\b\b\b\b\b\b\b\b\b\b\b\b\b\b\b\b\b\b\b\b\b\b\b\b\b\b\b\b\b\b\b\b\b\b\b\b\b\b\b\b\b\b\b\b\b\r",
      "412416/412416 [==============================] - 12s 29us/sample - loss: 216.0412 - reconstruction_loss: 94.8145 - KL_loss: 20.4164 - val_loss: 108.7132 - val_reconstruction_loss: 88.9588 - val_KL_loss: 19.7543 - lr: 0.0027\n",
      "Epoch 215/1000\n"
     ]
    },
    {
     "name": "stdout",
     "output_type": "stream",
     "text": [
      "\r",
      "412416/412416 [==============================] - ETA: 0s - loss: 215.5201 - reconstruction_loss: 94.9298 - KL_loss: 20.1829"
     ]
    },
    {
     "name": "stdout",
     "output_type": "stream",
     "text": [
      "\b\b\b\b\b\b\b\b\b\b\b\b\b\b\b\b\b\b\b\b\b\b\b\b\b\b\b\b\b\b\b\b\b\b\b\b\b\b\b\b\b\b\b\b\b\b\b\b\b\b\b\b\b\b\b\b\b\b\b\b\b\b\b\b\b\b\b\b\b\b\b\b\b\b\b\b\b\b\b\b\b\b\b\b\b\b\b\b\b\b\b\b\b\b\b\b\b\b\b\b\b\b\b\b\b\b\b\b\b\b\b\b\b\b\b\b\b\b\b\b\b\b\b\r",
      "412416/412416 [==============================] - 12s 29us/sample - loss: 215.5201 - reconstruction_loss: 94.9298 - KL_loss: 20.1829 - val_loss: 109.0656 - val_reconstruction_loss: 89.4439 - val_KL_loss: 19.6217 - lr: 0.0027\n",
      "Epoch 216/1000\n"
     ]
    },
    {
     "name": "stdout",
     "output_type": "stream",
     "text": [
      "\r",
      "412416/412416 [==============================] - ETA: 0s - loss: 215.8570 - reconstruction_loss: 95.4192 - KL_loss: 20.0518"
     ]
    },
    {
     "name": "stdout",
     "output_type": "stream",
     "text": [
      "\b\b\b\b\b\b\b\b\b\b\b\b\b\b\b\b\b\b\b\b\b\b\b\b\b\b\b\b\b\b\b\b\b\b\b\b\b\b\b\b\b\b\b\b\b\b\b\b\b\b\b\b\b\b\b\b\b\b\b\b\b\b\b\b\b\b\b\b\b\b\b\b\b\b\b\b\b\b\b\b\b\b\b\b\b\b\b\b\b\b\b\b\b\b\b\b\b\b\b\b\b\b\b\b\b\b\b\b\b\b\b\b\b\b\b\b\b\b\b\b\b\b\b\r",
      "412416/412416 [==============================] - 12s 28us/sample - loss: 215.8570 - reconstruction_loss: 95.4192 - KL_loss: 20.0518 - val_loss: 108.8533 - val_reconstruction_loss: 89.0680 - val_KL_loss: 19.7853 - lr: 0.0027\n",
      "Epoch 217/1000\n"
     ]
    },
    {
     "name": "stdout",
     "output_type": "stream",
     "text": [
      "\r",
      "412416/412416 [==============================] - ETA: 0s - loss: 215.4318 - reconstruction_loss: 95.0250 - KL_loss: 20.2141"
     ]
    },
    {
     "name": "stdout",
     "output_type": "stream",
     "text": [
      "\b\b\b\b\b\b\b\b\b\b\b\b\b\b\b\b\b\b\b\b\b\b\b\b\b\b\b\b\b\b\b\b\b\b\b\b\b\b\b\b\b\b\b\b\b\b\b\b\b\b\b\b\b\b\b\b\b\b\b\b\b\b\b\b\b\b\b\b\b\b\b\b\b\b\b\b\b\b\b\b\b\b\b\b\b\b\b\b\b\b\b\b\b\b\b\b\b\b\b\b\b\b\b\b\b\b\b\b\b\b\b\b\b\b\b\b\b\b\b\b\b\b\b\r",
      "412416/412416 [==============================] - 12s 28us/sample - loss: 215.4318 - reconstruction_loss: 95.0250 - KL_loss: 20.2141 - val_loss: 108.6059 - val_reconstruction_loss: 88.7800 - val_KL_loss: 19.8259 - lr: 0.0027\n",
      "Epoch 218/1000\n"
     ]
    },
    {
     "name": "stdout",
     "output_type": "stream",
     "text": [
      "\r",
      "412416/412416 [==============================] - ETA: 0s - loss: 214.5905 - reconstruction_loss: 94.7508 - KL_loss: 20.2439"
     ]
    },
    {
     "name": "stdout",
     "output_type": "stream",
     "text": [
      "\b\b\b\b\b\b\b\b\b\b\b\b\b\b\b\b\b\b\b\b\b\b\b\b\b\b\b\b\b\b\b\b\b\b\b\b\b\b\b\b\b\b\b\b\b\b\b\b\b\b\b\b\b\b\b\b\b\b\b\b\b\b\b\b\b\b\b\b\b\b\b\b\b\b\b\b\b\b\b\b\b\b\b\b\b\b\b\b\b\b\b\b\b\b\b\b\b\b\b\b\b\b\b\b\b\b\b\b\b\b\b\b\b\b\b\b\b\b\b\b\b\b\b\r",
      "412416/412416 [==============================] - 12s 29us/sample - loss: 214.5905 - reconstruction_loss: 94.7508 - KL_loss: 20.2439 - val_loss: 109.0082 - val_reconstruction_loss: 88.9543 - val_KL_loss: 20.0539 - lr: 0.0027\n",
      "Epoch 219/1000\n"
     ]
    },
    {
     "name": "stdout",
     "output_type": "stream",
     "text": [
      "\r",
      "412416/412416 [==============================] - ETA: 0s - loss: 215.6327 - reconstruction_loss: 94.9056 - KL_loss: 20.4875"
     ]
    },
    {
     "name": "stdout",
     "output_type": "stream",
     "text": [
      "\b\b\b\b\b\b\b\b\b\b\b\b\b\b\b\b\b\b\b\b\b\b\b\b\b\b\b\b\b\b\b\b\b\b\b\b\b\b\b\b\b\b\b\b\b\b\b\b\b\b\b\b\b\b\b\b\b\b\b\b\b\b\b\b\b\b\b\b\b\b\b\b\b\b\b\b\b\b\b\b\b\b\b\b\b\b\b\b\b\b\b\b\b\b\b\b\b\b\b\b\b\b\b\b\b\b\b\b\b\b\b\b\b\b\b\b\b\b\b\b\b\b\b\r",
      "412416/412416 [==============================] - 12s 29us/sample - loss: 215.6327 - reconstruction_loss: 94.9056 - KL_loss: 20.4875 - val_loss: 108.6638 - val_reconstruction_loss: 88.6569 - val_KL_loss: 20.0069 - lr: 0.0027\n",
      "Epoch 220/1000\n"
     ]
    },
    {
     "name": "stdout",
     "output_type": "stream",
     "text": [
      "\r",
      "412416/412416 [==============================] - ETA: 0s - loss: 214.6076 - reconstruction_loss: 94.6064 - KL_loss: 20.4336"
     ]
    },
    {
     "name": "stdout",
     "output_type": "stream",
     "text": [
      "\b\b\b\b\b\b\b\b\b\b\b\b\b\b\b\b\b\b\b\b\b\b\b\b\b\b\b\b\b\b\b\b\b\b\b\b\b\b\b\b\b\b\b\b\b\b\b\b\b\b\b\b\b\b\b\b\b\b\b\b\b\b\b\b\b\b\b\b\b\b\b\b\b\b\b\b\b\b\b\b\b\b\b\b\b\b\b\b\b\b\b\b\b\b\b\b\b\b\b\b\b\b\b\b\b\b\b\b\b\b\b\b\b\b\b\b\b\b\b\b\b\b\b\r",
      "412416/412416 [==============================] - 11s 27us/sample - loss: 214.6076 - reconstruction_loss: 94.6064 - KL_loss: 20.4336 - val_loss: 108.9999 - val_reconstruction_loss: 88.9219 - val_KL_loss: 20.0780 - lr: 0.0027\n",
      "Epoch 221/1000\n"
     ]
    },
    {
     "name": "stdout",
     "output_type": "stream",
     "text": [
      "\r",
      "412416/412416 [==============================] - ETA: 0s - loss: 215.1495 - reconstruction_loss: 94.8757 - KL_loss: 20.4984"
     ]
    },
    {
     "name": "stdout",
     "output_type": "stream",
     "text": [
      "\b\b\b\b\b\b\b\b\b\b\b\b\b\b\b\b\b\b\b\b\b\b\b\b\b\b\b\b\b\b\b\b\b\b\b\b\b\b\b\b\b\b\b\b\b\b\b\b\b\b\b\b\b\b\b\b\b\b\b\b\b\b\b\b\b\b\b\b\b\b\b\b\b\b\b\b\b\b\b\b\b\b\b\b\b\b\b\b\b\b\b\b\b\b\b\b\b\b\b\b\b\b\b\b\b\b\b\b\b\b\b\b\b\b\b\b\b\b\b\b\b\b\b\r",
      "412416/412416 [==============================] - 11s 27us/sample - loss: 215.1495 - reconstruction_loss: 94.8757 - KL_loss: 20.4984 - val_loss: 108.6631 - val_reconstruction_loss: 88.7190 - val_KL_loss: 19.9441 - lr: 0.0027\n",
      "Epoch 222/1000\n"
     ]
    },
    {
     "name": "stdout",
     "output_type": "stream",
     "text": [
      "\r",
      "412416/412416 [==============================] - ETA: 0s - loss: 214.7615 - reconstruction_loss: 94.6712 - KL_loss: 20.3689"
     ]
    },
    {
     "name": "stdout",
     "output_type": "stream",
     "text": [
      "\b\b\b\b\b\b\b\b\b\b\b\b\b\b\b\b\b\b\b\b\b\b\b\b\b\b\b\b\b\b\b\b\b\b\b\b\b\b\b\b\b\b\b\b\b\b\b\b\b\b\b\b\b\b\b\b\b\b\b\b\b\b\b\b\b\b\b\b\b\b\b\b\b\b\b\b\b\b\b\b\b\b\b\b\b\b\b\b\b\b\b\b\b\b\b\b\b\b\b\b\b\b\b\b\b\b\b\b\b\b\b\b\b\b\b\b\b\b\b\b\b\b\b\r",
      "412416/412416 [==============================] - 11s 27us/sample - loss: 214.7615 - reconstruction_loss: 94.6712 - KL_loss: 20.3689 - val_loss: 108.6615 - val_reconstruction_loss: 89.0135 - val_KL_loss: 19.6480 - lr: 0.0027\n",
      "Epoch 223/1000\n"
     ]
    },
    {
     "name": "stdout",
     "output_type": "stream",
     "text": [
      "\r",
      "412416/412416 [==============================] - ETA: 0s - loss: 214.3232 - reconstruction_loss: 94.9493 - KL_loss: 20.0791"
     ]
    },
    {
     "name": "stdout",
     "output_type": "stream",
     "text": [
      "\b\b\b\b\b\b\b\b\b\b\b\b\b\b\b\b\b\b\b\b\b\b\b\b\b\b\b\b\b\b\b\b\b\b\b\b\b\b\b\b\b\b\b\b\b\b\b\b\b\b\b\b\b\b\b\b\b\b\b\b\b\b\b\b\b\b\b\b\b\b\b\b\b\b\b\b\b\b\b\b\b\b\b\b\b\b\b\b\b\b\b\b\b\b\b\b\b\b\b\b\b\b\b\b\b\b\b\b\b\b\b\b\b\b\b\b\b\b\b\b\b\b\b\r",
      "412416/412416 [==============================] - 11s 27us/sample - loss: 214.3232 - reconstruction_loss: 94.9493 - KL_loss: 20.0791 - val_loss: 108.9016 - val_reconstruction_loss: 89.0571 - val_KL_loss: 19.8445 - lr: 0.0027\n",
      "Epoch 224/1000\n"
     ]
    },
    {
     "name": "stdout",
     "output_type": "stream",
     "text": [
      "\r",
      "412416/412416 [==============================] - ETA: 0s - loss: 214.4690 - reconstruction_loss: 95.0021 - KL_loss: 20.2756"
     ]
    },
    {
     "name": "stdout",
     "output_type": "stream",
     "text": [
      "\b\b\b\b\b\b\b\b\b\b\b\b\b\b\b\b\b\b\b\b\b\b\b\b\b\b\b\b\b\b\b\b\b\b\b\b\b\b\b\b\b\b\b\b\b\b\b\b\b\b\b\b\b\b\b\b\b\b\b\b\b\b\b\b\b\b\b\b\b\b\b\b\b\b\b\b\b\b\b\b\b\b\b\b\b\b\b\b\b\b\b\b\b\b\b\b\b\b\b\b\b\b\b\b\b\b\b\b\b\b\b\b\b\b\b\b\b\b\b\b\b\b\b\r",
      "412416/412416 [==============================] - 11s 27us/sample - loss: 214.4690 - reconstruction_loss: 95.0021 - KL_loss: 20.2756 - val_loss: 108.7038 - val_reconstruction_loss: 88.6567 - val_KL_loss: 20.0471 - lr: 0.0027\n",
      "Epoch 225/1000\n"
     ]
    },
    {
     "name": "stdout",
     "output_type": "stream",
     "text": [
      "\r",
      "412416/412416 [==============================] - ETA: 0s - loss: 213.9706 - reconstruction_loss: 94.5713 - KL_loss: 20.4635"
     ]
    },
    {
     "name": "stdout",
     "output_type": "stream",
     "text": [
      "\b\b\b\b\b\b\b\b\b\b\b\b\b\b\b\b\b\b\b\b\b\b\b\b\b\b\b\b\b\b\b\b\b\b\b\b\b\b\b\b\b\b\b\b\b\b\b\b\b\b\b\b\b\b\b\b\b\b\b\b\b\b\b\b\b\b\b\b\b\b\b\b\b\b\b\b\b\b\b\b\b\b\b\b\b\b\b\b\b\b\b\b\b\b\b\b\b\b\b\b\b\b\b\b\b\b\b\b\b\b\b\b\b\b\b\b\b\b\b\b\b\b\b\r",
      "412416/412416 [==============================] - 12s 30us/sample - loss: 213.9706 - reconstruction_loss: 94.5713 - KL_loss: 20.4635 - val_loss: 108.4287 - val_reconstruction_loss: 88.4136 - val_KL_loss: 20.0151 - lr: 0.0027\n",
      "Epoch 226/1000\n"
     ]
    },
    {
     "name": "stdout",
     "output_type": "stream",
     "text": [
      "\r",
      "412416/412416 [==============================] - ETA: 0s - loss: 213.3489 - reconstruction_loss: 94.3362 - KL_loss: 20.4416"
     ]
    },
    {
     "name": "stdout",
     "output_type": "stream",
     "text": [
      "\b\b\b\b\b\b\b\b\b\b\b\b\b\b\b\b\b\b\b\b\b\b\b\b\b\b\b\b\b\b\b\b\b\b\b\b\b\b\b\b\b\b\b\b\b\b\b\b\b\b\b\b\b\b\b\b\b\b\b\b\b\b\b\b\b\b\b\b\b\b\b\b\b\b\b\b\b\b\b\b\b\b\b\b\b\b\b\b\b\b\b\b\b\b\b\b\b\b\b\b\b\b\b\b\b\b\b\b\b\b\b\b\b\b\b\b\b\b\b\b\b\b\b\r",
      "412416/412416 [==============================] - 11s 27us/sample - loss: 213.3489 - reconstruction_loss: 94.3362 - KL_loss: 20.4416 - val_loss: 108.8303 - val_reconstruction_loss: 88.8872 - val_KL_loss: 19.9432 - lr: 0.0027\n",
      "Epoch 227/1000\n"
     ]
    },
    {
     "name": "stdout",
     "output_type": "stream",
     "text": [
      "\r",
      "412416/412416 [==============================] - ETA: 0s - loss: 214.0289 - reconstruction_loss: 94.8011 - KL_loss: 20.3727"
     ]
    },
    {
     "name": "stdout",
     "output_type": "stream",
     "text": [
      "\b\b\b\b\b\b\b\b\b\b\b\b\b\b\b\b\b\b\b\b\b\b\b\b\b\b\b\b\b\b\b\b\b\b\b\b\b\b\b\b\b\b\b\b\b\b\b\b\b\b\b\b\b\b\b\b\b\b\b\b\b\b\b\b\b\b\b\b\b\b\b\b\b\b\b\b\b\b\b\b\b\b\b\b\b\b\b\b\b\b\b\b\b\b\b\b\b\b\b\b\b\b\b\b\b\b\b\b\b\b\b\b\b\b\b\b\b\b\b\b\b\b\b\r",
      "412416/412416 [==============================] - 12s 29us/sample - loss: 214.0289 - reconstruction_loss: 94.8011 - KL_loss: 20.3727 - val_loss: 108.5679 - val_reconstruction_loss: 88.5465 - val_KL_loss: 20.0213 - lr: 0.0027\n",
      "Epoch 228/1000\n"
     ]
    },
    {
     "name": "stdout",
     "output_type": "stream",
     "text": [
      "\r",
      "412416/412416 [==============================] - ETA: 0s - loss: 213.3176 - reconstruction_loss: 94.4652 - KL_loss: 20.4588"
     ]
    },
    {
     "name": "stdout",
     "output_type": "stream",
     "text": [
      "\b\b\b\b\b\b\b\b\b\b\b\b\b\b\b\b\b\b\b\b\b\b\b\b\b\b\b\b\b\b\b\b\b\b\b\b\b\b\b\b\b\b\b\b\b\b\b\b\b\b\b\b\b\b\b\b\b\b\b\b\b\b\b\b\b\b\b\b\b\b\b\b\b\b\b\b\b\b\b\b\b\b\b\b\b\b\b\b\b\b\b\b\b\b\b\b\b\b\b\b\b\b\b\b\b\b\b\b\b\b\b\b\b\b\b\b\b\b\b\b\b\b\b\r",
      "412416/412416 [==============================] - 12s 29us/sample - loss: 213.3176 - reconstruction_loss: 94.4652 - KL_loss: 20.4588 - val_loss: 108.4950 - val_reconstruction_loss: 88.6447 - val_KL_loss: 19.8503 - lr: 0.0027\n",
      "Epoch 229/1000\n"
     ]
    },
    {
     "name": "stdout",
     "output_type": "stream",
     "text": [
      "\r",
      "412416/412416 [==============================] - ETA: 0s - loss: 212.8297 - reconstruction_loss: 94.5854 - KL_loss: 20.2675"
     ]
    },
    {
     "name": "stdout",
     "output_type": "stream",
     "text": [
      "\b\b\b\b\b\b\b\b\b\b\b\b\b\b\b\b\b\b\b\b\b\b\b\b\b\b\b\b\b\b\b\b\b\b\b\b\b\b\b\b\b\b\b\b\b\b\b\b\b\b\b\b\b\b\b\b\b\b\b\b\b\b\b\b\b\b\b\b\b\b\b\b\b\b\b\b\b\b\b\b\b\b\b\b\b\b\b\b\b\b\b\b\b\b\b\b\b\b\b\b\b\b\b\b\b\b\b\b\b\b\b\b\b\b\b\b\b\b\b\b\b\b\b\r",
      "412416/412416 [==============================] - 12s 29us/sample - loss: 212.8297 - reconstruction_loss: 94.5854 - KL_loss: 20.2675 - val_loss: 108.7620 - val_reconstruction_loss: 88.9116 - val_KL_loss: 19.8504 - lr: 0.0027\n",
      "Epoch 230/1000\n"
     ]
    },
    {
     "name": "stdout",
     "output_type": "stream",
     "text": [
      "\r",
      "412416/412416 [==============================] - ETA: 0s - loss: 213.3700 - reconstruction_loss: 94.8411 - KL_loss: 20.2778"
     ]
    },
    {
     "name": "stdout",
     "output_type": "stream",
     "text": [
      "\b\b\b\b\b\b\b\b\b\b\b\b\b\b\b\b\b\b\b\b\b\b\b\b\b\b\b\b\b\b\b\b\b\b\b\b\b\b\b\b\b\b\b\b\b\b\b\b\b\b\b\b\b\b\b\b\b\b\b\b\b\b\b\b\b\b\b\b\b\b\b\b\b\b\b\b\b\b\b\b\b\b\b\b\b\b\b\b\b\b\b\b\b\b\b\b\b\b\b\b\b\b\b\b\b\b\b\b\b\b\b\b\b\b\b\b\b\b\b\b\b\b\b\r",
      "412416/412416 [==============================] - 11s 26us/sample - loss: 213.3700 - reconstruction_loss: 94.8411 - KL_loss: 20.2778 - val_loss: 108.5085 - val_reconstruction_loss: 88.7470 - val_KL_loss: 19.7615 - lr: 0.0027\n",
      "Epoch 231/1000\n"
     ]
    },
    {
     "name": "stdout",
     "output_type": "stream",
     "text": [
      "\r",
      "412416/412416 [==============================] - ETA: 0s - loss: 212.4044 - reconstruction_loss: 94.6356 - KL_loss: 20.1877"
     ]
    },
    {
     "name": "stdout",
     "output_type": "stream",
     "text": [
      "\b\b\b\b\b\b\b\b\b\b\b\b\b\b\b\b\b\b\b\b\b\b\b\b\b\b\b\b\b\b\b\b\b\b\b\b\b\b\b\b\b\b\b\b\b\b\b\b\b\b\b\b\b\b\b\b\b\b\b\b\b\b\b\b\b\b\b\b\b\b\b\b\b\b\b\b\b\b\b\b\b\b\b\b\b\b\b\b\b\b\b\b\b\b\b\b\b\b\b\b\b\b\b\b\b\b\b\b\b\b\b\b\b\b\b\b\b\b\b\b\b\b\b\r",
      "412416/412416 [==============================] - 12s 30us/sample - loss: 212.4044 - reconstruction_loss: 94.6356 - KL_loss: 20.1877 - val_loss: 108.4814 - val_reconstruction_loss: 88.5620 - val_KL_loss: 19.9195 - lr: 0.0027\n",
      "Epoch 232/1000\n"
     ]
    },
    {
     "name": "stdout",
     "output_type": "stream",
     "text": [
      "\r",
      "412416/412416 [==============================] - ETA: 0s - loss: 212.3102 - reconstruction_loss: 94.4675 - KL_loss: 20.3538"
     ]
    },
    {
     "name": "stdout",
     "output_type": "stream",
     "text": [
      "\b\b\b\b\b\b\b\b\b\b\b\b\b\b\b\b\b\b\b\b\b\b\b\b\b\b\b\b\b\b\b\b\b\b\b\b\b\b\b\b\b\b\b\b\b\b\b\b\b\b\b\b\b\b\b\b\b\b\b\b\b\b\b\b\b\b\b\b\b\b\b\b\b\b\b\b\b\b\b\b\b\b\b\b\b\b\b\b\b\b\b\b\b\b\b\b\b\b\b\b\b\b\b\b\b\b\b\b\b\b\b\b\b\b\b\b\b\b\b\b\b\b\b\r",
      "412416/412416 [==============================] - 11s 27us/sample - loss: 212.3102 - reconstruction_loss: 94.4675 - KL_loss: 20.3538 - val_loss: 108.5956 - val_reconstruction_loss: 88.5653 - val_KL_loss: 20.0303 - lr: 0.0027\n",
      "Epoch 233/1000\n"
     ]
    },
    {
     "name": "stdout",
     "output_type": "stream",
     "text": [
      "\r",
      "412416/412416 [==============================] - ETA: 0s - loss: 212.5305 - reconstruction_loss: 94.4696 - KL_loss: 20.4482"
     ]
    },
    {
     "name": "stdout",
     "output_type": "stream",
     "text": [
      "\b\b\b\b\b\b\b\b\b\b\b\b\b\b\b\b\b\b\b\b\b\b\b\b\b\b\b\b\b\b\b\b\b\b\b\b\b\b\b\b\b\b\b\b\b\b\b\b\b\b\b\b\b\b\b\b\b\b\b\b\b\b\b\b\b\b\b\b\b\b\b\b\b\b\b\b\b\b\b\b\b\b\b\b\b\b\b\b\b\b\b\b\b\b\b\b\b\b\b\b\b\b\b\b\b\b\b\b\b\b\b\b\b\b\b\b\b\b\b\b\b\b\b\r",
      "412416/412416 [==============================] - 12s 30us/sample - loss: 212.5305 - reconstruction_loss: 94.4696 - KL_loss: 20.4482 - val_loss: 108.4116 - val_reconstruction_loss: 88.2715 - val_KL_loss: 20.1401 - lr: 0.0027\n",
      "Epoch 234/1000\n"
     ]
    },
    {
     "name": "stdout",
     "output_type": "stream",
     "text": [
      "\r",
      "412416/412416 [==============================] - ETA: 0s - loss: 211.9964 - reconstruction_loss: 94.1806 - KL_loss: 20.5673"
     ]
    },
    {
     "name": "stdout",
     "output_type": "stream",
     "text": [
      "\b\b\b\b\b\b\b\b\b\b\b\b\b\b\b\b\b\b\b\b\b\b\b\b\b\b\b\b\b\b\b\b\b\b\b\b\b\b\b\b\b\b\b\b\b\b\b\b\b\b\b\b\b\b\b\b\b\b\b\b\b\b\b\b\b\b\b\b\b\b\b\b\b\b\b\b\b\b\b\b\b\b\b\b\b\b\b\b\b\b\b\b\b\b\b\b\b\b\b\b\b\b\b\b\b\b\b\b\b\b\b\b\b\b\b\b\b\b\b\b\b\b\b\r",
      "412416/412416 [==============================] - 12s 29us/sample - loss: 211.9964 - reconstruction_loss: 94.1806 - KL_loss: 20.5673 - val_loss: 108.4347 - val_reconstruction_loss: 88.6169 - val_KL_loss: 19.8178 - lr: 0.0027\n",
      "Epoch 235/1000\n"
     ]
    },
    {
     "name": "stdout",
     "output_type": "stream",
     "text": [
      "\r",
      "412416/412416 [==============================] - ETA: 0s - loss: 211.9208 - reconstruction_loss: 94.4843 - KL_loss: 20.2463"
     ]
    },
    {
     "name": "stdout",
     "output_type": "stream",
     "text": [
      "\b\b\b\b\b\b\b\b\b\b\b\b\b\b\b\b\b\b\b\b\b\b\b\b\b\b\b\b\b\b\b\b\b\b\b\b\b\b\b\b\b\b\b\b\b\b\b\b\b\b\b\b\b\b\b\b\b\b\b\b\b\b\b\b\b\b\b\b\b\b\b\b\b\b\b\b\b\b\b\b\b\b\b\b\b\b\b\b\b\b\b\b\b\b\b\b\b\b\b\b\b\b\b\b\b\b\b\b\b\b\b\b\b\b\b\b\b\b\b\b\b\b\b\r",
      "412416/412416 [==============================] - 12s 29us/sample - loss: 211.9208 - reconstruction_loss: 94.4843 - KL_loss: 20.2463 - val_loss: 108.4831 - val_reconstruction_loss: 88.6211 - val_KL_loss: 19.8620 - lr: 0.0027\n",
      "Epoch 236/1000\n"
     ]
    },
    {
     "name": "stdout",
     "output_type": "stream",
     "text": [
      "\r",
      "412416/412416 [==============================] - ETA: 0s - loss: 211.6518 - reconstruction_loss: 94.4767 - KL_loss: 20.2990"
     ]
    },
    {
     "name": "stdout",
     "output_type": "stream",
     "text": [
      "\b\b\b\b\b\b\b\b\b\b\b\b\b\b\b\b\b\b\b\b\b\b\b\b\b\b\b\b\b\b\b\b\b\b\b\b\b\b\b\b\b\b\b\b\b\b\b\b\b\b\b\b\b\b\b\b\b\b\b\b\b\b\b\b\b\b\b\b\b\b\b\b\b\b\b\b\b\b\b\b\b\b\b\b\b\b\b\b\b\b\b\b\b\b\b\b\b\b\b\b\b\b\b\b\b\b\b\b\b\b\b\b\b\b\b\b\b\b\b\b\b\b\b\r",
      "412416/412416 [==============================] - 12s 29us/sample - loss: 211.6518 - reconstruction_loss: 94.4767 - KL_loss: 20.2990 - val_loss: 108.6016 - val_reconstruction_loss: 88.7060 - val_KL_loss: 19.8956 - lr: 0.0027\n",
      "Epoch 237/1000\n"
     ]
    },
    {
     "name": "stdout",
     "output_type": "stream",
     "text": [
      "\r",
      "412416/412416 [==============================] - ETA: 0s - loss: 211.5954 - reconstruction_loss: 94.5431 - KL_loss: 20.3228"
     ]
    },
    {
     "name": "stdout",
     "output_type": "stream",
     "text": [
      "\b\b\b\b\b\b\b\b\b\b\b\b\b\b\b\b\b\b\b\b\b\b\b\b\b\b\b\b\b\b\b\b\b\b\b\b\b\b\b\b\b\b\b\b\b\b\b\b\b\b\b\b\b\b\b\b\b\b\b\b\b\b\b\b\b\b\b\b\b\b\b\b\b\b\b\b\b\b\b\b\b\b\b\b\b\b\b\b\b\b\b\b\b\b\b\b\b\b\b\b\b\b\b\b\b\b\b\b\b\b\b\b\b\b\b\b\b\b\b\b\b\b\b\r",
      "412416/412416 [==============================] - 12s 29us/sample - loss: 211.5954 - reconstruction_loss: 94.5431 - KL_loss: 20.3228 - val_loss: 108.4910 - val_reconstruction_loss: 88.4440 - val_KL_loss: 20.0470 - lr: 0.0027\n",
      "Epoch 238/1000\n"
     ]
    },
    {
     "name": "stdout",
     "output_type": "stream",
     "text": [
      "\r",
      "412416/412416 [==============================] - ETA: 0s - loss: 211.3322 - reconstruction_loss: 94.3099 - KL_loss: 20.4738"
     ]
    },
    {
     "name": "stdout",
     "output_type": "stream",
     "text": [
      "\b\b\b\b\b\b\b\b\b\b\b\b\b\b\b\b\b\b\b\b\b\b\b\b\b\b\b\b\b\b\b\b\b\b\b\b\b\b\b\b\b\b\b\b\b\b\b\b\b\b\b\b\b\b\b\b\b\b\b\b\b\b\b\b\b\b\b\b\b\b\b\b\b\b\b\b\b\b\b\b\b\b\b\b\b\b\b\b\b\b\b\b\b\b\b\b\b\b\b\b\b\b\b\b\b\b\b\b\b\b\b\b\b\b\b\b\b\b\b\b\b\b\b\r",
      "412416/412416 [==============================] - 12s 29us/sample - loss: 211.3322 - reconstruction_loss: 94.3099 - KL_loss: 20.4738 - val_loss: 108.4599 - val_reconstruction_loss: 88.6835 - val_KL_loss: 19.7764 - lr: 0.0027\n",
      "Epoch 239/1000\n"
     ]
    },
    {
     "name": "stdout",
     "output_type": "stream",
     "text": [
      "\r",
      "412416/412416 [==============================] - ETA: 0s - loss: 211.5110 - reconstruction_loss: 94.5378 - KL_loss: 20.2068"
     ]
    },
    {
     "name": "stdout",
     "output_type": "stream",
     "text": [
      "\b\b\b\b\b\b\b\b\b\b\b\b\b\b\b\b\b\b\b\b\b\b\b\b\b\b\b\b\b\b\b\b\b\b\b\b\b\b\b\b\b\b\b\b\b\b\b\b\b\b\b\b\b\b\b\b\b\b\b\b\b\b\b\b\b\b\b\b\b\b\b\b\b\b\b\b\b\b\b\b\b\b\b\b\b\b\b\b\b\b\b\b\b\b\b\b\b\b\b\b\b\b\b\b\b\b\b\b\b\b\b\b\b\b\b\b\b\b\b\b\b\b\b\r",
      "412416/412416 [==============================] - 12s 29us/sample - loss: 211.5110 - reconstruction_loss: 94.5378 - KL_loss: 20.2068 - val_loss: 108.2035 - val_reconstruction_loss: 88.3667 - val_KL_loss: 19.8369 - lr: 0.0027\n",
      "Epoch 240/1000\n"
     ]
    },
    {
     "name": "stdout",
     "output_type": "stream",
     "text": [
      "\r",
      "412416/412416 [==============================] - ETA: 0s - loss: 210.7677 - reconstruction_loss: 94.2557 - KL_loss: 20.2657"
     ]
    },
    {
     "name": "stdout",
     "output_type": "stream",
     "text": [
      "\b\b\b\b\b\b\b\b\b\b\b\b\b\b\b\b\b\b\b\b\b\b\b\b\b\b\b\b\b\b\b\b\b\b\b\b\b\b\b\b\b\b\b\b\b\b\b\b\b\b\b\b\b\b\b\b\b\b\b\b\b\b\b\b\b\b\b\b\b\b\b\b\b\b\b\b\b\b\b\b\b\b\b\b\b\b\b\b\b\b\b\b\b\b\b\b\b\b\b\b\b\b\b\b\b\b\b\b\b\b\b\b\b\b\b\b\b\b\b\b\b\b\b\r",
      "412416/412416 [==============================] - 12s 29us/sample - loss: 210.7677 - reconstruction_loss: 94.2557 - KL_loss: 20.2657 - val_loss: 108.6084 - val_reconstruction_loss: 88.5145 - val_KL_loss: 20.0939 - lr: 0.0027\n",
      "Epoch 241/1000\n"
     ]
    },
    {
     "name": "stdout",
     "output_type": "stream",
     "text": [
      "\r",
      "412416/412416 [==============================] - ETA: 0s - loss: 211.7837 - reconstruction_loss: 94.3717 - KL_loss: 20.5238"
     ]
    },
    {
     "name": "stdout",
     "output_type": "stream",
     "text": [
      "\b\b\b\b\b\b\b\b\b\b\b\b\b\b\b\b\b\b\b\b\b\b\b\b\b\b\b\b\b\b\b\b\b\b\b\b\b\b\b\b\b\b\b\b\b\b\b\b\b\b\b\b\b\b\b\b\b\b\b\b\b\b\b\b\b\b\b\b\b\b\b\b\b\b\b\b\b\b\b\b\b\b\b\b\b\b\b\b\b\b\b\b\b\b\b\b\b\b\b\b\b\b\b\b\b\b\b\b\b\b\b\b\b\b\b\b\b\b\b\b\b\b\b\r",
      "412416/412416 [==============================] - 12s 30us/sample - loss: 211.7837 - reconstruction_loss: 94.3717 - KL_loss: 20.5238 - val_loss: 108.3212 - val_reconstruction_loss: 88.2780 - val_KL_loss: 20.0432 - lr: 0.0027\n",
      "Epoch 242/1000\n"
     ]
    },
    {
     "name": "stdout",
     "output_type": "stream",
     "text": [
      "\r",
      "412416/412416 [==============================] - ETA: 0s - loss: 210.6517 - reconstruction_loss: 94.1314 - KL_loss: 20.4661"
     ]
    },
    {
     "name": "stdout",
     "output_type": "stream",
     "text": [
      "\b\b\b\b\b\b\b\b\b\b\b\b\b\b\b\b\b\b\b\b\b\b\b\b\b\b\b\b\b\b\b\b\b\b\b\b\b\b\b\b\b\b\b\b\b\b\b\b\b\b\b\b\b\b\b\b\b\b\b\b\b\b\b\b\b\b\b\b\b\b\b\b\b\b\b\b\b\b\b\b\b\b\b\b\b\b\b\b\b\b\b\b\b\b\b\b\b\b\b\b\b\b\b\b\b\b\b\b\b\b\b\b\b\b\b\b\b\b\b\b\b\b\b\r",
      "412416/412416 [==============================] - 12s 29us/sample - loss: 210.6517 - reconstruction_loss: 94.1314 - KL_loss: 20.4661 - val_loss: 108.5157 - val_reconstruction_loss: 88.4877 - val_KL_loss: 20.0280 - lr: 0.0027\n",
      "Epoch 243/1000\n"
     ]
    },
    {
     "name": "stdout",
     "output_type": "stream",
     "text": [
      "\r",
      "412416/412416 [==============================] - ETA: 0s - loss: 211.2390 - reconstruction_loss: 94.3548 - KL_loss: 20.4600"
     ]
    },
    {
     "name": "stdout",
     "output_type": "stream",
     "text": [
      "\b\b\b\b\b\b\b\b\b\b\b\b\b\b\b\b\b\b\b\b\b\b\b\b\b\b\b\b\b\b\b\b\b\b\b\b\b\b\b\b\b\b\b\b\b\b\b\b\b\b\b\b\b\b\b\b\b\b\b\b\b\b\b\b\b\b\b\b\b\b\b\b\b\b\b\b\b\b\b\b\b\b\b\b\b\b\b\b\b\b\b\b\b\b\b\b\b\b\b\b\b\b\b\b\b\b\b\b\b\b\b\b\b\b\b\b\b\b\b\b\b\b\b\r",
      "412416/412416 [==============================] - 12s 29us/sample - loss: 211.2390 - reconstruction_loss: 94.3548 - KL_loss: 20.4600 - val_loss: 108.3111 - val_reconstruction_loss: 88.3824 - val_KL_loss: 19.9288 - lr: 0.0027\n",
      "Epoch 244/1000\n"
     ]
    },
    {
     "name": "stdout",
     "output_type": "stream",
     "text": [
      "\r",
      "412416/412416 [==============================] - ETA: 0s - loss: 210.7415 - reconstruction_loss: 94.2612 - KL_loss: 20.3621"
     ]
    },
    {
     "name": "stdout",
     "output_type": "stream",
     "text": [
      "\b\b\b\b\b\b\b\b\b\b\b\b\b\b\b\b\b\b\b\b\b\b\b\b\b\b\b\b\b\b\b\b\b\b\b\b\b\b\b\b\b\b\b\b\b\b\b\b\b\b\b\b\b\b\b\b\b\b\b\b\b\b\b\b\b\b\b\b\b\b\b\b\b\b\b\b\b\b\b\b\b\b\b\b\b\b\b\b\b\b\b\b\b\b\b\b\b\b\b\b\b\b\b\b\b\b\b\b\b\b\b\b\b\b\b\b\b\b\b\b\b\b\b\r",
      "412416/412416 [==============================] - 12s 29us/sample - loss: 210.7415 - reconstruction_loss: 94.2612 - KL_loss: 20.3621 - val_loss: 108.4576 - val_reconstruction_loss: 88.3621 - val_KL_loss: 20.0954 - lr: 0.0027\n",
      "Epoch 245/1000\n"
     ]
    },
    {
     "name": "stdout",
     "output_type": "stream",
     "text": [
      "\r",
      "412416/412416 [==============================] - ETA: 0s - loss: 210.5101 - reconstruction_loss: 94.1953 - KL_loss: 20.5162"
     ]
    },
    {
     "name": "stdout",
     "output_type": "stream",
     "text": [
      "\b\b\b\b\b\b\b\b\b\b\b\b\b\b\b\b\b\b\b\b\b\b\b\b\b\b\b\b\b\b\b\b\b\b\b\b\b\b\b\b\b\b\b\b\b\b\b\b\b\b\b\b\b\b\b\b\b\b\b\b\b\b\b\b\b\b\b\b\b\b\b\b\b\b\b\b\b\b\b\b\b\b\b\b\b\b\b\b\b\b\b\b\b\b\b\b\b\b\b\b\b\b\b\b\b\b\b\b\b\b\b\b\b\b\b\b\b\b\b\b\b\b\b\r",
      "412416/412416 [==============================] - 12s 29us/sample - loss: 210.5101 - reconstruction_loss: 94.1953 - KL_loss: 20.5162 - val_loss: 108.3883 - val_reconstruction_loss: 88.4320 - val_KL_loss: 19.9563 - lr: 0.0027\n",
      "Epoch 246/1000\n"
     ]
    },
    {
     "name": "stdout",
     "output_type": "stream",
     "text": [
      "\r",
      "412416/412416 [==============================] - ETA: 0s - loss: 210.6028 - reconstruction_loss: 94.3011 - KL_loss: 20.3791"
     ]
    },
    {
     "name": "stdout",
     "output_type": "stream",
     "text": [
      "\b\b\b\b\b\b\b\b\b\b\b\b\b\b\b\b\b\b\b\b\b\b\b\b\b\b\b\b\b\b\b\b\b\b\b\b\b\b\b\b\b\b\b\b\b\b\b\b\b\b\b\b\b\b\b\b\b\b\b\b\b\b\b\b\b\b\b\b\b\b\b\b\b\b\b\b\b\b\b\b\b\b\b\b\b\b\b\b\b\b\b\b\b\b\b\b\b\b\b\b\b\b\b\b\b\b\b\b\b\b\b\b\b\b\b\b\b\b\b\b\b\b\b\r",
      "412416/412416 [==============================] - 12s 29us/sample - loss: 210.6028 - reconstruction_loss: 94.3011 - KL_loss: 20.3791 - val_loss: 108.2684 - val_reconstruction_loss: 88.4322 - val_KL_loss: 19.8363 - lr: 0.0027\n",
      "Epoch 247/1000\n"
     ]
    },
    {
     "name": "stdout",
     "output_type": "stream",
     "text": [
      "\r",
      "412416/412416 [==============================] - ETA: 0s - loss: 209.7138 - reconstruction_loss: 94.2397 - KL_loss: 20.2631"
     ]
    },
    {
     "name": "stdout",
     "output_type": "stream",
     "text": [
      "\b\b\b\b\b\b\b\b\b\b\b\b\b\b\b\b\b\b\b\b\b\b\b\b\b\b\b\b\b\b\b\b\b\b\b\b\b\b\b\b\b\b\b\b\b\b\b\b\b\b\b\b\b\b\b\b\b\b\b\b\b\b\b\b\b\b\b\b\b\b\b\b\b\b\b\b\b\b\b\b\b\b\b\b\b\b\b\b\b\b\b\b\b\b\b\b\b\b\b\b\b\b\b\b\b\b\b\b\b\b\b\b\b\b\b\b\b\b\b\b\b\b\b\r",
      "412416/412416 [==============================] - 12s 29us/sample - loss: 209.7138 - reconstruction_loss: 94.2397 - KL_loss: 20.2631 - val_loss: 108.7107 - val_reconstruction_loss: 88.6143 - val_KL_loss: 20.0964 - lr: 0.0027\n",
      "Epoch 248/1000\n"
     ]
    },
    {
     "name": "stdout",
     "output_type": "stream",
     "text": [
      "\r",
      "412416/412416 [==============================] - ETA: 0s - loss: 210.9500 - reconstruction_loss: 94.4610 - KL_loss: 20.5240"
     ]
    },
    {
     "name": "stdout",
     "output_type": "stream",
     "text": [
      "\b\b\b\b\b\b\b\b\b\b\b\b\b\b\b\b\b\b\b\b\b\b\b\b\b\b\b\b\b\b\b\b\b\b\b\b\b\b\b\b\b\b\b\b\b\b\b\b\b\b\b\b\b\b\b\b\b\b\b\b\b\b\b\b\b\b\b\b\b\b\b\b\b\b\b\b\b\b\b\b\b\b\b\b\b\b\b\b\b\b\b\b\b\b\b\b\b\b\b\b\b\b\b\b\b\b\b\b\b\b\b\b\b\b\b\b\b\b\b\b\b\b\b\r",
      "412416/412416 [==============================] - 12s 28us/sample - loss: 210.9500 - reconstruction_loss: 94.4610 - KL_loss: 20.5240 - val_loss: 108.1969 - val_reconstruction_loss: 88.0554 - val_KL_loss: 20.1414 - lr: 0.0027\n",
      "Epoch 249/1000\n"
     ]
    },
    {
     "name": "stdout",
     "output_type": "stream",
     "text": [
      "\r",
      "412416/412416 [==============================] - ETA: 0s - loss: 209.5809 - reconstruction_loss: 93.8913 - KL_loss: 20.5654"
     ]
    },
    {
     "name": "stdout",
     "output_type": "stream",
     "text": [
      "\b\b\b\b\b\b\b\b\b\b\b\b\b\b\b\b\b\b\b\b\b\b\b\b\b\b\b\b\b\b\b\b\b\b\b\b\b\b\b\b\b\b\b\b\b\b\b\b\b\b\b\b\b\b\b\b\b\b\b\b\b\b\b\b\b\b\b\b\b\b\b\b\b\b\b\b\b\b\b\b\b\b\b\b\b\b\b\b\b\b\b\b\b\b\b\b\b\b\b\b\b\b\b\b\b\b\b\b\b\b\b\b\b\b\b\b\b\b\b\b\b\b\b\r",
      "412416/412416 [==============================] - 12s 28us/sample - loss: 209.5809 - reconstruction_loss: 93.8913 - KL_loss: 20.5654 - val_loss: 108.5381 - val_reconstruction_loss: 88.4464 - val_KL_loss: 20.0917 - lr: 0.0027\n",
      "Epoch 250/1000\n"
     ]
    },
    {
     "name": "stdout",
     "output_type": "stream",
     "text": [
      "\r",
      "412416/412416 [==============================] - ETA: 0s - loss: 210.3831 - reconstruction_loss: 94.3038 - KL_loss: 20.5037"
     ]
    },
    {
     "name": "stdout",
     "output_type": "stream",
     "text": [
      "\b\b\b\b\b\b\b\b\b\b\b\b\b\b\b\b\b\b\b\b\b\b\b\b\b\b\b\b\b\b\b\b\b\b\b\b\b\b\b\b\b\b\b\b\b\b\b\b\b\b\b\b\b\b\b\b\b\b\b\b\b\b\b\b\b\b\b\b\b\b\b\b\b\b\b\b\b\b\b\b\b\b\b\b\b\b\b\b\b\b\b\b\b\b\b\b\b\b\b\b\b\b\b\b\b\b\b\b\b\b\b\b\b\b\b\b\b\b\b\b\b\b\b\r",
      "412416/412416 [==============================] - 12s 29us/sample - loss: 210.3831 - reconstruction_loss: 94.3038 - KL_loss: 20.5037 - val_loss: 108.5447 - val_reconstruction_loss: 88.5286 - val_KL_loss: 20.0162 - lr: 0.0027\n",
      "Epoch 251/1000\n"
     ]
    },
    {
     "name": "stdout",
     "output_type": "stream",
     "text": [
      "\r",
      "412416/412416 [==============================] - ETA: 0s - loss: 210.0613 - reconstruction_loss: 94.3629 - KL_loss: 20.4385"
     ]
    },
    {
     "name": "stdout",
     "output_type": "stream",
     "text": [
      "\b\b\b\b\b\b\b\b\b\b\b\b\b\b\b\b\b\b\b\b\b\b\b\b\b\b\b\b\b\b\b\b\b\b\b\b\b\b\b\b\b\b\b\b\b\b\b\b\b\b\b\b\b\b\b\b\b\b\b\b\b\b\b\b\b\b\b\b\b\b\b\b\b\b\b\b\b\b\b\b\b\b\b\b\b\b\b\b\b\b\b\b\b\b\b\b\b\b\b\b\b\b\b\b\b\b\b\b\b\b\b\b\b\b\b\b\b\b\b\b\b\b\b\r",
      "412416/412416 [==============================] - 13s 30us/sample - loss: 210.0613 - reconstruction_loss: 94.3629 - KL_loss: 20.4385 - val_loss: 108.2419 - val_reconstruction_loss: 88.3289 - val_KL_loss: 19.9130 - lr: 0.0027\n",
      "Epoch 252/1000\n"
     ]
    },
    {
     "name": "stdout",
     "output_type": "stream",
     "text": [
      "\r",
      "412416/412416 [==============================] - ETA: 0s - loss: 209.3696 - reconstruction_loss: 94.1546 - KL_loss: 20.3332"
     ]
    },
    {
     "name": "stdout",
     "output_type": "stream",
     "text": [
      "\b\b\b\b\b\b\b\b\b\b\b\b\b\b\b\b\b\b\b\b\b\b\b\b\b\b\b\b\b\b\b\b\b\b\b\b\b\b\b\b\b\b\b\b\b\b\b\b\b\b\b\b\b\b\b\b\b\b\b\b\b\b\b\b\b\b\b\b\b\b\b\b\b\b\b\b\b\b\b\b\b\b\b\b\b\b\b\b\b\b\b\b\b\b\b\b\b\b\b\b\b\b\b\b\b\b\b\b\b\b\b\b\b\b\b\b\b\b\b\b\b\b\b\r",
      "412416/412416 [==============================] - 12s 28us/sample - loss: 209.3696 - reconstruction_loss: 94.1546 - KL_loss: 20.3332 - val_loss: 108.3366 - val_reconstruction_loss: 88.2664 - val_KL_loss: 20.0701 - lr: 0.0027\n",
      "Epoch 253/1000\n"
     ]
    },
    {
     "name": "stdout",
     "output_type": "stream",
     "text": [
      "\r",
      "412416/412416 [==============================] - ETA: 0s - loss: 209.5202 - reconstruction_loss: 94.0977 - KL_loss: 20.4926"
     ]
    },
    {
     "name": "stdout",
     "output_type": "stream",
     "text": [
      "\b\b\b\b\b\b\b\b\b\b\b\b\b\b\b\b\b\b\b\b\b\b\b\b\b\b\b\b\b\b\b\b\b\b\b\b\b\b\b\b\b\b\b\b\b\b\b\b\b\b\b\b\b\b\b\b\b\b\b\b\b\b\b\b\b\b\b\b\b\b\b\b\b\b\b\b\b\b\b\b\b\b\b\b\b\b\b\b\b\b\b\b\b\b\b\b\b\b\b\b\b\b\b\b\b\b\b\b\b\b\b\b\b\b\b\b\b\b\b\b\b\b\b\r",
      "412416/412416 [==============================] - 12s 29us/sample - loss: 209.5202 - reconstruction_loss: 94.0977 - KL_loss: 20.4926 - val_loss: 108.2411 - val_reconstruction_loss: 88.1981 - val_KL_loss: 20.0430 - lr: 0.0027\n",
      "Epoch 254/1000\n"
     ]
    },
    {
     "name": "stdout",
     "output_type": "stream",
     "text": [
      "\r",
      "412416/412416 [==============================] - ETA: 0s - loss: 209.1547 - reconstruction_loss: 94.0192 - KL_loss: 20.4552"
     ]
    },
    {
     "name": "stdout",
     "output_type": "stream",
     "text": [
      "\b\b\b\b\b\b\b\b\b\b\b\b\b\b\b\b\b\b\b\b\b\b\b\b\b\b\b\b\b\b\b\b\b\b\b\b\b\b\b\b\b\b\b\b\b\b\b\b\b\b\b\b\b\b\b\b\b\b\b\b\b\b\b\b\b\b\b\b\b\b\b\b\b\b\b\b\b\b\b\b\b\b\b\b\b\b\b\b\b\b\b\b\b\b\b\b\b\b\b\b\b\b\b\b\b\b\b\b\b\b\b\b\b\b\b\b\b\b\b\b\b\b\b\r",
      "412416/412416 [==============================] - 12s 29us/sample - loss: 209.1547 - reconstruction_loss: 94.0192 - KL_loss: 20.4552 - val_loss: 108.3887 - val_reconstruction_loss: 88.2005 - val_KL_loss: 20.1882 - lr: 0.0027\n",
      "Epoch 255/1000\n"
     ]
    },
    {
     "name": "stdout",
     "output_type": "stream",
     "text": [
      "\r",
      "412416/412416 [==============================] - ETA: 0s - loss: 208.9648 - reconstruction_loss: 94.0396 - KL_loss: 20.6048"
     ]
    },
    {
     "name": "stdout",
     "output_type": "stream",
     "text": [
      "\b\b\b\b\b\b\b\b\b\b\b\b\b\b\b\b\b\b\b\b\b\b\b\b\b\b\b\b\b\b\b\b\b\b\b\b\b\b\b\b\b\b\b\b\b\b\b\b\b\b\b\b\b\b\b\b\b\b\b\b\b\b\b\b\b\b\b\b\b\b\b\b\b\b\b\b\b\b\b\b\b\b\b\b\b\b\b\b\b\b\b\b\b\b\b\b\b\b\b\b\b\b\b\b\b\b\b\b\b\b\b\b\b\b\b\b\b\b\b\b\b\b\b\r",
      "412416/412416 [==============================] - 12s 29us/sample - loss: 208.9648 - reconstruction_loss: 94.0396 - KL_loss: 20.6048 - val_loss: 108.4808 - val_reconstruction_loss: 88.3209 - val_KL_loss: 20.1598 - lr: 0.0027\n",
      "Epoch 256/1000\n"
     ]
    },
    {
     "name": "stdout",
     "output_type": "stream",
     "text": [
      "\r",
      "412416/412416 [==============================] - ETA: 0s - loss: 209.0707 - reconstruction_loss: 94.1296 - KL_loss: 20.5716"
     ]
    },
    {
     "name": "stdout",
     "output_type": "stream",
     "text": [
      "\b\b\b\b\b\b\b\b\b\b\b\b\b\b\b\b\b\b\b\b\b\b\b\b\b\b\b\b\b\b\b\b\b\b\b\b\b\b\b\b\b\b\b\b\b\b\b\b\b\b\b\b\b\b\b\b\b\b\b\b\b\b\b\b\b\b\b\b\b\b\b\b\b\b\b\b\b\b\b\b\b\b\b\b\b\b\b\b\b\b\b\b\b\b\b\b\b\b\b\b\b\b\b\b\b\b\b\b\b\b\b\b\b\b\b\b\b\b\b\b\b\b\b\r",
      "412416/412416 [==============================] - 12s 29us/sample - loss: 209.0707 - reconstruction_loss: 94.1296 - KL_loss: 20.5716 - val_loss: 108.2404 - val_reconstruction_loss: 88.3647 - val_KL_loss: 19.8757 - lr: 0.0027\n",
      "Epoch 257/1000\n"
     ]
    },
    {
     "name": "stdout",
     "output_type": "stream",
     "text": [
      "\r",
      "412416/412416 [==============================] - ETA: 0s - loss: 208.2145 - reconstruction_loss: 94.1825 - KL_loss: 20.2993"
     ]
    },
    {
     "name": "stdout",
     "output_type": "stream",
     "text": [
      "\b\b\b\b\b\b\b\b\b\b\b\b\b\b\b\b\b\b\b\b\b\b\b\b\b\b\b\b\b\b\b\b\b\b\b\b\b\b\b\b\b\b\b\b\b\b\b\b\b\b\b\b\b\b\b\b\b\b\b\b\b\b\b\b\b\b\b\b\b\b\b\b\b\b\b\b\b\b\b\b\b\b\b\b\b\b\b\b\b\b\b\b\b\b\b\b\b\b\b\b\b\b\b\b\b\b\b\b\b\b\b\b\b\b\b\b\b\b\b\b\b\b\b\r",
      "412416/412416 [==============================] - 12s 29us/sample - loss: 208.2145 - reconstruction_loss: 94.1825 - KL_loss: 20.2993 - val_loss: 108.6794 - val_reconstruction_loss: 88.8242 - val_KL_loss: 19.8552 - lr: 0.0027\n",
      "Epoch 258/1000\n"
     ]
    },
    {
     "name": "stdout",
     "output_type": "stream",
     "text": [
      "\r",
      "412416/412416 [==============================] - ETA: 0s - loss: 209.1618 - reconstruction_loss: 94.6942 - KL_loss: 20.2664"
     ]
    },
    {
     "name": "stdout",
     "output_type": "stream",
     "text": [
      "\b\b\b\b\b\b\b\b\b\b\b\b\b\b\b\b\b\b\b\b\b\b\b\b\b\b\b\b\b\b\b\b\b\b\b\b\b\b\b\b\b\b\b\b\b\b\b\b\b\b\b\b\b\b\b\b\b\b\b\b\b\b\b\b\b\b\b\b\b\b\b\b\b\b\b\b\b\b\b\b\b\b\b\b\b\b\b\b\b\b\b\b\b\b\b\b\b\b\b\b\b\b\b\b\b\b\b\b\b\b\b\b\b\b\b\b\b\b\b\b\b\b\b\r",
      "412416/412416 [==============================] - 11s 26us/sample - loss: 209.1618 - reconstruction_loss: 94.6942 - KL_loss: 20.2664 - val_loss: 108.0343 - val_reconstruction_loss: 88.0636 - val_KL_loss: 19.9707 - lr: 0.0027\n",
      "Epoch 259/1000\n"
     ]
    },
    {
     "name": "stdout",
     "output_type": "stream",
     "text": [
      "\r",
      "412416/412416 [==============================] - ETA: 0s - loss: 208.0844 - reconstruction_loss: 93.8687 - KL_loss: 20.3867"
     ]
    },
    {
     "name": "stdout",
     "output_type": "stream",
     "text": [
      "\b\b\b\b\b\b\b\b\b\b\b\b\b\b\b\b\b\b\b\b\b\b\b\b\b\b\b\b\b\b\b\b\b\b\b\b\b\b\b\b\b\b\b\b\b\b\b\b\b\b\b\b\b\b\b\b\b\b\b\b\b\b\b\b\b\b\b\b\b\b\b\b\b\b\b\b\b\b\b\b\b\b\b\b\b\b\b\b\b\b\b\b\b\b\b\b\b\b\b\b\b\b\b\b\b\b\b\b\b\b\b\b\b\b\b\b\b\b\b\b\b\b\b\r",
      "412416/412416 [==============================] - 12s 30us/sample - loss: 208.0844 - reconstruction_loss: 93.8687 - KL_loss: 20.3867 - val_loss: 108.2792 - val_reconstruction_loss: 87.9099 - val_KL_loss: 20.3693 - lr: 0.0027\n",
      "Epoch 260/1000\n"
     ]
    },
    {
     "name": "stdout",
     "output_type": "stream",
     "text": [
      "\r",
      "412416/412416 [==============================] - ETA: 0s - loss: 208.4576 - reconstruction_loss: 93.7274 - KL_loss: 20.7844"
     ]
    },
    {
     "name": "stdout",
     "output_type": "stream",
     "text": [
      "\b\b\b\b\b\b\b\b\b\b\b\b\b\b\b\b\b\b\b\b\b\b\b\b\b\b\b\b\b\b\b\b\b\b\b\b\b\b\b\b\b\b\b\b\b\b\b\b\b\b\b\b\b\b\b\b\b\b\b\b\b\b\b\b\b\b\b\b\b\b\b\b\b\b\b\b\b\b\b\b\b\b\b\b\b\b\b\b\b\b\b\b\b\b\b\b\b\b\b\b\b\b\b\b\b\b\b\b\b\b\b\b\b\b\b\b\b\b\b\b\b\b\b\r",
      "412416/412416 [==============================] - 11s 27us/sample - loss: 208.4576 - reconstruction_loss: 93.7274 - KL_loss: 20.7844 - val_loss: 108.2611 - val_reconstruction_loss: 88.1241 - val_KL_loss: 20.1369 - lr: 0.0027\n",
      "Epoch 261/1000\n"
     ]
    },
    {
     "name": "stdout",
     "output_type": "stream",
     "text": [
      "\r",
      "412416/412416 [==============================] - ETA: 0s - loss: 208.3432 - reconstruction_loss: 93.9057 - KL_loss: 20.5553"
     ]
    },
    {
     "name": "stdout",
     "output_type": "stream",
     "text": [
      "\b\b\b\b\b\b\b\b\b\b\b\b\b\b\b\b\b\b\b\b\b\b\b\b\b\b\b\b\b\b\b\b\b\b\b\b\b\b\b\b\b\b\b\b\b\b\b\b\b\b\b\b\b\b\b\b\b\b\b\b\b\b\b\b\b\b\b\b\b\b\b\b\b\b\b\b\b\b\b\b\b\b\b\b\b\b\b\b\b\b\b\b\b\b\b\b\b\b\b\b\b\b\b\b\b\b\b\b\b\b\b\b\b\b\b\b\b\b\b\b\b\b\b\r",
      "412416/412416 [==============================] - 12s 29us/sample - loss: 208.3432 - reconstruction_loss: 93.9057 - KL_loss: 20.5553 - val_loss: 108.2368 - val_reconstruction_loss: 88.4425 - val_KL_loss: 19.7942 - lr: 0.0027\n",
      "Epoch 262/1000\n"
     ]
    },
    {
     "name": "stdout",
     "output_type": "stream",
     "text": [
      "\r",
      "412416/412416 [==============================] - ETA: 0s - loss: 207.9485 - reconstruction_loss: 94.2469 - KL_loss: 20.2162"
     ]
    },
    {
     "name": "stdout",
     "output_type": "stream",
     "text": [
      "\b\b\b\b\b\b\b\b\b\b\b\b\b\b\b\b\b\b\b\b\b\b\b\b\b\b\b\b\b\b\b\b\b\b\b\b\b\b\b\b\b\b\b\b\b\b\b\b\b\b\b\b\b\b\b\b\b\b\b\b\b\b\b\b\b\b\b\b\b\b\b\b\b\b\b\b\b\b\b\b\b\b\b\b\b\b\b\b\b\b\b\b\b\b\b\b\b\b\b\b\b\b\b\b\b\b\b\b\b\b\b\b\b\b\b\b\b\b\b\b\b\b\b\r",
      "412416/412416 [==============================] - 12s 28us/sample - loss: 207.9485 - reconstruction_loss: 94.2469 - KL_loss: 20.2162 - val_loss: 108.1620 - val_reconstruction_loss: 88.1491 - val_KL_loss: 20.0130 - lr: 0.0027\n",
      "Epoch 263/1000\n"
     ]
    },
    {
     "name": "stdout",
     "output_type": "stream",
     "text": [
      "\r",
      "412416/412416 [==============================] - ETA: 0s - loss: 207.9370 - reconstruction_loss: 93.9360 - KL_loss: 20.4250"
     ]
    },
    {
     "name": "stdout",
     "output_type": "stream",
     "text": [
      "\b\b\b\b\b\b\b\b\b\b\b\b\b\b\b\b\b\b\b\b\b\b\b\b\b\b\b\b\b\b\b\b\b\b\b\b\b\b\b\b\b\b\b\b\b\b\b\b\b\b\b\b\b\b\b\b\b\b\b\b\b\b\b\b\b\b\b\b\b\b\b\b\b\b\b\b\b\b\b\b\b\b\b\b\b\b\b\b\b\b\b\b\b\b\b\b\b\b\b\b\b\b\b\b\b\b\b\b\b\b\b\b\b\b\b\b\b\b\b\b\b\b\b\r",
      "412416/412416 [==============================] - 12s 29us/sample - loss: 207.9370 - reconstruction_loss: 93.9360 - KL_loss: 20.4250 - val_loss: 108.1730 - val_reconstruction_loss: 88.0263 - val_KL_loss: 20.1467 - lr: 0.0027\n",
      "Epoch 264/1000\n"
     ]
    },
    {
     "name": "stdout",
     "output_type": "stream",
     "text": [
      "\r",
      "412416/412416 [==============================] - ETA: 0s - loss: 207.3504 - reconstruction_loss: 93.8012 - KL_loss: 20.5586"
     ]
    },
    {
     "name": "stdout",
     "output_type": "stream",
     "text": [
      "\b\b\b\b\b\b\b\b\b\b\b\b\b\b\b\b\b\b\b\b\b\b\b\b\b\b\b\b\b\b\b\b\b\b\b\b\b\b\b\b\b\b\b\b\b\b\b\b\b\b\b\b\b\b\b\b\b\b\b\b\b\b\b\b\b\b\b\b\b\b\b\b\b\b\b\b\b\b\b\b\b\b\b\b\b\b\b\b\b\b\b\b\b\b\b\b\b\b\b\b\b\b\b\b\b\b\b\b\b\b\b\b\b\b\b\b\b\b\b\b\b\b\b\r",
      "412416/412416 [==============================] - 12s 29us/sample - loss: 207.3504 - reconstruction_loss: 93.8012 - KL_loss: 20.5586 - val_loss: 108.8073 - val_reconstruction_loss: 88.5442 - val_KL_loss: 20.2631 - lr: 0.0027\n",
      "Epoch 265/1000\n"
     ]
    },
    {
     "name": "stdout",
     "output_type": "stream",
     "text": [
      "\r",
      "412416/412416 [==============================] - ETA: 0s - loss: 208.2090 - reconstruction_loss: 94.3083 - KL_loss: 20.6816"
     ]
    },
    {
     "name": "stdout",
     "output_type": "stream",
     "text": [
      "\b\b\b\b\b\b\b\b\b\b\b\b\b\b\b\b\b\b\b\b\b\b\b\b\b\b\b\b\b\b\b\b\b\b\b\b\b\b\b\b\b\b\b\b\b\b\b\b\b\b\b\b\b\b\b\b\b\b\b\b\b\b\b\b\b\b\b\b\b\b\b\b\b\b\b\b\b\b\b\b\b\b\b\b\b\b\b\b\b\b\b\b\b\b\b\b\b\b\b\b\b\b\b\b\b\b\b\b\b\b\b\b\b\b\b\b\b\b\b\b\b\b\b\r",
      "412416/412416 [==============================] - 12s 28us/sample - loss: 208.2090 - reconstruction_loss: 94.3083 - KL_loss: 20.6816 - val_loss: 108.1109 - val_reconstruction_loss: 88.0377 - val_KL_loss: 20.0732 - lr: 0.0027\n",
      "Epoch 266/1000\n"
     ]
    },
    {
     "name": "stdout",
     "output_type": "stream",
     "text": [
      "\r",
      "412416/412416 [==============================] - ETA: 0s - loss: 207.5260 - reconstruction_loss: 93.8297 - KL_loss: 20.4926"
     ]
    },
    {
     "name": "stdout",
     "output_type": "stream",
     "text": [
      "\b\b\b\b\b\b\b\b\b\b\b\b\b\b\b\b\b\b\b\b\b\b\b\b\b\b\b\b\b\b\b\b\b\b\b\b\b\b\b\b\b\b\b\b\b\b\b\b\b\b\b\b\b\b\b\b\b\b\b\b\b\b\b\b\b\b\b\b\b\b\b\b\b\b\b\b\b\b\b\b\b\b\b\b\b\b\b\b\b\b\b\b\b\b\b\b\b\b\b\b\b\b\b\b\b\b\b\b\b\b\b\b\b\b\b\b\b\b\b\b\b\b\b\r",
      "412416/412416 [==============================] - 12s 29us/sample - loss: 207.5260 - reconstruction_loss: 93.8297 - KL_loss: 20.4926 - val_loss: 108.0660 - val_reconstruction_loss: 88.0109 - val_KL_loss: 20.0551 - lr: 0.0027\n",
      "Epoch 267/1000\n"
     ]
    },
    {
     "name": "stdout",
     "output_type": "stream",
     "text": [
      "\r",
      "412416/412416 [==============================] - ETA: 0s - loss: 207.2258 - reconstruction_loss: 93.7951 - KL_loss: 20.4713"
     ]
    },
    {
     "name": "stdout",
     "output_type": "stream",
     "text": [
      "\b\b\b\b\b\b\b\b\b\b\b\b\b\b\b\b\b\b\b\b\b\b\b\b\b\b\b\b\b\b\b\b\b\b\b\b\b\b\b\b\b\b\b\b\b\b\b\b\b\b\b\b\b\b\b\b\b\b\b\b\b\b\b\b\b\b\b\b\b\b\b\b\b\b\b\b\b\b\b\b\b\b\b\b\b\b\b\b\b\b\b\b\b\b\b\b\b\b\b\b\b\b\b\b\b\b\b\b\b\b\b\b\b\b\b\b\b\b\b\b\b\b\b\r",
      "412416/412416 [==============================] - 12s 29us/sample - loss: 207.2258 - reconstruction_loss: 93.7951 - KL_loss: 20.4713 - val_loss: 108.4719 - val_reconstruction_loss: 88.3767 - val_KL_loss: 20.0952 - lr: 0.0027\n",
      "Epoch 268/1000\n"
     ]
    },
    {
     "name": "stdout",
     "output_type": "stream",
     "text": [
      "\r",
      "412416/412416 [==============================] - ETA: 0s - loss: 207.3937 - reconstruction_loss: 94.1742 - KL_loss: 20.5036"
     ]
    },
    {
     "name": "stdout",
     "output_type": "stream",
     "text": [
      "\b\b\b\b\b\b\b\b\b\b\b\b\b\b\b\b\b\b\b\b\b\b\b\b\b\b\b\b\b\b\b\b\b\b\b\b\b\b\b\b\b\b\b\b\b\b\b\b\b\b\b\b\b\b\b\b\b\b\b\b\b\b\b\b\b\b\b\b\b\b\b\b\b\b\b\b\b\b\b\b\b\b\b\b\b\b\b\b\b\b\b\b\b\b\b\b\b\b\b\b\b\b\b\b\b\b\b\b\b\b\b\b\b\b\b\b\b\b\b\b\b\b\b\r",
      "412416/412416 [==============================] - 12s 29us/sample - loss: 207.3937 - reconstruction_loss: 94.1742 - KL_loss: 20.5036 - val_loss: 108.5960 - val_reconstruction_loss: 88.6202 - val_KL_loss: 19.9758 - lr: 0.0027\n",
      "Epoch 269/1000\n"
     ]
    },
    {
     "name": "stdout",
     "output_type": "stream",
     "text": [
      "\r",
      "412416/412416 [==============================] - ETA: 0s - loss: 207.2582 - reconstruction_loss: 94.3713 - KL_loss: 20.3997"
     ]
    },
    {
     "name": "stdout",
     "output_type": "stream",
     "text": [
      "\b\b\b\b\b\b\b\b\b\b\b\b\b\b\b\b\b\b\b\b\b\b\b\b\b\b\b\b\b\b\b\b\b\b\b\b\b\b\b\b\b\b\b\b\b\b\b\b\b\b\b\b\b\b\b\b\b\b\b\b\b\b\b\b\b\b\b\b\b\b\b\b\b\b\b\b\b\b\b\b\b\b\b\b\b\b\b\b\b\b\b\b\b\b\b\b\b\b\b\b\b\b\b\b\b\b\b\b\b\b\b\b\b\b\b\b\b\b\b\b\b\b\b\r",
      "412416/412416 [==============================] - 12s 29us/sample - loss: 207.2582 - reconstruction_loss: 94.3713 - KL_loss: 20.3997 - val_loss: 107.9228 - val_reconstruction_loss: 87.7781 - val_KL_loss: 20.1447 - lr: 0.0024\n",
      "Epoch 270/1000\n"
     ]
    },
    {
     "name": "stdout",
     "output_type": "stream",
     "text": [
      "\r",
      "412416/412416 [==============================] - ETA: 0s - loss: 206.4623 - reconstruction_loss: 93.5506 - KL_loss: 20.5632"
     ]
    },
    {
     "name": "stdout",
     "output_type": "stream",
     "text": [
      "\b\b\b\b\b\b\b\b\b\b\b\b\b\b\b\b\b\b\b\b\b\b\b\b\b\b\b\b\b\b\b\b\b\b\b\b\b\b\b\b\b\b\b\b\b\b\b\b\b\b\b\b\b\b\b\b\b\b\b\b\b\b\b\b\b\b\b\b\b\b\b\b\b\b\b\b\b\b\b\b\b\b\b\b\b\b\b\b\b\b\b\b\b\b\b\b\b\b\b\b\b\b\b\b\b\b\b\b\b\b\b\b\b\b\b\b\b\b\b\b\b\b\b\r",
      "412416/412416 [==============================] - 12s 29us/sample - loss: 206.4623 - reconstruction_loss: 93.5506 - KL_loss: 20.5632 - val_loss: 108.0328 - val_reconstruction_loss: 87.6914 - val_KL_loss: 20.3414 - lr: 0.0024\n",
      "Epoch 271/1000\n"
     ]
    },
    {
     "name": "stdout",
     "output_type": "stream",
     "text": [
      "\r",
      "412416/412416 [==============================] - ETA: 0s - loss: 206.4444 - reconstruction_loss: 93.4303 - KL_loss: 20.7563"
     ]
    },
    {
     "name": "stdout",
     "output_type": "stream",
     "text": [
      "\b\b\b\b\b\b\b\b\b\b\b\b\b\b\b\b\b\b\b\b\b\b\b\b\b\b\b\b\b\b\b\b\b\b\b\b\b\b\b\b\b\b\b\b\b\b\b\b\b\b\b\b\b\b\b\b\b\b\b\b\b\b\b\b\b\b\b\b\b\b\b\b\b\b\b\b\b\b\b\b\b\b\b\b\b\b\b\b\b\b\b\b\b\b\b\b\b\b\b\b\b\b\b\b\b\b\b\b\b\b\b\b\b\b\b\b\b\b\b\b\b\b\b\r",
      "412416/412416 [==============================] - 12s 29us/sample - loss: 206.4444 - reconstruction_loss: 93.4303 - KL_loss: 20.7563 - val_loss: 108.1161 - val_reconstruction_loss: 88.0950 - val_KL_loss: 20.0211 - lr: 0.0024\n",
      "Epoch 272/1000\n"
     ]
    },
    {
     "name": "stdout",
     "output_type": "stream",
     "text": [
      "\r",
      "412416/412416 [==============================] - ETA: 0s - loss: 206.3574 - reconstruction_loss: 93.8681 - KL_loss: 20.4337"
     ]
    },
    {
     "name": "stdout",
     "output_type": "stream",
     "text": [
      "\b\b\b\b\b\b\b\b\b\b\b\b\b\b\b\b\b\b\b\b\b\b\b\b\b\b\b\b\b\b\b\b\b\b\b\b\b\b\b\b\b\b\b\b\b\b\b\b\b\b\b\b\b\b\b\b\b\b\b\b\b\b\b\b\b\b\b\b\b\b\b\b\b\b\b\b\b\b\b\b\b\b\b\b\b\b\b\b\b\b\b\b\b\b\b\b\b\b\b\b\b\b\b\b\b\b\b\b\b\b\b\b\b\b\b\b\b\b\b\b\b\b\b\r",
      "412416/412416 [==============================] - 12s 29us/sample - loss: 206.3574 - reconstruction_loss: 93.8681 - KL_loss: 20.4337 - val_loss: 108.0772 - val_reconstruction_loss: 88.0170 - val_KL_loss: 20.0602 - lr: 0.0024\n",
      "Epoch 273/1000\n"
     ]
    },
    {
     "name": "stdout",
     "output_type": "stream",
     "text": [
      "\r",
      "412416/412416 [==============================] - ETA: 0s - loss: 206.3756 - reconstruction_loss: 93.7723 - KL_loss: 20.4807"
     ]
    },
    {
     "name": "stdout",
     "output_type": "stream",
     "text": [
      "\b\b\b\b\b\b\b\b\b\b\b\b\b\b\b\b\b\b\b\b\b\b\b\b\b\b\b\b\b\b\b\b\b\b\b\b\b\b\b\b\b\b\b\b\b\b\b\b\b\b\b\b\b\b\b\b\b\b\b\b\b\b\b\b\b\b\b\b\b\b\b\b\b\b\b\b\b\b\b\b\b\b\b\b\b\b\b\b\b\b\b\b\b\b\b\b\b\b\b\b\b\b\b\b\b\b\b\b\b\b\b\b\b\b\b\b\b\b\b\b\b\b\b\r",
      "412416/412416 [==============================] - 12s 29us/sample - loss: 206.3756 - reconstruction_loss: 93.7723 - KL_loss: 20.4807 - val_loss: 107.8857 - val_reconstruction_loss: 87.8287 - val_KL_loss: 20.0571 - lr: 0.0024\n",
      "Epoch 274/1000\n"
     ]
    },
    {
     "name": "stdout",
     "output_type": "stream",
     "text": [
      "\r",
      "412416/412416 [==============================] - ETA: 0s - loss: 205.6192 - reconstruction_loss: 93.6020 - KL_loss: 20.4744"
     ]
    },
    {
     "name": "stdout",
     "output_type": "stream",
     "text": [
      "\b\b\b\b\b\b\b\b\b\b\b\b\b\b\b\b\b\b\b\b\b\b\b\b\b\b\b\b\b\b\b\b\b\b\b\b\b\b\b\b\b\b\b\b\b\b\b\b\b\b\b\b\b\b\b\b\b\b\b\b\b\b\b\b\b\b\b\b\b\b\b\b\b\b\b\b\b\b\b\b\b\b\b\b\b\b\b\b\b\b\b\b\b\b\b\b\b\b\b\b\b\b\b\b\b\b\b\b\b\b\b\b\b\b\b\b\b\b\b\b\b\b\b\r",
      "412416/412416 [==============================] - 12s 30us/sample - loss: 205.6192 - reconstruction_loss: 93.6020 - KL_loss: 20.4744 - val_loss: 108.4754 - val_reconstruction_loss: 88.1941 - val_KL_loss: 20.2813 - lr: 0.0024\n",
      "Epoch 275/1000\n"
     ]
    },
    {
     "name": "stdout",
     "output_type": "stream",
     "text": [
      "\r",
      "412416/412416 [==============================] - ETA: 0s - loss: 207.0298 - reconstruction_loss: 93.9868 - KL_loss: 20.6925"
     ]
    },
    {
     "name": "stdout",
     "output_type": "stream",
     "text": [
      "\b\b\b\b\b\b\b\b\b\b\b\b\b\b\b\b\b\b\b\b\b\b\b\b\b\b\b\b\b\b\b\b\b\b\b\b\b\b\b\b\b\b\b\b\b\b\b\b\b\b\b\b\b\b\b\b\b\b\b\b\b\b\b\b\b\b\b\b\b\b\b\b\b\b\b\b\b\b\b\b\b\b\b\b\b\b\b\b\b\b\b\b\b\b\b\b\b\b\b\b\b\b\b\b\b\b\b\b\b\b\b\b\b\b\b\b\b\b\b\b\b\b\b\r",
      "412416/412416 [==============================] - 12s 29us/sample - loss: 207.0298 - reconstruction_loss: 93.9868 - KL_loss: 20.6925 - val_loss: 107.9143 - val_reconstruction_loss: 87.6962 - val_KL_loss: 20.2180 - lr: 0.0024\n",
      "Epoch 276/1000\n"
     ]
    },
    {
     "name": "stdout",
     "output_type": "stream",
     "text": [
      "\r",
      "412416/412416 [==============================] - ETA: 0s - loss: 205.7940 - reconstruction_loss: 93.4651 - KL_loss: 20.6320"
     ]
    },
    {
     "name": "stdout",
     "output_type": "stream",
     "text": [
      "\b\b\b\b\b\b\b\b\b\b\b\b\b\b\b\b\b\b\b\b\b\b\b\b\b\b\b\b\b\b\b\b\b\b\b\b\b\b\b\b\b\b\b\b\b\b\b\b\b\b\b\b\b\b\b\b\b\b\b\b\b\b\b\b\b\b\b\b\b\b\b\b\b\b\b\b\b\b\b\b\b\b\b\b\b\b\b\b\b\b\b\b\b\b\b\b\b\b\b\b\b\b\b\b\b\b\b\b\b\b\b\b\b\b\b\b\b\b\b\b\b\b\b\r",
      "412416/412416 [==============================] - 12s 29us/sample - loss: 205.7940 - reconstruction_loss: 93.4651 - KL_loss: 20.6320 - val_loss: 108.5487 - val_reconstruction_loss: 88.4908 - val_KL_loss: 20.0579 - lr: 0.0024\n",
      "Epoch 277/1000\n"
     ]
    },
    {
     "name": "stdout",
     "output_type": "stream",
     "text": [
      "\r",
      "412416/412416 [==============================] - ETA: 0s - loss: 207.1240 - reconstruction_loss: 94.2524 - KL_loss: 20.4818"
     ]
    },
    {
     "name": "stdout",
     "output_type": "stream",
     "text": [
      "\b\b\b\b\b\b\b\b\b\b\b\b\b\b\b\b\b\b\b\b\b\b\b\b\b\b\b\b\b\b\b\b\b\b\b\b\b\b\b\b\b\b\b\b\b\b\b\b\b\b\b\b\b\b\b\b\b\b\b\b\b\b\b\b\b\b\b\b\b\b\b\b\b\b\b\b\b\b\b\b\b\b\b\b\b\b\b\b\b\b\b\b\b\b\b\b\b\b\b\b\b\b\b\b\b\b\b\b\b\b\b\b\b\b\b\b\b\b\b\b\b\b\b\r",
      "412416/412416 [==============================] - 12s 29us/sample - loss: 207.1240 - reconstruction_loss: 94.2524 - KL_loss: 20.4818 - val_loss: 108.3786 - val_reconstruction_loss: 88.0692 - val_KL_loss: 20.3094 - lr: 0.0024\n",
      "Epoch 278/1000\n"
     ]
    },
    {
     "name": "stdout",
     "output_type": "stream",
     "text": [
      "\r",
      "412416/412416 [==============================] - ETA: 0s - loss: 207.0021 - reconstruction_loss: 93.8420 - KL_loss: 20.7331"
     ]
    },
    {
     "name": "stdout",
     "output_type": "stream",
     "text": [
      "\b\b\b\b\b\b\b\b\b\b\b\b\b\b\b\b\b\b\b\b\b\b\b\b\b\b\b\b\b\b\b\b\b\b\b\b\b\b\b\b\b\b\b\b\b\b\b\b\b\b\b\b\b\b\b\b\b\b\b\b\b\b\b\b\b\b\b\b\b\b\b\b\b\b\b\b\b\b\b\b\b\b\b\b\b\b\b\b\b\b\b\b\b\b\b\b\b\b\b\b\b\b\b\b\b\b\b\b\b\b\b\b\b\b\b\b\b\b\b\b\b\b\b\r",
      "412416/412416 [==============================] - 12s 29us/sample - loss: 207.0021 - reconstruction_loss: 93.8420 - KL_loss: 20.7331 - val_loss: 108.3242 - val_reconstruction_loss: 88.0076 - val_KL_loss: 20.3166 - lr: 0.0024\n",
      "Epoch 279/1000\n"
     ]
    },
    {
     "name": "stdout",
     "output_type": "stream",
     "text": [
      "\r",
      "412416/412416 [==============================] - ETA: 0s - loss: 205.9302 - reconstruction_loss: 93.7520 - KL_loss: 20.7252"
     ]
    },
    {
     "name": "stdout",
     "output_type": "stream",
     "text": [
      "\b\b\b\b\b\b\b\b\b\b\b\b\b\b\b\b\b\b\b\b\b\b\b\b\b\b\b\b\b\b\b\b\b\b\b\b\b\b\b\b\b\b\b\b\b\b\b\b\b\b\b\b\b\b\b\b\b\b\b\b\b\b\b\b\b\b\b\b\b\b\b\b\b\b\b\b\b\b\b\b\b\b\b\b\b\b\b\b\b\b\b\b\b\b\b\b\b\b\b\b\b\b\b\b\b\b\b\b\b\b\b\b\b\b\b\b\b\b\b\b\b\b\b\r",
      "412416/412416 [==============================] - 12s 28us/sample - loss: 205.9302 - reconstruction_loss: 93.7520 - KL_loss: 20.7252 - val_loss: 108.5059 - val_reconstruction_loss: 88.3990 - val_KL_loss: 20.1069 - lr: 0.0024\n",
      "Epoch 280/1000\n"
     ]
    },
    {
     "name": "stdout",
     "output_type": "stream",
     "text": [
      "\r",
      "412416/412416 [==============================] - ETA: 0s - loss: 206.3915 - reconstruction_loss: 94.1613 - KL_loss: 20.5208"
     ]
    },
    {
     "name": "stdout",
     "output_type": "stream",
     "text": [
      "\b\b\b\b\b\b\b\b\b\b\b\b\b\b\b\b\b\b\b\b\b\b\b\b\b\b\b\b\b\b\b\b\b\b\b\b\b\b\b\b\b\b\b\b\b\b\b\b\b\b\b\b\b\b\b\b\b\b\b\b\b\b\b\b\b\b\b\b\b\b\b\b\b\b\b\b\b\b\b\b\b\b\b\b\b\b\b\b\b\b\b\b\b\b\b\b\b\b\b\b\b\b\b\b\b\b\b\b\b\b\b\b\b\b\b\b\b\b\b\b\b\b\b\r",
      "412416/412416 [==============================] - 12s 29us/sample - loss: 206.3915 - reconstruction_loss: 94.1613 - KL_loss: 20.5208 - val_loss: 108.2793 - val_reconstruction_loss: 88.0742 - val_KL_loss: 20.2051 - lr: 0.0024\n",
      "Epoch 281/1000\n"
     ]
    },
    {
     "name": "stdout",
     "output_type": "stream",
     "text": [
      "\r",
      "412416/412416 [==============================] - ETA: 0s - loss: 206.0513 - reconstruction_loss: 93.8301 - KL_loss: 20.6251"
     ]
    },
    {
     "name": "stdout",
     "output_type": "stream",
     "text": [
      "\b\b\b\b\b\b\b\b\b\b\b\b\b\b\b\b\b\b\b\b\b\b\b\b\b\b\b\b\b\b\b\b\b\b\b\b\b\b\b\b\b\b\b\b\b\b\b\b\b\b\b\b\b\b\b\b\b\b\b\b\b\b\b\b\b\b\b\b\b\b\b\b\b\b\b\b\b\b\b\b\b\b\b\b\b\b\b\b\b\b\b\b\b\b\b\b\b\b\b\b\b\b\b\b\b\b\b\b\b\b\b\b\b\b\b\b\b\b\b\b\b\b\b\r",
      "412416/412416 [==============================] - 12s 29us/sample - loss: 206.0513 - reconstruction_loss: 93.8301 - KL_loss: 20.6251 - val_loss: 108.2722 - val_reconstruction_loss: 88.1349 - val_KL_loss: 20.1373 - lr: 0.0024\n",
      "Epoch 282/1000\n"
     ]
    },
    {
     "name": "stdout",
     "output_type": "stream",
     "text": [
      "\r",
      "412416/412416 [==============================] - ETA: 0s - loss: 205.6227 - reconstruction_loss: 93.8849 - KL_loss: 20.5493"
     ]
    },
    {
     "name": "stdout",
     "output_type": "stream",
     "text": [
      "\b\b\b\b\b\b\b\b\b\b\b\b\b\b\b\b\b\b\b\b\b\b\b\b\b\b\b\b\b\b\b\b\b\b\b\b\b\b\b\b\b\b\b\b\b\b\b\b\b\b\b\b\b\b\b\b\b\b\b\b\b\b\b\b\b\b\b\b\b\b\b\b\b\b\b\b\b\b\b\b\b\b\b\b\b\b\b\b\b\b\b\b\b\b\b\b\b\b\b\b\b\b\b\b\b\b\b\b\b\b\b\b\b\b\b\b\b\b\b\b\b\b\b\r",
      "412416/412416 [==============================] - 12s 29us/sample - loss: 205.6227 - reconstruction_loss: 93.8849 - KL_loss: 20.5493 - val_loss: 108.4532 - val_reconstruction_loss: 88.3716 - val_KL_loss: 20.0816 - lr: 0.0024\n",
      "Epoch 283/1000\n"
     ]
    },
    {
     "name": "stdout",
     "output_type": "stream",
     "text": [
      "\r",
      "412416/412416 [==============================] - ETA: 0s - loss: 205.8903 - reconstruction_loss: 94.0930 - KL_loss: 20.4989"
     ]
    },
    {
     "name": "stdout",
     "output_type": "stream",
     "text": [
      "\b\b\b\b\b\b\b\b\b\b\b\b\b\b\b\b\b\b\b\b\b\b\b\b\b\b\b\b\b\b\b\b\b\b\b\b\b\b\b\b\b\b\b\b\b\b\b\b\b\b\b\b\b\b\b\b\b\b\b\b\b\b\b\b\b\b\b\b\b\b\b\b\b\b\b\b\b\b\b\b\b\b\b\b\b\b\b\b\b\b\b\b\b\b\b\b\b\b\b\b\b\b\b\b\b\b\b\b\b\b\b\b\b\b\b\b\b\b\b\b\b\b\b\r",
      "412416/412416 [==============================] - 12s 29us/sample - loss: 205.8903 - reconstruction_loss: 94.0930 - KL_loss: 20.4989 - val_loss: 108.0815 - val_reconstruction_loss: 87.8808 - val_KL_loss: 20.2008 - lr: 0.0024\n",
      "Epoch 284/1000\n"
     ]
    },
    {
     "name": "stdout",
     "output_type": "stream",
     "text": [
      "\r",
      "412416/412416 [==============================] - ETA: 0s - loss: 205.3355 - reconstruction_loss: 93.6002 - KL_loss: 20.6125"
     ]
    },
    {
     "name": "stdout",
     "output_type": "stream",
     "text": [
      "\b\b\b\b\b\b\b\b\b\b\b\b\b\b\b\b\b\b\b\b\b\b\b\b\b\b\b\b\b\b\b\b\b\b\b\b\b\b\b\b\b\b\b\b\b\b\b\b\b\b\b\b\b\b\b\b\b\b\b\b\b\b\b\b\b\b\b\b\b\b\b\b\b\b\b\b\b\b\b\b\b\b\b\b\b\b\b\b\b\b\b\b\b\b\b\b\b\b\b\b\b\b\b\b\b\b\b\b\b\b\b\b\b\b\b\b\b\b\b\b\b\b\b\r",
      "412416/412416 [==============================] - 12s 29us/sample - loss: 205.3355 - reconstruction_loss: 93.6002 - KL_loss: 20.6125 - val_loss: 108.2003 - val_reconstruction_loss: 88.0226 - val_KL_loss: 20.1777 - lr: 0.0022\n",
      "Epoch 285/1000\n"
     ]
    },
    {
     "name": "stdout",
     "output_type": "stream",
     "text": [
      "\r",
      "412416/412416 [==============================] - ETA: 0s - loss: 204.8373 - reconstruction_loss: 93.7278 - KL_loss: 20.5861"
     ]
    },
    {
     "name": "stdout",
     "output_type": "stream",
     "text": [
      "\b\b\b\b\b\b\b\b\b\b\b\b\b\b\b\b\b\b\b\b\b\b\b\b\b\b\b\b\b\b\b\b\b\b\b\b\b\b\b\b\b\b\b\b\b\b\b\b\b\b\b\b\b\b\b\b\b\b\b\b\b\b\b\b\b\b\b\b\b\b\b\b\b\b\b\b\b\b\b\b\b\b\b\b\b\b\b\b\b\b\b\b\b\b\b\b\b\b\b\b\b\b\b\b\b\b\b\b\b\b\b\b\b\b\b\b\b\b\b\b\b\b\b\r",
      "412416/412416 [==============================] - 12s 29us/sample - loss: 204.8373 - reconstruction_loss: 93.7278 - KL_loss: 20.5861 - val_loss: 108.4665 - val_reconstruction_loss: 88.3226 - val_KL_loss: 20.1439 - lr: 0.0022\n",
      "Epoch 286/1000\n"
     ]
    },
    {
     "name": "stdout",
     "output_type": "stream",
     "text": [
      "\r",
      "412416/412416 [==============================] - ETA: 0s - loss: 205.5745 - reconstruction_loss: 94.0397 - KL_loss: 20.5662"
     ]
    },
    {
     "name": "stdout",
     "output_type": "stream",
     "text": [
      "\b\b\b\b\b\b\b\b\b\b\b\b\b\b\b\b\b\b\b\b\b\b\b\b\b\b\b\b\b\b\b\b\b\b\b\b\b\b\b\b\b\b\b\b\b\b\b\b\b\b\b\b\b\b\b\b\b\b\b\b\b\b\b\b\b\b\b\b\b\b\b\b\b\b\b\b\b\b\b\b\b\b\b\b\b\b\b\b\b\b\b\b\b\b\b\b\b\b\b\b\b\b\b\b\b\b\b\b\b\b\b\b\b\b\b\b\b\b\b\b\b\b\b\r",
      "412416/412416 [==============================] - 12s 29us/sample - loss: 205.5745 - reconstruction_loss: 94.0397 - KL_loss: 20.5662 - val_loss: 108.0757 - val_reconstruction_loss: 87.8369 - val_KL_loss: 20.2388 - lr: 0.0022\n",
      "Epoch 287/1000\n"
     ]
    },
    {
     "name": "stdout",
     "output_type": "stream",
     "text": [
      "\r",
      "412416/412416 [==============================] - ETA: 0s - loss: 204.7840 - reconstruction_loss: 93.5493 - KL_loss: 20.6572"
     ]
    },
    {
     "name": "stdout",
     "output_type": "stream",
     "text": [
      "\b\b\b\b\b\b\b\b\b\b\b\b\b\b\b\b\b\b\b\b\b\b\b\b\b\b\b\b\b\b\b\b\b\b\b\b\b\b\b\b\b\b\b\b\b\b\b\b\b\b\b\b\b\b\b\b\b\b\b\b\b\b\b\b\b\b\b\b\b\b\b\b\b\b\b\b\b\b\b\b\b\b\b\b\b\b\b\b\b\b\b\b\b\b\b\b\b\b\b\b\b\b\b\b\b\b\b\b\b\b\b\b\b\b\b\b\b\b\b\b\b\b\b\r",
      "412416/412416 [==============================] - 12s 29us/sample - loss: 204.7840 - reconstruction_loss: 93.5493 - KL_loss: 20.6572 - val_loss: 108.6274 - val_reconstruction_loss: 88.3637 - val_KL_loss: 20.2637 - lr: 0.0022\n",
      "Epoch 288/1000\n"
     ]
    },
    {
     "name": "stdout",
     "output_type": "stream",
     "text": [
      "\r",
      "412416/412416 [==============================] - ETA: 0s - loss: 205.3128 - reconstruction_loss: 94.0783 - KL_loss: 20.6663"
     ]
    },
    {
     "name": "stdout",
     "output_type": "stream",
     "text": [
      "\b\b\b\b\b\b\b\b\b\b\b\b\b\b\b\b\b\b\b\b\b\b\b\b\b\b\b\b\b\b\b\b\b\b\b\b\b\b\b\b\b\b\b\b\b\b\b\b\b\b\b\b\b\b\b\b\b\b\b\b\b\b\b\b\b\b\b\b\b\b\b\b\b\b\b\b\b\b\b\b\b\b\b\b\b\b\b\b\b\b\b\b\b\b\b\b\b\b\b\b\b\b\b\b\b\b\b\b\b\b\b\b\b\b\b\b\b\b\b\b\b\b\b\r",
      "412416/412416 [==============================] - 11s 27us/sample - loss: 205.3128 - reconstruction_loss: 94.0783 - KL_loss: 20.6663 - val_loss: 108.1901 - val_reconstruction_loss: 87.9927 - val_KL_loss: 20.1974 - lr: 0.0022\n",
      "Epoch 289/1000\n"
     ]
    },
    {
     "name": "stdout",
     "output_type": "stream",
     "text": [
      "\r",
      "412416/412416 [==============================] - ETA: 0s - loss: 205.2873 - reconstruction_loss: 93.7271 - KL_loss: 20.6041"
     ]
    },
    {
     "name": "stdout",
     "output_type": "stream",
     "text": [
      "\b\b\b\b\b\b\b\b\b\b\b\b\b\b\b\b\b\b\b\b\b\b\b\b\b\b\b\b\b\b\b\b\b\b\b\b\b\b\b\b\b\b\b\b\b\b\b\b\b\b\b\b\b\b\b\b\b\b\b\b\b\b\b\b\b\b\b\b\b\b\b\b\b\b\b\b\b\b\b\b\b\b\b\b\b\b\b\b\b\b\b\b\b\b\b\b\b\b\b\b\b\b\b\b\b\b\b\b\b\b\b\b\b\b\b\b\b\b\b\b\b\b\b\r",
      "412416/412416 [==============================] - 15s 37us/sample - loss: 205.2873 - reconstruction_loss: 93.7271 - KL_loss: 20.6041 - val_loss: 108.4107 - val_reconstruction_loss: 88.2778 - val_KL_loss: 20.1329 - lr: 0.0022\n",
      "Epoch 290/1000\n"
     ]
    },
    {
     "name": "stdout",
     "output_type": "stream",
     "text": [
      "\r",
      "412416/412416 [==============================] - ETA: 0s - loss: 205.3521 - reconstruction_loss: 94.0129 - KL_loss: 20.5487"
     ]
    },
    {
     "name": "stdout",
     "output_type": "stream",
     "text": [
      "\b\b\b\b\b\b\b\b\b\b\b\b\b\b\b\b\b\b\b\b\b\b\b\b\b\b\b\b\b\b\b\b\b\b\b\b\b\b\b\b\b\b\b\b\b\b\b\b\b\b\b\b\b\b\b\b\b\b\b\b\b\b\b\b\b\b\b\b\b\b\b\b\b\b\b\b\b\b\b\b\b\b\b\b\b\b\b\b\b\b\b\b\b\b\b\b\b\b\b\b\b\b\b\b\b\b\b\b\b\b\b\b\b\b\b\b\b\b\b\b\b\b\b\r",
      "412416/412416 [==============================] - 12s 30us/sample - loss: 205.3521 - reconstruction_loss: 94.0129 - KL_loss: 20.5487 - val_loss: 107.8853 - val_reconstruction_loss: 87.5742 - val_KL_loss: 20.3111 - lr: 0.0022\n",
      "Epoch 291/1000\n"
     ]
    },
    {
     "name": "stdout",
     "output_type": "stream",
     "text": [
      "\r",
      "412416/412416 [==============================] - ETA: 0s - loss: 203.8135 - reconstruction_loss: 93.2998 - KL_loss: 20.7268"
     ]
    },
    {
     "name": "stdout",
     "output_type": "stream",
     "text": [
      "\b\b\b\b\b\b\b\b\b\b\b\b\b\b\b\b\b\b\b\b\b\b\b\b\b\b\b\b\b\b\b\b\b\b\b\b\b\b\b\b\b\b\b\b\b\b\b\b\b\b\b\b\b\b\b\b\b\b\b\b\b\b\b\b\b\b\b\b\b\b\b\b\b\b\b\b\b\b\b\b\b\b\b\b\b\b\b\b\b\b\b\b\b\b\b\b\b\b\b\b\b\b\b\b\b\b\b\b\b\b\b\b\b\b\b\b\b\b\b\b\b\b\b\r",
      "412416/412416 [==============================] - 14s 34us/sample - loss: 203.8135 - reconstruction_loss: 93.2998 - KL_loss: 20.7268 - val_loss: 108.4584 - val_reconstruction_loss: 88.0301 - val_KL_loss: 20.4284 - lr: 0.0022\n",
      "Epoch 292/1000\n"
     ]
    },
    {
     "name": "stdout",
     "output_type": "stream",
     "text": [
      "\r",
      "412416/412416 [==============================] - ETA: 0s - loss: 205.6170 - reconstruction_loss: 93.7647 - KL_loss: 20.8344"
     ]
    },
    {
     "name": "stdout",
     "output_type": "stream",
     "text": [
      "\b\b\b\b\b\b\b\b\b\b\b\b\b\b\b\b\b\b\b\b\b\b\b\b\b\b\b\b\b\b\b\b\b\b\b\b\b\b\b\b\b\b\b\b\b\b\b\b\b\b\b\b\b\b\b\b\b\b\b\b\b\b\b\b\b\b\b\b\b\b\b\b\b\b\b\b\b\b\b\b\b\b\b\b\b\b\b\b\b\b\b\b\b\b\b\b\b\b\b\b\b\b\b\b\b\b\b\b\b\b\b\b\b\b\b\b\b\b\b\b\b\b\b\r",
      "412416/412416 [==============================] - 12s 30us/sample - loss: 205.6170 - reconstruction_loss: 93.7647 - KL_loss: 20.8344 - val_loss: 108.1123 - val_reconstruction_loss: 87.8442 - val_KL_loss: 20.2680 - lr: 0.0022\n",
      "Epoch 293/1000\n"
     ]
    },
    {
     "name": "stdout",
     "output_type": "stream",
     "text": [
      "\r",
      "412416/412416 [==============================] - ETA: 0s - loss: 204.7153 - reconstruction_loss: 93.5928 - KL_loss: 20.6731"
     ]
    },
    {
     "name": "stdout",
     "output_type": "stream",
     "text": [
      "\b\b\b\b\b\b\b\b\b\b\b\b\b\b\b\b\b\b\b\b\b\b\b\b\b\b\b\b\b\b\b\b\b\b\b\b\b\b\b\b\b\b\b\b\b\b\b\b\b\b\b\b\b\b\b\b\b\b\b\b\b\b\b\b\b\b\b\b\b\b\b\b\b\b\b\b\b\b\b\b\b\b\b\b\b\b\b\b\b\b\b\b\b\b\b\b\b\b\b\b\b\b\b\b\b\b\b\b\b\b\b\b\b\b\b\b\b\b\b\b\b\b\b\r",
      "412416/412416 [==============================] - 13s 32us/sample - loss: 204.7153 - reconstruction_loss: 93.5928 - KL_loss: 20.6731 - val_loss: 108.4432 - val_reconstruction_loss: 88.4272 - val_KL_loss: 20.0160 - lr: 0.0022\n",
      "Epoch 294/1000\n"
     ]
    },
    {
     "name": "stdout",
     "output_type": "stream",
     "text": [
      "\r",
      "412416/412416 [==============================] - ETA: 0s - loss: 204.8918 - reconstruction_loss: 94.1444 - KL_loss: 20.4316"
     ]
    },
    {
     "name": "stdout",
     "output_type": "stream",
     "text": [
      "\b\b\b\b\b\b\b\b\b\b\b\b\b\b\b\b\b\b\b\b\b\b\b\b\b\b\b\b\b\b\b\b\b\b\b\b\b\b\b\b\b\b\b\b\b\b\b\b\b\b\b\b\b\b\b\b\b\b\b\b\b\b\b\b\b\b\b\b\b\b\b\b\b\b\b\b\b\b\b\b\b\b\b\b\b\b\b\b\b\b\b\b\b\b\b\b\b\b\b\b\b\b\b\b\b\b\b\b\b\b\b\b\b\b\b\b\b\b\b\b\b\b\b\r",
      "412416/412416 [==============================] - 12s 30us/sample - loss: 204.8918 - reconstruction_loss: 94.1444 - KL_loss: 20.4316 - val_loss: 108.3237 - val_reconstruction_loss: 88.2200 - val_KL_loss: 20.1037 - lr: 0.0022\n",
      "Epoch 295/1000\n"
     ]
    },
    {
     "name": "stdout",
     "output_type": "stream",
     "text": [
      "\r",
      "412416/412416 [==============================] - ETA: 0s - loss: 204.8333 - reconstruction_loss: 93.9350 - KL_loss: 20.5224"
     ]
    },
    {
     "name": "stdout",
     "output_type": "stream",
     "text": [
      "\b\b\b\b\b\b\b\b\b\b\b\b\b\b\b\b\b\b\b\b\b\b\b\b\b\b\b\b\b\b\b\b\b\b\b\b\b\b\b\b\b\b\b\b\b\b\b\b\b\b\b\b\b\b\b\b\b\b\b\b\b\b\b\b\b\b\b\b\b\b\b\b\b\b\b\b\b\b\b\b\b\b\b\b\b\b\b\b\b\b\b\b\b\b\b\b\b\b\b\b\b\b\b\b\b\b\b\b\b\b\b\b\b\b\b\b\b\b\b\b\b\b\b\r",
      "412416/412416 [==============================] - 13s 30us/sample - loss: 204.8333 - reconstruction_loss: 93.9350 - KL_loss: 20.5224 - val_loss: 108.3587 - val_reconstruction_loss: 87.9829 - val_KL_loss: 20.3758 - lr: 0.0022\n",
      "Epoch 296/1000\n"
     ]
    },
    {
     "name": "stdout",
     "output_type": "stream",
     "text": [
      "\r",
      "412416/412416 [==============================] - ETA: 0s - loss: 204.5268 - reconstruction_loss: 93.7002 - KL_loss: 20.7839"
     ]
    },
    {
     "name": "stdout",
     "output_type": "stream",
     "text": [
      "\b\b\b\b\b\b\b\b\b\b\b\b\b\b\b\b\b\b\b\b\b\b\b\b\b\b\b\b\b\b\b\b\b\b\b\b\b\b\b\b\b\b\b\b\b\b\b\b\b\b\b\b\b\b\b\b\b\b\b\b\b\b\b\b\b\b\b\b\b\b\b\b\b\b\b\b\b\b\b\b\b\b\b\b\b\b\b\b\b\b\b\b\b\b\b\b\b\b\b\b\b\b\b\b\b\b\b\b\b\b\b\b\b\b\b\b\b\b\b\b\b\b\b\r",
      "412416/412416 [==============================] - 11s 27us/sample - loss: 204.5268 - reconstruction_loss: 93.7002 - KL_loss: 20.7839 - val_loss: 107.9738 - val_reconstruction_loss: 87.5076 - val_KL_loss: 20.4662 - lr: 0.0022\n",
      "Epoch 297/1000\n"
     ]
    },
    {
     "name": "stdout",
     "output_type": "stream",
     "text": [
      "\r",
      "412416/412416 [==============================] - ETA: 0s - loss: 204.1513 - reconstruction_loss: 93.2222 - KL_loss: 20.8725"
     ]
    },
    {
     "name": "stdout",
     "output_type": "stream",
     "text": [
      "\b\b\b\b\b\b\b\b\b\b\b\b\b\b\b\b\b\b\b\b\b\b\b\b\b\b\b\b\b\b\b\b\b\b\b\b\b\b\b\b\b\b\b\b\b\b\b\b\b\b\b\b\b\b\b\b\b\b\b\b\b\b\b\b\b\b\b\b\b\b\b\b\b\b\b\b\b\b\b\b\b\b\b\b\b\b\b\b\b\b\b\b\b\b\b\b\b\b\b\b\b\b\b\b\b\b\b\b\b\b\b\b\b\b\b\b\b\b\b\b\b\b\b\r",
      "412416/412416 [==============================] - 13s 30us/sample - loss: 204.1513 - reconstruction_loss: 93.2222 - KL_loss: 20.8725 - val_loss: 108.0974 - val_reconstruction_loss: 87.9718 - val_KL_loss: 20.1256 - lr: 0.0022\n",
      "Epoch 298/1000\n"
     ]
    },
    {
     "name": "stdout",
     "output_type": "stream",
     "text": [
      "\r",
      "412416/412416 [==============================] - ETA: 0s - loss: 203.7211 - reconstruction_loss: 93.6787 - KL_loss: 20.5358"
     ]
    },
    {
     "name": "stdout",
     "output_type": "stream",
     "text": [
      "\b\b\b\b\b\b\b\b\b\b\b\b\b\b\b\b\b\b\b\b\b\b\b\b\b\b\b\b\b\b\b\b\b\b\b\b\b\b\b\b\b\b\b\b\b\b\b\b\b\b\b\b\b\b\b\b\b\b\b\b\b\b\b\b\b\b\b\b\b\b\b\b\b\b\b\b\b\b\b\b\b\b\b\b\b\b\b\b\b\b\b\b\b\b\b\b\b\b\b\b\b\b\b\b\b\b\b\b\b\b\b\b\b\b\b\b\b\b\b\b\b\b\b\r",
      "412416/412416 [==============================] - 13s 32us/sample - loss: 203.7211 - reconstruction_loss: 93.6787 - KL_loss: 20.5358 - val_loss: 107.9296 - val_reconstruction_loss: 87.8519 - val_KL_loss: 20.0777 - lr: 0.0022\n",
      "Epoch 299/1000\n"
     ]
    },
    {
     "name": "stdout",
     "output_type": "stream",
     "text": [
      "\r",
      "412416/412416 [==============================] - ETA: 0s - loss: 203.7435 - reconstruction_loss: 93.5480 - KL_loss: 20.4891"
     ]
    },
    {
     "name": "stdout",
     "output_type": "stream",
     "text": [
      "\b\b\b\b\b\b\b\b\b\b\b\b\b\b\b\b\b\b\b\b\b\b\b\b\b\b\b\b\b\b\b\b\b\b\b\b\b\b\b\b\b\b\b\b\b\b\b\b\b\b\b\b\b\b\b\b\b\b\b\b\b\b\b\b\b\b\b\b\b\b\b\b\b\b\b\b\b\b\b\b\b\b\b\b\b\b\b\b\b\b\b\b\b\b\b\b\b\b\b\b\b\b\b\b\b\b\b\b\b\b\b\b\b\b\b\b\b\b\b\b\b\b\b\r",
      "412416/412416 [==============================] - 11s 27us/sample - loss: 203.7435 - reconstruction_loss: 93.5480 - KL_loss: 20.4891 - val_loss: 107.9194 - val_reconstruction_loss: 87.5962 - val_KL_loss: 20.3232 - lr: 0.0022\n",
      "Epoch 300/1000\n"
     ]
    },
    {
     "name": "stdout",
     "output_type": "stream",
     "text": [
      "\r",
      "412416/412416 [==============================] - ETA: 0s - loss: 203.4846 - reconstruction_loss: 93.3222 - KL_loss: 20.7287"
     ]
    },
    {
     "name": "stdout",
     "output_type": "stream",
     "text": [
      "\b\b\b\b\b\b\b\b\b\b\b\b\b\b\b\b\b\b\b\b\b\b\b\b\b\b\b\b\b\b\b\b\b\b\b\b\b\b\b\b\b\b\b\b\b\b\b\b\b\b\b\b\b\b\b\b\b\b\b\b\b\b\b\b\b\b\b\b\b\b\b\b\b\b\b\b\b\b\b\b\b\b\b\b\b\b\b\b\b\b\b\b\b\b\b\b\b\b\b\b\b\b\b\b\b\b\b\b\b\b\b\b\b\b\b\b\b\b\b\b\b\b\b\r",
      "412416/412416 [==============================] - 25s 61us/sample - loss: 203.4846 - reconstruction_loss: 93.3222 - KL_loss: 20.7287 - val_loss: 107.8832 - val_reconstruction_loss: 87.5629 - val_KL_loss: 20.3203 - lr: 0.0022\n",
      "Epoch 301/1000\n"
     ]
    },
    {
     "name": "stdout",
     "output_type": "stream",
     "text": [
      "\r",
      "412416/412416 [==============================] - ETA: 0s - loss: 203.2073 - reconstruction_loss: 93.2695 - KL_loss: 20.7271"
     ]
    },
    {
     "name": "stdout",
     "output_type": "stream",
     "text": [
      "\b\b\b\b\b\b\b\b\b\b\b\b\b\b\b\b\b\b\b\b\b\b\b\b\b\b\b\b\b\b\b\b\b\b\b\b\b\b\b\b\b\b\b\b\b\b\b\b\b\b\b\b\b\b\b\b\b\b\b\b\b\b\b\b\b\b\b\b\b\b\b\b\b\b\b\b\b\b\b\b\b\b\b\b\b\b\b\b\b\b\b\b\b\b\b\b\b\b\b\b\b\b\b\b\b\b\b\b\b\b\b\b\b\b\b\b\b\b\b\b\b\b\b\r",
      "412416/412416 [==============================] - 14s 33us/sample - loss: 203.2073 - reconstruction_loss: 93.2695 - KL_loss: 20.7271 - val_loss: 107.8839 - val_reconstruction_loss: 87.6349 - val_KL_loss: 20.2491 - lr: 0.0022\n",
      "Epoch 302/1000\n"
     ]
    },
    {
     "name": "stdout",
     "output_type": "stream",
     "text": [
      "\r",
      "412416/412416 [==============================] - ETA: 0s - loss: 203.2374 - reconstruction_loss: 93.3450 - KL_loss: 20.6574"
     ]
    },
    {
     "name": "stdout",
     "output_type": "stream",
     "text": [
      "\b\b\b\b\b\b\b\b\b\b\b\b\b\b\b\b\b\b\b\b\b\b\b\b\b\b\b\b\b\b\b\b\b\b\b\b\b\b\b\b\b\b\b\b\b\b\b\b\b\b\b\b\b\b\b\b\b\b\b\b\b\b\b\b\b\b\b\b\b\b\b\b\b\b\b\b\b\b\b\b\b\b\b\b\b\b\b\b\b\b\b\b\b\b\b\b\b\b\b\b\b\b\b\b\b\b\b\b\b\b\b\b\b\b\b\b\b\b\b\b\b\b\b\r",
      "412416/412416 [==============================] - 12s 30us/sample - loss: 203.2374 - reconstruction_loss: 93.3450 - KL_loss: 20.6574 - val_loss: 107.7934 - val_reconstruction_loss: 87.4226 - val_KL_loss: 20.3708 - lr: 0.0022\n",
      "Epoch 303/1000\n"
     ]
    },
    {
     "name": "stdout",
     "output_type": "stream",
     "text": [
      "\r",
      "412416/412416 [==============================] - ETA: 0s - loss: 202.8641 - reconstruction_loss: 93.0990 - KL_loss: 20.7801"
     ]
    },
    {
     "name": "stdout",
     "output_type": "stream",
     "text": [
      "\b\b\b\b\b\b\b\b\b\b\b\b\b\b\b\b\b\b\b\b\b\b\b\b\b\b\b\b\b\b\b\b\b\b\b\b\b\b\b\b\b\b\b\b\b\b\b\b\b\b\b\b\b\b\b\b\b\b\b\b\b\b\b\b\b\b\b\b\b\b\b\b\b\b\b\b\b\b\b\b\b\b\b\b\b\b\b\b\b\b\b\b\b\b\b\b\b\b\b\b\b\b\b\b\b\b\b\b\b\b\b\b\b\b\b\b\b\b\b\b\b\b\b\r",
      "412416/412416 [==============================] - 13s 32us/sample - loss: 202.8641 - reconstruction_loss: 93.0990 - KL_loss: 20.7801 - val_loss: 108.1707 - val_reconstruction_loss: 87.8139 - val_KL_loss: 20.3568 - lr: 0.0022\n",
      "Epoch 304/1000\n"
     ]
    },
    {
     "name": "stdout",
     "output_type": "stream",
     "text": [
      "\r",
      "412416/412416 [==============================] - ETA: 0s - loss: 203.2918 - reconstruction_loss: 93.4702 - KL_loss: 20.7638"
     ]
    },
    {
     "name": "stdout",
     "output_type": "stream",
     "text": [
      "\b\b\b\b\b\b\b\b\b\b\b\b\b\b\b\b\b\b\b\b\b\b\b\b\b\b\b\b\b\b\b\b\b\b\b\b\b\b\b\b\b\b\b\b\b\b\b\b\b\b\b\b\b\b\b\b\b\b\b\b\b\b\b\b\b\b\b\b\b\b\b\b\b\b\b\b\b\b\b\b\b\b\b\b\b\b\b\b\b\b\b\b\b\b\b\b\b\b\b\b\b\b\b\b\b\b\b\b\b\b\b\b\b\b\b\b\b\b\b\b\b\b\b\r",
      "412416/412416 [==============================] - 14s 34us/sample - loss: 203.2918 - reconstruction_loss: 93.4702 - KL_loss: 20.7638 - val_loss: 107.7952 - val_reconstruction_loss: 87.5175 - val_KL_loss: 20.2777 - lr: 0.0022\n",
      "Epoch 305/1000\n"
     ]
    },
    {
     "name": "stdout",
     "output_type": "stream",
     "text": [
      "\r",
      "412416/412416 [==============================] - ETA: 0s - loss: 202.7236 - reconstruction_loss: 93.2017 - KL_loss: 20.6841"
     ]
    },
    {
     "name": "stdout",
     "output_type": "stream",
     "text": [
      "\b\b\b\b\b\b\b\b\b\b\b\b\b\b\b\b\b\b\b\b\b\b\b\b\b\b\b\b\b\b\b\b\b\b\b\b\b\b\b\b\b\b\b\b\b\b\b\b\b\b\b\b\b\b\b\b\b\b\b\b\b\b\b\b\b\b\b\b\b\b\b\b\b\b\b\b\b\b\b\b\b\b\b\b\b\b\b\b\b\b\b\b\b\b\b\b\b\b\b\b\b\b\b\b\b\b\b\b\b\b\b\b\b\b\b\b\b\b\b\b\b\b\b\r",
      "412416/412416 [==============================] - 13s 31us/sample - loss: 202.7236 - reconstruction_loss: 93.2017 - KL_loss: 20.6841 - val_loss: 107.7788 - val_reconstruction_loss: 87.7238 - val_KL_loss: 20.0550 - lr: 0.0022\n",
      "Epoch 306/1000\n"
     ]
    },
    {
     "name": "stdout",
     "output_type": "stream",
     "text": [
      "\r",
      "412416/412416 [==============================] - ETA: 0s - loss: 202.5665 - reconstruction_loss: 93.4123 - KL_loss: 20.4662"
     ]
    },
    {
     "name": "stdout",
     "output_type": "stream",
     "text": [
      "\b\b\b\b\b\b\b\b\b\b\b\b\b\b\b\b\b\b\b\b\b\b\b\b\b\b\b\b\b\b\b\b\b\b\b\b\b\b\b\b\b\b\b\b\b\b\b\b\b\b\b\b\b\b\b\b\b\b\b\b\b\b\b\b\b\b\b\b\b\b\b\b\b\b\b\b\b\b\b\b\b\b\b\b\b\b\b\b\b\b\b\b\b\b\b\b\b\b\b\b\b\b\b\b\b\b\b\b\b\b\b\b\b\b\b\b\b\b\b\b\b\b\b\r",
      "412416/412416 [==============================] - 11s 27us/sample - loss: 202.5665 - reconstruction_loss: 93.4123 - KL_loss: 20.4662 - val_loss: 107.8978 - val_reconstruction_loss: 87.7326 - val_KL_loss: 20.1651 - lr: 0.0022\n",
      "Epoch 307/1000\n"
     ]
    },
    {
     "name": "stdout",
     "output_type": "stream",
     "text": [
      "\r",
      "412416/412416 [==============================] - ETA: 0s - loss: 202.6487 - reconstruction_loss: 93.4241 - KL_loss: 20.5740"
     ]
    },
    {
     "name": "stdout",
     "output_type": "stream",
     "text": [
      "\b\b\b\b\b\b\b\b\b\b\b\b\b\b\b\b\b\b\b\b\b\b\b\b\b\b\b\b\b\b\b\b\b\b\b\b\b\b\b\b\b\b\b\b\b\b\b\b\b\b\b\b\b\b\b\b\b\b\b\b\b\b\b\b\b\b\b\b\b\b\b\b\b\b\b\b\b\b\b\b\b\b\b\b\b\b\b\b\b\b\b\b\b\b\b\b\b\b\b\b\b\b\b\b\b\b\b\b\b\b\b\b\b\b\b\b\b\b\b\b\b\b\b\r",
      "412416/412416 [==============================] - 17s 42us/sample - loss: 202.6487 - reconstruction_loss: 93.4241 - KL_loss: 20.5740 - val_loss: 107.9858 - val_reconstruction_loss: 87.5252 - val_KL_loss: 20.4606 - lr: 0.0022\n",
      "Epoch 308/1000\n"
     ]
    },
    {
     "name": "stdout",
     "output_type": "stream",
     "text": [
      "\r",
      "412416/412416 [==============================] - ETA: 0s - loss: 202.7870 - reconstruction_loss: 93.2195 - KL_loss: 20.8723"
     ]
    },
    {
     "name": "stdout",
     "output_type": "stream",
     "text": [
      "\b\b\b\b\b\b\b\b\b\b\b\b\b\b\b\b\b\b\b\b\b\b\b\b\b\b\b\b\b\b\b\b\b\b\b\b\b\b\b\b\b\b\b\b\b\b\b\b\b\b\b\b\b\b\b\b\b\b\b\b\b\b\b\b\b\b\b\b\b\b\b\b\b\b\b\b\b\b\b\b\b\b\b\b\b\b\b\b\b\b\b\b\b\b\b\b\b\b\b\b\b\b\b\b\b\b\b\b\b\b\b\b\b\b\b\b\b\b\b\b\b\b\b\r",
      "412416/412416 [==============================] - 12s 28us/sample - loss: 202.7870 - reconstruction_loss: 93.2195 - KL_loss: 20.8723 - val_loss: 107.7506 - val_reconstruction_loss: 87.2415 - val_KL_loss: 20.5090 - lr: 0.0022\n",
      "Epoch 309/1000\n"
     ]
    },
    {
     "name": "stdout",
     "output_type": "stream",
     "text": [
      "\r",
      "412416/412416 [==============================] - ETA: 0s - loss: 202.1892 - reconstruction_loss: 92.9273 - KL_loss: 20.9148"
     ]
    },
    {
     "name": "stdout",
     "output_type": "stream",
     "text": [
      "\b\b\b\b\b\b\b\b\b\b\b\b\b\b\b\b\b\b\b\b\b\b\b\b\b\b\b\b\b\b\b\b\b\b\b\b\b\b\b\b\b\b\b\b\b\b\b\b\b\b\b\b\b\b\b\b\b\b\b\b\b\b\b\b\b\b\b\b\b\b\b\b\b\b\b\b\b\b\b\b\b\b\b\b\b\b\b\b\b\b\b\b\b\b\b\b\b\b\b\b\b\b\b\b\b\b\b\b\b\b\b\b\b\b\b\b\b\b\b\b\b\b\b\r",
      "412416/412416 [==============================] - 15s 36us/sample - loss: 202.1892 - reconstruction_loss: 92.9273 - KL_loss: 20.9148 - val_loss: 107.8895 - val_reconstruction_loss: 87.6518 - val_KL_loss: 20.2376 - lr: 0.0022\n",
      "Epoch 310/1000\n"
     ]
    },
    {
     "name": "stdout",
     "output_type": "stream",
     "text": [
      "\r",
      "412416/412416 [==============================] - ETA: 0s - loss: 202.3877 - reconstruction_loss: 93.3140 - KL_loss: 20.6532"
     ]
    },
    {
     "name": "stdout",
     "output_type": "stream",
     "text": [
      "\b\b\b\b\b\b\b\b\b\b\b\b\b\b\b\b\b\b\b\b\b\b\b\b\b\b\b\b\b\b\b\b\b\b\b\b\b\b\b\b\b\b\b\b\b\b\b\b\b\b\b\b\b\b\b\b\b\b\b\b\b\b\b\b\b\b\b\b\b\b\b\b\b\b\b\b\b\b\b\b\b\b\b\b\b\b\b\b\b\b\b\b\b\b\b\b\b\b\b\b\b\b\b\b\b\b\b\b\b\b\b\b\b\b\b\b\b\b\b\b\b\b\b\r",
      "412416/412416 [==============================] - 14s 33us/sample - loss: 202.3877 - reconstruction_loss: 93.3140 - KL_loss: 20.6532 - val_loss: 107.8037 - val_reconstruction_loss: 87.6091 - val_KL_loss: 20.1946 - lr: 0.0022\n",
      "Epoch 311/1000\n"
     ]
    },
    {
     "name": "stdout",
     "output_type": "stream",
     "text": [
      "\r",
      "412416/412416 [==============================] - ETA: 0s - loss: 202.0932 - reconstruction_loss: 93.2768 - KL_loss: 20.6013"
     ]
    },
    {
     "name": "stdout",
     "output_type": "stream",
     "text": [
      "\b\b\b\b\b\b\b\b\b\b\b\b\b\b\b\b\b\b\b\b\b\b\b\b\b\b\b\b\b\b\b\b\b\b\b\b\b\b\b\b\b\b\b\b\b\b\b\b\b\b\b\b\b\b\b\b\b\b\b\b\b\b\b\b\b\b\b\b\b\b\b\b\b\b\b\b\b\b\b\b\b\b\b\b\b\b\b\b\b\b\b\b\b\b\b\b\b\b\b\b\b\b\b\b\b\b\b\b\b\b\b\b\b\b\b\b\b\b\b\b\b\b\b\r",
      "412416/412416 [==============================] - 12s 29us/sample - loss: 202.0932 - reconstruction_loss: 93.2768 - KL_loss: 20.6013 - val_loss: 107.9271 - val_reconstruction_loss: 87.7191 - val_KL_loss: 20.2080 - lr: 0.0022\n",
      "Epoch 312/1000\n"
     ]
    },
    {
     "name": "stdout",
     "output_type": "stream",
     "text": [
      "\r",
      "412416/412416 [==============================] - ETA: 0s - loss: 202.2634 - reconstruction_loss: 93.3979 - KL_loss: 20.6174"
     ]
    },
    {
     "name": "stdout",
     "output_type": "stream",
     "text": [
      "\b\b\b\b\b\b\b\b\b\b\b\b\b\b\b\b\b\b\b\b\b\b\b\b\b\b\b\b\b\b\b\b\b\b\b\b\b\b\b\b\b\b\b\b\b\b\b\b\b\b\b\b\b\b\b\b\b\b\b\b\b\b\b\b\b\b\b\b\b\b\b\b\b\b\b\b\b\b\b\b\b\b\b\b\b\b\b\b\b\b\b\b\b\b\b\b\b\b\b\b\b\b\b\b\b\b\b\b\b\b\b\b\b\b\b\b\b\b\b\b\b\b\b\r",
      "412416/412416 [==============================] - 12s 29us/sample - loss: 202.2634 - reconstruction_loss: 93.3979 - KL_loss: 20.6174 - val_loss: 107.8393 - val_reconstruction_loss: 87.5092 - val_KL_loss: 20.3301 - lr: 0.0022\n",
      "Epoch 313/1000\n"
     ]
    },
    {
     "name": "stdout",
     "output_type": "stream",
     "text": [
      "\r",
      "412416/412416 [==============================] - ETA: 0s - loss: 202.0868 - reconstruction_loss: 93.1726 - KL_loss: 20.7406"
     ]
    },
    {
     "name": "stdout",
     "output_type": "stream",
     "text": [
      "\b\b\b\b\b\b\b\b\b\b\b\b\b\b\b\b\b\b\b\b\b\b\b\b\b\b\b\b\b\b\b\b\b\b\b\b\b\b\b\b\b\b\b\b\b\b\b\b\b\b\b\b\b\b\b\b\b\b\b\b\b\b\b\b\b\b\b\b\b\b\b\b\b\b\b\b\b\b\b\b\b\b\b\b\b\b\b\b\b\b\b\b\b\b\b\b\b\b\b\b\b\b\b\b\b\b\b\b\b\b\b\b\b\b\b\b\b\b\b\b\b\b\b\r",
      "412416/412416 [==============================] - 12s 29us/sample - loss: 202.0868 - reconstruction_loss: 93.1726 - KL_loss: 20.7406 - val_loss: 107.8386 - val_reconstruction_loss: 87.5403 - val_KL_loss: 20.2983 - lr: 0.0022\n",
      "Epoch 314/1000\n"
     ]
    },
    {
     "name": "stdout",
     "output_type": "stream",
     "text": [
      "\r",
      "412416/412416 [==============================] - ETA: 0s - loss: 201.6845 - reconstruction_loss: 93.2044 - KL_loss: 20.7108"
     ]
    },
    {
     "name": "stdout",
     "output_type": "stream",
     "text": [
      "\b\b\b\b\b\b\b\b\b\b\b\b\b\b\b\b\b\b\b\b\b\b\b\b\b\b\b\b\b\b\b\b\b\b\b\b\b\b\b\b\b\b\b\b\b\b\b\b\b\b\b\b\b\b\b\b\b\b\b\b\b\b\b\b\b\b\b\b\b\b\b\b\b\b\b\b\b\b\b\b\b\b\b\b\b\b\b\b\b\b\b\b\b\b\b\b\b\b\b\b\b\b\b\b\b\b\b\b\b\b\b\b\b\b\b\b\b\b\b\b\b\b\b\r",
      "412416/412416 [==============================] - 12s 29us/sample - loss: 201.6845 - reconstruction_loss: 93.2044 - KL_loss: 20.7108 - val_loss: 107.9972 - val_reconstruction_loss: 87.5672 - val_KL_loss: 20.4299 - lr: 0.0022\n",
      "Epoch 315/1000\n"
     ]
    },
    {
     "name": "stdout",
     "output_type": "stream",
     "text": [
      "\r",
      "412416/412416 [==============================] - ETA: 0s - loss: 202.1625 - reconstruction_loss: 93.2244 - KL_loss: 20.8457"
     ]
    },
    {
     "name": "stdout",
     "output_type": "stream",
     "text": [
      "\b\b\b\b\b\b\b\b\b\b\b\b\b\b\b\b\b\b\b\b\b\b\b\b\b\b\b\b\b\b\b\b\b\b\b\b\b\b\b\b\b\b\b\b\b\b\b\b\b\b\b\b\b\b\b\b\b\b\b\b\b\b\b\b\b\b\b\b\b\b\b\b\b\b\b\b\b\b\b\b\b\b\b\b\b\b\b\b\b\b\b\b\b\b\b\b\b\b\b\b\b\b\b\b\b\b\b\b\b\b\b\b\b\b\b\b\b\b\b\b\b\b\b\r",
      "412416/412416 [==============================] - 12s 29us/sample - loss: 202.1625 - reconstruction_loss: 93.2244 - KL_loss: 20.8457 - val_loss: 107.6998 - val_reconstruction_loss: 87.2649 - val_KL_loss: 20.4349 - lr: 0.0022\n",
      "Epoch 316/1000\n"
     ]
    },
    {
     "name": "stdout",
     "output_type": "stream",
     "text": [
      "\r",
      "412416/412416 [==============================] - ETA: 0s - loss: 201.4308 - reconstruction_loss: 92.9305 - KL_loss: 20.8381"
     ]
    },
    {
     "name": "stdout",
     "output_type": "stream",
     "text": [
      "\b\b\b\b\b\b\b\b\b\b\b\b\b\b\b\b\b\b\b\b\b\b\b\b\b\b\b\b\b\b\b\b\b\b\b\b\b\b\b\b\b\b\b\b\b\b\b\b\b\b\b\b\b\b\b\b\b\b\b\b\b\b\b\b\b\b\b\b\b\b\b\b\b\b\b\b\b\b\b\b\b\b\b\b\b\b\b\b\b\b\b\b\b\b\b\b\b\b\b\b\b\b\b\b\b\b\b\b\b\b\b\b\b\b\b\b\b\b\b\b\b\b\b\r",
      "412416/412416 [==============================] - 12s 29us/sample - loss: 201.4308 - reconstruction_loss: 92.9305 - KL_loss: 20.8381 - val_loss: 108.0318 - val_reconstruction_loss: 87.8132 - val_KL_loss: 20.2187 - lr: 0.0022\n",
      "Epoch 317/1000\n"
     ]
    },
    {
     "name": "stdout",
     "output_type": "stream",
     "text": [
      "\r",
      "412416/412416 [==============================] - ETA: 0s - loss: 201.7722 - reconstruction_loss: 93.4305 - KL_loss: 20.6385"
     ]
    },
    {
     "name": "stdout",
     "output_type": "stream",
     "text": [
      "\b\b\b\b\b\b\b\b\b\b\b\b\b\b\b\b\b\b\b\b\b\b\b\b\b\b\b\b\b\b\b\b\b\b\b\b\b\b\b\b\b\b\b\b\b\b\b\b\b\b\b\b\b\b\b\b\b\b\b\b\b\b\b\b\b\b\b\b\b\b\b\b\b\b\b\b\b\b\b\b\b\b\b\b\b\b\b\b\b\b\b\b\b\b\b\b\b\b\b\b\b\b\b\b\b\b\b\b\b\b\b\b\b\b\b\b\b\b\b\b\b\b\b\r",
      "412416/412416 [==============================] - 12s 29us/sample - loss: 201.7722 - reconstruction_loss: 93.4305 - KL_loss: 20.6385 - val_loss: 107.9056 - val_reconstruction_loss: 87.7242 - val_KL_loss: 20.1814 - lr: 0.0022\n",
      "Epoch 318/1000\n"
     ]
    },
    {
     "name": "stdout",
     "output_type": "stream",
     "text": [
      "\r",
      "412416/412416 [==============================] - ETA: 0s - loss: 201.5764 - reconstruction_loss: 93.3908 - KL_loss: 20.5972"
     ]
    },
    {
     "name": "stdout",
     "output_type": "stream",
     "text": [
      "\b\b\b\b\b\b\b\b\b\b\b\b\b\b\b\b\b\b\b\b\b\b\b\b\b\b\b\b\b\b\b\b\b\b\b\b\b\b\b\b\b\b\b\b\b\b\b\b\b\b\b\b\b\b\b\b\b\b\b\b\b\b\b\b\b\b\b\b\b\b\b\b\b\b\b\b\b\b\b\b\b\b\b\b\b\b\b\b\b\b\b\b\b\b\b\b\b\b\b\b\b\b\b\b\b\b\b\b\b\b\b\b\b\b\b\b\b\b\b\b\b\b\b\r",
      "412416/412416 [==============================] - 12s 29us/sample - loss: 201.5764 - reconstruction_loss: 93.3908 - KL_loss: 20.5972 - val_loss: 108.0740 - val_reconstruction_loss: 87.7726 - val_KL_loss: 20.3014 - lr: 0.0022\n",
      "Epoch 319/1000\n"
     ]
    },
    {
     "name": "stdout",
     "output_type": "stream",
     "text": [
      "\r",
      "412416/412416 [==============================] - ETA: 0s - loss: 201.4780 - reconstruction_loss: 93.4233 - KL_loss: 20.7089"
     ]
    },
    {
     "name": "stdout",
     "output_type": "stream",
     "text": [
      "\b\b\b\b\b\b\b\b\b\b\b\b\b\b\b\b\b\b\b\b\b\b\b\b\b\b\b\b\b\b\b\b\b\b\b\b\b\b\b\b\b\b\b\b\b\b\b\b\b\b\b\b\b\b\b\b\b\b\b\b\b\b\b\b\b\b\b\b\b\b\b\b\b\b\b\b\b\b\b\b\b\b\b\b\b\b\b\b\b\b\b\b\b\b\b\b\b\b\b\b\b\b\b\b\b\b\b\b\b\b\b\b\b\b\b\b\b\b\b\b\b\b\b\r",
      "412416/412416 [==============================] - 12s 29us/sample - loss: 201.4780 - reconstruction_loss: 93.4233 - KL_loss: 20.7089 - val_loss: 107.7525 - val_reconstruction_loss: 87.3251 - val_KL_loss: 20.4274 - lr: 0.0022\n",
      "Epoch 320/1000\n"
     ]
    },
    {
     "name": "stdout",
     "output_type": "stream",
     "text": [
      "\r",
      "412416/412416 [==============================] - ETA: 0s - loss: 201.3456 - reconstruction_loss: 93.0115 - KL_loss: 20.8360"
     ]
    },
    {
     "name": "stdout",
     "output_type": "stream",
     "text": [
      "\b\b\b\b\b\b\b\b\b\b\b\b\b\b\b\b\b\b\b\b\b\b\b\b\b\b\b\b\b\b\b\b\b\b\b\b\b\b\b\b\b\b\b\b\b\b\b\b\b\b\b\b\b\b\b\b\b\b\b\b\b\b\b\b\b\b\b\b\b\b\b\b\b\b\b\b\b\b\b\b\b\b\b\b\b\b\b\b\b\b\b\b\b\b\b\b\b\b\b\b\b\b\b\b\b\b\b\b\b\b\b\b\b\b\b\b\b\b\b\b\b\b\b\r",
      "412416/412416 [==============================] - 13s 30us/sample - loss: 201.3456 - reconstruction_loss: 93.0115 - KL_loss: 20.8360 - val_loss: 107.6796 - val_reconstruction_loss: 87.2103 - val_KL_loss: 20.4693 - lr: 0.0022\n",
      "Epoch 321/1000\n"
     ]
    },
    {
     "name": "stdout",
     "output_type": "stream",
     "text": [
      "\r",
      "412416/412416 [==============================] - ETA: 0s - loss: 200.7673 - reconstruction_loss: 92.8623 - KL_loss: 20.8775"
     ]
    },
    {
     "name": "stdout",
     "output_type": "stream",
     "text": [
      "\b\b\b\b\b\b\b\b\b\b\b\b\b\b\b\b\b\b\b\b\b\b\b\b\b\b\b\b\b\b\b\b\b\b\b\b\b\b\b\b\b\b\b\b\b\b\b\b\b\b\b\b\b\b\b\b\b\b\b\b\b\b\b\b\b\b\b\b\b\b\b\b\b\b\b\b\b\b\b\b\b\b\b\b\b\b\b\b\b\b\b\b\b\b\b\b\b\b\b\b\b\b\b\b\b\b\b\b\b\b\b\b\b\b\b\b\b\b\b\b\b\b\b\r",
      "412416/412416 [==============================] - 12s 29us/sample - loss: 200.7673 - reconstruction_loss: 92.8623 - KL_loss: 20.8775 - val_loss: 108.0451 - val_reconstruction_loss: 87.4385 - val_KL_loss: 20.6066 - lr: 0.0022\n",
      "Epoch 322/1000\n"
     ]
    },
    {
     "name": "stdout",
     "output_type": "stream",
     "text": [
      "\r",
      "412416/412416 [==============================] - ETA: 0s - loss: 201.3944 - reconstruction_loss: 93.1066 - KL_loss: 21.0220"
     ]
    },
    {
     "name": "stdout",
     "output_type": "stream",
     "text": [
      "\b\b\b\b\b\b\b\b\b\b\b\b\b\b\b\b\b\b\b\b\b\b\b\b\b\b\b\b\b\b\b\b\b\b\b\b\b\b\b\b\b\b\b\b\b\b\b\b\b\b\b\b\b\b\b\b\b\b\b\b\b\b\b\b\b\b\b\b\b\b\b\b\b\b\b\b\b\b\b\b\b\b\b\b\b\b\b\b\b\b\b\b\b\b\b\b\b\b\b\b\b\b\b\b\b\b\b\b\b\b\b\b\b\b\b\b\b\b\b\b\b\b\b\r",
      "412416/412416 [==============================] - 12s 29us/sample - loss: 201.3944 - reconstruction_loss: 93.1066 - KL_loss: 21.0220 - val_loss: 107.6902 - val_reconstruction_loss: 87.2473 - val_KL_loss: 20.4429 - lr: 0.0022\n",
      "Epoch 323/1000\n"
     ]
    },
    {
     "name": "stdout",
     "output_type": "stream",
     "text": [
      "\r",
      "412416/412416 [==============================] - ETA: 0s - loss: 200.5592 - reconstruction_loss: 92.8935 - KL_loss: 20.8563"
     ]
    },
    {
     "name": "stdout",
     "output_type": "stream",
     "text": [
      "\b\b\b\b\b\b\b\b\b\b\b\b\b\b\b\b\b\b\b\b\b\b\b\b\b\b\b\b\b\b\b\b\b\b\b\b\b\b\b\b\b\b\b\b\b\b\b\b\b\b\b\b\b\b\b\b\b\b\b\b\b\b\b\b\b\b\b\b\b\b\b\b\b\b\b\b\b\b\b\b\b\b\b\b\b\b\b\b\b\b\b\b\b\b\b\b\b\b\b\b\b\b\b\b\b\b\b\b\b\b\b\b\b\b\b\b\b\b\b\b\b\b\b\r",
      "412416/412416 [==============================] - 12s 29us/sample - loss: 200.5592 - reconstruction_loss: 92.8935 - KL_loss: 20.8563 - val_loss: 108.1617 - val_reconstruction_loss: 87.9158 - val_KL_loss: 20.2458 - lr: 0.0022\n",
      "Epoch 324/1000\n"
     ]
    },
    {
     "name": "stdout",
     "output_type": "stream",
     "text": [
      "\r",
      "412416/412416 [==============================] - ETA: 0s - loss: 201.6935 - reconstruction_loss: 93.5386 - KL_loss: 20.6621"
     ]
    },
    {
     "name": "stdout",
     "output_type": "stream",
     "text": [
      "\b\b\b\b\b\b\b\b\b\b\b\b\b\b\b\b\b\b\b\b\b\b\b\b\b\b\b\b\b\b\b\b\b\b\b\b\b\b\b\b\b\b\b\b\b\b\b\b\b\b\b\b\b\b\b\b\b\b\b\b\b\b\b\b\b\b\b\b\b\b\b\b\b\b\b\b\b\b\b\b\b\b\b\b\b\b\b\b\b\b\b\b\b\b\b\b\b\b\b\b\b\b\b\b\b\b\b\b\b\b\b\b\b\b\b\b\b\b\b\b\b\b\b\r",
      "412416/412416 [==============================] - 12s 29us/sample - loss: 201.6935 - reconstruction_loss: 93.5386 - KL_loss: 20.6621 - val_loss: 107.8390 - val_reconstruction_loss: 87.5912 - val_KL_loss: 20.2478 - lr: 0.0022\n",
      "Epoch 325/1000\n"
     ]
    },
    {
     "name": "stdout",
     "output_type": "stream",
     "text": [
      "\r",
      "412416/412416 [==============================] - ETA: 0s - loss: 200.9146 - reconstruction_loss: 93.2495 - KL_loss: 20.6570"
     ]
    },
    {
     "name": "stdout",
     "output_type": "stream",
     "text": [
      "\b\b\b\b\b\b\b\b\b\b\b\b\b\b\b\b\b\b\b\b\b\b\b\b\b\b\b\b\b\b\b\b\b\b\b\b\b\b\b\b\b\b\b\b\b\b\b\b\b\b\b\b\b\b\b\b\b\b\b\b\b\b\b\b\b\b\b\b\b\b\b\b\b\b\b\b\b\b\b\b\b\b\b\b\b\b\b\b\b\b\b\b\b\b\b\b\b\b\b\b\b\b\b\b\b\b\b\b\b\b\b\b\b\b\b\b\b\b\b\b\b\b\b\r",
      "412416/412416 [==============================] - 12s 29us/sample - loss: 200.9146 - reconstruction_loss: 93.2495 - KL_loss: 20.6570 - val_loss: 107.9062 - val_reconstruction_loss: 87.4349 - val_KL_loss: 20.4713 - lr: 0.0022\n",
      "Epoch 326/1000\n"
     ]
    },
    {
     "name": "stdout",
     "output_type": "stream",
     "text": [
      "\r",
      "412416/412416 [==============================] - ETA: 0s - loss: 200.6142 - reconstruction_loss: 93.0463 - KL_loss: 20.8823"
     ]
    },
    {
     "name": "stdout",
     "output_type": "stream",
     "text": [
      "\b\b\b\b\b\b\b\b\b\b\b\b\b\b\b\b\b\b\b\b\b\b\b\b\b\b\b\b\b\b\b\b\b\b\b\b\b\b\b\b\b\b\b\b\b\b\b\b\b\b\b\b\b\b\b\b\b\b\b\b\b\b\b\b\b\b\b\b\b\b\b\b\b\b\b\b\b\b\b\b\b\b\b\b\b\b\b\b\b\b\b\b\b\b\b\b\b\b\b\b\b\b\b\b\b\b\b\b\b\b\b\b\b\b\b\b\b\b\b\b\b\b\b\r",
      "412416/412416 [==============================] - 12s 29us/sample - loss: 200.6142 - reconstruction_loss: 93.0463 - KL_loss: 20.8823 - val_loss: 108.1210 - val_reconstruction_loss: 87.5623 - val_KL_loss: 20.5587 - lr: 0.0022\n",
      "Epoch 327/1000\n"
     ]
    },
    {
     "name": "stdout",
     "output_type": "stream",
     "text": [
      "\r",
      "412416/412416 [==============================] - ETA: 0s - loss: 201.0481 - reconstruction_loss: 93.1952 - KL_loss: 20.9796"
     ]
    },
    {
     "name": "stdout",
     "output_type": "stream",
     "text": [
      "\b\b\b\b\b\b\b\b\b\b\b\b\b\b\b\b\b\b\b\b\b\b\b\b\b\b\b\b\b\b\b\b\b\b\b\b\b\b\b\b\b\b\b\b\b\b\b\b\b\b\b\b\b\b\b\b\b\b\b\b\b\b\b\b\b\b\b\b\b\b\b\b\b\b\b\b\b\b\b\b\b\b\b\b\b\b\b\b\b\b\b\b\b\b\b\b\b\b\b\b\b\b\b\b\b\b\b\b\b\b\b\b\b\b\b\b\b\b\b\b\b\b\b\r",
      "412416/412416 [==============================] - 12s 29us/sample - loss: 201.0481 - reconstruction_loss: 93.1952 - KL_loss: 20.9796 - val_loss: 107.8848 - val_reconstruction_loss: 87.3767 - val_KL_loss: 20.5081 - lr: 0.0022\n",
      "Epoch 328/1000\n"
     ]
    },
    {
     "name": "stdout",
     "output_type": "stream",
     "text": [
      "\r",
      "412416/412416 [==============================] - ETA: 0s - loss: 200.6383 - reconstruction_loss: 93.0292 - KL_loss: 20.9180"
     ]
    },
    {
     "name": "stdout",
     "output_type": "stream",
     "text": [
      "\b\b\b\b\b\b\b\b\b\b\b\b\b\b\b\b\b\b\b\b\b\b\b\b\b\b\b\b\b\b\b\b\b\b\b\b\b\b\b\b\b\b\b\b\b\b\b\b\b\b\b\b\b\b\b\b\b\b\b\b\b\b\b\b\b\b\b\b\b\b\b\b\b\b\b\b\b\b\b\b\b\b\b\b\b\b\b\b\b\b\b\b\b\b\b\b\b\b\b\b\b\b\b\b\b\b\b\b\b\b\b\b\b\b\b\b\b\b\b\b\b\b\b\r",
      "412416/412416 [==============================] - 12s 29us/sample - loss: 200.6383 - reconstruction_loss: 93.0292 - KL_loss: 20.9180 - val_loss: 107.8823 - val_reconstruction_loss: 87.4513 - val_KL_loss: 20.4310 - lr: 0.0022\n",
      "Epoch 329/1000\n"
     ]
    },
    {
     "name": "stdout",
     "output_type": "stream",
     "text": [
      "\r",
      "412416/412416 [==============================] - ETA: 0s - loss: 200.6379 - reconstruction_loss: 93.0587 - KL_loss: 20.8407"
     ]
    },
    {
     "name": "stdout",
     "output_type": "stream",
     "text": [
      "\b\b\b\b\b\b\b\b\b\b\b\b\b\b\b\b\b\b\b\b\b\b\b\b\b\b\b\b\b\b\b\b\b\b\b\b\b\b\b\b\b\b\b\b\b\b\b\b\b\b\b\b\b\b\b\b\b\b\b\b\b\b\b\b\b\b\b\b\b\b\b\b\b\b\b\b\b\b\b\b\b\b\b\b\b\b\b\b\b\b\b\b\b\b\b\b\b\b\b\b\b\b\b\b\b\b\b\b\b\b\b\b\b\b\b\b\b\b\b\b\b\b\b\r",
      "412416/412416 [==============================] - 17s 40us/sample - loss: 200.6379 - reconstruction_loss: 93.0587 - KL_loss: 20.8407 - val_loss: 107.6221 - val_reconstruction_loss: 87.3532 - val_KL_loss: 20.2689 - lr: 0.0022\n",
      "Epoch 330/1000\n"
     ]
    },
    {
     "name": "stdout",
     "output_type": "stream",
     "text": [
      "\r",
      "412416/412416 [==============================] - ETA: 0s - loss: 199.9359 - reconstruction_loss: 92.9902 - KL_loss: 20.6767"
     ]
    },
    {
     "name": "stdout",
     "output_type": "stream",
     "text": [
      "\b\b\b\b\b\b\b\b\b\b\b\b\b\b\b\b\b\b\b\b\b\b\b\b\b\b\b\b\b\b\b\b\b\b\b\b\b\b\b\b\b\b\b\b\b\b\b\b\b\b\b\b\b\b\b\b\b\b\b\b\b\b\b\b\b\b\b\b\b\b\b\b\b\b\b\b\b\b\b\b\b\b\b\b\b\b\b\b\b\b\b\b\b\b\b\b\b\b\b\b\b\b\b\b\b\b\b\b\b\b\b\b\b\b\b\b\b\b\b\b\b\b\b\r",
      "412416/412416 [==============================] - 12s 30us/sample - loss: 199.9359 - reconstruction_loss: 92.9902 - KL_loss: 20.6767 - val_loss: 108.1629 - val_reconstruction_loss: 87.8120 - val_KL_loss: 20.3509 - lr: 0.0022\n",
      "Epoch 331/1000\n"
     ]
    },
    {
     "name": "stdout",
     "output_type": "stream",
     "text": [
      "\r",
      "412416/412416 [==============================] - ETA: 0s - loss: 200.8779 - reconstruction_loss: 93.4668 - KL_loss: 20.7679"
     ]
    },
    {
     "name": "stdout",
     "output_type": "stream",
     "text": [
      "\b\b\b\b\b\b\b\b\b\b\b\b\b\b\b\b\b\b\b\b\b\b\b\b\b\b\b\b\b\b\b\b\b\b\b\b\b\b\b\b\b\b\b\b\b\b\b\b\b\b\b\b\b\b\b\b\b\b\b\b\b\b\b\b\b\b\b\b\b\b\b\b\b\b\b\b\b\b\b\b\b\b\b\b\b\b\b\b\b\b\b\b\b\b\b\b\b\b\b\b\b\b\b\b\b\b\b\b\b\b\b\b\b\b\b\b\b\b\b\b\b\b\b\r",
      "412416/412416 [==============================] - 12s 29us/sample - loss: 200.8779 - reconstruction_loss: 93.4668 - KL_loss: 20.7679 - val_loss: 107.7617 - val_reconstruction_loss: 87.2717 - val_KL_loss: 20.4899 - lr: 0.0022\n",
      "Epoch 332/1000\n"
     ]
    },
    {
     "name": "stdout",
     "output_type": "stream",
     "text": [
      "\r",
      "412416/412416 [==============================] - ETA: 0s - loss: 200.4842 - reconstruction_loss: 92.9408 - KL_loss: 20.9032"
     ]
    },
    {
     "name": "stdout",
     "output_type": "stream",
     "text": [
      "\b\b\b\b\b\b\b\b\b\b\b\b\b\b\b\b\b\b\b\b\b\b\b\b\b\b\b\b\b\b\b\b\b\b\b\b\b\b\b\b\b\b\b\b\b\b\b\b\b\b\b\b\b\b\b\b\b\b\b\b\b\b\b\b\b\b\b\b\b\b\b\b\b\b\b\b\b\b\b\b\b\b\b\b\b\b\b\b\b\b\b\b\b\b\b\b\b\b\b\b\b\b\b\b\b\b\b\b\b\b\b\b\b\b\b\b\b\b\b\b\b\b\b\r",
      "412416/412416 [==============================] - 12s 29us/sample - loss: 200.4842 - reconstruction_loss: 92.9408 - KL_loss: 20.9032 - val_loss: 108.0027 - val_reconstruction_loss: 87.4835 - val_KL_loss: 20.5191 - lr: 0.0022\n",
      "Epoch 333/1000\n"
     ]
    },
    {
     "name": "stdout",
     "output_type": "stream",
     "text": [
      "\r",
      "412416/412416 [==============================] - ETA: 0s - loss: 200.2998 - reconstruction_loss: 93.1217 - KL_loss: 20.9305"
     ]
    },
    {
     "name": "stdout",
     "output_type": "stream",
     "text": [
      "\b\b\b\b\b\b\b\b\b\b\b\b\b\b\b\b\b\b\b\b\b\b\b\b\b\b\b\b\b\b\b\b\b\b\b\b\b\b\b\b\b\b\b\b\b\b\b\b\b\b\b\b\b\b\b\b\b\b\b\b\b\b\b\b\b\b\b\b\b\b\b\b\b\b\b\b\b\b\b\b\b\b\b\b\b\b\b\b\b\b\b\b\b\b\b\b\b\b\b\b\b\b\b\b\b\b\b\b\b\b\b\b\b\b\b\b\b\b\b\b\b\b\b\r",
      "412416/412416 [==============================] - 12s 29us/sample - loss: 200.2998 - reconstruction_loss: 93.1217 - KL_loss: 20.9305 - val_loss: 107.8855 - val_reconstruction_loss: 87.3720 - val_KL_loss: 20.5135 - lr: 0.0022\n",
      "Epoch 334/1000\n"
     ]
    },
    {
     "name": "stdout",
     "output_type": "stream",
     "text": [
      "\r",
      "412416/412416 [==============================] - ETA: 0s - loss: 200.5607 - reconstruction_loss: 93.0069 - KL_loss: 20.9219"
     ]
    },
    {
     "name": "stdout",
     "output_type": "stream",
     "text": [
      "\b\b\b\b\b\b\b\b\b\b\b\b\b\b\b\b\b\b\b\b\b\b\b\b\b\b\b\b\b\b\b\b\b\b\b\b\b\b\b\b\b\b\b\b\b\b\b\b\b\b\b\b\b\b\b\b\b\b\b\b\b\b\b\b\b\b\b\b\b\b\b\b\b\b\b\b\b\b\b\b\b\b\b\b\b\b\b\b\b\b\b\b\b\b\b\b\b\b\b\b\b\b\b\b\b\b\b\b\b\b\b\b\b\b\b\b\b\b\b\b\b\b\b\r",
      "412416/412416 [==============================] - 12s 29us/sample - loss: 200.5607 - reconstruction_loss: 93.0069 - KL_loss: 20.9219 - val_loss: 107.8408 - val_reconstruction_loss: 87.3256 - val_KL_loss: 20.5152 - lr: 0.0022\n",
      "Epoch 335/1000\n"
     ]
    },
    {
     "name": "stdout",
     "output_type": "stream",
     "text": [
      "\r",
      "412416/412416 [==============================] - ETA: 0s - loss: 199.9230 - reconstruction_loss: 92.9621 - KL_loss: 20.9235"
     ]
    },
    {
     "name": "stdout",
     "output_type": "stream",
     "text": [
      "\b\b\b\b\b\b\b\b\b\b\b\b\b\b\b\b\b\b\b\b\b\b\b\b\b\b\b\b\b\b\b\b\b\b\b\b\b\b\b\b\b\b\b\b\b\b\b\b\b\b\b\b\b\b\b\b\b\b\b\b\b\b\b\b\b\b\b\b\b\b\b\b\b\b\b\b\b\b\b\b\b\b\b\b\b\b\b\b\b\b\b\b\b\b\b\b\b\b\b\b\b\b\b\b\b\b\b\b\b\b\b\b\b\b\b\b\b\b\b\b\b\b\b\r",
      "412416/412416 [==============================] - 12s 29us/sample - loss: 199.9230 - reconstruction_loss: 92.9621 - KL_loss: 20.9235 - val_loss: 107.7770 - val_reconstruction_loss: 87.1935 - val_KL_loss: 20.5835 - lr: 0.0022\n",
      "Epoch 336/1000\n"
     ]
    },
    {
     "name": "stdout",
     "output_type": "stream",
     "text": [
      "\r",
      "412416/412416 [==============================] - ETA: 0s - loss: 199.7757 - reconstruction_loss: 92.8045 - KL_loss: 20.9911"
     ]
    },
    {
     "name": "stdout",
     "output_type": "stream",
     "text": [
      "\b\b\b\b\b\b\b\b\b\b\b\b\b\b\b\b\b\b\b\b\b\b\b\b\b\b\b\b\b\b\b\b\b\b\b\b\b\b\b\b\b\b\b\b\b\b\b\b\b\b\b\b\b\b\b\b\b\b\b\b\b\b\b\b\b\b\b\b\b\b\b\b\b\b\b\b\b\b\b\b\b\b\b\b\b\b\b\b\b\b\b\b\b\b\b\b\b\b\b\b\b\b\b\b\b\b\b\b\b\b\b\b\b\b\b\b\b\b\b\b\b\b\b\r",
      "412416/412416 [==============================] - 16s 38us/sample - loss: 199.7757 - reconstruction_loss: 92.8045 - KL_loss: 20.9911 - val_loss: 107.9146 - val_reconstruction_loss: 87.4346 - val_KL_loss: 20.4800 - lr: 0.0022\n",
      "Epoch 337/1000\n"
     ]
    },
    {
     "name": "stdout",
     "output_type": "stream",
     "text": [
      "\r",
      "412416/412416 [==============================] - ETA: 0s - loss: 199.8564 - reconstruction_loss: 93.0532 - KL_loss: 20.8920"
     ]
    },
    {
     "name": "stdout",
     "output_type": "stream",
     "text": [
      "\b\b\b\b\b\b\b\b\b\b\b\b\b\b\b\b\b\b\b\b\b\b\b\b\b\b\b\b\b\b\b\b\b\b\b\b\b\b\b\b\b\b\b\b\b\b\b\b\b\b\b\b\b\b\b\b\b\b\b\b\b\b\b\b\b\b\b\b\b\b\b\b\b\b\b\b\b\b\b\b\b\b\b\b\b\b\b\b\b\b\b\b\b\b\b\b\b\b\b\b\b\b\b\b\b\b\b\b\b\b\b\b\b\b\b\b\b\b\b\b\b\b\b\r",
      "412416/412416 [==============================] - 13s 31us/sample - loss: 199.8564 - reconstruction_loss: 93.0532 - KL_loss: 20.8920 - val_loss: 107.8274 - val_reconstruction_loss: 87.4520 - val_KL_loss: 20.3754 - lr: 0.0022\n",
      "Epoch 338/1000\n"
     ]
    },
    {
     "name": "stdout",
     "output_type": "stream",
     "text": [
      "\r",
      "412416/412416 [==============================] - ETA: 0s - loss: 199.5490 - reconstruction_loss: 93.0569 - KL_loss: 20.7787"
     ]
    },
    {
     "name": "stdout",
     "output_type": "stream",
     "text": [
      "\b\b\b\b\b\b\b\b\b\b\b\b\b\b\b\b\b\b\b\b\b\b\b\b\b\b\b\b\b\b\b\b\b\b\b\b\b\b\b\b\b\b\b\b\b\b\b\b\b\b\b\b\b\b\b\b\b\b\b\b\b\b\b\b\b\b\b\b\b\b\b\b\b\b\b\b\b\b\b\b\b\b\b\b\b\b\b\b\b\b\b\b\b\b\b\b\b\b\b\b\b\b\b\b\b\b\b\b\b\b\b\b\b\b\b\b\b\b\b\b\b\b\b\r",
      "412416/412416 [==============================] - 11s 27us/sample - loss: 199.5490 - reconstruction_loss: 93.0569 - KL_loss: 20.7787 - val_loss: 107.7599 - val_reconstruction_loss: 87.4797 - val_KL_loss: 20.2802 - lr: 0.0022\n",
      "Epoch 339/1000\n"
     ]
    },
    {
     "name": "stdout",
     "output_type": "stream",
     "text": [
      "\r",
      "412416/412416 [==============================] - ETA: 0s - loss: 199.5315 - reconstruction_loss: 93.1156 - KL_loss: 20.6817"
     ]
    },
    {
     "name": "stdout",
     "output_type": "stream",
     "text": [
      "\b\b\b\b\b\b\b\b\b\b\b\b\b\b\b\b\b\b\b\b\b\b\b\b\b\b\b\b\b\b\b\b\b\b\b\b\b\b\b\b\b\b\b\b\b\b\b\b\b\b\b\b\b\b\b\b\b\b\b\b\b\b\b\b\b\b\b\b\b\b\b\b\b\b\b\b\b\b\b\b\b\b\b\b\b\b\b\b\b\b\b\b\b\b\b\b\b\b\b\b\b\b\b\b\b\b\b\b\b\b\b\b\b\b\b\b\b\b\b\b\b\b\b\r",
      "412416/412416 [==============================] - 13s 31us/sample - loss: 199.5315 - reconstruction_loss: 93.1156 - KL_loss: 20.6817 - val_loss: 107.7230 - val_reconstruction_loss: 87.2648 - val_KL_loss: 20.4582 - lr: 0.0022\n",
      "Epoch 340/1000\n"
     ]
    },
    {
     "name": "stdout",
     "output_type": "stream",
     "text": [
      "\r",
      "412416/412416 [==============================] - ETA: 0s - loss: 199.2720 - reconstruction_loss: 92.8754 - KL_loss: 20.8616"
     ]
    },
    {
     "name": "stdout",
     "output_type": "stream",
     "text": [
      "\b\b\b\b\b\b\b\b\b\b\b\b\b\b\b\b\b\b\b\b\b\b\b\b\b\b\b\b\b\b\b\b\b\b\b\b\b\b\b\b\b\b\b\b\b\b\b\b\b\b\b\b\b\b\b\b\b\b\b\b\b\b\b\b\b\b\b\b\b\b\b\b\b\b\b\b\b\b\b\b\b\b\b\b\b\b\b\b\b\b\b\b\b\b\b\b\b\b\b\b\b\b\b\b\b\b\b\b\b\b\b\b\b\b\b\b\b\b\b\b\b\b\b\r",
      "412416/412416 [==============================] - 23s 55us/sample - loss: 199.2720 - reconstruction_loss: 92.8754 - KL_loss: 20.8616 - val_loss: 107.9118 - val_reconstruction_loss: 87.3444 - val_KL_loss: 20.5674 - lr: 0.0020\n",
      "Epoch 341/1000\n"
     ]
    },
    {
     "name": "stdout",
     "output_type": "stream",
     "text": [
      "\r",
      "412416/412416 [==============================] - ETA: 0s - loss: 199.3289 - reconstruction_loss: 92.9579 - KL_loss: 20.9729"
     ]
    },
    {
     "name": "stdout",
     "output_type": "stream",
     "text": [
      "\b\b\b\b\b\b\b\b\b\b\b\b\b\b\b\b\b\b\b\b\b\b\b\b\b\b\b\b\b\b\b\b\b\b\b\b\b\b\b\b\b\b\b\b\b\b\b\b\b\b\b\b\b\b\b\b\b\b\b\b\b\b\b\b\b\b\b\b\b\b\b\b\b\b\b\b\b\b\b\b\b\b\b\b\b\b\b\b\b\b\b\b\b\b\b\b\b\b\b\b\b\b\b\b\b\b\b\b\b\b\b\b\b\b\b\b\b\b\b\b\b\b\b\r",
      "412416/412416 [==============================] - 13s 31us/sample - loss: 199.3289 - reconstruction_loss: 92.9579 - KL_loss: 20.9729 - val_loss: 107.6925 - val_reconstruction_loss: 86.9455 - val_KL_loss: 20.7470 - lr: 0.0020\n",
      "Epoch 342/1000\n"
     ]
    },
    {
     "name": "stdout",
     "output_type": "stream",
     "text": [
      "\r",
      "412416/412416 [==============================] - ETA: 0s - loss: 199.0098 - reconstruction_loss: 92.5511 - KL_loss: 21.1558"
     ]
    },
    {
     "name": "stdout",
     "output_type": "stream",
     "text": [
      "\b\b\b\b\b\b\b\b\b\b\b\b\b\b\b\b\b\b\b\b\b\b\b\b\b\b\b\b\b\b\b\b\b\b\b\b\b\b\b\b\b\b\b\b\b\b\b\b\b\b\b\b\b\b\b\b\b\b\b\b\b\b\b\b\b\b\b\b\b\b\b\b\b\b\b\b\b\b\b\b\b\b\b\b\b\b\b\b\b\b\b\b\b\b\b\b\b\b\b\b\b\b\b\b\b\b\b\b\b\b\b\b\b\b\b\b\b\b\b\b\b\b\b\r",
      "412416/412416 [==============================] - 13s 31us/sample - loss: 199.0098 - reconstruction_loss: 92.5511 - KL_loss: 21.1558 - val_loss: 107.6527 - val_reconstruction_loss: 86.9975 - val_KL_loss: 20.6553 - lr: 0.0020\n",
      "Epoch 343/1000\n"
     ]
    },
    {
     "name": "stdout",
     "output_type": "stream",
     "text": [
      "\r",
      "412416/412416 [==============================] - ETA: 0s - loss: 198.7395 - reconstruction_loss: 92.6203 - KL_loss: 21.0580"
     ]
    },
    {
     "name": "stdout",
     "output_type": "stream",
     "text": [
      "\b\b\b\b\b\b\b\b\b\b\b\b\b\b\b\b\b\b\b\b\b\b\b\b\b\b\b\b\b\b\b\b\b\b\b\b\b\b\b\b\b\b\b\b\b\b\b\b\b\b\b\b\b\b\b\b\b\b\b\b\b\b\b\b\b\b\b\b\b\b\b\b\b\b\b\b\b\b\b\b\b\b\b\b\b\b\b\b\b\b\b\b\b\b\b\b\b\b\b\b\b\b\b\b\b\b\b\b\b\b\b\b\b\b\b\b\b\b\b\b\b\b\b\r",
      "412416/412416 [==============================] - 14s 33us/sample - loss: 198.7395 - reconstruction_loss: 92.6203 - KL_loss: 21.0580 - val_loss: 107.7751 - val_reconstruction_loss: 87.3255 - val_KL_loss: 20.4497 - lr: 0.0020\n",
      "Epoch 344/1000\n"
     ]
    },
    {
     "name": "stdout",
     "output_type": "stream",
     "text": [
      "\r",
      "412416/412416 [==============================] - ETA: 0s - loss: 198.9413 - reconstruction_loss: 92.9469 - KL_loss: 20.8594"
     ]
    },
    {
     "name": "stdout",
     "output_type": "stream",
     "text": [
      "\b\b\b\b\b\b\b\b\b\b\b\b\b\b\b\b\b\b\b\b\b\b\b\b\b\b\b\b\b\b\b\b\b\b\b\b\b\b\b\b\b\b\b\b\b\b\b\b\b\b\b\b\b\b\b\b\b\b\b\b\b\b\b\b\b\b\b\b\b\b\b\b\b\b\b\b\b\b\b\b\b\b\b\b\b\b\b\b\b\b\b\b\b\b\b\b\b\b\b\b\b\b\b\b\b\b\b\b\b\b\b\b\b\b\b\b\b\b\b\b\b\b\b\r",
      "412416/412416 [==============================] - 21s 52us/sample - loss: 198.9413 - reconstruction_loss: 92.9469 - KL_loss: 20.8594 - val_loss: 107.6565 - val_reconstruction_loss: 87.3678 - val_KL_loss: 20.2888 - lr: 0.0020\n",
      "Epoch 345/1000\n"
     ]
    },
    {
     "name": "stdout",
     "output_type": "stream",
     "text": [
      "\r",
      "412416/412416 [==============================] - ETA: 0s - loss: 198.7041 - reconstruction_loss: 92.9679 - KL_loss: 20.6908"
     ]
    },
    {
     "name": "stdout",
     "output_type": "stream",
     "text": [
      "\b\b\b\b\b\b\b\b\b\b\b\b\b\b\b\b\b\b\b\b\b\b\b\b\b\b\b\b\b\b\b\b\b\b\b\b\b\b\b\b\b\b\b\b\b\b\b\b\b\b\b\b\b\b\b\b\b\b\b\b\b\b\b\b\b\b\b\b\b\b\b\b\b\b\b\b\b\b\b\b\b\b\b\b\b\b\b\b\b\b\b\b\b\b\b\b\b\b\b\b\b\b\b\b\b\b\b\b\b\b\b\b\b\b\b\b\b\b\b\b\b\b\b\r",
      "412416/412416 [==============================] - 11s 28us/sample - loss: 198.7041 - reconstruction_loss: 92.9679 - KL_loss: 20.6908 - val_loss: 107.6226 - val_reconstruction_loss: 87.2120 - val_KL_loss: 20.4106 - lr: 0.0020\n",
      "Epoch 346/1000\n"
     ]
    },
    {
     "name": "stdout",
     "output_type": "stream",
     "text": [
      "\r",
      "412416/412416 [==============================] - ETA: 0s - loss: 198.4093 - reconstruction_loss: 92.8013 - KL_loss: 20.8198"
     ]
    },
    {
     "name": "stdout",
     "output_type": "stream",
     "text": [
      "\b\b\b\b\b\b\b\b\b\b\b\b\b\b\b\b\b\b\b\b\b\b\b\b\b\b\b\b\b\b\b\b\b\b\b\b\b\b\b\b\b\b\b\b\b\b\b\b\b\b\b\b\b\b\b\b\b\b\b\b\b\b\b\b\b\b\b\b\b\b\b\b\b\b\b\b\b\b\b\b\b\b\b\b\b\b\b\b\b\b\b\b\b\b\b\b\b\b\b\b\b\b\b\b\b\b\b\b\b\b\b\b\b\b\b\b\b\b\b\b\b\b\b\r",
      "412416/412416 [==============================] - 11s 27us/sample - loss: 198.4093 - reconstruction_loss: 92.8013 - KL_loss: 20.8198 - val_loss: 107.8046 - val_reconstruction_loss: 87.1917 - val_KL_loss: 20.6129 - lr: 0.0020\n",
      "Epoch 347/1000\n"
     ]
    },
    {
     "name": "stdout",
     "output_type": "stream",
     "text": [
      "\r",
      "412416/412416 [==============================] - ETA: 0s - loss: 198.7017 - reconstruction_loss: 92.7689 - KL_loss: 21.0188"
     ]
    },
    {
     "name": "stdout",
     "output_type": "stream",
     "text": [
      "\b\b\b\b\b\b\b\b\b\b\b\b\b\b\b\b\b\b\b\b\b\b\b\b\b\b\b\b\b\b\b\b\b\b\b\b\b\b\b\b\b\b\b\b\b\b\b\b\b\b\b\b\b\b\b\b\b\b\b\b\b\b\b\b\b\b\b\b\b\b\b\b\b\b\b\b\b\b\b\b\b\b\b\b\b\b\b\b\b\b\b\b\b\b\b\b\b\b\b\b\b\b\b\b\b\b\b\b\b\b\b\b\b\b\b\b\b\b\b\b\b\b\b\r",
      "412416/412416 [==============================] - 13s 30us/sample - loss: 198.7017 - reconstruction_loss: 92.7689 - KL_loss: 21.0188 - val_loss: 107.5712 - val_reconstruction_loss: 86.9028 - val_KL_loss: 20.6684 - lr: 0.0020\n",
      "Epoch 348/1000\n"
     ]
    },
    {
     "name": "stdout",
     "output_type": "stream",
     "text": [
      "\r",
      "412416/412416 [==============================] - ETA: 0s - loss: 198.1098 - reconstruction_loss: 92.5033 - KL_loss: 21.0799"
     ]
    },
    {
     "name": "stdout",
     "output_type": "stream",
     "text": [
      "\b\b\b\b\b\b\b\b\b\b\b\b\b\b\b\b\b\b\b\b\b\b\b\b\b\b\b\b\b\b\b\b\b\b\b\b\b\b\b\b\b\b\b\b\b\b\b\b\b\b\b\b\b\b\b\b\b\b\b\b\b\b\b\b\b\b\b\b\b\b\b\b\b\b\b\b\b\b\b\b\b\b\b\b\b\b\b\b\b\b\b\b\b\b\b\b\b\b\b\b\b\b\b\b\b\b\b\b\b\b\b\b\b\b\b\b\b\b\b\b\b\b\b\r",
      "412416/412416 [==============================] - 11s 27us/sample - loss: 198.1098 - reconstruction_loss: 92.5033 - KL_loss: 21.0799 - val_loss: 107.7363 - val_reconstruction_loss: 87.1606 - val_KL_loss: 20.5757 - lr: 0.0020\n",
      "Epoch 349/1000\n"
     ]
    },
    {
     "name": "stdout",
     "output_type": "stream",
     "text": [
      "\r",
      "412416/412416 [==============================] - ETA: 0s - loss: 198.4293 - reconstruction_loss: 92.7444 - KL_loss: 20.9774"
     ]
    },
    {
     "name": "stdout",
     "output_type": "stream",
     "text": [
      "\b\b\b\b\b\b\b\b\b\b\b\b\b\b\b\b\b\b\b\b\b\b\b\b\b\b\b\b\b\b\b\b\b\b\b\b\b\b\b\b\b\b\b\b\b\b\b\b\b\b\b\b\b\b\b\b\b\b\b\b\b\b\b\b\b\b\b\b\b\b\b\b\b\b\b\b\b\b\b\b\b\b\b\b\b\b\b\b\b\b\b\b\b\b\b\b\b\b\b\b\b\b\b\b\b\b\b\b\b\b\b\b\b\b\b\b\b\b\b\b\b\b\b\r",
      "412416/412416 [==============================] - 11s 27us/sample - loss: 198.4293 - reconstruction_loss: 92.7444 - KL_loss: 20.9774 - val_loss: 107.5841 - val_reconstruction_loss: 87.1285 - val_KL_loss: 20.4556 - lr: 0.0020\n",
      "Epoch 350/1000\n"
     ]
    },
    {
     "name": "stdout",
     "output_type": "stream",
     "text": [
      "\r",
      "412416/412416 [==============================] - ETA: 0s - loss: 198.0287 - reconstruction_loss: 92.7384 - KL_loss: 20.8621"
     ]
    },
    {
     "name": "stdout",
     "output_type": "stream",
     "text": [
      "\b\b\b\b\b\b\b\b\b\b\b\b\b\b\b\b\b\b\b\b\b\b\b\b\b\b\b\b\b\b\b\b\b\b\b\b\b\b\b\b\b\b\b\b\b\b\b\b\b\b\b\b\b\b\b\b\b\b\b\b\b\b\b\b\b\b\b\b\b\b\b\b\b\b\b\b\b\b\b\b\b\b\b\b\b\b\b\b\b\b\b\b\b\b\b\b\b\b\b\b\b\b\b\b\b\b\b\b\b\b\b\b\b\b\b\b\b\b\b\b\b\b\b\r",
      "412416/412416 [==============================] - 11s 27us/sample - loss: 198.0287 - reconstruction_loss: 92.7384 - KL_loss: 20.8621 - val_loss: 107.7718 - val_reconstruction_loss: 87.3308 - val_KL_loss: 20.4410 - lr: 0.0020\n",
      "Epoch 351/1000\n"
     ]
    },
    {
     "name": "stdout",
     "output_type": "stream",
     "text": [
      "\r",
      "412416/412416 [==============================] - ETA: 0s - loss: 198.2039 - reconstruction_loss: 92.9043 - KL_loss: 20.8452"
     ]
    },
    {
     "name": "stdout",
     "output_type": "stream",
     "text": [
      "\b\b\b\b\b\b\b\b\b\b\b\b\b\b\b\b\b\b\b\b\b\b\b\b\b\b\b\b\b\b\b\b\b\b\b\b\b\b\b\b\b\b\b\b\b\b\b\b\b\b\b\b\b\b\b\b\b\b\b\b\b\b\b\b\b\b\b\b\b\b\b\b\b\b\b\b\b\b\b\b\b\b\b\b\b\b\b\b\b\b\b\b\b\b\b\b\b\b\b\b\b\b\b\b\b\b\b\b\b\b\b\b\b\b\b\b\b\b\b\b\b\b\b\r",
      "412416/412416 [==============================] - 11s 27us/sample - loss: 198.2039 - reconstruction_loss: 92.9043 - KL_loss: 20.8452 - val_loss: 107.6136 - val_reconstruction_loss: 87.1059 - val_KL_loss: 20.5077 - lr: 0.0020\n",
      "Epoch 352/1000\n"
     ]
    },
    {
     "name": "stdout",
     "output_type": "stream",
     "text": [
      "\r",
      "412416/412416 [==============================] - ETA: 0s - loss: 197.9353 - reconstruction_loss: 92.7078 - KL_loss: 20.9142"
     ]
    },
    {
     "name": "stdout",
     "output_type": "stream",
     "text": [
      "\b\b\b\b\b\b\b\b\b\b\b\b\b\b\b\b\b\b\b\b\b\b\b\b\b\b\b\b\b\b\b\b\b\b\b\b\b\b\b\b\b\b\b\b\b\b\b\b\b\b\b\b\b\b\b\b\b\b\b\b\b\b\b\b\b\b\b\b\b\b\b\b\b\b\b\b\b\b\b\b\b\b\b\b\b\b\b\b\b\b\b\b\b\b\b\b\b\b\b\b\b\b\b\b\b\b\b\b\b\b\b\b\b\b\b\b\b\b\b\b\b\b\b\r",
      "412416/412416 [==============================] - 12s 28us/sample - loss: 197.9353 - reconstruction_loss: 92.7078 - KL_loss: 20.9142 - val_loss: 107.7414 - val_reconstruction_loss: 87.1563 - val_KL_loss: 20.5851 - lr: 0.0020\n",
      "Epoch 353/1000\n"
     ]
    },
    {
     "name": "stdout",
     "output_type": "stream",
     "text": [
      "\r",
      "412416/412416 [==============================] - ETA: 0s - loss: 198.0279 - reconstruction_loss: 92.7592 - KL_loss: 20.9872"
     ]
    },
    {
     "name": "stdout",
     "output_type": "stream",
     "text": [
      "\b\b\b\b\b\b\b\b\b\b\b\b\b\b\b\b\b\b\b\b\b\b\b\b\b\b\b\b\b\b\b\b\b\b\b\b\b\b\b\b\b\b\b\b\b\b\b\b\b\b\b\b\b\b\b\b\b\b\b\b\b\b\b\b\b\b\b\b\b\b\b\b\b\b\b\b\b\b\b\b\b\b\b\b\b\b\b\b\b\b\b\b\b\b\b\b\b\b\b\b\b\b\b\b\b\b\b\b\b\b\b\b\b\b\b\b\b\b\b\b\b\b\b\r",
      "412416/412416 [==============================] - 12s 28us/sample - loss: 198.0279 - reconstruction_loss: 92.7592 - KL_loss: 20.9872 - val_loss: 107.5820 - val_reconstruction_loss: 86.9062 - val_KL_loss: 20.6758 - lr: 0.0020\n",
      "Epoch 354/1000\n"
     ]
    },
    {
     "name": "stdout",
     "output_type": "stream",
     "text": [
      "\r",
      "412416/412416 [==============================] - ETA: 0s - loss: 197.7330 - reconstruction_loss: 92.4979 - KL_loss: 21.0796"
     ]
    },
    {
     "name": "stdout",
     "output_type": "stream",
     "text": [
      "\b\b\b\b\b\b\b\b\b\b\b\b\b\b\b\b\b\b\b\b\b\b\b\b\b\b\b\b\b\b\b\b\b\b\b\b\b\b\b\b\b\b\b\b\b\b\b\b\b\b\b\b\b\b\b\b\b\b\b\b\b\b\b\b\b\b\b\b\b\b\b\b\b\b\b\b\b\b\b\b\b\b\b\b\b\b\b\b\b\b\b\b\b\b\b\b\b\b\b\b\b\b\b\b\b\b\b\b\b\b\b\b\b\b\b\b\b\b\b\b\b\b\b\r",
      "412416/412416 [==============================] - 12s 28us/sample - loss: 197.7330 - reconstruction_loss: 92.4979 - KL_loss: 21.0796 - val_loss: 107.6053 - val_reconstruction_loss: 86.8726 - val_KL_loss: 20.7326 - lr: 0.0020\n",
      "Epoch 355/1000\n"
     ]
    },
    {
     "name": "stdout",
     "output_type": "stream",
     "text": [
      "\r",
      "412416/412416 [==============================] - ETA: 0s - loss: 197.6368 - reconstruction_loss: 92.4519 - KL_loss: 21.1318"
     ]
    },
    {
     "name": "stdout",
     "output_type": "stream",
     "text": [
      "\b\b\b\b\b\b\b\b\b\b\b\b\b\b\b\b\b\b\b\b\b\b\b\b\b\b\b\b\b\b\b\b\b\b\b\b\b\b\b\b\b\b\b\b\b\b\b\b\b\b\b\b\b\b\b\b\b\b\b\b\b\b\b\b\b\b\b\b\b\b\b\b\b\b\b\b\b\b\b\b\b\b\b\b\b\b\b\b\b\b\b\b\b\b\b\b\b\b\b\b\b\b\b\b\b\b\b\b\b\b\b\b\b\b\b\b\b\b\b\b\b\b\b\r",
      "412416/412416 [==============================] - 12s 28us/sample - loss: 197.6368 - reconstruction_loss: 92.4519 - KL_loss: 21.1318 - val_loss: 107.7686 - val_reconstruction_loss: 87.1776 - val_KL_loss: 20.5910 - lr: 0.0020\n",
      "Epoch 356/1000\n"
     ]
    },
    {
     "name": "stdout",
     "output_type": "stream",
     "text": [
      "\r",
      "412416/412416 [==============================] - ETA: 0s - loss: 197.8727 - reconstruction_loss: 92.7830 - KL_loss: 20.9941"
     ]
    },
    {
     "name": "stdout",
     "output_type": "stream",
     "text": [
      "\b\b\b\b\b\b\b\b\b\b\b\b\b\b\b\b\b\b\b\b\b\b\b\b\b\b\b\b\b\b\b\b\b\b\b\b\b\b\b\b\b\b\b\b\b\b\b\b\b\b\b\b\b\b\b\b\b\b\b\b\b\b\b\b\b\b\b\b\b\b\b\b\b\b\b\b\b\b\b\b\b\b\b\b\b\b\b\b\b\b\b\b\b\b\b\b\b\b\b\b\b\b\b\b\b\b\b\b\b\b\b\b\b\b\b\b\b\b\b\b\b\b\b\r",
      "412416/412416 [==============================] - 12s 29us/sample - loss: 197.8727 - reconstruction_loss: 92.7830 - KL_loss: 20.9941 - val_loss: 107.5368 - val_reconstruction_loss: 86.9096 - val_KL_loss: 20.6271 - lr: 0.0020\n",
      "Epoch 357/1000\n"
     ]
    },
    {
     "name": "stdout",
     "output_type": "stream",
     "text": [
      "\r",
      "412416/412416 [==============================] - ETA: 0s - loss: 197.3271 - reconstruction_loss: 92.4930 - KL_loss: 21.0305"
     ]
    },
    {
     "name": "stdout",
     "output_type": "stream",
     "text": [
      "\b\b\b\b\b\b\b\b\b\b\b\b\b\b\b\b\b\b\b\b\b\b\b\b\b\b\b\b\b\b\b\b\b\b\b\b\b\b\b\b\b\b\b\b\b\b\b\b\b\b\b\b\b\b\b\b\b\b\b\b\b\b\b\b\b\b\b\b\b\b\b\b\b\b\b\b\b\b\b\b\b\b\b\b\b\b\b\b\b\b\b\b\b\b\b\b\b\b\b\b\b\b\b\b\b\b\b\b\b\b\b\b\b\b\b\b\b\b\b\b\b\b\b\r",
      "412416/412416 [==============================] - 12s 28us/sample - loss: 197.3271 - reconstruction_loss: 92.4930 - KL_loss: 21.0305 - val_loss: 107.7730 - val_reconstruction_loss: 87.0498 - val_KL_loss: 20.7232 - lr: 0.0020\n",
      "Epoch 358/1000\n"
     ]
    },
    {
     "name": "stdout",
     "output_type": "stream",
     "text": [
      "\r",
      "412416/412416 [==============================] - ETA: 0s - loss: 197.6687 - reconstruction_loss: 92.6190 - KL_loss: 21.1228"
     ]
    },
    {
     "name": "stdout",
     "output_type": "stream",
     "text": [
      "\b\b\b\b\b\b\b\b\b\b\b\b\b\b\b\b\b\b\b\b\b\b\b\b\b\b\b\b\b\b\b\b\b\b\b\b\b\b\b\b\b\b\b\b\b\b\b\b\b\b\b\b\b\b\b\b\b\b\b\b\b\b\b\b\b\b\b\b\b\b\b\b\b\b\b\b\b\b\b\b\b\b\b\b\b\b\b\b\b\b\b\b\b\b\b\b\b\b\b\b\b\b\b\b\b\b\b\b\b\b\b\b\b\b\b\b\b\b\b\b\b\b\b\r",
      "412416/412416 [==============================] - 12s 28us/sample - loss: 197.6687 - reconstruction_loss: 92.6190 - KL_loss: 21.1228 - val_loss: 107.7419 - val_reconstruction_loss: 87.0245 - val_KL_loss: 20.7175 - lr: 0.0020\n",
      "Epoch 359/1000\n"
     ]
    },
    {
     "name": "stdout",
     "output_type": "stream",
     "text": [
      "\r",
      "412416/412416 [==============================] - ETA: 0s - loss: 197.4701 - reconstruction_loss: 92.5669 - KL_loss: 21.1197"
     ]
    },
    {
     "name": "stdout",
     "output_type": "stream",
     "text": [
      "\b\b\b\b\b\b\b\b\b\b\b\b\b\b\b\b\b\b\b\b\b\b\b\b\b\b\b\b\b\b\b\b\b\b\b\b\b\b\b\b\b\b\b\b\b\b\b\b\b\b\b\b\b\b\b\b\b\b\b\b\b\b\b\b\b\b\b\b\b\b\b\b\b\b\b\b\b\b\b\b\b\b\b\b\b\b\b\b\b\b\b\b\b\b\b\b\b\b\b\b\b\b\b\b\b\b\b\b\b\b\b\b\b\b\b\b\b\b\b\b\b\b\b\r",
      "412416/412416 [==============================] - 12s 28us/sample - loss: 197.4701 - reconstruction_loss: 92.5669 - KL_loss: 21.1197 - val_loss: 107.7301 - val_reconstruction_loss: 87.1075 - val_KL_loss: 20.6227 - lr: 0.0020\n",
      "Epoch 360/1000\n"
     ]
    },
    {
     "name": "stdout",
     "output_type": "stream",
     "text": [
      "\r",
      "412416/412416 [==============================] - ETA: 0s - loss: 197.5026 - reconstruction_loss: 92.7259 - KL_loss: 21.0204"
     ]
    },
    {
     "name": "stdout",
     "output_type": "stream",
     "text": [
      "\b\b\b\b\b\b\b\b\b\b\b\b\b\b\b\b\b\b\b\b\b\b\b\b\b\b\b\b\b\b\b\b\b\b\b\b\b\b\b\b\b\b\b\b\b\b\b\b\b\b\b\b\b\b\b\b\b\b\b\b\b\b\b\b\b\b\b\b\b\b\b\b\b\b\b\b\b\b\b\b\b\b\b\b\b\b\b\b\b\b\b\b\b\b\b\b\b\b\b\b\b\b\b\b\b\b\b\b\b\b\b\b\b\b\b\b\b\b\b\b\b\b\b\r",
      "412416/412416 [==============================] - 11s 27us/sample - loss: 197.5026 - reconstruction_loss: 92.7259 - KL_loss: 21.0204 - val_loss: 107.5511 - val_reconstruction_loss: 86.9073 - val_KL_loss: 20.6438 - lr: 0.0020\n",
      "Epoch 361/1000\n"
     ]
    },
    {
     "name": "stdout",
     "output_type": "stream",
     "text": [
      "\r",
      "412416/412416 [==============================] - ETA: 0s - loss: 196.9954 - reconstruction_loss: 92.4843 - KL_loss: 21.0493"
     ]
    },
    {
     "name": "stdout",
     "output_type": "stream",
     "text": [
      "\b\b\b\b\b\b\b\b\b\b\b\b\b\b\b\b\b\b\b\b\b\b\b\b\b\b\b\b\b\b\b\b\b\b\b\b\b\b\b\b\b\b\b\b\b\b\b\b\b\b\b\b\b\b\b\b\b\b\b\b\b\b\b\b\b\b\b\b\b\b\b\b\b\b\b\b\b\b\b\b\b\b\b\b\b\b\b\b\b\b\b\b\b\b\b\b\b\b\b\b\b\b\b\b\b\b\b\b\b\b\b\b\b\b\b\b\b\b\b\b\b\b\b\r",
      "412416/412416 [==============================] - 12s 29us/sample - loss: 196.9954 - reconstruction_loss: 92.4843 - KL_loss: 21.0493 - val_loss: 107.8183 - val_reconstruction_loss: 87.0231 - val_KL_loss: 20.7952 - lr: 0.0020\n",
      "Epoch 362/1000\n"
     ]
    },
    {
     "name": "stdout",
     "output_type": "stream",
     "text": [
      "\r",
      "412416/412416 [==============================] - ETA: 0s - loss: 197.5107 - reconstruction_loss: 92.5953 - KL_loss: 21.1942"
     ]
    },
    {
     "name": "stdout",
     "output_type": "stream",
     "text": [
      "\b\b\b\b\b\b\b\b\b\b\b\b\b\b\b\b\b\b\b\b\b\b\b\b\b\b\b\b\b\b\b\b\b\b\b\b\b\b\b\b\b\b\b\b\b\b\b\b\b\b\b\b\b\b\b\b\b\b\b\b\b\b\b\b\b\b\b\b\b\b\b\b\b\b\b\b\b\b\b\b\b\b\b\b\b\b\b\b\b\b\b\b\b\b\b\b\b\b\b\b\b\b\b\b\b\b\b\b\b\b\b\b\b\b\b\b\b\b\b\b\b\b\b\r",
      "412416/412416 [==============================] - 11s 28us/sample - loss: 197.5107 - reconstruction_loss: 92.5953 - KL_loss: 21.1942 - val_loss: 107.5880 - val_reconstruction_loss: 86.8703 - val_KL_loss: 20.7177 - lr: 0.0020\n",
      "Epoch 363/1000\n"
     ]
    },
    {
     "name": "stdout",
     "output_type": "stream",
     "text": [
      "\r",
      "412416/412416 [==============================] - ETA: 0s - loss: 196.9739 - reconstruction_loss: 92.4383 - KL_loss: 21.1216"
     ]
    },
    {
     "name": "stdout",
     "output_type": "stream",
     "text": [
      "\b\b\b\b\b\b\b\b\b\b\b\b\b\b\b\b\b\b\b\b\b\b\b\b\b\b\b\b\b\b\b\b\b\b\b\b\b\b\b\b\b\b\b\b\b\b\b\b\b\b\b\b\b\b\b\b\b\b\b\b\b\b\b\b\b\b\b\b\b\b\b\b\b\b\b\b\b\b\b\b\b\b\b\b\b\b\b\b\b\b\b\b\b\b\b\b\b\b\b\b\b\b\b\b\b\b\b\b\b\b\b\b\b\b\b\b\b\b\b\b\b\b\b\r",
      "412416/412416 [==============================] - 12s 30us/sample - loss: 196.9739 - reconstruction_loss: 92.4383 - KL_loss: 21.1216 - val_loss: 107.7395 - val_reconstruction_loss: 87.1714 - val_KL_loss: 20.5681 - lr: 0.0020\n",
      "Epoch 364/1000\n"
     ]
    },
    {
     "name": "stdout",
     "output_type": "stream",
     "text": [
      "\r",
      "412416/412416 [==============================] - ETA: 0s - loss: 197.3516 - reconstruction_loss: 92.7646 - KL_loss: 20.9664"
     ]
    },
    {
     "name": "stdout",
     "output_type": "stream",
     "text": [
      "\b\b\b\b\b\b\b\b\b\b\b\b\b\b\b\b\b\b\b\b\b\b\b\b\b\b\b\b\b\b\b\b\b\b\b\b\b\b\b\b\b\b\b\b\b\b\b\b\b\b\b\b\b\b\b\b\b\b\b\b\b\b\b\b\b\b\b\b\b\b\b\b\b\b\b\b\b\b\b\b\b\b\b\b\b\b\b\b\b\b\b\b\b\b\b\b\b\b\b\b\b\b\b\b\b\b\b\b\b\b\b\b\b\b\b\b\b\b\b\b\b\b\b\r",
      "412416/412416 [==============================] - 12s 29us/sample - loss: 197.3516 - reconstruction_loss: 92.7646 - KL_loss: 20.9664 - val_loss: 107.5249 - val_reconstruction_loss: 86.7825 - val_KL_loss: 20.7424 - lr: 0.0020\n",
      "Epoch 365/1000\n"
     ]
    },
    {
     "name": "stdout",
     "output_type": "stream",
     "text": [
      "\r",
      "412416/412416 [==============================] - ETA: 0s - loss: 196.6806 - reconstruction_loss: 92.3705 - KL_loss: 21.1452"
     ]
    },
    {
     "name": "stdout",
     "output_type": "stream",
     "text": [
      "\b\b\b\b\b\b\b\b\b\b\b\b\b\b\b\b\b\b\b\b\b\b\b\b\b\b\b\b\b\b\b\b\b\b\b\b\b\b\b\b\b\b\b\b\b\b\b\b\b\b\b\b\b\b\b\b\b\b\b\b\b\b\b\b\b\b\b\b\b\b\b\b\b\b\b\b\b\b\b\b\b\b\b\b\b\b\b\b\b\b\b\b\b\b\b\b\b\b\b\b\b\b\b\b\b\b\b\b\b\b\b\b\b\b\b\b\b\b\b\b\b\b\b\r",
      "412416/412416 [==============================] - 13s 30us/sample - loss: 196.6806 - reconstruction_loss: 92.3705 - KL_loss: 21.1452 - val_loss: 107.9513 - val_reconstruction_loss: 87.1441 - val_KL_loss: 20.8072 - lr: 0.0020\n",
      "Epoch 366/1000\n"
     ]
    },
    {
     "name": "stdout",
     "output_type": "stream",
     "text": [
      "\r",
      "412416/412416 [==============================] - ETA: 0s - loss: 197.5736 - reconstruction_loss: 92.6949 - KL_loss: 21.2057"
     ]
    },
    {
     "name": "stdout",
     "output_type": "stream",
     "text": [
      "\b\b\b\b\b\b\b\b\b\b\b\b\b\b\b\b\b\b\b\b\b\b\b\b\b\b\b\b\b\b\b\b\b\b\b\b\b\b\b\b\b\b\b\b\b\b\b\b\b\b\b\b\b\b\b\b\b\b\b\b\b\b\b\b\b\b\b\b\b\b\b\b\b\b\b\b\b\b\b\b\b\b\b\b\b\b\b\b\b\b\b\b\b\b\b\b\b\b\b\b\b\b\b\b\b\b\b\b\b\b\b\b\b\b\b\b\b\b\b\b\b\b\b\r",
      "412416/412416 [==============================] - 11s 27us/sample - loss: 197.5736 - reconstruction_loss: 92.6949 - KL_loss: 21.2057 - val_loss: 107.7204 - val_reconstruction_loss: 86.9570 - val_KL_loss: 20.7634 - lr: 0.0020\n",
      "Epoch 367/1000\n"
     ]
    },
    {
     "name": "stdout",
     "output_type": "stream",
     "text": [
      "\r",
      "412416/412416 [==============================] - ETA: 0s - loss: 196.8436 - reconstruction_loss: 92.5120 - KL_loss: 21.1627"
     ]
    },
    {
     "name": "stdout",
     "output_type": "stream",
     "text": [
      "\b\b\b\b\b\b\b\b\b\b\b\b\b\b\b\b\b\b\b\b\b\b\b\b\b\b\b\b\b\b\b\b\b\b\b\b\b\b\b\b\b\b\b\b\b\b\b\b\b\b\b\b\b\b\b\b\b\b\b\b\b\b\b\b\b\b\b\b\b\b\b\b\b\b\b\b\b\b\b\b\b\b\b\b\b\b\b\b\b\b\b\b\b\b\b\b\b\b\b\b\b\b\b\b\b\b\b\b\b\b\b\b\b\b\b\b\b\b\b\b\b\b\b\r",
      "412416/412416 [==============================] - 12s 30us/sample - loss: 196.8436 - reconstruction_loss: 92.5120 - KL_loss: 21.1627 - val_loss: 107.8320 - val_reconstruction_loss: 87.3003 - val_KL_loss: 20.5317 - lr: 0.0020\n",
      "Epoch 368/1000\n"
     ]
    },
    {
     "name": "stdout",
     "output_type": "stream",
     "text": [
      "\r",
      "412416/412416 [==============================] - ETA: 0s - loss: 197.4615 - reconstruction_loss: 92.8717 - KL_loss: 20.9309"
     ]
    },
    {
     "name": "stdout",
     "output_type": "stream",
     "text": [
      "\b\b\b\b\b\b\b\b\b\b\b\b\b\b\b\b\b\b\b\b\b\b\b\b\b\b\b\b\b\b\b\b\b\b\b\b\b\b\b\b\b\b\b\b\b\b\b\b\b\b\b\b\b\b\b\b\b\b\b\b\b\b\b\b\b\b\b\b\b\b\b\b\b\b\b\b\b\b\b\b\b\b\b\b\b\b\b\b\b\b\b\b\b\b\b\b\b\b\b\b\b\b\b\b\b\b\b\b\b\b\b\b\b\b\b\b\b\b\b\b\b\b\b\r",
      "412416/412416 [==============================] - 12s 28us/sample - loss: 197.4615 - reconstruction_loss: 92.8717 - KL_loss: 20.9309 - val_loss: 107.6805 - val_reconstruction_loss: 87.0268 - val_KL_loss: 20.6537 - lr: 0.0020\n",
      "Epoch 369/1000\n"
     ]
    },
    {
     "name": "stdout",
     "output_type": "stream",
     "text": [
      "\r",
      "412416/412416 [==============================] - ETA: 0s - loss: 196.8148 - reconstruction_loss: 92.6113 - KL_loss: 21.0487"
     ]
    },
    {
     "name": "stdout",
     "output_type": "stream",
     "text": [
      "\b\b\b\b\b\b\b\b\b\b\b\b\b\b\b\b\b\b\b\b\b\b\b\b\b\b\b\b\b\b\b\b\b\b\b\b\b\b\b\b\b\b\b\b\b\b\b\b\b\b\b\b\b\b\b\b\b\b\b\b\b\b\b\b\b\b\b\b\b\b\b\b\b\b\b\b\b\b\b\b\b\b\b\b\b\b\b\b\b\b\b\b\b\b\b\b\b\b\b\b\b\b\b\b\b\b\b\b\b\b\b\b\b\b\b\b\b\b\b\b\b\b\b\r",
      "412416/412416 [==============================] - 12s 28us/sample - loss: 196.8148 - reconstruction_loss: 92.6113 - KL_loss: 21.0487 - val_loss: 107.9761 - val_reconstruction_loss: 86.9460 - val_KL_loss: 21.0301 - lr: 0.0020\n",
      "Epoch 370/1000\n"
     ]
    },
    {
     "name": "stdout",
     "output_type": "stream",
     "text": [
      "\r",
      "412416/412416 [==============================] - ETA: 0s - loss: 197.7711 - reconstruction_loss: 92.4949 - KL_loss: 21.4255"
     ]
    },
    {
     "name": "stdout",
     "output_type": "stream",
     "text": [
      "\b\b\b\b\b\b\b\b\b\b\b\b\b\b\b\b\b\b\b\b\b\b\b\b\b\b\b\b\b\b\b\b\b\b\b\b\b\b\b\b\b\b\b\b\b\b\b\b\b\b\b\b\b\b\b\b\b\b\b\b\b\b\b\b\b\b\b\b\b\b\b\b\b\b\b\b\b\b\b\b\b\b\b\b\b\b\b\b\b\b\b\b\b\b\b\b\b\b\b\b\b\b\b\b\b\b\b\b\b\b\b\b\b\b\b\b\b\b\b\b\b\b\b\r",
      "412416/412416 [==============================] - 12s 29us/sample - loss: 197.7711 - reconstruction_loss: 92.4949 - KL_loss: 21.4255 - val_loss: 107.8407 - val_reconstruction_loss: 86.8729 - val_KL_loss: 20.9678 - lr: 0.0020\n",
      "Epoch 371/1000\n"
     ]
    },
    {
     "name": "stdout",
     "output_type": "stream",
     "text": [
      "\r",
      "412416/412416 [==============================] - ETA: 0s - loss: 197.3894 - reconstruction_loss: 92.4714 - KL_loss: 21.3634"
     ]
    },
    {
     "name": "stdout",
     "output_type": "stream",
     "text": [
      "\b\b\b\b\b\b\b\b\b\b\b\b\b\b\b\b\b\b\b\b\b\b\b\b\b\b\b\b\b\b\b\b\b\b\b\b\b\b\b\b\b\b\b\b\b\b\b\b\b\b\b\b\b\b\b\b\b\b\b\b\b\b\b\b\b\b\b\b\b\b\b\b\b\b\b\b\b\b\b\b\b\b\b\b\b\b\b\b\b\b\b\b\b\b\b\b\b\b\b\b\b\b\b\b\b\b\b\b\b\b\b\b\b\b\b\b\b\b\b\b\b\b\b\r",
      "412416/412416 [==============================] - 12s 28us/sample - loss: 197.3894 - reconstruction_loss: 92.4714 - KL_loss: 21.3634 - val_loss: 107.8187 - val_reconstruction_loss: 87.2539 - val_KL_loss: 20.5648 - lr: 0.0020\n",
      "Epoch 372/1000\n"
     ]
    },
    {
     "name": "stdout",
     "output_type": "stream",
     "text": [
      "\r",
      "412416/412416 [==============================] - ETA: 0s - loss: 196.8749 - reconstruction_loss: 92.7823 - KL_loss: 20.9604"
     ]
    },
    {
     "name": "stdout",
     "output_type": "stream",
     "text": [
      "\b\b\b\b\b\b\b\b\b\b\b\b\b\b\b\b\b\b\b\b\b\b\b\b\b\b\b\b\b\b\b\b\b\b\b\b\b\b\b\b\b\b\b\b\b\b\b\b\b\b\b\b\b\b\b\b\b\b\b\b\b\b\b\b\b\b\b\b\b\b\b\b\b\b\b\b\b\b\b\b\b\b\b\b\b\b\b\b\b\b\b\b\b\b\b\b\b\b\b\b\b\b\b\b\b\b\b\b\b\b\b\b\b\b\b\b\b\b\b\b\b\b\b\r",
      "412416/412416 [==============================] - 12s 28us/sample - loss: 196.8749 - reconstruction_loss: 92.7823 - KL_loss: 20.9604 - val_loss: 107.7018 - val_reconstruction_loss: 87.1559 - val_KL_loss: 20.5459 - lr: 0.0020\n",
      "Epoch 373/1000\n"
     ]
    },
    {
     "name": "stdout",
     "output_type": "stream",
     "text": [
      "\r",
      "412416/412416 [==============================] - ETA: 0s - loss: 196.7660 - reconstruction_loss: 92.7393 - KL_loss: 20.9424"
     ]
    },
    {
     "name": "stdout",
     "output_type": "stream",
     "text": [
      "\b\b\b\b\b\b\b\b\b\b\b\b\b\b\b\b\b\b\b\b\b\b\b\b\b\b\b\b\b\b\b\b\b\b\b\b\b\b\b\b\b\b\b\b\b\b\b\b\b\b\b\b\b\b\b\b\b\b\b\b\b\b\b\b\b\b\b\b\b\b\b\b\b\b\b\b\b\b\b\b\b\b\b\b\b\b\b\b\b\b\b\b\b\b\b\b\b\b\b\b\b\b\b\b\b\b\b\b\b\b\b\b\b\b\b\b\b\b\b\b\b\b\b\r",
      "412416/412416 [==============================] - 12s 28us/sample - loss: 196.7660 - reconstruction_loss: 92.7393 - KL_loss: 20.9424 - val_loss: 107.8606 - val_reconstruction_loss: 87.1023 - val_KL_loss: 20.7583 - lr: 0.0020\n",
      "Epoch 374/1000\n"
     ]
    },
    {
     "name": "stdout",
     "output_type": "stream",
     "text": [
      "\r",
      "412416/412416 [==============================] - ETA: 0s - loss: 196.8334 - reconstruction_loss: 92.6630 - KL_loss: 21.1503"
     ]
    },
    {
     "name": "stdout",
     "output_type": "stream",
     "text": [
      "\b\b\b\b\b\b\b\b\b\b\b\b\b\b\b\b\b\b\b\b\b\b\b\b\b\b\b\b\b\b\b\b\b\b\b\b\b\b\b\b\b\b\b\b\b\b\b\b\b\b\b\b\b\b\b\b\b\b\b\b\b\b\b\b\b\b\b\b\b\b\b\b\b\b\b\b\b\b\b\b\b\b\b\b\b\b\b\b\b\b\b\b\b\b\b\b\b\b\b\b\b\b\b\b\b\b\b\b\b\b\b\b\b\b\b\b\b\b\b\b\b\b\b\r",
      "412416/412416 [==============================] - 12s 29us/sample - loss: 196.8334 - reconstruction_loss: 92.6630 - KL_loss: 21.1503 - val_loss: 107.7240 - val_reconstruction_loss: 86.8296 - val_KL_loss: 20.8945 - lr: 0.0020\n",
      "Epoch 375/1000\n"
     ]
    },
    {
     "name": "stdout",
     "output_type": "stream",
     "text": [
      "\r",
      "412416/412416 [==============================] - ETA: 0s - loss: 196.4728 - reconstruction_loss: 92.3898 - KL_loss: 21.2860"
     ]
    },
    {
     "name": "stdout",
     "output_type": "stream",
     "text": [
      "\b\b\b\b\b\b\b\b\b\b\b\b\b\b\b\b\b\b\b\b\b\b\b\b\b\b\b\b\b\b\b\b\b\b\b\b\b\b\b\b\b\b\b\b\b\b\b\b\b\b\b\b\b\b\b\b\b\b\b\b\b\b\b\b\b\b\b\b\b\b\b\b\b\b\b\b\b\b\b\b\b\b\b\b\b\b\b\b\b\b\b\b\b\b\b\b\b\b\b\b\b\b\b\b\b\b\b\b\b\b\b\b\b\b\b\b\b\b\b\b\b\b\b\r",
      "412416/412416 [==============================] - 12s 28us/sample - loss: 196.4728 - reconstruction_loss: 92.3898 - KL_loss: 21.2860 - val_loss: 107.8155 - val_reconstruction_loss: 87.0904 - val_KL_loss: 20.7251 - lr: 0.0018\n",
      "Epoch 376/1000\n"
     ]
    },
    {
     "name": "stdout",
     "output_type": "stream",
     "text": [
      "\r",
      "412416/412416 [==============================] - ETA: 0s - loss: 196.5375 - reconstruction_loss: 92.6265 - KL_loss: 21.1191"
     ]
    },
    {
     "name": "stdout",
     "output_type": "stream",
     "text": [
      "\b\b\b\b\b\b\b\b\b\b\b\b\b\b\b\b\b\b\b\b\b\b\b\b\b\b\b\b\b\b\b\b\b\b\b\b\b\b\b\b\b\b\b\b\b\b\b\b\b\b\b\b\b\b\b\b\b\b\b\b\b\b\b\b\b\b\b\b\b\b\b\b\b\b\b\b\b\b\b\b\b\b\b\b\b\b\b\b\b\b\b\b\b\b\b\b\b\b\b\b\b\b\b\b\b\b\b\b\b\b\b\b\b\b\b\b\b\b\b\b\b\b\b\r",
      "412416/412416 [==============================] - 12s 28us/sample - loss: 196.5375 - reconstruction_loss: 92.6265 - KL_loss: 21.1191 - val_loss: 107.6895 - val_reconstruction_loss: 87.0144 - val_KL_loss: 20.6750 - lr: 0.0018\n",
      "Epoch 377/1000\n"
     ]
    },
    {
     "name": "stdout",
     "output_type": "stream",
     "text": [
      "\r",
      "412416/412416 [==============================] - ETA: 0s - loss: 196.4433 - reconstruction_loss: 92.5644 - KL_loss: 21.0703"
     ]
    },
    {
     "name": "stdout",
     "output_type": "stream",
     "text": [
      "\b\b\b\b\b\b\b\b\b\b\b\b\b\b\b\b\b\b\b\b\b\b\b\b\b\b\b\b\b\b\b\b\b\b\b\b\b\b\b\b\b\b\b\b\b\b\b\b\b\b\b\b\b\b\b\b\b\b\b\b\b\b\b\b\b\b\b\b\b\b\b\b\b\b\b\b\b\b\b\b\b\b\b\b\b\b\b\b\b\b\b\b\b\b\b\b\b\b\b\b\b\b\b\b\b\b\b\b\b\b\b\b\b\b\b\b\b\b\b\b\b\b\b\r",
      "412416/412416 [==============================] - 12s 28us/sample - loss: 196.4433 - reconstruction_loss: 92.5644 - KL_loss: 21.0703 - val_loss: 107.5799 - val_reconstruction_loss: 86.7963 - val_KL_loss: 20.7836 - lr: 0.0018\n",
      "Epoch 378/1000\n"
     ]
    },
    {
     "name": "stdout",
     "output_type": "stream",
     "text": [
      "\r",
      "412416/412416 [==============================] - ETA: 0s - loss: 195.9786 - reconstruction_loss: 92.3744 - KL_loss: 21.1767"
     ]
    },
    {
     "name": "stdout",
     "output_type": "stream",
     "text": [
      "\b\b\b\b\b\b\b\b\b\b\b\b\b\b\b\b\b\b\b\b\b\b\b\b\b\b\b\b\b\b\b\b\b\b\b\b\b\b\b\b\b\b\b\b\b\b\b\b\b\b\b\b\b\b\b\b\b\b\b\b\b\b\b\b\b\b\b\b\b\b\b\b\b\b\b\b\b\b\b\b\b\b\b\b\b\b\b\b\b\b\b\b\b\b\b\b\b\b\b\b\b\b\b\b\b\b\b\b\b\b\b\b\b\b\b\b\b\b\b\b\b\b\b\r",
      "412416/412416 [==============================] - 12s 29us/sample - loss: 195.9786 - reconstruction_loss: 92.3744 - KL_loss: 21.1767 - val_loss: 107.6383 - val_reconstruction_loss: 86.8556 - val_KL_loss: 20.7827 - lr: 0.0018\n",
      "Epoch 379/1000\n"
     ]
    },
    {
     "name": "stdout",
     "output_type": "stream",
     "text": [
      "\r",
      "412416/412416 [==============================] - ETA: 0s - loss: 195.8686 - reconstruction_loss: 92.3886 - KL_loss: 21.1757"
     ]
    },
    {
     "name": "stdout",
     "output_type": "stream",
     "text": [
      "\b\b\b\b\b\b\b\b\b\b\b\b\b\b\b\b\b\b\b\b\b\b\b\b\b\b\b\b\b\b\b\b\b\b\b\b\b\b\b\b\b\b\b\b\b\b\b\b\b\b\b\b\b\b\b\b\b\b\b\b\b\b\b\b\b\b\b\b\b\b\b\b\b\b\b\b\b\b\b\b\b\b\b\b\b\b\b\b\b\b\b\b\b\b\b\b\b\b\b\b\b\b\b\b\b\b\b\b\b\b\b\b\b\b\b\b\b\b\b\b\b\b\b\r",
      "412416/412416 [==============================] - 12s 28us/sample - loss: 195.8686 - reconstruction_loss: 92.3886 - KL_loss: 21.1757 - val_loss: 107.9982 - val_reconstruction_loss: 87.1313 - val_KL_loss: 20.8669 - lr: 0.0018\n",
      "Epoch 380/1000\n"
     ]
    },
    {
     "name": "stdout",
     "output_type": "stream",
     "text": [
      "\r",
      "412416/412416 [==============================] - ETA: 0s - loss: 196.3942 - reconstruction_loss: 92.6772 - KL_loss: 21.2605"
     ]
    },
    {
     "name": "stdout",
     "output_type": "stream",
     "text": [
      "\b\b\b\b\b\b\b\b\b\b\b\b\b\b\b\b\b\b\b\b\b\b\b\b\b\b\b\b\b\b\b\b\b\b\b\b\b\b\b\b\b\b\b\b\b\b\b\b\b\b\b\b\b\b\b\b\b\b\b\b\b\b\b\b\b\b\b\b\b\b\b\b\b\b\b\b\b\b\b\b\b\b\b\b\b\b\b\b\b\b\b\b\b\b\b\b\b\b\b\b\b\b\b\b\b\b\b\b\b\b\b\b\b\b\b\b\b\b\b\b\b\b\b\r",
      "412416/412416 [==============================] - 12s 28us/sample - loss: 196.3942 - reconstruction_loss: 92.6772 - KL_loss: 21.2605 - val_loss: 107.6536 - val_reconstruction_loss: 86.9397 - val_KL_loss: 20.7139 - lr: 0.0018\n",
      "Epoch 381/1000\n"
     ]
    },
    {
     "name": "stdout",
     "output_type": "stream",
     "text": [
      "\r",
      "412416/412416 [==============================] - ETA: 0s - loss: 196.0432 - reconstruction_loss: 92.5027 - KL_loss: 21.1091"
     ]
    },
    {
     "name": "stdout",
     "output_type": "stream",
     "text": [
      "\b\b\b\b\b\b\b\b\b\b\b\b\b\b\b\b\b\b\b\b\b\b\b\b\b\b\b\b\b\b\b\b\b\b\b\b\b\b\b\b\b\b\b\b\b\b\b\b\b\b\b\b\b\b\b\b\b\b\b\b\b\b\b\b\b\b\b\b\b\b\b\b\b\b\b\b\b\b\b\b\b\b\b\b\b\b\b\b\b\b\b\b\b\b\b\b\b\b\b\b\b\b\b\b\b\b\b\b\b\b\b\b\b\b\b\b\b\b\b\b\b\b\b\r",
      "412416/412416 [==============================] - 12s 28us/sample - loss: 196.0432 - reconstruction_loss: 92.5027 - KL_loss: 21.1091 - val_loss: 107.6640 - val_reconstruction_loss: 86.9570 - val_KL_loss: 20.7070 - lr: 0.0018\n",
      "Epoch 382/1000\n"
     ]
    },
    {
     "name": "stdout",
     "output_type": "stream",
     "text": [
      "\r",
      "412416/412416 [==============================] - ETA: 0s - loss: 195.8386 - reconstruction_loss: 92.5008 - KL_loss: 21.1055"
     ]
    },
    {
     "name": "stdout",
     "output_type": "stream",
     "text": [
      "\b\b\b\b\b\b\b\b\b\b\b\b\b\b\b\b\b\b\b\b\b\b\b\b\b\b\b\b\b\b\b\b\b\b\b\b\b\b\b\b\b\b\b\b\b\b\b\b\b\b\b\b\b\b\b\b\b\b\b\b\b\b\b\b\b\b\b\b\b\b\b\b\b\b\b\b\b\b\b\b\b\b\b\b\b\b\b\b\b\b\b\b\b\b\b\b\b\b\b\b\b\b\b\b\b\b\b\b\b\b\b\b\b\b\b\b\b\b\b\b\b\b\b\r",
      "412416/412416 [==============================] - 12s 29us/sample - loss: 195.8386 - reconstruction_loss: 92.5008 - KL_loss: 21.1055 - val_loss: 107.8359 - val_reconstruction_loss: 86.9716 - val_KL_loss: 20.8643 - lr: 0.0018\n",
      "Epoch 383/1000\n"
     ]
    },
    {
     "name": "stdout",
     "output_type": "stream",
     "text": [
      "\r",
      "412416/412416 [==============================] - ETA: 0s - loss: 196.3248 - reconstruction_loss: 92.5174 - KL_loss: 21.2589"
     ]
    },
    {
     "name": "stdout",
     "output_type": "stream",
     "text": [
      "\b\b\b\b\b\b\b\b\b\b\b\b\b\b\b\b\b\b\b\b\b\b\b\b\b\b\b\b\b\b\b\b\b\b\b\b\b\b\b\b\b\b\b\b\b\b\b\b\b\b\b\b\b\b\b\b\b\b\b\b\b\b\b\b\b\b\b\b\b\b\b\b\b\b\b\b\b\b\b\b\b\b\b\b\b\b\b\b\b\b\b\b\b\b\b\b\b\b\b\b\b\b\b\b\b\b\b\b\b\b\b\b\b\b\b\b\b\b\b\b\b\b\b\r",
      "412416/412416 [==============================] - 12s 29us/sample - loss: 196.3248 - reconstruction_loss: 92.5174 - KL_loss: 21.2589 - val_loss: 107.5488 - val_reconstruction_loss: 86.7392 - val_KL_loss: 20.8095 - lr: 0.0018\n",
      "Epoch 384/1000\n"
     ]
    },
    {
     "name": "stdout",
     "output_type": "stream",
     "text": [
      "\r",
      "412416/412416 [==============================] - ETA: 0s - loss: 195.2226 - reconstruction_loss: 92.2798 - KL_loss: 21.2024"
     ]
    },
    {
     "name": "stdout",
     "output_type": "stream",
     "text": [
      "\b\b\b\b\b\b\b\b\b\b\b\b\b\b\b\b\b\b\b\b\b\b\b\b\b\b\b\b\b\b\b\b\b\b\b\b\b\b\b\b\b\b\b\b\b\b\b\b\b\b\b\b\b\b\b\b\b\b\b\b\b\b\b\b\b\b\b\b\b\b\b\b\b\b\b\b\b\b\b\b\b\b\b\b\b\b\b\b\b\b\b\b\b\b\b\b\b\b\b\b\b\b\b\b\b\b\b\b\b\b\b\b\b\b\b\b\b\b\b\b\b\b\b\r",
      "412416/412416 [==============================] - 13s 32us/sample - loss: 195.2226 - reconstruction_loss: 92.2798 - KL_loss: 21.2024 - val_loss: 108.3853 - val_reconstruction_loss: 87.5886 - val_KL_loss: 20.7967 - lr: 0.0018\n",
      "Epoch 385/1000\n"
     ]
    },
    {
     "name": "stdout",
     "output_type": "stream",
     "text": [
      "\r",
      "412416/412416 [==============================] - ETA: 0s - loss: 196.7275 - reconstruction_loss: 93.0887 - KL_loss: 21.2029"
     ]
    },
    {
     "name": "stdout",
     "output_type": "stream",
     "text": [
      "\b\b\b\b\b\b\b\b\b\b\b\b\b\b\b\b\b\b\b\b\b\b\b\b\b\b\b\b\b\b\b\b\b\b\b\b\b\b\b\b\b\b\b\b\b\b\b\b\b\b\b\b\b\b\b\b\b\b\b\b\b\b\b\b\b\b\b\b\b\b\b\b\b\b\b\b\b\b\b\b\b\b\b\b\b\b\b\b\b\b\b\b\b\b\b\b\b\b\b\b\b\b\b\b\b\b\b\b\b\b\b\b\b\b\b\b\b\b\b\b\b\b\b\r",
      "412416/412416 [==============================] - 12s 29us/sample - loss: 196.7275 - reconstruction_loss: 93.0887 - KL_loss: 21.2029 - val_loss: 107.8667 - val_reconstruction_loss: 87.1173 - val_KL_loss: 20.7495 - lr: 0.0018\n",
      "Epoch 386/1000\n"
     ]
    },
    {
     "name": "stdout",
     "output_type": "stream",
     "text": [
      "\r",
      "412416/412416 [==============================] - ETA: 0s - loss: 196.0606 - reconstruction_loss: 92.6429 - KL_loss: 21.1516"
     ]
    },
    {
     "name": "stdout",
     "output_type": "stream",
     "text": [
      "\b\b\b\b\b\b\b\b\b\b\b\b\b\b\b\b\b\b\b\b\b\b\b\b\b\b\b\b\b\b\b\b\b\b\b\b\b\b\b\b\b\b\b\b\b\b\b\b\b\b\b\b\b\b\b\b\b\b\b\b\b\b\b\b\b\b\b\b\b\b\b\b\b\b\b\b\b\b\b\b\b\b\b\b\b\b\b\b\b\b\b\b\b\b\b\b\b\b\b\b\b\b\b\b\b\b\b\b\b\b\b\b\b\b\b\b\b\b\b\b\b\b\b\r",
      "412416/412416 [==============================] - 12s 29us/sample - loss: 196.0606 - reconstruction_loss: 92.6429 - KL_loss: 21.1516 - val_loss: 108.0895 - val_reconstruction_loss: 87.3906 - val_KL_loss: 20.6989 - lr: 0.0018\n",
      "Epoch 387/1000\n"
     ]
    },
    {
     "name": "stdout",
     "output_type": "stream",
     "text": [
      "\r",
      "412416/412416 [==============================] - ETA: 0s - loss: 196.3418 - reconstruction_loss: 92.9550 - KL_loss: 21.0902"
     ]
    },
    {
     "name": "stdout",
     "output_type": "stream",
     "text": [
      "\b\b\b\b\b\b\b\b\b\b\b\b\b\b\b\b\b\b\b\b\b\b\b\b\b\b\b\b\b\b\b\b\b\b\b\b\b\b\b\b\b\b\b\b\b\b\b\b\b\b\b\b\b\b\b\b\b\b\b\b\b\b\b\b\b\b\b\b\b\b\b\b\b\b\b\b\b\b\b\b\b\b\b\b\b\b\b\b\b\b\b\b\b\b\b\b\b\b\b\b\b\b\b\b\b\b\b\b\b\b\b\b\b\b\b\b\b\b\b\b\b\b\b\r",
      "412416/412416 [==============================] - 12s 28us/sample - loss: 196.3418 - reconstruction_loss: 92.9550 - KL_loss: 21.0902 - val_loss: 108.0169 - val_reconstruction_loss: 87.2504 - val_KL_loss: 20.7665 - lr: 0.0018\n",
      "Epoch 388/1000\n"
     ]
    },
    {
     "name": "stdout",
     "output_type": "stream",
     "text": [
      "\r",
      "412416/412416 [==============================] - ETA: 0s - loss: 196.4416 - reconstruction_loss: 92.7772 - KL_loss: 21.1602"
     ]
    },
    {
     "name": "stdout",
     "output_type": "stream",
     "text": [
      "\b\b\b\b\b\b\b\b\b\b\b\b\b\b\b\b\b\b\b\b\b\b\b\b\b\b\b\b\b\b\b\b\b\b\b\b\b\b\b\b\b\b\b\b\b\b\b\b\b\b\b\b\b\b\b\b\b\b\b\b\b\b\b\b\b\b\b\b\b\b\b\b\b\b\b\b\b\b\b\b\b\b\b\b\b\b\b\b\b\b\b\b\b\b\b\b\b\b\b\b\b\b\b\b\b\b\b\b\b\b\b\b\b\b\b\b\b\b\b\b\b\b\b\r",
      "412416/412416 [==============================] - 12s 28us/sample - loss: 196.4416 - reconstruction_loss: 92.7772 - KL_loss: 21.1602 - val_loss: 107.8896 - val_reconstruction_loss: 87.0748 - val_KL_loss: 20.8147 - lr: 0.0018\n",
      "Epoch 389/1000\n"
     ]
    },
    {
     "name": "stdout",
     "output_type": "stream",
     "text": [
      "\r",
      "412416/412416 [==============================] - ETA: 0s - loss: 196.1144 - reconstruction_loss: 92.6363 - KL_loss: 21.2129"
     ]
    },
    {
     "name": "stdout",
     "output_type": "stream",
     "text": [
      "\b\b\b\b\b\b\b\b\b\b\b\b\b\b\b\b\b\b\b\b\b\b\b\b\b\b\b\b\b\b\b\b\b\b\b\b\b\b\b\b\b\b\b\b\b\b\b\b\b\b\b\b\b\b\b\b\b\b\b\b\b\b\b\b\b\b\b\b\b\b\b\b\b\b\b\b\b\b\b\b\b\b\b\b\b\b\b\b\b\b\b\b\b\b\b\b\b\b\b\b\b\b\b\b\b\b\b\b\b\b\b\b\b\b\b\b\b\b\b\b\b\b\b\r",
      "412416/412416 [==============================] - 12s 28us/sample - loss: 196.1144 - reconstruction_loss: 92.6363 - KL_loss: 21.2129 - val_loss: 107.7032 - val_reconstruction_loss: 86.8838 - val_KL_loss: 20.8194 - lr: 0.0016\n",
      "Epoch 390/1000\n"
     ]
    },
    {
     "name": "stdout",
     "output_type": "stream",
     "text": [
      "\r",
      "412416/412416 [==============================] - ETA: 0s - loss: 195.4476 - reconstruction_loss: 92.4183 - KL_loss: 21.2172"
     ]
    },
    {
     "name": "stdout",
     "output_type": "stream",
     "text": [
      "\b\b\b\b\b\b\b\b\b\b\b\b\b\b\b\b\b\b\b\b\b\b\b\b\b\b\b\b\b\b\b\b\b\b\b\b\b\b\b\b\b\b\b\b\b\b\b\b\b\b\b\b\b\b\b\b\b\b\b\b\b\b\b\b\b\b\b\b\b\b\b\b\b\b\b\b\b\b\b\b\b\b\b\b\b\b\b\b\b\b\b\b\b\b\b\b\b\b\b\b\b\b\b\b\b\b\b\b\b\b\b\b\b\b\b\b\b\b\b\b\b\b\b\r",
      "412416/412416 [==============================] - 12s 28us/sample - loss: 195.4476 - reconstruction_loss: 92.4183 - KL_loss: 21.2172 - val_loss: 107.9708 - val_reconstruction_loss: 87.0835 - val_KL_loss: 20.8873 - lr: 0.0016\n",
      "Epoch 391/1000\n"
     ]
    },
    {
     "name": "stdout",
     "output_type": "stream",
     "text": [
      "\r",
      "412416/412416 [==============================] - ETA: 0s - loss: 195.8882 - reconstruction_loss: 92.6407 - KL_loss: 21.2857"
     ]
    },
    {
     "name": "stdout",
     "output_type": "stream",
     "text": [
      "\b\b\b\b\b\b\b\b\b\b\b\b\b\b\b\b\b\b\b\b\b\b\b\b\b\b\b\b\b\b\b\b\b\b\b\b\b\b\b\b\b\b\b\b\b\b\b\b\b\b\b\b\b\b\b\b\b\b\b\b\b\b\b\b\b\b\b\b\b\b\b\b\b\b\b\b\b\b\b\b\b\b\b\b\b\b\b\b\b\b\b\b\b\b\b\b\b\b\b\b\b\b\b\b\b\b\b\b\b\b\b\b\b\b\b\b\b\b\b\b\b\b\b\r",
      "412416/412416 [==============================] - 14s 35us/sample - loss: 195.8882 - reconstruction_loss: 92.6407 - KL_loss: 21.2857 - val_loss: 107.8016 - val_reconstruction_loss: 86.8398 - val_KL_loss: 20.9617 - lr: 0.0016\n",
      "Epoch 392/1000\n"
     ]
    },
    {
     "name": "stdout",
     "output_type": "stream",
     "text": [
      "\r",
      "412416/412416 [==============================] - ETA: 0s - loss: 195.4558 - reconstruction_loss: 92.3687 - KL_loss: 21.3591"
     ]
    },
    {
     "name": "stdout",
     "output_type": "stream",
     "text": [
      "\b\b\b\b\b\b\b\b\b\b\b\b\b\b\b\b\b\b\b\b\b\b\b\b\b\b\b\b\b\b\b\b\b\b\b\b\b\b\b\b\b\b\b\b\b\b\b\b\b\b\b\b\b\b\b\b\b\b\b\b\b\b\b\b\b\b\b\b\b\b\b\b\b\b\b\b\b\b\b\b\b\b\b\b\b\b\b\b\b\b\b\b\b\b\b\b\b\b\b\b\b\b\b\b\b\b\b\b\b\b\b\b\b\b\b\b\b\b\b\b\b\b\b\r",
      "412416/412416 [==============================] - 17s 42us/sample - loss: 195.4558 - reconstruction_loss: 92.3687 - KL_loss: 21.3591 - val_loss: 108.0369 - val_reconstruction_loss: 87.2063 - val_KL_loss: 20.8306 - lr: 0.0016\n",
      "Epoch 393/1000\n"
     ]
    },
    {
     "name": "stdout",
     "output_type": "stream",
     "text": [
      "\r",
      "412416/412416 [==============================] - ETA: 0s - loss: 195.5501 - reconstruction_loss: 92.7168 - KL_loss: 21.2260"
     ]
    },
    {
     "name": "stdout",
     "output_type": "stream",
     "text": [
      "\b\b\b\b\b\b\b\b\b\b\b\b\b\b\b\b\b\b\b\b\b\b\b\b\b\b\b\b\b\b\b\b\b\b\b\b\b\b\b\b\b\b\b\b\b\b\b\b\b\b\b\b\b\b\b\b\b\b\b\b\b\b\b\b\b\b\b\b\b\b\b\b\b\b\b\b\b\b\b\b\b\b\b\b\b\b\b\b\b\b\b\b\b\b\b\b\b\b\b\b\b\b\b\b\b\b\b\b\b\b\b\b\b\b\b\b\b\b\b\b\b\b\b\r",
      "412416/412416 [==============================] - 11s 27us/sample - loss: 195.5501 - reconstruction_loss: 92.7168 - KL_loss: 21.2260 - val_loss: 107.9471 - val_reconstruction_loss: 87.2752 - val_KL_loss: 20.6719 - lr: 0.0016\n",
      "Epoch 394/1000\n"
     ]
    },
    {
     "name": "stdout",
     "output_type": "stream",
     "text": [
      "\r",
      "412416/412416 [==============================] - ETA: 0s - loss: 195.5252 - reconstruction_loss: 92.7961 - KL_loss: 21.0680"
     ]
    },
    {
     "name": "stdout",
     "output_type": "stream",
     "text": [
      "\b\b\b\b\b\b\b\b\b\b\b\b\b\b\b\b\b\b\b\b\b\b\b\b\b\b\b\b\b\b\b\b\b\b\b\b\b\b\b\b\b\b\b\b\b\b\b\b\b\b\b\b\b\b\b\b\b\b\b\b\b\b\b\b\b\b\b\b\b\b\b\b\b\b\b\b\b\b\b\b\b\b\b\b\b\b\b\b\b\b\b\b\b\b\b\b\b\b\b\b\b\b\b\b\b\b\b\b\b\b\b\b\b\b\b\b\b\b\b\b\b\b\b\r",
      "412416/412416 [==============================] - 11s 27us/sample - loss: 195.5252 - reconstruction_loss: 92.7961 - KL_loss: 21.0680 - val_loss: 107.8842 - val_reconstruction_loss: 87.1824 - val_KL_loss: 20.7018 - lr: 0.0016\n",
      "\n",
      "training finished in 394 epochs (early stop), transform data to adjust the platform effect...\n",
      "\n"
     ]
    },
    {
     "name": "stdout",
     "output_type": "stream",
     "text": [
      "WARNING: when transforming data, after reversed Min-Max Scaling, apply exp transformation then multiple the factor and round to integer\n"
     ]
    },
    {
     "name": "stdout",
     "output_type": "stream",
     "text": [
      "\n",
      "re-run DE on CVAE transformed scRNA-seq data!\n"
     ]
    },
    {
     "name": "stdout",
     "output_type": "stream",
     "text": [
      "filtering genes present in <10 cells: 5 genes removed\n",
      "\n",
      "Differential analysis across cell-types on scRNA-seq data...\n",
      "0%..."
     ]
    },
    {
     "name": "stdout",
     "output_type": "stream",
     "text": [
      "8%..."
     ]
    },
    {
     "name": "stdout",
     "output_type": "stream",
     "text": [
      "WARNING: only 16 genes passing filtering (<20) for Endo vs Smc\n"
     ]
    },
    {
     "name": "stdout",
     "output_type": "stream",
     "text": [
      "17%..."
     ]
    },
    {
     "name": "stdout",
     "output_type": "stream",
     "text": [
      "25%..."
     ]
    },
    {
     "name": "stdout",
     "output_type": "stream",
     "text": [
      "33%..."
     ]
    },
    {
     "name": "stdout",
     "output_type": "stream",
     "text": [
      "WARNING: only 18 genes passing filtering (<20) for PVALB vs SST\n"
     ]
    },
    {
     "name": "stdout",
     "output_type": "stream",
     "text": [
      "42%..."
     ]
    },
    {
     "name": "stdout",
     "output_type": "stream",
     "text": [
      "WARNING: only 17 genes passing filtering (<20) for SST vs PVALB\n"
     ]
    },
    {
     "name": "stdout",
     "output_type": "stream",
     "text": [
      "WARNING: only 10 genes passing filtering (<20) for SST vs VIP\n"
     ]
    },
    {
     "name": "stdout",
     "output_type": "stream",
     "text": [
      "50%..."
     ]
    },
    {
     "name": "stdout",
     "output_type": "stream",
     "text": [
      "58%..."
     ]
    },
    {
     "name": "stdout",
     "output_type": "stream",
     "text": [
      "67%..."
     ]
    },
    {
     "name": "stdout",
     "output_type": "stream",
     "text": [
      "WARNING: only 15 genes passing filtering (<20) for eL2/3 vs eL5\n"
     ]
    },
    {
     "name": "stdout",
     "output_type": "stream",
     "text": [
      "75%..."
     ]
    },
    {
     "name": "stdout",
     "output_type": "stream",
     "text": [
      "WARNING: only 17 genes passing filtering (<20) for eL4 vs eL2/3\n"
     ]
    },
    {
     "name": "stdout",
     "output_type": "stream",
     "text": [
      "WARNING: only 7 genes passing filtering (<20) for eL4 vs eL5\n"
     ]
    },
    {
     "name": "stdout",
     "output_type": "stream",
     "text": [
      "83%..."
     ]
    },
    {
     "name": "stdout",
     "output_type": "stream",
     "text": [
      "92%..."
     ]
    },
    {
     "name": "stdout",
     "output_type": "stream",
     "text": [
      "WARNING: only 7 genes passing filtering (<20) for eL6 vs eL5\n",
      "finally selected 580 cell-type marker genes\n",
      "\n"
     ]
    },
    {
     "name": "stdout",
     "output_type": "stream",
     "text": [
      "\n",
      "save variables related to CVAE to files!\n"
     ]
    },
    {
     "name": "stdout",
     "output_type": "stream",
     "text": [
      "\n",
      "platform effect adjustment by CVAE finished. Elapsed time: 127.69 minutes.\n",
      "\n",
      "\n",
      "use the marker genes derived from CVAE transformed scRNA-seq for downstream regression!\n",
      "\n",
      "gene filtering before modeling...\n",
      "13 genes with nUMIs<5 in all spatial spots and need to be excluded\n",
      "finally use 567 genes for modeling\n",
      "\n",
      "spot filtering before modeling...\n",
      "all spots passed filtering\n",
      "\n",
      "\n",
      "######### Start GLRM modeling... #########\n",
      "\n",
      "GLRM settings:\n",
      "use SciPy minimize method:  L-BFGS-B\n",
      "global optimization turned off, local minimum will be used in GLRM\n",
      "use hybrid version of GLRM\n",
      "Numba detected total 64 available CPU cores. Use 64 CPU cores\n",
      "use 2001 points to calculate the heavy-tail density\n",
      "use weight threshold for Adaptive Lasso:  0.001\n",
      "total 303 unique nUMIs, min: 0.0, max: 1162.0\n",
      "\n",
      "Build graph: \n",
      " Graph with 581 nodes and 1029 edges\n",
      "\n",
      "estimation of gene-specific platform effect gamma_g is skipped as already using CVAE to adjust platform effect\n",
      "\n",
      "\n",
      "Start GLRM fitting...\n",
      "\n",
      "first estimate MLE theta and corresponding e^alpha and sigma^2...\n",
      "\n",
      "GLRM model initialization...\n",
      "calculate MLE theta and sigma^2 iteratively...\n",
      "  iter | time_opt | time_sig | sigma2\n"
     ]
    },
    {
     "name": "stdout",
     "output_type": "stream",
     "text": [
      "     0 |   20.468 |    4.782 |  0.279\n"
     ]
    },
    {
     "name": "stdout",
     "output_type": "stream",
     "text": [
      "     1 |   14.881 |    3.444 |  0.138\n"
     ]
    },
    {
     "name": "stdout",
     "output_type": "stream",
     "text": [
      "     2 |   12.524 |    2.956 |  0.112\n"
     ]
    },
    {
     "name": "stdout",
     "output_type": "stream",
     "text": [
      "     3 |   10.316 |    2.668 |  0.106\n"
     ]
    },
    {
     "name": "stdout",
     "output_type": "stream",
     "text": [
      "     4 |    7.986 |    2.209 |  0.105\n"
     ]
    },
    {
     "name": "stdout",
     "output_type": "stream",
     "text": [
      "     5 |    5.033 |    2.106 |  0.105\n",
      "MLE theta and sigma^2 calculation finished. Elapsed time: 1.49 minutes.\n",
      "MLE theta estimation finished. Elapsed time: 1.49 minutes.\n",
      "\n",
      "calculate weights of Adaptive Lasso...\n",
      "\n",
      "Stage 1: variable selection using Adaptive Lasso starts with the MLE theta and e^alpha, using already estimated sigma^2 and gamma_g...\n",
      "specified hyper-parameter for Adaptive Lasso is: [0.1, 0.268, 0.72, 1.931, 5.179, 13.895, 37.276, 100.0]\n",
      "hyper-parameter for Adaptive Lasso: use cross-validation to find the optimal value from 8 candidates...\n",
      "\n",
      "Start cross-validation for hyper-parameter lambda_r...\n",
      "directly estimate theta by Adaptive Lasso loss function as NO Graph Laplacian constrain!\n",
      "0%..."
     ]
    },
    {
     "name": "stdout",
     "output_type": "stream",
     "text": [
      "11%..."
     ]
    },
    {
     "name": "stdout",
     "output_type": "stream",
     "text": [
      "22%..."
     ]
    },
    {
     "name": "stdout",
     "output_type": "stream",
     "text": [
      "33%..."
     ]
    },
    {
     "name": "stdout",
     "output_type": "stream",
     "text": [
      "44%..."
     ]
    },
    {
     "name": "stdout",
     "output_type": "stream",
     "text": [
      "56%..."
     ]
    },
    {
     "name": "stdout",
     "output_type": "stream",
     "text": [
      "67%..."
     ]
    },
    {
     "name": "stdout",
     "output_type": "stream",
     "text": [
      "78%..."
     ]
    },
    {
     "name": "stdout",
     "output_type": "stream",
     "text": [
      "early stop\n",
      "find optimal lambda_r 1.931 with average negative log-likelihood 55367.9096 by 5 fold cross-validation. Elapsed time: 8.92 minutes.\n",
      "\n",
      "\n",
      "start ADMM iteration...\n",
      "  iter |  res_pri_n | res_dual_n |    eps_pri |   eps_dual |        rho |    new_rho | time_opt | time_reg | time_lap | tilde_RMSE |   hat_RMSE\n"
     ]
    },
    {
     "name": "stdout",
     "output_type": "stream",
     "text": [
      "     0 |     12.420 |     12.421 |      0.131 |      0.131 |       1.00 |       1.00 |    2.755 |    0.000 |    0.004 |   0.205192 |   0.102596\n"
     ]
    },
    {
     "name": "stdout",
     "output_type": "stream",
     "text": [
      "     1 |     12.407 |      0.052 |      0.130 |      0.143 |       1.00 |       2.00 |    6.808 |    0.000 |    0.003 |   0.204966 |   0.102483\n"
     ]
    },
    {
     "name": "stdout",
     "output_type": "stream",
     "text": [
      "     2 |     12.339 |      0.295 |      0.130 |      0.168 |       2.00 |       4.00 |    7.588 |    0.000 |    0.003 |   0.204034 |   0.102017\n"
     ]
    },
    {
     "name": "stdout",
     "output_type": "stream",
     "text": [
      "     3 |     10.183 |     14.816 |      0.133 |      0.207 |       4.00 |       8.00 |    9.229 |    0.000 |    0.003 |   0.170698 |   0.085349\n"
     ]
    },
    {
     "name": "stdout",
     "output_type": "stream",
     "text": [
      "     4 |      7.744 |     31.965 |      0.150 |      0.265 |       8.00 |       8.00 |    9.819 |    0.000 |    0.003 |   0.121696 |   0.060848\n"
     ]
    },
    {
     "name": "stdout",
     "output_type": "stream",
     "text": [
      "     5 |      5.939 |     33.030 |      0.151 |      0.301 |       8.00 |       8.00 |    8.819 |    0.000 |    0.003 |   0.091476 |   0.045738\n"
     ]
    },
    {
     "name": "stdout",
     "output_type": "stream",
     "text": [
      "     6 |      5.227 |     24.233 |      0.142 |      0.324 |       8.00 |      16.00 |    9.208 |    0.000 |    0.003 |   0.083213 |   0.041607\n"
     ]
    },
    {
     "name": "stdout",
     "output_type": "stream",
     "text": [
      "     7 |      4.231 |     28.193 |      0.146 |      0.367 |      16.00 |      16.00 |    9.762 |    0.000 |    0.003 |   0.065321 |   0.032660\n"
     ]
    },
    {
     "name": "stdout",
     "output_type": "stream",
     "text": [
      "     8 |      3.290 |     31.621 |      0.150 |      0.402 |      16.00 |      16.00 |    8.809 |    0.000 |    0.003 |   0.047162 |   0.023581\n"
     ]
    },
    {
     "name": "stdout",
     "output_type": "stream",
     "text": [
      "     9 |      2.815 |     25.486 |      0.144 |      0.428 |      16.00 |      32.00 |    8.236 |    0.000 |    0.003 |   0.041171 |   0.020586\n"
     ]
    },
    {
     "name": "stdout",
     "output_type": "stream",
     "text": [
      "    10 |      2.325 |     28.748 |      0.147 |      0.475 |      32.00 |      32.00 |    9.125 |    0.000 |    0.003 |   0.033900 |   0.016950\n"
     ]
    },
    {
     "name": "stdout",
     "output_type": "stream",
     "text": [
      "    11 |      1.867 |     32.067 |      0.150 |      0.514 |      32.00 |      32.00 |    8.105 |    0.000 |    0.003 |   0.026451 |   0.013225\n"
     ]
    },
    {
     "name": "stdout",
     "output_type": "stream",
     "text": [
      "    12 |      1.655 |     25.921 |      0.144 |      0.544 |      32.00 |      64.00 |    8.032 |    0.000 |    0.003 |   0.023113 |   0.011556\n"
     ]
    },
    {
     "name": "stdout",
     "output_type": "stream",
     "text": [
      "    13 |      1.442 |     29.112 |      0.147 |      0.603 |      64.00 |      64.00 |    8.653 |    0.000 |    0.003 |   0.020204 |   0.010102\n"
     ]
    },
    {
     "name": "stdout",
     "output_type": "stream",
     "text": [
      "    14 |      1.242 |     32.975 |      0.151 |      0.657 |      64.00 |      64.00 |    8.712 |    0.000 |    0.003 |   0.017082 |   0.008541\n"
     ]
    },
    {
     "name": "stdout",
     "output_type": "stream",
     "text": [
      "    15 |      1.100 |     29.570 |      0.148 |      0.704 |      64.00 |     128.00 |    7.894 |    0.000 |    0.003 |   0.015044 |   0.007522\n"
     ]
    },
    {
     "name": "stdout",
     "output_type": "stream",
     "text": [
      "    16 |      0.952 |     38.832 |      0.157 |      0.790 |     128.00 |     128.00 |    8.209 |    0.000 |    0.003 |   0.012968 |   0.006484\n"
     ]
    },
    {
     "name": "stdout",
     "output_type": "stream",
     "text": [
      "    17 |      0.802 |     45.301 |      0.163 |      0.862 |     128.00 |     128.00 |    7.684 |    0.000 |    0.003 |   0.010905 |   0.005453\n"
     ]
    },
    {
     "name": "stdout",
     "output_type": "stream",
     "text": [
      "    18 |      0.710 |     40.765 |      0.159 |      0.919 |     128.00 |     256.00 |    7.576 |    0.000 |    0.003 |   0.009695 |   0.004847\n"
     ]
    },
    {
     "name": "stdout",
     "output_type": "stream",
     "text": [
      "    19 |      0.613 |     50.883 |      0.169 |      1.024 |     256.00 |     256.00 |    7.822 |    0.000 |    0.003 |   0.008349 |   0.004174\n"
     ]
    },
    {
     "name": "stdout",
     "output_type": "stream",
     "text": [
      "    20 |      0.515 |     58.407 |      0.176 |      1.113 |     256.00 |     256.00 |    7.487 |    0.000 |    0.003 |   0.006910 |   0.003455\n"
     ]
    },
    {
     "name": "stdout",
     "output_type": "stream",
     "text": [
      "    21 |      0.449 |     52.957 |      0.171 |      1.183 |     256.00 |     512.00 |    7.331 |    0.000 |    0.003 |   0.006016 |   0.003008\n"
     ]
    },
    {
     "name": "stdout",
     "output_type": "stream",
     "text": [
      "    22 |      0.386 |     63.951 |      0.182 |      1.311 |     512.00 |     512.00 |    7.507 |    0.000 |    0.003 |   0.005154 |   0.002577\n"
     ]
    },
    {
     "name": "stdout",
     "output_type": "stream",
     "text": [
      "    23 |      0.325 |     73.255 |      0.191 |      1.418 |     512.00 |     512.00 |    7.119 |    0.000 |    0.003 |   0.004285 |   0.002142\n"
     ]
    },
    {
     "name": "stdout",
     "output_type": "stream",
     "text": [
      "    24 |      0.290 |     63.774 |      0.182 |      1.507 |     512.00 |    1024.00 |    6.889 |    0.000 |    0.003 |   0.003798 |   0.001899\n"
     ]
    },
    {
     "name": "stdout",
     "output_type": "stream",
     "text": [
      "    25 |      0.254 |     76.720 |      0.195 |      1.676 |    1024.00 |    1024.00 |    7.193 |    0.000 |    0.003 |   0.003311 |   0.001655\n"
     ]
    },
    {
     "name": "stdout",
     "output_type": "stream",
     "text": [
      "    26 |      0.223 |     86.180 |      0.204 |      1.831 |    1024.00 |    1024.00 |    6.783 |    0.000 |    0.003 |   0.002865 |   0.001433\n"
     ]
    },
    {
     "name": "stdout",
     "output_type": "stream",
     "text": [
      "    27 |      0.199 |     79.800 |      0.198 |      1.966 |    1024.00 |    2048.00 |    6.606 |    0.000 |    0.003 |   0.002558 |   0.001279\n"
     ]
    },
    {
     "name": "stdout",
     "output_type": "stream",
     "text": [
      "    28 |      0.173 |    104.987 |      0.223 |      2.213 |    2048.00 |    2048.00 |    6.698 |    0.000 |    0.003 |   0.002205 |   0.001102\n"
     ]
    },
    {
     "name": "stdout",
     "output_type": "stream",
     "text": [
      "    29 |      0.147 |    120.513 |      0.239 |      2.424 |    2048.00 |    2048.00 |    6.456 |    0.000 |    0.003 |   0.001859 |   0.000929\n"
     ]
    },
    {
     "name": "stdout",
     "output_type": "stream",
     "text": [
      "    30 |      0.131 |    110.069 |      0.228 |      2.598 |    2048.00 |    4096.00 |    6.511 |    0.000 |    0.003 |   0.001656 |   0.000828\n"
     ]
    },
    {
     "name": "stdout",
     "output_type": "stream",
     "text": [
      "    31 |      0.113 |    135.121 |      0.253 |      2.916 |    4096.00 |    4096.00 |    6.423 |    0.000 |    0.003 |   0.001437 |   0.000718\n"
     ]
    },
    {
     "name": "stdout",
     "output_type": "stream",
     "text": [
      "    32 |      0.098 |    150.467 |      0.269 |      3.192 |    4096.00 |    4096.00 |    6.132 |    0.000 |    0.003 |   0.001225 |   0.000613\n"
     ]
    },
    {
     "name": "stdout",
     "output_type": "stream",
     "text": [
      "    33 |      0.087 |    138.799 |      0.257 |      3.425 |    4096.00 |    8192.00 |    5.959 |    0.000 |    0.003 |   0.001083 |   0.000541\n"
     ]
    },
    {
     "name": "stdout",
     "output_type": "stream",
     "text": [
      "    34 |      0.077 |    168.379 |      0.286 |      3.865 |    8192.00 |    8192.00 |    6.011 |    0.000 |    0.003 |   0.000946 |   0.000473\n"
     ]
    },
    {
     "name": "stdout",
     "output_type": "stream",
     "text": [
      "    35 |      0.067 |    180.231 |      0.298 |      4.262 |    8192.00 |    8192.00 |    5.848 |    0.000 |    0.003 |   0.000822 |   0.000411\n"
     ]
    },
    {
     "name": "stdout",
     "output_type": "stream",
     "text": [
      "    36 |      0.059 |    175.775 |      0.294 |      4.602 |    8192.00 |   16384.00 |    5.971 |    0.000 |    0.003 |   0.000720 |   0.000360\n"
     ]
    },
    {
     "name": "stdout",
     "output_type": "stream",
     "text": [
      "    37 |      0.051 |    235.223 |      0.353 |      5.214 |   16384.00 |   16384.00 |    5.851 |    0.000 |    0.003 |   0.000615 |   0.000308\n"
     ]
    },
    {
     "name": "stdout",
     "output_type": "stream",
     "text": [
      "    38 |      0.045 |    252.717 |      0.371 |      5.753 |   16384.00 |   16384.00 |    5.559 |    0.000 |    0.003 |   0.000529 |   0.000264\n"
     ]
    },
    {
     "name": "stdout",
     "output_type": "stream",
     "text": [
      "    39 |      0.040 |    240.363 |      0.358 |      6.212 |   16384.00 |   32768.00 |    5.487 |    0.000 |    0.003 |   0.000465 |   0.000233\n"
     ]
    },
    {
     "name": "stdout",
     "output_type": "stream",
     "text": [
      "    40 |      0.034 |    330.822 |      0.449 |      7.016 |   32768.00 |   32768.00 |    5.484 |    0.000 |    0.003 |   0.000386 |   0.000193\n"
     ]
    },
    {
     "name": "stdout",
     "output_type": "stream",
     "text": [
      "    41 |      0.028 |    364.773 |      0.483 |      7.684 |   32768.00 |   32768.00 |    5.388 |    0.000 |    0.003 |   0.000318 |   0.000159\n"
     ]
    },
    {
     "name": "stdout",
     "output_type": "stream",
     "text": [
      "    42 |      0.025 |    324.707 |      0.443 |      8.234 |   32768.00 |   65536.00 |    5.027 |    0.000 |    0.003 |   0.000277 |   0.000139\n"
     ]
    },
    {
     "name": "stdout",
     "output_type": "stream",
     "text": [
      "    43 |      0.021 |    424.352 |      0.542 |      9.197 |   65536.00 |   65536.00 |    5.119 |    0.000 |    0.003 |   0.000227 |   0.000114\n"
     ]
    },
    {
     "name": "stdout",
     "output_type": "stream",
     "text": [
      "    44 |      0.017 |    465.055 |      0.583 |      9.997 |   65536.00 |   65536.00 |    4.737 |    0.000 |    0.003 |   0.000182 |   0.000091\n"
     ]
    },
    {
     "name": "stdout",
     "output_type": "stream",
     "text": [
      "    45 |      0.015 |    426.275 |      0.544 |     10.632 |   65536.00 |  131072.00 |    4.598 |    0.000 |    0.003 |   0.000152 |   0.000076\n"
     ]
    },
    {
     "name": "stdout",
     "output_type": "stream",
     "text": [
      "    46 |      0.012 |    528.267 |      0.646 |     11.696 |  131072.00 |  131072.00 |    4.422 |    0.000 |    0.003 |   0.000121 |   0.000061\n"
     ]
    },
    {
     "name": "stdout",
     "output_type": "stream",
     "text": [
      "    47 |      0.010 |    577.512 |      0.696 |     12.524 |  131072.00 |  131072.00 |    4.443 |    0.000 |    0.003 |   0.000093 |   0.000047\n"
     ]
    },
    {
     "name": "stdout",
     "output_type": "stream",
     "text": [
      "    48 |      0.008 |    514.061 |      0.632 |     13.174 |  131072.00 |  262144.00 |    4.158 |    0.000 |    0.003 |   0.000077 |   0.000038\n"
     ]
    },
    {
     "name": "stdout",
     "output_type": "stream",
     "text": [
      "    49 |      0.007 |    620.407 |      0.738 |     14.296 |  262144.00 |          / |    3.969 |    0.000 |    0.003 |   0.000061 |   0.000031\n",
      "early stop!\n",
      "Terminated (optimal) in 50 iterations.\n",
      "One optimization by ADMM finished. Elapsed time: 5.68 minutes.\n",
      "\n",
      "Stage 1 variable selection finished. Elapsed time: 14.60 minutes.\n",
      "\n",
      "Stage 2: final theta estimation with Graph Laplacian Constrain using already estimated sigma^2 and gamma_g\n",
      "specified hyper-parameter for Graph Laplacian Constrain is: [0.1, 0.268, 0.72, 1.931, 5.179, 13.895, 37.276, 100.0]\n",
      "hyper-parameter for Graph Laplacian Constrain: use cross-validation to find the optimal value from 8 candidates...\n",
      "\n",
      "Start cross-validation for hyper-parameter lambda_g...\n",
      "still use ADMM even NO Graph Laplacian constrain (lambda_g=0)\n",
      "0%..."
     ]
    },
    {
     "name": "stdout",
     "output_type": "stream",
     "text": [
      "11%..."
     ]
    },
    {
     "name": "stdout",
     "output_type": "stream",
     "text": [
      "22%..."
     ]
    },
    {
     "name": "stdout",
     "output_type": "stream",
     "text": [
      "33%..."
     ]
    },
    {
     "name": "stdout",
     "output_type": "stream",
     "text": [
      "44%..."
     ]
    },
    {
     "name": "stdout",
     "output_type": "stream",
     "text": [
      "56%..."
     ]
    },
    {
     "name": "stdout",
     "output_type": "stream",
     "text": [
      "67%..."
     ]
    },
    {
     "name": "stdout",
     "output_type": "stream",
     "text": [
      "78%..."
     ]
    },
    {
     "name": "stdout",
     "output_type": "stream",
     "text": [
      "89%..."
     ]
    },
    {
     "name": "stdout",
     "output_type": "stream",
     "text": [
      "early stop\n",
      "find optimal lambda_g 5.179 with average negative log-likelihood 57773.2855 by 5 fold cross-validation. Elapsed time: 70.53 minutes.\n",
      "\n",
      "\n",
      "start ADMM iteration...\n",
      "  iter |  res_pri_n | res_dual_n |    eps_pri |   eps_dual |        rho |    new_rho | time_opt | time_reg | time_lap | tilde_RMSE |   hat_RMSE\n"
     ]
    },
    {
     "name": "stdout",
     "output_type": "stream",
     "text": [
      "     0 |     13.783 |     12.886 |      0.132 |      0.132 |       1.00 |       1.00 |   10.769 |    0.000 |    0.007 |   0.125140 |   0.129370\n"
     ]
    },
    {
     "name": "stdout",
     "output_type": "stream",
     "text": [
      "     1 |     11.079 |      8.353 |      0.129 |      0.140 |       1.00 |       1.00 |    4.078 |    0.000 |    0.007 |   0.153481 |   0.111440\n"
     ]
    },
    {
     "name": "stdout",
     "output_type": "stream",
     "text": [
      "     2 |      9.094 |      9.606 |      0.128 |      0.148 |       1.00 |       1.00 |    4.281 |    0.000 |    0.007 |   0.110184 |   0.095686\n"
     ]
    },
    {
     "name": "stdout",
     "output_type": "stream",
     "text": [
      "     3 |      7.934 |     10.711 |      0.129 |      0.155 |       1.00 |       2.00 |    4.147 |    0.000 |    0.007 |   0.087246 |   0.084262\n"
     ]
    },
    {
     "name": "stdout",
     "output_type": "stream",
     "text": [
      "     4 |      7.355 |     16.532 |      0.135 |      0.169 |       2.00 |       2.00 |    5.051 |    0.000 |    0.007 |   0.079598 |   0.078650\n"
     ]
    },
    {
     "name": "stdout",
     "output_type": "stream",
     "text": [
      "     5 |      6.385 |     17.852 |      0.136 |      0.182 |       2.00 |       2.00 |    4.831 |    0.000 |    0.008 |   0.074495 |   0.068301\n"
     ]
    },
    {
     "name": "stdout",
     "output_type": "stream",
     "text": [
      "     6 |      5.449 |     19.371 |      0.137 |      0.192 |       2.00 |       4.00 |    4.564 |    0.000 |    0.007 |   0.058731 |   0.058839\n"
     ]
    },
    {
     "name": "stdout",
     "output_type": "stream",
     "text": [
      "     7 |      4.943 |     28.356 |      0.146 |      0.212 |       4.00 |       4.00 |    5.307 |    0.000 |    0.007 |   0.054138 |   0.052865\n"
     ]
    },
    {
     "name": "stdout",
     "output_type": "stream",
     "text": [
      "     8 |      4.061 |     29.999 |      0.148 |      0.227 |       4.00 |       4.00 |    5.118 |    0.000 |    0.007 |   0.048463 |   0.042983\n"
     ]
    },
    {
     "name": "stdout",
     "output_type": "stream",
     "text": [
      "     9 |      3.172 |     31.899 |      0.150 |      0.239 |       4.00 |       8.00 |    4.688 |    0.000 |    0.007 |   0.033485 |   0.034004\n"
     ]
    },
    {
     "name": "stdout",
     "output_type": "stream",
     "text": [
      "    10 |      2.714 |     43.688 |      0.162 |      0.260 |       8.00 |       8.00 |    5.343 |    0.000 |    0.007 |   0.029494 |   0.028598\n"
     ]
    },
    {
     "name": "stdout",
     "output_type": "stream",
     "text": [
      "    11 |      2.009 |     45.440 |      0.164 |      0.275 |       8.00 |       8.00 |    4.920 |    0.000 |    0.007 |   0.024542 |   0.020847\n"
     ]
    },
    {
     "name": "stdout",
     "output_type": "stream",
     "text": [
      "    12 |      1.343 |     47.189 |      0.165 |      0.285 |       8.00 |      16.00 |    4.333 |    0.000 |    0.007 |   0.013431 |   0.014203\n"
     ]
    },
    {
     "name": "stdout",
     "output_type": "stream",
     "text": [
      "    13 |      1.085 |     59.601 |      0.178 |      0.300 |      16.00 |      16.00 |    5.025 |    0.000 |    0.006 |   0.010907 |   0.011194\n"
     ]
    },
    {
     "name": "stdout",
     "output_type": "stream",
     "text": [
      "    14 |      0.705 |     60.832 |      0.179 |      0.310 |      16.00 |      16.00 |    4.310 |    0.000 |    0.006 |   0.009136 |   0.007042\n"
     ]
    },
    {
     "name": "stdout",
     "output_type": "stream",
     "text": [
      "    15 |      0.358 |     61.937 |      0.180 |      0.314 |      16.00 |      32.00 |    4.006 |    0.000 |    0.006 |   0.003255 |   0.003639\n"
     ]
    },
    {
     "name": "stdout",
     "output_type": "stream",
     "text": [
      "    16 |      0.309 |     72.278 |      0.190 |      0.321 |      32.00 |      32.00 |    3.795 |    0.000 |    0.005 |   0.002034 |   0.002967\n"
     ]
    },
    {
     "name": "stdout",
     "output_type": "stream",
     "text": [
      "    17 |      0.191 |     72.821 |      0.191 |      0.325 |      32.00 |      32.00 |    3.553 |    0.000 |    0.005 |   0.002704 |   0.001692\n"
     ]
    },
    {
     "name": "stdout",
     "output_type": "stream",
     "text": [
      "    18 |      0.072 |     73.357 |      0.191 |      0.326 |      32.00 |      64.00 |    2.331 |    0.000 |    0.005 |   0.000814 |   0.000611\n"
     ]
    },
    {
     "name": "stdout",
     "output_type": "stream",
     "text": [
      "    19 |      0.089 |     80.653 |      0.199 |      0.328 |      64.00 |      64.00 |    2.470 |    0.000 |    0.005 |   0.000298 |   0.000689\n"
     ]
    },
    {
     "name": "stdout",
     "output_type": "stream",
     "text": [
      "    20 |      0.053 |     80.813 |      0.199 |      0.329 |      64.00 |      64.00 |    3.037 |    0.000 |    0.005 |   0.000796 |   0.000426\n"
     ]
    },
    {
     "name": "stdout",
     "output_type": "stream",
     "text": [
      "    21 |      0.016 |     81.009 |      0.199 |      0.329 |      64.00 |     128.00 |    2.123 |    0.000 |    0.005 |   0.000222 |   0.000140\n"
     ]
    },
    {
     "name": "stdout",
     "output_type": "stream",
     "text": [
      "    22 |      0.026 |     85.539 |      0.204 |      0.331 |     128.00 |     128.00 |    2.011 |    0.000 |    0.004 |   0.000064 |   0.000185\n"
     ]
    },
    {
     "name": "stdout",
     "output_type": "stream",
     "text": [
      "    23 |      0.015 |     85.573 |      0.204 |      0.332 |     128.00 |     128.00 |    2.472 |    0.000 |    0.004 |   0.000231 |   0.000119\n"
     ]
    },
    {
     "name": "stdout",
     "output_type": "stream",
     "text": [
      "    24 |      0.005 |     85.630 |      0.204 |      0.332 |     128.00 |     256.00 |    2.249 |    0.000 |    0.004 |   0.000071 |   0.000040\n"
     ]
    },
    {
     "name": "stdout",
     "output_type": "stream",
     "text": [
      "    25 |      0.007 |     88.185 |      0.206 |      0.333 |     256.00 |          / |    1.985 |    0.000 |    0.004 |   0.000022 |   0.000052\n",
      "early stop!\n",
      "Terminated (optimal) in 26 iterations.\n",
      "One optimization by ADMM finished. Elapsed time: 1.79 minutes.\n",
      "\n",
      "\n",
      "stage 2 finished. Elapsed time: 72.33 minutes.\n",
      "\n",
      "GLRM fitting finished. Elapsed time: 88.42 minutes.\n",
      "\n",
      "\n",
      "Post-processing estimated cell-type proportion theta...\n",
      "hard thresholding small theta values with threshold 0\n",
      "\n",
      "\n",
      "cell type deconvolution finished. Estimate results saved in /home/exouser/Spatial/celltype_proportions.csv. Elapsed time: 3.60 hours.\n",
      "\n",
      "\n",
      "######### No imputation #########\n",
      "\n",
      "\n",
      "whole pipeline finished. Total elapsed time: 3.60 hours.\n"
     ]
    },
    {
     "data": {
      "text/plain": [
       "CompletedProcess(args='runDeconvolution -q sim_seq_based_6x_spatial_spot_nUMI.csv                           -r scRNA_data_full.csv                           -c ref_scRNA_cell_celltype.csv                           -a sim_spatial_spot_adjacency_matrix.csv                           --n_marker_per_cmp 20                           -n 64                           --cvae_init_lr 0.003                           --num_hidden_layer 1                           --use_batch_norm false                           --cvae_train_epoch 1000                           --diagnosis true\\n', returncode=0)"
      ]
     },
     "execution_count": 1,
     "metadata": {},
     "output_type": "execute_result"
    }
   ],
   "source": [
    "import subprocess\n",
    "\n",
    "cmd = '''runDeconvolution -q sim_seq_based_6x_spatial_spot_nUMI.csv \\\n",
    "                          -r scRNA_data_full.csv \\\n",
    "                          -c ref_scRNA_cell_celltype.csv \\\n",
    "                          -a sim_spatial_spot_adjacency_matrix.csv \\\n",
    "                          --n_marker_per_cmp 20 \\\n",
    "                          -n 64 \\\n",
    "                          --cvae_init_lr 0.003 \\\n",
    "                          --num_hidden_layer 1 \\\n",
    "                          --use_batch_norm false \\\n",
    "                          --cvae_train_epoch 1000 \\\n",
    "                          --diagnosis true\n",
    "'''\n",
    "\n",
    "subprocess.run(cmd, check=True, text=True, shell=True)"
   ]
  }
 ],
 "metadata": {
  "kernelspec": {
   "display_name": "Python 3 (ipykernel)",
   "language": "python",
   "name": "python3"
  },
  "language_info": {
   "codemirror_mode": {
    "name": "ipython",
    "version": 3
   },
   "file_extension": ".py",
   "mimetype": "text/x-python",
   "name": "python",
   "nbconvert_exporter": "python",
   "pygments_lexer": "ipython3",
   "version": "3.9.12"
  }
 },
 "nbformat": 4,
 "nbformat_minor": 5
}
