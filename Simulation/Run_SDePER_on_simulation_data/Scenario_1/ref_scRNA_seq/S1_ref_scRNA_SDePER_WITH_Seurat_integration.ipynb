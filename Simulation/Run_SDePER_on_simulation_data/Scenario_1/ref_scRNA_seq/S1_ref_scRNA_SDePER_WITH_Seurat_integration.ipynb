{
 "cells": [
  {
   "cell_type": "markdown",
   "id": "02f03238",
   "metadata": {},
   "source": [
    "# Run *SDePER* on simulated data: Scenario 1 + scRNA-seq data as reference + Seurat integration\n",
    "\n",
    "In this Notebook we run SDePER on simulated data. For generating simulated data via coarse-graining procedure please refer [generate_simulated_spatial_data.nb.html](https://rawcdn.githack.com/az7jh2/SDePER_Analysis/c60dcb036816bd61b5a8b3752d473a5b591b52b6/Simulation/Generate_simulation_data/generate_simulated_spatial_data.nb.html).\n",
    "\n",
    "**Scenario 1** means the reference data for deconvolution includes all single cells with the **matched 12 cell types**.\n",
    "\n",
    "**scRNA-seq data as reference** means the reference data is scRNA-seq data ([GSE115746](https://www.ncbi.nlm.nih.gov/geo/query/acc.cgi?acc=GSE115746)) from the same tissue with simulated spatial data, therefore **platform effect exists**.\n",
    "\n",
    "**Seurat integration** means we use Seurat integration (version 4.3) to remove platform effect. For details in Seurat integration, please refer [Seurat_integration.nb.html](https://rawcdn.githack.com/az7jh2/SDePER_Analysis/4b2838755a2b197c1c29d208d8fd3752e4bb0c37/Simulation/Run_SDePER_on_simulation_data/Scenario_1/ref_scRNA_seq/Seurat_integration.nb.html).\n",
    "\n",
    "==================================================================================================================\n",
    "\n",
    "So here we use the **4 input files** as shown below:\n",
    "\n",
    "1. nUMI-like gene expression counts of STARmap-based simulated spots after Seurat integration (spots × genes): [Seurat_integrated_spatial_spot_nUMI.csv](https://github.com/az7jh2/SDePER_Analysis/blob/main/Simulation/Run_SDePER_on_simulation_data/Scenario_1/ref_scRNA_seq/Seurat_integrated_spatial_spot_nUMI.csv).\n",
    "2. nUMI-like gene expression counts of scRNA-seq reference cells after Seurat integration (cells × genes): [Seurat_integrated_ref_scRNA_nUMI.csv](https://github.com/az7jh2/SDePER_Analysis/blob/main/Simulation/Run_SDePER_on_simulation_data/Scenario_1/ref_scRNA_seq/Seurat_integrated_ref_scRNA_nUMI.csv).\n",
    "3. cell type annotations for cells of **the matched 12 cell types** in reference scRNA-seq data (cells × 1): [ref_scRNA_cell_celltype.csv](https://github.com/az7jh2/SDePER_Analysis/blob/main/Simulation/Run_SDePER_on_simulation_data/Scenario_1/ref_scRNA_seq/ref_scRNA_cell_celltype.csv)\n",
    "4. adjacency matrix of spots in simulated spatial transcriptomic data (spots × spots): [sim_spatial_spot_adjacency_matrix.csv](https://github.com/az7jh2/SDePER_Analysis/blob/main/Simulation/Generate_simulation_data/sim_spatial_spot_adjacency_matrix.csv)\n",
    "\n",
    "==================================================================================================================\n",
    "\n",
    "SDePER settings are:\n",
    "\n",
    "* number of included highly variable genes `n_hv_gene`: 500\n",
    "* number of selected TOP marker genes for each comparison in Differential `n_marker_per_cmp`: 50\n",
    "* seed for random values `seed`: 2\n",
    "* number of used CPU cores `n_core`: 64\n",
    "* **whether to use CVAE to remove platform effect `use_cvae`: false**\n",
    "\n",
    "ALL other options are left as default.\n",
    "\n",
    "==================================================================================================================\n",
    "\n",
    "the `bash` command to start cell type deconvolution is\n",
    "\n",
    "`runDeconvolution -q Seurat_integrated_spatial_spot_nUMI.csv -r Seurat_integrated_ref_scRNA_nUMI.csv -c ref_scRNA_cell_celltype.csv -a sim_spatial_spot_adjacency_matrix.csv --n_hv_gene 500 --n_marker_per_cmp 50 --seed 2 -n 64 --use_cvae false`\n",
    "\n",
    "Note this Notebook uses **SDePER v1.0.0**. Cell type deconvolution result is renamed as [S1_ref_scRNA_SDePER_WITH_Seurat_integration_celltype_proportions.csv](https://github.com/az7jh2/SDePER_Analysis/blob/main/Simulation/Run_SDePER_on_simulation_data/Scenario_1/ref_scRNA_seq/S1_ref_scRNA_SDePER_WITH_Seurat_integration_celltype_proportions.csv)."
   ]
  },
  {
   "cell_type": "code",
   "execution_count": 1,
   "id": "f43766d1",
   "metadata": {
    "execution": {
     "iopub.execute_input": "2024-09-11T09:31:22.558569Z",
     "iopub.status.busy": "2024-09-11T09:31:22.558376Z",
     "iopub.status.idle": "2024-09-11T11:49:36.524081Z",
     "shell.execute_reply": "2024-09-11T11:49:36.523068Z"
    }
   },
   "outputs": [
    {
     "name": "stdout",
     "output_type": "stream",
     "text": [
      "\n",
      "SDePER (Spatial Deconvolution method with Platform Effect Removal) v1.0.0\n",
      "\n"
     ]
    },
    {
     "name": "stdout",
     "output_type": "stream",
     "text": [
      "\n",
      "running options:\n",
      "spatial_file: /home/exouser/Spatial/Seurat_integrated_spatial_spot_nUMI.csv\n",
      "ref_file: /home/exouser/Spatial/Seurat_integrated_ref_scRNA_nUMI.csv\n",
      "ref_celltype_file: /home/exouser/Spatial/ref_scRNA_cell_celltype.csv\n",
      "marker_file: None\n",
      "loc_file: None\n",
      "A_file: /home/exouser/Spatial/sim_spatial_spot_adjacency_matrix.csv\n",
      "n_cores: 64\n",
      "lambda_r: [0.1, 0.268, 0.72, 1.931, 5.179, 13.895, 37.276, 100.0]\n",
      "lambda_g: [0.1, 0.268, 0.72, 1.931, 5.179, 13.895, 37.276, 100.0]\n",
      "use_cvae: False\n",
      "threshold: 0\n",
      "n_hv_gene: 500\n",
      "n_marker_per_cmp: 50\n",
      "pseudo_spot_min_cell: 2\n",
      "pseudo_spot_max_cell: 8\n",
      "seq_depth_scaler: 10000\n",
      "cvae_input_scaler: 10\n",
      "cvae_init_lr: 0.003\n",
      "redo_de: True\n",
      "seed: 2\n",
      "diagnosis: False\n",
      "verbose: True\n",
      "use_imputation: False\n",
      "diameter: 200\n",
      "impute_diameter: [160, 114, 80]\n"
     ]
    },
    {
     "name": "stdout",
     "output_type": "stream",
     "text": [
      "\n",
      "\n",
      "######### Preprocessing... #########\n",
      "\n",
      "######### Building CVAE skipped... #########\n",
      "\n"
     ]
    },
    {
     "name": "stdout",
     "output_type": "stream",
     "text": [
      "read spatial data from file /home/exouser/Spatial/Seurat_integrated_spatial_spot_nUMI.csv\n",
      "total 581 spots; 993 genes\n",
      "\n",
      "no marker gene profile provided. Perform DE to get cell-type marker genes on scRNA-seq data...\n",
      "\n"
     ]
    },
    {
     "name": "stdout",
     "output_type": "stream",
     "text": [
      "read scRNA-seq data from file /home/exouser/Spatial/Seurat_integrated_ref_scRNA_nUMI.csv\n",
      "total 11835 cells; 993 genes\n",
      "read scRNA-seq cell-type annotation from file /home/exouser/Spatial/ref_scRNA_cell_celltype.csv\n",
      "total 12 cell-types\n",
      "subset cells with cell-type annotation, finally keep 11835 cells; 993 genes\n",
      "\n"
     ]
    },
    {
     "name": "stdout",
     "output_type": "stream",
     "text": [
      "Differential analysis across cell-types on scRNA-seq data...\n"
     ]
    },
    {
     "name": "stdout",
     "output_type": "stream",
     "text": [
      "finally selected 695 cell-type marker genes\n",
      "\n",
      "\n",
      "gene filtering before modeling...\n",
      "all genes passed filtering\n",
      "\n",
      "spot filtering before modeling...\n",
      "all spots passed filtering\n",
      "\n",
      "\n",
      "######### Start GLRM modeling... #########\n",
      "\n",
      "GLRM settings:\n",
      "use SciPy minimize method:  L-BFGS-B\n",
      "global optimization turned off, local minimum will be used in GLRM\n",
      "use hybrid version of GLRM\n",
      "Numba detected total 64 available CPU cores. Use 64 CPU cores\n",
      "use 2001 points to calculate the heavy-tail density\n",
      "use weight threshold for Adaptive Lasso:  0.001\n",
      "total 181 unique nUMIs, min: 0, max: 555\n",
      "\n",
      "Build graph: \n",
      " Graph with 581 nodes and 1029 edges\n",
      "\n",
      "Estimate gene-specific platform effect gamma_g...\n",
      "estimate platform effect gammg_g by L-BFGS-B and basinhopping\n",
      "\n",
      "GLRM model initialization...\n",
      "CAUTION: global optimization turned on!\n",
      "calculate MLE theta and sigma^2 iteratively...\n",
      "  iter | time_opt | time_sig | sigma2\n"
     ]
    },
    {
     "name": "stdout",
     "output_type": "stream",
     "text": [
      "     0 |    1.056 |    0.159 |  1.180\n"
     ]
    },
    {
     "name": "stdout",
     "output_type": "stream",
     "text": [
      "     1 |    0.457 |    0.151 |  1.183\n"
     ]
    },
    {
     "name": "stdout",
     "output_type": "stream",
     "text": [
      "     2 |    0.498 |    0.154 |  1.183\n",
      "MLE theta and sigma^2 calculation finished. Elapsed time: 0.04 minutes.\n",
      "gamma_g estimation finished. Elapsed time: 0.04 minutes.\n",
      "\n",
      "\n",
      "Start GLRM fitting...\n",
      "\n",
      "first estimate MLE theta and corresponding e^alpha and sigma^2...\n",
      "\n",
      "GLRM model initialization...\n",
      "calculate MLE theta and sigma^2 iteratively...\n",
      "  iter | time_opt | time_sig | sigma2\n"
     ]
    },
    {
     "name": "stdout",
     "output_type": "stream",
     "text": [
      "     0 |   27.867 |    3.505 |  1.751\n"
     ]
    },
    {
     "name": "stdout",
     "output_type": "stream",
     "text": [
      "     1 |   19.615 |    3.211 |  1.937\n"
     ]
    },
    {
     "name": "stdout",
     "output_type": "stream",
     "text": [
      "     2 |   14.376 |    2.519 |  1.982\n"
     ]
    },
    {
     "name": "stdout",
     "output_type": "stream",
     "text": [
      "     3 |   10.551 |    2.503 |  1.993\n"
     ]
    },
    {
     "name": "stdout",
     "output_type": "stream",
     "text": [
      "     4 |    5.610 |    2.006 |  1.995\n"
     ]
    },
    {
     "name": "stdout",
     "output_type": "stream",
     "text": [
      "     5 |    4.007 |    2.002 |  1.996\n",
      "MLE theta and sigma^2 calculation finished. Elapsed time: 1.63 minutes.\n",
      "MLE theta estimation finished. Elapsed time: 1.63 minutes.\n",
      "\n",
      "calculate weights of Adaptive Lasso...\n",
      "\n",
      "Stage 1: variable selection using Adaptive Lasso starts with the MLE theta and e^alpha, using already estimated sigma^2 and gamma_g...\n",
      "specified hyper-parameter for Adaptive Lasso is: [0.1, 0.268, 0.72, 1.931, 5.179, 13.895, 37.276, 100.0]\n",
      "hyper-parameter for Adaptive Lasso: use cross-validation to find the optimal value from 8 candidates...\n",
      "\n",
      "Start cross-validation for hyper-parameter lambda_r...\n",
      "directly estimate theta by Adaptive Lasso loss function as NO Graph Laplacian constrain!\n",
      "0%..."
     ]
    },
    {
     "name": "stdout",
     "output_type": "stream",
     "text": [
      "11%..."
     ]
    },
    {
     "name": "stdout",
     "output_type": "stream",
     "text": [
      "22%..."
     ]
    },
    {
     "name": "stdout",
     "output_type": "stream",
     "text": [
      "33%..."
     ]
    },
    {
     "name": "stdout",
     "output_type": "stream",
     "text": [
      "44%..."
     ]
    },
    {
     "name": "stdout",
     "output_type": "stream",
     "text": [
      "56%..."
     ]
    },
    {
     "name": "stdout",
     "output_type": "stream",
     "text": [
      "67%..."
     ]
    },
    {
     "name": "stdout",
     "output_type": "stream",
     "text": [
      "early stop\n",
      "find optimal lambda_r 0.720 with average negative log-likelihood 151190.0437 by 5 fold cross-validation. Elapsed time: 17.99 minutes.\n",
      "\n",
      "\n",
      "start ADMM iteration...\n",
      "  iter |  res_pri_n | res_dual_n |    eps_pri |   eps_dual |        rho |    new_rho | time_opt | time_reg | time_lap | tilde_RMSE |   hat_RMSE\n"
     ]
    },
    {
     "name": "stdout",
     "output_type": "stream",
     "text": [
      "     0 |      7.503 |      7.502 |      0.126 |      0.126 |       1.00 |       1.00 |    3.789 |    0.000 |    0.003 |   0.125900 |   0.062950\n"
     ]
    },
    {
     "name": "stdout",
     "output_type": "stream",
     "text": [
      "     1 |      7.495 |      0.019 |      0.126 |      0.133 |       1.00 |       2.00 |    7.022 |    0.000 |    0.003 |   0.125773 |   0.062886\n"
     ]
    },
    {
     "name": "stdout",
     "output_type": "stream",
     "text": [
      "     2 |      7.466 |      0.388 |      0.126 |      0.148 |       2.00 |       4.00 |    8.931 |    0.000 |    0.003 |   0.125372 |   0.062686\n"
     ]
    },
    {
     "name": "stdout",
     "output_type": "stream",
     "text": [
      "     3 |      7.133 |      3.950 |      0.125 |      0.176 |       4.00 |       8.00 |   10.815 |    0.000 |    0.003 |   0.120260 |   0.060130\n"
     ]
    },
    {
     "name": "stdout",
     "output_type": "stream",
     "text": [
      "     4 |      6.245 |     14.350 |      0.132 |      0.225 |       8.00 |       8.00 |   12.376 |    0.000 |    0.003 |   0.104700 |   0.052350\n"
     ]
    },
    {
     "name": "stdout",
     "output_type": "stream",
     "text": [
      "     5 |      5.412 |     18.222 |      0.136 |      0.265 |       8.00 |       8.00 |   11.233 |    0.000 |    0.003 |   0.089977 |   0.044989\n"
     ]
    },
    {
     "name": "stdout",
     "output_type": "stream",
     "text": [
      "     6 |      4.978 |     15.506 |      0.134 |      0.297 |       8.00 |      16.00 |   11.428 |    0.000 |    0.003 |   0.083105 |   0.041552\n"
     ]
    },
    {
     "name": "stdout",
     "output_type": "stream",
     "text": [
      "     7 |      4.428 |     19.934 |      0.138 |      0.358 |      16.00 |      16.00 |   13.392 |    0.000 |    0.003 |   0.073949 |   0.036974\n"
     ]
    },
    {
     "name": "stdout",
     "output_type": "stream",
     "text": [
      "     8 |      3.800 |     24.669 |      0.143 |      0.409 |      16.00 |      16.00 |   12.434 |    0.000 |    0.003 |   0.063398 |   0.031699\n"
     ]
    },
    {
     "name": "stdout",
     "output_type": "stream",
     "text": [
      "     9 |      3.343 |     22.771 |      0.141 |      0.450 |      16.00 |      32.00 |   12.581 |    0.000 |    0.003 |   0.055768 |   0.027884\n"
     ]
    },
    {
     "name": "stdout",
     "output_type": "stream",
     "text": [
      "    10 |      2.834 |     31.027 |      0.149 |      0.520 |      32.00 |      32.00 |   13.619 |    0.000 |    0.003 |   0.047203 |   0.023602\n"
     ]
    },
    {
     "name": "stdout",
     "output_type": "stream",
     "text": [
      "    11 |      2.360 |     35.246 |      0.153 |      0.575 |      32.00 |      32.00 |   12.979 |    0.000 |    0.003 |   0.039124 |   0.019562\n"
     ]
    },
    {
     "name": "stdout",
     "output_type": "stream",
     "text": [
      "    12 |      2.072 |     30.079 |      0.148 |      0.618 |      32.00 |      64.00 |   13.009 |    0.000 |    0.003 |   0.034322 |   0.017161\n"
     ]
    },
    {
     "name": "stdout",
     "output_type": "stream",
     "text": [
      "    13 |      1.748 |     37.535 |      0.156 |      0.694 |      64.00 |      64.00 |   13.282 |    0.000 |    0.003 |   0.028925 |   0.014462\n"
     ]
    },
    {
     "name": "stdout",
     "output_type": "stream",
     "text": [
      "    14 |      1.467 |     41.603 |      0.160 |      0.758 |      64.00 |      64.00 |   12.872 |    0.000 |    0.003 |   0.024169 |   0.012084\n"
     ]
    },
    {
     "name": "stdout",
     "output_type": "stream",
     "text": [
      "    15 |      1.305 |     34.875 |      0.153 |      0.811 |      64.00 |     128.00 |   12.122 |    0.000 |    0.003 |   0.021504 |   0.010752\n"
     ]
    },
    {
     "name": "stdout",
     "output_type": "stream",
     "text": [
      "    16 |      1.125 |     42.754 |      0.161 |      0.909 |     128.00 |     128.00 |   12.426 |    0.000 |    0.003 |   0.018540 |   0.009270\n"
     ]
    },
    {
     "name": "stdout",
     "output_type": "stream",
     "text": [
      "    17 |      0.961 |     48.809 |      0.167 |      0.994 |     128.00 |     128.00 |   11.918 |    0.000 |    0.003 |   0.015811 |   0.007905\n"
     ]
    },
    {
     "name": "stdout",
     "output_type": "stream",
     "text": [
      "    18 |      0.860 |     43.012 |      0.161 |      1.065 |     128.00 |     256.00 |   11.262 |    0.000 |    0.003 |   0.014120 |   0.007060\n"
     ]
    },
    {
     "name": "stdout",
     "output_type": "stream",
     "text": [
      "    19 |      0.744 |     54.881 |      0.173 |      1.198 |     256.00 |     256.00 |   11.300 |    0.000 |    0.003 |   0.012216 |   0.006108\n"
     ]
    },
    {
     "name": "stdout",
     "output_type": "stream",
     "text": [
      "    20 |      0.631 |     64.934 |      0.183 |      1.310 |     256.00 |     256.00 |   10.723 |    0.000 |    0.003 |   0.010304 |   0.005152\n"
     ]
    },
    {
     "name": "stdout",
     "output_type": "stream",
     "text": [
      "    21 |      0.558 |     58.429 |      0.177 |      1.401 |     256.00 |     512.00 |   10.324 |    0.000 |    0.003 |   0.009082 |   0.004541\n"
     ]
    },
    {
     "name": "stdout",
     "output_type": "stream",
     "text": [
      "    22 |      0.473 |     76.267 |      0.194 |      1.563 |     512.00 |     512.00 |   10.637 |    0.000 |    0.003 |   0.007675 |   0.003838\n"
     ]
    },
    {
     "name": "stdout",
     "output_type": "stream",
     "text": [
      "    23 |      0.396 |     87.157 |      0.205 |      1.697 |     512.00 |     512.00 |   10.110 |    0.000 |    0.003 |   0.006348 |   0.003174\n"
     ]
    },
    {
     "name": "stdout",
     "output_type": "stream",
     "text": [
      "    24 |      0.344 |     76.809 |      0.195 |      1.802 |     512.00 |    1024.00 |    9.532 |    0.000 |    0.003 |   0.005499 |   0.002750\n"
     ]
    },
    {
     "name": "stdout",
     "output_type": "stream",
     "text": [
      "    25 |      0.285 |     99.111 |      0.217 |      1.986 |    1024.00 |    1024.00 |    9.633 |    0.000 |    0.003 |   0.004534 |   0.002267\n"
     ]
    },
    {
     "name": "stdout",
     "output_type": "stream",
     "text": [
      "    26 |      0.237 |    107.334 |      0.225 |      2.136 |    1024.00 |    1024.00 |    9.065 |    0.000 |    0.003 |   0.003700 |   0.001850\n"
     ]
    },
    {
     "name": "stdout",
     "output_type": "stream",
     "text": [
      "    27 |      0.204 |     92.219 |      0.210 |      2.252 |    1024.00 |    2048.00 |    8.686 |    0.000 |    0.003 |   0.003167 |   0.001583\n"
     ]
    },
    {
     "name": "stdout",
     "output_type": "stream",
     "text": [
      "    28 |      0.167 |    115.774 |      0.234 |      2.456 |    2048.00 |    2048.00 |    8.920 |    0.000 |    0.003 |   0.002552 |   0.001276\n"
     ]
    },
    {
     "name": "stdout",
     "output_type": "stream",
     "text": [
      "    29 |      0.135 |    128.057 |      0.246 |      2.618 |    2048.00 |    2048.00 |    8.194 |    0.000 |    0.003 |   0.002003 |   0.001001\n"
     ]
    },
    {
     "name": "stdout",
     "output_type": "stream",
     "text": [
      "    30 |      0.113 |    112.433 |      0.231 |      2.737 |    2048.00 |    4096.00 |    7.810 |    0.000 |    0.003 |   0.001666 |   0.000833\n"
     ]
    },
    {
     "name": "stdout",
     "output_type": "stream",
     "text": [
      "    31 |      0.092 |    130.606 |      0.249 |      2.943 |    4096.00 |    4096.00 |    8.073 |    0.000 |    0.003 |   0.001320 |   0.000660\n"
     ]
    },
    {
     "name": "stdout",
     "output_type": "stream",
     "text": [
      "    32 |      0.075 |    139.064 |      0.257 |      3.110 |    4096.00 |    4096.00 |    7.415 |    0.000 |    0.003 |   0.001043 |   0.000522\n"
     ]
    },
    {
     "name": "stdout",
     "output_type": "stream",
     "text": [
      "    33 |      0.065 |    117.000 |      0.235 |      3.240 |    4096.00 |    8192.00 |    7.001 |    0.000 |    0.003 |   0.000879 |   0.000439\n"
     ]
    },
    {
     "name": "stdout",
     "output_type": "stream",
     "text": [
      "    34 |      0.053 |    143.786 |      0.262 |      3.472 |    8192.00 |    8192.00 |    6.927 |    0.000 |    0.003 |   0.000693 |   0.000346\n"
     ]
    },
    {
     "name": "stdout",
     "output_type": "stream",
     "text": [
      "    35 |      0.043 |    157.165 |      0.275 |      3.662 |    8192.00 |    8192.00 |    6.314 |    0.000 |    0.003 |   0.000532 |   0.000266\n"
     ]
    },
    {
     "name": "stdout",
     "output_type": "stream",
     "text": [
      "    36 |      0.037 |    133.301 |      0.251 |      3.809 |    8192.00 |   16384.00 |    5.972 |    0.000 |    0.003 |   0.000448 |   0.000224\n"
     ]
    },
    {
     "name": "stdout",
     "output_type": "stream",
     "text": [
      "    37 |      0.030 |    163.038 |      0.281 |      4.068 |   16384.00 |   16384.00 |    6.054 |    0.000 |    0.003 |   0.000353 |   0.000177\n"
     ]
    },
    {
     "name": "stdout",
     "output_type": "stream",
     "text": [
      "    38 |      0.024 |    171.628 |      0.290 |      4.280 |   16384.00 |   16384.00 |    5.561 |    0.000 |    0.003 |   0.000272 |   0.000136\n"
     ]
    },
    {
     "name": "stdout",
     "output_type": "stream",
     "text": [
      "    39 |      0.021 |    147.549 |      0.266 |      4.447 |   16384.00 |   32768.00 |    5.323 |    0.000 |    0.003 |   0.000225 |   0.000112\n"
     ]
    },
    {
     "name": "stdout",
     "output_type": "stream",
     "text": [
      "    40 |      0.017 |    188.121 |      0.306 |      4.733 |   32768.00 |   32768.00 |    5.131 |    0.000 |    0.003 |   0.000172 |   0.000086\n"
     ]
    },
    {
     "name": "stdout",
     "output_type": "stream",
     "text": [
      "    41 |      0.014 |    195.561 |      0.314 |      4.968 |   32768.00 |   32768.00 |    4.918 |    0.000 |    0.003 |   0.000130 |   0.000065\n"
     ]
    },
    {
     "name": "stdout",
     "output_type": "stream",
     "text": [
      "    42 |      0.012 |    170.176 |      0.288 |      5.151 |   32768.00 |   65536.00 |    4.550 |    0.000 |    0.003 |   0.000107 |   0.000054\n"
     ]
    },
    {
     "name": "stdout",
     "output_type": "stream",
     "text": [
      "    43 |      0.009 |    215.380 |      0.333 |      5.460 |   65536.00 |   65536.00 |    4.447 |    0.000 |    0.003 |   0.000081 |   0.000040\n"
     ]
    },
    {
     "name": "stdout",
     "output_type": "stream",
     "text": [
      "    44 |      0.007 |    234.774 |      0.353 |      5.698 |   65536.00 |          / |    4.241 |    0.000 |    0.003 |   0.000058 |   0.000029\n",
      "early stop!\n",
      "Terminated (optimal) in 45 iterations.\n",
      "One optimization by ADMM finished. Elapsed time: 6.92 minutes.\n",
      "\n",
      "Stage 1 variable selection finished. Elapsed time: 24.91 minutes.\n",
      "\n",
      "Stage 2: final theta estimation with Graph Laplacian Constrain using already estimated sigma^2 and gamma_g\n",
      "specified hyper-parameter for Graph Laplacian Constrain is: [0.1, 0.268, 0.72, 1.931, 5.179, 13.895, 37.276, 100.0]\n",
      "hyper-parameter for Graph Laplacian Constrain: use cross-validation to find the optimal value from 8 candidates...\n",
      "\n",
      "Start cross-validation for hyper-parameter lambda_g...\n",
      "still use ADMM even NO Graph Laplacian constrain (lambda_g=0)\n",
      "0%..."
     ]
    },
    {
     "name": "stdout",
     "output_type": "stream",
     "text": [
      "11%..."
     ]
    },
    {
     "name": "stdout",
     "output_type": "stream",
     "text": [
      "22%..."
     ]
    },
    {
     "name": "stdout",
     "output_type": "stream",
     "text": [
      "33%..."
     ]
    },
    {
     "name": "stdout",
     "output_type": "stream",
     "text": [
      "44%..."
     ]
    },
    {
     "name": "stdout",
     "output_type": "stream",
     "text": [
      "56%..."
     ]
    },
    {
     "name": "stdout",
     "output_type": "stream",
     "text": [
      "67%..."
     ]
    },
    {
     "name": "stdout",
     "output_type": "stream",
     "text": [
      "78%..."
     ]
    },
    {
     "name": "stdout",
     "output_type": "stream",
     "text": [
      "89%..."
     ]
    },
    {
     "name": "stdout",
     "output_type": "stream",
     "text": [
      "100%\n",
      "find optimal lambda_g 100.000 with average negative log-likelihood 150576.2874 by 5 fold cross-validation. Elapsed time: 105.06 minutes.\n",
      "\n",
      "\n",
      "start ADMM iteration...\n",
      "  iter |  res_pri_n | res_dual_n |    eps_pri |   eps_dual |        rho |    new_rho | time_opt | time_reg | time_lap | tilde_RMSE |   hat_RMSE\n"
     ]
    },
    {
     "name": "stdout",
     "output_type": "stream",
     "text": [
      "     0 |      7.358 |      3.936 |      0.125 |      0.125 |       1.00 |       1.00 |   24.149 |    0.000 |    0.007 |   0.086670 |   0.083023\n"
     ]
    },
    {
     "name": "stdout",
     "output_type": "stream",
     "text": [
      "     1 |      6.798 |      3.472 |      0.125 |      0.132 |       1.00 |       1.00 |    6.874 |    0.000 |    0.007 |   0.083084 |   0.076259\n"
     ]
    },
    {
     "name": "stdout",
     "output_type": "stream",
     "text": [
      "     2 |      6.158 |      4.209 |      0.124 |      0.138 |       1.00 |       1.00 |    7.709 |    0.000 |    0.007 |   0.073277 |   0.067893\n"
     ]
    },
    {
     "name": "stdout",
     "output_type": "stream",
     "text": [
      "     3 |      5.772 |      3.909 |      0.124 |      0.143 |       1.00 |       2.00 |    7.061 |    0.000 |    0.007 |   0.064737 |   0.064189\n"
     ]
    },
    {
     "name": "stdout",
     "output_type": "stream",
     "text": [
      "     4 |      5.431 |      7.388 |      0.125 |      0.153 |       2.00 |       2.00 |    9.335 |    0.000 |    0.007 |   0.062961 |   0.060423\n"
     ]
    },
    {
     "name": "stdout",
     "output_type": "stream",
     "text": [
      "     5 |      5.221 |      7.550 |      0.126 |      0.163 |       2.00 |       2.00 |    8.535 |    0.000 |    0.007 |   0.058013 |   0.057853\n"
     ]
    },
    {
     "name": "stdout",
     "output_type": "stream",
     "text": [
      "     6 |      5.009 |      7.838 |      0.126 |      0.173 |       2.00 |       4.00 |    8.806 |    0.000 |    0.007 |   0.056242 |   0.055553\n"
     ]
    },
    {
     "name": "stdout",
     "output_type": "stream",
     "text": [
      "     7 |      4.748 |     14.561 |      0.133 |      0.191 |       4.00 |       4.00 |   10.729 |    0.000 |    0.007 |   0.054091 |   0.052436\n"
     ]
    },
    {
     "name": "stdout",
     "output_type": "stream",
     "text": [
      "     8 |      4.532 |     14.425 |      0.133 |      0.209 |       4.00 |       4.00 |   10.225 |    0.000 |    0.007 |   0.049905 |   0.050091\n"
     ]
    },
    {
     "name": "stdout",
     "output_type": "stream",
     "text": [
      "     9 |      4.347 |     14.659 |      0.133 |      0.226 |       4.00 |       8.00 |   10.157 |    0.000 |    0.007 |   0.048036 |   0.048059\n"
     ]
    },
    {
     "name": "stdout",
     "output_type": "stream",
     "text": [
      "    10 |      4.092 |     26.416 |      0.145 |      0.258 |       8.00 |       8.00 |   11.575 |    0.000 |    0.007 |   0.046234 |   0.044938\n"
     ]
    },
    {
     "name": "stdout",
     "output_type": "stream",
     "text": [
      "    11 |      3.837 |     26.184 |      0.144 |      0.288 |       8.00 |       8.00 |   11.182 |    0.000 |    0.007 |   0.042505 |   0.042109\n"
     ]
    },
    {
     "name": "stdout",
     "output_type": "stream",
     "text": [
      "    12 |      3.594 |     26.892 |      0.145 |      0.316 |       8.00 |      16.00 |   11.085 |    0.000 |    0.007 |   0.039478 |   0.039536\n"
     ]
    },
    {
     "name": "stdout",
     "output_type": "stream",
     "text": [
      "    13 |      3.292 |     47.443 |      0.166 |      0.367 |      16.00 |      16.00 |   12.462 |    0.000 |    0.007 |   0.037059 |   0.035940\n"
     ]
    },
    {
     "name": "stdout",
     "output_type": "stream",
     "text": [
      "    14 |      2.981 |     47.447 |      0.166 |      0.413 |      16.00 |      16.00 |   12.137 |    0.000 |    0.007 |   0.033187 |   0.032481\n"
     ]
    },
    {
     "name": "stdout",
     "output_type": "stream",
     "text": [
      "    15 |      2.690 |     49.062 |      0.167 |      0.455 |      16.00 |      32.00 |   11.720 |    0.000 |    0.007 |   0.029343 |   0.029423\n"
     ]
    },
    {
     "name": "stdout",
     "output_type": "stream",
     "text": [
      "    16 |      2.359 |     83.735 |      0.202 |      0.527 |      32.00 |      32.00 |   12.764 |    0.000 |    0.007 |   0.026558 |   0.025518\n"
     ]
    },
    {
     "name": "stdout",
     "output_type": "stream",
     "text": [
      "    17 |      2.026 |     84.170 |      0.202 |      0.588 |      32.00 |      32.00 |   12.411 |    0.000 |    0.007 |   0.022640 |   0.021827\n"
     ]
    },
    {
     "name": "stdout",
     "output_type": "stream",
     "text": [
      "    18 |      1.727 |     87.020 |      0.205 |      0.640 |      32.00 |      64.00 |   11.719 |    0.000 |    0.007 |   0.018582 |   0.018719\n"
     ]
    },
    {
     "name": "stdout",
     "output_type": "stream",
     "text": [
      "    19 |      1.435 |    140.619 |      0.259 |      0.724 |      64.00 |      64.00 |   12.203 |    0.000 |    0.007 |   0.016086 |   0.015271\n"
     ]
    },
    {
     "name": "stdout",
     "output_type": "stream",
     "text": [
      "    20 |      1.137 |    141.242 |      0.259 |      0.790 |      64.00 |      64.00 |   11.682 |    0.000 |    0.007 |   0.012828 |   0.012027\n"
     ]
    },
    {
     "name": "stdout",
     "output_type": "stream",
     "text": [
      "    21 |      0.883 |    144.921 |      0.263 |      0.841 |      64.00 |     128.00 |   10.721 |    0.000 |    0.007 |   0.009271 |   0.009471\n"
     ]
    },
    {
     "name": "stdout",
     "output_type": "stream",
     "text": [
      "    22 |      0.692 |    216.172 |      0.334 |      0.916 |     128.00 |     128.00 |   10.684 |    0.000 |    0.007 |   0.007551 |   0.007198\n"
     ]
    },
    {
     "name": "stdout",
     "output_type": "stream",
     "text": [
      "    23 |      0.490 |    216.030 |      0.334 |      0.967 |     128.00 |     128.00 |   13.428 |    0.000 |    0.007 |   0.005744 |   0.005011\n"
     ]
    },
    {
     "name": "stdout",
     "output_type": "stream",
     "text": [
      "    24 |      0.325 |    219.250 |      0.337 |      1.001 |     128.00 |     256.00 |    9.621 |    0.000 |    0.007 |   0.003278 |   0.003433\n"
     ]
    },
    {
     "name": "stdout",
     "output_type": "stream",
     "text": [
      "    25 |      0.259 |    296.759 |      0.415 |      1.047 |     256.00 |     256.00 |    8.979 |    0.000 |    0.006 |   0.002443 |   0.002573\n"
     ]
    },
    {
     "name": "stdout",
     "output_type": "stream",
     "text": [
      "    26 |      0.162 |    295.579 |      0.414 |      1.072 |     256.00 |     256.00 |    9.422 |    0.000 |    0.006 |   0.002095 |   0.001517\n"
     ]
    },
    {
     "name": "stdout",
     "output_type": "stream",
     "text": [
      "    27 |      0.082 |    297.338 |      0.415 |      1.085 |     256.00 |     512.00 |    7.894 |    0.000 |    0.006 |   0.000827 |   0.000811\n"
     ]
    },
    {
     "name": "stdout",
     "output_type": "stream",
     "text": [
      "    28 |      0.085 |    365.355 |      0.483 |      1.103 |     512.00 |     512.00 |    7.077 |    0.000 |    0.005 |   0.000455 |   0.000755\n"
     ]
    },
    {
     "name": "stdout",
     "output_type": "stream",
     "text": [
      "    29 |      0.049 |    363.817 |      0.482 |      1.110 |     512.00 |     512.00 |    8.211 |    0.000 |    0.005 |   0.000696 |   0.000382\n"
     ]
    },
    {
     "name": "stdout",
     "output_type": "stream",
     "text": [
      "    30 |      0.019 |    364.133 |      0.482 |      1.112 |     512.00 |    1024.00 |    6.853 |    0.000 |    0.005 |   0.000247 |   0.000154\n"
     ]
    },
    {
     "name": "stdout",
     "output_type": "stream",
     "text": [
      "    31 |      0.029 |    413.493 |      0.532 |      1.118 |    1024.00 |    1024.00 |    5.709 |    0.000 |    0.004 |   0.000085 |   0.000232\n"
     ]
    },
    {
     "name": "stdout",
     "output_type": "stream",
     "text": [
      "    32 |      0.015 |    412.236 |      0.530 |      1.120 |    1024.00 |    1024.00 |    6.810 |    0.000 |    0.004 |   0.000217 |   0.000108\n"
     ]
    },
    {
     "name": "stdout",
     "output_type": "stream",
     "text": [
      "    33 |      0.006 |    411.758 |      0.530 |      1.120 |    1024.00 |    2048.00 |    5.984 |    0.000 |    0.004 |   0.000078 |   0.000043\n"
     ]
    },
    {
     "name": "stdout",
     "output_type": "stream",
     "text": [
      "    34 |      0.009 |    442.613 |      0.561 |      1.124 |    2048.00 |          / |    5.040 |    0.000 |    0.004 |   0.000024 |   0.000070\n",
      "early stop!\n",
      "Terminated (optimal) in 35 iterations.\n",
      "One optimization by ADMM finished. Elapsed time: 5.86 minutes.\n",
      "\n",
      "\n",
      "stage 2 finished. Elapsed time: 110.92 minutes.\n",
      "\n",
      "GLRM fitting finished. Elapsed time: 137.46 minutes.\n",
      "\n",
      "\n",
      "Post-processing estimated cell-type proportion theta...\n",
      "hard thresholding small theta values with threshold 0\n",
      "\n",
      "\n",
      "cell type deconvolution finished. Estimate results saved in /home/exouser/Spatial/celltype_proportions.csv. Elapsed time: 2.30 hours.\n",
      "\n",
      "\n",
      "######### No imputation #########\n",
      "\n",
      "\n",
      "whole pipeline finished. Total elapsed time: 2.30 hours.\n"
     ]
    },
    {
     "data": {
      "text/plain": [
       "CompletedProcess(args='runDeconvolution -q Seurat_integrated_spatial_spot_nUMI.csv                           -r Seurat_integrated_ref_scRNA_nUMI.csv                           -c ref_scRNA_cell_celltype.csv                           -a sim_spatial_spot_adjacency_matrix.csv                           --n_hv_gene 500                           --n_marker_per_cmp 50                           --seed 2                           -n 64                           --use_cvae false\\n', returncode=0)"
      ]
     },
     "execution_count": 1,
     "metadata": {},
     "output_type": "execute_result"
    }
   ],
   "source": [
    "import subprocess\n",
    "\n",
    "cmd = '''runDeconvolution -q Seurat_integrated_spatial_spot_nUMI.csv \\\n",
    "                          -r Seurat_integrated_ref_scRNA_nUMI.csv \\\n",
    "                          -c ref_scRNA_cell_celltype.csv \\\n",
    "                          -a sim_spatial_spot_adjacency_matrix.csv \\\n",
    "                          --n_hv_gene 500 \\\n",
    "                          --n_marker_per_cmp 50 \\\n",
    "                          --seed 2 \\\n",
    "                          -n 64 \\\n",
    "                          --use_cvae false\n",
    "'''\n",
    "\n",
    "subprocess.run(cmd, check=True, text=True, shell=True)"
   ]
  }
 ],
 "metadata": {
  "kernelspec": {
   "display_name": "Python 3 (ipykernel)",
   "language": "python",
   "name": "python3"
  },
  "language_info": {
   "codemirror_mode": {
    "name": "ipython",
    "version": 3
   },
   "file_extension": ".py",
   "mimetype": "text/x-python",
   "name": "python",
   "nbconvert_exporter": "python",
   "pygments_lexer": "ipython3",
   "version": "3.9.12"
  }
 },
 "nbformat": 4,
 "nbformat_minor": 5
}
