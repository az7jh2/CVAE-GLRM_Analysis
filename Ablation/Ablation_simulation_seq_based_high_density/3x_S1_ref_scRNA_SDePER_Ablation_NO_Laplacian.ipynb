{
 "cells": [
  {
   "cell_type": "markdown",
   "id": "db496b92",
   "metadata": {},
   "source": [
    "# Run Ablation Test on *SDePER* on sequencing-based 3x simulated data: Scenario 1 + scRNA-seq data as reference + WITHOUT spatial correlation constraint\n",
    "\n",
    "In this Notebook we run **ablation test** on SDePER on simulated data. For generating **sequencing-based high density** simulated data via coarse-graining procedure please refer [generate_simulated_spatial_data.nb.html](https://rawcdn.githack.com/az7jh2/SDePER_Analysis/d22e0c9b4574530a8ecbdf620638f2527ec20c5e/Simulation_seq_based/Generate_high_density_simulation_data/generate_simulated_spatial_data.nb.html) in [Generate_high_density_simulation_data](https://github.com/az7jh2/SDePER_Analysis/tree/main/Simulation_seq_based/Generate_high_density_simulation_data) folder.\n",
    "\n",
    "**Scenario 1** means the reference data for deconvolution includes all single cells with the **matched 12 cell types**.\n",
    "\n",
    "**scRNA-seq data as reference** means the reference data is another scRNA-seq data ([GSE115746](https://www.ncbi.nlm.nih.gov/geo/query/acc.cgi?acc=GSE115746)) from the same tissue with simulated spatial data, therefore **platform effect exists**.\n",
    "\n",
    "**WITHOUT spatial correlation constraint** means we fit the graph Laplacian regularized model the spatial correlation constraint, essentially removing Laplacian regularization (by setting the command option `--lambda_g` to 0).\n",
    "\n",
    "==================================================================================================================\n",
    "\n",
    "So here we use the **3 input files** as shown below:\n",
    "\n",
    "!!! NOTE here we directly use CVAE transformed spatial transcriptomic data and scRNA-seq marker gene profile as input, which can be found in [diagnosis file](https://github.com/az7jh2/SDePER_Analysis/blob/main/Simulation_seq_based/Run_SDePER_on_high_density_simulation_data/Scenario_1/ref_scRNA_seq/3x_S1_ref_scRNA_SDePER_WITH_CVAE_diagnosis.tar) generated in baseline run [3x_S1_ref_scRNA_SDePER_WITH_CVAE.ipynb](https://github.com/az7jh2/SDePER_Analysis/blob/main/Simulation_seq_based/Run_SDePER_on_high_density_simulation_data/Scenario_1/ref_scRNA_seq/3x_S1_ref_scRNA_SDePER_WITH_CVAE.ipynb) !!!\n",
    "\n",
    "1. nUMI-like counts of transformed spatial transcriptomic data (spots × genes): `spatial_spots_transformToscRNA_decoded.csv`\n",
    "2. reference cell type specific marker gene expression (cell types × genes): modified `scRNA_decoded_avg_exp_bycelltypes.csv` to include only selected marker genes in `redo_DE_celltype_markers.csv`\n",
    "3. adjacency matrix of spots in simulated spatial transcriptomic data (spots × spots): [sim_spatial_spot_adjacency_matrix.csv](https://github.com/az7jh2/SDePER_Analysis/blob/main/Simulation/Generate_simulation_data/sim_spatial_spot_adjacency_matrix.csv)\n",
    "\n",
    "==================================================================================================================\n",
    "\n",
    "SDePER settings are the same as baseline run [3x_S1_ref_scRNA_SDePER_WITH_CVAE.ipynb](https://github.com/az7jh2/SDePER_Analysis/blob/main/Simulation_seq_based/Run_SDePER_on_high_density_simulation_data/Scenario_1/ref_scRNA_seq/3x_S1_ref_scRNA_SDePER_WITH_CVAE.ipynb), and we discarded unneeded command-line options further disabled the additive platform effect term by manually adjusted the source code:\n",
    "\n",
    "* number of used CPU cores `n_core`: 64\n",
    "\n",
    "ALL other options are left as default.\n",
    "\n",
    "**For ablation test, set hyper-parameter for Graph Laplacian Constrain `lambda_g` as 0**.\n",
    "\n",
    "==================================================================================================================\n",
    "\n",
    "the `bash` command to start cell type deconvolution is\n",
    "\n",
    "`runDeconvolution -q spatial_spots_transformToscRNA_decoded.csv -m scRNA_decoded_avg_exp_bycelltypes.csv -a sim_spatial_spot_adjacency_matrix.csv -n 64 --lambda_g 0`\n",
    "\n",
    "Note this Notebook uses **SDePER v1.2.1**. Cell type deconvolution result is renamed as [3x_S1_ref_scRNA_SDePER_Ablation_NO_Laplacian_celltype_proportions.csv](https://github.com/az7jh2/SDePER_Analysis/blob/main/Ablation/Ablation_simulation_seq_based_high_density/3x_S1_ref_scRNA_SDePER_Ablation_NO_Laplacian_celltype_proportions.csv)."
   ]
  },
  {
   "cell_type": "code",
   "execution_count": 1,
   "id": "c79e85ea-1046-4758-bc8b-7d0dcddfbfb6",
   "metadata": {},
   "outputs": [
    {
     "name": "stdout",
     "output_type": "stream",
     "text": [
      "got 826 genes for 12 cell types\n",
      "got 569 marker genes for downstream analysis\n"
     ]
    }
   ],
   "source": [
    "# modify cell type specific marker gene expression profile to included only selected markers\n",
    "import pandas as pd\n",
    "\n",
    "marker_df = pd.read_csv('scRNA_decoded_avg_exp_bycelltypes.csv', index_col=0)\n",
    "print(f'got {marker_df.shape[1]} genes for {marker_df.shape[0]} cell types')\n",
    "\n",
    "de_gene_df = pd.read_csv('redo_DE_celltype_markers.csv')\n",
    "de_gene_list = list(de_gene_df.loc[de_gene_df['selected']==1, 'gene'].unique())\n",
    "print(f'got {len(de_gene_list)} marker genes for downstream analysis')\n",
    "\n",
    "marker_df[de_gene_list].to_csv('scRNA_decoded_avg_exp_bycelltypes.csv')"
   ]
  },
  {
   "cell_type": "code",
   "execution_count": 2,
   "id": "df9e3939",
   "metadata": {},
   "outputs": [
    {
     "name": "stdout",
     "output_type": "stream",
     "text": [
      "\n",
      "SDePER (Spatial Deconvolution method with Platform Effect Removal) v1.2.1\n",
      "\n",
      "WARNING: building CVAE requires reference scRNA-seq data and corresponding cell-type annotation specified! But at least one of them is not specified. use_cvae will be reset to `False`!\n",
      "\n",
      "running options:\n",
      "spatial_file: /home/exouser/Spatial/spatial_spots_transformToscRNA_decoded.csv\n",
      "ref_file: None\n",
      "ref_celltype_file: None\n",
      "marker_file: /home/exouser/Spatial/scRNA_decoded_avg_exp_bycelltypes.csv\n",
      "loc_file: None\n",
      "A_file: /home/exouser/Spatial/sim_spatial_spot_adjacency_matrix.csv\n",
      "n_cores: 64\n",
      "threshold: 0\n",
      "use_cvae: False\n",
      "use_imputation: False\n",
      "diagnosis: False\n",
      "verbose: True\n",
      "use_fdr: True\n",
      "p_val_cutoff: 0.05\n",
      "fc_cutoff: 1.2\n",
      "pct1_cutoff: 0.3\n",
      "pct2_cutoff: 0.1\n",
      "sortby_fc: True\n",
      "n_marker_per_cmp: 20\n",
      "filter_cell: True\n",
      "filter_gene: True\n",
      "n_hv_gene: 200\n",
      "n_pseudo_spot: 500000\n",
      "pseudo_spot_min_cell: 2\n",
      "pseudo_spot_max_cell: 8\n",
      "seq_depth_scaler: 10000\n",
      "cvae_input_scaler: 10\n",
      "cvae_init_lr: 0.01\n",
      "num_hidden_layer: 2\n",
      "use_batch_norm: True\n",
      "cvae_train_epoch: 500\n",
      "use_spatial_pseudo: False\n",
      "redo_de: True\n",
      "seed: 383\n",
      "lambda_r: [0.1, 0.268, 0.72, 1.931, 5.179, 13.895, 37.276, 100.0]\n",
      "lambda_g: 0.0\n",
      "diameter: 200\n",
      "impute_diameter: [160, 114, 80]\n",
      "\n",
      "\n",
      "######### Preprocessing... #########\n",
      "\n",
      "building CVAE skipped...\n",
      "\n",
      "read spatial data from file /home/exouser/Spatial/spatial_spots_transformToscRNA_decoded.csv\n",
      "total 581 spots; 826 genes\n",
      "\n",
      "filtering genes present in <3 spots: 20 genes removed\n",
      "\n",
      "user provided marker gene profile, DE will be skipped...\n",
      "\n",
      "read 569 marker genes from user specified marker gene file\n",
      "from user specified marker gene expression use 560 marker genes overlapped with spatial + scRNA-seq data\n",
      "\n",
      "gene filtering before modeling...\n",
      "all genes passed filtering\n",
      "\n",
      "spot filtering before modeling...\n",
      "all spots passed filtering\n",
      "\n",
      "\n",
      "######### Start GLRM modeling... #########\n",
      "\n",
      "GLRM settings:\n",
      "use SciPy minimize method:  L-BFGS-B\n",
      "global optimization turned off, local minimum will be used in GLRM\n",
      "use hybrid version of GLRM\n",
      "Numba detected total 64 available CPU cores. Use 64 CPU cores\n",
      "use 2001 points to calculate the heavy-tail density\n",
      "use weight threshold for Adaptive Lasso:  0.001\n",
      "total 287 unique nUMIs, min: 0, max: 1393\n",
      "\n",
      "Build graph: \n",
      " Graph with 581 nodes and 1029 edges\n",
      "\n",
      "estimation of gene-specific platform effect gamma_g is skipped as already using CVAE to adjust platform effect\n",
      "\n",
      "\n",
      "Start GLRM fitting...\n",
      "\n",
      "first estimate MLE theta and corresponding e^alpha and sigma^2...\n",
      "\n",
      "GLRM model initialization...\n",
      "calculate MLE theta and sigma^2 iteratively...\n",
      "  iter | time_opt | time_sig | sigma2\n",
      "     0 |   20.014 |    4.520 |  0.388\n",
      "     1 |   14.058 |    2.895 |  0.241\n",
      "     2 |   12.382 |    3.023 |  0.206\n",
      "     3 |   10.077 |    2.495 |  0.198\n",
      "     4 |    8.484 |    4.964 |  0.196\n",
      "     5 |    5.883 |    2.140 |  0.195\n",
      "MLE theta and sigma^2 calculation finished. Elapsed time: 1.52 minutes.\n",
      "MLE theta estimation finished. Elapsed time: 1.52 minutes.\n",
      "\n",
      "calculate weights of Adaptive Lasso...\n",
      "\n",
      "Stage 1: variable selection using Adaptive Lasso starts with the MLE theta and e^alpha, using already estimated sigma^2 and gamma_g...\n",
      "specified hyper-parameter for Adaptive Lasso is: [0.1, 0.268, 0.72, 1.931, 5.179, 13.895, 37.276, 100.0]\n",
      "hyper-parameter for Adaptive Lasso: use cross-validation to find the optimal value from 8 candidates...\n",
      "\n",
      "Start cross-validation for hyper-parameter lambda_r...\n",
      "directly estimate theta by Adaptive Lasso loss function as NO Graph Laplacian constrain!\n",
      "0%...11%...22%...33%...44%...56%...67%...78%...early stop\n",
      "find optimal lambda_r 1.931 with average negative log-likelihood 54606.7333 by 5 fold cross-validation. Elapsed time: 8.44 minutes.\n",
      "\n",
      "\n",
      "start ADMM iteration...\n",
      "  iter |  res_pri_n | res_dual_n |    eps_pri |   eps_dual |        rho |    new_rho | time_opt | time_reg | time_lap | tilde_RMSE |   hat_RMSE\n",
      "     0 |     12.564 |     12.564 |      0.131 |      0.131 |       1.00 |       1.00 |    3.344 |    0.000 |    0.004 |   0.207720 |   0.103860\n",
      "     1 |     12.547 |      0.064 |      0.131 |      0.143 |       1.00 |       2.00 |    7.045 |    0.000 |    0.003 |   0.207428 |   0.103714\n",
      "     2 |     12.484 |      0.281 |      0.131 |      0.168 |       2.00 |       4.00 |    7.916 |    0.000 |    0.003 |   0.206533 |   0.103267\n",
      "     3 |     10.171 |     15.165 |      0.133 |      0.208 |       4.00 |       8.00 |    9.316 |    0.000 |    0.003 |   0.170545 |   0.085272\n",
      "     4 |      7.435 |     33.621 |      0.152 |      0.263 |       8.00 |       8.00 |    9.585 |    0.000 |    0.003 |   0.116410 |   0.058205\n",
      "     5 |      5.635 |     33.737 |      0.152 |      0.295 |       8.00 |       8.00 |    8.630 |    0.000 |    0.003 |   0.085663 |   0.042831\n",
      "     6 |      5.101 |     23.396 |      0.141 |      0.316 |       8.00 |      16.00 |   10.575 |    0.000 |    0.003 |   0.080942 |   0.040471\n",
      "     7 |      4.159 |     26.389 |      0.144 |      0.358 |      16.00 |      16.00 |    9.498 |    0.000 |    0.003 |   0.064235 |   0.032117\n",
      "     8 |      3.247 |     30.401 |      0.148 |      0.394 |      16.00 |      16.00 |    8.432 |    0.000 |    0.003 |   0.046742 |   0.023371\n",
      "     9 |      2.770 |     24.781 |      0.143 |      0.421 |      16.00 |      32.00 |    8.089 |    0.000 |    0.003 |   0.040773 |   0.020387\n",
      "    10 |      2.326 |     27.651 |      0.146 |      0.470 |      32.00 |      32.00 |    9.081 |    0.000 |    0.003 |   0.034066 |   0.017033\n",
      "    11 |      1.949 |     29.539 |      0.148 |      0.512 |      32.00 |      32.00 |    8.124 |    0.000 |    0.003 |   0.027717 |   0.013859\n",
      "    12 |      1.742 |     24.452 |      0.143 |      0.547 |      32.00 |      64.00 |    7.909 |    0.000 |    0.003 |   0.024733 |   0.012366\n",
      "    13 |      1.532 |     29.145 |      0.147 |      0.616 |      64.00 |      64.00 |    8.616 |    0.000 |    0.003 |   0.021702 |   0.010851\n",
      "    14 |      1.315 |     34.061 |      0.152 |      0.677 |      64.00 |      64.00 |    8.316 |    0.000 |    0.003 |   0.018429 |   0.009215\n",
      "    15 |      1.152 |     31.541 |      0.150 |      0.727 |      64.00 |     128.00 |    7.922 |    0.000 |    0.003 |   0.016164 |   0.008082\n",
      "    16 |      0.989 |     43.055 |      0.161 |      0.817 |     128.00 |     128.00 |    8.496 |    0.000 |    0.003 |   0.013868 |   0.006934\n",
      "    17 |      0.840 |     46.988 |      0.165 |      0.891 |     128.00 |     128.00 |    7.931 |    0.000 |    0.003 |   0.011658 |   0.005829\n",
      "    18 |      0.737 |     41.835 |      0.160 |      0.950 |     128.00 |     256.00 |    7.945 |    0.000 |    0.003 |   0.010291 |   0.005146\n",
      "    19 |      0.636 |     53.841 |      0.172 |      1.058 |     256.00 |     256.00 |    8.219 |    0.000 |    0.003 |   0.008862 |   0.004431\n",
      "    20 |      0.544 |     59.615 |      0.178 |      1.152 |     256.00 |     256.00 |    8.019 |    0.000 |    0.003 |   0.007524 |   0.003762\n",
      "    21 |      0.481 |     53.011 |      0.171 |      1.230 |     256.00 |     512.00 |    8.324 |    0.000 |    0.003 |   0.006677 |   0.003338\n",
      "    22 |      0.421 |     66.586 |      0.185 |      1.376 |     512.00 |     512.00 |    8.039 |    0.000 |    0.003 |   0.005809 |   0.002905\n",
      "    23 |      0.368 |     72.484 |      0.191 |      1.507 |     512.00 |     512.00 |    7.813 |    0.000 |    0.003 |   0.005004 |   0.002502\n",
      "    24 |      0.324 |     67.882 |      0.186 |      1.617 |     512.00 |    1024.00 |    7.165 |    0.000 |    0.003 |   0.004403 |   0.002202\n",
      "    25 |      0.282 |     91.244 |      0.209 |      1.819 |    1024.00 |    1024.00 |    7.719 |    0.000 |    0.003 |   0.003799 |   0.001900\n",
      "    26 |      0.242 |    100.791 |      0.219 |      1.992 |    1024.00 |    1024.00 |    9.860 |    0.000 |    0.003 |   0.003240 |   0.001620\n",
      "    27 |      0.213 |     91.696 |      0.210 |      2.134 |    1024.00 |    2048.00 |    6.969 |    0.000 |    0.003 |   0.002843 |   0.001421\n",
      "    28 |      0.184 |    116.377 |      0.234 |      2.390 |    2048.00 |    2048.00 |    7.189 |    0.000 |    0.003 |   0.002433 |   0.001217\n",
      "    29 |      0.156 |    128.669 |      0.247 |      2.608 |    2048.00 |    2048.00 |    7.109 |    0.000 |    0.003 |   0.002043 |   0.001021\n",
      "    30 |      0.139 |    114.057 |      0.232 |      2.790 |    2048.00 |    4096.00 |    6.617 |    0.000 |    0.003 |   0.001803 |   0.000901\n",
      "    31 |      0.120 |    141.446 |      0.260 |      3.124 |    4096.00 |    4096.00 |    7.019 |    0.000 |    0.003 |   0.001542 |   0.000771\n",
      "    32 |      0.102 |    159.873 |      0.278 |      3.416 |    4096.00 |    4096.00 |    6.427 |    0.000 |    0.003 |   0.001296 |   0.000648\n",
      "    33 |      0.090 |    146.920 |      0.265 |      3.661 |    4096.00 |    8192.00 |    6.334 |    0.000 |    0.003 |   0.001137 |   0.000569\n",
      "    34 |      0.076 |    196.234 |      0.314 |      4.092 |    8192.00 |    8192.00 |    6.484 |    0.000 |    0.003 |   0.000953 |   0.000476\n",
      "    35 |      0.064 |    221.186 |      0.339 |      4.446 |    8192.00 |    8192.00 |    6.054 |    0.000 |    0.003 |   0.000779 |   0.000389\n",
      "    36 |      0.056 |    195.225 |      0.313 |      4.734 |    8192.00 |   16384.00 |    6.040 |    0.000 |    0.003 |   0.000677 |   0.000339\n",
      "    37 |      0.048 |    230.523 |      0.349 |      5.261 |   16384.00 |   16384.00 |    5.868 |    0.000 |    0.003 |   0.000572 |   0.000286\n",
      "    38 |      0.042 |    245.123 |      0.363 |      5.732 |   16384.00 |   16384.00 |    5.743 |    0.000 |    0.003 |   0.000480 |   0.000240\n",
      "    39 |      0.037 |    231.686 |      0.350 |      6.134 |   16384.00 |   32768.00 |    5.599 |    0.000 |    0.003 |   0.000415 |   0.000207\n",
      "    40 |      0.031 |    312.443 |      0.431 |      6.838 |   32768.00 |   32768.00 |    5.713 |    0.000 |    0.003 |   0.000342 |   0.000171\n",
      "    41 |      0.025 |    346.620 |      0.465 |      7.412 |   32768.00 |   32768.00 |    5.506 |    0.000 |    0.003 |   0.000276 |   0.000138\n",
      "    42 |      0.022 |    315.964 |      0.434 |      7.871 |   32768.00 |   65536.00 |    5.227 |    0.000 |    0.003 |   0.000231 |   0.000116\n",
      "    43 |      0.018 |    391.322 |      0.509 |      8.662 |   65536.00 |   65536.00 |    5.116 |    0.000 |    0.003 |   0.000187 |   0.000094\n",
      "    44 |      0.015 |    430.951 |      0.549 |      9.317 |   65536.00 |   65536.00 |    5.036 |    0.000 |    0.003 |   0.000149 |   0.000074\n",
      "    45 |      0.013 |    390.710 |      0.509 |      9.846 |   65536.00 |  131072.00 |    4.746 |    0.000 |    0.003 |   0.000125 |   0.000062\n",
      "    46 |      0.010 |    488.257 |      0.606 |     10.734 |  131072.00 |  131072.00 |    4.542 |    0.000 |    0.003 |   0.000097 |   0.000049\n",
      "    47 |      0.008 |    516.352 |      0.634 |     11.435 |  131072.00 |  131072.00 |    4.276 |    0.000 |    0.003 |   0.000074 |   0.000037\n",
      "    48 |      0.007 |    449.983 |      0.568 |     11.987 |  131072.00 |          / |    4.373 |    0.000 |    0.003 |   0.000061 |   0.000030\n",
      "early stop!\n",
      "Terminated (optimal) in 49 iterations.\n",
      "One optimization by ADMM finished. Elapsed time: 5.85 minutes.\n",
      "\n",
      "Stage 1 variable selection finished. Elapsed time: 14.28 minutes.\n",
      "\n",
      "Stage 2: final theta estimation with Graph Laplacian Constrain using already estimated sigma^2 and gamma_g\n",
      "specified hyper-parameter for Graph Laplacian Constrain is: 0.0\n",
      "\n",
      "start ADMM iteration...\n",
      "  iter |  res_pri_n | res_dual_n |    eps_pri |   eps_dual |        rho |    new_rho | time_opt | time_reg | time_lap | tilde_RMSE |   hat_RMSE\n",
      "     0 |      8.586 |      8.586 |      0.127 |      0.127 |       1.00 |       1.00 |   10.770 |    0.000 |    0.003 |   0.133218 |   0.066609\n",
      "     1 |      0.000 |      8.586 |      0.127 |      0.127 |       1.00 |          / |    1.879 |    0.000 |    0.003 |   0.000001 |   0.000000\n",
      "early stop!\n",
      "Terminated (optimal) in 2 iterations.\n",
      "One optimization by ADMM finished. Elapsed time: 0.21 minutes.\n",
      "\n",
      "\n",
      "stage 2 finished. Elapsed time: 0.21 minutes.\n",
      "\n",
      "GLRM fitting finished. Elapsed time: 16.01 minutes.\n",
      "\n",
      "\n",
      "Post-processing estimated cell-type proportion theta...\n",
      "hard thresholding small theta values with threshold 0\n",
      "\n",
      "\n",
      "cell type deconvolution finished. Estimate results saved in /home/exouser/Spatial/celltype_proportions.csv. Elapsed time: 0.27 hours.\n",
      "\n",
      "\n",
      "######### No imputation #########\n",
      "\n",
      "\n",
      "whole pipeline finished. Total elapsed time: 0.27 hours.\n"
     ]
    },
    {
     "data": {
      "text/plain": [
       "CompletedProcess(args='runDeconvolution -q spatial_spots_transformToscRNA_decoded.csv                           -m scRNA_decoded_avg_exp_bycelltypes.csv                           -a sim_spatial_spot_adjacency_matrix.csv                           -n 64                           --lambda_g 0\\n', returncode=0)"
      ]
     },
     "execution_count": 2,
     "metadata": {},
     "output_type": "execute_result"
    },
    {
     "name": "stdout",
     "output_type": "stream",
     "text": [
      "42%..."
     ]
    },
    {
     "name": "stdout",
     "output_type": "stream",
     "text": [
      "50%..."
     ]
    },
    {
     "name": "stdout",
     "output_type": "stream",
     "text": [
      "58%..."
     ]
    },
    {
     "name": "stdout",
     "output_type": "stream",
     "text": [
      "67%..."
     ]
    },
    {
     "name": "stdout",
     "output_type": "stream",
     "text": [
      "75%..."
     ]
    },
    {
     "name": "stdout",
     "output_type": "stream",
     "text": [
      "83%..."
     ]
    },
    {
     "name": "stdout",
     "output_type": "stream",
     "text": [
      "92%..."
     ]
    },
    {
     "name": "stdout",
     "output_type": "stream",
     "text": [
      "finally selected 745 cell-type marker genes\n",
      "\n"
     ]
    },
    {
     "name": "stdout",
     "output_type": "stream",
     "text": [
      "\n",
      "use union of highly variable gene list and cell-type marker gene list derived from scRNA-seq data, finally get 826 genes for downstream analysis\n",
      "\n",
      "start CVAE building...\n",
      "\n"
     ]
    },
    {
     "name": "stdout",
     "output_type": "stream",
     "text": [
      "generate 500000 pseudo-spots containing 2 to 8 cells from scRNA-seq cells...\n"
     ]
    },
    {
     "name": "stdout",
     "output_type": "stream",
     "text": [
      "10%..."
     ]
    },
    {
     "name": "stdout",
     "output_type": "stream",
     "text": [
      "20%..."
     ]
    },
    {
     "name": "stdout",
     "output_type": "stream",
     "text": [
      "30%..."
     ]
    },
    {
     "name": "stdout",
     "output_type": "stream",
     "text": [
      "40%..."
     ]
    },
    {
     "name": "stdout",
     "output_type": "stream",
     "text": [
      "50%..."
     ]
    },
    {
     "name": "stdout",
     "output_type": "stream",
     "text": [
      "60%..."
     ]
    },
    {
     "name": "stdout",
     "output_type": "stream",
     "text": [
      "70%..."
     ]
    },
    {
     "name": "stdout",
     "output_type": "stream",
     "text": [
      "80%..."
     ]
    },
    {
     "name": "stdout",
     "output_type": "stream",
     "text": [
      "90%..."
     ]
    },
    {
     "name": "stdout",
     "output_type": "stream",
     "text": [
      "100%...\n",
      "\n"
     ]
    },
    {
     "name": "stdout",
     "output_type": "stream",
     "text": [
      "generate 0 pseudo-spots containing 2 to 6 spots from spatial spots...\n",
      "\n",
      "WARNING: first apply log transformation on sequencing depth normalized gene expressions, followed by Min-Max scaling\n"
     ]
    },
    {
     "name": "stdout",
     "output_type": "stream",
     "text": [
      "\n",
      "                         |  training | validation\n",
      "spatial spots            |       581 |         0\n",
      "spatial pseudo-spots     |         0 |         0\n",
      "scRNA-seq cells          |     11835 |         0\n",
      "scRNA-seq pseudo-spots   |    400000 |    100000\n",
      "\n"
     ]
    },
    {
     "name": "stdout",
     "output_type": "stream",
     "text": [
      "scaling inputs to range 0 to 10\n"
     ]
    },
    {
     "name": "stdout",
     "output_type": "stream",
     "text": [
      "\n",
      "CVAE structure:\n",
      "Encoder: 827 - 172 - 36\n",
      "Decoder: 37 - 172 - 826\n",
      "\n"
     ]
    },
    {
     "name": "stdout",
     "output_type": "stream",
     "text": [
      "\n",
      "Start training...\n",
      "\n"
     ]
    },
    {
     "name": "stdout",
     "output_type": "stream",
     "text": [
      "Train on 412416 samples, validate on 100000 samples\n",
      "Epoch 1/1000\n"
     ]
    },
    {
     "name": "stdout",
     "output_type": "stream",
     "text": [
      "\r",
      "412416/412416 [==============================] - ETA: 0s - loss: 866.4708 - reconstruction_loss: 397.5721 - KL_loss: 25.4153"
     ]
    },
    {
     "name": "stdout",
     "output_type": "stream",
     "text": [
      "\b\b\b\b\b\b\b\b\b\b\b\b\b\b\b\b\b\b\b\b\b\b\b\b\b\b\b\b\b\b\b\b\b\b\b\b\b\b\b\b\b\b\b\b\b\b\b\b\b\b\b\b\b\b\b\b\b\b\b\b\b\b\b\b\b\b\b\b\b\b\b\b\b\b\b\b\b\b\b\b\b\b\b\b\b\b\b\b\b\b\b\b\b\b\b\b\b\b\b\b\b\b\b\b\b\b\b\b\b\b\b\b\b\b\b\b\b\b\b\b\b\b\b\b\r",
      "412416/412416 [==============================] - 16s 39us/sample - loss: 866.4708 - reconstruction_loss: 397.5721 - KL_loss: 25.4153 - val_loss: 386.6019 - val_reconstruction_loss: 360.1484 - val_KL_loss: 26.4535 - lr: 0.0030\n",
      "Epoch 2/1000\n"
     ]
    },
    {
     "name": "stdout",
     "output_type": "stream",
     "text": [
      "\r",
      "412416/412416 [==============================] - ETA: 0s - loss: 741.8735 - reconstruction_loss: 377.5730 - KL_loss: 27.3841"
     ]
    },
    {
     "name": "stdout",
     "output_type": "stream",
     "text": [
      "\b\b\b\b\b\b\b\b\b\b\b\b\b\b\b\b\b\b\b\b\b\b\b\b\b\b\b\b\b\b\b\b\b\b\b\b\b\b\b\b\b\b\b\b\b\b\b\b\b\b\b\b\b\b\b\b\b\b\b\b\b\b\b\b\b\b\b\b\b\b\b\b\b\b\b\b\b\b\b\b\b\b\b\b\b\b\b\b\b\b\b\b\b\b\b\b\b\b\b\b\b\b\b\b\b\b\b\b\b\b\b\b\b\b\b\b\b\b\b\b\b\b\b\b\r",
      "412416/412416 [==============================] - 11s 27us/sample - loss: 741.8735 - reconstruction_loss: 377.5730 - KL_loss: 27.3841 - val_loss: 351.4002 - val_reconstruction_loss: 324.1875 - val_KL_loss: 27.2127 - lr: 0.0030\n",
      "Epoch 3/1000\n"
     ]
    },
    {
     "name": "stdout",
     "output_type": "stream",
     "text": [
      "\r",
      "412416/412416 [==============================] - ETA: 0s - loss: 660.5681 - reconstruction_loss: 339.4036 - KL_loss: 28.1292"
     ]
    },
    {
     "name": "stdout",
     "output_type": "stream",
     "text": [
      "\b\b\b\b\b\b\b\b\b\b\b\b\b\b\b\b\b\b\b\b\b\b\b\b\b\b\b\b\b\b\b\b\b\b\b\b\b\b\b\b\b\b\b\b\b\b\b\b\b\b\b\b\b\b\b\b\b\b\b\b\b\b\b\b\b\b\b\b\b\b\b\b\b\b\b\b\b\b\b\b\b\b\b\b\b\b\b\b\b\b\b\b\b\b\b\b\b\b\b\b\b\b\b\b\b\b\b\b\b\b\b\b\b\b\b\b\b\b\b\b\b\b\b\b\r",
      "412416/412416 [==============================] - 11s 27us/sample - loss: 660.5681 - reconstruction_loss: 339.4036 - KL_loss: 28.1292 - val_loss: 333.1765 - val_reconstruction_loss: 289.1360 - val_KL_loss: 44.0405 - lr: 0.0030\n",
      "Epoch 4/1000\n"
     ]
    },
    {
     "name": "stdout",
     "output_type": "stream",
     "text": [
      "\r",
      "412416/412416 [==============================] - ETA: 0s - loss: 614.6856 - reconstruction_loss: 302.5551 - KL_loss: 45.4904"
     ]
    },
    {
     "name": "stdout",
     "output_type": "stream",
     "text": [
      "\b\b\b\b\b\b\b\b\b\b\b\b\b\b\b\b\b\b\b\b\b\b\b\b\b\b\b\b\b\b\b\b\b\b\b\b\b\b\b\b\b\b\b\b\b\b\b\b\b\b\b\b\b\b\b\b\b\b\b\b\b\b\b\b\b\b\b\b\b\b\b\b\b\b\b\b\b\b\b\b\b\b\b\b\b\b\b\b\b\b\b\b\b\b\b\b\b\b\b\b\b\b\b\b\b\b\b\b\b\b\b\b\b\b\b\b\b\b\b\b\b\b\b\b\r",
      "412416/412416 [==============================] - 11s 27us/sample - loss: 614.6856 - reconstruction_loss: 302.5551 - KL_loss: 45.4904 - val_loss: 294.1496 - val_reconstruction_loss: 255.0302 - val_KL_loss: 39.1195 - lr: 0.0030\n",
      "Epoch 5/1000\n"
     ]
    },
    {
     "name": "stdout",
     "output_type": "stream",
     "text": [
      "\r",
      "412416/412416 [==============================] - ETA: 0s - loss: 543.0936 - reconstruction_loss: 266.9733 - KL_loss: 40.2759"
     ]
    },
    {
     "name": "stdout",
     "output_type": "stream",
     "text": [
      "\b\b\b\b\b\b\b\b\b\b\b\b\b\b\b\b\b\b\b\b\b\b\b\b\b\b\b\b\b\b\b\b\b\b\b\b\b\b\b\b\b\b\b\b\b\b\b\b\b\b\b\b\b\b\b\b\b\b\b\b\b\b\b\b\b\b\b\b\b\b\b\b\b\b\b\b\b\b\b\b\b\b\b\b\b\b\b\b\b\b\b\b\b\b\b\b\b\b\b\b\b\b\b\b\b\b\b\b\b\b\b\b\b\b\b\b\b\b\b\b\b\b\b\b\r",
      "412416/412416 [==============================] - 12s 28us/sample - loss: 543.0936 - reconstruction_loss: 266.9733 - KL_loss: 40.2759 - val_loss: 271.2670 - val_reconstruction_loss: 240.1257 - val_KL_loss: 31.1413 - lr: 0.0030\n",
      "Epoch 6/1000\n"
     ]
    },
    {
     "name": "stdout",
     "output_type": "stream",
     "text": [
      "\r",
      "412416/412416 [==============================] - ETA: 0s - loss: 502.0542 - reconstruction_loss: 251.3539 - KL_loss: 32.0222"
     ]
    },
    {
     "name": "stdout",
     "output_type": "stream",
     "text": [
      "\b\b\b\b\b\b\b\b\b\b\b\b\b\b\b\b\b\b\b\b\b\b\b\b\b\b\b\b\b\b\b\b\b\b\b\b\b\b\b\b\b\b\b\b\b\b\b\b\b\b\b\b\b\b\b\b\b\b\b\b\b\b\b\b\b\b\b\b\b\b\b\b\b\b\b\b\b\b\b\b\b\b\b\b\b\b\b\b\b\b\b\b\b\b\b\b\b\b\b\b\b\b\b\b\b\b\b\b\b\b\b\b\b\b\b\b\b\b\b\b\b\b\b\b\r",
      "412416/412416 [==============================] - 11s 27us/sample - loss: 502.0542 - reconstruction_loss: 251.3539 - KL_loss: 32.0222 - val_loss: 253.6124 - val_reconstruction_loss: 220.2423 - val_KL_loss: 33.3701 - lr: 0.0030\n",
      "Epoch 7/1000\n"
     ]
    },
    {
     "name": "stdout",
     "output_type": "stream",
     "text": [
      "\r",
      "412416/412416 [==============================] - ETA: 0s - loss: 477.8892 - reconstruction_loss: 231.4431 - KL_loss: 34.3577"
     ]
    },
    {
     "name": "stdout",
     "output_type": "stream",
     "text": [
      "\b\b\b\b\b\b\b\b\b\b\b\b\b\b\b\b\b\b\b\b\b\b\b\b\b\b\b\b\b\b\b\b\b\b\b\b\b\b\b\b\b\b\b\b\b\b\b\b\b\b\b\b\b\b\b\b\b\b\b\b\b\b\b\b\b\b\b\b\b\b\b\b\b\b\b\b\b\b\b\b\b\b\b\b\b\b\b\b\b\b\b\b\b\b\b\b\b\b\b\b\b\b\b\b\b\b\b\b\b\b\b\b\b\b\b\b\b\b\b\b\b\b\b\b\r",
      "412416/412416 [==============================] - 11s 27us/sample - loss: 477.8892 - reconstruction_loss: 231.4431 - KL_loss: 34.3577 - val_loss: 236.2160 - val_reconstruction_loss: 206.2781 - val_KL_loss: 29.9378 - lr: 0.0030\n",
      "Epoch 8/1000\n"
     ]
    },
    {
     "name": "stdout",
     "output_type": "stream",
     "text": [
      "\r",
      "412416/412416 [==============================] - ETA: 0s - loss: 446.1914 - reconstruction_loss: 216.9670 - KL_loss: 30.7101"
     ]
    },
    {
     "name": "stdout",
     "output_type": "stream",
     "text": [
      "\b\b\b\b\b\b\b\b\b\b\b\b\b\b\b\b\b\b\b\b\b\b\b\b\b\b\b\b\b\b\b\b\b\b\b\b\b\b\b\b\b\b\b\b\b\b\b\b\b\b\b\b\b\b\b\b\b\b\b\b\b\b\b\b\b\b\b\b\b\b\b\b\b\b\b\b\b\b\b\b\b\b\b\b\b\b\b\b\b\b\b\b\b\b\b\b\b\b\b\b\b\b\b\b\b\b\b\b\b\b\b\b\b\b\b\b\b\b\b\b\b\b\b\b\r",
      "412416/412416 [==============================] - 11s 27us/sample - loss: 446.1914 - reconstruction_loss: 216.9670 - KL_loss: 30.7101 - val_loss: 222.2732 - val_reconstruction_loss: 195.2189 - val_KL_loss: 27.0542 - lr: 0.0030\n",
      "Epoch 9/1000\n"
     ]
    },
    {
     "name": "stdout",
     "output_type": "stream",
     "text": [
      "\r",
      "412416/412416 [==============================] - ETA: 0s - loss: 423.7269 - reconstruction_loss: 205.6149 - KL_loss: 27.6491"
     ]
    },
    {
     "name": "stdout",
     "output_type": "stream",
     "text": [
      "\b\b\b\b\b\b\b\b\b\b\b\b\b\b\b\b\b\b\b\b\b\b\b\b\b\b\b\b\b\b\b\b\b\b\b\b\b\b\b\b\b\b\b\b\b\b\b\b\b\b\b\b\b\b\b\b\b\b\b\b\b\b\b\b\b\b\b\b\b\b\b\b\b\b\b\b\b\b\b\b\b\b\b\b\b\b\b\b\b\b\b\b\b\b\b\b\b\b\b\b\b\b\b\b\b\b\b\b\b\b\b\b\b\b\b\b\b\b\b\b\b\b\b\b\r",
      "412416/412416 [==============================] - 11s 27us/sample - loss: 423.7269 - reconstruction_loss: 205.6149 - KL_loss: 27.6491 - val_loss: 219.3801 - val_reconstruction_loss: 188.0307 - val_KL_loss: 31.3493 - lr: 0.0030\n",
      "Epoch 10/1000\n"
     ]
    },
    {
     "name": "stdout",
     "output_type": "stream",
     "text": [
      "\r",
      "412416/412416 [==============================] - ETA: 0s - loss: 415.4983 - reconstruction_loss: 198.5975 - KL_loss: 31.9859"
     ]
    },
    {
     "name": "stdout",
     "output_type": "stream",
     "text": [
      "\b\b\b\b\b\b\b\b\b\b\b\b\b\b\b\b\b\b\b\b\b\b\b\b\b\b\b\b\b\b\b\b\b\b\b\b\b\b\b\b\b\b\b\b\b\b\b\b\b\b\b\b\b\b\b\b\b\b\b\b\b\b\b\b\b\b\b\b\b\b\b\b\b\b\b\b\b\b\b\b\b\b\b\b\b\b\b\b\b\b\b\b\b\b\b\b\b\b\b\b\b\b\b\b\b\b\b\b\b\b\b\b\b\b\b\b\b\b\b\b\b\b\b\b\r",
      "412416/412416 [==============================] - 11s 27us/sample - loss: 415.4983 - reconstruction_loss: 198.5975 - KL_loss: 31.9859 - val_loss: 204.6224 - val_reconstruction_loss: 174.3371 - val_KL_loss: 30.2852 - lr: 0.0030\n",
      "Epoch 11/1000\n"
     ]
    },
    {
     "name": "stdout",
     "output_type": "stream",
     "text": [
      "\r",
      "412416/412416 [==============================] - ETA: 0s - loss: 393.0771 - reconstruction_loss: 184.6828 - KL_loss: 30.8152"
     ]
    },
    {
     "name": "stdout",
     "output_type": "stream",
     "text": [
      "\b\b\b\b\b\b\b\b\b\b\b\b\b\b\b\b\b\b\b\b\b\b\b\b\b\b\b\b\b\b\b\b\b\b\b\b\b\b\b\b\b\b\b\b\b\b\b\b\b\b\b\b\b\b\b\b\b\b\b\b\b\b\b\b\b\b\b\b\b\b\b\b\b\b\b\b\b\b\b\b\b\b\b\b\b\b\b\b\b\b\b\b\b\b\b\b\b\b\b\b\b\b\b\b\b\b\b\b\b\b\b\b\b\b\b\b\b\b\b\b\b\b\b\b\r",
      "412416/412416 [==============================] - 11s 27us/sample - loss: 393.0771 - reconstruction_loss: 184.6828 - KL_loss: 30.8152 - val_loss: 206.7611 - val_reconstruction_loss: 180.2834 - val_KL_loss: 26.4777 - lr: 0.0030\n",
      "Epoch 12/1000\n"
     ]
    },
    {
     "name": "stdout",
     "output_type": "stream",
     "text": [
      "\r",
      "412416/412416 [==============================] - ETA: 0s - loss: 395.1206 - reconstruction_loss: 190.7408 - KL_loss: 26.8583"
     ]
    },
    {
     "name": "stdout",
     "output_type": "stream",
     "text": [
      "\b\b\b\b\b\b\b\b\b\b\b\b\b\b\b\b\b\b\b\b\b\b\b\b\b\b\b\b\b\b\b\b\b\b\b\b\b\b\b\b\b\b\b\b\b\b\b\b\b\b\b\b\b\b\b\b\b\b\b\b\b\b\b\b\b\b\b\b\b\b\b\b\b\b\b\b\b\b\b\b\b\b\b\b\b\b\b\b\b\b\b\b\b\b\b\b\b\b\b\b\b\b\b\b\b\b\b\b\b\b\b\b\b\b\b\b\b\b\b\b\b\b\b\b\r",
      "412416/412416 [==============================] - 11s 27us/sample - loss: 395.1206 - reconstruction_loss: 190.7408 - KL_loss: 26.8583 - val_loss: 195.1775 - val_reconstruction_loss: 168.5028 - val_KL_loss: 26.6747 - lr: 0.0030\n",
      "Epoch 13/1000\n"
     ]
    },
    {
     "name": "stdout",
     "output_type": "stream",
     "text": [
      "\r",
      "412416/412416 [==============================] - ETA: 0s - loss: 375.8486 - reconstruction_loss: 178.8432 - KL_loss: 27.0397"
     ]
    },
    {
     "name": "stdout",
     "output_type": "stream",
     "text": [
      "\b\b\b\b\b\b\b\b\b\b\b\b\b\b\b\b\b\b\b\b\b\b\b\b\b\b\b\b\b\b\b\b\b\b\b\b\b\b\b\b\b\b\b\b\b\b\b\b\b\b\b\b\b\b\b\b\b\b\b\b\b\b\b\b\b\b\b\b\b\b\b\b\b\b\b\b\b\b\b\b\b\b\b\b\b\b\b\b\b\b\b\b\b\b\b\b\b\b\b\b\b\b\b\b\b\b\b\b\b\b\b\b\b\b\b\b\b\b\b\b\b\b\b\b\r",
      "412416/412416 [==============================] - 11s 27us/sample - loss: 375.8486 - reconstruction_loss: 178.8432 - KL_loss: 27.0397 - val_loss: 187.2280 - val_reconstruction_loss: 157.6516 - val_KL_loss: 29.5764 - lr: 0.0030\n",
      "Epoch 14/1000\n"
     ]
    },
    {
     "name": "stdout",
     "output_type": "stream",
     "text": [
      "\r",
      "412416/412416 [==============================] - ETA: 0s - loss: 364.9897 - reconstruction_loss: 167.7737 - KL_loss: 30.0177"
     ]
    },
    {
     "name": "stdout",
     "output_type": "stream",
     "text": [
      "\b\b\b\b\b\b\b\b\b\b\b\b\b\b\b\b\b\b\b\b\b\b\b\b\b\b\b\b\b\b\b\b\b\b\b\b\b\b\b\b\b\b\b\b\b\b\b\b\b\b\b\b\b\b\b\b\b\b\b\b\b\b\b\b\b\b\b\b\b\b\b\b\b\b\b\b\b\b\b\b\b\b\b\b\b\b\b\b\b\b\b\b\b\b\b\b\b\b\b\b\b\b\b\b\b\b\b\b\b\b\b\b\b\b\b\b\b\b\b\b\b\b\b\b\r",
      "412416/412416 [==============================] - 11s 27us/sample - loss: 364.9897 - reconstruction_loss: 167.7737 - KL_loss: 30.0177 - val_loss: 182.2939 - val_reconstruction_loss: 152.8852 - val_KL_loss: 29.4087 - lr: 0.0030\n",
      "Epoch 15/1000\n"
     ]
    },
    {
     "name": "stdout",
     "output_type": "stream",
     "text": [
      "\r",
      "412416/412416 [==============================] - ETA: 0s - loss: 357.3849 - reconstruction_loss: 162.8768 - KL_loss: 29.8336"
     ]
    },
    {
     "name": "stdout",
     "output_type": "stream",
     "text": [
      "\b\b\b\b\b\b\b\b\b\b\b\b\b\b\b\b\b\b\b\b\b\b\b\b\b\b\b\b\b\b\b\b\b\b\b\b\b\b\b\b\b\b\b\b\b\b\b\b\b\b\b\b\b\b\b\b\b\b\b\b\b\b\b\b\b\b\b\b\b\b\b\b\b\b\b\b\b\b\b\b\b\b\b\b\b\b\b\b\b\b\b\b\b\b\b\b\b\b\b\b\b\b\b\b\b\b\b\b\b\b\b\b\b\b\b\b\b\b\b\b\b\b\b\b\r",
      "412416/412416 [==============================] - 11s 27us/sample - loss: 357.3849 - reconstruction_loss: 162.8768 - KL_loss: 29.8336 - val_loss: 172.3185 - val_reconstruction_loss: 145.4131 - val_KL_loss: 26.9054 - lr: 0.0030\n",
      "Epoch 16/1000\n"
     ]
    },
    {
     "name": "stdout",
     "output_type": "stream",
     "text": [
      "\r",
      "412416/412416 [==============================] - ETA: 0s - loss: 340.1560 - reconstruction_loss: 155.5192 - KL_loss: 27.2428"
     ]
    },
    {
     "name": "stdout",
     "output_type": "stream",
     "text": [
      "\b\b\b\b\b\b\b\b\b\b\b\b\b\b\b\b\b\b\b\b\b\b\b\b\b\b\b\b\b\b\b\b\b\b\b\b\b\b\b\b\b\b\b\b\b\b\b\b\b\b\b\b\b\b\b\b\b\b\b\b\b\b\b\b\b\b\b\b\b\b\b\b\b\b\b\b\b\b\b\b\b\b\b\b\b\b\b\b\b\b\b\b\b\b\b\b\b\b\b\b\b\b\b\b\b\b\b\b\b\b\b\b\b\b\b\b\b\b\b\b\b\b\b\b\r",
      "412416/412416 [==============================] - 11s 27us/sample - loss: 340.1560 - reconstruction_loss: 155.5192 - KL_loss: 27.2428 - val_loss: 164.9543 - val_reconstruction_loss: 138.2731 - val_KL_loss: 26.6812 - lr: 0.0030\n",
      "Epoch 17/1000\n"
     ]
    },
    {
     "name": "stdout",
     "output_type": "stream",
     "text": [
      "\r",
      "412416/412416 [==============================] - ETA: 0s - loss: 328.8593 - reconstruction_loss: 148.1438 - KL_loss: 27.0033"
     ]
    },
    {
     "name": "stdout",
     "output_type": "stream",
     "text": [
      "\b\b\b\b\b\b\b\b\b\b\b\b\b\b\b\b\b\b\b\b\b\b\b\b\b\b\b\b\b\b\b\b\b\b\b\b\b\b\b\b\b\b\b\b\b\b\b\b\b\b\b\b\b\b\b\b\b\b\b\b\b\b\b\b\b\b\b\b\b\b\b\b\b\b\b\b\b\b\b\b\b\b\b\b\b\b\b\b\b\b\b\b\b\b\b\b\b\b\b\b\b\b\b\b\b\b\b\b\b\b\b\b\b\b\b\b\b\b\b\b\b\b\b\b\r",
      "412416/412416 [==============================] - 11s 27us/sample - loss: 328.8593 - reconstruction_loss: 148.1438 - KL_loss: 27.0033 - val_loss: 169.5701 - val_reconstruction_loss: 141.5829 - val_KL_loss: 27.9873 - lr: 0.0030\n",
      "Epoch 18/1000\n"
     ]
    },
    {
     "name": "stdout",
     "output_type": "stream",
     "text": [
      "\r",
      "412416/412416 [==============================] - ETA: 0s - loss: 332.6852 - reconstruction_loss: 150.9883 - KL_loss: 28.3785"
     ]
    },
    {
     "name": "stdout",
     "output_type": "stream",
     "text": [
      "\b\b\b\b\b\b\b\b\b\b\b\b\b\b\b\b\b\b\b\b\b\b\b\b\b\b\b\b\b\b\b\b\b\b\b\b\b\b\b\b\b\b\b\b\b\b\b\b\b\b\b\b\b\b\b\b\b\b\b\b\b\b\b\b\b\b\b\b\b\b\b\b\b\b\b\b\b\b\b\b\b\b\b\b\b\b\b\b\b\b\b\b\b\b\b\b\b\b\b\b\b\b\b\b\b\b\b\b\b\b\b\b\b\b\b\b\b\b\b\b\b\b\b\b\r",
      "412416/412416 [==============================] - 11s 27us/sample - loss: 332.6852 - reconstruction_loss: 150.9883 - KL_loss: 28.3785 - val_loss: 163.9697 - val_reconstruction_loss: 136.7939 - val_KL_loss: 27.1758 - lr: 0.0030\n",
      "Epoch 19/1000\n"
     ]
    },
    {
     "name": "stdout",
     "output_type": "stream",
     "text": [
      "\r",
      "412416/412416 [==============================] - ETA: 0s - loss: 323.8156 - reconstruction_loss: 146.1258 - KL_loss: 27.5700"
     ]
    },
    {
     "name": "stdout",
     "output_type": "stream",
     "text": [
      "\b\b\b\b\b\b\b\b\b\b\b\b\b\b\b\b\b\b\b\b\b\b\b\b\b\b\b\b\b\b\b\b\b\b\b\b\b\b\b\b\b\b\b\b\b\b\b\b\b\b\b\b\b\b\b\b\b\b\b\b\b\b\b\b\b\b\b\b\b\b\b\b\b\b\b\b\b\b\b\b\b\b\b\b\b\b\b\b\b\b\b\b\b\b\b\b\b\b\b\b\b\b\b\b\b\b\b\b\b\b\b\b\b\b\b\b\b\b\b\b\b\b\b\b\r",
      "412416/412416 [==============================] - 11s 27us/sample - loss: 323.8156 - reconstruction_loss: 146.1258 - KL_loss: 27.5700 - val_loss: 157.4956 - val_reconstruction_loss: 132.3976 - val_KL_loss: 25.0980 - lr: 0.0030\n",
      "Epoch 20/1000\n"
     ]
    },
    {
     "name": "stdout",
     "output_type": "stream",
     "text": [
      "\r",
      "412416/412416 [==============================] - ETA: 0s - loss: 316.8004 - reconstruction_loss: 141.8425 - KL_loss: 25.4380"
     ]
    },
    {
     "name": "stdout",
     "output_type": "stream",
     "text": [
      "\b\b\b\b\b\b\b\b\b\b\b\b\b\b\b\b\b\b\b\b\b\b\b\b\b\b\b\b\b\b\b\b\b\b\b\b\b\b\b\b\b\b\b\b\b\b\b\b\b\b\b\b\b\b\b\b\b\b\b\b\b\b\b\b\b\b\b\b\b\b\b\b\b\b\b\b\b\b\b\b\b\b\b\b\b\b\b\b\b\b\b\b\b\b\b\b\b\b\b\b\b\b\b\b\b\b\b\b\b\b\b\b\b\b\b\b\b\b\b\b\b\b\b\b\r",
      "412416/412416 [==============================] - 13s 31us/sample - loss: 316.8004 - reconstruction_loss: 141.8425 - KL_loss: 25.4380 - val_loss: 155.5052 - val_reconstruction_loss: 130.2857 - val_KL_loss: 25.2194 - lr: 0.0030\n",
      "Epoch 21/1000\n"
     ]
    },
    {
     "name": "stdout",
     "output_type": "stream",
     "text": [
      "\r",
      "412416/412416 [==============================] - ETA: 0s - loss: 312.3727 - reconstruction_loss: 139.5145 - KL_loss: 25.5520"
     ]
    },
    {
     "name": "stdout",
     "output_type": "stream",
     "text": [
      "\b\b\b\b\b\b\b\b\b\b\b\b\b\b\b\b\b\b\b\b\b\b\b\b\b\b\b\b\b\b\b\b\b\b\b\b\b\b\b\b\b\b\b\b\b\b\b\b\b\b\b\b\b\b\b\b\b\b\b\b\b\b\b\b\b\b\b\b\b\b\b\b\b\b\b\b\b\b\b\b\b\b\b\b\b\b\b\b\b\b\b\b\b\b\b\b\b\b\b\b\b\b\b\b\b\b\b\b\b\b\b\b\b\b\b\b\b\b\b\b\b\b\b\b\r",
      "412416/412416 [==============================] - 12s 28us/sample - loss: 312.3727 - reconstruction_loss: 139.5145 - KL_loss: 25.5520 - val_loss: 151.2981 - val_reconstruction_loss: 124.7940 - val_KL_loss: 26.5041 - lr: 0.0030\n",
      "Epoch 22/1000\n"
     ]
    },
    {
     "name": "stdout",
     "output_type": "stream",
     "text": [
      "\r",
      "412416/412416 [==============================] - ETA: 0s - loss: 304.3268 - reconstruction_loss: 133.7406 - KL_loss: 26.8888"
     ]
    },
    {
     "name": "stdout",
     "output_type": "stream",
     "text": [
      "\b\b\b\b\b\b\b\b\b\b\b\b\b\b\b\b\b\b\b\b\b\b\b\b\b\b\b\b\b\b\b\b\b\b\b\b\b\b\b\b\b\b\b\b\b\b\b\b\b\b\b\b\b\b\b\b\b\b\b\b\b\b\b\b\b\b\b\b\b\b\b\b\b\b\b\b\b\b\b\b\b\b\b\b\b\b\b\b\b\b\b\b\b\b\b\b\b\b\b\b\b\b\b\b\b\b\b\b\b\b\b\b\b\b\b\b\b\b\b\b\b\b\b\b\r",
      "412416/412416 [==============================] - 11s 27us/sample - loss: 304.3268 - reconstruction_loss: 133.7406 - KL_loss: 26.8888 - val_loss: 148.1800 - val_reconstruction_loss: 122.0628 - val_KL_loss: 26.1172 - lr: 0.0030\n",
      "Epoch 23/1000\n"
     ]
    },
    {
     "name": "stdout",
     "output_type": "stream",
     "text": [
      "\r",
      "412416/412416 [==============================] - ETA: 0s - loss: 300.0140 - reconstruction_loss: 130.8895 - KL_loss: 26.5374"
     ]
    },
    {
     "name": "stdout",
     "output_type": "stream",
     "text": [
      "\b\b\b\b\b\b\b\b\b\b\b\b\b\b\b\b\b\b\b\b\b\b\b\b\b\b\b\b\b\b\b\b\b\b\b\b\b\b\b\b\b\b\b\b\b\b\b\b\b\b\b\b\b\b\b\b\b\b\b\b\b\b\b\b\b\b\b\b\b\b\b\b\b\b\b\b\b\b\b\b\b\b\b\b\b\b\b\b\b\b\b\b\b\b\b\b\b\b\b\b\b\b\b\b\b\b\b\b\b\b\b\b\b\b\b\b\b\b\b\b\b\b\b\b\r",
      "412416/412416 [==============================] - 11s 27us/sample - loss: 300.0140 - reconstruction_loss: 130.8895 - KL_loss: 26.5374 - val_loss: 147.4781 - val_reconstruction_loss: 122.2394 - val_KL_loss: 25.2387 - lr: 0.0030\n",
      "Epoch 24/1000\n"
     ]
    },
    {
     "name": "stdout",
     "output_type": "stream",
     "text": [
      "\r",
      "412416/412416 [==============================] - ETA: 0s - loss: 296.9019 - reconstruction_loss: 131.1128 - KL_loss: 25.6254"
     ]
    },
    {
     "name": "stdout",
     "output_type": "stream",
     "text": [
      "\b\b\b\b\b\b\b\b\b\b\b\b\b\b\b\b\b\b\b\b\b\b\b\b\b\b\b\b\b\b\b\b\b\b\b\b\b\b\b\b\b\b\b\b\b\b\b\b\b\b\b\b\b\b\b\b\b\b\b\b\b\b\b\b\b\b\b\b\b\b\b\b\b\b\b\b\b\b\b\b\b\b\b\b\b\b\b\b\b\b\b\b\b\b\b\b\b\b\b\b\b\b\b\b\b\b\b\b\b\b\b\b\b\b\b\b\b\b\b\b\b\b\b\b\r",
      "412416/412416 [==============================] - 11s 27us/sample - loss: 296.9019 - reconstruction_loss: 131.1128 - KL_loss: 25.6254 - val_loss: 144.3117 - val_reconstruction_loss: 118.5646 - val_KL_loss: 25.7471 - lr: 0.0030\n",
      "Epoch 25/1000\n"
     ]
    },
    {
     "name": "stdout",
     "output_type": "stream",
     "text": [
      "\r",
      "412416/412416 [==============================] - ETA: 0s - loss: 292.5589 - reconstruction_loss: 127.3890 - KL_loss: 26.1406"
     ]
    },
    {
     "name": "stdout",
     "output_type": "stream",
     "text": [
      "\b\b\b\b\b\b\b\b\b\b\b\b\b\b\b\b\b\b\b\b\b\b\b\b\b\b\b\b\b\b\b\b\b\b\b\b\b\b\b\b\b\b\b\b\b\b\b\b\b\b\b\b\b\b\b\b\b\b\b\b\b\b\b\b\b\b\b\b\b\b\b\b\b\b\b\b\b\b\b\b\b\b\b\b\b\b\b\b\b\b\b\b\b\b\b\b\b\b\b\b\b\b\b\b\b\b\b\b\b\b\b\b\b\b\b\b\b\b\b\b\b\b\b\b\r",
      "412416/412416 [==============================] - 11s 27us/sample - loss: 292.5589 - reconstruction_loss: 127.3890 - KL_loss: 26.1406 - val_loss: 143.8757 - val_reconstruction_loss: 118.0497 - val_KL_loss: 25.8260 - lr: 0.0030\n",
      "Epoch 26/1000\n"
     ]
    },
    {
     "name": "stdout",
     "output_type": "stream",
     "text": [
      "\r",
      "412416/412416 [==============================] - ETA: 0s - loss: 291.2556 - reconstruction_loss: 126.5482 - KL_loss: 26.2762"
     ]
    },
    {
     "name": "stdout",
     "output_type": "stream",
     "text": [
      "\b\b\b\b\b\b\b\b\b\b\b\b\b\b\b\b\b\b\b\b\b\b\b\b\b\b\b\b\b\b\b\b\b\b\b\b\b\b\b\b\b\b\b\b\b\b\b\b\b\b\b\b\b\b\b\b\b\b\b\b\b\b\b\b\b\b\b\b\b\b\b\b\b\b\b\b\b\b\b\b\b\b\b\b\b\b\b\b\b\b\b\b\b\b\b\b\b\b\b\b\b\b\b\b\b\b\b\b\b\b\b\b\b\b\b\b\b\b\b\b\b\b\b\b\r",
      "412416/412416 [==============================] - 11s 27us/sample - loss: 291.2556 - reconstruction_loss: 126.5482 - KL_loss: 26.2762 - val_loss: 141.6510 - val_reconstruction_loss: 116.7234 - val_KL_loss: 24.9276 - lr: 0.0030\n",
      "Epoch 27/1000\n"
     ]
    },
    {
     "name": "stdout",
     "output_type": "stream",
     "text": [
      "\r",
      "412416/412416 [==============================] - ETA: 0s - loss: 287.1086 - reconstruction_loss: 125.1662 - KL_loss: 25.3741"
     ]
    },
    {
     "name": "stdout",
     "output_type": "stream",
     "text": [
      "\b\b\b\b\b\b\b\b\b\b\b\b\b\b\b\b\b\b\b\b\b\b\b\b\b\b\b\b\b\b\b\b\b\b\b\b\b\b\b\b\b\b\b\b\b\b\b\b\b\b\b\b\b\b\b\b\b\b\b\b\b\b\b\b\b\b\b\b\b\b\b\b\b\b\b\b\b\b\b\b\b\b\b\b\b\b\b\b\b\b\b\b\b\b\b\b\b\b\b\b\b\b\b\b\b\b\b\b\b\b\b\b\b\b\b\b\b\b\b\b\b\b\b\b\r",
      "412416/412416 [==============================] - 11s 27us/sample - loss: 287.1086 - reconstruction_loss: 125.1662 - KL_loss: 25.3741 - val_loss: 141.9267 - val_reconstruction_loss: 117.5209 - val_KL_loss: 24.4058 - lr: 0.0030\n",
      "Epoch 28/1000\n"
     ]
    },
    {
     "name": "stdout",
     "output_type": "stream",
     "text": [
      "\r",
      "412416/412416 [==============================] - ETA: 0s - loss: 287.0814 - reconstruction_loss: 125.9814 - KL_loss: 24.7975"
     ]
    },
    {
     "name": "stdout",
     "output_type": "stream",
     "text": [
      "\b\b\b\b\b\b\b\b\b\b\b\b\b\b\b\b\b\b\b\b\b\b\b\b\b\b\b\b\b\b\b\b\b\b\b\b\b\b\b\b\b\b\b\b\b\b\b\b\b\b\b\b\b\b\b\b\b\b\b\b\b\b\b\b\b\b\b\b\b\b\b\b\b\b\b\b\b\b\b\b\b\b\b\b\b\b\b\b\b\b\b\b\b\b\b\b\b\b\b\b\b\b\b\b\b\b\b\b\b\b\b\b\b\b\b\b\b\b\b\b\b\b\b\b\r",
      "412416/412416 [==============================] - 12s 28us/sample - loss: 287.0814 - reconstruction_loss: 125.9814 - KL_loss: 24.7975 - val_loss: 140.7764 - val_reconstruction_loss: 116.0036 - val_KL_loss: 24.7728 - lr: 0.0030\n",
      "Epoch 29/1000\n"
     ]
    },
    {
     "name": "stdout",
     "output_type": "stream",
     "text": [
      "\r",
      "412416/412416 [==============================] - ETA: 0s - loss: 283.8072 - reconstruction_loss: 124.3455 - KL_loss: 25.1688"
     ]
    },
    {
     "name": "stdout",
     "output_type": "stream",
     "text": [
      "\b\b\b\b\b\b\b\b\b\b\b\b\b\b\b\b\b\b\b\b\b\b\b\b\b\b\b\b\b\b\b\b\b\b\b\b\b\b\b\b\b\b\b\b\b\b\b\b\b\b\b\b\b\b\b\b\b\b\b\b\b\b\b\b\b\b\b\b\b\b\b\b\b\b\b\b\b\b\b\b\b\b\b\b\b\b\b\b\b\b\b\b\b\b\b\b\b\b\b\b\b\b\b\b\b\b\b\b\b\b\b\b\b\b\b\b\b\b\b\b\b\b\b\b\r",
      "412416/412416 [==============================] - 14s 34us/sample - loss: 283.8072 - reconstruction_loss: 124.3455 - KL_loss: 25.1688 - val_loss: 139.9113 - val_reconstruction_loss: 114.9822 - val_KL_loss: 24.9291 - lr: 0.0030\n",
      "Epoch 30/1000\n"
     ]
    },
    {
     "name": "stdout",
     "output_type": "stream",
     "text": [
      "\r",
      "412416/412416 [==============================] - ETA: 0s - loss: 281.3307 - reconstruction_loss: 123.2325 - KL_loss: 25.3837"
     ]
    },
    {
     "name": "stdout",
     "output_type": "stream",
     "text": [
      "\b\b\b\b\b\b\b\b\b\b\b\b\b\b\b\b\b\b\b\b\b\b\b\b\b\b\b\b\b\b\b\b\b\b\b\b\b\b\b\b\b\b\b\b\b\b\b\b\b\b\b\b\b\b\b\b\b\b\b\b\b\b\b\b\b\b\b\b\b\b\b\b\b\b\b\b\b\b\b\b\b\b\b\b\b\b\b\b\b\b\b\b\b\b\b\b\b\b\b\b\b\b\b\b\b\b\b\b\b\b\b\b\b\b\b\b\b\b\b\b\b\b\b\b\r",
      "412416/412416 [==============================] - 12s 28us/sample - loss: 281.3307 - reconstruction_loss: 123.2325 - KL_loss: 25.3837 - val_loss: 138.4940 - val_reconstruction_loss: 114.1561 - val_KL_loss: 24.3379 - lr: 0.0030\n",
      "Epoch 31/1000\n"
     ]
    },
    {
     "name": "stdout",
     "output_type": "stream",
     "text": [
      "\r",
      "412416/412416 [==============================] - ETA: 0s - loss: 279.2487 - reconstruction_loss: 122.2874 - KL_loss: 24.7922"
     ]
    },
    {
     "name": "stdout",
     "output_type": "stream",
     "text": [
      "\b\b\b\b\b\b\b\b\b\b\b\b\b\b\b\b\b\b\b\b\b\b\b\b\b\b\b\b\b\b\b\b\b\b\b\b\b\b\b\b\b\b\b\b\b\b\b\b\b\b\b\b\b\b\b\b\b\b\b\b\b\b\b\b\b\b\b\b\b\b\b\b\b\b\b\b\b\b\b\b\b\b\b\b\b\b\b\b\b\b\b\b\b\b\b\b\b\b\b\b\b\b\b\b\b\b\b\b\b\b\b\b\b\b\b\b\b\b\b\b\b\b\b\b\r",
      "412416/412416 [==============================] - 12s 29us/sample - loss: 279.2487 - reconstruction_loss: 122.2874 - KL_loss: 24.7922 - val_loss: 138.4760 - val_reconstruction_loss: 114.5288 - val_KL_loss: 23.9472 - lr: 0.0030\n",
      "Epoch 32/1000\n"
     ]
    },
    {
     "name": "stdout",
     "output_type": "stream",
     "text": [
      "\r",
      "412416/412416 [==============================] - ETA: 0s - loss: 277.6388 - reconstruction_loss: 122.6971 - KL_loss: 24.3477"
     ]
    },
    {
     "name": "stdout",
     "output_type": "stream",
     "text": [
      "\b\b\b\b\b\b\b\b\b\b\b\b\b\b\b\b\b\b\b\b\b\b\b\b\b\b\b\b\b\b\b\b\b\b\b\b\b\b\b\b\b\b\b\b\b\b\b\b\b\b\b\b\b\b\b\b\b\b\b\b\b\b\b\b\b\b\b\b\b\b\b\b\b\b\b\b\b\b\b\b\b\b\b\b\b\b\b\b\b\b\b\b\b\b\b\b\b\b\b\b\b\b\b\b\b\b\b\b\b\b\b\b\b\b\b\b\b\b\b\b\b\b\b\b\r",
      "412416/412416 [==============================] - 12s 28us/sample - loss: 277.6388 - reconstruction_loss: 122.6971 - KL_loss: 24.3477 - val_loss: 136.6757 - val_reconstruction_loss: 112.1079 - val_KL_loss: 24.5678 - lr: 0.0030\n",
      "Epoch 33/1000\n"
     ]
    },
    {
     "name": "stdout",
     "output_type": "stream",
     "text": [
      "\r",
      "412416/412416 [==============================] - ETA: 0s - loss: 274.7904 - reconstruction_loss: 120.1511 - KL_loss: 24.9556"
     ]
    },
    {
     "name": "stdout",
     "output_type": "stream",
     "text": [
      "\b\b\b\b\b\b\b\b\b\b\b\b\b\b\b\b\b\b\b\b\b\b\b\b\b\b\b\b\b\b\b\b\b\b\b\b\b\b\b\b\b\b\b\b\b\b\b\b\b\b\b\b\b\b\b\b\b\b\b\b\b\b\b\b\b\b\b\b\b\b\b\b\b\b\b\b\b\b\b\b\b\b\b\b\b\b\b\b\b\b\b\b\b\b\b\b\b\b\b\b\b\b\b\b\b\b\b\b\b\b\b\b\b\b\b\b\b\b\b\b\b\b\b\b\r",
      "412416/412416 [==============================] - 11s 28us/sample - loss: 274.7904 - reconstruction_loss: 120.1511 - KL_loss: 24.9556 - val_loss: 136.2345 - val_reconstruction_loss: 111.3600 - val_KL_loss: 24.8746 - lr: 0.0030\n",
      "Epoch 34/1000\n"
     ]
    },
    {
     "name": "stdout",
     "output_type": "stream",
     "text": [
      "\r",
      "412416/412416 [==============================] - ETA: 0s - loss: 273.5549 - reconstruction_loss: 119.3836 - KL_loss: 25.2915"
     ]
    },
    {
     "name": "stdout",
     "output_type": "stream",
     "text": [
      "\b\b\b\b\b\b\b\b\b\b\b\b\b\b\b\b\b\b\b\b\b\b\b\b\b\b\b\b\b\b\b\b\b\b\b\b\b\b\b\b\b\b\b\b\b\b\b\b\b\b\b\b\b\b\b\b\b\b\b\b\b\b\b\b\b\b\b\b\b\b\b\b\b\b\b\b\b\b\b\b\b\b\b\b\b\b\b\b\b\b\b\b\b\b\b\b\b\b\b\b\b\b\b\b\b\b\b\b\b\b\b\b\b\b\b\b\b\b\b\b\b\b\b\b\r",
      "412416/412416 [==============================] - 11s 27us/sample - loss: 273.5549 - reconstruction_loss: 119.3836 - KL_loss: 25.2915 - val_loss: 134.7932 - val_reconstruction_loss: 110.5081 - val_KL_loss: 24.2851 - lr: 0.0030\n",
      "Epoch 35/1000\n"
     ]
    },
    {
     "name": "stdout",
     "output_type": "stream",
     "text": [
      "\r",
      "412416/412416 [==============================] - ETA: 0s - loss: 271.2036 - reconstruction_loss: 118.4510 - KL_loss: 24.7038"
     ]
    },
    {
     "name": "stdout",
     "output_type": "stream",
     "text": [
      "\b\b\b\b\b\b\b\b\b\b\b\b\b\b\b\b\b\b\b\b\b\b\b\b\b\b\b\b\b\b\b\b\b\b\b\b\b\b\b\b\b\b\b\b\b\b\b\b\b\b\b\b\b\b\b\b\b\b\b\b\b\b\b\b\b\b\b\b\b\b\b\b\b\b\b\b\b\b\b\b\b\b\b\b\b\b\b\b\b\b\b\b\b\b\b\b\b\b\b\b\b\b\b\b\b\b\b\b\b\b\b\b\b\b\b\b\b\b\b\b\b\b\b\b\r",
      "412416/412416 [==============================] - 12s 30us/sample - loss: 271.2036 - reconstruction_loss: 118.4510 - KL_loss: 24.7038 - val_loss: 134.4713 - val_reconstruction_loss: 110.5698 - val_KL_loss: 23.9015 - lr: 0.0030\n",
      "Epoch 36/1000\n"
     ]
    },
    {
     "name": "stdout",
     "output_type": "stream",
     "text": [
      "\r",
      "412416/412416 [==============================] - ETA: 0s - loss: 269.7764 - reconstruction_loss: 118.4270 - KL_loss: 24.2970"
     ]
    },
    {
     "name": "stdout",
     "output_type": "stream",
     "text": [
      "\b\b\b\b\b\b\b\b\b\b\b\b\b\b\b\b\b\b\b\b\b\b\b\b\b\b\b\b\b\b\b\b\b\b\b\b\b\b\b\b\b\b\b\b\b\b\b\b\b\b\b\b\b\b\b\b\b\b\b\b\b\b\b\b\b\b\b\b\b\b\b\b\b\b\b\b\b\b\b\b\b\b\b\b\b\b\b\b\b\b\b\b\b\b\b\b\b\b\b\b\b\b\b\b\b\b\b\b\b\b\b\b\b\b\b\b\b\b\b\b\b\b\b\b\r",
      "412416/412416 [==============================] - 12s 28us/sample - loss: 269.7764 - reconstruction_loss: 118.4270 - KL_loss: 24.2970 - val_loss: 133.1503 - val_reconstruction_loss: 108.9314 - val_KL_loss: 24.2189 - lr: 0.0030\n",
      "Epoch 37/1000\n"
     ]
    },
    {
     "name": "stdout",
     "output_type": "stream",
     "text": [
      "\r",
      "412416/412416 [==============================] - ETA: 0s - loss: 267.7330 - reconstruction_loss: 116.7727 - KL_loss: 24.6102"
     ]
    },
    {
     "name": "stdout",
     "output_type": "stream",
     "text": [
      "\b\b\b\b\b\b\b\b\b\b\b\b\b\b\b\b\b\b\b\b\b\b\b\b\b\b\b\b\b\b\b\b\b\b\b\b\b\b\b\b\b\b\b\b\b\b\b\b\b\b\b\b\b\b\b\b\b\b\b\b\b\b\b\b\b\b\b\b\b\b\b\b\b\b\b\b\b\b\b\b\b\b\b\b\b\b\b\b\b\b\b\b\b\b\b\b\b\b\b\b\b\b\b\b\b\b\b\b\b\b\b\b\b\b\b\b\b\b\b\b\b\b\b\b\r",
      "412416/412416 [==============================] - 11s 27us/sample - loss: 267.7330 - reconstruction_loss: 116.7727 - KL_loss: 24.6102 - val_loss: 132.2662 - val_reconstruction_loss: 108.0219 - val_KL_loss: 24.2443 - lr: 0.0030\n",
      "Epoch 38/1000\n"
     ]
    },
    {
     "name": "stdout",
     "output_type": "stream",
     "text": [
      "\r",
      "412416/412416 [==============================] - ETA: 0s - loss: 265.6992 - reconstruction_loss: 115.7839 - KL_loss: 24.6456"
     ]
    },
    {
     "name": "stdout",
     "output_type": "stream",
     "text": [
      "\b\b\b\b\b\b\b\b\b\b\b\b\b\b\b\b\b\b\b\b\b\b\b\b\b\b\b\b\b\b\b\b\b\b\b\b\b\b\b\b\b\b\b\b\b\b\b\b\b\b\b\b\b\b\b\b\b\b\b\b\b\b\b\b\b\b\b\b\b\b\b\b\b\b\b\b\b\b\b\b\b\b\b\b\b\b\b\b\b\b\b\b\b\b\b\b\b\b\b\b\b\b\b\b\b\b\b\b\b\b\b\b\b\b\b\b\b\b\b\b\b\b\b\b\r",
      "412416/412416 [==============================] - 11s 27us/sample - loss: 265.6992 - reconstruction_loss: 115.7839 - KL_loss: 24.6456 - val_loss: 131.6801 - val_reconstruction_loss: 107.8913 - val_KL_loss: 23.7888 - lr: 0.0030\n",
      "Epoch 39/1000\n"
     ]
    },
    {
     "name": "stdout",
     "output_type": "stream",
     "text": [
      "\r",
      "412416/412416 [==============================] - ETA: 0s - loss: 264.2872 - reconstruction_loss: 115.5812 - KL_loss: 24.1947"
     ]
    },
    {
     "name": "stdout",
     "output_type": "stream",
     "text": [
      "\b\b\b\b\b\b\b\b\b\b\b\b\b\b\b\b\b\b\b\b\b\b\b\b\b\b\b\b\b\b\b\b\b\b\b\b\b\b\b\b\b\b\b\b\b\b\b\b\b\b\b\b\b\b\b\b\b\b\b\b\b\b\b\b\b\b\b\b\b\b\b\b\b\b\b\b\b\b\b\b\b\b\b\b\b\b\b\b\b\b\b\b\b\b\b\b\b\b\b\b\b\b\b\b\b\b\b\b\b\b\b\b\b\b\b\b\b\b\b\b\b\b\b\b\r",
      "412416/412416 [==============================] - 12s 28us/sample - loss: 264.2872 - reconstruction_loss: 115.5812 - KL_loss: 24.1947 - val_loss: 130.4141 - val_reconstruction_loss: 106.6799 - val_KL_loss: 23.7341 - lr: 0.0030\n",
      "Epoch 40/1000\n"
     ]
    },
    {
     "name": "stdout",
     "output_type": "stream",
     "text": [
      "\r",
      "412416/412416 [==============================] - ETA: 0s - loss: 261.6915 - reconstruction_loss: 114.2612 - KL_loss: 24.1551"
     ]
    },
    {
     "name": "stdout",
     "output_type": "stream",
     "text": [
      "\b\b\b\b\b\b\b\b\b\b\b\b\b\b\b\b\b\b\b\b\b\b\b\b\b\b\b\b\b\b\b\b\b\b\b\b\b\b\b\b\b\b\b\b\b\b\b\b\b\b\b\b\b\b\b\b\b\b\b\b\b\b\b\b\b\b\b\b\b\b\b\b\b\b\b\b\b\b\b\b\b\b\b\b\b\b\b\b\b\b\b\b\b\b\b\b\b\b\b\b\b\b\b\b\b\b\b\b\b\b\b\b\b\b\b\b\b\b\b\b\b\b\b\b\r",
      "412416/412416 [==============================] - 11s 27us/sample - loss: 261.6915 - reconstruction_loss: 114.2612 - KL_loss: 24.1551 - val_loss: 130.9611 - val_reconstruction_loss: 106.9352 - val_KL_loss: 24.0259 - lr: 0.0030\n",
      "Epoch 41/1000\n"
     ]
    },
    {
     "name": "stdout",
     "output_type": "stream",
     "text": [
      "\r",
      "412416/412416 [==============================] - ETA: 0s - loss: 261.9410 - reconstruction_loss: 114.4289 - KL_loss: 24.4406"
     ]
    },
    {
     "name": "stdout",
     "output_type": "stream",
     "text": [
      "\b\b\b\b\b\b\b\b\b\b\b\b\b\b\b\b\b\b\b\b\b\b\b\b\b\b\b\b\b\b\b\b\b\b\b\b\b\b\b\b\b\b\b\b\b\b\b\b\b\b\b\b\b\b\b\b\b\b\b\b\b\b\b\b\b\b\b\b\b\b\b\b\b\b\b\b\b\b\b\b\b\b\b\b\b\b\b\b\b\b\b\b\b\b\b\b\b\b\b\b\b\b\b\b\b\b\b\b\b\b\b\b\b\b\b\b\b\b\b\b\b\b\b\b\r",
      "412416/412416 [==============================] - 12s 28us/sample - loss: 261.9410 - reconstruction_loss: 114.4289 - KL_loss: 24.4406 - val_loss: 129.0891 - val_reconstruction_loss: 104.9768 - val_KL_loss: 24.1123 - lr: 0.0030\n",
      "Epoch 42/1000\n"
     ]
    },
    {
     "name": "stdout",
     "output_type": "stream",
     "text": [
      "\r",
      "412416/412416 [==============================] - ETA: 0s - loss: 259.1104 - reconstruction_loss: 112.4361 - KL_loss: 24.5314"
     ]
    },
    {
     "name": "stdout",
     "output_type": "stream",
     "text": [
      "\b\b\b\b\b\b\b\b\b\b\b\b\b\b\b\b\b\b\b\b\b\b\b\b\b\b\b\b\b\b\b\b\b\b\b\b\b\b\b\b\b\b\b\b\b\b\b\b\b\b\b\b\b\b\b\b\b\b\b\b\b\b\b\b\b\b\b\b\b\b\b\b\b\b\b\b\b\b\b\b\b\b\b\b\b\b\b\b\b\b\b\b\b\b\b\b\b\b\b\b\b\b\b\b\b\b\b\b\b\b\b\b\b\b\b\b\b\b\b\b\b\b\b\b\r",
      "412416/412416 [==============================] - 11s 28us/sample - loss: 259.1104 - reconstruction_loss: 112.4361 - KL_loss: 24.5314 - val_loss: 129.8436 - val_reconstruction_loss: 105.9477 - val_KL_loss: 23.8959 - lr: 0.0030\n",
      "Epoch 43/1000\n"
     ]
    },
    {
     "name": "stdout",
     "output_type": "stream",
     "text": [
      "\r",
      "412416/412416 [==============================] - ETA: 0s - loss: 259.5368 - reconstruction_loss: 113.3322 - KL_loss: 24.3273"
     ]
    },
    {
     "name": "stdout",
     "output_type": "stream",
     "text": [
      "\b\b\b\b\b\b\b\b\b\b\b\b\b\b\b\b\b\b\b\b\b\b\b\b\b\b\b\b\b\b\b\b\b\b\b\b\b\b\b\b\b\b\b\b\b\b\b\b\b\b\b\b\b\b\b\b\b\b\b\b\b\b\b\b\b\b\b\b\b\b\b\b\b\b\b\b\b\b\b\b\b\b\b\b\b\b\b\b\b\b\b\b\b\b\b\b\b\b\b\b\b\b\b\b\b\b\b\b\b\b\b\b\b\b\b\b\b\b\b\b\b\b\b\b\r",
      "412416/412416 [==============================] - 11s 28us/sample - loss: 259.5368 - reconstruction_loss: 113.3322 - KL_loss: 24.3273 - val_loss: 129.2437 - val_reconstruction_loss: 105.4691 - val_KL_loss: 23.7746 - lr: 0.0030\n",
      "Epoch 44/1000\n"
     ]
    },
    {
     "name": "stdout",
     "output_type": "stream",
     "text": [
      "\r",
      "412416/412416 [==============================] - ETA: 0s - loss: 258.1088 - reconstruction_loss: 112.8194 - KL_loss: 24.2198"
     ]
    },
    {
     "name": "stdout",
     "output_type": "stream",
     "text": [
      "\b\b\b\b\b\b\b\b\b\b\b\b\b\b\b\b\b\b\b\b\b\b\b\b\b\b\b\b\b\b\b\b\b\b\b\b\b\b\b\b\b\b\b\b\b\b\b\b\b\b\b\b\b\b\b\b\b\b\b\b\b\b\b\b\b\b\b\b\b\b\b\b\b\b\b\b\b\b\b\b\b\b\b\b\b\b\b\b\b\b\b\b\b\b\b\b\b\b\b\b\b\b\b\b\b\b\b\b\b\b\b\b\b\b\b\b\b\b\b\b\b\b\b\b\r",
      "412416/412416 [==============================] - 12s 29us/sample - loss: 258.1088 - reconstruction_loss: 112.8194 - KL_loss: 24.2198 - val_loss: 127.2502 - val_reconstruction_loss: 103.4401 - val_KL_loss: 23.8101 - lr: 0.0030\n",
      "Epoch 45/1000\n"
     ]
    },
    {
     "name": "stdout",
     "output_type": "stream",
     "text": [
      "\r",
      "412416/412416 [==============================] - ETA: 0s - loss: 255.3367 - reconstruction_loss: 110.8014 - KL_loss: 24.2504"
     ]
    },
    {
     "name": "stdout",
     "output_type": "stream",
     "text": [
      "\b\b\b\b\b\b\b\b\b\b\b\b\b\b\b\b\b\b\b\b\b\b\b\b\b\b\b\b\b\b\b\b\b\b\b\b\b\b\b\b\b\b\b\b\b\b\b\b\b\b\b\b\b\b\b\b\b\b\b\b\b\b\b\b\b\b\b\b\b\b\b\b\b\b\b\b\b\b\b\b\b\b\b\b\b\b\b\b\b\b\b\b\b\b\b\b\b\b\b\b\b\b\b\b\b\b\b\b\b\b\b\b\b\b\b\b\b\b\b\b\b\b\b\b\r",
      "412416/412416 [==============================] - 11s 28us/sample - loss: 255.3367 - reconstruction_loss: 110.8014 - KL_loss: 24.2504 - val_loss: 128.3958 - val_reconstruction_loss: 104.6415 - val_KL_loss: 23.7543 - lr: 0.0030\n",
      "Epoch 46/1000\n"
     ]
    },
    {
     "name": "stdout",
     "output_type": "stream",
     "text": [
      "\r",
      "412416/412416 [==============================] - ETA: 0s - loss: 256.1571 - reconstruction_loss: 111.9146 - KL_loss: 24.1611"
     ]
    },
    {
     "name": "stdout",
     "output_type": "stream",
     "text": [
      "\b\b\b\b\b\b\b\b\b\b\b\b\b\b\b\b\b\b\b\b\b\b\b\b\b\b\b\b\b\b\b\b\b\b\b\b\b\b\b\b\b\b\b\b\b\b\b\b\b\b\b\b\b\b\b\b\b\b\b\b\b\b\b\b\b\b\b\b\b\b\b\b\b\b\b\b\b\b\b\b\b\b\b\b\b\b\b\b\b\b\b\b\b\b\b\b\b\b\b\b\b\b\b\b\b\b\b\b\b\b\b\b\b\b\b\b\b\b\b\b\b\b\b\b\r",
      "412416/412416 [==============================] - 11s 27us/sample - loss: 256.1571 - reconstruction_loss: 111.9146 - KL_loss: 24.1611 - val_loss: 126.4228 - val_reconstruction_loss: 102.7235 - val_KL_loss: 23.6992 - lr: 0.0030\n",
      "Epoch 47/1000\n"
     ]
    },
    {
     "name": "stdout",
     "output_type": "stream",
     "text": [
      "\r",
      "412416/412416 [==============================] - ETA: 0s - loss: 253.2792 - reconstruction_loss: 109.9803 - KL_loss: 24.1256"
     ]
    },
    {
     "name": "stdout",
     "output_type": "stream",
     "text": [
      "\b\b\b\b\b\b\b\b\b\b\b\b\b\b\b\b\b\b\b\b\b\b\b\b\b\b\b\b\b\b\b\b\b\b\b\b\b\b\b\b\b\b\b\b\b\b\b\b\b\b\b\b\b\b\b\b\b\b\b\b\b\b\b\b\b\b\b\b\b\b\b\b\b\b\b\b\b\b\b\b\b\b\b\b\b\b\b\b\b\b\b\b\b\b\b\b\b\b\b\b\b\b\b\b\b\b\b\b\b\b\b\b\b\b\b\b\b\b\b\b\b\b\b\b\r",
      "412416/412416 [==============================] - 11s 28us/sample - loss: 253.2792 - reconstruction_loss: 109.9803 - KL_loss: 24.1256 - val_loss: 126.5121 - val_reconstruction_loss: 102.9568 - val_KL_loss: 23.5553 - lr: 0.0030\n",
      "Epoch 48/1000\n"
     ]
    },
    {
     "name": "stdout",
     "output_type": "stream",
     "text": [
      "\r",
      "412416/412416 [==============================] - ETA: 0s - loss: 252.9790 - reconstruction_loss: 110.1369 - KL_loss: 24.0010"
     ]
    },
    {
     "name": "stdout",
     "output_type": "stream",
     "text": [
      "\b\b\b\b\b\b\b\b\b\b\b\b\b\b\b\b\b\b\b\b\b\b\b\b\b\b\b\b\b\b\b\b\b\b\b\b\b\b\b\b\b\b\b\b\b\b\b\b\b\b\b\b\b\b\b\b\b\b\b\b\b\b\b\b\b\b\b\b\b\b\b\b\b\b\b\b\b\b\b\b\b\b\b\b\b\b\b\b\b\b\b\b\b\b\b\b\b\b\b\b\b\b\b\b\b\b\b\b\b\b\b\b\b\b\b\b\b\b\b\b\b\b\b\b\r",
      "412416/412416 [==============================] - 12s 30us/sample - loss: 252.9790 - reconstruction_loss: 110.1369 - KL_loss: 24.0010 - val_loss: 125.8132 - val_reconstruction_loss: 102.1274 - val_KL_loss: 23.6857 - lr: 0.0030\n",
      "Epoch 49/1000\n"
     ]
    },
    {
     "name": "stdout",
     "output_type": "stream",
     "text": [
      "\r",
      "412416/412416 [==============================] - ETA: 0s - loss: 251.5437 - reconstruction_loss: 109.2710 - KL_loss: 24.1260"
     ]
    },
    {
     "name": "stdout",
     "output_type": "stream",
     "text": [
      "\b\b\b\b\b\b\b\b\b\b\b\b\b\b\b\b\b\b\b\b\b\b\b\b\b\b\b\b\b\b\b\b\b\b\b\b\b\b\b\b\b\b\b\b\b\b\b\b\b\b\b\b\b\b\b\b\b\b\b\b\b\b\b\b\b\b\b\b\b\b\b\b\b\b\b\b\b\b\b\b\b\b\b\b\b\b\b\b\b\b\b\b\b\b\b\b\b\b\b\b\b\b\b\b\b\b\b\b\b\b\b\b\b\b\b\b\b\b\b\b\b\b\b\b\r",
      "412416/412416 [==============================] - 13s 30us/sample - loss: 251.5437 - reconstruction_loss: 109.2710 - KL_loss: 24.1260 - val_loss: 125.0570 - val_reconstruction_loss: 101.2648 - val_KL_loss: 23.7922 - lr: 0.0030\n",
      "Epoch 50/1000\n"
     ]
    },
    {
     "name": "stdout",
     "output_type": "stream",
     "text": [
      "\r",
      "412416/412416 [==============================] - ETA: 0s - loss: 250.3031 - reconstruction_loss: 108.3555 - KL_loss: 24.2223"
     ]
    },
    {
     "name": "stdout",
     "output_type": "stream",
     "text": [
      "\b\b\b\b\b\b\b\b\b\b\b\b\b\b\b\b\b\b\b\b\b\b\b\b\b\b\b\b\b\b\b\b\b\b\b\b\b\b\b\b\b\b\b\b\b\b\b\b\b\b\b\b\b\b\b\b\b\b\b\b\b\b\b\b\b\b\b\b\b\b\b\b\b\b\b\b\b\b\b\b\b\b\b\b\b\b\b\b\b\b\b\b\b\b\b\b\b\b\b\b\b\b\b\b\b\b\b\b\b\b\b\b\b\b\b\b\b\b\b\b\b\b\b\b\r",
      "412416/412416 [==============================] - 22s 53us/sample - loss: 250.3031 - reconstruction_loss: 108.3555 - KL_loss: 24.2223 - val_loss: 125.4922 - val_reconstruction_loss: 102.0151 - val_KL_loss: 23.4771 - lr: 0.0030\n",
      "Epoch 51/1000\n"
     ]
    },
    {
     "name": "stdout",
     "output_type": "stream",
     "text": [
      "\r",
      "412416/412416 [==============================] - ETA: 0s - loss: 250.1641 - reconstruction_loss: 109.0526 - KL_loss: 23.9017"
     ]
    },
    {
     "name": "stdout",
     "output_type": "stream",
     "text": [
      "\b\b\b\b\b\b\b\b\b\b\b\b\b\b\b\b\b\b\b\b\b\b\b\b\b\b\b\b\b\b\b\b\b\b\b\b\b\b\b\b\b\b\b\b\b\b\b\b\b\b\b\b\b\b\b\b\b\b\b\b\b\b\b\b\b\b\b\b\b\b\b\b\b\b\b\b\b\b\b\b\b\b\b\b\b\b\b\b\b\b\b\b\b\b\b\b\b\b\b\b\b\b\b\b\b\b\b\b\b\b\b\b\b\b\b\b\b\b\b\b\b\b\b\b\r",
      "412416/412416 [==============================] - 11s 28us/sample - loss: 250.1641 - reconstruction_loss: 109.0526 - KL_loss: 23.9017 - val_loss: 123.9813 - val_reconstruction_loss: 100.5047 - val_KL_loss: 23.4767 - lr: 0.0030\n",
      "Epoch 52/1000\n"
     ]
    },
    {
     "name": "stdout",
     "output_type": "stream",
     "text": [
      "\r",
      "412416/412416 [==============================] - ETA: 0s - loss: 247.9666 - reconstruction_loss: 107.4869 - KL_loss: 23.9345"
     ]
    },
    {
     "name": "stdout",
     "output_type": "stream",
     "text": [
      "\b\b\b\b\b\b\b\b\b\b\b\b\b\b\b\b\b\b\b\b\b\b\b\b\b\b\b\b\b\b\b\b\b\b\b\b\b\b\b\b\b\b\b\b\b\b\b\b\b\b\b\b\b\b\b\b\b\b\b\b\b\b\b\b\b\b\b\b\b\b\b\b\b\b\b\b\b\b\b\b\b\b\b\b\b\b\b\b\b\b\b\b\b\b\b\b\b\b\b\b\b\b\b\b\b\b\b\b\b\b\b\b\b\b\b\b\b\b\b\b\b\b\b\b\r",
      "412416/412416 [==============================] - 15s 35us/sample - loss: 247.9666 - reconstruction_loss: 107.4869 - KL_loss: 23.9345 - val_loss: 123.7719 - val_reconstruction_loss: 100.1548 - val_KL_loss: 23.6171 - lr: 0.0030\n",
      "Epoch 53/1000\n"
     ]
    },
    {
     "name": "stdout",
     "output_type": "stream",
     "text": [
      "\r",
      "412416/412416 [==============================] - ETA: 0s - loss: 247.4544 - reconstruction_loss: 107.1292 - KL_loss: 24.0647"
     ]
    },
    {
     "name": "stdout",
     "output_type": "stream",
     "text": [
      "\b\b\b\b\b\b\b\b\b\b\b\b\b\b\b\b\b\b\b\b\b\b\b\b\b\b\b\b\b\b\b\b\b\b\b\b\b\b\b\b\b\b\b\b\b\b\b\b\b\b\b\b\b\b\b\b\b\b\b\b\b\b\b\b\b\b\b\b\b\b\b\b\b\b\b\b\b\b\b\b\b\b\b\b\b\b\b\b\b\b\b\b\b\b\b\b\b\b\b\b\b\b\b\b\b\b\b\b\b\b\b\b\b\b\b\b\b\b\b\b\b\b\b\b\r",
      "412416/412416 [==============================] - 13s 31us/sample - loss: 247.4544 - reconstruction_loss: 107.1292 - KL_loss: 24.0647 - val_loss: 123.4750 - val_reconstruction_loss: 99.7340 - val_KL_loss: 23.7410 - lr: 0.0030\n",
      "Epoch 54/1000\n"
     ]
    },
    {
     "name": "stdout",
     "output_type": "stream",
     "text": [
      "\r",
      "412416/412416 [==============================] - ETA: 0s - loss: 246.6349 - reconstruction_loss: 106.6715 - KL_loss: 24.1948"
     ]
    },
    {
     "name": "stdout",
     "output_type": "stream",
     "text": [
      "\b\b\b\b\b\b\b\b\b\b\b\b\b\b\b\b\b\b\b\b\b\b\b\b\b\b\b\b\b\b\b\b\b\b\b\b\b\b\b\b\b\b\b\b\b\b\b\b\b\b\b\b\b\b\b\b\b\b\b\b\b\b\b\b\b\b\b\b\b\b\b\b\b\b\b\b\b\b\b\b\b\b\b\b\b\b\b\b\b\b\b\b\b\b\b\b\b\b\b\b\b\b\b\b\b\b\b\b\b\b\b\b\b\b\b\b\b\b\b\b\b\b\b\b\r",
      "412416/412416 [==============================] - 12s 28us/sample - loss: 246.6349 - reconstruction_loss: 106.6715 - KL_loss: 24.1948 - val_loss: 122.6010 - val_reconstruction_loss: 99.5462 - val_KL_loss: 23.0547 - lr: 0.0030\n",
      "Epoch 55/1000\n"
     ]
    },
    {
     "name": "stdout",
     "output_type": "stream",
     "text": [
      "\r",
      "412416/412416 [==============================] - ETA: 0s - loss: 245.0223 - reconstruction_loss: 106.4778 - KL_loss: 23.4889"
     ]
    },
    {
     "name": "stdout",
     "output_type": "stream",
     "text": [
      "\b\b\b\b\b\b\b\b\b\b\b\b\b\b\b\b\b\b\b\b\b\b\b\b\b\b\b\b\b\b\b\b\b\b\b\b\b\b\b\b\b\b\b\b\b\b\b\b\b\b\b\b\b\b\b\b\b\b\b\b\b\b\b\b\b\b\b\b\b\b\b\b\b\b\b\b\b\b\b\b\b\b\b\b\b\b\b\b\b\b\b\b\b\b\b\b\b\b\b\b\b\b\b\b\b\b\b\b\b\b\b\b\b\b\b\b\b\b\b\b\b\b\b\b\r",
      "412416/412416 [==============================] - 13s 32us/sample - loss: 245.0223 - reconstruction_loss: 106.4778 - KL_loss: 23.4889 - val_loss: 122.7228 - val_reconstruction_loss: 99.5464 - val_KL_loss: 23.1764 - lr: 0.0030\n",
      "Epoch 56/1000\n"
     ]
    },
    {
     "name": "stdout",
     "output_type": "stream",
     "text": [
      "\r",
      "412416/412416 [==============================] - ETA: 0s - loss: 245.0740 - reconstruction_loss: 106.4817 - KL_loss: 23.6404"
     ]
    },
    {
     "name": "stdout",
     "output_type": "stream",
     "text": [
      "\b\b\b\b\b\b\b\b\b\b\b\b\b\b\b\b\b\b\b\b\b\b\b\b\b\b\b\b\b\b\b\b\b\b\b\b\b\b\b\b\b\b\b\b\b\b\b\b\b\b\b\b\b\b\b\b\b\b\b\b\b\b\b\b\b\b\b\b\b\b\b\b\b\b\b\b\b\b\b\b\b\b\b\b\b\b\b\b\b\b\b\b\b\b\b\b\b\b\b\b\b\b\b\b\b\b\b\b\b\b\b\b\b\b\b\b\b\b\b\b\b\b\b\b\r",
      "412416/412416 [==============================] - 13s 32us/sample - loss: 245.0740 - reconstruction_loss: 106.4817 - KL_loss: 23.6404 - val_loss: 121.7432 - val_reconstruction_loss: 98.7521 - val_KL_loss: 22.9911 - lr: 0.0030\n",
      "Epoch 57/1000\n"
     ]
    },
    {
     "name": "stdout",
     "output_type": "stream",
     "text": [
      "\r",
      "412416/412416 [==============================] - ETA: 0s - loss: 243.3724 - reconstruction_loss: 105.6090 - KL_loss: 23.4480"
     ]
    },
    {
     "name": "stdout",
     "output_type": "stream",
     "text": [
      "\b\b\b\b\b\b\b\b\b\b\b\b\b\b\b\b\b\b\b\b\b\b\b\b\b\b\b\b\b\b\b\b\b\b\b\b\b\b\b\b\b\b\b\b\b\b\b\b\b\b\b\b\b\b\b\b\b\b\b\b\b\b\b\b\b\b\b\b\b\b\b\b\b\b\b\b\b\b\b\b\b\b\b\b\b\b\b\b\b\b\b\b\b\b\b\b\b\b\b\b\b\b\b\b\b\b\b\b\b\b\b\b\b\b\b\b\b\b\b\b\b\b\b\b\r",
      "412416/412416 [==============================] - 16s 40us/sample - loss: 243.3724 - reconstruction_loss: 105.6090 - KL_loss: 23.4480 - val_loss: 121.6644 - val_reconstruction_loss: 98.0846 - val_KL_loss: 23.5798 - lr: 0.0030\n",
      "Epoch 58/1000\n"
     ]
    },
    {
     "name": "stdout",
     "output_type": "stream",
     "text": [
      "\r",
      "412416/412416 [==============================] - ETA: 0s - loss: 242.8730 - reconstruction_loss: 104.9360 - KL_loss: 24.0446"
     ]
    },
    {
     "name": "stdout",
     "output_type": "stream",
     "text": [
      "\b\b\b\b\b\b\b\b\b\b\b\b\b\b\b\b\b\b\b\b\b\b\b\b\b\b\b\b\b\b\b\b\b\b\b\b\b\b\b\b\b\b\b\b\b\b\b\b\b\b\b\b\b\b\b\b\b\b\b\b\b\b\b\b\b\b\b\b\b\b\b\b\b\b\b\b\b\b\b\b\b\b\b\b\b\b\b\b\b\b\b\b\b\b\b\b\b\b\b\b\b\b\b\b\b\b\b\b\b\b\b\b\b\b\b\b\b\b\b\b\b\b\b\b\r",
      "412416/412416 [==============================] - 12s 30us/sample - loss: 242.8730 - reconstruction_loss: 104.9360 - KL_loss: 24.0446 - val_loss: 121.4170 - val_reconstruction_loss: 98.2066 - val_KL_loss: 23.2104 - lr: 0.0030\n",
      "Epoch 59/1000\n"
     ]
    },
    {
     "name": "stdout",
     "output_type": "stream",
     "text": [
      "\r",
      "412416/412416 [==============================] - ETA: 0s - loss: 242.1976 - reconstruction_loss: 105.0246 - KL_loss: 23.6523"
     ]
    },
    {
     "name": "stdout",
     "output_type": "stream",
     "text": [
      "\b\b\b\b\b\b\b\b\b\b\b\b\b\b\b\b\b\b\b\b\b\b\b\b\b\b\b\b\b\b\b\b\b\b\b\b\b\b\b\b\b\b\b\b\b\b\b\b\b\b\b\b\b\b\b\b\b\b\b\b\b\b\b\b\b\b\b\b\b\b\b\b\b\b\b\b\b\b\b\b\b\b\b\b\b\b\b\b\b\b\b\b\b\b\b\b\b\b\b\b\b\b\b\b\b\b\b\b\b\b\b\b\b\b\b\b\b\b\b\b\b\b\b\b\r",
      "412416/412416 [==============================] - 12s 29us/sample - loss: 242.1976 - reconstruction_loss: 105.0246 - KL_loss: 23.6523 - val_loss: 120.7914 - val_reconstruction_loss: 97.7509 - val_KL_loss: 23.0405 - lr: 0.0030\n",
      "Epoch 60/1000\n"
     ]
    },
    {
     "name": "stdout",
     "output_type": "stream",
     "text": [
      "\r",
      "412416/412416 [==============================] - ETA: 0s - loss: 240.9778 - reconstruction_loss: 104.5493 - KL_loss: 23.5041"
     ]
    },
    {
     "name": "stdout",
     "output_type": "stream",
     "text": [
      "\b\b\b\b\b\b\b\b\b\b\b\b\b\b\b\b\b\b\b\b\b\b\b\b\b\b\b\b\b\b\b\b\b\b\b\b\b\b\b\b\b\b\b\b\b\b\b\b\b\b\b\b\b\b\b\b\b\b\b\b\b\b\b\b\b\b\b\b\b\b\b\b\b\b\b\b\b\b\b\b\b\b\b\b\b\b\b\b\b\b\b\b\b\b\b\b\b\b\b\b\b\b\b\b\b\b\b\b\b\b\b\b\b\b\b\b\b\b\b\b\b\b\b\b\r",
      "412416/412416 [==============================] - 12s 29us/sample - loss: 240.9778 - reconstruction_loss: 104.5493 - KL_loss: 23.5041 - val_loss: 120.8206 - val_reconstruction_loss: 98.1702 - val_KL_loss: 22.6503 - lr: 0.0030\n",
      "Epoch 61/1000\n"
     ]
    },
    {
     "name": "stdout",
     "output_type": "stream",
     "text": [
      "\r",
      "412416/412416 [==============================] - ETA: 0s - loss: 240.6190 - reconstruction_loss: 104.9021 - KL_loss: 23.1055"
     ]
    },
    {
     "name": "stdout",
     "output_type": "stream",
     "text": [
      "\b\b\b\b\b\b\b\b\b\b\b\b\b\b\b\b\b\b\b\b\b\b\b\b\b\b\b\b\b\b\b\b\b\b\b\b\b\b\b\b\b\b\b\b\b\b\b\b\b\b\b\b\b\b\b\b\b\b\b\b\b\b\b\b\b\b\b\b\b\b\b\b\b\b\b\b\b\b\b\b\b\b\b\b\b\b\b\b\b\b\b\b\b\b\b\b\b\b\b\b\b\b\b\b\b\b\b\b\b\b\b\b\b\b\b\b\b\b\b\b\b\b\b\b\r",
      "412416/412416 [==============================] - 11s 28us/sample - loss: 240.6190 - reconstruction_loss: 104.9021 - KL_loss: 23.1055 - val_loss: 120.0063 - val_reconstruction_loss: 97.1442 - val_KL_loss: 22.8621 - lr: 0.0030\n",
      "Epoch 62/1000\n"
     ]
    },
    {
     "name": "stdout",
     "output_type": "stream",
     "text": [
      "\r",
      "412416/412416 [==============================] - ETA: 0s - loss: 239.4149 - reconstruction_loss: 103.8881 - KL_loss: 23.3386"
     ]
    },
    {
     "name": "stdout",
     "output_type": "stream",
     "text": [
      "\b\b\b\b\b\b\b\b\b\b\b\b\b\b\b\b\b\b\b\b\b\b\b\b\b\b\b\b\b\b\b\b\b\b\b\b\b\b\b\b\b\b\b\b\b\b\b\b\b\b\b\b\b\b\b\b\b\b\b\b\b\b\b\b\b\b\b\b\b\b\b\b\b\b\b\b\b\b\b\b\b\b\b\b\b\b\b\b\b\b\b\b\b\b\b\b\b\b\b\b\b\b\b\b\b\b\b\b\b\b\b\b\b\b\b\b\b\b\b\b\b\b\b\b\r",
      "412416/412416 [==============================] - 11s 27us/sample - loss: 239.4149 - reconstruction_loss: 103.8881 - KL_loss: 23.3386 - val_loss: 120.2524 - val_reconstruction_loss: 97.5762 - val_KL_loss: 22.6762 - lr: 0.0030\n",
      "Epoch 63/1000\n"
     ]
    },
    {
     "name": "stdout",
     "output_type": "stream",
     "text": [
      "\r",
      "412416/412416 [==============================] - ETA: 0s - loss: 239.3904 - reconstruction_loss: 104.3222 - KL_loss: 23.1308"
     ]
    },
    {
     "name": "stdout",
     "output_type": "stream",
     "text": [
      "\b\b\b\b\b\b\b\b\b\b\b\b\b\b\b\b\b\b\b\b\b\b\b\b\b\b\b\b\b\b\b\b\b\b\b\b\b\b\b\b\b\b\b\b\b\b\b\b\b\b\b\b\b\b\b\b\b\b\b\b\b\b\b\b\b\b\b\b\b\b\b\b\b\b\b\b\b\b\b\b\b\b\b\b\b\b\b\b\b\b\b\b\b\b\b\b\b\b\b\b\b\b\b\b\b\b\b\b\b\b\b\b\b\b\b\b\b\b\b\b\b\b\b\b\r",
      "412416/412416 [==============================] - 11s 28us/sample - loss: 239.3904 - reconstruction_loss: 104.3222 - KL_loss: 23.1308 - val_loss: 119.7638 - val_reconstruction_loss: 96.7798 - val_KL_loss: 22.9840 - lr: 0.0030\n",
      "Epoch 64/1000\n"
     ]
    },
    {
     "name": "stdout",
     "output_type": "stream",
     "text": [
      "\r",
      "412416/412416 [==============================] - ETA: 0s - loss: 238.4960 - reconstruction_loss: 103.4481 - KL_loss: 23.4519"
     ]
    },
    {
     "name": "stdout",
     "output_type": "stream",
     "text": [
      "\b\b\b\b\b\b\b\b\b\b\b\b\b\b\b\b\b\b\b\b\b\b\b\b\b\b\b\b\b\b\b\b\b\b\b\b\b\b\b\b\b\b\b\b\b\b\b\b\b\b\b\b\b\b\b\b\b\b\b\b\b\b\b\b\b\b\b\b\b\b\b\b\b\b\b\b\b\b\b\b\b\b\b\b\b\b\b\b\b\b\b\b\b\b\b\b\b\b\b\b\b\b\b\b\b\b\b\b\b\b\b\b\b\b\b\b\b\b\b\b\b\b\b\b\r",
      "412416/412416 [==============================] - 12s 29us/sample - loss: 238.4960 - reconstruction_loss: 103.4481 - KL_loss: 23.4519 - val_loss: 119.0755 - val_reconstruction_loss: 96.4023 - val_KL_loss: 22.6731 - lr: 0.0030\n",
      "Epoch 65/1000\n"
     ]
    },
    {
     "name": "stdout",
     "output_type": "stream",
     "text": [
      "\r",
      "412416/412416 [==============================] - ETA: 0s - loss: 237.2652 - reconstruction_loss: 103.0656 - KL_loss: 23.1273"
     ]
    },
    {
     "name": "stdout",
     "output_type": "stream",
     "text": [
      "\b\b\b\b\b\b\b\b\b\b\b\b\b\b\b\b\b\b\b\b\b\b\b\b\b\b\b\b\b\b\b\b\b\b\b\b\b\b\b\b\b\b\b\b\b\b\b\b\b\b\b\b\b\b\b\b\b\b\b\b\b\b\b\b\b\b\b\b\b\b\b\b\b\b\b\b\b\b\b\b\b\b\b\b\b\b\b\b\b\b\b\b\b\b\b\b\b\b\b\b\b\b\b\b\b\b\b\b\b\b\b\b\b\b\b\b\b\b\b\b\b\b\b\b\r",
      "412416/412416 [==============================] - 11s 28us/sample - loss: 237.2652 - reconstruction_loss: 103.0656 - KL_loss: 23.1273 - val_loss: 119.5794 - val_reconstruction_loss: 97.0322 - val_KL_loss: 22.5471 - lr: 0.0030\n",
      "Epoch 66/1000\n"
     ]
    },
    {
     "name": "stdout",
     "output_type": "stream",
     "text": [
      "\r",
      "412416/412416 [==============================] - ETA: 0s - loss: 237.6002 - reconstruction_loss: 103.6391 - KL_loss: 23.0370"
     ]
    },
    {
     "name": "stdout",
     "output_type": "stream",
     "text": [
      "\b\b\b\b\b\b\b\b\b\b\b\b\b\b\b\b\b\b\b\b\b\b\b\b\b\b\b\b\b\b\b\b\b\b\b\b\b\b\b\b\b\b\b\b\b\b\b\b\b\b\b\b\b\b\b\b\b\b\b\b\b\b\b\b\b\b\b\b\b\b\b\b\b\b\b\b\b\b\b\b\b\b\b\b\b\b\b\b\b\b\b\b\b\b\b\b\b\b\b\b\b\b\b\b\b\b\b\b\b\b\b\b\b\b\b\b\b\b\b\b\b\b\b\b\r",
      "412416/412416 [==============================] - 11s 27us/sample - loss: 237.6002 - reconstruction_loss: 103.6391 - KL_loss: 23.0370 - val_loss: 118.7340 - val_reconstruction_loss: 96.4548 - val_KL_loss: 22.2792 - lr: 0.0030\n",
      "Epoch 67/1000\n"
     ]
    },
    {
     "name": "stdout",
     "output_type": "stream",
     "text": [
      "\r",
      "412416/412416 [==============================] - ETA: 0s - loss: 236.4839 - reconstruction_loss: 103.0683 - KL_loss: 22.7523"
     ]
    },
    {
     "name": "stdout",
     "output_type": "stream",
     "text": [
      "\b\b\b\b\b\b\b\b\b\b\b\b\b\b\b\b\b\b\b\b\b\b\b\b\b\b\b\b\b\b\b\b\b\b\b\b\b\b\b\b\b\b\b\b\b\b\b\b\b\b\b\b\b\b\b\b\b\b\b\b\b\b\b\b\b\b\b\b\b\b\b\b\b\b\b\b\b\b\b\b\b\b\b\b\b\b\b\b\b\b\b\b\b\b\b\b\b\b\b\b\b\b\b\b\b\b\b\b\b\b\b\b\b\b\b\b\b\b\b\b\b\b\b\b\r",
      "412416/412416 [==============================] - 11s 27us/sample - loss: 236.4839 - reconstruction_loss: 103.0683 - KL_loss: 22.7523 - val_loss: 118.4386 - val_reconstruction_loss: 95.7405 - val_KL_loss: 22.6981 - lr: 0.0030\n",
      "Epoch 68/1000\n"
     ]
    },
    {
     "name": "stdout",
     "output_type": "stream",
     "text": [
      "\r",
      "412416/412416 [==============================] - ETA: 0s - loss: 235.6714 - reconstruction_loss: 102.3703 - KL_loss: 23.1635"
     ]
    },
    {
     "name": "stdout",
     "output_type": "stream",
     "text": [
      "\b\b\b\b\b\b\b\b\b\b\b\b\b\b\b\b\b\b\b\b\b\b\b\b\b\b\b\b\b\b\b\b\b\b\b\b\b\b\b\b\b\b\b\b\b\b\b\b\b\b\b\b\b\b\b\b\b\b\b\b\b\b\b\b\b\b\b\b\b\b\b\b\b\b\b\b\b\b\b\b\b\b\b\b\b\b\b\b\b\b\b\b\b\b\b\b\b\b\b\b\b\b\b\b\b\b\b\b\b\b\b\b\b\b\b\b\b\b\b\b\b\b\b\b\r",
      "412416/412416 [==============================] - 11s 28us/sample - loss: 235.6714 - reconstruction_loss: 102.3703 - KL_loss: 23.1635 - val_loss: 118.3258 - val_reconstruction_loss: 95.9139 - val_KL_loss: 22.4119 - lr: 0.0030\n",
      "Epoch 69/1000\n"
     ]
    },
    {
     "name": "stdout",
     "output_type": "stream",
     "text": [
      "\r",
      "412416/412416 [==============================] - ETA: 0s - loss: 235.4336 - reconstruction_loss: 102.5338 - KL_loss: 22.8697"
     ]
    },
    {
     "name": "stdout",
     "output_type": "stream",
     "text": [
      "\b\b\b\b\b\b\b\b\b\b\b\b\b\b\b\b\b\b\b\b\b\b\b\b\b\b\b\b\b\b\b\b\b\b\b\b\b\b\b\b\b\b\b\b\b\b\b\b\b\b\b\b\b\b\b\b\b\b\b\b\b\b\b\b\b\b\b\b\b\b\b\b\b\b\b\b\b\b\b\b\b\b\b\b\b\b\b\b\b\b\b\b\b\b\b\b\b\b\b\b\b\b\b\b\b\b\b\b\b\b\b\b\b\b\b\b\b\b\b\b\b\b\b\b\r",
      "412416/412416 [==============================] - 11s 27us/sample - loss: 235.4336 - reconstruction_loss: 102.5338 - KL_loss: 22.8697 - val_loss: 117.9722 - val_reconstruction_loss: 95.6686 - val_KL_loss: 22.3036 - lr: 0.0030\n",
      "Epoch 70/1000\n"
     ]
    },
    {
     "name": "stdout",
     "output_type": "stream",
     "text": [
      "\r",
      "412416/412416 [==============================] - ETA: 0s - loss: 234.4869 - reconstruction_loss: 102.1885 - KL_loss: 22.7833"
     ]
    },
    {
     "name": "stdout",
     "output_type": "stream",
     "text": [
      "\b\b\b\b\b\b\b\b\b\b\b\b\b\b\b\b\b\b\b\b\b\b\b\b\b\b\b\b\b\b\b\b\b\b\b\b\b\b\b\b\b\b\b\b\b\b\b\b\b\b\b\b\b\b\b\b\b\b\b\b\b\b\b\b\b\b\b\b\b\b\b\b\b\b\b\b\b\b\b\b\b\b\b\b\b\b\b\b\b\b\b\b\b\b\b\b\b\b\b\b\b\b\b\b\b\b\b\b\b\b\b\b\b\b\b\b\b\b\b\b\b\b\b\b\r",
      "412416/412416 [==============================] - 12s 28us/sample - loss: 234.4869 - reconstruction_loss: 102.1885 - KL_loss: 22.7833 - val_loss: 117.7725 - val_reconstruction_loss: 95.7849 - val_KL_loss: 21.9877 - lr: 0.0030\n",
      "Epoch 71/1000\n"
     ]
    },
    {
     "name": "stdout",
     "output_type": "stream",
     "text": [
      "\r",
      "412416/412416 [==============================] - ETA: 0s - loss: 234.1702 - reconstruction_loss: 102.3644 - KL_loss: 22.4510"
     ]
    },
    {
     "name": "stdout",
     "output_type": "stream",
     "text": [
      "\b\b\b\b\b\b\b\b\b\b\b\b\b\b\b\b\b\b\b\b\b\b\b\b\b\b\b\b\b\b\b\b\b\b\b\b\b\b\b\b\b\b\b\b\b\b\b\b\b\b\b\b\b\b\b\b\b\b\b\b\b\b\b\b\b\b\b\b\b\b\b\b\b\b\b\b\b\b\b\b\b\b\b\b\b\b\b\b\b\b\b\b\b\b\b\b\b\b\b\b\b\b\b\b\b\b\b\b\b\b\b\b\b\b\b\b\b\b\b\b\b\b\b\b\r",
      "412416/412416 [==============================] - 11s 28us/sample - loss: 234.1702 - reconstruction_loss: 102.3644 - KL_loss: 22.4510 - val_loss: 117.2421 - val_reconstruction_loss: 95.0841 - val_KL_loss: 22.1580 - lr: 0.0030\n",
      "Epoch 72/1000\n"
     ]
    },
    {
     "name": "stdout",
     "output_type": "stream",
     "text": [
      "\r",
      "412416/412416 [==============================] - ETA: 0s - loss: 233.1091 - reconstruction_loss: 101.6967 - KL_loss: 22.6350"
     ]
    },
    {
     "name": "stdout",
     "output_type": "stream",
     "text": [
      "\b\b\b\b\b\b\b\b\b\b\b\b\b\b\b\b\b\b\b\b\b\b\b\b\b\b\b\b\b\b\b\b\b\b\b\b\b\b\b\b\b\b\b\b\b\b\b\b\b\b\b\b\b\b\b\b\b\b\b\b\b\b\b\b\b\b\b\b\b\b\b\b\b\b\b\b\b\b\b\b\b\b\b\b\b\b\b\b\b\b\b\b\b\b\b\b\b\b\b\b\b\b\b\b\b\b\b\b\b\b\b\b\b\b\b\b\b\b\b\b\b\b\b\b\r",
      "412416/412416 [==============================] - 11s 27us/sample - loss: 233.1091 - reconstruction_loss: 101.6967 - KL_loss: 22.6350 - val_loss: 117.4803 - val_reconstruction_loss: 95.4981 - val_KL_loss: 21.9822 - lr: 0.0030\n",
      "Epoch 73/1000\n"
     ]
    },
    {
     "name": "stdout",
     "output_type": "stream",
     "text": [
      "\r",
      "412416/412416 [==============================] - ETA: 0s - loss: 233.3298 - reconstruction_loss: 102.0401 - KL_loss: 22.4463"
     ]
    },
    {
     "name": "stdout",
     "output_type": "stream",
     "text": [
      "\b\b\b\b\b\b\b\b\b\b\b\b\b\b\b\b\b\b\b\b\b\b\b\b\b\b\b\b\b\b\b\b\b\b\b\b\b\b\b\b\b\b\b\b\b\b\b\b\b\b\b\b\b\b\b\b\b\b\b\b\b\b\b\b\b\b\b\b\b\b\b\b\b\b\b\b\b\b\b\b\b\b\b\b\b\b\b\b\b\b\b\b\b\b\b\b\b\b\b\b\b\b\b\b\b\b\b\b\b\b\b\b\b\b\b\b\b\b\b\b\b\b\b\b\r",
      "412416/412416 [==============================] - 12s 28us/sample - loss: 233.3298 - reconstruction_loss: 102.0401 - KL_loss: 22.4463 - val_loss: 117.0315 - val_reconstruction_loss: 94.8259 - val_KL_loss: 22.2055 - lr: 0.0030\n",
      "Epoch 74/1000\n"
     ]
    },
    {
     "name": "stdout",
     "output_type": "stream",
     "text": [
      "\r",
      "412416/412416 [==============================] - ETA: 0s - loss: 232.4306 - reconstruction_loss: 101.3305 - KL_loss: 22.6866"
     ]
    },
    {
     "name": "stdout",
     "output_type": "stream",
     "text": [
      "\b\b\b\b\b\b\b\b\b\b\b\b\b\b\b\b\b\b\b\b\b\b\b\b\b\b\b\b\b\b\b\b\b\b\b\b\b\b\b\b\b\b\b\b\b\b\b\b\b\b\b\b\b\b\b\b\b\b\b\b\b\b\b\b\b\b\b\b\b\b\b\b\b\b\b\b\b\b\b\b\b\b\b\b\b\b\b\b\b\b\b\b\b\b\b\b\b\b\b\b\b\b\b\b\b\b\b\b\b\b\b\b\b\b\b\b\b\b\b\b\b\b\b\b\r",
      "412416/412416 [==============================] - 11s 27us/sample - loss: 232.4306 - reconstruction_loss: 101.3305 - KL_loss: 22.6866 - val_loss: 116.4596 - val_reconstruction_loss: 94.4775 - val_KL_loss: 21.9821 - lr: 0.0030\n",
      "Epoch 75/1000\n"
     ]
    },
    {
     "name": "stdout",
     "output_type": "stream",
     "text": [
      "\r",
      "412416/412416 [==============================] - ETA: 0s - loss: 231.4106 - reconstruction_loss: 101.0294 - KL_loss: 22.4488"
     ]
    },
    {
     "name": "stdout",
     "output_type": "stream",
     "text": [
      "\b\b\b\b\b\b\b\b\b\b\b\b\b\b\b\b\b\b\b\b\b\b\b\b\b\b\b\b\b\b\b\b\b\b\b\b\b\b\b\b\b\b\b\b\b\b\b\b\b\b\b\b\b\b\b\b\b\b\b\b\b\b\b\b\b\b\b\b\b\b\b\b\b\b\b\b\b\b\b\b\b\b\b\b\b\b\b\b\b\b\b\b\b\b\b\b\b\b\b\b\b\b\b\b\b\b\b\b\b\b\b\b\b\b\b\b\b\b\b\b\b\b\b\b\r",
      "412416/412416 [==============================] - 16s 38us/sample - loss: 231.4106 - reconstruction_loss: 101.0294 - KL_loss: 22.4488 - val_loss: 116.9288 - val_reconstruction_loss: 95.1631 - val_KL_loss: 21.7657 - lr: 0.0030\n",
      "Epoch 76/1000\n"
     ]
    },
    {
     "name": "stdout",
     "output_type": "stream",
     "text": [
      "\r",
      "412416/412416 [==============================] - ETA: 0s - loss: 231.9546 - reconstruction_loss: 101.6672 - KL_loss: 22.2494"
     ]
    },
    {
     "name": "stdout",
     "output_type": "stream",
     "text": [
      "\b\b\b\b\b\b\b\b\b\b\b\b\b\b\b\b\b\b\b\b\b\b\b\b\b\b\b\b\b\b\b\b\b\b\b\b\b\b\b\b\b\b\b\b\b\b\b\b\b\b\b\b\b\b\b\b\b\b\b\b\b\b\b\b\b\b\b\b\b\b\b\b\b\b\b\b\b\b\b\b\b\b\b\b\b\b\b\b\b\b\b\b\b\b\b\b\b\b\b\b\b\b\b\b\b\b\b\b\b\b\b\b\b\b\b\b\b\b\b\b\b\b\b\b\r",
      "412416/412416 [==============================] - 12s 28us/sample - loss: 231.9546 - reconstruction_loss: 101.6672 - KL_loss: 22.2494 - val_loss: 116.3644 - val_reconstruction_loss: 94.7436 - val_KL_loss: 21.6208 - lr: 0.0030\n",
      "Epoch 77/1000\n"
     ]
    },
    {
     "name": "stdout",
     "output_type": "stream",
     "text": [
      "\r",
      "412416/412416 [==============================] - ETA: 0s - loss: 230.8978 - reconstruction_loss: 101.2220 - KL_loss: 22.0945"
     ]
    },
    {
     "name": "stdout",
     "output_type": "stream",
     "text": [
      "\b\b\b\b\b\b\b\b\b\b\b\b\b\b\b\b\b\b\b\b\b\b\b\b\b\b\b\b\b\b\b\b\b\b\b\b\b\b\b\b\b\b\b\b\b\b\b\b\b\b\b\b\b\b\b\b\b\b\b\b\b\b\b\b\b\b\b\b\b\b\b\b\b\b\b\b\b\b\b\b\b\b\b\b\b\b\b\b\b\b\b\b\b\b\b\b\b\b\b\b\b\b\b\b\b\b\b\b\b\b\b\b\b\b\b\b\b\b\b\b\b\b\b\b\r",
      "412416/412416 [==============================] - 22s 52us/sample - loss: 230.8978 - reconstruction_loss: 101.2220 - KL_loss: 22.0945 - val_loss: 116.1819 - val_reconstruction_loss: 94.0309 - val_KL_loss: 22.1511 - lr: 0.0030\n",
      "Epoch 78/1000\n"
     ]
    },
    {
     "name": "stdout",
     "output_type": "stream",
     "text": [
      "\r",
      "412416/412416 [==============================] - ETA: 0s - loss: 230.2417 - reconstruction_loss: 100.5023 - KL_loss: 22.6188"
     ]
    },
    {
     "name": "stdout",
     "output_type": "stream",
     "text": [
      "\b\b\b\b\b\b\b\b\b\b\b\b\b\b\b\b\b\b\b\b\b\b\b\b\b\b\b\b\b\b\b\b\b\b\b\b\b\b\b\b\b\b\b\b\b\b\b\b\b\b\b\b\b\b\b\b\b\b\b\b\b\b\b\b\b\b\b\b\b\b\b\b\b\b\b\b\b\b\b\b\b\b\b\b\b\b\b\b\b\b\b\b\b\b\b\b\b\b\b\b\b\b\b\b\b\b\b\b\b\b\b\b\b\b\b\b\b\b\b\b\b\b\b\b\r",
      "412416/412416 [==============================] - 12s 29us/sample - loss: 230.2417 - reconstruction_loss: 100.5023 - KL_loss: 22.6188 - val_loss: 116.2559 - val_reconstruction_loss: 94.3340 - val_KL_loss: 21.9219 - lr: 0.0030\n",
      "Epoch 79/1000\n"
     ]
    },
    {
     "name": "stdout",
     "output_type": "stream",
     "text": [
      "\r",
      "412416/412416 [==============================] - ETA: 0s - loss: 230.1046 - reconstruction_loss: 100.8091 - KL_loss: 22.3865"
     ]
    },
    {
     "name": "stdout",
     "output_type": "stream",
     "text": [
      "\b\b\b\b\b\b\b\b\b\b\b\b\b\b\b\b\b\b\b\b\b\b\b\b\b\b\b\b\b\b\b\b\b\b\b\b\b\b\b\b\b\b\b\b\b\b\b\b\b\b\b\b\b\b\b\b\b\b\b\b\b\b\b\b\b\b\b\b\b\b\b\b\b\b\b\b\b\b\b\b\b\b\b\b\b\b\b\b\b\b\b\b\b\b\b\b\b\b\b\b\b\b\b\b\b\b\b\b\b\b\b\b\b\b\b\b\b\b\b\b\b\b\b\b\r",
      "412416/412416 [==============================] - 11s 27us/sample - loss: 230.1046 - reconstruction_loss: 100.8091 - KL_loss: 22.3865 - val_loss: 115.6960 - val_reconstruction_loss: 94.1231 - val_KL_loss: 21.5729 - lr: 0.0030\n",
      "Epoch 80/1000\n"
     ]
    },
    {
     "name": "stdout",
     "output_type": "stream",
     "text": [
      "\r",
      "412416/412416 [==============================] - ETA: 0s - loss: 229.1849 - reconstruction_loss: 100.5513 - KL_loss: 22.0592"
     ]
    },
    {
     "name": "stdout",
     "output_type": "stream",
     "text": [
      "\b\b\b\b\b\b\b\b\b\b\b\b\b\b\b\b\b\b\b\b\b\b\b\b\b\b\b\b\b\b\b\b\b\b\b\b\b\b\b\b\b\b\b\b\b\b\b\b\b\b\b\b\b\b\b\b\b\b\b\b\b\b\b\b\b\b\b\b\b\b\b\b\b\b\b\b\b\b\b\b\b\b\b\b\b\b\b\b\b\b\b\b\b\b\b\b\b\b\b\b\b\b\b\b\b\b\b\b\b\b\b\b\b\b\b\b\b\b\b\b\b\b\b\b\r",
      "412416/412416 [==============================] - 11s 27us/sample - loss: 229.1849 - reconstruction_loss: 100.5513 - KL_loss: 22.0592 - val_loss: 115.5218 - val_reconstruction_loss: 94.0739 - val_KL_loss: 21.4479 - lr: 0.0030\n",
      "Epoch 81/1000\n"
     ]
    },
    {
     "name": "stdout",
     "output_type": "stream",
     "text": [
      "\r",
      "412416/412416 [==============================] - ETA: 0s - loss: 228.7848 - reconstruction_loss: 100.5660 - KL_loss: 21.9128"
     ]
    },
    {
     "name": "stdout",
     "output_type": "stream",
     "text": [
      "\b\b\b\b\b\b\b\b\b\b\b\b\b\b\b\b\b\b\b\b\b\b\b\b\b\b\b\b\b\b\b\b\b\b\b\b\b\b\b\b\b\b\b\b\b\b\b\b\b\b\b\b\b\b\b\b\b\b\b\b\b\b\b\b\b\b\b\b\b\b\b\b\b\b\b\b\b\b\b\b\b\b\b\b\b\b\b\b\b\b\b\b\b\b\b\b\b\b\b\b\b\b\b\b\b\b\b\b\b\b\b\b\b\b\b\b\b\b\b\b\b\b\b\b\r",
      "412416/412416 [==============================] - 15s 37us/sample - loss: 228.7848 - reconstruction_loss: 100.5660 - KL_loss: 21.9128 - val_loss: 115.4417 - val_reconstruction_loss: 93.7637 - val_KL_loss: 21.6780 - lr: 0.0030\n",
      "Epoch 82/1000\n"
     ]
    },
    {
     "name": "stdout",
     "output_type": "stream",
     "text": [
      "\r",
      "412416/412416 [==============================] - ETA: 0s - loss: 228.2522 - reconstruction_loss: 100.1763 - KL_loss: 22.1497"
     ]
    },
    {
     "name": "stdout",
     "output_type": "stream",
     "text": [
      "\b\b\b\b\b\b\b\b\b\b\b\b\b\b\b\b\b\b\b\b\b\b\b\b\b\b\b\b\b\b\b\b\b\b\b\b\b\b\b\b\b\b\b\b\b\b\b\b\b\b\b\b\b\b\b\b\b\b\b\b\b\b\b\b\b\b\b\b\b\b\b\b\b\b\b\b\b\b\b\b\b\b\b\b\b\b\b\b\b\b\b\b\b\b\b\b\b\b\b\b\b\b\b\b\b\b\b\b\b\b\b\b\b\b\b\b\b\b\b\b\b\b\b\b\r",
      "412416/412416 [==============================] - 11s 27us/sample - loss: 228.2522 - reconstruction_loss: 100.1763 - KL_loss: 22.1497 - val_loss: 115.1303 - val_reconstruction_loss: 93.5565 - val_KL_loss: 21.5738 - lr: 0.0030\n",
      "Epoch 83/1000\n"
     ]
    },
    {
     "name": "stdout",
     "output_type": "stream",
     "text": [
      "\r",
      "412416/412416 [==============================] - ETA: 0s - loss: 227.5062 - reconstruction_loss: 99.9588 - KL_loss: 22.0440"
     ]
    },
    {
     "name": "stdout",
     "output_type": "stream",
     "text": [
      "\b\b\b\b\b\b\b\b\b\b\b\b\b\b\b\b\b\b\b\b\b\b\b\b\b\b\b\b\b\b\b\b\b\b\b\b\b\b\b\b\b\b\b\b\b\b\b\b\b\b\b\b\b\b\b\b\b\b\b\b\b\b\b\b\b\b\b\b\b\b\b\b\b\b\b\b\b\b\b\b\b\b\b\b\b\b\b\b\b\b\b\b\b\b\b\b\b\b\b\b\b\b\b\b\b\b\b\b\b\b\b\b\b\b\b\b\b\b\b\b\b\b\b\r",
      "412416/412416 [==============================] - 11s 27us/sample - loss: 227.5062 - reconstruction_loss: 99.9588 - KL_loss: 22.0440 - val_loss: 115.4343 - val_reconstruction_loss: 93.5239 - val_KL_loss: 21.9104 - lr: 0.0030\n",
      "Epoch 84/1000\n"
     ]
    },
    {
     "name": "stdout",
     "output_type": "stream",
     "text": [
      "\r",
      "412416/412416 [==============================] - ETA: 0s - loss: 227.9446 - reconstruction_loss: 99.9093 - KL_loss: 22.3900"
     ]
    },
    {
     "name": "stdout",
     "output_type": "stream",
     "text": [
      "\b\b\b\b\b\b\b\b\b\b\b\b\b\b\b\b\b\b\b\b\b\b\b\b\b\b\b\b\b\b\b\b\b\b\b\b\b\b\b\b\b\b\b\b\b\b\b\b\b\b\b\b\b\b\b\b\b\b\b\b\b\b\b\b\b\b\b\b\b\b\b\b\b\b\b\b\b\b\b\b\b\b\b\b\b\b\b\b\b\b\b\b\b\b\b\b\b\b\b\b\b\b\b\b\b\b\b\b\b\b\b\b\b\b\b\b\b\b\b\b\b\b\b\r",
      "412416/412416 [==============================] - 11s 27us/sample - loss: 227.9446 - reconstruction_loss: 99.9093 - KL_loss: 22.3900 - val_loss: 114.7301 - val_reconstruction_loss: 93.0433 - val_KL_loss: 21.6868 - lr: 0.0030\n",
      "Epoch 85/1000\n"
     ]
    },
    {
     "name": "stdout",
     "output_type": "stream",
     "text": [
      "\r",
      "412416/412416 [==============================] - ETA: 0s - loss: 226.5277 - reconstruction_loss: 99.3992 - KL_loss: 22.1512"
     ]
    },
    {
     "name": "stdout",
     "output_type": "stream",
     "text": [
      "\b\b\b\b\b\b\b\b\b\b\b\b\b\b\b\b\b\b\b\b\b\b\b\b\b\b\b\b\b\b\b\b\b\b\b\b\b\b\b\b\b\b\b\b\b\b\b\b\b\b\b\b\b\b\b\b\b\b\b\b\b\b\b\b\b\b\b\b\b\b\b\b\b\b\b\b\b\b\b\b\b\b\b\b\b\b\b\b\b\b\b\b\b\b\b\b\b\b\b\b\b\b\b\b\b\b\b\b\b\b\b\b\b\b\b\b\b\b\b\b\b\b\b\r",
      "412416/412416 [==============================] - 11s 27us/sample - loss: 226.5277 - reconstruction_loss: 99.3992 - KL_loss: 22.1512 - val_loss: 115.5427 - val_reconstruction_loss: 94.2869 - val_KL_loss: 21.2558 - lr: 0.0030\n",
      "Epoch 86/1000\n"
     ]
    },
    {
     "name": "stdout",
     "output_type": "stream",
     "text": [
      "\r",
      "412416/412416 [==============================] - ETA: 0s - loss: 227.5980 - reconstruction_loss: 100.6454 - KL_loss: 21.7286"
     ]
    },
    {
     "name": "stdout",
     "output_type": "stream",
     "text": [
      "\b\b\b\b\b\b\b\b\b\b\b\b\b\b\b\b\b\b\b\b\b\b\b\b\b\b\b\b\b\b\b\b\b\b\b\b\b\b\b\b\b\b\b\b\b\b\b\b\b\b\b\b\b\b\b\b\b\b\b\b\b\b\b\b\b\b\b\b\b\b\b\b\b\b\b\b\b\b\b\b\b\b\b\b\b\b\b\b\b\b\b\b\b\b\b\b\b\b\b\b\b\b\b\b\b\b\b\b\b\b\b\b\b\b\b\b\b\b\b\b\b\b\b\b\r",
      "412416/412416 [==============================] - 11s 27us/sample - loss: 227.5980 - reconstruction_loss: 100.6454 - KL_loss: 21.7286 - val_loss: 115.2589 - val_reconstruction_loss: 94.0944 - val_KL_loss: 21.1645 - lr: 0.0030\n",
      "Epoch 87/1000\n"
     ]
    },
    {
     "name": "stdout",
     "output_type": "stream",
     "text": [
      "\r",
      "412416/412416 [==============================] - ETA: 0s - loss: 226.9268 - reconstruction_loss: 100.4476 - KL_loss: 21.6412"
     ]
    },
    {
     "name": "stdout",
     "output_type": "stream",
     "text": [
      "\b\b\b\b\b\b\b\b\b\b\b\b\b\b\b\b\b\b\b\b\b\b\b\b\b\b\b\b\b\b\b\b\b\b\b\b\b\b\b\b\b\b\b\b\b\b\b\b\b\b\b\b\b\b\b\b\b\b\b\b\b\b\b\b\b\b\b\b\b\b\b\b\b\b\b\b\b\b\b\b\b\b\b\b\b\b\b\b\b\b\b\b\b\b\b\b\b\b\b\b\b\b\b\b\b\b\b\b\b\b\b\b\b\b\b\b\b\b\b\b\b\b\b\b\r",
      "412416/412416 [==============================] - 11s 27us/sample - loss: 226.9268 - reconstruction_loss: 100.4476 - KL_loss: 21.6412 - val_loss: 115.1523 - val_reconstruction_loss: 93.8767 - val_KL_loss: 21.2756 - lr: 0.0030\n",
      "Epoch 88/1000\n"
     ]
    },
    {
     "name": "stdout",
     "output_type": "stream",
     "text": [
      "\r",
      "412416/412416 [==============================] - ETA: 0s - loss: 226.7534 - reconstruction_loss: 100.2632 - KL_loss: 21.7377"
     ]
    },
    {
     "name": "stdout",
     "output_type": "stream",
     "text": [
      "\b\b\b\b\b\b\b\b\b\b\b\b\b\b\b\b\b\b\b\b\b\b\b\b\b\b\b\b\b\b\b\b\b\b\b\b\b\b\b\b\b\b\b\b\b\b\b\b\b\b\b\b\b\b\b\b\b\b\b\b\b\b\b\b\b\b\b\b\b\b\b\b\b\b\b\b\b\b\b\b\b\b\b\b\b\b\b\b\b\b\b\b\b\b\b\b\b\b\b\b\b\b\b\b\b\b\b\b\b\b\b\b\b\b\b\b\b\b\b\b\b\b\b\b\r",
      "412416/412416 [==============================] - 11s 27us/sample - loss: 226.7534 - reconstruction_loss: 100.2632 - KL_loss: 21.7377 - val_loss: 114.5627 - val_reconstruction_loss: 92.9672 - val_KL_loss: 21.5955 - lr: 0.0030\n",
      "Epoch 89/1000\n"
     ]
    },
    {
     "name": "stdout",
     "output_type": "stream",
     "text": [
      "\r",
      "412416/412416 [==============================] - ETA: 0s - loss: 225.5154 - reconstruction_loss: 99.3127 - KL_loss: 22.0698"
     ]
    },
    {
     "name": "stdout",
     "output_type": "stream",
     "text": [
      "\b\b\b\b\b\b\b\b\b\b\b\b\b\b\b\b\b\b\b\b\b\b\b\b\b\b\b\b\b\b\b\b\b\b\b\b\b\b\b\b\b\b\b\b\b\b\b\b\b\b\b\b\b\b\b\b\b\b\b\b\b\b\b\b\b\b\b\b\b\b\b\b\b\b\b\b\b\b\b\b\b\b\b\b\b\b\b\b\b\b\b\b\b\b\b\b\b\b\b\b\b\b\b\b\b\b\b\b\b\b\b\b\b\b\b\b\b\b\b\b\b\b\b\r",
      "412416/412416 [==============================] - 11s 27us/sample - loss: 225.5154 - reconstruction_loss: 99.3127 - KL_loss: 22.0698 - val_loss: 115.1079 - val_reconstruction_loss: 93.4751 - val_KL_loss: 21.6328 - lr: 0.0030\n",
      "Epoch 90/1000\n"
     ]
    },
    {
     "name": "stdout",
     "output_type": "stream",
     "text": [
      "\r",
      "412416/412416 [==============================] - ETA: 0s - loss: 226.3600 - reconstruction_loss: 99.7832 - KL_loss: 22.1005"
     ]
    },
    {
     "name": "stdout",
     "output_type": "stream",
     "text": [
      "\b\b\b\b\b\b\b\b\b\b\b\b\b\b\b\b\b\b\b\b\b\b\b\b\b\b\b\b\b\b\b\b\b\b\b\b\b\b\b\b\b\b\b\b\b\b\b\b\b\b\b\b\b\b\b\b\b\b\b\b\b\b\b\b\b\b\b\b\b\b\b\b\b\b\b\b\b\b\b\b\b\b\b\b\b\b\b\b\b\b\b\b\b\b\b\b\b\b\b\b\b\b\b\b\b\b\b\b\b\b\b\b\b\b\b\b\b\b\b\b\b\b\b\r",
      "412416/412416 [==============================] - 11s 27us/sample - loss: 226.3600 - reconstruction_loss: 99.7832 - KL_loss: 22.1005 - val_loss: 114.2405 - val_reconstruction_loss: 92.8097 - val_KL_loss: 21.4309 - lr: 0.0030\n",
      "Epoch 91/1000\n"
     ]
    },
    {
     "name": "stdout",
     "output_type": "stream",
     "text": [
      "\r",
      "412416/412416 [==============================] - ETA: 0s - loss: 224.7646 - reconstruction_loss: 99.1281 - KL_loss: 21.8909"
     ]
    },
    {
     "name": "stdout",
     "output_type": "stream",
     "text": [
      "\b\b\b\b\b\b\b\b\b\b\b\b\b\b\b\b\b\b\b\b\b\b\b\b\b\b\b\b\b\b\b\b\b\b\b\b\b\b\b\b\b\b\b\b\b\b\b\b\b\b\b\b\b\b\b\b\b\b\b\b\b\b\b\b\b\b\b\b\b\b\b\b\b\b\b\b\b\b\b\b\b\b\b\b\b\b\b\b\b\b\b\b\b\b\b\b\b\b\b\b\b\b\b\b\b\b\b\b\b\b\b\b\b\b\b\b\b\b\b\b\b\b\b\r",
      "412416/412416 [==============================] - 11s 27us/sample - loss: 224.7646 - reconstruction_loss: 99.1281 - KL_loss: 21.8909 - val_loss: 114.8859 - val_reconstruction_loss: 93.6236 - val_KL_loss: 21.2623 - lr: 0.0030\n",
      "Epoch 92/1000\n"
     ]
    },
    {
     "name": "stdout",
     "output_type": "stream",
     "text": [
      "\r",
      "412416/412416 [==============================] - ETA: 0s - loss: 225.7274 - reconstruction_loss: 99.9275 - KL_loss: 21.7216"
     ]
    },
    {
     "name": "stdout",
     "output_type": "stream",
     "text": [
      "\b\b\b\b\b\b\b\b\b\b\b\b\b\b\b\b\b\b\b\b\b\b\b\b\b\b\b\b\b\b\b\b\b\b\b\b\b\b\b\b\b\b\b\b\b\b\b\b\b\b\b\b\b\b\b\b\b\b\b\b\b\b\b\b\b\b\b\b\b\b\b\b\b\b\b\b\b\b\b\b\b\b\b\b\b\b\b\b\b\b\b\b\b\b\b\b\b\b\b\b\b\b\b\b\b\b\b\b\b\b\b\b\b\b\b\b\b\b\b\b\b\b\b\r",
      "412416/412416 [==============================] - 12s 29us/sample - loss: 225.7274 - reconstruction_loss: 99.9275 - KL_loss: 21.7216 - val_loss: 114.7792 - val_reconstruction_loss: 93.6851 - val_KL_loss: 21.0941 - lr: 0.0030\n",
      "Epoch 93/1000\n"
     ]
    },
    {
     "name": "stdout",
     "output_type": "stream",
     "text": [
      "\r",
      "412416/412416 [==============================] - ETA: 0s - loss: 225.4897 - reconstruction_loss: 99.9728 - KL_loss: 21.5625"
     ]
    },
    {
     "name": "stdout",
     "output_type": "stream",
     "text": [
      "\b\b\b\b\b\b\b\b\b\b\b\b\b\b\b\b\b\b\b\b\b\b\b\b\b\b\b\b\b\b\b\b\b\b\b\b\b\b\b\b\b\b\b\b\b\b\b\b\b\b\b\b\b\b\b\b\b\b\b\b\b\b\b\b\b\b\b\b\b\b\b\b\b\b\b\b\b\b\b\b\b\b\b\b\b\b\b\b\b\b\b\b\b\b\b\b\b\b\b\b\b\b\b\b\b\b\b\b\b\b\b\b\b\b\b\b\b\b\b\b\b\b\b\r",
      "412416/412416 [==============================] - 11s 27us/sample - loss: 225.4897 - reconstruction_loss: 99.9728 - KL_loss: 21.5625 - val_loss: 113.7074 - val_reconstruction_loss: 92.5926 - val_KL_loss: 21.1148 - lr: 0.0030\n",
      "Epoch 94/1000\n"
     ]
    },
    {
     "name": "stdout",
     "output_type": "stream",
     "text": [
      "\r",
      "412416/412416 [==============================] - ETA: 0s - loss: 223.4831 - reconstruction_loss: 98.9087 - KL_loss: 21.5880"
     ]
    },
    {
     "name": "stdout",
     "output_type": "stream",
     "text": [
      "\b\b\b\b\b\b\b\b\b\b\b\b\b\b\b\b\b\b\b\b\b\b\b\b\b\b\b\b\b\b\b\b\b\b\b\b\b\b\b\b\b\b\b\b\b\b\b\b\b\b\b\b\b\b\b\b\b\b\b\b\b\b\b\b\b\b\b\b\b\b\b\b\b\b\b\b\b\b\b\b\b\b\b\b\b\b\b\b\b\b\b\b\b\b\b\b\b\b\b\b\b\b\b\b\b\b\b\b\b\b\b\b\b\b\b\b\b\b\b\b\b\b\b\r",
      "412416/412416 [==============================] - 11s 26us/sample - loss: 223.4831 - reconstruction_loss: 98.9087 - KL_loss: 21.5880 - val_loss: 114.4660 - val_reconstruction_loss: 92.8904 - val_KL_loss: 21.5756 - lr: 0.0030\n",
      "Epoch 95/1000\n"
     ]
    },
    {
     "name": "stdout",
     "output_type": "stream",
     "text": [
      "\r",
      "412416/412416 [==============================] - ETA: 0s - loss: 224.3669 - reconstruction_loss: 99.1963 - KL_loss: 22.0281"
     ]
    },
    {
     "name": "stdout",
     "output_type": "stream",
     "text": [
      "\b\b\b\b\b\b\b\b\b\b\b\b\b\b\b\b\b\b\b\b\b\b\b\b\b\b\b\b\b\b\b\b\b\b\b\b\b\b\b\b\b\b\b\b\b\b\b\b\b\b\b\b\b\b\b\b\b\b\b\b\b\b\b\b\b\b\b\b\b\b\b\b\b\b\b\b\b\b\b\b\b\b\b\b\b\b\b\b\b\b\b\b\b\b\b\b\b\b\b\b\b\b\b\b\b\b\b\b\b\b\b\b\b\b\b\b\b\b\b\b\b\b\b\r",
      "412416/412416 [==============================] - 11s 26us/sample - loss: 224.3669 - reconstruction_loss: 99.1963 - KL_loss: 22.0281 - val_loss: 114.0362 - val_reconstruction_loss: 92.3558 - val_KL_loss: 21.6804 - lr: 0.0030\n",
      "Epoch 96/1000\n"
     ]
    },
    {
     "name": "stdout",
     "output_type": "stream",
     "text": [
      "\r",
      "412416/412416 [==============================] - ETA: 0s - loss: 223.9219 - reconstruction_loss: 98.6715 - KL_loss: 22.1387"
     ]
    },
    {
     "name": "stdout",
     "output_type": "stream",
     "text": [
      "\b\b\b\b\b\b\b\b\b\b\b\b\b\b\b\b\b\b\b\b\b\b\b\b\b\b\b\b\b\b\b\b\b\b\b\b\b\b\b\b\b\b\b\b\b\b\b\b\b\b\b\b\b\b\b\b\b\b\b\b\b\b\b\b\b\b\b\b\b\b\b\b\b\b\b\b\b\b\b\b\b\b\b\b\b\b\b\b\b\b\b\b\b\b\b\b\b\b\b\b\b\b\b\b\b\b\b\b\b\b\b\b\b\b\b\b\b\b\b\b\b\b\b\r",
      "412416/412416 [==============================] - 11s 27us/sample - loss: 223.9219 - reconstruction_loss: 98.6715 - KL_loss: 22.1387 - val_loss: 113.5038 - val_reconstruction_loss: 92.4201 - val_KL_loss: 21.0837 - lr: 0.0030\n",
      "Epoch 97/1000\n"
     ]
    },
    {
     "name": "stdout",
     "output_type": "stream",
     "text": [
      "\r",
      "412416/412416 [==============================] - ETA: 0s - loss: 222.5848 - reconstruction_loss: 98.7070 - KL_loss: 21.5319"
     ]
    },
    {
     "name": "stdout",
     "output_type": "stream",
     "text": [
      "\b\b\b\b\b\b\b\b\b\b\b\b\b\b\b\b\b\b\b\b\b\b\b\b\b\b\b\b\b\b\b\b\b\b\b\b\b\b\b\b\b\b\b\b\b\b\b\b\b\b\b\b\b\b\b\b\b\b\b\b\b\b\b\b\b\b\b\b\b\b\b\b\b\b\b\b\b\b\b\b\b\b\b\b\b\b\b\b\b\b\b\b\b\b\b\b\b\b\b\b\b\b\b\b\b\b\b\b\b\b\b\b\b\b\b\b\b\b\b\b\b\b\b\r",
      "412416/412416 [==============================] - 11s 27us/sample - loss: 222.5848 - reconstruction_loss: 98.7070 - KL_loss: 21.5319 - val_loss: 113.4173 - val_reconstruction_loss: 92.4898 - val_KL_loss: 20.9275 - lr: 0.0030\n",
      "Epoch 98/1000\n"
     ]
    },
    {
     "name": "stdout",
     "output_type": "stream",
     "text": [
      "\r",
      "412416/412416 [==============================] - ETA: 0s - loss: 222.3181 - reconstruction_loss: 98.7338 - KL_loss: 21.3909"
     ]
    },
    {
     "name": "stdout",
     "output_type": "stream",
     "text": [
      "\b\b\b\b\b\b\b\b\b\b\b\b\b\b\b\b\b\b\b\b\b\b\b\b\b\b\b\b\b\b\b\b\b\b\b\b\b\b\b\b\b\b\b\b\b\b\b\b\b\b\b\b\b\b\b\b\b\b\b\b\b\b\b\b\b\b\b\b\b\b\b\b\b\b\b\b\b\b\b\b\b\b\b\b\b\b\b\b\b\b\b\b\b\b\b\b\b\b\b\b\b\b\b\b\b\b\b\b\b\b\b\b\b\b\b\b\b\b\b\b\b\b\b\r",
      "412416/412416 [==============================] - 13s 33us/sample - loss: 222.3181 - reconstruction_loss: 98.7338 - KL_loss: 21.3909 - val_loss: 113.4968 - val_reconstruction_loss: 92.4294 - val_KL_loss: 21.0673 - lr: 0.0030\n",
      "Epoch 99/1000\n"
     ]
    },
    {
     "name": "stdout",
     "output_type": "stream",
     "text": [
      "\r",
      "412416/412416 [==============================] - ETA: 0s - loss: 222.2785 - reconstruction_loss: 98.7129 - KL_loss: 21.5122"
     ]
    },
    {
     "name": "stdout",
     "output_type": "stream",
     "text": [
      "\b\b\b\b\b\b\b\b\b\b\b\b\b\b\b\b\b\b\b\b\b\b\b\b\b\b\b\b\b\b\b\b\b\b\b\b\b\b\b\b\b\b\b\b\b\b\b\b\b\b\b\b\b\b\b\b\b\b\b\b\b\b\b\b\b\b\b\b\b\b\b\b\b\b\b\b\b\b\b\b\b\b\b\b\b\b\b\b\b\b\b\b\b\b\b\b\b\b\b\b\b\b\b\b\b\b\b\b\b\b\b\b\b\b\b\b\b\b\b\b\b\b\b\r",
      "412416/412416 [==============================] - 11s 28us/sample - loss: 222.2785 - reconstruction_loss: 98.7129 - KL_loss: 21.5122 - val_loss: 113.2041 - val_reconstruction_loss: 91.8765 - val_KL_loss: 21.3276 - lr: 0.0030\n",
      "Epoch 100/1000\n"
     ]
    },
    {
     "name": "stdout",
     "output_type": "stream",
     "text": [
      "\r",
      "412416/412416 [==============================] - ETA: 0s - loss: 221.7870 - reconstruction_loss: 98.1295 - KL_loss: 21.7899"
     ]
    },
    {
     "name": "stdout",
     "output_type": "stream",
     "text": [
      "\b\b\b\b\b\b\b\b\b\b\b\b\b\b\b\b\b\b\b\b\b\b\b\b\b\b\b\b\b\b\b\b\b\b\b\b\b\b\b\b\b\b\b\b\b\b\b\b\b\b\b\b\b\b\b\b\b\b\b\b\b\b\b\b\b\b\b\b\b\b\b\b\b\b\b\b\b\b\b\b\b\b\b\b\b\b\b\b\b\b\b\b\b\b\b\b\b\b\b\b\b\b\b\b\b\b\b\b\b\b\b\b\b\b\b\b\b\b\b\b\b\b\b\r",
      "412416/412416 [==============================] - 11s 27us/sample - loss: 221.7870 - reconstruction_loss: 98.1295 - KL_loss: 21.7899 - val_loss: 112.7265 - val_reconstruction_loss: 91.4598 - val_KL_loss: 21.2667 - lr: 0.0030\n",
      "Epoch 101/1000\n"
     ]
    },
    {
     "name": "stdout",
     "output_type": "stream",
     "text": [
      "\r",
      "412416/412416 [==============================] - ETA: 0s - loss: 220.6543 - reconstruction_loss: 97.7012 - KL_loss: 21.7176"
     ]
    },
    {
     "name": "stdout",
     "output_type": "stream",
     "text": [
      "\b\b\b\b\b\b\b\b\b\b\b\b\b\b\b\b\b\b\b\b\b\b\b\b\b\b\b\b\b\b\b\b\b\b\b\b\b\b\b\b\b\b\b\b\b\b\b\b\b\b\b\b\b\b\b\b\b\b\b\b\b\b\b\b\b\b\b\b\b\b\b\b\b\b\b\b\b\b\b\b\b\b\b\b\b\b\b\b\b\b\b\b\b\b\b\b\b\b\b\b\b\b\b\b\b\b\b\b\b\b\b\b\b\b\b\b\b\b\b\b\b\b\b\r",
      "412416/412416 [==============================] - 11s 26us/sample - loss: 220.6543 - reconstruction_loss: 97.7012 - KL_loss: 21.7176 - val_loss: 112.9011 - val_reconstruction_loss: 91.5712 - val_KL_loss: 21.3299 - lr: 0.0030\n",
      "Epoch 102/1000\n"
     ]
    },
    {
     "name": "stdout",
     "output_type": "stream",
     "text": [
      "\r",
      "412416/412416 [==============================] - ETA: 0s - loss: 220.9999 - reconstruction_loss: 97.7689 - KL_loss: 21.7812"
     ]
    },
    {
     "name": "stdout",
     "output_type": "stream",
     "text": [
      "\b\b\b\b\b\b\b\b\b\b\b\b\b\b\b\b\b\b\b\b\b\b\b\b\b\b\b\b\b\b\b\b\b\b\b\b\b\b\b\b\b\b\b\b\b\b\b\b\b\b\b\b\b\b\b\b\b\b\b\b\b\b\b\b\b\b\b\b\b\b\b\b\b\b\b\b\b\b\b\b\b\b\b\b\b\b\b\b\b\b\b\b\b\b\b\b\b\b\b\b\b\b\b\b\b\b\b\b\b\b\b\b\b\b\b\b\b\b\b\b\b\b\b\r",
      "412416/412416 [==============================] - 14s 34us/sample - loss: 220.9999 - reconstruction_loss: 97.7689 - KL_loss: 21.7812 - val_loss: 112.7531 - val_reconstruction_loss: 91.6383 - val_KL_loss: 21.1148 - lr: 0.0030\n",
      "Epoch 103/1000\n"
     ]
    },
    {
     "name": "stdout",
     "output_type": "stream",
     "text": [
      "\r",
      "412416/412416 [==============================] - ETA: 0s - loss: 220.5862 - reconstruction_loss: 97.8353 - KL_loss: 21.5574"
     ]
    },
    {
     "name": "stdout",
     "output_type": "stream",
     "text": [
      "\b\b\b\b\b\b\b\b\b\b\b\b\b\b\b\b\b\b\b\b\b\b\b\b\b\b\b\b\b\b\b\b\b\b\b\b\b\b\b\b\b\b\b\b\b\b\b\b\b\b\b\b\b\b\b\b\b\b\b\b\b\b\b\b\b\b\b\b\b\b\b\b\b\b\b\b\b\b\b\b\b\b\b\b\b\b\b\b\b\b\b\b\b\b\b\b\b\b\b\b\b\b\b\b\b\b\b\b\b\b\b\b\b\b\b\b\b\b\b\b\b\b\b\r",
      "412416/412416 [==============================] - 11s 27us/sample - loss: 220.5862 - reconstruction_loss: 97.8353 - KL_loss: 21.5574 - val_loss: 112.2497 - val_reconstruction_loss: 91.4482 - val_KL_loss: 20.8015 - lr: 0.0030\n",
      "Epoch 104/1000\n"
     ]
    },
    {
     "name": "stdout",
     "output_type": "stream",
     "text": [
      "\r",
      "412416/412416 [==============================] - ETA: 0s - loss: 219.3016 - reconstruction_loss: 97.6285 - KL_loss: 21.2607"
     ]
    },
    {
     "name": "stdout",
     "output_type": "stream",
     "text": [
      "\b\b\b\b\b\b\b\b\b\b\b\b\b\b\b\b\b\b\b\b\b\b\b\b\b\b\b\b\b\b\b\b\b\b\b\b\b\b\b\b\b\b\b\b\b\b\b\b\b\b\b\b\b\b\b\b\b\b\b\b\b\b\b\b\b\b\b\b\b\b\b\b\b\b\b\b\b\b\b\b\b\b\b\b\b\b\b\b\b\b\b\b\b\b\b\b\b\b\b\b\b\b\b\b\b\b\b\b\b\b\b\b\b\b\b\b\b\b\b\b\b\b\b\r",
      "412416/412416 [==============================] - 11s 27us/sample - loss: 219.3016 - reconstruction_loss: 97.6285 - KL_loss: 21.2607 - val_loss: 113.2321 - val_reconstruction_loss: 92.4061 - val_KL_loss: 20.8260 - lr: 0.0030\n",
      "Epoch 105/1000\n"
     ]
    },
    {
     "name": "stdout",
     "output_type": "stream",
     "text": [
      "\r",
      "412416/412416 [==============================] - ETA: 0s - loss: 220.6112 - reconstruction_loss: 98.6176 - KL_loss: 21.2651"
     ]
    },
    {
     "name": "stdout",
     "output_type": "stream",
     "text": [
      "\b\b\b\b\b\b\b\b\b\b\b\b\b\b\b\b\b\b\b\b\b\b\b\b\b\b\b\b\b\b\b\b\b\b\b\b\b\b\b\b\b\b\b\b\b\b\b\b\b\b\b\b\b\b\b\b\b\b\b\b\b\b\b\b\b\b\b\b\b\b\b\b\b\b\b\b\b\b\b\b\b\b\b\b\b\b\b\b\b\b\b\b\b\b\b\b\b\b\b\b\b\b\b\b\b\b\b\b\b\b\b\b\b\b\b\b\b\b\b\b\b\b\b\r",
      "412416/412416 [==============================] - 11s 27us/sample - loss: 220.6112 - reconstruction_loss: 98.6176 - KL_loss: 21.2651 - val_loss: 112.2283 - val_reconstruction_loss: 91.0978 - val_KL_loss: 21.1305 - lr: 0.0030\n",
      "Epoch 106/1000\n"
     ]
    },
    {
     "name": "stdout",
     "output_type": "stream",
     "text": [
      "\r",
      "412416/412416 [==============================] - ETA: 0s - loss: 219.4192 - reconstruction_loss: 97.3314 - KL_loss: 21.5854"
     ]
    },
    {
     "name": "stdout",
     "output_type": "stream",
     "text": [
      "\b\b\b\b\b\b\b\b\b\b\b\b\b\b\b\b\b\b\b\b\b\b\b\b\b\b\b\b\b\b\b\b\b\b\b\b\b\b\b\b\b\b\b\b\b\b\b\b\b\b\b\b\b\b\b\b\b\b\b\b\b\b\b\b\b\b\b\b\b\b\b\b\b\b\b\b\b\b\b\b\b\b\b\b\b\b\b\b\b\b\b\b\b\b\b\b\b\b\b\b\b\b\b\b\b\b\b\b\b\b\b\b\b\b\b\b\b\b\b\b\b\b\b\r",
      "412416/412416 [==============================] - 11s 27us/sample - loss: 219.4192 - reconstruction_loss: 97.3314 - KL_loss: 21.5854 - val_loss: 112.9040 - val_reconstruction_loss: 91.7392 - val_KL_loss: 21.1648 - lr: 0.0030\n",
      "Epoch 107/1000\n"
     ]
    },
    {
     "name": "stdout",
     "output_type": "stream",
     "text": [
      "\r",
      "412416/412416 [==============================] - ETA: 0s - loss: 219.6420 - reconstruction_loss: 97.8547 - KL_loss: 21.6382"
     ]
    },
    {
     "name": "stdout",
     "output_type": "stream",
     "text": [
      "\b\b\b\b\b\b\b\b\b\b\b\b\b\b\b\b\b\b\b\b\b\b\b\b\b\b\b\b\b\b\b\b\b\b\b\b\b\b\b\b\b\b\b\b\b\b\b\b\b\b\b\b\b\b\b\b\b\b\b\b\b\b\b\b\b\b\b\b\b\b\b\b\b\b\b\b\b\b\b\b\b\b\b\b\b\b\b\b\b\b\b\b\b\b\b\b\b\b\b\b\b\b\b\b\b\b\b\b\b\b\b\b\b\b\b\b\b\b\b\b\b\b\b\r",
      "412416/412416 [==============================] - 11s 27us/sample - loss: 219.6420 - reconstruction_loss: 97.8547 - KL_loss: 21.6382 - val_loss: 112.4225 - val_reconstruction_loss: 91.4294 - val_KL_loss: 20.9930 - lr: 0.0030\n",
      "Epoch 108/1000\n"
     ]
    },
    {
     "name": "stdout",
     "output_type": "stream",
     "text": [
      "\r",
      "412416/412416 [==============================] - ETA: 0s - loss: 219.1909 - reconstruction_loss: 97.6261 - KL_loss: 21.4509"
     ]
    },
    {
     "name": "stdout",
     "output_type": "stream",
     "text": [
      "\b\b\b\b\b\b\b\b\b\b\b\b\b\b\b\b\b\b\b\b\b\b\b\b\b\b\b\b\b\b\b\b\b\b\b\b\b\b\b\b\b\b\b\b\b\b\b\b\b\b\b\b\b\b\b\b\b\b\b\b\b\b\b\b\b\b\b\b\b\b\b\b\b\b\b\b\b\b\b\b\b\b\b\b\b\b\b\b\b\b\b\b\b\b\b\b\b\b\b\b\b\b\b\b\b\b\b\b\b\b\b\b\b\b\b\b\b\b\b\b\b\b\b\r",
      "412416/412416 [==============================] - 11s 27us/sample - loss: 219.1909 - reconstruction_loss: 97.6261 - KL_loss: 21.4509 - val_loss: 112.7334 - val_reconstruction_loss: 91.7400 - val_KL_loss: 20.9934 - lr: 0.0030\n",
      "Epoch 109/1000\n"
     ]
    },
    {
     "name": "stdout",
     "output_type": "stream",
     "text": [
      "\r",
      "412416/412416 [==============================] - ETA: 0s - loss: 219.1650 - reconstruction_loss: 97.8739 - KL_loss: 21.4425"
     ]
    },
    {
     "name": "stdout",
     "output_type": "stream",
     "text": [
      "\b\b\b\b\b\b\b\b\b\b\b\b\b\b\b\b\b\b\b\b\b\b\b\b\b\b\b\b\b\b\b\b\b\b\b\b\b\b\b\b\b\b\b\b\b\b\b\b\b\b\b\b\b\b\b\b\b\b\b\b\b\b\b\b\b\b\b\b\b\b\b\b\b\b\b\b\b\b\b\b\b\b\b\b\b\b\b\b\b\b\b\b\b\b\b\b\b\b\b\b\b\b\b\b\b\b\b\b\b\b\b\b\b\b\b\b\b\b\b\b\b\b\b\r",
      "412416/412416 [==============================] - 11s 26us/sample - loss: 219.1650 - reconstruction_loss: 97.8739 - KL_loss: 21.4425 - val_loss: 111.8604 - val_reconstruction_loss: 90.9979 - val_KL_loss: 20.8625 - lr: 0.0030\n",
      "Epoch 110/1000\n"
     ]
    },
    {
     "name": "stdout",
     "output_type": "stream",
     "text": [
      "\r",
      "412416/412416 [==============================] - ETA: 0s - loss: 217.7822 - reconstruction_loss: 97.1653 - KL_loss: 21.3086"
     ]
    },
    {
     "name": "stdout",
     "output_type": "stream",
     "text": [
      "\b\b\b\b\b\b\b\b\b\b\b\b\b\b\b\b\b\b\b\b\b\b\b\b\b\b\b\b\b\b\b\b\b\b\b\b\b\b\b\b\b\b\b\b\b\b\b\b\b\b\b\b\b\b\b\b\b\b\b\b\b\b\b\b\b\b\b\b\b\b\b\b\b\b\b\b\b\b\b\b\b\b\b\b\b\b\b\b\b\b\b\b\b\b\b\b\b\b\b\b\b\b\b\b\b\b\b\b\b\b\b\b\b\b\b\b\b\b\b\b\b\b\b\r",
      "412416/412416 [==============================] - 12s 29us/sample - loss: 217.7822 - reconstruction_loss: 97.1653 - KL_loss: 21.3086 - val_loss: 112.1439 - val_reconstruction_loss: 91.4702 - val_KL_loss: 20.6737 - lr: 0.0030\n",
      "Epoch 111/1000\n"
     ]
    },
    {
     "name": "stdout",
     "output_type": "stream",
     "text": [
      "\r",
      "412416/412416 [==============================] - ETA: 0s - loss: 218.1520 - reconstruction_loss: 97.6002 - KL_loss: 21.1342"
     ]
    },
    {
     "name": "stdout",
     "output_type": "stream",
     "text": [
      "\b\b\b\b\b\b\b\b\b\b\b\b\b\b\b\b\b\b\b\b\b\b\b\b\b\b\b\b\b\b\b\b\b\b\b\b\b\b\b\b\b\b\b\b\b\b\b\b\b\b\b\b\b\b\b\b\b\b\b\b\b\b\b\b\b\b\b\b\b\b\b\b\b\b\b\b\b\b\b\b\b\b\b\b\b\b\b\b\b\b\b\b\b\b\b\b\b\b\b\b\b\b\b\b\b\b\b\b\b\b\b\b\b\b\b\b\b\b\b\b\b\b\b\r",
      "412416/412416 [==============================] - 11s 27us/sample - loss: 218.1520 - reconstruction_loss: 97.6002 - KL_loss: 21.1342 - val_loss: 111.7398 - val_reconstruction_loss: 90.7750 - val_KL_loss: 20.9648 - lr: 0.0030\n",
      "Epoch 112/1000\n"
     ]
    },
    {
     "name": "stdout",
     "output_type": "stream",
     "text": [
      "\r",
      "412416/412416 [==============================] - ETA: 0s - loss: 217.3579 - reconstruction_loss: 96.8853 - KL_loss: 21.4273"
     ]
    },
    {
     "name": "stdout",
     "output_type": "stream",
     "text": [
      "\b\b\b\b\b\b\b\b\b\b\b\b\b\b\b\b\b\b\b\b\b\b\b\b\b\b\b\b\b\b\b\b\b\b\b\b\b\b\b\b\b\b\b\b\b\b\b\b\b\b\b\b\b\b\b\b\b\b\b\b\b\b\b\b\b\b\b\b\b\b\b\b\b\b\b\b\b\b\b\b\b\b\b\b\b\b\b\b\b\b\b\b\b\b\b\b\b\b\b\b\b\b\b\b\b\b\b\b\b\b\b\b\b\b\b\b\b\b\b\b\b\b\b\r",
      "412416/412416 [==============================] - 11s 26us/sample - loss: 217.3579 - reconstruction_loss: 96.8853 - KL_loss: 21.4273 - val_loss: 112.1434 - val_reconstruction_loss: 91.2851 - val_KL_loss: 20.8584 - lr: 0.0030\n",
      "Epoch 113/1000\n"
     ]
    },
    {
     "name": "stdout",
     "output_type": "stream",
     "text": [
      "\r",
      "412416/412416 [==============================] - ETA: 0s - loss: 217.7580 - reconstruction_loss: 97.4180 - KL_loss: 21.3055"
     ]
    },
    {
     "name": "stdout",
     "output_type": "stream",
     "text": [
      "\b\b\b\b\b\b\b\b\b\b\b\b\b\b\b\b\b\b\b\b\b\b\b\b\b\b\b\b\b\b\b\b\b\b\b\b\b\b\b\b\b\b\b\b\b\b\b\b\b\b\b\b\b\b\b\b\b\b\b\b\b\b\b\b\b\b\b\b\b\b\b\b\b\b\b\b\b\b\b\b\b\b\b\b\b\b\b\b\b\b\b\b\b\b\b\b\b\b\b\b\b\b\b\b\b\b\b\b\b\b\b\b\b\b\b\b\b\b\b\b\b\b\b\r",
      "412416/412416 [==============================] - 11s 27us/sample - loss: 217.7580 - reconstruction_loss: 97.4180 - KL_loss: 21.3055 - val_loss: 111.6488 - val_reconstruction_loss: 90.9694 - val_KL_loss: 20.6794 - lr: 0.0030\n",
      "Epoch 114/1000\n"
     ]
    },
    {
     "name": "stdout",
     "output_type": "stream",
     "text": [
      "\r",
      "412416/412416 [==============================] - ETA: 0s - loss: 216.7480 - reconstruction_loss: 97.0642 - KL_loss: 21.1368"
     ]
    },
    {
     "name": "stdout",
     "output_type": "stream",
     "text": [
      "\b\b\b\b\b\b\b\b\b\b\b\b\b\b\b\b\b\b\b\b\b\b\b\b\b\b\b\b\b\b\b\b\b\b\b\b\b\b\b\b\b\b\b\b\b\b\b\b\b\b\b\b\b\b\b\b\b\b\b\b\b\b\b\b\b\b\b\b\b\b\b\b\b\b\b\b\b\b\b\b\b\b\b\b\b\b\b\b\b\b\b\b\b\b\b\b\b\b\b\b\b\b\b\b\b\b\b\b\b\b\b\b\b\b\b\b\b\b\b\b\b\b\b\r",
      "412416/412416 [==============================] - 11s 26us/sample - loss: 216.7480 - reconstruction_loss: 97.0642 - KL_loss: 21.1368 - val_loss: 112.2686 - val_reconstruction_loss: 91.5762 - val_KL_loss: 20.6924 - lr: 0.0030\n",
      "Epoch 115/1000\n"
     ]
    },
    {
     "name": "stdout",
     "output_type": "stream",
     "text": [
      "\r",
      "412416/412416 [==============================] - ETA: 0s - loss: 217.1082 - reconstruction_loss: 97.6905 - KL_loss: 21.1419"
     ]
    },
    {
     "name": "stdout",
     "output_type": "stream",
     "text": [
      "\b\b\b\b\b\b\b\b\b\b\b\b\b\b\b\b\b\b\b\b\b\b\b\b\b\b\b\b\b\b\b\b\b\b\b\b\b\b\b\b\b\b\b\b\b\b\b\b\b\b\b\b\b\b\b\b\b\b\b\b\b\b\b\b\b\b\b\b\b\b\b\b\b\b\b\b\b\b\b\b\b\b\b\b\b\b\b\b\b\b\b\b\b\b\b\b\b\b\b\b\b\b\b\b\b\b\b\b\b\b\b\b\b\b\b\b\b\b\b\b\b\b\b\r",
      "412416/412416 [==============================] - 11s 26us/sample - loss: 217.1082 - reconstruction_loss: 97.6905 - KL_loss: 21.1419 - val_loss: 111.5872 - val_reconstruction_loss: 90.8120 - val_KL_loss: 20.7752 - lr: 0.0030\n",
      "Epoch 116/1000\n"
     ]
    },
    {
     "name": "stdout",
     "output_type": "stream",
     "text": [
      "\r",
      "412416/412416 [==============================] - ETA: 0s - loss: 216.2840 - reconstruction_loss: 96.9474 - KL_loss: 21.2269"
     ]
    },
    {
     "name": "stdout",
     "output_type": "stream",
     "text": [
      "\b\b\b\b\b\b\b\b\b\b\b\b\b\b\b\b\b\b\b\b\b\b\b\b\b\b\b\b\b\b\b\b\b\b\b\b\b\b\b\b\b\b\b\b\b\b\b\b\b\b\b\b\b\b\b\b\b\b\b\b\b\b\b\b\b\b\b\b\b\b\b\b\b\b\b\b\b\b\b\b\b\b\b\b\b\b\b\b\b\b\b\b\b\b\b\b\b\b\b\b\b\b\b\b\b\b\b\b\b\b\b\b\b\b\b\b\b\b\b\b\b\b\b\r",
      "412416/412416 [==============================] - 11s 26us/sample - loss: 216.2840 - reconstruction_loss: 96.9474 - KL_loss: 21.2269 - val_loss: 111.4928 - val_reconstruction_loss: 90.7993 - val_KL_loss: 20.6935 - lr: 0.0030\n",
      "Epoch 117/1000\n"
     ]
    },
    {
     "name": "stdout",
     "output_type": "stream",
     "text": [
      "\r",
      "412416/412416 [==============================] - ETA: 0s - loss: 215.8781 - reconstruction_loss: 96.8972 - KL_loss: 21.1390"
     ]
    },
    {
     "name": "stdout",
     "output_type": "stream",
     "text": [
      "\b\b\b\b\b\b\b\b\b\b\b\b\b\b\b\b\b\b\b\b\b\b\b\b\b\b\b\b\b\b\b\b\b\b\b\b\b\b\b\b\b\b\b\b\b\b\b\b\b\b\b\b\b\b\b\b\b\b\b\b\b\b\b\b\b\b\b\b\b\b\b\b\b\b\b\b\b\b\b\b\b\b\b\b\b\b\b\b\b\b\b\b\b\b\b\b\b\b\b\b\b\b\b\b\b\b\b\b\b\b\b\b\b\b\b\b\b\b\b\b\b\b\b\r",
      "412416/412416 [==============================] - 11s 26us/sample - loss: 215.8781 - reconstruction_loss: 96.8972 - KL_loss: 21.1390 - val_loss: 111.4221 - val_reconstruction_loss: 90.8491 - val_KL_loss: 20.5731 - lr: 0.0030\n",
      "Epoch 118/1000\n"
     ]
    },
    {
     "name": "stdout",
     "output_type": "stream",
     "text": [
      "\r",
      "412416/412416 [==============================] - ETA: 0s - loss: 215.3926 - reconstruction_loss: 96.9065 - KL_loss: 21.0260"
     ]
    },
    {
     "name": "stdout",
     "output_type": "stream",
     "text": [
      "\b\b\b\b\b\b\b\b\b\b\b\b\b\b\b\b\b\b\b\b\b\b\b\b\b\b\b\b\b\b\b\b\b\b\b\b\b\b\b\b\b\b\b\b\b\b\b\b\b\b\b\b\b\b\b\b\b\b\b\b\b\b\b\b\b\b\b\b\b\b\b\b\b\b\b\b\b\b\b\b\b\b\b\b\b\b\b\b\b\b\b\b\b\b\b\b\b\b\b\b\b\b\b\b\b\b\b\b\b\b\b\b\b\b\b\b\b\b\b\b\b\b\b\r",
      "412416/412416 [==============================] - 11s 26us/sample - loss: 215.3926 - reconstruction_loss: 96.9065 - KL_loss: 21.0260 - val_loss: 111.4074 - val_reconstruction_loss: 90.4810 - val_KL_loss: 20.9264 - lr: 0.0030\n",
      "Epoch 119/1000\n"
     ]
    },
    {
     "name": "stdout",
     "output_type": "stream",
     "text": [
      "\r",
      "412416/412416 [==============================] - ETA: 0s - loss: 215.4910 - reconstruction_loss: 96.5313 - KL_loss: 21.3875"
     ]
    },
    {
     "name": "stdout",
     "output_type": "stream",
     "text": [
      "\b\b\b\b\b\b\b\b\b\b\b\b\b\b\b\b\b\b\b\b\b\b\b\b\b\b\b\b\b\b\b\b\b\b\b\b\b\b\b\b\b\b\b\b\b\b\b\b\b\b\b\b\b\b\b\b\b\b\b\b\b\b\b\b\b\b\b\b\b\b\b\b\b\b\b\b\b\b\b\b\b\b\b\b\b\b\b\b\b\b\b\b\b\b\b\b\b\b\b\b\b\b\b\b\b\b\b\b\b\b\b\b\b\b\b\b\b\b\b\b\b\b\b\r",
      "412416/412416 [==============================] - 11s 27us/sample - loss: 215.4910 - reconstruction_loss: 96.5313 - KL_loss: 21.3875 - val_loss: 112.1481 - val_reconstruction_loss: 91.1090 - val_KL_loss: 21.0391 - lr: 0.0030\n",
      "Epoch 120/1000\n"
     ]
    },
    {
     "name": "stdout",
     "output_type": "stream",
     "text": [
      "\r",
      "412416/412416 [==============================] - ETA: 0s - loss: 216.0005 - reconstruction_loss: 97.1865 - KL_loss: 21.4772"
     ]
    },
    {
     "name": "stdout",
     "output_type": "stream",
     "text": [
      "\b\b\b\b\b\b\b\b\b\b\b\b\b\b\b\b\b\b\b\b\b\b\b\b\b\b\b\b\b\b\b\b\b\b\b\b\b\b\b\b\b\b\b\b\b\b\b\b\b\b\b\b\b\b\b\b\b\b\b\b\b\b\b\b\b\b\b\b\b\b\b\b\b\b\b\b\b\b\b\b\b\b\b\b\b\b\b\b\b\b\b\b\b\b\b\b\b\b\b\b\b\b\b\b\b\b\b\b\b\b\b\b\b\b\b\b\b\b\b\b\b\b\b\r",
      "412416/412416 [==============================] - 11s 27us/sample - loss: 216.0005 - reconstruction_loss: 97.1865 - KL_loss: 21.4772 - val_loss: 110.9853 - val_reconstruction_loss: 90.1603 - val_KL_loss: 20.8250 - lr: 0.0030\n",
      "Epoch 121/1000\n"
     ]
    },
    {
     "name": "stdout",
     "output_type": "stream",
     "text": [
      "\r",
      "412416/412416 [==============================] - ETA: 0s - loss: 214.2945 - reconstruction_loss: 96.1986 - KL_loss: 21.2718"
     ]
    },
    {
     "name": "stdout",
     "output_type": "stream",
     "text": [
      "\b\b\b\b\b\b\b\b\b\b\b\b\b\b\b\b\b\b\b\b\b\b\b\b\b\b\b\b\b\b\b\b\b\b\b\b\b\b\b\b\b\b\b\b\b\b\b\b\b\b\b\b\b\b\b\b\b\b\b\b\b\b\b\b\b\b\b\b\b\b\b\b\b\b\b\b\b\b\b\b\b\b\b\b\b\b\b\b\b\b\b\b\b\b\b\b\b\b\b\b\b\b\b\b\b\b\b\b\b\b\b\b\b\b\b\b\b\b\b\b\b\b\b\r",
      "412416/412416 [==============================] - 11s 27us/sample - loss: 214.2945 - reconstruction_loss: 96.1986 - KL_loss: 21.2718 - val_loss: 111.0880 - val_reconstruction_loss: 90.6796 - val_KL_loss: 20.4084 - lr: 0.0030\n",
      "Epoch 122/1000\n"
     ]
    },
    {
     "name": "stdout",
     "output_type": "stream",
     "text": [
      "\r",
      "412416/412416 [==============================] - ETA: 0s - loss: 214.3315 - reconstruction_loss: 96.7447 - KL_loss: 20.8558"
     ]
    },
    {
     "name": "stdout",
     "output_type": "stream",
     "text": [
      "\b\b\b\b\b\b\b\b\b\b\b\b\b\b\b\b\b\b\b\b\b\b\b\b\b\b\b\b\b\b\b\b\b\b\b\b\b\b\b\b\b\b\b\b\b\b\b\b\b\b\b\b\b\b\b\b\b\b\b\b\b\b\b\b\b\b\b\b\b\b\b\b\b\b\b\b\b\b\b\b\b\b\b\b\b\b\b\b\b\b\b\b\b\b\b\b\b\b\b\b\b\b\b\b\b\b\b\b\b\b\b\b\b\b\b\b\b\b\b\b\b\b\b\r",
      "412416/412416 [==============================] - 11s 26us/sample - loss: 214.3315 - reconstruction_loss: 96.7447 - KL_loss: 20.8558 - val_loss: 111.1496 - val_reconstruction_loss: 90.6697 - val_KL_loss: 20.4799 - lr: 0.0030\n",
      "Epoch 123/1000\n"
     ]
    },
    {
     "name": "stdout",
     "output_type": "stream",
     "text": [
      "\r",
      "412416/412416 [==============================] - ETA: 0s - loss: 214.3375 - reconstruction_loss: 96.7169 - KL_loss: 20.9258"
     ]
    },
    {
     "name": "stdout",
     "output_type": "stream",
     "text": [
      "\b\b\b\b\b\b\b\b\b\b\b\b\b\b\b\b\b\b\b\b\b\b\b\b\b\b\b\b\b\b\b\b\b\b\b\b\b\b\b\b\b\b\b\b\b\b\b\b\b\b\b\b\b\b\b\b\b\b\b\b\b\b\b\b\b\b\b\b\b\b\b\b\b\b\b\b\b\b\b\b\b\b\b\b\b\b\b\b\b\b\b\b\b\b\b\b\b\b\b\b\b\b\b\b\b\b\b\b\b\b\b\b\b\b\b\b\b\b\b\b\b\b\b\r",
      "412416/412416 [==============================] - 11s 26us/sample - loss: 214.3375 - reconstruction_loss: 96.7169 - KL_loss: 20.9258 - val_loss: 110.8804 - val_reconstruction_loss: 90.1404 - val_KL_loss: 20.7400 - lr: 0.0030\n",
      "Epoch 124/1000\n"
     ]
    },
    {
     "name": "stdout",
     "output_type": "stream",
     "text": [
      "\r",
      "412416/412416 [==============================] - ETA: 0s - loss: 213.6463 - reconstruction_loss: 96.1906 - KL_loss: 21.1788"
     ]
    },
    {
     "name": "stdout",
     "output_type": "stream",
     "text": [
      "\b\b\b\b\b\b\b\b\b\b\b\b\b\b\b\b\b\b\b\b\b\b\b\b\b\b\b\b\b\b\b\b\b\b\b\b\b\b\b\b\b\b\b\b\b\b\b\b\b\b\b\b\b\b\b\b\b\b\b\b\b\b\b\b\b\b\b\b\b\b\b\b\b\b\b\b\b\b\b\b\b\b\b\b\b\b\b\b\b\b\b\b\b\b\b\b\b\b\b\b\b\b\b\b\b\b\b\b\b\b\b\b\b\b\b\b\b\b\b\b\b\b\b\r",
      "412416/412416 [==============================] - 11s 26us/sample - loss: 213.6463 - reconstruction_loss: 96.1906 - KL_loss: 21.1788 - val_loss: 110.8751 - val_reconstruction_loss: 89.9979 - val_KL_loss: 20.8772 - lr: 0.0030\n",
      "Epoch 125/1000\n"
     ]
    },
    {
     "name": "stdout",
     "output_type": "stream",
     "text": [
      "\r",
      "412416/412416 [==============================] - ETA: 0s - loss: 213.2132 - reconstruction_loss: 96.0098 - KL_loss: 21.3326"
     ]
    },
    {
     "name": "stdout",
     "output_type": "stream",
     "text": [
      "\b\b\b\b\b\b\b\b\b\b\b\b\b\b\b\b\b\b\b\b\b\b\b\b\b\b\b\b\b\b\b\b\b\b\b\b\b\b\b\b\b\b\b\b\b\b\b\b\b\b\b\b\b\b\b\b\b\b\b\b\b\b\b\b\b\b\b\b\b\b\b\b\b\b\b\b\b\b\b\b\b\b\b\b\b\b\b\b\b\b\b\b\b\b\b\b\b\b\b\b\b\b\b\b\b\b\b\b\b\b\b\b\b\b\b\b\b\b\b\b\b\b\b\r",
      "412416/412416 [==============================] - 11s 26us/sample - loss: 213.2132 - reconstruction_loss: 96.0098 - KL_loss: 21.3326 - val_loss: 110.8307 - val_reconstruction_loss: 90.1594 - val_KL_loss: 20.6713 - lr: 0.0030\n",
      "Epoch 126/1000\n"
     ]
    },
    {
     "name": "stdout",
     "output_type": "stream",
     "text": [
      "\r",
      "412416/412416 [==============================] - ETA: 0s - loss: 212.9961 - reconstruction_loss: 96.1696 - KL_loss: 21.1130"
     ]
    },
    {
     "name": "stdout",
     "output_type": "stream",
     "text": [
      "\b\b\b\b\b\b\b\b\b\b\b\b\b\b\b\b\b\b\b\b\b\b\b\b\b\b\b\b\b\b\b\b\b\b\b\b\b\b\b\b\b\b\b\b\b\b\b\b\b\b\b\b\b\b\b\b\b\b\b\b\b\b\b\b\b\b\b\b\b\b\b\b\b\b\b\b\b\b\b\b\b\b\b\b\b\b\b\b\b\b\b\b\b\b\b\b\b\b\b\b\b\b\b\b\b\b\b\b\b\b\b\b\b\b\b\b\b\b\b\b\b\b\b\r",
      "412416/412416 [==============================] - 11s 26us/sample - loss: 212.9961 - reconstruction_loss: 96.1696 - KL_loss: 21.1130 - val_loss: 110.5250 - val_reconstruction_loss: 90.0519 - val_KL_loss: 20.4732 - lr: 0.0030\n",
      "Epoch 127/1000\n"
     ]
    },
    {
     "name": "stdout",
     "output_type": "stream",
     "text": [
      "\r",
      "412416/412416 [==============================] - ETA: 0s - loss: 212.4217 - reconstruction_loss: 96.0642 - KL_loss: 20.9270"
     ]
    },
    {
     "name": "stdout",
     "output_type": "stream",
     "text": [
      "\b\b\b\b\b\b\b\b\b\b\b\b\b\b\b\b\b\b\b\b\b\b\b\b\b\b\b\b\b\b\b\b\b\b\b\b\b\b\b\b\b\b\b\b\b\b\b\b\b\b\b\b\b\b\b\b\b\b\b\b\b\b\b\b\b\b\b\b\b\b\b\b\b\b\b\b\b\b\b\b\b\b\b\b\b\b\b\b\b\b\b\b\b\b\b\b\b\b\b\b\b\b\b\b\b\b\b\b\b\b\b\b\b\b\b\b\b\b\b\b\b\b\b\r",
      "412416/412416 [==============================] - 11s 26us/sample - loss: 212.4217 - reconstruction_loss: 96.0642 - KL_loss: 20.9270 - val_loss: 110.6941 - val_reconstruction_loss: 90.3413 - val_KL_loss: 20.3528 - lr: 0.0030\n",
      "Epoch 128/1000\n"
     ]
    },
    {
     "name": "stdout",
     "output_type": "stream",
     "text": [
      "\r",
      "412416/412416 [==============================] - ETA: 0s - loss: 212.4066 - reconstruction_loss: 96.3555 - KL_loss: 20.7893"
     ]
    },
    {
     "name": "stdout",
     "output_type": "stream",
     "text": [
      "\b\b\b\b\b\b\b\b\b\b\b\b\b\b\b\b\b\b\b\b\b\b\b\b\b\b\b\b\b\b\b\b\b\b\b\b\b\b\b\b\b\b\b\b\b\b\b\b\b\b\b\b\b\b\b\b\b\b\b\b\b\b\b\b\b\b\b\b\b\b\b\b\b\b\b\b\b\b\b\b\b\b\b\b\b\b\b\b\b\b\b\b\b\b\b\b\b\b\b\b\b\b\b\b\b\b\b\b\b\b\b\b\b\b\b\b\b\b\b\b\b\b\b\r",
      "412416/412416 [==============================] - 11s 26us/sample - loss: 212.4066 - reconstruction_loss: 96.3555 - KL_loss: 20.7893 - val_loss: 110.5032 - val_reconstruction_loss: 89.8957 - val_KL_loss: 20.6075 - lr: 0.0030\n",
      "Epoch 129/1000\n"
     ]
    },
    {
     "name": "stdout",
     "output_type": "stream",
     "text": [
      "\r",
      "412416/412416 [==============================] - ETA: 0s - loss: 211.9462 - reconstruction_loss: 95.8471 - KL_loss: 21.0574"
     ]
    },
    {
     "name": "stdout",
     "output_type": "stream",
     "text": [
      "\b\b\b\b\b\b\b\b\b\b\b\b\b\b\b\b\b\b\b\b\b\b\b\b\b\b\b\b\b\b\b\b\b\b\b\b\b\b\b\b\b\b\b\b\b\b\b\b\b\b\b\b\b\b\b\b\b\b\b\b\b\b\b\b\b\b\b\b\b\b\b\b\b\b\b\b\b\b\b\b\b\b\b\b\b\b\b\b\b\b\b\b\b\b\b\b\b\b\b\b\b\b\b\b\b\b\b\b\b\b\b\b\b\b\b\b\b\b\b\b\b\b\b\r",
      "412416/412416 [==============================] - 19s 45us/sample - loss: 211.9462 - reconstruction_loss: 95.8471 - KL_loss: 21.0574 - val_loss: 110.3194 - val_reconstruction_loss: 89.4685 - val_KL_loss: 20.8510 - lr: 0.0030\n",
      "Epoch 130/1000\n"
     ]
    },
    {
     "name": "stdout",
     "output_type": "stream",
     "text": [
      "\r",
      "412416/412416 [==============================] - ETA: 0s - loss: 211.5265 - reconstruction_loss: 95.4615 - KL_loss: 21.2890"
     ]
    },
    {
     "name": "stdout",
     "output_type": "stream",
     "text": [
      "\b\b\b\b\b\b\b\b\b\b\b\b\b\b\b\b\b\b\b\b\b\b\b\b\b\b\b\b\b\b\b\b\b\b\b\b\b\b\b\b\b\b\b\b\b\b\b\b\b\b\b\b\b\b\b\b\b\b\b\b\b\b\b\b\b\b\b\b\b\b\b\b\b\b\b\b\b\b\b\b\b\b\b\b\b\b\b\b\b\b\b\b\b\b\b\b\b\b\b\b\b\b\b\b\b\b\b\b\b\b\b\b\b\b\b\b\b\b\b\b\b\b\b\r",
      "412416/412416 [==============================] - 11s 26us/sample - loss: 211.5265 - reconstruction_loss: 95.4615 - KL_loss: 21.2890 - val_loss: 110.4916 - val_reconstruction_loss: 89.6537 - val_KL_loss: 20.8379 - lr: 0.0030\n",
      "Epoch 131/1000\n"
     ]
    },
    {
     "name": "stdout",
     "output_type": "stream",
     "text": [
      "\r",
      "412416/412416 [==============================] - ETA: 0s - loss: 211.5197 - reconstruction_loss: 95.6217 - KL_loss: 21.2940"
     ]
    },
    {
     "name": "stdout",
     "output_type": "stream",
     "text": [
      "\b\b\b\b\b\b\b\b\b\b\b\b\b\b\b\b\b\b\b\b\b\b\b\b\b\b\b\b\b\b\b\b\b\b\b\b\b\b\b\b\b\b\b\b\b\b\b\b\b\b\b\b\b\b\b\b\b\b\b\b\b\b\b\b\b\b\b\b\b\b\b\b\b\b\b\b\b\b\b\b\b\b\b\b\b\b\b\b\b\b\b\b\b\b\b\b\b\b\b\b\b\b\b\b\b\b\b\b\b\b\b\b\b\b\b\b\b\b\b\b\b\b\b\r",
      "412416/412416 [==============================] - 11s 27us/sample - loss: 211.5197 - reconstruction_loss: 95.6217 - KL_loss: 21.2940 - val_loss: 109.9659 - val_reconstruction_loss: 89.4248 - val_KL_loss: 20.5411 - lr: 0.0030\n",
      "Epoch 132/1000\n"
     ]
    },
    {
     "name": "stdout",
     "output_type": "stream",
     "text": [
      "\r",
      "412416/412416 [==============================] - ETA: 0s - loss: 210.5936 - reconstruction_loss: 95.3848 - KL_loss: 20.9881"
     ]
    },
    {
     "name": "stdout",
     "output_type": "stream",
     "text": [
      "\b\b\b\b\b\b\b\b\b\b\b\b\b\b\b\b\b\b\b\b\b\b\b\b\b\b\b\b\b\b\b\b\b\b\b\b\b\b\b\b\b\b\b\b\b\b\b\b\b\b\b\b\b\b\b\b\b\b\b\b\b\b\b\b\b\b\b\b\b\b\b\b\b\b\b\b\b\b\b\b\b\b\b\b\b\b\b\b\b\b\b\b\b\b\b\b\b\b\b\b\b\b\b\b\b\b\b\b\b\b\b\b\b\b\b\b\b\b\b\b\b\b\b\r",
      "412416/412416 [==============================] - 11s 27us/sample - loss: 210.5936 - reconstruction_loss: 95.3848 - KL_loss: 20.9881 - val_loss: 110.7362 - val_reconstruction_loss: 90.2450 - val_KL_loss: 20.4911 - lr: 0.0030\n",
      "Epoch 133/1000\n"
     ]
    },
    {
     "name": "stdout",
     "output_type": "stream",
     "text": [
      "\r",
      "412416/412416 [==============================] - ETA: 0s - loss: 211.2172 - reconstruction_loss: 96.1744 - KL_loss: 20.9440"
     ]
    },
    {
     "name": "stdout",
     "output_type": "stream",
     "text": [
      "\b\b\b\b\b\b\b\b\b\b\b\b\b\b\b\b\b\b\b\b\b\b\b\b\b\b\b\b\b\b\b\b\b\b\b\b\b\b\b\b\b\b\b\b\b\b\b\b\b\b\b\b\b\b\b\b\b\b\b\b\b\b\b\b\b\b\b\b\b\b\b\b\b\b\b\b\b\b\b\b\b\b\b\b\b\b\b\b\b\b\b\b\b\b\b\b\b\b\b\b\b\b\b\b\b\b\b\b\b\b\b\b\b\b\b\b\b\b\b\b\b\b\b\r",
      "412416/412416 [==============================] - 11s 26us/sample - loss: 211.2172 - reconstruction_loss: 96.1744 - KL_loss: 20.9440 - val_loss: 110.2712 - val_reconstruction_loss: 89.8320 - val_KL_loss: 20.4392 - lr: 0.0030\n",
      "Epoch 134/1000\n"
     ]
    },
    {
     "name": "stdout",
     "output_type": "stream",
     "text": [
      "\r",
      "412416/412416 [==============================] - ETA: 0s - loss: 210.5576 - reconstruction_loss: 95.8087 - KL_loss: 20.8769"
     ]
    },
    {
     "name": "stdout",
     "output_type": "stream",
     "text": [
      "\b\b\b\b\b\b\b\b\b\b\b\b\b\b\b\b\b\b\b\b\b\b\b\b\b\b\b\b\b\b\b\b\b\b\b\b\b\b\b\b\b\b\b\b\b\b\b\b\b\b\b\b\b\b\b\b\b\b\b\b\b\b\b\b\b\b\b\b\b\b\b\b\b\b\b\b\b\b\b\b\b\b\b\b\b\b\b\b\b\b\b\b\b\b\b\b\b\b\b\b\b\b\b\b\b\b\b\b\b\b\b\b\b\b\b\b\b\b\b\b\b\b\b\r",
      "412416/412416 [==============================] - 11s 26us/sample - loss: 210.5576 - reconstruction_loss: 95.8087 - KL_loss: 20.8769 - val_loss: 109.9641 - val_reconstruction_loss: 89.4323 - val_KL_loss: 20.5318 - lr: 0.0030\n",
      "Epoch 135/1000\n"
     ]
    },
    {
     "name": "stdout",
     "output_type": "stream",
     "text": [
      "\r",
      "412416/412416 [==============================] - ETA: 0s - loss: 209.9875 - reconstruction_loss: 95.3865 - KL_loss: 20.9873"
     ]
    },
    {
     "name": "stdout",
     "output_type": "stream",
     "text": [
      "\b\b\b\b\b\b\b\b\b\b\b\b\b\b\b\b\b\b\b\b\b\b\b\b\b\b\b\b\b\b\b\b\b\b\b\b\b\b\b\b\b\b\b\b\b\b\b\b\b\b\b\b\b\b\b\b\b\b\b\b\b\b\b\b\b\b\b\b\b\b\b\b\b\b\b\b\b\b\b\b\b\b\b\b\b\b\b\b\b\b\b\b\b\b\b\b\b\b\b\b\b\b\b\b\b\b\b\b\b\b\b\b\b\b\b\b\b\b\b\b\b\b\b\r",
      "412416/412416 [==============================] - 11s 26us/sample - loss: 209.9875 - reconstruction_loss: 95.3865 - KL_loss: 20.9873 - val_loss: 110.1296 - val_reconstruction_loss: 89.2839 - val_KL_loss: 20.8457 - lr: 0.0030\n",
      "Epoch 136/1000\n"
     ]
    },
    {
     "name": "stdout",
     "output_type": "stream",
     "text": [
      "\r",
      "412416/412416 [==============================] - ETA: 0s - loss: 210.1344 - reconstruction_loss: 95.2046 - KL_loss: 21.2913"
     ]
    },
    {
     "name": "stdout",
     "output_type": "stream",
     "text": [
      "\b\b\b\b\b\b\b\b\b\b\b\b\b\b\b\b\b\b\b\b\b\b\b\b\b\b\b\b\b\b\b\b\b\b\b\b\b\b\b\b\b\b\b\b\b\b\b\b\b\b\b\b\b\b\b\b\b\b\b\b\b\b\b\b\b\b\b\b\b\b\b\b\b\b\b\b\b\b\b\b\b\b\b\b\b\b\b\b\b\b\b\b\b\b\b\b\b\b\b\b\b\b\b\b\b\b\b\b\b\b\b\b\b\b\b\b\b\b\b\b\b\b\b\r",
      "412416/412416 [==============================] - 11s 26us/sample - loss: 210.1344 - reconstruction_loss: 95.2046 - KL_loss: 21.2913 - val_loss: 109.9948 - val_reconstruction_loss: 89.1714 - val_KL_loss: 20.8234 - lr: 0.0030\n",
      "Epoch 137/1000\n"
     ]
    },
    {
     "name": "stdout",
     "output_type": "stream",
     "text": [
      "\r",
      "412416/412416 [==============================] - ETA: 0s - loss: 209.4555 - reconstruction_loss: 95.0920 - KL_loss: 21.2882"
     ]
    },
    {
     "name": "stdout",
     "output_type": "stream",
     "text": [
      "\b\b\b\b\b\b\b\b\b\b\b\b\b\b\b\b\b\b\b\b\b\b\b\b\b\b\b\b\b\b\b\b\b\b\b\b\b\b\b\b\b\b\b\b\b\b\b\b\b\b\b\b\b\b\b\b\b\b\b\b\b\b\b\b\b\b\b\b\b\b\b\b\b\b\b\b\b\b\b\b\b\b\b\b\b\b\b\b\b\b\b\b\b\b\b\b\b\b\b\b\b\b\b\b\b\b\b\b\b\b\b\b\b\b\b\b\b\b\b\b\b\b\b\r",
      "412416/412416 [==============================] - 15s 37us/sample - loss: 209.4555 - reconstruction_loss: 95.0920 - KL_loss: 21.2882 - val_loss: 110.2473 - val_reconstruction_loss: 89.7801 - val_KL_loss: 20.4672 - lr: 0.0030\n",
      "Epoch 138/1000\n"
     ]
    },
    {
     "name": "stdout",
     "output_type": "stream",
     "text": [
      "\r",
      "412416/412416 [==============================] - ETA: 0s - loss: 209.6674 - reconstruction_loss: 95.7136 - KL_loss: 20.9105"
     ]
    },
    {
     "name": "stdout",
     "output_type": "stream",
     "text": [
      "\b\b\b\b\b\b\b\b\b\b\b\b\b\b\b\b\b\b\b\b\b\b\b\b\b\b\b\b\b\b\b\b\b\b\b\b\b\b\b\b\b\b\b\b\b\b\b\b\b\b\b\b\b\b\b\b\b\b\b\b\b\b\b\b\b\b\b\b\b\b\b\b\b\b\b\b\b\b\b\b\b\b\b\b\b\b\b\b\b\b\b\b\b\b\b\b\b\b\b\b\b\b\b\b\b\b\b\b\b\b\b\b\b\b\b\b\b\b\b\b\b\b\b\r",
      "412416/412416 [==============================] - 11s 26us/sample - loss: 209.6674 - reconstruction_loss: 95.7136 - KL_loss: 20.9105 - val_loss: 109.6284 - val_reconstruction_loss: 89.1907 - val_KL_loss: 20.4377 - lr: 0.0030\n",
      "Epoch 139/1000\n"
     ]
    },
    {
     "name": "stdout",
     "output_type": "stream",
     "text": [
      "\r",
      "412416/412416 [==============================] - ETA: 0s - loss: 208.7163 - reconstruction_loss: 95.1063 - KL_loss: 20.8859"
     ]
    },
    {
     "name": "stdout",
     "output_type": "stream",
     "text": [
      "\b\b\b\b\b\b\b\b\b\b\b\b\b\b\b\b\b\b\b\b\b\b\b\b\b\b\b\b\b\b\b\b\b\b\b\b\b\b\b\b\b\b\b\b\b\b\b\b\b\b\b\b\b\b\b\b\b\b\b\b\b\b\b\b\b\b\b\b\b\b\b\b\b\b\b\b\b\b\b\b\b\b\b\b\b\b\b\b\b\b\b\b\b\b\b\b\b\b\b\b\b\b\b\b\b\b\b\b\b\b\b\b\b\b\b\b\b\b\b\b\b\b\b\r",
      "412416/412416 [==============================] - 11s 26us/sample - loss: 208.7163 - reconstruction_loss: 95.1063 - KL_loss: 20.8859 - val_loss: 110.3266 - val_reconstruction_loss: 89.9476 - val_KL_loss: 20.3789 - lr: 0.0030\n",
      "Epoch 140/1000\n"
     ]
    },
    {
     "name": "stdout",
     "output_type": "stream",
     "text": [
      "\r",
      "412416/412416 [==============================] - ETA: 0s - loss: 209.0317 - reconstruction_loss: 95.8256 - KL_loss: 20.8245"
     ]
    },
    {
     "name": "stdout",
     "output_type": "stream",
     "text": [
      "\b\b\b\b\b\b\b\b\b\b\b\b\b\b\b\b\b\b\b\b\b\b\b\b\b\b\b\b\b\b\b\b\b\b\b\b\b\b\b\b\b\b\b\b\b\b\b\b\b\b\b\b\b\b\b\b\b\b\b\b\b\b\b\b\b\b\b\b\b\b\b\b\b\b\b\b\b\b\b\b\b\b\b\b\b\b\b\b\b\b\b\b\b\b\b\b\b\b\b\b\b\b\b\b\b\b\b\b\b\b\b\b\b\b\b\b\b\b\b\b\b\b\b\r",
      "412416/412416 [==============================] - 11s 26us/sample - loss: 209.0317 - reconstruction_loss: 95.8256 - KL_loss: 20.8245 - val_loss: 109.6681 - val_reconstruction_loss: 89.2522 - val_KL_loss: 20.4159 - lr: 0.0030\n",
      "Epoch 141/1000\n"
     ]
    },
    {
     "name": "stdout",
     "output_type": "stream",
     "text": [
      "\r",
      "412416/412416 [==============================] - ETA: 0s - loss: 208.2431 - reconstruction_loss: 95.1278 - KL_loss: 20.8847"
     ]
    },
    {
     "name": "stdout",
     "output_type": "stream",
     "text": [
      "\b\b\b\b\b\b\b\b\b\b\b\b\b\b\b\b\b\b\b\b\b\b\b\b\b\b\b\b\b\b\b\b\b\b\b\b\b\b\b\b\b\b\b\b\b\b\b\b\b\b\b\b\b\b\b\b\b\b\b\b\b\b\b\b\b\b\b\b\b\b\b\b\b\b\b\b\b\b\b\b\b\b\b\b\b\b\b\b\b\b\b\b\b\b\b\b\b\b\b\b\b\b\b\b\b\b\b\b\b\b\b\b\b\b\b\b\b\b\b\b\b\b\b\r",
      "412416/412416 [==============================] - 11s 27us/sample - loss: 208.2431 - reconstruction_loss: 95.1278 - KL_loss: 20.8847 - val_loss: 109.7964 - val_reconstruction_loss: 88.9291 - val_KL_loss: 20.8673 - lr: 0.0030\n",
      "Epoch 142/1000\n"
     ]
    },
    {
     "name": "stdout",
     "output_type": "stream",
     "text": [
      "\r",
      "412416/412416 [==============================] - ETA: 0s - loss: 208.0811 - reconstruction_loss: 94.7942 - KL_loss: 21.3095"
     ]
    },
    {
     "name": "stdout",
     "output_type": "stream",
     "text": [
      "\b\b\b\b\b\b\b\b\b\b\b\b\b\b\b\b\b\b\b\b\b\b\b\b\b\b\b\b\b\b\b\b\b\b\b\b\b\b\b\b\b\b\b\b\b\b\b\b\b\b\b\b\b\b\b\b\b\b\b\b\b\b\b\b\b\b\b\b\b\b\b\b\b\b\b\b\b\b\b\b\b\b\b\b\b\b\b\b\b\b\b\b\b\b\b\b\b\b\b\b\b\b\b\b\b\b\b\b\b\b\b\b\b\b\b\b\b\b\b\b\b\b\b\r",
      "412416/412416 [==============================] - 11s 26us/sample - loss: 208.0811 - reconstruction_loss: 94.7942 - KL_loss: 21.3095 - val_loss: 109.7506 - val_reconstruction_loss: 88.9017 - val_KL_loss: 20.8490 - lr: 0.0030\n",
      "Epoch 143/1000\n"
     ]
    },
    {
     "name": "stdout",
     "output_type": "stream",
     "text": [
      "\r",
      "412416/412416 [==============================] - ETA: 0s - loss: 208.0456 - reconstruction_loss: 94.8114 - KL_loss: 21.2973"
     ]
    },
    {
     "name": "stdout",
     "output_type": "stream",
     "text": [
      "\b\b\b\b\b\b\b\b\b\b\b\b\b\b\b\b\b\b\b\b\b\b\b\b\b\b\b\b\b\b\b\b\b\b\b\b\b\b\b\b\b\b\b\b\b\b\b\b\b\b\b\b\b\b\b\b\b\b\b\b\b\b\b\b\b\b\b\b\b\b\b\b\b\b\b\b\b\b\b\b\b\b\b\b\b\b\b\b\b\b\b\b\b\b\b\b\b\b\b\b\b\b\b\b\b\b\b\b\b\b\b\b\b\b\b\b\b\b\b\b\b\b\b\r",
      "412416/412416 [==============================] - 11s 26us/sample - loss: 208.0456 - reconstruction_loss: 94.8114 - KL_loss: 21.2973 - val_loss: 109.7575 - val_reconstruction_loss: 89.3780 - val_KL_loss: 20.3795 - lr: 0.0030\n",
      "Epoch 144/1000\n"
     ]
    },
    {
     "name": "stdout",
     "output_type": "stream",
     "text": [
      "\r",
      "412416/412416 [==============================] - ETA: 0s - loss: 207.5728 - reconstruction_loss: 95.2346 - KL_loss: 20.8288"
     ]
    },
    {
     "name": "stdout",
     "output_type": "stream",
     "text": [
      "\b\b\b\b\b\b\b\b\b\b\b\b\b\b\b\b\b\b\b\b\b\b\b\b\b\b\b\b\b\b\b\b\b\b\b\b\b\b\b\b\b\b\b\b\b\b\b\b\b\b\b\b\b\b\b\b\b\b\b\b\b\b\b\b\b\b\b\b\b\b\b\b\b\b\b\b\b\b\b\b\b\b\b\b\b\b\b\b\b\b\b\b\b\b\b\b\b\b\b\b\b\b\b\b\b\b\b\b\b\b\b\b\b\b\b\b\b\b\b\b\b\b\b\r",
      "412416/412416 [==============================] - 11s 26us/sample - loss: 207.5728 - reconstruction_loss: 95.2346 - KL_loss: 20.8288 - val_loss: 109.4479 - val_reconstruction_loss: 89.2947 - val_KL_loss: 20.1532 - lr: 0.0030\n",
      "Epoch 145/1000\n"
     ]
    },
    {
     "name": "stdout",
     "output_type": "stream",
     "text": [
      "\r",
      "412416/412416 [==============================] - ETA: 0s - loss: 207.0519 - reconstruction_loss: 95.1227 - KL_loss: 20.6153"
     ]
    },
    {
     "name": "stdout",
     "output_type": "stream",
     "text": [
      "\b\b\b\b\b\b\b\b\b\b\b\b\b\b\b\b\b\b\b\b\b\b\b\b\b\b\b\b\b\b\b\b\b\b\b\b\b\b\b\b\b\b\b\b\b\b\b\b\b\b\b\b\b\b\b\b\b\b\b\b\b\b\b\b\b\b\b\b\b\b\b\b\b\b\b\b\b\b\b\b\b\b\b\b\b\b\b\b\b\b\b\b\b\b\b\b\b\b\b\b\b\b\b\b\b\b\b\b\b\b\b\b\b\b\b\b\b\b\b\b\b\b\b\r",
      "412416/412416 [==============================] - 11s 27us/sample - loss: 207.0519 - reconstruction_loss: 95.1227 - KL_loss: 20.6153 - val_loss: 109.4573 - val_reconstruction_loss: 88.8374 - val_KL_loss: 20.6199 - lr: 0.0030\n",
      "Epoch 146/1000\n"
     ]
    },
    {
     "name": "stdout",
     "output_type": "stream",
     "text": [
      "\r",
      "412416/412416 [==============================] - ETA: 0s - loss: 206.8610 - reconstruction_loss: 94.6957 - KL_loss: 21.0663"
     ]
    },
    {
     "name": "stdout",
     "output_type": "stream",
     "text": [
      "\b\b\b\b\b\b\b\b\b\b\b\b\b\b\b\b\b\b\b\b\b\b\b\b\b\b\b\b\b\b\b\b\b\b\b\b\b\b\b\b\b\b\b\b\b\b\b\b\b\b\b\b\b\b\b\b\b\b\b\b\b\b\b\b\b\b\b\b\b\b\b\b\b\b\b\b\b\b\b\b\b\b\b\b\b\b\b\b\b\b\b\b\b\b\b\b\b\b\b\b\b\b\b\b\b\b\b\b\b\b\b\b\b\b\b\b\b\b\b\b\b\b\b\r",
      "412416/412416 [==============================] - 11s 27us/sample - loss: 206.8610 - reconstruction_loss: 94.6957 - KL_loss: 21.0663 - val_loss: 109.6156 - val_reconstruction_loss: 88.8349 - val_KL_loss: 20.7807 - lr: 0.0030\n",
      "Epoch 147/1000\n"
     ]
    },
    {
     "name": "stdout",
     "output_type": "stream",
     "text": [
      "\r",
      "412416/412416 [==============================] - ETA: 0s - loss: 206.7845 - reconstruction_loss: 94.6945 - KL_loss: 21.2298"
     ]
    },
    {
     "name": "stdout",
     "output_type": "stream",
     "text": [
      "\b\b\b\b\b\b\b\b\b\b\b\b\b\b\b\b\b\b\b\b\b\b\b\b\b\b\b\b\b\b\b\b\b\b\b\b\b\b\b\b\b\b\b\b\b\b\b\b\b\b\b\b\b\b\b\b\b\b\b\b\b\b\b\b\b\b\b\b\b\b\b\b\b\b\b\b\b\b\b\b\b\b\b\b\b\b\b\b\b\b\b\b\b\b\b\b\b\b\b\b\b\b\b\b\b\b\b\b\b\b\b\b\b\b\b\b\b\b\b\b\b\b\b\r",
      "412416/412416 [==============================] - 11s 26us/sample - loss: 206.7845 - reconstruction_loss: 94.6945 - KL_loss: 21.2298 - val_loss: 109.3712 - val_reconstruction_loss: 88.6295 - val_KL_loss: 20.7417 - lr: 0.0030\n",
      "Epoch 148/1000\n"
     ]
    },
    {
     "name": "stdout",
     "output_type": "stream",
     "text": [
      "\r",
      "412416/412416 [==============================] - ETA: 0s - loss: 206.3990 - reconstruction_loss: 94.4651 - KL_loss: 21.1986"
     ]
    },
    {
     "name": "stdout",
     "output_type": "stream",
     "text": [
      "\b\b\b\b\b\b\b\b\b\b\b\b\b\b\b\b\b\b\b\b\b\b\b\b\b\b\b\b\b\b\b\b\b\b\b\b\b\b\b\b\b\b\b\b\b\b\b\b\b\b\b\b\b\b\b\b\b\b\b\b\b\b\b\b\b\b\b\b\b\b\b\b\b\b\b\b\b\b\b\b\b\b\b\b\b\b\b\b\b\b\b\b\b\b\b\b\b\b\b\b\b\b\b\b\b\b\b\b\b\b\b\b\b\b\b\b\b\b\b\b\b\b\b\r",
      "412416/412416 [==============================] - 11s 27us/sample - loss: 206.3990 - reconstruction_loss: 94.4651 - KL_loss: 21.1986 - val_loss: 109.3229 - val_reconstruction_loss: 88.7736 - val_KL_loss: 20.5493 - lr: 0.0030\n",
      "Epoch 149/1000\n"
     ]
    },
    {
     "name": "stdout",
     "output_type": "stream",
     "text": [
      "\r",
      "412416/412416 [==============================] - ETA: 0s - loss: 205.9961 - reconstruction_loss: 94.6191 - KL_loss: 20.9949"
     ]
    },
    {
     "name": "stdout",
     "output_type": "stream",
     "text": [
      "\b\b\b\b\b\b\b\b\b\b\b\b\b\b\b\b\b\b\b\b\b\b\b\b\b\b\b\b\b\b\b\b\b\b\b\b\b\b\b\b\b\b\b\b\b\b\b\b\b\b\b\b\b\b\b\b\b\b\b\b\b\b\b\b\b\b\b\b\b\b\b\b\b\b\b\b\b\b\b\b\b\b\b\b\b\b\b\b\b\b\b\b\b\b\b\b\b\b\b\b\b\b\b\b\b\b\b\b\b\b\b\b\b\b\b\b\b\b\b\b\b\b\b\r",
      "412416/412416 [==============================] - 11s 26us/sample - loss: 205.9961 - reconstruction_loss: 94.6191 - KL_loss: 20.9949 - val_loss: 109.4250 - val_reconstruction_loss: 89.0567 - val_KL_loss: 20.3683 - lr: 0.0030\n",
      "Epoch 150/1000\n"
     ]
    },
    {
     "name": "stdout",
     "output_type": "stream",
     "text": [
      "\r",
      "412416/412416 [==============================] - ETA: 0s - loss: 205.7960 - reconstruction_loss: 94.8579 - KL_loss: 20.8306"
     ]
    },
    {
     "name": "stdout",
     "output_type": "stream",
     "text": [
      "\b\b\b\b\b\b\b\b\b\b\b\b\b\b\b\b\b\b\b\b\b\b\b\b\b\b\b\b\b\b\b\b\b\b\b\b\b\b\b\b\b\b\b\b\b\b\b\b\b\b\b\b\b\b\b\b\b\b\b\b\b\b\b\b\b\b\b\b\b\b\b\b\b\b\b\b\b\b\b\b\b\b\b\b\b\b\b\b\b\b\b\b\b\b\b\b\b\b\b\b\b\b\b\b\b\b\b\b\b\b\b\b\b\b\b\b\b\b\b\b\b\b\b\r",
      "412416/412416 [==============================] - 11s 28us/sample - loss: 205.7960 - reconstruction_loss: 94.8579 - KL_loss: 20.8306 - val_loss: 109.3376 - val_reconstruction_loss: 88.9714 - val_KL_loss: 20.3662 - lr: 0.0030\n",
      "Epoch 151/1000\n"
     ]
    },
    {
     "name": "stdout",
     "output_type": "stream",
     "text": [
      "\r",
      "412416/412416 [==============================] - ETA: 0s - loss: 205.6083 - reconstruction_loss: 94.8075 - KL_loss: 20.8172"
     ]
    },
    {
     "name": "stdout",
     "output_type": "stream",
     "text": [
      "\b\b\b\b\b\b\b\b\b\b\b\b\b\b\b\b\b\b\b\b\b\b\b\b\b\b\b\b\b\b\b\b\b\b\b\b\b\b\b\b\b\b\b\b\b\b\b\b\b\b\b\b\b\b\b\b\b\b\b\b\b\b\b\b\b\b\b\b\b\b\b\b\b\b\b\b\b\b\b\b\b\b\b\b\b\b\b\b\b\b\b\b\b\b\b\b\b\b\b\b\b\b\b\b\b\b\b\b\b\b\b\b\b\b\b\b\b\b\b\b\b\b\b\r",
      "412416/412416 [==============================] - 11s 27us/sample - loss: 205.6083 - reconstruction_loss: 94.8075 - KL_loss: 20.8172 - val_loss: 109.2297 - val_reconstruction_loss: 88.5924 - val_KL_loss: 20.6373 - lr: 0.0030\n",
      "Epoch 152/1000\n"
     ]
    },
    {
     "name": "stdout",
     "output_type": "stream",
     "text": [
      "\r",
      "412416/412416 [==============================] - ETA: 0s - loss: 205.2905 - reconstruction_loss: 94.4292 - KL_loss: 21.0940"
     ]
    },
    {
     "name": "stdout",
     "output_type": "stream",
     "text": [
      "\b\b\b\b\b\b\b\b\b\b\b\b\b\b\b\b\b\b\b\b\b\b\b\b\b\b\b\b\b\b\b\b\b\b\b\b\b\b\b\b\b\b\b\b\b\b\b\b\b\b\b\b\b\b\b\b\b\b\b\b\b\b\b\b\b\b\b\b\b\b\b\b\b\b\b\b\b\b\b\b\b\b\b\b\b\b\b\b\b\b\b\b\b\b\b\b\b\b\b\b\b\b\b\b\b\b\b\b\b\b\b\b\b\b\b\b\b\b\b\b\b\b\b\r",
      "412416/412416 [==============================] - 11s 26us/sample - loss: 205.2905 - reconstruction_loss: 94.4292 - KL_loss: 21.0940 - val_loss: 109.3232 - val_reconstruction_loss: 88.5371 - val_KL_loss: 20.7861 - lr: 0.0030\n",
      "Epoch 153/1000\n"
     ]
    },
    {
     "name": "stdout",
     "output_type": "stream",
     "text": [
      "\r",
      "412416/412416 [==============================] - ETA: 0s - loss: 205.1048 - reconstruction_loss: 94.3585 - KL_loss: 21.2343"
     ]
    },
    {
     "name": "stdout",
     "output_type": "stream",
     "text": [
      "\b\b\b\b\b\b\b\b\b\b\b\b\b\b\b\b\b\b\b\b\b\b\b\b\b\b\b\b\b\b\b\b\b\b\b\b\b\b\b\b\b\b\b\b\b\b\b\b\b\b\b\b\b\b\b\b\b\b\b\b\b\b\b\b\b\b\b\b\b\b\b\b\b\b\b\b\b\b\b\b\b\b\b\b\b\b\b\b\b\b\b\b\b\b\b\b\b\b\b\b\b\b\b\b\b\b\b\b\b\b\b\b\b\b\b\b\b\b\b\b\b\b\b\r",
      "412416/412416 [==============================] - 11s 26us/sample - loss: 205.1048 - reconstruction_loss: 94.3585 - KL_loss: 21.2343 - val_loss: 108.9652 - val_reconstruction_loss: 88.3882 - val_KL_loss: 20.5770 - lr: 0.0030\n",
      "Epoch 154/1000\n"
     ]
    },
    {
     "name": "stdout",
     "output_type": "stream",
     "text": [
      "\r",
      "412416/412416 [==============================] - ETA: 0s - loss: 204.2929 - reconstruction_loss: 94.1682 - KL_loss: 21.0414"
     ]
    },
    {
     "name": "stdout",
     "output_type": "stream",
     "text": [
      "\b\b\b\b\b\b\b\b\b\b\b\b\b\b\b\b\b\b\b\b\b\b\b\b\b\b\b\b\b\b\b\b\b\b\b\b\b\b\b\b\b\b\b\b\b\b\b\b\b\b\b\b\b\b\b\b\b\b\b\b\b\b\b\b\b\b\b\b\b\b\b\b\b\b\b\b\b\b\b\b\b\b\b\b\b\b\b\b\b\b\b\b\b\b\b\b\b\b\b\b\b\b\b\b\b\b\b\b\b\b\b\b\b\b\b\b\b\b\b\b\b\b\b\r",
      "412416/412416 [==============================] - 11s 27us/sample - loss: 204.2929 - reconstruction_loss: 94.1682 - KL_loss: 21.0414 - val_loss: 109.3217 - val_reconstruction_loss: 88.6389 - val_KL_loss: 20.6828 - lr: 0.0030\n",
      "Epoch 155/1000\n"
     ]
    },
    {
     "name": "stdout",
     "output_type": "stream",
     "text": [
      "\r",
      "412416/412416 [==============================] - ETA: 0s - loss: 204.7308 - reconstruction_loss: 94.4591 - KL_loss: 21.1323"
     ]
    },
    {
     "name": "stdout",
     "output_type": "stream",
     "text": [
      "\b\b\b\b\b\b\b\b\b\b\b\b\b\b\b\b\b\b\b\b\b\b\b\b\b\b\b\b\b\b\b\b\b\b\b\b\b\b\b\b\b\b\b\b\b\b\b\b\b\b\b\b\b\b\b\b\b\b\b\b\b\b\b\b\b\b\b\b\b\b\b\b\b\b\b\b\b\b\b\b\b\b\b\b\b\b\b\b\b\b\b\b\b\b\b\b\b\b\b\b\b\b\b\b\b\b\b\b\b\b\b\b\b\b\b\b\b\b\b\b\b\b\b\r",
      "412416/412416 [==============================] - 11s 26us/sample - loss: 204.7308 - reconstruction_loss: 94.4591 - KL_loss: 21.1323 - val_loss: 108.9171 - val_reconstruction_loss: 88.4377 - val_KL_loss: 20.4794 - lr: 0.0030\n",
      "Epoch 156/1000\n"
     ]
    },
    {
     "name": "stdout",
     "output_type": "stream",
     "text": [
      "\r",
      "412416/412416 [==============================] - ETA: 0s - loss: 204.0124 - reconstruction_loss: 94.2423 - KL_loss: 20.9341"
     ]
    },
    {
     "name": "stdout",
     "output_type": "stream",
     "text": [
      "\b\b\b\b\b\b\b\b\b\b\b\b\b\b\b\b\b\b\b\b\b\b\b\b\b\b\b\b\b\b\b\b\b\b\b\b\b\b\b\b\b\b\b\b\b\b\b\b\b\b\b\b\b\b\b\b\b\b\b\b\b\b\b\b\b\b\b\b\b\b\b\b\b\b\b\b\b\b\b\b\b\b\b\b\b\b\b\b\b\b\b\b\b\b\b\b\b\b\b\b\b\b\b\b\b\b\b\b\b\b\b\b\b\b\b\b\b\b\b\b\b\b\b\r",
      "412416/412416 [==============================] - 12s 30us/sample - loss: 204.0124 - reconstruction_loss: 94.2423 - KL_loss: 20.9341 - val_loss: 109.2351 - val_reconstruction_loss: 88.8634 - val_KL_loss: 20.3717 - lr: 0.0030\n",
      "Epoch 157/1000\n"
     ]
    },
    {
     "name": "stdout",
     "output_type": "stream",
     "text": [
      "\r",
      "412416/412416 [==============================] - ETA: 0s - loss: 204.3577 - reconstruction_loss: 94.6444 - KL_loss: 20.8302"
     ]
    },
    {
     "name": "stdout",
     "output_type": "stream",
     "text": [
      "\b\b\b\b\b\b\b\b\b\b\b\b\b\b\b\b\b\b\b\b\b\b\b\b\b\b\b\b\b\b\b\b\b\b\b\b\b\b\b\b\b\b\b\b\b\b\b\b\b\b\b\b\b\b\b\b\b\b\b\b\b\b\b\b\b\b\b\b\b\b\b\b\b\b\b\b\b\b\b\b\b\b\b\b\b\b\b\b\b\b\b\b\b\b\b\b\b\b\b\b\b\b\b\b\b\b\b\b\b\b\b\b\b\b\b\b\b\b\b\b\b\b\b\r",
      "412416/412416 [==============================] - 11s 26us/sample - loss: 204.3577 - reconstruction_loss: 94.6444 - KL_loss: 20.8302 - val_loss: 109.0252 - val_reconstruction_loss: 88.4420 - val_KL_loss: 20.5832 - lr: 0.0030\n",
      "Epoch 158/1000\n"
     ]
    },
    {
     "name": "stdout",
     "output_type": "stream",
     "text": [
      "\r",
      "412416/412416 [==============================] - ETA: 0s - loss: 203.6056 - reconstruction_loss: 94.2041 - KL_loss: 21.0500"
     ]
    },
    {
     "name": "stdout",
     "output_type": "stream",
     "text": [
      "\b\b\b\b\b\b\b\b\b\b\b\b\b\b\b\b\b\b\b\b\b\b\b\b\b\b\b\b\b\b\b\b\b\b\b\b\b\b\b\b\b\b\b\b\b\b\b\b\b\b\b\b\b\b\b\b\b\b\b\b\b\b\b\b\b\b\b\b\b\b\b\b\b\b\b\b\b\b\b\b\b\b\b\b\b\b\b\b\b\b\b\b\b\b\b\b\b\b\b\b\b\b\b\b\b\b\b\b\b\b\b\b\b\b\b\b\b\b\b\b\b\b\b\r",
      "412416/412416 [==============================] - 11s 27us/sample - loss: 203.6056 - reconstruction_loss: 94.2041 - KL_loss: 21.0500 - val_loss: 109.1975 - val_reconstruction_loss: 88.5074 - val_KL_loss: 20.6902 - lr: 0.0030\n",
      "Epoch 159/1000\n"
     ]
    },
    {
     "name": "stdout",
     "output_type": "stream",
     "text": [
      "\r",
      "412416/412416 [==============================] - ETA: 0s - loss: 203.7384 - reconstruction_loss: 94.3070 - KL_loss: 21.1323"
     ]
    },
    {
     "name": "stdout",
     "output_type": "stream",
     "text": [
      "\b\b\b\b\b\b\b\b\b\b\b\b\b\b\b\b\b\b\b\b\b\b\b\b\b\b\b\b\b\b\b\b\b\b\b\b\b\b\b\b\b\b\b\b\b\b\b\b\b\b\b\b\b\b\b\b\b\b\b\b\b\b\b\b\b\b\b\b\b\b\b\b\b\b\b\b\b\b\b\b\b\b\b\b\b\b\b\b\b\b\b\b\b\b\b\b\b\b\b\b\b\b\b\b\b\b\b\b\b\b\b\b\b\b\b\b\b\b\b\b\b\b\b\r",
      "412416/412416 [==============================] - 11s 26us/sample - loss: 203.7384 - reconstruction_loss: 94.3070 - KL_loss: 21.1323 - val_loss: 108.8806 - val_reconstruction_loss: 88.3098 - val_KL_loss: 20.5708 - lr: 0.0030\n",
      "Epoch 160/1000\n"
     ]
    },
    {
     "name": "stdout",
     "output_type": "stream",
     "text": [
      "\r",
      "412416/412416 [==============================] - ETA: 0s - loss: 203.1899 - reconstruction_loss: 94.0769 - KL_loss: 21.0253"
     ]
    },
    {
     "name": "stdout",
     "output_type": "stream",
     "text": [
      "\b\b\b\b\b\b\b\b\b\b\b\b\b\b\b\b\b\b\b\b\b\b\b\b\b\b\b\b\b\b\b\b\b\b\b\b\b\b\b\b\b\b\b\b\b\b\b\b\b\b\b\b\b\b\b\b\b\b\b\b\b\b\b\b\b\b\b\b\b\b\b\b\b\b\b\b\b\b\b\b\b\b\b\b\b\b\b\b\b\b\b\b\b\b\b\b\b\b\b\b\b\b\b\b\b\b\b\b\b\b\b\b\b\b\b\b\b\b\b\b\b\b\b\r",
      "412416/412416 [==============================] - 11s 27us/sample - loss: 203.1899 - reconstruction_loss: 94.0769 - KL_loss: 21.0253 - val_loss: 108.7887 - val_reconstruction_loss: 88.3586 - val_KL_loss: 20.4301 - lr: 0.0030\n",
      "Epoch 161/1000\n"
     ]
    },
    {
     "name": "stdout",
     "output_type": "stream",
     "text": [
      "\r",
      "412416/412416 [==============================] - ETA: 0s - loss: 202.6901 - reconstruction_loss: 94.1400 - KL_loss: 20.8770"
     ]
    },
    {
     "name": "stdout",
     "output_type": "stream",
     "text": [
      "\b\b\b\b\b\b\b\b\b\b\b\b\b\b\b\b\b\b\b\b\b\b\b\b\b\b\b\b\b\b\b\b\b\b\b\b\b\b\b\b\b\b\b\b\b\b\b\b\b\b\b\b\b\b\b\b\b\b\b\b\b\b\b\b\b\b\b\b\b\b\b\b\b\b\b\b\b\b\b\b\b\b\b\b\b\b\b\b\b\b\b\b\b\b\b\b\b\b\b\b\b\b\b\b\b\b\b\b\b\b\b\b\b\b\b\b\b\b\b\b\b\b\b\r",
      "412416/412416 [==============================] - 11s 26us/sample - loss: 202.6901 - reconstruction_loss: 94.1400 - KL_loss: 20.8770 - val_loss: 109.2663 - val_reconstruction_loss: 88.9760 - val_KL_loss: 20.2903 - lr: 0.0030\n",
      "Epoch 162/1000\n"
     ]
    },
    {
     "name": "stdout",
     "output_type": "stream",
     "text": [
      "\r",
      "412416/412416 [==============================] - ETA: 0s - loss: 203.3784 - reconstruction_loss: 94.7115 - KL_loss: 20.7518"
     ]
    },
    {
     "name": "stdout",
     "output_type": "stream",
     "text": [
      "\b\b\b\b\b\b\b\b\b\b\b\b\b\b\b\b\b\b\b\b\b\b\b\b\b\b\b\b\b\b\b\b\b\b\b\b\b\b\b\b\b\b\b\b\b\b\b\b\b\b\b\b\b\b\b\b\b\b\b\b\b\b\b\b\b\b\b\b\b\b\b\b\b\b\b\b\b\b\b\b\b\b\b\b\b\b\b\b\b\b\b\b\b\b\b\b\b\b\b\b\b\b\b\b\b\b\b\b\b\b\b\b\b\b\b\b\b\b\b\b\b\b\b\r",
      "412416/412416 [==============================] - 11s 27us/sample - loss: 203.3784 - reconstruction_loss: 94.7115 - KL_loss: 20.7518 - val_loss: 108.7153 - val_reconstruction_loss: 88.2150 - val_KL_loss: 20.5003 - lr: 0.0030\n",
      "Epoch 163/1000\n"
     ]
    },
    {
     "name": "stdout",
     "output_type": "stream",
     "text": [
      "\r",
      "412416/412416 [==============================] - ETA: 0s - loss: 202.2473 - reconstruction_loss: 93.9494 - KL_loss: 20.9551"
     ]
    },
    {
     "name": "stdout",
     "output_type": "stream",
     "text": [
      "\b\b\b\b\b\b\b\b\b\b\b\b\b\b\b\b\b\b\b\b\b\b\b\b\b\b\b\b\b\b\b\b\b\b\b\b\b\b\b\b\b\b\b\b\b\b\b\b\b\b\b\b\b\b\b\b\b\b\b\b\b\b\b\b\b\b\b\b\b\b\b\b\b\b\b\b\b\b\b\b\b\b\b\b\b\b\b\b\b\b\b\b\b\b\b\b\b\b\b\b\b\b\b\b\b\b\b\b\b\b\b\b\b\b\b\b\b\b\b\b\b\b\b\r",
      "412416/412416 [==============================] - 11s 26us/sample - loss: 202.2473 - reconstruction_loss: 93.9494 - KL_loss: 20.9551 - val_loss: 109.0486 - val_reconstruction_loss: 88.1811 - val_KL_loss: 20.8675 - lr: 0.0030\n",
      "Epoch 164/1000\n"
     ]
    },
    {
     "name": "stdout",
     "output_type": "stream",
     "text": [
      "\r",
      "412416/412416 [==============================] - ETA: 0s - loss: 202.6843 - reconstruction_loss: 93.9336 - KL_loss: 21.3154"
     ]
    },
    {
     "name": "stdout",
     "output_type": "stream",
     "text": [
      "\b\b\b\b\b\b\b\b\b\b\b\b\b\b\b\b\b\b\b\b\b\b\b\b\b\b\b\b\b\b\b\b\b\b\b\b\b\b\b\b\b\b\b\b\b\b\b\b\b\b\b\b\b\b\b\b\b\b\b\b\b\b\b\b\b\b\b\b\b\b\b\b\b\b\b\b\b\b\b\b\b\b\b\b\b\b\b\b\b\b\b\b\b\b\b\b\b\b\b\b\b\b\b\b\b\b\b\b\b\b\b\b\b\b\b\b\b\b\b\b\b\b\b\r",
      "412416/412416 [==============================] - 11s 27us/sample - loss: 202.6843 - reconstruction_loss: 93.9336 - KL_loss: 21.3154 - val_loss: 109.0074 - val_reconstruction_loss: 88.2977 - val_KL_loss: 20.7097 - lr: 0.0030\n",
      "Epoch 165/1000\n"
     ]
    },
    {
     "name": "stdout",
     "output_type": "stream",
     "text": [
      "\r",
      "412416/412416 [==============================] - ETA: 0s - loss: 202.4075 - reconstruction_loss: 94.0483 - KL_loss: 21.1527"
     ]
    },
    {
     "name": "stdout",
     "output_type": "stream",
     "text": [
      "\b\b\b\b\b\b\b\b\b\b\b\b\b\b\b\b\b\b\b\b\b\b\b\b\b\b\b\b\b\b\b\b\b\b\b\b\b\b\b\b\b\b\b\b\b\b\b\b\b\b\b\b\b\b\b\b\b\b\b\b\b\b\b\b\b\b\b\b\b\b\b\b\b\b\b\b\b\b\b\b\b\b\b\b\b\b\b\b\b\b\b\b\b\b\b\b\b\b\b\b\b\b\b\b\b\b\b\b\b\b\b\b\b\b\b\b\b\b\b\b\b\b\b\r",
      "412416/412416 [==============================] - 11s 26us/sample - loss: 202.4075 - reconstruction_loss: 94.0483 - KL_loss: 21.1527 - val_loss: 108.6134 - val_reconstruction_loss: 88.1849 - val_KL_loss: 20.4285 - lr: 0.0030\n",
      "Epoch 166/1000\n"
     ]
    },
    {
     "name": "stdout",
     "output_type": "stream",
     "text": [
      "\r",
      "412416/412416 [==============================] - ETA: 0s - loss: 201.5960 - reconstruction_loss: 93.9083 - KL_loss: 20.8825"
     ]
    },
    {
     "name": "stdout",
     "output_type": "stream",
     "text": [
      "\b\b\b\b\b\b\b\b\b\b\b\b\b\b\b\b\b\b\b\b\b\b\b\b\b\b\b\b\b\b\b\b\b\b\b\b\b\b\b\b\b\b\b\b\b\b\b\b\b\b\b\b\b\b\b\b\b\b\b\b\b\b\b\b\b\b\b\b\b\b\b\b\b\b\b\b\b\b\b\b\b\b\b\b\b\b\b\b\b\b\b\b\b\b\b\b\b\b\b\b\b\b\b\b\b\b\b\b\b\b\b\b\b\b\b\b\b\b\b\b\b\b\b\r",
      "412416/412416 [==============================] - 11s 27us/sample - loss: 201.5960 - reconstruction_loss: 93.9083 - KL_loss: 20.8825 - val_loss: 109.0658 - val_reconstruction_loss: 88.4447 - val_KL_loss: 20.6211 - lr: 0.0030\n",
      "Epoch 167/1000\n"
     ]
    },
    {
     "name": "stdout",
     "output_type": "stream",
     "text": [
      "\r",
      "412416/412416 [==============================] - ETA: 0s - loss: 201.8007 - reconstruction_loss: 94.1623 - KL_loss: 21.0654"
     ]
    },
    {
     "name": "stdout",
     "output_type": "stream",
     "text": [
      "\b\b\b\b\b\b\b\b\b\b\b\b\b\b\b\b\b\b\b\b\b\b\b\b\b\b\b\b\b\b\b\b\b\b\b\b\b\b\b\b\b\b\b\b\b\b\b\b\b\b\b\b\b\b\b\b\b\b\b\b\b\b\b\b\b\b\b\b\b\b\b\b\b\b\b\b\b\b\b\b\b\b\b\b\b\b\b\b\b\b\b\b\b\b\b\b\b\b\b\b\b\b\b\b\b\b\b\b\b\b\b\b\b\b\b\b\b\b\b\b\b\b\b\r",
      "412416/412416 [==============================] - 11s 26us/sample - loss: 201.8007 - reconstruction_loss: 94.1623 - KL_loss: 21.0654 - val_loss: 108.7837 - val_reconstruction_loss: 88.2494 - val_KL_loss: 20.5343 - lr: 0.0030\n",
      "Epoch 168/1000\n"
     ]
    },
    {
     "name": "stdout",
     "output_type": "stream",
     "text": [
      "\r",
      "412416/412416 [==============================] - ETA: 0s - loss: 201.3714 - reconstruction_loss: 93.9398 - KL_loss: 20.9884"
     ]
    },
    {
     "name": "stdout",
     "output_type": "stream",
     "text": [
      "\b\b\b\b\b\b\b\b\b\b\b\b\b\b\b\b\b\b\b\b\b\b\b\b\b\b\b\b\b\b\b\b\b\b\b\b\b\b\b\b\b\b\b\b\b\b\b\b\b\b\b\b\b\b\b\b\b\b\b\b\b\b\b\b\b\b\b\b\b\b\b\b\b\b\b\b\b\b\b\b\b\b\b\b\b\b\b\b\b\b\b\b\b\b\b\b\b\b\b\b\b\b\b\b\b\b\b\b\b\b\b\b\b\b\b\b\b\b\b\b\b\b\b\r",
      "412416/412416 [==============================] - 11s 27us/sample - loss: 201.3714 - reconstruction_loss: 93.9398 - KL_loss: 20.9884 - val_loss: 109.0130 - val_reconstruction_loss: 88.6433 - val_KL_loss: 20.3697 - lr: 0.0030\n",
      "Epoch 169/1000\n"
     ]
    },
    {
     "name": "stdout",
     "output_type": "stream",
     "text": [
      "\r",
      "412416/412416 [==============================] - ETA: 0s - loss: 201.6438 - reconstruction_loss: 94.3746 - KL_loss: 20.8141"
     ]
    },
    {
     "name": "stdout",
     "output_type": "stream",
     "text": [
      "\b\b\b\b\b\b\b\b\b\b\b\b\b\b\b\b\b\b\b\b\b\b\b\b\b\b\b\b\b\b\b\b\b\b\b\b\b\b\b\b\b\b\b\b\b\b\b\b\b\b\b\b\b\b\b\b\b\b\b\b\b\b\b\b\b\b\b\b\b\b\b\b\b\b\b\b\b\b\b\b\b\b\b\b\b\b\b\b\b\b\b\b\b\b\b\b\b\b\b\b\b\b\b\b\b\b\b\b\b\b\b\b\b\b\b\b\b\b\b\b\b\b\b\r",
      "412416/412416 [==============================] - 11s 26us/sample - loss: 201.6438 - reconstruction_loss: 94.3746 - KL_loss: 20.8141 - val_loss: 108.5869 - val_reconstruction_loss: 88.0933 - val_KL_loss: 20.4936 - lr: 0.0030\n",
      "Epoch 170/1000\n"
     ]
    },
    {
     "name": "stdout",
     "output_type": "stream",
     "text": [
      "\r",
      "412416/412416 [==============================] - ETA: 0s - loss: 200.8781 - reconstruction_loss: 93.8001 - KL_loss: 20.9501"
     ]
    },
    {
     "name": "stdout",
     "output_type": "stream",
     "text": [
      "\b\b\b\b\b\b\b\b\b\b\b\b\b\b\b\b\b\b\b\b\b\b\b\b\b\b\b\b\b\b\b\b\b\b\b\b\b\b\b\b\b\b\b\b\b\b\b\b\b\b\b\b\b\b\b\b\b\b\b\b\b\b\b\b\b\b\b\b\b\b\b\b\b\b\b\b\b\b\b\b\b\b\b\b\b\b\b\b\b\b\b\b\b\b\b\b\b\b\b\b\b\b\b\b\b\b\b\b\b\b\b\b\b\b\b\b\b\b\b\b\b\b\b\r",
      "412416/412416 [==============================] - 11s 27us/sample - loss: 200.8781 - reconstruction_loss: 93.8001 - KL_loss: 20.9501 - val_loss: 108.5974 - val_reconstruction_loss: 87.9209 - val_KL_loss: 20.6765 - lr: 0.0030\n",
      "Epoch 171/1000\n"
     ]
    },
    {
     "name": "stdout",
     "output_type": "stream",
     "text": [
      "\r",
      "412416/412416 [==============================] - ETA: 0s - loss: 200.5365 - reconstruction_loss: 93.6496 - KL_loss: 21.1161"
     ]
    },
    {
     "name": "stdout",
     "output_type": "stream",
     "text": [
      "\b\b\b\b\b\b\b\b\b\b\b\b\b\b\b\b\b\b\b\b\b\b\b\b\b\b\b\b\b\b\b\b\b\b\b\b\b\b\b\b\b\b\b\b\b\b\b\b\b\b\b\b\b\b\b\b\b\b\b\b\b\b\b\b\b\b\b\b\b\b\b\b\b\b\b\b\b\b\b\b\b\b\b\b\b\b\b\b\b\b\b\b\b\b\b\b\b\b\b\b\b\b\b\b\b\b\b\b\b\b\b\b\b\b\b\b\b\b\b\b\b\b\b\r",
      "412416/412416 [==============================] - 11s 27us/sample - loss: 200.5365 - reconstruction_loss: 93.6496 - KL_loss: 21.1161 - val_loss: 108.8533 - val_reconstruction_loss: 88.1812 - val_KL_loss: 20.6721 - lr: 0.0030\n",
      "Epoch 172/1000\n"
     ]
    },
    {
     "name": "stdout",
     "output_type": "stream",
     "text": [
      "\r",
      "412416/412416 [==============================] - ETA: 0s - loss: 200.6993 - reconstruction_loss: 93.8470 - KL_loss: 21.1188"
     ]
    },
    {
     "name": "stdout",
     "output_type": "stream",
     "text": [
      "\b\b\b\b\b\b\b\b\b\b\b\b\b\b\b\b\b\b\b\b\b\b\b\b\b\b\b\b\b\b\b\b\b\b\b\b\b\b\b\b\b\b\b\b\b\b\b\b\b\b\b\b\b\b\b\b\b\b\b\b\b\b\b\b\b\b\b\b\b\b\b\b\b\b\b\b\b\b\b\b\b\b\b\b\b\b\b\b\b\b\b\b\b\b\b\b\b\b\b\b\b\b\b\b\b\b\b\b\b\b\b\b\b\b\b\b\b\b\b\b\b\b\b\r",
      "412416/412416 [==============================] - 11s 27us/sample - loss: 200.6993 - reconstruction_loss: 93.8470 - KL_loss: 21.1188 - val_loss: 108.5681 - val_reconstruction_loss: 87.9786 - val_KL_loss: 20.5896 - lr: 0.0030\n",
      "Epoch 173/1000\n"
     ]
    },
    {
     "name": "stdout",
     "output_type": "stream",
     "text": [
      "\r",
      "412416/412416 [==============================] - ETA: 0s - loss: 200.2840 - reconstruction_loss: 93.7095 - KL_loss: 21.0338"
     ]
    },
    {
     "name": "stdout",
     "output_type": "stream",
     "text": [
      "\b\b\b\b\b\b\b\b\b\b\b\b\b\b\b\b\b\b\b\b\b\b\b\b\b\b\b\b\b\b\b\b\b\b\b\b\b\b\b\b\b\b\b\b\b\b\b\b\b\b\b\b\b\b\b\b\b\b\b\b\b\b\b\b\b\b\b\b\b\b\b\b\b\b\b\b\b\b\b\b\b\b\b\b\b\b\b\b\b\b\b\b\b\b\b\b\b\b\b\b\b\b\b\b\b\b\b\b\b\b\b\b\b\b\b\b\b\b\b\b\b\b\b\r",
      "412416/412416 [==============================] - 11s 26us/sample - loss: 200.2840 - reconstruction_loss: 93.7095 - KL_loss: 21.0338 - val_loss: 108.4420 - val_reconstruction_loss: 88.0449 - val_KL_loss: 20.3971 - lr: 0.0030\n",
      "Epoch 174/1000\n"
     ]
    },
    {
     "name": "stdout",
     "output_type": "stream",
     "text": [
      "\r",
      "412416/412416 [==============================] - ETA: 0s - loss: 199.8203 - reconstruction_loss: 93.7109 - KL_loss: 20.8476"
     ]
    },
    {
     "name": "stdout",
     "output_type": "stream",
     "text": [
      "\b\b\b\b\b\b\b\b\b\b\b\b\b\b\b\b\b\b\b\b\b\b\b\b\b\b\b\b\b\b\b\b\b\b\b\b\b\b\b\b\b\b\b\b\b\b\b\b\b\b\b\b\b\b\b\b\b\b\b\b\b\b\b\b\b\b\b\b\b\b\b\b\b\b\b\b\b\b\b\b\b\b\b\b\b\b\b\b\b\b\b\b\b\b\b\b\b\b\b\b\b\b\b\b\b\b\b\b\b\b\b\b\b\b\b\b\b\b\b\b\b\b\b\r",
      "412416/412416 [==============================] - 11s 27us/sample - loss: 199.8203 - reconstruction_loss: 93.7109 - KL_loss: 20.8476 - val_loss: 108.7487 - val_reconstruction_loss: 88.2080 - val_KL_loss: 20.5407 - lr: 0.0030\n",
      "Epoch 175/1000\n"
     ]
    },
    {
     "name": "stdout",
     "output_type": "stream",
     "text": [
      "\r",
      "412416/412416 [==============================] - ETA: 0s - loss: 200.2032 - reconstruction_loss: 93.9124 - KL_loss: 20.9788"
     ]
    },
    {
     "name": "stdout",
     "output_type": "stream",
     "text": [
      "\b\b\b\b\b\b\b\b\b\b\b\b\b\b\b\b\b\b\b\b\b\b\b\b\b\b\b\b\b\b\b\b\b\b\b\b\b\b\b\b\b\b\b\b\b\b\b\b\b\b\b\b\b\b\b\b\b\b\b\b\b\b\b\b\b\b\b\b\b\b\b\b\b\b\b\b\b\b\b\b\b\b\b\b\b\b\b\b\b\b\b\b\b\b\b\b\b\b\b\b\b\b\b\b\b\b\b\b\b\b\b\b\b\b\b\b\b\b\b\b\b\b\b\r",
      "412416/412416 [==============================] - 11s 27us/sample - loss: 200.2032 - reconstruction_loss: 93.9124 - KL_loss: 20.9788 - val_loss: 108.4522 - val_reconstruction_loss: 87.9003 - val_KL_loss: 20.5519 - lr: 0.0030\n",
      "Epoch 176/1000\n"
     ]
    },
    {
     "name": "stdout",
     "output_type": "stream",
     "text": [
      "\r",
      "412416/412416 [==============================] - ETA: 0s - loss: 199.2458 - reconstruction_loss: 93.5602 - KL_loss: 21.0047"
     ]
    },
    {
     "name": "stdout",
     "output_type": "stream",
     "text": [
      "\b\b\b\b\b\b\b\b\b\b\b\b\b\b\b\b\b\b\b\b\b\b\b\b\b\b\b\b\b\b\b\b\b\b\b\b\b\b\b\b\b\b\b\b\b\b\b\b\b\b\b\b\b\b\b\b\b\b\b\b\b\b\b\b\b\b\b\b\b\b\b\b\b\b\b\b\b\b\b\b\b\b\b\b\b\b\b\b\b\b\b\b\b\b\b\b\b\b\b\b\b\b\b\b\b\b\b\b\b\b\b\b\b\b\b\b\b\b\b\b\b\b\b\r",
      "412416/412416 [==============================] - 15s 36us/sample - loss: 199.2458 - reconstruction_loss: 93.5602 - KL_loss: 21.0047 - val_loss: 108.7823 - val_reconstruction_loss: 88.2030 - val_KL_loss: 20.5793 - lr: 0.0030\n",
      "Epoch 177/1000\n"
     ]
    },
    {
     "name": "stdout",
     "output_type": "stream",
     "text": [
      "\r",
      "412416/412416 [==============================] - ETA: 0s - loss: 199.8512 - reconstruction_loss: 93.9121 - KL_loss: 21.0235"
     ]
    },
    {
     "name": "stdout",
     "output_type": "stream",
     "text": [
      "\b\b\b\b\b\b\b\b\b\b\b\b\b\b\b\b\b\b\b\b\b\b\b\b\b\b\b\b\b\b\b\b\b\b\b\b\b\b\b\b\b\b\b\b\b\b\b\b\b\b\b\b\b\b\b\b\b\b\b\b\b\b\b\b\b\b\b\b\b\b\b\b\b\b\b\b\b\b\b\b\b\b\b\b\b\b\b\b\b\b\b\b\b\b\b\b\b\b\b\b\b\b\b\b\b\b\b\b\b\b\b\b\b\b\b\b\b\b\b\b\b\b\b\r",
      "412416/412416 [==============================] - 11s 27us/sample - loss: 199.8512 - reconstruction_loss: 93.9121 - KL_loss: 21.0235 - val_loss: 108.1927 - val_reconstruction_loss: 87.6144 - val_KL_loss: 20.5782 - lr: 0.0030\n",
      "Epoch 178/1000\n"
     ]
    },
    {
     "name": "stdout",
     "output_type": "stream",
     "text": [
      "\r",
      "412416/412416 [==============================] - ETA: 0s - loss: 198.7202 - reconstruction_loss: 93.2700 - KL_loss: 21.0312"
     ]
    },
    {
     "name": "stdout",
     "output_type": "stream",
     "text": [
      "\b\b\b\b\b\b\b\b\b\b\b\b\b\b\b\b\b\b\b\b\b\b\b\b\b\b\b\b\b\b\b\b\b\b\b\b\b\b\b\b\b\b\b\b\b\b\b\b\b\b\b\b\b\b\b\b\b\b\b\b\b\b\b\b\b\b\b\b\b\b\b\b\b\b\b\b\b\b\b\b\b\b\b\b\b\b\b\b\b\b\b\b\b\b\b\b\b\b\b\b\b\b\b\b\b\b\b\b\b\b\b\b\b\b\b\b\b\b\b\b\b\b\b\r",
      "412416/412416 [==============================] - 11s 27us/sample - loss: 198.7202 - reconstruction_loss: 93.2700 - KL_loss: 21.0312 - val_loss: 108.9930 - val_reconstruction_loss: 88.4857 - val_KL_loss: 20.5073 - lr: 0.0030\n",
      "Epoch 179/1000\n"
     ]
    },
    {
     "name": "stdout",
     "output_type": "stream",
     "text": [
      "\r",
      "412416/412416 [==============================] - ETA: 0s - loss: 199.8204 - reconstruction_loss: 94.1636 - KL_loss: 20.9485"
     ]
    },
    {
     "name": "stdout",
     "output_type": "stream",
     "text": [
      "\b\b\b\b\b\b\b\b\b\b\b\b\b\b\b\b\b\b\b\b\b\b\b\b\b\b\b\b\b\b\b\b\b\b\b\b\b\b\b\b\b\b\b\b\b\b\b\b\b\b\b\b\b\b\b\b\b\b\b\b\b\b\b\b\b\b\b\b\b\b\b\b\b\b\b\b\b\b\b\b\b\b\b\b\b\b\b\b\b\b\b\b\b\b\b\b\b\b\b\b\b\b\b\b\b\b\b\b\b\b\b\b\b\b\b\b\b\b\b\b\b\b\b\r",
      "412416/412416 [==============================] - 11s 27us/sample - loss: 199.8204 - reconstruction_loss: 94.1636 - KL_loss: 20.9485 - val_loss: 108.4424 - val_reconstruction_loss: 87.9870 - val_KL_loss: 20.4554 - lr: 0.0030\n",
      "Epoch 180/1000\n"
     ]
    },
    {
     "name": "stdout",
     "output_type": "stream",
     "text": [
      "\r",
      "412416/412416 [==============================] - ETA: 0s - loss: 199.1081 - reconstruction_loss: 93.6780 - KL_loss: 20.9078"
     ]
    },
    {
     "name": "stdout",
     "output_type": "stream",
     "text": [
      "\b\b\b\b\b\b\b\b\b\b\b\b\b\b\b\b\b\b\b\b\b\b\b\b\b\b\b\b\b\b\b\b\b\b\b\b\b\b\b\b\b\b\b\b\b\b\b\b\b\b\b\b\b\b\b\b\b\b\b\b\b\b\b\b\b\b\b\b\b\b\b\b\b\b\b\b\b\b\b\b\b\b\b\b\b\b\b\b\b\b\b\b\b\b\b\b\b\b\b\b\b\b\b\b\b\b\b\b\b\b\b\b\b\b\b\b\b\b\b\b\b\b\b\r",
      "412416/412416 [==============================] - 11s 27us/sample - loss: 199.1081 - reconstruction_loss: 93.6780 - KL_loss: 20.9078 - val_loss: 108.3324 - val_reconstruction_loss: 87.7539 - val_KL_loss: 20.5785 - lr: 0.0030\n",
      "Epoch 181/1000\n"
     ]
    },
    {
     "name": "stdout",
     "output_type": "stream",
     "text": [
      "\r",
      "412416/412416 [==============================] - ETA: 0s - loss: 198.3673 - reconstruction_loss: 93.4254 - KL_loss: 21.0238"
     ]
    },
    {
     "name": "stdout",
     "output_type": "stream",
     "text": [
      "\b\b\b\b\b\b\b\b\b\b\b\b\b\b\b\b\b\b\b\b\b\b\b\b\b\b\b\b\b\b\b\b\b\b\b\b\b\b\b\b\b\b\b\b\b\b\b\b\b\b\b\b\b\b\b\b\b\b\b\b\b\b\b\b\b\b\b\b\b\b\b\b\b\b\b\b\b\b\b\b\b\b\b\b\b\b\b\b\b\b\b\b\b\b\b\b\b\b\b\b\b\b\b\b\b\b\b\b\b\b\b\b\b\b\b\b\b\b\b\b\b\b\b\r",
      "412416/412416 [==============================] - 11s 27us/sample - loss: 198.3673 - reconstruction_loss: 93.4254 - KL_loss: 21.0238 - val_loss: 108.6910 - val_reconstruction_loss: 88.0052 - val_KL_loss: 20.6858 - lr: 0.0030\n",
      "Epoch 182/1000\n"
     ]
    },
    {
     "name": "stdout",
     "output_type": "stream",
     "text": [
      "\r",
      "412416/412416 [==============================] - ETA: 0s - loss: 198.9271 - reconstruction_loss: 93.6488 - KL_loss: 21.1414"
     ]
    },
    {
     "name": "stdout",
     "output_type": "stream",
     "text": [
      "\b\b\b\b\b\b\b\b\b\b\b\b\b\b\b\b\b\b\b\b\b\b\b\b\b\b\b\b\b\b\b\b\b\b\b\b\b\b\b\b\b\b\b\b\b\b\b\b\b\b\b\b\b\b\b\b\b\b\b\b\b\b\b\b\b\b\b\b\b\b\b\b\b\b\b\b\b\b\b\b\b\b\b\b\b\b\b\b\b\b\b\b\b\b\b\b\b\b\b\b\b\b\b\b\b\b\b\b\b\b\b\b\b\b\b\b\b\b\b\b\b\b\b\r",
      "412416/412416 [==============================] - 11s 27us/sample - loss: 198.9271 - reconstruction_loss: 93.6488 - KL_loss: 21.1414 - val_loss: 108.3550 - val_reconstruction_loss: 87.5928 - val_KL_loss: 20.7622 - lr: 0.0030\n",
      "Epoch 183/1000\n"
     ]
    },
    {
     "name": "stdout",
     "output_type": "stream",
     "text": [
      "\r",
      "412416/412416 [==============================] - ETA: 0s - loss: 198.3271 - reconstruction_loss: 93.2688 - KL_loss: 21.2018"
     ]
    },
    {
     "name": "stdout",
     "output_type": "stream",
     "text": [
      "\b\b\b\b\b\b\b\b\b\b\b\b\b\b\b\b\b\b\b\b\b\b\b\b\b\b\b\b\b\b\b\b\b\b\b\b\b\b\b\b\b\b\b\b\b\b\b\b\b\b\b\b\b\b\b\b\b\b\b\b\b\b\b\b\b\b\b\b\b\b\b\b\b\b\b\b\b\b\b\b\b\b\b\b\b\b\b\b\b\b\b\b\b\b\b\b\b\b\b\b\b\b\b\b\b\b\b\b\b\b\b\b\b\b\b\b\b\b\b\b\b\b\b\r",
      "412416/412416 [==============================] - 16s 40us/sample - loss: 198.3271 - reconstruction_loss: 93.2688 - KL_loss: 21.2018 - val_loss: 108.5645 - val_reconstruction_loss: 87.9841 - val_KL_loss: 20.5805 - lr: 0.0030\n",
      "Epoch 184/1000\n"
     ]
    },
    {
     "name": "stdout",
     "output_type": "stream",
     "text": [
      "\r",
      "412416/412416 [==============================] - ETA: 0s - loss: 198.1010 - reconstruction_loss: 93.6280 - KL_loss: 21.0306"
     ]
    },
    {
     "name": "stdout",
     "output_type": "stream",
     "text": [
      "\b\b\b\b\b\b\b\b\b\b\b\b\b\b\b\b\b\b\b\b\b\b\b\b\b\b\b\b\b\b\b\b\b\b\b\b\b\b\b\b\b\b\b\b\b\b\b\b\b\b\b\b\b\b\b\b\b\b\b\b\b\b\b\b\b\b\b\b\b\b\b\b\b\b\b\b\b\b\b\b\b\b\b\b\b\b\b\b\b\b\b\b\b\b\b\b\b\b\b\b\b\b\b\b\b\b\b\b\b\b\b\b\b\b\b\b\b\b\b\b\b\b\b\r",
      "412416/412416 [==============================] - 11s 27us/sample - loss: 198.1010 - reconstruction_loss: 93.6280 - KL_loss: 21.0306 - val_loss: 108.2962 - val_reconstruction_loss: 88.0488 - val_KL_loss: 20.2474 - lr: 0.0030\n",
      "Epoch 185/1000\n"
     ]
    },
    {
     "name": "stdout",
     "output_type": "stream",
     "text": [
      "\r",
      "412416/412416 [==============================] - ETA: 0s - loss: 197.8615 - reconstruction_loss: 93.6819 - KL_loss: 20.6901"
     ]
    },
    {
     "name": "stdout",
     "output_type": "stream",
     "text": [
      "\b\b\b\b\b\b\b\b\b\b\b\b\b\b\b\b\b\b\b\b\b\b\b\b\b\b\b\b\b\b\b\b\b\b\b\b\b\b\b\b\b\b\b\b\b\b\b\b\b\b\b\b\b\b\b\b\b\b\b\b\b\b\b\b\b\b\b\b\b\b\b\b\b\b\b\b\b\b\b\b\b\b\b\b\b\b\b\b\b\b\b\b\b\b\b\b\b\b\b\b\b\b\b\b\b\b\b\b\b\b\b\b\b\b\b\b\b\b\b\b\b\b\b\r",
      "412416/412416 [==============================] - 11s 27us/sample - loss: 197.8615 - reconstruction_loss: 93.6819 - KL_loss: 20.6901 - val_loss: 108.5287 - val_reconstruction_loss: 88.1464 - val_KL_loss: 20.3824 - lr: 0.0030\n",
      "Epoch 186/1000\n"
     ]
    },
    {
     "name": "stdout",
     "output_type": "stream",
     "text": [
      "\r",
      "412416/412416 [==============================] - ETA: 0s - loss: 197.7601 - reconstruction_loss: 93.7867 - KL_loss: 20.8272"
     ]
    },
    {
     "name": "stdout",
     "output_type": "stream",
     "text": [
      "\b\b\b\b\b\b\b\b\b\b\b\b\b\b\b\b\b\b\b\b\b\b\b\b\b\b\b\b\b\b\b\b\b\b\b\b\b\b\b\b\b\b\b\b\b\b\b\b\b\b\b\b\b\b\b\b\b\b\b\b\b\b\b\b\b\b\b\b\b\b\b\b\b\b\b\b\b\b\b\b\b\b\b\b\b\b\b\b\b\b\b\b\b\b\b\b\b\b\b\b\b\b\b\b\b\b\b\b\b\b\b\b\b\b\b\b\b\b\b\b\b\b\b\r",
      "412416/412416 [==============================] - 11s 27us/sample - loss: 197.7601 - reconstruction_loss: 93.7867 - KL_loss: 20.8272 - val_loss: 108.2868 - val_reconstruction_loss: 87.5933 - val_KL_loss: 20.6935 - lr: 0.0030\n",
      "Epoch 187/1000\n"
     ]
    },
    {
     "name": "stdout",
     "output_type": "stream",
     "text": [
      "\r",
      "412416/412416 [==============================] - ETA: 0s - loss: 197.3950 - reconstruction_loss: 93.2262 - KL_loss: 21.1307"
     ]
    },
    {
     "name": "stdout",
     "output_type": "stream",
     "text": [
      "\b\b\b\b\b\b\b\b\b\b\b\b\b\b\b\b\b\b\b\b\b\b\b\b\b\b\b\b\b\b\b\b\b\b\b\b\b\b\b\b\b\b\b\b\b\b\b\b\b\b\b\b\b\b\b\b\b\b\b\b\b\b\b\b\b\b\b\b\b\b\b\b\b\b\b\b\b\b\b\b\b\b\b\b\b\b\b\b\b\b\b\b\b\b\b\b\b\b\b\b\b\b\b\b\b\b\b\b\b\b\b\b\b\b\b\b\b\b\b\b\b\b\b\r",
      "412416/412416 [==============================] - 11s 27us/sample - loss: 197.3950 - reconstruction_loss: 93.2262 - KL_loss: 21.1307 - val_loss: 108.1340 - val_reconstruction_loss: 87.4336 - val_KL_loss: 20.7003 - lr: 0.0030\n",
      "Epoch 188/1000\n"
     ]
    },
    {
     "name": "stdout",
     "output_type": "stream",
     "text": [
      "\r",
      "412416/412416 [==============================] - ETA: 0s - loss: 197.0878 - reconstruction_loss: 93.0929 - KL_loss: 21.1514"
     ]
    },
    {
     "name": "stdout",
     "output_type": "stream",
     "text": [
      "\b\b\b\b\b\b\b\b\b\b\b\b\b\b\b\b\b\b\b\b\b\b\b\b\b\b\b\b\b\b\b\b\b\b\b\b\b\b\b\b\b\b\b\b\b\b\b\b\b\b\b\b\b\b\b\b\b\b\b\b\b\b\b\b\b\b\b\b\b\b\b\b\b\b\b\b\b\b\b\b\b\b\b\b\b\b\b\b\b\b\b\b\b\b\b\b\b\b\b\b\b\b\b\b\b\b\b\b\b\b\b\b\b\b\b\b\b\b\b\b\b\b\b\r",
      "412416/412416 [==============================] - 16s 38us/sample - loss: 197.0878 - reconstruction_loss: 93.0929 - KL_loss: 21.1514 - val_loss: 108.5902 - val_reconstruction_loss: 87.8772 - val_KL_loss: 20.7130 - lr: 0.0030\n",
      "Epoch 189/1000\n"
     ]
    },
    {
     "name": "stdout",
     "output_type": "stream",
     "text": [
      "\r",
      "412416/412416 [==============================] - ETA: 0s - loss: 197.2330 - reconstruction_loss: 93.4983 - KL_loss: 21.1548"
     ]
    },
    {
     "name": "stdout",
     "output_type": "stream",
     "text": [
      "\b\b\b\b\b\b\b\b\b\b\b\b\b\b\b\b\b\b\b\b\b\b\b\b\b\b\b\b\b\b\b\b\b\b\b\b\b\b\b\b\b\b\b\b\b\b\b\b\b\b\b\b\b\b\b\b\b\b\b\b\b\b\b\b\b\b\b\b\b\b\b\b\b\b\b\b\b\b\b\b\b\b\b\b\b\b\b\b\b\b\b\b\b\b\b\b\b\b\b\b\b\b\b\b\b\b\b\b\b\b\b\b\b\b\b\b\b\b\b\b\b\b\b\r",
      "412416/412416 [==============================] - 11s 27us/sample - loss: 197.2330 - reconstruction_loss: 93.4983 - KL_loss: 21.1548 - val_loss: 108.3907 - val_reconstruction_loss: 87.9225 - val_KL_loss: 20.4682 - lr: 0.0030\n",
      "Epoch 190/1000\n"
     ]
    },
    {
     "name": "stdout",
     "output_type": "stream",
     "text": [
      "\r",
      "412416/412416 [==============================] - ETA: 0s - loss: 196.9474 - reconstruction_loss: 93.5527 - KL_loss: 20.9078"
     ]
    },
    {
     "name": "stdout",
     "output_type": "stream",
     "text": [
      "\b\b\b\b\b\b\b\b\b\b\b\b\b\b\b\b\b\b\b\b\b\b\b\b\b\b\b\b\b\b\b\b\b\b\b\b\b\b\b\b\b\b\b\b\b\b\b\b\b\b\b\b\b\b\b\b\b\b\b\b\b\b\b\b\b\b\b\b\b\b\b\b\b\b\b\b\b\b\b\b\b\b\b\b\b\b\b\b\b\b\b\b\b\b\b\b\b\b\b\b\b\b\b\b\b\b\b\b\b\b\b\b\b\b\b\b\b\b\b\b\b\b\b\r",
      "412416/412416 [==============================] - 12s 28us/sample - loss: 196.9474 - reconstruction_loss: 93.5527 - KL_loss: 20.9078 - val_loss: 108.0679 - val_reconstruction_loss: 87.6608 - val_KL_loss: 20.4071 - lr: 0.0030\n",
      "Epoch 191/1000\n"
     ]
    },
    {
     "name": "stdout",
     "output_type": "stream",
     "text": [
      "\r",
      "412416/412416 [==============================] - ETA: 0s - loss: 196.5249 - reconstruction_loss: 93.3118 - KL_loss: 20.8554"
     ]
    },
    {
     "name": "stdout",
     "output_type": "stream",
     "text": [
      "\b\b\b\b\b\b\b\b\b\b\b\b\b\b\b\b\b\b\b\b\b\b\b\b\b\b\b\b\b\b\b\b\b\b\b\b\b\b\b\b\b\b\b\b\b\b\b\b\b\b\b\b\b\b\b\b\b\b\b\b\b\b\b\b\b\b\b\b\b\b\b\b\b\b\b\b\b\b\b\b\b\b\b\b\b\b\b\b\b\b\b\b\b\b\b\b\b\b\b\b\b\b\b\b\b\b\b\b\b\b\b\b\b\b\b\b\b\b\b\b\b\b\b\r",
      "412416/412416 [==============================] - 18s 44us/sample - loss: 196.5249 - reconstruction_loss: 93.3118 - KL_loss: 20.8554 - val_loss: 108.1117 - val_reconstruction_loss: 87.6085 - val_KL_loss: 20.5032 - lr: 0.0030\n",
      "Epoch 192/1000\n"
     ]
    },
    {
     "name": "stdout",
     "output_type": "stream",
     "text": [
      "\r",
      "412416/412416 [==============================] - ETA: 0s - loss: 196.3000 - reconstruction_loss: 93.2296 - KL_loss: 20.9457"
     ]
    },
    {
     "name": "stdout",
     "output_type": "stream",
     "text": [
      "\b\b\b\b\b\b\b\b\b\b\b\b\b\b\b\b\b\b\b\b\b\b\b\b\b\b\b\b\b\b\b\b\b\b\b\b\b\b\b\b\b\b\b\b\b\b\b\b\b\b\b\b\b\b\b\b\b\b\b\b\b\b\b\b\b\b\b\b\b\b\b\b\b\b\b\b\b\b\b\b\b\b\b\b\b\b\b\b\b\b\b\b\b\b\b\b\b\b\b\b\b\b\b\b\b\b\b\b\b\b\b\b\b\b\b\b\b\b\b\b\b\b\b\r",
      "412416/412416 [==============================] - 17s 41us/sample - loss: 196.3000 - reconstruction_loss: 93.2296 - KL_loss: 20.9457 - val_loss: 108.4608 - val_reconstruction_loss: 87.8216 - val_KL_loss: 20.6392 - lr: 0.0030\n",
      "Epoch 193/1000\n"
     ]
    },
    {
     "name": "stdout",
     "output_type": "stream",
     "text": [
      "\r",
      "412416/412416 [==============================] - ETA: 0s - loss: 196.5969 - reconstruction_loss: 93.4419 - KL_loss: 21.0888"
     ]
    },
    {
     "name": "stdout",
     "output_type": "stream",
     "text": [
      "\b\b\b\b\b\b\b\b\b\b\b\b\b\b\b\b\b\b\b\b\b\b\b\b\b\b\b\b\b\b\b\b\b\b\b\b\b\b\b\b\b\b\b\b\b\b\b\b\b\b\b\b\b\b\b\b\b\b\b\b\b\b\b\b\b\b\b\b\b\b\b\b\b\b\b\b\b\b\b\b\b\b\b\b\b\b\b\b\b\b\b\b\b\b\b\b\b\b\b\b\b\b\b\b\b\b\b\b\b\b\b\b\b\b\b\b\b\b\b\b\b\b\b\r",
      "412416/412416 [==============================] - 11s 27us/sample - loss: 196.5969 - reconstruction_loss: 93.4419 - KL_loss: 21.0888 - val_loss: 108.0402 - val_reconstruction_loss: 87.2866 - val_KL_loss: 20.7536 - lr: 0.0030\n",
      "Epoch 194/1000\n"
     ]
    },
    {
     "name": "stdout",
     "output_type": "stream",
     "text": [
      "\r",
      "412416/412416 [==============================] - ETA: 0s - loss: 195.8751 - reconstruction_loss: 92.8634 - KL_loss: 21.2055"
     ]
    },
    {
     "name": "stdout",
     "output_type": "stream",
     "text": [
      "\b\b\b\b\b\b\b\b\b\b\b\b\b\b\b\b\b\b\b\b\b\b\b\b\b\b\b\b\b\b\b\b\b\b\b\b\b\b\b\b\b\b\b\b\b\b\b\b\b\b\b\b\b\b\b\b\b\b\b\b\b\b\b\b\b\b\b\b\b\b\b\b\b\b\b\b\b\b\b\b\b\b\b\b\b\b\b\b\b\b\b\b\b\b\b\b\b\b\b\b\b\b\b\b\b\b\b\b\b\b\b\b\b\b\b\b\b\b\b\b\b\b\b\r",
      "412416/412416 [==============================] - 15s 37us/sample - loss: 195.8751 - reconstruction_loss: 92.8634 - KL_loss: 21.2055 - val_loss: 108.3055 - val_reconstruction_loss: 87.4954 - val_KL_loss: 20.8101 - lr: 0.0030\n",
      "Epoch 195/1000\n"
     ]
    },
    {
     "name": "stdout",
     "output_type": "stream",
     "text": [
      "\r",
      "412416/412416 [==============================] - ETA: 0s - loss: 196.4580 - reconstruction_loss: 93.1386 - KL_loss: 21.2520"
     ]
    },
    {
     "name": "stdout",
     "output_type": "stream",
     "text": [
      "\b\b\b\b\b\b\b\b\b\b\b\b\b\b\b\b\b\b\b\b\b\b\b\b\b\b\b\b\b\b\b\b\b\b\b\b\b\b\b\b\b\b\b\b\b\b\b\b\b\b\b\b\b\b\b\b\b\b\b\b\b\b\b\b\b\b\b\b\b\b\b\b\b\b\b\b\b\b\b\b\b\b\b\b\b\b\b\b\b\b\b\b\b\b\b\b\b\b\b\b\b\b\b\b\b\b\b\b\b\b\b\b\b\b\b\b\b\b\b\b\b\b\b\r",
      "412416/412416 [==============================] - 23s 57us/sample - loss: 196.4580 - reconstruction_loss: 93.1386 - KL_loss: 21.2520 - val_loss: 107.9279 - val_reconstruction_loss: 87.4305 - val_KL_loss: 20.4973 - lr: 0.0030\n",
      "Epoch 196/1000\n"
     ]
    },
    {
     "name": "stdout",
     "output_type": "stream",
     "text": [
      "\r",
      "412416/412416 [==============================] - ETA: 0s - loss: 195.5132 - reconstruction_loss: 93.0463 - KL_loss: 20.9477"
     ]
    },
    {
     "name": "stdout",
     "output_type": "stream",
     "text": [
      "\b\b\b\b\b\b\b\b\b\b\b\b\b\b\b\b\b\b\b\b\b\b\b\b\b\b\b\b\b\b\b\b\b\b\b\b\b\b\b\b\b\b\b\b\b\b\b\b\b\b\b\b\b\b\b\b\b\b\b\b\b\b\b\b\b\b\b\b\b\b\b\b\b\b\b\b\b\b\b\b\b\b\b\b\b\b\b\b\b\b\b\b\b\b\b\b\b\b\b\b\b\b\b\b\b\b\b\b\b\b\b\b\b\b\b\b\b\b\b\b\b\b\b\r",
      "412416/412416 [==============================] - 11s 27us/sample - loss: 195.5132 - reconstruction_loss: 93.0463 - KL_loss: 20.9477 - val_loss: 108.4964 - val_reconstruction_loss: 87.8652 - val_KL_loss: 20.6313 - lr: 0.0030\n",
      "Epoch 197/1000\n"
     ]
    },
    {
     "name": "stdout",
     "output_type": "stream",
     "text": [
      "\r",
      "412416/412416 [==============================] - ETA: 0s - loss: 196.1818 - reconstruction_loss: 93.4724 - KL_loss: 21.0764"
     ]
    },
    {
     "name": "stdout",
     "output_type": "stream",
     "text": [
      "\b\b\b\b\b\b\b\b\b\b\b\b\b\b\b\b\b\b\b\b\b\b\b\b\b\b\b\b\b\b\b\b\b\b\b\b\b\b\b\b\b\b\b\b\b\b\b\b\b\b\b\b\b\b\b\b\b\b\b\b\b\b\b\b\b\b\b\b\b\b\b\b\b\b\b\b\b\b\b\b\b\b\b\b\b\b\b\b\b\b\b\b\b\b\b\b\b\b\b\b\b\b\b\b\b\b\b\b\b\b\b\b\b\b\b\b\b\b\b\b\b\b\b\r",
      "412416/412416 [==============================] - 11s 28us/sample - loss: 196.1818 - reconstruction_loss: 93.4724 - KL_loss: 21.0764 - val_loss: 107.9642 - val_reconstruction_loss: 87.3934 - val_KL_loss: 20.5707 - lr: 0.0030\n",
      "Epoch 198/1000\n"
     ]
    },
    {
     "name": "stdout",
     "output_type": "stream",
     "text": [
      "\r",
      "412416/412416 [==============================] - ETA: 0s - loss: 195.2589 - reconstruction_loss: 92.9894 - KL_loss: 21.0214"
     ]
    },
    {
     "name": "stdout",
     "output_type": "stream",
     "text": [
      "\b\b\b\b\b\b\b\b\b\b\b\b\b\b\b\b\b\b\b\b\b\b\b\b\b\b\b\b\b\b\b\b\b\b\b\b\b\b\b\b\b\b\b\b\b\b\b\b\b\b\b\b\b\b\b\b\b\b\b\b\b\b\b\b\b\b\b\b\b\b\b\b\b\b\b\b\b\b\b\b\b\b\b\b\b\b\b\b\b\b\b\b\b\b\b\b\b\b\b\b\b\b\b\b\b\b\b\b\b\b\b\b\b\b\b\b\b\b\b\b\b\b\b\r",
      "412416/412416 [==============================] - 11s 27us/sample - loss: 195.2589 - reconstruction_loss: 92.9894 - KL_loss: 21.0214 - val_loss: 108.4328 - val_reconstruction_loss: 88.0240 - val_KL_loss: 20.4088 - lr: 0.0030\n",
      "Epoch 199/1000\n"
     ]
    },
    {
     "name": "stdout",
     "output_type": "stream",
     "text": [
      "\r",
      "412416/412416 [==============================] - ETA: 0s - loss: 195.7588 - reconstruction_loss: 93.5757 - KL_loss: 20.8575"
     ]
    },
    {
     "name": "stdout",
     "output_type": "stream",
     "text": [
      "\b\b\b\b\b\b\b\b\b\b\b\b\b\b\b\b\b\b\b\b\b\b\b\b\b\b\b\b\b\b\b\b\b\b\b\b\b\b\b\b\b\b\b\b\b\b\b\b\b\b\b\b\b\b\b\b\b\b\b\b\b\b\b\b\b\b\b\b\b\b\b\b\b\b\b\b\b\b\b\b\b\b\b\b\b\b\b\b\b\b\b\b\b\b\b\b\b\b\b\b\b\b\b\b\b\b\b\b\b\b\b\b\b\b\b\b\b\b\b\b\b\b\b\r",
      "412416/412416 [==============================] - 11s 28us/sample - loss: 195.7588 - reconstruction_loss: 93.5757 - KL_loss: 20.8575 - val_loss: 107.9456 - val_reconstruction_loss: 87.3461 - val_KL_loss: 20.5996 - lr: 0.0030\n",
      "Epoch 200/1000\n"
     ]
    },
    {
     "name": "stdout",
     "output_type": "stream",
     "text": [
      "\r",
      "412416/412416 [==============================] - ETA: 0s - loss: 194.8183 - reconstruction_loss: 92.9372 - KL_loss: 21.0513"
     ]
    },
    {
     "name": "stdout",
     "output_type": "stream",
     "text": [
      "\b\b\b\b\b\b\b\b\b\b\b\b\b\b\b\b\b\b\b\b\b\b\b\b\b\b\b\b\b\b\b\b\b\b\b\b\b\b\b\b\b\b\b\b\b\b\b\b\b\b\b\b\b\b\b\b\b\b\b\b\b\b\b\b\b\b\b\b\b\b\b\b\b\b\b\b\b\b\b\b\b\b\b\b\b\b\b\b\b\b\b\b\b\b\b\b\b\b\b\b\b\b\b\b\b\b\b\b\b\b\b\b\b\b\b\b\b\b\b\b\b\b\b\r",
      "412416/412416 [==============================] - 11s 27us/sample - loss: 194.8183 - reconstruction_loss: 92.9372 - KL_loss: 21.0513 - val_loss: 108.5630 - val_reconstruction_loss: 87.8394 - val_KL_loss: 20.7235 - lr: 0.0030\n",
      "Epoch 201/1000\n"
     ]
    },
    {
     "name": "stdout",
     "output_type": "stream",
     "text": [
      "\r",
      "412416/412416 [==============================] - ETA: 0s - loss: 196.1497 - reconstruction_loss: 93.4325 - KL_loss: 21.1617"
     ]
    },
    {
     "name": "stdout",
     "output_type": "stream",
     "text": [
      "\b\b\b\b\b\b\b\b\b\b\b\b\b\b\b\b\b\b\b\b\b\b\b\b\b\b\b\b\b\b\b\b\b\b\b\b\b\b\b\b\b\b\b\b\b\b\b\b\b\b\b\b\b\b\b\b\b\b\b\b\b\b\b\b\b\b\b\b\b\b\b\b\b\b\b\b\b\b\b\b\b\b\b\b\b\b\b\b\b\b\b\b\b\b\b\b\b\b\b\b\b\b\b\b\b\b\b\b\b\b\b\b\b\b\b\b\b\b\b\b\b\b\b\r",
      "412416/412416 [==============================] - 11s 27us/sample - loss: 196.1497 - reconstruction_loss: 93.4325 - KL_loss: 21.1617 - val_loss: 107.8361 - val_reconstruction_loss: 87.2729 - val_KL_loss: 20.5633 - lr: 0.0030\n",
      "Epoch 202/1000\n"
     ]
    },
    {
     "name": "stdout",
     "output_type": "stream",
     "text": [
      "\r",
      "412416/412416 [==============================] - ETA: 0s - loss: 194.7918 - reconstruction_loss: 92.8852 - KL_loss: 21.0115"
     ]
    },
    {
     "name": "stdout",
     "output_type": "stream",
     "text": [
      "\b\b\b\b\b\b\b\b\b\b\b\b\b\b\b\b\b\b\b\b\b\b\b\b\b\b\b\b\b\b\b\b\b\b\b\b\b\b\b\b\b\b\b\b\b\b\b\b\b\b\b\b\b\b\b\b\b\b\b\b\b\b\b\b\b\b\b\b\b\b\b\b\b\b\b\b\b\b\b\b\b\b\b\b\b\b\b\b\b\b\b\b\b\b\b\b\b\b\b\b\b\b\b\b\b\b\b\b\b\b\b\b\b\b\b\b\b\b\b\b\b\b\b\r",
      "412416/412416 [==============================] - 11s 27us/sample - loss: 194.7918 - reconstruction_loss: 92.8852 - KL_loss: 21.0115 - val_loss: 108.1529 - val_reconstruction_loss: 87.4324 - val_KL_loss: 20.7205 - lr: 0.0030\n",
      "Epoch 203/1000\n"
     ]
    },
    {
     "name": "stdout",
     "output_type": "stream",
     "text": [
      "\r",
      "412416/412416 [==============================] - ETA: 0s - loss: 195.2580 - reconstruction_loss: 93.0141 - KL_loss: 21.1703"
     ]
    },
    {
     "name": "stdout",
     "output_type": "stream",
     "text": [
      "\b\b\b\b\b\b\b\b\b\b\b\b\b\b\b\b\b\b\b\b\b\b\b\b\b\b\b\b\b\b\b\b\b\b\b\b\b\b\b\b\b\b\b\b\b\b\b\b\b\b\b\b\b\b\b\b\b\b\b\b\b\b\b\b\b\b\b\b\b\b\b\b\b\b\b\b\b\b\b\b\b\b\b\b\b\b\b\b\b\b\b\b\b\b\b\b\b\b\b\b\b\b\b\b\b\b\b\b\b\b\b\b\b\b\b\b\b\b\b\b\b\b\b\r",
      "412416/412416 [==============================] - 11s 26us/sample - loss: 195.2580 - reconstruction_loss: 93.0141 - KL_loss: 21.1703 - val_loss: 108.4674 - val_reconstruction_loss: 87.8641 - val_KL_loss: 20.6034 - lr: 0.0030\n",
      "Epoch 204/1000\n"
     ]
    },
    {
     "name": "stdout",
     "output_type": "stream",
     "text": [
      "\r",
      "412416/412416 [==============================] - ETA: 0s - loss: 195.3499 - reconstruction_loss: 93.4315 - KL_loss: 21.0473"
     ]
    },
    {
     "name": "stdout",
     "output_type": "stream",
     "text": [
      "\b\b\b\b\b\b\b\b\b\b\b\b\b\b\b\b\b\b\b\b\b\b\b\b\b\b\b\b\b\b\b\b\b\b\b\b\b\b\b\b\b\b\b\b\b\b\b\b\b\b\b\b\b\b\b\b\b\b\b\b\b\b\b\b\b\b\b\b\b\b\b\b\b\b\b\b\b\b\b\b\b\b\b\b\b\b\b\b\b\b\b\b\b\b\b\b\b\b\b\b\b\b\b\b\b\b\b\b\b\b\b\b\b\b\b\b\b\b\b\b\b\b\b\r",
      "412416/412416 [==============================] - 12s 30us/sample - loss: 195.3499 - reconstruction_loss: 93.4315 - KL_loss: 21.0473 - val_loss: 107.8361 - val_reconstruction_loss: 87.3185 - val_KL_loss: 20.5176 - lr: 0.0030\n",
      "Epoch 205/1000\n"
     ]
    },
    {
     "name": "stdout",
     "output_type": "stream",
     "text": [
      "\r",
      "412416/412416 [==============================] - ETA: 0s - loss: 194.0177 - reconstruction_loss: 92.8969 - KL_loss: 20.9687"
     ]
    },
    {
     "name": "stdout",
     "output_type": "stream",
     "text": [
      "\b\b\b\b\b\b\b\b\b\b\b\b\b\b\b\b\b\b\b\b\b\b\b\b\b\b\b\b\b\b\b\b\b\b\b\b\b\b\b\b\b\b\b\b\b\b\b\b\b\b\b\b\b\b\b\b\b\b\b\b\b\b\b\b\b\b\b\b\b\b\b\b\b\b\b\b\b\b\b\b\b\b\b\b\b\b\b\b\b\b\b\b\b\b\b\b\b\b\b\b\b\b\b\b\b\b\b\b\b\b\b\b\b\b\b\b\b\b\b\b\b\b\b\r",
      "412416/412416 [==============================] - 11s 27us/sample - loss: 194.0177 - reconstruction_loss: 92.8969 - KL_loss: 20.9687 - val_loss: 108.7060 - val_reconstruction_loss: 88.0093 - val_KL_loss: 20.6968 - lr: 0.0030\n",
      "Epoch 206/1000\n"
     ]
    },
    {
     "name": "stdout",
     "output_type": "stream",
     "text": [
      "\r",
      "412416/412416 [==============================] - ETA: 0s - loss: 195.2188 - reconstruction_loss: 93.6176 - KL_loss: 21.1327"
     ]
    },
    {
     "name": "stdout",
     "output_type": "stream",
     "text": [
      "\b\b\b\b\b\b\b\b\b\b\b\b\b\b\b\b\b\b\b\b\b\b\b\b\b\b\b\b\b\b\b\b\b\b\b\b\b\b\b\b\b\b\b\b\b\b\b\b\b\b\b\b\b\b\b\b\b\b\b\b\b\b\b\b\b\b\b\b\b\b\b\b\b\b\b\b\b\b\b\b\b\b\b\b\b\b\b\b\b\b\b\b\b\b\b\b\b\b\b\b\b\b\b\b\b\b\b\b\b\b\b\b\b\b\b\b\b\b\b\b\b\b\b\r",
      "412416/412416 [==============================] - 11s 27us/sample - loss: 195.2188 - reconstruction_loss: 93.6176 - KL_loss: 21.1327 - val_loss: 107.7318 - val_reconstruction_loss: 87.2738 - val_KL_loss: 20.4580 - lr: 0.0030\n",
      "Epoch 207/1000\n"
     ]
    },
    {
     "name": "stdout",
     "output_type": "stream",
     "text": [
      "\r",
      "412416/412416 [==============================] - ETA: 0s - loss: 193.8056 - reconstruction_loss: 92.8239 - KL_loss: 20.9034"
     ]
    },
    {
     "name": "stdout",
     "output_type": "stream",
     "text": [
      "\b\b\b\b\b\b\b\b\b\b\b\b\b\b\b\b\b\b\b\b\b\b\b\b\b\b\b\b\b\b\b\b\b\b\b\b\b\b\b\b\b\b\b\b\b\b\b\b\b\b\b\b\b\b\b\b\b\b\b\b\b\b\b\b\b\b\b\b\b\b\b\b\b\b\b\b\b\b\b\b\b\b\b\b\b\b\b\b\b\b\b\b\b\b\b\b\b\b\b\b\b\b\b\b\b\b\b\b\b\b\b\b\b\b\b\b\b\b\b\b\b\b\b\r",
      "412416/412416 [==============================] - 12s 29us/sample - loss: 193.8056 - reconstruction_loss: 92.8239 - KL_loss: 20.9034 - val_loss: 108.1203 - val_reconstruction_loss: 87.4426 - val_KL_loss: 20.6777 - lr: 0.0030\n",
      "Epoch 208/1000\n"
     ]
    },
    {
     "name": "stdout",
     "output_type": "stream",
     "text": [
      "\r",
      "412416/412416 [==============================] - ETA: 0s - loss: 194.1490 - reconstruction_loss: 93.0059 - KL_loss: 21.1318"
     ]
    },
    {
     "name": "stdout",
     "output_type": "stream",
     "text": [
      "\b\b\b\b\b\b\b\b\b\b\b\b\b\b\b\b\b\b\b\b\b\b\b\b\b\b\b\b\b\b\b\b\b\b\b\b\b\b\b\b\b\b\b\b\b\b\b\b\b\b\b\b\b\b\b\b\b\b\b\b\b\b\b\b\b\b\b\b\b\b\b\b\b\b\b\b\b\b\b\b\b\b\b\b\b\b\b\b\b\b\b\b\b\b\b\b\b\b\b\b\b\b\b\b\b\b\b\b\b\b\b\b\b\b\b\b\b\b\b\b\b\b\b\r",
      "412416/412416 [==============================] - 11s 27us/sample - loss: 194.1490 - reconstruction_loss: 93.0059 - KL_loss: 21.1318 - val_loss: 108.1838 - val_reconstruction_loss: 87.2750 - val_KL_loss: 20.9088 - lr: 0.0030\n",
      "Epoch 209/1000\n"
     ]
    },
    {
     "name": "stdout",
     "output_type": "stream",
     "text": [
      "\r",
      "412416/412416 [==============================] - ETA: 0s - loss: 194.5024 - reconstruction_loss: 92.8354 - KL_loss: 21.3546"
     ]
    },
    {
     "name": "stdout",
     "output_type": "stream",
     "text": [
      "\b\b\b\b\b\b\b\b\b\b\b\b\b\b\b\b\b\b\b\b\b\b\b\b\b\b\b\b\b\b\b\b\b\b\b\b\b\b\b\b\b\b\b\b\b\b\b\b\b\b\b\b\b\b\b\b\b\b\b\b\b\b\b\b\b\b\b\b\b\b\b\b\b\b\b\b\b\b\b\b\b\b\b\b\b\b\b\b\b\b\b\b\b\b\b\b\b\b\b\b\b\b\b\b\b\b\b\b\b\b\b\b\b\b\b\b\b\b\b\b\b\b\b\r",
      "412416/412416 [==============================] - 11s 27us/sample - loss: 194.5024 - reconstruction_loss: 92.8354 - KL_loss: 21.3546 - val_loss: 107.6377 - val_reconstruction_loss: 87.1159 - val_KL_loss: 20.5219 - lr: 0.0030\n",
      "Epoch 210/1000\n"
     ]
    },
    {
     "name": "stdout",
     "output_type": "stream",
     "text": [
      "\r",
      "412416/412416 [==============================] - ETA: 0s - loss: 192.9732 - reconstruction_loss: 92.6633 - KL_loss: 20.9714"
     ]
    },
    {
     "name": "stdout",
     "output_type": "stream",
     "text": [
      "\b\b\b\b\b\b\b\b\b\b\b\b\b\b\b\b\b\b\b\b\b\b\b\b\b\b\b\b\b\b\b\b\b\b\b\b\b\b\b\b\b\b\b\b\b\b\b\b\b\b\b\b\b\b\b\b\b\b\b\b\b\b\b\b\b\b\b\b\b\b\b\b\b\b\b\b\b\b\b\b\b\b\b\b\b\b\b\b\b\b\b\b\b\b\b\b\b\b\b\b\b\b\b\b\b\b\b\b\b\b\b\b\b\b\b\b\b\b\b\b\b\b\b\r",
      "412416/412416 [==============================] - 11s 27us/sample - loss: 192.9732 - reconstruction_loss: 92.6633 - KL_loss: 20.9714 - val_loss: 109.3467 - val_reconstruction_loss: 88.9173 - val_KL_loss: 20.4294 - lr: 0.0030\n",
      "Epoch 211/1000\n"
     ]
    },
    {
     "name": "stdout",
     "output_type": "stream",
     "text": [
      "\r",
      "412416/412416 [==============================] - ETA: 0s - loss: 195.6233 - reconstruction_loss: 94.4727 - KL_loss: 20.8690"
     ]
    },
    {
     "name": "stdout",
     "output_type": "stream",
     "text": [
      "\b\b\b\b\b\b\b\b\b\b\b\b\b\b\b\b\b\b\b\b\b\b\b\b\b\b\b\b\b\b\b\b\b\b\b\b\b\b\b\b\b\b\b\b\b\b\b\b\b\b\b\b\b\b\b\b\b\b\b\b\b\b\b\b\b\b\b\b\b\b\b\b\b\b\b\b\b\b\b\b\b\b\b\b\b\b\b\b\b\b\b\b\b\b\b\b\b\b\b\b\b\b\b\b\b\b\b\b\b\b\b\b\b\b\b\b\b\b\b\b\b\b\b\r",
      "412416/412416 [==============================] - 11s 27us/sample - loss: 195.6233 - reconstruction_loss: 94.4727 - KL_loss: 20.8690 - val_loss: 108.1327 - val_reconstruction_loss: 87.5960 - val_KL_loss: 20.5367 - lr: 0.0030\n",
      "Epoch 212/1000\n"
     ]
    },
    {
     "name": "stdout",
     "output_type": "stream",
     "text": [
      "\r",
      "412416/412416 [==============================] - ETA: 0s - loss: 194.0303 - reconstruction_loss: 93.1476 - KL_loss: 20.9797"
     ]
    },
    {
     "name": "stdout",
     "output_type": "stream",
     "text": [
      "\b\b\b\b\b\b\b\b\b\b\b\b\b\b\b\b\b\b\b\b\b\b\b\b\b\b\b\b\b\b\b\b\b\b\b\b\b\b\b\b\b\b\b\b\b\b\b\b\b\b\b\b\b\b\b\b\b\b\b\b\b\b\b\b\b\b\b\b\b\b\b\b\b\b\b\b\b\b\b\b\b\b\b\b\b\b\b\b\b\b\b\b\b\b\b\b\b\b\b\b\b\b\b\b\b\b\b\b\b\b\b\b\b\b\b\b\b\b\b\b\b\b\b\r",
      "412416/412416 [==============================] - 11s 27us/sample - loss: 194.0303 - reconstruction_loss: 93.1476 - KL_loss: 20.9797 - val_loss: 110.5615 - val_reconstruction_loss: 89.7109 - val_KL_loss: 20.8506 - lr: 0.0030\n",
      "Epoch 213/1000\n"
     ]
    },
    {
     "name": "stdout",
     "output_type": "stream",
     "text": [
      "\r",
      "412416/412416 [==============================] - ETA: 0s - loss: 197.1694 - reconstruction_loss: 95.2558 - KL_loss: 21.3028"
     ]
    },
    {
     "name": "stdout",
     "output_type": "stream",
     "text": [
      "\b\b\b\b\b\b\b\b\b\b\b\b\b\b\b\b\b\b\b\b\b\b\b\b\b\b\b\b\b\b\b\b\b\b\b\b\b\b\b\b\b\b\b\b\b\b\b\b\b\b\b\b\b\b\b\b\b\b\b\b\b\b\b\b\b\b\b\b\b\b\b\b\b\b\b\b\b\b\b\b\b\b\b\b\b\b\b\b\b\b\b\b\b\b\b\b\b\b\b\b\b\b\b\b\b\b\b\b\b\b\b\b\b\b\b\b\b\b\b\b\b\b\b\r",
      "412416/412416 [==============================] - 12s 29us/sample - loss: 197.1694 - reconstruction_loss: 95.2558 - KL_loss: 21.3028 - val_loss: 109.4016 - val_reconstruction_loss: 88.1892 - val_KL_loss: 21.2123 - lr: 0.0030\n",
      "Epoch 214/1000\n"
     ]
    },
    {
     "name": "stdout",
     "output_type": "stream",
     "text": [
      "\r",
      "412416/412416 [==============================] - ETA: 0s - loss: 196.5729 - reconstruction_loss: 93.7578 - KL_loss: 21.6653"
     ]
    },
    {
     "name": "stdout",
     "output_type": "stream",
     "text": [
      "\b\b\b\b\b\b\b\b\b\b\b\b\b\b\b\b\b\b\b\b\b\b\b\b\b\b\b\b\b\b\b\b\b\b\b\b\b\b\b\b\b\b\b\b\b\b\b\b\b\b\b\b\b\b\b\b\b\b\b\b\b\b\b\b\b\b\b\b\b\b\b\b\b\b\b\b\b\b\b\b\b\b\b\b\b\b\b\b\b\b\b\b\b\b\b\b\b\b\b\b\b\b\b\b\b\b\b\b\b\b\b\b\b\b\b\b\b\b\b\b\b\b\b\r",
      "412416/412416 [==============================] - 11s 27us/sample - loss: 196.5729 - reconstruction_loss: 93.7578 - KL_loss: 21.6653 - val_loss: 110.1618 - val_reconstruction_loss: 89.0523 - val_KL_loss: 21.1095 - lr: 0.0030\n",
      "Epoch 215/1000\n"
     ]
    },
    {
     "name": "stdout",
     "output_type": "stream",
     "text": [
      "\r",
      "412416/412416 [==============================] - ETA: 0s - loss: 197.0258 - reconstruction_loss: 94.6312 - KL_loss: 21.5533"
     ]
    },
    {
     "name": "stdout",
     "output_type": "stream",
     "text": [
      "\b\b\b\b\b\b\b\b\b\b\b\b\b\b\b\b\b\b\b\b\b\b\b\b\b\b\b\b\b\b\b\b\b\b\b\b\b\b\b\b\b\b\b\b\b\b\b\b\b\b\b\b\b\b\b\b\b\b\b\b\b\b\b\b\b\b\b\b\b\b\b\b\b\b\b\b\b\b\b\b\b\b\b\b\b\b\b\b\b\b\b\b\b\b\b\b\b\b\b\b\b\b\b\b\b\b\b\b\b\b\b\b\b\b\b\b\b\b\b\b\b\b\b\r",
      "412416/412416 [==============================] - 11s 27us/sample - loss: 197.0258 - reconstruction_loss: 94.6312 - KL_loss: 21.5533 - val_loss: 110.2389 - val_reconstruction_loss: 89.5638 - val_KL_loss: 20.6751 - lr: 0.0030\n",
      "Epoch 216/1000\n"
     ]
    },
    {
     "name": "stdout",
     "output_type": "stream",
     "text": [
      "\r",
      "412416/412416 [==============================] - ETA: 0s - loss: 196.6939 - reconstruction_loss: 95.0996 - KL_loss: 21.1230"
     ]
    },
    {
     "name": "stdout",
     "output_type": "stream",
     "text": [
      "\b\b\b\b\b\b\b\b\b\b\b\b\b\b\b\b\b\b\b\b\b\b\b\b\b\b\b\b\b\b\b\b\b\b\b\b\b\b\b\b\b\b\b\b\b\b\b\b\b\b\b\b\b\b\b\b\b\b\b\b\b\b\b\b\b\b\b\b\b\b\b\b\b\b\b\b\b\b\b\b\b\b\b\b\b\b\b\b\b\b\b\b\b\b\b\b\b\b\b\b\b\b\b\b\b\b\b\b\b\b\b\b\b\b\b\b\b\b\b\b\b\b\b\r",
      "412416/412416 [==============================] - 11s 27us/sample - loss: 196.6939 - reconstruction_loss: 95.0996 - KL_loss: 21.1230 - val_loss: 108.6700 - val_reconstruction_loss: 88.3738 - val_KL_loss: 20.2961 - lr: 0.0030\n",
      "Epoch 217/1000\n"
     ]
    },
    {
     "name": "stdout",
     "output_type": "stream",
     "text": [
      "\r",
      "412416/412416 [==============================] - ETA: 0s - loss: 194.3125 - reconstruction_loss: 93.9330 - KL_loss: 20.7480"
     ]
    },
    {
     "name": "stdout",
     "output_type": "stream",
     "text": [
      "\b\b\b\b\b\b\b\b\b\b\b\b\b\b\b\b\b\b\b\b\b\b\b\b\b\b\b\b\b\b\b\b\b\b\b\b\b\b\b\b\b\b\b\b\b\b\b\b\b\b\b\b\b\b\b\b\b\b\b\b\b\b\b\b\b\b\b\b\b\b\b\b\b\b\b\b\b\b\b\b\b\b\b\b\b\b\b\b\b\b\b\b\b\b\b\b\b\b\b\b\b\b\b\b\b\b\b\b\b\b\b\b\b\b\b\b\b\b\b\b\b\b\b\r",
      "412416/412416 [==============================] - 11s 27us/sample - loss: 194.3125 - reconstruction_loss: 93.9330 - KL_loss: 20.7480 - val_loss: 109.1434 - val_reconstruction_loss: 88.6155 - val_KL_loss: 20.5279 - lr: 0.0030\n",
      "Epoch 218/1000\n"
     ]
    },
    {
     "name": "stdout",
     "output_type": "stream",
     "text": [
      "\r",
      "412416/412416 [==============================] - ETA: 0s - loss: 194.9951 - reconstruction_loss: 94.1777 - KL_loss: 20.9586"
     ]
    },
    {
     "name": "stdout",
     "output_type": "stream",
     "text": [
      "\b\b\b\b\b\b\b\b\b\b\b\b\b\b\b\b\b\b\b\b\b\b\b\b\b\b\b\b\b\b\b\b\b\b\b\b\b\b\b\b\b\b\b\b\b\b\b\b\b\b\b\b\b\b\b\b\b\b\b\b\b\b\b\b\b\b\b\b\b\b\b\b\b\b\b\b\b\b\b\b\b\b\b\b\b\b\b\b\b\b\b\b\b\b\b\b\b\b\b\b\b\b\b\b\b\b\b\b\b\b\b\b\b\b\b\b\b\b\b\b\b\b\b\r",
      "412416/412416 [==============================] - 11s 27us/sample - loss: 194.9951 - reconstruction_loss: 94.1777 - KL_loss: 20.9586 - val_loss: 108.5622 - val_reconstruction_loss: 87.9877 - val_KL_loss: 20.5745 - lr: 0.0030\n",
      "Epoch 219/1000\n"
     ]
    },
    {
     "name": "stdout",
     "output_type": "stream",
     "text": [
      "\r",
      "412416/412416 [==============================] - ETA: 0s - loss: 193.7146 - reconstruction_loss: 93.5551 - KL_loss: 21.0018"
     ]
    },
    {
     "name": "stdout",
     "output_type": "stream",
     "text": [
      "\b\b\b\b\b\b\b\b\b\b\b\b\b\b\b\b\b\b\b\b\b\b\b\b\b\b\b\b\b\b\b\b\b\b\b\b\b\b\b\b\b\b\b\b\b\b\b\b\b\b\b\b\b\b\b\b\b\b\b\b\b\b\b\b\b\b\b\b\b\b\b\b\b\b\b\b\b\b\b\b\b\b\b\b\b\b\b\b\b\b\b\b\b\b\b\b\b\b\b\b\b\b\b\b\b\b\b\b\b\b\b\b\b\b\b\b\b\b\b\b\b\b\b\r",
      "412416/412416 [==============================] - 11s 27us/sample - loss: 193.7146 - reconstruction_loss: 93.5551 - KL_loss: 21.0018 - val_loss: 109.4175 - val_reconstruction_loss: 88.7652 - val_KL_loss: 20.6524 - lr: 0.0030\n",
      "Epoch 220/1000\n"
     ]
    },
    {
     "name": "stdout",
     "output_type": "stream",
     "text": [
      "\r",
      "412416/412416 [==============================] - ETA: 0s - loss: 194.7597 - reconstruction_loss: 94.3006 - KL_loss: 21.1056"
     ]
    },
    {
     "name": "stdout",
     "output_type": "stream",
     "text": [
      "\b\b\b\b\b\b\b\b\b\b\b\b\b\b\b\b\b\b\b\b\b\b\b\b\b\b\b\b\b\b\b\b\b\b\b\b\b\b\b\b\b\b\b\b\b\b\b\b\b\b\b\b\b\b\b\b\b\b\b\b\b\b\b\b\b\b\b\b\b\b\b\b\b\b\b\b\b\b\b\b\b\b\b\b\b\b\b\b\b\b\b\b\b\b\b\b\b\b\b\b\b\b\b\b\b\b\b\b\b\b\b\b\b\b\b\b\b\b\b\b\b\b\b\r",
      "412416/412416 [==============================] - 11s 27us/sample - loss: 194.7597 - reconstruction_loss: 94.3006 - KL_loss: 21.1056 - val_loss: 108.8748 - val_reconstruction_loss: 87.9849 - val_KL_loss: 20.8899 - lr: 0.0027\n",
      "Epoch 221/1000\n"
     ]
    },
    {
     "name": "stdout",
     "output_type": "stream",
     "text": [
      "\r",
      "412416/412416 [==============================] - ETA: 0s - loss: 193.7195 - reconstruction_loss: 93.5058 - KL_loss: 21.3402"
     ]
    },
    {
     "name": "stdout",
     "output_type": "stream",
     "text": [
      "\b\b\b\b\b\b\b\b\b\b\b\b\b\b\b\b\b\b\b\b\b\b\b\b\b\b\b\b\b\b\b\b\b\b\b\b\b\b\b\b\b\b\b\b\b\b\b\b\b\b\b\b\b\b\b\b\b\b\b\b\b\b\b\b\b\b\b\b\b\b\b\b\b\b\b\b\b\b\b\b\b\b\b\b\b\b\b\b\b\b\b\b\b\b\b\b\b\b\b\b\b\b\b\b\b\b\b\b\b\b\b\b\b\b\b\b\b\b\b\b\b\b\b\r",
      "412416/412416 [==============================] - 12s 29us/sample - loss: 193.7195 - reconstruction_loss: 93.5058 - KL_loss: 21.3402 - val_loss: 108.5461 - val_reconstruction_loss: 87.5358 - val_KL_loss: 21.0103 - lr: 0.0027\n",
      "Epoch 222/1000\n"
     ]
    },
    {
     "name": "stdout",
     "output_type": "stream",
     "text": [
      "\r",
      "412416/412416 [==============================] - ETA: 0s - loss: 193.3915 - reconstruction_loss: 93.0819 - KL_loss: 21.4404"
     ]
    },
    {
     "name": "stdout",
     "output_type": "stream",
     "text": [
      "\b\b\b\b\b\b\b\b\b\b\b\b\b\b\b\b\b\b\b\b\b\b\b\b\b\b\b\b\b\b\b\b\b\b\b\b\b\b\b\b\b\b\b\b\b\b\b\b\b\b\b\b\b\b\b\b\b\b\b\b\b\b\b\b\b\b\b\b\b\b\b\b\b\b\b\b\b\b\b\b\b\b\b\b\b\b\b\b\b\b\b\b\b\b\b\b\b\b\b\b\b\b\b\b\b\b\b\b\b\b\b\b\b\b\b\b\b\b\b\b\b\b\b\r",
      "412416/412416 [==============================] - 11s 27us/sample - loss: 193.3915 - reconstruction_loss: 93.0819 - KL_loss: 21.4404 - val_loss: 109.0336 - val_reconstruction_loss: 88.2343 - val_KL_loss: 20.7992 - lr: 0.0027\n",
      "Epoch 223/1000\n"
     ]
    },
    {
     "name": "stdout",
     "output_type": "stream",
     "text": [
      "\r",
      "412416/412416 [==============================] - ETA: 0s - loss: 194.2300 - reconstruction_loss: 93.7757 - KL_loss: 21.2352"
     ]
    },
    {
     "name": "stdout",
     "output_type": "stream",
     "text": [
      "\b\b\b\b\b\b\b\b\b\b\b\b\b\b\b\b\b\b\b\b\b\b\b\b\b\b\b\b\b\b\b\b\b\b\b\b\b\b\b\b\b\b\b\b\b\b\b\b\b\b\b\b\b\b\b\b\b\b\b\b\b\b\b\b\b\b\b\b\b\b\b\b\b\b\b\b\b\b\b\b\b\b\b\b\b\b\b\b\b\b\b\b\b\b\b\b\b\b\b\b\b\b\b\b\b\b\b\b\b\b\b\b\b\b\b\b\b\b\b\b\b\b\b\r",
      "412416/412416 [==============================] - 11s 27us/sample - loss: 194.2300 - reconstruction_loss: 93.7757 - KL_loss: 21.2352 - val_loss: 107.9821 - val_reconstruction_loss: 87.6548 - val_KL_loss: 20.3273 - lr: 0.0027\n",
      "Epoch 224/1000\n"
     ]
    },
    {
     "name": "stdout",
     "output_type": "stream",
     "text": [
      "\r",
      "412416/412416 [==============================] - ETA: 0s - loss: 192.6962 - reconstruction_loss: 93.1819 - KL_loss: 20.7738"
     ]
    },
    {
     "name": "stdout",
     "output_type": "stream",
     "text": [
      "\b\b\b\b\b\b\b\b\b\b\b\b\b\b\b\b\b\b\b\b\b\b\b\b\b\b\b\b\b\b\b\b\b\b\b\b\b\b\b\b\b\b\b\b\b\b\b\b\b\b\b\b\b\b\b\b\b\b\b\b\b\b\b\b\b\b\b\b\b\b\b\b\b\b\b\b\b\b\b\b\b\b\b\b\b\b\b\b\b\b\b\b\b\b\b\b\b\b\b\b\b\b\b\b\b\b\b\b\b\b\b\b\b\b\b\b\b\b\b\b\b\b\b\r",
      "412416/412416 [==============================] - 11s 27us/sample - loss: 192.6962 - reconstruction_loss: 93.1819 - KL_loss: 20.7738 - val_loss: 108.5442 - val_reconstruction_loss: 88.0495 - val_KL_loss: 20.4946 - lr: 0.0027\n",
      "Epoch 225/1000\n"
     ]
    },
    {
     "name": "stdout",
     "output_type": "stream",
     "text": [
      "\r",
      "412416/412416 [==============================] - ETA: 0s - loss: 192.9377 - reconstruction_loss: 93.5750 - KL_loss: 20.9370"
     ]
    },
    {
     "name": "stdout",
     "output_type": "stream",
     "text": [
      "\b\b\b\b\b\b\b\b\b\b\b\b\b\b\b\b\b\b\b\b\b\b\b\b\b\b\b\b\b\b\b\b\b\b\b\b\b\b\b\b\b\b\b\b\b\b\b\b\b\b\b\b\b\b\b\b\b\b\b\b\b\b\b\b\b\b\b\b\b\b\b\b\b\b\b\b\b\b\b\b\b\b\b\b\b\b\b\b\b\b\b\b\b\b\b\b\b\b\b\b\b\b\b\b\b\b\b\b\b\b\b\b\b\b\b\b\b\b\b\b\b\b\b\r",
      "412416/412416 [==============================] - 17s 42us/sample - loss: 192.9377 - reconstruction_loss: 93.5750 - KL_loss: 20.9370 - val_loss: 108.1739 - val_reconstruction_loss: 87.3972 - val_KL_loss: 20.7767 - lr: 0.0027\n",
      "Epoch 226/1000\n"
     ]
    },
    {
     "name": "stdout",
     "output_type": "stream",
     "text": [
      "\r",
      "412416/412416 [==============================] - ETA: 0s - loss: 192.4790 - reconstruction_loss: 92.9277 - KL_loss: 21.2251"
     ]
    },
    {
     "name": "stdout",
     "output_type": "stream",
     "text": [
      "\b\b\b\b\b\b\b\b\b\b\b\b\b\b\b\b\b\b\b\b\b\b\b\b\b\b\b\b\b\b\b\b\b\b\b\b\b\b\b\b\b\b\b\b\b\b\b\b\b\b\b\b\b\b\b\b\b\b\b\b\b\b\b\b\b\b\b\b\b\b\b\b\b\b\b\b\b\b\b\b\b\b\b\b\b\b\b\b\b\b\b\b\b\b\b\b\b\b\b\b\b\b\b\b\b\b\b\b\b\b\b\b\b\b\b\b\b\b\b\b\b\b\b\r",
      "412416/412416 [==============================] - 11s 27us/sample - loss: 192.4790 - reconstruction_loss: 92.9277 - KL_loss: 21.2251 - val_loss: 108.4186 - val_reconstruction_loss: 87.8002 - val_KL_loss: 20.6184 - lr: 0.0027\n",
      "Epoch 227/1000\n"
     ]
    },
    {
     "name": "stdout",
     "output_type": "stream",
     "text": [
      "\r",
      "412416/412416 [==============================] - ETA: 0s - loss: 192.4333 - reconstruction_loss: 93.3074 - KL_loss: 21.0654"
     ]
    },
    {
     "name": "stdout",
     "output_type": "stream",
     "text": [
      "\b\b\b\b\b\b\b\b\b\b\b\b\b\b\b\b\b\b\b\b\b\b\b\b\b\b\b\b\b\b\b\b\b\b\b\b\b\b\b\b\b\b\b\b\b\b\b\b\b\b\b\b\b\b\b\b\b\b\b\b\b\b\b\b\b\b\b\b\b\b\b\b\b\b\b\b\b\b\b\b\b\b\b\b\b\b\b\b\b\b\b\b\b\b\b\b\b\b\b\b\b\b\b\b\b\b\b\b\b\b\b\b\b\b\b\b\b\b\b\b\b\b\b\r",
      "412416/412416 [==============================] - 11s 27us/sample - loss: 192.4333 - reconstruction_loss: 93.3074 - KL_loss: 21.0654 - val_loss: 108.1339 - val_reconstruction_loss: 87.3987 - val_KL_loss: 20.7352 - lr: 0.0027\n",
      "Epoch 228/1000\n"
     ]
    },
    {
     "name": "stdout",
     "output_type": "stream",
     "text": [
      "\r",
      "412416/412416 [==============================] - ETA: 0s - loss: 192.0004 - reconstruction_loss: 92.9518 - KL_loss: 21.1710"
     ]
    },
    {
     "name": "stdout",
     "output_type": "stream",
     "text": [
      "\b\b\b\b\b\b\b\b\b\b\b\b\b\b\b\b\b\b\b\b\b\b\b\b\b\b\b\b\b\b\b\b\b\b\b\b\b\b\b\b\b\b\b\b\b\b\b\b\b\b\b\b\b\b\b\b\b\b\b\b\b\b\b\b\b\b\b\b\b\b\b\b\b\b\b\b\b\b\b\b\b\b\b\b\b\b\b\b\b\b\b\b\b\b\b\b\b\b\b\b\b\b\b\b\b\b\b\b\b\b\b\b\b\b\b\b\b\b\b\b\b\b\b\r",
      "412416/412416 [==============================] - 11s 27us/sample - loss: 192.0004 - reconstruction_loss: 92.9518 - KL_loss: 21.1710 - val_loss: 108.2796 - val_reconstruction_loss: 87.4046 - val_KL_loss: 20.8751 - lr: 0.0027\n",
      "Epoch 229/1000\n"
     ]
    },
    {
     "name": "stdout",
     "output_type": "stream",
     "text": [
      "\r",
      "412416/412416 [==============================] - ETA: 0s - loss: 192.0845 - reconstruction_loss: 92.9351 - KL_loss: 21.3184"
     ]
    },
    {
     "name": "stdout",
     "output_type": "stream",
     "text": [
      "\b\b\b\b\b\b\b\b\b\b\b\b\b\b\b\b\b\b\b\b\b\b\b\b\b\b\b\b\b\b\b\b\b\b\b\b\b\b\b\b\b\b\b\b\b\b\b\b\b\b\b\b\b\b\b\b\b\b\b\b\b\b\b\b\b\b\b\b\b\b\b\b\b\b\b\b\b\b\b\b\b\b\b\b\b\b\b\b\b\b\b\b\b\b\b\b\b\b\b\b\b\b\b\b\b\b\b\b\b\b\b\b\b\b\b\b\b\b\b\b\b\b\b\r",
      "412416/412416 [==============================] - 11s 27us/sample - loss: 192.0845 - reconstruction_loss: 92.9351 - KL_loss: 21.3184 - val_loss: 108.0105 - val_reconstruction_loss: 87.2992 - val_KL_loss: 20.7112 - lr: 0.0027\n",
      "Epoch 230/1000\n"
     ]
    },
    {
     "name": "stdout",
     "output_type": "stream",
     "text": [
      "\r",
      "412416/412416 [==============================] - ETA: 0s - loss: 191.8970 - reconstruction_loss: 92.8006 - KL_loss: 21.1656"
     ]
    },
    {
     "name": "stdout",
     "output_type": "stream",
     "text": [
      "\b\b\b\b\b\b\b\b\b\b\b\b\b\b\b\b\b\b\b\b\b\b\b\b\b\b\b\b\b\b\b\b\b\b\b\b\b\b\b\b\b\b\b\b\b\b\b\b\b\b\b\b\b\b\b\b\b\b\b\b\b\b\b\b\b\b\b\b\b\b\b\b\b\b\b\b\b\b\b\b\b\b\b\b\b\b\b\b\b\b\b\b\b\b\b\b\b\b\b\b\b\b\b\b\b\b\b\b\b\b\b\b\b\b\b\b\b\b\b\b\b\b\b\r",
      "412416/412416 [==============================] - 14s 34us/sample - loss: 191.8970 - reconstruction_loss: 92.8006 - KL_loss: 21.1656 - val_loss: 107.5772 - val_reconstruction_loss: 87.0664 - val_KL_loss: 20.5108 - lr: 0.0027\n",
      "Epoch 231/1000\n"
     ]
    },
    {
     "name": "stdout",
     "output_type": "stream",
     "text": [
      "\r",
      "412416/412416 [==============================] - ETA: 0s - loss: 190.9895 - reconstruction_loss: 92.5514 - KL_loss: 20.9548"
     ]
    },
    {
     "name": "stdout",
     "output_type": "stream",
     "text": [
      "\b\b\b\b\b\b\b\b\b\b\b\b\b\b\b\b\b\b\b\b\b\b\b\b\b\b\b\b\b\b\b\b\b\b\b\b\b\b\b\b\b\b\b\b\b\b\b\b\b\b\b\b\b\b\b\b\b\b\b\b\b\b\b\b\b\b\b\b\b\b\b\b\b\b\b\b\b\b\b\b\b\b\b\b\b\b\b\b\b\b\b\b\b\b\b\b\b\b\b\b\b\b\b\b\b\b\b\b\b\b\b\b\b\b\b\b\b\b\b\b\b\b\b\r",
      "412416/412416 [==============================] - 11s 27us/sample - loss: 190.9895 - reconstruction_loss: 92.5514 - KL_loss: 20.9548 - val_loss: 108.6445 - val_reconstruction_loss: 88.0168 - val_KL_loss: 20.6276 - lr: 0.0027\n",
      "Epoch 232/1000\n"
     ]
    },
    {
     "name": "stdout",
     "output_type": "stream",
     "text": [
      "\r",
      "412416/412416 [==============================] - ETA: 0s - loss: 192.4429 - reconstruction_loss: 93.5251 - KL_loss: 21.0755"
     ]
    },
    {
     "name": "stdout",
     "output_type": "stream",
     "text": [
      "\b\b\b\b\b\b\b\b\b\b\b\b\b\b\b\b\b\b\b\b\b\b\b\b\b\b\b\b\b\b\b\b\b\b\b\b\b\b\b\b\b\b\b\b\b\b\b\b\b\b\b\b\b\b\b\b\b\b\b\b\b\b\b\b\b\b\b\b\b\b\b\b\b\b\b\b\b\b\b\b\b\b\b\b\b\b\b\b\b\b\b\b\b\b\b\b\b\b\b\b\b\b\b\b\b\b\b\b\b\b\b\b\b\b\b\b\b\b\b\b\b\b\b\r",
      "412416/412416 [==============================] - 11s 27us/sample - loss: 192.4429 - reconstruction_loss: 93.5251 - KL_loss: 21.0755 - val_loss: 107.5156 - val_reconstruction_loss: 86.8205 - val_KL_loss: 20.6951 - lr: 0.0027\n",
      "Epoch 233/1000\n"
     ]
    },
    {
     "name": "stdout",
     "output_type": "stream",
     "text": [
      "\r",
      "412416/412416 [==============================] - ETA: 0s - loss: 190.7915 - reconstruction_loss: 92.3354 - KL_loss: 21.1371"
     ]
    },
    {
     "name": "stdout",
     "output_type": "stream",
     "text": [
      "\b\b\b\b\b\b\b\b\b\b\b\b\b\b\b\b\b\b\b\b\b\b\b\b\b\b\b\b\b\b\b\b\b\b\b\b\b\b\b\b\b\b\b\b\b\b\b\b\b\b\b\b\b\b\b\b\b\b\b\b\b\b\b\b\b\b\b\b\b\b\b\b\b\b\b\b\b\b\b\b\b\b\b\b\b\b\b\b\b\b\b\b\b\b\b\b\b\b\b\b\b\b\b\b\b\b\b\b\b\b\b\b\b\b\b\b\b\b\b\b\b\b\b\r",
      "412416/412416 [==============================] - 11s 27us/sample - loss: 190.7915 - reconstruction_loss: 92.3354 - KL_loss: 21.1371 - val_loss: 108.8331 - val_reconstruction_loss: 88.1059 - val_KL_loss: 20.7271 - lr: 0.0027\n",
      "Epoch 234/1000\n"
     ]
    },
    {
     "name": "stdout",
     "output_type": "stream",
     "text": [
      "\r",
      "412416/412416 [==============================] - ETA: 0s - loss: 193.1279 - reconstruction_loss: 93.6008 - KL_loss: 21.1819"
     ]
    },
    {
     "name": "stdout",
     "output_type": "stream",
     "text": [
      "\b\b\b\b\b\b\b\b\b\b\b\b\b\b\b\b\b\b\b\b\b\b\b\b\b\b\b\b\b\b\b\b\b\b\b\b\b\b\b\b\b\b\b\b\b\b\b\b\b\b\b\b\b\b\b\b\b\b\b\b\b\b\b\b\b\b\b\b\b\b\b\b\b\b\b\b\b\b\b\b\b\b\b\b\b\b\b\b\b\b\b\b\b\b\b\b\b\b\b\b\b\b\b\b\b\b\b\b\b\b\b\b\b\b\b\b\b\b\b\b\b\b\b\r",
      "412416/412416 [==============================] - 15s 36us/sample - loss: 193.1279 - reconstruction_loss: 93.6008 - KL_loss: 21.1819 - val_loss: 108.5841 - val_reconstruction_loss: 87.7208 - val_KL_loss: 20.8633 - lr: 0.0027\n",
      "Epoch 235/1000\n"
     ]
    },
    {
     "name": "stdout",
     "output_type": "stream",
     "text": [
      "\r",
      "412416/412416 [==============================] - ETA: 0s - loss: 193.0658 - reconstruction_loss: 93.1749 - KL_loss: 21.3271"
     ]
    },
    {
     "name": "stdout",
     "output_type": "stream",
     "text": [
      "\b\b\b\b\b\b\b\b\b\b\b\b\b\b\b\b\b\b\b\b\b\b\b\b\b\b\b\b\b\b\b\b\b\b\b\b\b\b\b\b\b\b\b\b\b\b\b\b\b\b\b\b\b\b\b\b\b\b\b\b\b\b\b\b\b\b\b\b\b\b\b\b\b\b\b\b\b\b\b\b\b\b\b\b\b\b\b\b\b\b\b\b\b\b\b\b\b\b\b\b\b\b\b\b\b\b\b\b\b\b\b\b\b\b\b\b\b\b\b\b\b\b\b\r",
      "412416/412416 [==============================] - 11s 28us/sample - loss: 193.0658 - reconstruction_loss: 93.1749 - KL_loss: 21.3271 - val_loss: 108.2334 - val_reconstruction_loss: 87.4760 - val_KL_loss: 20.7573 - lr: 0.0027\n",
      "Epoch 236/1000\n"
     ]
    },
    {
     "name": "stdout",
     "output_type": "stream",
     "text": [
      "\r",
      "412416/412416 [==============================] - ETA: 0s - loss: 191.4204 - reconstruction_loss: 92.9546 - KL_loss: 21.2057"
     ]
    },
    {
     "name": "stdout",
     "output_type": "stream",
     "text": [
      "\b\b\b\b\b\b\b\b\b\b\b\b\b\b\b\b\b\b\b\b\b\b\b\b\b\b\b\b\b\b\b\b\b\b\b\b\b\b\b\b\b\b\b\b\b\b\b\b\b\b\b\b\b\b\b\b\b\b\b\b\b\b\b\b\b\b\b\b\b\b\b\b\b\b\b\b\b\b\b\b\b\b\b\b\b\b\b\b\b\b\b\b\b\b\b\b\b\b\b\b\b\b\b\b\b\b\b\b\b\b\b\b\b\b\b\b\b\b\b\b\b\b\b\r",
      "412416/412416 [==============================] - 11s 27us/sample - loss: 191.4204 - reconstruction_loss: 92.9546 - KL_loss: 21.2057 - val_loss: 108.1873 - val_reconstruction_loss: 87.6932 - val_KL_loss: 20.4941 - lr: 0.0027\n",
      "Epoch 237/1000\n"
     ]
    },
    {
     "name": "stdout",
     "output_type": "stream",
     "text": [
      "\r",
      "412416/412416 [==============================] - ETA: 0s - loss: 191.8189 - reconstruction_loss: 93.2245 - KL_loss: 20.9309"
     ]
    },
    {
     "name": "stdout",
     "output_type": "stream",
     "text": [
      "\b\b\b\b\b\b\b\b\b\b\b\b\b\b\b\b\b\b\b\b\b\b\b\b\b\b\b\b\b\b\b\b\b\b\b\b\b\b\b\b\b\b\b\b\b\b\b\b\b\b\b\b\b\b\b\b\b\b\b\b\b\b\b\b\b\b\b\b\b\b\b\b\b\b\b\b\b\b\b\b\b\b\b\b\b\b\b\b\b\b\b\b\b\b\b\b\b\b\b\b\b\b\b\b\b\b\b\b\b\b\b\b\b\b\b\b\b\b\b\b\b\b\b\r",
      "412416/412416 [==============================] - 11s 26us/sample - loss: 191.8189 - reconstruction_loss: 93.2245 - KL_loss: 20.9309 - val_loss: 108.0460 - val_reconstruction_loss: 87.6729 - val_KL_loss: 20.3731 - lr: 0.0027\n",
      "Epoch 238/1000\n"
     ]
    },
    {
     "name": "stdout",
     "output_type": "stream",
     "text": [
      "\r",
      "412416/412416 [==============================] - ETA: 0s - loss: 191.3167 - reconstruction_loss: 93.1801 - KL_loss: 20.8239"
     ]
    },
    {
     "name": "stdout",
     "output_type": "stream",
     "text": [
      "\b\b\b\b\b\b\b\b\b\b\b\b\b\b\b\b\b\b\b\b\b\b\b\b\b\b\b\b\b\b\b\b\b\b\b\b\b\b\b\b\b\b\b\b\b\b\b\b\b\b\b\b\b\b\b\b\b\b\b\b\b\b\b\b\b\b\b\b\b\b\b\b\b\b\b\b\b\b\b\b\b\b\b\b\b\b\b\b\b\b\b\b\b\b\b\b\b\b\b\b\b\b\b\b\b\b\b\b\b\b\b\b\b\b\b\b\b\b\b\b\b\b\b\r",
      "412416/412416 [==============================] - 11s 27us/sample - loss: 191.3167 - reconstruction_loss: 93.1801 - KL_loss: 20.8239 - val_loss: 108.1559 - val_reconstruction_loss: 87.4732 - val_KL_loss: 20.6826 - lr: 0.0027\n",
      "Epoch 239/1000\n"
     ]
    },
    {
     "name": "stdout",
     "output_type": "stream",
     "text": [
      "\r",
      "412416/412416 [==============================] - ETA: 0s - loss: 191.3583 - reconstruction_loss: 92.9695 - KL_loss: 21.1414"
     ]
    },
    {
     "name": "stdout",
     "output_type": "stream",
     "text": [
      "\b\b\b\b\b\b\b\b\b\b\b\b\b\b\b\b\b\b\b\b\b\b\b\b\b\b\b\b\b\b\b\b\b\b\b\b\b\b\b\b\b\b\b\b\b\b\b\b\b\b\b\b\b\b\b\b\b\b\b\b\b\b\b\b\b\b\b\b\b\b\b\b\b\b\b\b\b\b\b\b\b\b\b\b\b\b\b\b\b\b\b\b\b\b\b\b\b\b\b\b\b\b\b\b\b\b\b\b\b\b\b\b\b\b\b\b\b\b\b\b\b\b\b\r",
      "412416/412416 [==============================] - 11s 27us/sample - loss: 191.3583 - reconstruction_loss: 92.9695 - KL_loss: 21.1414 - val_loss: 108.0880 - val_reconstruction_loss: 87.1507 - val_KL_loss: 20.9373 - lr: 0.0027\n",
      "Epoch 240/1000\n"
     ]
    },
    {
     "name": "stdout",
     "output_type": "stream",
     "text": [
      "\r",
      "412416/412416 [==============================] - ETA: 0s - loss: 191.3318 - reconstruction_loss: 92.6228 - KL_loss: 21.3875"
     ]
    },
    {
     "name": "stdout",
     "output_type": "stream",
     "text": [
      "\b\b\b\b\b\b\b\b\b\b\b\b\b\b\b\b\b\b\b\b\b\b\b\b\b\b\b\b\b\b\b\b\b\b\b\b\b\b\b\b\b\b\b\b\b\b\b\b\b\b\b\b\b\b\b\b\b\b\b\b\b\b\b\b\b\b\b\b\b\b\b\b\b\b\b\b\b\b\b\b\b\b\b\b\b\b\b\b\b\b\b\b\b\b\b\b\b\b\b\b\b\b\b\b\b\b\b\b\b\b\b\b\b\b\b\b\b\b\b\b\b\b\b\r",
      "412416/412416 [==============================] - 12s 28us/sample - loss: 191.3318 - reconstruction_loss: 92.6228 - KL_loss: 21.3875 - val_loss: 107.6025 - val_reconstruction_loss: 86.8961 - val_KL_loss: 20.7064 - lr: 0.0027\n",
      "Epoch 241/1000\n"
     ]
    },
    {
     "name": "stdout",
     "output_type": "stream",
     "text": [
      "\r",
      "412416/412416 [==============================] - ETA: 0s - loss: 190.2410 - reconstruction_loss: 92.3733 - KL_loss: 21.1591"
     ]
    },
    {
     "name": "stdout",
     "output_type": "stream",
     "text": [
      "\b\b\b\b\b\b\b\b\b\b\b\b\b\b\b\b\b\b\b\b\b\b\b\b\b\b\b\b\b\b\b\b\b\b\b\b\b\b\b\b\b\b\b\b\b\b\b\b\b\b\b\b\b\b\b\b\b\b\b\b\b\b\b\b\b\b\b\b\b\b\b\b\b\b\b\b\b\b\b\b\b\b\b\b\b\b\b\b\b\b\b\b\b\b\b\b\b\b\b\b\b\b\b\b\b\b\b\b\b\b\b\b\b\b\b\b\b\b\b\b\b\b\b\r",
      "412416/412416 [==============================] - 11s 26us/sample - loss: 190.2410 - reconstruction_loss: 92.3733 - KL_loss: 21.1591 - val_loss: 107.9130 - val_reconstruction_loss: 87.1822 - val_KL_loss: 20.7308 - lr: 0.0027\n",
      "Epoch 242/1000\n"
     ]
    },
    {
     "name": "stdout",
     "output_type": "stream",
     "text": [
      "\r",
      "412416/412416 [==============================] - ETA: 0s - loss: 190.4336 - reconstruction_loss: 92.6409 - KL_loss: 21.1689"
     ]
    },
    {
     "name": "stdout",
     "output_type": "stream",
     "text": [
      "\b\b\b\b\b\b\b\b\b\b\b\b\b\b\b\b\b\b\b\b\b\b\b\b\b\b\b\b\b\b\b\b\b\b\b\b\b\b\b\b\b\b\b\b\b\b\b\b\b\b\b\b\b\b\b\b\b\b\b\b\b\b\b\b\b\b\b\b\b\b\b\b\b\b\b\b\b\b\b\b\b\b\b\b\b\b\b\b\b\b\b\b\b\b\b\b\b\b\b\b\b\b\b\b\b\b\b\b\b\b\b\b\b\b\b\b\b\b\b\b\b\b\b\r",
      "412416/412416 [==============================] - 11s 26us/sample - loss: 190.4336 - reconstruction_loss: 92.6409 - KL_loss: 21.1689 - val_loss: 107.5443 - val_reconstruction_loss: 87.0967 - val_KL_loss: 20.4476 - lr: 0.0027\n",
      "Epoch 243/1000\n"
     ]
    },
    {
     "name": "stdout",
     "output_type": "stream",
     "text": [
      "\r",
      "412416/412416 [==============================] - ETA: 0s - loss: 189.9631 - reconstruction_loss: 92.5715 - KL_loss: 20.8919"
     ]
    },
    {
     "name": "stdout",
     "output_type": "stream",
     "text": [
      "\b\b\b\b\b\b\b\b\b\b\b\b\b\b\b\b\b\b\b\b\b\b\b\b\b\b\b\b\b\b\b\b\b\b\b\b\b\b\b\b\b\b\b\b\b\b\b\b\b\b\b\b\b\b\b\b\b\b\b\b\b\b\b\b\b\b\b\b\b\b\b\b\b\b\b\b\b\b\b\b\b\b\b\b\b\b\b\b\b\b\b\b\b\b\b\b\b\b\b\b\b\b\b\b\b\b\b\b\b\b\b\b\b\b\b\b\b\b\b\b\b\b\b\r",
      "412416/412416 [==============================] - 11s 27us/sample - loss: 189.9631 - reconstruction_loss: 92.5715 - KL_loss: 20.8919 - val_loss: 107.6928 - val_reconstruction_loss: 87.4067 - val_KL_loss: 20.2861 - lr: 0.0024\n",
      "Epoch 244/1000\n"
     ]
    },
    {
     "name": "stdout",
     "output_type": "stream",
     "text": [
      "\r",
      "412416/412416 [==============================] - ETA: 0s - loss: 190.0401 - reconstruction_loss: 92.9160 - KL_loss: 20.7414"
     ]
    },
    {
     "name": "stdout",
     "output_type": "stream",
     "text": [
      "\b\b\b\b\b\b\b\b\b\b\b\b\b\b\b\b\b\b\b\b\b\b\b\b\b\b\b\b\b\b\b\b\b\b\b\b\b\b\b\b\b\b\b\b\b\b\b\b\b\b\b\b\b\b\b\b\b\b\b\b\b\b\b\b\b\b\b\b\b\b\b\b\b\b\b\b\b\b\b\b\b\b\b\b\b\b\b\b\b\b\b\b\b\b\b\b\b\b\b\b\b\b\b\b\b\b\b\b\b\b\b\b\b\b\b\b\b\b\b\b\b\b\b\r",
      "412416/412416 [==============================] - 11s 26us/sample - loss: 190.0401 - reconstruction_loss: 92.9160 - KL_loss: 20.7414 - val_loss: 107.4747 - val_reconstruction_loss: 86.7963 - val_KL_loss: 20.6785 - lr: 0.0024\n",
      "Epoch 245/1000\n"
     ]
    },
    {
     "name": "stdout",
     "output_type": "stream",
     "text": [
      "\r",
      "412416/412416 [==============================] - ETA: 0s - loss: 189.7873 - reconstruction_loss: 92.2654 - KL_loss: 21.1280"
     ]
    },
    {
     "name": "stdout",
     "output_type": "stream",
     "text": [
      "\b\b\b\b\b\b\b\b\b\b\b\b\b\b\b\b\b\b\b\b\b\b\b\b\b\b\b\b\b\b\b\b\b\b\b\b\b\b\b\b\b\b\b\b\b\b\b\b\b\b\b\b\b\b\b\b\b\b\b\b\b\b\b\b\b\b\b\b\b\b\b\b\b\b\b\b\b\b\b\b\b\b\b\b\b\b\b\b\b\b\b\b\b\b\b\b\b\b\b\b\b\b\b\b\b\b\b\b\b\b\b\b\b\b\b\b\b\b\b\b\b\b\b\r",
      "412416/412416 [==============================] - 11s 27us/sample - loss: 189.7873 - reconstruction_loss: 92.2654 - KL_loss: 21.1280 - val_loss: 107.5101 - val_reconstruction_loss: 86.6295 - val_KL_loss: 20.8807 - lr: 0.0024\n",
      "Epoch 246/1000\n"
     ]
    },
    {
     "name": "stdout",
     "output_type": "stream",
     "text": [
      "\r",
      "412416/412416 [==============================] - ETA: 0s - loss: 189.3203 - reconstruction_loss: 92.0641 - KL_loss: 21.3219"
     ]
    },
    {
     "name": "stdout",
     "output_type": "stream",
     "text": [
      "\b\b\b\b\b\b\b\b\b\b\b\b\b\b\b\b\b\b\b\b\b\b\b\b\b\b\b\b\b\b\b\b\b\b\b\b\b\b\b\b\b\b\b\b\b\b\b\b\b\b\b\b\b\b\b\b\b\b\b\b\b\b\b\b\b\b\b\b\b\b\b\b\b\b\b\b\b\b\b\b\b\b\b\b\b\b\b\b\b\b\b\b\b\b\b\b\b\b\b\b\b\b\b\b\b\b\b\b\b\b\b\b\b\b\b\b\b\b\b\b\b\b\b\r",
      "412416/412416 [==============================] - 11s 26us/sample - loss: 189.3203 - reconstruction_loss: 92.0641 - KL_loss: 21.3219 - val_loss: 107.3890 - val_reconstruction_loss: 86.6352 - val_KL_loss: 20.7539 - lr: 0.0024\n",
      "Epoch 247/1000\n"
     ]
    },
    {
     "name": "stdout",
     "output_type": "stream",
     "text": [
      "\r",
      "412416/412416 [==============================] - ETA: 0s - loss: 189.5268 - reconstruction_loss: 92.1291 - KL_loss: 21.1987"
     ]
    },
    {
     "name": "stdout",
     "output_type": "stream",
     "text": [
      "\b\b\b\b\b\b\b\b\b\b\b\b\b\b\b\b\b\b\b\b\b\b\b\b\b\b\b\b\b\b\b\b\b\b\b\b\b\b\b\b\b\b\b\b\b\b\b\b\b\b\b\b\b\b\b\b\b\b\b\b\b\b\b\b\b\b\b\b\b\b\b\b\b\b\b\b\b\b\b\b\b\b\b\b\b\b\b\b\b\b\b\b\b\b\b\b\b\b\b\b\b\b\b\b\b\b\b\b\b\b\b\b\b\b\b\b\b\b\b\b\b\b\b\r",
      "412416/412416 [==============================] - 11s 26us/sample - loss: 189.5268 - reconstruction_loss: 92.1291 - KL_loss: 21.1987 - val_loss: 107.2566 - val_reconstruction_loss: 86.6380 - val_KL_loss: 20.6185 - lr: 0.0024\n",
      "Epoch 248/1000\n"
     ]
    },
    {
     "name": "stdout",
     "output_type": "stream",
     "text": [
      "\r",
      "412416/412416 [==============================] - ETA: 0s - loss: 188.9336 - reconstruction_loss: 92.1290 - KL_loss: 21.0571"
     ]
    },
    {
     "name": "stdout",
     "output_type": "stream",
     "text": [
      "\b\b\b\b\b\b\b\b\b\b\b\b\b\b\b\b\b\b\b\b\b\b\b\b\b\b\b\b\b\b\b\b\b\b\b\b\b\b\b\b\b\b\b\b\b\b\b\b\b\b\b\b\b\b\b\b\b\b\b\b\b\b\b\b\b\b\b\b\b\b\b\b\b\b\b\b\b\b\b\b\b\b\b\b\b\b\b\b\b\b\b\b\b\b\b\b\b\b\b\b\b\b\b\b\b\b\b\b\b\b\b\b\b\b\b\b\b\b\b\b\b\b\b\r",
      "412416/412416 [==============================] - 11s 27us/sample - loss: 188.9336 - reconstruction_loss: 92.1290 - KL_loss: 21.0571 - val_loss: 107.7850 - val_reconstruction_loss: 87.1950 - val_KL_loss: 20.5900 - lr: 0.0024\n",
      "Epoch 249/1000\n"
     ]
    },
    {
     "name": "stdout",
     "output_type": "stream",
     "text": [
      "\r",
      "412416/412416 [==============================] - ETA: 0s - loss: 189.5515 - reconstruction_loss: 92.6413 - KL_loss: 21.0475"
     ]
    },
    {
     "name": "stdout",
     "output_type": "stream",
     "text": [
      "\b\b\b\b\b\b\b\b\b\b\b\b\b\b\b\b\b\b\b\b\b\b\b\b\b\b\b\b\b\b\b\b\b\b\b\b\b\b\b\b\b\b\b\b\b\b\b\b\b\b\b\b\b\b\b\b\b\b\b\b\b\b\b\b\b\b\b\b\b\b\b\b\b\b\b\b\b\b\b\b\b\b\b\b\b\b\b\b\b\b\b\b\b\b\b\b\b\b\b\b\b\b\b\b\b\b\b\b\b\b\b\b\b\b\b\b\b\b\b\b\b\b\b\r",
      "412416/412416 [==============================] - 11s 27us/sample - loss: 189.5515 - reconstruction_loss: 92.6413 - KL_loss: 21.0475 - val_loss: 107.3384 - val_reconstruction_loss: 86.7495 - val_KL_loss: 20.5890 - lr: 0.0024\n",
      "Epoch 250/1000\n"
     ]
    },
    {
     "name": "stdout",
     "output_type": "stream",
     "text": [
      "\r",
      "412416/412416 [==============================] - ETA: 0s - loss: 189.3219 - reconstruction_loss: 92.2388 - KL_loss: 21.0397"
     ]
    },
    {
     "name": "stdout",
     "output_type": "stream",
     "text": [
      "\b\b\b\b\b\b\b\b\b\b\b\b\b\b\b\b\b\b\b\b\b\b\b\b\b\b\b\b\b\b\b\b\b\b\b\b\b\b\b\b\b\b\b\b\b\b\b\b\b\b\b\b\b\b\b\b\b\b\b\b\b\b\b\b\b\b\b\b\b\b\b\b\b\b\b\b\b\b\b\b\b\b\b\b\b\b\b\b\b\b\b\b\b\b\b\b\b\b\b\b\b\b\b\b\b\b\b\b\b\b\b\b\b\b\b\b\b\b\b\b\b\b\b\r",
      "412416/412416 [==============================] - 11s 27us/sample - loss: 189.3219 - reconstruction_loss: 92.2388 - KL_loss: 21.0397 - val_loss: 107.4867 - val_reconstruction_loss: 86.9740 - val_KL_loss: 20.5128 - lr: 0.0024\n",
      "Epoch 251/1000\n"
     ]
    },
    {
     "name": "stdout",
     "output_type": "stream",
     "text": [
      "\r",
      "412416/412416 [==============================] - ETA: 0s - loss: 188.8754 - reconstruction_loss: 92.4093 - KL_loss: 20.9569"
     ]
    },
    {
     "name": "stdout",
     "output_type": "stream",
     "text": [
      "\b\b\b\b\b\b\b\b\b\b\b\b\b\b\b\b\b\b\b\b\b\b\b\b\b\b\b\b\b\b\b\b\b\b\b\b\b\b\b\b\b\b\b\b\b\b\b\b\b\b\b\b\b\b\b\b\b\b\b\b\b\b\b\b\b\b\b\b\b\b\b\b\b\b\b\b\b\b\b\b\b\b\b\b\b\b\b\b\b\b\b\b\b\b\b\b\b\b\b\b\b\b\b\b\b\b\b\b\b\b\b\b\b\b\b\b\b\b\b\b\b\b\b\r",
      "412416/412416 [==============================] - 11s 27us/sample - loss: 188.8754 - reconstruction_loss: 92.4093 - KL_loss: 20.9569 - val_loss: 107.3976 - val_reconstruction_loss: 86.6048 - val_KL_loss: 20.7928 - lr: 0.0024\n",
      "Epoch 252/1000\n"
     ]
    },
    {
     "name": "stdout",
     "output_type": "stream",
     "text": [
      "\r",
      "412416/412416 [==============================] - ETA: 0s - loss: 189.0883 - reconstruction_loss: 92.0470 - KL_loss: 21.2398"
     ]
    },
    {
     "name": "stdout",
     "output_type": "stream",
     "text": [
      "\b\b\b\b\b\b\b\b\b\b\b\b\b\b\b\b\b\b\b\b\b\b\b\b\b\b\b\b\b\b\b\b\b\b\b\b\b\b\b\b\b\b\b\b\b\b\b\b\b\b\b\b\b\b\b\b\b\b\b\b\b\b\b\b\b\b\b\b\b\b\b\b\b\b\b\b\b\b\b\b\b\b\b\b\b\b\b\b\b\b\b\b\b\b\b\b\b\b\b\b\b\b\b\b\b\b\b\b\b\b\b\b\b\b\b\b\b\b\b\b\b\b\b\r",
      "412416/412416 [==============================] - 11s 27us/sample - loss: 189.0883 - reconstruction_loss: 92.0470 - KL_loss: 21.2398 - val_loss: 107.6177 - val_reconstruction_loss: 86.7244 - val_KL_loss: 20.8932 - lr: 0.0024\n",
      "Epoch 253/1000\n"
     ]
    },
    {
     "name": "stdout",
     "output_type": "stream",
     "text": [
      "\r",
      "412416/412416 [==============================] - ETA: 0s - loss: 188.8082 - reconstruction_loss: 92.1793 - KL_loss: 21.3342"
     ]
    },
    {
     "name": "stdout",
     "output_type": "stream",
     "text": [
      "\b\b\b\b\b\b\b\b\b\b\b\b\b\b\b\b\b\b\b\b\b\b\b\b\b\b\b\b\b\b\b\b\b\b\b\b\b\b\b\b\b\b\b\b\b\b\b\b\b\b\b\b\b\b\b\b\b\b\b\b\b\b\b\b\b\b\b\b\b\b\b\b\b\b\b\b\b\b\b\b\b\b\b\b\b\b\b\b\b\b\b\b\b\b\b\b\b\b\b\b\b\b\b\b\b\b\b\b\b\b\b\b\b\b\b\b\b\b\b\b\b\b\b\r",
      "412416/412416 [==============================] - 11s 27us/sample - loss: 188.8082 - reconstruction_loss: 92.1793 - KL_loss: 21.3342 - val_loss: 107.5347 - val_reconstruction_loss: 86.9469 - val_KL_loss: 20.5877 - lr: 0.0024\n",
      "Epoch 254/1000\n"
     ]
    },
    {
     "name": "stdout",
     "output_type": "stream",
     "text": [
      "\r",
      "412416/412416 [==============================] - ETA: 0s - loss: 188.6532 - reconstruction_loss: 92.3702 - KL_loss: 21.0391"
     ]
    },
    {
     "name": "stdout",
     "output_type": "stream",
     "text": [
      "\b\b\b\b\b\b\b\b\b\b\b\b\b\b\b\b\b\b\b\b\b\b\b\b\b\b\b\b\b\b\b\b\b\b\b\b\b\b\b\b\b\b\b\b\b\b\b\b\b\b\b\b\b\b\b\b\b\b\b\b\b\b\b\b\b\b\b\b\b\b\b\b\b\b\b\b\b\b\b\b\b\b\b\b\b\b\b\b\b\b\b\b\b\b\b\b\b\b\b\b\b\b\b\b\b\b\b\b\b\b\b\b\b\b\b\b\b\b\b\b\b\b\b\r",
      "412416/412416 [==============================] - 11s 27us/sample - loss: 188.6532 - reconstruction_loss: 92.3702 - KL_loss: 21.0391 - val_loss: 107.2986 - val_reconstruction_loss: 86.7453 - val_KL_loss: 20.5533 - lr: 0.0024\n",
      "Epoch 255/1000\n"
     ]
    },
    {
     "name": "stdout",
     "output_type": "stream",
     "text": [
      "\r",
      "412416/412416 [==============================] - ETA: 0s - loss: 188.2742 - reconstruction_loss: 92.2088 - KL_loss: 21.0025"
     ]
    },
    {
     "name": "stdout",
     "output_type": "stream",
     "text": [
      "\b\b\b\b\b\b\b\b\b\b\b\b\b\b\b\b\b\b\b\b\b\b\b\b\b\b\b\b\b\b\b\b\b\b\b\b\b\b\b\b\b\b\b\b\b\b\b\b\b\b\b\b\b\b\b\b\b\b\b\b\b\b\b\b\b\b\b\b\b\b\b\b\b\b\b\b\b\b\b\b\b\b\b\b\b\b\b\b\b\b\b\b\b\b\b\b\b\b\b\b\b\b\b\b\b\b\b\b\b\b\b\b\b\b\b\b\b\b\b\b\b\b\b\r",
      "412416/412416 [==============================] - 11s 27us/sample - loss: 188.2742 - reconstruction_loss: 92.2088 - KL_loss: 21.0025 - val_loss: 107.5412 - val_reconstruction_loss: 86.8548 - val_KL_loss: 20.6864 - lr: 0.0024\n",
      "Epoch 256/1000\n"
     ]
    },
    {
     "name": "stdout",
     "output_type": "stream",
     "text": [
      "\r",
      "412416/412416 [==============================] - ETA: 0s - loss: 188.4715 - reconstruction_loss: 92.2771 - KL_loss: 21.1366"
     ]
    },
    {
     "name": "stdout",
     "output_type": "stream",
     "text": [
      "\b\b\b\b\b\b\b\b\b\b\b\b\b\b\b\b\b\b\b\b\b\b\b\b\b\b\b\b\b\b\b\b\b\b\b\b\b\b\b\b\b\b\b\b\b\b\b\b\b\b\b\b\b\b\b\b\b\b\b\b\b\b\b\b\b\b\b\b\b\b\b\b\b\b\b\b\b\b\b\b\b\b\b\b\b\b\b\b\b\b\b\b\b\b\b\b\b\b\b\b\b\b\b\b\b\b\b\b\b\b\b\b\b\b\b\b\b\b\b\b\b\b\b\r",
      "412416/412416 [==============================] - 11s 26us/sample - loss: 188.4715 - reconstruction_loss: 92.2771 - KL_loss: 21.1366 - val_loss: 107.1877 - val_reconstruction_loss: 86.4706 - val_KL_loss: 20.7171 - lr: 0.0024\n",
      "Epoch 257/1000\n"
     ]
    },
    {
     "name": "stdout",
     "output_type": "stream",
     "text": [
      "\r",
      "412416/412416 [==============================] - ETA: 0s - loss: 187.9969 - reconstruction_loss: 91.9486 - KL_loss: 21.1620"
     ]
    },
    {
     "name": "stdout",
     "output_type": "stream",
     "text": [
      "\b\b\b\b\b\b\b\b\b\b\b\b\b\b\b\b\b\b\b\b\b\b\b\b\b\b\b\b\b\b\b\b\b\b\b\b\b\b\b\b\b\b\b\b\b\b\b\b\b\b\b\b\b\b\b\b\b\b\b\b\b\b\b\b\b\b\b\b\b\b\b\b\b\b\b\b\b\b\b\b\b\b\b\b\b\b\b\b\b\b\b\b\b\b\b\b\b\b\b\b\b\b\b\b\b\b\b\b\b\b\b\b\b\b\b\b\b\b\b\b\b\b\b\r",
      "412416/412416 [==============================] - 11s 27us/sample - loss: 187.9969 - reconstruction_loss: 91.9486 - KL_loss: 21.1620 - val_loss: 107.4338 - val_reconstruction_loss: 86.9147 - val_KL_loss: 20.5191 - lr: 0.0024\n",
      "Epoch 258/1000\n"
     ]
    },
    {
     "name": "stdout",
     "output_type": "stream",
     "text": [
      "\r",
      "412416/412416 [==============================] - ETA: 0s - loss: 188.1284 - reconstruction_loss: 92.3334 - KL_loss: 20.9642"
     ]
    },
    {
     "name": "stdout",
     "output_type": "stream",
     "text": [
      "\b\b\b\b\b\b\b\b\b\b\b\b\b\b\b\b\b\b\b\b\b\b\b\b\b\b\b\b\b\b\b\b\b\b\b\b\b\b\b\b\b\b\b\b\b\b\b\b\b\b\b\b\b\b\b\b\b\b\b\b\b\b\b\b\b\b\b\b\b\b\b\b\b\b\b\b\b\b\b\b\b\b\b\b\b\b\b\b\b\b\b\b\b\b\b\b\b\b\b\b\b\b\b\b\b\b\b\b\b\b\b\b\b\b\b\b\b\b\b\b\b\b\b\r",
      "412416/412416 [==============================] - 12s 28us/sample - loss: 188.1284 - reconstruction_loss: 92.3334 - KL_loss: 20.9642 - val_loss: 107.2549 - val_reconstruction_loss: 86.5240 - val_KL_loss: 20.7309 - lr: 0.0024\n",
      "Epoch 259/1000\n"
     ]
    },
    {
     "name": "stdout",
     "output_type": "stream",
     "text": [
      "\r",
      "412416/412416 [==============================] - ETA: 0s - loss: 187.9255 - reconstruction_loss: 91.9656 - KL_loss: 21.1777"
     ]
    },
    {
     "name": "stdout",
     "output_type": "stream",
     "text": [
      "\b\b\b\b\b\b\b\b\b\b\b\b\b\b\b\b\b\b\b\b\b\b\b\b\b\b\b\b\b\b\b\b\b\b\b\b\b\b\b\b\b\b\b\b\b\b\b\b\b\b\b\b\b\b\b\b\b\b\b\b\b\b\b\b\b\b\b\b\b\b\b\b\b\b\b\b\b\b\b\b\b\b\b\b\b\b\b\b\b\b\b\b\b\b\b\b\b\b\b\b\b\b\b\b\b\b\b\b\b\b\b\b\b\b\b\b\b\b\b\b\b\b\b\r",
      "412416/412416 [==============================] - 12s 28us/sample - loss: 187.9255 - reconstruction_loss: 91.9656 - KL_loss: 21.1777 - val_loss: 107.2040 - val_reconstruction_loss: 86.5073 - val_KL_loss: 20.6968 - lr: 0.0024\n",
      "Epoch 260/1000\n"
     ]
    },
    {
     "name": "stdout",
     "output_type": "stream",
     "text": [
      "\r",
      "412416/412416 [==============================] - ETA: 0s - loss: 187.7902 - reconstruction_loss: 91.9645 - KL_loss: 21.1398"
     ]
    },
    {
     "name": "stdout",
     "output_type": "stream",
     "text": [
      "\b\b\b\b\b\b\b\b\b\b\b\b\b\b\b\b\b\b\b\b\b\b\b\b\b\b\b\b\b\b\b\b\b\b\b\b\b\b\b\b\b\b\b\b\b\b\b\b\b\b\b\b\b\b\b\b\b\b\b\b\b\b\b\b\b\b\b\b\b\b\b\b\b\b\b\b\b\b\b\b\b\b\b\b\b\b\b\b\b\b\b\b\b\b\b\b\b\b\b\b\b\b\b\b\b\b\b\b\b\b\b\b\b\b\b\b\b\b\b\b\b\b\b\r",
      "412416/412416 [==============================] - 11s 26us/sample - loss: 187.7902 - reconstruction_loss: 91.9645 - KL_loss: 21.1398 - val_loss: 107.2107 - val_reconstruction_loss: 86.6191 - val_KL_loss: 20.5917 - lr: 0.0024\n",
      "Epoch 261/1000\n"
     ]
    },
    {
     "name": "stdout",
     "output_type": "stream",
     "text": [
      "\r",
      "412416/412416 [==============================] - ETA: 0s - loss: 187.5068 - reconstruction_loss: 92.0114 - KL_loss: 21.0456"
     ]
    },
    {
     "name": "stdout",
     "output_type": "stream",
     "text": [
      "\b\b\b\b\b\b\b\b\b\b\b\b\b\b\b\b\b\b\b\b\b\b\b\b\b\b\b\b\b\b\b\b\b\b\b\b\b\b\b\b\b\b\b\b\b\b\b\b\b\b\b\b\b\b\b\b\b\b\b\b\b\b\b\b\b\b\b\b\b\b\b\b\b\b\b\b\b\b\b\b\b\b\b\b\b\b\b\b\b\b\b\b\b\b\b\b\b\b\b\b\b\b\b\b\b\b\b\b\b\b\b\b\b\b\b\b\b\b\b\b\b\b\b\r",
      "412416/412416 [==============================] - 11s 26us/sample - loss: 187.5068 - reconstruction_loss: 92.0114 - KL_loss: 21.0456 - val_loss: 107.3210 - val_reconstruction_loss: 86.3961 - val_KL_loss: 20.9249 - lr: 0.0024\n",
      "Epoch 262/1000\n"
     ]
    },
    {
     "name": "stdout",
     "output_type": "stream",
     "text": [
      "\r",
      "412416/412416 [==============================] - ETA: 0s - loss: 187.7449 - reconstruction_loss: 91.8275 - KL_loss: 21.3634"
     ]
    },
    {
     "name": "stdout",
     "output_type": "stream",
     "text": [
      "\b\b\b\b\b\b\b\b\b\b\b\b\b\b\b\b\b\b\b\b\b\b\b\b\b\b\b\b\b\b\b\b\b\b\b\b\b\b\b\b\b\b\b\b\b\b\b\b\b\b\b\b\b\b\b\b\b\b\b\b\b\b\b\b\b\b\b\b\b\b\b\b\b\b\b\b\b\b\b\b\b\b\b\b\b\b\b\b\b\b\b\b\b\b\b\b\b\b\b\b\b\b\b\b\b\b\b\b\b\b\b\b\b\b\b\b\b\b\b\b\b\b\b\r",
      "412416/412416 [==============================] - 11s 26us/sample - loss: 187.7449 - reconstruction_loss: 91.8275 - KL_loss: 21.3634 - val_loss: 107.1754 - val_reconstruction_loss: 86.3722 - val_KL_loss: 20.8032 - lr: 0.0024\n",
      "Epoch 263/1000\n"
     ]
    },
    {
     "name": "stdout",
     "output_type": "stream",
     "text": [
      "\r",
      "412416/412416 [==============================] - ETA: 0s - loss: 187.0811 - reconstruction_loss: 91.7611 - KL_loss: 21.2522"
     ]
    },
    {
     "name": "stdout",
     "output_type": "stream",
     "text": [
      "\b\b\b\b\b\b\b\b\b\b\b\b\b\b\b\b\b\b\b\b\b\b\b\b\b\b\b\b\b\b\b\b\b\b\b\b\b\b\b\b\b\b\b\b\b\b\b\b\b\b\b\b\b\b\b\b\b\b\b\b\b\b\b\b\b\b\b\b\b\b\b\b\b\b\b\b\b\b\b\b\b\b\b\b\b\b\b\b\b\b\b\b\b\b\b\b\b\b\b\b\b\b\b\b\b\b\b\b\b\b\b\b\b\b\b\b\b\b\b\b\b\b\b\r",
      "412416/412416 [==============================] - 11s 27us/sample - loss: 187.0811 - reconstruction_loss: 91.7611 - KL_loss: 21.2522 - val_loss: 107.4021 - val_reconstruction_loss: 86.7881 - val_KL_loss: 20.6140 - lr: 0.0024\n",
      "Epoch 264/1000\n"
     ]
    },
    {
     "name": "stdout",
     "output_type": "stream",
     "text": [
      "\r",
      "412416/412416 [==============================] - ETA: 0s - loss: 187.6750 - reconstruction_loss: 92.2248 - KL_loss: 21.0631"
     ]
    },
    {
     "name": "stdout",
     "output_type": "stream",
     "text": [
      "\b\b\b\b\b\b\b\b\b\b\b\b\b\b\b\b\b\b\b\b\b\b\b\b\b\b\b\b\b\b\b\b\b\b\b\b\b\b\b\b\b\b\b\b\b\b\b\b\b\b\b\b\b\b\b\b\b\b\b\b\b\b\b\b\b\b\b\b\b\b\b\b\b\b\b\b\b\b\b\b\b\b\b\b\b\b\b\b\b\b\b\b\b\b\b\b\b\b\b\b\b\b\b\b\b\b\b\b\b\b\b\b\b\b\b\b\b\b\b\b\b\b\b\r",
      "412416/412416 [==============================] - 11s 27us/sample - loss: 187.6750 - reconstruction_loss: 92.2248 - KL_loss: 21.0631 - val_loss: 106.9980 - val_reconstruction_loss: 86.4079 - val_KL_loss: 20.5901 - lr: 0.0024\n",
      "Epoch 265/1000\n"
     ]
    },
    {
     "name": "stdout",
     "output_type": "stream",
     "text": [
      "\r",
      "412416/412416 [==============================] - ETA: 0s - loss: 187.0261 - reconstruction_loss: 91.8322 - KL_loss: 21.0398"
     ]
    },
    {
     "name": "stdout",
     "output_type": "stream",
     "text": [
      "\b\b\b\b\b\b\b\b\b\b\b\b\b\b\b\b\b\b\b\b\b\b\b\b\b\b\b\b\b\b\b\b\b\b\b\b\b\b\b\b\b\b\b\b\b\b\b\b\b\b\b\b\b\b\b\b\b\b\b\b\b\b\b\b\b\b\b\b\b\b\b\b\b\b\b\b\b\b\b\b\b\b\b\b\b\b\b\b\b\b\b\b\b\b\b\b\b\b\b\b\b\b\b\b\b\b\b\b\b\b\b\b\b\b\b\b\b\b\b\b\b\b\b\r",
      "412416/412416 [==============================] - 11s 26us/sample - loss: 187.0261 - reconstruction_loss: 91.8322 - KL_loss: 21.0398 - val_loss: 107.4425 - val_reconstruction_loss: 86.5609 - val_KL_loss: 20.8817 - lr: 0.0024\n",
      "Epoch 266/1000\n"
     ]
    },
    {
     "name": "stdout",
     "output_type": "stream",
     "text": [
      "\r",
      "412416/412416 [==============================] - ETA: 0s - loss: 187.6247 - reconstruction_loss: 91.9588 - KL_loss: 21.3209"
     ]
    },
    {
     "name": "stdout",
     "output_type": "stream",
     "text": [
      "\b\b\b\b\b\b\b\b\b\b\b\b\b\b\b\b\b\b\b\b\b\b\b\b\b\b\b\b\b\b\b\b\b\b\b\b\b\b\b\b\b\b\b\b\b\b\b\b\b\b\b\b\b\b\b\b\b\b\b\b\b\b\b\b\b\b\b\b\b\b\b\b\b\b\b\b\b\b\b\b\b\b\b\b\b\b\b\b\b\b\b\b\b\b\b\b\b\b\b\b\b\b\b\b\b\b\b\b\b\b\b\b\b\b\b\b\b\b\b\b\b\b\b\r",
      "412416/412416 [==============================] - 11s 26us/sample - loss: 187.6247 - reconstruction_loss: 91.9588 - KL_loss: 21.3209 - val_loss: 107.0607 - val_reconstruction_loss: 86.2493 - val_KL_loss: 20.8114 - lr: 0.0024\n",
      "Epoch 267/1000\n"
     ]
    },
    {
     "name": "stdout",
     "output_type": "stream",
     "text": [
      "\r",
      "412416/412416 [==============================] - ETA: 0s - loss: 186.8741 - reconstruction_loss: 91.6627 - KL_loss: 21.2567"
     ]
    },
    {
     "name": "stdout",
     "output_type": "stream",
     "text": [
      "\b\b\b\b\b\b\b\b\b\b\b\b\b\b\b\b\b\b\b\b\b\b\b\b\b\b\b\b\b\b\b\b\b\b\b\b\b\b\b\b\b\b\b\b\b\b\b\b\b\b\b\b\b\b\b\b\b\b\b\b\b\b\b\b\b\b\b\b\b\b\b\b\b\b\b\b\b\b\b\b\b\b\b\b\b\b\b\b\b\b\b\b\b\b\b\b\b\b\b\b\b\b\b\b\b\b\b\b\b\b\b\b\b\b\b\b\b\b\b\b\b\b\b\r",
      "412416/412416 [==============================] - 11s 27us/sample - loss: 186.8741 - reconstruction_loss: 91.6627 - KL_loss: 21.2567 - val_loss: 107.5820 - val_reconstruction_loss: 86.8776 - val_KL_loss: 20.7044 - lr: 0.0024\n",
      "Epoch 268/1000\n"
     ]
    },
    {
     "name": "stdout",
     "output_type": "stream",
     "text": [
      "\r",
      "412416/412416 [==============================] - ETA: 0s - loss: 187.7932 - reconstruction_loss: 92.2891 - KL_loss: 21.1538"
     ]
    },
    {
     "name": "stdout",
     "output_type": "stream",
     "text": [
      "\b\b\b\b\b\b\b\b\b\b\b\b\b\b\b\b\b\b\b\b\b\b\b\b\b\b\b\b\b\b\b\b\b\b\b\b\b\b\b\b\b\b\b\b\b\b\b\b\b\b\b\b\b\b\b\b\b\b\b\b\b\b\b\b\b\b\b\b\b\b\b\b\b\b\b\b\b\b\b\b\b\b\b\b\b\b\b\b\b\b\b\b\b\b\b\b\b\b\b\b\b\b\b\b\b\b\b\b\b\b\b\b\b\b\b\b\b\b\b\b\b\b\b\r",
      "412416/412416 [==============================] - 11s 27us/sample - loss: 187.7932 - reconstruction_loss: 92.2891 - KL_loss: 21.1538 - val_loss: 107.3270 - val_reconstruction_loss: 86.6013 - val_KL_loss: 20.7257 - lr: 0.0024\n",
      "Epoch 269/1000\n"
     ]
    },
    {
     "name": "stdout",
     "output_type": "stream",
     "text": [
      "\r",
      "412416/412416 [==============================] - ETA: 0s - loss: 187.3013 - reconstruction_loss: 92.0012 - KL_loss: 21.1786"
     ]
    },
    {
     "name": "stdout",
     "output_type": "stream",
     "text": [
      "\b\b\b\b\b\b\b\b\b\b\b\b\b\b\b\b\b\b\b\b\b\b\b\b\b\b\b\b\b\b\b\b\b\b\b\b\b\b\b\b\b\b\b\b\b\b\b\b\b\b\b\b\b\b\b\b\b\b\b\b\b\b\b\b\b\b\b\b\b\b\b\b\b\b\b\b\b\b\b\b\b\b\b\b\b\b\b\b\b\b\b\b\b\b\b\b\b\b\b\b\b\b\b\b\b\b\b\b\b\b\b\b\b\b\b\b\b\b\b\b\b\b\b\r",
      "412416/412416 [==============================] - 11s 26us/sample - loss: 187.3013 - reconstruction_loss: 92.0012 - KL_loss: 21.1786 - val_loss: 107.3064 - val_reconstruction_loss: 86.4537 - val_KL_loss: 20.8528 - lr: 0.0024\n",
      "Epoch 270/1000\n"
     ]
    },
    {
     "name": "stdout",
     "output_type": "stream",
     "text": [
      "\r",
      "412416/412416 [==============================] - ETA: 0s - loss: 186.9207 - reconstruction_loss: 91.8644 - KL_loss: 21.2941"
     ]
    },
    {
     "name": "stdout",
     "output_type": "stream",
     "text": [
      "\b\b\b\b\b\b\b\b\b\b\b\b\b\b\b\b\b\b\b\b\b\b\b\b\b\b\b\b\b\b\b\b\b\b\b\b\b\b\b\b\b\b\b\b\b\b\b\b\b\b\b\b\b\b\b\b\b\b\b\b\b\b\b\b\b\b\b\b\b\b\b\b\b\b\b\b\b\b\b\b\b\b\b\b\b\b\b\b\b\b\b\b\b\b\b\b\b\b\b\b\b\b\b\b\b\b\b\b\b\b\b\b\b\b\b\b\b\b\b\b\b\b\b\r",
      "412416/412416 [==============================] - 11s 27us/sample - loss: 186.9207 - reconstruction_loss: 91.8644 - KL_loss: 21.2941 - val_loss: 107.0771 - val_reconstruction_loss: 86.1494 - val_KL_loss: 20.9277 - lr: 0.0024\n",
      "Epoch 271/1000\n"
     ]
    },
    {
     "name": "stdout",
     "output_type": "stream",
     "text": [
      "\r",
      "412416/412416 [==============================] - ETA: 0s - loss: 186.6967 - reconstruction_loss: 91.5594 - KL_loss: 21.3677"
     ]
    },
    {
     "name": "stdout",
     "output_type": "stream",
     "text": [
      "\b\b\b\b\b\b\b\b\b\b\b\b\b\b\b\b\b\b\b\b\b\b\b\b\b\b\b\b\b\b\b\b\b\b\b\b\b\b\b\b\b\b\b\b\b\b\b\b\b\b\b\b\b\b\b\b\b\b\b\b\b\b\b\b\b\b\b\b\b\b\b\b\b\b\b\b\b\b\b\b\b\b\b\b\b\b\b\b\b\b\b\b\b\b\b\b\b\b\b\b\b\b\b\b\b\b\b\b\b\b\b\b\b\b\b\b\b\b\b\b\b\b\b\r",
      "412416/412416 [==============================] - 11s 26us/sample - loss: 186.6967 - reconstruction_loss: 91.5594 - KL_loss: 21.3677 - val_loss: 107.2677 - val_reconstruction_loss: 86.5017 - val_KL_loss: 20.7660 - lr: 0.0024\n",
      "Epoch 272/1000\n"
     ]
    },
    {
     "name": "stdout",
     "output_type": "stream",
     "text": [
      "\r",
      "412416/412416 [==============================] - ETA: 0s - loss: 186.8575 - reconstruction_loss: 91.9097 - KL_loss: 21.2079"
     ]
    },
    {
     "name": "stdout",
     "output_type": "stream",
     "text": [
      "\b\b\b\b\b\b\b\b\b\b\b\b\b\b\b\b\b\b\b\b\b\b\b\b\b\b\b\b\b\b\b\b\b\b\b\b\b\b\b\b\b\b\b\b\b\b\b\b\b\b\b\b\b\b\b\b\b\b\b\b\b\b\b\b\b\b\b\b\b\b\b\b\b\b\b\b\b\b\b\b\b\b\b\b\b\b\b\b\b\b\b\b\b\b\b\b\b\b\b\b\b\b\b\b\b\b\b\b\b\b\b\b\b\b\b\b\b\b\b\b\b\b\b\r",
      "412416/412416 [==============================] - 12s 29us/sample - loss: 186.8575 - reconstruction_loss: 91.9097 - KL_loss: 21.2079 - val_loss: 107.1300 - val_reconstruction_loss: 86.5577 - val_KL_loss: 20.5723 - lr: 0.0024\n",
      "Epoch 273/1000\n"
     ]
    },
    {
     "name": "stdout",
     "output_type": "stream",
     "text": [
      "\r",
      "412416/412416 [==============================] - ETA: 0s - loss: 186.4633 - reconstruction_loss: 91.9264 - KL_loss: 21.0225"
     ]
    },
    {
     "name": "stdout",
     "output_type": "stream",
     "text": [
      "\b\b\b\b\b\b\b\b\b\b\b\b\b\b\b\b\b\b\b\b\b\b\b\b\b\b\b\b\b\b\b\b\b\b\b\b\b\b\b\b\b\b\b\b\b\b\b\b\b\b\b\b\b\b\b\b\b\b\b\b\b\b\b\b\b\b\b\b\b\b\b\b\b\b\b\b\b\b\b\b\b\b\b\b\b\b\b\b\b\b\b\b\b\b\b\b\b\b\b\b\b\b\b\b\b\b\b\b\b\b\b\b\b\b\b\b\b\b\b\b\b\b\b\r",
      "412416/412416 [==============================] - 12s 29us/sample - loss: 186.4633 - reconstruction_loss: 91.9264 - KL_loss: 21.0225 - val_loss: 107.3163 - val_reconstruction_loss: 86.6963 - val_KL_loss: 20.6200 - lr: 0.0024\n",
      "Epoch 274/1000\n"
     ]
    },
    {
     "name": "stdout",
     "output_type": "stream",
     "text": [
      "\r",
      "412416/412416 [==============================] - ETA: 0s - loss: 186.5804 - reconstruction_loss: 92.0865 - KL_loss: 21.0618"
     ]
    },
    {
     "name": "stdout",
     "output_type": "stream",
     "text": [
      "\b\b\b\b\b\b\b\b\b\b\b\b\b\b\b\b\b\b\b\b\b\b\b\b\b\b\b\b\b\b\b\b\b\b\b\b\b\b\b\b\b\b\b\b\b\b\b\b\b\b\b\b\b\b\b\b\b\b\b\b\b\b\b\b\b\b\b\b\b\b\b\b\b\b\b\b\b\b\b\b\b\b\b\b\b\b\b\b\b\b\b\b\b\b\b\b\b\b\b\b\b\b\b\b\b\b\b\b\b\b\b\b\b\b\b\b\b\b\b\b\b\b\b\r",
      "412416/412416 [==============================] - 11s 26us/sample - loss: 186.5804 - reconstruction_loss: 92.0865 - KL_loss: 21.0618 - val_loss: 107.1844 - val_reconstruction_loss: 86.2623 - val_KL_loss: 20.9221 - lr: 0.0024\n",
      "Epoch 275/1000\n"
     ]
    },
    {
     "name": "stdout",
     "output_type": "stream",
     "text": [
      "\r",
      "412416/412416 [==============================] - ETA: 0s - loss: 186.1874 - reconstruction_loss: 91.6553 - KL_loss: 21.3566"
     ]
    },
    {
     "name": "stdout",
     "output_type": "stream",
     "text": [
      "\b\b\b\b\b\b\b\b\b\b\b\b\b\b\b\b\b\b\b\b\b\b\b\b\b\b\b\b\b\b\b\b\b\b\b\b\b\b\b\b\b\b\b\b\b\b\b\b\b\b\b\b\b\b\b\b\b\b\b\b\b\b\b\b\b\b\b\b\b\b\b\b\b\b\b\b\b\b\b\b\b\b\b\b\b\b\b\b\b\b\b\b\b\b\b\b\b\b\b\b\b\b\b\b\b\b\b\b\b\b\b\b\b\b\b\b\b\b\b\b\b\b\b\r",
      "412416/412416 [==============================] - 11s 27us/sample - loss: 186.1874 - reconstruction_loss: 91.6553 - KL_loss: 21.3566 - val_loss: 107.0680 - val_reconstruction_loss: 86.1636 - val_KL_loss: 20.9044 - lr: 0.0022\n",
      "Epoch 276/1000\n"
     ]
    },
    {
     "name": "stdout",
     "output_type": "stream",
     "text": [
      "\r",
      "412416/412416 [==============================] - ETA: 0s - loss: 185.8152 - reconstruction_loss: 91.5430 - KL_loss: 21.3447"
     ]
    },
    {
     "name": "stdout",
     "output_type": "stream",
     "text": [
      "\b\b\b\b\b\b\b\b\b\b\b\b\b\b\b\b\b\b\b\b\b\b\b\b\b\b\b\b\b\b\b\b\b\b\b\b\b\b\b\b\b\b\b\b\b\b\b\b\b\b\b\b\b\b\b\b\b\b\b\b\b\b\b\b\b\b\b\b\b\b\b\b\b\b\b\b\b\b\b\b\b\b\b\b\b\b\b\b\b\b\b\b\b\b\b\b\b\b\b\b\b\b\b\b\b\b\b\b\b\b\b\b\b\b\b\b\b\b\b\b\b\b\b\r",
      "412416/412416 [==============================] - 11s 26us/sample - loss: 185.8152 - reconstruction_loss: 91.5430 - KL_loss: 21.3447 - val_loss: 107.1124 - val_reconstruction_loss: 86.2735 - val_KL_loss: 20.8389 - lr: 0.0022\n",
      "Epoch 277/1000\n"
     ]
    },
    {
     "name": "stdout",
     "output_type": "stream",
     "text": [
      "\r",
      "412416/412416 [==============================] - ETA: 0s - loss: 185.9810 - reconstruction_loss: 91.6819 - KL_loss: 21.2737"
     ]
    },
    {
     "name": "stdout",
     "output_type": "stream",
     "text": [
      "\b\b\b\b\b\b\b\b\b\b\b\b\b\b\b\b\b\b\b\b\b\b\b\b\b\b\b\b\b\b\b\b\b\b\b\b\b\b\b\b\b\b\b\b\b\b\b\b\b\b\b\b\b\b\b\b\b\b\b\b\b\b\b\b\b\b\b\b\b\b\b\b\b\b\b\b\b\b\b\b\b\b\b\b\b\b\b\b\b\b\b\b\b\b\b\b\b\b\b\b\b\b\b\b\b\b\b\b\b\b\b\b\b\b\b\b\b\b\b\b\b\b\b\r",
      "412416/412416 [==============================] - 11s 27us/sample - loss: 185.9810 - reconstruction_loss: 91.6819 - KL_loss: 21.2737 - val_loss: 106.9459 - val_reconstruction_loss: 86.3513 - val_KL_loss: 20.5945 - lr: 0.0022\n",
      "Epoch 278/1000\n"
     ]
    },
    {
     "name": "stdout",
     "output_type": "stream",
     "text": [
      "\r",
      "412416/412416 [==============================] - ETA: 0s - loss: 185.5408 - reconstruction_loss: 91.7409 - KL_loss: 21.0365"
     ]
    },
    {
     "name": "stdout",
     "output_type": "stream",
     "text": [
      "\b\b\b\b\b\b\b\b\b\b\b\b\b\b\b\b\b\b\b\b\b\b\b\b\b\b\b\b\b\b\b\b\b\b\b\b\b\b\b\b\b\b\b\b\b\b\b\b\b\b\b\b\b\b\b\b\b\b\b\b\b\b\b\b\b\b\b\b\b\b\b\b\b\b\b\b\b\b\b\b\b\b\b\b\b\b\b\b\b\b\b\b\b\b\b\b\b\b\b\b\b\b\b\b\b\b\b\b\b\b\b\b\b\b\b\b\b\b\b\b\b\b\b\r",
      "412416/412416 [==============================] - 11s 27us/sample - loss: 185.5408 - reconstruction_loss: 91.7409 - KL_loss: 21.0365 - val_loss: 107.0752 - val_reconstruction_loss: 86.3891 - val_KL_loss: 20.6862 - lr: 0.0022\n",
      "Epoch 279/1000\n"
     ]
    },
    {
     "name": "stdout",
     "output_type": "stream",
     "text": [
      "\r",
      "412416/412416 [==============================] - ETA: 0s - loss: 185.7262 - reconstruction_loss: 91.7664 - KL_loss: 21.1212"
     ]
    },
    {
     "name": "stdout",
     "output_type": "stream",
     "text": [
      "\b\b\b\b\b\b\b\b\b\b\b\b\b\b\b\b\b\b\b\b\b\b\b\b\b\b\b\b\b\b\b\b\b\b\b\b\b\b\b\b\b\b\b\b\b\b\b\b\b\b\b\b\b\b\b\b\b\b\b\b\b\b\b\b\b\b\b\b\b\b\b\b\b\b\b\b\b\b\b\b\b\b\b\b\b\b\b\b\b\b\b\b\b\b\b\b\b\b\b\b\b\b\b\b\b\b\b\b\b\b\b\b\b\b\b\b\b\b\b\b\b\b\b\r",
      "412416/412416 [==============================] - 16s 38us/sample - loss: 185.7262 - reconstruction_loss: 91.7664 - KL_loss: 21.1212 - val_loss: 107.0562 - val_reconstruction_loss: 86.2797 - val_KL_loss: 20.7765 - lr: 0.0022\n",
      "Epoch 280/1000\n"
     ]
    },
    {
     "name": "stdout",
     "output_type": "stream",
     "text": [
      "\r",
      "412416/412416 [==============================] - ETA: 0s - loss: 185.6895 - reconstruction_loss: 91.6864 - KL_loss: 21.2158"
     ]
    },
    {
     "name": "stdout",
     "output_type": "stream",
     "text": [
      "\b\b\b\b\b\b\b\b\b\b\b\b\b\b\b\b\b\b\b\b\b\b\b\b\b\b\b\b\b\b\b\b\b\b\b\b\b\b\b\b\b\b\b\b\b\b\b\b\b\b\b\b\b\b\b\b\b\b\b\b\b\b\b\b\b\b\b\b\b\b\b\b\b\b\b\b\b\b\b\b\b\b\b\b\b\b\b\b\b\b\b\b\b\b\b\b\b\b\b\b\b\b\b\b\b\b\b\b\b\b\b\b\b\b\b\b\b\b\b\b\b\b\b\r",
      "412416/412416 [==============================] - 11s 27us/sample - loss: 185.6895 - reconstruction_loss: 91.6864 - KL_loss: 21.2158 - val_loss: 106.8268 - val_reconstruction_loss: 85.9613 - val_KL_loss: 20.8654 - lr: 0.0022\n",
      "Epoch 281/1000\n"
     ]
    },
    {
     "name": "stdout",
     "output_type": "stream",
     "text": [
      "\r",
      "412416/412416 [==============================] - ETA: 0s - loss: 184.9490 - reconstruction_loss: 91.3399 - KL_loss: 21.2998"
     ]
    },
    {
     "name": "stdout",
     "output_type": "stream",
     "text": [
      "\b\b\b\b\b\b\b\b\b\b\b\b\b\b\b\b\b\b\b\b\b\b\b\b\b\b\b\b\b\b\b\b\b\b\b\b\b\b\b\b\b\b\b\b\b\b\b\b\b\b\b\b\b\b\b\b\b\b\b\b\b\b\b\b\b\b\b\b\b\b\b\b\b\b\b\b\b\b\b\b\b\b\b\b\b\b\b\b\b\b\b\b\b\b\b\b\b\b\b\b\b\b\b\b\b\b\b\b\b\b\b\b\b\b\b\b\b\b\b\b\b\b\b\r",
      "412416/412416 [==============================] - 11s 27us/sample - loss: 184.9490 - reconstruction_loss: 91.3399 - KL_loss: 21.2998 - val_loss: 107.4252 - val_reconstruction_loss: 86.3487 - val_KL_loss: 21.0765 - lr: 0.0022\n",
      "Epoch 282/1000\n"
     ]
    },
    {
     "name": "stdout",
     "output_type": "stream",
     "text": [
      "\r",
      "412416/412416 [==============================] - ETA: 0s - loss: 186.1960 - reconstruction_loss: 91.6994 - KL_loss: 21.5239"
     ]
    },
    {
     "name": "stdout",
     "output_type": "stream",
     "text": [
      "\b\b\b\b\b\b\b\b\b\b\b\b\b\b\b\b\b\b\b\b\b\b\b\b\b\b\b\b\b\b\b\b\b\b\b\b\b\b\b\b\b\b\b\b\b\b\b\b\b\b\b\b\b\b\b\b\b\b\b\b\b\b\b\b\b\b\b\b\b\b\b\b\b\b\b\b\b\b\b\b\b\b\b\b\b\b\b\b\b\b\b\b\b\b\b\b\b\b\b\b\b\b\b\b\b\b\b\b\b\b\b\b\b\b\b\b\b\b\b\b\b\b\b\r",
      "412416/412416 [==============================] - 11s 26us/sample - loss: 186.1960 - reconstruction_loss: 91.6994 - KL_loss: 21.5239 - val_loss: 106.8448 - val_reconstruction_loss: 85.9140 - val_KL_loss: 20.9308 - lr: 0.0022\n",
      "Epoch 283/1000\n"
     ]
    },
    {
     "name": "stdout",
     "output_type": "stream",
     "text": [
      "\r",
      "412416/412416 [==============================] - ETA: 0s - loss: 185.0434 - reconstruction_loss: 91.2907 - KL_loss: 21.3716"
     ]
    },
    {
     "name": "stdout",
     "output_type": "stream",
     "text": [
      "\b\b\b\b\b\b\b\b\b\b\b\b\b\b\b\b\b\b\b\b\b\b\b\b\b\b\b\b\b\b\b\b\b\b\b\b\b\b\b\b\b\b\b\b\b\b\b\b\b\b\b\b\b\b\b\b\b\b\b\b\b\b\b\b\b\b\b\b\b\b\b\b\b\b\b\b\b\b\b\b\b\b\b\b\b\b\b\b\b\b\b\b\b\b\b\b\b\b\b\b\b\b\b\b\b\b\b\b\b\b\b\b\b\b\b\b\b\b\b\b\b\b\b\r",
      "412416/412416 [==============================] - 11s 27us/sample - loss: 185.0434 - reconstruction_loss: 91.2907 - KL_loss: 21.3716 - val_loss: 107.6008 - val_reconstruction_loss: 86.9378 - val_KL_loss: 20.6630 - lr: 0.0022\n",
      "Epoch 284/1000\n"
     ]
    },
    {
     "name": "stdout",
     "output_type": "stream",
     "text": [
      "\r",
      "412416/412416 [==============================] - ETA: 0s - loss: 186.8396 - reconstruction_loss: 92.3353 - KL_loss: 21.0976"
     ]
    },
    {
     "name": "stdout",
     "output_type": "stream",
     "text": [
      "\b\b\b\b\b\b\b\b\b\b\b\b\b\b\b\b\b\b\b\b\b\b\b\b\b\b\b\b\b\b\b\b\b\b\b\b\b\b\b\b\b\b\b\b\b\b\b\b\b\b\b\b\b\b\b\b\b\b\b\b\b\b\b\b\b\b\b\b\b\b\b\b\b\b\b\b\b\b\b\b\b\b\b\b\b\b\b\b\b\b\b\b\b\b\b\b\b\b\b\b\b\b\b\b\b\b\b\b\b\b\b\b\b\b\b\b\b\b\b\b\b\b\b\r",
      "412416/412416 [==============================] - 11s 26us/sample - loss: 186.8396 - reconstruction_loss: 92.3353 - KL_loss: 21.0976 - val_loss: 107.5657 - val_reconstruction_loss: 86.8183 - val_KL_loss: 20.7473 - lr: 0.0022\n",
      "Epoch 285/1000\n"
     ]
    },
    {
     "name": "stdout",
     "output_type": "stream",
     "text": [
      "\r",
      "412416/412416 [==============================] - ETA: 0s - loss: 186.8193 - reconstruction_loss: 92.1754 - KL_loss: 21.1871"
     ]
    },
    {
     "name": "stdout",
     "output_type": "stream",
     "text": [
      "\b\b\b\b\b\b\b\b\b\b\b\b\b\b\b\b\b\b\b\b\b\b\b\b\b\b\b\b\b\b\b\b\b\b\b\b\b\b\b\b\b\b\b\b\b\b\b\b\b\b\b\b\b\b\b\b\b\b\b\b\b\b\b\b\b\b\b\b\b\b\b\b\b\b\b\b\b\b\b\b\b\b\b\b\b\b\b\b\b\b\b\b\b\b\b\b\b\b\b\b\b\b\b\b\b\b\b\b\b\b\b\b\b\b\b\b\b\b\b\b\b\b\b\r",
      "412416/412416 [==============================] - 12s 29us/sample - loss: 186.8193 - reconstruction_loss: 92.1754 - KL_loss: 21.1871 - val_loss: 107.4416 - val_reconstruction_loss: 86.5320 - val_KL_loss: 20.9096 - lr: 0.0022\n",
      "Epoch 286/1000\n"
     ]
    },
    {
     "name": "stdout",
     "output_type": "stream",
     "text": [
      "\r",
      "412416/412416 [==============================] - ETA: 0s - loss: 186.0260 - reconstruction_loss: 91.9011 - KL_loss: 21.3532"
     ]
    },
    {
     "name": "stdout",
     "output_type": "stream",
     "text": [
      "\b\b\b\b\b\b\b\b\b\b\b\b\b\b\b\b\b\b\b\b\b\b\b\b\b\b\b\b\b\b\b\b\b\b\b\b\b\b\b\b\b\b\b\b\b\b\b\b\b\b\b\b\b\b\b\b\b\b\b\b\b\b\b\b\b\b\b\b\b\b\b\b\b\b\b\b\b\b\b\b\b\b\b\b\b\b\b\b\b\b\b\b\b\b\b\b\b\b\b\b\b\b\b\b\b\b\b\b\b\b\b\b\b\b\b\b\b\b\b\b\b\b\b\r",
      "412416/412416 [==============================] - 11s 27us/sample - loss: 186.0260 - reconstruction_loss: 91.9011 - KL_loss: 21.3532 - val_loss: 107.2320 - val_reconstruction_loss: 86.1963 - val_KL_loss: 21.0356 - lr: 0.0022\n",
      "Epoch 287/1000\n"
     ]
    },
    {
     "name": "stdout",
     "output_type": "stream",
     "text": [
      "\r",
      "412416/412416 [==============================] - ETA: 0s - loss: 185.4872 - reconstruction_loss: 91.5639 - KL_loss: 21.4739"
     ]
    },
    {
     "name": "stdout",
     "output_type": "stream",
     "text": [
      "\b\b\b\b\b\b\b\b\b\b\b\b\b\b\b\b\b\b\b\b\b\b\b\b\b\b\b\b\b\b\b\b\b\b\b\b\b\b\b\b\b\b\b\b\b\b\b\b\b\b\b\b\b\b\b\b\b\b\b\b\b\b\b\b\b\b\b\b\b\b\b\b\b\b\b\b\b\b\b\b\b\b\b\b\b\b\b\b\b\b\b\b\b\b\b\b\b\b\b\b\b\b\b\b\b\b\b\b\b\b\b\b\b\b\b\b\b\b\b\b\b\b\b\r",
      "412416/412416 [==============================] - 12s 29us/sample - loss: 185.4872 - reconstruction_loss: 91.5639 - KL_loss: 21.4739 - val_loss: 107.5043 - val_reconstruction_loss: 86.4893 - val_KL_loss: 21.0150 - lr: 0.0022\n",
      "Epoch 288/1000\n"
     ]
    },
    {
     "name": "stdout",
     "output_type": "stream",
     "text": [
      "\r",
      "412416/412416 [==============================] - ETA: 0s - loss: 186.3154 - reconstruction_loss: 91.8746 - KL_loss: 21.4503"
     ]
    },
    {
     "name": "stdout",
     "output_type": "stream",
     "text": [
      "\b\b\b\b\b\b\b\b\b\b\b\b\b\b\b\b\b\b\b\b\b\b\b\b\b\b\b\b\b\b\b\b\b\b\b\b\b\b\b\b\b\b\b\b\b\b\b\b\b\b\b\b\b\b\b\b\b\b\b\b\b\b\b\b\b\b\b\b\b\b\b\b\b\b\b\b\b\b\b\b\b\b\b\b\b\b\b\b\b\b\b\b\b\b\b\b\b\b\b\b\b\b\b\b\b\b\b\b\b\b\b\b\b\b\b\b\b\b\b\b\b\b\b\r",
      "412416/412416 [==============================] - 17s 41us/sample - loss: 186.3154 - reconstruction_loss: 91.8746 - KL_loss: 21.4503 - val_loss: 107.2898 - val_reconstruction_loss: 86.3551 - val_KL_loss: 20.9347 - lr: 0.0022\n",
      "Epoch 289/1000\n"
     ]
    },
    {
     "name": "stdout",
     "output_type": "stream",
     "text": [
      "\r",
      "412416/412416 [==============================] - ETA: 0s - loss: 185.4314 - reconstruction_loss: 91.7135 - KL_loss: 21.3716"
     ]
    },
    {
     "name": "stdout",
     "output_type": "stream",
     "text": [
      "\b\b\b\b\b\b\b\b\b\b\b\b\b\b\b\b\b\b\b\b\b\b\b\b\b\b\b\b\b\b\b\b\b\b\b\b\b\b\b\b\b\b\b\b\b\b\b\b\b\b\b\b\b\b\b\b\b\b\b\b\b\b\b\b\b\b\b\b\b\b\b\b\b\b\b\b\b\b\b\b\b\b\b\b\b\b\b\b\b\b\b\b\b\b\b\b\b\b\b\b\b\b\b\b\b\b\b\b\b\b\b\b\b\b\b\b\b\b\b\b\b\b\b\r",
      "412416/412416 [==============================] - 14s 33us/sample - loss: 185.4314 - reconstruction_loss: 91.7135 - KL_loss: 21.3716 - val_loss: 107.2647 - val_reconstruction_loss: 86.3902 - val_KL_loss: 20.8745 - lr: 0.0022\n",
      "Epoch 290/1000\n"
     ]
    },
    {
     "name": "stdout",
     "output_type": "stream",
     "text": [
      "\r",
      "412416/412416 [==============================] - ETA: 0s - loss: 185.7715 - reconstruction_loss: 91.7918 - KL_loss: 21.3182"
     ]
    },
    {
     "name": "stdout",
     "output_type": "stream",
     "text": [
      "\b\b\b\b\b\b\b\b\b\b\b\b\b\b\b\b\b\b\b\b\b\b\b\b\b\b\b\b\b\b\b\b\b\b\b\b\b\b\b\b\b\b\b\b\b\b\b\b\b\b\b\b\b\b\b\b\b\b\b\b\b\b\b\b\b\b\b\b\b\b\b\b\b\b\b\b\b\b\b\b\b\b\b\b\b\b\b\b\b\b\b\b\b\b\b\b\b\b\b\b\b\b\b\b\b\b\b\b\b\b\b\b\b\b\b\b\b\b\b\b\b\b\b\r",
      "412416/412416 [==============================] - 11s 27us/sample - loss: 185.7715 - reconstruction_loss: 91.7918 - KL_loss: 21.3182 - val_loss: 107.3536 - val_reconstruction_loss: 86.4255 - val_KL_loss: 20.9282 - lr: 0.0022\n",
      "Epoch 291/1000\n"
     ]
    },
    {
     "name": "stdout",
     "output_type": "stream",
     "text": [
      "\r",
      "412416/412416 [==============================] - ETA: 0s - loss: 185.4123 - reconstruction_loss: 91.8014 - KL_loss: 21.3687"
     ]
    },
    {
     "name": "stdout",
     "output_type": "stream",
     "text": [
      "\b\b\b\b\b\b\b\b\b\b\b\b\b\b\b\b\b\b\b\b\b\b\b\b\b\b\b\b\b\b\b\b\b\b\b\b\b\b\b\b\b\b\b\b\b\b\b\b\b\b\b\b\b\b\b\b\b\b\b\b\b\b\b\b\b\b\b\b\b\b\b\b\b\b\b\b\b\b\b\b\b\b\b\b\b\b\b\b\b\b\b\b\b\b\b\b\b\b\b\b\b\b\b\b\b\b\b\b\b\b\b\b\b\b\b\b\b\b\b\b\b\b\b\r",
      "412416/412416 [==============================] - 11s 27us/sample - loss: 185.4123 - reconstruction_loss: 91.8014 - KL_loss: 21.3687 - val_loss: 107.1213 - val_reconstruction_loss: 86.3354 - val_KL_loss: 20.7859 - lr: 0.0020\n",
      "Epoch 292/1000\n"
     ]
    },
    {
     "name": "stdout",
     "output_type": "stream",
     "text": [
      "\r",
      "412416/412416 [==============================] - ETA: 0s - loss: 185.0454 - reconstruction_loss: 91.7022 - KL_loss: 21.2224"
     ]
    },
    {
     "name": "stdout",
     "output_type": "stream",
     "text": [
      "\b\b\b\b\b\b\b\b\b\b\b\b\b\b\b\b\b\b\b\b\b\b\b\b\b\b\b\b\b\b\b\b\b\b\b\b\b\b\b\b\b\b\b\b\b\b\b\b\b\b\b\b\b\b\b\b\b\b\b\b\b\b\b\b\b\b\b\b\b\b\b\b\b\b\b\b\b\b\b\b\b\b\b\b\b\b\b\b\b\b\b\b\b\b\b\b\b\b\b\b\b\b\b\b\b\b\b\b\b\b\b\b\b\b\b\b\b\b\b\b\b\b\b\r",
      "412416/412416 [==============================] - 11s 27us/sample - loss: 185.0454 - reconstruction_loss: 91.7022 - KL_loss: 21.2224 - val_loss: 107.1955 - val_reconstruction_loss: 86.4544 - val_KL_loss: 20.7411 - lr: 0.0020\n",
      "Epoch 293/1000\n"
     ]
    },
    {
     "name": "stdout",
     "output_type": "stream",
     "text": [
      "\r",
      "412416/412416 [==============================] - ETA: 0s - loss: 184.6921 - reconstruction_loss: 91.7963 - KL_loss: 21.1796"
     ]
    },
    {
     "name": "stdout",
     "output_type": "stream",
     "text": [
      "\b\b\b\b\b\b\b\b\b\b\b\b\b\b\b\b\b\b\b\b\b\b\b\b\b\b\b\b\b\b\b\b\b\b\b\b\b\b\b\b\b\b\b\b\b\b\b\b\b\b\b\b\b\b\b\b\b\b\b\b\b\b\b\b\b\b\b\b\b\b\b\b\b\b\b\b\b\b\b\b\b\b\b\b\b\b\b\b\b\b\b\b\b\b\b\b\b\b\b\b\b\b\b\b\b\b\b\b\b\b\b\b\b\b\b\b\b\b\b\b\b\b\b\r",
      "412416/412416 [==============================] - 11s 27us/sample - loss: 184.6921 - reconstruction_loss: 91.7963 - KL_loss: 21.1796 - val_loss: 107.0569 - val_reconstruction_loss: 86.0901 - val_KL_loss: 20.9668 - lr: 0.0020\n",
      "Epoch 294/1000\n"
     ]
    },
    {
     "name": "stdout",
     "output_type": "stream",
     "text": [
      "\r",
      "412416/412416 [==============================] - ETA: 0s - loss: 184.8826 - reconstruction_loss: 91.4486 - KL_loss: 21.4124"
     ]
    },
    {
     "name": "stdout",
     "output_type": "stream",
     "text": [
      "\b\b\b\b\b\b\b\b\b\b\b\b\b\b\b\b\b\b\b\b\b\b\b\b\b\b\b\b\b\b\b\b\b\b\b\b\b\b\b\b\b\b\b\b\b\b\b\b\b\b\b\b\b\b\b\b\b\b\b\b\b\b\b\b\b\b\b\b\b\b\b\b\b\b\b\b\b\b\b\b\b\b\b\b\b\b\b\b\b\b\b\b\b\b\b\b\b\b\b\b\b\b\b\b\b\b\b\b\b\b\b\b\b\b\b\b\b\b\b\b\b\b\b\r",
      "412416/412416 [==============================] - 11s 27us/sample - loss: 184.8826 - reconstruction_loss: 91.4486 - KL_loss: 21.4124 - val_loss: 107.1203 - val_reconstruction_loss: 86.0915 - val_KL_loss: 21.0287 - lr: 0.0020\n",
      "Epoch 295/1000\n"
     ]
    },
    {
     "name": "stdout",
     "output_type": "stream",
     "text": [
      "\r",
      "412416/412416 [==============================] - ETA: 0s - loss: 184.5734 - reconstruction_loss: 91.4521 - KL_loss: 21.4714"
     ]
    },
    {
     "name": "stdout",
     "output_type": "stream",
     "text": [
      "\b\b\b\b\b\b\b\b\b\b\b\b\b\b\b\b\b\b\b\b\b\b\b\b\b\b\b\b\b\b\b\b\b\b\b\b\b\b\b\b\b\b\b\b\b\b\b\b\b\b\b\b\b\b\b\b\b\b\b\b\b\b\b\b\b\b\b\b\b\b\b\b\b\b\b\b\b\b\b\b\b\b\b\b\b\b\b\b\b\b\b\b\b\b\b\b\b\b\b\b\b\b\b\b\b\b\b\b\b\b\b\b\b\b\b\b\b\b\b\b\b\b\b\r",
      "412416/412416 [==============================] - 12s 29us/sample - loss: 184.5734 - reconstruction_loss: 91.4521 - KL_loss: 21.4714 - val_loss: 106.9551 - val_reconstruction_loss: 86.1703 - val_KL_loss: 20.7848 - lr: 0.0020\n",
      "Epoch 296/1000\n"
     ]
    },
    {
     "name": "stdout",
     "output_type": "stream",
     "text": [
      "\r",
      "412416/412416 [==============================] - ETA: 0s - loss: 184.4868 - reconstruction_loss: 91.5306 - KL_loss: 21.2191"
     ]
    },
    {
     "name": "stdout",
     "output_type": "stream",
     "text": [
      "\b\b\b\b\b\b\b\b\b\b\b\b\b\b\b\b\b\b\b\b\b\b\b\b\b\b\b\b\b\b\b\b\b\b\b\b\b\b\b\b\b\b\b\b\b\b\b\b\b\b\b\b\b\b\b\b\b\b\b\b\b\b\b\b\b\b\b\b\b\b\b\b\b\b\b\b\b\b\b\b\b\b\b\b\b\b\b\b\b\b\b\b\b\b\b\b\b\b\b\b\b\b\b\b\b\b\b\b\b\b\b\b\b\b\b\b\b\b\b\b\b\b\b\r",
      "412416/412416 [==============================] - 11s 27us/sample - loss: 184.4868 - reconstruction_loss: 91.5306 - KL_loss: 21.2191 - val_loss: 106.9342 - val_reconstruction_loss: 86.2790 - val_KL_loss: 20.6552 - lr: 0.0020\n",
      "Epoch 297/1000\n"
     ]
    },
    {
     "name": "stdout",
     "output_type": "stream",
     "text": [
      "\r",
      "412416/412416 [==============================] - ETA: 0s - loss: 184.2626 - reconstruction_loss: 91.6517 - KL_loss: 21.0921"
     ]
    },
    {
     "name": "stdout",
     "output_type": "stream",
     "text": [
      "\b\b\b\b\b\b\b\b\b\b\b\b\b\b\b\b\b\b\b\b\b\b\b\b\b\b\b\b\b\b\b\b\b\b\b\b\b\b\b\b\b\b\b\b\b\b\b\b\b\b\b\b\b\b\b\b\b\b\b\b\b\b\b\b\b\b\b\b\b\b\b\b\b\b\b\b\b\b\b\b\b\b\b\b\b\b\b\b\b\b\b\b\b\b\b\b\b\b\b\b\b\b\b\b\b\b\b\b\b\b\b\b\b\b\b\b\b\b\b\b\b\b\b\r",
      "412416/412416 [==============================] - 11s 26us/sample - loss: 184.2626 - reconstruction_loss: 91.6517 - KL_loss: 21.0921 - val_loss: 107.0601 - val_reconstruction_loss: 86.2325 - val_KL_loss: 20.8276 - lr: 0.0020\n",
      "Epoch 298/1000\n"
     ]
    },
    {
     "name": "stdout",
     "output_type": "stream",
     "text": [
      "\r",
      "412416/412416 [==============================] - ETA: 0s - loss: 184.5614 - reconstruction_loss: 91.5591 - KL_loss: 21.2726"
     ]
    },
    {
     "name": "stdout",
     "output_type": "stream",
     "text": [
      "\b\b\b\b\b\b\b\b\b\b\b\b\b\b\b\b\b\b\b\b\b\b\b\b\b\b\b\b\b\b\b\b\b\b\b\b\b\b\b\b\b\b\b\b\b\b\b\b\b\b\b\b\b\b\b\b\b\b\b\b\b\b\b\b\b\b\b\b\b\b\b\b\b\b\b\b\b\b\b\b\b\b\b\b\b\b\b\b\b\b\b\b\b\b\b\b\b\b\b\b\b\b\b\b\b\b\b\b\b\b\b\b\b\b\b\b\b\b\b\b\b\b\b\r",
      "412416/412416 [==============================] - 11s 27us/sample - loss: 184.5614 - reconstruction_loss: 91.5591 - KL_loss: 21.2726 - val_loss: 106.9957 - val_reconstruction_loss: 86.0641 - val_KL_loss: 20.9316 - lr: 0.0020\n",
      "Epoch 299/1000\n"
     ]
    },
    {
     "name": "stdout",
     "output_type": "stream",
     "text": [
      "\r",
      "412416/412416 [==============================] - ETA: 0s - loss: 184.2511 - reconstruction_loss: 91.3841 - KL_loss: 21.3767"
     ]
    },
    {
     "name": "stdout",
     "output_type": "stream",
     "text": [
      "\b\b\b\b\b\b\b\b\b\b\b\b\b\b\b\b\b\b\b\b\b\b\b\b\b\b\b\b\b\b\b\b\b\b\b\b\b\b\b\b\b\b\b\b\b\b\b\b\b\b\b\b\b\b\b\b\b\b\b\b\b\b\b\b\b\b\b\b\b\b\b\b\b\b\b\b\b\b\b\b\b\b\b\b\b\b\b\b\b\b\b\b\b\b\b\b\b\b\b\b\b\b\b\b\b\b\b\b\b\b\b\b\b\b\b\b\b\b\b\b\b\b\b\r",
      "412416/412416 [==============================] - 11s 27us/sample - loss: 184.2511 - reconstruction_loss: 91.3841 - KL_loss: 21.3767 - val_loss: 106.9803 - val_reconstruction_loss: 86.0659 - val_KL_loss: 20.9144 - lr: 0.0020\n",
      "Epoch 300/1000\n"
     ]
    },
    {
     "name": "stdout",
     "output_type": "stream",
     "text": [
      "\r",
      "412416/412416 [==============================] - ETA: 0s - loss: 184.1406 - reconstruction_loss: 91.4105 - KL_loss: 21.3519"
     ]
    },
    {
     "name": "stdout",
     "output_type": "stream",
     "text": [
      "\b\b\b\b\b\b\b\b\b\b\b\b\b\b\b\b\b\b\b\b\b\b\b\b\b\b\b\b\b\b\b\b\b\b\b\b\b\b\b\b\b\b\b\b\b\b\b\b\b\b\b\b\b\b\b\b\b\b\b\b\b\b\b\b\b\b\b\b\b\b\b\b\b\b\b\b\b\b\b\b\b\b\b\b\b\b\b\b\b\b\b\b\b\b\b\b\b\b\b\b\b\b\b\b\b\b\b\b\b\b\b\b\b\b\b\b\b\b\b\b\b\b\b\r",
      "412416/412416 [==============================] - 11s 27us/sample - loss: 184.1406 - reconstruction_loss: 91.4105 - KL_loss: 21.3519 - val_loss: 106.8649 - val_reconstruction_loss: 85.8870 - val_KL_loss: 20.9780 - lr: 0.0020\n",
      "Epoch 301/1000\n"
     ]
    },
    {
     "name": "stdout",
     "output_type": "stream",
     "text": [
      "\r",
      "412416/412416 [==============================] - ETA: 0s - loss: 183.8167 - reconstruction_loss: 91.2169 - KL_loss: 21.4119"
     ]
    },
    {
     "name": "stdout",
     "output_type": "stream",
     "text": [
      "\b\b\b\b\b\b\b\b\b\b\b\b\b\b\b\b\b\b\b\b\b\b\b\b\b\b\b\b\b\b\b\b\b\b\b\b\b\b\b\b\b\b\b\b\b\b\b\b\b\b\b\b\b\b\b\b\b\b\b\b\b\b\b\b\b\b\b\b\b\b\b\b\b\b\b\b\b\b\b\b\b\b\b\b\b\b\b\b\b\b\b\b\b\b\b\b\b\b\b\b\b\b\b\b\b\b\b\b\b\b\b\b\b\b\b\b\b\b\b\b\b\b\b\r",
      "412416/412416 [==============================] - 11s 27us/sample - loss: 183.8167 - reconstruction_loss: 91.2169 - KL_loss: 21.4119 - val_loss: 107.0810 - val_reconstruction_loss: 86.1592 - val_KL_loss: 20.9218 - lr: 0.0020\n",
      "Epoch 302/1000\n"
     ]
    },
    {
     "name": "stdout",
     "output_type": "stream",
     "text": [
      "\r",
      "412416/412416 [==============================] - ETA: 0s - loss: 183.9238 - reconstruction_loss: 91.4804 - KL_loss: 21.3613"
     ]
    },
    {
     "name": "stdout",
     "output_type": "stream",
     "text": [
      "\b\b\b\b\b\b\b\b\b\b\b\b\b\b\b\b\b\b\b\b\b\b\b\b\b\b\b\b\b\b\b\b\b\b\b\b\b\b\b\b\b\b\b\b\b\b\b\b\b\b\b\b\b\b\b\b\b\b\b\b\b\b\b\b\b\b\b\b\b\b\b\b\b\b\b\b\b\b\b\b\b\b\b\b\b\b\b\b\b\b\b\b\b\b\b\b\b\b\b\b\b\b\b\b\b\b\b\b\b\b\b\b\b\b\b\b\b\b\b\b\b\b\b\r",
      "412416/412416 [==============================] - 11s 27us/sample - loss: 183.9238 - reconstruction_loss: 91.4804 - KL_loss: 21.3613 - val_loss: 106.9508 - val_reconstruction_loss: 86.1576 - val_KL_loss: 20.7932 - lr: 0.0020\n",
      "Epoch 303/1000\n"
     ]
    },
    {
     "name": "stdout",
     "output_type": "stream",
     "text": [
      "\r",
      "412416/412416 [==============================] - ETA: 0s - loss: 183.7689 - reconstruction_loss: 91.4581 - KL_loss: 21.2383"
     ]
    },
    {
     "name": "stdout",
     "output_type": "stream",
     "text": [
      "\b\b\b\b\b\b\b\b\b\b\b\b\b\b\b\b\b\b\b\b\b\b\b\b\b\b\b\b\b\b\b\b\b\b\b\b\b\b\b\b\b\b\b\b\b\b\b\b\b\b\b\b\b\b\b\b\b\b\b\b\b\b\b\b\b\b\b\b\b\b\b\b\b\b\b\b\b\b\b\b\b\b\b\b\b\b\b\b\b\b\b\b\b\b\b\b\b\b\b\b\b\b\b\b\b\b\b\b\b\b\b\b\b\b\b\b\b\b\b\b\b\b\b\r",
      "412416/412416 [==============================] - 14s 35us/sample - loss: 183.7689 - reconstruction_loss: 91.4581 - KL_loss: 21.2383 - val_loss: 106.9668 - val_reconstruction_loss: 86.2116 - val_KL_loss: 20.7552 - lr: 0.0020\n",
      "Epoch 304/1000\n"
     ]
    },
    {
     "name": "stdout",
     "output_type": "stream",
     "text": [
      "\r",
      "412416/412416 [==============================] - ETA: 0s - loss: 183.6542 - reconstruction_loss: 91.5106 - KL_loss: 21.1945"
     ]
    },
    {
     "name": "stdout",
     "output_type": "stream",
     "text": [
      "\b\b\b\b\b\b\b\b\b\b\b\b\b\b\b\b\b\b\b\b\b\b\b\b\b\b\b\b\b\b\b\b\b\b\b\b\b\b\b\b\b\b\b\b\b\b\b\b\b\b\b\b\b\b\b\b\b\b\b\b\b\b\b\b\b\b\b\b\b\b\b\b\b\b\b\b\b\b\b\b\b\b\b\b\b\b\b\b\b\b\b\b\b\b\b\b\b\b\b\b\b\b\b\b\b\b\b\b\b\b\b\b\b\b\b\b\b\b\b\b\b\b\b\r",
      "412416/412416 [==============================] - 11s 27us/sample - loss: 183.6542 - reconstruction_loss: 91.5106 - KL_loss: 21.1945 - val_loss: 106.7847 - val_reconstruction_loss: 85.7930 - val_KL_loss: 20.9917 - lr: 0.0020\n",
      "Epoch 305/1000\n"
     ]
    },
    {
     "name": "stdout",
     "output_type": "stream",
     "text": [
      "\r",
      "412416/412416 [==============================] - ETA: 0s - loss: 183.2986 - reconstruction_loss: 91.1144 - KL_loss: 21.4241"
     ]
    },
    {
     "name": "stdout",
     "output_type": "stream",
     "text": [
      "\b\b\b\b\b\b\b\b\b\b\b\b\b\b\b\b\b\b\b\b\b\b\b\b\b\b\b\b\b\b\b\b\b\b\b\b\b\b\b\b\b\b\b\b\b\b\b\b\b\b\b\b\b\b\b\b\b\b\b\b\b\b\b\b\b\b\b\b\b\b\b\b\b\b\b\b\b\b\b\b\b\b\b\b\b\b\b\b\b\b\b\b\b\b\b\b\b\b\b\b\b\b\b\b\b\b\b\b\b\b\b\b\b\b\b\b\b\b\b\b\b\b\b\r",
      "412416/412416 [==============================] - 11s 27us/sample - loss: 183.2986 - reconstruction_loss: 91.1144 - KL_loss: 21.4241 - val_loss: 107.3778 - val_reconstruction_loss: 86.3198 - val_KL_loss: 21.0580 - lr: 0.0020\n",
      "Epoch 306/1000\n"
     ]
    },
    {
     "name": "stdout",
     "output_type": "stream",
     "text": [
      "\r",
      "412416/412416 [==============================] - ETA: 0s - loss: 184.0108 - reconstruction_loss: 91.6258 - KL_loss: 21.5044"
     ]
    },
    {
     "name": "stdout",
     "output_type": "stream",
     "text": [
      "\b\b\b\b\b\b\b\b\b\b\b\b\b\b\b\b\b\b\b\b\b\b\b\b\b\b\b\b\b\b\b\b\b\b\b\b\b\b\b\b\b\b\b\b\b\b\b\b\b\b\b\b\b\b\b\b\b\b\b\b\b\b\b\b\b\b\b\b\b\b\b\b\b\b\b\b\b\b\b\b\b\b\b\b\b\b\b\b\b\b\b\b\b\b\b\b\b\b\b\b\b\b\b\b\b\b\b\b\b\b\b\b\b\b\b\b\b\b\b\b\b\b\b\r",
      "412416/412416 [==============================] - 13s 31us/sample - loss: 184.0108 - reconstruction_loss: 91.6258 - KL_loss: 21.5044 - val_loss: 107.1509 - val_reconstruction_loss: 86.2282 - val_KL_loss: 20.9228 - lr: 0.0020\n",
      "Epoch 307/1000\n"
     ]
    },
    {
     "name": "stdout",
     "output_type": "stream",
     "text": [
      "\r",
      "412416/412416 [==============================] - ETA: 0s - loss: 183.8914 - reconstruction_loss: 91.5355 - KL_loss: 21.3646"
     ]
    },
    {
     "name": "stdout",
     "output_type": "stream",
     "text": [
      "\b\b\b\b\b\b\b\b\b\b\b\b\b\b\b\b\b\b\b\b\b\b\b\b\b\b\b\b\b\b\b\b\b\b\b\b\b\b\b\b\b\b\b\b\b\b\b\b\b\b\b\b\b\b\b\b\b\b\b\b\b\b\b\b\b\b\b\b\b\b\b\b\b\b\b\b\b\b\b\b\b\b\b\b\b\b\b\b\b\b\b\b\b\b\b\b\b\b\b\b\b\b\b\b\b\b\b\b\b\b\b\b\b\b\b\b\b\b\b\b\b\b\b\r",
      "412416/412416 [==============================] - 11s 27us/sample - loss: 183.8914 - reconstruction_loss: 91.5355 - KL_loss: 21.3646 - val_loss: 106.7101 - val_reconstruction_loss: 85.9816 - val_KL_loss: 20.7284 - lr: 0.0020\n",
      "Epoch 308/1000\n"
     ]
    },
    {
     "name": "stdout",
     "output_type": "stream",
     "text": [
      "\r",
      "412416/412416 [==============================] - ETA: 0s - loss: 183.0490 - reconstruction_loss: 91.3391 - KL_loss: 21.1615"
     ]
    },
    {
     "name": "stdout",
     "output_type": "stream",
     "text": [
      "\b\b\b\b\b\b\b\b\b\b\b\b\b\b\b\b\b\b\b\b\b\b\b\b\b\b\b\b\b\b\b\b\b\b\b\b\b\b\b\b\b\b\b\b\b\b\b\b\b\b\b\b\b\b\b\b\b\b\b\b\b\b\b\b\b\b\b\b\b\b\b\b\b\b\b\b\b\b\b\b\b\b\b\b\b\b\b\b\b\b\b\b\b\b\b\b\b\b\b\b\b\b\b\b\b\b\b\b\b\b\b\b\b\b\b\b\b\b\b\b\b\b\b\r",
      "412416/412416 [==============================] - 16s 40us/sample - loss: 183.0490 - reconstruction_loss: 91.3391 - KL_loss: 21.1615 - val_loss: 107.0850 - val_reconstruction_loss: 86.2807 - val_KL_loss: 20.8044 - lr: 0.0020\n",
      "Epoch 309/1000\n"
     ]
    },
    {
     "name": "stdout",
     "output_type": "stream",
     "text": [
      "\r",
      "412416/412416 [==============================] - ETA: 0s - loss: 183.5960 - reconstruction_loss: 91.6266 - KL_loss: 21.2438"
     ]
    },
    {
     "name": "stdout",
     "output_type": "stream",
     "text": [
      "\b\b\b\b\b\b\b\b\b\b\b\b\b\b\b\b\b\b\b\b\b\b\b\b\b\b\b\b\b\b\b\b\b\b\b\b\b\b\b\b\b\b\b\b\b\b\b\b\b\b\b\b\b\b\b\b\b\b\b\b\b\b\b\b\b\b\b\b\b\b\b\b\b\b\b\b\b\b\b\b\b\b\b\b\b\b\b\b\b\b\b\b\b\b\b\b\b\b\b\b\b\b\b\b\b\b\b\b\b\b\b\b\b\b\b\b\b\b\b\b\b\b\b\r",
      "412416/412416 [==============================] - 11s 27us/sample - loss: 183.5960 - reconstruction_loss: 91.6266 - KL_loss: 21.2438 - val_loss: 106.7953 - val_reconstruction_loss: 85.8693 - val_KL_loss: 20.9260 - lr: 0.0020\n",
      "Epoch 310/1000\n"
     ]
    },
    {
     "name": "stdout",
     "output_type": "stream",
     "text": [
      "\r",
      "412416/412416 [==============================] - ETA: 0s - loss: 183.0673 - reconstruction_loss: 91.1884 - KL_loss: 21.3600"
     ]
    },
    {
     "name": "stdout",
     "output_type": "stream",
     "text": [
      "\b\b\b\b\b\b\b\b\b\b\b\b\b\b\b\b\b\b\b\b\b\b\b\b\b\b\b\b\b\b\b\b\b\b\b\b\b\b\b\b\b\b\b\b\b\b\b\b\b\b\b\b\b\b\b\b\b\b\b\b\b\b\b\b\b\b\b\b\b\b\b\b\b\b\b\b\b\b\b\b\b\b\b\b\b\b\b\b\b\b\b\b\b\b\b\b\b\b\b\b\b\b\b\b\b\b\b\b\b\b\b\b\b\b\b\b\b\b\b\b\b\b\b\r",
      "412416/412416 [==============================] - 13s 30us/sample - loss: 183.0673 - reconstruction_loss: 91.1884 - KL_loss: 21.3600 - val_loss: 106.8998 - val_reconstruction_loss: 85.9419 - val_KL_loss: 20.9579 - lr: 0.0020\n",
      "Epoch 311/1000\n"
     ]
    },
    {
     "name": "stdout",
     "output_type": "stream",
     "text": [
      "\r",
      "412416/412416 [==============================] - ETA: 0s - loss: 182.8829 - reconstruction_loss: 91.2301 - KL_loss: 21.3978"
     ]
    },
    {
     "name": "stdout",
     "output_type": "stream",
     "text": [
      "\b\b\b\b\b\b\b\b\b\b\b\b\b\b\b\b\b\b\b\b\b\b\b\b\b\b\b\b\b\b\b\b\b\b\b\b\b\b\b\b\b\b\b\b\b\b\b\b\b\b\b\b\b\b\b\b\b\b\b\b\b\b\b\b\b\b\b\b\b\b\b\b\b\b\b\b\b\b\b\b\b\b\b\b\b\b\b\b\b\b\b\b\b\b\b\b\b\b\b\b\b\b\b\b\b\b\b\b\b\b\b\b\b\b\b\b\b\b\b\b\b\b\b\r",
      "412416/412416 [==============================] - 11s 27us/sample - loss: 182.8829 - reconstruction_loss: 91.2301 - KL_loss: 21.3978 - val_loss: 106.9643 - val_reconstruction_loss: 85.9673 - val_KL_loss: 20.9970 - lr: 0.0020\n",
      "Epoch 312/1000\n"
     ]
    },
    {
     "name": "stdout",
     "output_type": "stream",
     "text": [
      "\r",
      "412416/412416 [==============================] - ETA: 0s - loss: 183.1903 - reconstruction_loss: 91.2756 - KL_loss: 21.4339"
     ]
    },
    {
     "name": "stdout",
     "output_type": "stream",
     "text": [
      "\b\b\b\b\b\b\b\b\b\b\b\b\b\b\b\b\b\b\b\b\b\b\b\b\b\b\b\b\b\b\b\b\b\b\b\b\b\b\b\b\b\b\b\b\b\b\b\b\b\b\b\b\b\b\b\b\b\b\b\b\b\b\b\b\b\b\b\b\b\b\b\b\b\b\b\b\b\b\b\b\b\b\b\b\b\b\b\b\b\b\b\b\b\b\b\b\b\b\b\b\b\b\b\b\b\b\b\b\b\b\b\b\b\b\b\b\b\b\b\b\b\b\b\r",
      "412416/412416 [==============================] - 11s 27us/sample - loss: 183.1903 - reconstruction_loss: 91.2756 - KL_loss: 21.4339 - val_loss: 106.6789 - val_reconstruction_loss: 85.7826 - val_KL_loss: 20.8963 - lr: 0.0020\n",
      "Epoch 313/1000\n"
     ]
    },
    {
     "name": "stdout",
     "output_type": "stream",
     "text": [
      "\r",
      "412416/412416 [==============================] - ETA: 0s - loss: 182.6346 - reconstruction_loss: 91.0943 - KL_loss: 21.3352"
     ]
    },
    {
     "name": "stdout",
     "output_type": "stream",
     "text": [
      "\b\b\b\b\b\b\b\b\b\b\b\b\b\b\b\b\b\b\b\b\b\b\b\b\b\b\b\b\b\b\b\b\b\b\b\b\b\b\b\b\b\b\b\b\b\b\b\b\b\b\b\b\b\b\b\b\b\b\b\b\b\b\b\b\b\b\b\b\b\b\b\b\b\b\b\b\b\b\b\b\b\b\b\b\b\b\b\b\b\b\b\b\b\b\b\b\b\b\b\b\b\b\b\b\b\b\b\b\b\b\b\b\b\b\b\b\b\b\b\b\b\b\b\r",
      "412416/412416 [==============================] - 14s 34us/sample - loss: 182.6346 - reconstruction_loss: 91.0943 - KL_loss: 21.3352 - val_loss: 106.8152 - val_reconstruction_loss: 85.7580 - val_KL_loss: 21.0573 - lr: 0.0020\n",
      "Epoch 314/1000\n"
     ]
    },
    {
     "name": "stdout",
     "output_type": "stream",
     "text": [
      "\r",
      "412416/412416 [==============================] - ETA: 0s - loss: 182.7225 - reconstruction_loss: 91.0660 - KL_loss: 21.4938"
     ]
    },
    {
     "name": "stdout",
     "output_type": "stream",
     "text": [
      "\b\b\b\b\b\b\b\b\b\b\b\b\b\b\b\b\b\b\b\b\b\b\b\b\b\b\b\b\b\b\b\b\b\b\b\b\b\b\b\b\b\b\b\b\b\b\b\b\b\b\b\b\b\b\b\b\b\b\b\b\b\b\b\b\b\b\b\b\b\b\b\b\b\b\b\b\b\b\b\b\b\b\b\b\b\b\b\b\b\b\b\b\b\b\b\b\b\b\b\b\b\b\b\b\b\b\b\b\b\b\b\b\b\b\b\b\b\b\b\b\b\b\b\r",
      "412416/412416 [==============================] - 17s 41us/sample - loss: 182.7225 - reconstruction_loss: 91.0660 - KL_loss: 21.4938 - val_loss: 106.8894 - val_reconstruction_loss: 86.0286 - val_KL_loss: 20.8608 - lr: 0.0020\n",
      "Epoch 315/1000\n"
     ]
    },
    {
     "name": "stdout",
     "output_type": "stream",
     "text": [
      "\r",
      "412416/412416 [==============================] - ETA: 0s - loss: 182.6725 - reconstruction_loss: 91.3075 - KL_loss: 21.3091"
     ]
    },
    {
     "name": "stdout",
     "output_type": "stream",
     "text": [
      "\b\b\b\b\b\b\b\b\b\b\b\b\b\b\b\b\b\b\b\b\b\b\b\b\b\b\b\b\b\b\b\b\b\b\b\b\b\b\b\b\b\b\b\b\b\b\b\b\b\b\b\b\b\b\b\b\b\b\b\b\b\b\b\b\b\b\b\b\b\b\b\b\b\b\b\b\b\b\b\b\b\b\b\b\b\b\b\b\b\b\b\b\b\b\b\b\b\b\b\b\b\b\b\b\b\b\b\b\b\b\b\b\b\b\b\b\b\b\b\b\b\b\b\r",
      "412416/412416 [==============================] - 12s 29us/sample - loss: 182.6725 - reconstruction_loss: 91.3075 - KL_loss: 21.3091 - val_loss: 106.8489 - val_reconstruction_loss: 86.0645 - val_KL_loss: 20.7844 - lr: 0.0020\n",
      "Epoch 316/1000\n"
     ]
    },
    {
     "name": "stdout",
     "output_type": "stream",
     "text": [
      "\r",
      "412416/412416 [==============================] - ETA: 0s - loss: 182.5314 - reconstruction_loss: 91.3681 - KL_loss: 21.2240"
     ]
    },
    {
     "name": "stdout",
     "output_type": "stream",
     "text": [
      "\b\b\b\b\b\b\b\b\b\b\b\b\b\b\b\b\b\b\b\b\b\b\b\b\b\b\b\b\b\b\b\b\b\b\b\b\b\b\b\b\b\b\b\b\b\b\b\b\b\b\b\b\b\b\b\b\b\b\b\b\b\b\b\b\b\b\b\b\b\b\b\b\b\b\b\b\b\b\b\b\b\b\b\b\b\b\b\b\b\b\b\b\b\b\b\b\b\b\b\b\b\b\b\b\b\b\b\b\b\b\b\b\b\b\b\b\b\b\b\b\b\b\b\r",
      "412416/412416 [==============================] - 12s 29us/sample - loss: 182.5314 - reconstruction_loss: 91.3681 - KL_loss: 21.2240 - val_loss: 106.7169 - val_reconstruction_loss: 85.7872 - val_KL_loss: 20.9298 - lr: 0.0020\n",
      "Epoch 317/1000\n"
     ]
    },
    {
     "name": "stdout",
     "output_type": "stream",
     "text": [
      "\r",
      "412416/412416 [==============================] - ETA: 0s - loss: 182.3788 - reconstruction_loss: 91.0964 - KL_loss: 21.3691"
     ]
    },
    {
     "name": "stdout",
     "output_type": "stream",
     "text": [
      "\b\b\b\b\b\b\b\b\b\b\b\b\b\b\b\b\b\b\b\b\b\b\b\b\b\b\b\b\b\b\b\b\b\b\b\b\b\b\b\b\b\b\b\b\b\b\b\b\b\b\b\b\b\b\b\b\b\b\b\b\b\b\b\b\b\b\b\b\b\b\b\b\b\b\b\b\b\b\b\b\b\b\b\b\b\b\b\b\b\b\b\b\b\b\b\b\b\b\b\b\b\b\b\b\b\b\b\b\b\b\b\b\b\b\b\b\b\b\b\b\b\b\b\r",
      "412416/412416 [==============================] - 12s 29us/sample - loss: 182.3788 - reconstruction_loss: 91.0964 - KL_loss: 21.3691 - val_loss: 106.7945 - val_reconstruction_loss: 85.5453 - val_KL_loss: 21.2492 - lr: 0.0020\n",
      "Epoch 318/1000\n"
     ]
    },
    {
     "name": "stdout",
     "output_type": "stream",
     "text": [
      "\r",
      "412416/412416 [==============================] - ETA: 0s - loss: 182.3929 - reconstruction_loss: 90.8681 - KL_loss: 21.6826"
     ]
    },
    {
     "name": "stdout",
     "output_type": "stream",
     "text": [
      "\b\b\b\b\b\b\b\b\b\b\b\b\b\b\b\b\b\b\b\b\b\b\b\b\b\b\b\b\b\b\b\b\b\b\b\b\b\b\b\b\b\b\b\b\b\b\b\b\b\b\b\b\b\b\b\b\b\b\b\b\b\b\b\b\b\b\b\b\b\b\b\b\b\b\b\b\b\b\b\b\b\b\b\b\b\b\b\b\b\b\b\b\b\b\b\b\b\b\b\b\b\b\b\b\b\b\b\b\b\b\b\b\b\b\b\b\b\b\b\b\b\b\b\r",
      "412416/412416 [==============================] - 12s 28us/sample - loss: 182.3929 - reconstruction_loss: 90.8681 - KL_loss: 21.6826 - val_loss: 106.6115 - val_reconstruction_loss: 85.4143 - val_KL_loss: 21.1972 - lr: 0.0020\n",
      "Epoch 319/1000\n"
     ]
    },
    {
     "name": "stdout",
     "output_type": "stream",
     "text": [
      "\r",
      "412416/412416 [==============================] - ETA: 0s - loss: 182.0380 - reconstruction_loss: 90.7257 - KL_loss: 21.6404"
     ]
    },
    {
     "name": "stdout",
     "output_type": "stream",
     "text": [
      "\b\b\b\b\b\b\b\b\b\b\b\b\b\b\b\b\b\b\b\b\b\b\b\b\b\b\b\b\b\b\b\b\b\b\b\b\b\b\b\b\b\b\b\b\b\b\b\b\b\b\b\b\b\b\b\b\b\b\b\b\b\b\b\b\b\b\b\b\b\b\b\b\b\b\b\b\b\b\b\b\b\b\b\b\b\b\b\b\b\b\b\b\b\b\b\b\b\b\b\b\b\b\b\b\b\b\b\b\b\b\b\b\b\b\b\b\b\b\b\b\b\b\b\r",
      "412416/412416 [==============================] - 12s 28us/sample - loss: 182.0380 - reconstruction_loss: 90.7257 - KL_loss: 21.6404 - val_loss: 106.8604 - val_reconstruction_loss: 85.7766 - val_KL_loss: 21.0838 - lr: 0.0020\n",
      "Epoch 320/1000\n"
     ]
    },
    {
     "name": "stdout",
     "output_type": "stream",
     "text": [
      "\r",
      "412416/412416 [==============================] - ETA: 0s - loss: 182.1833 - reconstruction_loss: 91.0744 - KL_loss: 21.5208"
     ]
    },
    {
     "name": "stdout",
     "output_type": "stream",
     "text": [
      "\b\b\b\b\b\b\b\b\b\b\b\b\b\b\b\b\b\b\b\b\b\b\b\b\b\b\b\b\b\b\b\b\b\b\b\b\b\b\b\b\b\b\b\b\b\b\b\b\b\b\b\b\b\b\b\b\b\b\b\b\b\b\b\b\b\b\b\b\b\b\b\b\b\b\b\b\b\b\b\b\b\b\b\b\b\b\b\b\b\b\b\b\b\b\b\b\b\b\b\b\b\b\b\b\b\b\b\b\b\b\b\b\b\b\b\b\b\b\b\b\b\b\b\r",
      "412416/412416 [==============================] - 13s 32us/sample - loss: 182.1833 - reconstruction_loss: 91.0744 - KL_loss: 21.5208 - val_loss: 106.5857 - val_reconstruction_loss: 85.7866 - val_KL_loss: 20.7991 - lr: 0.0020\n",
      "Epoch 321/1000\n"
     ]
    },
    {
     "name": "stdout",
     "output_type": "stream",
     "text": [
      "\r",
      "412416/412416 [==============================] - ETA: 0s - loss: 181.8276 - reconstruction_loss: 91.1094 - KL_loss: 21.2398"
     ]
    },
    {
     "name": "stdout",
     "output_type": "stream",
     "text": [
      "\b\b\b\b\b\b\b\b\b\b\b\b\b\b\b\b\b\b\b\b\b\b\b\b\b\b\b\b\b\b\b\b\b\b\b\b\b\b\b\b\b\b\b\b\b\b\b\b\b\b\b\b\b\b\b\b\b\b\b\b\b\b\b\b\b\b\b\b\b\b\b\b\b\b\b\b\b\b\b\b\b\b\b\b\b\b\b\b\b\b\b\b\b\b\b\b\b\b\b\b\b\b\b\b\b\b\b\b\b\b\b\b\b\b\b\b\b\b\b\b\b\b\b\r",
      "412416/412416 [==============================] - 12s 28us/sample - loss: 181.8276 - reconstruction_loss: 91.1094 - KL_loss: 21.2398 - val_loss: 107.0741 - val_reconstruction_loss: 86.2419 - val_KL_loss: 20.8321 - lr: 0.0020\n",
      "Epoch 322/1000\n"
     ]
    },
    {
     "name": "stdout",
     "output_type": "stream",
     "text": [
      "\r",
      "412416/412416 [==============================] - ETA: 0s - loss: 182.4118 - reconstruction_loss: 91.5500 - KL_loss: 21.2661"
     ]
    },
    {
     "name": "stdout",
     "output_type": "stream",
     "text": [
      "\b\b\b\b\b\b\b\b\b\b\b\b\b\b\b\b\b\b\b\b\b\b\b\b\b\b\b\b\b\b\b\b\b\b\b\b\b\b\b\b\b\b\b\b\b\b\b\b\b\b\b\b\b\b\b\b\b\b\b\b\b\b\b\b\b\b\b\b\b\b\b\b\b\b\b\b\b\b\b\b\b\b\b\b\b\b\b\b\b\b\b\b\b\b\b\b\b\b\b\b\b\b\b\b\b\b\b\b\b\b\b\b\b\b\b\b\b\b\b\b\b\b\b\r",
      "412416/412416 [==============================] - 12s 28us/sample - loss: 182.4118 - reconstruction_loss: 91.5500 - KL_loss: 21.2661 - val_loss: 106.6765 - val_reconstruction_loss: 85.7278 - val_KL_loss: 20.9487 - lr: 0.0020\n",
      "Epoch 323/1000\n"
     ]
    },
    {
     "name": "stdout",
     "output_type": "stream",
     "text": [
      "\r",
      "412416/412416 [==============================] - ETA: 0s - loss: 181.9339 - reconstruction_loss: 91.0374 - KL_loss: 21.3880"
     ]
    },
    {
     "name": "stdout",
     "output_type": "stream",
     "text": [
      "\b\b\b\b\b\b\b\b\b\b\b\b\b\b\b\b\b\b\b\b\b\b\b\b\b\b\b\b\b\b\b\b\b\b\b\b\b\b\b\b\b\b\b\b\b\b\b\b\b\b\b\b\b\b\b\b\b\b\b\b\b\b\b\b\b\b\b\b\b\b\b\b\b\b\b\b\b\b\b\b\b\b\b\b\b\b\b\b\b\b\b\b\b\b\b\b\b\b\b\b\b\b\b\b\b\b\b\b\b\b\b\b\b\b\b\b\b\b\b\b\b\b\b\r",
      "412416/412416 [==============================] - 12s 28us/sample - loss: 181.9339 - reconstruction_loss: 91.0374 - KL_loss: 21.3880 - val_loss: 106.7747 - val_reconstruction_loss: 85.6432 - val_KL_loss: 21.1315 - lr: 0.0020\n",
      "Epoch 324/1000\n"
     ]
    },
    {
     "name": "stdout",
     "output_type": "stream",
     "text": [
      "\r",
      "412416/412416 [==============================] - ETA: 0s - loss: 181.8278 - reconstruction_loss: 90.9210 - KL_loss: 21.5641"
     ]
    },
    {
     "name": "stdout",
     "output_type": "stream",
     "text": [
      "\b\b\b\b\b\b\b\b\b\b\b\b\b\b\b\b\b\b\b\b\b\b\b\b\b\b\b\b\b\b\b\b\b\b\b\b\b\b\b\b\b\b\b\b\b\b\b\b\b\b\b\b\b\b\b\b\b\b\b\b\b\b\b\b\b\b\b\b\b\b\b\b\b\b\b\b\b\b\b\b\b\b\b\b\b\b\b\b\b\b\b\b\b\b\b\b\b\b\b\b\b\b\b\b\b\b\b\b\b\b\b\b\b\b\b\b\b\b\b\b\b\b\b\r",
      "412416/412416 [==============================] - 12s 28us/sample - loss: 181.8278 - reconstruction_loss: 90.9210 - KL_loss: 21.5641 - val_loss: 106.7303 - val_reconstruction_loss: 85.5924 - val_KL_loss: 21.1379 - lr: 0.0020\n",
      "Epoch 325/1000\n"
     ]
    },
    {
     "name": "stdout",
     "output_type": "stream",
     "text": [
      "\r",
      "412416/412416 [==============================] - ETA: 0s - loss: 181.7521 - reconstruction_loss: 90.8665 - KL_loss: 21.5776"
     ]
    },
    {
     "name": "stdout",
     "output_type": "stream",
     "text": [
      "\b\b\b\b\b\b\b\b\b\b\b\b\b\b\b\b\b\b\b\b\b\b\b\b\b\b\b\b\b\b\b\b\b\b\b\b\b\b\b\b\b\b\b\b\b\b\b\b\b\b\b\b\b\b\b\b\b\b\b\b\b\b\b\b\b\b\b\b\b\b\b\b\b\b\b\b\b\b\b\b\b\b\b\b\b\b\b\b\b\b\b\b\b\b\b\b\b\b\b\b\b\b\b\b\b\b\b\b\b\b\b\b\b\b\b\b\b\b\b\b\b\b\b\r",
      "412416/412416 [==============================] - 12s 28us/sample - loss: 181.7521 - reconstruction_loss: 90.8665 - KL_loss: 21.5776 - val_loss: 106.7700 - val_reconstruction_loss: 85.6957 - val_KL_loss: 21.0742 - lr: 0.0020\n",
      "Epoch 326/1000\n"
     ]
    },
    {
     "name": "stdout",
     "output_type": "stream",
     "text": [
      "\r",
      "412416/412416 [==============================] - ETA: 0s - loss: 181.6131 - reconstruction_loss: 90.9775 - KL_loss: 21.5124"
     ]
    },
    {
     "name": "stdout",
     "output_type": "stream",
     "text": [
      "\b\b\b\b\b\b\b\b\b\b\b\b\b\b\b\b\b\b\b\b\b\b\b\b\b\b\b\b\b\b\b\b\b\b\b\b\b\b\b\b\b\b\b\b\b\b\b\b\b\b\b\b\b\b\b\b\b\b\b\b\b\b\b\b\b\b\b\b\b\b\b\b\b\b\b\b\b\b\b\b\b\b\b\b\b\b\b\b\b\b\b\b\b\b\b\b\b\b\b\b\b\b\b\b\b\b\b\b\b\b\b\b\b\b\b\b\b\b\b\b\b\b\b\r",
      "412416/412416 [==============================] - 12s 28us/sample - loss: 181.6131 - reconstruction_loss: 90.9775 - KL_loss: 21.5124 - val_loss: 106.6583 - val_reconstruction_loss: 85.6719 - val_KL_loss: 20.9864 - lr: 0.0020\n",
      "Epoch 327/1000\n"
     ]
    },
    {
     "name": "stdout",
     "output_type": "stream",
     "text": [
      "\r",
      "412416/412416 [==============================] - ETA: 0s - loss: 181.4296 - reconstruction_loss: 90.9692 - KL_loss: 21.4197"
     ]
    },
    {
     "name": "stdout",
     "output_type": "stream",
     "text": [
      "\b\b\b\b\b\b\b\b\b\b\b\b\b\b\b\b\b\b\b\b\b\b\b\b\b\b\b\b\b\b\b\b\b\b\b\b\b\b\b\b\b\b\b\b\b\b\b\b\b\b\b\b\b\b\b\b\b\b\b\b\b\b\b\b\b\b\b\b\b\b\b\b\b\b\b\b\b\b\b\b\b\b\b\b\b\b\b\b\b\b\b\b\b\b\b\b\b\b\b\b\b\b\b\b\b\b\b\b\b\b\b\b\b\b\b\b\b\b\b\b\b\b\b\r",
      "412416/412416 [==============================] - 12s 29us/sample - loss: 181.4296 - reconstruction_loss: 90.9692 - KL_loss: 21.4197 - val_loss: 106.8090 - val_reconstruction_loss: 86.1047 - val_KL_loss: 20.7043 - lr: 0.0020\n",
      "Epoch 328/1000\n"
     ]
    },
    {
     "name": "stdout",
     "output_type": "stream",
     "text": [
      "\r",
      "412416/412416 [==============================] - ETA: 0s - loss: 181.6728 - reconstruction_loss: 91.4024 - KL_loss: 21.1410"
     ]
    },
    {
     "name": "stdout",
     "output_type": "stream",
     "text": [
      "\b\b\b\b\b\b\b\b\b\b\b\b\b\b\b\b\b\b\b\b\b\b\b\b\b\b\b\b\b\b\b\b\b\b\b\b\b\b\b\b\b\b\b\b\b\b\b\b\b\b\b\b\b\b\b\b\b\b\b\b\b\b\b\b\b\b\b\b\b\b\b\b\b\b\b\b\b\b\b\b\b\b\b\b\b\b\b\b\b\b\b\b\b\b\b\b\b\b\b\b\b\b\b\b\b\b\b\b\b\b\b\b\b\b\b\b\b\b\b\b\b\b\b\r",
      "412416/412416 [==============================] - 12s 28us/sample - loss: 181.6728 - reconstruction_loss: 91.4024 - KL_loss: 21.1410 - val_loss: 106.5972 - val_reconstruction_loss: 85.6995 - val_KL_loss: 20.8977 - lr: 0.0020\n",
      "Epoch 329/1000\n"
     ]
    },
    {
     "name": "stdout",
     "output_type": "stream",
     "text": [
      "\r",
      "412416/412416 [==============================] - ETA: 0s - loss: 181.1821 - reconstruction_loss: 90.9662 - KL_loss: 21.3333"
     ]
    },
    {
     "name": "stdout",
     "output_type": "stream",
     "text": [
      "\b\b\b\b\b\b\b\b\b\b\b\b\b\b\b\b\b\b\b\b\b\b\b\b\b\b\b\b\b\b\b\b\b\b\b\b\b\b\b\b\b\b\b\b\b\b\b\b\b\b\b\b\b\b\b\b\b\b\b\b\b\b\b\b\b\b\b\b\b\b\b\b\b\b\b\b\b\b\b\b\b\b\b\b\b\b\b\b\b\b\b\b\b\b\b\b\b\b\b\b\b\b\b\b\b\b\b\b\b\b\b\b\b\b\b\b\b\b\b\b\b\b\b\r",
      "412416/412416 [==============================] - 12s 28us/sample - loss: 181.1821 - reconstruction_loss: 90.9662 - KL_loss: 21.3333 - val_loss: 106.8670 - val_reconstruction_loss: 85.6602 - val_KL_loss: 21.2068 - lr: 0.0020\n",
      "Epoch 330/1000\n"
     ]
    },
    {
     "name": "stdout",
     "output_type": "stream",
     "text": [
      "\r",
      "412416/412416 [==============================] - ETA: 0s - loss: 181.5927 - reconstruction_loss: 90.9541 - KL_loss: 21.6397"
     ]
    },
    {
     "name": "stdout",
     "output_type": "stream",
     "text": [
      "\b\b\b\b\b\b\b\b\b\b\b\b\b\b\b\b\b\b\b\b\b\b\b\b\b\b\b\b\b\b\b\b\b\b\b\b\b\b\b\b\b\b\b\b\b\b\b\b\b\b\b\b\b\b\b\b\b\b\b\b\b\b\b\b\b\b\b\b\b\b\b\b\b\b\b\b\b\b\b\b\b\b\b\b\b\b\b\b\b\b\b\b\b\b\b\b\b\b\b\b\b\b\b\b\b\b\b\b\b\b\b\b\b\b\b\b\b\b\b\b\b\b\b\r",
      "412416/412416 [==============================] - 12s 28us/sample - loss: 181.5927 - reconstruction_loss: 90.9541 - KL_loss: 21.6397 - val_loss: 106.6451 - val_reconstruction_loss: 85.3877 - val_KL_loss: 21.2574 - lr: 0.0020\n",
      "Epoch 331/1000\n"
     ]
    },
    {
     "name": "stdout",
     "output_type": "stream",
     "text": [
      "\r",
      "412416/412416 [==============================] - ETA: 0s - loss: 181.0623 - reconstruction_loss: 90.6545 - KL_loss: 21.6874"
     ]
    },
    {
     "name": "stdout",
     "output_type": "stream",
     "text": [
      "\b\b\b\b\b\b\b\b\b\b\b\b\b\b\b\b\b\b\b\b\b\b\b\b\b\b\b\b\b\b\b\b\b\b\b\b\b\b\b\b\b\b\b\b\b\b\b\b\b\b\b\b\b\b\b\b\b\b\b\b\b\b\b\b\b\b\b\b\b\b\b\b\b\b\b\b\b\b\b\b\b\b\b\b\b\b\b\b\b\b\b\b\b\b\b\b\b\b\b\b\b\b\b\b\b\b\b\b\b\b\b\b\b\b\b\b\b\b\b\b\b\b\b\r",
      "412416/412416 [==============================] - 12s 28us/sample - loss: 181.0623 - reconstruction_loss: 90.6545 - KL_loss: 21.6874 - val_loss: 106.7388 - val_reconstruction_loss: 85.7544 - val_KL_loss: 20.9844 - lr: 0.0018\n",
      "Epoch 332/1000\n"
     ]
    },
    {
     "name": "stdout",
     "output_type": "stream",
     "text": [
      "\r",
      "412416/412416 [==============================] - ETA: 0s - loss: 181.0895 - reconstruction_loss: 91.0243 - KL_loss: 21.4225"
     ]
    },
    {
     "name": "stdout",
     "output_type": "stream",
     "text": [
      "\b\b\b\b\b\b\b\b\b\b\b\b\b\b\b\b\b\b\b\b\b\b\b\b\b\b\b\b\b\b\b\b\b\b\b\b\b\b\b\b\b\b\b\b\b\b\b\b\b\b\b\b\b\b\b\b\b\b\b\b\b\b\b\b\b\b\b\b\b\b\b\b\b\b\b\b\b\b\b\b\b\b\b\b\b\b\b\b\b\b\b\b\b\b\b\b\b\b\b\b\b\b\b\b\b\b\b\b\b\b\b\b\b\b\b\b\b\b\b\b\b\b\b\r",
      "412416/412416 [==============================] - 18s 45us/sample - loss: 181.0895 - reconstruction_loss: 91.0243 - KL_loss: 21.4225 - val_loss: 106.5648 - val_reconstruction_loss: 85.6150 - val_KL_loss: 20.9497 - lr: 0.0018\n",
      "Epoch 333/1000\n"
     ]
    },
    {
     "name": "stdout",
     "output_type": "stream",
     "text": [
      "\r",
      "412416/412416 [==============================] - ETA: 0s - loss: 180.8840 - reconstruction_loss: 90.9041 - KL_loss: 21.3807"
     ]
    },
    {
     "name": "stdout",
     "output_type": "stream",
     "text": [
      "\b\b\b\b\b\b\b\b\b\b\b\b\b\b\b\b\b\b\b\b\b\b\b\b\b\b\b\b\b\b\b\b\b\b\b\b\b\b\b\b\b\b\b\b\b\b\b\b\b\b\b\b\b\b\b\b\b\b\b\b\b\b\b\b\b\b\b\b\b\b\b\b\b\b\b\b\b\b\b\b\b\b\b\b\b\b\b\b\b\b\b\b\b\b\b\b\b\b\b\b\b\b\b\b\b\b\b\b\b\b\b\b\b\b\b\b\b\b\b\b\b\b\b\r",
      "412416/412416 [==============================] - 18s 43us/sample - loss: 180.8840 - reconstruction_loss: 90.9041 - KL_loss: 21.3807 - val_loss: 106.6366 - val_reconstruction_loss: 85.7033 - val_KL_loss: 20.9333 - lr: 0.0018\n",
      "Epoch 334/1000\n"
     ]
    },
    {
     "name": "stdout",
     "output_type": "stream",
     "text": [
      "\r",
      "412416/412416 [==============================] - ETA: 0s - loss: 180.9045 - reconstruction_loss: 90.9502 - KL_loss: 21.3693"
     ]
    },
    {
     "name": "stdout",
     "output_type": "stream",
     "text": [
      "\b\b\b\b\b\b\b\b\b\b\b\b\b\b\b\b\b\b\b\b\b\b\b\b\b\b\b\b\b\b\b\b\b\b\b\b\b\b\b\b\b\b\b\b\b\b\b\b\b\b\b\b\b\b\b\b\b\b\b\b\b\b\b\b\b\b\b\b\b\b\b\b\b\b\b\b\b\b\b\b\b\b\b\b\b\b\b\b\b\b\b\b\b\b\b\b\b\b\b\b\b\b\b\b\b\b\b\b\b\b\b\b\b\b\b\b\b\b\b\b\b\b\b\r",
      "412416/412416 [==============================] - 12s 29us/sample - loss: 180.9045 - reconstruction_loss: 90.9502 - KL_loss: 21.3693 - val_loss: 106.7563 - val_reconstruction_loss: 85.7597 - val_KL_loss: 20.9966 - lr: 0.0018\n",
      "Epoch 335/1000\n"
     ]
    },
    {
     "name": "stdout",
     "output_type": "stream",
     "text": [
      "\r",
      "412416/412416 [==============================] - ETA: 0s - loss: 180.9538 - reconstruction_loss: 91.0407 - KL_loss: 21.4269"
     ]
    },
    {
     "name": "stdout",
     "output_type": "stream",
     "text": [
      "\b\b\b\b\b\b\b\b\b\b\b\b\b\b\b\b\b\b\b\b\b\b\b\b\b\b\b\b\b\b\b\b\b\b\b\b\b\b\b\b\b\b\b\b\b\b\b\b\b\b\b\b\b\b\b\b\b\b\b\b\b\b\b\b\b\b\b\b\b\b\b\b\b\b\b\b\b\b\b\b\b\b\b\b\b\b\b\b\b\b\b\b\b\b\b\b\b\b\b\b\b\b\b\b\b\b\b\b\b\b\b\b\b\b\b\b\b\b\b\b\b\b\b\r",
      "412416/412416 [==============================] - 14s 35us/sample - loss: 180.9538 - reconstruction_loss: 91.0407 - KL_loss: 21.4269 - val_loss: 106.5701 - val_reconstruction_loss: 85.4034 - val_KL_loss: 21.1667 - lr: 0.0018\n",
      "Epoch 336/1000\n"
     ]
    },
    {
     "name": "stdout",
     "output_type": "stream",
     "text": [
      "\r",
      "412416/412416 [==============================] - ETA: 0s - loss: 180.7109 - reconstruction_loss: 90.6662 - KL_loss: 21.6005"
     ]
    },
    {
     "name": "stdout",
     "output_type": "stream",
     "text": [
      "\b\b\b\b\b\b\b\b\b\b\b\b\b\b\b\b\b\b\b\b\b\b\b\b\b\b\b\b\b\b\b\b\b\b\b\b\b\b\b\b\b\b\b\b\b\b\b\b\b\b\b\b\b\b\b\b\b\b\b\b\b\b\b\b\b\b\b\b\b\b\b\b\b\b\b\b\b\b\b\b\b\b\b\b\b\b\b\b\b\b\b\b\b\b\b\b\b\b\b\b\b\b\b\b\b\b\b\b\b\b\b\b\b\b\b\b\b\b\b\b\b\b\b\r",
      "412416/412416 [==============================] - 17s 40us/sample - loss: 180.7109 - reconstruction_loss: 90.6662 - KL_loss: 21.6005 - val_loss: 106.6963 - val_reconstruction_loss: 85.4391 - val_KL_loss: 21.2572 - lr: 0.0018\n",
      "Epoch 337/1000\n"
     ]
    },
    {
     "name": "stdout",
     "output_type": "stream",
     "text": [
      "\r",
      "412416/412416 [==============================] - ETA: 0s - loss: 180.7052 - reconstruction_loss: 90.6930 - KL_loss: 21.6875"
     ]
    },
    {
     "name": "stdout",
     "output_type": "stream",
     "text": [
      "\b\b\b\b\b\b\b\b\b\b\b\b\b\b\b\b\b\b\b\b\b\b\b\b\b\b\b\b\b\b\b\b\b\b\b\b\b\b\b\b\b\b\b\b\b\b\b\b\b\b\b\b\b\b\b\b\b\b\b\b\b\b\b\b\b\b\b\b\b\b\b\b\b\b\b\b\b\b\b\b\b\b\b\b\b\b\b\b\b\b\b\b\b\b\b\b\b\b\b\b\b\b\b\b\b\b\b\b\b\b\b\b\b\b\b\b\b\b\b\b\b\b\b\r",
      "412416/412416 [==============================] - 16s 40us/sample - loss: 180.7052 - reconstruction_loss: 90.6930 - KL_loss: 21.6875 - val_loss: 106.6396 - val_reconstruction_loss: 85.5016 - val_KL_loss: 21.1380 - lr: 0.0018\n",
      "Epoch 338/1000\n"
     ]
    },
    {
     "name": "stdout",
     "output_type": "stream",
     "text": [
      "\r",
      "412416/412416 [==============================] - ETA: 0s - loss: 180.4922 - reconstruction_loss: 90.7659 - KL_loss: 21.5736"
     ]
    },
    {
     "name": "stdout",
     "output_type": "stream",
     "text": [
      "\b\b\b\b\b\b\b\b\b\b\b\b\b\b\b\b\b\b\b\b\b\b\b\b\b\b\b\b\b\b\b\b\b\b\b\b\b\b\b\b\b\b\b\b\b\b\b\b\b\b\b\b\b\b\b\b\b\b\b\b\b\b\b\b\b\b\b\b\b\b\b\b\b\b\b\b\b\b\b\b\b\b\b\b\b\b\b\b\b\b\b\b\b\b\b\b\b\b\b\b\b\b\b\b\b\b\b\b\b\b\b\b\b\b\b\b\b\b\b\b\b\b\b\r",
      "412416/412416 [==============================] - 12s 28us/sample - loss: 180.4922 - reconstruction_loss: 90.7659 - KL_loss: 21.5736 - val_loss: 106.5754 - val_reconstruction_loss: 85.5836 - val_KL_loss: 20.9919 - lr: 0.0018\n",
      "Epoch 339/1000\n"
     ]
    },
    {
     "name": "stdout",
     "output_type": "stream",
     "text": [
      "\r",
      "412416/412416 [==============================] - ETA: 0s - loss: 180.4500 - reconstruction_loss: 90.8547 - KL_loss: 21.4224"
     ]
    },
    {
     "name": "stdout",
     "output_type": "stream",
     "text": [
      "\b\b\b\b\b\b\b\b\b\b\b\b\b\b\b\b\b\b\b\b\b\b\b\b\b\b\b\b\b\b\b\b\b\b\b\b\b\b\b\b\b\b\b\b\b\b\b\b\b\b\b\b\b\b\b\b\b\b\b\b\b\b\b\b\b\b\b\b\b\b\b\b\b\b\b\b\b\b\b\b\b\b\b\b\b\b\b\b\b\b\b\b\b\b\b\b\b\b\b\b\b\b\b\b\b\b\b\b\b\b\b\b\b\b\b\b\b\b\b\b\b\b\b\r",
      "412416/412416 [==============================] - 13s 30us/sample - loss: 180.4500 - reconstruction_loss: 90.8547 - KL_loss: 21.4224 - val_loss: 106.6661 - val_reconstruction_loss: 85.6766 - val_KL_loss: 20.9895 - lr: 0.0018\n",
      "Epoch 340/1000\n"
     ]
    },
    {
     "name": "stdout",
     "output_type": "stream",
     "text": [
      "\r",
      "412416/412416 [==============================] - ETA: 0s - loss: 180.5382 - reconstruction_loss: 90.9170 - KL_loss: 21.4217"
     ]
    },
    {
     "name": "stdout",
     "output_type": "stream",
     "text": [
      "\b\b\b\b\b\b\b\b\b\b\b\b\b\b\b\b\b\b\b\b\b\b\b\b\b\b\b\b\b\b\b\b\b\b\b\b\b\b\b\b\b\b\b\b\b\b\b\b\b\b\b\b\b\b\b\b\b\b\b\b\b\b\b\b\b\b\b\b\b\b\b\b\b\b\b\b\b\b\b\b\b\b\b\b\b\b\b\b\b\b\b\b\b\b\b\b\b\b\b\b\b\b\b\b\b\b\b\b\b\b\b\b\b\b\b\b\b\b\b\b\b\b\b\r",
      "412416/412416 [==============================] - 12s 28us/sample - loss: 180.5382 - reconstruction_loss: 90.9170 - KL_loss: 21.4217 - val_loss: 106.4965 - val_reconstruction_loss: 85.4067 - val_KL_loss: 21.0898 - lr: 0.0018\n",
      "Epoch 341/1000\n"
     ]
    },
    {
     "name": "stdout",
     "output_type": "stream",
     "text": [
      "\r",
      "412416/412416 [==============================] - ETA: 0s - loss: 180.1676 - reconstruction_loss: 90.6768 - KL_loss: 21.5195"
     ]
    },
    {
     "name": "stdout",
     "output_type": "stream",
     "text": [
      "\b\b\b\b\b\b\b\b\b\b\b\b\b\b\b\b\b\b\b\b\b\b\b\b\b\b\b\b\b\b\b\b\b\b\b\b\b\b\b\b\b\b\b\b\b\b\b\b\b\b\b\b\b\b\b\b\b\b\b\b\b\b\b\b\b\b\b\b\b\b\b\b\b\b\b\b\b\b\b\b\b\b\b\b\b\b\b\b\b\b\b\b\b\b\b\b\b\b\b\b\b\b\b\b\b\b\b\b\b\b\b\b\b\b\b\b\b\b\b\b\b\b\b\r",
      "412416/412416 [==============================] - 12s 28us/sample - loss: 180.1676 - reconstruction_loss: 90.6768 - KL_loss: 21.5195 - val_loss: 106.6363 - val_reconstruction_loss: 85.5443 - val_KL_loss: 21.0920 - lr: 0.0018\n",
      "Epoch 342/1000\n"
     ]
    },
    {
     "name": "stdout",
     "output_type": "stream",
     "text": [
      "\r",
      "412416/412416 [==============================] - ETA: 0s - loss: 180.2302 - reconstruction_loss: 90.7612 - KL_loss: 21.5301"
     ]
    },
    {
     "name": "stdout",
     "output_type": "stream",
     "text": [
      "\b\b\b\b\b\b\b\b\b\b\b\b\b\b\b\b\b\b\b\b\b\b\b\b\b\b\b\b\b\b\b\b\b\b\b\b\b\b\b\b\b\b\b\b\b\b\b\b\b\b\b\b\b\b\b\b\b\b\b\b\b\b\b\b\b\b\b\b\b\b\b\b\b\b\b\b\b\b\b\b\b\b\b\b\b\b\b\b\b\b\b\b\b\b\b\b\b\b\b\b\b\b\b\b\b\b\b\b\b\b\b\b\b\b\b\b\b\b\b\b\b\b\b\r",
      "412416/412416 [==============================] - 12s 29us/sample - loss: 180.2302 - reconstruction_loss: 90.7612 - KL_loss: 21.5301 - val_loss: 106.6602 - val_reconstruction_loss: 85.3845 - val_KL_loss: 21.2757 - lr: 0.0018\n",
      "Epoch 343/1000\n"
     ]
    },
    {
     "name": "stdout",
     "output_type": "stream",
     "text": [
      "\r",
      "412416/412416 [==============================] - ETA: 0s - loss: 180.2415 - reconstruction_loss: 90.6357 - KL_loss: 21.7045"
     ]
    },
    {
     "name": "stdout",
     "output_type": "stream",
     "text": [
      "\b\b\b\b\b\b\b\b\b\b\b\b\b\b\b\b\b\b\b\b\b\b\b\b\b\b\b\b\b\b\b\b\b\b\b\b\b\b\b\b\b\b\b\b\b\b\b\b\b\b\b\b\b\b\b\b\b\b\b\b\b\b\b\b\b\b\b\b\b\b\b\b\b\b\b\b\b\b\b\b\b\b\b\b\b\b\b\b\b\b\b\b\b\b\b\b\b\b\b\b\b\b\b\b\b\b\b\b\b\b\b\b\b\b\b\b\b\b\b\b\b\b\b\r",
      "412416/412416 [==============================] - 11s 28us/sample - loss: 180.2415 - reconstruction_loss: 90.6357 - KL_loss: 21.7045 - val_loss: 106.5613 - val_reconstruction_loss: 85.3324 - val_KL_loss: 21.2290 - lr: 0.0018\n",
      "Epoch 344/1000\n"
     ]
    },
    {
     "name": "stdout",
     "output_type": "stream",
     "text": [
      "\r",
      "412416/412416 [==============================] - ETA: 0s - loss: 179.9517 - reconstruction_loss: 90.5387 - KL_loss: 21.6626"
     ]
    },
    {
     "name": "stdout",
     "output_type": "stream",
     "text": [
      "\b\b\b\b\b\b\b\b\b\b\b\b\b\b\b\b\b\b\b\b\b\b\b\b\b\b\b\b\b\b\b\b\b\b\b\b\b\b\b\b\b\b\b\b\b\b\b\b\b\b\b\b\b\b\b\b\b\b\b\b\b\b\b\b\b\b\b\b\b\b\b\b\b\b\b\b\b\b\b\b\b\b\b\b\b\b\b\b\b\b\b\b\b\b\b\b\b\b\b\b\b\b\b\b\b\b\b\b\b\b\b\b\b\b\b\b\b\b\b\b\b\b\b\r",
      "412416/412416 [==============================] - 11s 28us/sample - loss: 179.9517 - reconstruction_loss: 90.5387 - KL_loss: 21.6626 - val_loss: 106.6940 - val_reconstruction_loss: 85.6197 - val_KL_loss: 21.0743 - lr: 0.0018\n",
      "Epoch 345/1000\n"
     ]
    },
    {
     "name": "stdout",
     "output_type": "stream",
     "text": [
      "\r",
      "412416/412416 [==============================] - ETA: 0s - loss: 180.2495 - reconstruction_loss: 90.8633 - KL_loss: 21.5036"
     ]
    },
    {
     "name": "stdout",
     "output_type": "stream",
     "text": [
      "\b\b\b\b\b\b\b\b\b\b\b\b\b\b\b\b\b\b\b\b\b\b\b\b\b\b\b\b\b\b\b\b\b\b\b\b\b\b\b\b\b\b\b\b\b\b\b\b\b\b\b\b\b\b\b\b\b\b\b\b\b\b\b\b\b\b\b\b\b\b\b\b\b\b\b\b\b\b\b\b\b\b\b\b\b\b\b\b\b\b\b\b\b\b\b\b\b\b\b\b\b\b\b\b\b\b\b\b\b\b\b\b\b\b\b\b\b\b\b\b\b\b\b\r",
      "412416/412416 [==============================] - 11s 27us/sample - loss: 180.2495 - reconstruction_loss: 90.8633 - KL_loss: 21.5036 - val_loss: 106.4981 - val_reconstruction_loss: 85.4722 - val_KL_loss: 21.0259 - lr: 0.0018\n",
      "Epoch 346/1000\n"
     ]
    },
    {
     "name": "stdout",
     "output_type": "stream",
     "text": [
      "\r",
      "412416/412416 [==============================] - ETA: 0s - loss: 179.7951 - reconstruction_loss: 90.7337 - KL_loss: 21.4571"
     ]
    },
    {
     "name": "stdout",
     "output_type": "stream",
     "text": [
      "\b\b\b\b\b\b\b\b\b\b\b\b\b\b\b\b\b\b\b\b\b\b\b\b\b\b\b\b\b\b\b\b\b\b\b\b\b\b\b\b\b\b\b\b\b\b\b\b\b\b\b\b\b\b\b\b\b\b\b\b\b\b\b\b\b\b\b\b\b\b\b\b\b\b\b\b\b\b\b\b\b\b\b\b\b\b\b\b\b\b\b\b\b\b\b\b\b\b\b\b\b\b\b\b\b\b\b\b\b\b\b\b\b\b\b\b\b\b\b\b\b\b\b\r",
      "412416/412416 [==============================] - 13s 31us/sample - loss: 179.7951 - reconstruction_loss: 90.7337 - KL_loss: 21.4571 - val_loss: 106.7416 - val_reconstruction_loss: 85.5911 - val_KL_loss: 21.1505 - lr: 0.0018\n",
      "Epoch 347/1000\n"
     ]
    },
    {
     "name": "stdout",
     "output_type": "stream",
     "text": [
      "\r",
      "412416/412416 [==============================] - ETA: 0s - loss: 180.0945 - reconstruction_loss: 90.8424 - KL_loss: 21.5788"
     ]
    },
    {
     "name": "stdout",
     "output_type": "stream",
     "text": [
      "\b\b\b\b\b\b\b\b\b\b\b\b\b\b\b\b\b\b\b\b\b\b\b\b\b\b\b\b\b\b\b\b\b\b\b\b\b\b\b\b\b\b\b\b\b\b\b\b\b\b\b\b\b\b\b\b\b\b\b\b\b\b\b\b\b\b\b\b\b\b\b\b\b\b\b\b\b\b\b\b\b\b\b\b\b\b\b\b\b\b\b\b\b\b\b\b\b\b\b\b\b\b\b\b\b\b\b\b\b\b\b\b\b\b\b\b\b\b\b\b\b\b\b\r",
      "412416/412416 [==============================] - 11s 27us/sample - loss: 180.0945 - reconstruction_loss: 90.8424 - KL_loss: 21.5788 - val_loss: 106.5030 - val_reconstruction_loss: 85.4023 - val_KL_loss: 21.1007 - lr: 0.0018\n",
      "Epoch 348/1000\n"
     ]
    },
    {
     "name": "stdout",
     "output_type": "stream",
     "text": [
      "\r",
      "412416/412416 [==============================] - ETA: 0s - loss: 179.7851 - reconstruction_loss: 90.6501 - KL_loss: 21.5358"
     ]
    },
    {
     "name": "stdout",
     "output_type": "stream",
     "text": [
      "\b\b\b\b\b\b\b\b\b\b\b\b\b\b\b\b\b\b\b\b\b\b\b\b\b\b\b\b\b\b\b\b\b\b\b\b\b\b\b\b\b\b\b\b\b\b\b\b\b\b\b\b\b\b\b\b\b\b\b\b\b\b\b\b\b\b\b\b\b\b\b\b\b\b\b\b\b\b\b\b\b\b\b\b\b\b\b\b\b\b\b\b\b\b\b\b\b\b\b\b\b\b\b\b\b\b\b\b\b\b\b\b\b\b\b\b\b\b\b\b\b\b\b\r",
      "412416/412416 [==============================] - 11s 28us/sample - loss: 179.7851 - reconstruction_loss: 90.6501 - KL_loss: 21.5358 - val_loss: 106.5556 - val_reconstruction_loss: 85.3318 - val_KL_loss: 21.2238 - lr: 0.0018\n",
      "Epoch 349/1000\n"
     ]
    },
    {
     "name": "stdout",
     "output_type": "stream",
     "text": [
      "\r",
      "412416/412416 [==============================] - ETA: 0s - loss: 179.6834 - reconstruction_loss: 90.5811 - KL_loss: 21.6531"
     ]
    },
    {
     "name": "stdout",
     "output_type": "stream",
     "text": [
      "\b\b\b\b\b\b\b\b\b\b\b\b\b\b\b\b\b\b\b\b\b\b\b\b\b\b\b\b\b\b\b\b\b\b\b\b\b\b\b\b\b\b\b\b\b\b\b\b\b\b\b\b\b\b\b\b\b\b\b\b\b\b\b\b\b\b\b\b\b\b\b\b\b\b\b\b\b\b\b\b\b\b\b\b\b\b\b\b\b\b\b\b\b\b\b\b\b\b\b\b\b\b\b\b\b\b\b\b\b\b\b\b\b\b\b\b\b\b\b\b\b\b\b\r",
      "412416/412416 [==============================] - 11s 28us/sample - loss: 179.6834 - reconstruction_loss: 90.5811 - KL_loss: 21.6531 - val_loss: 106.7810 - val_reconstruction_loss: 85.4833 - val_KL_loss: 21.2977 - lr: 0.0018\n",
      "Epoch 350/1000\n"
     ]
    },
    {
     "name": "stdout",
     "output_type": "stream",
     "text": [
      "\r",
      "412416/412416 [==============================] - ETA: 0s - loss: 179.9367 - reconstruction_loss: 90.7819 - KL_loss: 21.7238"
     ]
    },
    {
     "name": "stdout",
     "output_type": "stream",
     "text": [
      "\b\b\b\b\b\b\b\b\b\b\b\b\b\b\b\b\b\b\b\b\b\b\b\b\b\b\b\b\b\b\b\b\b\b\b\b\b\b\b\b\b\b\b\b\b\b\b\b\b\b\b\b\b\b\b\b\b\b\b\b\b\b\b\b\b\b\b\b\b\b\b\b\b\b\b\b\b\b\b\b\b\b\b\b\b\b\b\b\b\b\b\b\b\b\b\b\b\b\b\b\b\b\b\b\b\b\b\b\b\b\b\b\b\b\b\b\b\b\b\b\b\b\b\r",
      "412416/412416 [==============================] - 11s 28us/sample - loss: 179.9367 - reconstruction_loss: 90.7819 - KL_loss: 21.7238 - val_loss: 106.4700 - val_reconstruction_loss: 85.2128 - val_KL_loss: 21.2572 - lr: 0.0018\n",
      "Epoch 351/1000\n"
     ]
    },
    {
     "name": "stdout",
     "output_type": "stream",
     "text": [
      "\r",
      "412416/412416 [==============================] - ETA: 0s - loss: 179.4911 - reconstruction_loss: 90.4362 - KL_loss: 21.6876"
     ]
    },
    {
     "name": "stdout",
     "output_type": "stream",
     "text": [
      "\b\b\b\b\b\b\b\b\b\b\b\b\b\b\b\b\b\b\b\b\b\b\b\b\b\b\b\b\b\b\b\b\b\b\b\b\b\b\b\b\b\b\b\b\b\b\b\b\b\b\b\b\b\b\b\b\b\b\b\b\b\b\b\b\b\b\b\b\b\b\b\b\b\b\b\b\b\b\b\b\b\b\b\b\b\b\b\b\b\b\b\b\b\b\b\b\b\b\b\b\b\b\b\b\b\b\b\b\b\b\b\b\b\b\b\b\b\b\b\b\b\b\b\r",
      "412416/412416 [==============================] - 11s 27us/sample - loss: 179.4911 - reconstruction_loss: 90.4362 - KL_loss: 21.6876 - val_loss: 106.6230 - val_reconstruction_loss: 85.5360 - val_KL_loss: 21.0869 - lr: 0.0018\n",
      "Epoch 352/1000\n"
     ]
    },
    {
     "name": "stdout",
     "output_type": "stream",
     "text": [
      "\r",
      "412416/412416 [==============================] - ETA: 0s - loss: 179.7481 - reconstruction_loss: 90.8079 - KL_loss: 21.5189"
     ]
    },
    {
     "name": "stdout",
     "output_type": "stream",
     "text": [
      "\b\b\b\b\b\b\b\b\b\b\b\b\b\b\b\b\b\b\b\b\b\b\b\b\b\b\b\b\b\b\b\b\b\b\b\b\b\b\b\b\b\b\b\b\b\b\b\b\b\b\b\b\b\b\b\b\b\b\b\b\b\b\b\b\b\b\b\b\b\b\b\b\b\b\b\b\b\b\b\b\b\b\b\b\b\b\b\b\b\b\b\b\b\b\b\b\b\b\b\b\b\b\b\b\b\b\b\b\b\b\b\b\b\b\b\b\b\b\b\b\b\b\b\r",
      "412416/412416 [==============================] - 11s 27us/sample - loss: 179.7481 - reconstruction_loss: 90.8079 - KL_loss: 21.5189 - val_loss: 106.5055 - val_reconstruction_loss: 85.3741 - val_KL_loss: 21.1315 - lr: 0.0018\n",
      "Epoch 353/1000\n"
     ]
    },
    {
     "name": "stdout",
     "output_type": "stream",
     "text": [
      "\r",
      "412416/412416 [==============================] - ETA: 0s - loss: 179.4902 - reconstruction_loss: 90.6217 - KL_loss: 21.5629"
     ]
    },
    {
     "name": "stdout",
     "output_type": "stream",
     "text": [
      "\b\b\b\b\b\b\b\b\b\b\b\b\b\b\b\b\b\b\b\b\b\b\b\b\b\b\b\b\b\b\b\b\b\b\b\b\b\b\b\b\b\b\b\b\b\b\b\b\b\b\b\b\b\b\b\b\b\b\b\b\b\b\b\b\b\b\b\b\b\b\b\b\b\b\b\b\b\b\b\b\b\b\b\b\b\b\b\b\b\b\b\b\b\b\b\b\b\b\b\b\b\b\b\b\b\b\b\b\b\b\b\b\b\b\b\b\b\b\b\b\b\b\b\r",
      "412416/412416 [==============================] - 11s 27us/sample - loss: 179.4902 - reconstruction_loss: 90.6217 - KL_loss: 21.5629 - val_loss: 106.5756 - val_reconstruction_loss: 85.3312 - val_KL_loss: 21.2443 - lr: 0.0018\n",
      "Epoch 354/1000\n"
     ]
    },
    {
     "name": "stdout",
     "output_type": "stream",
     "text": [
      "\r",
      "412416/412416 [==============================] - ETA: 0s - loss: 179.4743 - reconstruction_loss: 90.5785 - KL_loss: 21.6730"
     ]
    },
    {
     "name": "stdout",
     "output_type": "stream",
     "text": [
      "\b\b\b\b\b\b\b\b\b\b\b\b\b\b\b\b\b\b\b\b\b\b\b\b\b\b\b\b\b\b\b\b\b\b\b\b\b\b\b\b\b\b\b\b\b\b\b\b\b\b\b\b\b\b\b\b\b\b\b\b\b\b\b\b\b\b\b\b\b\b\b\b\b\b\b\b\b\b\b\b\b\b\b\b\b\b\b\b\b\b\b\b\b\b\b\b\b\b\b\b\b\b\b\b\b\b\b\b\b\b\b\b\b\b\b\b\b\b\b\b\b\b\b\r",
      "412416/412416 [==============================] - 14s 35us/sample - loss: 179.4743 - reconstruction_loss: 90.5785 - KL_loss: 21.6730 - val_loss: 106.7172 - val_reconstruction_loss: 85.3717 - val_KL_loss: 21.3455 - lr: 0.0018\n",
      "Epoch 355/1000\n"
     ]
    },
    {
     "name": "stdout",
     "output_type": "stream",
     "text": [
      "\r",
      "412416/412416 [==============================] - ETA: 0s - loss: 179.4705 - reconstruction_loss: 90.6028 - KL_loss: 21.7781"
     ]
    },
    {
     "name": "stdout",
     "output_type": "stream",
     "text": [
      "\b\b\b\b\b\b\b\b\b\b\b\b\b\b\b\b\b\b\b\b\b\b\b\b\b\b\b\b\b\b\b\b\b\b\b\b\b\b\b\b\b\b\b\b\b\b\b\b\b\b\b\b\b\b\b\b\b\b\b\b\b\b\b\b\b\b\b\b\b\b\b\b\b\b\b\b\b\b\b\b\b\b\b\b\b\b\b\b\b\b\b\b\b\b\b\b\b\b\b\b\b\b\b\b\b\b\b\b\b\b\b\b\b\b\b\b\b\b\b\b\b\b\b\r",
      "412416/412416 [==============================] - 12s 29us/sample - loss: 179.4705 - reconstruction_loss: 90.6028 - KL_loss: 21.7781 - val_loss: 106.6266 - val_reconstruction_loss: 85.2866 - val_KL_loss: 21.3400 - lr: 0.0018\n",
      "Epoch 356/1000\n"
     ]
    },
    {
     "name": "stdout",
     "output_type": "stream",
     "text": [
      "\r",
      "412416/412416 [==============================] - ETA: 0s - loss: 179.3354 - reconstruction_loss: 90.5289 - KL_loss: 21.7676"
     ]
    },
    {
     "name": "stdout",
     "output_type": "stream",
     "text": [
      "\b\b\b\b\b\b\b\b\b\b\b\b\b\b\b\b\b\b\b\b\b\b\b\b\b\b\b\b\b\b\b\b\b\b\b\b\b\b\b\b\b\b\b\b\b\b\b\b\b\b\b\b\b\b\b\b\b\b\b\b\b\b\b\b\b\b\b\b\b\b\b\b\b\b\b\b\b\b\b\b\b\b\b\b\b\b\b\b\b\b\b\b\b\b\b\b\b\b\b\b\b\b\b\b\b\b\b\b\b\b\b\b\b\b\b\b\b\b\b\b\b\b\b\r",
      "412416/412416 [==============================] - 11s 28us/sample - loss: 179.3354 - reconstruction_loss: 90.5289 - KL_loss: 21.7676 - val_loss: 106.4932 - val_reconstruction_loss: 85.4008 - val_KL_loss: 21.0923 - lr: 0.0018\n",
      "Epoch 357/1000\n"
     ]
    },
    {
     "name": "stdout",
     "output_type": "stream",
     "text": [
      "\r",
      "412416/412416 [==============================] - ETA: 0s - loss: 179.0340 - reconstruction_loss: 90.6145 - KL_loss: 21.5254"
     ]
    },
    {
     "name": "stdout",
     "output_type": "stream",
     "text": [
      "\b\b\b\b\b\b\b\b\b\b\b\b\b\b\b\b\b\b\b\b\b\b\b\b\b\b\b\b\b\b\b\b\b\b\b\b\b\b\b\b\b\b\b\b\b\b\b\b\b\b\b\b\b\b\b\b\b\b\b\b\b\b\b\b\b\b\b\b\b\b\b\b\b\b\b\b\b\b\b\b\b\b\b\b\b\b\b\b\b\b\b\b\b\b\b\b\b\b\b\b\b\b\b\b\b\b\b\b\b\b\b\b\b\b\b\b\b\b\b\b\b\b\b\r",
      "412416/412416 [==============================] - 11s 28us/sample - loss: 179.0340 - reconstruction_loss: 90.6145 - KL_loss: 21.5254 - val_loss: 106.8489 - val_reconstruction_loss: 85.8108 - val_KL_loss: 21.0381 - lr: 0.0018\n",
      "Epoch 358/1000\n"
     ]
    },
    {
     "name": "stdout",
     "output_type": "stream",
     "text": [
      "\r",
      "412416/412416 [==============================] - ETA: 0s - loss: 179.6522 - reconstruction_loss: 91.0342 - KL_loss: 21.4670"
     ]
    },
    {
     "name": "stdout",
     "output_type": "stream",
     "text": [
      "\b\b\b\b\b\b\b\b\b\b\b\b\b\b\b\b\b\b\b\b\b\b\b\b\b\b\b\b\b\b\b\b\b\b\b\b\b\b\b\b\b\b\b\b\b\b\b\b\b\b\b\b\b\b\b\b\b\b\b\b\b\b\b\b\b\b\b\b\b\b\b\b\b\b\b\b\b\b\b\b\b\b\b\b\b\b\b\b\b\b\b\b\b\b\b\b\b\b\b\b\b\b\b\b\b\b\b\b\b\b\b\b\b\b\b\b\b\b\b\b\b\b\b\r",
      "412416/412416 [==============================] - 11s 27us/sample - loss: 179.6522 - reconstruction_loss: 91.0342 - KL_loss: 21.4670 - val_loss: 106.4921 - val_reconstruction_loss: 85.4539 - val_KL_loss: 21.0383 - lr: 0.0018\n",
      "Epoch 359/1000\n"
     ]
    },
    {
     "name": "stdout",
     "output_type": "stream",
     "text": [
      "\r",
      "412416/412416 [==============================] - ETA: 0s - loss: 178.9938 - reconstruction_loss: 90.6844 - KL_loss: 21.4683"
     ]
    },
    {
     "name": "stdout",
     "output_type": "stream",
     "text": [
      "\b\b\b\b\b\b\b\b\b\b\b\b\b\b\b\b\b\b\b\b\b\b\b\b\b\b\b\b\b\b\b\b\b\b\b\b\b\b\b\b\b\b\b\b\b\b\b\b\b\b\b\b\b\b\b\b\b\b\b\b\b\b\b\b\b\b\b\b\b\b\b\b\b\b\b\b\b\b\b\b\b\b\b\b\b\b\b\b\b\b\b\b\b\b\b\b\b\b\b\b\b\b\b\b\b\b\b\b\b\b\b\b\b\b\b\b\b\b\b\b\b\b\b\r",
      "412416/412416 [==============================] - 11s 27us/sample - loss: 178.9938 - reconstruction_loss: 90.6844 - KL_loss: 21.4683 - val_loss: 106.8075 - val_reconstruction_loss: 85.4829 - val_KL_loss: 21.3246 - lr: 0.0018\n",
      "Epoch 360/1000\n"
     ]
    },
    {
     "name": "stdout",
     "output_type": "stream",
     "text": [
      "\r",
      "412416/412416 [==============================] - ETA: 0s - loss: 179.7038 - reconstruction_loss: 90.7289 - KL_loss: 21.7494"
     ]
    },
    {
     "name": "stdout",
     "output_type": "stream",
     "text": [
      "\b\b\b\b\b\b\b\b\b\b\b\b\b\b\b\b\b\b\b\b\b\b\b\b\b\b\b\b\b\b\b\b\b\b\b\b\b\b\b\b\b\b\b\b\b\b\b\b\b\b\b\b\b\b\b\b\b\b\b\b\b\b\b\b\b\b\b\b\b\b\b\b\b\b\b\b\b\b\b\b\b\b\b\b\b\b\b\b\b\b\b\b\b\b\b\b\b\b\b\b\b\b\b\b\b\b\b\b\b\b\b\b\b\b\b\b\b\b\b\b\b\b\b\r",
      "412416/412416 [==============================] - 11s 28us/sample - loss: 179.7038 - reconstruction_loss: 90.7289 - KL_loss: 21.7494 - val_loss: 106.6727 - val_reconstruction_loss: 85.2568 - val_KL_loss: 21.4159 - lr: 0.0018\n",
      "Epoch 361/1000\n"
     ]
    },
    {
     "name": "stdout",
     "output_type": "stream",
     "text": [
      "\r",
      "412416/412416 [==============================] - ETA: 0s - loss: 179.4113 - reconstruction_loss: 90.5004 - KL_loss: 21.8412"
     ]
    },
    {
     "name": "stdout",
     "output_type": "stream",
     "text": [
      "\b\b\b\b\b\b\b\b\b\b\b\b\b\b\b\b\b\b\b\b\b\b\b\b\b\b\b\b\b\b\b\b\b\b\b\b\b\b\b\b\b\b\b\b\b\b\b\b\b\b\b\b\b\b\b\b\b\b\b\b\b\b\b\b\b\b\b\b\b\b\b\b\b\b\b\b\b\b\b\b\b\b\b\b\b\b\b\b\b\b\b\b\b\b\b\b\b\b\b\b\b\b\b\b\b\b\b\b\b\b\b\b\b\b\b\b\b\b\b\b\b\b\b\r",
      "412416/412416 [==============================] - 11s 28us/sample - loss: 179.4113 - reconstruction_loss: 90.5004 - KL_loss: 21.8412 - val_loss: 106.6198 - val_reconstruction_loss: 85.4069 - val_KL_loss: 21.2129 - lr: 0.0016\n",
      "Epoch 362/1000\n"
     ]
    },
    {
     "name": "stdout",
     "output_type": "stream",
     "text": [
      "\r",
      "412416/412416 [==============================] - ETA: 0s - loss: 179.0257 - reconstruction_loss: 90.6145 - KL_loss: 21.6433"
     ]
    },
    {
     "name": "stdout",
     "output_type": "stream",
     "text": [
      "\b\b\b\b\b\b\b\b\b\b\b\b\b\b\b\b\b\b\b\b\b\b\b\b\b\b\b\b\b\b\b\b\b\b\b\b\b\b\b\b\b\b\b\b\b\b\b\b\b\b\b\b\b\b\b\b\b\b\b\b\b\b\b\b\b\b\b\b\b\b\b\b\b\b\b\b\b\b\b\b\b\b\b\b\b\b\b\b\b\b\b\b\b\b\b\b\b\b\b\b\b\b\b\b\b\b\b\b\b\b\b\b\b\b\b\b\b\b\b\b\b\b\b\r",
      "412416/412416 [==============================] - 12s 28us/sample - loss: 179.0257 - reconstruction_loss: 90.6145 - KL_loss: 21.6433 - val_loss: 106.5321 - val_reconstruction_loss: 85.3870 - val_KL_loss: 21.1451 - lr: 0.0016\n",
      "Epoch 363/1000\n"
     ]
    },
    {
     "name": "stdout",
     "output_type": "stream",
     "text": [
      "\r",
      "412416/412416 [==============================] - ETA: 0s - loss: 178.9267 - reconstruction_loss: 90.6444 - KL_loss: 21.5740"
     ]
    },
    {
     "name": "stdout",
     "output_type": "stream",
     "text": [
      "\b\b\b\b\b\b\b\b\b\b\b\b\b\b\b\b\b\b\b\b\b\b\b\b\b\b\b\b\b\b\b\b\b\b\b\b\b\b\b\b\b\b\b\b\b\b\b\b\b\b\b\b\b\b\b\b\b\b\b\b\b\b\b\b\b\b\b\b\b\b\b\b\b\b\b\b\b\b\b\b\b\b\b\b\b\b\b\b\b\b\b\b\b\b\b\b\b\b\b\b\b\b\b\b\b\b\b\b\b\b\b\b\b\b\b\b\b\b\b\b\b\b\b\r",
      "412416/412416 [==============================] - 11s 28us/sample - loss: 178.9267 - reconstruction_loss: 90.6444 - KL_loss: 21.5740 - val_loss: 106.5457 - val_reconstruction_loss: 85.3534 - val_KL_loss: 21.1923 - lr: 0.0016\n",
      "Epoch 364/1000\n"
     ]
    },
    {
     "name": "stdout",
     "output_type": "stream",
     "text": [
      "\r",
      "412416/412416 [==============================] - ETA: 0s - loss: 178.7447 - reconstruction_loss: 90.6095 - KL_loss: 21.6170"
     ]
    },
    {
     "name": "stdout",
     "output_type": "stream",
     "text": [
      "\b\b\b\b\b\b\b\b\b\b\b\b\b\b\b\b\b\b\b\b\b\b\b\b\b\b\b\b\b\b\b\b\b\b\b\b\b\b\b\b\b\b\b\b\b\b\b\b\b\b\b\b\b\b\b\b\b\b\b\b\b\b\b\b\b\b\b\b\b\b\b\b\b\b\b\b\b\b\b\b\b\b\b\b\b\b\b\b\b\b\b\b\b\b\b\b\b\b\b\b\b\b\b\b\b\b\b\b\b\b\b\b\b\b\b\b\b\b\b\b\b\b\b\r",
      "412416/412416 [==============================] - 11s 27us/sample - loss: 178.7447 - reconstruction_loss: 90.6095 - KL_loss: 21.6170 - val_loss: 106.6278 - val_reconstruction_loss: 85.2988 - val_KL_loss: 21.3290 - lr: 0.0016\n",
      "Epoch 365/1000\n"
     ]
    },
    {
     "name": "stdout",
     "output_type": "stream",
     "text": [
      "\r",
      "412416/412416 [==============================] - ETA: 0s - loss: 178.8513 - reconstruction_loss: 90.5401 - KL_loss: 21.7540"
     ]
    },
    {
     "name": "stdout",
     "output_type": "stream",
     "text": [
      "\b\b\b\b\b\b\b\b\b\b\b\b\b\b\b\b\b\b\b\b\b\b\b\b\b\b\b\b\b\b\b\b\b\b\b\b\b\b\b\b\b\b\b\b\b\b\b\b\b\b\b\b\b\b\b\b\b\b\b\b\b\b\b\b\b\b\b\b\b\b\b\b\b\b\b\b\b\b\b\b\b\b\b\b\b\b\b\b\b\b\b\b\b\b\b\b\b\b\b\b\b\b\b\b\b\b\b\b\b\b\b\b\b\b\b\b\b\b\b\b\b\b\b\r",
      "412416/412416 [==============================] - 11s 28us/sample - loss: 178.8513 - reconstruction_loss: 90.5401 - KL_loss: 21.7540 - val_loss: 106.4695 - val_reconstruction_loss: 85.0737 - val_KL_loss: 21.3958 - lr: 0.0016\n",
      "Epoch 366/1000\n"
     ]
    },
    {
     "name": "stdout",
     "output_type": "stream",
     "text": [
      "\r",
      "412416/412416 [==============================] - ETA: 0s - loss: 178.5428 - reconstruction_loss: 90.3042 - KL_loss: 21.8189"
     ]
    },
    {
     "name": "stdout",
     "output_type": "stream",
     "text": [
      "\b\b\b\b\b\b\b\b\b\b\b\b\b\b\b\b\b\b\b\b\b\b\b\b\b\b\b\b\b\b\b\b\b\b\b\b\b\b\b\b\b\b\b\b\b\b\b\b\b\b\b\b\b\b\b\b\b\b\b\b\b\b\b\b\b\b\b\b\b\b\b\b\b\b\b\b\b\b\b\b\b\b\b\b\b\b\b\b\b\b\b\b\b\b\b\b\b\b\b\b\b\b\b\b\b\b\b\b\b\b\b\b\b\b\b\b\b\b\b\b\b\b\b\r",
      "412416/412416 [==============================] - 11s 27us/sample - loss: 178.5428 - reconstruction_loss: 90.3042 - KL_loss: 21.8189 - val_loss: 106.6700 - val_reconstruction_loss: 85.4342 - val_KL_loss: 21.2357 - lr: 0.0016\n",
      "Epoch 367/1000\n"
     ]
    },
    {
     "name": "stdout",
     "output_type": "stream",
     "text": [
      "\r",
      "412416/412416 [==============================] - ETA: 0s - loss: 178.8397 - reconstruction_loss: 90.6393 - KL_loss: 21.6621"
     ]
    },
    {
     "name": "stdout",
     "output_type": "stream",
     "text": [
      "\b\b\b\b\b\b\b\b\b\b\b\b\b\b\b\b\b\b\b\b\b\b\b\b\b\b\b\b\b\b\b\b\b\b\b\b\b\b\b\b\b\b\b\b\b\b\b\b\b\b\b\b\b\b\b\b\b\b\b\b\b\b\b\b\b\b\b\b\b\b\b\b\b\b\b\b\b\b\b\b\b\b\b\b\b\b\b\b\b\b\b\b\b\b\b\b\b\b\b\b\b\b\b\b\b\b\b\b\b\b\b\b\b\b\b\b\b\b\b\b\b\b\b\r",
      "412416/412416 [==============================] - 12s 30us/sample - loss: 178.8397 - reconstruction_loss: 90.6393 - KL_loss: 21.6621 - val_loss: 106.4425 - val_reconstruction_loss: 85.2491 - val_KL_loss: 21.1934 - lr: 0.0016\n",
      "Epoch 368/1000\n"
     ]
    },
    {
     "name": "stdout",
     "output_type": "stream",
     "text": [
      "\r",
      "412416/412416 [==============================] - ETA: 0s - loss: 178.4826 - reconstruction_loss: 90.4683 - KL_loss: 21.6169"
     ]
    },
    {
     "name": "stdout",
     "output_type": "stream",
     "text": [
      "\b\b\b\b\b\b\b\b\b\b\b\b\b\b\b\b\b\b\b\b\b\b\b\b\b\b\b\b\b\b\b\b\b\b\b\b\b\b\b\b\b\b\b\b\b\b\b\b\b\b\b\b\b\b\b\b\b\b\b\b\b\b\b\b\b\b\b\b\b\b\b\b\b\b\b\b\b\b\b\b\b\b\b\b\b\b\b\b\b\b\b\b\b\b\b\b\b\b\b\b\b\b\b\b\b\b\b\b\b\b\b\b\b\b\b\b\b\b\b\b\b\b\b\r",
      "412416/412416 [==============================] - 18s 44us/sample - loss: 178.4826 - reconstruction_loss: 90.4683 - KL_loss: 21.6169 - val_loss: 106.6385 - val_reconstruction_loss: 85.2857 - val_KL_loss: 21.3528 - lr: 0.0016\n",
      "Epoch 369/1000\n"
     ]
    },
    {
     "name": "stdout",
     "output_type": "stream",
     "text": [
      "\r",
      "412416/412416 [==============================] - ETA: 0s - loss: 178.7951 - reconstruction_loss: 90.5277 - KL_loss: 21.7747"
     ]
    },
    {
     "name": "stdout",
     "output_type": "stream",
     "text": [
      "\b\b\b\b\b\b\b\b\b\b\b\b\b\b\b\b\b\b\b\b\b\b\b\b\b\b\b\b\b\b\b\b\b\b\b\b\b\b\b\b\b\b\b\b\b\b\b\b\b\b\b\b\b\b\b\b\b\b\b\b\b\b\b\b\b\b\b\b\b\b\b\b\b\b\b\b\b\b\b\b\b\b\b\b\b\b\b\b\b\b\b\b\b\b\b\b\b\b\b\b\b\b\b\b\b\b\b\b\b\b\b\b\b\b\b\b\b\b\b\b\b\b\b\r",
      "412416/412416 [==============================] - 84s 203us/sample - loss: 178.7951 - reconstruction_loss: 90.5277 - KL_loss: 21.7747 - val_loss: 106.5802 - val_reconstruction_loss: 85.2240 - val_KL_loss: 21.3562 - lr: 0.0016\n",
      "Epoch 370/1000\n"
     ]
    },
    {
     "name": "stdout",
     "output_type": "stream",
     "text": [
      "\r",
      "412416/412416 [==============================] - ETA: 0s - loss: 178.6989 - reconstruction_loss: 90.4731 - KL_loss: 21.7756"
     ]
    },
    {
     "name": "stdout",
     "output_type": "stream",
     "text": [
      "\b\b\b\b\b\b\b\b\b\b\b\b\b\b\b\b\b\b\b\b\b\b\b\b\b\b\b\b\b\b\b\b\b\b\b\b\b\b\b\b\b\b\b\b\b\b\b\b\b\b\b\b\b\b\b\b\b\b\b\b\b\b\b\b\b\b\b\b\b\b\b\b\b\b\b\b\b\b\b\b\b\b\b\b\b\b\b\b\b\b\b\b\b\b\b\b\b\b\b\b\b\b\b\b\b\b\b\b\b\b\b\b\b\b\b\b\b\b\b\b\b\b\b\r",
      "412416/412416 [==============================] - 22s 54us/sample - loss: 178.6989 - reconstruction_loss: 90.4731 - KL_loss: 21.7756 - val_loss: 106.5625 - val_reconstruction_loss: 85.3294 - val_KL_loss: 21.2331 - lr: 0.0016\n",
      "Epoch 371/1000\n"
     ]
    },
    {
     "name": "stdout",
     "output_type": "stream",
     "text": [
      "\r",
      "412416/412416 [==============================] - ETA: 0s - loss: 178.5110 - reconstruction_loss: 90.5758 - KL_loss: 21.6564"
     ]
    },
    {
     "name": "stdout",
     "output_type": "stream",
     "text": [
      "\b\b\b\b\b\b\b\b\b\b\b\b\b\b\b\b\b\b\b\b\b\b\b\b\b\b\b\b\b\b\b\b\b\b\b\b\b\b\b\b\b\b\b\b\b\b\b\b\b\b\b\b\b\b\b\b\b\b\b\b\b\b\b\b\b\b\b\b\b\b\b\b\b\b\b\b\b\b\b\b\b\b\b\b\b\b\b\b\b\b\b\b\b\b\b\b\b\b\b\b\b\b\b\b\b\b\b\b\b\b\b\b\b\b\b\b\b\b\b\b\b\b\b\r",
      "412416/412416 [==============================] - 12s 28us/sample - loss: 178.5110 - reconstruction_loss: 90.5758 - KL_loss: 21.6564 - val_loss: 106.5597 - val_reconstruction_loss: 85.2142 - val_KL_loss: 21.3455 - lr: 0.0016\n",
      "Epoch 372/1000\n"
     ]
    },
    {
     "name": "stdout",
     "output_type": "stream",
     "text": [
      "\r",
      "412416/412416 [==============================] - ETA: 0s - loss: 178.5008 - reconstruction_loss: 90.4185 - KL_loss: 21.7719"
     ]
    },
    {
     "name": "stdout",
     "output_type": "stream",
     "text": [
      "\b\b\b\b\b\b\b\b\b\b\b\b\b\b\b\b\b\b\b\b\b\b\b\b\b\b\b\b\b\b\b\b\b\b\b\b\b\b\b\b\b\b\b\b\b\b\b\b\b\b\b\b\b\b\b\b\b\b\b\b\b\b\b\b\b\b\b\b\b\b\b\b\b\b\b\b\b\b\b\b\b\b\b\b\b\b\b\b\b\b\b\b\b\b\b\b\b\b\b\b\b\b\b\b\b\b\b\b\b\b\b\b\b\b\b\b\b\b\b\b\b\b\b\r",
      "412416/412416 [==============================] - 15s 36us/sample - loss: 178.5008 - reconstruction_loss: 90.4185 - KL_loss: 21.7719 - val_loss: 106.4853 - val_reconstruction_loss: 85.0561 - val_KL_loss: 21.4292 - lr: 0.0016\n",
      "Epoch 373/1000\n"
     ]
    },
    {
     "name": "stdout",
     "output_type": "stream",
     "text": [
      "\r",
      "412416/412416 [==============================] - ETA: 0s - loss: 178.4182 - reconstruction_loss: 90.2973 - KL_loss: 21.8502"
     ]
    },
    {
     "name": "stdout",
     "output_type": "stream",
     "text": [
      "\b\b\b\b\b\b\b\b\b\b\b\b\b\b\b\b\b\b\b\b\b\b\b\b\b\b\b\b\b\b\b\b\b\b\b\b\b\b\b\b\b\b\b\b\b\b\b\b\b\b\b\b\b\b\b\b\b\b\b\b\b\b\b\b\b\b\b\b\b\b\b\b\b\b\b\b\b\b\b\b\b\b\b\b\b\b\b\b\b\b\b\b\b\b\b\b\b\b\b\b\b\b\b\b\b\b\b\b\b\b\b\b\b\b\b\b\b\b\b\b\b\b\b\r",
      "412416/412416 [==============================] - 11s 28us/sample - loss: 178.4182 - reconstruction_loss: 90.2973 - KL_loss: 21.8502 - val_loss: 106.4488 - val_reconstruction_loss: 85.0750 - val_KL_loss: 21.3738 - lr: 0.0016\n",
      "Epoch 374/1000\n"
     ]
    },
    {
     "name": "stdout",
     "output_type": "stream",
     "text": [
      "\r",
      "412416/412416 [==============================] - ETA: 0s - loss: 178.2374 - reconstruction_loss: 90.3168 - KL_loss: 21.7971"
     ]
    },
    {
     "name": "stdout",
     "output_type": "stream",
     "text": [
      "\b\b\b\b\b\b\b\b\b\b\b\b\b\b\b\b\b\b\b\b\b\b\b\b\b\b\b\b\b\b\b\b\b\b\b\b\b\b\b\b\b\b\b\b\b\b\b\b\b\b\b\b\b\b\b\b\b\b\b\b\b\b\b\b\b\b\b\b\b\b\b\b\b\b\b\b\b\b\b\b\b\b\b\b\b\b\b\b\b\b\b\b\b\b\b\b\b\b\b\b\b\b\b\b\b\b\b\b\b\b\b\b\b\b\b\b\b\b\b\b\b\b\b\r",
      "412416/412416 [==============================] - 11s 27us/sample - loss: 178.2374 - reconstruction_loss: 90.3168 - KL_loss: 21.7971 - val_loss: 106.4859 - val_reconstruction_loss: 85.2207 - val_KL_loss: 21.2653 - lr: 0.0016\n",
      "Epoch 375/1000\n"
     ]
    },
    {
     "name": "stdout",
     "output_type": "stream",
     "text": [
      "\r",
      "412416/412416 [==============================] - ETA: 0s - loss: 178.0644 - reconstruction_loss: 90.4494 - KL_loss: 21.6863"
     ]
    },
    {
     "name": "stdout",
     "output_type": "stream",
     "text": [
      "\b\b\b\b\b\b\b\b\b\b\b\b\b\b\b\b\b\b\b\b\b\b\b\b\b\b\b\b\b\b\b\b\b\b\b\b\b\b\b\b\b\b\b\b\b\b\b\b\b\b\b\b\b\b\b\b\b\b\b\b\b\b\b\b\b\b\b\b\b\b\b\b\b\b\b\b\b\b\b\b\b\b\b\b\b\b\b\b\b\b\b\b\b\b\b\b\b\b\b\b\b\b\b\b\b\b\b\b\b\b\b\b\b\b\b\b\b\b\b\b\b\b\b\r",
      "412416/412416 [==============================] - 11s 28us/sample - loss: 178.0644 - reconstruction_loss: 90.4494 - KL_loss: 21.6863 - val_loss: 106.6544 - val_reconstruction_loss: 85.4310 - val_KL_loss: 21.2234 - lr: 0.0016\n",
      "Epoch 376/1000\n"
     ]
    },
    {
     "name": "stdout",
     "output_type": "stream",
     "text": [
      "\r",
      "412416/412416 [==============================] - ETA: 0s - loss: 178.1519 - reconstruction_loss: 90.6347 - KL_loss: 21.6508"
     ]
    },
    {
     "name": "stdout",
     "output_type": "stream",
     "text": [
      "\b\b\b\b\b\b\b\b\b\b\b\b\b\b\b\b\b\b\b\b\b\b\b\b\b\b\b\b\b\b\b\b\b\b\b\b\b\b\b\b\b\b\b\b\b\b\b\b\b\b\b\b\b\b\b\b\b\b\b\b\b\b\b\b\b\b\b\b\b\b\b\b\b\b\b\b\b\b\b\b\b\b\b\b\b\b\b\b\b\b\b\b\b\b\b\b\b\b\b\b\b\b\b\b\b\b\b\b\b\b\b\b\b\b\b\b\b\b\b\b\b\b\b\r",
      "412416/412416 [==============================] - 11s 28us/sample - loss: 178.1519 - reconstruction_loss: 90.6347 - KL_loss: 21.6508 - val_loss: 106.5001 - val_reconstruction_loss: 85.2234 - val_KL_loss: 21.2768 - lr: 0.0016\n",
      "Epoch 377/1000\n"
     ]
    },
    {
     "name": "stdout",
     "output_type": "stream",
     "text": [
      "\r",
      "412416/412416 [==============================] - ETA: 0s - loss: 178.2129 - reconstruction_loss: 90.4321 - KL_loss: 21.6999"
     ]
    },
    {
     "name": "stdout",
     "output_type": "stream",
     "text": [
      "\b\b\b\b\b\b\b\b\b\b\b\b\b\b\b\b\b\b\b\b\b\b\b\b\b\b\b\b\b\b\b\b\b\b\b\b\b\b\b\b\b\b\b\b\b\b\b\b\b\b\b\b\b\b\b\b\b\b\b\b\b\b\b\b\b\b\b\b\b\b\b\b\b\b\b\b\b\b\b\b\b\b\b\b\b\b\b\b\b\b\b\b\b\b\b\b\b\b\b\b\b\b\b\b\b\b\b\b\b\b\b\b\b\b\b\b\b\b\b\b\b\b\b\r",
      "412416/412416 [==============================] - 11s 27us/sample - loss: 178.2129 - reconstruction_loss: 90.4321 - KL_loss: 21.6999 - val_loss: 106.4831 - val_reconstruction_loss: 85.1176 - val_KL_loss: 21.3655 - lr: 0.0016\n",
      "Epoch 378/1000\n"
     ]
    },
    {
     "name": "stdout",
     "output_type": "stream",
     "text": [
      "\r",
      "412416/412416 [==============================] - ETA: 0s - loss: 177.8760 - reconstruction_loss: 90.3170 - KL_loss: 21.7913"
     ]
    },
    {
     "name": "stdout",
     "output_type": "stream",
     "text": [
      "\b\b\b\b\b\b\b\b\b\b\b\b\b\b\b\b\b\b\b\b\b\b\b\b\b\b\b\b\b\b\b\b\b\b\b\b\b\b\b\b\b\b\b\b\b\b\b\b\b\b\b\b\b\b\b\b\b\b\b\b\b\b\b\b\b\b\b\b\b\b\b\b\b\b\b\b\b\b\b\b\b\b\b\b\b\b\b\b\b\b\b\b\b\b\b\b\b\b\b\b\b\b\b\b\b\b\b\b\b\b\b\b\b\b\b\b\b\b\b\b\b\b\b\r",
      "412416/412416 [==============================] - 11s 28us/sample - loss: 177.8760 - reconstruction_loss: 90.3170 - KL_loss: 21.7913 - val_loss: 106.3395 - val_reconstruction_loss: 84.8954 - val_KL_loss: 21.4441 - lr: 0.0014\n",
      "Epoch 379/1000\n"
     ]
    },
    {
     "name": "stdout",
     "output_type": "stream",
     "text": [
      "\r",
      "412416/412416 [==============================] - ETA: 0s - loss: 177.5975 - reconstruction_loss: 90.1047 - KL_loss: 21.8688"
     ]
    },
    {
     "name": "stdout",
     "output_type": "stream",
     "text": [
      "\b\b\b\b\b\b\b\b\b\b\b\b\b\b\b\b\b\b\b\b\b\b\b\b\b\b\b\b\b\b\b\b\b\b\b\b\b\b\b\b\b\b\b\b\b\b\b\b\b\b\b\b\b\b\b\b\b\b\b\b\b\b\b\b\b\b\b\b\b\b\b\b\b\b\b\b\b\b\b\b\b\b\b\b\b\b\b\b\b\b\b\b\b\b\b\b\b\b\b\b\b\b\b\b\b\b\b\b\b\b\b\b\b\b\b\b\b\b\b\b\b\b\b\r",
      "412416/412416 [==============================] - 12s 30us/sample - loss: 177.5975 - reconstruction_loss: 90.1047 - KL_loss: 21.8688 - val_loss: 106.5830 - val_reconstruction_loss: 85.2968 - val_KL_loss: 21.2862 - lr: 0.0014\n",
      "Epoch 380/1000\n"
     ]
    },
    {
     "name": "stdout",
     "output_type": "stream",
     "text": [
      "\r",
      "412416/412416 [==============================] - ETA: 0s - loss: 177.8847 - reconstruction_loss: 90.5029 - KL_loss: 21.7181"
     ]
    },
    {
     "name": "stdout",
     "output_type": "stream",
     "text": [
      "\b\b\b\b\b\b\b\b\b\b\b\b\b\b\b\b\b\b\b\b\b\b\b\b\b\b\b\b\b\b\b\b\b\b\b\b\b\b\b\b\b\b\b\b\b\b\b\b\b\b\b\b\b\b\b\b\b\b\b\b\b\b\b\b\b\b\b\b\b\b\b\b\b\b\b\b\b\b\b\b\b\b\b\b\b\b\b\b\b\b\b\b\b\b\b\b\b\b\b\b\b\b\b\b\b\b\b\b\b\b\b\b\b\b\b\b\b\b\b\b\b\b\b\r",
      "412416/412416 [==============================] - 11s 27us/sample - loss: 177.8847 - reconstruction_loss: 90.5029 - KL_loss: 21.7181 - val_loss: 106.4094 - val_reconstruction_loss: 85.1876 - val_KL_loss: 21.2218 - lr: 0.0014\n",
      "Epoch 381/1000\n"
     ]
    },
    {
     "name": "stdout",
     "output_type": "stream",
     "text": [
      "\r",
      "412416/412416 [==============================] - ETA: 0s - loss: 177.7538 - reconstruction_loss: 90.4002 - KL_loss: 21.6486"
     ]
    },
    {
     "name": "stdout",
     "output_type": "stream",
     "text": [
      "\b\b\b\b\b\b\b\b\b\b\b\b\b\b\b\b\b\b\b\b\b\b\b\b\b\b\b\b\b\b\b\b\b\b\b\b\b\b\b\b\b\b\b\b\b\b\b\b\b\b\b\b\b\b\b\b\b\b\b\b\b\b\b\b\b\b\b\b\b\b\b\b\b\b\b\b\b\b\b\b\b\b\b\b\b\b\b\b\b\b\b\b\b\b\b\b\b\b\b\b\b\b\b\b\b\b\b\b\b\b\b\b\b\b\b\b\b\b\b\b\b\b\b\r",
      "412416/412416 [==============================] - 11s 28us/sample - loss: 177.7538 - reconstruction_loss: 90.4002 - KL_loss: 21.6486 - val_loss: 106.3969 - val_reconstruction_loss: 85.1668 - val_KL_loss: 21.2301 - lr: 0.0014\n",
      "Epoch 382/1000\n"
     ]
    },
    {
     "name": "stdout",
     "output_type": "stream",
     "text": [
      "\r",
      "412416/412416 [==============================] - ETA: 0s - loss: 177.6066 - reconstruction_loss: 90.3968 - KL_loss: 21.6554"
     ]
    },
    {
     "name": "stdout",
     "output_type": "stream",
     "text": [
      "\b\b\b\b\b\b\b\b\b\b\b\b\b\b\b\b\b\b\b\b\b\b\b\b\b\b\b\b\b\b\b\b\b\b\b\b\b\b\b\b\b\b\b\b\b\b\b\b\b\b\b\b\b\b\b\b\b\b\b\b\b\b\b\b\b\b\b\b\b\b\b\b\b\b\b\b\b\b\b\b\b\b\b\b\b\b\b\b\b\b\b\b\b\b\b\b\b\b\b\b\b\b\b\b\b\b\b\b\b\b\b\b\b\b\b\b\b\b\b\b\b\b\b\r",
      "412416/412416 [==============================] - 11s 28us/sample - loss: 177.6066 - reconstruction_loss: 90.3968 - KL_loss: 21.6554 - val_loss: 106.4089 - val_reconstruction_loss: 85.0852 - val_KL_loss: 21.3237 - lr: 0.0014\n",
      "Epoch 383/1000\n"
     ]
    },
    {
     "name": "stdout",
     "output_type": "stream",
     "text": [
      "\r",
      "412416/412416 [==============================] - ETA: 0s - loss: 177.5262 - reconstruction_loss: 90.2942 - KL_loss: 21.7483"
     ]
    },
    {
     "name": "stdout",
     "output_type": "stream",
     "text": [
      "\b\b\b\b\b\b\b\b\b\b\b\b\b\b\b\b\b\b\b\b\b\b\b\b\b\b\b\b\b\b\b\b\b\b\b\b\b\b\b\b\b\b\b\b\b\b\b\b\b\b\b\b\b\b\b\b\b\b\b\b\b\b\b\b\b\b\b\b\b\b\b\b\b\b\b\b\b\b\b\b\b\b\b\b\b\b\b\b\b\b\b\b\b\b\b\b\b\b\b\b\b\b\b\b\b\b\b\b\b\b\b\b\b\b\b\b\b\b\b\b\b\b\b\r",
      "412416/412416 [==============================] - 12s 28us/sample - loss: 177.5262 - reconstruction_loss: 90.2942 - KL_loss: 21.7483 - val_loss: 106.4379 - val_reconstruction_loss: 85.0388 - val_KL_loss: 21.3991 - lr: 0.0014\n",
      "Epoch 384/1000\n"
     ]
    },
    {
     "name": "stdout",
     "output_type": "stream",
     "text": [
      "\r",
      "412416/412416 [==============================] - ETA: 0s - loss: 177.5228 - reconstruction_loss: 90.2754 - KL_loss: 21.8272"
     ]
    },
    {
     "name": "stdout",
     "output_type": "stream",
     "text": [
      "\b\b\b\b\b\b\b\b\b\b\b\b\b\b\b\b\b\b\b\b\b\b\b\b\b\b\b\b\b\b\b\b\b\b\b\b\b\b\b\b\b\b\b\b\b\b\b\b\b\b\b\b\b\b\b\b\b\b\b\b\b\b\b\b\b\b\b\b\b\b\b\b\b\b\b\b\b\b\b\b\b\b\b\b\b\b\b\b\b\b\b\b\b\b\b\b\b\b\b\b\b\b\b\b\b\b\b\b\b\b\b\b\b\b\b\b\b\b\b\b\b\b\b\r",
      "412416/412416 [==============================] - 12s 28us/sample - loss: 177.5228 - reconstruction_loss: 90.2754 - KL_loss: 21.8272 - val_loss: 106.4015 - val_reconstruction_loss: 85.0868 - val_KL_loss: 21.3146 - lr: 0.0014\n",
      "Epoch 385/1000\n"
     ]
    },
    {
     "name": "stdout",
     "output_type": "stream",
     "text": [
      "\r",
      "412416/412416 [==============================] - ETA: 0s - loss: 177.5945 - reconstruction_loss: 90.3002 - KL_loss: 21.7430"
     ]
    },
    {
     "name": "stdout",
     "output_type": "stream",
     "text": [
      "\b\b\b\b\b\b\b\b\b\b\b\b\b\b\b\b\b\b\b\b\b\b\b\b\b\b\b\b\b\b\b\b\b\b\b\b\b\b\b\b\b\b\b\b\b\b\b\b\b\b\b\b\b\b\b\b\b\b\b\b\b\b\b\b\b\b\b\b\b\b\b\b\b\b\b\b\b\b\b\b\b\b\b\b\b\b\b\b\b\b\b\b\b\b\b\b\b\b\b\b\b\b\b\b\b\b\b\b\b\b\b\b\b\b\b\b\b\b\b\b\b\b\b\r",
      "412416/412416 [==============================] - 17s 41us/sample - loss: 177.5945 - reconstruction_loss: 90.3002 - KL_loss: 21.7430 - val_loss: 106.3662 - val_reconstruction_loss: 85.0451 - val_KL_loss: 21.3211 - lr: 0.0014\n",
      "Epoch 386/1000\n"
     ]
    },
    {
     "name": "stdout",
     "output_type": "stream",
     "text": [
      "\r",
      "412416/412416 [==============================] - ETA: 0s - loss: 177.2320 - reconstruction_loss: 90.2449 - KL_loss: 21.7494"
     ]
    },
    {
     "name": "stdout",
     "output_type": "stream",
     "text": [
      "\b\b\b\b\b\b\b\b\b\b\b\b\b\b\b\b\b\b\b\b\b\b\b\b\b\b\b\b\b\b\b\b\b\b\b\b\b\b\b\b\b\b\b\b\b\b\b\b\b\b\b\b\b\b\b\b\b\b\b\b\b\b\b\b\b\b\b\b\b\b\b\b\b\b\b\b\b\b\b\b\b\b\b\b\b\b\b\b\b\b\b\b\b\b\b\b\b\b\b\b\b\b\b\b\b\b\b\b\b\b\b\b\b\b\b\b\b\b\b\b\b\b\b\r",
      "412416/412416 [==============================] - 12s 28us/sample - loss: 177.2320 - reconstruction_loss: 90.2449 - KL_loss: 21.7494 - val_loss: 106.5007 - val_reconstruction_loss: 85.0658 - val_KL_loss: 21.4349 - lr: 0.0014\n",
      "Epoch 387/1000\n"
     ]
    },
    {
     "name": "stdout",
     "output_type": "stream",
     "text": [
      "\r",
      "412416/412416 [==============================] - ETA: 0s - loss: 177.5285 - reconstruction_loss: 90.2707 - KL_loss: 21.8588"
     ]
    },
    {
     "name": "stdout",
     "output_type": "stream",
     "text": [
      "\b\b\b\b\b\b\b\b\b\b\b\b\b\b\b\b\b\b\b\b\b\b\b\b\b\b\b\b\b\b\b\b\b\b\b\b\b\b\b\b\b\b\b\b\b\b\b\b\b\b\b\b\b\b\b\b\b\b\b\b\b\b\b\b\b\b\b\b\b\b\b\b\b\b\b\b\b\b\b\b\b\b\b\b\b\b\b\b\b\b\b\b\b\b\b\b\b\b\b\b\b\b\b\b\b\b\b\b\b\b\b\b\b\b\b\b\b\b\b\b\b\b\b\r",
      "412416/412416 [==============================] - 16s 39us/sample - loss: 177.5285 - reconstruction_loss: 90.2707 - KL_loss: 21.8588 - val_loss: 106.3534 - val_reconstruction_loss: 84.9745 - val_KL_loss: 21.3789 - lr: 0.0014\n",
      "Epoch 388/1000\n"
     ]
    },
    {
     "name": "stdout",
     "output_type": "stream",
     "text": [
      "\r",
      "412416/412416 [==============================] - ETA: 0s - loss: 177.2410 - reconstruction_loss: 90.1616 - KL_loss: 21.8031"
     ]
    },
    {
     "name": "stdout",
     "output_type": "stream",
     "text": [
      "\b\b\b\b\b\b\b\b\b\b\b\b\b\b\b\b\b\b\b\b\b\b\b\b\b\b\b\b\b\b\b\b\b\b\b\b\b\b\b\b\b\b\b\b\b\b\b\b\b\b\b\b\b\b\b\b\b\b\b\b\b\b\b\b\b\b\b\b\b\b\b\b\b\b\b\b\b\b\b\b\b\b\b\b\b\b\b\b\b\b\b\b\b\b\b\b\b\b\b\b\b\b\b\b\b\b\b\b\b\b\b\b\b\b\b\b\b\b\b\b\b\b\b\r",
      "412416/412416 [==============================] - 11s 27us/sample - loss: 177.2410 - reconstruction_loss: 90.1616 - KL_loss: 21.8031 - val_loss: 106.4896 - val_reconstruction_loss: 85.2359 - val_KL_loss: 21.2537 - lr: 0.0014\n",
      "Epoch 389/1000\n"
     ]
    },
    {
     "name": "stdout",
     "output_type": "stream",
     "text": [
      "\r",
      "412416/412416 [==============================] - ETA: 0s - loss: 177.3960 - reconstruction_loss: 90.4358 - KL_loss: 21.6845"
     ]
    },
    {
     "name": "stdout",
     "output_type": "stream",
     "text": [
      "\b\b\b\b\b\b\b\b\b\b\b\b\b\b\b\b\b\b\b\b\b\b\b\b\b\b\b\b\b\b\b\b\b\b\b\b\b\b\b\b\b\b\b\b\b\b\b\b\b\b\b\b\b\b\b\b\b\b\b\b\b\b\b\b\b\b\b\b\b\b\b\b\b\b\b\b\b\b\b\b\b\b\b\b\b\b\b\b\b\b\b\b\b\b\b\b\b\b\b\b\b\b\b\b\b\b\b\b\b\b\b\b\b\b\b\b\b\b\b\b\b\b\b\r",
      "412416/412416 [==============================] - 11s 28us/sample - loss: 177.3960 - reconstruction_loss: 90.4358 - KL_loss: 21.6845 - val_loss: 106.4211 - val_reconstruction_loss: 85.1439 - val_KL_loss: 21.2772 - lr: 0.0014\n",
      "Epoch 390/1000\n"
     ]
    },
    {
     "name": "stdout",
     "output_type": "stream",
     "text": [
      "\r",
      "412416/412416 [==============================] - ETA: 0s - loss: 177.3648 - reconstruction_loss: 90.3115 - KL_loss: 21.7039"
     ]
    },
    {
     "name": "stdout",
     "output_type": "stream",
     "text": [
      "\b\b\b\b\b\b\b\b\b\b\b\b\b\b\b\b\b\b\b\b\b\b\b\b\b\b\b\b\b\b\b\b\b\b\b\b\b\b\b\b\b\b\b\b\b\b\b\b\b\b\b\b\b\b\b\b\b\b\b\b\b\b\b\b\b\b\b\b\b\b\b\b\b\b\b\b\b\b\b\b\b\b\b\b\b\b\b\b\b\b\b\b\b\b\b\b\b\b\b\b\b\b\b\b\b\b\b\b\b\b\b\b\b\b\b\b\b\b\b\b\b\b\b\r",
      "412416/412416 [==============================] - 11s 27us/sample - loss: 177.3648 - reconstruction_loss: 90.3115 - KL_loss: 21.7039 - val_loss: 106.4857 - val_reconstruction_loss: 85.0470 - val_KL_loss: 21.4388 - lr: 0.0014\n",
      "Epoch 391/1000\n"
     ]
    },
    {
     "name": "stdout",
     "output_type": "stream",
     "text": [
      "\r",
      "412416/412416 [==============================] - ETA: 0s - loss: 177.2411 - reconstruction_loss: 90.2350 - KL_loss: 21.8647"
     ]
    },
    {
     "name": "stdout",
     "output_type": "stream",
     "text": [
      "\b\b\b\b\b\b\b\b\b\b\b\b\b\b\b\b\b\b\b\b\b\b\b\b\b\b\b\b\b\b\b\b\b\b\b\b\b\b\b\b\b\b\b\b\b\b\b\b\b\b\b\b\b\b\b\b\b\b\b\b\b\b\b\b\b\b\b\b\b\b\b\b\b\b\b\b\b\b\b\b\b\b\b\b\b\b\b\b\b\b\b\b\b\b\b\b\b\b\b\b\b\b\b\b\b\b\b\b\b\b\b\b\b\b\b\b\b\b\b\b\b\b\b\r",
      "412416/412416 [==============================] - 11s 27us/sample - loss: 177.2411 - reconstruction_loss: 90.2350 - KL_loss: 21.8647 - val_loss: 106.4390 - val_reconstruction_loss: 84.9570 - val_KL_loss: 21.4820 - lr: 0.0014\n",
      "Epoch 392/1000\n"
     ]
    },
    {
     "name": "stdout",
     "output_type": "stream",
     "text": [
      "\r",
      "412416/412416 [==============================] - ETA: 0s - loss: 177.1645 - reconstruction_loss: 90.1405 - KL_loss: 21.9088"
     ]
    },
    {
     "name": "stdout",
     "output_type": "stream",
     "text": [
      "\b\b\b\b\b\b\b\b\b\b\b\b\b\b\b\b\b\b\b\b\b\b\b\b\b\b\b\b\b\b\b\b\b\b\b\b\b\b\b\b\b\b\b\b\b\b\b\b\b\b\b\b\b\b\b\b\b\b\b\b\b\b\b\b\b\b\b\b\b\b\b\b\b\b\b\b\b\b\b\b\b\b\b\b\b\b\b\b\b\b\b\b\b\b\b\b\b\b\b\b\b\b\b\b\b\b\b\b\b\b\b\b\b\b\b\b\b\b\b\b\b\b\b\r",
      "412416/412416 [==============================] - 12s 28us/sample - loss: 177.1645 - reconstruction_loss: 90.1405 - KL_loss: 21.9088 - val_loss: 106.4132 - val_reconstruction_loss: 84.9531 - val_KL_loss: 21.4600 - lr: 0.0013\n",
      "Epoch 393/1000\n"
     ]
    },
    {
     "name": "stdout",
     "output_type": "stream",
     "text": [
      "\r",
      "412416/412416 [==============================] - ETA: 0s - loss: 177.0652 - reconstruction_loss: 90.1555 - KL_loss: 21.8864"
     ]
    },
    {
     "name": "stdout",
     "output_type": "stream",
     "text": [
      "\b\b\b\b\b\b\b\b\b\b\b\b\b\b\b\b\b\b\b\b\b\b\b\b\b\b\b\b\b\b\b\b\b\b\b\b\b\b\b\b\b\b\b\b\b\b\b\b\b\b\b\b\b\b\b\b\b\b\b\b\b\b\b\b\b\b\b\b\b\b\b\b\b\b\b\b\b\b\b\b\b\b\b\b\b\b\b\b\b\b\b\b\b\b\b\b\b\b\b\b\b\b\b\b\b\b\b\b\b\b\b\b\b\b\b\b\b\b\b\b\b\b\b\r",
      "412416/412416 [==============================] - 11s 27us/sample - loss: 177.0652 - reconstruction_loss: 90.1555 - KL_loss: 21.8864 - val_loss: 106.2919 - val_reconstruction_loss: 84.8988 - val_KL_loss: 21.3931 - lr: 0.0013\n",
      "Epoch 394/1000\n"
     ]
    },
    {
     "name": "stdout",
     "output_type": "stream",
     "text": [
      "\r",
      "412416/412416 [==============================] - ETA: 0s - loss: 176.8286 - reconstruction_loss: 90.0770 - KL_loss: 21.8197"
     ]
    },
    {
     "name": "stdout",
     "output_type": "stream",
     "text": [
      "\b\b\b\b\b\b\b\b\b\b\b\b\b\b\b\b\b\b\b\b\b\b\b\b\b\b\b\b\b\b\b\b\b\b\b\b\b\b\b\b\b\b\b\b\b\b\b\b\b\b\b\b\b\b\b\b\b\b\b\b\b\b\b\b\b\b\b\b\b\b\b\b\b\b\b\b\b\b\b\b\b\b\b\b\b\b\b\b\b\b\b\b\b\b\b\b\b\b\b\b\b\b\b\b\b\b\b\b\b\b\b\b\b\b\b\b\b\b\b\b\b\b\b\r",
      "412416/412416 [==============================] - 11s 27us/sample - loss: 176.8286 - reconstruction_loss: 90.0770 - KL_loss: 21.8197 - val_loss: 106.3879 - val_reconstruction_loss: 85.1609 - val_KL_loss: 21.2271 - lr: 0.0013\n",
      "Epoch 395/1000\n"
     ]
    },
    {
     "name": "stdout",
     "output_type": "stream",
     "text": [
      "\r",
      "412416/412416 [==============================] - ETA: 0s - loss: 176.9780 - reconstruction_loss: 90.3583 - KL_loss: 21.6507"
     ]
    },
    {
     "name": "stdout",
     "output_type": "stream",
     "text": [
      "\b\b\b\b\b\b\b\b\b\b\b\b\b\b\b\b\b\b\b\b\b\b\b\b\b\b\b\b\b\b\b\b\b\b\b\b\b\b\b\b\b\b\b\b\b\b\b\b\b\b\b\b\b\b\b\b\b\b\b\b\b\b\b\b\b\b\b\b\b\b\b\b\b\b\b\b\b\b\b\b\b\b\b\b\b\b\b\b\b\b\b\b\b\b\b\b\b\b\b\b\b\b\b\b\b\b\b\b\b\b\b\b\b\b\b\b\b\b\b\b\b\b\b\r",
      "412416/412416 [==============================] - 11s 27us/sample - loss: 176.9780 - reconstruction_loss: 90.3583 - KL_loss: 21.6507 - val_loss: 106.3316 - val_reconstruction_loss: 85.0773 - val_KL_loss: 21.2543 - lr: 0.0013\n",
      "Epoch 396/1000\n"
     ]
    },
    {
     "name": "stdout",
     "output_type": "stream",
     "text": [
      "\r",
      "412416/412416 [==============================] - ETA: 0s - loss: 176.7896 - reconstruction_loss: 90.2418 - KL_loss: 21.6800"
     ]
    },
    {
     "name": "stdout",
     "output_type": "stream",
     "text": [
      "\b\b\b\b\b\b\b\b\b\b\b\b\b\b\b\b\b\b\b\b\b\b\b\b\b\b\b\b\b\b\b\b\b\b\b\b\b\b\b\b\b\b\b\b\b\b\b\b\b\b\b\b\b\b\b\b\b\b\b\b\b\b\b\b\b\b\b\b\b\b\b\b\b\b\b\b\b\b\b\b\b\b\b\b\b\b\b\b\b\b\b\b\b\b\b\b\b\b\b\b\b\b\b\b\b\b\b\b\b\b\b\b\b\b\b\b\b\b\b\b\b\b\b\r",
      "412416/412416 [==============================] - 11s 27us/sample - loss: 176.7896 - reconstruction_loss: 90.2418 - KL_loss: 21.6800 - val_loss: 106.3783 - val_reconstruction_loss: 84.9543 - val_KL_loss: 21.4240 - lr: 0.0013\n",
      "Epoch 397/1000\n"
     ]
    },
    {
     "name": "stdout",
     "output_type": "stream",
     "text": [
      "\r",
      "412416/412416 [==============================] - ETA: 0s - loss: 176.7610 - reconstruction_loss: 90.1421 - KL_loss: 21.8455"
     ]
    },
    {
     "name": "stdout",
     "output_type": "stream",
     "text": [
      "\b\b\b\b\b\b\b\b\b\b\b\b\b\b\b\b\b\b\b\b\b\b\b\b\b\b\b\b\b\b\b\b\b\b\b\b\b\b\b\b\b\b\b\b\b\b\b\b\b\b\b\b\b\b\b\b\b\b\b\b\b\b\b\b\b\b\b\b\b\b\b\b\b\b\b\b\b\b\b\b\b\b\b\b\b\b\b\b\b\b\b\b\b\b\b\b\b\b\b\b\b\b\b\b\b\b\b\b\b\b\b\b\b\b\b\b\b\b\b\b\b\b\b\r",
      "412416/412416 [==============================] - 12s 28us/sample - loss: 176.7610 - reconstruction_loss: 90.1421 - KL_loss: 21.8455 - val_loss: 106.2555 - val_reconstruction_loss: 84.8057 - val_KL_loss: 21.4498 - lr: 0.0013\n",
      "Epoch 398/1000\n"
     ]
    },
    {
     "name": "stdout",
     "output_type": "stream",
     "text": [
      "\r",
      "412416/412416 [==============================] - ETA: 0s - loss: 176.5607 - reconstruction_loss: 90.0003 - KL_loss: 21.8768"
     ]
    },
    {
     "name": "stdout",
     "output_type": "stream",
     "text": [
      "\b\b\b\b\b\b\b\b\b\b\b\b\b\b\b\b\b\b\b\b\b\b\b\b\b\b\b\b\b\b\b\b\b\b\b\b\b\b\b\b\b\b\b\b\b\b\b\b\b\b\b\b\b\b\b\b\b\b\b\b\b\b\b\b\b\b\b\b\b\b\b\b\b\b\b\b\b\b\b\b\b\b\b\b\b\b\b\b\b\b\b\b\b\b\b\b\b\b\b\b\b\b\b\b\b\b\b\b\b\b\b\b\b\b\b\b\b\b\b\b\b\b\b\r",
      "412416/412416 [==============================] - 11s 27us/sample - loss: 176.5607 - reconstruction_loss: 90.0003 - KL_loss: 21.8768 - val_loss: 106.3359 - val_reconstruction_loss: 84.9131 - val_KL_loss: 21.4227 - lr: 0.0013\n",
      "Epoch 399/1000\n"
     ]
    },
    {
     "name": "stdout",
     "output_type": "stream",
     "text": [
      "\r",
      "412416/412416 [==============================] - ETA: 0s - loss: 176.7202 - reconstruction_loss: 90.1238 - KL_loss: 21.8440"
     ]
    },
    {
     "name": "stdout",
     "output_type": "stream",
     "text": [
      "\b\b\b\b\b\b\b\b\b\b\b\b\b\b\b\b\b\b\b\b\b\b\b\b\b\b\b\b\b\b\b\b\b\b\b\b\b\b\b\b\b\b\b\b\b\b\b\b\b\b\b\b\b\b\b\b\b\b\b\b\b\b\b\b\b\b\b\b\b\b\b\b\b\b\b\b\b\b\b\b\b\b\b\b\b\b\b\b\b\b\b\b\b\b\b\b\b\b\b\b\b\b\b\b\b\b\b\b\b\b\b\b\b\b\b\b\b\b\b\b\b\b\b\r",
      "412416/412416 [==============================] - 11s 28us/sample - loss: 176.7202 - reconstruction_loss: 90.1238 - KL_loss: 21.8440 - val_loss: 106.3288 - val_reconstruction_loss: 84.9186 - val_KL_loss: 21.4102 - lr: 0.0013\n",
      "Epoch 400/1000\n"
     ]
    },
    {
     "name": "stdout",
     "output_type": "stream",
     "text": [
      "\r",
      "412416/412416 [==============================] - ETA: 0s - loss: 176.4573 - reconstruction_loss: 90.0784 - KL_loss: 21.8341"
     ]
    },
    {
     "name": "stdout",
     "output_type": "stream",
     "text": [
      "\b\b\b\b\b\b\b\b\b\b\b\b\b\b\b\b\b\b\b\b\b\b\b\b\b\b\b\b\b\b\b\b\b\b\b\b\b\b\b\b\b\b\b\b\b\b\b\b\b\b\b\b\b\b\b\b\b\b\b\b\b\b\b\b\b\b\b\b\b\b\b\b\b\b\b\b\b\b\b\b\b\b\b\b\b\b\b\b\b\b\b\b\b\b\b\b\b\b\b\b\b\b\b\b\b\b\b\b\b\b\b\b\b\b\b\b\b\b\b\b\b\b\b\r",
      "412416/412416 [==============================] - 11s 27us/sample - loss: 176.4573 - reconstruction_loss: 90.0784 - KL_loss: 21.8341 - val_loss: 106.4387 - val_reconstruction_loss: 85.0272 - val_KL_loss: 21.4116 - lr: 0.0013\n",
      "Epoch 401/1000\n"
     ]
    },
    {
     "name": "stdout",
     "output_type": "stream",
     "text": [
      "\r",
      "412416/412416 [==============================] - ETA: 0s - loss: 176.6958 - reconstruction_loss: 90.2040 - KL_loss: 21.8317"
     ]
    },
    {
     "name": "stdout",
     "output_type": "stream",
     "text": [
      "\b\b\b\b\b\b\b\b\b\b\b\b\b\b\b\b\b\b\b\b\b\b\b\b\b\b\b\b\b\b\b\b\b\b\b\b\b\b\b\b\b\b\b\b\b\b\b\b\b\b\b\b\b\b\b\b\b\b\b\b\b\b\b\b\b\b\b\b\b\b\b\b\b\b\b\b\b\b\b\b\b\b\b\b\b\b\b\b\b\b\b\b\b\b\b\b\b\b\b\b\b\b\b\b\b\b\b\b\b\b\b\b\b\b\b\b\b\b\b\b\b\b\b\r",
      "412416/412416 [==============================] - 11s 27us/sample - loss: 176.6958 - reconstruction_loss: 90.2040 - KL_loss: 21.8317 - val_loss: 106.2838 - val_reconstruction_loss: 84.8880 - val_KL_loss: 21.3958 - lr: 0.0013\n",
      "Epoch 402/1000\n"
     ]
    },
    {
     "name": "stdout",
     "output_type": "stream",
     "text": [
      "\r",
      "412416/412416 [==============================] - ETA: 0s - loss: 176.3857 - reconstruction_loss: 90.0494 - KL_loss: 21.8200"
     ]
    },
    {
     "name": "stdout",
     "output_type": "stream",
     "text": [
      "\b\b\b\b\b\b\b\b\b\b\b\b\b\b\b\b\b\b\b\b\b\b\b\b\b\b\b\b\b\b\b\b\b\b\b\b\b\b\b\b\b\b\b\b\b\b\b\b\b\b\b\b\b\b\b\b\b\b\b\b\b\b\b\b\b\b\b\b\b\b\b\b\b\b\b\b\b\b\b\b\b\b\b\b\b\b\b\b\b\b\b\b\b\b\b\b\b\b\b\b\b\b\b\b\b\b\b\b\b\b\b\b\b\b\b\b\b\b\b\b\b\b\b\r",
      "412416/412416 [==============================] - 11s 27us/sample - loss: 176.3857 - reconstruction_loss: 90.0494 - KL_loss: 21.8200 - val_loss: 106.3359 - val_reconstruction_loss: 84.9341 - val_KL_loss: 21.4018 - lr: 0.0013\n",
      "Epoch 403/1000\n"
     ]
    },
    {
     "name": "stdout",
     "output_type": "stream",
     "text": [
      "\r",
      "412416/412416 [==============================] - ETA: 0s - loss: 176.4637 - reconstruction_loss: 90.0957 - KL_loss: 21.8231"
     ]
    },
    {
     "name": "stdout",
     "output_type": "stream",
     "text": [
      "\b\b\b\b\b\b\b\b\b\b\b\b\b\b\b\b\b\b\b\b\b\b\b\b\b\b\b\b\b\b\b\b\b\b\b\b\b\b\b\b\b\b\b\b\b\b\b\b\b\b\b\b\b\b\b\b\b\b\b\b\b\b\b\b\b\b\b\b\b\b\b\b\b\b\b\b\b\b\b\b\b\b\b\b\b\b\b\b\b\b\b\b\b\b\b\b\b\b\b\b\b\b\b\b\b\b\b\b\b\b\b\b\b\b\b\b\b\b\b\b\b\b\b\r",
      "412416/412416 [==============================] - 11s 27us/sample - loss: 176.4637 - reconstruction_loss: 90.0957 - KL_loss: 21.8231 - val_loss: 106.3463 - val_reconstruction_loss: 84.9373 - val_KL_loss: 21.4090 - lr: 0.0013\n",
      "Epoch 404/1000\n"
     ]
    },
    {
     "name": "stdout",
     "output_type": "stream",
     "text": [
      "\r",
      "412416/412416 [==============================] - ETA: 0s - loss: 176.4041 - reconstruction_loss: 90.1202 - KL_loss: 21.8290"
     ]
    },
    {
     "name": "stdout",
     "output_type": "stream",
     "text": [
      "\b\b\b\b\b\b\b\b\b\b\b\b\b\b\b\b\b\b\b\b\b\b\b\b\b\b\b\b\b\b\b\b\b\b\b\b\b\b\b\b\b\b\b\b\b\b\b\b\b\b\b\b\b\b\b\b\b\b\b\b\b\b\b\b\b\b\b\b\b\b\b\b\b\b\b\b\b\b\b\b\b\b\b\b\b\b\b\b\b\b\b\b\b\b\b\b\b\b\b\b\b\b\b\b\b\b\b\b\b\b\b\b\b\b\b\b\b\b\b\b\b\b\b\r",
      "412416/412416 [==============================] - 11s 27us/sample - loss: 176.4041 - reconstruction_loss: 90.1202 - KL_loss: 21.8290 - val_loss: 106.3257 - val_reconstruction_loss: 84.8114 - val_KL_loss: 21.5143 - lr: 0.0013\n",
      "Epoch 405/1000\n"
     ]
    },
    {
     "name": "stdout",
     "output_type": "stream",
     "text": [
      "\r",
      "412416/412416 [==============================] - ETA: 0s - loss: 176.3626 - reconstruction_loss: 90.0124 - KL_loss: 21.9360"
     ]
    },
    {
     "name": "stdout",
     "output_type": "stream",
     "text": [
      "\b\b\b\b\b\b\b\b\b\b\b\b\b\b\b\b\b\b\b\b\b\b\b\b\b\b\b\b\b\b\b\b\b\b\b\b\b\b\b\b\b\b\b\b\b\b\b\b\b\b\b\b\b\b\b\b\b\b\b\b\b\b\b\b\b\b\b\b\b\b\b\b\b\b\b\b\b\b\b\b\b\b\b\b\b\b\b\b\b\b\b\b\b\b\b\b\b\b\b\b\b\b\b\b\b\b\b\b\b\b\b\b\b\b\b\b\b\b\b\b\b\b\b\r",
      "412416/412416 [==============================] - 11s 27us/sample - loss: 176.3626 - reconstruction_loss: 90.0124 - KL_loss: 21.9360 - val_loss: 106.3590 - val_reconstruction_loss: 84.8415 - val_KL_loss: 21.5175 - lr: 0.0013\n",
      "Epoch 406/1000\n"
     ]
    },
    {
     "name": "stdout",
     "output_type": "stream",
     "text": [
      "\r",
      "412416/412416 [==============================] - ETA: 0s - loss: 176.3295 - reconstruction_loss: 90.0145 - KL_loss: 21.9354"
     ]
    },
    {
     "name": "stdout",
     "output_type": "stream",
     "text": [
      "\b\b\b\b\b\b\b\b\b\b\b\b\b\b\b\b\b\b\b\b\b\b\b\b\b\b\b\b\b\b\b\b\b\b\b\b\b\b\b\b\b\b\b\b\b\b\b\b\b\b\b\b\b\b\b\b\b\b\b\b\b\b\b\b\b\b\b\b\b\b\b\b\b\b\b\b\b\b\b\b\b\b\b\b\b\b\b\b\b\b\b\b\b\b\b\b\b\b\b\b\b\b\b\b\b\b\b\b\b\b\b\b\b\b\b\b\b\b\b\b\b\b\b\r",
      "412416/412416 [==============================] - 14s 33us/sample - loss: 176.3295 - reconstruction_loss: 90.0145 - KL_loss: 21.9354 - val_loss: 106.3383 - val_reconstruction_loss: 84.9261 - val_KL_loss: 21.4123 - lr: 0.0013\n",
      "Epoch 407/1000\n"
     ]
    },
    {
     "name": "stdout",
     "output_type": "stream",
     "text": [
      "\r",
      "412416/412416 [==============================] - ETA: 0s - loss: 176.2687 - reconstruction_loss: 90.1080 - KL_loss: 21.8358"
     ]
    },
    {
     "name": "stdout",
     "output_type": "stream",
     "text": [
      "\b\b\b\b\b\b\b\b\b\b\b\b\b\b\b\b\b\b\b\b\b\b\b\b\b\b\b\b\b\b\b\b\b\b\b\b\b\b\b\b\b\b\b\b\b\b\b\b\b\b\b\b\b\b\b\b\b\b\b\b\b\b\b\b\b\b\b\b\b\b\b\b\b\b\b\b\b\b\b\b\b\b\b\b\b\b\b\b\b\b\b\b\b\b\b\b\b\b\b\b\b\b\b\b\b\b\b\b\b\b\b\b\b\b\b\b\b\b\b\b\b\b\b\r",
      "412416/412416 [==============================] - 11s 27us/sample - loss: 176.2687 - reconstruction_loss: 90.1080 - KL_loss: 21.8358 - val_loss: 106.2836 - val_reconstruction_loss: 84.8306 - val_KL_loss: 21.4530 - lr: 0.0013\n",
      "Epoch 408/1000\n"
     ]
    },
    {
     "name": "stdout",
     "output_type": "stream",
     "text": [
      "\r",
      "412416/412416 [==============================] - ETA: 0s - loss: 176.1361 - reconstruction_loss: 90.0061 - KL_loss: 21.8719"
     ]
    },
    {
     "name": "stdout",
     "output_type": "stream",
     "text": [
      "\b\b\b\b\b\b\b\b\b\b\b\b\b\b\b\b\b\b\b\b\b\b\b\b\b\b\b\b\b\b\b\b\b\b\b\b\b\b\b\b\b\b\b\b\b\b\b\b\b\b\b\b\b\b\b\b\b\b\b\b\b\b\b\b\b\b\b\b\b\b\b\b\b\b\b\b\b\b\b\b\b\b\b\b\b\b\b\b\b\b\b\b\b\b\b\b\b\b\b\b\b\b\b\b\b\b\b\b\b\b\b\b\b\b\b\b\b\b\b\b\b\b\b\r",
      "412416/412416 [==============================] - 12s 28us/sample - loss: 176.1361 - reconstruction_loss: 90.0061 - KL_loss: 21.8719 - val_loss: 106.2296 - val_reconstruction_loss: 84.7946 - val_KL_loss: 21.4350 - lr: 0.0012\n",
      "Epoch 409/1000\n"
     ]
    },
    {
     "name": "stdout",
     "output_type": "stream",
     "text": [
      "\r",
      "412416/412416 [==============================] - ETA: 0s - loss: 176.0428 - reconstruction_loss: 89.9942 - KL_loss: 21.8556"
     ]
    },
    {
     "name": "stdout",
     "output_type": "stream",
     "text": [
      "\b\b\b\b\b\b\b\b\b\b\b\b\b\b\b\b\b\b\b\b\b\b\b\b\b\b\b\b\b\b\b\b\b\b\b\b\b\b\b\b\b\b\b\b\b\b\b\b\b\b\b\b\b\b\b\b\b\b\b\b\b\b\b\b\b\b\b\b\b\b\b\b\b\b\b\b\b\b\b\b\b\b\b\b\b\b\b\b\b\b\b\b\b\b\b\b\b\b\b\b\b\b\b\b\b\b\b\b\b\b\b\b\b\b\b\b\b\b\b\b\b\b\b\r",
      "412416/412416 [==============================] - 11s 28us/sample - loss: 176.0428 - reconstruction_loss: 89.9942 - KL_loss: 21.8556 - val_loss: 106.2445 - val_reconstruction_loss: 84.8068 - val_KL_loss: 21.4377 - lr: 0.0012\n",
      "Epoch 410/1000\n"
     ]
    },
    {
     "name": "stdout",
     "output_type": "stream",
     "text": [
      "\r",
      "412416/412416 [==============================] - ETA: 0s - loss: 176.0570 - reconstruction_loss: 89.9891 - KL_loss: 21.8613"
     ]
    },
    {
     "name": "stdout",
     "output_type": "stream",
     "text": [
      "\b\b\b\b\b\b\b\b\b\b\b\b\b\b\b\b\b\b\b\b\b\b\b\b\b\b\b\b\b\b\b\b\b\b\b\b\b\b\b\b\b\b\b\b\b\b\b\b\b\b\b\b\b\b\b\b\b\b\b\b\b\b\b\b\b\b\b\b\b\b\b\b\b\b\b\b\b\b\b\b\b\b\b\b\b\b\b\b\b\b\b\b\b\b\b\b\b\b\b\b\b\b\b\b\b\b\b\b\b\b\b\b\b\b\b\b\b\b\b\b\b\b\b\r",
      "412416/412416 [==============================] - 11s 28us/sample - loss: 176.0570 - reconstruction_loss: 89.9891 - KL_loss: 21.8613 - val_loss: 106.2089 - val_reconstruction_loss: 84.8001 - val_KL_loss: 21.4088 - lr: 0.0012\n",
      "Epoch 411/1000\n"
     ]
    },
    {
     "name": "stdout",
     "output_type": "stream",
     "text": [
      "\r",
      "412416/412416 [==============================] - ETA: 0s - loss: 175.9305 - reconstruction_loss: 89.9938 - KL_loss: 21.8272"
     ]
    },
    {
     "name": "stdout",
     "output_type": "stream",
     "text": [
      "\b\b\b\b\b\b\b\b\b\b\b\b\b\b\b\b\b\b\b\b\b\b\b\b\b\b\b\b\b\b\b\b\b\b\b\b\b\b\b\b\b\b\b\b\b\b\b\b\b\b\b\b\b\b\b\b\b\b\b\b\b\b\b\b\b\b\b\b\b\b\b\b\b\b\b\b\b\b\b\b\b\b\b\b\b\b\b\b\b\b\b\b\b\b\b\b\b\b\b\b\b\b\b\b\b\b\b\b\b\b\b\b\b\b\b\b\b\b\b\b\b\b\b\r",
      "412416/412416 [==============================] - 11s 28us/sample - loss: 175.9305 - reconstruction_loss: 89.9938 - KL_loss: 21.8272 - val_loss: 106.3101 - val_reconstruction_loss: 84.9423 - val_KL_loss: 21.3678 - lr: 0.0012\n",
      "Epoch 412/1000\n"
     ]
    },
    {
     "name": "stdout",
     "output_type": "stream",
     "text": [
      "\r",
      "412416/412416 [==============================] - ETA: 0s - loss: 175.9516 - reconstruction_loss: 90.1077 - KL_loss: 21.7894"
     ]
    },
    {
     "name": "stdout",
     "output_type": "stream",
     "text": [
      "\b\b\b\b\b\b\b\b\b\b\b\b\b\b\b\b\b\b\b\b\b\b\b\b\b\b\b\b\b\b\b\b\b\b\b\b\b\b\b\b\b\b\b\b\b\b\b\b\b\b\b\b\b\b\b\b\b\b\b\b\b\b\b\b\b\b\b\b\b\b\b\b\b\b\b\b\b\b\b\b\b\b\b\b\b\b\b\b\b\b\b\b\b\b\b\b\b\b\b\b\b\b\b\b\b\b\b\b\b\b\b\b\b\b\b\b\b\b\b\b\b\b\b\r",
      "412416/412416 [==============================] - 12s 29us/sample - loss: 175.9516 - reconstruction_loss: 90.1077 - KL_loss: 21.7894 - val_loss: 106.2688 - val_reconstruction_loss: 84.8389 - val_KL_loss: 21.4299 - lr: 0.0012\n",
      "Epoch 413/1000\n"
     ]
    },
    {
     "name": "stdout",
     "output_type": "stream",
     "text": [
      "\r",
      "412416/412416 [==============================] - ETA: 0s - loss: 175.8983 - reconstruction_loss: 90.0028 - KL_loss: 21.8500"
     ]
    },
    {
     "name": "stdout",
     "output_type": "stream",
     "text": [
      "\b\b\b\b\b\b\b\b\b\b\b\b\b\b\b\b\b\b\b\b\b\b\b\b\b\b\b\b\b\b\b\b\b\b\b\b\b\b\b\b\b\b\b\b\b\b\b\b\b\b\b\b\b\b\b\b\b\b\b\b\b\b\b\b\b\b\b\b\b\b\b\b\b\b\b\b\b\b\b\b\b\b\b\b\b\b\b\b\b\b\b\b\b\b\b\b\b\b\b\b\b\b\b\b\b\b\b\b\b\b\b\b\b\b\b\b\b\b\b\b\b\b\b\r",
      "412416/412416 [==============================] - 11s 28us/sample - loss: 175.8983 - reconstruction_loss: 90.0028 - KL_loss: 21.8500 - val_loss: 106.1692 - val_reconstruction_loss: 84.6456 - val_KL_loss: 21.5237 - lr: 0.0012\n",
      "Epoch 414/1000\n"
     ]
    },
    {
     "name": "stdout",
     "output_type": "stream",
     "text": [
      "\r",
      "412416/412416 [==============================] - ETA: 0s - loss: 175.7342 - reconstruction_loss: 89.8386 - KL_loss: 21.9446"
     ]
    },
    {
     "name": "stdout",
     "output_type": "stream",
     "text": [
      "\b\b\b\b\b\b\b\b\b\b\b\b\b\b\b\b\b\b\b\b\b\b\b\b\b\b\b\b\b\b\b\b\b\b\b\b\b\b\b\b\b\b\b\b\b\b\b\b\b\b\b\b\b\b\b\b\b\b\b\b\b\b\b\b\b\b\b\b\b\b\b\b\b\b\b\b\b\b\b\b\b\b\b\b\b\b\b\b\b\b\b\b\b\b\b\b\b\b\b\b\b\b\b\b\b\b\b\b\b\b\b\b\b\b\b\b\b\b\b\b\b\b\b\r",
      "412416/412416 [==============================] - 13s 32us/sample - loss: 175.7342 - reconstruction_loss: 89.8386 - KL_loss: 21.9446 - val_loss: 106.3375 - val_reconstruction_loss: 84.9006 - val_KL_loss: 21.4370 - lr: 0.0012\n",
      "Epoch 415/1000\n"
     ]
    },
    {
     "name": "stdout",
     "output_type": "stream",
     "text": [
      "\r",
      "412416/412416 [==============================] - ETA: 0s - loss: 175.9949 - reconstruction_loss: 90.0507 - KL_loss: 21.8578"
     ]
    },
    {
     "name": "stdout",
     "output_type": "stream",
     "text": [
      "\b\b\b\b\b\b\b\b\b\b\b\b\b\b\b\b\b\b\b\b\b\b\b\b\b\b\b\b\b\b\b\b\b\b\b\b\b\b\b\b\b\b\b\b\b\b\b\b\b\b\b\b\b\b\b\b\b\b\b\b\b\b\b\b\b\b\b\b\b\b\b\b\b\b\b\b\b\b\b\b\b\b\b\b\b\b\b\b\b\b\b\b\b\b\b\b\b\b\b\b\b\b\b\b\b\b\b\b\b\b\b\b\b\b\b\b\b\b\b\b\b\b\b\r",
      "412416/412416 [==============================] - 14s 33us/sample - loss: 175.9949 - reconstruction_loss: 90.0507 - KL_loss: 21.8578 - val_loss: 106.2360 - val_reconstruction_loss: 84.8190 - val_KL_loss: 21.4169 - lr: 0.0012\n",
      "Epoch 416/1000\n"
     ]
    },
    {
     "name": "stdout",
     "output_type": "stream",
     "text": [
      "\r",
      "412416/412416 [==============================] - ETA: 0s - loss: 175.8964 - reconstruction_loss: 89.9868 - KL_loss: 21.8368"
     ]
    },
    {
     "name": "stdout",
     "output_type": "stream",
     "text": [
      "\b\b\b\b\b\b\b\b\b\b\b\b\b\b\b\b\b\b\b\b\b\b\b\b\b\b\b\b\b\b\b\b\b\b\b\b\b\b\b\b\b\b\b\b\b\b\b\b\b\b\b\b\b\b\b\b\b\b\b\b\b\b\b\b\b\b\b\b\b\b\b\b\b\b\b\b\b\b\b\b\b\b\b\b\b\b\b\b\b\b\b\b\b\b\b\b\b\b\b\b\b\b\b\b\b\b\b\b\b\b\b\b\b\b\b\b\b\b\b\b\b\b\b\r",
      "412416/412416 [==============================] - 11s 28us/sample - loss: 175.8964 - reconstruction_loss: 89.9868 - KL_loss: 21.8368 - val_loss: 106.3063 - val_reconstruction_loss: 84.7161 - val_KL_loss: 21.5902 - lr: 0.0012\n",
      "Epoch 417/1000\n"
     ]
    },
    {
     "name": "stdout",
     "output_type": "stream",
     "text": [
      "\r",
      "412416/412416 [==============================] - ETA: 0s - loss: 175.7839 - reconstruction_loss: 89.8618 - KL_loss: 22.0093"
     ]
    },
    {
     "name": "stdout",
     "output_type": "stream",
     "text": [
      "\b\b\b\b\b\b\b\b\b\b\b\b\b\b\b\b\b\b\b\b\b\b\b\b\b\b\b\b\b\b\b\b\b\b\b\b\b\b\b\b\b\b\b\b\b\b\b\b\b\b\b\b\b\b\b\b\b\b\b\b\b\b\b\b\b\b\b\b\b\b\b\b\b\b\b\b\b\b\b\b\b\b\b\b\b\b\b\b\b\b\b\b\b\b\b\b\b\b\b\b\b\b\b\b\b\b\b\b\b\b\b\b\b\b\b\b\b\b\b\b\b\b\b\r",
      "412416/412416 [==============================] - 11s 28us/sample - loss: 175.7839 - reconstruction_loss: 89.8618 - KL_loss: 22.0093 - val_loss: 106.1884 - val_reconstruction_loss: 84.6324 - val_KL_loss: 21.5559 - lr: 0.0012\n",
      "Epoch 418/1000\n"
     ]
    },
    {
     "name": "stdout",
     "output_type": "stream",
     "text": [
      "\r",
      "412416/412416 [==============================] - ETA: 0s - loss: 175.6630 - reconstruction_loss: 89.8283 - KL_loss: 21.9754"
     ]
    },
    {
     "name": "stdout",
     "output_type": "stream",
     "text": [
      "\b\b\b\b\b\b\b\b\b\b\b\b\b\b\b\b\b\b\b\b\b\b\b\b\b\b\b\b\b\b\b\b\b\b\b\b\b\b\b\b\b\b\b\b\b\b\b\b\b\b\b\b\b\b\b\b\b\b\b\b\b\b\b\b\b\b\b\b\b\b\b\b\b\b\b\b\b\b\b\b\b\b\b\b\b\b\b\b\b\b\b\b\b\b\b\b\b\b\b\b\b\b\b\b\b\b\b\b\b\b\b\b\b\b\b\b\b\b\b\b\b\b\b\r",
      "412416/412416 [==============================] - 11s 28us/sample - loss: 175.6630 - reconstruction_loss: 89.8283 - KL_loss: 21.9754 - val_loss: 106.2737 - val_reconstruction_loss: 84.8560 - val_KL_loss: 21.4178 - lr: 0.0012\n",
      "Epoch 419/1000\n"
     ]
    },
    {
     "name": "stdout",
     "output_type": "stream",
     "text": [
      "\r",
      "412416/412416 [==============================] - ETA: 0s - loss: 175.6745 - reconstruction_loss: 90.0275 - KL_loss: 21.8372"
     ]
    },
    {
     "name": "stdout",
     "output_type": "stream",
     "text": [
      "\b\b\b\b\b\b\b\b\b\b\b\b\b\b\b\b\b\b\b\b\b\b\b\b\b\b\b\b\b\b\b\b\b\b\b\b\b\b\b\b\b\b\b\b\b\b\b\b\b\b\b\b\b\b\b\b\b\b\b\b\b\b\b\b\b\b\b\b\b\b\b\b\b\b\b\b\b\b\b\b\b\b\b\b\b\b\b\b\b\b\b\b\b\b\b\b\b\b\b\b\b\b\b\b\b\b\b\b\b\b\b\b\b\b\b\b\b\b\b\b\b\b\b\r",
      "412416/412416 [==============================] - 11s 27us/sample - loss: 175.6745 - reconstruction_loss: 90.0275 - KL_loss: 21.8372 - val_loss: 106.2261 - val_reconstruction_loss: 84.7134 - val_KL_loss: 21.5127 - lr: 0.0012\n",
      "Epoch 420/1000\n"
     ]
    },
    {
     "name": "stdout",
     "output_type": "stream",
     "text": [
      "\r",
      "412416/412416 [==============================] - ETA: 0s - loss: 175.6781 - reconstruction_loss: 89.9055 - KL_loss: 21.9312"
     ]
    },
    {
     "name": "stdout",
     "output_type": "stream",
     "text": [
      "\b\b\b\b\b\b\b\b\b\b\b\b\b\b\b\b\b\b\b\b\b\b\b\b\b\b\b\b\b\b\b\b\b\b\b\b\b\b\b\b\b\b\b\b\b\b\b\b\b\b\b\b\b\b\b\b\b\b\b\b\b\b\b\b\b\b\b\b\b\b\b\b\b\b\b\b\b\b\b\b\b\b\b\b\b\b\b\b\b\b\b\b\b\b\b\b\b\b\b\b\b\b\b\b\b\b\b\b\b\b\b\b\b\b\b\b\b\b\b\b\b\b\b\r",
      "412416/412416 [==============================] - 11s 27us/sample - loss: 175.6781 - reconstruction_loss: 89.9055 - KL_loss: 21.9312 - val_loss: 106.1978 - val_reconstruction_loss: 84.6744 - val_KL_loss: 21.5234 - lr: 0.0012\n",
      "Epoch 421/1000\n"
     ]
    },
    {
     "name": "stdout",
     "output_type": "stream",
     "text": [
      "\r",
      "412416/412416 [==============================] - ETA: 0s - loss: 175.4747 - reconstruction_loss: 89.8519 - KL_loss: 21.9434"
     ]
    },
    {
     "name": "stdout",
     "output_type": "stream",
     "text": [
      "\b\b\b\b\b\b\b\b\b\b\b\b\b\b\b\b\b\b\b\b\b\b\b\b\b\b\b\b\b\b\b\b\b\b\b\b\b\b\b\b\b\b\b\b\b\b\b\b\b\b\b\b\b\b\b\b\b\b\b\b\b\b\b\b\b\b\b\b\b\b\b\b\b\b\b\b\b\b\b\b\b\b\b\b\b\b\b\b\b\b\b\b\b\b\b\b\b\b\b\b\b\b\b\b\b\b\b\b\b\b\b\b\b\b\b\b\b\b\b\b\b\b\b\r",
      "412416/412416 [==============================] - 11s 27us/sample - loss: 175.4747 - reconstruction_loss: 89.8519 - KL_loss: 21.9434 - val_loss: 106.2232 - val_reconstruction_loss: 84.8239 - val_KL_loss: 21.3993 - lr: 0.0012\n",
      "Epoch 422/1000\n"
     ]
    },
    {
     "name": "stdout",
     "output_type": "stream",
     "text": [
      "\r",
      "412416/412416 [==============================] - ETA: 0s - loss: 175.4775 - reconstruction_loss: 89.9882 - KL_loss: 21.8183"
     ]
    },
    {
     "name": "stdout",
     "output_type": "stream",
     "text": [
      "\b\b\b\b\b\b\b\b\b\b\b\b\b\b\b\b\b\b\b\b\b\b\b\b\b\b\b\b\b\b\b\b\b\b\b\b\b\b\b\b\b\b\b\b\b\b\b\b\b\b\b\b\b\b\b\b\b\b\b\b\b\b\b\b\b\b\b\b\b\b\b\b\b\b\b\b\b\b\b\b\b\b\b\b\b\b\b\b\b\b\b\b\b\b\b\b\b\b\b\b\b\b\b\b\b\b\b\b\b\b\b\b\b\b\b\b\b\b\b\b\b\b\b\r",
      "412416/412416 [==============================] - 11s 28us/sample - loss: 175.4775 - reconstruction_loss: 89.9882 - KL_loss: 21.8183 - val_loss: 106.1791 - val_reconstruction_loss: 84.7188 - val_KL_loss: 21.4602 - lr: 0.0012\n",
      "Epoch 423/1000\n"
     ]
    },
    {
     "name": "stdout",
     "output_type": "stream",
     "text": [
      "\r",
      "412416/412416 [==============================] - ETA: 0s - loss: 175.4216 - reconstruction_loss: 89.8900 - KL_loss: 21.8790"
     ]
    },
    {
     "name": "stdout",
     "output_type": "stream",
     "text": [
      "\b\b\b\b\b\b\b\b\b\b\b\b\b\b\b\b\b\b\b\b\b\b\b\b\b\b\b\b\b\b\b\b\b\b\b\b\b\b\b\b\b\b\b\b\b\b\b\b\b\b\b\b\b\b\b\b\b\b\b\b\b\b\b\b\b\b\b\b\b\b\b\b\b\b\b\b\b\b\b\b\b\b\b\b\b\b\b\b\b\b\b\b\b\b\b\b\b\b\b\b\b\b\b\b\b\b\b\b\b\b\b\b\b\b\b\b\b\b\b\b\b\b\b\r",
      "412416/412416 [==============================] - 11s 27us/sample - loss: 175.4216 - reconstruction_loss: 89.8900 - KL_loss: 21.8790 - val_loss: 106.2355 - val_reconstruction_loss: 84.6691 - val_KL_loss: 21.5663 - lr: 0.0012\n",
      "Epoch 424/1000\n"
     ]
    },
    {
     "name": "stdout",
     "output_type": "stream",
     "text": [
      "\r",
      "412416/412416 [==============================] - ETA: 0s - loss: 175.3745 - reconstruction_loss: 89.8186 - KL_loss: 21.9845"
     ]
    },
    {
     "name": "stdout",
     "output_type": "stream",
     "text": [
      "\b\b\b\b\b\b\b\b\b\b\b\b\b\b\b\b\b\b\b\b\b\b\b\b\b\b\b\b\b\b\b\b\b\b\b\b\b\b\b\b\b\b\b\b\b\b\b\b\b\b\b\b\b\b\b\b\b\b\b\b\b\b\b\b\b\b\b\b\b\b\b\b\b\b\b\b\b\b\b\b\b\b\b\b\b\b\b\b\b\b\b\b\b\b\b\b\b\b\b\b\b\b\b\b\b\b\b\b\b\b\b\b\b\b\b\b\b\b\b\b\b\b\b\r",
      "412416/412416 [==============================] - 15s 35us/sample - loss: 175.3745 - reconstruction_loss: 89.8186 - KL_loss: 21.9845 - val_loss: 106.2428 - val_reconstruction_loss: 84.6631 - val_KL_loss: 21.5797 - lr: 0.0010\n",
      "Epoch 425/1000\n"
     ]
    },
    {
     "name": "stdout",
     "output_type": "stream",
     "text": [
      "\r",
      "412416/412416 [==============================] - ETA: 0s - loss: 175.2722 - reconstruction_loss: 89.7945 - KL_loss: 22.0011"
     ]
    },
    {
     "name": "stdout",
     "output_type": "stream",
     "text": [
      "\b\b\b\b\b\b\b\b\b\b\b\b\b\b\b\b\b\b\b\b\b\b\b\b\b\b\b\b\b\b\b\b\b\b\b\b\b\b\b\b\b\b\b\b\b\b\b\b\b\b\b\b\b\b\b\b\b\b\b\b\b\b\b\b\b\b\b\b\b\b\b\b\b\b\b\b\b\b\b\b\b\b\b\b\b\b\b\b\b\b\b\b\b\b\b\b\b\b\b\b\b\b\b\b\b\b\b\b\b\b\b\b\b\b\b\b\b\b\b\b\b\b\b\r",
      "412416/412416 [==============================] - 11s 28us/sample - loss: 175.2722 - reconstruction_loss: 89.7945 - KL_loss: 22.0011 - val_loss: 106.1675 - val_reconstruction_loss: 84.6424 - val_KL_loss: 21.5251 - lr: 0.0010\n",
      "Epoch 426/1000\n"
     ]
    },
    {
     "name": "stdout",
     "output_type": "stream",
     "text": [
      "\r",
      "412416/412416 [==============================] - ETA: 0s - loss: 175.1241 - reconstruction_loss: 89.7998 - KL_loss: 21.9428"
     ]
    },
    {
     "name": "stdout",
     "output_type": "stream",
     "text": [
      "\b\b\b\b\b\b\b\b\b\b\b\b\b\b\b\b\b\b\b\b\b\b\b\b\b\b\b\b\b\b\b\b\b\b\b\b\b\b\b\b\b\b\b\b\b\b\b\b\b\b\b\b\b\b\b\b\b\b\b\b\b\b\b\b\b\b\b\b\b\b\b\b\b\b\b\b\b\b\b\b\b\b\b\b\b\b\b\b\b\b\b\b\b\b\b\b\b\b\b\b\b\b\b\b\b\b\b\b\b\b\b\b\b\b\b\b\b\b\b\b\b\b\b\r",
      "412416/412416 [==============================] - 12s 28us/sample - loss: 175.1241 - reconstruction_loss: 89.7998 - KL_loss: 21.9428 - val_loss: 106.1900 - val_reconstruction_loss: 84.7647 - val_KL_loss: 21.4253 - lr: 0.0010\n",
      "Epoch 427/1000\n"
     ]
    },
    {
     "name": "stdout",
     "output_type": "stream",
     "text": [
      "\r",
      "412416/412416 [==============================] - ETA: 0s - loss: 175.1246 - reconstruction_loss: 89.8987 - KL_loss: 21.8446"
     ]
    },
    {
     "name": "stdout",
     "output_type": "stream",
     "text": [
      "\b\b\b\b\b\b\b\b\b\b\b\b\b\b\b\b\b\b\b\b\b\b\b\b\b\b\b\b\b\b\b\b\b\b\b\b\b\b\b\b\b\b\b\b\b\b\b\b\b\b\b\b\b\b\b\b\b\b\b\b\b\b\b\b\b\b\b\b\b\b\b\b\b\b\b\b\b\b\b\b\b\b\b\b\b\b\b\b\b\b\b\b\b\b\b\b\b\b\b\b\b\b\b\b\b\b\b\b\b\b\b\b\b\b\b\b\b\b\b\b\b\b\b\r",
      "412416/412416 [==============================] - 11s 28us/sample - loss: 175.1246 - reconstruction_loss: 89.8987 - KL_loss: 21.8446 - val_loss: 106.2817 - val_reconstruction_loss: 84.8466 - val_KL_loss: 21.4350 - lr: 0.0010\n",
      "Epoch 428/1000\n"
     ]
    },
    {
     "name": "stdout",
     "output_type": "stream",
     "text": [
      "\r",
      "412416/412416 [==============================] - ETA: 0s - loss: 175.1952 - reconstruction_loss: 89.9968 - KL_loss: 21.8525"
     ]
    },
    {
     "name": "stdout",
     "output_type": "stream",
     "text": [
      "\b\b\b\b\b\b\b\b\b\b\b\b\b\b\b\b\b\b\b\b\b\b\b\b\b\b\b\b\b\b\b\b\b\b\b\b\b\b\b\b\b\b\b\b\b\b\b\b\b\b\b\b\b\b\b\b\b\b\b\b\b\b\b\b\b\b\b\b\b\b\b\b\b\b\b\b\b\b\b\b\b\b\b\b\b\b\b\b\b\b\b\b\b\b\b\b\b\b\b\b\b\b\b\b\b\b\b\b\b\b\b\b\b\b\b\b\b\b\b\b\b\b\b\r",
      "412416/412416 [==============================] - 11s 28us/sample - loss: 175.1952 - reconstruction_loss: 89.9968 - KL_loss: 21.8525 - val_loss: 106.1185 - val_reconstruction_loss: 84.6784 - val_KL_loss: 21.4402 - lr: 0.0010\n",
      "Epoch 429/1000\n"
     ]
    },
    {
     "name": "stdout",
     "output_type": "stream",
     "text": [
      "\r",
      "412416/412416 [==============================] - ETA: 0s - loss: 175.0014 - reconstruction_loss: 89.8631 - KL_loss: 21.8606"
     ]
    },
    {
     "name": "stdout",
     "output_type": "stream",
     "text": [
      "\b\b\b\b\b\b\b\b\b\b\b\b\b\b\b\b\b\b\b\b\b\b\b\b\b\b\b\b\b\b\b\b\b\b\b\b\b\b\b\b\b\b\b\b\b\b\b\b\b\b\b\b\b\b\b\b\b\b\b\b\b\b\b\b\b\b\b\b\b\b\b\b\b\b\b\b\b\b\b\b\b\b\b\b\b\b\b\b\b\b\b\b\b\b\b\b\b\b\b\b\b\b\b\b\b\b\b\b\b\b\b\b\b\b\b\b\b\b\b\b\b\b\b\r",
      "412416/412416 [==============================] - 17s 42us/sample - loss: 175.0014 - reconstruction_loss: 89.8631 - KL_loss: 21.8606 - val_loss: 106.1766 - val_reconstruction_loss: 84.5627 - val_KL_loss: 21.6138 - lr: 0.0010\n",
      "Epoch 430/1000\n"
     ]
    },
    {
     "name": "stdout",
     "output_type": "stream",
     "text": [
      "\r",
      "412416/412416 [==============================] - ETA: 0s - loss: 175.0841 - reconstruction_loss: 89.7465 - KL_loss: 22.0288"
     ]
    },
    {
     "name": "stdout",
     "output_type": "stream",
     "text": [
      "\b\b\b\b\b\b\b\b\b\b\b\b\b\b\b\b\b\b\b\b\b\b\b\b\b\b\b\b\b\b\b\b\b\b\b\b\b\b\b\b\b\b\b\b\b\b\b\b\b\b\b\b\b\b\b\b\b\b\b\b\b\b\b\b\b\b\b\b\b\b\b\b\b\b\b\b\b\b\b\b\b\b\b\b\b\b\b\b\b\b\b\b\b\b\b\b\b\b\b\b\b\b\b\b\b\b\b\b\b\b\b\b\b\b\b\b\b\b\b\b\b\b\b\r",
      "412416/412416 [==============================] - 11s 27us/sample - loss: 175.0841 - reconstruction_loss: 89.7465 - KL_loss: 22.0288 - val_loss: 106.1459 - val_reconstruction_loss: 84.5304 - val_KL_loss: 21.6154 - lr: 0.0010\n",
      "Epoch 431/1000\n"
     ]
    },
    {
     "name": "stdout",
     "output_type": "stream",
     "text": [
      "\r",
      "412416/412416 [==============================] - ETA: 0s - loss: 174.8743 - reconstruction_loss: 89.6731 - KL_loss: 22.0312"
     ]
    },
    {
     "name": "stdout",
     "output_type": "stream",
     "text": [
      "\b\b\b\b\b\b\b\b\b\b\b\b\b\b\b\b\b\b\b\b\b\b\b\b\b\b\b\b\b\b\b\b\b\b\b\b\b\b\b\b\b\b\b\b\b\b\b\b\b\b\b\b\b\b\b\b\b\b\b\b\b\b\b\b\b\b\b\b\b\b\b\b\b\b\b\b\b\b\b\b\b\b\b\b\b\b\b\b\b\b\b\b\b\b\b\b\b\b\b\b\b\b\b\b\b\b\b\b\b\b\b\b\b\b\b\b\b\b\b\b\b\b\b\r",
      "412416/412416 [==============================] - 15s 35us/sample - loss: 174.8743 - reconstruction_loss: 89.6731 - KL_loss: 22.0312 - val_loss: 106.3677 - val_reconstruction_loss: 84.8362 - val_KL_loss: 21.5315 - lr: 0.0010\n",
      "Epoch 432/1000\n"
     ]
    },
    {
     "name": "stdout",
     "output_type": "stream",
     "text": [
      "\r",
      "412416/412416 [==============================] - ETA: 0s - loss: 175.3176 - reconstruction_loss: 89.9721 - KL_loss: 21.9544"
     ]
    },
    {
     "name": "stdout",
     "output_type": "stream",
     "text": [
      "\b\b\b\b\b\b\b\b\b\b\b\b\b\b\b\b\b\b\b\b\b\b\b\b\b\b\b\b\b\b\b\b\b\b\b\b\b\b\b\b\b\b\b\b\b\b\b\b\b\b\b\b\b\b\b\b\b\b\b\b\b\b\b\b\b\b\b\b\b\b\b\b\b\b\b\b\b\b\b\b\b\b\b\b\b\b\b\b\b\b\b\b\b\b\b\b\b\b\b\b\b\b\b\b\b\b\b\b\b\b\b\b\b\b\b\b\b\b\b\b\b\b\b\r",
      "412416/412416 [==============================] - 15s 36us/sample - loss: 175.3176 - reconstruction_loss: 89.9721 - KL_loss: 21.9544 - val_loss: 106.2109 - val_reconstruction_loss: 84.6480 - val_KL_loss: 21.5629 - lr: 0.0010\n",
      "Epoch 433/1000\n"
     ]
    },
    {
     "name": "stdout",
     "output_type": "stream",
     "text": [
      "\r",
      "412416/412416 [==============================] - ETA: 0s - loss: 175.1455 - reconstruction_loss: 89.8190 - KL_loss: 21.9830"
     ]
    },
    {
     "name": "stdout",
     "output_type": "stream",
     "text": [
      "\b\b\b\b\b\b\b\b\b\b\b\b\b\b\b\b\b\b\b\b\b\b\b\b\b\b\b\b\b\b\b\b\b\b\b\b\b\b\b\b\b\b\b\b\b\b\b\b\b\b\b\b\b\b\b\b\b\b\b\b\b\b\b\b\b\b\b\b\b\b\b\b\b\b\b\b\b\b\b\b\b\b\b\b\b\b\b\b\b\b\b\b\b\b\b\b\b\b\b\b\b\b\b\b\b\b\b\b\b\b\b\b\b\b\b\b\b\b\b\b\b\b\b\r",
      "412416/412416 [==============================] - 11s 27us/sample - loss: 175.1455 - reconstruction_loss: 89.8190 - KL_loss: 21.9830 - val_loss: 106.3525 - val_reconstruction_loss: 84.7280 - val_KL_loss: 21.6245 - lr: 0.0010\n",
      "Epoch 434/1000\n"
     ]
    },
    {
     "name": "stdout",
     "output_type": "stream",
     "text": [
      "\r",
      "412416/412416 [==============================] - ETA: 0s - loss: 175.1297 - reconstruction_loss: 89.8713 - KL_loss: 22.0360"
     ]
    },
    {
     "name": "stdout",
     "output_type": "stream",
     "text": [
      "\b\b\b\b\b\b\b\b\b\b\b\b\b\b\b\b\b\b\b\b\b\b\b\b\b\b\b\b\b\b\b\b\b\b\b\b\b\b\b\b\b\b\b\b\b\b\b\b\b\b\b\b\b\b\b\b\b\b\b\b\b\b\b\b\b\b\b\b\b\b\b\b\b\b\b\b\b\b\b\b\b\b\b\b\b\b\b\b\b\b\b\b\b\b\b\b\b\b\b\b\b\b\b\b\b\b\b\b\b\b\b\b\b\b\b\b\b\b\b\b\b\b\b\r",
      "412416/412416 [==============================] - 20s 50us/sample - loss: 175.1297 - reconstruction_loss: 89.8713 - KL_loss: 22.0360 - val_loss: 106.2775 - val_reconstruction_loss: 84.7003 - val_KL_loss: 21.5771 - lr: 0.0010\n",
      "Epoch 435/1000\n"
     ]
    },
    {
     "name": "stdout",
     "output_type": "stream",
     "text": [
      "\r",
      "412416/412416 [==============================] - ETA: 0s - loss: 175.1766 - reconstruction_loss: 89.8738 - KL_loss: 21.9912"
     ]
    },
    {
     "name": "stdout",
     "output_type": "stream",
     "text": [
      "\b\b\b\b\b\b\b\b\b\b\b\b\b\b\b\b\b\b\b\b\b\b\b\b\b\b\b\b\b\b\b\b\b\b\b\b\b\b\b\b\b\b\b\b\b\b\b\b\b\b\b\b\b\b\b\b\b\b\b\b\b\b\b\b\b\b\b\b\b\b\b\b\b\b\b\b\b\b\b\b\b\b\b\b\b\b\b\b\b\b\b\b\b\b\b\b\b\b\b\b\b\b\b\b\b\b\b\b\b\b\b\b\b\b\b\b\b\b\b\b\b\b\b\r",
      "412416/412416 [==============================] - 13s 32us/sample - loss: 175.1766 - reconstruction_loss: 89.8738 - KL_loss: 21.9912 - val_loss: 106.1922 - val_reconstruction_loss: 84.6875 - val_KL_loss: 21.5047 - lr: 0.0010\n",
      "Epoch 436/1000\n"
     ]
    },
    {
     "name": "stdout",
     "output_type": "stream",
     "text": [
      "\r",
      "412416/412416 [==============================] - ETA: 0s - loss: 174.9165 - reconstruction_loss: 89.8759 - KL_loss: 21.9238"
     ]
    },
    {
     "name": "stdout",
     "output_type": "stream",
     "text": [
      "\b\b\b\b\b\b\b\b\b\b\b\b\b\b\b\b\b\b\b\b\b\b\b\b\b\b\b\b\b\b\b\b\b\b\b\b\b\b\b\b\b\b\b\b\b\b\b\b\b\b\b\b\b\b\b\b\b\b\b\b\b\b\b\b\b\b\b\b\b\b\b\b\b\b\b\b\b\b\b\b\b\b\b\b\b\b\b\b\b\b\b\b\b\b\b\b\b\b\b\b\b\b\b\b\b\b\b\b\b\b\b\b\b\b\b\b\b\b\b\b\b\b\b\r",
      "412416/412416 [==============================] - 12s 28us/sample - loss: 174.9165 - reconstruction_loss: 89.8759 - KL_loss: 21.9238 - val_loss: 106.3197 - val_reconstruction_loss: 84.7196 - val_KL_loss: 21.6001 - lr: 0.0010\n",
      "Epoch 437/1000\n"
     ]
    },
    {
     "name": "stdout",
     "output_type": "stream",
     "text": [
      "\r",
      "412416/412416 [==============================] - ETA: 0s - loss: 174.9815 - reconstruction_loss: 89.8620 - KL_loss: 22.0167"
     ]
    },
    {
     "name": "stdout",
     "output_type": "stream",
     "text": [
      "\b\b\b\b\b\b\b\b\b\b\b\b\b\b\b\b\b\b\b\b\b\b\b\b\b\b\b\b\b\b\b\b\b\b\b\b\b\b\b\b\b\b\b\b\b\b\b\b\b\b\b\b\b\b\b\b\b\b\b\b\b\b\b\b\b\b\b\b\b\b\b\b\b\b\b\b\b\b\b\b\b\b\b\b\b\b\b\b\b\b\b\b\b\b\b\b\b\b\b\b\b\b\b\b\b\b\b\b\b\b\b\b\b\b\b\b\b\b\b\b\b\b\b\r",
      "412416/412416 [==============================] - 11s 28us/sample - loss: 174.9815 - reconstruction_loss: 89.8620 - KL_loss: 22.0167 - val_loss: 106.2153 - val_reconstruction_loss: 84.6032 - val_KL_loss: 21.6121 - lr: 0.0010\n",
      "Epoch 438/1000\n"
     ]
    },
    {
     "name": "stdout",
     "output_type": "stream",
     "text": [
      "\r",
      "412416/412416 [==============================] - ETA: 0s - loss: 174.8167 - reconstruction_loss: 89.7384 - KL_loss: 22.0286"
     ]
    },
    {
     "name": "stdout",
     "output_type": "stream",
     "text": [
      "\b\b\b\b\b\b\b\b\b\b\b\b\b\b\b\b\b\b\b\b\b\b\b\b\b\b\b\b\b\b\b\b\b\b\b\b\b\b\b\b\b\b\b\b\b\b\b\b\b\b\b\b\b\b\b\b\b\b\b\b\b\b\b\b\b\b\b\b\b\b\b\b\b\b\b\b\b\b\b\b\b\b\b\b\b\b\b\b\b\b\b\b\b\b\b\b\b\b\b\b\b\b\b\b\b\b\b\b\b\b\b\b\b\b\b\b\b\b\b\b\b\b\b\r",
      "412416/412416 [==============================] - 11s 28us/sample - loss: 174.8167 - reconstruction_loss: 89.7384 - KL_loss: 22.0286 - val_loss: 106.2731 - val_reconstruction_loss: 84.7511 - val_KL_loss: 21.5220 - lr: 0.0010\n",
      "Epoch 439/1000\n"
     ]
    },
    {
     "name": "stdout",
     "output_type": "stream",
     "text": [
      "\r",
      "412416/412416 [==============================] - ETA: 0s - loss: 174.8295 - reconstruction_loss: 89.8799 - KL_loss: 21.9380"
     ]
    },
    {
     "name": "stdout",
     "output_type": "stream",
     "text": [
      "\b\b\b\b\b\b\b\b\b\b\b\b\b\b\b\b\b\b\b\b\b\b\b\b\b\b\b\b\b\b\b\b\b\b\b\b\b\b\b\b\b\b\b\b\b\b\b\b\b\b\b\b\b\b\b\b\b\b\b\b\b\b\b\b\b\b\b\b\b\b\b\b\b\b\b\b\b\b\b\b\b\b\b\b\b\b\b\b\b\b\b\b\b\b\b\b\b\b\b\b\b\b\b\b\b\b\b\b\b\b\b\b\b\b\b\b\b\b\b\b\b\b\b\r",
      "412416/412416 [==============================] - 12s 29us/sample - loss: 174.8295 - reconstruction_loss: 89.8799 - KL_loss: 21.9380 - val_loss: 106.2512 - val_reconstruction_loss: 84.7104 - val_KL_loss: 21.5408 - lr: 9.4143e-04\n",
      "Epoch 440/1000\n"
     ]
    },
    {
     "name": "stdout",
     "output_type": "stream",
     "text": [
      "\r",
      "412416/412416 [==============================] - ETA: 0s - loss: 174.7723 - reconstruction_loss: 89.8398 - KL_loss: 21.9536"
     ]
    },
    {
     "name": "stdout",
     "output_type": "stream",
     "text": [
      "\b\b\b\b\b\b\b\b\b\b\b\b\b\b\b\b\b\b\b\b\b\b\b\b\b\b\b\b\b\b\b\b\b\b\b\b\b\b\b\b\b\b\b\b\b\b\b\b\b\b\b\b\b\b\b\b\b\b\b\b\b\b\b\b\b\b\b\b\b\b\b\b\b\b\b\b\b\b\b\b\b\b\b\b\b\b\b\b\b\b\b\b\b\b\b\b\b\b\b\b\b\b\b\b\b\b\b\b\b\b\b\b\b\b\b\b\b\b\b\b\b\b\b\r",
      "412416/412416 [==============================] - 11s 28us/sample - loss: 174.7723 - reconstruction_loss: 89.8398 - KL_loss: 21.9536 - val_loss: 106.1671 - val_reconstruction_loss: 84.6131 - val_KL_loss: 21.5541 - lr: 9.4143e-04\n",
      "Epoch 441/1000\n"
     ]
    },
    {
     "name": "stdout",
     "output_type": "stream",
     "text": [
      "\r",
      "412416/412416 [==============================] - ETA: 0s - loss: 174.6334 - reconstruction_loss: 89.7619 - KL_loss: 21.9675"
     ]
    },
    {
     "name": "stdout",
     "output_type": "stream",
     "text": [
      "\b\b\b\b\b\b\b\b\b\b\b\b\b\b\b\b\b\b\b\b\b\b\b\b\b\b\b\b\b\b\b\b\b\b\b\b\b\b\b\b\b\b\b\b\b\b\b\b\b\b\b\b\b\b\b\b\b\b\b\b\b\b\b\b\b\b\b\b\b\b\b\b\b\b\b\b\b\b\b\b\b\b\b\b\b\b\b\b\b\b\b\b\b\b\b\b\b\b\b\b\b\b\b\b\b\b\b\b\b\b\b\b\b\b\b\b\b\b\b\b\b\b\b\r",
      "412416/412416 [==============================] - 12s 28us/sample - loss: 174.6334 - reconstruction_loss: 89.7619 - KL_loss: 21.9675 - val_loss: 106.3033 - val_reconstruction_loss: 84.7725 - val_KL_loss: 21.5307 - lr: 9.4143e-04\n",
      "Epoch 442/1000\n"
     ]
    },
    {
     "name": "stdout",
     "output_type": "stream",
     "text": [
      "\r",
      "412416/412416 [==============================] - ETA: 0s - loss: 174.7806 - reconstruction_loss: 89.9225 - KL_loss: 21.9485"
     ]
    },
    {
     "name": "stdout",
     "output_type": "stream",
     "text": [
      "\b\b\b\b\b\b\b\b\b\b\b\b\b\b\b\b\b\b\b\b\b\b\b\b\b\b\b\b\b\b\b\b\b\b\b\b\b\b\b\b\b\b\b\b\b\b\b\b\b\b\b\b\b\b\b\b\b\b\b\b\b\b\b\b\b\b\b\b\b\b\b\b\b\b\b\b\b\b\b\b\b\b\b\b\b\b\b\b\b\b\b\b\b\b\b\b\b\b\b\b\b\b\b\b\b\b\b\b\b\b\b\b\b\b\b\b\b\b\b\b\b\b\b\r",
      "412416/412416 [==============================] - 12s 29us/sample - loss: 174.7806 - reconstruction_loss: 89.9225 - KL_loss: 21.9485 - val_loss: 106.1418 - val_reconstruction_loss: 84.5536 - val_KL_loss: 21.5881 - lr: 9.4143e-04\n",
      "Epoch 443/1000\n"
     ]
    },
    {
     "name": "stdout",
     "output_type": "stream",
     "text": [
      "\r",
      "412416/412416 [==============================] - ETA: 0s - loss: 174.6264 - reconstruction_loss: 89.7299 - KL_loss: 22.0043"
     ]
    },
    {
     "name": "stdout",
     "output_type": "stream",
     "text": [
      "\b\b\b\b\b\b\b\b\b\b\b\b\b\b\b\b\b\b\b\b\b\b\b\b\b\b\b\b\b\b\b\b\b\b\b\b\b\b\b\b\b\b\b\b\b\b\b\b\b\b\b\b\b\b\b\b\b\b\b\b\b\b\b\b\b\b\b\b\b\b\b\b\b\b\b\b\b\b\b\b\b\b\b\b\b\b\b\b\b\b\b\b\b\b\b\b\b\b\b\b\b\b\b\b\b\b\b\b\b\b\b\b\b\b\b\b\b\b\b\b\b\b\b\r",
      "412416/412416 [==============================] - 11s 27us/sample - loss: 174.6264 - reconstruction_loss: 89.7299 - KL_loss: 22.0043 - val_loss: 106.2472 - val_reconstruction_loss: 84.5481 - val_KL_loss: 21.6991 - lr: 9.4143e-04\n",
      "Epoch 444/1000\n"
     ]
    },
    {
     "name": "stdout",
     "output_type": "stream",
     "text": [
      "\r",
      "412416/412416 [==============================] - ETA: 0s - loss: 174.6002 - reconstruction_loss: 89.7122 - KL_loss: 22.1121"
     ]
    },
    {
     "name": "stdout",
     "output_type": "stream",
     "text": [
      "\b\b\b\b\b\b\b\b\b\b\b\b\b\b\b\b\b\b\b\b\b\b\b\b\b\b\b\b\b\b\b\b\b\b\b\b\b\b\b\b\b\b\b\b\b\b\b\b\b\b\b\b\b\b\b\b\b\b\b\b\b\b\b\b\b\b\b\b\b\b\b\b\b\b\b\b\b\b\b\b\b\b\b\b\b\b\b\b\b\b\b\b\b\b\b\b\b\b\b\b\b\b\b\b\b\b\b\b\b\b\b\b\b\b\b\b\b\b\b\b\b\b\b\r",
      "412416/412416 [==============================] - 13s 31us/sample - loss: 174.6002 - reconstruction_loss: 89.7122 - KL_loss: 22.1121 - val_loss: 106.1849 - val_reconstruction_loss: 84.4609 - val_KL_loss: 21.7240 - lr: 9.4143e-04\n",
      "Epoch 445/1000\n"
     ]
    },
    {
     "name": "stdout",
     "output_type": "stream",
     "text": [
      "\r",
      "412416/412416 [==============================] - ETA: 0s - loss: 174.5795 - reconstruction_loss: 89.6047 - KL_loss: 22.1384"
     ]
    },
    {
     "name": "stdout",
     "output_type": "stream",
     "text": [
      "\b\b\b\b\b\b\b\b\b\b\b\b\b\b\b\b\b\b\b\b\b\b\b\b\b\b\b\b\b\b\b\b\b\b\b\b\b\b\b\b\b\b\b\b\b\b\b\b\b\b\b\b\b\b\b\b\b\b\b\b\b\b\b\b\b\b\b\b\b\b\b\b\b\b\b\b\b\b\b\b\b\b\b\b\b\b\b\b\b\b\b\b\b\b\b\b\b\b\b\b\b\b\b\b\b\b\b\b\b\b\b\b\b\b\b\b\b\b\b\b\b\b\b\r",
      "412416/412416 [==============================] - 16s 38us/sample - loss: 174.5795 - reconstruction_loss: 89.6047 - KL_loss: 22.1384 - val_loss: 106.1377 - val_reconstruction_loss: 84.5117 - val_KL_loss: 21.6260 - lr: 9.4143e-04\n",
      "Epoch 446/1000\n"
     ]
    },
    {
     "name": "stdout",
     "output_type": "stream",
     "text": [
      "\r",
      "412416/412416 [==============================] - ETA: 0s - loss: 174.3665 - reconstruction_loss: 89.6595 - KL_loss: 22.0413"
     ]
    },
    {
     "name": "stdout",
     "output_type": "stream",
     "text": [
      "\b\b\b\b\b\b\b\b\b\b\b\b\b\b\b\b\b\b\b\b\b\b\b\b\b\b\b\b\b\b\b\b\b\b\b\b\b\b\b\b\b\b\b\b\b\b\b\b\b\b\b\b\b\b\b\b\b\b\b\b\b\b\b\b\b\b\b\b\b\b\b\b\b\b\b\b\b\b\b\b\b\b\b\b\b\b\b\b\b\b\b\b\b\b\b\b\b\b\b\b\b\b\b\b\b\b\b\b\b\b\b\b\b\b\b\b\b\b\b\b\b\b\b\r",
      "412416/412416 [==============================] - 11s 27us/sample - loss: 174.3665 - reconstruction_loss: 89.6595 - KL_loss: 22.0413 - val_loss: 106.2368 - val_reconstruction_loss: 84.7275 - val_KL_loss: 21.5093 - lr: 9.4143e-04\n",
      "Epoch 447/1000\n"
     ]
    },
    {
     "name": "stdout",
     "output_type": "stream",
     "text": [
      "\r",
      "412416/412416 [==============================] - ETA: 0s - loss: 174.5139 - reconstruction_loss: 89.8548 - KL_loss: 21.9255"
     ]
    },
    {
     "name": "stdout",
     "output_type": "stream",
     "text": [
      "\b\b\b\b\b\b\b\b\b\b\b\b\b\b\b\b\b\b\b\b\b\b\b\b\b\b\b\b\b\b\b\b\b\b\b\b\b\b\b\b\b\b\b\b\b\b\b\b\b\b\b\b\b\b\b\b\b\b\b\b\b\b\b\b\b\b\b\b\b\b\b\b\b\b\b\b\b\b\b\b\b\b\b\b\b\b\b\b\b\b\b\b\b\b\b\b\b\b\b\b\b\b\b\b\b\b\b\b\b\b\b\b\b\b\b\b\b\b\b\b\b\b\b\r",
      "412416/412416 [==============================] - 14s 34us/sample - loss: 174.5139 - reconstruction_loss: 89.8548 - KL_loss: 21.9255 - val_loss: 106.1168 - val_reconstruction_loss: 84.6295 - val_KL_loss: 21.4874 - lr: 9.4143e-04\n",
      "Epoch 448/1000\n"
     ]
    },
    {
     "name": "stdout",
     "output_type": "stream",
     "text": [
      "\r",
      "412416/412416 [==============================] - ETA: 0s - loss: 174.3523 - reconstruction_loss: 89.7881 - KL_loss: 21.9042"
     ]
    },
    {
     "name": "stdout",
     "output_type": "stream",
     "text": [
      "\b\b\b\b\b\b\b\b\b\b\b\b\b\b\b\b\b\b\b\b\b\b\b\b\b\b\b\b\b\b\b\b\b\b\b\b\b\b\b\b\b\b\b\b\b\b\b\b\b\b\b\b\b\b\b\b\b\b\b\b\b\b\b\b\b\b\b\b\b\b\b\b\b\b\b\b\b\b\b\b\b\b\b\b\b\b\b\b\b\b\b\b\b\b\b\b\b\b\b\b\b\b\b\b\b\b\b\b\b\b\b\b\b\b\b\b\b\b\b\b\b\b\b\r",
      "412416/412416 [==============================] - 13s 33us/sample - loss: 174.3523 - reconstruction_loss: 89.7881 - KL_loss: 21.9042 - val_loss: 106.2719 - val_reconstruction_loss: 84.6701 - val_KL_loss: 21.6018 - lr: 9.4143e-04\n",
      "Epoch 449/1000\n"
     ]
    },
    {
     "name": "stdout",
     "output_type": "stream",
     "text": [
      "\r",
      "412416/412416 [==============================] - ETA: 0s - loss: 174.4717 - reconstruction_loss: 89.7856 - KL_loss: 22.0175"
     ]
    },
    {
     "name": "stdout",
     "output_type": "stream",
     "text": [
      "\b\b\b\b\b\b\b\b\b\b\b\b\b\b\b\b\b\b\b\b\b\b\b\b\b\b\b\b\b\b\b\b\b\b\b\b\b\b\b\b\b\b\b\b\b\b\b\b\b\b\b\b\b\b\b\b\b\b\b\b\b\b\b\b\b\b\b\b\b\b\b\b\b\b\b\b\b\b\b\b\b\b\b\b\b\b\b\b\b\b\b\b\b\b\b\b\b\b\b\b\b\b\b\b\b\b\b\b\b\b\b\b\b\b\b\b\b\b\b\b\b\b\b\r",
      "412416/412416 [==============================] - 11s 28us/sample - loss: 174.4717 - reconstruction_loss: 89.7856 - KL_loss: 22.0175 - val_loss: 106.1912 - val_reconstruction_loss: 84.5057 - val_KL_loss: 21.6855 - lr: 9.4143e-04\n",
      "Epoch 450/1000\n"
     ]
    },
    {
     "name": "stdout",
     "output_type": "stream",
     "text": [
      "\r",
      "412416/412416 [==============================] - ETA: 0s - loss: 174.4960 - reconstruction_loss: 89.6301 - KL_loss: 22.1004"
     ]
    },
    {
     "name": "stdout",
     "output_type": "stream",
     "text": [
      "\b\b\b\b\b\b\b\b\b\b\b\b\b\b\b\b\b\b\b\b\b\b\b\b\b\b\b\b\b\b\b\b\b\b\b\b\b\b\b\b\b\b\b\b\b\b\b\b\b\b\b\b\b\b\b\b\b\b\b\b\b\b\b\b\b\b\b\b\b\b\b\b\b\b\b\b\b\b\b\b\b\b\b\b\b\b\b\b\b\b\b\b\b\b\b\b\b\b\b\b\b\b\b\b\b\b\b\b\b\b\b\b\b\b\b\b\b\b\b\b\b\b\b\r",
      "412416/412416 [==============================] - 11s 28us/sample - loss: 174.4960 - reconstruction_loss: 89.6301 - KL_loss: 22.1004 - val_loss: 106.1987 - val_reconstruction_loss: 84.5524 - val_KL_loss: 21.6463 - lr: 9.4143e-04\n",
      "Epoch 451/1000\n"
     ]
    },
    {
     "name": "stdout",
     "output_type": "stream",
     "text": [
      "\r",
      "412416/412416 [==============================] - ETA: 0s - loss: 174.2656 - reconstruction_loss: 89.6935 - KL_loss: 22.0613"
     ]
    },
    {
     "name": "stdout",
     "output_type": "stream",
     "text": [
      "\b\b\b\b\b\b\b\b\b\b\b\b\b\b\b\b\b\b\b\b\b\b\b\b\b\b\b\b\b\b\b\b\b\b\b\b\b\b\b\b\b\b\b\b\b\b\b\b\b\b\b\b\b\b\b\b\b\b\b\b\b\b\b\b\b\b\b\b\b\b\b\b\b\b\b\b\b\b\b\b\b\b\b\b\b\b\b\b\b\b\b\b\b\b\b\b\b\b\b\b\b\b\b\b\b\b\b\b\b\b\b\b\b\b\b\b\b\b\b\b\b\b\b\r",
      "412416/412416 [==============================] - 12s 28us/sample - loss: 174.2656 - reconstruction_loss: 89.6935 - KL_loss: 22.0613 - val_loss: 106.1345 - val_reconstruction_loss: 84.5402 - val_KL_loss: 21.5943 - lr: 9.4143e-04\n",
      "Epoch 452/1000\n"
     ]
    },
    {
     "name": "stdout",
     "output_type": "stream",
     "text": [
      "\r",
      "412416/412416 [==============================] - ETA: 0s - loss: 174.2796 - reconstruction_loss: 89.7107 - KL_loss: 22.0113"
     ]
    },
    {
     "name": "stdout",
     "output_type": "stream",
     "text": [
      "\b\b\b\b\b\b\b\b\b\b\b\b\b\b\b\b\b\b\b\b\b\b\b\b\b\b\b\b\b\b\b\b\b\b\b\b\b\b\b\b\b\b\b\b\b\b\b\b\b\b\b\b\b\b\b\b\b\b\b\b\b\b\b\b\b\b\b\b\b\b\b\b\b\b\b\b\b\b\b\b\b\b\b\b\b\b\b\b\b\b\b\b\b\b\b\b\b\b\b\b\b\b\b\b\b\b\b\b\b\b\b\b\b\b\b\b\b\b\b\b\b\b\b\r",
      "412416/412416 [==============================] - 11s 28us/sample - loss: 174.2796 - reconstruction_loss: 89.7107 - KL_loss: 22.0113 - val_loss: 106.1670 - val_reconstruction_loss: 84.5460 - val_KL_loss: 21.6210 - lr: 9.4143e-04\n",
      "Epoch 453/1000\n"
     ]
    },
    {
     "name": "stdout",
     "output_type": "stream",
     "text": [
      "\r",
      "412416/412416 [==============================] - ETA: 0s - loss: 174.2475 - reconstruction_loss: 89.6940 - KL_loss: 22.0376"
     ]
    },
    {
     "name": "stdout",
     "output_type": "stream",
     "text": [
      "\b\b\b\b\b\b\b\b\b\b\b\b\b\b\b\b\b\b\b\b\b\b\b\b\b\b\b\b\b\b\b\b\b\b\b\b\b\b\b\b\b\b\b\b\b\b\b\b\b\b\b\b\b\b\b\b\b\b\b\b\b\b\b\b\b\b\b\b\b\b\b\b\b\b\b\b\b\b\b\b\b\b\b\b\b\b\b\b\b\b\b\b\b\b\b\b\b\b\b\b\b\b\b\b\b\b\b\b\b\b\b\b\b\b\b\b\b\b\b\b\b\b\b\r",
      "412416/412416 [==============================] - 12s 28us/sample - loss: 174.2475 - reconstruction_loss: 89.6940 - KL_loss: 22.0376 - val_loss: 106.1669 - val_reconstruction_loss: 84.5305 - val_KL_loss: 21.6364 - lr: 9.4143e-04\n",
      "Epoch 454/1000\n"
     ]
    },
    {
     "name": "stdout",
     "output_type": "stream",
     "text": [
      "\r",
      "412416/412416 [==============================] - ETA: 0s - loss: 174.1267 - reconstruction_loss: 89.6471 - KL_loss: 22.0515"
     ]
    },
    {
     "name": "stdout",
     "output_type": "stream",
     "text": [
      "\b\b\b\b\b\b\b\b\b\b\b\b\b\b\b\b\b\b\b\b\b\b\b\b\b\b\b\b\b\b\b\b\b\b\b\b\b\b\b\b\b\b\b\b\b\b\b\b\b\b\b\b\b\b\b\b\b\b\b\b\b\b\b\b\b\b\b\b\b\b\b\b\b\b\b\b\b\b\b\b\b\b\b\b\b\b\b\b\b\b\b\b\b\b\b\b\b\b\b\b\b\b\b\b\b\b\b\b\b\b\b\b\b\b\b\b\b\b\b\b\b\b\b\r",
      "412416/412416 [==============================] - 14s 34us/sample - loss: 174.1267 - reconstruction_loss: 89.6471 - KL_loss: 22.0515 - val_loss: 106.1525 - val_reconstruction_loss: 84.5107 - val_KL_loss: 21.6419 - lr: 9.4143e-04\n",
      "Epoch 455/1000\n"
     ]
    },
    {
     "name": "stdout",
     "output_type": "stream",
     "text": [
      "\r",
      "412416/412416 [==============================] - ETA: 0s - loss: 174.1772 - reconstruction_loss: 89.6388 - KL_loss: 22.0562"
     ]
    },
    {
     "name": "stdout",
     "output_type": "stream",
     "text": [
      "\b\b\b\b\b\b\b\b\b\b\b\b\b\b\b\b\b\b\b\b\b\b\b\b\b\b\b\b\b\b\b\b\b\b\b\b\b\b\b\b\b\b\b\b\b\b\b\b\b\b\b\b\b\b\b\b\b\b\b\b\b\b\b\b\b\b\b\b\b\b\b\b\b\b\b\b\b\b\b\b\b\b\b\b\b\b\b\b\b\b\b\b\b\b\b\b\b\b\b\b\b\b\b\b\b\b\b\b\b\b\b\b\b\b\b\b\b\b\b\b\b\b\b\r",
      "412416/412416 [==============================] - 12s 29us/sample - loss: 174.1772 - reconstruction_loss: 89.6388 - KL_loss: 22.0562 - val_loss: 106.1097 - val_reconstruction_loss: 84.4845 - val_KL_loss: 21.6252 - lr: 9.4143e-04\n",
      "Epoch 456/1000\n"
     ]
    },
    {
     "name": "stdout",
     "output_type": "stream",
     "text": [
      "\r",
      "412416/412416 [==============================] - ETA: 0s - loss: 173.9997 - reconstruction_loss: 89.6236 - KL_loss: 22.0411"
     ]
    },
    {
     "name": "stdout",
     "output_type": "stream",
     "text": [
      "\b\b\b\b\b\b\b\b\b\b\b\b\b\b\b\b\b\b\b\b\b\b\b\b\b\b\b\b\b\b\b\b\b\b\b\b\b\b\b\b\b\b\b\b\b\b\b\b\b\b\b\b\b\b\b\b\b\b\b\b\b\b\b\b\b\b\b\b\b\b\b\b\b\b\b\b\b\b\b\b\b\b\b\b\b\b\b\b\b\b\b\b\b\b\b\b\b\b\b\b\b\b\b\b\b\b\b\b\b\b\b\b\b\b\b\b\b\b\b\b\b\b\b\r",
      "412416/412416 [==============================] - 12s 28us/sample - loss: 173.9997 - reconstruction_loss: 89.6236 - KL_loss: 22.0411 - val_loss: 106.1527 - val_reconstruction_loss: 84.5475 - val_KL_loss: 21.6052 - lr: 9.4143e-04\n",
      "Epoch 457/1000\n"
     ]
    },
    {
     "name": "stdout",
     "output_type": "stream",
     "text": [
      "\r",
      "412416/412416 [==============================] - ETA: 0s - loss: 174.0593 - reconstruction_loss: 89.6745 - KL_loss: 22.0203"
     ]
    },
    {
     "name": "stdout",
     "output_type": "stream",
     "text": [
      "\b\b\b\b\b\b\b\b\b\b\b\b\b\b\b\b\b\b\b\b\b\b\b\b\b\b\b\b\b\b\b\b\b\b\b\b\b\b\b\b\b\b\b\b\b\b\b\b\b\b\b\b\b\b\b\b\b\b\b\b\b\b\b\b\b\b\b\b\b\b\b\b\b\b\b\b\b\b\b\b\b\b\b\b\b\b\b\b\b\b\b\b\b\b\b\b\b\b\b\b\b\b\b\b\b\b\b\b\b\b\b\b\b\b\b\b\b\b\b\b\b\b\b\r",
      "412416/412416 [==============================] - 11s 28us/sample - loss: 174.0593 - reconstruction_loss: 89.6745 - KL_loss: 22.0203 - val_loss: 106.0762 - val_reconstruction_loss: 84.4530 - val_KL_loss: 21.6232 - lr: 9.4143e-04\n",
      "Epoch 458/1000\n"
     ]
    },
    {
     "name": "stdout",
     "output_type": "stream",
     "text": [
      "\r",
      "412416/412416 [==============================] - ETA: 0s - loss: 173.8358 - reconstruction_loss: 89.6116 - KL_loss: 22.0377"
     ]
    },
    {
     "name": "stdout",
     "output_type": "stream",
     "text": [
      "\b\b\b\b\b\b\b\b\b\b\b\b\b\b\b\b\b\b\b\b\b\b\b\b\b\b\b\b\b\b\b\b\b\b\b\b\b\b\b\b\b\b\b\b\b\b\b\b\b\b\b\b\b\b\b\b\b\b\b\b\b\b\b\b\b\b\b\b\b\b\b\b\b\b\b\b\b\b\b\b\b\b\b\b\b\b\b\b\b\b\b\b\b\b\b\b\b\b\b\b\b\b\b\b\b\b\b\b\b\b\b\b\b\b\b\b\b\b\b\b\b\b\b\r",
      "412416/412416 [==============================] - 13s 31us/sample - loss: 173.8358 - reconstruction_loss: 89.6116 - KL_loss: 22.0377 - val_loss: 106.1865 - val_reconstruction_loss: 84.5783 - val_KL_loss: 21.6083 - lr: 9.4143e-04\n",
      "Epoch 459/1000\n"
     ]
    },
    {
     "name": "stdout",
     "output_type": "stream",
     "text": [
      "\r",
      "412416/412416 [==============================] - ETA: 0s - loss: 174.0736 - reconstruction_loss: 89.7480 - KL_loss: 22.0232"
     ]
    },
    {
     "name": "stdout",
     "output_type": "stream",
     "text": [
      "\b\b\b\b\b\b\b\b\b\b\b\b\b\b\b\b\b\b\b\b\b\b\b\b\b\b\b\b\b\b\b\b\b\b\b\b\b\b\b\b\b\b\b\b\b\b\b\b\b\b\b\b\b\b\b\b\b\b\b\b\b\b\b\b\b\b\b\b\b\b\b\b\b\b\b\b\b\b\b\b\b\b\b\b\b\b\b\b\b\b\b\b\b\b\b\b\b\b\b\b\b\b\b\b\b\b\b\b\b\b\b\b\b\b\b\b\b\b\b\b\b\b\b\r",
      "412416/412416 [==============================] - 13s 31us/sample - loss: 174.0736 - reconstruction_loss: 89.7480 - KL_loss: 22.0232 - val_loss: 106.0808 - val_reconstruction_loss: 84.4631 - val_KL_loss: 21.6177 - lr: 9.4143e-04\n",
      "Epoch 460/1000\n"
     ]
    },
    {
     "name": "stdout",
     "output_type": "stream",
     "text": [
      "\r",
      "412416/412416 [==============================] - ETA: 0s - loss: 173.9535 - reconstruction_loss: 89.5981 - KL_loss: 22.0319"
     ]
    },
    {
     "name": "stdout",
     "output_type": "stream",
     "text": [
      "\b\b\b\b\b\b\b\b\b\b\b\b\b\b\b\b\b\b\b\b\b\b\b\b\b\b\b\b\b\b\b\b\b\b\b\b\b\b\b\b\b\b\b\b\b\b\b\b\b\b\b\b\b\b\b\b\b\b\b\b\b\b\b\b\b\b\b\b\b\b\b\b\b\b\b\b\b\b\b\b\b\b\b\b\b\b\b\b\b\b\b\b\b\b\b\b\b\b\b\b\b\b\b\b\b\b\b\b\b\b\b\b\b\b\b\b\b\b\b\b\b\b\b\r",
      "412416/412416 [==============================] - 12s 28us/sample - loss: 173.9535 - reconstruction_loss: 89.5981 - KL_loss: 22.0319 - val_loss: 106.2678 - val_reconstruction_loss: 84.6408 - val_KL_loss: 21.6270 - lr: 9.4143e-04\n",
      "Epoch 461/1000\n"
     ]
    },
    {
     "name": "stdout",
     "output_type": "stream",
     "text": [
      "\r",
      "412416/412416 [==============================] - ETA: 0s - loss: 174.0720 - reconstruction_loss: 89.7577 - KL_loss: 22.0414"
     ]
    },
    {
     "name": "stdout",
     "output_type": "stream",
     "text": [
      "\b\b\b\b\b\b\b\b\b\b\b\b\b\b\b\b\b\b\b\b\b\b\b\b\b\b\b\b\b\b\b\b\b\b\b\b\b\b\b\b\b\b\b\b\b\b\b\b\b\b\b\b\b\b\b\b\b\b\b\b\b\b\b\b\b\b\b\b\b\b\b\b\b\b\b\b\b\b\b\b\b\b\b\b\b\b\b\b\b\b\b\b\b\b\b\b\b\b\b\b\b\b\b\b\b\b\b\b\b\b\b\b\b\b\b\b\b\b\b\b\b\b\b\r",
      "412416/412416 [==============================] - 11s 28us/sample - loss: 174.0720 - reconstruction_loss: 89.7577 - KL_loss: 22.0414 - val_loss: 106.1292 - val_reconstruction_loss: 84.4763 - val_KL_loss: 21.6528 - lr: 9.4143e-04\n",
      "Epoch 462/1000\n"
     ]
    },
    {
     "name": "stdout",
     "output_type": "stream",
     "text": [
      "\r",
      "412416/412416 [==============================] - ETA: 0s - loss: 174.0042 - reconstruction_loss: 89.6140 - KL_loss: 22.0695"
     ]
    },
    {
     "name": "stdout",
     "output_type": "stream",
     "text": [
      "\b\b\b\b\b\b\b\b\b\b\b\b\b\b\b\b\b\b\b\b\b\b\b\b\b\b\b\b\b\b\b\b\b\b\b\b\b\b\b\b\b\b\b\b\b\b\b\b\b\b\b\b\b\b\b\b\b\b\b\b\b\b\b\b\b\b\b\b\b\b\b\b\b\b\b\b\b\b\b\b\b\b\b\b\b\b\b\b\b\b\b\b\b\b\b\b\b\b\b\b\b\b\b\b\b\b\b\b\b\b\b\b\b\b\b\b\b\b\b\b\b\b\b\r",
      "412416/412416 [==============================] - 12s 28us/sample - loss: 174.0042 - reconstruction_loss: 89.6140 - KL_loss: 22.0695 - val_loss: 106.1897 - val_reconstruction_loss: 84.4571 - val_KL_loss: 21.7326 - lr: 9.4143e-04\n",
      "Epoch 463/1000\n"
     ]
    },
    {
     "name": "stdout",
     "output_type": "stream",
     "text": [
      "\r",
      "412416/412416 [==============================] - ETA: 0s - loss: 173.9519 - reconstruction_loss: 89.6272 - KL_loss: 22.1473"
     ]
    },
    {
     "name": "stdout",
     "output_type": "stream",
     "text": [
      "\b\b\b\b\b\b\b\b\b\b\b\b\b\b\b\b\b\b\b\b\b\b\b\b\b\b\b\b\b\b\b\b\b\b\b\b\b\b\b\b\b\b\b\b\b\b\b\b\b\b\b\b\b\b\b\b\b\b\b\b\b\b\b\b\b\b\b\b\b\b\b\b\b\b\b\b\b\b\b\b\b\b\b\b\b\b\b\b\b\b\b\b\b\b\b\b\b\b\b\b\b\b\b\b\b\b\b\b\b\b\b\b\b\b\b\b\b\b\b\b\b\b\b\r",
      "412416/412416 [==============================] - 11s 28us/sample - loss: 173.9519 - reconstruction_loss: 89.6272 - KL_loss: 22.1473 - val_loss: 106.1247 - val_reconstruction_loss: 84.3343 - val_KL_loss: 21.7905 - lr: 9.4143e-04\n",
      "Epoch 464/1000\n"
     ]
    },
    {
     "name": "stdout",
     "output_type": "stream",
     "text": [
      "\r",
      "412416/412416 [==============================] - ETA: 0s - loss: 173.8551 - reconstruction_loss: 89.4479 - KL_loss: 22.2026"
     ]
    },
    {
     "name": "stdout",
     "output_type": "stream",
     "text": [
      "\b\b\b\b\b\b\b\b\b\b\b\b\b\b\b\b\b\b\b\b\b\b\b\b\b\b\b\b\b\b\b\b\b\b\b\b\b\b\b\b\b\b\b\b\b\b\b\b\b\b\b\b\b\b\b\b\b\b\b\b\b\b\b\b\b\b\b\b\b\b\b\b\b\b\b\b\b\b\b\b\b\b\b\b\b\b\b\b\b\b\b\b\b\b\b\b\b\b\b\b\b\b\b\b\b\b\b\b\b\b\b\b\b\b\b\b\b\b\b\b\b\b\b\r",
      "412416/412416 [==============================] - 12s 28us/sample - loss: 173.8551 - reconstruction_loss: 89.4479 - KL_loss: 22.2026 - val_loss: 106.2624 - val_reconstruction_loss: 84.5787 - val_KL_loss: 21.6838 - lr: 9.4143e-04\n",
      "Epoch 465/1000\n"
     ]
    },
    {
     "name": "stdout",
     "output_type": "stream",
     "text": [
      "\r",
      "412416/412416 [==============================] - ETA: 0s - loss: 173.8904 - reconstruction_loss: 89.7016 - KL_loss: 22.0978"
     ]
    },
    {
     "name": "stdout",
     "output_type": "stream",
     "text": [
      "\b\b\b\b\b\b\b\b\b\b\b\b\b\b\b\b\b\b\b\b\b\b\b\b\b\b\b\b\b\b\b\b\b\b\b\b\b\b\b\b\b\b\b\b\b\b\b\b\b\b\b\b\b\b\b\b\b\b\b\b\b\b\b\b\b\b\b\b\b\b\b\b\b\b\b\b\b\b\b\b\b\b\b\b\b\b\b\b\b\b\b\b\b\b\b\b\b\b\b\b\b\b\b\b\b\b\b\b\b\b\b\b\b\b\b\b\b\b\b\b\b\b\b\r",
      "412416/412416 [==============================] - 17s 40us/sample - loss: 173.8904 - reconstruction_loss: 89.7016 - KL_loss: 22.0978 - val_loss: 106.0682 - val_reconstruction_loss: 84.5066 - val_KL_loss: 21.5615 - lr: 9.4143e-04\n",
      "Epoch 466/1000\n"
     ]
    },
    {
     "name": "stdout",
     "output_type": "stream",
     "text": [
      "\r",
      "412416/412416 [==============================] - ETA: 0s - loss: 173.6104 - reconstruction_loss: 89.6062 - KL_loss: 21.9770"
     ]
    },
    {
     "name": "stdout",
     "output_type": "stream",
     "text": [
      "\b\b\b\b\b\b\b\b\b\b\b\b\b\b\b\b\b\b\b\b\b\b\b\b\b\b\b\b\b\b\b\b\b\b\b\b\b\b\b\b\b\b\b\b\b\b\b\b\b\b\b\b\b\b\b\b\b\b\b\b\b\b\b\b\b\b\b\b\b\b\b\b\b\b\b\b\b\b\b\b\b\b\b\b\b\b\b\b\b\b\b\b\b\b\b\b\b\b\b\b\b\b\b\b\b\b\b\b\b\b\b\b\b\b\b\b\b\b\b\b\b\b\b\r",
      "412416/412416 [==============================] - 11s 28us/sample - loss: 173.6104 - reconstruction_loss: 89.6062 - KL_loss: 21.9770 - val_loss: 106.3314 - val_reconstruction_loss: 84.7090 - val_KL_loss: 21.6223 - lr: 9.4143e-04\n",
      "Epoch 467/1000\n"
     ]
    },
    {
     "name": "stdout",
     "output_type": "stream",
     "text": [
      "\r",
      "412416/412416 [==============================] - ETA: 0s - loss: 174.0435 - reconstruction_loss: 89.8588 - KL_loss: 22.0362"
     ]
    },
    {
     "name": "stdout",
     "output_type": "stream",
     "text": [
      "\b\b\b\b\b\b\b\b\b\b\b\b\b\b\b\b\b\b\b\b\b\b\b\b\b\b\b\b\b\b\b\b\b\b\b\b\b\b\b\b\b\b\b\b\b\b\b\b\b\b\b\b\b\b\b\b\b\b\b\b\b\b\b\b\b\b\b\b\b\b\b\b\b\b\b\b\b\b\b\b\b\b\b\b\b\b\b\b\b\b\b\b\b\b\b\b\b\b\b\b\b\b\b\b\b\b\b\b\b\b\b\b\b\b\b\b\b\b\b\b\b\b\b\r",
      "412416/412416 [==============================] - 12s 28us/sample - loss: 174.0435 - reconstruction_loss: 89.8588 - KL_loss: 22.0362 - val_loss: 106.1269 - val_reconstruction_loss: 84.5028 - val_KL_loss: 21.6241 - lr: 9.4143e-04\n",
      "Epoch 468/1000\n"
     ]
    },
    {
     "name": "stdout",
     "output_type": "stream",
     "text": [
      "\r",
      "412416/412416 [==============================] - ETA: 0s - loss: 173.7303 - reconstruction_loss: 89.6446 - KL_loss: 22.0382"
     ]
    },
    {
     "name": "stdout",
     "output_type": "stream",
     "text": [
      "\b\b\b\b\b\b\b\b\b\b\b\b\b\b\b\b\b\b\b\b\b\b\b\b\b\b\b\b\b\b\b\b\b\b\b\b\b\b\b\b\b\b\b\b\b\b\b\b\b\b\b\b\b\b\b\b\b\b\b\b\b\b\b\b\b\b\b\b\b\b\b\b\b\b\b\b\b\b\b\b\b\b\b\b\b\b\b\b\b\b\b\b\b\b\b\b\b\b\b\b\b\b\b\b\b\b\b\b\b\b\b\b\b\b\b\b\b\b\b\b\b\b\b\r",
      "412416/412416 [==============================] - 11s 28us/sample - loss: 173.7303 - reconstruction_loss: 89.6446 - KL_loss: 22.0382 - val_loss: 106.4210 - val_reconstruction_loss: 84.8335 - val_KL_loss: 21.5876 - lr: 9.4143e-04\n",
      "Epoch 469/1000\n"
     ]
    },
    {
     "name": "stdout",
     "output_type": "stream",
     "text": [
      "\r",
      "412416/412416 [==============================] - ETA: 0s - loss: 174.0101 - reconstruction_loss: 89.9694 - KL_loss: 22.0029"
     ]
    },
    {
     "name": "stdout",
     "output_type": "stream",
     "text": [
      "\b\b\b\b\b\b\b\b\b\b\b\b\b\b\b\b\b\b\b\b\b\b\b\b\b\b\b\b\b\b\b\b\b\b\b\b\b\b\b\b\b\b\b\b\b\b\b\b\b\b\b\b\b\b\b\b\b\b\b\b\b\b\b\b\b\b\b\b\b\b\b\b\b\b\b\b\b\b\b\b\b\b\b\b\b\b\b\b\b\b\b\b\b\b\b\b\b\b\b\b\b\b\b\b\b\b\b\b\b\b\b\b\b\b\b\b\b\b\b\b\b\b\b\r",
      "412416/412416 [==============================] - 11s 28us/sample - loss: 174.0101 - reconstruction_loss: 89.9694 - KL_loss: 22.0029 - val_loss: 106.4253 - val_reconstruction_loss: 84.7696 - val_KL_loss: 21.6557 - lr: 9.4143e-04\n",
      "Epoch 470/1000\n"
     ]
    },
    {
     "name": "stdout",
     "output_type": "stream",
     "text": [
      "\r",
      "412416/412416 [==============================] - ETA: 0s - loss: 174.1660 - reconstruction_loss: 89.9039 - KL_loss: 22.0711"
     ]
    },
    {
     "name": "stdout",
     "output_type": "stream",
     "text": [
      "\b\b\b\b\b\b\b\b\b\b\b\b\b\b\b\b\b\b\b\b\b\b\b\b\b\b\b\b\b\b\b\b\b\b\b\b\b\b\b\b\b\b\b\b\b\b\b\b\b\b\b\b\b\b\b\b\b\b\b\b\b\b\b\b\b\b\b\b\b\b\b\b\b\b\b\b\b\b\b\b\b\b\b\b\b\b\b\b\b\b\b\b\b\b\b\b\b\b\b\b\b\b\b\b\b\b\b\b\b\b\b\b\b\b\b\b\b\b\b\b\b\b\b\r",
      "412416/412416 [==============================] - 11s 28us/sample - loss: 174.1660 - reconstruction_loss: 89.9039 - KL_loss: 22.0711 - val_loss: 106.1828 - val_reconstruction_loss: 84.3962 - val_KL_loss: 21.7866 - lr: 9.4143e-04\n",
      "Epoch 471/1000\n"
     ]
    },
    {
     "name": "stdout",
     "output_type": "stream",
     "text": [
      "\r",
      "412416/412416 [==============================] - ETA: 0s - loss: 173.7219 - reconstruction_loss: 89.5130 - KL_loss: 22.2014"
     ]
    },
    {
     "name": "stdout",
     "output_type": "stream",
     "text": [
      "\b\b\b\b\b\b\b\b\b\b\b\b\b\b\b\b\b\b\b\b\b\b\b\b\b\b\b\b\b\b\b\b\b\b\b\b\b\b\b\b\b\b\b\b\b\b\b\b\b\b\b\b\b\b\b\b\b\b\b\b\b\b\b\b\b\b\b\b\b\b\b\b\b\b\b\b\b\b\b\b\b\b\b\b\b\b\b\b\b\b\b\b\b\b\b\b\b\b\b\b\b\b\b\b\b\b\b\b\b\b\b\b\b\b\b\b\b\b\b\b\b\b\b\r",
      "412416/412416 [==============================] - 12s 28us/sample - loss: 173.7219 - reconstruction_loss: 89.5130 - KL_loss: 22.2014 - val_loss: 106.3410 - val_reconstruction_loss: 84.5279 - val_KL_loss: 21.8131 - lr: 9.4143e-04\n",
      "Epoch 472/1000\n"
     ]
    },
    {
     "name": "stdout",
     "output_type": "stream",
     "text": [
      "\r",
      "412416/412416 [==============================] - ETA: 0s - loss: 173.8647 - reconstruction_loss: 89.6548 - KL_loss: 22.2285"
     ]
    },
    {
     "name": "stdout",
     "output_type": "stream",
     "text": [
      "\b\b\b\b\b\b\b\b\b\b\b\b\b\b\b\b\b\b\b\b\b\b\b\b\b\b\b\b\b\b\b\b\b\b\b\b\b\b\b\b\b\b\b\b\b\b\b\b\b\b\b\b\b\b\b\b\b\b\b\b\b\b\b\b\b\b\b\b\b\b\b\b\b\b\b\b\b\b\b\b\b\b\b\b\b\b\b\b\b\b\b\b\b\b\b\b\b\b\b\b\b\b\b\b\b\b\b\b\b\b\b\b\b\b\b\b\b\b\b\b\b\b\b\r",
      "412416/412416 [==============================] - 12s 28us/sample - loss: 173.8647 - reconstruction_loss: 89.6548 - KL_loss: 22.2285 - val_loss: 106.1207 - val_reconstruction_loss: 84.3999 - val_KL_loss: 21.7207 - lr: 9.4143e-04\n",
      "Epoch 473/1000\n"
     ]
    },
    {
     "name": "stdout",
     "output_type": "stream",
     "text": [
      "\r",
      "412416/412416 [==============================] - ETA: 0s - loss: 173.5419 - reconstruction_loss: 89.5232 - KL_loss: 22.1354"
     ]
    },
    {
     "name": "stdout",
     "output_type": "stream",
     "text": [
      "\b\b\b\b\b\b\b\b\b\b\b\b\b\b\b\b\b\b\b\b\b\b\b\b\b\b\b\b\b\b\b\b\b\b\b\b\b\b\b\b\b\b\b\b\b\b\b\b\b\b\b\b\b\b\b\b\b\b\b\b\b\b\b\b\b\b\b\b\b\b\b\b\b\b\b\b\b\b\b\b\b\b\b\b\b\b\b\b\b\b\b\b\b\b\b\b\b\b\b\b\b\b\b\b\b\b\b\b\b\b\b\b\b\b\b\b\b\b\b\b\b\b\b\r",
      "412416/412416 [==============================] - 12s 28us/sample - loss: 173.5419 - reconstruction_loss: 89.5232 - KL_loss: 22.1354 - val_loss: 106.3307 - val_reconstruction_loss: 84.6805 - val_KL_loss: 21.6503 - lr: 9.4143e-04\n",
      "Epoch 474/1000\n"
     ]
    },
    {
     "name": "stdout",
     "output_type": "stream",
     "text": [
      "\r",
      "412416/412416 [==============================] - ETA: 0s - loss: 173.6819 - reconstruction_loss: 89.7873 - KL_loss: 22.0648"
     ]
    },
    {
     "name": "stdout",
     "output_type": "stream",
     "text": [
      "\b\b\b\b\b\b\b\b\b\b\b\b\b\b\b\b\b\b\b\b\b\b\b\b\b\b\b\b\b\b\b\b\b\b\b\b\b\b\b\b\b\b\b\b\b\b\b\b\b\b\b\b\b\b\b\b\b\b\b\b\b\b\b\b\b\b\b\b\b\b\b\b\b\b\b\b\b\b\b\b\b\b\b\b\b\b\b\b\b\b\b\b\b\b\b\b\b\b\b\b\b\b\b\b\b\b\b\b\b\b\b\b\b\b\b\b\b\b\b\b\b\b\b\r",
      "412416/412416 [==============================] - 11s 28us/sample - loss: 173.6819 - reconstruction_loss: 89.7873 - KL_loss: 22.0648 - val_loss: 106.0883 - val_reconstruction_loss: 84.4713 - val_KL_loss: 21.6170 - lr: 9.4143e-04\n",
      "Epoch 475/1000\n"
     ]
    },
    {
     "name": "stdout",
     "output_type": "stream",
     "text": [
      "\r",
      "412416/412416 [==============================] - ETA: 0s - loss: 173.4822 - reconstruction_loss: 89.6166 - KL_loss: 22.0326"
     ]
    },
    {
     "name": "stdout",
     "output_type": "stream",
     "text": [
      "\b\b\b\b\b\b\b\b\b\b\b\b\b\b\b\b\b\b\b\b\b\b\b\b\b\b\b\b\b\b\b\b\b\b\b\b\b\b\b\b\b\b\b\b\b\b\b\b\b\b\b\b\b\b\b\b\b\b\b\b\b\b\b\b\b\b\b\b\b\b\b\b\b\b\b\b\b\b\b\b\b\b\b\b\b\b\b\b\b\b\b\b\b\b\b\b\b\b\b\b\b\b\b\b\b\b\b\b\b\b\b\b\b\b\b\b\b\b\b\b\b\b\b\r",
      "412416/412416 [==============================] - 12s 28us/sample - loss: 173.4822 - reconstruction_loss: 89.6166 - KL_loss: 22.0326 - val_loss: 106.3262 - val_reconstruction_loss: 84.6677 - val_KL_loss: 21.6585 - lr: 9.4143e-04\n",
      "Epoch 476/1000\n"
     ]
    },
    {
     "name": "stdout",
     "output_type": "stream",
     "text": [
      "\r",
      "412416/412416 [==============================] - ETA: 0s - loss: 173.7734 - reconstruction_loss: 89.8115 - KL_loss: 22.0719"
     ]
    },
    {
     "name": "stdout",
     "output_type": "stream",
     "text": [
      "\b\b\b\b\b\b\b\b\b\b\b\b\b\b\b\b\b\b\b\b\b\b\b\b\b\b\b\b\b\b\b\b\b\b\b\b\b\b\b\b\b\b\b\b\b\b\b\b\b\b\b\b\b\b\b\b\b\b\b\b\b\b\b\b\b\b\b\b\b\b\b\b\b\b\b\b\b\b\b\b\b\b\b\b\b\b\b\b\b\b\b\b\b\b\b\b\b\b\b\b\b\b\b\b\b\b\b\b\b\b\b\b\b\b\b\b\b\b\b\b\b\b\b\r",
      "412416/412416 [==============================] - 12s 28us/sample - loss: 173.7734 - reconstruction_loss: 89.8115 - KL_loss: 22.0719 - val_loss: 106.2339 - val_reconstruction_loss: 84.5604 - val_KL_loss: 21.6735 - lr: 8.4729e-04\n",
      "Epoch 477/1000\n"
     ]
    },
    {
     "name": "stdout",
     "output_type": "stream",
     "text": [
      "\r",
      "412416/412416 [==============================] - ETA: 0s - loss: 173.5722 - reconstruction_loss: 89.6486 - KL_loss: 22.0858"
     ]
    },
    {
     "name": "stdout",
     "output_type": "stream",
     "text": [
      "\b\b\b\b\b\b\b\b\b\b\b\b\b\b\b\b\b\b\b\b\b\b\b\b\b\b\b\b\b\b\b\b\b\b\b\b\b\b\b\b\b\b\b\b\b\b\b\b\b\b\b\b\b\b\b\b\b\b\b\b\b\b\b\b\b\b\b\b\b\b\b\b\b\b\b\b\b\b\b\b\b\b\b\b\b\b\b\b\b\b\b\b\b\b\b\b\b\b\b\b\b\b\b\b\b\b\b\b\b\b\b\b\b\b\b\b\b\b\b\b\b\b\b\r",
      "412416/412416 [==============================] - 11s 28us/sample - loss: 173.5722 - reconstruction_loss: 89.6486 - KL_loss: 22.0858 - val_loss: 106.1886 - val_reconstruction_loss: 84.5616 - val_KL_loss: 21.6270 - lr: 8.4729e-04\n",
      "Epoch 478/1000\n"
     ]
    },
    {
     "name": "stdout",
     "output_type": "stream",
     "text": [
      "\r",
      "412416/412416 [==============================] - ETA: 0s - loss: 173.3495 - reconstruction_loss: 89.6384 - KL_loss: 22.0421"
     ]
    },
    {
     "name": "stdout",
     "output_type": "stream",
     "text": [
      "\b\b\b\b\b\b\b\b\b\b\b\b\b\b\b\b\b\b\b\b\b\b\b\b\b\b\b\b\b\b\b\b\b\b\b\b\b\b\b\b\b\b\b\b\b\b\b\b\b\b\b\b\b\b\b\b\b\b\b\b\b\b\b\b\b\b\b\b\b\b\b\b\b\b\b\b\b\b\b\b\b\b\b\b\b\b\b\b\b\b\b\b\b\b\b\b\b\b\b\b\b\b\b\b\b\b\b\b\b\b\b\b\b\b\b\b\b\b\b\b\b\b\b\r",
      "412416/412416 [==============================] - 15s 36us/sample - loss: 173.3495 - reconstruction_loss: 89.6384 - KL_loss: 22.0421 - val_loss: 106.1918 - val_reconstruction_loss: 84.5629 - val_KL_loss: 21.6289 - lr: 8.4729e-04\n",
      "Epoch 479/1000\n"
     ]
    },
    {
     "name": "stdout",
     "output_type": "stream",
     "text": [
      "\r",
      "412416/412416 [==============================] - ETA: 0s - loss: 173.5262 - reconstruction_loss: 89.6956 - KL_loss: 22.0448"
     ]
    },
    {
     "name": "stdout",
     "output_type": "stream",
     "text": [
      "\b\b\b\b\b\b\b\b\b\b\b\b\b\b\b\b\b\b\b\b\b\b\b\b\b\b\b\b\b\b\b\b\b\b\b\b\b\b\b\b\b\b\b\b\b\b\b\b\b\b\b\b\b\b\b\b\b\b\b\b\b\b\b\b\b\b\b\b\b\b\b\b\b\b\b\b\b\b\b\b\b\b\b\b\b\b\b\b\b\b\b\b\b\b\b\b\b\b\b\b\b\b\b\b\b\b\b\b\b\b\b\b\b\b\b\b\b\b\b\b\b\b\b\r",
      "412416/412416 [==============================] - 12s 28us/sample - loss: 173.5262 - reconstruction_loss: 89.6956 - KL_loss: 22.0448 - val_loss: 106.0671 - val_reconstruction_loss: 84.3421 - val_KL_loss: 21.7250 - lr: 8.4729e-04\n",
      "Epoch 480/1000\n"
     ]
    },
    {
     "name": "stdout",
     "output_type": "stream",
     "text": [
      "\r",
      "412416/412416 [==============================] - ETA: 0s - loss: 173.2547 - reconstruction_loss: 89.4685 - KL_loss: 22.1379"
     ]
    },
    {
     "name": "stdout",
     "output_type": "stream",
     "text": [
      "\b\b\b\b\b\b\b\b\b\b\b\b\b\b\b\b\b\b\b\b\b\b\b\b\b\b\b\b\b\b\b\b\b\b\b\b\b\b\b\b\b\b\b\b\b\b\b\b\b\b\b\b\b\b\b\b\b\b\b\b\b\b\b\b\b\b\b\b\b\b\b\b\b\b\b\b\b\b\b\b\b\b\b\b\b\b\b\b\b\b\b\b\b\b\b\b\b\b\b\b\b\b\b\b\b\b\b\b\b\b\b\b\b\b\b\b\b\b\b\b\b\b\b\r",
      "412416/412416 [==============================] - 16s 38us/sample - loss: 173.2547 - reconstruction_loss: 89.4685 - KL_loss: 22.1379 - val_loss: 106.1782 - val_reconstruction_loss: 84.3907 - val_KL_loss: 21.7875 - lr: 8.4729e-04\n",
      "Epoch 481/1000\n"
     ]
    },
    {
     "name": "stdout",
     "output_type": "stream",
     "text": [
      "\r",
      "412416/412416 [==============================] - ETA: 0s - loss: 173.3864 - reconstruction_loss: 89.5116 - KL_loss: 22.2001"
     ]
    },
    {
     "name": "stdout",
     "output_type": "stream",
     "text": [
      "\b\b\b\b\b\b\b\b\b\b\b\b\b\b\b\b\b\b\b\b\b\b\b\b\b\b\b\b\b\b\b\b\b\b\b\b\b\b\b\b\b\b\b\b\b\b\b\b\b\b\b\b\b\b\b\b\b\b\b\b\b\b\b\b\b\b\b\b\b\b\b\b\b\b\b\b\b\b\b\b\b\b\b\b\b\b\b\b\b\b\b\b\b\b\b\b\b\b\b\b\b\b\b\b\b\b\b\b\b\b\b\b\b\b\b\b\b\b\b\b\b\b\b\r",
      "412416/412416 [==============================] - 12s 29us/sample - loss: 173.3864 - reconstruction_loss: 89.5116 - KL_loss: 22.2001 - val_loss: 106.0419 - val_reconstruction_loss: 84.3422 - val_KL_loss: 21.6997 - lr: 8.4729e-04\n",
      "Epoch 482/1000\n"
     ]
    },
    {
     "name": "stdout",
     "output_type": "stream",
     "text": [
      "\r",
      "412416/412416 [==============================] - ETA: 0s - loss: 173.2267 - reconstruction_loss: 89.4841 - KL_loss: 22.1145"
     ]
    },
    {
     "name": "stdout",
     "output_type": "stream",
     "text": [
      "\b\b\b\b\b\b\b\b\b\b\b\b\b\b\b\b\b\b\b\b\b\b\b\b\b\b\b\b\b\b\b\b\b\b\b\b\b\b\b\b\b\b\b\b\b\b\b\b\b\b\b\b\b\b\b\b\b\b\b\b\b\b\b\b\b\b\b\b\b\b\b\b\b\b\b\b\b\b\b\b\b\b\b\b\b\b\b\b\b\b\b\b\b\b\b\b\b\b\b\b\b\b\b\b\b\b\b\b\b\b\b\b\b\b\b\b\b\b\b\b\b\b\b\r",
      "412416/412416 [==============================] - 11s 28us/sample - loss: 173.2267 - reconstruction_loss: 89.4841 - KL_loss: 22.1145 - val_loss: 106.2682 - val_reconstruction_loss: 84.6307 - val_KL_loss: 21.6375 - lr: 8.4729e-04\n",
      "Epoch 483/1000\n"
     ]
    },
    {
     "name": "stdout",
     "output_type": "stream",
     "text": [
      "\r",
      "412416/412416 [==============================] - ETA: 0s - loss: 173.3987 - reconstruction_loss: 89.7558 - KL_loss: 22.0522"
     ]
    },
    {
     "name": "stdout",
     "output_type": "stream",
     "text": [
      "\b\b\b\b\b\b\b\b\b\b\b\b\b\b\b\b\b\b\b\b\b\b\b\b\b\b\b\b\b\b\b\b\b\b\b\b\b\b\b\b\b\b\b\b\b\b\b\b\b\b\b\b\b\b\b\b\b\b\b\b\b\b\b\b\b\b\b\b\b\b\b\b\b\b\b\b\b\b\b\b\b\b\b\b\b\b\b\b\b\b\b\b\b\b\b\b\b\b\b\b\b\b\b\b\b\b\b\b\b\b\b\b\b\b\b\b\b\b\b\b\b\b\b\r",
      "412416/412416 [==============================] - 12s 28us/sample - loss: 173.3987 - reconstruction_loss: 89.7558 - KL_loss: 22.0522 - val_loss: 106.2130 - val_reconstruction_loss: 84.5442 - val_KL_loss: 21.6688 - lr: 8.4729e-04\n",
      "Epoch 484/1000\n"
     ]
    },
    {
     "name": "stdout",
     "output_type": "stream",
     "text": [
      "\r",
      "412416/412416 [==============================] - ETA: 0s - loss: 173.2366 - reconstruction_loss: 89.6149 - KL_loss: 22.0832"
     ]
    },
    {
     "name": "stdout",
     "output_type": "stream",
     "text": [
      "\b\b\b\b\b\b\b\b\b\b\b\b\b\b\b\b\b\b\b\b\b\b\b\b\b\b\b\b\b\b\b\b\b\b\b\b\b\b\b\b\b\b\b\b\b\b\b\b\b\b\b\b\b\b\b\b\b\b\b\b\b\b\b\b\b\b\b\b\b\b\b\b\b\b\b\b\b\b\b\b\b\b\b\b\b\b\b\b\b\b\b\b\b\b\b\b\b\b\b\b\b\b\b\b\b\b\b\b\b\b\b\b\b\b\b\b\b\b\b\b\b\b\b\r",
      "412416/412416 [==============================] - 14s 33us/sample - loss: 173.2366 - reconstruction_loss: 89.6149 - KL_loss: 22.0832 - val_loss: 106.1938 - val_reconstruction_loss: 84.4621 - val_KL_loss: 21.7318 - lr: 8.4729e-04\n",
      "Epoch 485/1000\n"
     ]
    },
    {
     "name": "stdout",
     "output_type": "stream",
     "text": [
      "\r",
      "412416/412416 [==============================] - ETA: 0s - loss: 173.3536 - reconstruction_loss: 89.5704 - KL_loss: 22.1457"
     ]
    },
    {
     "name": "stdout",
     "output_type": "stream",
     "text": [
      "\b\b\b\b\b\b\b\b\b\b\b\b\b\b\b\b\b\b\b\b\b\b\b\b\b\b\b\b\b\b\b\b\b\b\b\b\b\b\b\b\b\b\b\b\b\b\b\b\b\b\b\b\b\b\b\b\b\b\b\b\b\b\b\b\b\b\b\b\b\b\b\b\b\b\b\b\b\b\b\b\b\b\b\b\b\b\b\b\b\b\b\b\b\b\b\b\b\b\b\b\b\b\b\b\b\b\b\b\b\b\b\b\b\b\b\b\b\b\b\b\b\b\b\r",
      "412416/412416 [==============================] - 24s 58us/sample - loss: 173.3536 - reconstruction_loss: 89.5704 - KL_loss: 22.1457 - val_loss: 106.1967 - val_reconstruction_loss: 84.4697 - val_KL_loss: 21.7271 - lr: 8.4729e-04\n",
      "Epoch 486/1000\n"
     ]
    },
    {
     "name": "stdout",
     "output_type": "stream",
     "text": [
      "\r",
      "412416/412416 [==============================] - ETA: 0s - loss: 173.2747 - reconstruction_loss: 89.6010 - KL_loss: 22.1389"
     ]
    },
    {
     "name": "stdout",
     "output_type": "stream",
     "text": [
      "\b\b\b\b\b\b\b\b\b\b\b\b\b\b\b\b\b\b\b\b\b\b\b\b\b\b\b\b\b\b\b\b\b\b\b\b\b\b\b\b\b\b\b\b\b\b\b\b\b\b\b\b\b\b\b\b\b\b\b\b\b\b\b\b\b\b\b\b\b\b\b\b\b\b\b\b\b\b\b\b\b\b\b\b\b\b\b\b\b\b\b\b\b\b\b\b\b\b\b\b\b\b\b\b\b\b\b\b\b\b\b\b\b\b\b\b\b\b\b\b\b\b\b\r",
      "412416/412416 [==============================] - 11s 28us/sample - loss: 173.2747 - reconstruction_loss: 89.6010 - KL_loss: 22.1389 - val_loss: 106.1184 - val_reconstruction_loss: 84.4700 - val_KL_loss: 21.6485 - lr: 8.4729e-04\n",
      "Epoch 487/1000\n"
     ]
    },
    {
     "name": "stdout",
     "output_type": "stream",
     "text": [
      "\r",
      "412416/412416 [==============================] - ETA: 0s - loss: 173.2691 - reconstruction_loss: 89.6162 - KL_loss: 22.0594"
     ]
    },
    {
     "name": "stdout",
     "output_type": "stream",
     "text": [
      "\b\b\b\b\b\b\b\b\b\b\b\b\b\b\b\b\b\b\b\b\b\b\b\b\b\b\b\b\b\b\b\b\b\b\b\b\b\b\b\b\b\b\b\b\b\b\b\b\b\b\b\b\b\b\b\b\b\b\b\b\b\b\b\b\b\b\b\b\b\b\b\b\b\b\b\b\b\b\b\b\b\b\b\b\b\b\b\b\b\b\b\b\b\b\b\b\b\b\b\b\b\b\b\b\b\b\b\b\b\b\b\b\b\b\b\b\b\b\b\b\b\b\b\r",
      "412416/412416 [==============================] - 17s 41us/sample - loss: 173.2691 - reconstruction_loss: 89.6162 - KL_loss: 22.0594 - val_loss: 106.1399 - val_reconstruction_loss: 84.4553 - val_KL_loss: 21.6846 - lr: 8.4729e-04\n",
      "Epoch 488/1000\n"
     ]
    },
    {
     "name": "stdout",
     "output_type": "stream",
     "text": [
      "\r",
      "412416/412416 [==============================] - ETA: 0s - loss: 173.1858 - reconstruction_loss: 89.5702 - KL_loss: 22.0974"
     ]
    },
    {
     "name": "stdout",
     "output_type": "stream",
     "text": [
      "\b\b\b\b\b\b\b\b\b\b\b\b\b\b\b\b\b\b\b\b\b\b\b\b\b\b\b\b\b\b\b\b\b\b\b\b\b\b\b\b\b\b\b\b\b\b\b\b\b\b\b\b\b\b\b\b\b\b\b\b\b\b\b\b\b\b\b\b\b\b\b\b\b\b\b\b\b\b\b\b\b\b\b\b\b\b\b\b\b\b\b\b\b\b\b\b\b\b\b\b\b\b\b\b\b\b\b\b\b\b\b\b\b\b\b\b\b\b\b\b\b\b\b\r",
      "412416/412416 [==============================] - 17s 41us/sample - loss: 173.1858 - reconstruction_loss: 89.5702 - KL_loss: 22.0974 - val_loss: 106.2091 - val_reconstruction_loss: 84.4025 - val_KL_loss: 21.8065 - lr: 8.4729e-04\n",
      "Epoch 489/1000\n"
     ]
    },
    {
     "name": "stdout",
     "output_type": "stream",
     "text": [
      "\r",
      "412416/412416 [==============================] - ETA: 0s - loss: 173.2140 - reconstruction_loss: 89.4920 - KL_loss: 22.2200"
     ]
    },
    {
     "name": "stdout",
     "output_type": "stream",
     "text": [
      "\b\b\b\b\b\b\b\b\b\b\b\b\b\b\b\b\b\b\b\b\b\b\b\b\b\b\b\b\b\b\b\b\b\b\b\b\b\b\b\b\b\b\b\b\b\b\b\b\b\b\b\b\b\b\b\b\b\b\b\b\b\b\b\b\b\b\b\b\b\b\b\b\b\b\b\b\b\b\b\b\b\b\b\b\b\b\b\b\b\b\b\b\b\b\b\b\b\b\b\b\b\b\b\b\b\b\b\b\b\b\b\b\b\b\b\b\b\b\b\b\b\b\b\r",
      "412416/412416 [==============================] - 15s 36us/sample - loss: 173.2140 - reconstruction_loss: 89.4920 - KL_loss: 22.2200 - val_loss: 106.0773 - val_reconstruction_loss: 84.2705 - val_KL_loss: 21.8068 - lr: 8.4729e-04\n",
      "Epoch 490/1000\n"
     ]
    },
    {
     "name": "stdout",
     "output_type": "stream",
     "text": [
      "\r",
      "412416/412416 [==============================] - ETA: 0s - loss: 172.9626 - reconstruction_loss: 89.3925 - KL_loss: 22.2189"
     ]
    },
    {
     "name": "stdout",
     "output_type": "stream",
     "text": [
      "\b\b\b\b\b\b\b\b\b\b\b\b\b\b\b\b\b\b\b\b\b\b\b\b\b\b\b\b\b\b\b\b\b\b\b\b\b\b\b\b\b\b\b\b\b\b\b\b\b\b\b\b\b\b\b\b\b\b\b\b\b\b\b\b\b\b\b\b\b\b\b\b\b\b\b\b\b\b\b\b\b\b\b\b\b\b\b\b\b\b\b\b\b\b\b\b\b\b\b\b\b\b\b\b\b\b\b\b\b\b\b\b\b\b\b\b\b\b\b\b\b\b\b\r",
      "412416/412416 [==============================] - 14s 35us/sample - loss: 172.9626 - reconstruction_loss: 89.3925 - KL_loss: 22.2189 - val_loss: 106.2798 - val_reconstruction_loss: 84.5830 - val_KL_loss: 21.6969 - lr: 8.4729e-04\n",
      "Epoch 491/1000\n"
     ]
    },
    {
     "name": "stdout",
     "output_type": "stream",
     "text": [
      "\r",
      "412416/412416 [==============================] - ETA: 0s - loss: 173.3947 - reconstruction_loss: 89.7233 - KL_loss: 22.1072"
     ]
    },
    {
     "name": "stdout",
     "output_type": "stream",
     "text": [
      "\b\b\b\b\b\b\b\b\b\b\b\b\b\b\b\b\b\b\b\b\b\b\b\b\b\b\b\b\b\b\b\b\b\b\b\b\b\b\b\b\b\b\b\b\b\b\b\b\b\b\b\b\b\b\b\b\b\b\b\b\b\b\b\b\b\b\b\b\b\b\b\b\b\b\b\b\b\b\b\b\b\b\b\b\b\b\b\b\b\b\b\b\b\b\b\b\b\b\b\b\b\b\b\b\b\b\b\b\b\b\b\b\b\b\b\b\b\b\b\b\b\b\b\r",
      "412416/412416 [==============================] - 13s 32us/sample - loss: 173.3947 - reconstruction_loss: 89.7233 - KL_loss: 22.1072 - val_loss: 106.2017 - val_reconstruction_loss: 84.5510 - val_KL_loss: 21.6508 - lr: 8.4729e-04\n",
      "Epoch 492/1000\n"
     ]
    },
    {
     "name": "stdout",
     "output_type": "stream",
     "text": [
      "\r",
      "412416/412416 [==============================] - ETA: 0s - loss: 173.2120 - reconstruction_loss: 89.6686 - KL_loss: 22.0618"
     ]
    },
    {
     "name": "stdout",
     "output_type": "stream",
     "text": [
      "\b\b\b\b\b\b\b\b\b\b\b\b\b\b\b\b\b\b\b\b\b\b\b\b\b\b\b\b\b\b\b\b\b\b\b\b\b\b\b\b\b\b\b\b\b\b\b\b\b\b\b\b\b\b\b\b\b\b\b\b\b\b\b\b\b\b\b\b\b\b\b\b\b\b\b\b\b\b\b\b\b\b\b\b\b\b\b\b\b\b\b\b\b\b\b\b\b\b\b\b\b\b\b\b\b\b\b\b\b\b\b\b\b\b\b\b\b\b\b\b\b\b\b\r",
      "412416/412416 [==============================] - 11s 28us/sample - loss: 173.2120 - reconstruction_loss: 89.6686 - KL_loss: 22.0618 - val_loss: 106.0368 - val_reconstruction_loss: 84.3525 - val_KL_loss: 21.6843 - lr: 7.6256e-04\n",
      "Epoch 493/1000\n"
     ]
    },
    {
     "name": "stdout",
     "output_type": "stream",
     "text": [
      "\r",
      "412416/412416 [==============================] - ETA: 0s - loss: 172.8211 - reconstruction_loss: 89.4827 - KL_loss: 22.0971"
     ]
    },
    {
     "name": "stdout",
     "output_type": "stream",
     "text": [
      "\b\b\b\b\b\b\b\b\b\b\b\b\b\b\b\b\b\b\b\b\b\b\b\b\b\b\b\b\b\b\b\b\b\b\b\b\b\b\b\b\b\b\b\b\b\b\b\b\b\b\b\b\b\b\b\b\b\b\b\b\b\b\b\b\b\b\b\b\b\b\b\b\b\b\b\b\b\b\b\b\b\b\b\b\b\b\b\b\b\b\b\b\b\b\b\b\b\b\b\b\b\b\b\b\b\b\b\b\b\b\b\b\b\b\b\b\b\b\b\b\b\b\b\r",
      "412416/412416 [==============================] - 11s 27us/sample - loss: 172.8211 - reconstruction_loss: 89.4827 - KL_loss: 22.0971 - val_loss: 106.0575 - val_reconstruction_loss: 84.3105 - val_KL_loss: 21.7470 - lr: 7.6256e-04\n",
      "Epoch 494/1000\n"
     ]
    },
    {
     "name": "stdout",
     "output_type": "stream",
     "text": [
      "\r",
      "412416/412416 [==============================] - ETA: 0s - loss: 172.9474 - reconstruction_loss: 89.4172 - KL_loss: 22.1594"
     ]
    },
    {
     "name": "stdout",
     "output_type": "stream",
     "text": [
      "\b\b\b\b\b\b\b\b\b\b\b\b\b\b\b\b\b\b\b\b\b\b\b\b\b\b\b\b\b\b\b\b\b\b\b\b\b\b\b\b\b\b\b\b\b\b\b\b\b\b\b\b\b\b\b\b\b\b\b\b\b\b\b\b\b\b\b\b\b\b\b\b\b\b\b\b\b\b\b\b\b\b\b\b\b\b\b\b\b\b\b\b\b\b\b\b\b\b\b\b\b\b\b\b\b\b\b\b\b\b\b\b\b\b\b\b\b\b\b\b\b\b\b\r",
      "412416/412416 [==============================] - 11s 28us/sample - loss: 172.9474 - reconstruction_loss: 89.4172 - KL_loss: 22.1594 - val_loss: 106.0936 - val_reconstruction_loss: 84.3321 - val_KL_loss: 21.7616 - lr: 7.6256e-04\n",
      "Epoch 495/1000\n"
     ]
    },
    {
     "name": "stdout",
     "output_type": "stream",
     "text": [
      "\r",
      "412416/412416 [==============================] - ETA: 0s - loss: 172.8361 - reconstruction_loss: 89.4330 - KL_loss: 22.1727"
     ]
    },
    {
     "name": "stdout",
     "output_type": "stream",
     "text": [
      "\b\b\b\b\b\b\b\b\b\b\b\b\b\b\b\b\b\b\b\b\b\b\b\b\b\b\b\b\b\b\b\b\b\b\b\b\b\b\b\b\b\b\b\b\b\b\b\b\b\b\b\b\b\b\b\b\b\b\b\b\b\b\b\b\b\b\b\b\b\b\b\b\b\b\b\b\b\b\b\b\b\b\b\b\b\b\b\b\b\b\b\b\b\b\b\b\b\b\b\b\b\b\b\b\b\b\b\b\b\b\b\b\b\b\b\b\b\b\b\b\b\b\b\r",
      "412416/412416 [==============================] - 11s 28us/sample - loss: 172.8361 - reconstruction_loss: 89.4330 - KL_loss: 22.1727 - val_loss: 106.0092 - val_reconstruction_loss: 84.2790 - val_KL_loss: 21.7302 - lr: 7.6256e-04\n",
      "Epoch 496/1000\n"
     ]
    },
    {
     "name": "stdout",
     "output_type": "stream",
     "text": [
      "\r",
      "412416/412416 [==============================] - ETA: 0s - loss: 172.7266 - reconstruction_loss: 89.3917 - KL_loss: 22.1421"
     ]
    },
    {
     "name": "stdout",
     "output_type": "stream",
     "text": [
      "\b\b\b\b\b\b\b\b\b\b\b\b\b\b\b\b\b\b\b\b\b\b\b\b\b\b\b\b\b\b\b\b\b\b\b\b\b\b\b\b\b\b\b\b\b\b\b\b\b\b\b\b\b\b\b\b\b\b\b\b\b\b\b\b\b\b\b\b\b\b\b\b\b\b\b\b\b\b\b\b\b\b\b\b\b\b\b\b\b\b\b\b\b\b\b\b\b\b\b\b\b\b\b\b\b\b\b\b\b\b\b\b\b\b\b\b\b\b\b\b\b\b\b\r",
      "412416/412416 [==============================] - 11s 27us/sample - loss: 172.7266 - reconstruction_loss: 89.3917 - KL_loss: 22.1421 - val_loss: 106.0933 - val_reconstruction_loss: 84.3421 - val_KL_loss: 21.7512 - lr: 7.6256e-04\n",
      "Epoch 497/1000\n"
     ]
    },
    {
     "name": "stdout",
     "output_type": "stream",
     "text": [
      "\r",
      "412416/412416 [==============================] - ETA: 0s - loss: 172.8823 - reconstruction_loss: 89.4669 - KL_loss: 22.1638"
     ]
    },
    {
     "name": "stdout",
     "output_type": "stream",
     "text": [
      "\b\b\b\b\b\b\b\b\b\b\b\b\b\b\b\b\b\b\b\b\b\b\b\b\b\b\b\b\b\b\b\b\b\b\b\b\b\b\b\b\b\b\b\b\b\b\b\b\b\b\b\b\b\b\b\b\b\b\b\b\b\b\b\b\b\b\b\b\b\b\b\b\b\b\b\b\b\b\b\b\b\b\b\b\b\b\b\b\b\b\b\b\b\b\b\b\b\b\b\b\b\b\b\b\b\b\b\b\b\b\b\b\b\b\b\b\b\b\b\b\b\b\b\r",
      "412416/412416 [==============================] - 11s 27us/sample - loss: 172.8823 - reconstruction_loss: 89.4669 - KL_loss: 22.1638 - val_loss: 105.9825 - val_reconstruction_loss: 84.2090 - val_KL_loss: 21.7736 - lr: 7.6256e-04\n",
      "Epoch 498/1000\n"
     ]
    },
    {
     "name": "stdout",
     "output_type": "stream",
     "text": [
      "\r",
      "412416/412416 [==============================] - ETA: 0s - loss: 172.6729 - reconstruction_loss: 89.3137 - KL_loss: 22.1863"
     ]
    },
    {
     "name": "stdout",
     "output_type": "stream",
     "text": [
      "\b\b\b\b\b\b\b\b\b\b\b\b\b\b\b\b\b\b\b\b\b\b\b\b\b\b\b\b\b\b\b\b\b\b\b\b\b\b\b\b\b\b\b\b\b\b\b\b\b\b\b\b\b\b\b\b\b\b\b\b\b\b\b\b\b\b\b\b\b\b\b\b\b\b\b\b\b\b\b\b\b\b\b\b\b\b\b\b\b\b\b\b\b\b\b\b\b\b\b\b\b\b\b\b\b\b\b\b\b\b\b\b\b\b\b\b\b\b\b\b\b\b\b\r",
      "412416/412416 [==============================] - 11s 27us/sample - loss: 172.6729 - reconstruction_loss: 89.3137 - KL_loss: 22.1863 - val_loss: 106.1766 - val_reconstruction_loss: 84.3998 - val_KL_loss: 21.7768 - lr: 7.6256e-04\n",
      "Epoch 499/1000\n"
     ]
    },
    {
     "name": "stdout",
     "output_type": "stream",
     "text": [
      "\r",
      "412416/412416 [==============================] - ETA: 0s - loss: 172.9700 - reconstruction_loss: 89.5111 - KL_loss: 22.1875"
     ]
    },
    {
     "name": "stdout",
     "output_type": "stream",
     "text": [
      "\b\b\b\b\b\b\b\b\b\b\b\b\b\b\b\b\b\b\b\b\b\b\b\b\b\b\b\b\b\b\b\b\b\b\b\b\b\b\b\b\b\b\b\b\b\b\b\b\b\b\b\b\b\b\b\b\b\b\b\b\b\b\b\b\b\b\b\b\b\b\b\b\b\b\b\b\b\b\b\b\b\b\b\b\b\b\b\b\b\b\b\b\b\b\b\b\b\b\b\b\b\b\b\b\b\b\b\b\b\b\b\b\b\b\b\b\b\b\b\b\b\b\b\r",
      "412416/412416 [==============================] - 11s 28us/sample - loss: 172.9700 - reconstruction_loss: 89.5111 - KL_loss: 22.1875 - val_loss: 106.0740 - val_reconstruction_loss: 84.3291 - val_KL_loss: 21.7450 - lr: 7.6256e-04\n",
      "Epoch 500/1000\n"
     ]
    },
    {
     "name": "stdout",
     "output_type": "stream",
     "text": [
      "\r",
      "412416/412416 [==============================] - ETA: 0s - loss: 172.9645 - reconstruction_loss: 89.4582 - KL_loss: 22.1550"
     ]
    },
    {
     "name": "stdout",
     "output_type": "stream",
     "text": [
      "\b\b\b\b\b\b\b\b\b\b\b\b\b\b\b\b\b\b\b\b\b\b\b\b\b\b\b\b\b\b\b\b\b\b\b\b\b\b\b\b\b\b\b\b\b\b\b\b\b\b\b\b\b\b\b\b\b\b\b\b\b\b\b\b\b\b\b\b\b\b\b\b\b\b\b\b\b\b\b\b\b\b\b\b\b\b\b\b\b\b\b\b\b\b\b\b\b\b\b\b\b\b\b\b\b\b\b\b\b\b\b\b\b\b\b\b\b\b\b\b\b\b\b\r",
      "412416/412416 [==============================] - 11s 27us/sample - loss: 172.9645 - reconstruction_loss: 89.4582 - KL_loss: 22.1550 - val_loss: 106.1203 - val_reconstruction_loss: 84.4081 - val_KL_loss: 21.7122 - lr: 7.6256e-04\n",
      "Epoch 501/1000\n"
     ]
    },
    {
     "name": "stdout",
     "output_type": "stream",
     "text": [
      "\r",
      "412416/412416 [==============================] - ETA: 0s - loss: 172.8188 - reconstruction_loss: 89.5313 - KL_loss: 22.1252"
     ]
    },
    {
     "name": "stdout",
     "output_type": "stream",
     "text": [
      "\b\b\b\b\b\b\b\b\b\b\b\b\b\b\b\b\b\b\b\b\b\b\b\b\b\b\b\b\b\b\b\b\b\b\b\b\b\b\b\b\b\b\b\b\b\b\b\b\b\b\b\b\b\b\b\b\b\b\b\b\b\b\b\b\b\b\b\b\b\b\b\b\b\b\b\b\b\b\b\b\b\b\b\b\b\b\b\b\b\b\b\b\b\b\b\b\b\b\b\b\b\b\b\b\b\b\b\b\b\b\b\b\b\b\b\b\b\b\b\b\b\b\b\r",
      "412416/412416 [==============================] - 11s 27us/sample - loss: 172.8188 - reconstruction_loss: 89.5313 - KL_loss: 22.1252 - val_loss: 106.1148 - val_reconstruction_loss: 84.3957 - val_KL_loss: 21.7191 - lr: 7.6256e-04\n",
      "Epoch 502/1000\n"
     ]
    },
    {
     "name": "stdout",
     "output_type": "stream",
     "text": [
      "\r",
      "412416/412416 [==============================] - ETA: 0s - loss: 172.7999 - reconstruction_loss: 89.4881 - KL_loss: 22.1341"
     ]
    },
    {
     "name": "stdout",
     "output_type": "stream",
     "text": [
      "\b\b\b\b\b\b\b\b\b\b\b\b\b\b\b\b\b\b\b\b\b\b\b\b\b\b\b\b\b\b\b\b\b\b\b\b\b\b\b\b\b\b\b\b\b\b\b\b\b\b\b\b\b\b\b\b\b\b\b\b\b\b\b\b\b\b\b\b\b\b\b\b\b\b\b\b\b\b\b\b\b\b\b\b\b\b\b\b\b\b\b\b\b\b\b\b\b\b\b\b\b\b\b\b\b\b\b\b\b\b\b\b\b\b\b\b\b\b\b\b\b\b\b\r",
      "412416/412416 [==============================] - 11s 28us/sample - loss: 172.7999 - reconstruction_loss: 89.4881 - KL_loss: 22.1341 - val_loss: 106.0352 - val_reconstruction_loss: 84.2502 - val_KL_loss: 21.7850 - lr: 7.6256e-04\n",
      "Epoch 503/1000\n"
     ]
    },
    {
     "name": "stdout",
     "output_type": "stream",
     "text": [
      "\r",
      "412416/412416 [==============================] - ETA: 0s - loss: 172.6895 - reconstruction_loss: 89.3887 - KL_loss: 22.1978"
     ]
    },
    {
     "name": "stdout",
     "output_type": "stream",
     "text": [
      "\b\b\b\b\b\b\b\b\b\b\b\b\b\b\b\b\b\b\b\b\b\b\b\b\b\b\b\b\b\b\b\b\b\b\b\b\b\b\b\b\b\b\b\b\b\b\b\b\b\b\b\b\b\b\b\b\b\b\b\b\b\b\b\b\b\b\b\b\b\b\b\b\b\b\b\b\b\b\b\b\b\b\b\b\b\b\b\b\b\b\b\b\b\b\b\b\b\b\b\b\b\b\b\b\b\b\b\b\b\b\b\b\b\b\b\b\b\b\b\b\b\b\b\r",
      "412416/412416 [==============================] - 11s 27us/sample - loss: 172.6895 - reconstruction_loss: 89.3887 - KL_loss: 22.1978 - val_loss: 106.0148 - val_reconstruction_loss: 84.1952 - val_KL_loss: 21.8196 - lr: 7.6256e-04\n",
      "Epoch 504/1000\n"
     ]
    },
    {
     "name": "stdout",
     "output_type": "stream",
     "text": [
      "\r",
      "412416/412416 [==============================] - ETA: 0s - loss: 172.5681 - reconstruction_loss: 89.3280 - KL_loss: 22.2302"
     ]
    },
    {
     "name": "stdout",
     "output_type": "stream",
     "text": [
      "\b\b\b\b\b\b\b\b\b\b\b\b\b\b\b\b\b\b\b\b\b\b\b\b\b\b\b\b\b\b\b\b\b\b\b\b\b\b\b\b\b\b\b\b\b\b\b\b\b\b\b\b\b\b\b\b\b\b\b\b\b\b\b\b\b\b\b\b\b\b\b\b\b\b\b\b\b\b\b\b\b\b\b\b\b\b\b\b\b\b\b\b\b\b\b\b\b\b\b\b\b\b\b\b\b\b\b\b\b\b\b\b\b\b\b\b\b\b\b\b\b\b\b\r",
      "412416/412416 [==============================] - 11s 27us/sample - loss: 172.5681 - reconstruction_loss: 89.3280 - KL_loss: 22.2302 - val_loss: 106.0432 - val_reconstruction_loss: 84.3225 - val_KL_loss: 21.7207 - lr: 7.6256e-04\n",
      "Epoch 505/1000\n"
     ]
    },
    {
     "name": "stdout",
     "output_type": "stream",
     "text": [
      "\r",
      "412416/412416 [==============================] - ETA: 0s - loss: 172.6421 - reconstruction_loss: 89.4281 - KL_loss: 22.1336"
     ]
    },
    {
     "name": "stdout",
     "output_type": "stream",
     "text": [
      "\b\b\b\b\b\b\b\b\b\b\b\b\b\b\b\b\b\b\b\b\b\b\b\b\b\b\b\b\b\b\b\b\b\b\b\b\b\b\b\b\b\b\b\b\b\b\b\b\b\b\b\b\b\b\b\b\b\b\b\b\b\b\b\b\b\b\b\b\b\b\b\b\b\b\b\b\b\b\b\b\b\b\b\b\b\b\b\b\b\b\b\b\b\b\b\b\b\b\b\b\b\b\b\b\b\b\b\b\b\b\b\b\b\b\b\b\b\b\b\b\b\b\b\r",
      "412416/412416 [==============================] - 11s 27us/sample - loss: 172.6421 - reconstruction_loss: 89.4281 - KL_loss: 22.1336 - val_loss: 106.0002 - val_reconstruction_loss: 84.3453 - val_KL_loss: 21.6549 - lr: 7.6256e-04\n",
      "Epoch 506/1000\n"
     ]
    },
    {
     "name": "stdout",
     "output_type": "stream",
     "text": [
      "\r",
      "412416/412416 [==============================] - ETA: 0s - loss: 172.5062 - reconstruction_loss: 89.4452 - KL_loss: 22.0679"
     ]
    },
    {
     "name": "stdout",
     "output_type": "stream",
     "text": [
      "\b\b\b\b\b\b\b\b\b\b\b\b\b\b\b\b\b\b\b\b\b\b\b\b\b\b\b\b\b\b\b\b\b\b\b\b\b\b\b\b\b\b\b\b\b\b\b\b\b\b\b\b\b\b\b\b\b\b\b\b\b\b\b\b\b\b\b\b\b\b\b\b\b\b\b\b\b\b\b\b\b\b\b\b\b\b\b\b\b\b\b\b\b\b\b\b\b\b\b\b\b\b\b\b\b\b\b\b\b\b\b\b\b\b\b\b\b\b\b\b\b\b\b\r",
      "412416/412416 [==============================] - 11s 27us/sample - loss: 172.5062 - reconstruction_loss: 89.4452 - KL_loss: 22.0679 - val_loss: 106.0606 - val_reconstruction_loss: 84.3247 - val_KL_loss: 21.7360 - lr: 7.6256e-04\n",
      "Epoch 507/1000\n"
     ]
    },
    {
     "name": "stdout",
     "output_type": "stream",
     "text": [
      "\r",
      "412416/412416 [==============================] - ETA: 0s - loss: 172.6387 - reconstruction_loss: 89.4425 - KL_loss: 22.1451"
     ]
    },
    {
     "name": "stdout",
     "output_type": "stream",
     "text": [
      "\b\b\b\b\b\b\b\b\b\b\b\b\b\b\b\b\b\b\b\b\b\b\b\b\b\b\b\b\b\b\b\b\b\b\b\b\b\b\b\b\b\b\b\b\b\b\b\b\b\b\b\b\b\b\b\b\b\b\b\b\b\b\b\b\b\b\b\b\b\b\b\b\b\b\b\b\b\b\b\b\b\b\b\b\b\b\b\b\b\b\b\b\b\b\b\b\b\b\b\b\b\b\b\b\b\b\b\b\b\b\b\b\b\b\b\b\b\b\b\b\b\b\b\r",
      "412416/412416 [==============================] - 12s 29us/sample - loss: 172.6387 - reconstruction_loss: 89.4425 - KL_loss: 22.1451 - val_loss: 106.0444 - val_reconstruction_loss: 84.2594 - val_KL_loss: 21.7849 - lr: 7.6256e-04\n",
      "Epoch 508/1000\n"
     ]
    },
    {
     "name": "stdout",
     "output_type": "stream",
     "text": [
      "\r",
      "412416/412416 [==============================] - ETA: 0s - loss: 172.5662 - reconstruction_loss: 89.3512 - KL_loss: 22.1946"
     ]
    },
    {
     "name": "stdout",
     "output_type": "stream",
     "text": [
      "\b\b\b\b\b\b\b\b\b\b\b\b\b\b\b\b\b\b\b\b\b\b\b\b\b\b\b\b\b\b\b\b\b\b\b\b\b\b\b\b\b\b\b\b\b\b\b\b\b\b\b\b\b\b\b\b\b\b\b\b\b\b\b\b\b\b\b\b\b\b\b\b\b\b\b\b\b\b\b\b\b\b\b\b\b\b\b\b\b\b\b\b\b\b\b\b\b\b\b\b\b\b\b\b\b\b\b\b\b\b\b\b\b\b\b\b\b\b\b\b\b\b\b\r",
      "412416/412416 [==============================] - 11s 27us/sample - loss: 172.5662 - reconstruction_loss: 89.3512 - KL_loss: 22.1946 - val_loss: 106.0060 - val_reconstruction_loss: 84.2593 - val_KL_loss: 21.7467 - lr: 6.8630e-04\n",
      "Epoch 509/1000\n"
     ]
    },
    {
     "name": "stdout",
     "output_type": "stream",
     "text": [
      "\r",
      "412416/412416 [==============================] - ETA: 0s - loss: 172.4442 - reconstruction_loss: 89.3716 - KL_loss: 22.1588"
     ]
    },
    {
     "name": "stdout",
     "output_type": "stream",
     "text": [
      "\b\b\b\b\b\b\b\b\b\b\b\b\b\b\b\b\b\b\b\b\b\b\b\b\b\b\b\b\b\b\b\b\b\b\b\b\b\b\b\b\b\b\b\b\b\b\b\b\b\b\b\b\b\b\b\b\b\b\b\b\b\b\b\b\b\b\b\b\b\b\b\b\b\b\b\b\b\b\b\b\b\b\b\b\b\b\b\b\b\b\b\b\b\b\b\b\b\b\b\b\b\b\b\b\b\b\b\b\b\b\b\b\b\b\b\b\b\b\b\b\b\b\b\r",
      "412416/412416 [==============================] - 16s 39us/sample - loss: 172.4442 - reconstruction_loss: 89.3716 - KL_loss: 22.1588 - val_loss: 105.9961 - val_reconstruction_loss: 84.2307 - val_KL_loss: 21.7654 - lr: 6.8630e-04\n",
      "Epoch 510/1000\n"
     ]
    },
    {
     "name": "stdout",
     "output_type": "stream",
     "text": [
      "\r",
      "412416/412416 [==============================] - ETA: 0s - loss: 172.4812 - reconstruction_loss: 89.3406 - KL_loss: 22.1760"
     ]
    },
    {
     "name": "stdout",
     "output_type": "stream",
     "text": [
      "\b\b\b\b\b\b\b\b\b\b\b\b\b\b\b\b\b\b\b\b\b\b\b\b\b\b\b\b\b\b\b\b\b\b\b\b\b\b\b\b\b\b\b\b\b\b\b\b\b\b\b\b\b\b\b\b\b\b\b\b\b\b\b\b\b\b\b\b\b\b\b\b\b\b\b\b\b\b\b\b\b\b\b\b\b\b\b\b\b\b\b\b\b\b\b\b\b\b\b\b\b\b\b\b\b\b\b\b\b\b\b\b\b\b\b\b\b\b\b\b\b\b\b\r",
      "412416/412416 [==============================] - 11s 27us/sample - loss: 172.4812 - reconstruction_loss: 89.3406 - KL_loss: 22.1760 - val_loss: 105.9920 - val_reconstruction_loss: 84.1224 - val_KL_loss: 21.8695 - lr: 6.8630e-04\n",
      "Epoch 511/1000\n"
     ]
    },
    {
     "name": "stdout",
     "output_type": "stream",
     "text": [
      "\r",
      "412416/412416 [==============================] - ETA: 0s - loss: 172.3894 - reconstruction_loss: 89.2285 - KL_loss: 22.2783"
     ]
    },
    {
     "name": "stdout",
     "output_type": "stream",
     "text": [
      "\b\b\b\b\b\b\b\b\b\b\b\b\b\b\b\b\b\b\b\b\b\b\b\b\b\b\b\b\b\b\b\b\b\b\b\b\b\b\b\b\b\b\b\b\b\b\b\b\b\b\b\b\b\b\b\b\b\b\b\b\b\b\b\b\b\b\b\b\b\b\b\b\b\b\b\b\b\b\b\b\b\b\b\b\b\b\b\b\b\b\b\b\b\b\b\b\b\b\b\b\b\b\b\b\b\b\b\b\b\b\b\b\b\b\b\b\b\b\b\b\b\b\b\r",
      "412416/412416 [==============================] - 11s 28us/sample - loss: 172.3894 - reconstruction_loss: 89.2285 - KL_loss: 22.2783 - val_loss: 105.9805 - val_reconstruction_loss: 84.1076 - val_KL_loss: 21.8729 - lr: 6.8630e-04\n",
      "Epoch 512/1000\n"
     ]
    },
    {
     "name": "stdout",
     "output_type": "stream",
     "text": [
      "\r",
      "412416/412416 [==============================] - ETA: 0s - loss: 172.3810 - reconstruction_loss: 89.1973 - KL_loss: 22.2833"
     ]
    },
    {
     "name": "stdout",
     "output_type": "stream",
     "text": [
      "\b\b\b\b\b\b\b\b\b\b\b\b\b\b\b\b\b\b\b\b\b\b\b\b\b\b\b\b\b\b\b\b\b\b\b\b\b\b\b\b\b\b\b\b\b\b\b\b\b\b\b\b\b\b\b\b\b\b\b\b\b\b\b\b\b\b\b\b\b\b\b\b\b\b\b\b\b\b\b\b\b\b\b\b\b\b\b\b\b\b\b\b\b\b\b\b\b\b\b\b\b\b\b\b\b\b\b\b\b\b\b\b\b\b\b\b\b\b\b\b\b\b\b\r",
      "412416/412416 [==============================] - 11s 27us/sample - loss: 172.3810 - reconstruction_loss: 89.1973 - KL_loss: 22.2833 - val_loss: 105.9352 - val_reconstruction_loss: 84.1650 - val_KL_loss: 21.7702 - lr: 6.8630e-04\n",
      "Epoch 513/1000\n"
     ]
    },
    {
     "name": "stdout",
     "output_type": "stream",
     "text": [
      "\r",
      "412416/412416 [==============================] - ETA: 0s - loss: 172.3195 - reconstruction_loss: 89.3129 - KL_loss: 22.1810"
     ]
    },
    {
     "name": "stdout",
     "output_type": "stream",
     "text": [
      "\b\b\b\b\b\b\b\b\b\b\b\b\b\b\b\b\b\b\b\b\b\b\b\b\b\b\b\b\b\b\b\b\b\b\b\b\b\b\b\b\b\b\b\b\b\b\b\b\b\b\b\b\b\b\b\b\b\b\b\b\b\b\b\b\b\b\b\b\b\b\b\b\b\b\b\b\b\b\b\b\b\b\b\b\b\b\b\b\b\b\b\b\b\b\b\b\b\b\b\b\b\b\b\b\b\b\b\b\b\b\b\b\b\b\b\b\b\b\b\b\b\b\b\r",
      "412416/412416 [==============================] - 11s 27us/sample - loss: 172.3195 - reconstruction_loss: 89.3129 - KL_loss: 22.1810 - val_loss: 105.9556 - val_reconstruction_loss: 84.2401 - val_KL_loss: 21.7155 - lr: 6.8630e-04\n",
      "Epoch 514/1000\n"
     ]
    },
    {
     "name": "stdout",
     "output_type": "stream",
     "text": [
      "\r",
      "412416/412416 [==============================] - ETA: 0s - loss: 172.2266 - reconstruction_loss: 89.3163 - KL_loss: 22.1257"
     ]
    },
    {
     "name": "stdout",
     "output_type": "stream",
     "text": [
      "\b\b\b\b\b\b\b\b\b\b\b\b\b\b\b\b\b\b\b\b\b\b\b\b\b\b\b\b\b\b\b\b\b\b\b\b\b\b\b\b\b\b\b\b\b\b\b\b\b\b\b\b\b\b\b\b\b\b\b\b\b\b\b\b\b\b\b\b\b\b\b\b\b\b\b\b\b\b\b\b\b\b\b\b\b\b\b\b\b\b\b\b\b\b\b\b\b\b\b\b\b\b\b\b\b\b\b\b\b\b\b\b\b\b\b\b\b\b\b\b\b\b\b\r",
      "412416/412416 [==============================] - 11s 27us/sample - loss: 172.2266 - reconstruction_loss: 89.3163 - KL_loss: 22.1257 - val_loss: 106.0334 - val_reconstruction_loss: 84.2859 - val_KL_loss: 21.7475 - lr: 6.8630e-04\n",
      "Epoch 515/1000\n"
     ]
    },
    {
     "name": "stdout",
     "output_type": "stream",
     "text": [
      "\r",
      "412416/412416 [==============================] - ETA: 0s - loss: 172.4108 - reconstruction_loss: 89.3684 - KL_loss: 22.1585"
     ]
    },
    {
     "name": "stdout",
     "output_type": "stream",
     "text": [
      "\b\b\b\b\b\b\b\b\b\b\b\b\b\b\b\b\b\b\b\b\b\b\b\b\b\b\b\b\b\b\b\b\b\b\b\b\b\b\b\b\b\b\b\b\b\b\b\b\b\b\b\b\b\b\b\b\b\b\b\b\b\b\b\b\b\b\b\b\b\b\b\b\b\b\b\b\b\b\b\b\b\b\b\b\b\b\b\b\b\b\b\b\b\b\b\b\b\b\b\b\b\b\b\b\b\b\b\b\b\b\b\b\b\b\b\b\b\b\b\b\b\b\b\r",
      "412416/412416 [==============================] - 11s 28us/sample - loss: 172.4108 - reconstruction_loss: 89.3684 - KL_loss: 22.1585 - val_loss: 105.9483 - val_reconstruction_loss: 84.2122 - val_KL_loss: 21.7360 - lr: 6.8630e-04\n",
      "Epoch 516/1000\n"
     ]
    },
    {
     "name": "stdout",
     "output_type": "stream",
     "text": [
      "\r",
      "412416/412416 [==============================] - ETA: 0s - loss: 172.2417 - reconstruction_loss: 89.3194 - KL_loss: 22.1478"
     ]
    },
    {
     "name": "stdout",
     "output_type": "stream",
     "text": [
      "\b\b\b\b\b\b\b\b\b\b\b\b\b\b\b\b\b\b\b\b\b\b\b\b\b\b\b\b\b\b\b\b\b\b\b\b\b\b\b\b\b\b\b\b\b\b\b\b\b\b\b\b\b\b\b\b\b\b\b\b\b\b\b\b\b\b\b\b\b\b\b\b\b\b\b\b\b\b\b\b\b\b\b\b\b\b\b\b\b\b\b\b\b\b\b\b\b\b\b\b\b\b\b\b\b\b\b\b\b\b\b\b\b\b\b\b\b\b\b\b\b\b\b\r",
      "412416/412416 [==============================] - 12s 29us/sample - loss: 172.2417 - reconstruction_loss: 89.3194 - KL_loss: 22.1478 - val_loss: 106.0566 - val_reconstruction_loss: 84.3492 - val_KL_loss: 21.7074 - lr: 6.8630e-04\n",
      "Epoch 517/1000\n"
     ]
    },
    {
     "name": "stdout",
     "output_type": "stream",
     "text": [
      "\r",
      "412416/412416 [==============================] - ETA: 0s - loss: 172.4362 - reconstruction_loss: 89.4511 - KL_loss: 22.1190"
     ]
    },
    {
     "name": "stdout",
     "output_type": "stream",
     "text": [
      "\b\b\b\b\b\b\b\b\b\b\b\b\b\b\b\b\b\b\b\b\b\b\b\b\b\b\b\b\b\b\b\b\b\b\b\b\b\b\b\b\b\b\b\b\b\b\b\b\b\b\b\b\b\b\b\b\b\b\b\b\b\b\b\b\b\b\b\b\b\b\b\b\b\b\b\b\b\b\b\b\b\b\b\b\b\b\b\b\b\b\b\b\b\b\b\b\b\b\b\b\b\b\b\b\b\b\b\b\b\b\b\b\b\b\b\b\b\b\b\b\b\b\b\r",
      "412416/412416 [==============================] - 12s 28us/sample - loss: 172.4362 - reconstruction_loss: 89.4511 - KL_loss: 22.1190 - val_loss: 106.0032 - val_reconstruction_loss: 84.2029 - val_KL_loss: 21.8002 - lr: 6.8630e-04\n",
      "Epoch 518/1000\n"
     ]
    },
    {
     "name": "stdout",
     "output_type": "stream",
     "text": [
      "\r",
      "412416/412416 [==============================] - ETA: 0s - loss: 172.3106 - reconstruction_loss: 89.3169 - KL_loss: 22.2116"
     ]
    },
    {
     "name": "stdout",
     "output_type": "stream",
     "text": [
      "\b\b\b\b\b\b\b\b\b\b\b\b\b\b\b\b\b\b\b\b\b\b\b\b\b\b\b\b\b\b\b\b\b\b\b\b\b\b\b\b\b\b\b\b\b\b\b\b\b\b\b\b\b\b\b\b\b\b\b\b\b\b\b\b\b\b\b\b\b\b\b\b\b\b\b\b\b\b\b\b\b\b\b\b\b\b\b\b\b\b\b\b\b\b\b\b\b\b\b\b\b\b\b\b\b\b\b\b\b\b\b\b\b\b\b\b\b\b\b\b\b\b\b\r",
      "412416/412416 [==============================] - 14s 33us/sample - loss: 172.3106 - reconstruction_loss: 89.3169 - KL_loss: 22.2116 - val_loss: 106.0317 - val_reconstruction_loss: 84.0899 - val_KL_loss: 21.9418 - lr: 6.8630e-04\n",
      "Epoch 519/1000\n"
     ]
    },
    {
     "name": "stdout",
     "output_type": "stream",
     "text": [
      "\r",
      "412416/412416 [==============================] - ETA: 0s - loss: 172.2782 - reconstruction_loss: 89.1547 - KL_loss: 22.3518"
     ]
    },
    {
     "name": "stdout",
     "output_type": "stream",
     "text": [
      "\b\b\b\b\b\b\b\b\b\b\b\b\b\b\b\b\b\b\b\b\b\b\b\b\b\b\b\b\b\b\b\b\b\b\b\b\b\b\b\b\b\b\b\b\b\b\b\b\b\b\b\b\b\b\b\b\b\b\b\b\b\b\b\b\b\b\b\b\b\b\b\b\b\b\b\b\b\b\b\b\b\b\b\b\b\b\b\b\b\b\b\b\b\b\b\b\b\b\b\b\b\b\b\b\b\b\b\b\b\b\b\b\b\b\b\b\b\b\b\b\b\b\b\r",
      "412416/412416 [==============================] - 11s 27us/sample - loss: 172.2782 - reconstruction_loss: 89.1547 - KL_loss: 22.3518 - val_loss: 105.9697 - val_reconstruction_loss: 84.0365 - val_KL_loss: 21.9333 - lr: 6.8630e-04\n",
      "Epoch 520/1000\n"
     ]
    },
    {
     "name": "stdout",
     "output_type": "stream",
     "text": [
      "\r",
      "412416/412416 [==============================] - ETA: 0s - loss: 172.2944 - reconstruction_loss: 89.1552 - KL_loss: 22.3427"
     ]
    },
    {
     "name": "stdout",
     "output_type": "stream",
     "text": [
      "\b\b\b\b\b\b\b\b\b\b\b\b\b\b\b\b\b\b\b\b\b\b\b\b\b\b\b\b\b\b\b\b\b\b\b\b\b\b\b\b\b\b\b\b\b\b\b\b\b\b\b\b\b\b\b\b\b\b\b\b\b\b\b\b\b\b\b\b\b\b\b\b\b\b\b\b\b\b\b\b\b\b\b\b\b\b\b\b\b\b\b\b\b\b\b\b\b\b\b\b\b\b\b\b\b\b\b\b\b\b\b\b\b\b\b\b\b\b\b\b\b\b\b\r",
      "412416/412416 [==============================] - 11s 27us/sample - loss: 172.2944 - reconstruction_loss: 89.1552 - KL_loss: 22.3427 - val_loss: 106.0002 - val_reconstruction_loss: 84.2064 - val_KL_loss: 21.7938 - lr: 6.8630e-04\n",
      "Epoch 521/1000\n"
     ]
    },
    {
     "name": "stdout",
     "output_type": "stream",
     "text": [
      "\r",
      "412416/412416 [==============================] - ETA: 0s - loss: 172.1488 - reconstruction_loss: 89.3141 - KL_loss: 22.2045"
     ]
    },
    {
     "name": "stdout",
     "output_type": "stream",
     "text": [
      "\b\b\b\b\b\b\b\b\b\b\b\b\b\b\b\b\b\b\b\b\b\b\b\b\b\b\b\b\b\b\b\b\b\b\b\b\b\b\b\b\b\b\b\b\b\b\b\b\b\b\b\b\b\b\b\b\b\b\b\b\b\b\b\b\b\b\b\b\b\b\b\b\b\b\b\b\b\b\b\b\b\b\b\b\b\b\b\b\b\b\b\b\b\b\b\b\b\b\b\b\b\b\b\b\b\b\b\b\b\b\b\b\b\b\b\b\b\b\b\b\b\b\b\r",
      "412416/412416 [==============================] - 11s 28us/sample - loss: 172.1488 - reconstruction_loss: 89.3141 - KL_loss: 22.2045 - val_loss: 105.9343 - val_reconstruction_loss: 84.2215 - val_KL_loss: 21.7129 - lr: 6.8630e-04\n",
      "Epoch 522/1000\n"
     ]
    },
    {
     "name": "stdout",
     "output_type": "stream",
     "text": [
      "\r",
      "412416/412416 [==============================] - ETA: 0s - loss: 172.0448 - reconstruction_loss: 89.3449 - KL_loss: 22.1235"
     ]
    },
    {
     "name": "stdout",
     "output_type": "stream",
     "text": [
      "\b\b\b\b\b\b\b\b\b\b\b\b\b\b\b\b\b\b\b\b\b\b\b\b\b\b\b\b\b\b\b\b\b\b\b\b\b\b\b\b\b\b\b\b\b\b\b\b\b\b\b\b\b\b\b\b\b\b\b\b\b\b\b\b\b\b\b\b\b\b\b\b\b\b\b\b\b\b\b\b\b\b\b\b\b\b\b\b\b\b\b\b\b\b\b\b\b\b\b\b\b\b\b\b\b\b\b\b\b\b\b\b\b\b\b\b\b\b\b\b\b\b\b\r",
      "412416/412416 [==============================] - 11s 27us/sample - loss: 172.0448 - reconstruction_loss: 89.3449 - KL_loss: 22.1235 - val_loss: 106.0330 - val_reconstruction_loss: 84.2759 - val_KL_loss: 21.7571 - lr: 6.8630e-04\n",
      "Epoch 523/1000\n"
     ]
    },
    {
     "name": "stdout",
     "output_type": "stream",
     "text": [
      "\r",
      "412416/412416 [==============================] - ETA: 0s - loss: 172.2423 - reconstruction_loss: 89.3750 - KL_loss: 22.1654"
     ]
    },
    {
     "name": "stdout",
     "output_type": "stream",
     "text": [
      "\b\b\b\b\b\b\b\b\b\b\b\b\b\b\b\b\b\b\b\b\b\b\b\b\b\b\b\b\b\b\b\b\b\b\b\b\b\b\b\b\b\b\b\b\b\b\b\b\b\b\b\b\b\b\b\b\b\b\b\b\b\b\b\b\b\b\b\b\b\b\b\b\b\b\b\b\b\b\b\b\b\b\b\b\b\b\b\b\b\b\b\b\b\b\b\b\b\b\b\b\b\b\b\b\b\b\b\b\b\b\b\b\b\b\b\b\b\b\b\b\b\b\b\r",
      "412416/412416 [==============================] - 11s 28us/sample - loss: 172.2423 - reconstruction_loss: 89.3750 - KL_loss: 22.1654 - val_loss: 105.9513 - val_reconstruction_loss: 84.2001 - val_KL_loss: 21.7512 - lr: 6.8630e-04\n",
      "Epoch 524/1000\n"
     ]
    },
    {
     "name": "stdout",
     "output_type": "stream",
     "text": [
      "\r",
      "412416/412416 [==============================] - ETA: 0s - loss: 172.0496 - reconstruction_loss: 89.3149 - KL_loss: 22.1607"
     ]
    },
    {
     "name": "stdout",
     "output_type": "stream",
     "text": [
      "\b\b\b\b\b\b\b\b\b\b\b\b\b\b\b\b\b\b\b\b\b\b\b\b\b\b\b\b\b\b\b\b\b\b\b\b\b\b\b\b\b\b\b\b\b\b\b\b\b\b\b\b\b\b\b\b\b\b\b\b\b\b\b\b\b\b\b\b\b\b\b\b\b\b\b\b\b\b\b\b\b\b\b\b\b\b\b\b\b\b\b\b\b\b\b\b\b\b\b\b\b\b\b\b\b\b\b\b\b\b\b\b\b\b\b\b\b\b\b\b\b\b\b\r",
      "412416/412416 [==============================] - 11s 27us/sample - loss: 172.0496 - reconstruction_loss: 89.3149 - KL_loss: 22.1607 - val_loss: 105.9904 - val_reconstruction_loss: 84.2882 - val_KL_loss: 21.7022 - lr: 6.8630e-04\n",
      "Epoch 525/1000\n"
     ]
    },
    {
     "name": "stdout",
     "output_type": "stream",
     "text": [
      "\r",
      "412416/412416 [==============================] - ETA: 0s - loss: 172.1043 - reconstruction_loss: 89.4015 - KL_loss: 22.1145"
     ]
    },
    {
     "name": "stdout",
     "output_type": "stream",
     "text": [
      "\b\b\b\b\b\b\b\b\b\b\b\b\b\b\b\b\b\b\b\b\b\b\b\b\b\b\b\b\b\b\b\b\b\b\b\b\b\b\b\b\b\b\b\b\b\b\b\b\b\b\b\b\b\b\b\b\b\b\b\b\b\b\b\b\b\b\b\b\b\b\b\b\b\b\b\b\b\b\b\b\b\b\b\b\b\b\b\b\b\b\b\b\b\b\b\b\b\b\b\b\b\b\b\b\b\b\b\b\b\b\b\b\b\b\b\b\b\b\b\b\b\b\b\r",
      "412416/412416 [==============================] - 11s 27us/sample - loss: 172.1043 - reconstruction_loss: 89.4015 - KL_loss: 22.1145 - val_loss: 106.0092 - val_reconstruction_loss: 84.2611 - val_KL_loss: 21.7481 - lr: 6.8630e-04\n",
      "Epoch 526/1000\n"
     ]
    },
    {
     "name": "stdout",
     "output_type": "stream",
     "text": [
      "\r",
      "412416/412416 [==============================] - ETA: 0s - loss: 172.0619 - reconstruction_loss: 89.3278 - KL_loss: 22.1589"
     ]
    },
    {
     "name": "stdout",
     "output_type": "stream",
     "text": [
      "\b\b\b\b\b\b\b\b\b\b\b\b\b\b\b\b\b\b\b\b\b\b\b\b\b\b\b\b\b\b\b\b\b\b\b\b\b\b\b\b\b\b\b\b\b\b\b\b\b\b\b\b\b\b\b\b\b\b\b\b\b\b\b\b\b\b\b\b\b\b\b\b\b\b\b\b\b\b\b\b\b\b\b\b\b\b\b\b\b\b\b\b\b\b\b\b\b\b\b\b\b\b\b\b\b\b\b\b\b\b\b\b\b\b\b\b\b\b\b\b\b\b\b\r",
      "412416/412416 [==============================] - 11s 28us/sample - loss: 172.0619 - reconstruction_loss: 89.3278 - KL_loss: 22.1589 - val_loss: 105.9762 - val_reconstruction_loss: 84.1033 - val_KL_loss: 21.8729 - lr: 6.8630e-04\n",
      "Epoch 527/1000\n"
     ]
    },
    {
     "name": "stdout",
     "output_type": "stream",
     "text": [
      "\r",
      "412416/412416 [==============================] - ETA: 0s - loss: 171.9978 - reconstruction_loss: 89.2007 - KL_loss: 22.2806"
     ]
    },
    {
     "name": "stdout",
     "output_type": "stream",
     "text": [
      "\b\b\b\b\b\b\b\b\b\b\b\b\b\b\b\b\b\b\b\b\b\b\b\b\b\b\b\b\b\b\b\b\b\b\b\b\b\b\b\b\b\b\b\b\b\b\b\b\b\b\b\b\b\b\b\b\b\b\b\b\b\b\b\b\b\b\b\b\b\b\b\b\b\b\b\b\b\b\b\b\b\b\b\b\b\b\b\b\b\b\b\b\b\b\b\b\b\b\b\b\b\b\b\b\b\b\b\b\b\b\b\b\b\b\b\b\b\b\b\b\b\b\b\r",
      "412416/412416 [==============================] - 11s 28us/sample - loss: 171.9978 - reconstruction_loss: 89.2007 - KL_loss: 22.2806 - val_loss: 105.9590 - val_reconstruction_loss: 84.0500 - val_KL_loss: 21.9090 - lr: 6.8630e-04\n",
      "Epoch 528/1000\n"
     ]
    },
    {
     "name": "stdout",
     "output_type": "stream",
     "text": [
      "\r",
      "412416/412416 [==============================] - ETA: 0s - loss: 171.9733 - reconstruction_loss: 89.1432 - KL_loss: 22.3178"
     ]
    },
    {
     "name": "stdout",
     "output_type": "stream",
     "text": [
      "\b\b\b\b\b\b\b\b\b\b\b\b\b\b\b\b\b\b\b\b\b\b\b\b\b\b\b\b\b\b\b\b\b\b\b\b\b\b\b\b\b\b\b\b\b\b\b\b\b\b\b\b\b\b\b\b\b\b\b\b\b\b\b\b\b\b\b\b\b\b\b\b\b\b\b\b\b\b\b\b\b\b\b\b\b\b\b\b\b\b\b\b\b\b\b\b\b\b\b\b\b\b\b\b\b\b\b\b\b\b\b\b\b\b\b\b\b\b\b\b\b\b\b\r",
      "412416/412416 [==============================] - 12s 28us/sample - loss: 171.9733 - reconstruction_loss: 89.1432 - KL_loss: 22.3178 - val_loss: 105.9749 - val_reconstruction_loss: 84.1025 - val_KL_loss: 21.8723 - lr: 6.8630e-04\n",
      "Epoch 529/1000\n"
     ]
    },
    {
     "name": "stdout",
     "output_type": "stream",
     "text": [
      "\r",
      "412416/412416 [==============================] - ETA: 0s - loss: 171.9650 - reconstruction_loss: 89.1804 - KL_loss: 22.2825"
     ]
    },
    {
     "name": "stdout",
     "output_type": "stream",
     "text": [
      "\b\b\b\b\b\b\b\b\b\b\b\b\b\b\b\b\b\b\b\b\b\b\b\b\b\b\b\b\b\b\b\b\b\b\b\b\b\b\b\b\b\b\b\b\b\b\b\b\b\b\b\b\b\b\b\b\b\b\b\b\b\b\b\b\b\b\b\b\b\b\b\b\b\b\b\b\b\b\b\b\b\b\b\b\b\b\b\b\b\b\b\b\b\b\b\b\b\b\b\b\b\b\b\b\b\b\b\b\b\b\b\b\b\b\b\b\b\b\b\b\b\b\b\r",
      "412416/412416 [==============================] - 12s 29us/sample - loss: 171.9650 - reconstruction_loss: 89.1804 - KL_loss: 22.2825 - val_loss: 105.9481 - val_reconstruction_loss: 84.0819 - val_KL_loss: 21.8663 - lr: 6.8630e-04\n",
      "Epoch 530/1000\n"
     ]
    },
    {
     "name": "stdout",
     "output_type": "stream",
     "text": [
      "\r",
      "412416/412416 [==============================] - ETA: 0s - loss: 171.7428 - reconstruction_loss: 89.1221 - KL_loss: 22.2765"
     ]
    },
    {
     "name": "stdout",
     "output_type": "stream",
     "text": [
      "\b\b\b\b\b\b\b\b\b\b\b\b\b\b\b\b\b\b\b\b\b\b\b\b\b\b\b\b\b\b\b\b\b\b\b\b\b\b\b\b\b\b\b\b\b\b\b\b\b\b\b\b\b\b\b\b\b\b\b\b\b\b\b\b\b\b\b\b\b\b\b\b\b\b\b\b\b\b\b\b\b\b\b\b\b\b\b\b\b\b\b\b\b\b\b\b\b\b\b\b\b\b\b\b\b\b\b\b\b\b\b\b\b\b\b\b\b\b\b\b\b\b\b\r",
      "412416/412416 [==============================] - 11s 28us/sample - loss: 171.7428 - reconstruction_loss: 89.1221 - KL_loss: 22.2765 - val_loss: 106.1110 - val_reconstruction_loss: 84.2319 - val_KL_loss: 21.8790 - lr: 6.8630e-04\n",
      "Epoch 531/1000\n"
     ]
    },
    {
     "name": "stdout",
     "output_type": "stream",
     "text": [
      "\r",
      "412416/412416 [==============================] - ETA: 0s - loss: 172.1305 - reconstruction_loss: 89.3197 - KL_loss: 22.2880"
     ]
    },
    {
     "name": "stdout",
     "output_type": "stream",
     "text": [
      "\b\b\b\b\b\b\b\b\b\b\b\b\b\b\b\b\b\b\b\b\b\b\b\b\b\b\b\b\b\b\b\b\b\b\b\b\b\b\b\b\b\b\b\b\b\b\b\b\b\b\b\b\b\b\b\b\b\b\b\b\b\b\b\b\b\b\b\b\b\b\b\b\b\b\b\b\b\b\b\b\b\b\b\b\b\b\b\b\b\b\b\b\b\b\b\b\b\b\b\b\b\b\b\b\b\b\b\b\b\b\b\b\b\b\b\b\b\b\b\b\b\b\b\r",
      "412416/412416 [==============================] - 12s 28us/sample - loss: 172.1305 - reconstruction_loss: 89.3197 - KL_loss: 22.2880 - val_loss: 106.0520 - val_reconstruction_loss: 84.2184 - val_KL_loss: 21.8337 - lr: 6.8630e-04\n",
      "Epoch 532/1000\n"
     ]
    },
    {
     "name": "stdout",
     "output_type": "stream",
     "text": [
      "\r",
      "412416/412416 [==============================] - ETA: 0s - loss: 172.0388 - reconstruction_loss: 89.3296 - KL_loss: 22.2411"
     ]
    },
    {
     "name": "stdout",
     "output_type": "stream",
     "text": [
      "\b\b\b\b\b\b\b\b\b\b\b\b\b\b\b\b\b\b\b\b\b\b\b\b\b\b\b\b\b\b\b\b\b\b\b\b\b\b\b\b\b\b\b\b\b\b\b\b\b\b\b\b\b\b\b\b\b\b\b\b\b\b\b\b\b\b\b\b\b\b\b\b\b\b\b\b\b\b\b\b\b\b\b\b\b\b\b\b\b\b\b\b\b\b\b\b\b\b\b\b\b\b\b\b\b\b\b\b\b\b\b\b\b\b\b\b\b\b\b\b\b\b\b\r",
      "412416/412416 [==============================] - 11s 28us/sample - loss: 172.0388 - reconstruction_loss: 89.3296 - KL_loss: 22.2411 - val_loss: 105.9033 - val_reconstruction_loss: 84.1632 - val_KL_loss: 21.7401 - lr: 6.1767e-04\n",
      "Epoch 533/1000\n"
     ]
    },
    {
     "name": "stdout",
     "output_type": "stream",
     "text": [
      "\r",
      "412416/412416 [==============================] - ETA: 0s - loss: 171.7820 - reconstruction_loss: 89.2846 - KL_loss: 22.1487"
     ]
    },
    {
     "name": "stdout",
     "output_type": "stream",
     "text": [
      "\b\b\b\b\b\b\b\b\b\b\b\b\b\b\b\b\b\b\b\b\b\b\b\b\b\b\b\b\b\b\b\b\b\b\b\b\b\b\b\b\b\b\b\b\b\b\b\b\b\b\b\b\b\b\b\b\b\b\b\b\b\b\b\b\b\b\b\b\b\b\b\b\b\b\b\b\b\b\b\b\b\b\b\b\b\b\b\b\b\b\b\b\b\b\b\b\b\b\b\b\b\b\b\b\b\b\b\b\b\b\b\b\b\b\b\b\b\b\b\b\b\b\b\r",
      "412416/412416 [==============================] - 11s 28us/sample - loss: 171.7820 - reconstruction_loss: 89.2846 - KL_loss: 22.1487 - val_loss: 106.0079 - val_reconstruction_loss: 84.2909 - val_KL_loss: 21.7171 - lr: 6.1767e-04\n",
      "Epoch 534/1000\n"
     ]
    },
    {
     "name": "stdout",
     "output_type": "stream",
     "text": [
      "\r",
      "412416/412416 [==============================] - ETA: 0s - loss: 171.9757 - reconstruction_loss: 89.4018 - KL_loss: 22.1309"
     ]
    },
    {
     "name": "stdout",
     "output_type": "stream",
     "text": [
      "\b\b\b\b\b\b\b\b\b\b\b\b\b\b\b\b\b\b\b\b\b\b\b\b\b\b\b\b\b\b\b\b\b\b\b\b\b\b\b\b\b\b\b\b\b\b\b\b\b\b\b\b\b\b\b\b\b\b\b\b\b\b\b\b\b\b\b\b\b\b\b\b\b\b\b\b\b\b\b\b\b\b\b\b\b\b\b\b\b\b\b\b\b\b\b\b\b\b\b\b\b\b\b\b\b\b\b\b\b\b\b\b\b\b\b\b\b\b\b\b\b\b\b\r",
      "412416/412416 [==============================] - 12s 29us/sample - loss: 171.9757 - reconstruction_loss: 89.4018 - KL_loss: 22.1309 - val_loss: 105.9332 - val_reconstruction_loss: 84.1493 - val_KL_loss: 21.7839 - lr: 6.1767e-04\n",
      "Epoch 535/1000\n"
     ]
    },
    {
     "name": "stdout",
     "output_type": "stream",
     "text": [
      "\r",
      "412416/412416 [==============================] - ETA: 0s - loss: 171.6976 - reconstruction_loss: 89.2127 - KL_loss: 22.1965"
     ]
    },
    {
     "name": "stdout",
     "output_type": "stream",
     "text": [
      "\b\b\b\b\b\b\b\b\b\b\b\b\b\b\b\b\b\b\b\b\b\b\b\b\b\b\b\b\b\b\b\b\b\b\b\b\b\b\b\b\b\b\b\b\b\b\b\b\b\b\b\b\b\b\b\b\b\b\b\b\b\b\b\b\b\b\b\b\b\b\b\b\b\b\b\b\b\b\b\b\b\b\b\b\b\b\b\b\b\b\b\b\b\b\b\b\b\b\b\b\b\b\b\b\b\b\b\b\b\b\b\b\b\b\b\b\b\b\b\b\b\b\b\r",
      "412416/412416 [==============================] - 12s 28us/sample - loss: 171.6976 - reconstruction_loss: 89.2127 - KL_loss: 22.1965 - val_loss: 106.0668 - val_reconstruction_loss: 84.1820 - val_KL_loss: 21.8848 - lr: 6.1767e-04\n",
      "Epoch 536/1000\n"
     ]
    },
    {
     "name": "stdout",
     "output_type": "stream",
     "text": [
      "\r",
      "412416/412416 [==============================] - ETA: 0s - loss: 172.0092 - reconstruction_loss: 89.3114 - KL_loss: 22.2900"
     ]
    },
    {
     "name": "stdout",
     "output_type": "stream",
     "text": [
      "\b\b\b\b\b\b\b\b\b\b\b\b\b\b\b\b\b\b\b\b\b\b\b\b\b\b\b\b\b\b\b\b\b\b\b\b\b\b\b\b\b\b\b\b\b\b\b\b\b\b\b\b\b\b\b\b\b\b\b\b\b\b\b\b\b\b\b\b\b\b\b\b\b\b\b\b\b\b\b\b\b\b\b\b\b\b\b\b\b\b\b\b\b\b\b\b\b\b\b\b\b\b\b\b\b\b\b\b\b\b\b\b\b\b\b\b\b\b\b\b\b\b\b\r",
      "412416/412416 [==============================] - 12s 28us/sample - loss: 172.0092 - reconstruction_loss: 89.3114 - KL_loss: 22.2900 - val_loss: 106.1202 - val_reconstruction_loss: 84.2008 - val_KL_loss: 21.9195 - lr: 6.1767e-04\n",
      "Epoch 537/1000\n"
     ]
    },
    {
     "name": "stdout",
     "output_type": "stream",
     "text": [
      "\r",
      "412416/412416 [==============================] - ETA: 0s - loss: 172.0421 - reconstruction_loss: 89.2874 - KL_loss: 22.3238"
     ]
    },
    {
     "name": "stdout",
     "output_type": "stream",
     "text": [
      "\b\b\b\b\b\b\b\b\b\b\b\b\b\b\b\b\b\b\b\b\b\b\b\b\b\b\b\b\b\b\b\b\b\b\b\b\b\b\b\b\b\b\b\b\b\b\b\b\b\b\b\b\b\b\b\b\b\b\b\b\b\b\b\b\b\b\b\b\b\b\b\b\b\b\b\b\b\b\b\b\b\b\b\b\b\b\b\b\b\b\b\b\b\b\b\b\b\b\b\b\b\b\b\b\b\b\b\b\b\b\b\b\b\b\b\b\b\b\b\b\b\b\b\r",
      "412416/412416 [==============================] - 12s 28us/sample - loss: 172.0421 - reconstruction_loss: 89.2874 - KL_loss: 22.3238 - val_loss: 105.9465 - val_reconstruction_loss: 84.0778 - val_KL_loss: 21.8687 - lr: 6.1767e-04\n",
      "Epoch 538/1000\n"
     ]
    },
    {
     "name": "stdout",
     "output_type": "stream",
     "text": [
      "\r",
      "412416/412416 [==============================] - ETA: 0s - loss: 171.7465 - reconstruction_loss: 89.1796 - KL_loss: 22.2780"
     ]
    },
    {
     "name": "stdout",
     "output_type": "stream",
     "text": [
      "\b\b\b\b\b\b\b\b\b\b\b\b\b\b\b\b\b\b\b\b\b\b\b\b\b\b\b\b\b\b\b\b\b\b\b\b\b\b\b\b\b\b\b\b\b\b\b\b\b\b\b\b\b\b\b\b\b\b\b\b\b\b\b\b\b\b\b\b\b\b\b\b\b\b\b\b\b\b\b\b\b\b\b\b\b\b\b\b\b\b\b\b\b\b\b\b\b\b\b\b\b\b\b\b\b\b\b\b\b\b\b\b\b\b\b\b\b\b\b\b\b\b\b\r",
      "412416/412416 [==============================] - 12s 29us/sample - loss: 171.7465 - reconstruction_loss: 89.1796 - KL_loss: 22.2780 - val_loss: 105.9971 - val_reconstruction_loss: 84.1736 - val_KL_loss: 21.8235 - lr: 6.1767e-04\n",
      "Epoch 539/1000\n"
     ]
    },
    {
     "name": "stdout",
     "output_type": "stream",
     "text": [
      "\r",
      "412416/412416 [==============================] - ETA: 0s - loss: 171.7735 - reconstruction_loss: 89.2415 - KL_loss: 22.2350"
     ]
    },
    {
     "name": "stdout",
     "output_type": "stream",
     "text": [
      "\b\b\b\b\b\b\b\b\b\b\b\b\b\b\b\b\b\b\b\b\b\b\b\b\b\b\b\b\b\b\b\b\b\b\b\b\b\b\b\b\b\b\b\b\b\b\b\b\b\b\b\b\b\b\b\b\b\b\b\b\b\b\b\b\b\b\b\b\b\b\b\b\b\b\b\b\b\b\b\b\b\b\b\b\b\b\b\b\b\b\b\b\b\b\b\b\b\b\b\b\b\b\b\b\b\b\b\b\b\b\b\b\b\b\b\b\b\b\b\b\b\b\b\r",
      "412416/412416 [==============================] - 12s 29us/sample - loss: 171.7735 - reconstruction_loss: 89.2415 - KL_loss: 22.2350 - val_loss: 105.9400 - val_reconstruction_loss: 84.0860 - val_KL_loss: 21.8540 - lr: 6.1767e-04\n",
      "Epoch 540/1000\n"
     ]
    },
    {
     "name": "stdout",
     "output_type": "stream",
     "text": [
      "\r",
      "412416/412416 [==============================] - ETA: 0s - loss: 171.7395 - reconstruction_loss: 89.2116 - KL_loss: 22.2629"
     ]
    },
    {
     "name": "stdout",
     "output_type": "stream",
     "text": [
      "\b\b\b\b\b\b\b\b\b\b\b\b\b\b\b\b\b\b\b\b\b\b\b\b\b\b\b\b\b\b\b\b\b\b\b\b\b\b\b\b\b\b\b\b\b\b\b\b\b\b\b\b\b\b\b\b\b\b\b\b\b\b\b\b\b\b\b\b\b\b\b\b\b\b\b\b\b\b\b\b\b\b\b\b\b\b\b\b\b\b\b\b\b\b\b\b\b\b\b\b\b\b\b\b\b\b\b\b\b\b\b\b\b\b\b\b\b\b\b\b\b\b\b\r",
      "412416/412416 [==============================] - 11s 28us/sample - loss: 171.7395 - reconstruction_loss: 89.2116 - KL_loss: 22.2629 - val_loss: 105.9086 - val_reconstruction_loss: 84.0310 - val_KL_loss: 21.8776 - lr: 6.1767e-04\n",
      "Epoch 541/1000\n"
     ]
    },
    {
     "name": "stdout",
     "output_type": "stream",
     "text": [
      "\r",
      "412416/412416 [==============================] - ETA: 0s - loss: 171.6087 - reconstruction_loss: 89.1211 - KL_loss: 22.2858"
     ]
    },
    {
     "name": "stdout",
     "output_type": "stream",
     "text": [
      "\b\b\b\b\b\b\b\b\b\b\b\b\b\b\b\b\b\b\b\b\b\b\b\b\b\b\b\b\b\b\b\b\b\b\b\b\b\b\b\b\b\b\b\b\b\b\b\b\b\b\b\b\b\b\b\b\b\b\b\b\b\b\b\b\b\b\b\b\b\b\b\b\b\b\b\b\b\b\b\b\b\b\b\b\b\b\b\b\b\b\b\b\b\b\b\b\b\b\b\b\b\b\b\b\b\b\b\b\b\b\b\b\b\b\b\b\b\b\b\b\b\b\b\r",
      "412416/412416 [==============================] - 11s 27us/sample - loss: 171.6087 - reconstruction_loss: 89.1211 - KL_loss: 22.2858 - val_loss: 105.9399 - val_reconstruction_loss: 84.1248 - val_KL_loss: 21.8151 - lr: 6.1767e-04\n",
      "Epoch 542/1000\n"
     ]
    },
    {
     "name": "stdout",
     "output_type": "stream",
     "text": [
      "\r",
      "412416/412416 [==============================] - ETA: 0s - loss: 171.6171 - reconstruction_loss: 89.2222 - KL_loss: 22.2253"
     ]
    },
    {
     "name": "stdout",
     "output_type": "stream",
     "text": [
      "\b\b\b\b\b\b\b\b\b\b\b\b\b\b\b\b\b\b\b\b\b\b\b\b\b\b\b\b\b\b\b\b\b\b\b\b\b\b\b\b\b\b\b\b\b\b\b\b\b\b\b\b\b\b\b\b\b\b\b\b\b\b\b\b\b\b\b\b\b\b\b\b\b\b\b\b\b\b\b\b\b\b\b\b\b\b\b\b\b\b\b\b\b\b\b\b\b\b\b\b\b\b\b\b\b\b\b\b\b\b\b\b\b\b\b\b\b\b\b\b\b\b\b\r",
      "412416/412416 [==============================] - 12s 28us/sample - loss: 171.6171 - reconstruction_loss: 89.2222 - KL_loss: 22.2253 - val_loss: 105.8866 - val_reconstruction_loss: 84.1084 - val_KL_loss: 21.7782 - lr: 6.1767e-04\n",
      "Epoch 543/1000\n"
     ]
    },
    {
     "name": "stdout",
     "output_type": "stream",
     "text": [
      "\r",
      "412416/412416 [==============================] - ETA: 0s - loss: 171.6102 - reconstruction_loss: 89.2086 - KL_loss: 22.1865"
     ]
    },
    {
     "name": "stdout",
     "output_type": "stream",
     "text": [
      "\b\b\b\b\b\b\b\b\b\b\b\b\b\b\b\b\b\b\b\b\b\b\b\b\b\b\b\b\b\b\b\b\b\b\b\b\b\b\b\b\b\b\b\b\b\b\b\b\b\b\b\b\b\b\b\b\b\b\b\b\b\b\b\b\b\b\b\b\b\b\b\b\b\b\b\b\b\b\b\b\b\b\b\b\b\b\b\b\b\b\b\b\b\b\b\b\b\b\b\b\b\b\b\b\b\b\b\b\b\b\b\b\b\b\b\b\b\b\b\b\b\b\b\r",
      "412416/412416 [==============================] - 12s 28us/sample - loss: 171.6102 - reconstruction_loss: 89.2086 - KL_loss: 22.1865 - val_loss: 105.9290 - val_reconstruction_loss: 84.0969 - val_KL_loss: 21.8320 - lr: 6.1767e-04\n",
      "Epoch 544/1000\n"
     ]
    },
    {
     "name": "stdout",
     "output_type": "stream",
     "text": [
      "\r",
      "412416/412416 [==============================] - ETA: 0s - loss: 171.5860 - reconstruction_loss: 89.1898 - KL_loss: 22.2396"
     ]
    },
    {
     "name": "stdout",
     "output_type": "stream",
     "text": [
      "\b\b\b\b\b\b\b\b\b\b\b\b\b\b\b\b\b\b\b\b\b\b\b\b\b\b\b\b\b\b\b\b\b\b\b\b\b\b\b\b\b\b\b\b\b\b\b\b\b\b\b\b\b\b\b\b\b\b\b\b\b\b\b\b\b\b\b\b\b\b\b\b\b\b\b\b\b\b\b\b\b\b\b\b\b\b\b\b\b\b\b\b\b\b\b\b\b\b\b\b\b\b\b\b\b\b\b\b\b\b\b\b\b\b\b\b\b\b\b\b\b\b\b\r",
      "412416/412416 [==============================] - 12s 28us/sample - loss: 171.5860 - reconstruction_loss: 89.1898 - KL_loss: 22.2396 - val_loss: 105.9265 - val_reconstruction_loss: 84.0313 - val_KL_loss: 21.8951 - lr: 6.1767e-04\n",
      "Epoch 545/1000\n"
     ]
    },
    {
     "name": "stdout",
     "output_type": "stream",
     "text": [
      "\r",
      "412416/412416 [==============================] - ETA: 0s - loss: 171.5749 - reconstruction_loss: 89.1030 - KL_loss: 22.3057"
     ]
    },
    {
     "name": "stdout",
     "output_type": "stream",
     "text": [
      "\b\b\b\b\b\b\b\b\b\b\b\b\b\b\b\b\b\b\b\b\b\b\b\b\b\b\b\b\b\b\b\b\b\b\b\b\b\b\b\b\b\b\b\b\b\b\b\b\b\b\b\b\b\b\b\b\b\b\b\b\b\b\b\b\b\b\b\b\b\b\b\b\b\b\b\b\b\b\b\b\b\b\b\b\b\b\b\b\b\b\b\b\b\b\b\b\b\b\b\b\b\b\b\b\b\b\b\b\b\b\b\b\b\b\b\b\b\b\b\b\b\b\b\r",
      "412416/412416 [==============================] - 12s 28us/sample - loss: 171.5749 - reconstruction_loss: 89.1030 - KL_loss: 22.3057 - val_loss: 105.9179 - val_reconstruction_loss: 83.9954 - val_KL_loss: 21.9225 - lr: 6.1767e-04\n",
      "Epoch 546/1000\n"
     ]
    },
    {
     "name": "stdout",
     "output_type": "stream",
     "text": [
      "\r",
      "412416/412416 [==============================] - ETA: 0s - loss: 171.5543 - reconstruction_loss: 89.0849 - KL_loss: 22.3330"
     ]
    },
    {
     "name": "stdout",
     "output_type": "stream",
     "text": [
      "\b\b\b\b\b\b\b\b\b\b\b\b\b\b\b\b\b\b\b\b\b\b\b\b\b\b\b\b\b\b\b\b\b\b\b\b\b\b\b\b\b\b\b\b\b\b\b\b\b\b\b\b\b\b\b\b\b\b\b\b\b\b\b\b\b\b\b\b\b\b\b\b\b\b\b\b\b\b\b\b\b\b\b\b\b\b\b\b\b\b\b\b\b\b\b\b\b\b\b\b\b\b\b\b\b\b\b\b\b\b\b\b\b\b\b\b\b\b\b\b\b\b\b\r",
      "412416/412416 [==============================] - 12s 28us/sample - loss: 171.5543 - reconstruction_loss: 89.0849 - KL_loss: 22.3330 - val_loss: 105.9688 - val_reconstruction_loss: 84.0296 - val_KL_loss: 21.9392 - lr: 6.1767e-04\n",
      "Epoch 547/1000\n"
     ]
    },
    {
     "name": "stdout",
     "output_type": "stream",
     "text": [
      "\r",
      "412416/412416 [==============================] - ETA: 0s - loss: 171.5284 - reconstruction_loss: 89.1206 - KL_loss: 22.3456"
     ]
    },
    {
     "name": "stdout",
     "output_type": "stream",
     "text": [
      "\b\b\b\b\b\b\b\b\b\b\b\b\b\b\b\b\b\b\b\b\b\b\b\b\b\b\b\b\b\b\b\b\b\b\b\b\b\b\b\b\b\b\b\b\b\b\b\b\b\b\b\b\b\b\b\b\b\b\b\b\b\b\b\b\b\b\b\b\b\b\b\b\b\b\b\b\b\b\b\b\b\b\b\b\b\b\b\b\b\b\b\b\b\b\b\b\b\b\b\b\b\b\b\b\b\b\b\b\b\b\b\b\b\b\b\b\b\b\b\b\b\b\b\r",
      "412416/412416 [==============================] - 13s 30us/sample - loss: 171.5284 - reconstruction_loss: 89.1206 - KL_loss: 22.3456 - val_loss: 105.8735 - val_reconstruction_loss: 83.9623 - val_KL_loss: 21.9112 - lr: 6.1767e-04\n",
      "Epoch 548/1000\n"
     ]
    },
    {
     "name": "stdout",
     "output_type": "stream",
     "text": [
      "\r",
      "412416/412416 [==============================] - ETA: 0s - loss: 171.4053 - reconstruction_loss: 89.0377 - KL_loss: 22.3190"
     ]
    },
    {
     "name": "stdout",
     "output_type": "stream",
     "text": [
      "\b\b\b\b\b\b\b\b\b\b\b\b\b\b\b\b\b\b\b\b\b\b\b\b\b\b\b\b\b\b\b\b\b\b\b\b\b\b\b\b\b\b\b\b\b\b\b\b\b\b\b\b\b\b\b\b\b\b\b\b\b\b\b\b\b\b\b\b\b\b\b\b\b\b\b\b\b\b\b\b\b\b\b\b\b\b\b\b\b\b\b\b\b\b\b\b\b\b\b\b\b\b\b\b\b\b\b\b\b\b\b\b\b\b\b\b\b\b\b\b\b\b\b\r",
      "412416/412416 [==============================] - 12s 28us/sample - loss: 171.4053 - reconstruction_loss: 89.0377 - KL_loss: 22.3190 - val_loss: 106.0467 - val_reconstruction_loss: 84.1339 - val_KL_loss: 21.9128 - lr: 6.1767e-04\n",
      "Epoch 549/1000\n"
     ]
    },
    {
     "name": "stdout",
     "output_type": "stream",
     "text": [
      "\r",
      "412416/412416 [==============================] - ETA: 0s - loss: 171.6253 - reconstruction_loss: 89.2292 - KL_loss: 22.3251"
     ]
    },
    {
     "name": "stdout",
     "output_type": "stream",
     "text": [
      "\b\b\b\b\b\b\b\b\b\b\b\b\b\b\b\b\b\b\b\b\b\b\b\b\b\b\b\b\b\b\b\b\b\b\b\b\b\b\b\b\b\b\b\b\b\b\b\b\b\b\b\b\b\b\b\b\b\b\b\b\b\b\b\b\b\b\b\b\b\b\b\b\b\b\b\b\b\b\b\b\b\b\b\b\b\b\b\b\b\b\b\b\b\b\b\b\b\b\b\b\b\b\b\b\b\b\b\b\b\b\b\b\b\b\b\b\b\b\b\b\b\b\b\r",
      "412416/412416 [==============================] - 11s 28us/sample - loss: 171.6253 - reconstruction_loss: 89.2292 - KL_loss: 22.3251 - val_loss: 105.9563 - val_reconstruction_loss: 84.0832 - val_KL_loss: 21.8731 - lr: 6.1767e-04\n",
      "Epoch 550/1000\n"
     ]
    },
    {
     "name": "stdout",
     "output_type": "stream",
     "text": [
      "\r",
      "412416/412416 [==============================] - ETA: 0s - loss: 171.5854 - reconstruction_loss: 89.1731 - KL_loss: 22.2858"
     ]
    },
    {
     "name": "stdout",
     "output_type": "stream",
     "text": [
      "\b\b\b\b\b\b\b\b\b\b\b\b\b\b\b\b\b\b\b\b\b\b\b\b\b\b\b\b\b\b\b\b\b\b\b\b\b\b\b\b\b\b\b\b\b\b\b\b\b\b\b\b\b\b\b\b\b\b\b\b\b\b\b\b\b\b\b\b\b\b\b\b\b\b\b\b\b\b\b\b\b\b\b\b\b\b\b\b\b\b\b\b\b\b\b\b\b\b\b\b\b\b\b\b\b\b\b\b\b\b\b\b\b\b\b\b\b\b\b\b\b\b\b\r",
      "412416/412416 [==============================] - 13s 31us/sample - loss: 171.5854 - reconstruction_loss: 89.1731 - KL_loss: 22.2858 - val_loss: 105.9826 - val_reconstruction_loss: 84.1732 - val_KL_loss: 21.8094 - lr: 6.1767e-04\n",
      "Epoch 551/1000\n"
     ]
    },
    {
     "name": "stdout",
     "output_type": "stream",
     "text": [
      "\r",
      "412416/412416 [==============================] - ETA: 0s - loss: 171.5121 - reconstruction_loss: 89.2613 - KL_loss: 22.2181"
     ]
    },
    {
     "name": "stdout",
     "output_type": "stream",
     "text": [
      "\b\b\b\b\b\b\b\b\b\b\b\b\b\b\b\b\b\b\b\b\b\b\b\b\b\b\b\b\b\b\b\b\b\b\b\b\b\b\b\b\b\b\b\b\b\b\b\b\b\b\b\b\b\b\b\b\b\b\b\b\b\b\b\b\b\b\b\b\b\b\b\b\b\b\b\b\b\b\b\b\b\b\b\b\b\b\b\b\b\b\b\b\b\b\b\b\b\b\b\b\b\b\b\b\b\b\b\b\b\b\b\b\b\b\b\b\b\b\b\b\b\b\b\r",
      "412416/412416 [==============================] - 12s 30us/sample - loss: 171.5121 - reconstruction_loss: 89.2613 - KL_loss: 22.2181 - val_loss: 105.9199 - val_reconstruction_loss: 84.1347 - val_KL_loss: 21.7852 - lr: 6.1767e-04\n",
      "Epoch 552/1000\n"
     ]
    },
    {
     "name": "stdout",
     "output_type": "stream",
     "text": [
      "\r",
      "412416/412416 [==============================] - ETA: 0s - loss: 171.4741 - reconstruction_loss: 89.2418 - KL_loss: 22.1929"
     ]
    },
    {
     "name": "stdout",
     "output_type": "stream",
     "text": [
      "\b\b\b\b\b\b\b\b\b\b\b\b\b\b\b\b\b\b\b\b\b\b\b\b\b\b\b\b\b\b\b\b\b\b\b\b\b\b\b\b\b\b\b\b\b\b\b\b\b\b\b\b\b\b\b\b\b\b\b\b\b\b\b\b\b\b\b\b\b\b\b\b\b\b\b\b\b\b\b\b\b\b\b\b\b\b\b\b\b\b\b\b\b\b\b\b\b\b\b\b\b\b\b\b\b\b\b\b\b\b\b\b\b\b\b\b\b\b\b\b\b\b\b\r",
      "412416/412416 [==============================] - 12s 29us/sample - loss: 171.4741 - reconstruction_loss: 89.2418 - KL_loss: 22.1929 - val_loss: 105.9942 - val_reconstruction_loss: 84.1608 - val_KL_loss: 21.8334 - lr: 6.1767e-04\n",
      "Epoch 553/1000\n"
     ]
    },
    {
     "name": "stdout",
     "output_type": "stream",
     "text": [
      "\r",
      "412416/412416 [==============================] - ETA: 0s - loss: 171.5746 - reconstruction_loss: 89.2669 - KL_loss: 22.2435"
     ]
    },
    {
     "name": "stdout",
     "output_type": "stream",
     "text": [
      "\b\b\b\b\b\b\b\b\b\b\b\b\b\b\b\b\b\b\b\b\b\b\b\b\b\b\b\b\b\b\b\b\b\b\b\b\b\b\b\b\b\b\b\b\b\b\b\b\b\b\b\b\b\b\b\b\b\b\b\b\b\b\b\b\b\b\b\b\b\b\b\b\b\b\b\b\b\b\b\b\b\b\b\b\b\b\b\b\b\b\b\b\b\b\b\b\b\b\b\b\b\b\b\b\b\b\b\b\b\b\b\b\b\b\b\b\b\b\b\b\b\b\b\r",
      "412416/412416 [==============================] - 14s 34us/sample - loss: 171.5746 - reconstruction_loss: 89.2669 - KL_loss: 22.2435 - val_loss: 105.9957 - val_reconstruction_loss: 84.1113 - val_KL_loss: 21.8845 - lr: 6.1767e-04\n",
      "Epoch 554/1000\n"
     ]
    },
    {
     "name": "stdout",
     "output_type": "stream",
     "text": [
      "\r",
      "412416/412416 [==============================] - ETA: 0s - loss: 171.5014 - reconstruction_loss: 89.1891 - KL_loss: 22.2947"
     ]
    },
    {
     "name": "stdout",
     "output_type": "stream",
     "text": [
      "\b\b\b\b\b\b\b\b\b\b\b\b\b\b\b\b\b\b\b\b\b\b\b\b\b\b\b\b\b\b\b\b\b\b\b\b\b\b\b\b\b\b\b\b\b\b\b\b\b\b\b\b\b\b\b\b\b\b\b\b\b\b\b\b\b\b\b\b\b\b\b\b\b\b\b\b\b\b\b\b\b\b\b\b\b\b\b\b\b\b\b\b\b\b\b\b\b\b\b\b\b\b\b\b\b\b\b\b\b\b\b\b\b\b\b\b\b\b\b\b\b\b\b\r",
      "412416/412416 [==============================] - 12s 29us/sample - loss: 171.5014 - reconstruction_loss: 89.1891 - KL_loss: 22.2947 - val_loss: 105.9760 - val_reconstruction_loss: 84.0569 - val_KL_loss: 21.9191 - lr: 6.1767e-04\n",
      "Epoch 555/1000\n"
     ]
    },
    {
     "name": "stdout",
     "output_type": "stream",
     "text": [
      "\r",
      "412416/412416 [==============================] - ETA: 0s - loss: 171.5190 - reconstruction_loss: 89.1361 - KL_loss: 22.3275"
     ]
    },
    {
     "name": "stdout",
     "output_type": "stream",
     "text": [
      "\b\b\b\b\b\b\b\b\b\b\b\b\b\b\b\b\b\b\b\b\b\b\b\b\b\b\b\b\b\b\b\b\b\b\b\b\b\b\b\b\b\b\b\b\b\b\b\b\b\b\b\b\b\b\b\b\b\b\b\b\b\b\b\b\b\b\b\b\b\b\b\b\b\b\b\b\b\b\b\b\b\b\b\b\b\b\b\b\b\b\b\b\b\b\b\b\b\b\b\b\b\b\b\b\b\b\b\b\b\b\b\b\b\b\b\b\b\b\b\b\b\b\b\r",
      "412416/412416 [==============================] - 12s 28us/sample - loss: 171.5190 - reconstruction_loss: 89.1361 - KL_loss: 22.3275 - val_loss: 105.9970 - val_reconstruction_loss: 84.0591 - val_KL_loss: 21.9378 - lr: 6.1767e-04\n",
      "Epoch 556/1000\n"
     ]
    },
    {
     "name": "stdout",
     "output_type": "stream",
     "text": [
      "\r",
      "412416/412416 [==============================] - ETA: 0s - loss: 171.3740 - reconstruction_loss: 89.1223 - KL_loss: 22.3464"
     ]
    },
    {
     "name": "stdout",
     "output_type": "stream",
     "text": [
      "\b\b\b\b\b\b\b\b\b\b\b\b\b\b\b\b\b\b\b\b\b\b\b\b\b\b\b\b\b\b\b\b\b\b\b\b\b\b\b\b\b\b\b\b\b\b\b\b\b\b\b\b\b\b\b\b\b\b\b\b\b\b\b\b\b\b\b\b\b\b\b\b\b\b\b\b\b\b\b\b\b\b\b\b\b\b\b\b\b\b\b\b\b\b\b\b\b\b\b\b\b\b\b\b\b\b\b\b\b\b\b\b\b\b\b\b\b\b\b\b\b\b\b\r",
      "412416/412416 [==============================] - 12s 28us/sample - loss: 171.3740 - reconstruction_loss: 89.1223 - KL_loss: 22.3464 - val_loss: 105.9277 - val_reconstruction_loss: 84.0140 - val_KL_loss: 21.9137 - lr: 6.1767e-04\n",
      "Epoch 557/1000\n"
     ]
    },
    {
     "name": "stdout",
     "output_type": "stream",
     "text": [
      "\r",
      "412416/412416 [==============================] - ETA: 0s - loss: 171.2633 - reconstruction_loss: 89.1128 - KL_loss: 22.3242"
     ]
    },
    {
     "name": "stdout",
     "output_type": "stream",
     "text": [
      "\b\b\b\b\b\b\b\b\b\b\b\b\b\b\b\b\b\b\b\b\b\b\b\b\b\b\b\b\b\b\b\b\b\b\b\b\b\b\b\b\b\b\b\b\b\b\b\b\b\b\b\b\b\b\b\b\b\b\b\b\b\b\b\b\b\b\b\b\b\b\b\b\b\b\b\b\b\b\b\b\b\b\b\b\b\b\b\b\b\b\b\b\b\b\b\b\b\b\b\b\b\b\b\b\b\b\b\b\b\b\b\b\b\b\b\b\b\b\b\b\b\b\b\r",
      "412416/412416 [==============================] - 12s 29us/sample - loss: 171.2633 - reconstruction_loss: 89.1128 - KL_loss: 22.3242 - val_loss: 105.9076 - val_reconstruction_loss: 84.0452 - val_KL_loss: 21.8625 - lr: 6.1767e-04\n",
      "Epoch 558/1000\n"
     ]
    },
    {
     "name": "stdout",
     "output_type": "stream",
     "text": [
      "\r",
      "412416/412416 [==============================] - ETA: 0s - loss: 171.3099 - reconstruction_loss: 89.1062 - KL_loss: 22.2718"
     ]
    },
    {
     "name": "stdout",
     "output_type": "stream",
     "text": [
      "\b\b\b\b\b\b\b\b\b\b\b\b\b\b\b\b\b\b\b\b\b\b\b\b\b\b\b\b\b\b\b\b\b\b\b\b\b\b\b\b\b\b\b\b\b\b\b\b\b\b\b\b\b\b\b\b\b\b\b\b\b\b\b\b\b\b\b\b\b\b\b\b\b\b\b\b\b\b\b\b\b\b\b\b\b\b\b\b\b\b\b\b\b\b\b\b\b\b\b\b\b\b\b\b\b\b\b\b\b\b\b\b\b\b\b\b\b\b\b\b\b\b\b\r",
      "412416/412416 [==============================] - 16s 39us/sample - loss: 171.3099 - reconstruction_loss: 89.1062 - KL_loss: 22.2718 - val_loss: 105.9301 - val_reconstruction_loss: 84.0810 - val_KL_loss: 21.8491 - lr: 5.5591e-04\n",
      "Epoch 559/1000\n"
     ]
    },
    {
     "name": "stdout",
     "output_type": "stream",
     "text": [
      "\r",
      "412416/412416 [==============================] - ETA: 0s - loss: 171.2854 - reconstruction_loss: 89.1910 - KL_loss: 22.2564"
     ]
    },
    {
     "name": "stdout",
     "output_type": "stream",
     "text": [
      "\b\b\b\b\b\b\b\b\b\b\b\b\b\b\b\b\b\b\b\b\b\b\b\b\b\b\b\b\b\b\b\b\b\b\b\b\b\b\b\b\b\b\b\b\b\b\b\b\b\b\b\b\b\b\b\b\b\b\b\b\b\b\b\b\b\b\b\b\b\b\b\b\b\b\b\b\b\b\b\b\b\b\b\b\b\b\b\b\b\b\b\b\b\b\b\b\b\b\b\b\b\b\b\b\b\b\b\b\b\b\b\b\b\b\b\b\b\b\b\b\b\b\b\r",
      "412416/412416 [==============================] - 12s 28us/sample - loss: 171.2854 - reconstruction_loss: 89.1910 - KL_loss: 22.2564 - val_loss: 105.9118 - val_reconstruction_loss: 84.0555 - val_KL_loss: 21.8563 - lr: 5.5591e-04\n",
      "Epoch 560/1000\n"
     ]
    },
    {
     "name": "stdout",
     "output_type": "stream",
     "text": [
      "\r",
      "412416/412416 [==============================] - ETA: 0s - loss: 171.2106 - reconstruction_loss: 89.1139 - KL_loss: 22.2647"
     ]
    },
    {
     "name": "stdout",
     "output_type": "stream",
     "text": [
      "\b\b\b\b\b\b\b\b\b\b\b\b\b\b\b\b\b\b\b\b\b\b\b\b\b\b\b\b\b\b\b\b\b\b\b\b\b\b\b\b\b\b\b\b\b\b\b\b\b\b\b\b\b\b\b\b\b\b\b\b\b\b\b\b\b\b\b\b\b\b\b\b\b\b\b\b\b\b\b\b\b\b\b\b\b\b\b\b\b\b\b\b\b\b\b\b\b\b\b\b\b\b\b\b\b\b\b\b\b\b\b\b\b\b\b\b\b\b\b\b\b\b\b\r",
      "412416/412416 [==============================] - 12s 30us/sample - loss: 171.2106 - reconstruction_loss: 89.1139 - KL_loss: 22.2647 - val_loss: 105.9740 - val_reconstruction_loss: 84.1106 - val_KL_loss: 21.8634 - lr: 5.5591e-04\n",
      "Epoch 561/1000\n"
     ]
    },
    {
     "name": "stdout",
     "output_type": "stream",
     "text": [
      "\r",
      "412416/412416 [==============================] - ETA: 0s - loss: 171.2020 - reconstruction_loss: 89.1687 - KL_loss: 22.2740"
     ]
    },
    {
     "name": "stdout",
     "output_type": "stream",
     "text": [
      "\b\b\b\b\b\b\b\b\b\b\b\b\b\b\b\b\b\b\b\b\b\b\b\b\b\b\b\b\b\b\b\b\b\b\b\b\b\b\b\b\b\b\b\b\b\b\b\b\b\b\b\b\b\b\b\b\b\b\b\b\b\b\b\b\b\b\b\b\b\b\b\b\b\b\b\b\b\b\b\b\b\b\b\b\b\b\b\b\b\b\b\b\b\b\b\b\b\b\b\b\b\b\b\b\b\b\b\b\b\b\b\b\b\b\b\b\b\b\b\b\b\b\b\r",
      "412416/412416 [==============================] - 12s 28us/sample - loss: 171.2020 - reconstruction_loss: 89.1687 - KL_loss: 22.2740 - val_loss: 105.8948 - val_reconstruction_loss: 84.0463 - val_KL_loss: 21.8484 - lr: 5.5591e-04\n",
      "Epoch 562/1000\n"
     ]
    },
    {
     "name": "stdout",
     "output_type": "stream",
     "text": [
      "\r",
      "412416/412416 [==============================] - ETA: 0s - loss: 171.2162 - reconstruction_loss: 89.1347 - KL_loss: 22.2578"
     ]
    },
    {
     "name": "stdout",
     "output_type": "stream",
     "text": [
      "\b\b\b\b\b\b\b\b\b\b\b\b\b\b\b\b\b\b\b\b\b\b\b\b\b\b\b\b\b\b\b\b\b\b\b\b\b\b\b\b\b\b\b\b\b\b\b\b\b\b\b\b\b\b\b\b\b\b\b\b\b\b\b\b\b\b\b\b\b\b\b\b\b\b\b\b\b\b\b\b\b\b\b\b\b\b\b\b\b\b\b\b\b\b\b\b\b\b\b\b\b\b\b\b\b\b\b\b\b\b\b\b\b\b\b\b\b\b\b\b\b\b\b\r",
      "412416/412416 [==============================] - 12s 28us/sample - loss: 171.2162 - reconstruction_loss: 89.1347 - KL_loss: 22.2578 - val_loss: 105.9582 - val_reconstruction_loss: 84.1004 - val_KL_loss: 21.8577 - lr: 5.5591e-04\n",
      "Epoch 563/1000\n"
     ]
    },
    {
     "name": "stdout",
     "output_type": "stream",
     "text": [
      "\r",
      "412416/412416 [==============================] - ETA: 0s - loss: 171.2253 - reconstruction_loss: 89.1838 - KL_loss: 22.2641"
     ]
    },
    {
     "name": "stdout",
     "output_type": "stream",
     "text": [
      "\b\b\b\b\b\b\b\b\b\b\b\b\b\b\b\b\b\b\b\b\b\b\b\b\b\b\b\b\b\b\b\b\b\b\b\b\b\b\b\b\b\b\b\b\b\b\b\b\b\b\b\b\b\b\b\b\b\b\b\b\b\b\b\b\b\b\b\b\b\b\b\b\b\b\b\b\b\b\b\b\b\b\b\b\b\b\b\b\b\b\b\b\b\b\b\b\b\b\b\b\b\b\b\b\b\b\b\b\b\b\b\b\b\b\b\b\b\b\b\b\b\b\b\r",
      "412416/412416 [==============================] - 13s 31us/sample - loss: 171.2253 - reconstruction_loss: 89.1838 - KL_loss: 22.2641 - val_loss: 105.9126 - val_reconstruction_loss: 84.0291 - val_KL_loss: 21.8835 - lr: 5.5591e-04\n",
      "Epoch 564/1000\n"
     ]
    },
    {
     "name": "stdout",
     "output_type": "stream",
     "text": [
      "\r",
      "412416/412416 [==============================] - ETA: 0s - loss: 171.1444 - reconstruction_loss: 89.1214 - KL_loss: 22.2897"
     ]
    },
    {
     "name": "stdout",
     "output_type": "stream",
     "text": [
      "\b\b\b\b\b\b\b\b\b\b\b\b\b\b\b\b\b\b\b\b\b\b\b\b\b\b\b\b\b\b\b\b\b\b\b\b\b\b\b\b\b\b\b\b\b\b\b\b\b\b\b\b\b\b\b\b\b\b\b\b\b\b\b\b\b\b\b\b\b\b\b\b\b\b\b\b\b\b\b\b\b\b\b\b\b\b\b\b\b\b\b\b\b\b\b\b\b\b\b\b\b\b\b\b\b\b\b\b\b\b\b\b\b\b\b\b\b\b\b\b\b\b\b\r",
      "412416/412416 [==============================] - 12s 29us/sample - loss: 171.1444 - reconstruction_loss: 89.1214 - KL_loss: 22.2897 - val_loss: 105.8943 - val_reconstruction_loss: 83.9896 - val_KL_loss: 21.9048 - lr: 5.5591e-04\n",
      "Epoch 565/1000\n"
     ]
    },
    {
     "name": "stdout",
     "output_type": "stream",
     "text": [
      "\r",
      "412416/412416 [==============================] - ETA: 0s - loss: 171.2081 - reconstruction_loss: 89.0913 - KL_loss: 22.3135"
     ]
    },
    {
     "name": "stdout",
     "output_type": "stream",
     "text": [
      "\b\b\b\b\b\b\b\b\b\b\b\b\b\b\b\b\b\b\b\b\b\b\b\b\b\b\b\b\b\b\b\b\b\b\b\b\b\b\b\b\b\b\b\b\b\b\b\b\b\b\b\b\b\b\b\b\b\b\b\b\b\b\b\b\b\b\b\b\b\b\b\b\b\b\b\b\b\b\b\b\b\b\b\b\b\b\b\b\b\b\b\b\b\b\b\b\b\b\b\b\b\b\b\b\b\b\b\b\b\b\b\b\b\b\b\b\b\b\b\b\b\b\b\r",
      "412416/412416 [==============================] - 12s 28us/sample - loss: 171.2081 - reconstruction_loss: 89.0913 - KL_loss: 22.3135 - val_loss: 105.9069 - val_reconstruction_loss: 84.0009 - val_KL_loss: 21.9060 - lr: 5.5591e-04\n",
      "Epoch 566/1000\n"
     ]
    },
    {
     "name": "stdout",
     "output_type": "stream",
     "text": [
      "\r",
      "412416/412416 [==============================] - ETA: 0s - loss: 171.1201 - reconstruction_loss: 89.0687 - KL_loss: 22.3154"
     ]
    },
    {
     "name": "stdout",
     "output_type": "stream",
     "text": [
      "\b\b\b\b\b\b\b\b\b\b\b\b\b\b\b\b\b\b\b\b\b\b\b\b\b\b\b\b\b\b\b\b\b\b\b\b\b\b\b\b\b\b\b\b\b\b\b\b\b\b\b\b\b\b\b\b\b\b\b\b\b\b\b\b\b\b\b\b\b\b\b\b\b\b\b\b\b\b\b\b\b\b\b\b\b\b\b\b\b\b\b\b\b\b\b\b\b\b\b\b\b\b\b\b\b\b\b\b\b\b\b\b\b\b\b\b\b\b\b\b\b\b\b\r",
      "412416/412416 [==============================] - 12s 28us/sample - loss: 171.1201 - reconstruction_loss: 89.0687 - KL_loss: 22.3154 - val_loss: 105.8621 - val_reconstruction_loss: 83.9783 - val_KL_loss: 21.8838 - lr: 5.5591e-04\n",
      "Epoch 567/1000\n"
     ]
    },
    {
     "name": "stdout",
     "output_type": "stream",
     "text": [
      "\r",
      "412416/412416 [==============================] - ETA: 0s - loss: 171.0413 - reconstruction_loss: 89.0665 - KL_loss: 22.2906"
     ]
    },
    {
     "name": "stdout",
     "output_type": "stream",
     "text": [
      "\b\b\b\b\b\b\b\b\b\b\b\b\b\b\b\b\b\b\b\b\b\b\b\b\b\b\b\b\b\b\b\b\b\b\b\b\b\b\b\b\b\b\b\b\b\b\b\b\b\b\b\b\b\b\b\b\b\b\b\b\b\b\b\b\b\b\b\b\b\b\b\b\b\b\b\b\b\b\b\b\b\b\b\b\b\b\b\b\b\b\b\b\b\b\b\b\b\b\b\b\b\b\b\b\b\b\b\b\b\b\b\b\b\b\b\b\b\b\b\b\b\b\b\r",
      "412416/412416 [==============================] - 12s 28us/sample - loss: 171.0413 - reconstruction_loss: 89.0665 - KL_loss: 22.2906 - val_loss: 105.8478 - val_reconstruction_loss: 83.9682 - val_KL_loss: 21.8795 - lr: 5.5591e-04\n",
      "Epoch 568/1000\n"
     ]
    },
    {
     "name": "stdout",
     "output_type": "stream",
     "text": [
      "\r",
      "412416/412416 [==============================] - ETA: 0s - loss: 171.0186 - reconstruction_loss: 89.0381 - KL_loss: 22.2857"
     ]
    },
    {
     "name": "stdout",
     "output_type": "stream",
     "text": [
      "\b\b\b\b\b\b\b\b\b\b\b\b\b\b\b\b\b\b\b\b\b\b\b\b\b\b\b\b\b\b\b\b\b\b\b\b\b\b\b\b\b\b\b\b\b\b\b\b\b\b\b\b\b\b\b\b\b\b\b\b\b\b\b\b\b\b\b\b\b\b\b\b\b\b\b\b\b\b\b\b\b\b\b\b\b\b\b\b\b\b\b\b\b\b\b\b\b\b\b\b\b\b\b\b\b\b\b\b\b\b\b\b\b\b\b\b\b\b\b\b\b\b\b\r",
      "412416/412416 [==============================] - 12s 28us/sample - loss: 171.0186 - reconstruction_loss: 89.0381 - KL_loss: 22.2857 - val_loss: 105.9394 - val_reconstruction_loss: 84.0561 - val_KL_loss: 21.8833 - lr: 5.5591e-04\n",
      "Epoch 569/1000\n"
     ]
    },
    {
     "name": "stdout",
     "output_type": "stream",
     "text": [
      "\r",
      "412416/412416 [==============================] - ETA: 0s - loss: 171.1064 - reconstruction_loss: 89.1398 - KL_loss: 22.2914"
     ]
    },
    {
     "name": "stdout",
     "output_type": "stream",
     "text": [
      "\b\b\b\b\b\b\b\b\b\b\b\b\b\b\b\b\b\b\b\b\b\b\b\b\b\b\b\b\b\b\b\b\b\b\b\b\b\b\b\b\b\b\b\b\b\b\b\b\b\b\b\b\b\b\b\b\b\b\b\b\b\b\b\b\b\b\b\b\b\b\b\b\b\b\b\b\b\b\b\b\b\b\b\b\b\b\b\b\b\b\b\b\b\b\b\b\b\b\b\b\b\b\b\b\b\b\b\b\b\b\b\b\b\b\b\b\b\b\b\b\b\b\b\r",
      "412416/412416 [==============================] - 12s 28us/sample - loss: 171.1064 - reconstruction_loss: 89.1398 - KL_loss: 22.2914 - val_loss: 105.9187 - val_reconstruction_loss: 84.0434 - val_KL_loss: 21.8753 - lr: 5.5591e-04\n",
      "Epoch 570/1000\n"
     ]
    },
    {
     "name": "stdout",
     "output_type": "stream",
     "text": [
      "\r",
      "412416/412416 [==============================] - ETA: 0s - loss: 171.0228 - reconstruction_loss: 89.1050 - KL_loss: 22.2834"
     ]
    },
    {
     "name": "stdout",
     "output_type": "stream",
     "text": [
      "\b\b\b\b\b\b\b\b\b\b\b\b\b\b\b\b\b\b\b\b\b\b\b\b\b\b\b\b\b\b\b\b\b\b\b\b\b\b\b\b\b\b\b\b\b\b\b\b\b\b\b\b\b\b\b\b\b\b\b\b\b\b\b\b\b\b\b\b\b\b\b\b\b\b\b\b\b\b\b\b\b\b\b\b\b\b\b\b\b\b\b\b\b\b\b\b\b\b\b\b\b\b\b\b\b\b\b\b\b\b\b\b\b\b\b\b\b\b\b\b\b\b\b\r",
      "412416/412416 [==============================] - 12s 28us/sample - loss: 171.0228 - reconstruction_loss: 89.1050 - KL_loss: 22.2834 - val_loss: 105.8952 - val_reconstruction_loss: 84.0207 - val_KL_loss: 21.8745 - lr: 5.5591e-04\n",
      "Epoch 571/1000\n"
     ]
    },
    {
     "name": "stdout",
     "output_type": "stream",
     "text": [
      "\r",
      "412416/412416 [==============================] - ETA: 0s - loss: 171.0167 - reconstruction_loss: 89.1181 - KL_loss: 22.2802"
     ]
    },
    {
     "name": "stdout",
     "output_type": "stream",
     "text": [
      "\b\b\b\b\b\b\b\b\b\b\b\b\b\b\b\b\b\b\b\b\b\b\b\b\b\b\b\b\b\b\b\b\b\b\b\b\b\b\b\b\b\b\b\b\b\b\b\b\b\b\b\b\b\b\b\b\b\b\b\b\b\b\b\b\b\b\b\b\b\b\b\b\b\b\b\b\b\b\b\b\b\b\b\b\b\b\b\b\b\b\b\b\b\b\b\b\b\b\b\b\b\b\b\b\b\b\b\b\b\b\b\b\b\b\b\b\b\b\b\b\b\b\b\r",
      "412416/412416 [==============================] - 12s 28us/sample - loss: 171.0167 - reconstruction_loss: 89.1181 - KL_loss: 22.2802 - val_loss: 105.8938 - val_reconstruction_loss: 83.9961 - val_KL_loss: 21.8977 - lr: 5.5591e-04\n",
      "Epoch 572/1000\n"
     ]
    },
    {
     "name": "stdout",
     "output_type": "stream",
     "text": [
      "\r",
      "412416/412416 [==============================] - ETA: 0s - loss: 170.9799 - reconstruction_loss: 89.0734 - KL_loss: 22.3036"
     ]
    },
    {
     "name": "stdout",
     "output_type": "stream",
     "text": [
      "\b\b\b\b\b\b\b\b\b\b\b\b\b\b\b\b\b\b\b\b\b\b\b\b\b\b\b\b\b\b\b\b\b\b\b\b\b\b\b\b\b\b\b\b\b\b\b\b\b\b\b\b\b\b\b\b\b\b\b\b\b\b\b\b\b\b\b\b\b\b\b\b\b\b\b\b\b\b\b\b\b\b\b\b\b\b\b\b\b\b\b\b\b\b\b\b\b\b\b\b\b\b\b\b\b\b\b\b\b\b\b\b\b\b\b\b\b\b\b\b\b\b\b\r",
      "412416/412416 [==============================] - 14s 33us/sample - loss: 170.9799 - reconstruction_loss: 89.0734 - KL_loss: 22.3036 - val_loss: 105.9000 - val_reconstruction_loss: 83.9918 - val_KL_loss: 21.9082 - lr: 5.5591e-04\n",
      "Epoch 573/1000\n"
     ]
    },
    {
     "name": "stdout",
     "output_type": "stream",
     "text": [
      "\r",
      "412416/412416 [==============================] - ETA: 0s - loss: 170.9202 - reconstruction_loss: 89.0555 - KL_loss: 22.3166"
     ]
    },
    {
     "name": "stdout",
     "output_type": "stream",
     "text": [
      "\b\b\b\b\b\b\b\b\b\b\b\b\b\b\b\b\b\b\b\b\b\b\b\b\b\b\b\b\b\b\b\b\b\b\b\b\b\b\b\b\b\b\b\b\b\b\b\b\b\b\b\b\b\b\b\b\b\b\b\b\b\b\b\b\b\b\b\b\b\b\b\b\b\b\b\b\b\b\b\b\b\b\b\b\b\b\b\b\b\b\b\b\b\b\b\b\b\b\b\b\b\b\b\b\b\b\b\b\b\b\b\b\b\b\b\b\b\b\b\b\b\b\b\r",
      "412416/412416 [==============================] - 14s 34us/sample - loss: 170.9202 - reconstruction_loss: 89.0555 - KL_loss: 22.3166 - val_loss: 105.8693 - val_reconstruction_loss: 83.9790 - val_KL_loss: 21.8904 - lr: 5.5591e-04\n",
      "Epoch 574/1000\n"
     ]
    },
    {
     "name": "stdout",
     "output_type": "stream",
     "text": [
      "\r",
      "412416/412416 [==============================] - ETA: 0s - loss: 171.0260 - reconstruction_loss: 89.0552 - KL_loss: 22.2987"
     ]
    },
    {
     "name": "stdout",
     "output_type": "stream",
     "text": [
      "\b\b\b\b\b\b\b\b\b\b\b\b\b\b\b\b\b\b\b\b\b\b\b\b\b\b\b\b\b\b\b\b\b\b\b\b\b\b\b\b\b\b\b\b\b\b\b\b\b\b\b\b\b\b\b\b\b\b\b\b\b\b\b\b\b\b\b\b\b\b\b\b\b\b\b\b\b\b\b\b\b\b\b\b\b\b\b\b\b\b\b\b\b\b\b\b\b\b\b\b\b\b\b\b\b\b\b\b\b\b\b\b\b\b\b\b\b\b\b\b\b\b\b\r",
      "412416/412416 [==============================] - 12s 28us/sample - loss: 171.0260 - reconstruction_loss: 89.0552 - KL_loss: 22.2987 - val_loss: 105.9004 - val_reconstruction_loss: 83.9744 - val_KL_loss: 21.9260 - lr: 5.5591e-04\n",
      "Epoch 575/1000\n"
     ]
    },
    {
     "name": "stdout",
     "output_type": "stream",
     "text": [
      "\r",
      "412416/412416 [==============================] - ETA: 0s - loss: 170.9501 - reconstruction_loss: 89.0502 - KL_loss: 22.3318"
     ]
    },
    {
     "name": "stdout",
     "output_type": "stream",
     "text": [
      "\b\b\b\b\b\b\b\b\b\b\b\b\b\b\b\b\b\b\b\b\b\b\b\b\b\b\b\b\b\b\b\b\b\b\b\b\b\b\b\b\b\b\b\b\b\b\b\b\b\b\b\b\b\b\b\b\b\b\b\b\b\b\b\b\b\b\b\b\b\b\b\b\b\b\b\b\b\b\b\b\b\b\b\b\b\b\b\b\b\b\b\b\b\b\b\b\b\b\b\b\b\b\b\b\b\b\b\b\b\b\b\b\b\b\b\b\b\b\b\b\b\b\b\r",
      "412416/412416 [==============================] - 12s 30us/sample - loss: 170.9501 - reconstruction_loss: 89.0502 - KL_loss: 22.3318 - val_loss: 105.8739 - val_reconstruction_loss: 83.9151 - val_KL_loss: 21.9588 - lr: 5.5591e-04\n",
      "Epoch 576/1000\n"
     ]
    },
    {
     "name": "stdout",
     "output_type": "stream",
     "text": [
      "\r",
      "412416/412416 [==============================] - ETA: 0s - loss: 170.8997 - reconstruction_loss: 88.9797 - KL_loss: 22.3641"
     ]
    },
    {
     "name": "stdout",
     "output_type": "stream",
     "text": [
      "\b\b\b\b\b\b\b\b\b\b\b\b\b\b\b\b\b\b\b\b\b\b\b\b\b\b\b\b\b\b\b\b\b\b\b\b\b\b\b\b\b\b\b\b\b\b\b\b\b\b\b\b\b\b\b\b\b\b\b\b\b\b\b\b\b\b\b\b\b\b\b\b\b\b\b\b\b\b\b\b\b\b\b\b\b\b\b\b\b\b\b\b\b\b\b\b\b\b\b\b\b\b\b\b\b\b\b\b\b\b\b\b\b\b\b\b\b\b\b\b\b\b\b\r",
      "412416/412416 [==============================] - 12s 28us/sample - loss: 170.8997 - reconstruction_loss: 88.9797 - KL_loss: 22.3641 - val_loss: 105.9025 - val_reconstruction_loss: 83.9439 - val_KL_loss: 21.9586 - lr: 5.5591e-04\n",
      "Epoch 577/1000\n"
     ]
    },
    {
     "name": "stdout",
     "output_type": "stream",
     "text": [
      "\r",
      "412416/412416 [==============================] - ETA: 0s - loss: 170.8802 - reconstruction_loss: 89.0158 - KL_loss: 22.3664"
     ]
    },
    {
     "name": "stdout",
     "output_type": "stream",
     "text": [
      "\b\b\b\b\b\b\b\b\b\b\b\b\b\b\b\b\b\b\b\b\b\b\b\b\b\b\b\b\b\b\b\b\b\b\b\b\b\b\b\b\b\b\b\b\b\b\b\b\b\b\b\b\b\b\b\b\b\b\b\b\b\b\b\b\b\b\b\b\b\b\b\b\b\b\b\b\b\b\b\b\b\b\b\b\b\b\b\b\b\b\b\b\b\b\b\b\b\b\b\b\b\b\b\b\b\b\b\b\b\b\b\b\b\b\b\b\b\b\b\b\b\b\b\r",
      "412416/412416 [==============================] - 11s 28us/sample - loss: 170.8802 - reconstruction_loss: 89.0158 - KL_loss: 22.3664 - val_loss: 105.8637 - val_reconstruction_loss: 83.9151 - val_KL_loss: 21.9487 - lr: 5.5591e-04\n",
      "Epoch 578/1000\n"
     ]
    },
    {
     "name": "stdout",
     "output_type": "stream",
     "text": [
      "\r",
      "412416/412416 [==============================] - ETA: 0s - loss: 170.8534 - reconstruction_loss: 89.0046 - KL_loss: 22.3563"
     ]
    },
    {
     "name": "stdout",
     "output_type": "stream",
     "text": [
      "\b\b\b\b\b\b\b\b\b\b\b\b\b\b\b\b\b\b\b\b\b\b\b\b\b\b\b\b\b\b\b\b\b\b\b\b\b\b\b\b\b\b\b\b\b\b\b\b\b\b\b\b\b\b\b\b\b\b\b\b\b\b\b\b\b\b\b\b\b\b\b\b\b\b\b\b\b\b\b\b\b\b\b\b\b\b\b\b\b\b\b\b\b\b\b\b\b\b\b\b\b\b\b\b\b\b\b\b\b\b\b\b\b\b\b\b\b\b\b\b\b\b\b\r",
      "412416/412416 [==============================] - 13s 30us/sample - loss: 170.8534 - reconstruction_loss: 89.0046 - KL_loss: 22.3563 - val_loss: 105.8434 - val_reconstruction_loss: 83.9045 - val_KL_loss: 21.9389 - lr: 5.0032e-04\n",
      "Epoch 579/1000\n"
     ]
    },
    {
     "name": "stdout",
     "output_type": "stream",
     "text": [
      "\r",
      "412416/412416 [==============================] - ETA: 0s - loss: 170.7710 - reconstruction_loss: 88.9846 - KL_loss: 22.3443"
     ]
    },
    {
     "name": "stdout",
     "output_type": "stream",
     "text": [
      "\b\b\b\b\b\b\b\b\b\b\b\b\b\b\b\b\b\b\b\b\b\b\b\b\b\b\b\b\b\b\b\b\b\b\b\b\b\b\b\b\b\b\b\b\b\b\b\b\b\b\b\b\b\b\b\b\b\b\b\b\b\b\b\b\b\b\b\b\b\b\b\b\b\b\b\b\b\b\b\b\b\b\b\b\b\b\b\b\b\b\b\b\b\b\b\b\b\b\b\b\b\b\b\b\b\b\b\b\b\b\b\b\b\b\b\b\b\b\b\b\b\b\b\r",
      "412416/412416 [==============================] - 12s 28us/sample - loss: 170.7710 - reconstruction_loss: 88.9846 - KL_loss: 22.3443 - val_loss: 105.8209 - val_reconstruction_loss: 83.9006 - val_KL_loss: 21.9203 - lr: 5.0032e-04\n",
      "Epoch 580/1000\n"
     ]
    },
    {
     "name": "stdout",
     "output_type": "stream",
     "text": [
      "\r",
      "412416/412416 [==============================] - ETA: 0s - loss: 170.7846 - reconstruction_loss: 88.9709 - KL_loss: 22.3256"
     ]
    },
    {
     "name": "stdout",
     "output_type": "stream",
     "text": [
      "\b\b\b\b\b\b\b\b\b\b\b\b\b\b\b\b\b\b\b\b\b\b\b\b\b\b\b\b\b\b\b\b\b\b\b\b\b\b\b\b\b\b\b\b\b\b\b\b\b\b\b\b\b\b\b\b\b\b\b\b\b\b\b\b\b\b\b\b\b\b\b\b\b\b\b\b\b\b\b\b\b\b\b\b\b\b\b\b\b\b\b\b\b\b\b\b\b\b\b\b\b\b\b\b\b\b\b\b\b\b\b\b\b\b\b\b\b\b\b\b\b\b\b\r",
      "412416/412416 [==============================] - 11s 28us/sample - loss: 170.7846 - reconstruction_loss: 88.9709 - KL_loss: 22.3256 - val_loss: 105.8734 - val_reconstruction_loss: 83.9534 - val_KL_loss: 21.9200 - lr: 5.0032e-04\n",
      "Epoch 581/1000\n"
     ]
    },
    {
     "name": "stdout",
     "output_type": "stream",
     "text": [
      "\r",
      "412416/412416 [==============================] - ETA: 0s - loss: 170.7839 - reconstruction_loss: 89.0329 - KL_loss: 22.3269"
     ]
    },
    {
     "name": "stdout",
     "output_type": "stream",
     "text": [
      "\b\b\b\b\b\b\b\b\b\b\b\b\b\b\b\b\b\b\b\b\b\b\b\b\b\b\b\b\b\b\b\b\b\b\b\b\b\b\b\b\b\b\b\b\b\b\b\b\b\b\b\b\b\b\b\b\b\b\b\b\b\b\b\b\b\b\b\b\b\b\b\b\b\b\b\b\b\b\b\b\b\b\b\b\b\b\b\b\b\b\b\b\b\b\b\b\b\b\b\b\b\b\b\b\b\b\b\b\b\b\b\b\b\b\b\b\b\b\b\b\b\b\b\r",
      "412416/412416 [==============================] - 12s 30us/sample - loss: 170.7839 - reconstruction_loss: 89.0329 - KL_loss: 22.3269 - val_loss: 105.8185 - val_reconstruction_loss: 83.9084 - val_KL_loss: 21.9102 - lr: 5.0032e-04\n",
      "Epoch 582/1000\n"
     ]
    },
    {
     "name": "stdout",
     "output_type": "stream",
     "text": [
      "\r",
      "412416/412416 [==============================] - ETA: 0s - loss: 170.7672 - reconstruction_loss: 89.0197 - KL_loss: 22.3162"
     ]
    },
    {
     "name": "stdout",
     "output_type": "stream",
     "text": [
      "\b\b\b\b\b\b\b\b\b\b\b\b\b\b\b\b\b\b\b\b\b\b\b\b\b\b\b\b\b\b\b\b\b\b\b\b\b\b\b\b\b\b\b\b\b\b\b\b\b\b\b\b\b\b\b\b\b\b\b\b\b\b\b\b\b\b\b\b\b\b\b\b\b\b\b\b\b\b\b\b\b\b\b\b\b\b\b\b\b\b\b\b\b\b\b\b\b\b\b\b\b\b\b\b\b\b\b\b\b\b\b\b\b\b\b\b\b\b\b\b\b\b\b\r",
      "412416/412416 [==============================] - 13s 30us/sample - loss: 170.7672 - reconstruction_loss: 89.0197 - KL_loss: 22.3162 - val_loss: 105.8449 - val_reconstruction_loss: 83.9341 - val_KL_loss: 21.9108 - lr: 5.0032e-04\n",
      "Epoch 583/1000\n"
     ]
    },
    {
     "name": "stdout",
     "output_type": "stream",
     "text": [
      "\r",
      "412416/412416 [==============================] - ETA: 0s - loss: 170.7091 - reconstruction_loss: 89.0266 - KL_loss: 22.3151"
     ]
    },
    {
     "name": "stdout",
     "output_type": "stream",
     "text": [
      "\b\b\b\b\b\b\b\b\b\b\b\b\b\b\b\b\b\b\b\b\b\b\b\b\b\b\b\b\b\b\b\b\b\b\b\b\b\b\b\b\b\b\b\b\b\b\b\b\b\b\b\b\b\b\b\b\b\b\b\b\b\b\b\b\b\b\b\b\b\b\b\b\b\b\b\b\b\b\b\b\b\b\b\b\b\b\b\b\b\b\b\b\b\b\b\b\b\b\b\b\b\b\b\b\b\b\b\b\b\b\b\b\b\b\b\b\b\b\b\b\b\b\b\r",
      "412416/412416 [==============================] - 12s 28us/sample - loss: 170.7091 - reconstruction_loss: 89.0266 - KL_loss: 22.3151 - val_loss: 105.8745 - val_reconstruction_loss: 83.9800 - val_KL_loss: 21.8944 - lr: 5.0032e-04\n",
      "Epoch 584/1000\n"
     ]
    },
    {
     "name": "stdout",
     "output_type": "stream",
     "text": [
      "\r",
      "412416/412416 [==============================] - ETA: 0s - loss: 170.7845 - reconstruction_loss: 89.0392 - KL_loss: 22.3004"
     ]
    },
    {
     "name": "stdout",
     "output_type": "stream",
     "text": [
      "\b\b\b\b\b\b\b\b\b\b\b\b\b\b\b\b\b\b\b\b\b\b\b\b\b\b\b\b\b\b\b\b\b\b\b\b\b\b\b\b\b\b\b\b\b\b\b\b\b\b\b\b\b\b\b\b\b\b\b\b\b\b\b\b\b\b\b\b\b\b\b\b\b\b\b\b\b\b\b\b\b\b\b\b\b\b\b\b\b\b\b\b\b\b\b\b\b\b\b\b\b\b\b\b\b\b\b\b\b\b\b\b\b\b\b\b\b\b\b\b\b\b\b\r",
      "412416/412416 [==============================] - 19s 47us/sample - loss: 170.7845 - reconstruction_loss: 89.0392 - KL_loss: 22.3004 - val_loss: 105.8396 - val_reconstruction_loss: 83.9355 - val_KL_loss: 21.9041 - lr: 5.0032e-04\n",
      "Epoch 585/1000\n"
     ]
    },
    {
     "name": "stdout",
     "output_type": "stream",
     "text": [
      "\r",
      "412416/412416 [==============================] - ETA: 0s - loss: 170.7319 - reconstruction_loss: 89.0025 - KL_loss: 22.3122"
     ]
    },
    {
     "name": "stdout",
     "output_type": "stream",
     "text": [
      "\b\b\b\b\b\b\b\b\b\b\b\b\b\b\b\b\b\b\b\b\b\b\b\b\b\b\b\b\b\b\b\b\b\b\b\b\b\b\b\b\b\b\b\b\b\b\b\b\b\b\b\b\b\b\b\b\b\b\b\b\b\b\b\b\b\b\b\b\b\b\b\b\b\b\b\b\b\b\b\b\b\b\b\b\b\b\b\b\b\b\b\b\b\b\b\b\b\b\b\b\b\b\b\b\b\b\b\b\b\b\b\b\b\b\b\b\b\b\b\b\b\b\b\r",
      "412416/412416 [==============================] - 12s 28us/sample - loss: 170.7319 - reconstruction_loss: 89.0025 - KL_loss: 22.3122 - val_loss: 105.7861 - val_reconstruction_loss: 83.8400 - val_KL_loss: 21.9461 - lr: 5.0032e-04\n",
      "Epoch 586/1000\n"
     ]
    },
    {
     "name": "stdout",
     "output_type": "stream",
     "text": [
      "\r",
      "412416/412416 [==============================] - ETA: 0s - loss: 170.6211 - reconstruction_loss: 88.9546 - KL_loss: 22.3523"
     ]
    },
    {
     "name": "stdout",
     "output_type": "stream",
     "text": [
      "\b\b\b\b\b\b\b\b\b\b\b\b\b\b\b\b\b\b\b\b\b\b\b\b\b\b\b\b\b\b\b\b\b\b\b\b\b\b\b\b\b\b\b\b\b\b\b\b\b\b\b\b\b\b\b\b\b\b\b\b\b\b\b\b\b\b\b\b\b\b\b\b\b\b\b\b\b\b\b\b\b\b\b\b\b\b\b\b\b\b\b\b\b\b\b\b\b\b\b\b\b\b\b\b\b\b\b\b\b\b\b\b\b\b\b\b\b\b\b\b\b\b\b\r",
      "412416/412416 [==============================] - 12s 29us/sample - loss: 170.6211 - reconstruction_loss: 88.9546 - KL_loss: 22.3523 - val_loss: 105.8652 - val_reconstruction_loss: 83.8974 - val_KL_loss: 21.9678 - lr: 5.0032e-04\n",
      "Epoch 587/1000\n"
     ]
    },
    {
     "name": "stdout",
     "output_type": "stream",
     "text": [
      "\r",
      "412416/412416 [==============================] - ETA: 0s - loss: 170.6297 - reconstruction_loss: 88.9739 - KL_loss: 22.3715"
     ]
    },
    {
     "name": "stdout",
     "output_type": "stream",
     "text": [
      "\b\b\b\b\b\b\b\b\b\b\b\b\b\b\b\b\b\b\b\b\b\b\b\b\b\b\b\b\b\b\b\b\b\b\b\b\b\b\b\b\b\b\b\b\b\b\b\b\b\b\b\b\b\b\b\b\b\b\b\b\b\b\b\b\b\b\b\b\b\b\b\b\b\b\b\b\b\b\b\b\b\b\b\b\b\b\b\b\b\b\b\b\b\b\b\b\b\b\b\b\b\b\b\b\b\b\b\b\b\b\b\b\b\b\b\b\b\b\b\b\b\b\b\r",
      "412416/412416 [==============================] - 12s 30us/sample - loss: 170.6297 - reconstruction_loss: 88.9739 - KL_loss: 22.3715 - val_loss: 105.8069 - val_reconstruction_loss: 83.8545 - val_KL_loss: 21.9524 - lr: 5.0032e-04\n",
      "Epoch 588/1000\n"
     ]
    },
    {
     "name": "stdout",
     "output_type": "stream",
     "text": [
      "\r",
      "412416/412416 [==============================] - ETA: 0s - loss: 170.5639 - reconstruction_loss: 88.9474 - KL_loss: 22.3568"
     ]
    },
    {
     "name": "stdout",
     "output_type": "stream",
     "text": [
      "\b\b\b\b\b\b\b\b\b\b\b\b\b\b\b\b\b\b\b\b\b\b\b\b\b\b\b\b\b\b\b\b\b\b\b\b\b\b\b\b\b\b\b\b\b\b\b\b\b\b\b\b\b\b\b\b\b\b\b\b\b\b\b\b\b\b\b\b\b\b\b\b\b\b\b\b\b\b\b\b\b\b\b\b\b\b\b\b\b\b\b\b\b\b\b\b\b\b\b\b\b\b\b\b\b\b\b\b\b\b\b\b\b\b\b\b\b\b\b\b\b\b\b\r",
      "412416/412416 [==============================] - 12s 29us/sample - loss: 170.5639 - reconstruction_loss: 88.9474 - KL_loss: 22.3568 - val_loss: 105.8522 - val_reconstruction_loss: 83.9248 - val_KL_loss: 21.9274 - lr: 5.0032e-04\n",
      "Epoch 589/1000\n"
     ]
    },
    {
     "name": "stdout",
     "output_type": "stream",
     "text": [
      "\r",
      "412416/412416 [==============================] - ETA: 0s - loss: 170.5734 - reconstruction_loss: 88.9910 - KL_loss: 22.3343"
     ]
    },
    {
     "name": "stdout",
     "output_type": "stream",
     "text": [
      "\b\b\b\b\b\b\b\b\b\b\b\b\b\b\b\b\b\b\b\b\b\b\b\b\b\b\b\b\b\b\b\b\b\b\b\b\b\b\b\b\b\b\b\b\b\b\b\b\b\b\b\b\b\b\b\b\b\b\b\b\b\b\b\b\b\b\b\b\b\b\b\b\b\b\b\b\b\b\b\b\b\b\b\b\b\b\b\b\b\b\b\b\b\b\b\b\b\b\b\b\b\b\b\b\b\b\b\b\b\b\b\b\b\b\b\b\b\b\b\b\b\b\b\r",
      "412416/412416 [==============================] - 11s 28us/sample - loss: 170.5734 - reconstruction_loss: 88.9910 - KL_loss: 22.3343 - val_loss: 105.8368 - val_reconstruction_loss: 83.9279 - val_KL_loss: 21.9089 - lr: 5.0032e-04\n",
      "Epoch 590/1000\n"
     ]
    },
    {
     "name": "stdout",
     "output_type": "stream",
     "text": [
      "\r",
      "412416/412416 [==============================] - ETA: 0s - loss: 170.5610 - reconstruction_loss: 89.0271 - KL_loss: 22.3150"
     ]
    },
    {
     "name": "stdout",
     "output_type": "stream",
     "text": [
      "\b\b\b\b\b\b\b\b\b\b\b\b\b\b\b\b\b\b\b\b\b\b\b\b\b\b\b\b\b\b\b\b\b\b\b\b\b\b\b\b\b\b\b\b\b\b\b\b\b\b\b\b\b\b\b\b\b\b\b\b\b\b\b\b\b\b\b\b\b\b\b\b\b\b\b\b\b\b\b\b\b\b\b\b\b\b\b\b\b\b\b\b\b\b\b\b\b\b\b\b\b\b\b\b\b\b\b\b\b\b\b\b\b\b\b\b\b\b\b\b\b\b\b\r",
      "412416/412416 [==============================] - 12s 28us/sample - loss: 170.5610 - reconstruction_loss: 89.0271 - KL_loss: 22.3150 - val_loss: 105.8097 - val_reconstruction_loss: 83.9121 - val_KL_loss: 21.8976 - lr: 5.0032e-04\n",
      "Epoch 591/1000\n"
     ]
    },
    {
     "name": "stdout",
     "output_type": "stream",
     "text": [
      "\r",
      "412416/412416 [==============================] - ETA: 0s - loss: 170.5324 - reconstruction_loss: 88.9845 - KL_loss: 22.3012"
     ]
    },
    {
     "name": "stdout",
     "output_type": "stream",
     "text": [
      "\b\b\b\b\b\b\b\b\b\b\b\b\b\b\b\b\b\b\b\b\b\b\b\b\b\b\b\b\b\b\b\b\b\b\b\b\b\b\b\b\b\b\b\b\b\b\b\b\b\b\b\b\b\b\b\b\b\b\b\b\b\b\b\b\b\b\b\b\b\b\b\b\b\b\b\b\b\b\b\b\b\b\b\b\b\b\b\b\b\b\b\b\b\b\b\b\b\b\b\b\b\b\b\b\b\b\b\b\b\b\b\b\b\b\b\b\b\b\b\b\b\b\b\r",
      "412416/412416 [==============================] - 11s 28us/sample - loss: 170.5324 - reconstruction_loss: 88.9845 - KL_loss: 22.3012 - val_loss: 105.8005 - val_reconstruction_loss: 83.9091 - val_KL_loss: 21.8913 - lr: 5.0032e-04\n",
      "Epoch 592/1000\n"
     ]
    },
    {
     "name": "stdout",
     "output_type": "stream",
     "text": [
      "\r",
      "412416/412416 [==============================] - ETA: 0s - loss: 170.5320 - reconstruction_loss: 88.9938 - KL_loss: 22.2952"
     ]
    },
    {
     "name": "stdout",
     "output_type": "stream",
     "text": [
      "\b\b\b\b\b\b\b\b\b\b\b\b\b\b\b\b\b\b\b\b\b\b\b\b\b\b\b\b\b\b\b\b\b\b\b\b\b\b\b\b\b\b\b\b\b\b\b\b\b\b\b\b\b\b\b\b\b\b\b\b\b\b\b\b\b\b\b\b\b\b\b\b\b\b\b\b\b\b\b\b\b\b\b\b\b\b\b\b\b\b\b\b\b\b\b\b\b\b\b\b\b\b\b\b\b\b\b\b\b\b\b\b\b\b\b\b\b\b\b\b\b\b\b\r",
      "412416/412416 [==============================] - 17s 40us/sample - loss: 170.5320 - reconstruction_loss: 88.9938 - KL_loss: 22.2952 - val_loss: 105.8419 - val_reconstruction_loss: 83.9353 - val_KL_loss: 21.9066 - lr: 5.0032e-04\n",
      "Epoch 593/1000\n"
     ]
    },
    {
     "name": "stdout",
     "output_type": "stream",
     "text": [
      "\r",
      "412416/412416 [==============================] - ETA: 0s - loss: 170.5518 - reconstruction_loss: 89.0047 - KL_loss: 22.3124"
     ]
    },
    {
     "name": "stdout",
     "output_type": "stream",
     "text": [
      "\b\b\b\b\b\b\b\b\b\b\b\b\b\b\b\b\b\b\b\b\b\b\b\b\b\b\b\b\b\b\b\b\b\b\b\b\b\b\b\b\b\b\b\b\b\b\b\b\b\b\b\b\b\b\b\b\b\b\b\b\b\b\b\b\b\b\b\b\b\b\b\b\b\b\b\b\b\b\b\b\b\b\b\b\b\b\b\b\b\b\b\b\b\b\b\b\b\b\b\b\b\b\b\b\b\b\b\b\b\b\b\b\b\b\b\b\b\b\b\b\b\b\b\r",
      "412416/412416 [==============================] - 12s 28us/sample - loss: 170.5518 - reconstruction_loss: 89.0047 - KL_loss: 22.3124 - val_loss: 105.8220 - val_reconstruction_loss: 83.8736 - val_KL_loss: 21.9484 - lr: 5.0032e-04\n",
      "Epoch 594/1000\n"
     ]
    },
    {
     "name": "stdout",
     "output_type": "stream",
     "text": [
      "\r",
      "412416/412416 [==============================] - ETA: 0s - loss: 170.5133 - reconstruction_loss: 88.9434 - KL_loss: 22.3536"
     ]
    },
    {
     "name": "stdout",
     "output_type": "stream",
     "text": [
      "\b\b\b\b\b\b\b\b\b\b\b\b\b\b\b\b\b\b\b\b\b\b\b\b\b\b\b\b\b\b\b\b\b\b\b\b\b\b\b\b\b\b\b\b\b\b\b\b\b\b\b\b\b\b\b\b\b\b\b\b\b\b\b\b\b\b\b\b\b\b\b\b\b\b\b\b\b\b\b\b\b\b\b\b\b\b\b\b\b\b\b\b\b\b\b\b\b\b\b\b\b\b\b\b\b\b\b\b\b\b\b\b\b\b\b\b\b\b\b\b\b\b\b\r",
      "412416/412416 [==============================] - 12s 28us/sample - loss: 170.5133 - reconstruction_loss: 88.9434 - KL_loss: 22.3536 - val_loss: 105.8293 - val_reconstruction_loss: 83.8232 - val_KL_loss: 22.0061 - lr: 5.0032e-04\n",
      "Epoch 595/1000\n"
     ]
    },
    {
     "name": "stdout",
     "output_type": "stream",
     "text": [
      "\r",
      "412416/412416 [==============================] - ETA: 0s - loss: 170.5499 - reconstruction_loss: 88.9147 - KL_loss: 22.4088"
     ]
    },
    {
     "name": "stdout",
     "output_type": "stream",
     "text": [
      "\b\b\b\b\b\b\b\b\b\b\b\b\b\b\b\b\b\b\b\b\b\b\b\b\b\b\b\b\b\b\b\b\b\b\b\b\b\b\b\b\b\b\b\b\b\b\b\b\b\b\b\b\b\b\b\b\b\b\b\b\b\b\b\b\b\b\b\b\b\b\b\b\b\b\b\b\b\b\b\b\b\b\b\b\b\b\b\b\b\b\b\b\b\b\b\b\b\b\b\b\b\b\b\b\b\b\b\b\b\b\b\b\b\b\b\b\b\b\b\b\b\b\b\r",
      "412416/412416 [==============================] - 12s 28us/sample - loss: 170.5499 - reconstruction_loss: 88.9147 - KL_loss: 22.4088 - val_loss: 105.8180 - val_reconstruction_loss: 83.7800 - val_KL_loss: 22.0380 - lr: 5.0032e-04\n",
      "Epoch 596/1000\n"
     ]
    },
    {
     "name": "stdout",
     "output_type": "stream",
     "text": [
      "\r",
      "412416/412416 [==============================] - ETA: 0s - loss: 170.4994 - reconstruction_loss: 88.8622 - KL_loss: 22.4410"
     ]
    },
    {
     "name": "stdout",
     "output_type": "stream",
     "text": [
      "\b\b\b\b\b\b\b\b\b\b\b\b\b\b\b\b\b\b\b\b\b\b\b\b\b\b\b\b\b\b\b\b\b\b\b\b\b\b\b\b\b\b\b\b\b\b\b\b\b\b\b\b\b\b\b\b\b\b\b\b\b\b\b\b\b\b\b\b\b\b\b\b\b\b\b\b\b\b\b\b\b\b\b\b\b\b\b\b\b\b\b\b\b\b\b\b\b\b\b\b\b\b\b\b\b\b\b\b\b\b\b\b\b\b\b\b\b\b\b\b\b\b\b\r",
      "412416/412416 [==============================] - 11s 28us/sample - loss: 170.4994 - reconstruction_loss: 88.8622 - KL_loss: 22.4410 - val_loss: 105.8217 - val_reconstruction_loss: 83.8067 - val_KL_loss: 22.0150 - lr: 5.0000e-04\n",
      "Epoch 597/1000\n"
     ]
    },
    {
     "name": "stdout",
     "output_type": "stream",
     "text": [
      "\r",
      "412416/412416 [==============================] - ETA: 0s - loss: 170.4410 - reconstruction_loss: 88.8811 - KL_loss: 22.4205"
     ]
    },
    {
     "name": "stdout",
     "output_type": "stream",
     "text": [
      "\b\b\b\b\b\b\b\b\b\b\b\b\b\b\b\b\b\b\b\b\b\b\b\b\b\b\b\b\b\b\b\b\b\b\b\b\b\b\b\b\b\b\b\b\b\b\b\b\b\b\b\b\b\b\b\b\b\b\b\b\b\b\b\b\b\b\b\b\b\b\b\b\b\b\b\b\b\b\b\b\b\b\b\b\b\b\b\b\b\b\b\b\b\b\b\b\b\b\b\b\b\b\b\b\b\b\b\b\b\b\b\b\b\b\b\b\b\b\b\b\b\b\b\r",
      "412416/412416 [==============================] - 13s 30us/sample - loss: 170.4410 - reconstruction_loss: 88.8811 - KL_loss: 22.4205 - val_loss: 105.7920 - val_reconstruction_loss: 83.8152 - val_KL_loss: 21.9767 - lr: 5.0000e-04\n",
      "Epoch 598/1000\n"
     ]
    },
    {
     "name": "stdout",
     "output_type": "stream",
     "text": [
      "\r",
      "412416/412416 [==============================] - ETA: 0s - loss: 170.4259 - reconstruction_loss: 88.8969 - KL_loss: 22.3818"
     ]
    },
    {
     "name": "stdout",
     "output_type": "stream",
     "text": [
      "\b\b\b\b\b\b\b\b\b\b\b\b\b\b\b\b\b\b\b\b\b\b\b\b\b\b\b\b\b\b\b\b\b\b\b\b\b\b\b\b\b\b\b\b\b\b\b\b\b\b\b\b\b\b\b\b\b\b\b\b\b\b\b\b\b\b\b\b\b\b\b\b\b\b\b\b\b\b\b\b\b\b\b\b\b\b\b\b\b\b\b\b\b\b\b\b\b\b\b\b\b\b\b\b\b\b\b\b\b\b\b\b\b\b\b\b\b\b\b\b\b\b\b\r",
      "412416/412416 [==============================] - 12s 28us/sample - loss: 170.4259 - reconstruction_loss: 88.8969 - KL_loss: 22.3818 - val_loss: 105.7934 - val_reconstruction_loss: 83.8092 - val_KL_loss: 21.9841 - lr: 5.0000e-04\n",
      "Epoch 599/1000\n"
     ]
    },
    {
     "name": "stdout",
     "output_type": "stream",
     "text": [
      "\r",
      "412416/412416 [==============================] - ETA: 0s - loss: 170.4114 - reconstruction_loss: 88.9049 - KL_loss: 22.3868"
     ]
    },
    {
     "name": "stdout",
     "output_type": "stream",
     "text": [
      "\b\b\b\b\b\b\b\b\b\b\b\b\b\b\b\b\b\b\b\b\b\b\b\b\b\b\b\b\b\b\b\b\b\b\b\b\b\b\b\b\b\b\b\b\b\b\b\b\b\b\b\b\b\b\b\b\b\b\b\b\b\b\b\b\b\b\b\b\b\b\b\b\b\b\b\b\b\b\b\b\b\b\b\b\b\b\b\b\b\b\b\b\b\b\b\b\b\b\b\b\b\b\b\b\b\b\b\b\b\b\b\b\b\b\b\b\b\b\b\b\b\b\b\r",
      "412416/412416 [==============================] - 12s 28us/sample - loss: 170.4114 - reconstruction_loss: 88.9049 - KL_loss: 22.3868 - val_loss: 105.7812 - val_reconstruction_loss: 83.7968 - val_KL_loss: 21.9844 - lr: 5.0000e-04\n",
      "Epoch 600/1000\n"
     ]
    },
    {
     "name": "stdout",
     "output_type": "stream",
     "text": [
      "\r",
      "412416/412416 [==============================] - ETA: 0s - loss: 170.3206 - reconstruction_loss: 88.8753 - KL_loss: 22.3874"
     ]
    },
    {
     "name": "stdout",
     "output_type": "stream",
     "text": [
      "\b\b\b\b\b\b\b\b\b\b\b\b\b\b\b\b\b\b\b\b\b\b\b\b\b\b\b\b\b\b\b\b\b\b\b\b\b\b\b\b\b\b\b\b\b\b\b\b\b\b\b\b\b\b\b\b\b\b\b\b\b\b\b\b\b\b\b\b\b\b\b\b\b\b\b\b\b\b\b\b\b\b\b\b\b\b\b\b\b\b\b\b\b\b\b\b\b\b\b\b\b\b\b\b\b\b\b\b\b\b\b\b\b\b\b\b\b\b\b\b\b\b\b\r",
      "412416/412416 [==============================] - 11s 28us/sample - loss: 170.3206 - reconstruction_loss: 88.8753 - KL_loss: 22.3874 - val_loss: 105.8217 - val_reconstruction_loss: 83.8785 - val_KL_loss: 21.9432 - lr: 5.0000e-04\n",
      "Epoch 601/1000\n"
     ]
    },
    {
     "name": "stdout",
     "output_type": "stream",
     "text": [
      "\r",
      "412416/412416 [==============================] - ETA: 0s - loss: 170.3455 - reconstruction_loss: 88.9429 - KL_loss: 22.3479"
     ]
    },
    {
     "name": "stdout",
     "output_type": "stream",
     "text": [
      "\b\b\b\b\b\b\b\b\b\b\b\b\b\b\b\b\b\b\b\b\b\b\b\b\b\b\b\b\b\b\b\b\b\b\b\b\b\b\b\b\b\b\b\b\b\b\b\b\b\b\b\b\b\b\b\b\b\b\b\b\b\b\b\b\b\b\b\b\b\b\b\b\b\b\b\b\b\b\b\b\b\b\b\b\b\b\b\b\b\b\b\b\b\b\b\b\b\b\b\b\b\b\b\b\b\b\b\b\b\b\b\b\b\b\b\b\b\b\b\b\b\b\b\r",
      "412416/412416 [==============================] - 12s 28us/sample - loss: 170.3455 - reconstruction_loss: 88.9429 - KL_loss: 22.3479 - val_loss: 105.7875 - val_reconstruction_loss: 83.8617 - val_KL_loss: 21.9258 - lr: 5.0000e-04\n",
      "Epoch 602/1000\n"
     ]
    },
    {
     "name": "stdout",
     "output_type": "stream",
     "text": [
      "\r",
      "412416/412416 [==============================] - ETA: 0s - loss: 170.3563 - reconstruction_loss: 88.9484 - KL_loss: 22.3300"
     ]
    },
    {
     "name": "stdout",
     "output_type": "stream",
     "text": [
      "\b\b\b\b\b\b\b\b\b\b\b\b\b\b\b\b\b\b\b\b\b\b\b\b\b\b\b\b\b\b\b\b\b\b\b\b\b\b\b\b\b\b\b\b\b\b\b\b\b\b\b\b\b\b\b\b\b\b\b\b\b\b\b\b\b\b\b\b\b\b\b\b\b\b\b\b\b\b\b\b\b\b\b\b\b\b\b\b\b\b\b\b\b\b\b\b\b\b\b\b\b\b\b\b\b\b\b\b\b\b\b\b\b\b\b\b\b\b\b\b\b\b\b\r",
      "412416/412416 [==============================] - 11s 28us/sample - loss: 170.3563 - reconstruction_loss: 88.9484 - KL_loss: 22.3300 - val_loss: 105.8280 - val_reconstruction_loss: 83.8822 - val_KL_loss: 21.9458 - lr: 5.0000e-04\n",
      "Epoch 603/1000\n"
     ]
    },
    {
     "name": "stdout",
     "output_type": "stream",
     "text": [
      "\r",
      "412416/412416 [==============================] - ETA: 0s - loss: 170.3502 - reconstruction_loss: 88.9396 - KL_loss: 22.3484"
     ]
    },
    {
     "name": "stdout",
     "output_type": "stream",
     "text": [
      "\b\b\b\b\b\b\b\b\b\b\b\b\b\b\b\b\b\b\b\b\b\b\b\b\b\b\b\b\b\b\b\b\b\b\b\b\b\b\b\b\b\b\b\b\b\b\b\b\b\b\b\b\b\b\b\b\b\b\b\b\b\b\b\b\b\b\b\b\b\b\b\b\b\b\b\b\b\b\b\b\b\b\b\b\b\b\b\b\b\b\b\b\b\b\b\b\b\b\b\b\b\b\b\b\b\b\b\b\b\b\b\b\b\b\b\b\b\b\b\b\b\b\b\r",
      "412416/412416 [==============================] - 11s 28us/sample - loss: 170.3502 - reconstruction_loss: 88.9396 - KL_loss: 22.3484 - val_loss: 105.7729 - val_reconstruction_loss: 83.8078 - val_KL_loss: 21.9650 - lr: 5.0000e-04\n",
      "Epoch 604/1000\n"
     ]
    },
    {
     "name": "stdout",
     "output_type": "stream",
     "text": [
      "\r",
      "412416/412416 [==============================] - ETA: 0s - loss: 170.2850 - reconstruction_loss: 88.8970 - KL_loss: 22.3679"
     ]
    },
    {
     "name": "stdout",
     "output_type": "stream",
     "text": [
      "\b\b\b\b\b\b\b\b\b\b\b\b\b\b\b\b\b\b\b\b\b\b\b\b\b\b\b\b\b\b\b\b\b\b\b\b\b\b\b\b\b\b\b\b\b\b\b\b\b\b\b\b\b\b\b\b\b\b\b\b\b\b\b\b\b\b\b\b\b\b\b\b\b\b\b\b\b\b\b\b\b\b\b\b\b\b\b\b\b\b\b\b\b\b\b\b\b\b\b\b\b\b\b\b\b\b\b\b\b\b\b\b\b\b\b\b\b\b\b\b\b\b\b\r",
      "412416/412416 [==============================] - 12s 28us/sample - loss: 170.2850 - reconstruction_loss: 88.8970 - KL_loss: 22.3679 - val_loss: 105.8229 - val_reconstruction_loss: 83.8708 - val_KL_loss: 21.9522 - lr: 5.0000e-04\n",
      "Epoch 605/1000\n"
     ]
    },
    {
     "name": "stdout",
     "output_type": "stream",
     "text": [
      "\r",
      "412416/412416 [==============================] - ETA: 0s - loss: 170.2906 - reconstruction_loss: 88.9405 - KL_loss: 22.3564"
     ]
    },
    {
     "name": "stdout",
     "output_type": "stream",
     "text": [
      "\b\b\b\b\b\b\b\b\b\b\b\b\b\b\b\b\b\b\b\b\b\b\b\b\b\b\b\b\b\b\b\b\b\b\b\b\b\b\b\b\b\b\b\b\b\b\b\b\b\b\b\b\b\b\b\b\b\b\b\b\b\b\b\b\b\b\b\b\b\b\b\b\b\b\b\b\b\b\b\b\b\b\b\b\b\b\b\b\b\b\b\b\b\b\b\b\b\b\b\b\b\b\b\b\b\b\b\b\b\b\b\b\b\b\b\b\b\b\b\b\b\b\b\r",
      "412416/412416 [==============================] - 12s 28us/sample - loss: 170.2906 - reconstruction_loss: 88.9405 - KL_loss: 22.3564 - val_loss: 105.7654 - val_reconstruction_loss: 83.8168 - val_KL_loss: 21.9485 - lr: 5.0000e-04\n",
      "Epoch 606/1000\n"
     ]
    },
    {
     "name": "stdout",
     "output_type": "stream",
     "text": [
      "\r",
      "412416/412416 [==============================] - ETA: 0s - loss: 170.2366 - reconstruction_loss: 88.9179 - KL_loss: 22.3532"
     ]
    },
    {
     "name": "stdout",
     "output_type": "stream",
     "text": [
      "\b\b\b\b\b\b\b\b\b\b\b\b\b\b\b\b\b\b\b\b\b\b\b\b\b\b\b\b\b\b\b\b\b\b\b\b\b\b\b\b\b\b\b\b\b\b\b\b\b\b\b\b\b\b\b\b\b\b\b\b\b\b\b\b\b\b\b\b\b\b\b\b\b\b\b\b\b\b\b\b\b\b\b\b\b\b\b\b\b\b\b\b\b\b\b\b\b\b\b\b\b\b\b\b\b\b\b\b\b\b\b\b\b\b\b\b\b\b\b\b\b\b\b\r",
      "412416/412416 [==============================] - 14s 35us/sample - loss: 170.2366 - reconstruction_loss: 88.9179 - KL_loss: 22.3532 - val_loss: 105.7921 - val_reconstruction_loss: 83.7986 - val_KL_loss: 21.9935 - lr: 5.0000e-04\n",
      "Epoch 607/1000\n"
     ]
    },
    {
     "name": "stdout",
     "output_type": "stream",
     "text": [
      "\r",
      "412416/412416 [==============================] - ETA: 0s - loss: 170.2232 - reconstruction_loss: 88.8840 - KL_loss: 22.3961"
     ]
    },
    {
     "name": "stdout",
     "output_type": "stream",
     "text": [
      "\b\b\b\b\b\b\b\b\b\b\b\b\b\b\b\b\b\b\b\b\b\b\b\b\b\b\b\b\b\b\b\b\b\b\b\b\b\b\b\b\b\b\b\b\b\b\b\b\b\b\b\b\b\b\b\b\b\b\b\b\b\b\b\b\b\b\b\b\b\b\b\b\b\b\b\b\b\b\b\b\b\b\b\b\b\b\b\b\b\b\b\b\b\b\b\b\b\b\b\b\b\b\b\b\b\b\b\b\b\b\b\b\b\b\b\b\b\b\b\b\b\b\b\r",
      "412416/412416 [==============================] - 12s 28us/sample - loss: 170.2232 - reconstruction_loss: 88.8840 - KL_loss: 22.3961 - val_loss: 105.8039 - val_reconstruction_loss: 83.7986 - val_KL_loss: 22.0054 - lr: 5.0000e-04\n",
      "Epoch 608/1000\n"
     ]
    },
    {
     "name": "stdout",
     "output_type": "stream",
     "text": [
      "\r",
      "412416/412416 [==============================] - ETA: 0s - loss: 170.2397 - reconstruction_loss: 88.8814 - KL_loss: 22.4071"
     ]
    },
    {
     "name": "stdout",
     "output_type": "stream",
     "text": [
      "\b\b\b\b\b\b\b\b\b\b\b\b\b\b\b\b\b\b\b\b\b\b\b\b\b\b\b\b\b\b\b\b\b\b\b\b\b\b\b\b\b\b\b\b\b\b\b\b\b\b\b\b\b\b\b\b\b\b\b\b\b\b\b\b\b\b\b\b\b\b\b\b\b\b\b\b\b\b\b\b\b\b\b\b\b\b\b\b\b\b\b\b\b\b\b\b\b\b\b\b\b\b\b\b\b\b\b\b\b\b\b\b\b\b\b\b\b\b\b\b\b\b\b\r",
      "412416/412416 [==============================] - 12s 28us/sample - loss: 170.2397 - reconstruction_loss: 88.8814 - KL_loss: 22.4071 - val_loss: 105.8150 - val_reconstruction_loss: 83.8363 - val_KL_loss: 21.9787 - lr: 5.0000e-04\n",
      "Epoch 609/1000\n"
     ]
    },
    {
     "name": "stdout",
     "output_type": "stream",
     "text": [
      "\r",
      "412416/412416 [==============================] - ETA: 0s - loss: 170.2245 - reconstruction_loss: 88.8765 - KL_loss: 22.3826"
     ]
    },
    {
     "name": "stdout",
     "output_type": "stream",
     "text": [
      "\b\b\b\b\b\b\b\b\b\b\b\b\b\b\b\b\b\b\b\b\b\b\b\b\b\b\b\b\b\b\b\b\b\b\b\b\b\b\b\b\b\b\b\b\b\b\b\b\b\b\b\b\b\b\b\b\b\b\b\b\b\b\b\b\b\b\b\b\b\b\b\b\b\b\b\b\b\b\b\b\b\b\b\b\b\b\b\b\b\b\b\b\b\b\b\b\b\b\b\b\b\b\b\b\b\b\b\b\b\b\b\b\b\b\b\b\b\b\b\b\b\b\b\r",
      "412416/412416 [==============================] - 12s 28us/sample - loss: 170.2245 - reconstruction_loss: 88.8765 - KL_loss: 22.3826 - val_loss: 105.7839 - val_reconstruction_loss: 83.8162 - val_KL_loss: 21.9677 - lr: 5.0000e-04\n",
      "Epoch 610/1000\n"
     ]
    },
    {
     "name": "stdout",
     "output_type": "stream",
     "text": [
      "\r",
      "412416/412416 [==============================] - ETA: 0s - loss: 170.1761 - reconstruction_loss: 88.8881 - KL_loss: 22.3723"
     ]
    },
    {
     "name": "stdout",
     "output_type": "stream",
     "text": [
      "\b\b\b\b\b\b\b\b\b\b\b\b\b\b\b\b\b\b\b\b\b\b\b\b\b\b\b\b\b\b\b\b\b\b\b\b\b\b\b\b\b\b\b\b\b\b\b\b\b\b\b\b\b\b\b\b\b\b\b\b\b\b\b\b\b\b\b\b\b\b\b\b\b\b\b\b\b\b\b\b\b\b\b\b\b\b\b\b\b\b\b\b\b\b\b\b\b\b\b\b\b\b\b\b\b\b\b\b\b\b\b\b\b\b\b\b\b\b\b\b\b\b\b\r",
      "412416/412416 [==============================] - 12s 28us/sample - loss: 170.1761 - reconstruction_loss: 88.8881 - KL_loss: 22.3723 - val_loss: 105.8048 - val_reconstruction_loss: 83.8071 - val_KL_loss: 21.9978 - lr: 5.0000e-04\n",
      "Epoch 611/1000\n"
     ]
    },
    {
     "name": "stdout",
     "output_type": "stream",
     "text": [
      "\r",
      "412416/412416 [==============================] - ETA: 0s - loss: 170.1405 - reconstruction_loss: 88.8676 - KL_loss: 22.4006"
     ]
    },
    {
     "name": "stdout",
     "output_type": "stream",
     "text": [
      "\b\b\b\b\b\b\b\b\b\b\b\b\b\b\b\b\b\b\b\b\b\b\b\b\b\b\b\b\b\b\b\b\b\b\b\b\b\b\b\b\b\b\b\b\b\b\b\b\b\b\b\b\b\b\b\b\b\b\b\b\b\b\b\b\b\b\b\b\b\b\b\b\b\b\b\b\b\b\b\b\b\b\b\b\b\b\b\b\b\b\b\b\b\b\b\b\b\b\b\b\b\b\b\b\b\b\b\b\b\b\b\b\b\b\b\b\b\b\b\b\b\b\b\r",
      "412416/412416 [==============================] - 12s 28us/sample - loss: 170.1405 - reconstruction_loss: 88.8676 - KL_loss: 22.4006 - val_loss: 105.7874 - val_reconstruction_loss: 83.7789 - val_KL_loss: 22.0084 - lr: 5.0000e-04\n",
      "Epoch 612/1000\n"
     ]
    },
    {
     "name": "stdout",
     "output_type": "stream",
     "text": [
      "\r",
      "412416/412416 [==============================] - ETA: 0s - loss: 170.0972 - reconstruction_loss: 88.8440 - KL_loss: 22.4109"
     ]
    },
    {
     "name": "stdout",
     "output_type": "stream",
     "text": [
      "\b\b\b\b\b\b\b\b\b\b\b\b\b\b\b\b\b\b\b\b\b\b\b\b\b\b\b\b\b\b\b\b\b\b\b\b\b\b\b\b\b\b\b\b\b\b\b\b\b\b\b\b\b\b\b\b\b\b\b\b\b\b\b\b\b\b\b\b\b\b\b\b\b\b\b\b\b\b\b\b\b\b\b\b\b\b\b\b\b\b\b\b\b\b\b\b\b\b\b\b\b\b\b\b\b\b\b\b\b\b\b\b\b\b\b\b\b\b\b\b\b\b\b\r",
      "412416/412416 [==============================] - 12s 28us/sample - loss: 170.0972 - reconstruction_loss: 88.8440 - KL_loss: 22.4109 - val_loss: 105.7880 - val_reconstruction_loss: 83.8158 - val_KL_loss: 21.9722 - lr: 5.0000e-04\n",
      "Epoch 613/1000\n"
     ]
    },
    {
     "name": "stdout",
     "output_type": "stream",
     "text": [
      "\r",
      "412416/412416 [==============================] - ETA: 0s - loss: 170.0806 - reconstruction_loss: 88.8811 - KL_loss: 22.3764"
     ]
    },
    {
     "name": "stdout",
     "output_type": "stream",
     "text": [
      "\b\b\b\b\b\b\b\b\b\b\b\b\b\b\b\b\b\b\b\b\b\b\b\b\b\b\b\b\b\b\b\b\b\b\b\b\b\b\b\b\b\b\b\b\b\b\b\b\b\b\b\b\b\b\b\b\b\b\b\b\b\b\b\b\b\b\b\b\b\b\b\b\b\b\b\b\b\b\b\b\b\b\b\b\b\b\b\b\b\b\b\b\b\b\b\b\b\b\b\b\b\b\b\b\b\b\b\b\b\b\b\b\b\b\b\b\b\b\b\b\b\b\b\r",
      "412416/412416 [==============================] - 12s 28us/sample - loss: 170.0806 - reconstruction_loss: 88.8811 - KL_loss: 22.3764 - val_loss: 105.7751 - val_reconstruction_loss: 83.8239 - val_KL_loss: 21.9512 - lr: 5.0000e-04\n",
      "Epoch 614/1000\n"
     ]
    },
    {
     "name": "stdout",
     "output_type": "stream",
     "text": [
      "\r",
      "412416/412416 [==============================] - ETA: 0s - loss: 170.0745 - reconstruction_loss: 88.8995 - KL_loss: 22.3551"
     ]
    },
    {
     "name": "stdout",
     "output_type": "stream",
     "text": [
      "\b\b\b\b\b\b\b\b\b\b\b\b\b\b\b\b\b\b\b\b\b\b\b\b\b\b\b\b\b\b\b\b\b\b\b\b\b\b\b\b\b\b\b\b\b\b\b\b\b\b\b\b\b\b\b\b\b\b\b\b\b\b\b\b\b\b\b\b\b\b\b\b\b\b\b\b\b\b\b\b\b\b\b\b\b\b\b\b\b\b\b\b\b\b\b\b\b\b\b\b\b\b\b\b\b\b\b\b\b\b\b\b\b\b\b\b\b\b\b\b\b\b\b\r",
      "412416/412416 [==============================] - 12s 28us/sample - loss: 170.0745 - reconstruction_loss: 88.8995 - KL_loss: 22.3551 - val_loss: 105.7474 - val_reconstruction_loss: 83.7743 - val_KL_loss: 21.9732 - lr: 5.0000e-04\n",
      "Epoch 615/1000\n"
     ]
    },
    {
     "name": "stdout",
     "output_type": "stream",
     "text": [
      "\r",
      "412416/412416 [==============================] - ETA: 0s - loss: 170.0617 - reconstruction_loss: 88.8647 - KL_loss: 22.3758"
     ]
    },
    {
     "name": "stdout",
     "output_type": "stream",
     "text": [
      "\b\b\b\b\b\b\b\b\b\b\b\b\b\b\b\b\b\b\b\b\b\b\b\b\b\b\b\b\b\b\b\b\b\b\b\b\b\b\b\b\b\b\b\b\b\b\b\b\b\b\b\b\b\b\b\b\b\b\b\b\b\b\b\b\b\b\b\b\b\b\b\b\b\b\b\b\b\b\b\b\b\b\b\b\b\b\b\b\b\b\b\b\b\b\b\b\b\b\b\b\b\b\b\b\b\b\b\b\b\b\b\b\b\b\b\b\b\b\b\b\b\b\b\r",
      "412416/412416 [==============================] - 11s 28us/sample - loss: 170.0617 - reconstruction_loss: 88.8647 - KL_loss: 22.3758 - val_loss: 105.7906 - val_reconstruction_loss: 83.7985 - val_KL_loss: 21.9920 - lr: 5.0000e-04\n",
      "Epoch 616/1000\n"
     ]
    },
    {
     "name": "stdout",
     "output_type": "stream",
     "text": [
      "\r",
      "412416/412416 [==============================] - ETA: 0s - loss: 169.9854 - reconstruction_loss: 88.8307 - KL_loss: 22.3943"
     ]
    },
    {
     "name": "stdout",
     "output_type": "stream",
     "text": [
      "\b\b\b\b\b\b\b\b\b\b\b\b\b\b\b\b\b\b\b\b\b\b\b\b\b\b\b\b\b\b\b\b\b\b\b\b\b\b\b\b\b\b\b\b\b\b\b\b\b\b\b\b\b\b\b\b\b\b\b\b\b\b\b\b\b\b\b\b\b\b\b\b\b\b\b\b\b\b\b\b\b\b\b\b\b\b\b\b\b\b\b\b\b\b\b\b\b\b\b\b\b\b\b\b\b\b\b\b\b\b\b\b\b\b\b\b\b\b\b\b\b\b\b\r",
      "412416/412416 [==============================] - 17s 41us/sample - loss: 169.9854 - reconstruction_loss: 88.8307 - KL_loss: 22.3943 - val_loss: 105.8093 - val_reconstruction_loss: 83.8323 - val_KL_loss: 21.9770 - lr: 5.0000e-04\n",
      "Epoch 617/1000\n"
     ]
    },
    {
     "name": "stdout",
     "output_type": "stream",
     "text": [
      "\r",
      "412416/412416 [==============================] - ETA: 0s - loss: 170.0465 - reconstruction_loss: 88.8968 - KL_loss: 22.3807"
     ]
    },
    {
     "name": "stdout",
     "output_type": "stream",
     "text": [
      "\b\b\b\b\b\b\b\b\b\b\b\b\b\b\b\b\b\b\b\b\b\b\b\b\b\b\b\b\b\b\b\b\b\b\b\b\b\b\b\b\b\b\b\b\b\b\b\b\b\b\b\b\b\b\b\b\b\b\b\b\b\b\b\b\b\b\b\b\b\b\b\b\b\b\b\b\b\b\b\b\b\b\b\b\b\b\b\b\b\b\b\b\b\b\b\b\b\b\b\b\b\b\b\b\b\b\b\b\b\b\b\b\b\b\b\b\b\b\b\b\b\b\b\r",
      "412416/412416 [==============================] - 12s 28us/sample - loss: 170.0465 - reconstruction_loss: 88.8968 - KL_loss: 22.3807 - val_loss: 105.7975 - val_reconstruction_loss: 83.8252 - val_KL_loss: 21.9723 - lr: 5.0000e-04\n",
      "Epoch 618/1000\n"
     ]
    },
    {
     "name": "stdout",
     "output_type": "stream",
     "text": [
      "\r",
      "412416/412416 [==============================] - ETA: 0s - loss: 170.0200 - reconstruction_loss: 88.8678 - KL_loss: 22.3762"
     ]
    },
    {
     "name": "stdout",
     "output_type": "stream",
     "text": [
      "\b\b\b\b\b\b\b\b\b\b\b\b\b\b\b\b\b\b\b\b\b\b\b\b\b\b\b\b\b\b\b\b\b\b\b\b\b\b\b\b\b\b\b\b\b\b\b\b\b\b\b\b\b\b\b\b\b\b\b\b\b\b\b\b\b\b\b\b\b\b\b\b\b\b\b\b\b\b\b\b\b\b\b\b\b\b\b\b\b\b\b\b\b\b\b\b\b\b\b\b\b\b\b\b\b\b\b\b\b\b\b\b\b\b\b\b\b\b\b\b\b\b\b\r",
      "412416/412416 [==============================] - 12s 28us/sample - loss: 170.0200 - reconstruction_loss: 88.8678 - KL_loss: 22.3762 - val_loss: 105.7729 - val_reconstruction_loss: 83.7621 - val_KL_loss: 22.0108 - lr: 5.0000e-04\n",
      "Epoch 619/1000\n"
     ]
    },
    {
     "name": "stdout",
     "output_type": "stream",
     "text": [
      "\r",
      "412416/412416 [==============================] - ETA: 0s - loss: 169.9827 - reconstruction_loss: 88.8348 - KL_loss: 22.4136"
     ]
    },
    {
     "name": "stdout",
     "output_type": "stream",
     "text": [
      "\b\b\b\b\b\b\b\b\b\b\b\b\b\b\b\b\b\b\b\b\b\b\b\b\b\b\b\b\b\b\b\b\b\b\b\b\b\b\b\b\b\b\b\b\b\b\b\b\b\b\b\b\b\b\b\b\b\b\b\b\b\b\b\b\b\b\b\b\b\b\b\b\b\b\b\b\b\b\b\b\b\b\b\b\b\b\b\b\b\b\b\b\b\b\b\b\b\b\b\b\b\b\b\b\b\b\b\b\b\b\b\b\b\b\b\b\b\b\b\b\b\b\b\r",
      "412416/412416 [==============================] - 15s 35us/sample - loss: 169.9827 - reconstruction_loss: 88.8348 - KL_loss: 22.4136 - val_loss: 105.7604 - val_reconstruction_loss: 83.7112 - val_KL_loss: 22.0492 - lr: 5.0000e-04\n",
      "Epoch 620/1000\n"
     ]
    },
    {
     "name": "stdout",
     "output_type": "stream",
     "text": [
      "\r",
      "412416/412416 [==============================] - ETA: 0s - loss: 169.9822 - reconstruction_loss: 88.7823 - KL_loss: 22.4517"
     ]
    },
    {
     "name": "stdout",
     "output_type": "stream",
     "text": [
      "\b\b\b\b\b\b\b\b\b\b\b\b\b\b\b\b\b\b\b\b\b\b\b\b\b\b\b\b\b\b\b\b\b\b\b\b\b\b\b\b\b\b\b\b\b\b\b\b\b\b\b\b\b\b\b\b\b\b\b\b\b\b\b\b\b\b\b\b\b\b\b\b\b\b\b\b\b\b\b\b\b\b\b\b\b\b\b\b\b\b\b\b\b\b\b\b\b\b\b\b\b\b\b\b\b\b\b\b\b\b\b\b\b\b\b\b\b\b\b\b\b\b\b\r",
      "412416/412416 [==============================] - 20s 48us/sample - loss: 169.9822 - reconstruction_loss: 88.7823 - KL_loss: 22.4517 - val_loss: 105.7558 - val_reconstruction_loss: 83.7214 - val_KL_loss: 22.0343 - lr: 5.0000e-04\n",
      "Epoch 621/1000\n"
     ]
    },
    {
     "name": "stdout",
     "output_type": "stream",
     "text": [
      "\r",
      "412416/412416 [==============================] - ETA: 0s - loss: 169.8864 - reconstruction_loss: 88.7864 - KL_loss: 22.4380"
     ]
    },
    {
     "name": "stdout",
     "output_type": "stream",
     "text": [
      "\b\b\b\b\b\b\b\b\b\b\b\b\b\b\b\b\b\b\b\b\b\b\b\b\b\b\b\b\b\b\b\b\b\b\b\b\b\b\b\b\b\b\b\b\b\b\b\b\b\b\b\b\b\b\b\b\b\b\b\b\b\b\b\b\b\b\b\b\b\b\b\b\b\b\b\b\b\b\b\b\b\b\b\b\b\b\b\b\b\b\b\b\b\b\b\b\b\b\b\b\b\b\b\b\b\b\b\b\b\b\b\b\b\b\b\b\b\b\b\b\b\b\b\r",
      "412416/412416 [==============================] - 12s 30us/sample - loss: 169.8864 - reconstruction_loss: 88.7864 - KL_loss: 22.4380 - val_loss: 105.7273 - val_reconstruction_loss: 83.7258 - val_KL_loss: 22.0015 - lr: 5.0000e-04\n",
      "Epoch 622/1000\n"
     ]
    },
    {
     "name": "stdout",
     "output_type": "stream",
     "text": [
      "\r",
      "412416/412416 [==============================] - ETA: 0s - loss: 169.9400 - reconstruction_loss: 88.8086 - KL_loss: 22.4059"
     ]
    },
    {
     "name": "stdout",
     "output_type": "stream",
     "text": [
      "\b\b\b\b\b\b\b\b\b\b\b\b\b\b\b\b\b\b\b\b\b\b\b\b\b\b\b\b\b\b\b\b\b\b\b\b\b\b\b\b\b\b\b\b\b\b\b\b\b\b\b\b\b\b\b\b\b\b\b\b\b\b\b\b\b\b\b\b\b\b\b\b\b\b\b\b\b\b\b\b\b\b\b\b\b\b\b\b\b\b\b\b\b\b\b\b\b\b\b\b\b\b\b\b\b\b\b\b\b\b\b\b\b\b\b\b\b\b\b\b\b\b\b\r",
      "412416/412416 [==============================] - 12s 29us/sample - loss: 169.9400 - reconstruction_loss: 88.8086 - KL_loss: 22.4059 - val_loss: 105.7806 - val_reconstruction_loss: 83.7484 - val_KL_loss: 22.0323 - lr: 5.0000e-04\n",
      "Epoch 623/1000\n"
     ]
    },
    {
     "name": "stdout",
     "output_type": "stream",
     "text": [
      "\r",
      "412416/412416 [==============================] - ETA: 0s - loss: 169.9445 - reconstruction_loss: 88.8173 - KL_loss: 22.4349"
     ]
    },
    {
     "name": "stdout",
     "output_type": "stream",
     "text": [
      "\b\b\b\b\b\b\b\b\b\b\b\b\b\b\b\b\b\b\b\b\b\b\b\b\b\b\b\b\b\b\b\b\b\b\b\b\b\b\b\b\b\b\b\b\b\b\b\b\b\b\b\b\b\b\b\b\b\b\b\b\b\b\b\b\b\b\b\b\b\b\b\b\b\b\b\b\b\b\b\b\b\b\b\b\b\b\b\b\b\b\b\b\b\b\b\b\b\b\b\b\b\b\b\b\b\b\b\b\b\b\b\b\b\b\b\b\b\b\b\b\b\b\b\r",
      "412416/412416 [==============================] - 12s 28us/sample - loss: 169.9445 - reconstruction_loss: 88.8173 - KL_loss: 22.4349 - val_loss: 105.7397 - val_reconstruction_loss: 83.7045 - val_KL_loss: 22.0352 - lr: 5.0000e-04\n",
      "Epoch 624/1000\n"
     ]
    },
    {
     "name": "stdout",
     "output_type": "stream",
     "text": [
      "\r",
      "412416/412416 [==============================] - ETA: 0s - loss: 169.8710 - reconstruction_loss: 88.7637 - KL_loss: 22.4377"
     ]
    },
    {
     "name": "stdout",
     "output_type": "stream",
     "text": [
      "\b\b\b\b\b\b\b\b\b\b\b\b\b\b\b\b\b\b\b\b\b\b\b\b\b\b\b\b\b\b\b\b\b\b\b\b\b\b\b\b\b\b\b\b\b\b\b\b\b\b\b\b\b\b\b\b\b\b\b\b\b\b\b\b\b\b\b\b\b\b\b\b\b\b\b\b\b\b\b\b\b\b\b\b\b\b\b\b\b\b\b\b\b\b\b\b\b\b\b\b\b\b\b\b\b\b\b\b\b\b\b\b\b\b\b\b\b\b\b\b\b\b\b\r",
      "412416/412416 [==============================] - 12s 30us/sample - loss: 169.8710 - reconstruction_loss: 88.7637 - KL_loss: 22.4377 - val_loss: 105.7818 - val_reconstruction_loss: 83.7865 - val_KL_loss: 21.9954 - lr: 5.0000e-04\n",
      "Epoch 625/1000\n"
     ]
    },
    {
     "name": "stdout",
     "output_type": "stream",
     "text": [
      "\r",
      "412416/412416 [==============================] - ETA: 0s - loss: 169.9627 - reconstruction_loss: 88.8639 - KL_loss: 22.3997"
     ]
    },
    {
     "name": "stdout",
     "output_type": "stream",
     "text": [
      "\b\b\b\b\b\b\b\b\b\b\b\b\b\b\b\b\b\b\b\b\b\b\b\b\b\b\b\b\b\b\b\b\b\b\b\b\b\b\b\b\b\b\b\b\b\b\b\b\b\b\b\b\b\b\b\b\b\b\b\b\b\b\b\b\b\b\b\b\b\b\b\b\b\b\b\b\b\b\b\b\b\b\b\b\b\b\b\b\b\b\b\b\b\b\b\b\b\b\b\b\b\b\b\b\b\b\b\b\b\b\b\b\b\b\b\b\b\b\b\b\b\b\b\r",
      "412416/412416 [==============================] - 12s 28us/sample - loss: 169.9627 - reconstruction_loss: 88.8639 - KL_loss: 22.3997 - val_loss: 105.8043 - val_reconstruction_loss: 83.8043 - val_KL_loss: 22.0001 - lr: 5.0000e-04\n",
      "Epoch 626/1000\n"
     ]
    },
    {
     "name": "stdout",
     "output_type": "stream",
     "text": [
      "\r",
      "412416/412416 [==============================] - ETA: 0s - loss: 169.9115 - reconstruction_loss: 88.8567 - KL_loss: 22.4045"
     ]
    },
    {
     "name": "stdout",
     "output_type": "stream",
     "text": [
      "\b\b\b\b\b\b\b\b\b\b\b\b\b\b\b\b\b\b\b\b\b\b\b\b\b\b\b\b\b\b\b\b\b\b\b\b\b\b\b\b\b\b\b\b\b\b\b\b\b\b\b\b\b\b\b\b\b\b\b\b\b\b\b\b\b\b\b\b\b\b\b\b\b\b\b\b\b\b\b\b\b\b\b\b\b\b\b\b\b\b\b\b\b\b\b\b\b\b\b\b\b\b\b\b\b\b\b\b\b\b\b\b\b\b\b\b\b\b\b\b\b\b\b\r",
      "412416/412416 [==============================] - 11s 28us/sample - loss: 169.9115 - reconstruction_loss: 88.8567 - KL_loss: 22.4045 - val_loss: 105.7247 - val_reconstruction_loss: 83.6745 - val_KL_loss: 22.0502 - lr: 5.0000e-04\n",
      "Epoch 627/1000\n"
     ]
    },
    {
     "name": "stdout",
     "output_type": "stream",
     "text": [
      "\r",
      "412416/412416 [==============================] - ETA: 0s - loss: 169.8043 - reconstruction_loss: 88.7466 - KL_loss: 22.4524"
     ]
    },
    {
     "name": "stdout",
     "output_type": "stream",
     "text": [
      "\b\b\b\b\b\b\b\b\b\b\b\b\b\b\b\b\b\b\b\b\b\b\b\b\b\b\b\b\b\b\b\b\b\b\b\b\b\b\b\b\b\b\b\b\b\b\b\b\b\b\b\b\b\b\b\b\b\b\b\b\b\b\b\b\b\b\b\b\b\b\b\b\b\b\b\b\b\b\b\b\b\b\b\b\b\b\b\b\b\b\b\b\b\b\b\b\b\b\b\b\b\b\b\b\b\b\b\b\b\b\b\b\b\b\b\b\b\b\b\b\b\b\b\r",
      "412416/412416 [==============================] - 11s 27us/sample - loss: 169.8043 - reconstruction_loss: 88.7466 - KL_loss: 22.4524 - val_loss: 105.7357 - val_reconstruction_loss: 83.6794 - val_KL_loss: 22.0564 - lr: 5.0000e-04\n",
      "Epoch 628/1000\n"
     ]
    },
    {
     "name": "stdout",
     "output_type": "stream",
     "text": [
      "\r",
      "412416/412416 [==============================] - ETA: 0s - loss: 169.8420 - reconstruction_loss: 88.7475 - KL_loss: 22.4580"
     ]
    },
    {
     "name": "stdout",
     "output_type": "stream",
     "text": [
      "\b\b\b\b\b\b\b\b\b\b\b\b\b\b\b\b\b\b\b\b\b\b\b\b\b\b\b\b\b\b\b\b\b\b\b\b\b\b\b\b\b\b\b\b\b\b\b\b\b\b\b\b\b\b\b\b\b\b\b\b\b\b\b\b\b\b\b\b\b\b\b\b\b\b\b\b\b\b\b\b\b\b\b\b\b\b\b\b\b\b\b\b\b\b\b\b\b\b\b\b\b\b\b\b\b\b\b\b\b\b\b\b\b\b\b\b\b\b\b\b\b\b\b\r",
      "412416/412416 [==============================] - 11s 27us/sample - loss: 169.8420 - reconstruction_loss: 88.7475 - KL_loss: 22.4580 - val_loss: 105.7392 - val_reconstruction_loss: 83.7351 - val_KL_loss: 22.0041 - lr: 5.0000e-04\n",
      "Epoch 629/1000\n"
     ]
    },
    {
     "name": "stdout",
     "output_type": "stream",
     "text": [
      "\r",
      "412416/412416 [==============================] - ETA: 0s - loss: 169.7460 - reconstruction_loss: 88.7942 - KL_loss: 22.4085"
     ]
    },
    {
     "name": "stdout",
     "output_type": "stream",
     "text": [
      "\b\b\b\b\b\b\b\b\b\b\b\b\b\b\b\b\b\b\b\b\b\b\b\b\b\b\b\b\b\b\b\b\b\b\b\b\b\b\b\b\b\b\b\b\b\b\b\b\b\b\b\b\b\b\b\b\b\b\b\b\b\b\b\b\b\b\b\b\b\b\b\b\b\b\b\b\b\b\b\b\b\b\b\b\b\b\b\b\b\b\b\b\b\b\b\b\b\b\b\b\b\b\b\b\b\b\b\b\b\b\b\b\b\b\b\b\b\b\b\b\b\b\b\r",
      "412416/412416 [==============================] - 11s 27us/sample - loss: 169.7460 - reconstruction_loss: 88.7942 - KL_loss: 22.4085 - val_loss: 105.7151 - val_reconstruction_loss: 83.7314 - val_KL_loss: 21.9837 - lr: 5.0000e-04\n",
      "Epoch 630/1000\n"
     ]
    },
    {
     "name": "stdout",
     "output_type": "stream",
     "text": [
      "\r",
      "412416/412416 [==============================] - ETA: 0s - loss: 169.7045 - reconstruction_loss: 88.7820 - KL_loss: 22.3879"
     ]
    },
    {
     "name": "stdout",
     "output_type": "stream",
     "text": [
      "\b\b\b\b\b\b\b\b\b\b\b\b\b\b\b\b\b\b\b\b\b\b\b\b\b\b\b\b\b\b\b\b\b\b\b\b\b\b\b\b\b\b\b\b\b\b\b\b\b\b\b\b\b\b\b\b\b\b\b\b\b\b\b\b\b\b\b\b\b\b\b\b\b\b\b\b\b\b\b\b\b\b\b\b\b\b\b\b\b\b\b\b\b\b\b\b\b\b\b\b\b\b\b\b\b\b\b\b\b\b\b\b\b\b\b\b\b\b\b\b\b\b\b\r",
      "412416/412416 [==============================] - 11s 28us/sample - loss: 169.7045 - reconstruction_loss: 88.7820 - KL_loss: 22.3879 - val_loss: 105.7850 - val_reconstruction_loss: 83.7411 - val_KL_loss: 22.0438 - lr: 5.0000e-04\n",
      "Epoch 631/1000\n"
     ]
    },
    {
     "name": "stdout",
     "output_type": "stream",
     "text": [
      "\r",
      "412416/412416 [==============================] - ETA: 0s - loss: 169.8354 - reconstruction_loss: 88.8038 - KL_loss: 22.4440"
     ]
    },
    {
     "name": "stdout",
     "output_type": "stream",
     "text": [
      "\b\b\b\b\b\b\b\b\b\b\b\b\b\b\b\b\b\b\b\b\b\b\b\b\b\b\b\b\b\b\b\b\b\b\b\b\b\b\b\b\b\b\b\b\b\b\b\b\b\b\b\b\b\b\b\b\b\b\b\b\b\b\b\b\b\b\b\b\b\b\b\b\b\b\b\b\b\b\b\b\b\b\b\b\b\b\b\b\b\b\b\b\b\b\b\b\b\b\b\b\b\b\b\b\b\b\b\b\b\b\b\b\b\b\b\b\b\b\b\b\b\b\b\r",
      "412416/412416 [==============================] - 12s 28us/sample - loss: 169.8354 - reconstruction_loss: 88.8038 - KL_loss: 22.4440 - val_loss: 105.7544 - val_reconstruction_loss: 83.7048 - val_KL_loss: 22.0497 - lr: 5.0000e-04\n",
      "Epoch 632/1000\n"
     ]
    },
    {
     "name": "stdout",
     "output_type": "stream",
     "text": [
      "\r",
      "412416/412416 [==============================] - ETA: 0s - loss: 169.7091 - reconstruction_loss: 88.7504 - KL_loss: 22.4496"
     ]
    },
    {
     "name": "stdout",
     "output_type": "stream",
     "text": [
      "\b\b\b\b\b\b\b\b\b\b\b\b\b\b\b\b\b\b\b\b\b\b\b\b\b\b\b\b\b\b\b\b\b\b\b\b\b\b\b\b\b\b\b\b\b\b\b\b\b\b\b\b\b\b\b\b\b\b\b\b\b\b\b\b\b\b\b\b\b\b\b\b\b\b\b\b\b\b\b\b\b\b\b\b\b\b\b\b\b\b\b\b\b\b\b\b\b\b\b\b\b\b\b\b\b\b\b\b\b\b\b\b\b\b\b\b\b\b\b\b\b\b\b\r",
      "412416/412416 [==============================] - 11s 28us/sample - loss: 169.7091 - reconstruction_loss: 88.7504 - KL_loss: 22.4496 - val_loss: 105.7459 - val_reconstruction_loss: 83.7633 - val_KL_loss: 21.9826 - lr: 5.0000e-04\n",
      "Epoch 633/1000\n"
     ]
    },
    {
     "name": "stdout",
     "output_type": "stream",
     "text": [
      "\r",
      "412416/412416 [==============================] - ETA: 0s - loss: 169.7332 - reconstruction_loss: 88.8228 - KL_loss: 22.3859"
     ]
    },
    {
     "name": "stdout",
     "output_type": "stream",
     "text": [
      "\b\b\b\b\b\b\b\b\b\b\b\b\b\b\b\b\b\b\b\b\b\b\b\b\b\b\b\b\b\b\b\b\b\b\b\b\b\b\b\b\b\b\b\b\b\b\b\b\b\b\b\b\b\b\b\b\b\b\b\b\b\b\b\b\b\b\b\b\b\b\b\b\b\b\b\b\b\b\b\b\b\b\b\b\b\b\b\b\b\b\b\b\b\b\b\b\b\b\b\b\b\b\b\b\b\b\b\b\b\b\b\b\b\b\b\b\b\b\b\b\b\b\b\r",
      "412416/412416 [==============================] - 11s 28us/sample - loss: 169.7332 - reconstruction_loss: 88.8228 - KL_loss: 22.3859 - val_loss: 105.7433 - val_reconstruction_loss: 83.7612 - val_KL_loss: 21.9821 - lr: 5.0000e-04\n",
      "Epoch 634/1000\n"
     ]
    },
    {
     "name": "stdout",
     "output_type": "stream",
     "text": [
      "\r",
      "412416/412416 [==============================] - ETA: 0s - loss: 169.7311 - reconstruction_loss: 88.8355 - KL_loss: 22.3861"
     ]
    },
    {
     "name": "stdout",
     "output_type": "stream",
     "text": [
      "\b\b\b\b\b\b\b\b\b\b\b\b\b\b\b\b\b\b\b\b\b\b\b\b\b\b\b\b\b\b\b\b\b\b\b\b\b\b\b\b\b\b\b\b\b\b\b\b\b\b\b\b\b\b\b\b\b\b\b\b\b\b\b\b\b\b\b\b\b\b\b\b\b\b\b\b\b\b\b\b\b\b\b\b\b\b\b\b\b\b\b\b\b\b\b\b\b\b\b\b\b\b\b\b\b\b\b\b\b\b\b\b\b\b\b\b\b\b\b\b\b\b\b\r",
      "412416/412416 [==============================] - 11s 28us/sample - loss: 169.7311 - reconstruction_loss: 88.8355 - KL_loss: 22.3861 - val_loss: 105.7167 - val_reconstruction_loss: 83.6692 - val_KL_loss: 22.0475 - lr: 5.0000e-04\n",
      "Epoch 635/1000\n"
     ]
    },
    {
     "name": "stdout",
     "output_type": "stream",
     "text": [
      "\r",
      "412416/412416 [==============================] - ETA: 0s - loss: 169.6668 - reconstruction_loss: 88.7409 - KL_loss: 22.4500"
     ]
    },
    {
     "name": "stdout",
     "output_type": "stream",
     "text": [
      "\b\b\b\b\b\b\b\b\b\b\b\b\b\b\b\b\b\b\b\b\b\b\b\b\b\b\b\b\b\b\b\b\b\b\b\b\b\b\b\b\b\b\b\b\b\b\b\b\b\b\b\b\b\b\b\b\b\b\b\b\b\b\b\b\b\b\b\b\b\b\b\b\b\b\b\b\b\b\b\b\b\b\b\b\b\b\b\b\b\b\b\b\b\b\b\b\b\b\b\b\b\b\b\b\b\b\b\b\b\b\b\b\b\b\b\b\b\b\b\b\b\b\b\r",
      "412416/412416 [==============================] - 11s 28us/sample - loss: 169.6668 - reconstruction_loss: 88.7409 - KL_loss: 22.4500 - val_loss: 105.6859 - val_reconstruction_loss: 83.6050 - val_KL_loss: 22.0808 - lr: 5.0000e-04\n",
      "Epoch 636/1000\n"
     ]
    },
    {
     "name": "stdout",
     "output_type": "stream",
     "text": [
      "\r",
      "412416/412416 [==============================] - ETA: 0s - loss: 169.5782 - reconstruction_loss: 88.6847 - KL_loss: 22.4835"
     ]
    },
    {
     "name": "stdout",
     "output_type": "stream",
     "text": [
      "\b\b\b\b\b\b\b\b\b\b\b\b\b\b\b\b\b\b\b\b\b\b\b\b\b\b\b\b\b\b\b\b\b\b\b\b\b\b\b\b\b\b\b\b\b\b\b\b\b\b\b\b\b\b\b\b\b\b\b\b\b\b\b\b\b\b\b\b\b\b\b\b\b\b\b\b\b\b\b\b\b\b\b\b\b\b\b\b\b\b\b\b\b\b\b\b\b\b\b\b\b\b\b\b\b\b\b\b\b\b\b\b\b\b\b\b\b\b\b\b\b\b\b\r",
      "412416/412416 [==============================] - 12s 28us/sample - loss: 169.5782 - reconstruction_loss: 88.6847 - KL_loss: 22.4835 - val_loss: 105.7275 - val_reconstruction_loss: 83.6990 - val_KL_loss: 22.0285 - lr: 5.0000e-04\n",
      "Epoch 637/1000\n"
     ]
    },
    {
     "name": "stdout",
     "output_type": "stream",
     "text": [
      "\r",
      "412416/412416 [==============================] - ETA: 0s - loss: 169.5981 - reconstruction_loss: 88.7561 - KL_loss: 22.4320"
     ]
    },
    {
     "name": "stdout",
     "output_type": "stream",
     "text": [
      "\b\b\b\b\b\b\b\b\b\b\b\b\b\b\b\b\b\b\b\b\b\b\b\b\b\b\b\b\b\b\b\b\b\b\b\b\b\b\b\b\b\b\b\b\b\b\b\b\b\b\b\b\b\b\b\b\b\b\b\b\b\b\b\b\b\b\b\b\b\b\b\b\b\b\b\b\b\b\b\b\b\b\b\b\b\b\b\b\b\b\b\b\b\b\b\b\b\b\b\b\b\b\b\b\b\b\b\b\b\b\b\b\b\b\b\b\b\b\b\b\b\b\b\r",
      "412416/412416 [==============================] - 11s 28us/sample - loss: 169.5981 - reconstruction_loss: 88.7561 - KL_loss: 22.4320 - val_loss: 105.7132 - val_reconstruction_loss: 83.6913 - val_KL_loss: 22.0219 - lr: 5.0000e-04\n",
      "Epoch 638/1000\n"
     ]
    },
    {
     "name": "stdout",
     "output_type": "stream",
     "text": [
      "\r",
      "412416/412416 [==============================] - ETA: 0s - loss: 169.5455 - reconstruction_loss: 88.7421 - KL_loss: 22.4249"
     ]
    },
    {
     "name": "stdout",
     "output_type": "stream",
     "text": [
      "\b\b\b\b\b\b\b\b\b\b\b\b\b\b\b\b\b\b\b\b\b\b\b\b\b\b\b\b\b\b\b\b\b\b\b\b\b\b\b\b\b\b\b\b\b\b\b\b\b\b\b\b\b\b\b\b\b\b\b\b\b\b\b\b\b\b\b\b\b\b\b\b\b\b\b\b\b\b\b\b\b\b\b\b\b\b\b\b\b\b\b\b\b\b\b\b\b\b\b\b\b\b\b\b\b\b\b\b\b\b\b\b\b\b\b\b\b\b\b\b\b\b\b\r",
      "412416/412416 [==============================] - 11s 28us/sample - loss: 169.5455 - reconstruction_loss: 88.7421 - KL_loss: 22.4249 - val_loss: 105.7882 - val_reconstruction_loss: 83.6811 - val_KL_loss: 22.1072 - lr: 5.0000e-04\n",
      "Epoch 639/1000\n"
     ]
    },
    {
     "name": "stdout",
     "output_type": "stream",
     "text": [
      "\r",
      "412416/412416 [==============================] - ETA: 0s - loss: 169.6536 - reconstruction_loss: 88.7259 - KL_loss: 22.5081"
     ]
    },
    {
     "name": "stdout",
     "output_type": "stream",
     "text": [
      "\b\b\b\b\b\b\b\b\b\b\b\b\b\b\b\b\b\b\b\b\b\b\b\b\b\b\b\b\b\b\b\b\b\b\b\b\b\b\b\b\b\b\b\b\b\b\b\b\b\b\b\b\b\b\b\b\b\b\b\b\b\b\b\b\b\b\b\b\b\b\b\b\b\b\b\b\b\b\b\b\b\b\b\b\b\b\b\b\b\b\b\b\b\b\b\b\b\b\b\b\b\b\b\b\b\b\b\b\b\b\b\b\b\b\b\b\b\b\b\b\b\b\b\r",
      "412416/412416 [==============================] - 12s 28us/sample - loss: 169.6536 - reconstruction_loss: 88.7259 - KL_loss: 22.5081 - val_loss: 105.7629 - val_reconstruction_loss: 83.6712 - val_KL_loss: 22.0917 - lr: 5.0000e-04\n",
      "Epoch 640/1000\n"
     ]
    },
    {
     "name": "stdout",
     "output_type": "stream",
     "text": [
      "\r",
      "412416/412416 [==============================] - ETA: 0s - loss: 169.7058 - reconstruction_loss: 88.7387 - KL_loss: 22.4920"
     ]
    },
    {
     "name": "stdout",
     "output_type": "stream",
     "text": [
      "\b\b\b\b\b\b\b\b\b\b\b\b\b\b\b\b\b\b\b\b\b\b\b\b\b\b\b\b\b\b\b\b\b\b\b\b\b\b\b\b\b\b\b\b\b\b\b\b\b\b\b\b\b\b\b\b\b\b\b\b\b\b\b\b\b\b\b\b\b\b\b\b\b\b\b\b\b\b\b\b\b\b\b\b\b\b\b\b\b\b\b\b\b\b\b\b\b\b\b\b\b\b\b\b\b\b\b\b\b\b\b\b\b\b\b\b\b\b\b\b\b\b\b\r",
      "412416/412416 [==============================] - 11s 27us/sample - loss: 169.7058 - reconstruction_loss: 88.7387 - KL_loss: 22.4920 - val_loss: 105.7018 - val_reconstruction_loss: 83.6932 - val_KL_loss: 22.0086 - lr: 5.0000e-04\n",
      "Epoch 641/1000\n"
     ]
    },
    {
     "name": "stdout",
     "output_type": "stream",
     "text": [
      "\r",
      "412416/412416 [==============================] - ETA: 0s - loss: 169.5619 - reconstruction_loss: 88.7562 - KL_loss: 22.4102"
     ]
    },
    {
     "name": "stdout",
     "output_type": "stream",
     "text": [
      "\b\b\b\b\b\b\b\b\b\b\b\b\b\b\b\b\b\b\b\b\b\b\b\b\b\b\b\b\b\b\b\b\b\b\b\b\b\b\b\b\b\b\b\b\b\b\b\b\b\b\b\b\b\b\b\b\b\b\b\b\b\b\b\b\b\b\b\b\b\b\b\b\b\b\b\b\b\b\b\b\b\b\b\b\b\b\b\b\b\b\b\b\b\b\b\b\b\b\b\b\b\b\b\b\b\b\b\b\b\b\b\b\b\b\b\b\b\b\b\b\b\b\b\r",
      "412416/412416 [==============================] - 11s 28us/sample - loss: 169.5619 - reconstruction_loss: 88.7562 - KL_loss: 22.4102 - val_loss: 105.6823 - val_reconstruction_loss: 83.6840 - val_KL_loss: 21.9983 - lr: 5.0000e-04\n",
      "Epoch 642/1000\n"
     ]
    },
    {
     "name": "stdout",
     "output_type": "stream",
     "text": [
      "\r",
      "412416/412416 [==============================] - ETA: 0s - loss: 169.5322 - reconstruction_loss: 88.7815 - KL_loss: 22.4002"
     ]
    },
    {
     "name": "stdout",
     "output_type": "stream",
     "text": [
      "\b\b\b\b\b\b\b\b\b\b\b\b\b\b\b\b\b\b\b\b\b\b\b\b\b\b\b\b\b\b\b\b\b\b\b\b\b\b\b\b\b\b\b\b\b\b\b\b\b\b\b\b\b\b\b\b\b\b\b\b\b\b\b\b\b\b\b\b\b\b\b\b\b\b\b\b\b\b\b\b\b\b\b\b\b\b\b\b\b\b\b\b\b\b\b\b\b\b\b\b\b\b\b\b\b\b\b\b\b\b\b\b\b\b\b\b\b\b\b\b\b\b\b\r",
      "412416/412416 [==============================] - 11s 27us/sample - loss: 169.5322 - reconstruction_loss: 88.7815 - KL_loss: 22.4002 - val_loss: 105.7210 - val_reconstruction_loss: 83.6477 - val_KL_loss: 22.0733 - lr: 5.0000e-04\n",
      "Epoch 643/1000\n"
     ]
    },
    {
     "name": "stdout",
     "output_type": "stream",
     "text": [
      "\r",
      "412416/412416 [==============================] - ETA: 0s - loss: 169.5330 - reconstruction_loss: 88.7008 - KL_loss: 22.4737"
     ]
    },
    {
     "name": "stdout",
     "output_type": "stream",
     "text": [
      "\b\b\b\b\b\b\b\b\b\b\b\b\b\b\b\b\b\b\b\b\b\b\b\b\b\b\b\b\b\b\b\b\b\b\b\b\b\b\b\b\b\b\b\b\b\b\b\b\b\b\b\b\b\b\b\b\b\b\b\b\b\b\b\b\b\b\b\b\b\b\b\b\b\b\b\b\b\b\b\b\b\b\b\b\b\b\b\b\b\b\b\b\b\b\b\b\b\b\b\b\b\b\b\b\b\b\b\b\b\b\b\b\b\b\b\b\b\b\b\b\b\b\b\r",
      "412416/412416 [==============================] - 11s 28us/sample - loss: 169.5330 - reconstruction_loss: 88.7008 - KL_loss: 22.4737 - val_loss: 105.7044 - val_reconstruction_loss: 83.6353 - val_KL_loss: 22.0691 - lr: 5.0000e-04\n",
      "Epoch 644/1000\n"
     ]
    },
    {
     "name": "stdout",
     "output_type": "stream",
     "text": [
      "\r",
      "412416/412416 [==============================] - ETA: 0s - loss: 169.4778 - reconstruction_loss: 88.6823 - KL_loss: 22.4701"
     ]
    },
    {
     "name": "stdout",
     "output_type": "stream",
     "text": [
      "\b\b\b\b\b\b\b\b\b\b\b\b\b\b\b\b\b\b\b\b\b\b\b\b\b\b\b\b\b\b\b\b\b\b\b\b\b\b\b\b\b\b\b\b\b\b\b\b\b\b\b\b\b\b\b\b\b\b\b\b\b\b\b\b\b\b\b\b\b\b\b\b\b\b\b\b\b\b\b\b\b\b\b\b\b\b\b\b\b\b\b\b\b\b\b\b\b\b\b\b\b\b\b\b\b\b\b\b\b\b\b\b\b\b\b\b\b\b\b\b\b\b\b\r",
      "412416/412416 [==============================] - 12s 28us/sample - loss: 169.4778 - reconstruction_loss: 88.6823 - KL_loss: 22.4701 - val_loss: 105.7404 - val_reconstruction_loss: 83.7280 - val_KL_loss: 22.0124 - lr: 5.0000e-04\n",
      "Epoch 645/1000\n"
     ]
    },
    {
     "name": "stdout",
     "output_type": "stream",
     "text": [
      "\r",
      "412416/412416 [==============================] - ETA: 0s - loss: 169.5269 - reconstruction_loss: 88.7654 - KL_loss: 22.4155"
     ]
    },
    {
     "name": "stdout",
     "output_type": "stream",
     "text": [
      "\b\b\b\b\b\b\b\b\b\b\b\b\b\b\b\b\b\b\b\b\b\b\b\b\b\b\b\b\b\b\b\b\b\b\b\b\b\b\b\b\b\b\b\b\b\b\b\b\b\b\b\b\b\b\b\b\b\b\b\b\b\b\b\b\b\b\b\b\b\b\b\b\b\b\b\b\b\b\b\b\b\b\b\b\b\b\b\b\b\b\b\b\b\b\b\b\b\b\b\b\b\b\b\b\b\b\b\b\b\b\b\b\b\b\b\b\b\b\b\b\b\b\b\r",
      "412416/412416 [==============================] - 11s 28us/sample - loss: 169.5269 - reconstruction_loss: 88.7654 - KL_loss: 22.4155 - val_loss: 105.7136 - val_reconstruction_loss: 83.6795 - val_KL_loss: 22.0341 - lr: 5.0000e-04\n",
      "Epoch 646/1000\n"
     ]
    },
    {
     "name": "stdout",
     "output_type": "stream",
     "text": [
      "\r",
      "412416/412416 [==============================] - ETA: 0s - loss: 169.4141 - reconstruction_loss: 88.7347 - KL_loss: 22.4372"
     ]
    },
    {
     "name": "stdout",
     "output_type": "stream",
     "text": [
      "\b\b\b\b\b\b\b\b\b\b\b\b\b\b\b\b\b\b\b\b\b\b\b\b\b\b\b\b\b\b\b\b\b\b\b\b\b\b\b\b\b\b\b\b\b\b\b\b\b\b\b\b\b\b\b\b\b\b\b\b\b\b\b\b\b\b\b\b\b\b\b\b\b\b\b\b\b\b\b\b\b\b\b\b\b\b\b\b\b\b\b\b\b\b\b\b\b\b\b\b\b\b\b\b\b\b\b\b\b\b\b\b\b\b\b\b\b\b\b\b\b\b\b\r",
      "412416/412416 [==============================] - 11s 28us/sample - loss: 169.4141 - reconstruction_loss: 88.7347 - KL_loss: 22.4372 - val_loss: 105.7343 - val_reconstruction_loss: 83.6310 - val_KL_loss: 22.1033 - lr: 5.0000e-04\n",
      "Epoch 647/1000\n"
     ]
    },
    {
     "name": "stdout",
     "output_type": "stream",
     "text": [
      "\r",
      "412416/412416 [==============================] - ETA: 0s - loss: 169.4207 - reconstruction_loss: 88.6796 - KL_loss: 22.5042"
     ]
    },
    {
     "name": "stdout",
     "output_type": "stream",
     "text": [
      "\b\b\b\b\b\b\b\b\b\b\b\b\b\b\b\b\b\b\b\b\b\b\b\b\b\b\b\b\b\b\b\b\b\b\b\b\b\b\b\b\b\b\b\b\b\b\b\b\b\b\b\b\b\b\b\b\b\b\b\b\b\b\b\b\b\b\b\b\b\b\b\b\b\b\b\b\b\b\b\b\b\b\b\b\b\b\b\b\b\b\b\b\b\b\b\b\b\b\b\b\b\b\b\b\b\b\b\b\b\b\b\b\b\b\b\b\b\b\b\b\b\b\b\r",
      "412416/412416 [==============================] - 11s 28us/sample - loss: 169.4207 - reconstruction_loss: 88.6796 - KL_loss: 22.5042 - val_loss: 105.7097 - val_reconstruction_loss: 83.6201 - val_KL_loss: 22.0896 - lr: 5.0000e-04\n",
      "Epoch 648/1000\n"
     ]
    },
    {
     "name": "stdout",
     "output_type": "stream",
     "text": [
      "\r",
      "412416/412416 [==============================] - ETA: 0s - loss: 169.4523 - reconstruction_loss: 88.6838 - KL_loss: 22.4896"
     ]
    },
    {
     "name": "stdout",
     "output_type": "stream",
     "text": [
      "\b\b\b\b\b\b\b\b\b\b\b\b\b\b\b\b\b\b\b\b\b\b\b\b\b\b\b\b\b\b\b\b\b\b\b\b\b\b\b\b\b\b\b\b\b\b\b\b\b\b\b\b\b\b\b\b\b\b\b\b\b\b\b\b\b\b\b\b\b\b\b\b\b\b\b\b\b\b\b\b\b\b\b\b\b\b\b\b\b\b\b\b\b\b\b\b\b\b\b\b\b\b\b\b\b\b\b\b\b\b\b\b\b\b\b\b\b\b\b\b\b\b\b\r",
      "412416/412416 [==============================] - 12s 29us/sample - loss: 169.4523 - reconstruction_loss: 88.6838 - KL_loss: 22.4896 - val_loss: 105.6848 - val_reconstruction_loss: 83.6815 - val_KL_loss: 22.0033 - lr: 5.0000e-04\n",
      "Epoch 649/1000\n"
     ]
    },
    {
     "name": "stdout",
     "output_type": "stream",
     "text": [
      "\r",
      "412416/412416 [==============================] - ETA: 0s - loss: 169.2985 - reconstruction_loss: 88.7439 - KL_loss: 22.4052"
     ]
    },
    {
     "name": "stdout",
     "output_type": "stream",
     "text": [
      "\b\b\b\b\b\b\b\b\b\b\b\b\b\b\b\b\b\b\b\b\b\b\b\b\b\b\b\b\b\b\b\b\b\b\b\b\b\b\b\b\b\b\b\b\b\b\b\b\b\b\b\b\b\b\b\b\b\b\b\b\b\b\b\b\b\b\b\b\b\b\b\b\b\b\b\b\b\b\b\b\b\b\b\b\b\b\b\b\b\b\b\b\b\b\b\b\b\b\b\b\b\b\b\b\b\b\b\b\b\b\b\b\b\b\b\b\b\b\b\b\b\b\b\r",
      "412416/412416 [==============================] - 11s 28us/sample - loss: 169.2985 - reconstruction_loss: 88.7439 - KL_loss: 22.4052 - val_loss: 105.6763 - val_reconstruction_loss: 83.7119 - val_KL_loss: 21.9644 - lr: 5.0000e-04\n",
      "Epoch 650/1000\n"
     ]
    },
    {
     "name": "stdout",
     "output_type": "stream",
     "text": [
      "\r",
      "412416/412416 [==============================] - ETA: 0s - loss: 169.3505 - reconstruction_loss: 88.7831 - KL_loss: 22.3671"
     ]
    },
    {
     "name": "stdout",
     "output_type": "stream",
     "text": [
      "\b\b\b\b\b\b\b\b\b\b\b\b\b\b\b\b\b\b\b\b\b\b\b\b\b\b\b\b\b\b\b\b\b\b\b\b\b\b\b\b\b\b\b\b\b\b\b\b\b\b\b\b\b\b\b\b\b\b\b\b\b\b\b\b\b\b\b\b\b\b\b\b\b\b\b\b\b\b\b\b\b\b\b\b\b\b\b\b\b\b\b\b\b\b\b\b\b\b\b\b\b\b\b\b\b\b\b\b\b\b\b\b\b\b\b\b\b\b\b\b\b\b\b\r",
      "412416/412416 [==============================] - 11s 27us/sample - loss: 169.3505 - reconstruction_loss: 88.7831 - KL_loss: 22.3671 - val_loss: 105.6857 - val_reconstruction_loss: 83.6571 - val_KL_loss: 22.0287 - lr: 5.0000e-04\n",
      "Epoch 651/1000\n"
     ]
    },
    {
     "name": "stdout",
     "output_type": "stream",
     "text": [
      "\r",
      "412416/412416 [==============================] - ETA: 0s - loss: 169.3334 - reconstruction_loss: 88.7187 - KL_loss: 22.4291"
     ]
    },
    {
     "name": "stdout",
     "output_type": "stream",
     "text": [
      "\b\b\b\b\b\b\b\b\b\b\b\b\b\b\b\b\b\b\b\b\b\b\b\b\b\b\b\b\b\b\b\b\b\b\b\b\b\b\b\b\b\b\b\b\b\b\b\b\b\b\b\b\b\b\b\b\b\b\b\b\b\b\b\b\b\b\b\b\b\b\b\b\b\b\b\b\b\b\b\b\b\b\b\b\b\b\b\b\b\b\b\b\b\b\b\b\b\b\b\b\b\b\b\b\b\b\b\b\b\b\b\b\b\b\b\b\b\b\b\b\b\b\b\r",
      "412416/412416 [==============================] - 15s 37us/sample - loss: 169.3334 - reconstruction_loss: 88.7187 - KL_loss: 22.4291 - val_loss: 105.6600 - val_reconstruction_loss: 83.6009 - val_KL_loss: 22.0591 - lr: 5.0000e-04\n",
      "Epoch 652/1000\n"
     ]
    },
    {
     "name": "stdout",
     "output_type": "stream",
     "text": [
      "\r",
      "412416/412416 [==============================] - ETA: 0s - loss: 169.3837 - reconstruction_loss: 88.6757 - KL_loss: 22.4591"
     ]
    },
    {
     "name": "stdout",
     "output_type": "stream",
     "text": [
      "\b\b\b\b\b\b\b\b\b\b\b\b\b\b\b\b\b\b\b\b\b\b\b\b\b\b\b\b\b\b\b\b\b\b\b\b\b\b\b\b\b\b\b\b\b\b\b\b\b\b\b\b\b\b\b\b\b\b\b\b\b\b\b\b\b\b\b\b\b\b\b\b\b\b\b\b\b\b\b\b\b\b\b\b\b\b\b\b\b\b\b\b\b\b\b\b\b\b\b\b\b\b\b\b\b\b\b\b\b\b\b\b\b\b\b\b\b\b\b\b\b\b\b\r",
      "412416/412416 [==============================] - 11s 28us/sample - loss: 169.3837 - reconstruction_loss: 88.6757 - KL_loss: 22.4591 - val_loss: 105.6863 - val_reconstruction_loss: 83.6602 - val_KL_loss: 22.0262 - lr: 5.0000e-04\n",
      "Epoch 653/1000\n"
     ]
    },
    {
     "name": "stdout",
     "output_type": "stream",
     "text": [
      "\r",
      "412416/412416 [==============================] - ETA: 0s - loss: 169.3194 - reconstruction_loss: 88.7235 - KL_loss: 22.4286"
     ]
    },
    {
     "name": "stdout",
     "output_type": "stream",
     "text": [
      "\b\b\b\b\b\b\b\b\b\b\b\b\b\b\b\b\b\b\b\b\b\b\b\b\b\b\b\b\b\b\b\b\b\b\b\b\b\b\b\b\b\b\b\b\b\b\b\b\b\b\b\b\b\b\b\b\b\b\b\b\b\b\b\b\b\b\b\b\b\b\b\b\b\b\b\b\b\b\b\b\b\b\b\b\b\b\b\b\b\b\b\b\b\b\b\b\b\b\b\b\b\b\b\b\b\b\b\b\b\b\b\b\b\b\b\b\b\b\b\b\b\b\b\r",
      "412416/412416 [==============================] - 14s 34us/sample - loss: 169.3194 - reconstruction_loss: 88.7235 - KL_loss: 22.4286 - val_loss: 105.6638 - val_reconstruction_loss: 83.5974 - val_KL_loss: 22.0664 - lr: 5.0000e-04\n",
      "Epoch 654/1000\n"
     ]
    },
    {
     "name": "stdout",
     "output_type": "stream",
     "text": [
      "\r",
      "412416/412416 [==============================] - ETA: 0s - loss: 169.2637 - reconstruction_loss: 88.6671 - KL_loss: 22.4681"
     ]
    },
    {
     "name": "stdout",
     "output_type": "stream",
     "text": [
      "\b\b\b\b\b\b\b\b\b\b\b\b\b\b\b\b\b\b\b\b\b\b\b\b\b\b\b\b\b\b\b\b\b\b\b\b\b\b\b\b\b\b\b\b\b\b\b\b\b\b\b\b\b\b\b\b\b\b\b\b\b\b\b\b\b\b\b\b\b\b\b\b\b\b\b\b\b\b\b\b\b\b\b\b\b\b\b\b\b\b\b\b\b\b\b\b\b\b\b\b\b\b\b\b\b\b\b\b\b\b\b\b\b\b\b\b\b\b\b\b\b\b\b\r",
      "412416/412416 [==============================] - 11s 27us/sample - loss: 169.2637 - reconstruction_loss: 88.6671 - KL_loss: 22.4681 - val_loss: 105.6997 - val_reconstruction_loss: 83.5267 - val_KL_loss: 22.1730 - lr: 5.0000e-04\n",
      "Epoch 655/1000\n"
     ]
    },
    {
     "name": "stdout",
     "output_type": "stream",
     "text": [
      "\r",
      "412416/412416 [==============================] - ETA: 0s - loss: 169.2762 - reconstruction_loss: 88.5972 - KL_loss: 22.5716"
     ]
    },
    {
     "name": "stdout",
     "output_type": "stream",
     "text": [
      "\b\b\b\b\b\b\b\b\b\b\b\b\b\b\b\b\b\b\b\b\b\b\b\b\b\b\b\b\b\b\b\b\b\b\b\b\b\b\b\b\b\b\b\b\b\b\b\b\b\b\b\b\b\b\b\b\b\b\b\b\b\b\b\b\b\b\b\b\b\b\b\b\b\b\b\b\b\b\b\b\b\b\b\b\b\b\b\b\b\b\b\b\b\b\b\b\b\b\b\b\b\b\b\b\b\b\b\b\b\b\b\b\b\b\b\b\b\b\b\b\b\b\b\r",
      "412416/412416 [==============================] - 12s 29us/sample - loss: 169.2762 - reconstruction_loss: 88.5972 - KL_loss: 22.5716 - val_loss: 105.6739 - val_reconstruction_loss: 83.5169 - val_KL_loss: 22.1570 - lr: 5.0000e-04\n",
      "Epoch 656/1000\n"
     ]
    },
    {
     "name": "stdout",
     "output_type": "stream",
     "text": [
      "\r",
      "412416/412416 [==============================] - ETA: 0s - loss: 169.2255 - reconstruction_loss: 88.5807 - KL_loss: 22.5560"
     ]
    },
    {
     "name": "stdout",
     "output_type": "stream",
     "text": [
      "\b\b\b\b\b\b\b\b\b\b\b\b\b\b\b\b\b\b\b\b\b\b\b\b\b\b\b\b\b\b\b\b\b\b\b\b\b\b\b\b\b\b\b\b\b\b\b\b\b\b\b\b\b\b\b\b\b\b\b\b\b\b\b\b\b\b\b\b\b\b\b\b\b\b\b\b\b\b\b\b\b\b\b\b\b\b\b\b\b\b\b\b\b\b\b\b\b\b\b\b\b\b\b\b\b\b\b\b\b\b\b\b\b\b\b\b\b\b\b\b\b\b\b\r",
      "412416/412416 [==============================] - 11s 28us/sample - loss: 169.2255 - reconstruction_loss: 88.5807 - KL_loss: 22.5560 - val_loss: 105.6521 - val_reconstruction_loss: 83.6022 - val_KL_loss: 22.0499 - lr: 5.0000e-04\n",
      "Epoch 657/1000\n"
     ]
    },
    {
     "name": "stdout",
     "output_type": "stream",
     "text": [
      "\r",
      "412416/412416 [==============================] - ETA: 0s - loss: 169.2673 - reconstruction_loss: 88.6939 - KL_loss: 22.4519"
     ]
    },
    {
     "name": "stdout",
     "output_type": "stream",
     "text": [
      "\b\b\b\b\b\b\b\b\b\b\b\b\b\b\b\b\b\b\b\b\b\b\b\b\b\b\b\b\b\b\b\b\b\b\b\b\b\b\b\b\b\b\b\b\b\b\b\b\b\b\b\b\b\b\b\b\b\b\b\b\b\b\b\b\b\b\b\b\b\b\b\b\b\b\b\b\b\b\b\b\b\b\b\b\b\b\b\b\b\b\b\b\b\b\b\b\b\b\b\b\b\b\b\b\b\b\b\b\b\b\b\b\b\b\b\b\b\b\b\b\b\b\b\r",
      "412416/412416 [==============================] - 11s 28us/sample - loss: 169.2673 - reconstruction_loss: 88.6939 - KL_loss: 22.4519 - val_loss: 105.6616 - val_reconstruction_loss: 83.6279 - val_KL_loss: 22.0337 - lr: 5.0000e-04\n",
      "Epoch 658/1000\n"
     ]
    },
    {
     "name": "stdout",
     "output_type": "stream",
     "text": [
      "\r",
      "412416/412416 [==============================] - ETA: 0s - loss: 169.2126 - reconstruction_loss: 88.6895 - KL_loss: 22.4359"
     ]
    },
    {
     "name": "stdout",
     "output_type": "stream",
     "text": [
      "\b\b\b\b\b\b\b\b\b\b\b\b\b\b\b\b\b\b\b\b\b\b\b\b\b\b\b\b\b\b\b\b\b\b\b\b\b\b\b\b\b\b\b\b\b\b\b\b\b\b\b\b\b\b\b\b\b\b\b\b\b\b\b\b\b\b\b\b\b\b\b\b\b\b\b\b\b\b\b\b\b\b\b\b\b\b\b\b\b\b\b\b\b\b\b\b\b\b\b\b\b\b\b\b\b\b\b\b\b\b\b\b\b\b\b\b\b\b\b\b\b\b\b\r",
      "412416/412416 [==============================] - 12s 28us/sample - loss: 169.2126 - reconstruction_loss: 88.6895 - KL_loss: 22.4359 - val_loss: 105.6558 - val_reconstruction_loss: 83.5588 - val_KL_loss: 22.0970 - lr: 5.0000e-04\n",
      "Epoch 659/1000\n"
     ]
    },
    {
     "name": "stdout",
     "output_type": "stream",
     "text": [
      "\r",
      "412416/412416 [==============================] - ETA: 0s - loss: 169.1520 - reconstruction_loss: 88.6181 - KL_loss: 22.4966"
     ]
    },
    {
     "name": "stdout",
     "output_type": "stream",
     "text": [
      "\b\b\b\b\b\b\b\b\b\b\b\b\b\b\b\b\b\b\b\b\b\b\b\b\b\b\b\b\b\b\b\b\b\b\b\b\b\b\b\b\b\b\b\b\b\b\b\b\b\b\b\b\b\b\b\b\b\b\b\b\b\b\b\b\b\b\b\b\b\b\b\b\b\b\b\b\b\b\b\b\b\b\b\b\b\b\b\b\b\b\b\b\b\b\b\b\b\b\b\b\b\b\b\b\b\b\b\b\b\b\b\b\b\b\b\b\b\b\b\b\b\b\b\r",
      "412416/412416 [==============================] - 11s 27us/sample - loss: 169.1520 - reconstruction_loss: 88.6181 - KL_loss: 22.4966 - val_loss: 105.6506 - val_reconstruction_loss: 83.5702 - val_KL_loss: 22.0804 - lr: 5.0000e-04\n",
      "Epoch 660/1000\n"
     ]
    },
    {
     "name": "stdout",
     "output_type": "stream",
     "text": [
      "\r",
      "412416/412416 [==============================] - ETA: 0s - loss: 169.0740 - reconstruction_loss: 88.6222 - KL_loss: 22.4795"
     ]
    },
    {
     "name": "stdout",
     "output_type": "stream",
     "text": [
      "\b\b\b\b\b\b\b\b\b\b\b\b\b\b\b\b\b\b\b\b\b\b\b\b\b\b\b\b\b\b\b\b\b\b\b\b\b\b\b\b\b\b\b\b\b\b\b\b\b\b\b\b\b\b\b\b\b\b\b\b\b\b\b\b\b\b\b\b\b\b\b\b\b\b\b\b\b\b\b\b\b\b\b\b\b\b\b\b\b\b\b\b\b\b\b\b\b\b\b\b\b\b\b\b\b\b\b\b\b\b\b\b\b\b\b\b\b\b\b\b\b\b\b\r",
      "412416/412416 [==============================] - 11s 27us/sample - loss: 169.0740 - reconstruction_loss: 88.6222 - KL_loss: 22.4795 - val_loss: 105.6846 - val_reconstruction_loss: 83.7067 - val_KL_loss: 21.9779 - lr: 5.0000e-04\n",
      "Epoch 661/1000\n"
     ]
    },
    {
     "name": "stdout",
     "output_type": "stream",
     "text": [
      "\r",
      "412416/412416 [==============================] - ETA: 0s - loss: 169.1995 - reconstruction_loss: 88.7619 - KL_loss: 22.3802"
     ]
    },
    {
     "name": "stdout",
     "output_type": "stream",
     "text": [
      "\b\b\b\b\b\b\b\b\b\b\b\b\b\b\b\b\b\b\b\b\b\b\b\b\b\b\b\b\b\b\b\b\b\b\b\b\b\b\b\b\b\b\b\b\b\b\b\b\b\b\b\b\b\b\b\b\b\b\b\b\b\b\b\b\b\b\b\b\b\b\b\b\b\b\b\b\b\b\b\b\b\b\b\b\b\b\b\b\b\b\b\b\b\b\b\b\b\b\b\b\b\b\b\b\b\b\b\b\b\b\b\b\b\b\b\b\b\b\b\b\b\b\b\r",
      "412416/412416 [==============================] - 11s 27us/sample - loss: 169.1995 - reconstruction_loss: 88.7619 - KL_loss: 22.3802 - val_loss: 105.6284 - val_reconstruction_loss: 83.6327 - val_KL_loss: 21.9957 - lr: 5.0000e-04\n",
      "Epoch 662/1000\n"
     ]
    },
    {
     "name": "stdout",
     "output_type": "stream",
     "text": [
      "\r",
      "412416/412416 [==============================] - ETA: 0s - loss: 169.0897 - reconstruction_loss: 88.7072 - KL_loss: 22.3983"
     ]
    },
    {
     "name": "stdout",
     "output_type": "stream",
     "text": [
      "\b\b\b\b\b\b\b\b\b\b\b\b\b\b\b\b\b\b\b\b\b\b\b\b\b\b\b\b\b\b\b\b\b\b\b\b\b\b\b\b\b\b\b\b\b\b\b\b\b\b\b\b\b\b\b\b\b\b\b\b\b\b\b\b\b\b\b\b\b\b\b\b\b\b\b\b\b\b\b\b\b\b\b\b\b\b\b\b\b\b\b\b\b\b\b\b\b\b\b\b\b\b\b\b\b\b\b\b\b\b\b\b\b\b\b\b\b\b\b\b\b\b\b\r",
      "412416/412416 [==============================] - 11s 27us/sample - loss: 169.0897 - reconstruction_loss: 88.7072 - KL_loss: 22.3983 - val_loss: 105.7060 - val_reconstruction_loss: 83.5934 - val_KL_loss: 22.1126 - lr: 5.0000e-04\n",
      "Epoch 663/1000\n"
     ]
    },
    {
     "name": "stdout",
     "output_type": "stream",
     "text": [
      "\r",
      "412416/412416 [==============================] - ETA: 0s - loss: 169.1341 - reconstruction_loss: 88.6198 - KL_loss: 22.5117"
     ]
    },
    {
     "name": "stdout",
     "output_type": "stream",
     "text": [
      "\b\b\b\b\b\b\b\b\b\b\b\b\b\b\b\b\b\b\b\b\b\b\b\b\b\b\b\b\b\b\b\b\b\b\b\b\b\b\b\b\b\b\b\b\b\b\b\b\b\b\b\b\b\b\b\b\b\b\b\b\b\b\b\b\b\b\b\b\b\b\b\b\b\b\b\b\b\b\b\b\b\b\b\b\b\b\b\b\b\b\b\b\b\b\b\b\b\b\b\b\b\b\b\b\b\b\b\b\b\b\b\b\b\b\b\b\b\b\b\b\b\b\b\r",
      "412416/412416 [==============================] - 11s 28us/sample - loss: 169.1341 - reconstruction_loss: 88.6198 - KL_loss: 22.5117 - val_loss: 105.6545 - val_reconstruction_loss: 83.5202 - val_KL_loss: 22.1343 - lr: 5.0000e-04\n",
      "Epoch 664/1000\n"
     ]
    },
    {
     "name": "stdout",
     "output_type": "stream",
     "text": [
      "\r",
      "412416/412416 [==============================] - ETA: 0s - loss: 169.1351 - reconstruction_loss: 88.5840 - KL_loss: 22.5330"
     ]
    },
    {
     "name": "stdout",
     "output_type": "stream",
     "text": [
      "\b\b\b\b\b\b\b\b\b\b\b\b\b\b\b\b\b\b\b\b\b\b\b\b\b\b\b\b\b\b\b\b\b\b\b\b\b\b\b\b\b\b\b\b\b\b\b\b\b\b\b\b\b\b\b\b\b\b\b\b\b\b\b\b\b\b\b\b\b\b\b\b\b\b\b\b\b\b\b\b\b\b\b\b\b\b\b\b\b\b\b\b\b\b\b\b\b\b\b\b\b\b\b\b\b\b\b\b\b\b\b\b\b\b\b\b\b\b\b\b\b\b\b\r",
      "412416/412416 [==============================] - 11s 27us/sample - loss: 169.1351 - reconstruction_loss: 88.5840 - KL_loss: 22.5330 - val_loss: 105.6651 - val_reconstruction_loss: 83.6016 - val_KL_loss: 22.0634 - lr: 5.0000e-04\n",
      "Epoch 665/1000\n"
     ]
    },
    {
     "name": "stdout",
     "output_type": "stream",
     "text": [
      "\r",
      "412416/412416 [==============================] - ETA: 0s - loss: 169.1003 - reconstruction_loss: 88.6445 - KL_loss: 22.4653"
     ]
    },
    {
     "name": "stdout",
     "output_type": "stream",
     "text": [
      "\b\b\b\b\b\b\b\b\b\b\b\b\b\b\b\b\b\b\b\b\b\b\b\b\b\b\b\b\b\b\b\b\b\b\b\b\b\b\b\b\b\b\b\b\b\b\b\b\b\b\b\b\b\b\b\b\b\b\b\b\b\b\b\b\b\b\b\b\b\b\b\b\b\b\b\b\b\b\b\b\b\b\b\b\b\b\b\b\b\b\b\b\b\b\b\b\b\b\b\b\b\b\b\b\b\b\b\b\b\b\b\b\b\b\b\b\b\b\b\b\b\b\b\r",
      "412416/412416 [==============================] - 11s 28us/sample - loss: 169.1003 - reconstruction_loss: 88.6445 - KL_loss: 22.4653 - val_loss: 105.6432 - val_reconstruction_loss: 83.5569 - val_KL_loss: 22.0863 - lr: 5.0000e-04\n",
      "Epoch 666/1000\n"
     ]
    },
    {
     "name": "stdout",
     "output_type": "stream",
     "text": [
      "\r",
      "412416/412416 [==============================] - ETA: 0s - loss: 169.0158 - reconstruction_loss: 88.5954 - KL_loss: 22.4880"
     ]
    },
    {
     "name": "stdout",
     "output_type": "stream",
     "text": [
      "\b\b\b\b\b\b\b\b\b\b\b\b\b\b\b\b\b\b\b\b\b\b\b\b\b\b\b\b\b\b\b\b\b\b\b\b\b\b\b\b\b\b\b\b\b\b\b\b\b\b\b\b\b\b\b\b\b\b\b\b\b\b\b\b\b\b\b\b\b\b\b\b\b\b\b\b\b\b\b\b\b\b\b\b\b\b\b\b\b\b\b\b\b\b\b\b\b\b\b\b\b\b\b\b\b\b\b\b\b\b\b\b\b\b\b\b\b\b\b\b\b\b\b\r",
      "412416/412416 [==============================] - 12s 28us/sample - loss: 169.0158 - reconstruction_loss: 88.5954 - KL_loss: 22.4880 - val_loss: 105.6304 - val_reconstruction_loss: 83.4405 - val_KL_loss: 22.1899 - lr: 5.0000e-04\n",
      "Epoch 667/1000\n"
     ]
    },
    {
     "name": "stdout",
     "output_type": "stream",
     "text": [
      "\r",
      "412416/412416 [==============================] - ETA: 0s - loss: 169.0670 - reconstruction_loss: 88.5376 - KL_loss: 22.5890"
     ]
    },
    {
     "name": "stdout",
     "output_type": "stream",
     "text": [
      "\b\b\b\b\b\b\b\b\b\b\b\b\b\b\b\b\b\b\b\b\b\b\b\b\b\b\b\b\b\b\b\b\b\b\b\b\b\b\b\b\b\b\b\b\b\b\b\b\b\b\b\b\b\b\b\b\b\b\b\b\b\b\b\b\b\b\b\b\b\b\b\b\b\b\b\b\b\b\b\b\b\b\b\b\b\b\b\b\b\b\b\b\b\b\b\b\b\b\b\b\b\b\b\b\b\b\b\b\b\b\b\b\b\b\b\b\b\b\b\b\b\b\b\r",
      "412416/412416 [==============================] - 11s 27us/sample - loss: 169.0670 - reconstruction_loss: 88.5376 - KL_loss: 22.5890 - val_loss: 105.6268 - val_reconstruction_loss: 83.4335 - val_KL_loss: 22.1933 - lr: 5.0000e-04\n",
      "Epoch 668/1000\n"
     ]
    },
    {
     "name": "stdout",
     "output_type": "stream",
     "text": [
      "\r",
      "412416/412416 [==============================] - ETA: 0s - loss: 168.9440 - reconstruction_loss: 88.5104 - KL_loss: 22.5926"
     ]
    },
    {
     "name": "stdout",
     "output_type": "stream",
     "text": [
      "\b\b\b\b\b\b\b\b\b\b\b\b\b\b\b\b\b\b\b\b\b\b\b\b\b\b\b\b\b\b\b\b\b\b\b\b\b\b\b\b\b\b\b\b\b\b\b\b\b\b\b\b\b\b\b\b\b\b\b\b\b\b\b\b\b\b\b\b\b\b\b\b\b\b\b\b\b\b\b\b\b\b\b\b\b\b\b\b\b\b\b\b\b\b\b\b\b\b\b\b\b\b\b\b\b\b\b\b\b\b\b\b\b\b\b\b\b\b\b\b\b\b\b\r",
      "412416/412416 [==============================] - 11s 28us/sample - loss: 168.9440 - reconstruction_loss: 88.5104 - KL_loss: 22.5926 - val_loss: 105.6751 - val_reconstruction_loss: 83.5924 - val_KL_loss: 22.0827 - lr: 5.0000e-04\n",
      "Epoch 669/1000\n"
     ]
    },
    {
     "name": "stdout",
     "output_type": "stream",
     "text": [
      "\r",
      "412416/412416 [==============================] - ETA: 0s - loss: 169.0577 - reconstruction_loss: 88.6443 - KL_loss: 22.4853"
     ]
    },
    {
     "name": "stdout",
     "output_type": "stream",
     "text": [
      "\b\b\b\b\b\b\b\b\b\b\b\b\b\b\b\b\b\b\b\b\b\b\b\b\b\b\b\b\b\b\b\b\b\b\b\b\b\b\b\b\b\b\b\b\b\b\b\b\b\b\b\b\b\b\b\b\b\b\b\b\b\b\b\b\b\b\b\b\b\b\b\b\b\b\b\b\b\b\b\b\b\b\b\b\b\b\b\b\b\b\b\b\b\b\b\b\b\b\b\b\b\b\b\b\b\b\b\b\b\b\b\b\b\b\b\b\b\b\b\b\b\b\b\r",
      "412416/412416 [==============================] - 12s 29us/sample - loss: 169.0577 - reconstruction_loss: 88.6443 - KL_loss: 22.4853 - val_loss: 105.6625 - val_reconstruction_loss: 83.5992 - val_KL_loss: 22.0633 - lr: 5.0000e-04\n",
      "Epoch 670/1000\n"
     ]
    },
    {
     "name": "stdout",
     "output_type": "stream",
     "text": [
      "\r",
      "412416/412416 [==============================] - ETA: 0s - loss: 168.9486 - reconstruction_loss: 88.6366 - KL_loss: 22.4659"
     ]
    },
    {
     "name": "stdout",
     "output_type": "stream",
     "text": [
      "\b\b\b\b\b\b\b\b\b\b\b\b\b\b\b\b\b\b\b\b\b\b\b\b\b\b\b\b\b\b\b\b\b\b\b\b\b\b\b\b\b\b\b\b\b\b\b\b\b\b\b\b\b\b\b\b\b\b\b\b\b\b\b\b\b\b\b\b\b\b\b\b\b\b\b\b\b\b\b\b\b\b\b\b\b\b\b\b\b\b\b\b\b\b\b\b\b\b\b\b\b\b\b\b\b\b\b\b\b\b\b\b\b\b\b\b\b\b\b\b\b\b\b\r",
      "412416/412416 [==============================] - 12s 28us/sample - loss: 168.9486 - reconstruction_loss: 88.6366 - KL_loss: 22.4659 - val_loss: 105.6515 - val_reconstruction_loss: 83.5189 - val_KL_loss: 22.1326 - lr: 5.0000e-04\n",
      "Epoch 671/1000\n"
     ]
    },
    {
     "name": "stdout",
     "output_type": "stream",
     "text": [
      "\r",
      "412416/412416 [==============================] - ETA: 0s - loss: 168.8975 - reconstruction_loss: 88.5745 - KL_loss: 22.5318"
     ]
    },
    {
     "name": "stdout",
     "output_type": "stream",
     "text": [
      "\b\b\b\b\b\b\b\b\b\b\b\b\b\b\b\b\b\b\b\b\b\b\b\b\b\b\b\b\b\b\b\b\b\b\b\b\b\b\b\b\b\b\b\b\b\b\b\b\b\b\b\b\b\b\b\b\b\b\b\b\b\b\b\b\b\b\b\b\b\b\b\b\b\b\b\b\b\b\b\b\b\b\b\b\b\b\b\b\b\b\b\b\b\b\b\b\b\b\b\b\b\b\b\b\b\b\b\b\b\b\b\b\b\b\b\b\b\b\b\b\b\b\b\r",
      "412416/412416 [==============================] - 12s 28us/sample - loss: 168.8975 - reconstruction_loss: 88.5745 - KL_loss: 22.5318 - val_loss: 105.6456 - val_reconstruction_loss: 83.5543 - val_KL_loss: 22.0913 - lr: 5.0000e-04\n",
      "Epoch 672/1000\n"
     ]
    },
    {
     "name": "stdout",
     "output_type": "stream",
     "text": [
      "\r",
      "412416/412416 [==============================] - ETA: 0s - loss: 168.9284 - reconstruction_loss: 88.6146 - KL_loss: 22.4903"
     ]
    },
    {
     "name": "stdout",
     "output_type": "stream",
     "text": [
      "\b\b\b\b\b\b\b\b\b\b\b\b\b\b\b\b\b\b\b\b\b\b\b\b\b\b\b\b\b\b\b\b\b\b\b\b\b\b\b\b\b\b\b\b\b\b\b\b\b\b\b\b\b\b\b\b\b\b\b\b\b\b\b\b\b\b\b\b\b\b\b\b\b\b\b\b\b\b\b\b\b\b\b\b\b\b\b\b\b\b\b\b\b\b\b\b\b\b\b\b\b\b\b\b\b\b\b\b\b\b\b\b\b\b\b\b\b\b\b\b\b\b\b\r",
      "412416/412416 [==============================] - 11s 28us/sample - loss: 168.9284 - reconstruction_loss: 88.6146 - KL_loss: 22.4903 - val_loss: 105.6591 - val_reconstruction_loss: 83.6762 - val_KL_loss: 21.9828 - lr: 5.0000e-04\n",
      "Epoch 673/1000\n"
     ]
    },
    {
     "name": "stdout",
     "output_type": "stream",
     "text": [
      "\r",
      "412416/412416 [==============================] - ETA: 0s - loss: 168.9327 - reconstruction_loss: 88.7103 - KL_loss: 22.3843"
     ]
    },
    {
     "name": "stdout",
     "output_type": "stream",
     "text": [
      "\b\b\b\b\b\b\b\b\b\b\b\b\b\b\b\b\b\b\b\b\b\b\b\b\b\b\b\b\b\b\b\b\b\b\b\b\b\b\b\b\b\b\b\b\b\b\b\b\b\b\b\b\b\b\b\b\b\b\b\b\b\b\b\b\b\b\b\b\b\b\b\b\b\b\b\b\b\b\b\b\b\b\b\b\b\b\b\b\b\b\b\b\b\b\b\b\b\b\b\b\b\b\b\b\b\b\b\b\b\b\b\b\b\b\b\b\b\b\b\b\b\b\b\r",
      "412416/412416 [==============================] - 11s 27us/sample - loss: 168.9327 - reconstruction_loss: 88.7103 - KL_loss: 22.3843 - val_loss: 105.6522 - val_reconstruction_loss: 83.6525 - val_KL_loss: 21.9997 - lr: 5.0000e-04\n",
      "Epoch 674/1000\n"
     ]
    },
    {
     "name": "stdout",
     "output_type": "stream",
     "text": [
      "\r",
      "412416/412416 [==============================] - ETA: 0s - loss: 168.8300 - reconstruction_loss: 88.6854 - KL_loss: 22.4005"
     ]
    },
    {
     "name": "stdout",
     "output_type": "stream",
     "text": [
      "\b\b\b\b\b\b\b\b\b\b\b\b\b\b\b\b\b\b\b\b\b\b\b\b\b\b\b\b\b\b\b\b\b\b\b\b\b\b\b\b\b\b\b\b\b\b\b\b\b\b\b\b\b\b\b\b\b\b\b\b\b\b\b\b\b\b\b\b\b\b\b\b\b\b\b\b\b\b\b\b\b\b\b\b\b\b\b\b\b\b\b\b\b\b\b\b\b\b\b\b\b\b\b\b\b\b\b\b\b\b\b\b\b\b\b\b\b\b\b\b\b\b\b\r",
      "412416/412416 [==============================] - 11s 27us/sample - loss: 168.8300 - reconstruction_loss: 88.6854 - KL_loss: 22.4005 - val_loss: 105.6583 - val_reconstruction_loss: 83.5474 - val_KL_loss: 22.1109 - lr: 5.0000e-04\n",
      "Epoch 675/1000\n"
     ]
    },
    {
     "name": "stdout",
     "output_type": "stream",
     "text": [
      "\r",
      "412416/412416 [==============================] - ETA: 0s - loss: 168.9009 - reconstruction_loss: 88.5918 - KL_loss: 22.5087"
     ]
    },
    {
     "name": "stdout",
     "output_type": "stream",
     "text": [
      "\b\b\b\b\b\b\b\b\b\b\b\b\b\b\b\b\b\b\b\b\b\b\b\b\b\b\b\b\b\b\b\b\b\b\b\b\b\b\b\b\b\b\b\b\b\b\b\b\b\b\b\b\b\b\b\b\b\b\b\b\b\b\b\b\b\b\b\b\b\b\b\b\b\b\b\b\b\b\b\b\b\b\b\b\b\b\b\b\b\b\b\b\b\b\b\b\b\b\b\b\b\b\b\b\b\b\b\b\b\b\b\b\b\b\b\b\b\b\b\b\b\b\b\r",
      "412416/412416 [==============================] - 12s 28us/sample - loss: 168.9009 - reconstruction_loss: 88.5918 - KL_loss: 22.5087 - val_loss: 105.6221 - val_reconstruction_loss: 83.4776 - val_KL_loss: 22.1445 - lr: 5.0000e-04\n",
      "Epoch 676/1000\n"
     ]
    },
    {
     "name": "stdout",
     "output_type": "stream",
     "text": [
      "\r",
      "412416/412416 [==============================] - ETA: 0s - loss: 168.8863 - reconstruction_loss: 88.5409 - KL_loss: 22.5426"
     ]
    },
    {
     "name": "stdout",
     "output_type": "stream",
     "text": [
      "\b\b\b\b\b\b\b\b\b\b\b\b\b\b\b\b\b\b\b\b\b\b\b\b\b\b\b\b\b\b\b\b\b\b\b\b\b\b\b\b\b\b\b\b\b\b\b\b\b\b\b\b\b\b\b\b\b\b\b\b\b\b\b\b\b\b\b\b\b\b\b\b\b\b\b\b\b\b\b\b\b\b\b\b\b\b\b\b\b\b\b\b\b\b\b\b\b\b\b\b\b\b\b\b\b\b\b\b\b\b\b\b\b\b\b\b\b\b\b\b\b\b\b\r",
      "412416/412416 [==============================] - 12s 30us/sample - loss: 168.8863 - reconstruction_loss: 88.5409 - KL_loss: 22.5426 - val_loss: 105.6613 - val_reconstruction_loss: 83.5601 - val_KL_loss: 22.1012 - lr: 5.0000e-04\n",
      "Epoch 677/1000\n"
     ]
    },
    {
     "name": "stdout",
     "output_type": "stream",
     "text": [
      "\r",
      "412416/412416 [==============================] - ETA: 0s - loss: 168.7801 - reconstruction_loss: 88.5802 - KL_loss: 22.5023"
     ]
    },
    {
     "name": "stdout",
     "output_type": "stream",
     "text": [
      "\b\b\b\b\b\b\b\b\b\b\b\b\b\b\b\b\b\b\b\b\b\b\b\b\b\b\b\b\b\b\b\b\b\b\b\b\b\b\b\b\b\b\b\b\b\b\b\b\b\b\b\b\b\b\b\b\b\b\b\b\b\b\b\b\b\b\b\b\b\b\b\b\b\b\b\b\b\b\b\b\b\b\b\b\b\b\b\b\b\b\b\b\b\b\b\b\b\b\b\b\b\b\b\b\b\b\b\b\b\b\b\b\b\b\b\b\b\b\b\b\b\b\b\r",
      "412416/412416 [==============================] - 12s 30us/sample - loss: 168.7801 - reconstruction_loss: 88.5802 - KL_loss: 22.5023 - val_loss: 105.6437 - val_reconstruction_loss: 83.5120 - val_KL_loss: 22.1317 - lr: 5.0000e-04\n",
      "Epoch 678/1000\n"
     ]
    },
    {
     "name": "stdout",
     "output_type": "stream",
     "text": [
      "\r",
      "412416/412416 [==============================] - ETA: 0s - loss: 168.7520 - reconstruction_loss: 88.5513 - KL_loss: 22.5326"
     ]
    },
    {
     "name": "stdout",
     "output_type": "stream",
     "text": [
      "\b\b\b\b\b\b\b\b\b\b\b\b\b\b\b\b\b\b\b\b\b\b\b\b\b\b\b\b\b\b\b\b\b\b\b\b\b\b\b\b\b\b\b\b\b\b\b\b\b\b\b\b\b\b\b\b\b\b\b\b\b\b\b\b\b\b\b\b\b\b\b\b\b\b\b\b\b\b\b\b\b\b\b\b\b\b\b\b\b\b\b\b\b\b\b\b\b\b\b\b\b\b\b\b\b\b\b\b\b\b\b\b\b\b\b\b\b\b\b\b\b\b\b\r",
      "412416/412416 [==============================] - 11s 28us/sample - loss: 168.7520 - reconstruction_loss: 88.5513 - KL_loss: 22.5326 - val_loss: 105.6395 - val_reconstruction_loss: 83.4157 - val_KL_loss: 22.2239 - lr: 5.0000e-04\n",
      "Epoch 679/1000\n"
     ]
    },
    {
     "name": "stdout",
     "output_type": "stream",
     "text": [
      "\r",
      "412416/412416 [==============================] - ETA: 0s - loss: 168.8211 - reconstruction_loss: 88.4582 - KL_loss: 22.6215"
     ]
    },
    {
     "name": "stdout",
     "output_type": "stream",
     "text": [
      "\b\b\b\b\b\b\b\b\b\b\b\b\b\b\b\b\b\b\b\b\b\b\b\b\b\b\b\b\b\b\b\b\b\b\b\b\b\b\b\b\b\b\b\b\b\b\b\b\b\b\b\b\b\b\b\b\b\b\b\b\b\b\b\b\b\b\b\b\b\b\b\b\b\b\b\b\b\b\b\b\b\b\b\b\b\b\b\b\b\b\b\b\b\b\b\b\b\b\b\b\b\b\b\b\b\b\b\b\b\b\b\b\b\b\b\b\b\b\b\b\b\b\b\r",
      "412416/412416 [==============================] - 11s 27us/sample - loss: 168.8211 - reconstruction_loss: 88.4582 - KL_loss: 22.6215 - val_loss: 105.6135 - val_reconstruction_loss: 83.4070 - val_KL_loss: 22.2064 - lr: 5.0000e-04\n",
      "Epoch 680/1000\n"
     ]
    },
    {
     "name": "stdout",
     "output_type": "stream",
     "text": [
      "\r",
      "412416/412416 [==============================] - ETA: 0s - loss: 168.6938 - reconstruction_loss: 88.4710 - KL_loss: 22.6042"
     ]
    },
    {
     "name": "stdout",
     "output_type": "stream",
     "text": [
      "\b\b\b\b\b\b\b\b\b\b\b\b\b\b\b\b\b\b\b\b\b\b\b\b\b\b\b\b\b\b\b\b\b\b\b\b\b\b\b\b\b\b\b\b\b\b\b\b\b\b\b\b\b\b\b\b\b\b\b\b\b\b\b\b\b\b\b\b\b\b\b\b\b\b\b\b\b\b\b\b\b\b\b\b\b\b\b\b\b\b\b\b\b\b\b\b\b\b\b\b\b\b\b\b\b\b\b\b\b\b\b\b\b\b\b\b\b\b\b\b\b\b\b\r",
      "412416/412416 [==============================] - 12s 28us/sample - loss: 168.6938 - reconstruction_loss: 88.4710 - KL_loss: 22.6042 - val_loss: 105.6404 - val_reconstruction_loss: 83.5692 - val_KL_loss: 22.0712 - lr: 5.0000e-04\n",
      "Epoch 681/1000\n"
     ]
    },
    {
     "name": "stdout",
     "output_type": "stream",
     "text": [
      "\r",
      "412416/412416 [==============================] - ETA: 0s - loss: 168.7001 - reconstruction_loss: 88.5924 - KL_loss: 22.4721"
     ]
    },
    {
     "name": "stdout",
     "output_type": "stream",
     "text": [
      "\b\b\b\b\b\b\b\b\b\b\b\b\b\b\b\b\b\b\b\b\b\b\b\b\b\b\b\b\b\b\b\b\b\b\b\b\b\b\b\b\b\b\b\b\b\b\b\b\b\b\b\b\b\b\b\b\b\b\b\b\b\b\b\b\b\b\b\b\b\b\b\b\b\b\b\b\b\b\b\b\b\b\b\b\b\b\b\b\b\b\b\b\b\b\b\b\b\b\b\b\b\b\b\b\b\b\b\b\b\b\b\b\b\b\b\b\b\b\b\b\b\b\b\r",
      "412416/412416 [==============================] - 12s 28us/sample - loss: 168.7001 - reconstruction_loss: 88.5924 - KL_loss: 22.4721 - val_loss: 105.6105 - val_reconstruction_loss: 83.5730 - val_KL_loss: 22.0375 - lr: 5.0000e-04\n",
      "Epoch 682/1000\n"
     ]
    },
    {
     "name": "stdout",
     "output_type": "stream",
     "text": [
      "\r",
      "412416/412416 [==============================] - ETA: 0s - loss: 168.6585 - reconstruction_loss: 88.6105 - KL_loss: 22.4383"
     ]
    },
    {
     "name": "stdout",
     "output_type": "stream",
     "text": [
      "\b\b\b\b\b\b\b\b\b\b\b\b\b\b\b\b\b\b\b\b\b\b\b\b\b\b\b\b\b\b\b\b\b\b\b\b\b\b\b\b\b\b\b\b\b\b\b\b\b\b\b\b\b\b\b\b\b\b\b\b\b\b\b\b\b\b\b\b\b\b\b\b\b\b\b\b\b\b\b\b\b\b\b\b\b\b\b\b\b\b\b\b\b\b\b\b\b\b\b\b\b\b\b\b\b\b\b\b\b\b\b\b\b\b\b\b\b\b\b\b\b\b\b\r",
      "412416/412416 [==============================] - 13s 31us/sample - loss: 168.6585 - reconstruction_loss: 88.6105 - KL_loss: 22.4383 - val_loss: 105.6599 - val_reconstruction_loss: 83.5397 - val_KL_loss: 22.1202 - lr: 5.0000e-04\n",
      "Epoch 683/1000\n"
     ]
    },
    {
     "name": "stdout",
     "output_type": "stream",
     "text": [
      "\r",
      "412416/412416 [==============================] - ETA: 0s - loss: 168.7657 - reconstruction_loss: 88.5629 - KL_loss: 22.5177"
     ]
    },
    {
     "name": "stdout",
     "output_type": "stream",
     "text": [
      "\b\b\b\b\b\b\b\b\b\b\b\b\b\b\b\b\b\b\b\b\b\b\b\b\b\b\b\b\b\b\b\b\b\b\b\b\b\b\b\b\b\b\b\b\b\b\b\b\b\b\b\b\b\b\b\b\b\b\b\b\b\b\b\b\b\b\b\b\b\b\b\b\b\b\b\b\b\b\b\b\b\b\b\b\b\b\b\b\b\b\b\b\b\b\b\b\b\b\b\b\b\b\b\b\b\b\b\b\b\b\b\b\b\b\b\b\b\b\b\b\b\b\b\r",
      "412416/412416 [==============================] - 13s 31us/sample - loss: 168.7657 - reconstruction_loss: 88.5629 - KL_loss: 22.5177 - val_loss: 105.5880 - val_reconstruction_loss: 83.4687 - val_KL_loss: 22.1193 - lr: 5.0000e-04\n",
      "Epoch 684/1000\n"
     ]
    },
    {
     "name": "stdout",
     "output_type": "stream",
     "text": [
      "\r",
      "412416/412416 [==============================] - ETA: 0s - loss: 168.6476 - reconstruction_loss: 88.5355 - KL_loss: 22.5173"
     ]
    },
    {
     "name": "stdout",
     "output_type": "stream",
     "text": [
      "\b\b\b\b\b\b\b\b\b\b\b\b\b\b\b\b\b\b\b\b\b\b\b\b\b\b\b\b\b\b\b\b\b\b\b\b\b\b\b\b\b\b\b\b\b\b\b\b\b\b\b\b\b\b\b\b\b\b\b\b\b\b\b\b\b\b\b\b\b\b\b\b\b\b\b\b\b\b\b\b\b\b\b\b\b\b\b\b\b\b\b\b\b\b\b\b\b\b\b\b\b\b\b\b\b\b\b\b\b\b\b\b\b\b\b\b\b\b\b\b\b\b\b\r",
      "412416/412416 [==============================] - 11s 27us/sample - loss: 168.6476 - reconstruction_loss: 88.5355 - KL_loss: 22.5173 - val_loss: 105.6286 - val_reconstruction_loss: 83.5867 - val_KL_loss: 22.0419 - lr: 5.0000e-04\n",
      "Epoch 685/1000\n"
     ]
    },
    {
     "name": "stdout",
     "output_type": "stream",
     "text": [
      "\r",
      "412416/412416 [==============================] - ETA: 0s - loss: 168.6481 - reconstruction_loss: 88.6289 - KL_loss: 22.4425"
     ]
    },
    {
     "name": "stdout",
     "output_type": "stream",
     "text": [
      "\b\b\b\b\b\b\b\b\b\b\b\b\b\b\b\b\b\b\b\b\b\b\b\b\b\b\b\b\b\b\b\b\b\b\b\b\b\b\b\b\b\b\b\b\b\b\b\b\b\b\b\b\b\b\b\b\b\b\b\b\b\b\b\b\b\b\b\b\b\b\b\b\b\b\b\b\b\b\b\b\b\b\b\b\b\b\b\b\b\b\b\b\b\b\b\b\b\b\b\b\b\b\b\b\b\b\b\b\b\b\b\b\b\b\b\b\b\b\b\b\b\b\b\r",
      "412416/412416 [==============================] - 12s 28us/sample - loss: 168.6481 - reconstruction_loss: 88.6289 - KL_loss: 22.4425 - val_loss: 105.6222 - val_reconstruction_loss: 83.5339 - val_KL_loss: 22.0883 - lr: 5.0000e-04\n",
      "Epoch 686/1000\n"
     ]
    },
    {
     "name": "stdout",
     "output_type": "stream",
     "text": [
      "\r",
      "412416/412416 [==============================] - ETA: 0s - loss: 168.6382 - reconstruction_loss: 88.5668 - KL_loss: 22.4887"
     ]
    },
    {
     "name": "stdout",
     "output_type": "stream",
     "text": [
      "\b\b\b\b\b\b\b\b\b\b\b\b\b\b\b\b\b\b\b\b\b\b\b\b\b\b\b\b\b\b\b\b\b\b\b\b\b\b\b\b\b\b\b\b\b\b\b\b\b\b\b\b\b\b\b\b\b\b\b\b\b\b\b\b\b\b\b\b\b\b\b\b\b\b\b\b\b\b\b\b\b\b\b\b\b\b\b\b\b\b\b\b\b\b\b\b\b\b\b\b\b\b\b\b\b\b\b\b\b\b\b\b\b\b\b\b\b\b\b\b\b\b\b\r",
      "412416/412416 [==============================] - 11s 27us/sample - loss: 168.6382 - reconstruction_loss: 88.5668 - KL_loss: 22.4887 - val_loss: 105.6246 - val_reconstruction_loss: 83.4136 - val_KL_loss: 22.2110 - lr: 5.0000e-04\n",
      "Epoch 687/1000\n"
     ]
    },
    {
     "name": "stdout",
     "output_type": "stream",
     "text": [
      "\r",
      "412416/412416 [==============================] - ETA: 0s - loss: 168.6206 - reconstruction_loss: 88.4578 - KL_loss: 22.6098"
     ]
    },
    {
     "name": "stdout",
     "output_type": "stream",
     "text": [
      "\b\b\b\b\b\b\b\b\b\b\b\b\b\b\b\b\b\b\b\b\b\b\b\b\b\b\b\b\b\b\b\b\b\b\b\b\b\b\b\b\b\b\b\b\b\b\b\b\b\b\b\b\b\b\b\b\b\b\b\b\b\b\b\b\b\b\b\b\b\b\b\b\b\b\b\b\b\b\b\b\b\b\b\b\b\b\b\b\b\b\b\b\b\b\b\b\b\b\b\b\b\b\b\b\b\b\b\b\b\b\b\b\b\b\b\b\b\b\b\b\b\b\b\r",
      "412416/412416 [==============================] - 11s 28us/sample - loss: 168.6206 - reconstruction_loss: 88.4578 - KL_loss: 22.6098 - val_loss: 105.5879 - val_reconstruction_loss: 83.3626 - val_KL_loss: 22.2253 - lr: 5.0000e-04\n",
      "Epoch 688/1000\n"
     ]
    },
    {
     "name": "stdout",
     "output_type": "stream",
     "text": [
      "\r",
      "412416/412416 [==============================] - ETA: 0s - loss: 168.5635 - reconstruction_loss: 88.4200 - KL_loss: 22.6236"
     ]
    },
    {
     "name": "stdout",
     "output_type": "stream",
     "text": [
      "\b\b\b\b\b\b\b\b\b\b\b\b\b\b\b\b\b\b\b\b\b\b\b\b\b\b\b\b\b\b\b\b\b\b\b\b\b\b\b\b\b\b\b\b\b\b\b\b\b\b\b\b\b\b\b\b\b\b\b\b\b\b\b\b\b\b\b\b\b\b\b\b\b\b\b\b\b\b\b\b\b\b\b\b\b\b\b\b\b\b\b\b\b\b\b\b\b\b\b\b\b\b\b\b\b\b\b\b\b\b\b\b\b\b\b\b\b\b\b\b\b\b\b\r",
      "412416/412416 [==============================] - 11s 28us/sample - loss: 168.5635 - reconstruction_loss: 88.4200 - KL_loss: 22.6236 - val_loss: 105.5983 - val_reconstruction_loss: 83.4570 - val_KL_loss: 22.1413 - lr: 5.0000e-04\n",
      "Epoch 689/1000\n"
     ]
    },
    {
     "name": "stdout",
     "output_type": "stream",
     "text": [
      "\r",
      "412416/412416 [==============================] - ETA: 0s - loss: 168.5932 - reconstruction_loss: 88.5103 - KL_loss: 22.5410"
     ]
    },
    {
     "name": "stdout",
     "output_type": "stream",
     "text": [
      "\b\b\b\b\b\b\b\b\b\b\b\b\b\b\b\b\b\b\b\b\b\b\b\b\b\b\b\b\b\b\b\b\b\b\b\b\b\b\b\b\b\b\b\b\b\b\b\b\b\b\b\b\b\b\b\b\b\b\b\b\b\b\b\b\b\b\b\b\b\b\b\b\b\b\b\b\b\b\b\b\b\b\b\b\b\b\b\b\b\b\b\b\b\b\b\b\b\b\b\b\b\b\b\b\b\b\b\b\b\b\b\b\b\b\b\b\b\b\b\b\b\b\b\r",
      "412416/412416 [==============================] - 12s 28us/sample - loss: 168.5932 - reconstruction_loss: 88.5103 - KL_loss: 22.5410 - val_loss: 105.6010 - val_reconstruction_loss: 83.4838 - val_KL_loss: 22.1172 - lr: 5.0000e-04\n",
      "Epoch 690/1000\n"
     ]
    },
    {
     "name": "stdout",
     "output_type": "stream",
     "text": [
      "\r",
      "412416/412416 [==============================] - ETA: 0s - loss: 168.4585 - reconstruction_loss: 88.5074 - KL_loss: 22.5175"
     ]
    },
    {
     "name": "stdout",
     "output_type": "stream",
     "text": [
      "\b\b\b\b\b\b\b\b\b\b\b\b\b\b\b\b\b\b\b\b\b\b\b\b\b\b\b\b\b\b\b\b\b\b\b\b\b\b\b\b\b\b\b\b\b\b\b\b\b\b\b\b\b\b\b\b\b\b\b\b\b\b\b\b\b\b\b\b\b\b\b\b\b\b\b\b\b\b\b\b\b\b\b\b\b\b\b\b\b\b\b\b\b\b\b\b\b\b\b\b\b\b\b\b\b\b\b\b\b\b\b\b\b\b\b\b\b\b\b\b\b\b\b\r",
      "412416/412416 [==============================] - 14s 34us/sample - loss: 168.4585 - reconstruction_loss: 88.5074 - KL_loss: 22.5175 - val_loss: 105.6014 - val_reconstruction_loss: 83.4076 - val_KL_loss: 22.1938 - lr: 5.0000e-04\n",
      "Epoch 691/1000\n"
     ]
    },
    {
     "name": "stdout",
     "output_type": "stream",
     "text": [
      "\r",
      "412416/412416 [==============================] - ETA: 0s - loss: 168.5978 - reconstruction_loss: 88.4698 - KL_loss: 22.5913"
     ]
    },
    {
     "name": "stdout",
     "output_type": "stream",
     "text": [
      "\b\b\b\b\b\b\b\b\b\b\b\b\b\b\b\b\b\b\b\b\b\b\b\b\b\b\b\b\b\b\b\b\b\b\b\b\b\b\b\b\b\b\b\b\b\b\b\b\b\b\b\b\b\b\b\b\b\b\b\b\b\b\b\b\b\b\b\b\b\b\b\b\b\b\b\b\b\b\b\b\b\b\b\b\b\b\b\b\b\b\b\b\b\b\b\b\b\b\b\b\b\b\b\b\b\b\b\b\b\b\b\b\b\b\b\b\b\b\b\b\b\b\b\r",
      "412416/412416 [==============================] - 15s 36us/sample - loss: 168.5978 - reconstruction_loss: 88.4698 - KL_loss: 22.5913 - val_loss: 105.5886 - val_reconstruction_loss: 83.4104 - val_KL_loss: 22.1782 - lr: 5.0000e-04\n",
      "Epoch 692/1000\n"
     ]
    },
    {
     "name": "stdout",
     "output_type": "stream",
     "text": [
      "\r",
      "412416/412416 [==============================] - ETA: 0s - loss: 168.5678 - reconstruction_loss: 88.4517 - KL_loss: 22.5757"
     ]
    },
    {
     "name": "stdout",
     "output_type": "stream",
     "text": [
      "\b\b\b\b\b\b\b\b\b\b\b\b\b\b\b\b\b\b\b\b\b\b\b\b\b\b\b\b\b\b\b\b\b\b\b\b\b\b\b\b\b\b\b\b\b\b\b\b\b\b\b\b\b\b\b\b\b\b\b\b\b\b\b\b\b\b\b\b\b\b\b\b\b\b\b\b\b\b\b\b\b\b\b\b\b\b\b\b\b\b\b\b\b\b\b\b\b\b\b\b\b\b\b\b\b\b\b\b\b\b\b\b\b\b\b\b\b\b\b\b\b\b\b\r",
      "412416/412416 [==============================] - 14s 33us/sample - loss: 168.5678 - reconstruction_loss: 88.4517 - KL_loss: 22.5757 - val_loss: 105.6103 - val_reconstruction_loss: 83.5414 - val_KL_loss: 22.0688 - lr: 5.0000e-04\n",
      "Epoch 693/1000\n"
     ]
    },
    {
     "name": "stdout",
     "output_type": "stream",
     "text": [
      "\r",
      "412416/412416 [==============================] - ETA: 0s - loss: 168.5270 - reconstruction_loss: 88.5688 - KL_loss: 22.4697"
     ]
    },
    {
     "name": "stdout",
     "output_type": "stream",
     "text": [
      "\b\b\b\b\b\b\b\b\b\b\b\b\b\b\b\b\b\b\b\b\b\b\b\b\b\b\b\b\b\b\b\b\b\b\b\b\b\b\b\b\b\b\b\b\b\b\b\b\b\b\b\b\b\b\b\b\b\b\b\b\b\b\b\b\b\b\b\b\b\b\b\b\b\b\b\b\b\b\b\b\b\b\b\b\b\b\b\b\b\b\b\b\b\b\b\b\b\b\b\b\b\b\b\b\b\b\b\b\b\b\b\b\b\b\b\b\b\b\b\b\b\b\b\r",
      "412416/412416 [==============================] - 12s 30us/sample - loss: 168.5270 - reconstruction_loss: 88.5688 - KL_loss: 22.4697 - val_loss: 105.5886 - val_reconstruction_loss: 83.5045 - val_KL_loss: 22.0841 - lr: 5.0000e-04\n",
      "Epoch 694/1000\n"
     ]
    },
    {
     "name": "stdout",
     "output_type": "stream",
     "text": [
      "\r",
      "412416/412416 [==============================] - ETA: 0s - loss: 168.4824 - reconstruction_loss: 88.5389 - KL_loss: 22.4846"
     ]
    },
    {
     "name": "stdout",
     "output_type": "stream",
     "text": [
      "\b\b\b\b\b\b\b\b\b\b\b\b\b\b\b\b\b\b\b\b\b\b\b\b\b\b\b\b\b\b\b\b\b\b\b\b\b\b\b\b\b\b\b\b\b\b\b\b\b\b\b\b\b\b\b\b\b\b\b\b\b\b\b\b\b\b\b\b\b\b\b\b\b\b\b\b\b\b\b\b\b\b\b\b\b\b\b\b\b\b\b\b\b\b\b\b\b\b\b\b\b\b\b\b\b\b\b\b\b\b\b\b\b\b\b\b\b\b\b\b\b\b\b\r",
      "412416/412416 [==============================] - 15s 36us/sample - loss: 168.4824 - reconstruction_loss: 88.5389 - KL_loss: 22.4846 - val_loss: 105.6048 - val_reconstruction_loss: 83.3835 - val_KL_loss: 22.2214 - lr: 5.0000e-04\n",
      "Epoch 695/1000\n"
     ]
    },
    {
     "name": "stdout",
     "output_type": "stream",
     "text": [
      "\r",
      "412416/412416 [==============================] - ETA: 0s - loss: 168.4607 - reconstruction_loss: 88.4170 - KL_loss: 22.6193"
     ]
    },
    {
     "name": "stdout",
     "output_type": "stream",
     "text": [
      "\b\b\b\b\b\b\b\b\b\b\b\b\b\b\b\b\b\b\b\b\b\b\b\b\b\b\b\b\b\b\b\b\b\b\b\b\b\b\b\b\b\b\b\b\b\b\b\b\b\b\b\b\b\b\b\b\b\b\b\b\b\b\b\b\b\b\b\b\b\b\b\b\b\b\b\b\b\b\b\b\b\b\b\b\b\b\b\b\b\b\b\b\b\b\b\b\b\b\b\b\b\b\b\b\b\b\b\b\b\b\b\b\b\b\b\b\b\b\b\b\b\b\b\r",
      "412416/412416 [==============================] - 11s 28us/sample - loss: 168.4607 - reconstruction_loss: 88.4170 - KL_loss: 22.6193 - val_loss: 105.5681 - val_reconstruction_loss: 83.3281 - val_KL_loss: 22.2400 - lr: 5.0000e-04\n",
      "Epoch 696/1000\n"
     ]
    },
    {
     "name": "stdout",
     "output_type": "stream",
     "text": [
      "\r",
      "412416/412416 [==============================] - ETA: 0s - loss: 168.3954 - reconstruction_loss: 88.3829 - KL_loss: 22.6383"
     ]
    },
    {
     "name": "stdout",
     "output_type": "stream",
     "text": [
      "\b\b\b\b\b\b\b\b\b\b\b\b\b\b\b\b\b\b\b\b\b\b\b\b\b\b\b\b\b\b\b\b\b\b\b\b\b\b\b\b\b\b\b\b\b\b\b\b\b\b\b\b\b\b\b\b\b\b\b\b\b\b\b\b\b\b\b\b\b\b\b\b\b\b\b\b\b\b\b\b\b\b\b\b\b\b\b\b\b\b\b\b\b\b\b\b\b\b\b\b\b\b\b\b\b\b\b\b\b\b\b\b\b\b\b\b\b\b\b\b\b\b\b\r",
      "412416/412416 [==============================] - 12s 29us/sample - loss: 168.3954 - reconstruction_loss: 88.3829 - KL_loss: 22.6383 - val_loss: 105.5892 - val_reconstruction_loss: 83.4308 - val_KL_loss: 22.1585 - lr: 5.0000e-04\n",
      "Epoch 697/1000\n"
     ]
    },
    {
     "name": "stdout",
     "output_type": "stream",
     "text": [
      "\r",
      "412416/412416 [==============================] - ETA: 0s - loss: 168.3956 - reconstruction_loss: 88.4639 - KL_loss: 22.5584"
     ]
    },
    {
     "name": "stdout",
     "output_type": "stream",
     "text": [
      "\b\b\b\b\b\b\b\b\b\b\b\b\b\b\b\b\b\b\b\b\b\b\b\b\b\b\b\b\b\b\b\b\b\b\b\b\b\b\b\b\b\b\b\b\b\b\b\b\b\b\b\b\b\b\b\b\b\b\b\b\b\b\b\b\b\b\b\b\b\b\b\b\b\b\b\b\b\b\b\b\b\b\b\b\b\b\b\b\b\b\b\b\b\b\b\b\b\b\b\b\b\b\b\b\b\b\b\b\b\b\b\b\b\b\b\b\b\b\b\b\b\b\b\r",
      "412416/412416 [==============================] - 11s 27us/sample - loss: 168.3956 - reconstruction_loss: 88.4639 - KL_loss: 22.5584 - val_loss: 105.5937 - val_reconstruction_loss: 83.4510 - val_KL_loss: 22.1426 - lr: 5.0000e-04\n",
      "Epoch 698/1000\n"
     ]
    },
    {
     "name": "stdout",
     "output_type": "stream",
     "text": [
      "\r",
      "412416/412416 [==============================] - ETA: 0s - loss: 168.3659 - reconstruction_loss: 88.4667 - KL_loss: 22.5423"
     ]
    },
    {
     "name": "stdout",
     "output_type": "stream",
     "text": [
      "\b\b\b\b\b\b\b\b\b\b\b\b\b\b\b\b\b\b\b\b\b\b\b\b\b\b\b\b\b\b\b\b\b\b\b\b\b\b\b\b\b\b\b\b\b\b\b\b\b\b\b\b\b\b\b\b\b\b\b\b\b\b\b\b\b\b\b\b\b\b\b\b\b\b\b\b\b\b\b\b\b\b\b\b\b\b\b\b\b\b\b\b\b\b\b\b\b\b\b\b\b\b\b\b\b\b\b\b\b\b\b\b\b\b\b\b\b\b\b\b\b\b\b\r",
      "412416/412416 [==============================] - 11s 28us/sample - loss: 168.3659 - reconstruction_loss: 88.4667 - KL_loss: 22.5423 - val_loss: 105.5976 - val_reconstruction_loss: 83.4065 - val_KL_loss: 22.1911 - lr: 5.0000e-04\n",
      "Epoch 699/1000\n"
     ]
    },
    {
     "name": "stdout",
     "output_type": "stream",
     "text": [
      "\r",
      "412416/412416 [==============================] - ETA: 0s - loss: 168.3981 - reconstruction_loss: 88.4408 - KL_loss: 22.5884"
     ]
    },
    {
     "name": "stdout",
     "output_type": "stream",
     "text": [
      "\b\b\b\b\b\b\b\b\b\b\b\b\b\b\b\b\b\b\b\b\b\b\b\b\b\b\b\b\b\b\b\b\b\b\b\b\b\b\b\b\b\b\b\b\b\b\b\b\b\b\b\b\b\b\b\b\b\b\b\b\b\b\b\b\b\b\b\b\b\b\b\b\b\b\b\b\b\b\b\b\b\b\b\b\b\b\b\b\b\b\b\b\b\b\b\b\b\b\b\b\b\b\b\b\b\b\b\b\b\b\b\b\b\b\b\b\b\b\b\b\b\b\b\r",
      "412416/412416 [==============================] - 11s 28us/sample - loss: 168.3981 - reconstruction_loss: 88.4408 - KL_loss: 22.5884 - val_loss: 105.5605 - val_reconstruction_loss: 83.4190 - val_KL_loss: 22.1415 - lr: 5.0000e-04\n",
      "Epoch 700/1000\n"
     ]
    },
    {
     "name": "stdout",
     "output_type": "stream",
     "text": [
      "\r",
      "412416/412416 [==============================] - ETA: 0s - loss: 168.3825 - reconstruction_loss: 88.4685 - KL_loss: 22.5383"
     ]
    },
    {
     "name": "stdout",
     "output_type": "stream",
     "text": [
      "\b\b\b\b\b\b\b\b\b\b\b\b\b\b\b\b\b\b\b\b\b\b\b\b\b\b\b\b\b\b\b\b\b\b\b\b\b\b\b\b\b\b\b\b\b\b\b\b\b\b\b\b\b\b\b\b\b\b\b\b\b\b\b\b\b\b\b\b\b\b\b\b\b\b\b\b\b\b\b\b\b\b\b\b\b\b\b\b\b\b\b\b\b\b\b\b\b\b\b\b\b\b\b\b\b\b\b\b\b\b\b\b\b\b\b\b\b\b\b\b\b\b\b\r",
      "412416/412416 [==============================] - 14s 34us/sample - loss: 168.3825 - reconstruction_loss: 88.4685 - KL_loss: 22.5383 - val_loss: 105.5693 - val_reconstruction_loss: 83.5220 - val_KL_loss: 22.0473 - lr: 5.0000e-04\n",
      "Epoch 701/1000\n"
     ]
    },
    {
     "name": "stdout",
     "output_type": "stream",
     "text": [
      "\r",
      "412416/412416 [==============================] - ETA: 0s - loss: 168.2569 - reconstruction_loss: 88.5724 - KL_loss: 22.4467"
     ]
    },
    {
     "name": "stdout",
     "output_type": "stream",
     "text": [
      "\b\b\b\b\b\b\b\b\b\b\b\b\b\b\b\b\b\b\b\b\b\b\b\b\b\b\b\b\b\b\b\b\b\b\b\b\b\b\b\b\b\b\b\b\b\b\b\b\b\b\b\b\b\b\b\b\b\b\b\b\b\b\b\b\b\b\b\b\b\b\b\b\b\b\b\b\b\b\b\b\b\b\b\b\b\b\b\b\b\b\b\b\b\b\b\b\b\b\b\b\b\b\b\b\b\b\b\b\b\b\b\b\b\b\b\b\b\b\b\b\b\b\b\r",
      "412416/412416 [==============================] - 11s 27us/sample - loss: 168.2569 - reconstruction_loss: 88.5724 - KL_loss: 22.4467 - val_loss: 105.5703 - val_reconstruction_loss: 83.4899 - val_KL_loss: 22.0804 - lr: 5.0000e-04\n",
      "Epoch 702/1000\n"
     ]
    },
    {
     "name": "stdout",
     "output_type": "stream",
     "text": [
      "\r",
      "412416/412416 [==============================] - ETA: 0s - loss: 168.2648 - reconstruction_loss: 88.5166 - KL_loss: 22.4802"
     ]
    },
    {
     "name": "stdout",
     "output_type": "stream",
     "text": [
      "\b\b\b\b\b\b\b\b\b\b\b\b\b\b\b\b\b\b\b\b\b\b\b\b\b\b\b\b\b\b\b\b\b\b\b\b\b\b\b\b\b\b\b\b\b\b\b\b\b\b\b\b\b\b\b\b\b\b\b\b\b\b\b\b\b\b\b\b\b\b\b\b\b\b\b\b\b\b\b\b\b\b\b\b\b\b\b\b\b\b\b\b\b\b\b\b\b\b\b\b\b\b\b\b\b\b\b\b\b\b\b\b\b\b\b\b\b\b\b\b\b\b\b\r",
      "412416/412416 [==============================] - 11s 28us/sample - loss: 168.2648 - reconstruction_loss: 88.5166 - KL_loss: 22.4802 - val_loss: 105.5864 - val_reconstruction_loss: 83.3682 - val_KL_loss: 22.2181 - lr: 5.0000e-04\n",
      "Epoch 703/1000\n"
     ]
    },
    {
     "name": "stdout",
     "output_type": "stream",
     "text": [
      "\r",
      "412416/412416 [==============================] - ETA: 0s - loss: 168.3173 - reconstruction_loss: 88.3872 - KL_loss: 22.6147"
     ]
    },
    {
     "name": "stdout",
     "output_type": "stream",
     "text": [
      "\b\b\b\b\b\b\b\b\b\b\b\b\b\b\b\b\b\b\b\b\b\b\b\b\b\b\b\b\b\b\b\b\b\b\b\b\b\b\b\b\b\b\b\b\b\b\b\b\b\b\b\b\b\b\b\b\b\b\b\b\b\b\b\b\b\b\b\b\b\b\b\b\b\b\b\b\b\b\b\b\b\b\b\b\b\b\b\b\b\b\b\b\b\b\b\b\b\b\b\b\b\b\b\b\b\b\b\b\b\b\b\b\b\b\b\b\b\b\b\b\b\b\b\r",
      "412416/412416 [==============================] - 11s 27us/sample - loss: 168.3173 - reconstruction_loss: 88.3872 - KL_loss: 22.6147 - val_loss: 105.5439 - val_reconstruction_loss: 83.2974 - val_KL_loss: 22.2465 - lr: 5.0000e-04\n",
      "Epoch 704/1000\n"
     ]
    },
    {
     "name": "stdout",
     "output_type": "stream",
     "text": [
      "\r",
      "412416/412416 [==============================] - ETA: 0s - loss: 168.2966 - reconstruction_loss: 88.3552 - KL_loss: 22.6425"
     ]
    },
    {
     "name": "stdout",
     "output_type": "stream",
     "text": [
      "\b\b\b\b\b\b\b\b\b\b\b\b\b\b\b\b\b\b\b\b\b\b\b\b\b\b\b\b\b\b\b\b\b\b\b\b\b\b\b\b\b\b\b\b\b\b\b\b\b\b\b\b\b\b\b\b\b\b\b\b\b\b\b\b\b\b\b\b\b\b\b\b\b\b\b\b\b\b\b\b\b\b\b\b\b\b\b\b\b\b\b\b\b\b\b\b\b\b\b\b\b\b\b\b\b\b\b\b\b\b\b\b\b\b\b\b\b\b\b\b\b\b\b\r",
      "412416/412416 [==============================] - 12s 30us/sample - loss: 168.2966 - reconstruction_loss: 88.3552 - KL_loss: 22.6425 - val_loss: 105.5747 - val_reconstruction_loss: 83.4133 - val_KL_loss: 22.1614 - lr: 5.0000e-04\n",
      "Epoch 705/1000\n"
     ]
    },
    {
     "name": "stdout",
     "output_type": "stream",
     "text": [
      "\r",
      "412416/412416 [==============================] - ETA: 0s - loss: 168.1808 - reconstruction_loss: 88.4404 - KL_loss: 22.5606"
     ]
    },
    {
     "name": "stdout",
     "output_type": "stream",
     "text": [
      "\b\b\b\b\b\b\b\b\b\b\b\b\b\b\b\b\b\b\b\b\b\b\b\b\b\b\b\b\b\b\b\b\b\b\b\b\b\b\b\b\b\b\b\b\b\b\b\b\b\b\b\b\b\b\b\b\b\b\b\b\b\b\b\b\b\b\b\b\b\b\b\b\b\b\b\b\b\b\b\b\b\b\b\b\b\b\b\b\b\b\b\b\b\b\b\b\b\b\b\b\b\b\b\b\b\b\b\b\b\b\b\b\b\b\b\b\b\b\b\b\b\b\b\r",
      "412416/412416 [==============================] - 11s 28us/sample - loss: 168.1808 - reconstruction_loss: 88.4404 - KL_loss: 22.5606 - val_loss: 105.5783 - val_reconstruction_loss: 83.4334 - val_KL_loss: 22.1449 - lr: 5.0000e-04\n",
      "Epoch 706/1000\n"
     ]
    },
    {
     "name": "stdout",
     "output_type": "stream",
     "text": [
      "\r",
      "412416/412416 [==============================] - ETA: 0s - loss: 168.1957 - reconstruction_loss: 88.4395 - KL_loss: 22.5434"
     ]
    },
    {
     "name": "stdout",
     "output_type": "stream",
     "text": [
      "\b\b\b\b\b\b\b\b\b\b\b\b\b\b\b\b\b\b\b\b\b\b\b\b\b\b\b\b\b\b\b\b\b\b\b\b\b\b\b\b\b\b\b\b\b\b\b\b\b\b\b\b\b\b\b\b\b\b\b\b\b\b\b\b\b\b\b\b\b\b\b\b\b\b\b\b\b\b\b\b\b\b\b\b\b\b\b\b\b\b\b\b\b\b\b\b\b\b\b\b\b\b\b\b\b\b\b\b\b\b\b\b\b\b\b\b\b\b\b\b\b\b\b\r",
      "412416/412416 [==============================] - 11s 28us/sample - loss: 168.1957 - reconstruction_loss: 88.4395 - KL_loss: 22.5434 - val_loss: 105.5729 - val_reconstruction_loss: 83.3679 - val_KL_loss: 22.2051 - lr: 5.0000e-04\n",
      "Epoch 707/1000\n"
     ]
    },
    {
     "name": "stdout",
     "output_type": "stream",
     "text": [
      "\r",
      "412416/412416 [==============================] - ETA: 0s - loss: 168.2116 - reconstruction_loss: 88.3783 - KL_loss: 22.6006"
     ]
    },
    {
     "name": "stdout",
     "output_type": "stream",
     "text": [
      "\b\b\b\b\b\b\b\b\b\b\b\b\b\b\b\b\b\b\b\b\b\b\b\b\b\b\b\b\b\b\b\b\b\b\b\b\b\b\b\b\b\b\b\b\b\b\b\b\b\b\b\b\b\b\b\b\b\b\b\b\b\b\b\b\b\b\b\b\b\b\b\b\b\b\b\b\b\b\b\b\b\b\b\b\b\b\b\b\b\b\b\b\b\b\b\b\b\b\b\b\b\b\b\b\b\b\b\b\b\b\b\b\b\b\b\b\b\b\b\b\b\b\b\r",
      "412416/412416 [==============================] - 15s 36us/sample - loss: 168.2116 - reconstruction_loss: 88.3783 - KL_loss: 22.6006 - val_loss: 105.5846 - val_reconstruction_loss: 83.4243 - val_KL_loss: 22.1603 - lr: 5.0000e-04\n",
      "Epoch 708/1000\n"
     ]
    },
    {
     "name": "stdout",
     "output_type": "stream",
     "text": [
      "\r",
      "412416/412416 [==============================] - ETA: 0s - loss: 168.1398 - reconstruction_loss: 88.4240 - KL_loss: 22.5570"
     ]
    },
    {
     "name": "stdout",
     "output_type": "stream",
     "text": [
      "\b\b\b\b\b\b\b\b\b\b\b\b\b\b\b\b\b\b\b\b\b\b\b\b\b\b\b\b\b\b\b\b\b\b\b\b\b\b\b\b\b\b\b\b\b\b\b\b\b\b\b\b\b\b\b\b\b\b\b\b\b\b\b\b\b\b\b\b\b\b\b\b\b\b\b\b\b\b\b\b\b\b\b\b\b\b\b\b\b\b\b\b\b\b\b\b\b\b\b\b\b\b\b\b\b\b\b\b\b\b\b\b\b\b\b\b\b\b\b\b\b\b\b\r",
      "412416/412416 [==============================] - 12s 28us/sample - loss: 168.1398 - reconstruction_loss: 88.4240 - KL_loss: 22.5570 - val_loss: 105.5807 - val_reconstruction_loss: 83.4986 - val_KL_loss: 22.0820 - lr: 5.0000e-04\n",
      "Epoch 709/1000\n"
     ]
    },
    {
     "name": "stdout",
     "output_type": "stream",
     "text": [
      "\r",
      "412416/412416 [==============================] - ETA: 0s - loss: 168.1916 - reconstruction_loss: 88.5132 - KL_loss: 22.4807"
     ]
    },
    {
     "name": "stdout",
     "output_type": "stream",
     "text": [
      "\b\b\b\b\b\b\b\b\b\b\b\b\b\b\b\b\b\b\b\b\b\b\b\b\b\b\b\b\b\b\b\b\b\b\b\b\b\b\b\b\b\b\b\b\b\b\b\b\b\b\b\b\b\b\b\b\b\b\b\b\b\b\b\b\b\b\b\b\b\b\b\b\b\b\b\b\b\b\b\b\b\b\b\b\b\b\b\b\b\b\b\b\b\b\b\b\b\b\b\b\b\b\b\b\b\b\b\b\b\b\b\b\b\b\b\b\b\b\b\b\b\b\b\r",
      "412416/412416 [==============================] - 12s 28us/sample - loss: 168.1916 - reconstruction_loss: 88.5132 - KL_loss: 22.4807 - val_loss: 105.5335 - val_reconstruction_loss: 83.3953 - val_KL_loss: 22.1382 - lr: 5.0000e-04\n",
      "Epoch 710/1000\n"
     ]
    },
    {
     "name": "stdout",
     "output_type": "stream",
     "text": [
      "\r",
      "412416/412416 [==============================] - ETA: 0s - loss: 168.0827 - reconstruction_loss: 88.4329 - KL_loss: 22.5359"
     ]
    },
    {
     "name": "stdout",
     "output_type": "stream",
     "text": [
      "\b\b\b\b\b\b\b\b\b\b\b\b\b\b\b\b\b\b\b\b\b\b\b\b\b\b\b\b\b\b\b\b\b\b\b\b\b\b\b\b\b\b\b\b\b\b\b\b\b\b\b\b\b\b\b\b\b\b\b\b\b\b\b\b\b\b\b\b\b\b\b\b\b\b\b\b\b\b\b\b\b\b\b\b\b\b\b\b\b\b\b\b\b\b\b\b\b\b\b\b\b\b\b\b\b\b\b\b\b\b\b\b\b\b\b\b\b\b\b\b\b\b\b\r",
      "412416/412416 [==============================] - 12s 29us/sample - loss: 168.0827 - reconstruction_loss: 88.4329 - KL_loss: 22.5359 - val_loss: 105.5787 - val_reconstruction_loss: 83.3183 - val_KL_loss: 22.2603 - lr: 5.0000e-04\n",
      "Epoch 711/1000\n"
     ]
    },
    {
     "name": "stdout",
     "output_type": "stream",
     "text": [
      "\r",
      "412416/412416 [==============================] - ETA: 0s - loss: 168.1534 - reconstruction_loss: 88.3533 - KL_loss: 22.6562"
     ]
    },
    {
     "name": "stdout",
     "output_type": "stream",
     "text": [
      "\b\b\b\b\b\b\b\b\b\b\b\b\b\b\b\b\b\b\b\b\b\b\b\b\b\b\b\b\b\b\b\b\b\b\b\b\b\b\b\b\b\b\b\b\b\b\b\b\b\b\b\b\b\b\b\b\b\b\b\b\b\b\b\b\b\b\b\b\b\b\b\b\b\b\b\b\b\b\b\b\b\b\b\b\b\b\b\b\b\b\b\b\b\b\b\b\b\b\b\b\b\b\b\b\b\b\b\b\b\b\b\b\b\b\b\b\b\b\b\b\b\b\b\r",
      "412416/412416 [==============================] - 12s 28us/sample - loss: 168.1534 - reconstruction_loss: 88.3533 - KL_loss: 22.6562 - val_loss: 105.5290 - val_reconstruction_loss: 83.2800 - val_KL_loss: 22.2490 - lr: 5.0000e-04\n",
      "Epoch 712/1000\n"
     ]
    },
    {
     "name": "stdout",
     "output_type": "stream",
     "text": [
      "\r",
      "412416/412416 [==============================] - ETA: 0s - loss: 168.0952 - reconstruction_loss: 88.3346 - KL_loss: 22.6445"
     ]
    },
    {
     "name": "stdout",
     "output_type": "stream",
     "text": [
      "\b\b\b\b\b\b\b\b\b\b\b\b\b\b\b\b\b\b\b\b\b\b\b\b\b\b\b\b\b\b\b\b\b\b\b\b\b\b\b\b\b\b\b\b\b\b\b\b\b\b\b\b\b\b\b\b\b\b\b\b\b\b\b\b\b\b\b\b\b\b\b\b\b\b\b\b\b\b\b\b\b\b\b\b\b\b\b\b\b\b\b\b\b\b\b\b\b\b\b\b\b\b\b\b\b\b\b\b\b\b\b\b\b\b\b\b\b\b\b\b\b\b\b\r",
      "412416/412416 [==============================] - 11s 28us/sample - loss: 168.0952 - reconstruction_loss: 88.3346 - KL_loss: 22.6445 - val_loss: 105.5401 - val_reconstruction_loss: 83.4184 - val_KL_loss: 22.1217 - lr: 5.0000e-04\n",
      "Epoch 713/1000\n"
     ]
    },
    {
     "name": "stdout",
     "output_type": "stream",
     "text": [
      "\r",
      "412416/412416 [==============================] - ETA: 0s - loss: 168.0957 - reconstruction_loss: 88.4679 - KL_loss: 22.5195"
     ]
    },
    {
     "name": "stdout",
     "output_type": "stream",
     "text": [
      "\b\b\b\b\b\b\b\b\b\b\b\b\b\b\b\b\b\b\b\b\b\b\b\b\b\b\b\b\b\b\b\b\b\b\b\b\b\b\b\b\b\b\b\b\b\b\b\b\b\b\b\b\b\b\b\b\b\b\b\b\b\b\b\b\b\b\b\b\b\b\b\b\b\b\b\b\b\b\b\b\b\b\b\b\b\b\b\b\b\b\b\b\b\b\b\b\b\b\b\b\b\b\b\b\b\b\b\b\b\b\b\b\b\b\b\b\b\b\b\b\b\b\b\r",
      "412416/412416 [==============================] - 12s 28us/sample - loss: 168.0957 - reconstruction_loss: 88.4679 - KL_loss: 22.5195 - val_loss: 105.5165 - val_reconstruction_loss: 83.4151 - val_KL_loss: 22.1014 - lr: 5.0000e-04\n",
      "Epoch 714/1000\n"
     ]
    },
    {
     "name": "stdout",
     "output_type": "stream",
     "text": [
      "\r",
      "412416/412416 [==============================] - ETA: 0s - loss: 168.0540 - reconstruction_loss: 88.4949 - KL_loss: 22.5012"
     ]
    },
    {
     "name": "stdout",
     "output_type": "stream",
     "text": [
      "\b\b\b\b\b\b\b\b\b\b\b\b\b\b\b\b\b\b\b\b\b\b\b\b\b\b\b\b\b\b\b\b\b\b\b\b\b\b\b\b\b\b\b\b\b\b\b\b\b\b\b\b\b\b\b\b\b\b\b\b\b\b\b\b\b\b\b\b\b\b\b\b\b\b\b\b\b\b\b\b\b\b\b\b\b\b\b\b\b\b\b\b\b\b\b\b\b\b\b\b\b\b\b\b\b\b\b\b\b\b\b\b\b\b\b\b\b\b\b\b\b\b\b\r",
      "412416/412416 [==============================] - 11s 27us/sample - loss: 168.0540 - reconstruction_loss: 88.4949 - KL_loss: 22.5012 - val_loss: 105.5107 - val_reconstruction_loss: 83.3308 - val_KL_loss: 22.1800 - lr: 5.0000e-04\n",
      "Epoch 715/1000\n"
     ]
    },
    {
     "name": "stdout",
     "output_type": "stream",
     "text": [
      "\r",
      "412416/412416 [==============================] - ETA: 0s - loss: 167.9208 - reconstruction_loss: 88.3799 - KL_loss: 22.5763"
     ]
    },
    {
     "name": "stdout",
     "output_type": "stream",
     "text": [
      "\b\b\b\b\b\b\b\b\b\b\b\b\b\b\b\b\b\b\b\b\b\b\b\b\b\b\b\b\b\b\b\b\b\b\b\b\b\b\b\b\b\b\b\b\b\b\b\b\b\b\b\b\b\b\b\b\b\b\b\b\b\b\b\b\b\b\b\b\b\b\b\b\b\b\b\b\b\b\b\b\b\b\b\b\b\b\b\b\b\b\b\b\b\b\b\b\b\b\b\b\b\b\b\b\b\b\b\b\b\b\b\b\b\b\b\b\b\b\b\b\b\b\b\r",
      "412416/412416 [==============================] - 12s 30us/sample - loss: 167.9208 - reconstruction_loss: 88.3799 - KL_loss: 22.5763 - val_loss: 105.5136 - val_reconstruction_loss: 83.3559 - val_KL_loss: 22.1577 - lr: 5.0000e-04\n",
      "Epoch 716/1000\n"
     ]
    },
    {
     "name": "stdout",
     "output_type": "stream",
     "text": [
      "\r",
      "412416/412416 [==============================] - ETA: 0s - loss: 168.0279 - reconstruction_loss: 88.4016 - KL_loss: 22.5537"
     ]
    },
    {
     "name": "stdout",
     "output_type": "stream",
     "text": [
      "\b\b\b\b\b\b\b\b\b\b\b\b\b\b\b\b\b\b\b\b\b\b\b\b\b\b\b\b\b\b\b\b\b\b\b\b\b\b\b\b\b\b\b\b\b\b\b\b\b\b\b\b\b\b\b\b\b\b\b\b\b\b\b\b\b\b\b\b\b\b\b\b\b\b\b\b\b\b\b\b\b\b\b\b\b\b\b\b\b\b\b\b\b\b\b\b\b\b\b\b\b\b\b\b\b\b\b\b\b\b\b\b\b\b\b\b\b\b\b\b\b\b\b\r",
      "412416/412416 [==============================] - 11s 28us/sample - loss: 168.0279 - reconstruction_loss: 88.4016 - KL_loss: 22.5537 - val_loss: 105.5393 - val_reconstruction_loss: 83.4082 - val_KL_loss: 22.1311 - lr: 5.0000e-04\n",
      "Epoch 717/1000\n"
     ]
    },
    {
     "name": "stdout",
     "output_type": "stream",
     "text": [
      "\r",
      "412416/412416 [==============================] - ETA: 0s - loss: 168.0318 - reconstruction_loss: 88.4223 - KL_loss: 22.5303"
     ]
    },
    {
     "name": "stdout",
     "output_type": "stream",
     "text": [
      "\b\b\b\b\b\b\b\b\b\b\b\b\b\b\b\b\b\b\b\b\b\b\b\b\b\b\b\b\b\b\b\b\b\b\b\b\b\b\b\b\b\b\b\b\b\b\b\b\b\b\b\b\b\b\b\b\b\b\b\b\b\b\b\b\b\b\b\b\b\b\b\b\b\b\b\b\b\b\b\b\b\b\b\b\b\b\b\b\b\b\b\b\b\b\b\b\b\b\b\b\b\b\b\b\b\b\b\b\b\b\b\b\b\b\b\b\b\b\b\b\b\b\b\r",
      "412416/412416 [==============================] - 13s 30us/sample - loss: 168.0318 - reconstruction_loss: 88.4223 - KL_loss: 22.5303 - val_loss: 105.4886 - val_reconstruction_loss: 83.2600 - val_KL_loss: 22.2286 - lr: 5.0000e-04\n",
      "Epoch 718/1000\n"
     ]
    },
    {
     "name": "stdout",
     "output_type": "stream",
     "text": [
      "\r",
      "412416/412416 [==============================] - ETA: 0s - loss: 167.9228 - reconstruction_loss: 88.3279 - KL_loss: 22.6259"
     ]
    },
    {
     "name": "stdout",
     "output_type": "stream",
     "text": [
      "\b\b\b\b\b\b\b\b\b\b\b\b\b\b\b\b\b\b\b\b\b\b\b\b\b\b\b\b\b\b\b\b\b\b\b\b\b\b\b\b\b\b\b\b\b\b\b\b\b\b\b\b\b\b\b\b\b\b\b\b\b\b\b\b\b\b\b\b\b\b\b\b\b\b\b\b\b\b\b\b\b\b\b\b\b\b\b\b\b\b\b\b\b\b\b\b\b\b\b\b\b\b\b\b\b\b\b\b\b\b\b\b\b\b\b\b\b\b\b\b\b\b\b\r",
      "412416/412416 [==============================] - 25s 60us/sample - loss: 167.9228 - reconstruction_loss: 88.3279 - KL_loss: 22.6259 - val_loss: 105.5333 - val_reconstruction_loss: 83.2528 - val_KL_loss: 22.2805 - lr: 5.0000e-04\n",
      "Epoch 719/1000\n"
     ]
    },
    {
     "name": "stdout",
     "output_type": "stream",
     "text": [
      "\r",
      "412416/412416 [==============================] - ETA: 0s - loss: 167.9691 - reconstruction_loss: 88.2714 - KL_loss: 22.6769"
     ]
    },
    {
     "name": "stdout",
     "output_type": "stream",
     "text": [
      "\b\b\b\b\b\b\b\b\b\b\b\b\b\b\b\b\b\b\b\b\b\b\b\b\b\b\b\b\b\b\b\b\b\b\b\b\b\b\b\b\b\b\b\b\b\b\b\b\b\b\b\b\b\b\b\b\b\b\b\b\b\b\b\b\b\b\b\b\b\b\b\b\b\b\b\b\b\b\b\b\b\b\b\b\b\b\b\b\b\b\b\b\b\b\b\b\b\b\b\b\b\b\b\b\b\b\b\b\b\b\b\b\b\b\b\b\b\b\b\b\b\b\b\r",
      "412416/412416 [==============================] - 12s 28us/sample - loss: 167.9691 - reconstruction_loss: 88.2714 - KL_loss: 22.6769 - val_loss: 105.5084 - val_reconstruction_loss: 83.2584 - val_KL_loss: 22.2500 - lr: 5.0000e-04\n",
      "Epoch 720/1000\n"
     ]
    },
    {
     "name": "stdout",
     "output_type": "stream",
     "text": [
      "\r",
      "412416/412416 [==============================] - ETA: 0s - loss: 167.9002 - reconstruction_loss: 88.3104 - KL_loss: 22.6453"
     ]
    },
    {
     "name": "stdout",
     "output_type": "stream",
     "text": [
      "\b\b\b\b\b\b\b\b\b\b\b\b\b\b\b\b\b\b\b\b\b\b\b\b\b\b\b\b\b\b\b\b\b\b\b\b\b\b\b\b\b\b\b\b\b\b\b\b\b\b\b\b\b\b\b\b\b\b\b\b\b\b\b\b\b\b\b\b\b\b\b\b\b\b\b\b\b\b\b\b\b\b\b\b\b\b\b\b\b\b\b\b\b\b\b\b\b\b\b\b\b\b\b\b\b\b\b\b\b\b\b\b\b\b\b\b\b\b\b\b\b\b\b\r",
      "412416/412416 [==============================] - 12s 28us/sample - loss: 167.9002 - reconstruction_loss: 88.3104 - KL_loss: 22.6453 - val_loss: 105.5385 - val_reconstruction_loss: 83.3690 - val_KL_loss: 22.1694 - lr: 5.0000e-04\n",
      "Epoch 721/1000\n"
     ]
    },
    {
     "name": "stdout",
     "output_type": "stream",
     "text": [
      "\r",
      "412416/412416 [==============================] - ETA: 0s - loss: 167.9635 - reconstruction_loss: 88.3900 - KL_loss: 22.5678"
     ]
    },
    {
     "name": "stdout",
     "output_type": "stream",
     "text": [
      "\b\b\b\b\b\b\b\b\b\b\b\b\b\b\b\b\b\b\b\b\b\b\b\b\b\b\b\b\b\b\b\b\b\b\b\b\b\b\b\b\b\b\b\b\b\b\b\b\b\b\b\b\b\b\b\b\b\b\b\b\b\b\b\b\b\b\b\b\b\b\b\b\b\b\b\b\b\b\b\b\b\b\b\b\b\b\b\b\b\b\b\b\b\b\b\b\b\b\b\b\b\b\b\b\b\b\b\b\b\b\b\b\b\b\b\b\b\b\b\b\b\b\b\r",
      "412416/412416 [==============================] - 12s 30us/sample - loss: 167.9635 - reconstruction_loss: 88.3900 - KL_loss: 22.5678 - val_loss: 105.5215 - val_reconstruction_loss: 83.3262 - val_KL_loss: 22.1953 - lr: 5.0000e-04\n",
      "Epoch 722/1000\n"
     ]
    },
    {
     "name": "stdout",
     "output_type": "stream",
     "text": [
      "\r",
      "412416/412416 [==============================] - ETA: 0s - loss: 167.8973 - reconstruction_loss: 88.3414 - KL_loss: 22.5933"
     ]
    },
    {
     "name": "stdout",
     "output_type": "stream",
     "text": [
      "\b\b\b\b\b\b\b\b\b\b\b\b\b\b\b\b\b\b\b\b\b\b\b\b\b\b\b\b\b\b\b\b\b\b\b\b\b\b\b\b\b\b\b\b\b\b\b\b\b\b\b\b\b\b\b\b\b\b\b\b\b\b\b\b\b\b\b\b\b\b\b\b\b\b\b\b\b\b\b\b\b\b\b\b\b\b\b\b\b\b\b\b\b\b\b\b\b\b\b\b\b\b\b\b\b\b\b\b\b\b\b\b\b\b\b\b\b\b\b\b\b\b\b\r",
      "412416/412416 [==============================] - 12s 28us/sample - loss: 167.8973 - reconstruction_loss: 88.3414 - KL_loss: 22.5933 - val_loss: 105.5613 - val_reconstruction_loss: 83.3162 - val_KL_loss: 22.2452 - lr: 5.0000e-04\n",
      "Epoch 723/1000\n"
     ]
    },
    {
     "name": "stdout",
     "output_type": "stream",
     "text": [
      "\r",
      "412416/412416 [==============================] - ETA: 0s - loss: 168.0083 - reconstruction_loss: 88.3430 - KL_loss: 22.6399"
     ]
    },
    {
     "name": "stdout",
     "output_type": "stream",
     "text": [
      "\b\b\b\b\b\b\b\b\b\b\b\b\b\b\b\b\b\b\b\b\b\b\b\b\b\b\b\b\b\b\b\b\b\b\b\b\b\b\b\b\b\b\b\b\b\b\b\b\b\b\b\b\b\b\b\b\b\b\b\b\b\b\b\b\b\b\b\b\b\b\b\b\b\b\b\b\b\b\b\b\b\b\b\b\b\b\b\b\b\b\b\b\b\b\b\b\b\b\b\b\b\b\b\b\b\b\b\b\b\b\b\b\b\b\b\b\b\b\b\b\b\b\b\r",
      "412416/412416 [==============================] - 31s 76us/sample - loss: 168.0083 - reconstruction_loss: 88.3430 - KL_loss: 22.6399 - val_loss: 105.5157 - val_reconstruction_loss: 83.2972 - val_KL_loss: 22.2186 - lr: 5.0000e-04\n",
      "Epoch 724/1000\n"
     ]
    },
    {
     "name": "stdout",
     "output_type": "stream",
     "text": [
      "\r",
      "412416/412416 [==============================] - ETA: 0s - loss: 167.9318 - reconstruction_loss: 88.3509 - KL_loss: 22.6141"
     ]
    },
    {
     "name": "stdout",
     "output_type": "stream",
     "text": [
      "\b\b\b\b\b\b\b\b\b\b\b\b\b\b\b\b\b\b\b\b\b\b\b\b\b\b\b\b\b\b\b\b\b\b\b\b\b\b\b\b\b\b\b\b\b\b\b\b\b\b\b\b\b\b\b\b\b\b\b\b\b\b\b\b\b\b\b\b\b\b\b\b\b\b\b\b\b\b\b\b\b\b\b\b\b\b\b\b\b\b\b\b\b\b\b\b\b\b\b\b\b\b\b\b\b\b\b\b\b\b\b\b\b\b\b\b\b\b\b\b\b\b\b\r",
      "412416/412416 [==============================] - 12s 29us/sample - loss: 167.9318 - reconstruction_loss: 88.3509 - KL_loss: 22.6141 - val_loss: 105.5036 - val_reconstruction_loss: 83.3465 - val_KL_loss: 22.1570 - lr: 5.0000e-04\n",
      "Epoch 725/1000\n"
     ]
    },
    {
     "name": "stdout",
     "output_type": "stream",
     "text": [
      "\r",
      "412416/412416 [==============================] - ETA: 0s - loss: 167.8681 - reconstruction_loss: 88.3835 - KL_loss: 22.5544"
     ]
    },
    {
     "name": "stdout",
     "output_type": "stream",
     "text": [
      "\b\b\b\b\b\b\b\b\b\b\b\b\b\b\b\b\b\b\b\b\b\b\b\b\b\b\b\b\b\b\b\b\b\b\b\b\b\b\b\b\b\b\b\b\b\b\b\b\b\b\b\b\b\b\b\b\b\b\b\b\b\b\b\b\b\b\b\b\b\b\b\b\b\b\b\b\b\b\b\b\b\b\b\b\b\b\b\b\b\b\b\b\b\b\b\b\b\b\b\b\b\b\b\b\b\b\b\b\b\b\b\b\b\b\b\b\b\b\b\b\b\b\b\r",
      "412416/412416 [==============================] - 18s 44us/sample - loss: 167.8681 - reconstruction_loss: 88.3835 - KL_loss: 22.5544 - val_loss: 105.5383 - val_reconstruction_loss: 83.3309 - val_KL_loss: 22.2074 - lr: 5.0000e-04\n",
      "Epoch 726/1000\n"
     ]
    },
    {
     "name": "stdout",
     "output_type": "stream",
     "text": [
      "\r",
      "412416/412416 [==============================] - ETA: 0s - loss: 167.7914 - reconstruction_loss: 88.3523 - KL_loss: 22.6039"
     ]
    },
    {
     "name": "stdout",
     "output_type": "stream",
     "text": [
      "\b\b\b\b\b\b\b\b\b\b\b\b\b\b\b\b\b\b\b\b\b\b\b\b\b\b\b\b\b\b\b\b\b\b\b\b\b\b\b\b\b\b\b\b\b\b\b\b\b\b\b\b\b\b\b\b\b\b\b\b\b\b\b\b\b\b\b\b\b\b\b\b\b\b\b\b\b\b\b\b\b\b\b\b\b\b\b\b\b\b\b\b\b\b\b\b\b\b\b\b\b\b\b\b\b\b\b\b\b\b\b\b\b\b\b\b\b\b\b\b\b\b\b\r",
      "412416/412416 [==============================] - 12s 28us/sample - loss: 167.7914 - reconstruction_loss: 88.3523 - KL_loss: 22.6039 - val_loss: 105.5263 - val_reconstruction_loss: 83.2876 - val_KL_loss: 22.2387 - lr: 5.0000e-04\n",
      "Epoch 727/1000\n"
     ]
    },
    {
     "name": "stdout",
     "output_type": "stream",
     "text": [
      "\r",
      "412416/412416 [==============================] - ETA: 0s - loss: 167.8283 - reconstruction_loss: 88.3164 - KL_loss: 22.6358"
     ]
    },
    {
     "name": "stdout",
     "output_type": "stream",
     "text": [
      "\b\b\b\b\b\b\b\b\b\b\b\b\b\b\b\b\b\b\b\b\b\b\b\b\b\b\b\b\b\b\b\b\b\b\b\b\b\b\b\b\b\b\b\b\b\b\b\b\b\b\b\b\b\b\b\b\b\b\b\b\b\b\b\b\b\b\b\b\b\b\b\b\b\b\b\b\b\b\b\b\b\b\b\b\b\b\b\b\b\b\b\b\b\b\b\b\b\b\b\b\b\b\b\b\b\b\b\b\b\b\b\b\b\b\b\b\b\b\b\b\b\b\b\r",
      "412416/412416 [==============================] - 13s 31us/sample - loss: 167.8283 - reconstruction_loss: 88.3164 - KL_loss: 22.6358 - val_loss: 105.5011 - val_reconstruction_loss: 83.2774 - val_KL_loss: 22.2237 - lr: 5.0000e-04\n",
      "Epoch 728/1000\n"
     ]
    },
    {
     "name": "stdout",
     "output_type": "stream",
     "text": [
      "\r",
      "412416/412416 [==============================] - ETA: 0s - loss: 167.7457 - reconstruction_loss: 88.2984 - KL_loss: 22.6200"
     ]
    },
    {
     "name": "stdout",
     "output_type": "stream",
     "text": [
      "\b\b\b\b\b\b\b\b\b\b\b\b\b\b\b\b\b\b\b\b\b\b\b\b\b\b\b\b\b\b\b\b\b\b\b\b\b\b\b\b\b\b\b\b\b\b\b\b\b\b\b\b\b\b\b\b\b\b\b\b\b\b\b\b\b\b\b\b\b\b\b\b\b\b\b\b\b\b\b\b\b\b\b\b\b\b\b\b\b\b\b\b\b\b\b\b\b\b\b\b\b\b\b\b\b\b\b\b\b\b\b\b\b\b\b\b\b\b\b\b\b\b\b\r",
      "412416/412416 [==============================] - 12s 29us/sample - loss: 167.7457 - reconstruction_loss: 88.2984 - KL_loss: 22.6200 - val_loss: 105.5339 - val_reconstruction_loss: 83.3712 - val_KL_loss: 22.1627 - lr: 5.0000e-04\n",
      "Epoch 729/1000\n"
     ]
    },
    {
     "name": "stdout",
     "output_type": "stream",
     "text": [
      "\r",
      "412416/412416 [==============================] - ETA: 0s - loss: 167.7812 - reconstruction_loss: 88.3784 - KL_loss: 22.5599"
     ]
    },
    {
     "name": "stdout",
     "output_type": "stream",
     "text": [
      "\b\b\b\b\b\b\b\b\b\b\b\b\b\b\b\b\b\b\b\b\b\b\b\b\b\b\b\b\b\b\b\b\b\b\b\b\b\b\b\b\b\b\b\b\b\b\b\b\b\b\b\b\b\b\b\b\b\b\b\b\b\b\b\b\b\b\b\b\b\b\b\b\b\b\b\b\b\b\b\b\b\b\b\b\b\b\b\b\b\b\b\b\b\b\b\b\b\b\b\b\b\b\b\b\b\b\b\b\b\b\b\b\b\b\b\b\b\b\b\b\b\b\b\r",
      "412416/412416 [==============================] - 12s 30us/sample - loss: 167.7812 - reconstruction_loss: 88.3784 - KL_loss: 22.5599 - val_loss: 105.4920 - val_reconstruction_loss: 83.3167 - val_KL_loss: 22.1753 - lr: 5.0000e-04\n",
      "Epoch 730/1000\n"
     ]
    },
    {
     "name": "stdout",
     "output_type": "stream",
     "text": [
      "\r",
      "412416/412416 [==============================] - ETA: 0s - loss: 167.7440 - reconstruction_loss: 88.3616 - KL_loss: 22.5722"
     ]
    },
    {
     "name": "stdout",
     "output_type": "stream",
     "text": [
      "\b\b\b\b\b\b\b\b\b\b\b\b\b\b\b\b\b\b\b\b\b\b\b\b\b\b\b\b\b\b\b\b\b\b\b\b\b\b\b\b\b\b\b\b\b\b\b\b\b\b\b\b\b\b\b\b\b\b\b\b\b\b\b\b\b\b\b\b\b\b\b\b\b\b\b\b\b\b\b\b\b\b\b\b\b\b\b\b\b\b\b\b\b\b\b\b\b\b\b\b\b\b\b\b\b\b\b\b\b\b\b\b\b\b\b\b\b\b\b\b\b\b\b\r",
      "412416/412416 [==============================] - 19s 46us/sample - loss: 167.7440 - reconstruction_loss: 88.3616 - KL_loss: 22.5722 - val_loss: 105.5130 - val_reconstruction_loss: 83.2790 - val_KL_loss: 22.2339 - lr: 5.0000e-04\n",
      "Epoch 731/1000\n"
     ]
    },
    {
     "name": "stdout",
     "output_type": "stream",
     "text": [
      "\r",
      "412416/412416 [==============================] - ETA: 0s - loss: 167.7714 - reconstruction_loss: 88.3147 - KL_loss: 22.6296"
     ]
    },
    {
     "name": "stdout",
     "output_type": "stream",
     "text": [
      "\b\b\b\b\b\b\b\b\b\b\b\b\b\b\b\b\b\b\b\b\b\b\b\b\b\b\b\b\b\b\b\b\b\b\b\b\b\b\b\b\b\b\b\b\b\b\b\b\b\b\b\b\b\b\b\b\b\b\b\b\b\b\b\b\b\b\b\b\b\b\b\b\b\b\b\b\b\b\b\b\b\b\b\b\b\b\b\b\b\b\b\b\b\b\b\b\b\b\b\b\b\b\b\b\b\b\b\b\b\b\b\b\b\b\b\b\b\b\b\b\b\b\b\r",
      "412416/412416 [==============================] - 12s 29us/sample - loss: 167.7714 - reconstruction_loss: 88.3147 - KL_loss: 22.6296 - val_loss: 105.4967 - val_reconstruction_loss: 83.2875 - val_KL_loss: 22.2092 - lr: 5.0000e-04\n",
      "Epoch 732/1000\n"
     ]
    },
    {
     "name": "stdout",
     "output_type": "stream",
     "text": [
      "\r",
      "412416/412416 [==============================] - ETA: 0s - loss: 167.6380 - reconstruction_loss: 88.3143 - KL_loss: 22.6057"
     ]
    },
    {
     "name": "stdout",
     "output_type": "stream",
     "text": [
      "\b\b\b\b\b\b\b\b\b\b\b\b\b\b\b\b\b\b\b\b\b\b\b\b\b\b\b\b\b\b\b\b\b\b\b\b\b\b\b\b\b\b\b\b\b\b\b\b\b\b\b\b\b\b\b\b\b\b\b\b\b\b\b\b\b\b\b\b\b\b\b\b\b\b\b\b\b\b\b\b\b\b\b\b\b\b\b\b\b\b\b\b\b\b\b\b\b\b\b\b\b\b\b\b\b\b\b\b\b\b\b\b\b\b\b\b\b\b\b\b\b\b\b\r",
      "412416/412416 [==============================] - 12s 28us/sample - loss: 167.6380 - reconstruction_loss: 88.3143 - KL_loss: 22.6057 - val_loss: 105.5231 - val_reconstruction_loss: 83.3490 - val_KL_loss: 22.1741 - lr: 5.0000e-04\n",
      "Epoch 733/1000\n"
     ]
    },
    {
     "name": "stdout",
     "output_type": "stream",
     "text": [
      "\r",
      "412416/412416 [==============================] - ETA: 0s - loss: 167.7622 - reconstruction_loss: 88.3668 - KL_loss: 22.5715"
     ]
    },
    {
     "name": "stdout",
     "output_type": "stream",
     "text": [
      "\b\b\b\b\b\b\b\b\b\b\b\b\b\b\b\b\b\b\b\b\b\b\b\b\b\b\b\b\b\b\b\b\b\b\b\b\b\b\b\b\b\b\b\b\b\b\b\b\b\b\b\b\b\b\b\b\b\b\b\b\b\b\b\b\b\b\b\b\b\b\b\b\b\b\b\b\b\b\b\b\b\b\b\b\b\b\b\b\b\b\b\b\b\b\b\b\b\b\b\b\b\b\b\b\b\b\b\b\b\b\b\b\b\b\b\b\b\b\b\b\b\b\b\r",
      "412416/412416 [==============================] - 13s 31us/sample - loss: 167.7622 - reconstruction_loss: 88.3668 - KL_loss: 22.5715 - val_loss: 105.5169 - val_reconstruction_loss: 83.3018 - val_KL_loss: 22.2151 - lr: 5.0000e-04\n",
      "Epoch 734/1000\n"
     ]
    },
    {
     "name": "stdout",
     "output_type": "stream",
     "text": [
      "\r",
      "412416/412416 [==============================] - ETA: 0s - loss: 167.7576 - reconstruction_loss: 88.3234 - KL_loss: 22.6120"
     ]
    },
    {
     "name": "stdout",
     "output_type": "stream",
     "text": [
      "\b\b\b\b\b\b\b\b\b\b\b\b\b\b\b\b\b\b\b\b\b\b\b\b\b\b\b\b\b\b\b\b\b\b\b\b\b\b\b\b\b\b\b\b\b\b\b\b\b\b\b\b\b\b\b\b\b\b\b\b\b\b\b\b\b\b\b\b\b\b\b\b\b\b\b\b\b\b\b\b\b\b\b\b\b\b\b\b\b\b\b\b\b\b\b\b\b\b\b\b\b\b\b\b\b\b\b\b\b\b\b\b\b\b\b\b\b\b\b\b\b\b\b\r",
      "412416/412416 [==============================] - 12s 28us/sample - loss: 167.7576 - reconstruction_loss: 88.3234 - KL_loss: 22.6120 - val_loss: 105.4871 - val_reconstruction_loss: 83.2227 - val_KL_loss: 22.2644 - lr: 5.0000e-04\n",
      "Epoch 735/1000\n"
     ]
    },
    {
     "name": "stdout",
     "output_type": "stream",
     "text": [
      "\r",
      "412416/412416 [==============================] - ETA: 0s - loss: 167.6517 - reconstruction_loss: 88.2461 - KL_loss: 22.6602"
     ]
    },
    {
     "name": "stdout",
     "output_type": "stream",
     "text": [
      "\b\b\b\b\b\b\b\b\b\b\b\b\b\b\b\b\b\b\b\b\b\b\b\b\b\b\b\b\b\b\b\b\b\b\b\b\b\b\b\b\b\b\b\b\b\b\b\b\b\b\b\b\b\b\b\b\b\b\b\b\b\b\b\b\b\b\b\b\b\b\b\b\b\b\b\b\b\b\b\b\b\b\b\b\b\b\b\b\b\b\b\b\b\b\b\b\b\b\b\b\b\b\b\b\b\b\b\b\b\b\b\b\b\b\b\b\b\b\b\b\b\b\b\r",
      "412416/412416 [==============================] - 11s 28us/sample - loss: 167.6517 - reconstruction_loss: 88.2461 - KL_loss: 22.6602 - val_loss: 105.5017 - val_reconstruction_loss: 83.2883 - val_KL_loss: 22.2134 - lr: 5.0000e-04\n",
      "Epoch 736/1000\n"
     ]
    },
    {
     "name": "stdout",
     "output_type": "stream",
     "text": [
      "\r",
      "412416/412416 [==============================] - ETA: 0s - loss: 167.6562 - reconstruction_loss: 88.3003 - KL_loss: 22.6097"
     ]
    },
    {
     "name": "stdout",
     "output_type": "stream",
     "text": [
      "\b\b\b\b\b\b\b\b\b\b\b\b\b\b\b\b\b\b\b\b\b\b\b\b\b\b\b\b\b\b\b\b\b\b\b\b\b\b\b\b\b\b\b\b\b\b\b\b\b\b\b\b\b\b\b\b\b\b\b\b\b\b\b\b\b\b\b\b\b\b\b\b\b\b\b\b\b\b\b\b\b\b\b\b\b\b\b\b\b\b\b\b\b\b\b\b\b\b\b\b\b\b\b\b\b\b\b\b\b\b\b\b\b\b\b\b\b\b\b\b\b\b\b\r",
      "412416/412416 [==============================] - 13s 30us/sample - loss: 167.6562 - reconstruction_loss: 88.3003 - KL_loss: 22.6097 - val_loss: 105.4760 - val_reconstruction_loss: 83.3179 - val_KL_loss: 22.1581 - lr: 5.0000e-04\n",
      "Epoch 737/1000\n"
     ]
    },
    {
     "name": "stdout",
     "output_type": "stream",
     "text": [
      "\r",
      "412416/412416 [==============================] - ETA: 0s - loss: 167.5759 - reconstruction_loss: 88.3486 - KL_loss: 22.5563"
     ]
    },
    {
     "name": "stdout",
     "output_type": "stream",
     "text": [
      "\b\b\b\b\b\b\b\b\b\b\b\b\b\b\b\b\b\b\b\b\b\b\b\b\b\b\b\b\b\b\b\b\b\b\b\b\b\b\b\b\b\b\b\b\b\b\b\b\b\b\b\b\b\b\b\b\b\b\b\b\b\b\b\b\b\b\b\b\b\b\b\b\b\b\b\b\b\b\b\b\b\b\b\b\b\b\b\b\b\b\b\b\b\b\b\b\b\b\b\b\b\b\b\b\b\b\b\b\b\b\b\b\b\b\b\b\b\b\b\b\b\b\b\r",
      "412416/412416 [==============================] - 12s 29us/sample - loss: 167.5759 - reconstruction_loss: 88.3486 - KL_loss: 22.5563 - val_loss: 105.4956 - val_reconstruction_loss: 83.2901 - val_KL_loss: 22.2055 - lr: 5.0000e-04\n",
      "Epoch 738/1000\n"
     ]
    },
    {
     "name": "stdout",
     "output_type": "stream",
     "text": [
      "\r",
      "412416/412416 [==============================] - ETA: 0s - loss: 167.5436 - reconstruction_loss: 88.3100 - KL_loss: 22.6011"
     ]
    },
    {
     "name": "stdout",
     "output_type": "stream",
     "text": [
      "\b\b\b\b\b\b\b\b\b\b\b\b\b\b\b\b\b\b\b\b\b\b\b\b\b\b\b\b\b\b\b\b\b\b\b\b\b\b\b\b\b\b\b\b\b\b\b\b\b\b\b\b\b\b\b\b\b\b\b\b\b\b\b\b\b\b\b\b\b\b\b\b\b\b\b\b\b\b\b\b\b\b\b\b\b\b\b\b\b\b\b\b\b\b\b\b\b\b\b\b\b\b\b\b\b\b\b\b\b\b\b\b\b\b\b\b\b\b\b\b\b\b\b\r",
      "412416/412416 [==============================] - 11s 28us/sample - loss: 167.5436 - reconstruction_loss: 88.3100 - KL_loss: 22.6011 - val_loss: 105.4467 - val_reconstruction_loss: 83.2541 - val_KL_loss: 22.1926 - lr: 5.0000e-04\n",
      "Epoch 739/1000\n"
     ]
    },
    {
     "name": "stdout",
     "output_type": "stream",
     "text": [
      "\r",
      "412416/412416 [==============================] - ETA: 0s - loss: 167.5004 - reconstruction_loss: 88.2920 - KL_loss: 22.5891"
     ]
    },
    {
     "name": "stdout",
     "output_type": "stream",
     "text": [
      "\b\b\b\b\b\b\b\b\b\b\b\b\b\b\b\b\b\b\b\b\b\b\b\b\b\b\b\b\b\b\b\b\b\b\b\b\b\b\b\b\b\b\b\b\b\b\b\b\b\b\b\b\b\b\b\b\b\b\b\b\b\b\b\b\b\b\b\b\b\b\b\b\b\b\b\b\b\b\b\b\b\b\b\b\b\b\b\b\b\b\b\b\b\b\b\b\b\b\b\b\b\b\b\b\b\b\b\b\b\b\b\b\b\b\b\b\b\b\b\b\b\b\b\r",
      "412416/412416 [==============================] - 12s 30us/sample - loss: 167.5004 - reconstruction_loss: 88.2920 - KL_loss: 22.5891 - val_loss: 105.4699 - val_reconstruction_loss: 83.3027 - val_KL_loss: 22.1672 - lr: 5.0000e-04\n",
      "Epoch 740/1000\n"
     ]
    },
    {
     "name": "stdout",
     "output_type": "stream",
     "text": [
      "\r",
      "412416/412416 [==============================] - ETA: 0s - loss: 167.5109 - reconstruction_loss: 88.3390 - KL_loss: 22.5660"
     ]
    },
    {
     "name": "stdout",
     "output_type": "stream",
     "text": [
      "\b\b\b\b\b\b\b\b\b\b\b\b\b\b\b\b\b\b\b\b\b\b\b\b\b\b\b\b\b\b\b\b\b\b\b\b\b\b\b\b\b\b\b\b\b\b\b\b\b\b\b\b\b\b\b\b\b\b\b\b\b\b\b\b\b\b\b\b\b\b\b\b\b\b\b\b\b\b\b\b\b\b\b\b\b\b\b\b\b\b\b\b\b\b\b\b\b\b\b\b\b\b\b\b\b\b\b\b\b\b\b\b\b\b\b\b\b\b\b\b\b\b\b\r",
      "412416/412416 [==============================] - 13s 30us/sample - loss: 167.5109 - reconstruction_loss: 88.3390 - KL_loss: 22.5660 - val_loss: 105.4586 - val_reconstruction_loss: 83.2522 - val_KL_loss: 22.2064 - lr: 5.0000e-04\n",
      "Epoch 741/1000\n"
     ]
    },
    {
     "name": "stdout",
     "output_type": "stream",
     "text": [
      "\r",
      "412416/412416 [==============================] - ETA: 0s - loss: 167.4819 - reconstruction_loss: 88.2731 - KL_loss: 22.6049"
     ]
    },
    {
     "name": "stdout",
     "output_type": "stream",
     "text": [
      "\b\b\b\b\b\b\b\b\b\b\b\b\b\b\b\b\b\b\b\b\b\b\b\b\b\b\b\b\b\b\b\b\b\b\b\b\b\b\b\b\b\b\b\b\b\b\b\b\b\b\b\b\b\b\b\b\b\b\b\b\b\b\b\b\b\b\b\b\b\b\b\b\b\b\b\b\b\b\b\b\b\b\b\b\b\b\b\b\b\b\b\b\b\b\b\b\b\b\b\b\b\b\b\b\b\b\b\b\b\b\b\b\b\b\b\b\b\b\b\b\b\b\b\r",
      "412416/412416 [==============================] - 11s 28us/sample - loss: 167.4819 - reconstruction_loss: 88.2731 - KL_loss: 22.6049 - val_loss: 105.4790 - val_reconstruction_loss: 83.2039 - val_KL_loss: 22.2751 - lr: 5.0000e-04\n",
      "Epoch 742/1000\n"
     ]
    },
    {
     "name": "stdout",
     "output_type": "stream",
     "text": [
      "\r",
      "412416/412416 [==============================] - ETA: 0s - loss: 167.6020 - reconstruction_loss: 88.2561 - KL_loss: 22.6706"
     ]
    },
    {
     "name": "stdout",
     "output_type": "stream",
     "text": [
      "\b\b\b\b\b\b\b\b\b\b\b\b\b\b\b\b\b\b\b\b\b\b\b\b\b\b\b\b\b\b\b\b\b\b\b\b\b\b\b\b\b\b\b\b\b\b\b\b\b\b\b\b\b\b\b\b\b\b\b\b\b\b\b\b\b\b\b\b\b\b\b\b\b\b\b\b\b\b\b\b\b\b\b\b\b\b\b\b\b\b\b\b\b\b\b\b\b\b\b\b\b\b\b\b\b\b\b\b\b\b\b\b\b\b\b\b\b\b\b\b\b\b\b\r",
      "412416/412416 [==============================] - 11s 28us/sample - loss: 167.6020 - reconstruction_loss: 88.2561 - KL_loss: 22.6706 - val_loss: 105.4478 - val_reconstruction_loss: 83.1940 - val_KL_loss: 22.2539 - lr: 5.0000e-04\n",
      "Epoch 743/1000\n"
     ]
    },
    {
     "name": "stdout",
     "output_type": "stream",
     "text": [
      "\r",
      "412416/412416 [==============================] - ETA: 0s - loss: 167.4644 - reconstruction_loss: 88.2322 - KL_loss: 22.6501"
     ]
    },
    {
     "name": "stdout",
     "output_type": "stream",
     "text": [
      "\b\b\b\b\b\b\b\b\b\b\b\b\b\b\b\b\b\b\b\b\b\b\b\b\b\b\b\b\b\b\b\b\b\b\b\b\b\b\b\b\b\b\b\b\b\b\b\b\b\b\b\b\b\b\b\b\b\b\b\b\b\b\b\b\b\b\b\b\b\b\b\b\b\b\b\b\b\b\b\b\b\b\b\b\b\b\b\b\b\b\b\b\b\b\b\b\b\b\b\b\b\b\b\b\b\b\b\b\b\b\b\b\b\b\b\b\b\b\b\b\b\b\b\r",
      "412416/412416 [==============================] - 12s 28us/sample - loss: 167.4644 - reconstruction_loss: 88.2322 - KL_loss: 22.6501 - val_loss: 105.4781 - val_reconstruction_loss: 83.2902 - val_KL_loss: 22.1879 - lr: 5.0000e-04\n",
      "Epoch 744/1000\n"
     ]
    },
    {
     "name": "stdout",
     "output_type": "stream",
     "text": [
      "\r",
      "412416/412416 [==============================] - ETA: 0s - loss: 167.5318 - reconstruction_loss: 88.3319 - KL_loss: 22.5854"
     ]
    },
    {
     "name": "stdout",
     "output_type": "stream",
     "text": [
      "\b\b\b\b\b\b\b\b\b\b\b\b\b\b\b\b\b\b\b\b\b\b\b\b\b\b\b\b\b\b\b\b\b\b\b\b\b\b\b\b\b\b\b\b\b\b\b\b\b\b\b\b\b\b\b\b\b\b\b\b\b\b\b\b\b\b\b\b\b\b\b\b\b\b\b\b\b\b\b\b\b\b\b\b\b\b\b\b\b\b\b\b\b\b\b\b\b\b\b\b\b\b\b\b\b\b\b\b\b\b\b\b\b\b\b\b\b\b\b\b\b\b\b\r",
      "412416/412416 [==============================] - 12s 28us/sample - loss: 167.5318 - reconstruction_loss: 88.3319 - KL_loss: 22.5854 - val_loss: 105.4650 - val_reconstruction_loss: 83.2367 - val_KL_loss: 22.2283 - lr: 5.0000e-04\n",
      "Epoch 745/1000\n"
     ]
    },
    {
     "name": "stdout",
     "output_type": "stream",
     "text": [
      "\r",
      "412416/412416 [==============================] - ETA: 0s - loss: 167.4829 - reconstruction_loss: 88.2860 - KL_loss: 22.6253"
     ]
    },
    {
     "name": "stdout",
     "output_type": "stream",
     "text": [
      "\b\b\b\b\b\b\b\b\b\b\b\b\b\b\b\b\b\b\b\b\b\b\b\b\b\b\b\b\b\b\b\b\b\b\b\b\b\b\b\b\b\b\b\b\b\b\b\b\b\b\b\b\b\b\b\b\b\b\b\b\b\b\b\b\b\b\b\b\b\b\b\b\b\b\b\b\b\b\b\b\b\b\b\b\b\b\b\b\b\b\b\b\b\b\b\b\b\b\b\b\b\b\b\b\b\b\b\b\b\b\b\b\b\b\b\b\b\b\b\b\b\b\b\r",
      "412416/412416 [==============================] - 12s 28us/sample - loss: 167.4829 - reconstruction_loss: 88.2860 - KL_loss: 22.6253 - val_loss: 105.4761 - val_reconstruction_loss: 83.1618 - val_KL_loss: 22.3143 - lr: 5.0000e-04\n",
      "Epoch 746/1000\n"
     ]
    },
    {
     "name": "stdout",
     "output_type": "stream",
     "text": [
      "\r",
      "412416/412416 [==============================] - ETA: 0s - loss: 167.4391 - reconstruction_loss: 88.1733 - KL_loss: 22.7096"
     ]
    },
    {
     "name": "stdout",
     "output_type": "stream",
     "text": [
      "\b\b\b\b\b\b\b\b\b\b\b\b\b\b\b\b\b\b\b\b\b\b\b\b\b\b\b\b\b\b\b\b\b\b\b\b\b\b\b\b\b\b\b\b\b\b\b\b\b\b\b\b\b\b\b\b\b\b\b\b\b\b\b\b\b\b\b\b\b\b\b\b\b\b\b\b\b\b\b\b\b\b\b\b\b\b\b\b\b\b\b\b\b\b\b\b\b\b\b\b\b\b\b\b\b\b\b\b\b\b\b\b\b\b\b\b\b\b\b\b\b\b\b\r",
      "412416/412416 [==============================] - 12s 28us/sample - loss: 167.4391 - reconstruction_loss: 88.1733 - KL_loss: 22.7096 - val_loss: 105.4620 - val_reconstruction_loss: 83.1595 - val_KL_loss: 22.3025 - lr: 5.0000e-04\n",
      "Epoch 747/1000\n"
     ]
    },
    {
     "name": "stdout",
     "output_type": "stream",
     "text": [
      "\r",
      "412416/412416 [==============================] - ETA: 0s - loss: 167.4194 - reconstruction_loss: 88.2030 - KL_loss: 22.6963"
     ]
    },
    {
     "name": "stdout",
     "output_type": "stream",
     "text": [
      "\b\b\b\b\b\b\b\b\b\b\b\b\b\b\b\b\b\b\b\b\b\b\b\b\b\b\b\b\b\b\b\b\b\b\b\b\b\b\b\b\b\b\b\b\b\b\b\b\b\b\b\b\b\b\b\b\b\b\b\b\b\b\b\b\b\b\b\b\b\b\b\b\b\b\b\b\b\b\b\b\b\b\b\b\b\b\b\b\b\b\b\b\b\b\b\b\b\b\b\b\b\b\b\b\b\b\b\b\b\b\b\b\b\b\b\b\b\b\b\b\b\b\b\r",
      "412416/412416 [==============================] - 15s 37us/sample - loss: 167.4194 - reconstruction_loss: 88.2030 - KL_loss: 22.6963 - val_loss: 105.4334 - val_reconstruction_loss: 83.2159 - val_KL_loss: 22.2175 - lr: 5.0000e-04\n",
      "Epoch 748/1000\n"
     ]
    },
    {
     "name": "stdout",
     "output_type": "stream",
     "text": [
      "\r",
      "412416/412416 [==============================] - ETA: 0s - loss: 167.4155 - reconstruction_loss: 88.2707 - KL_loss: 22.6130"
     ]
    },
    {
     "name": "stdout",
     "output_type": "stream",
     "text": [
      "\b\b\b\b\b\b\b\b\b\b\b\b\b\b\b\b\b\b\b\b\b\b\b\b\b\b\b\b\b\b\b\b\b\b\b\b\b\b\b\b\b\b\b\b\b\b\b\b\b\b\b\b\b\b\b\b\b\b\b\b\b\b\b\b\b\b\b\b\b\b\b\b\b\b\b\b\b\b\b\b\b\b\b\b\b\b\b\b\b\b\b\b\b\b\b\b\b\b\b\b\b\b\b\b\b\b\b\b\b\b\b\b\b\b\b\b\b\b\b\b\b\b\b\r",
      "412416/412416 [==============================] - 12s 28us/sample - loss: 167.4155 - reconstruction_loss: 88.2707 - KL_loss: 22.6130 - val_loss: 105.4623 - val_reconstruction_loss: 83.2478 - val_KL_loss: 22.2145 - lr: 5.0000e-04\n",
      "Epoch 749/1000\n"
     ]
    },
    {
     "name": "stdout",
     "output_type": "stream",
     "text": [
      "\r",
      "412416/412416 [==============================] - ETA: 0s - loss: 167.4697 - reconstruction_loss: 88.2774 - KL_loss: 22.6116"
     ]
    },
    {
     "name": "stdout",
     "output_type": "stream",
     "text": [
      "\b\b\b\b\b\b\b\b\b\b\b\b\b\b\b\b\b\b\b\b\b\b\b\b\b\b\b\b\b\b\b\b\b\b\b\b\b\b\b\b\b\b\b\b\b\b\b\b\b\b\b\b\b\b\b\b\b\b\b\b\b\b\b\b\b\b\b\b\b\b\b\b\b\b\b\b\b\b\b\b\b\b\b\b\b\b\b\b\b\b\b\b\b\b\b\b\b\b\b\b\b\b\b\b\b\b\b\b\b\b\b\b\b\b\b\b\b\b\b\b\b\b\b\r",
      "412416/412416 [==============================] - 12s 28us/sample - loss: 167.4697 - reconstruction_loss: 88.2774 - KL_loss: 22.6116 - val_loss: 105.4395 - val_reconstruction_loss: 83.1514 - val_KL_loss: 22.2881 - lr: 5.0000e-04\n",
      "Epoch 750/1000\n"
     ]
    },
    {
     "name": "stdout",
     "output_type": "stream",
     "text": [
      "\r",
      "412416/412416 [==============================] - ETA: 0s - loss: 167.3609 - reconstruction_loss: 88.1718 - KL_loss: 22.6835"
     ]
    },
    {
     "name": "stdout",
     "output_type": "stream",
     "text": [
      "\b\b\b\b\b\b\b\b\b\b\b\b\b\b\b\b\b\b\b\b\b\b\b\b\b\b\b\b\b\b\b\b\b\b\b\b\b\b\b\b\b\b\b\b\b\b\b\b\b\b\b\b\b\b\b\b\b\b\b\b\b\b\b\b\b\b\b\b\b\b\b\b\b\b\b\b\b\b\b\b\b\b\b\b\b\b\b\b\b\b\b\b\b\b\b\b\b\b\b\b\b\b\b\b\b\b\b\b\b\b\b\b\b\b\b\b\b\b\b\b\b\b\b\r",
      "412416/412416 [==============================] - 12s 29us/sample - loss: 167.3609 - reconstruction_loss: 88.1718 - KL_loss: 22.6835 - val_loss: 105.4315 - val_reconstruction_loss: 83.1653 - val_KL_loss: 22.2661 - lr: 5.0000e-04\n",
      "Epoch 751/1000\n"
     ]
    },
    {
     "name": "stdout",
     "output_type": "stream",
     "text": [
      "\r",
      "412416/412416 [==============================] - ETA: 0s - loss: 167.3370 - reconstruction_loss: 88.1927 - KL_loss: 22.6621"
     ]
    },
    {
     "name": "stdout",
     "output_type": "stream",
     "text": [
      "\b\b\b\b\b\b\b\b\b\b\b\b\b\b\b\b\b\b\b\b\b\b\b\b\b\b\b\b\b\b\b\b\b\b\b\b\b\b\b\b\b\b\b\b\b\b\b\b\b\b\b\b\b\b\b\b\b\b\b\b\b\b\b\b\b\b\b\b\b\b\b\b\b\b\b\b\b\b\b\b\b\b\b\b\b\b\b\b\b\b\b\b\b\b\b\b\b\b\b\b\b\b\b\b\b\b\b\b\b\b\b\b\b\b\b\b\b\b\b\b\b\b\b\r",
      "412416/412416 [==============================] - 13s 31us/sample - loss: 167.3370 - reconstruction_loss: 88.1927 - KL_loss: 22.6621 - val_loss: 105.4689 - val_reconstruction_loss: 83.2557 - val_KL_loss: 22.2132 - lr: 5.0000e-04\n",
      "Epoch 752/1000\n"
     ]
    },
    {
     "name": "stdout",
     "output_type": "stream",
     "text": [
      "\r",
      "412416/412416 [==============================] - ETA: 0s - loss: 167.3714 - reconstruction_loss: 88.2647 - KL_loss: 22.6119"
     ]
    },
    {
     "name": "stdout",
     "output_type": "stream",
     "text": [
      "\b\b\b\b\b\b\b\b\b\b\b\b\b\b\b\b\b\b\b\b\b\b\b\b\b\b\b\b\b\b\b\b\b\b\b\b\b\b\b\b\b\b\b\b\b\b\b\b\b\b\b\b\b\b\b\b\b\b\b\b\b\b\b\b\b\b\b\b\b\b\b\b\b\b\b\b\b\b\b\b\b\b\b\b\b\b\b\b\b\b\b\b\b\b\b\b\b\b\b\b\b\b\b\b\b\b\b\b\b\b\b\b\b\b\b\b\b\b\b\b\b\b\b\r",
      "412416/412416 [==============================] - 12s 30us/sample - loss: 167.3714 - reconstruction_loss: 88.2647 - KL_loss: 22.6119 - val_loss: 105.4575 - val_reconstruction_loss: 83.2035 - val_KL_loss: 22.2539 - lr: 5.0000e-04\n",
      "Epoch 753/1000\n"
     ]
    },
    {
     "name": "stdout",
     "output_type": "stream",
     "text": [
      "\r",
      "412416/412416 [==============================] - ETA: 0s - loss: 167.3311 - reconstruction_loss: 88.2134 - KL_loss: 22.6505"
     ]
    },
    {
     "name": "stdout",
     "output_type": "stream",
     "text": [
      "\b\b\b\b\b\b\b\b\b\b\b\b\b\b\b\b\b\b\b\b\b\b\b\b\b\b\b\b\b\b\b\b\b\b\b\b\b\b\b\b\b\b\b\b\b\b\b\b\b\b\b\b\b\b\b\b\b\b\b\b\b\b\b\b\b\b\b\b\b\b\b\b\b\b\b\b\b\b\b\b\b\b\b\b\b\b\b\b\b\b\b\b\b\b\b\b\b\b\b\b\b\b\b\b\b\b\b\b\b\b\b\b\b\b\b\b\b\b\b\b\b\b\b\r",
      "412416/412416 [==============================] - 17s 41us/sample - loss: 167.3311 - reconstruction_loss: 88.2134 - KL_loss: 22.6505 - val_loss: 105.4434 - val_reconstruction_loss: 83.1515 - val_KL_loss: 22.2919 - lr: 5.0000e-04\n",
      "Epoch 754/1000\n"
     ]
    },
    {
     "name": "stdout",
     "output_type": "stream",
     "text": [
      "\r",
      "412416/412416 [==============================] - ETA: 0s - loss: 167.2848 - reconstruction_loss: 88.1556 - KL_loss: 22.6874"
     ]
    },
    {
     "name": "stdout",
     "output_type": "stream",
     "text": [
      "\b\b\b\b\b\b\b\b\b\b\b\b\b\b\b\b\b\b\b\b\b\b\b\b\b\b\b\b\b\b\b\b\b\b\b\b\b\b\b\b\b\b\b\b\b\b\b\b\b\b\b\b\b\b\b\b\b\b\b\b\b\b\b\b\b\b\b\b\b\b\b\b\b\b\b\b\b\b\b\b\b\b\b\b\b\b\b\b\b\b\b\b\b\b\b\b\b\b\b\b\b\b\b\b\b\b\b\b\b\b\b\b\b\b\b\b\b\b\b\b\b\b\b\r",
      "412416/412416 [==============================] - 12s 28us/sample - loss: 167.2848 - reconstruction_loss: 88.1556 - KL_loss: 22.6874 - val_loss: 105.4131 - val_reconstruction_loss: 83.1272 - val_KL_loss: 22.2859 - lr: 5.0000e-04\n",
      "Epoch 755/1000\n"
     ]
    },
    {
     "name": "stdout",
     "output_type": "stream",
     "text": [
      "\r",
      "412416/412416 [==============================] - ETA: 0s - loss: 167.2381 - reconstruction_loss: 88.1604 - KL_loss: 22.6810"
     ]
    },
    {
     "name": "stdout",
     "output_type": "stream",
     "text": [
      "\b\b\b\b\b\b\b\b\b\b\b\b\b\b\b\b\b\b\b\b\b\b\b\b\b\b\b\b\b\b\b\b\b\b\b\b\b\b\b\b\b\b\b\b\b\b\b\b\b\b\b\b\b\b\b\b\b\b\b\b\b\b\b\b\b\b\b\b\b\b\b\b\b\b\b\b\b\b\b\b\b\b\b\b\b\b\b\b\b\b\b\b\b\b\b\b\b\b\b\b\b\b\b\b\b\b\b\b\b\b\b\b\b\b\b\b\b\b\b\b\b\b\b\r",
      "412416/412416 [==============================] - 12s 28us/sample - loss: 167.2381 - reconstruction_loss: 88.1604 - KL_loss: 22.6810 - val_loss: 105.4303 - val_reconstruction_loss: 83.1908 - val_KL_loss: 22.2395 - lr: 5.0000e-04\n",
      "Epoch 756/1000\n"
     ]
    },
    {
     "name": "stdout",
     "output_type": "stream",
     "text": [
      "\r",
      "412416/412416 [==============================] - ETA: 0s - loss: 167.2630 - reconstruction_loss: 88.2076 - KL_loss: 22.6372"
     ]
    },
    {
     "name": "stdout",
     "output_type": "stream",
     "text": [
      "\b\b\b\b\b\b\b\b\b\b\b\b\b\b\b\b\b\b\b\b\b\b\b\b\b\b\b\b\b\b\b\b\b\b\b\b\b\b\b\b\b\b\b\b\b\b\b\b\b\b\b\b\b\b\b\b\b\b\b\b\b\b\b\b\b\b\b\b\b\b\b\b\b\b\b\b\b\b\b\b\b\b\b\b\b\b\b\b\b\b\b\b\b\b\b\b\b\b\b\b\b\b\b\b\b\b\b\b\b\b\b\b\b\b\b\b\b\b\b\b\b\b\b\r",
      "412416/412416 [==============================] - 12s 30us/sample - loss: 167.2630 - reconstruction_loss: 88.2076 - KL_loss: 22.6372 - val_loss: 105.3917 - val_reconstruction_loss: 83.1340 - val_KL_loss: 22.2576 - lr: 5.0000e-04\n",
      "Epoch 757/1000\n"
     ]
    },
    {
     "name": "stdout",
     "output_type": "stream",
     "text": [
      "\r",
      "412416/412416 [==============================] - ETA: 0s - loss: 167.1898 - reconstruction_loss: 88.1880 - KL_loss: 22.6534"
     ]
    },
    {
     "name": "stdout",
     "output_type": "stream",
     "text": [
      "\b\b\b\b\b\b\b\b\b\b\b\b\b\b\b\b\b\b\b\b\b\b\b\b\b\b\b\b\b\b\b\b\b\b\b\b\b\b\b\b\b\b\b\b\b\b\b\b\b\b\b\b\b\b\b\b\b\b\b\b\b\b\b\b\b\b\b\b\b\b\b\b\b\b\b\b\b\b\b\b\b\b\b\b\b\b\b\b\b\b\b\b\b\b\b\b\b\b\b\b\b\b\b\b\b\b\b\b\b\b\b\b\b\b\b\b\b\b\b\b\b\b\b\r",
      "412416/412416 [==============================] - 12s 28us/sample - loss: 167.1898 - reconstruction_loss: 88.1880 - KL_loss: 22.6534 - val_loss: 105.4106 - val_reconstruction_loss: 83.1462 - val_KL_loss: 22.2644 - lr: 5.0000e-04\n",
      "Epoch 758/1000\n"
     ]
    },
    {
     "name": "stdout",
     "output_type": "stream",
     "text": [
      "\r",
      "412416/412416 [==============================] - ETA: 0s - loss: 167.1826 - reconstruction_loss: 88.1660 - KL_loss: 22.6610"
     ]
    },
    {
     "name": "stdout",
     "output_type": "stream",
     "text": [
      "\b\b\b\b\b\b\b\b\b\b\b\b\b\b\b\b\b\b\b\b\b\b\b\b\b\b\b\b\b\b\b\b\b\b\b\b\b\b\b\b\b\b\b\b\b\b\b\b\b\b\b\b\b\b\b\b\b\b\b\b\b\b\b\b\b\b\b\b\b\b\b\b\b\b\b\b\b\b\b\b\b\b\b\b\b\b\b\b\b\b\b\b\b\b\b\b\b\b\b\b\b\b\b\b\b\b\b\b\b\b\b\b\b\b\b\b\b\b\b\b\b\b\b\r",
      "412416/412416 [==============================] - 23s 56us/sample - loss: 167.1826 - reconstruction_loss: 88.1660 - KL_loss: 22.6610 - val_loss: 105.3851 - val_reconstruction_loss: 83.1526 - val_KL_loss: 22.2326 - lr: 5.0000e-04\n",
      "Epoch 759/1000\n"
     ]
    },
    {
     "name": "stdout",
     "output_type": "stream",
     "text": [
      "\r",
      "412416/412416 [==============================] - ETA: 0s - loss: 167.1769 - reconstruction_loss: 88.1992 - KL_loss: 22.6280"
     ]
    },
    {
     "name": "stdout",
     "output_type": "stream",
     "text": [
      "\b\b\b\b\b\b\b\b\b\b\b\b\b\b\b\b\b\b\b\b\b\b\b\b\b\b\b\b\b\b\b\b\b\b\b\b\b\b\b\b\b\b\b\b\b\b\b\b\b\b\b\b\b\b\b\b\b\b\b\b\b\b\b\b\b\b\b\b\b\b\b\b\b\b\b\b\b\b\b\b\b\b\b\b\b\b\b\b\b\b\b\b\b\b\b\b\b\b\b\b\b\b\b\b\b\b\b\b\b\b\b\b\b\b\b\b\b\b\b\b\b\b\b\r",
      "412416/412416 [==============================] - 12s 28us/sample - loss: 167.1769 - reconstruction_loss: 88.1992 - KL_loss: 22.6280 - val_loss: 105.4086 - val_reconstruction_loss: 83.2138 - val_KL_loss: 22.1948 - lr: 5.0000e-04\n",
      "Epoch 760/1000\n"
     ]
    },
    {
     "name": "stdout",
     "output_type": "stream",
     "text": [
      "\r",
      "412416/412416 [==============================] - ETA: 0s - loss: 167.1209 - reconstruction_loss: 88.2295 - KL_loss: 22.5920"
     ]
    },
    {
     "name": "stdout",
     "output_type": "stream",
     "text": [
      "\b\b\b\b\b\b\b\b\b\b\b\b\b\b\b\b\b\b\b\b\b\b\b\b\b\b\b\b\b\b\b\b\b\b\b\b\b\b\b\b\b\b\b\b\b\b\b\b\b\b\b\b\b\b\b\b\b\b\b\b\b\b\b\b\b\b\b\b\b\b\b\b\b\b\b\b\b\b\b\b\b\b\b\b\b\b\b\b\b\b\b\b\b\b\b\b\b\b\b\b\b\b\b\b\b\b\b\b\b\b\b\b\b\b\b\b\b\b\b\b\b\b\b\r",
      "412416/412416 [==============================] - 12s 28us/sample - loss: 167.1209 - reconstruction_loss: 88.2295 - KL_loss: 22.5920 - val_loss: 105.3899 - val_reconstruction_loss: 83.1344 - val_KL_loss: 22.2554 - lr: 5.0000e-04\n",
      "Epoch 761/1000\n"
     ]
    },
    {
     "name": "stdout",
     "output_type": "stream",
     "text": [
      "\r",
      "412416/412416 [==============================] - ETA: 0s - loss: 167.1174 - reconstruction_loss: 88.1723 - KL_loss: 22.6518"
     ]
    },
    {
     "name": "stdout",
     "output_type": "stream",
     "text": [
      "\b\b\b\b\b\b\b\b\b\b\b\b\b\b\b\b\b\b\b\b\b\b\b\b\b\b\b\b\b\b\b\b\b\b\b\b\b\b\b\b\b\b\b\b\b\b\b\b\b\b\b\b\b\b\b\b\b\b\b\b\b\b\b\b\b\b\b\b\b\b\b\b\b\b\b\b\b\b\b\b\b\b\b\b\b\b\b\b\b\b\b\b\b\b\b\b\b\b\b\b\b\b\b\b\b\b\b\b\b\b\b\b\b\b\b\b\b\b\b\b\b\b\b\r",
      "412416/412416 [==============================] - 12s 28us/sample - loss: 167.1174 - reconstruction_loss: 88.1723 - KL_loss: 22.6518 - val_loss: 105.3588 - val_reconstruction_loss: 83.1198 - val_KL_loss: 22.2389 - lr: 5.0000e-04\n",
      "Epoch 762/1000\n"
     ]
    },
    {
     "name": "stdout",
     "output_type": "stream",
     "text": [
      "\r",
      "412416/412416 [==============================] - ETA: 0s - loss: 167.1339 - reconstruction_loss: 88.1791 - KL_loss: 22.6351"
     ]
    },
    {
     "name": "stdout",
     "output_type": "stream",
     "text": [
      "\b\b\b\b\b\b\b\b\b\b\b\b\b\b\b\b\b\b\b\b\b\b\b\b\b\b\b\b\b\b\b\b\b\b\b\b\b\b\b\b\b\b\b\b\b\b\b\b\b\b\b\b\b\b\b\b\b\b\b\b\b\b\b\b\b\b\b\b\b\b\b\b\b\b\b\b\b\b\b\b\b\b\b\b\b\b\b\b\b\b\b\b\b\b\b\b\b\b\b\b\b\b\b\b\b\b\b\b\b\b\b\b\b\b\b\b\b\b\b\b\b\b\b\r",
      "412416/412416 [==============================] - 11s 28us/sample - loss: 167.1339 - reconstruction_loss: 88.1791 - KL_loss: 22.6351 - val_loss: 105.4227 - val_reconstruction_loss: 83.2277 - val_KL_loss: 22.1950 - lr: 5.0000e-04\n",
      "Epoch 763/1000\n"
     ]
    },
    {
     "name": "stdout",
     "output_type": "stream",
     "text": [
      "\r",
      "412416/412416 [==============================] - ETA: 0s - loss: 167.1752 - reconstruction_loss: 88.2458 - KL_loss: 22.5932"
     ]
    },
    {
     "name": "stdout",
     "output_type": "stream",
     "text": [
      "\b\b\b\b\b\b\b\b\b\b\b\b\b\b\b\b\b\b\b\b\b\b\b\b\b\b\b\b\b\b\b\b\b\b\b\b\b\b\b\b\b\b\b\b\b\b\b\b\b\b\b\b\b\b\b\b\b\b\b\b\b\b\b\b\b\b\b\b\b\b\b\b\b\b\b\b\b\b\b\b\b\b\b\b\b\b\b\b\b\b\b\b\b\b\b\b\b\b\b\b\b\b\b\b\b\b\b\b\b\b\b\b\b\b\b\b\b\b\b\b\b\b\b\r",
      "412416/412416 [==============================] - 12s 28us/sample - loss: 167.1752 - reconstruction_loss: 88.2458 - KL_loss: 22.5932 - val_loss: 105.3563 - val_reconstruction_loss: 83.1301 - val_KL_loss: 22.2262 - lr: 5.0000e-04\n",
      "Epoch 764/1000\n"
     ]
    },
    {
     "name": "stdout",
     "output_type": "stream",
     "text": [
      "\r",
      "412416/412416 [==============================] - ETA: 0s - loss: 167.1364 - reconstruction_loss: 88.1716 - KL_loss: 22.6241"
     ]
    },
    {
     "name": "stdout",
     "output_type": "stream",
     "text": [
      "\b\b\b\b\b\b\b\b\b\b\b\b\b\b\b\b\b\b\b\b\b\b\b\b\b\b\b\b\b\b\b\b\b\b\b\b\b\b\b\b\b\b\b\b\b\b\b\b\b\b\b\b\b\b\b\b\b\b\b\b\b\b\b\b\b\b\b\b\b\b\b\b\b\b\b\b\b\b\b\b\b\b\b\b\b\b\b\b\b\b\b\b\b\b\b\b\b\b\b\b\b\b\b\b\b\b\b\b\b\b\b\b\b\b\b\b\b\b\b\b\b\b\b\r",
      "412416/412416 [==============================] - 12s 28us/sample - loss: 167.1364 - reconstruction_loss: 88.1716 - KL_loss: 22.6241 - val_loss: 105.3995 - val_reconstruction_loss: 83.0737 - val_KL_loss: 22.3258 - lr: 5.0000e-04\n",
      "Epoch 765/1000\n"
     ]
    },
    {
     "name": "stdout",
     "output_type": "stream",
     "text": [
      "\r",
      "412416/412416 [==============================] - ETA: 0s - loss: 167.1213 - reconstruction_loss: 88.1413 - KL_loss: 22.7209"
     ]
    },
    {
     "name": "stdout",
     "output_type": "stream",
     "text": [
      "\b\b\b\b\b\b\b\b\b\b\b\b\b\b\b\b\b\b\b\b\b\b\b\b\b\b\b\b\b\b\b\b\b\b\b\b\b\b\b\b\b\b\b\b\b\b\b\b\b\b\b\b\b\b\b\b\b\b\b\b\b\b\b\b\b\b\b\b\b\b\b\b\b\b\b\b\b\b\b\b\b\b\b\b\b\b\b\b\b\b\b\b\b\b\b\b\b\b\b\b\b\b\b\b\b\b\b\b\b\b\b\b\b\b\b\b\b\b\b\b\b\b\b\r",
      "412416/412416 [==============================] - 12s 28us/sample - loss: 167.1213 - reconstruction_loss: 88.1413 - KL_loss: 22.7209 - val_loss: 105.4170 - val_reconstruction_loss: 83.1008 - val_KL_loss: 22.3162 - lr: 5.0000e-04\n",
      "Epoch 766/1000\n"
     ]
    },
    {
     "name": "stdout",
     "output_type": "stream",
     "text": [
      "\r",
      "412416/412416 [==============================] - ETA: 0s - loss: 167.1211 - reconstruction_loss: 88.1133 - KL_loss: 22.7128"
     ]
    },
    {
     "name": "stdout",
     "output_type": "stream",
     "text": [
      "\b\b\b\b\b\b\b\b\b\b\b\b\b\b\b\b\b\b\b\b\b\b\b\b\b\b\b\b\b\b\b\b\b\b\b\b\b\b\b\b\b\b\b\b\b\b\b\b\b\b\b\b\b\b\b\b\b\b\b\b\b\b\b\b\b\b\b\b\b\b\b\b\b\b\b\b\b\b\b\b\b\b\b\b\b\b\b\b\b\b\b\b\b\b\b\b\b\b\b\b\b\b\b\b\b\b\b\b\b\b\b\b\b\b\b\b\b\b\b\b\b\b\b\r",
      "412416/412416 [==============================] - 12s 28us/sample - loss: 167.1211 - reconstruction_loss: 88.1133 - KL_loss: 22.7128 - val_loss: 105.4133 - val_reconstruction_loss: 83.1928 - val_KL_loss: 22.2205 - lr: 5.0000e-04\n",
      "Epoch 767/1000\n"
     ]
    },
    {
     "name": "stdout",
     "output_type": "stream",
     "text": [
      "\r",
      "412416/412416 [==============================] - ETA: 0s - loss: 167.0852 - reconstruction_loss: 88.2015 - KL_loss: 22.6181"
     ]
    },
    {
     "name": "stdout",
     "output_type": "stream",
     "text": [
      "\b\b\b\b\b\b\b\b\b\b\b\b\b\b\b\b\b\b\b\b\b\b\b\b\b\b\b\b\b\b\b\b\b\b\b\b\b\b\b\b\b\b\b\b\b\b\b\b\b\b\b\b\b\b\b\b\b\b\b\b\b\b\b\b\b\b\b\b\b\b\b\b\b\b\b\b\b\b\b\b\b\b\b\b\b\b\b\b\b\b\b\b\b\b\b\b\b\b\b\b\b\b\b\b\b\b\b\b\b\b\b\b\b\b\b\b\b\b\b\b\b\b\b\r",
      "412416/412416 [==============================] - 12s 28us/sample - loss: 167.0852 - reconstruction_loss: 88.2015 - KL_loss: 22.6181 - val_loss: 105.4228 - val_reconstruction_loss: 83.2086 - val_KL_loss: 22.2142 - lr: 5.0000e-04\n",
      "Epoch 768/1000\n"
     ]
    },
    {
     "name": "stdout",
     "output_type": "stream",
     "text": [
      "\r",
      "412416/412416 [==============================] - ETA: 0s - loss: 167.0889 - reconstruction_loss: 88.2294 - KL_loss: 22.6095"
     ]
    },
    {
     "name": "stdout",
     "output_type": "stream",
     "text": [
      "\b\b\b\b\b\b\b\b\b\b\b\b\b\b\b\b\b\b\b\b\b\b\b\b\b\b\b\b\b\b\b\b\b\b\b\b\b\b\b\b\b\b\b\b\b\b\b\b\b\b\b\b\b\b\b\b\b\b\b\b\b\b\b\b\b\b\b\b\b\b\b\b\b\b\b\b\b\b\b\b\b\b\b\b\b\b\b\b\b\b\b\b\b\b\b\b\b\b\b\b\b\b\b\b\b\b\b\b\b\b\b\b\b\b\b\b\b\b\b\b\b\b\b\r",
      "412416/412416 [==============================] - 12s 29us/sample - loss: 167.0889 - reconstruction_loss: 88.2294 - KL_loss: 22.6095 - val_loss: 105.3551 - val_reconstruction_loss: 83.0847 - val_KL_loss: 22.2704 - lr: 5.0000e-04\n",
      "Epoch 769/1000\n"
     ]
    },
    {
     "name": "stdout",
     "output_type": "stream",
     "text": [
      "\r",
      "412416/412416 [==============================] - ETA: 0s - loss: 167.0000 - reconstruction_loss: 88.1405 - KL_loss: 22.6659"
     ]
    },
    {
     "name": "stdout",
     "output_type": "stream",
     "text": [
      "\b\b\b\b\b\b\b\b\b\b\b\b\b\b\b\b\b\b\b\b\b\b\b\b\b\b\b\b\b\b\b\b\b\b\b\b\b\b\b\b\b\b\b\b\b\b\b\b\b\b\b\b\b\b\b\b\b\b\b\b\b\b\b\b\b\b\b\b\b\b\b\b\b\b\b\b\b\b\b\b\b\b\b\b\b\b\b\b\b\b\b\b\b\b\b\b\b\b\b\b\b\b\b\b\b\b\b\b\b\b\b\b\b\b\b\b\b\b\b\b\b\b\b\r",
      "412416/412416 [==============================] - 12s 29us/sample - loss: 167.0000 - reconstruction_loss: 88.1405 - KL_loss: 22.6659 - val_loss: 105.3744 - val_reconstruction_loss: 83.1022 - val_KL_loss: 22.2722 - lr: 5.0000e-04\n",
      "Epoch 770/1000\n"
     ]
    },
    {
     "name": "stdout",
     "output_type": "stream",
     "text": [
      "\r",
      "412416/412416 [==============================] - ETA: 0s - loss: 166.9349 - reconstruction_loss: 88.1249 - KL_loss: 22.6677"
     ]
    },
    {
     "name": "stdout",
     "output_type": "stream",
     "text": [
      "\b\b\b\b\b\b\b\b\b\b\b\b\b\b\b\b\b\b\b\b\b\b\b\b\b\b\b\b\b\b\b\b\b\b\b\b\b\b\b\b\b\b\b\b\b\b\b\b\b\b\b\b\b\b\b\b\b\b\b\b\b\b\b\b\b\b\b\b\b\b\b\b\b\b\b\b\b\b\b\b\b\b\b\b\b\b\b\b\b\b\b\b\b\b\b\b\b\b\b\b\b\b\b\b\b\b\b\b\b\b\b\b\b\b\b\b\b\b\b\b\b\b\b\r",
      "412416/412416 [==============================] - 12s 29us/sample - loss: 166.9349 - reconstruction_loss: 88.1249 - KL_loss: 22.6677 - val_loss: 105.4153 - val_reconstruction_loss: 83.2070 - val_KL_loss: 22.2083 - lr: 5.0000e-04\n",
      "Epoch 771/1000\n"
     ]
    },
    {
     "name": "stdout",
     "output_type": "stream",
     "text": [
      "\r",
      "412416/412416 [==============================] - ETA: 0s - loss: 167.0731 - reconstruction_loss: 88.2329 - KL_loss: 22.6049"
     ]
    },
    {
     "name": "stdout",
     "output_type": "stream",
     "text": [
      "\b\b\b\b\b\b\b\b\b\b\b\b\b\b\b\b\b\b\b\b\b\b\b\b\b\b\b\b\b\b\b\b\b\b\b\b\b\b\b\b\b\b\b\b\b\b\b\b\b\b\b\b\b\b\b\b\b\b\b\b\b\b\b\b\b\b\b\b\b\b\b\b\b\b\b\b\b\b\b\b\b\b\b\b\b\b\b\b\b\b\b\b\b\b\b\b\b\b\b\b\b\b\b\b\b\b\b\b\b\b\b\b\b\b\b\b\b\b\b\b\b\b\b\r",
      "412416/412416 [==============================] - 13s 31us/sample - loss: 167.0731 - reconstruction_loss: 88.2329 - KL_loss: 22.6049 - val_loss: 105.3742 - val_reconstruction_loss: 83.1446 - val_KL_loss: 22.2297 - lr: 5.0000e-04\n",
      "Epoch 772/1000\n"
     ]
    },
    {
     "name": "stdout",
     "output_type": "stream",
     "text": [
      "\r",
      "412416/412416 [==============================] - ETA: 0s - loss: 166.9249 - reconstruction_loss: 88.1535 - KL_loss: 22.6260"
     ]
    },
    {
     "name": "stdout",
     "output_type": "stream",
     "text": [
      "\b\b\b\b\b\b\b\b\b\b\b\b\b\b\b\b\b\b\b\b\b\b\b\b\b\b\b\b\b\b\b\b\b\b\b\b\b\b\b\b\b\b\b\b\b\b\b\b\b\b\b\b\b\b\b\b\b\b\b\b\b\b\b\b\b\b\b\b\b\b\b\b\b\b\b\b\b\b\b\b\b\b\b\b\b\b\b\b\b\b\b\b\b\b\b\b\b\b\b\b\b\b\b\b\b\b\b\b\b\b\b\b\b\b\b\b\b\b\b\b\b\b\b\r",
      "412416/412416 [==============================] - 11s 28us/sample - loss: 166.9249 - reconstruction_loss: 88.1535 - KL_loss: 22.6260 - val_loss: 105.4987 - val_reconstruction_loss: 83.2102 - val_KL_loss: 22.2885 - lr: 5.0000e-04\n",
      "Epoch 773/1000\n"
     ]
    },
    {
     "name": "stdout",
     "output_type": "stream",
     "text": [
      "\r",
      "412416/412416 [==============================] - ETA: 0s - loss: 167.1033 - reconstruction_loss: 88.2351 - KL_loss: 22.6830"
     ]
    },
    {
     "name": "stdout",
     "output_type": "stream",
     "text": [
      "\b\b\b\b\b\b\b\b\b\b\b\b\b\b\b\b\b\b\b\b\b\b\b\b\b\b\b\b\b\b\b\b\b\b\b\b\b\b\b\b\b\b\b\b\b\b\b\b\b\b\b\b\b\b\b\b\b\b\b\b\b\b\b\b\b\b\b\b\b\b\b\b\b\b\b\b\b\b\b\b\b\b\b\b\b\b\b\b\b\b\b\b\b\b\b\b\b\b\b\b\b\b\b\b\b\b\b\b\b\b\b\b\b\b\b\b\b\b\b\b\b\b\b\r",
      "412416/412416 [==============================] - 11s 27us/sample - loss: 167.1033 - reconstruction_loss: 88.2351 - KL_loss: 22.6830 - val_loss: 105.4631 - val_reconstruction_loss: 83.1676 - val_KL_loss: 22.2954 - lr: 5.0000e-04\n",
      "Epoch 774/1000\n"
     ]
    },
    {
     "name": "stdout",
     "output_type": "stream",
     "text": [
      "\r",
      "412416/412416 [==============================] - ETA: 0s - loss: 167.1380 - reconstruction_loss: 88.1928 - KL_loss: 22.6892"
     ]
    },
    {
     "name": "stdout",
     "output_type": "stream",
     "text": [
      "\b\b\b\b\b\b\b\b\b\b\b\b\b\b\b\b\b\b\b\b\b\b\b\b\b\b\b\b\b\b\b\b\b\b\b\b\b\b\b\b\b\b\b\b\b\b\b\b\b\b\b\b\b\b\b\b\b\b\b\b\b\b\b\b\b\b\b\b\b\b\b\b\b\b\b\b\b\b\b\b\b\b\b\b\b\b\b\b\b\b\b\b\b\b\b\b\b\b\b\b\b\b\b\b\b\b\b\b\b\b\b\b\b\b\b\b\b\b\b\b\b\b\b\r",
      "412416/412416 [==============================] - 11s 27us/sample - loss: 167.1380 - reconstruction_loss: 88.1928 - KL_loss: 22.6892 - val_loss: 105.4152 - val_reconstruction_loss: 83.1479 - val_KL_loss: 22.2673 - lr: 5.0000e-04\n",
      "Epoch 775/1000\n"
     ]
    },
    {
     "name": "stdout",
     "output_type": "stream",
     "text": [
      "\r",
      "412416/412416 [==============================] - ETA: 0s - loss: 167.0028 - reconstruction_loss: 88.1773 - KL_loss: 22.6616"
     ]
    },
    {
     "name": "stdout",
     "output_type": "stream",
     "text": [
      "\b\b\b\b\b\b\b\b\b\b\b\b\b\b\b\b\b\b\b\b\b\b\b\b\b\b\b\b\b\b\b\b\b\b\b\b\b\b\b\b\b\b\b\b\b\b\b\b\b\b\b\b\b\b\b\b\b\b\b\b\b\b\b\b\b\b\b\b\b\b\b\b\b\b\b\b\b\b\b\b\b\b\b\b\b\b\b\b\b\b\b\b\b\b\b\b\b\b\b\b\b\b\b\b\b\b\b\b\b\b\b\b\b\b\b\b\b\b\b\b\b\b\b\r",
      "412416/412416 [==============================] - 11s 27us/sample - loss: 167.0028 - reconstruction_loss: 88.1773 - KL_loss: 22.6616 - val_loss: 105.4139 - val_reconstruction_loss: 83.1248 - val_KL_loss: 22.2891 - lr: 5.0000e-04\n",
      "Epoch 776/1000\n"
     ]
    },
    {
     "name": "stdout",
     "output_type": "stream",
     "text": [
      "\r",
      "412416/412416 [==============================] - ETA: 0s - loss: 166.9744 - reconstruction_loss: 88.1522 - KL_loss: 22.6847"
     ]
    },
    {
     "name": "stdout",
     "output_type": "stream",
     "text": [
      "\b\b\b\b\b\b\b\b\b\b\b\b\b\b\b\b\b\b\b\b\b\b\b\b\b\b\b\b\b\b\b\b\b\b\b\b\b\b\b\b\b\b\b\b\b\b\b\b\b\b\b\b\b\b\b\b\b\b\b\b\b\b\b\b\b\b\b\b\b\b\b\b\b\b\b\b\b\b\b\b\b\b\b\b\b\b\b\b\b\b\b\b\b\b\b\b\b\b\b\b\b\b\b\b\b\b\b\b\b\b\b\b\b\b\b\b\b\b\b\b\b\b\b\r",
      "412416/412416 [==============================] - 12s 28us/sample - loss: 166.9744 - reconstruction_loss: 88.1522 - KL_loss: 22.6847 - val_loss: 105.4024 - val_reconstruction_loss: 83.0671 - val_KL_loss: 22.3353 - lr: 5.0000e-04\n",
      "Epoch 777/1000\n"
     ]
    },
    {
     "name": "stdout",
     "output_type": "stream",
     "text": [
      "\r",
      "412416/412416 [==============================] - ETA: 0s - loss: 166.8834 - reconstruction_loss: 88.0739 - KL_loss: 22.7317"
     ]
    },
    {
     "name": "stdout",
     "output_type": "stream",
     "text": [
      "\b\b\b\b\b\b\b\b\b\b\b\b\b\b\b\b\b\b\b\b\b\b\b\b\b\b\b\b\b\b\b\b\b\b\b\b\b\b\b\b\b\b\b\b\b\b\b\b\b\b\b\b\b\b\b\b\b\b\b\b\b\b\b\b\b\b\b\b\b\b\b\b\b\b\b\b\b\b\b\b\b\b\b\b\b\b\b\b\b\b\b\b\b\b\b\b\b\b\b\b\b\b\b\b\b\b\b\b\b\b\b\b\b\b\b\b\b\b\b\b\b\b\b\r",
      "412416/412416 [==============================] - 12s 28us/sample - loss: 166.8834 - reconstruction_loss: 88.0739 - KL_loss: 22.7317 - val_loss: 105.4077 - val_reconstruction_loss: 83.0759 - val_KL_loss: 22.3318 - lr: 5.0000e-04\n",
      "Epoch 778/1000\n"
     ]
    },
    {
     "name": "stdout",
     "output_type": "stream",
     "text": [
      "\r",
      "412416/412416 [==============================] - ETA: 0s - loss: 166.9209 - reconstruction_loss: 88.0976 - KL_loss: 22.7268"
     ]
    },
    {
     "name": "stdout",
     "output_type": "stream",
     "text": [
      "\b\b\b\b\b\b\b\b\b\b\b\b\b\b\b\b\b\b\b\b\b\b\b\b\b\b\b\b\b\b\b\b\b\b\b\b\b\b\b\b\b\b\b\b\b\b\b\b\b\b\b\b\b\b\b\b\b\b\b\b\b\b\b\b\b\b\b\b\b\b\b\b\b\b\b\b\b\b\b\b\b\b\b\b\b\b\b\b\b\b\b\b\b\b\b\b\b\b\b\b\b\b\b\b\b\b\b\b\b\b\b\b\b\b\b\b\b\b\b\b\b\b\b\r",
      "412416/412416 [==============================] - 11s 28us/sample - loss: 166.9209 - reconstruction_loss: 88.0976 - KL_loss: 22.7268 - val_loss: 105.3844 - val_reconstruction_loss: 83.1213 - val_KL_loss: 22.2631 - lr: 5.0000e-04\n",
      "Epoch 779/1000\n"
     ]
    },
    {
     "name": "stdout",
     "output_type": "stream",
     "text": [
      "\r",
      "412416/412416 [==============================] - ETA: 0s - loss: 166.8717 - reconstruction_loss: 88.1513 - KL_loss: 22.6566"
     ]
    },
    {
     "name": "stdout",
     "output_type": "stream",
     "text": [
      "\b\b\b\b\b\b\b\b\b\b\b\b\b\b\b\b\b\b\b\b\b\b\b\b\b\b\b\b\b\b\b\b\b\b\b\b\b\b\b\b\b\b\b\b\b\b\b\b\b\b\b\b\b\b\b\b\b\b\b\b\b\b\b\b\b\b\b\b\b\b\b\b\b\b\b\b\b\b\b\b\b\b\b\b\b\b\b\b\b\b\b\b\b\b\b\b\b\b\b\b\b\b\b\b\b\b\b\b\b\b\b\b\b\b\b\b\b\b\b\b\b\b\b\r",
      "412416/412416 [==============================] - 12s 28us/sample - loss: 166.8717 - reconstruction_loss: 88.1513 - KL_loss: 22.6566 - val_loss: 105.3735 - val_reconstruction_loss: 83.1915 - val_KL_loss: 22.1820 - lr: 5.0000e-04\n",
      "Epoch 780/1000\n"
     ]
    },
    {
     "name": "stdout",
     "output_type": "stream",
     "text": [
      "\r",
      "412416/412416 [==============================] - ETA: 0s - loss: 166.8506 - reconstruction_loss: 88.2350 - KL_loss: 22.5772"
     ]
    },
    {
     "name": "stdout",
     "output_type": "stream",
     "text": [
      "\b\b\b\b\b\b\b\b\b\b\b\b\b\b\b\b\b\b\b\b\b\b\b\b\b\b\b\b\b\b\b\b\b\b\b\b\b\b\b\b\b\b\b\b\b\b\b\b\b\b\b\b\b\b\b\b\b\b\b\b\b\b\b\b\b\b\b\b\b\b\b\b\b\b\b\b\b\b\b\b\b\b\b\b\b\b\b\b\b\b\b\b\b\b\b\b\b\b\b\b\b\b\b\b\b\b\b\b\b\b\b\b\b\b\b\b\b\b\b\b\b\b\b\r",
      "412416/412416 [==============================] - 12s 28us/sample - loss: 166.8506 - reconstruction_loss: 88.2350 - KL_loss: 22.5772 - val_loss: 105.4261 - val_reconstruction_loss: 83.2550 - val_KL_loss: 22.1711 - lr: 5.0000e-04\n",
      "Epoch 781/1000\n"
     ]
    },
    {
     "name": "stdout",
     "output_type": "stream",
     "text": [
      "\r",
      "412416/412416 [==============================] - ETA: 0s - loss: 166.8901 - reconstruction_loss: 88.2450 - KL_loss: 22.5664"
     ]
    },
    {
     "name": "stdout",
     "output_type": "stream",
     "text": [
      "\b\b\b\b\b\b\b\b\b\b\b\b\b\b\b\b\b\b\b\b\b\b\b\b\b\b\b\b\b\b\b\b\b\b\b\b\b\b\b\b\b\b\b\b\b\b\b\b\b\b\b\b\b\b\b\b\b\b\b\b\b\b\b\b\b\b\b\b\b\b\b\b\b\b\b\b\b\b\b\b\b\b\b\b\b\b\b\b\b\b\b\b\b\b\b\b\b\b\b\b\b\b\b\b\b\b\b\b\b\b\b\b\b\b\b\b\b\b\b\b\b\b\b\r",
      "412416/412416 [==============================] - 12s 28us/sample - loss: 166.8901 - reconstruction_loss: 88.2450 - KL_loss: 22.5664 - val_loss: 105.3685 - val_reconstruction_loss: 83.1276 - val_KL_loss: 22.2410 - lr: 5.0000e-04\n",
      "Epoch 782/1000\n"
     ]
    },
    {
     "name": "stdout",
     "output_type": "stream",
     "text": [
      "\r",
      "412416/412416 [==============================] - ETA: 0s - loss: 166.7267 - reconstruction_loss: 88.1682 - KL_loss: 22.6332"
     ]
    },
    {
     "name": "stdout",
     "output_type": "stream",
     "text": [
      "\b\b\b\b\b\b\b\b\b\b\b\b\b\b\b\b\b\b\b\b\b\b\b\b\b\b\b\b\b\b\b\b\b\b\b\b\b\b\b\b\b\b\b\b\b\b\b\b\b\b\b\b\b\b\b\b\b\b\b\b\b\b\b\b\b\b\b\b\b\b\b\b\b\b\b\b\b\b\b\b\b\b\b\b\b\b\b\b\b\b\b\b\b\b\b\b\b\b\b\b\b\b\b\b\b\b\b\b\b\b\b\b\b\b\b\b\b\b\b\b\b\b\b\r",
      "412416/412416 [==============================] - 12s 28us/sample - loss: 166.7267 - reconstruction_loss: 88.1682 - KL_loss: 22.6332 - val_loss: 105.3826 - val_reconstruction_loss: 83.0825 - val_KL_loss: 22.3001 - lr: 5.0000e-04\n",
      "Epoch 783/1000\n"
     ]
    },
    {
     "name": "stdout",
     "output_type": "stream",
     "text": [
      "\r",
      "412416/412416 [==============================] - ETA: 0s - loss: 166.8495 - reconstruction_loss: 88.1043 - KL_loss: 22.6929"
     ]
    },
    {
     "name": "stdout",
     "output_type": "stream",
     "text": [
      "\b\b\b\b\b\b\b\b\b\b\b\b\b\b\b\b\b\b\b\b\b\b\b\b\b\b\b\b\b\b\b\b\b\b\b\b\b\b\b\b\b\b\b\b\b\b\b\b\b\b\b\b\b\b\b\b\b\b\b\b\b\b\b\b\b\b\b\b\b\b\b\b\b\b\b\b\b\b\b\b\b\b\b\b\b\b\b\b\b\b\b\b\b\b\b\b\b\b\b\b\b\b\b\b\b\b\b\b\b\b\b\b\b\b\b\b\b\b\b\b\b\b\b\r",
      "412416/412416 [==============================] - 11s 28us/sample - loss: 166.8495 - reconstruction_loss: 88.1043 - KL_loss: 22.6929 - val_loss: 105.3897 - val_reconstruction_loss: 83.0990 - val_KL_loss: 22.2907 - lr: 5.0000e-04\n",
      "Epoch 784/1000\n"
     ]
    },
    {
     "name": "stdout",
     "output_type": "stream",
     "text": [
      "\r",
      "412416/412416 [==============================] - ETA: 0s - loss: 166.7390 - reconstruction_loss: 88.0956 - KL_loss: 22.6871"
     ]
    },
    {
     "name": "stdout",
     "output_type": "stream",
     "text": [
      "\b\b\b\b\b\b\b\b\b\b\b\b\b\b\b\b\b\b\b\b\b\b\b\b\b\b\b\b\b\b\b\b\b\b\b\b\b\b\b\b\b\b\b\b\b\b\b\b\b\b\b\b\b\b\b\b\b\b\b\b\b\b\b\b\b\b\b\b\b\b\b\b\b\b\b\b\b\b\b\b\b\b\b\b\b\b\b\b\b\b\b\b\b\b\b\b\b\b\b\b\b\b\b\b\b\b\b\b\b\b\b\b\b\b\b\b\b\b\b\b\b\b\b\r",
      "412416/412416 [==============================] - 12s 28us/sample - loss: 166.7390 - reconstruction_loss: 88.0956 - KL_loss: 22.6871 - val_loss: 105.3599 - val_reconstruction_loss: 83.0923 - val_KL_loss: 22.2677 - lr: 5.0000e-04\n",
      "Epoch 785/1000\n"
     ]
    },
    {
     "name": "stdout",
     "output_type": "stream",
     "text": [
      "\r",
      "412416/412416 [==============================] - ETA: 0s - loss: 166.8535 - reconstruction_loss: 88.1472 - KL_loss: 22.6625"
     ]
    },
    {
     "name": "stdout",
     "output_type": "stream",
     "text": [
      "\b\b\b\b\b\b\b\b\b\b\b\b\b\b\b\b\b\b\b\b\b\b\b\b\b\b\b\b\b\b\b\b\b\b\b\b\b\b\b\b\b\b\b\b\b\b\b\b\b\b\b\b\b\b\b\b\b\b\b\b\b\b\b\b\b\b\b\b\b\b\b\b\b\b\b\b\b\b\b\b\b\b\b\b\b\b\b\b\b\b\b\b\b\b\b\b\b\b\b\b\b\b\b\b\b\b\b\b\b\b\b\b\b\b\b\b\b\b\b\b\b\b\b\r",
      "412416/412416 [==============================] - 12s 28us/sample - loss: 166.8535 - reconstruction_loss: 88.1472 - KL_loss: 22.6625 - val_loss: 105.3288 - val_reconstruction_loss: 83.0013 - val_KL_loss: 22.3275 - lr: 5.0000e-04\n",
      "Epoch 786/1000\n"
     ]
    },
    {
     "name": "stdout",
     "output_type": "stream",
     "text": [
      "\r",
      "412416/412416 [==============================] - ETA: 0s - loss: 166.7049 - reconstruction_loss: 88.0441 - KL_loss: 22.7205"
     ]
    },
    {
     "name": "stdout",
     "output_type": "stream",
     "text": [
      "\b\b\b\b\b\b\b\b\b\b\b\b\b\b\b\b\b\b\b\b\b\b\b\b\b\b\b\b\b\b\b\b\b\b\b\b\b\b\b\b\b\b\b\b\b\b\b\b\b\b\b\b\b\b\b\b\b\b\b\b\b\b\b\b\b\b\b\b\b\b\b\b\b\b\b\b\b\b\b\b\b\b\b\b\b\b\b\b\b\b\b\b\b\b\b\b\b\b\b\b\b\b\b\b\b\b\b\b\b\b\b\b\b\b\b\b\b\b\b\b\b\b\b\r",
      "412416/412416 [==============================] - 11s 28us/sample - loss: 166.7049 - reconstruction_loss: 88.0441 - KL_loss: 22.7205 - val_loss: 105.4353 - val_reconstruction_loss: 83.0602 - val_KL_loss: 22.3751 - lr: 5.0000e-04\n",
      "Epoch 787/1000\n"
     ]
    },
    {
     "name": "stdout",
     "output_type": "stream",
     "text": [
      "\r",
      "412416/412416 [==============================] - ETA: 0s - loss: 166.8352 - reconstruction_loss: 88.0861 - KL_loss: 22.7692"
     ]
    },
    {
     "name": "stdout",
     "output_type": "stream",
     "text": [
      "\b\b\b\b\b\b\b\b\b\b\b\b\b\b\b\b\b\b\b\b\b\b\b\b\b\b\b\b\b\b\b\b\b\b\b\b\b\b\b\b\b\b\b\b\b\b\b\b\b\b\b\b\b\b\b\b\b\b\b\b\b\b\b\b\b\b\b\b\b\b\b\b\b\b\b\b\b\b\b\b\b\b\b\b\b\b\b\b\b\b\b\b\b\b\b\b\b\b\b\b\b\b\b\b\b\b\b\b\b\b\b\b\b\b\b\b\b\b\b\b\b\b\b\r",
      "412416/412416 [==============================] - 12s 28us/sample - loss: 166.8352 - reconstruction_loss: 88.0861 - KL_loss: 22.7692 - val_loss: 105.4062 - val_reconstruction_loss: 83.0587 - val_KL_loss: 22.3475 - lr: 5.0000e-04\n",
      "Epoch 788/1000\n"
     ]
    },
    {
     "name": "stdout",
     "output_type": "stream",
     "text": [
      "\r",
      "412416/412416 [==============================] - ETA: 0s - loss: 166.9088 - reconstruction_loss: 88.0897 - KL_loss: 22.7409"
     ]
    },
    {
     "name": "stdout",
     "output_type": "stream",
     "text": [
      "\b\b\b\b\b\b\b\b\b\b\b\b\b\b\b\b\b\b\b\b\b\b\b\b\b\b\b\b\b\b\b\b\b\b\b\b\b\b\b\b\b\b\b\b\b\b\b\b\b\b\b\b\b\b\b\b\b\b\b\b\b\b\b\b\b\b\b\b\b\b\b\b\b\b\b\b\b\b\b\b\b\b\b\b\b\b\b\b\b\b\b\b\b\b\b\b\b\b\b\b\b\b\b\b\b\b\b\b\b\b\b\b\b\b\b\b\b\b\b\b\b\b\b\r",
      "412416/412416 [==============================] - 12s 28us/sample - loss: 166.9088 - reconstruction_loss: 88.0897 - KL_loss: 22.7409 - val_loss: 105.3815 - val_reconstruction_loss: 83.1005 - val_KL_loss: 22.2810 - lr: 5.0000e-04\n",
      "Epoch 789/1000\n"
     ]
    },
    {
     "name": "stdout",
     "output_type": "stream",
     "text": [
      "\r",
      "412416/412416 [==============================] - ETA: 0s - loss: 166.7870 - reconstruction_loss: 88.1408 - KL_loss: 22.6734"
     ]
    },
    {
     "name": "stdout",
     "output_type": "stream",
     "text": [
      "\b\b\b\b\b\b\b\b\b\b\b\b\b\b\b\b\b\b\b\b\b\b\b\b\b\b\b\b\b\b\b\b\b\b\b\b\b\b\b\b\b\b\b\b\b\b\b\b\b\b\b\b\b\b\b\b\b\b\b\b\b\b\b\b\b\b\b\b\b\b\b\b\b\b\b\b\b\b\b\b\b\b\b\b\b\b\b\b\b\b\b\b\b\b\b\b\b\b\b\b\b\b\b\b\b\b\b\b\b\b\b\b\b\b\b\b\b\b\b\b\b\b\b\r",
      "412416/412416 [==============================] - 12s 28us/sample - loss: 166.7870 - reconstruction_loss: 88.1408 - KL_loss: 22.6734 - val_loss: 105.3968 - val_reconstruction_loss: 83.1261 - val_KL_loss: 22.2707 - lr: 5.0000e-04\n",
      "Epoch 790/1000\n"
     ]
    },
    {
     "name": "stdout",
     "output_type": "stream",
     "text": [
      "\r",
      "412416/412416 [==============================] - ETA: 0s - loss: 166.7731 - reconstruction_loss: 88.1418 - KL_loss: 22.6654"
     ]
    },
    {
     "name": "stdout",
     "output_type": "stream",
     "text": [
      "\b\b\b\b\b\b\b\b\b\b\b\b\b\b\b\b\b\b\b\b\b\b\b\b\b\b\b\b\b\b\b\b\b\b\b\b\b\b\b\b\b\b\b\b\b\b\b\b\b\b\b\b\b\b\b\b\b\b\b\b\b\b\b\b\b\b\b\b\b\b\b\b\b\b\b\b\b\b\b\b\b\b\b\b\b\b\b\b\b\b\b\b\b\b\b\b\b\b\b\b\b\b\b\b\b\b\b\b\b\b\b\b\b\b\b\b\b\b\b\b\b\b\b\r",
      "412416/412416 [==============================] - 12s 28us/sample - loss: 166.7731 - reconstruction_loss: 88.1418 - KL_loss: 22.6654 - val_loss: 105.3839 - val_reconstruction_loss: 83.0523 - val_KL_loss: 22.3317 - lr: 5.0000e-04\n",
      "Epoch 791/1000\n"
     ]
    },
    {
     "name": "stdout",
     "output_type": "stream",
     "text": [
      "\r",
      "412416/412416 [==============================] - ETA: 0s - loss: 166.6625 - reconstruction_loss: 88.0807 - KL_loss: 22.7274"
     ]
    },
    {
     "name": "stdout",
     "output_type": "stream",
     "text": [
      "\b\b\b\b\b\b\b\b\b\b\b\b\b\b\b\b\b\b\b\b\b\b\b\b\b\b\b\b\b\b\b\b\b\b\b\b\b\b\b\b\b\b\b\b\b\b\b\b\b\b\b\b\b\b\b\b\b\b\b\b\b\b\b\b\b\b\b\b\b\b\b\b\b\b\b\b\b\b\b\b\b\b\b\b\b\b\b\b\b\b\b\b\b\b\b\b\b\b\b\b\b\b\b\b\b\b\b\b\b\b\b\b\b\b\b\b\b\b\b\b\b\b\b\r",
      "412416/412416 [==============================] - 12s 28us/sample - loss: 166.6625 - reconstruction_loss: 88.0807 - KL_loss: 22.7274 - val_loss: 105.3261 - val_reconstruction_loss: 82.9906 - val_KL_loss: 22.3355 - lr: 5.0000e-04\n",
      "Epoch 792/1000\n"
     ]
    },
    {
     "name": "stdout",
     "output_type": "stream",
     "text": [
      "\r",
      "412416/412416 [==============================] - ETA: 0s - loss: 166.6196 - reconstruction_loss: 88.0226 - KL_loss: 22.7282"
     ]
    },
    {
     "name": "stdout",
     "output_type": "stream",
     "text": [
      "\b\b\b\b\b\b\b\b\b\b\b\b\b\b\b\b\b\b\b\b\b\b\b\b\b\b\b\b\b\b\b\b\b\b\b\b\b\b\b\b\b\b\b\b\b\b\b\b\b\b\b\b\b\b\b\b\b\b\b\b\b\b\b\b\b\b\b\b\b\b\b\b\b\b\b\b\b\b\b\b\b\b\b\b\b\b\b\b\b\b\b\b\b\b\b\b\b\b\b\b\b\b\b\b\b\b\b\b\b\b\b\b\b\b\b\b\b\b\b\b\b\b\b\r",
      "412416/412416 [==============================] - 12s 28us/sample - loss: 166.6196 - reconstruction_loss: 88.0226 - KL_loss: 22.7282 - val_loss: 105.3736 - val_reconstruction_loss: 83.1288 - val_KL_loss: 22.2448 - lr: 5.0000e-04\n",
      "Epoch 793/1000\n"
     ]
    },
    {
     "name": "stdout",
     "output_type": "stream",
     "text": [
      "\r",
      "412416/412416 [==============================] - ETA: 0s - loss: 166.6736 - reconstruction_loss: 88.1640 - KL_loss: 22.6371"
     ]
    },
    {
     "name": "stdout",
     "output_type": "stream",
     "text": [
      "\b\b\b\b\b\b\b\b\b\b\b\b\b\b\b\b\b\b\b\b\b\b\b\b\b\b\b\b\b\b\b\b\b\b\b\b\b\b\b\b\b\b\b\b\b\b\b\b\b\b\b\b\b\b\b\b\b\b\b\b\b\b\b\b\b\b\b\b\b\b\b\b\b\b\b\b\b\b\b\b\b\b\b\b\b\b\b\b\b\b\b\b\b\b\b\b\b\b\b\b\b\b\b\b\b\b\b\b\b\b\b\b\b\b\b\b\b\b\b\b\b\b\b\r",
      "412416/412416 [==============================] - 12s 29us/sample - loss: 166.6736 - reconstruction_loss: 88.1640 - KL_loss: 22.6371 - val_loss: 105.3273 - val_reconstruction_loss: 83.1058 - val_KL_loss: 22.2215 - lr: 5.0000e-04\n",
      "Epoch 794/1000\n"
     ]
    },
    {
     "name": "stdout",
     "output_type": "stream",
     "text": [
      "\r",
      "412416/412416 [==============================] - ETA: 0s - loss: 166.6415 - reconstruction_loss: 88.0998 - KL_loss: 22.6163"
     ]
    },
    {
     "name": "stdout",
     "output_type": "stream",
     "text": [
      "\b\b\b\b\b\b\b\b\b\b\b\b\b\b\b\b\b\b\b\b\b\b\b\b\b\b\b\b\b\b\b\b\b\b\b\b\b\b\b\b\b\b\b\b\b\b\b\b\b\b\b\b\b\b\b\b\b\b\b\b\b\b\b\b\b\b\b\b\b\b\b\b\b\b\b\b\b\b\b\b\b\b\b\b\b\b\b\b\b\b\b\b\b\b\b\b\b\b\b\b\b\b\b\b\b\b\b\b\b\b\b\b\b\b\b\b\b\b\b\b\b\b\b\r",
      "412416/412416 [==============================] - 12s 28us/sample - loss: 166.6415 - reconstruction_loss: 88.0998 - KL_loss: 22.6163 - val_loss: 105.3603 - val_reconstruction_loss: 83.0674 - val_KL_loss: 22.2929 - lr: 5.0000e-04\n",
      "Epoch 795/1000\n"
     ]
    },
    {
     "name": "stdout",
     "output_type": "stream",
     "text": [
      "\r",
      "412416/412416 [==============================] - ETA: 0s - loss: 166.6001 - reconstruction_loss: 88.0810 - KL_loss: 22.6866"
     ]
    },
    {
     "name": "stdout",
     "output_type": "stream",
     "text": [
      "\b\b\b\b\b\b\b\b\b\b\b\b\b\b\b\b\b\b\b\b\b\b\b\b\b\b\b\b\b\b\b\b\b\b\b\b\b\b\b\b\b\b\b\b\b\b\b\b\b\b\b\b\b\b\b\b\b\b\b\b\b\b\b\b\b\b\b\b\b\b\b\b\b\b\b\b\b\b\b\b\b\b\b\b\b\b\b\b\b\b\b\b\b\b\b\b\b\b\b\b\b\b\b\b\b\b\b\b\b\b\b\b\b\b\b\b\b\b\b\b\b\b\b\r",
      "412416/412416 [==============================] - 12s 28us/sample - loss: 166.6001 - reconstruction_loss: 88.0810 - KL_loss: 22.6866 - val_loss: 105.3245 - val_reconstruction_loss: 82.9970 - val_KL_loss: 22.3275 - lr: 5.0000e-04\n",
      "Epoch 796/1000\n"
     ]
    },
    {
     "name": "stdout",
     "output_type": "stream",
     "text": [
      "\r",
      "412416/412416 [==============================] - ETA: 0s - loss: 166.5999 - reconstruction_loss: 88.0206 - KL_loss: 22.7205"
     ]
    },
    {
     "name": "stdout",
     "output_type": "stream",
     "text": [
      "\b\b\b\b\b\b\b\b\b\b\b\b\b\b\b\b\b\b\b\b\b\b\b\b\b\b\b\b\b\b\b\b\b\b\b\b\b\b\b\b\b\b\b\b\b\b\b\b\b\b\b\b\b\b\b\b\b\b\b\b\b\b\b\b\b\b\b\b\b\b\b\b\b\b\b\b\b\b\b\b\b\b\b\b\b\b\b\b\b\b\b\b\b\b\b\b\b\b\b\b\b\b\b\b\b\b\b\b\b\b\b\b\b\b\b\b\b\b\b\b\b\b\b\r",
      "412416/412416 [==============================] - 12s 28us/sample - loss: 166.5999 - reconstruction_loss: 88.0206 - KL_loss: 22.7205 - val_loss: 105.3154 - val_reconstruction_loss: 83.0198 - val_KL_loss: 22.2956 - lr: 5.0000e-04\n",
      "Epoch 797/1000\n"
     ]
    },
    {
     "name": "stdout",
     "output_type": "stream",
     "text": [
      "\r",
      "412416/412416 [==============================] - ETA: 0s - loss: 166.5057 - reconstruction_loss: 88.0293 - KL_loss: 22.6902"
     ]
    },
    {
     "name": "stdout",
     "output_type": "stream",
     "text": [
      "\b\b\b\b\b\b\b\b\b\b\b\b\b\b\b\b\b\b\b\b\b\b\b\b\b\b\b\b\b\b\b\b\b\b\b\b\b\b\b\b\b\b\b\b\b\b\b\b\b\b\b\b\b\b\b\b\b\b\b\b\b\b\b\b\b\b\b\b\b\b\b\b\b\b\b\b\b\b\b\b\b\b\b\b\b\b\b\b\b\b\b\b\b\b\b\b\b\b\b\b\b\b\b\b\b\b\b\b\b\b\b\b\b\b\b\b\b\b\b\b\b\b\b\r",
      "412416/412416 [==============================] - 12s 28us/sample - loss: 166.5057 - reconstruction_loss: 88.0293 - KL_loss: 22.6902 - val_loss: 105.4210 - val_reconstruction_loss: 83.1479 - val_KL_loss: 22.2731 - lr: 5.0000e-04\n",
      "Epoch 798/1000\n"
     ]
    },
    {
     "name": "stdout",
     "output_type": "stream",
     "text": [
      "\r",
      "412416/412416 [==============================] - ETA: 0s - loss: 166.7490 - reconstruction_loss: 88.1708 - KL_loss: 22.6693"
     ]
    },
    {
     "name": "stdout",
     "output_type": "stream",
     "text": [
      "\b\b\b\b\b\b\b\b\b\b\b\b\b\b\b\b\b\b\b\b\b\b\b\b\b\b\b\b\b\b\b\b\b\b\b\b\b\b\b\b\b\b\b\b\b\b\b\b\b\b\b\b\b\b\b\b\b\b\b\b\b\b\b\b\b\b\b\b\b\b\b\b\b\b\b\b\b\b\b\b\b\b\b\b\b\b\b\b\b\b\b\b\b\b\b\b\b\b\b\b\b\b\b\b\b\b\b\b\b\b\b\b\b\b\b\b\b\b\b\b\b\b\b\r",
      "412416/412416 [==============================] - 12s 28us/sample - loss: 166.7490 - reconstruction_loss: 88.1708 - KL_loss: 22.6693 - val_loss: 105.3434 - val_reconstruction_loss: 83.0727 - val_KL_loss: 22.2707 - lr: 5.0000e-04\n",
      "Epoch 799/1000\n"
     ]
    },
    {
     "name": "stdout",
     "output_type": "stream",
     "text": [
      "\r",
      "412416/412416 [==============================] - ETA: 0s - loss: 166.6722 - reconstruction_loss: 88.1136 - KL_loss: 22.6670"
     ]
    },
    {
     "name": "stdout",
     "output_type": "stream",
     "text": [
      "\b\b\b\b\b\b\b\b\b\b\b\b\b\b\b\b\b\b\b\b\b\b\b\b\b\b\b\b\b\b\b\b\b\b\b\b\b\b\b\b\b\b\b\b\b\b\b\b\b\b\b\b\b\b\b\b\b\b\b\b\b\b\b\b\b\b\b\b\b\b\b\b\b\b\b\b\b\b\b\b\b\b\b\b\b\b\b\b\b\b\b\b\b\b\b\b\b\b\b\b\b\b\b\b\b\b\b\b\b\b\b\b\b\b\b\b\b\b\b\b\b\b\b\r",
      "412416/412416 [==============================] - 12s 28us/sample - loss: 166.6722 - reconstruction_loss: 88.1136 - KL_loss: 22.6670 - val_loss: 105.4097 - val_reconstruction_loss: 83.1136 - val_KL_loss: 22.2961 - lr: 5.0000e-04\n",
      "Epoch 800/1000\n"
     ]
    },
    {
     "name": "stdout",
     "output_type": "stream",
     "text": [
      "\r",
      "412416/412416 [==============================] - ETA: 0s - loss: 166.6264 - reconstruction_loss: 88.1109 - KL_loss: 22.6902"
     ]
    },
    {
     "name": "stdout",
     "output_type": "stream",
     "text": [
      "\b\b\b\b\b\b\b\b\b\b\b\b\b\b\b\b\b\b\b\b\b\b\b\b\b\b\b\b\b\b\b\b\b\b\b\b\b\b\b\b\b\b\b\b\b\b\b\b\b\b\b\b\b\b\b\b\b\b\b\b\b\b\b\b\b\b\b\b\b\b\b\b\b\b\b\b\b\b\b\b\b\b\b\b\b\b\b\b\b\b\b\b\b\b\b\b\b\b\b\b\b\b\b\b\b\b\b\b\b\b\b\b\b\b\b\b\b\b\b\b\b\b\b\r",
      "412416/412416 [==============================] - 12s 28us/sample - loss: 166.6264 - reconstruction_loss: 88.1109 - KL_loss: 22.6902 - val_loss: 105.3420 - val_reconstruction_loss: 83.0010 - val_KL_loss: 22.3409 - lr: 5.0000e-04\n",
      "Epoch 801/1000\n"
     ]
    },
    {
     "name": "stdout",
     "output_type": "stream",
     "text": [
      "\r",
      "412416/412416 [==============================] - ETA: 0s - loss: 166.6464 - reconstruction_loss: 88.0264 - KL_loss: 22.7340"
     ]
    },
    {
     "name": "stdout",
     "output_type": "stream",
     "text": [
      "\b\b\b\b\b\b\b\b\b\b\b\b\b\b\b\b\b\b\b\b\b\b\b\b\b\b\b\b\b\b\b\b\b\b\b\b\b\b\b\b\b\b\b\b\b\b\b\b\b\b\b\b\b\b\b\b\b\b\b\b\b\b\b\b\b\b\b\b\b\b\b\b\b\b\b\b\b\b\b\b\b\b\b\b\b\b\b\b\b\b\b\b\b\b\b\b\b\b\b\b\b\b\b\b\b\b\b\b\b\b\b\b\b\b\b\b\b\b\b\b\b\b\b\r",
      "412416/412416 [==============================] - 12s 28us/sample - loss: 166.6464 - reconstruction_loss: 88.0264 - KL_loss: 22.7340 - val_loss: 105.4123 - val_reconstruction_loss: 83.0696 - val_KL_loss: 22.3427 - lr: 5.0000e-04\n",
      "Epoch 802/1000\n"
     ]
    },
    {
     "name": "stdout",
     "output_type": "stream",
     "text": [
      "\r",
      "412416/412416 [==============================] - ETA: 0s - loss: 166.6211 - reconstruction_loss: 88.0561 - KL_loss: 22.7382"
     ]
    },
    {
     "name": "stdout",
     "output_type": "stream",
     "text": [
      "\b\b\b\b\b\b\b\b\b\b\b\b\b\b\b\b\b\b\b\b\b\b\b\b\b\b\b\b\b\b\b\b\b\b\b\b\b\b\b\b\b\b\b\b\b\b\b\b\b\b\b\b\b\b\b\b\b\b\b\b\b\b\b\b\b\b\b\b\b\b\b\b\b\b\b\b\b\b\b\b\b\b\b\b\b\b\b\b\b\b\b\b\b\b\b\b\b\b\b\b\b\b\b\b\b\b\b\b\b\b\b\b\b\b\b\b\b\b\b\b\b\b\b\r",
      "412416/412416 [==============================] - 13s 31us/sample - loss: 166.6211 - reconstruction_loss: 88.0561 - KL_loss: 22.7382 - val_loss: 105.3512 - val_reconstruction_loss: 83.0402 - val_KL_loss: 22.3110 - lr: 5.0000e-04\n",
      "Epoch 803/1000\n"
     ]
    },
    {
     "name": "stdout",
     "output_type": "stream",
     "text": [
      "\r",
      "412416/412416 [==============================] - ETA: 0s - loss: 166.5135 - reconstruction_loss: 88.0341 - KL_loss: 22.7091"
     ]
    },
    {
     "name": "stdout",
     "output_type": "stream",
     "text": [
      "\b\b\b\b\b\b\b\b\b\b\b\b\b\b\b\b\b\b\b\b\b\b\b\b\b\b\b\b\b\b\b\b\b\b\b\b\b\b\b\b\b\b\b\b\b\b\b\b\b\b\b\b\b\b\b\b\b\b\b\b\b\b\b\b\b\b\b\b\b\b\b\b\b\b\b\b\b\b\b\b\b\b\b\b\b\b\b\b\b\b\b\b\b\b\b\b\b\b\b\b\b\b\b\b\b\b\b\b\b\b\b\b\b\b\b\b\b\b\b\b\b\b\b\r",
      "412416/412416 [==============================] - 13s 32us/sample - loss: 166.5135 - reconstruction_loss: 88.0341 - KL_loss: 22.7091 - val_loss: 105.3633 - val_reconstruction_loss: 83.0571 - val_KL_loss: 22.3062 - lr: 5.0000e-04\n",
      "Epoch 804/1000\n"
     ]
    },
    {
     "name": "stdout",
     "output_type": "stream",
     "text": [
      "\r",
      "412416/412416 [==============================] - ETA: 0s - loss: 166.5536 - reconstruction_loss: 88.0712 - KL_loss: 22.7012"
     ]
    },
    {
     "name": "stdout",
     "output_type": "stream",
     "text": [
      "\b\b\b\b\b\b\b\b\b\b\b\b\b\b\b\b\b\b\b\b\b\b\b\b\b\b\b\b\b\b\b\b\b\b\b\b\b\b\b\b\b\b\b\b\b\b\b\b\b\b\b\b\b\b\b\b\b\b\b\b\b\b\b\b\b\b\b\b\b\b\b\b\b\b\b\b\b\b\b\b\b\b\b\b\b\b\b\b\b\b\b\b\b\b\b\b\b\b\b\b\b\b\b\b\b\b\b\b\b\b\b\b\b\b\b\b\b\b\b\b\b\b\b\r",
      "412416/412416 [==============================] - 12s 28us/sample - loss: 166.5536 - reconstruction_loss: 88.0712 - KL_loss: 22.7012 - val_loss: 105.3126 - val_reconstruction_loss: 82.9855 - val_KL_loss: 22.3271 - lr: 5.0000e-04\n",
      "Epoch 805/1000\n"
     ]
    },
    {
     "name": "stdout",
     "output_type": "stream",
     "text": [
      "\r",
      "412416/412416 [==============================] - ETA: 0s - loss: 166.4725 - reconstruction_loss: 87.9965 - KL_loss: 22.7201"
     ]
    },
    {
     "name": "stdout",
     "output_type": "stream",
     "text": [
      "\b\b\b\b\b\b\b\b\b\b\b\b\b\b\b\b\b\b\b\b\b\b\b\b\b\b\b\b\b\b\b\b\b\b\b\b\b\b\b\b\b\b\b\b\b\b\b\b\b\b\b\b\b\b\b\b\b\b\b\b\b\b\b\b\b\b\b\b\b\b\b\b\b\b\b\b\b\b\b\b\b\b\b\b\b\b\b\b\b\b\b\b\b\b\b\b\b\b\b\b\b\b\b\b\b\b\b\b\b\b\b\b\b\b\b\b\b\b\b\b\b\b\b\r",
      "412416/412416 [==============================] - 12s 28us/sample - loss: 166.4725 - reconstruction_loss: 87.9965 - KL_loss: 22.7201 - val_loss: 105.3765 - val_reconstruction_loss: 83.0756 - val_KL_loss: 22.3009 - lr: 5.0000e-04\n",
      "Epoch 806/1000\n"
     ]
    },
    {
     "name": "stdout",
     "output_type": "stream",
     "text": [
      "\r",
      "412416/412416 [==============================] - ETA: 0s - loss: 166.5589 - reconstruction_loss: 88.0872 - KL_loss: 22.6970"
     ]
    },
    {
     "name": "stdout",
     "output_type": "stream",
     "text": [
      "\b\b\b\b\b\b\b\b\b\b\b\b\b\b\b\b\b\b\b\b\b\b\b\b\b\b\b\b\b\b\b\b\b\b\b\b\b\b\b\b\b\b\b\b\b\b\b\b\b\b\b\b\b\b\b\b\b\b\b\b\b\b\b\b\b\b\b\b\b\b\b\b\b\b\b\b\b\b\b\b\b\b\b\b\b\b\b\b\b\b\b\b\b\b\b\b\b\b\b\b\b\b\b\b\b\b\b\b\b\b\b\b\b\b\b\b\b\b\b\b\b\b\b\r",
      "412416/412416 [==============================] - 11s 28us/sample - loss: 166.5589 - reconstruction_loss: 88.0872 - KL_loss: 22.6970 - val_loss: 105.2866 - val_reconstruction_loss: 83.0110 - val_KL_loss: 22.2756 - lr: 5.0000e-04\n",
      "Epoch 807/1000\n"
     ]
    },
    {
     "name": "stdout",
     "output_type": "stream",
     "text": [
      "\r",
      "412416/412416 [==============================] - ETA: 0s - loss: 166.4216 - reconstruction_loss: 88.0451 - KL_loss: 22.6709"
     ]
    },
    {
     "name": "stdout",
     "output_type": "stream",
     "text": [
      "\b\b\b\b\b\b\b\b\b\b\b\b\b\b\b\b\b\b\b\b\b\b\b\b\b\b\b\b\b\b\b\b\b\b\b\b\b\b\b\b\b\b\b\b\b\b\b\b\b\b\b\b\b\b\b\b\b\b\b\b\b\b\b\b\b\b\b\b\b\b\b\b\b\b\b\b\b\b\b\b\b\b\b\b\b\b\b\b\b\b\b\b\b\b\b\b\b\b\b\b\b\b\b\b\b\b\b\b\b\b\b\b\b\b\b\b\b\b\b\b\b\b\b\r",
      "412416/412416 [==============================] - 12s 28us/sample - loss: 166.4216 - reconstruction_loss: 88.0451 - KL_loss: 22.6709 - val_loss: 105.4462 - val_reconstruction_loss: 83.1403 - val_KL_loss: 22.3059 - lr: 5.0000e-04\n",
      "Epoch 808/1000\n"
     ]
    },
    {
     "name": "stdout",
     "output_type": "stream",
     "text": [
      "\r",
      "412416/412416 [==============================] - ETA: 0s - loss: 166.6428 - reconstruction_loss: 88.1651 - KL_loss: 22.6975"
     ]
    },
    {
     "name": "stdout",
     "output_type": "stream",
     "text": [
      "\b\b\b\b\b\b\b\b\b\b\b\b\b\b\b\b\b\b\b\b\b\b\b\b\b\b\b\b\b\b\b\b\b\b\b\b\b\b\b\b\b\b\b\b\b\b\b\b\b\b\b\b\b\b\b\b\b\b\b\b\b\b\b\b\b\b\b\b\b\b\b\b\b\b\b\b\b\b\b\b\b\b\b\b\b\b\b\b\b\b\b\b\b\b\b\b\b\b\b\b\b\b\b\b\b\b\b\b\b\b\b\b\b\b\b\b\b\b\b\b\b\b\b\r",
      "412416/412416 [==============================] - 12s 28us/sample - loss: 166.6428 - reconstruction_loss: 88.1651 - KL_loss: 22.6975 - val_loss: 105.4025 - val_reconstruction_loss: 83.0736 - val_KL_loss: 22.3289 - lr: 5.0000e-04\n",
      "Epoch 809/1000\n"
     ]
    },
    {
     "name": "stdout",
     "output_type": "stream",
     "text": [
      "\r",
      "412416/412416 [==============================] - ETA: 0s - loss: 166.5201 - reconstruction_loss: 88.0791 - KL_loss: 22.7215"
     ]
    },
    {
     "name": "stdout",
     "output_type": "stream",
     "text": [
      "\b\b\b\b\b\b\b\b\b\b\b\b\b\b\b\b\b\b\b\b\b\b\b\b\b\b\b\b\b\b\b\b\b\b\b\b\b\b\b\b\b\b\b\b\b\b\b\b\b\b\b\b\b\b\b\b\b\b\b\b\b\b\b\b\b\b\b\b\b\b\b\b\b\b\b\b\b\b\b\b\b\b\b\b\b\b\b\b\b\b\b\b\b\b\b\b\b\b\b\b\b\b\b\b\b\b\b\b\b\b\b\b\b\b\b\b\b\b\b\b\b\b\b\r",
      "412416/412416 [==============================] - 12s 28us/sample - loss: 166.5201 - reconstruction_loss: 88.0791 - KL_loss: 22.7215 - val_loss: 105.3979 - val_reconstruction_loss: 83.0900 - val_KL_loss: 22.3079 - lr: 5.0000e-04\n",
      "Epoch 810/1000\n"
     ]
    },
    {
     "name": "stdout",
     "output_type": "stream",
     "text": [
      "\r",
      "412416/412416 [==============================] - ETA: 0s - loss: 166.5056 - reconstruction_loss: 88.0948 - KL_loss: 22.7049"
     ]
    },
    {
     "name": "stdout",
     "output_type": "stream",
     "text": [
      "\b\b\b\b\b\b\b\b\b\b\b\b\b\b\b\b\b\b\b\b\b\b\b\b\b\b\b\b\b\b\b\b\b\b\b\b\b\b\b\b\b\b\b\b\b\b\b\b\b\b\b\b\b\b\b\b\b\b\b\b\b\b\b\b\b\b\b\b\b\b\b\b\b\b\b\b\b\b\b\b\b\b\b\b\b\b\b\b\b\b\b\b\b\b\b\b\b\b\b\b\b\b\b\b\b\b\b\b\b\b\b\b\b\b\b\b\b\b\b\b\b\b\b\r",
      "412416/412416 [==============================] - 12s 28us/sample - loss: 166.5056 - reconstruction_loss: 88.0948 - KL_loss: 22.7049 - val_loss: 105.3675 - val_reconstruction_loss: 83.0978 - val_KL_loss: 22.2697 - lr: 5.0000e-04\n",
      "Epoch 811/1000\n"
     ]
    },
    {
     "name": "stdout",
     "output_type": "stream",
     "text": [
      "\r",
      "412416/412416 [==============================] - ETA: 0s - loss: 166.5191 - reconstruction_loss: 88.1226 - KL_loss: 22.6663"
     ]
    },
    {
     "name": "stdout",
     "output_type": "stream",
     "text": [
      "\b\b\b\b\b\b\b\b\b\b\b\b\b\b\b\b\b\b\b\b\b\b\b\b\b\b\b\b\b\b\b\b\b\b\b\b\b\b\b\b\b\b\b\b\b\b\b\b\b\b\b\b\b\b\b\b\b\b\b\b\b\b\b\b\b\b\b\b\b\b\b\b\b\b\b\b\b\b\b\b\b\b\b\b\b\b\b\b\b\b\b\b\b\b\b\b\b\b\b\b\b\b\b\b\b\b\b\b\b\b\b\b\b\b\b\b\b\b\b\b\b\b\b\r",
      "412416/412416 [==============================] - 12s 28us/sample - loss: 166.5191 - reconstruction_loss: 88.1226 - KL_loss: 22.6663 - val_loss: 105.3476 - val_reconstruction_loss: 83.0941 - val_KL_loss: 22.2534 - lr: 5.0000e-04\n",
      "Epoch 812/1000\n"
     ]
    },
    {
     "name": "stdout",
     "output_type": "stream",
     "text": [
      "\r",
      "412416/412416 [==============================] - ETA: 0s - loss: 166.4217 - reconstruction_loss: 88.1266 - KL_loss: 22.6459"
     ]
    },
    {
     "name": "stdout",
     "output_type": "stream",
     "text": [
      "\b\b\b\b\b\b\b\b\b\b\b\b\b\b\b\b\b\b\b\b\b\b\b\b\b\b\b\b\b\b\b\b\b\b\b\b\b\b\b\b\b\b\b\b\b\b\b\b\b\b\b\b\b\b\b\b\b\b\b\b\b\b\b\b\b\b\b\b\b\b\b\b\b\b\b\b\b\b\b\b\b\b\b\b\b\b\b\b\b\b\b\b\b\b\b\b\b\b\b\b\b\b\b\b\b\b\b\b\b\b\b\b\b\b\b\b\b\b\b\b\b\b\b\r",
      "412416/412416 [==============================] - 12s 28us/sample - loss: 166.4217 - reconstruction_loss: 88.1266 - KL_loss: 22.6459 - val_loss: 105.3427 - val_reconstruction_loss: 83.0877 - val_KL_loss: 22.2550 - lr: 5.0000e-04\n",
      "Epoch 813/1000\n"
     ]
    },
    {
     "name": "stdout",
     "output_type": "stream",
     "text": [
      "\r",
      "412416/412416 [==============================] - ETA: 0s - loss: 166.4119 - reconstruction_loss: 88.1015 - KL_loss: 22.6479"
     ]
    },
    {
     "name": "stdout",
     "output_type": "stream",
     "text": [
      "\b\b\b\b\b\b\b\b\b\b\b\b\b\b\b\b\b\b\b\b\b\b\b\b\b\b\b\b\b\b\b\b\b\b\b\b\b\b\b\b\b\b\b\b\b\b\b\b\b\b\b\b\b\b\b\b\b\b\b\b\b\b\b\b\b\b\b\b\b\b\b\b\b\b\b\b\b\b\b\b\b\b\b\b\b\b\b\b\b\b\b\b\b\b\b\b\b\b\b\b\b\b\b\b\b\b\b\b\b\b\b\b\b\b\b\b\b\b\b\b\b\b\b\r",
      "412416/412416 [==============================] - 12s 28us/sample - loss: 166.4119 - reconstruction_loss: 88.1015 - KL_loss: 22.6479 - val_loss: 105.3269 - val_reconstruction_loss: 83.0577 - val_KL_loss: 22.2692 - lr: 5.0000e-04\n",
      "Epoch 814/1000\n"
     ]
    },
    {
     "name": "stdout",
     "output_type": "stream",
     "text": [
      "\r",
      "412416/412416 [==============================] - ETA: 0s - loss: 166.3924 - reconstruction_loss: 88.0744 - KL_loss: 22.6649"
     ]
    },
    {
     "name": "stdout",
     "output_type": "stream",
     "text": [
      "\b\b\b\b\b\b\b\b\b\b\b\b\b\b\b\b\b\b\b\b\b\b\b\b\b\b\b\b\b\b\b\b\b\b\b\b\b\b\b\b\b\b\b\b\b\b\b\b\b\b\b\b\b\b\b\b\b\b\b\b\b\b\b\b\b\b\b\b\b\b\b\b\b\b\b\b\b\b\b\b\b\b\b\b\b\b\b\b\b\b\b\b\b\b\b\b\b\b\b\b\b\b\b\b\b\b\b\b\b\b\b\b\b\b\b\b\b\b\b\b\b\b\b\r",
      "412416/412416 [==============================] - 12s 28us/sample - loss: 166.3924 - reconstruction_loss: 88.0744 - KL_loss: 22.6649 - val_loss: 105.3031 - val_reconstruction_loss: 83.0004 - val_KL_loss: 22.3027 - lr: 5.0000e-04\n",
      "Epoch 815/1000\n"
     ]
    },
    {
     "name": "stdout",
     "output_type": "stream",
     "text": [
      "\r",
      "412416/412416 [==============================] - ETA: 0s - loss: 166.3353 - reconstruction_loss: 88.0295 - KL_loss: 22.6965"
     ]
    },
    {
     "name": "stdout",
     "output_type": "stream",
     "text": [
      "\b\b\b\b\b\b\b\b\b\b\b\b\b\b\b\b\b\b\b\b\b\b\b\b\b\b\b\b\b\b\b\b\b\b\b\b\b\b\b\b\b\b\b\b\b\b\b\b\b\b\b\b\b\b\b\b\b\b\b\b\b\b\b\b\b\b\b\b\b\b\b\b\b\b\b\b\b\b\b\b\b\b\b\b\b\b\b\b\b\b\b\b\b\b\b\b\b\b\b\b\b\b\b\b\b\b\b\b\b\b\b\b\b\b\b\b\b\b\b\b\b\b\b\r",
      "412416/412416 [==============================] - 12s 28us/sample - loss: 166.3353 - reconstruction_loss: 88.0295 - KL_loss: 22.6965 - val_loss: 105.2951 - val_reconstruction_loss: 82.9727 - val_KL_loss: 22.3224 - lr: 5.0000e-04\n",
      "Epoch 816/1000\n"
     ]
    },
    {
     "name": "stdout",
     "output_type": "stream",
     "text": [
      "\r",
      "412416/412416 [==============================] - ETA: 0s - loss: 166.3507 - reconstruction_loss: 88.0030 - KL_loss: 22.7150"
     ]
    },
    {
     "name": "stdout",
     "output_type": "stream",
     "text": [
      "\b\b\b\b\b\b\b\b\b\b\b\b\b\b\b\b\b\b\b\b\b\b\b\b\b\b\b\b\b\b\b\b\b\b\b\b\b\b\b\b\b\b\b\b\b\b\b\b\b\b\b\b\b\b\b\b\b\b\b\b\b\b\b\b\b\b\b\b\b\b\b\b\b\b\b\b\b\b\b\b\b\b\b\b\b\b\b\b\b\b\b\b\b\b\b\b\b\b\b\b\b\b\b\b\b\b\b\b\b\b\b\b\b\b\b\b\b\b\b\b\b\b\b\r",
      "412416/412416 [==============================] - 12s 28us/sample - loss: 166.3507 - reconstruction_loss: 88.0030 - KL_loss: 22.7150 - val_loss: 105.3110 - val_reconstruction_loss: 82.9584 - val_KL_loss: 22.3525 - lr: 5.0000e-04\n",
      "Epoch 817/1000\n"
     ]
    },
    {
     "name": "stdout",
     "output_type": "stream",
     "text": [
      "\r",
      "412416/412416 [==============================] - ETA: 0s - loss: 166.3830 - reconstruction_loss: 87.9539 - KL_loss: 22.7468"
     ]
    },
    {
     "name": "stdout",
     "output_type": "stream",
     "text": [
      "\b\b\b\b\b\b\b\b\b\b\b\b\b\b\b\b\b\b\b\b\b\b\b\b\b\b\b\b\b\b\b\b\b\b\b\b\b\b\b\b\b\b\b\b\b\b\b\b\b\b\b\b\b\b\b\b\b\b\b\b\b\b\b\b\b\b\b\b\b\b\b\b\b\b\b\b\b\b\b\b\b\b\b\b\b\b\b\b\b\b\b\b\b\b\b\b\b\b\b\b\b\b\b\b\b\b\b\b\b\b\b\b\b\b\b\b\b\b\b\b\b\b\b\r",
      "412416/412416 [==============================] - 12s 28us/sample - loss: 166.3830 - reconstruction_loss: 87.9539 - KL_loss: 22.7468 - val_loss: 105.3858 - val_reconstruction_loss: 82.9872 - val_KL_loss: 22.3987 - lr: 5.0000e-04\n",
      "Epoch 818/1000\n"
     ]
    },
    {
     "name": "stdout",
     "output_type": "stream",
     "text": [
      "\r",
      "412416/412416 [==============================] - ETA: 0s - loss: 166.4271 - reconstruction_loss: 88.0070 - KL_loss: 22.7925"
     ]
    },
    {
     "name": "stdout",
     "output_type": "stream",
     "text": [
      "\b\b\b\b\b\b\b\b\b\b\b\b\b\b\b\b\b\b\b\b\b\b\b\b\b\b\b\b\b\b\b\b\b\b\b\b\b\b\b\b\b\b\b\b\b\b\b\b\b\b\b\b\b\b\b\b\b\b\b\b\b\b\b\b\b\b\b\b\b\b\b\b\b\b\b\b\b\b\b\b\b\b\b\b\b\b\b\b\b\b\b\b\b\b\b\b\b\b\b\b\b\b\b\b\b\b\b\b\b\b\b\b\b\b\b\b\b\b\b\b\b\b\b\r",
      "412416/412416 [==============================] - 11s 28us/sample - loss: 166.4271 - reconstruction_loss: 88.0070 - KL_loss: 22.7925 - val_loss: 105.2954 - val_reconstruction_loss: 82.9426 - val_KL_loss: 22.3529 - lr: 5.0000e-04\n",
      "Epoch 819/1000\n"
     ]
    },
    {
     "name": "stdout",
     "output_type": "stream",
     "text": [
      "\r",
      "412416/412416 [==============================] - ETA: 0s - loss: 166.3407 - reconstruction_loss: 87.9840 - KL_loss: 22.7466"
     ]
    },
    {
     "name": "stdout",
     "output_type": "stream",
     "text": [
      "\b\b\b\b\b\b\b\b\b\b\b\b\b\b\b\b\b\b\b\b\b\b\b\b\b\b\b\b\b\b\b\b\b\b\b\b\b\b\b\b\b\b\b\b\b\b\b\b\b\b\b\b\b\b\b\b\b\b\b\b\b\b\b\b\b\b\b\b\b\b\b\b\b\b\b\b\b\b\b\b\b\b\b\b\b\b\b\b\b\b\b\b\b\b\b\b\b\b\b\b\b\b\b\b\b\b\b\b\b\b\b\b\b\b\b\b\b\b\b\b\b\b\b\r",
      "412416/412416 [==============================] - 12s 28us/sample - loss: 166.3407 - reconstruction_loss: 87.9840 - KL_loss: 22.7466 - val_loss: 105.4524 - val_reconstruction_loss: 83.1957 - val_KL_loss: 22.2568 - lr: 5.0000e-04\n",
      "Epoch 820/1000\n"
     ]
    },
    {
     "name": "stdout",
     "output_type": "stream",
     "text": [
      "\r",
      "412416/412416 [==============================] - ETA: 0s - loss: 166.4590 - reconstruction_loss: 88.2069 - KL_loss: 22.6507"
     ]
    },
    {
     "name": "stdout",
     "output_type": "stream",
     "text": [
      "\b\b\b\b\b\b\b\b\b\b\b\b\b\b\b\b\b\b\b\b\b\b\b\b\b\b\b\b\b\b\b\b\b\b\b\b\b\b\b\b\b\b\b\b\b\b\b\b\b\b\b\b\b\b\b\b\b\b\b\b\b\b\b\b\b\b\b\b\b\b\b\b\b\b\b\b\b\b\b\b\b\b\b\b\b\b\b\b\b\b\b\b\b\b\b\b\b\b\b\b\b\b\b\b\b\b\b\b\b\b\b\b\b\b\b\b\b\b\b\b\b\b\b\r",
      "412416/412416 [==============================] - 17s 40us/sample - loss: 166.4590 - reconstruction_loss: 88.2069 - KL_loss: 22.6507 - val_loss: 105.4562 - val_reconstruction_loss: 83.2087 - val_KL_loss: 22.2475 - lr: 5.0000e-04\n",
      "Epoch 821/1000\n"
     ]
    },
    {
     "name": "stdout",
     "output_type": "stream",
     "text": [
      "\r",
      "412416/412416 [==============================] - ETA: 0s - loss: 166.4951 - reconstruction_loss: 88.2402 - KL_loss: 22.6407"
     ]
    },
    {
     "name": "stdout",
     "output_type": "stream",
     "text": [
      "\b\b\b\b\b\b\b\b\b\b\b\b\b\b\b\b\b\b\b\b\b\b\b\b\b\b\b\b\b\b\b\b\b\b\b\b\b\b\b\b\b\b\b\b\b\b\b\b\b\b\b\b\b\b\b\b\b\b\b\b\b\b\b\b\b\b\b\b\b\b\b\b\b\b\b\b\b\b\b\b\b\b\b\b\b\b\b\b\b\b\b\b\b\b\b\b\b\b\b\b\b\b\b\b\b\b\b\b\b\b\b\b\b\b\b\b\b\b\b\b\b\b\b\r",
      "412416/412416 [==============================] - 14s 34us/sample - loss: 166.4951 - reconstruction_loss: 88.2402 - KL_loss: 22.6407 - val_loss: 105.2897 - val_reconstruction_loss: 82.9794 - val_KL_loss: 22.3102 - lr: 5.0000e-04\n",
      "Epoch 822/1000\n"
     ]
    },
    {
     "name": "stdout",
     "output_type": "stream",
     "text": [
      "\r",
      "412416/412416 [==============================] - ETA: 0s - loss: 166.2180 - reconstruction_loss: 88.0180 - KL_loss: 22.7031"
     ]
    },
    {
     "name": "stdout",
     "output_type": "stream",
     "text": [
      "\b\b\b\b\b\b\b\b\b\b\b\b\b\b\b\b\b\b\b\b\b\b\b\b\b\b\b\b\b\b\b\b\b\b\b\b\b\b\b\b\b\b\b\b\b\b\b\b\b\b\b\b\b\b\b\b\b\b\b\b\b\b\b\b\b\b\b\b\b\b\b\b\b\b\b\b\b\b\b\b\b\b\b\b\b\b\b\b\b\b\b\b\b\b\b\b\b\b\b\b\b\b\b\b\b\b\b\b\b\b\b\b\b\b\b\b\b\b\b\b\b\b\b\r",
      "412416/412416 [==============================] - 11s 28us/sample - loss: 166.2180 - reconstruction_loss: 88.0180 - KL_loss: 22.7031 - val_loss: 105.3504 - val_reconstruction_loss: 82.9941 - val_KL_loss: 22.3563 - lr: 5.0000e-04\n",
      "Epoch 823/1000\n"
     ]
    },
    {
     "name": "stdout",
     "output_type": "stream",
     "text": [
      "\r",
      "412416/412416 [==============================] - ETA: 0s - loss: 166.2269 - reconstruction_loss: 87.9966 - KL_loss: 22.7511"
     ]
    },
    {
     "name": "stdout",
     "output_type": "stream",
     "text": [
      "\b\b\b\b\b\b\b\b\b\b\b\b\b\b\b\b\b\b\b\b\b\b\b\b\b\b\b\b\b\b\b\b\b\b\b\b\b\b\b\b\b\b\b\b\b\b\b\b\b\b\b\b\b\b\b\b\b\b\b\b\b\b\b\b\b\b\b\b\b\b\b\b\b\b\b\b\b\b\b\b\b\b\b\b\b\b\b\b\b\b\b\b\b\b\b\b\b\b\b\b\b\b\b\b\b\b\b\b\b\b\b\b\b\b\b\b\b\b\b\b\b\b\b\r",
      "412416/412416 [==============================] - 12s 28us/sample - loss: 166.2269 - reconstruction_loss: 87.9966 - KL_loss: 22.7511 - val_loss: 105.2797 - val_reconstruction_loss: 82.9425 - val_KL_loss: 22.3372 - lr: 5.0000e-04\n",
      "Epoch 824/1000\n"
     ]
    },
    {
     "name": "stdout",
     "output_type": "stream",
     "text": [
      "\r",
      "412416/412416 [==============================] - ETA: 0s - loss: 166.2534 - reconstruction_loss: 87.9678 - KL_loss: 22.7306"
     ]
    },
    {
     "name": "stdout",
     "output_type": "stream",
     "text": [
      "\b\b\b\b\b\b\b\b\b\b\b\b\b\b\b\b\b\b\b\b\b\b\b\b\b\b\b\b\b\b\b\b\b\b\b\b\b\b\b\b\b\b\b\b\b\b\b\b\b\b\b\b\b\b\b\b\b\b\b\b\b\b\b\b\b\b\b\b\b\b\b\b\b\b\b\b\b\b\b\b\b\b\b\b\b\b\b\b\b\b\b\b\b\b\b\b\b\b\b\b\b\b\b\b\b\b\b\b\b\b\b\b\b\b\b\b\b\b\b\b\b\b\b\r",
      "412416/412416 [==============================] - 15s 37us/sample - loss: 166.2534 - reconstruction_loss: 87.9678 - KL_loss: 22.7306 - val_loss: 105.3498 - val_reconstruction_loss: 83.0375 - val_KL_loss: 22.3124 - lr: 5.0000e-04\n",
      "Epoch 825/1000\n"
     ]
    },
    {
     "name": "stdout",
     "output_type": "stream",
     "text": [
      "\r",
      "412416/412416 [==============================] - ETA: 0s - loss: 166.3046 - reconstruction_loss: 88.0493 - KL_loss: 22.7022"
     ]
    },
    {
     "name": "stdout",
     "output_type": "stream",
     "text": [
      "\b\b\b\b\b\b\b\b\b\b\b\b\b\b\b\b\b\b\b\b\b\b\b\b\b\b\b\b\b\b\b\b\b\b\b\b\b\b\b\b\b\b\b\b\b\b\b\b\b\b\b\b\b\b\b\b\b\b\b\b\b\b\b\b\b\b\b\b\b\b\b\b\b\b\b\b\b\b\b\b\b\b\b\b\b\b\b\b\b\b\b\b\b\b\b\b\b\b\b\b\b\b\b\b\b\b\b\b\b\b\b\b\b\b\b\b\b\b\b\b\b\b\b\r",
      "412416/412416 [==============================] - 12s 30us/sample - loss: 166.3046 - reconstruction_loss: 88.0493 - KL_loss: 22.7022 - val_loss: 105.2838 - val_reconstruction_loss: 82.9982 - val_KL_loss: 22.2856 - lr: 5.0000e-04\n",
      "Epoch 826/1000\n"
     ]
    },
    {
     "name": "stdout",
     "output_type": "stream",
     "text": [
      "\r",
      "412416/412416 [==============================] - ETA: 0s - loss: 166.2331 - reconstruction_loss: 88.0097 - KL_loss: 22.6770"
     ]
    },
    {
     "name": "stdout",
     "output_type": "stream",
     "text": [
      "\b\b\b\b\b\b\b\b\b\b\b\b\b\b\b\b\b\b\b\b\b\b\b\b\b\b\b\b\b\b\b\b\b\b\b\b\b\b\b\b\b\b\b\b\b\b\b\b\b\b\b\b\b\b\b\b\b\b\b\b\b\b\b\b\b\b\b\b\b\b\b\b\b\b\b\b\b\b\b\b\b\b\b\b\b\b\b\b\b\b\b\b\b\b\b\b\b\b\b\b\b\b\b\b\b\b\b\b\b\b\b\b\b\b\b\b\b\b\b\b\b\b\b\r",
      "412416/412416 [==============================] - 12s 28us/sample - loss: 166.2331 - reconstruction_loss: 88.0097 - KL_loss: 22.6770 - val_loss: 105.4438 - val_reconstruction_loss: 83.1346 - val_KL_loss: 22.3092 - lr: 5.0000e-04\n",
      "Epoch 827/1000\n"
     ]
    },
    {
     "name": "stdout",
     "output_type": "stream",
     "text": [
      "\r",
      "412416/412416 [==============================] - ETA: 0s - loss: 166.3890 - reconstruction_loss: 88.1364 - KL_loss: 22.7037"
     ]
    },
    {
     "name": "stdout",
     "output_type": "stream",
     "text": [
      "\b\b\b\b\b\b\b\b\b\b\b\b\b\b\b\b\b\b\b\b\b\b\b\b\b\b\b\b\b\b\b\b\b\b\b\b\b\b\b\b\b\b\b\b\b\b\b\b\b\b\b\b\b\b\b\b\b\b\b\b\b\b\b\b\b\b\b\b\b\b\b\b\b\b\b\b\b\b\b\b\b\b\b\b\b\b\b\b\b\b\b\b\b\b\b\b\b\b\b\b\b\b\b\b\b\b\b\b\b\b\b\b\b\b\b\b\b\b\b\b\b\b\b\r",
      "412416/412416 [==============================] - 12s 28us/sample - loss: 166.3890 - reconstruction_loss: 88.1364 - KL_loss: 22.7037 - val_loss: 105.3913 - val_reconstruction_loss: 83.0409 - val_KL_loss: 22.3503 - lr: 5.0000e-04\n",
      "Epoch 828/1000\n"
     ]
    },
    {
     "name": "stdout",
     "output_type": "stream",
     "text": [
      "\r",
      "412416/412416 [==============================] - ETA: 0s - loss: 166.2832 - reconstruction_loss: 88.0406 - KL_loss: 22.7432"
     ]
    },
    {
     "name": "stdout",
     "output_type": "stream",
     "text": [
      "\b\b\b\b\b\b\b\b\b\b\b\b\b\b\b\b\b\b\b\b\b\b\b\b\b\b\b\b\b\b\b\b\b\b\b\b\b\b\b\b\b\b\b\b\b\b\b\b\b\b\b\b\b\b\b\b\b\b\b\b\b\b\b\b\b\b\b\b\b\b\b\b\b\b\b\b\b\b\b\b\b\b\b\b\b\b\b\b\b\b\b\b\b\b\b\b\b\b\b\b\b\b\b\b\b\b\b\b\b\b\b\b\b\b\b\b\b\b\b\b\b\b\b\r",
      "412416/412416 [==============================] - 12s 30us/sample - loss: 166.2832 - reconstruction_loss: 88.0406 - KL_loss: 22.7432 - val_loss: 105.4386 - val_reconstruction_loss: 83.0777 - val_KL_loss: 22.3609 - lr: 5.0000e-04\n",
      "Epoch 829/1000\n"
     ]
    },
    {
     "name": "stdout",
     "output_type": "stream",
     "text": [
      "\r",
      "412416/412416 [==============================] - ETA: 0s - loss: 166.3486 - reconstruction_loss: 88.1070 - KL_loss: 22.7495"
     ]
    },
    {
     "name": "stdout",
     "output_type": "stream",
     "text": [
      "\b\b\b\b\b\b\b\b\b\b\b\b\b\b\b\b\b\b\b\b\b\b\b\b\b\b\b\b\b\b\b\b\b\b\b\b\b\b\b\b\b\b\b\b\b\b\b\b\b\b\b\b\b\b\b\b\b\b\b\b\b\b\b\b\b\b\b\b\b\b\b\b\b\b\b\b\b\b\b\b\b\b\b\b\b\b\b\b\b\b\b\b\b\b\b\b\b\b\b\b\b\b\b\b\b\b\b\b\b\b\b\b\b\b\b\b\b\b\b\b\b\b\b\r",
      "412416/412416 [==============================] - 11s 27us/sample - loss: 166.3486 - reconstruction_loss: 88.1070 - KL_loss: 22.7495 - val_loss: 105.4083 - val_reconstruction_loss: 83.0907 - val_KL_loss: 22.3176 - lr: 5.0000e-04\n",
      "Epoch 830/1000\n"
     ]
    },
    {
     "name": "stdout",
     "output_type": "stream",
     "text": [
      "\r",
      "412416/412416 [==============================] - ETA: 0s - loss: 166.3344 - reconstruction_loss: 88.1047 - KL_loss: 22.7069"
     ]
    },
    {
     "name": "stdout",
     "output_type": "stream",
     "text": [
      "\b\b\b\b\b\b\b\b\b\b\b\b\b\b\b\b\b\b\b\b\b\b\b\b\b\b\b\b\b\b\b\b\b\b\b\b\b\b\b\b\b\b\b\b\b\b\b\b\b\b\b\b\b\b\b\b\b\b\b\b\b\b\b\b\b\b\b\b\b\b\b\b\b\b\b\b\b\b\b\b\b\b\b\b\b\b\b\b\b\b\b\b\b\b\b\b\b\b\b\b\b\b\b\b\b\b\b\b\b\b\b\b\b\b\b\b\b\b\b\b\b\b\b\r",
      "412416/412416 [==============================] - 11s 27us/sample - loss: 166.3344 - reconstruction_loss: 88.1047 - KL_loss: 22.7069 - val_loss: 105.4095 - val_reconstruction_loss: 83.1230 - val_KL_loss: 22.2865 - lr: 5.0000e-04\n",
      "Epoch 831/1000\n"
     ]
    },
    {
     "name": "stdout",
     "output_type": "stream",
     "text": [
      "\r",
      "412416/412416 [==============================] - ETA: 0s - loss: 166.3064 - reconstruction_loss: 88.1135 - KL_loss: 22.6805"
     ]
    },
    {
     "name": "stdout",
     "output_type": "stream",
     "text": [
      "\b\b\b\b\b\b\b\b\b\b\b\b\b\b\b\b\b\b\b\b\b\b\b\b\b\b\b\b\b\b\b\b\b\b\b\b\b\b\b\b\b\b\b\b\b\b\b\b\b\b\b\b\b\b\b\b\b\b\b\b\b\b\b\b\b\b\b\b\b\b\b\b\b\b\b\b\b\b\b\b\b\b\b\b\b\b\b\b\b\b\b\b\b\b\b\b\b\b\b\b\b\b\b\b\b\b\b\b\b\b\b\b\b\b\b\b\b\b\b\b\b\b\b\r",
      "412416/412416 [==============================] - 12s 30us/sample - loss: 166.3064 - reconstruction_loss: 88.1135 - KL_loss: 22.6805 - val_loss: 105.3519 - val_reconstruction_loss: 83.0422 - val_KL_loss: 22.3097 - lr: 5.0000e-04\n",
      "Epoch 832/1000\n"
     ]
    },
    {
     "name": "stdout",
     "output_type": "stream",
     "text": [
      "\r",
      "412416/412416 [==============================] - ETA: 0s - loss: 166.2165 - reconstruction_loss: 88.0502 - KL_loss: 22.7036"
     ]
    },
    {
     "name": "stdout",
     "output_type": "stream",
     "text": [
      "\b\b\b\b\b\b\b\b\b\b\b\b\b\b\b\b\b\b\b\b\b\b\b\b\b\b\b\b\b\b\b\b\b\b\b\b\b\b\b\b\b\b\b\b\b\b\b\b\b\b\b\b\b\b\b\b\b\b\b\b\b\b\b\b\b\b\b\b\b\b\b\b\b\b\b\b\b\b\b\b\b\b\b\b\b\b\b\b\b\b\b\b\b\b\b\b\b\b\b\b\b\b\b\b\b\b\b\b\b\b\b\b\b\b\b\b\b\b\b\b\b\b\b\r",
      "412416/412416 [==============================] - 11s 27us/sample - loss: 166.2165 - reconstruction_loss: 88.0502 - KL_loss: 22.7036 - val_loss: 105.3603 - val_reconstruction_loss: 82.9952 - val_KL_loss: 22.3651 - lr: 5.0000e-04\n",
      "Epoch 833/1000\n"
     ]
    },
    {
     "name": "stdout",
     "output_type": "stream",
     "text": [
      "\r",
      "412416/412416 [==============================] - ETA: 0s - loss: 166.2512 - reconstruction_loss: 88.0189 - KL_loss: 22.7543"
     ]
    },
    {
     "name": "stdout",
     "output_type": "stream",
     "text": [
      "\b\b\b\b\b\b\b\b\b\b\b\b\b\b\b\b\b\b\b\b\b\b\b\b\b\b\b\b\b\b\b\b\b\b\b\b\b\b\b\b\b\b\b\b\b\b\b\b\b\b\b\b\b\b\b\b\b\b\b\b\b\b\b\b\b\b\b\b\b\b\b\b\b\b\b\b\b\b\b\b\b\b\b\b\b\b\b\b\b\b\b\b\b\b\b\b\b\b\b\b\b\b\b\b\b\b\b\b\b\b\b\b\b\b\b\b\b\b\b\b\b\b\b\r",
      "412416/412416 [==============================] - 11s 28us/sample - loss: 166.2512 - reconstruction_loss: 88.0189 - KL_loss: 22.7543 - val_loss: 105.3188 - val_reconstruction_loss: 82.9611 - val_KL_loss: 22.3577 - lr: 5.0000e-04\n",
      "Epoch 834/1000\n"
     ]
    },
    {
     "name": "stdout",
     "output_type": "stream",
     "text": [
      "\r",
      "412416/412416 [==============================] - ETA: 0s - loss: 166.2067 - reconstruction_loss: 87.9841 - KL_loss: 22.7470"
     ]
    },
    {
     "name": "stdout",
     "output_type": "stream",
     "text": [
      "\b\b\b\b\b\b\b\b\b\b\b\b\b\b\b\b\b\b\b\b\b\b\b\b\b\b\b\b\b\b\b\b\b\b\b\b\b\b\b\b\b\b\b\b\b\b\b\b\b\b\b\b\b\b\b\b\b\b\b\b\b\b\b\b\b\b\b\b\b\b\b\b\b\b\b\b\b\b\b\b\b\b\b\b\b\b\b\b\b\b\b\b\b\b\b\b\b\b\b\b\b\b\b\b\b\b\b\b\b\b\b\b\b\b\b\b\b\b\b\b\b\b\b\r",
      "412416/412416 [==============================] - 12s 28us/sample - loss: 166.2067 - reconstruction_loss: 87.9841 - KL_loss: 22.7470 - val_loss: 105.3519 - val_reconstruction_loss: 83.0472 - val_KL_loss: 22.3047 - lr: 5.0000e-04\n",
      "Epoch 835/1000\n"
     ]
    },
    {
     "name": "stdout",
     "output_type": "stream",
     "text": [
      "\r",
      "412416/412416 [==============================] - ETA: 0s - loss: 166.2487 - reconstruction_loss: 88.0626 - KL_loss: 22.6990"
     ]
    },
    {
     "name": "stdout",
     "output_type": "stream",
     "text": [
      "\b\b\b\b\b\b\b\b\b\b\b\b\b\b\b\b\b\b\b\b\b\b\b\b\b\b\b\b\b\b\b\b\b\b\b\b\b\b\b\b\b\b\b\b\b\b\b\b\b\b\b\b\b\b\b\b\b\b\b\b\b\b\b\b\b\b\b\b\b\b\b\b\b\b\b\b\b\b\b\b\b\b\b\b\b\b\b\b\b\b\b\b\b\b\b\b\b\b\b\b\b\b\b\b\b\b\b\b\b\b\b\b\b\b\b\b\b\b\b\b\b\b\b\r",
      "412416/412416 [==============================] - 12s 30us/sample - loss: 166.2487 - reconstruction_loss: 88.0626 - KL_loss: 22.6990 - val_loss: 105.3327 - val_reconstruction_loss: 83.0083 - val_KL_loss: 22.3244 - lr: 5.0000e-04\n",
      "Epoch 836/1000\n"
     ]
    },
    {
     "name": "stdout",
     "output_type": "stream",
     "text": [
      "\r",
      "412416/412416 [==============================] - ETA: 0s - loss: 166.1458 - reconstruction_loss: 88.0284 - KL_loss: 22.7192"
     ]
    },
    {
     "name": "stdout",
     "output_type": "stream",
     "text": [
      "\b\b\b\b\b\b\b\b\b\b\b\b\b\b\b\b\b\b\b\b\b\b\b\b\b\b\b\b\b\b\b\b\b\b\b\b\b\b\b\b\b\b\b\b\b\b\b\b\b\b\b\b\b\b\b\b\b\b\b\b\b\b\b\b\b\b\b\b\b\b\b\b\b\b\b\b\b\b\b\b\b\b\b\b\b\b\b\b\b\b\b\b\b\b\b\b\b\b\b\b\b\b\b\b\b\b\b\b\b\b\b\b\b\b\b\b\b\b\b\b\b\b\b\r",
      "412416/412416 [==============================] - 11s 27us/sample - loss: 166.1458 - reconstruction_loss: 88.0284 - KL_loss: 22.7192 - val_loss: 105.3575 - val_reconstruction_loss: 82.9671 - val_KL_loss: 22.3903 - lr: 5.0000e-04\n",
      "Epoch 837/1000\n"
     ]
    },
    {
     "name": "stdout",
     "output_type": "stream",
     "text": [
      "\r",
      "412416/412416 [==============================] - ETA: 0s - loss: 166.1696 - reconstruction_loss: 87.9691 - KL_loss: 22.7806"
     ]
    },
    {
     "name": "stdout",
     "output_type": "stream",
     "text": [
      "\b\b\b\b\b\b\b\b\b\b\b\b\b\b\b\b\b\b\b\b\b\b\b\b\b\b\b\b\b\b\b\b\b\b\b\b\b\b\b\b\b\b\b\b\b\b\b\b\b\b\b\b\b\b\b\b\b\b\b\b\b\b\b\b\b\b\b\b\b\b\b\b\b\b\b\b\b\b\b\b\b\b\b\b\b\b\b\b\b\b\b\b\b\b\b\b\b\b\b\b\b\b\b\b\b\b\b\b\b\b\b\b\b\b\b\b\b\b\b\b\b\b\b\r",
      "412416/412416 [==============================] - 12s 30us/sample - loss: 166.1696 - reconstruction_loss: 87.9691 - KL_loss: 22.7806 - val_loss: 105.2913 - val_reconstruction_loss: 82.8994 - val_KL_loss: 22.3919 - lr: 5.0000e-04\n",
      "Epoch 838/1000\n"
     ]
    },
    {
     "name": "stdout",
     "output_type": "stream",
     "text": [
      "\r",
      "412416/412416 [==============================] - ETA: 0s - loss: 166.1049 - reconstruction_loss: 87.9241 - KL_loss: 22.7820"
     ]
    },
    {
     "name": "stdout",
     "output_type": "stream",
     "text": [
      "\b\b\b\b\b\b\b\b\b\b\b\b\b\b\b\b\b\b\b\b\b\b\b\b\b\b\b\b\b\b\b\b\b\b\b\b\b\b\b\b\b\b\b\b\b\b\b\b\b\b\b\b\b\b\b\b\b\b\b\b\b\b\b\b\b\b\b\b\b\b\b\b\b\b\b\b\b\b\b\b\b\b\b\b\b\b\b\b\b\b\b\b\b\b\b\b\b\b\b\b\b\b\b\b\b\b\b\b\b\b\b\b\b\b\b\b\b\b\b\b\b\b\b\r",
      "412416/412416 [==============================] - 11s 28us/sample - loss: 166.1049 - reconstruction_loss: 87.9241 - KL_loss: 22.7820 - val_loss: 105.4280 - val_reconstruction_loss: 83.1058 - val_KL_loss: 22.3222 - lr: 5.0000e-04\n",
      "Epoch 839/1000\n"
     ]
    },
    {
     "name": "stdout",
     "output_type": "stream",
     "text": [
      "\r",
      "412416/412416 [==============================] - ETA: 0s - loss: 166.2818 - reconstruction_loss: 88.1033 - KL_loss: 22.7167"
     ]
    },
    {
     "name": "stdout",
     "output_type": "stream",
     "text": [
      "\b\b\b\b\b\b\b\b\b\b\b\b\b\b\b\b\b\b\b\b\b\b\b\b\b\b\b\b\b\b\b\b\b\b\b\b\b\b\b\b\b\b\b\b\b\b\b\b\b\b\b\b\b\b\b\b\b\b\b\b\b\b\b\b\b\b\b\b\b\b\b\b\b\b\b\b\b\b\b\b\b\b\b\b\b\b\b\b\b\b\b\b\b\b\b\b\b\b\b\b\b\b\b\b\b\b\b\b\b\b\b\b\b\b\b\b\b\b\b\b\b\b\b\r",
      "412416/412416 [==============================] - 12s 28us/sample - loss: 166.2818 - reconstruction_loss: 88.1033 - KL_loss: 22.7167 - val_loss: 105.3332 - val_reconstruction_loss: 83.0446 - val_KL_loss: 22.2885 - lr: 5.0000e-04\n",
      "Epoch 840/1000\n"
     ]
    },
    {
     "name": "stdout",
     "output_type": "stream",
     "text": [
      "\r",
      "412416/412416 [==============================] - ETA: 0s - loss: 166.1283 - reconstruction_loss: 88.0552 - KL_loss: 22.6831"
     ]
    },
    {
     "name": "stdout",
     "output_type": "stream",
     "text": [
      "\b\b\b\b\b\b\b\b\b\b\b\b\b\b\b\b\b\b\b\b\b\b\b\b\b\b\b\b\b\b\b\b\b\b\b\b\b\b\b\b\b\b\b\b\b\b\b\b\b\b\b\b\b\b\b\b\b\b\b\b\b\b\b\b\b\b\b\b\b\b\b\b\b\b\b\b\b\b\b\b\b\b\b\b\b\b\b\b\b\b\b\b\b\b\b\b\b\b\b\b\b\b\b\b\b\b\b\b\b\b\b\b\b\b\b\b\b\b\b\b\b\b\b\r",
      "412416/412416 [==============================] - 12s 28us/sample - loss: 166.1283 - reconstruction_loss: 88.0552 - KL_loss: 22.6831 - val_loss: 105.3621 - val_reconstruction_loss: 83.0620 - val_KL_loss: 22.3002 - lr: 5.0000e-04\n",
      "Epoch 841/1000\n"
     ]
    },
    {
     "name": "stdout",
     "output_type": "stream",
     "text": [
      "\r",
      "412416/412416 [==============================] - ETA: 0s - loss: 166.1494 - reconstruction_loss: 88.0804 - KL_loss: 22.6903"
     ]
    },
    {
     "name": "stdout",
     "output_type": "stream",
     "text": [
      "\b\b\b\b\b\b\b\b\b\b\b\b\b\b\b\b\b\b\b\b\b\b\b\b\b\b\b\b\b\b\b\b\b\b\b\b\b\b\b\b\b\b\b\b\b\b\b\b\b\b\b\b\b\b\b\b\b\b\b\b\b\b\b\b\b\b\b\b\b\b\b\b\b\b\b\b\b\b\b\b\b\b\b\b\b\b\b\b\b\b\b\b\b\b\b\b\b\b\b\b\b\b\b\b\b\b\b\b\b\b\b\b\b\b\b\b\b\b\b\b\b\b\b\r",
      "412416/412416 [==============================] - 12s 28us/sample - loss: 166.1494 - reconstruction_loss: 88.0804 - KL_loss: 22.6903 - val_loss: 105.3484 - val_reconstruction_loss: 83.0470 - val_KL_loss: 22.3015 - lr: 5.0000e-04\n",
      "Epoch 842/1000\n"
     ]
    },
    {
     "name": "stdout",
     "output_type": "stream",
     "text": [
      "\r",
      "412416/412416 [==============================] - ETA: 0s - loss: 166.1560 - reconstruction_loss: 88.0673 - KL_loss: 22.6911"
     ]
    },
    {
     "name": "stdout",
     "output_type": "stream",
     "text": [
      "\b\b\b\b\b\b\b\b\b\b\b\b\b\b\b\b\b\b\b\b\b\b\b\b\b\b\b\b\b\b\b\b\b\b\b\b\b\b\b\b\b\b\b\b\b\b\b\b\b\b\b\b\b\b\b\b\b\b\b\b\b\b\b\b\b\b\b\b\b\b\b\b\b\b\b\b\b\b\b\b\b\b\b\b\b\b\b\b\b\b\b\b\b\b\b\b\b\b\b\b\b\b\b\b\b\b\b\b\b\b\b\b\b\b\b\b\b\b\b\b\b\b\b\r",
      "412416/412416 [==============================] - 12s 28us/sample - loss: 166.1560 - reconstruction_loss: 88.0673 - KL_loss: 22.6911 - val_loss: 105.2982 - val_reconstruction_loss: 83.0021 - val_KL_loss: 22.2962 - lr: 5.0000e-04\n",
      "Epoch 843/1000\n"
     ]
    },
    {
     "name": "stdout",
     "output_type": "stream",
     "text": [
      "\r",
      "412416/412416 [==============================] - ETA: 0s - loss: 166.0509 - reconstruction_loss: 88.0146 - KL_loss: 22.6899"
     ]
    },
    {
     "name": "stdout",
     "output_type": "stream",
     "text": [
      "\b\b\b\b\b\b\b\b\b\b\b\b\b\b\b\b\b\b\b\b\b\b\b\b\b\b\b\b\b\b\b\b\b\b\b\b\b\b\b\b\b\b\b\b\b\b\b\b\b\b\b\b\b\b\b\b\b\b\b\b\b\b\b\b\b\b\b\b\b\b\b\b\b\b\b\b\b\b\b\b\b\b\b\b\b\b\b\b\b\b\b\b\b\b\b\b\b\b\b\b\b\b\b\b\b\b\b\b\b\b\b\b\b\b\b\b\b\b\b\b\b\b\b\r",
      "412416/412416 [==============================] - 12s 28us/sample - loss: 166.0509 - reconstruction_loss: 88.0146 - KL_loss: 22.6899 - val_loss: 105.2615 - val_reconstruction_loss: 82.9265 - val_KL_loss: 22.3349 - lr: 5.0000e-04\n",
      "Epoch 844/1000\n"
     ]
    },
    {
     "name": "stdout",
     "output_type": "stream",
     "text": [
      "\r",
      "412416/412416 [==============================] - ETA: 0s - loss: 166.0089 - reconstruction_loss: 87.9317 - KL_loss: 22.7292"
     ]
    },
    {
     "name": "stdout",
     "output_type": "stream",
     "text": [
      "\b\b\b\b\b\b\b\b\b\b\b\b\b\b\b\b\b\b\b\b\b\b\b\b\b\b\b\b\b\b\b\b\b\b\b\b\b\b\b\b\b\b\b\b\b\b\b\b\b\b\b\b\b\b\b\b\b\b\b\b\b\b\b\b\b\b\b\b\b\b\b\b\b\b\b\b\b\b\b\b\b\b\b\b\b\b\b\b\b\b\b\b\b\b\b\b\b\b\b\b\b\b\b\b\b\b\b\b\b\b\b\b\b\b\b\b\b\b\b\b\b\b\b\r",
      "412416/412416 [==============================] - 12s 29us/sample - loss: 166.0089 - reconstruction_loss: 87.9317 - KL_loss: 22.7292 - val_loss: 105.3819 - val_reconstruction_loss: 82.9963 - val_KL_loss: 22.3856 - lr: 5.0000e-04\n",
      "Epoch 845/1000\n"
     ]
    },
    {
     "name": "stdout",
     "output_type": "stream",
     "text": [
      "\r",
      "412416/412416 [==============================] - ETA: 0s - loss: 166.1691 - reconstruction_loss: 88.0259 - KL_loss: 22.7763"
     ]
    },
    {
     "name": "stdout",
     "output_type": "stream",
     "text": [
      "\b\b\b\b\b\b\b\b\b\b\b\b\b\b\b\b\b\b\b\b\b\b\b\b\b\b\b\b\b\b\b\b\b\b\b\b\b\b\b\b\b\b\b\b\b\b\b\b\b\b\b\b\b\b\b\b\b\b\b\b\b\b\b\b\b\b\b\b\b\b\b\b\b\b\b\b\b\b\b\b\b\b\b\b\b\b\b\b\b\b\b\b\b\b\b\b\b\b\b\b\b\b\b\b\b\b\b\b\b\b\b\b\b\b\b\b\b\b\b\b\b\b\b\r",
      "412416/412416 [==============================] - 12s 29us/sample - loss: 166.1691 - reconstruction_loss: 88.0259 - KL_loss: 22.7763 - val_loss: 105.3228 - val_reconstruction_loss: 82.9466 - val_KL_loss: 22.3763 - lr: 5.0000e-04\n",
      "Epoch 846/1000\n"
     ]
    },
    {
     "name": "stdout",
     "output_type": "stream",
     "text": [
      "\r",
      "412416/412416 [==============================] - ETA: 0s - loss: 166.0325 - reconstruction_loss: 87.9620 - KL_loss: 22.7676"
     ]
    },
    {
     "name": "stdout",
     "output_type": "stream",
     "text": [
      "\b\b\b\b\b\b\b\b\b\b\b\b\b\b\b\b\b\b\b\b\b\b\b\b\b\b\b\b\b\b\b\b\b\b\b\b\b\b\b\b\b\b\b\b\b\b\b\b\b\b\b\b\b\b\b\b\b\b\b\b\b\b\b\b\b\b\b\b\b\b\b\b\b\b\b\b\b\b\b\b\b\b\b\b\b\b\b\b\b\b\b\b\b\b\b\b\b\b\b\b\b\b\b\b\b\b\b\b\b\b\b\b\b\b\b\b\b\b\b\b\b\b\b\r",
      "412416/412416 [==============================] - 12s 28us/sample - loss: 166.0325 - reconstruction_loss: 87.9620 - KL_loss: 22.7676 - val_loss: 105.3457 - val_reconstruction_loss: 83.0200 - val_KL_loss: 22.3257 - lr: 5.0000e-04\n",
      "Epoch 847/1000\n"
     ]
    },
    {
     "name": "stdout",
     "output_type": "stream",
     "text": [
      "\r",
      "412416/412416 [==============================] - ETA: 0s - loss: 166.0893 - reconstruction_loss: 88.0555 - KL_loss: 22.7212"
     ]
    },
    {
     "name": "stdout",
     "output_type": "stream",
     "text": [
      "\b\b\b\b\b\b\b\b\b\b\b\b\b\b\b\b\b\b\b\b\b\b\b\b\b\b\b\b\b\b\b\b\b\b\b\b\b\b\b\b\b\b\b\b\b\b\b\b\b\b\b\b\b\b\b\b\b\b\b\b\b\b\b\b\b\b\b\b\b\b\b\b\b\b\b\b\b\b\b\b\b\b\b\b\b\b\b\b\b\b\b\b\b\b\b\b\b\b\b\b\b\b\b\b\b\b\b\b\b\b\b\b\b\b\b\b\b\b\b\b\b\b\b\r",
      "412416/412416 [==============================] - 12s 29us/sample - loss: 166.0893 - reconstruction_loss: 88.0555 - KL_loss: 22.7212 - val_loss: 105.3422 - val_reconstruction_loss: 83.0321 - val_KL_loss: 22.3101 - lr: 5.0000e-04\n",
      "Epoch 848/1000\n"
     ]
    },
    {
     "name": "stdout",
     "output_type": "stream",
     "text": [
      "\r",
      "412416/412416 [==============================] - ETA: 0s - loss: 166.0433 - reconstruction_loss: 88.0635 - KL_loss: 22.7055"
     ]
    },
    {
     "name": "stdout",
     "output_type": "stream",
     "text": [
      "\b\b\b\b\b\b\b\b\b\b\b\b\b\b\b\b\b\b\b\b\b\b\b\b\b\b\b\b\b\b\b\b\b\b\b\b\b\b\b\b\b\b\b\b\b\b\b\b\b\b\b\b\b\b\b\b\b\b\b\b\b\b\b\b\b\b\b\b\b\b\b\b\b\b\b\b\b\b\b\b\b\b\b\b\b\b\b\b\b\b\b\b\b\b\b\b\b\b\b\b\b\b\b\b\b\b\b\b\b\b\b\b\b\b\b\b\b\b\b\b\b\b\b\r",
      "412416/412416 [==============================] - 12s 28us/sample - loss: 166.0433 - reconstruction_loss: 88.0635 - KL_loss: 22.7055 - val_loss: 105.2870 - val_reconstruction_loss: 82.9626 - val_KL_loss: 22.3244 - lr: 5.0000e-04\n",
      "Epoch 849/1000\n"
     ]
    },
    {
     "name": "stdout",
     "output_type": "stream",
     "text": [
      "\r",
      "412416/412416 [==============================] - ETA: 0s - loss: 165.9891 - reconstruction_loss: 87.9696 - KL_loss: 22.7157"
     ]
    },
    {
     "name": "stdout",
     "output_type": "stream",
     "text": [
      "\b\b\b\b\b\b\b\b\b\b\b\b\b\b\b\b\b\b\b\b\b\b\b\b\b\b\b\b\b\b\b\b\b\b\b\b\b\b\b\b\b\b\b\b\b\b\b\b\b\b\b\b\b\b\b\b\b\b\b\b\b\b\b\b\b\b\b\b\b\b\b\b\b\b\b\b\b\b\b\b\b\b\b\b\b\b\b\b\b\b\b\b\b\b\b\b\b\b\b\b\b\b\b\b\b\b\b\b\b\b\b\b\b\b\b\b\b\b\b\b\b\b\b\r",
      "412416/412416 [==============================] - 12s 28us/sample - loss: 165.9891 - reconstruction_loss: 87.9696 - KL_loss: 22.7157 - val_loss: 105.2663 - val_reconstruction_loss: 82.9670 - val_KL_loss: 22.2993 - lr: 5.0000e-04\n",
      "Epoch 850/1000\n"
     ]
    },
    {
     "name": "stdout",
     "output_type": "stream",
     "text": [
      "\r",
      "412416/412416 [==============================] - ETA: 0s - loss: 165.9242 - reconstruction_loss: 87.9777 - KL_loss: 22.6906"
     ]
    },
    {
     "name": "stdout",
     "output_type": "stream",
     "text": [
      "\b\b\b\b\b\b\b\b\b\b\b\b\b\b\b\b\b\b\b\b\b\b\b\b\b\b\b\b\b\b\b\b\b\b\b\b\b\b\b\b\b\b\b\b\b\b\b\b\b\b\b\b\b\b\b\b\b\b\b\b\b\b\b\b\b\b\b\b\b\b\b\b\b\b\b\b\b\b\b\b\b\b\b\b\b\b\b\b\b\b\b\b\b\b\b\b\b\b\b\b\b\b\b\b\b\b\b\b\b\b\b\b\b\b\b\b\b\b\b\b\b\b\b\r",
      "412416/412416 [==============================] - 12s 28us/sample - loss: 165.9242 - reconstruction_loss: 87.9777 - KL_loss: 22.6906 - val_loss: 105.3397 - val_reconstruction_loss: 83.0844 - val_KL_loss: 22.2553 - lr: 5.0000e-04\n",
      "Epoch 851/1000\n"
     ]
    },
    {
     "name": "stdout",
     "output_type": "stream",
     "text": [
      "\r",
      "412416/412416 [==============================] - ETA: 0s - loss: 166.0875 - reconstruction_loss: 88.0927 - KL_loss: 22.6505"
     ]
    },
    {
     "name": "stdout",
     "output_type": "stream",
     "text": [
      "\b\b\b\b\b\b\b\b\b\b\b\b\b\b\b\b\b\b\b\b\b\b\b\b\b\b\b\b\b\b\b\b\b\b\b\b\b\b\b\b\b\b\b\b\b\b\b\b\b\b\b\b\b\b\b\b\b\b\b\b\b\b\b\b\b\b\b\b\b\b\b\b\b\b\b\b\b\b\b\b\b\b\b\b\b\b\b\b\b\b\b\b\b\b\b\b\b\b\b\b\b\b\b\b\b\b\b\b\b\b\b\b\b\b\b\b\b\b\b\b\b\b\b\r",
      "412416/412416 [==============================] - 12s 29us/sample - loss: 166.0875 - reconstruction_loss: 88.0927 - KL_loss: 22.6505 - val_loss: 105.3392 - val_reconstruction_loss: 83.0469 - val_KL_loss: 22.2923 - lr: 5.0000e-04\n",
      "Epoch 852/1000\n"
     ]
    },
    {
     "name": "stdout",
     "output_type": "stream",
     "text": [
      "\r",
      "412416/412416 [==============================] - ETA: 0s - loss: 165.9713 - reconstruction_loss: 88.0149 - KL_loss: 22.6874"
     ]
    },
    {
     "name": "stdout",
     "output_type": "stream",
     "text": [
      "\b\b\b\b\b\b\b\b\b\b\b\b\b\b\b\b\b\b\b\b\b\b\b\b\b\b\b\b\b\b\b\b\b\b\b\b\b\b\b\b\b\b\b\b\b\b\b\b\b\b\b\b\b\b\b\b\b\b\b\b\b\b\b\b\b\b\b\b\b\b\b\b\b\b\b\b\b\b\b\b\b\b\b\b\b\b\b\b\b\b\b\b\b\b\b\b\b\b\b\b\b\b\b\b\b\b\b\b\b\b\b\b\b\b\b\b\b\b\b\b\b\b\b\r",
      "412416/412416 [==============================] - 14s 34us/sample - loss: 165.9713 - reconstruction_loss: 88.0149 - KL_loss: 22.6874 - val_loss: 105.2879 - val_reconstruction_loss: 82.9186 - val_KL_loss: 22.3693 - lr: 5.0000e-04\n",
      "Epoch 853/1000\n"
     ]
    },
    {
     "name": "stdout",
     "output_type": "stream",
     "text": [
      "\r",
      "412416/412416 [==============================] - ETA: 0s - loss: 166.0347 - reconstruction_loss: 87.9670 - KL_loss: 22.7603"
     ]
    },
    {
     "name": "stdout",
     "output_type": "stream",
     "text": [
      "\b\b\b\b\b\b\b\b\b\b\b\b\b\b\b\b\b\b\b\b\b\b\b\b\b\b\b\b\b\b\b\b\b\b\b\b\b\b\b\b\b\b\b\b\b\b\b\b\b\b\b\b\b\b\b\b\b\b\b\b\b\b\b\b\b\b\b\b\b\b\b\b\b\b\b\b\b\b\b\b\b\b\b\b\b\b\b\b\b\b\b\b\b\b\b\b\b\b\b\b\b\b\b\b\b\b\b\b\b\b\b\b\b\b\b\b\b\b\b\b\b\b\b\r",
      "412416/412416 [==============================] - 13s 33us/sample - loss: 166.0347 - reconstruction_loss: 87.9670 - KL_loss: 22.7603 - val_loss: 105.2875 - val_reconstruction_loss: 82.8853 - val_KL_loss: 22.4022 - lr: 5.0000e-04\n",
      "Epoch 854/1000\n"
     ]
    },
    {
     "name": "stdout",
     "output_type": "stream",
     "text": [
      "\r",
      "412416/412416 [==============================] - ETA: 0s - loss: 165.9638 - reconstruction_loss: 87.8972 - KL_loss: 22.7930"
     ]
    },
    {
     "name": "stdout",
     "output_type": "stream",
     "text": [
      "\b\b\b\b\b\b\b\b\b\b\b\b\b\b\b\b\b\b\b\b\b\b\b\b\b\b\b\b\b\b\b\b\b\b\b\b\b\b\b\b\b\b\b\b\b\b\b\b\b\b\b\b\b\b\b\b\b\b\b\b\b\b\b\b\b\b\b\b\b\b\b\b\b\b\b\b\b\b\b\b\b\b\b\b\b\b\b\b\b\b\b\b\b\b\b\b\b\b\b\b\b\b\b\b\b\b\b\b\b\b\b\b\b\b\b\b\b\b\b\b\b\b\b\r",
      "412416/412416 [==============================] - 12s 29us/sample - loss: 165.9638 - reconstruction_loss: 87.8972 - KL_loss: 22.7930 - val_loss: 105.3521 - val_reconstruction_loss: 82.9758 - val_KL_loss: 22.3764 - lr: 5.0000e-04\n",
      "Epoch 855/1000\n"
     ]
    },
    {
     "name": "stdout",
     "output_type": "stream",
     "text": [
      "\r",
      "412416/412416 [==============================] - ETA: 0s - loss: 165.9607 - reconstruction_loss: 87.9710 - KL_loss: 22.7709"
     ]
    },
    {
     "name": "stdout",
     "output_type": "stream",
     "text": [
      "\b\b\b\b\b\b\b\b\b\b\b\b\b\b\b\b\b\b\b\b\b\b\b\b\b\b\b\b\b\b\b\b\b\b\b\b\b\b\b\b\b\b\b\b\b\b\b\b\b\b\b\b\b\b\b\b\b\b\b\b\b\b\b\b\b\b\b\b\b\b\b\b\b\b\b\b\b\b\b\b\b\b\b\b\b\b\b\b\b\b\b\b\b\b\b\b\b\b\b\b\b\b\b\b\b\b\b\b\b\b\b\b\b\b\b\b\b\b\b\b\b\b\b\r",
      "412416/412416 [==============================] - 12s 29us/sample - loss: 165.9607 - reconstruction_loss: 87.9710 - KL_loss: 22.7709 - val_loss: 105.2955 - val_reconstruction_loss: 82.9277 - val_KL_loss: 22.3678 - lr: 5.0000e-04\n",
      "Epoch 856/1000\n"
     ]
    },
    {
     "name": "stdout",
     "output_type": "stream",
     "text": [
      "\r",
      "412416/412416 [==============================] - ETA: 0s - loss: 165.9463 - reconstruction_loss: 87.9458 - KL_loss: 22.7617"
     ]
    },
    {
     "name": "stdout",
     "output_type": "stream",
     "text": [
      "\b\b\b\b\b\b\b\b\b\b\b\b\b\b\b\b\b\b\b\b\b\b\b\b\b\b\b\b\b\b\b\b\b\b\b\b\b\b\b\b\b\b\b\b\b\b\b\b\b\b\b\b\b\b\b\b\b\b\b\b\b\b\b\b\b\b\b\b\b\b\b\b\b\b\b\b\b\b\b\b\b\b\b\b\b\b\b\b\b\b\b\b\b\b\b\b\b\b\b\b\b\b\b\b\b\b\b\b\b\b\b\b\b\b\b\b\b\b\b\b\b\b\b\r",
      "412416/412416 [==============================] - 12s 29us/sample - loss: 165.9463 - reconstruction_loss: 87.9458 - KL_loss: 22.7617 - val_loss: 105.3233 - val_reconstruction_loss: 82.9308 - val_KL_loss: 22.3925 - lr: 5.0000e-04\n",
      "Epoch 857/1000\n"
     ]
    },
    {
     "name": "stdout",
     "output_type": "stream",
     "text": [
      "\r",
      "412416/412416 [==============================] - ETA: 0s - loss: 166.0365 - reconstruction_loss: 87.9447 - KL_loss: 22.7822"
     ]
    },
    {
     "name": "stdout",
     "output_type": "stream",
     "text": [
      "\b\b\b\b\b\b\b\b\b\b\b\b\b\b\b\b\b\b\b\b\b\b\b\b\b\b\b\b\b\b\b\b\b\b\b\b\b\b\b\b\b\b\b\b\b\b\b\b\b\b\b\b\b\b\b\b\b\b\b\b\b\b\b\b\b\b\b\b\b\b\b\b\b\b\b\b\b\b\b\b\b\b\b\b\b\b\b\b\b\b\b\b\b\b\b\b\b\b\b\b\b\b\b\b\b\b\b\b\b\b\b\b\b\b\b\b\b\b\b\b\b\b\b\r",
      "412416/412416 [==============================] - 12s 29us/sample - loss: 166.0365 - reconstruction_loss: 87.9447 - KL_loss: 22.7822 - val_loss: 105.3182 - val_reconstruction_loss: 82.9433 - val_KL_loss: 22.3749 - lr: 5.0000e-04\n",
      "Epoch 858/1000\n"
     ]
    },
    {
     "name": "stdout",
     "output_type": "stream",
     "text": [
      "\r",
      "412416/412416 [==============================] - ETA: 0s - loss: 165.9530 - reconstruction_loss: 87.9521 - KL_loss: 22.7647"
     ]
    },
    {
     "name": "stdout",
     "output_type": "stream",
     "text": [
      "\b\b\b\b\b\b\b\b\b\b\b\b\b\b\b\b\b\b\b\b\b\b\b\b\b\b\b\b\b\b\b\b\b\b\b\b\b\b\b\b\b\b\b\b\b\b\b\b\b\b\b\b\b\b\b\b\b\b\b\b\b\b\b\b\b\b\b\b\b\b\b\b\b\b\b\b\b\b\b\b\b\b\b\b\b\b\b\b\b\b\b\b\b\b\b\b\b\b\b\b\b\b\b\b\b\b\b\b\b\b\b\b\b\b\b\b\b\b\b\b\b\b\b\r",
      "412416/412416 [==============================] - 12s 28us/sample - loss: 165.9530 - reconstruction_loss: 87.9521 - KL_loss: 22.7647 - val_loss: 105.2840 - val_reconstruction_loss: 82.9598 - val_KL_loss: 22.3242 - lr: 5.0000e-04\n",
      "Epoch 859/1000\n"
     ]
    },
    {
     "name": "stdout",
     "output_type": "stream",
     "text": [
      "\r",
      "412416/412416 [==============================] - ETA: 0s - loss: 165.8482 - reconstruction_loss: 87.9506 - KL_loss: 22.7182"
     ]
    },
    {
     "name": "stdout",
     "output_type": "stream",
     "text": [
      "\b\b\b\b\b\b\b\b\b\b\b\b\b\b\b\b\b\b\b\b\b\b\b\b\b\b\b\b\b\b\b\b\b\b\b\b\b\b\b\b\b\b\b\b\b\b\b\b\b\b\b\b\b\b\b\b\b\b\b\b\b\b\b\b\b\b\b\b\b\b\b\b\b\b\b\b\b\b\b\b\b\b\b\b\b\b\b\b\b\b\b\b\b\b\b\b\b\b\b\b\b\b\b\b\b\b\b\b\b\b\b\b\b\b\b\b\b\b\b\b\b\b\b\r",
      "412416/412416 [==============================] - 13s 31us/sample - loss: 165.8482 - reconstruction_loss: 87.9506 - KL_loss: 22.7182 - val_loss: 105.2288 - val_reconstruction_loss: 82.9239 - val_KL_loss: 22.3049 - lr: 5.0000e-04\n",
      "Epoch 860/1000\n"
     ]
    },
    {
     "name": "stdout",
     "output_type": "stream",
     "text": [
      "\r",
      "412416/412416 [==============================] - ETA: 0s - loss: 165.7821 - reconstruction_loss: 87.9347 - KL_loss: 22.6987"
     ]
    },
    {
     "name": "stdout",
     "output_type": "stream",
     "text": [
      "\b\b\b\b\b\b\b\b\b\b\b\b\b\b\b\b\b\b\b\b\b\b\b\b\b\b\b\b\b\b\b\b\b\b\b\b\b\b\b\b\b\b\b\b\b\b\b\b\b\b\b\b\b\b\b\b\b\b\b\b\b\b\b\b\b\b\b\b\b\b\b\b\b\b\b\b\b\b\b\b\b\b\b\b\b\b\b\b\b\b\b\b\b\b\b\b\b\b\b\b\b\b\b\b\b\b\b\b\b\b\b\b\b\b\b\b\b\b\b\b\b\b\b\r",
      "412416/412416 [==============================] - 14s 34us/sample - loss: 165.7821 - reconstruction_loss: 87.9347 - KL_loss: 22.6987 - val_loss: 105.3505 - val_reconstruction_loss: 83.0431 - val_KL_loss: 22.3074 - lr: 5.0000e-04\n",
      "Epoch 861/1000\n"
     ]
    },
    {
     "name": "stdout",
     "output_type": "stream",
     "text": [
      "\r",
      "412416/412416 [==============================] - ETA: 0s - loss: 165.9921 - reconstruction_loss: 88.0641 - KL_loss: 22.6970"
     ]
    },
    {
     "name": "stdout",
     "output_type": "stream",
     "text": [
      "\b\b\b\b\b\b\b\b\b\b\b\b\b\b\b\b\b\b\b\b\b\b\b\b\b\b\b\b\b\b\b\b\b\b\b\b\b\b\b\b\b\b\b\b\b\b\b\b\b\b\b\b\b\b\b\b\b\b\b\b\b\b\b\b\b\b\b\b\b\b\b\b\b\b\b\b\b\b\b\b\b\b\b\b\b\b\b\b\b\b\b\b\b\b\b\b\b\b\b\b\b\b\b\b\b\b\b\b\b\b\b\b\b\b\b\b\b\b\b\b\b\b\b\r",
      "412416/412416 [==============================] - 12s 30us/sample - loss: 165.9921 - reconstruction_loss: 88.0641 - KL_loss: 22.6970 - val_loss: 105.2709 - val_reconstruction_loss: 82.9671 - val_KL_loss: 22.3038 - lr: 5.0000e-04\n",
      "Epoch 862/1000\n"
     ]
    },
    {
     "name": "stdout",
     "output_type": "stream",
     "text": [
      "\r",
      "412416/412416 [==============================] - ETA: 0s - loss: 165.8608 - reconstruction_loss: 88.0005 - KL_loss: 22.6931"
     ]
    },
    {
     "name": "stdout",
     "output_type": "stream",
     "text": [
      "\b\b\b\b\b\b\b\b\b\b\b\b\b\b\b\b\b\b\b\b\b\b\b\b\b\b\b\b\b\b\b\b\b\b\b\b\b\b\b\b\b\b\b\b\b\b\b\b\b\b\b\b\b\b\b\b\b\b\b\b\b\b\b\b\b\b\b\b\b\b\b\b\b\b\b\b\b\b\b\b\b\b\b\b\b\b\b\b\b\b\b\b\b\b\b\b\b\b\b\b\b\b\b\b\b\b\b\b\b\b\b\b\b\b\b\b\b\b\b\b\b\b\b\r",
      "412416/412416 [==============================] - 12s 29us/sample - loss: 165.8608 - reconstruction_loss: 88.0005 - KL_loss: 22.6931 - val_loss: 105.3066 - val_reconstruction_loss: 83.0097 - val_KL_loss: 22.2969 - lr: 5.0000e-04\n",
      "Epoch 863/1000\n"
     ]
    },
    {
     "name": "stdout",
     "output_type": "stream",
     "text": [
      "\r",
      "412416/412416 [==============================] - ETA: 0s - loss: 165.9128 - reconstruction_loss: 88.0236 - KL_loss: 22.6902"
     ]
    },
    {
     "name": "stdout",
     "output_type": "stream",
     "text": [
      "\b\b\b\b\b\b\b\b\b\b\b\b\b\b\b\b\b\b\b\b\b\b\b\b\b\b\b\b\b\b\b\b\b\b\b\b\b\b\b\b\b\b\b\b\b\b\b\b\b\b\b\b\b\b\b\b\b\b\b\b\b\b\b\b\b\b\b\b\b\b\b\b\b\b\b\b\b\b\b\b\b\b\b\b\b\b\b\b\b\b\b\b\b\b\b\b\b\b\b\b\b\b\b\b\b\b\b\b\b\b\b\b\b\b\b\b\b\b\b\b\b\b\b\r",
      "412416/412416 [==============================] - 12s 28us/sample - loss: 165.9128 - reconstruction_loss: 88.0236 - KL_loss: 22.6902 - val_loss: 105.3173 - val_reconstruction_loss: 82.9797 - val_KL_loss: 22.3376 - lr: 5.0000e-04\n",
      "Epoch 864/1000\n"
     ]
    },
    {
     "name": "stdout",
     "output_type": "stream",
     "text": [
      "\r",
      "412416/412416 [==============================] - ETA: 0s - loss: 165.9034 - reconstruction_loss: 87.9647 - KL_loss: 22.7309"
     ]
    },
    {
     "name": "stdout",
     "output_type": "stream",
     "text": [
      "\b\b\b\b\b\b\b\b\b\b\b\b\b\b\b\b\b\b\b\b\b\b\b\b\b\b\b\b\b\b\b\b\b\b\b\b\b\b\b\b\b\b\b\b\b\b\b\b\b\b\b\b\b\b\b\b\b\b\b\b\b\b\b\b\b\b\b\b\b\b\b\b\b\b\b\b\b\b\b\b\b\b\b\b\b\b\b\b\b\b\b\b\b\b\b\b\b\b\b\b\b\b\b\b\b\b\b\b\b\b\b\b\b\b\b\b\b\b\b\b\b\b\b\r",
      "412416/412416 [==============================] - 12s 29us/sample - loss: 165.9034 - reconstruction_loss: 87.9647 - KL_loss: 22.7309 - val_loss: 105.2742 - val_reconstruction_loss: 82.8730 - val_KL_loss: 22.4012 - lr: 5.0000e-04\n",
      "Epoch 865/1000\n"
     ]
    },
    {
     "name": "stdout",
     "output_type": "stream",
     "text": [
      "\r",
      "412416/412416 [==============================] - ETA: 0s - loss: 165.8169 - reconstruction_loss: 87.8832 - KL_loss: 22.7907"
     ]
    },
    {
     "name": "stdout",
     "output_type": "stream",
     "text": [
      "\b\b\b\b\b\b\b\b\b\b\b\b\b\b\b\b\b\b\b\b\b\b\b\b\b\b\b\b\b\b\b\b\b\b\b\b\b\b\b\b\b\b\b\b\b\b\b\b\b\b\b\b\b\b\b\b\b\b\b\b\b\b\b\b\b\b\b\b\b\b\b\b\b\b\b\b\b\b\b\b\b\b\b\b\b\b\b\b\b\b\b\b\b\b\b\b\b\b\b\b\b\b\b\b\b\b\b\b\b\b\b\b\b\b\b\b\b\b\b\b\b\b\b\r",
      "412416/412416 [==============================] - 12s 29us/sample - loss: 165.8169 - reconstruction_loss: 87.8832 - KL_loss: 22.7907 - val_loss: 105.2403 - val_reconstruction_loss: 82.8274 - val_KL_loss: 22.4128 - lr: 5.0000e-04\n",
      "Epoch 866/1000\n"
     ]
    },
    {
     "name": "stdout",
     "output_type": "stream",
     "text": [
      "\r",
      "412416/412416 [==============================] - ETA: 0s - loss: 165.8295 - reconstruction_loss: 87.8354 - KL_loss: 22.8027"
     ]
    },
    {
     "name": "stdout",
     "output_type": "stream",
     "text": [
      "\b\b\b\b\b\b\b\b\b\b\b\b\b\b\b\b\b\b\b\b\b\b\b\b\b\b\b\b\b\b\b\b\b\b\b\b\b\b\b\b\b\b\b\b\b\b\b\b\b\b\b\b\b\b\b\b\b\b\b\b\b\b\b\b\b\b\b\b\b\b\b\b\b\b\b\b\b\b\b\b\b\b\b\b\b\b\b\b\b\b\b\b\b\b\b\b\b\b\b\b\b\b\b\b\b\b\b\b\b\b\b\b\b\b\b\b\b\b\b\b\b\b\b\r",
      "412416/412416 [==============================] - 12s 28us/sample - loss: 165.8295 - reconstruction_loss: 87.8354 - KL_loss: 22.8027 - val_loss: 105.3448 - val_reconstruction_loss: 82.9641 - val_KL_loss: 22.3808 - lr: 5.0000e-04\n",
      "Epoch 867/1000\n"
     ]
    },
    {
     "name": "stdout",
     "output_type": "stream",
     "text": [
      "\r",
      "412416/412416 [==============================] - ETA: 0s - loss: 165.9419 - reconstruction_loss: 87.9653 - KL_loss: 22.7748"
     ]
    },
    {
     "name": "stdout",
     "output_type": "stream",
     "text": [
      "\b\b\b\b\b\b\b\b\b\b\b\b\b\b\b\b\b\b\b\b\b\b\b\b\b\b\b\b\b\b\b\b\b\b\b\b\b\b\b\b\b\b\b\b\b\b\b\b\b\b\b\b\b\b\b\b\b\b\b\b\b\b\b\b\b\b\b\b\b\b\b\b\b\b\b\b\b\b\b\b\b\b\b\b\b\b\b\b\b\b\b\b\b\b\b\b\b\b\b\b\b\b\b\b\b\b\b\b\b\b\b\b\b\b\b\b\b\b\b\b\b\b\b\r",
      "412416/412416 [==============================] - 12s 28us/sample - loss: 165.9419 - reconstruction_loss: 87.9653 - KL_loss: 22.7748 - val_loss: 105.3044 - val_reconstruction_loss: 82.9190 - val_KL_loss: 22.3855 - lr: 5.0000e-04\n",
      "Epoch 868/1000\n"
     ]
    },
    {
     "name": "stdout",
     "output_type": "stream",
     "text": [
      "\r",
      "412416/412416 [==============================] - ETA: 0s - loss: 165.8504 - reconstruction_loss: 87.9144 - KL_loss: 22.7795"
     ]
    },
    {
     "name": "stdout",
     "output_type": "stream",
     "text": [
      "\b\b\b\b\b\b\b\b\b\b\b\b\b\b\b\b\b\b\b\b\b\b\b\b\b\b\b\b\b\b\b\b\b\b\b\b\b\b\b\b\b\b\b\b\b\b\b\b\b\b\b\b\b\b\b\b\b\b\b\b\b\b\b\b\b\b\b\b\b\b\b\b\b\b\b\b\b\b\b\b\b\b\b\b\b\b\b\b\b\b\b\b\b\b\b\b\b\b\b\b\b\b\b\b\b\b\b\b\b\b\b\b\b\b\b\b\b\b\b\b\b\b\b\r",
      "412416/412416 [==============================] - 13s 32us/sample - loss: 165.8504 - reconstruction_loss: 87.9144 - KL_loss: 22.7795 - val_loss: 105.2979 - val_reconstruction_loss: 82.8984 - val_KL_loss: 22.3995 - lr: 5.0000e-04\n",
      "Epoch 869/1000\n"
     ]
    },
    {
     "name": "stdout",
     "output_type": "stream",
     "text": [
      "\r",
      "412416/412416 [==============================] - ETA: 0s - loss: 165.8154 - reconstruction_loss: 87.8955 - KL_loss: 22.7899"
     ]
    },
    {
     "name": "stdout",
     "output_type": "stream",
     "text": [
      "\b\b\b\b\b\b\b\b\b\b\b\b\b\b\b\b\b\b\b\b\b\b\b\b\b\b\b\b\b\b\b\b\b\b\b\b\b\b\b\b\b\b\b\b\b\b\b\b\b\b\b\b\b\b\b\b\b\b\b\b\b\b\b\b\b\b\b\b\b\b\b\b\b\b\b\b\b\b\b\b\b\b\b\b\b\b\b\b\b\b\b\b\b\b\b\b\b\b\b\b\b\b\b\b\b\b\b\b\b\b\b\b\b\b\b\b\b\b\b\b\b\b\b\r",
      "412416/412416 [==============================] - 12s 29us/sample - loss: 165.8154 - reconstruction_loss: 87.8955 - KL_loss: 22.7899 - val_loss: 105.2669 - val_reconstruction_loss: 82.8993 - val_KL_loss: 22.3676 - lr: 5.0000e-04\n",
      "Epoch 870/1000\n"
     ]
    },
    {
     "name": "stdout",
     "output_type": "stream",
     "text": [
      "\r",
      "412416/412416 [==============================] - ETA: 0s - loss: 165.7704 - reconstruction_loss: 87.8820 - KL_loss: 22.7579"
     ]
    },
    {
     "name": "stdout",
     "output_type": "stream",
     "text": [
      "\b\b\b\b\b\b\b\b\b\b\b\b\b\b\b\b\b\b\b\b\b\b\b\b\b\b\b\b\b\b\b\b\b\b\b\b\b\b\b\b\b\b\b\b\b\b\b\b\b\b\b\b\b\b\b\b\b\b\b\b\b\b\b\b\b\b\b\b\b\b\b\b\b\b\b\b\b\b\b\b\b\b\b\b\b\b\b\b\b\b\b\b\b\b\b\b\b\b\b\b\b\b\b\b\b\b\b\b\b\b\b\b\b\b\b\b\b\b\b\b\b\b\b\r",
      "412416/412416 [==============================] - 12s 28us/sample - loss: 165.7704 - reconstruction_loss: 87.8820 - KL_loss: 22.7579 - val_loss: 105.3025 - val_reconstruction_loss: 82.9867 - val_KL_loss: 22.3158 - lr: 5.0000e-04\n",
      "Epoch 871/1000\n"
     ]
    },
    {
     "name": "stdout",
     "output_type": "stream",
     "text": [
      "\r",
      "412416/412416 [==============================] - ETA: 0s - loss: 165.7997 - reconstruction_loss: 87.9931 - KL_loss: 22.7096"
     ]
    },
    {
     "name": "stdout",
     "output_type": "stream",
     "text": [
      "\b\b\b\b\b\b\b\b\b\b\b\b\b\b\b\b\b\b\b\b\b\b\b\b\b\b\b\b\b\b\b\b\b\b\b\b\b\b\b\b\b\b\b\b\b\b\b\b\b\b\b\b\b\b\b\b\b\b\b\b\b\b\b\b\b\b\b\b\b\b\b\b\b\b\b\b\b\b\b\b\b\b\b\b\b\b\b\b\b\b\b\b\b\b\b\b\b\b\b\b\b\b\b\b\b\b\b\b\b\b\b\b\b\b\b\b\b\b\b\b\b\b\b\r",
      "412416/412416 [==============================] - 12s 28us/sample - loss: 165.7997 - reconstruction_loss: 87.9931 - KL_loss: 22.7096 - val_loss: 105.2585 - val_reconstruction_loss: 82.9420 - val_KL_loss: 22.3166 - lr: 5.0000e-04\n",
      "Epoch 872/1000\n"
     ]
    },
    {
     "name": "stdout",
     "output_type": "stream",
     "text": [
      "\r",
      "412416/412416 [==============================] - ETA: 0s - loss: 165.7890 - reconstruction_loss: 87.9422 - KL_loss: 22.7102"
     ]
    },
    {
     "name": "stdout",
     "output_type": "stream",
     "text": [
      "\b\b\b\b\b\b\b\b\b\b\b\b\b\b\b\b\b\b\b\b\b\b\b\b\b\b\b\b\b\b\b\b\b\b\b\b\b\b\b\b\b\b\b\b\b\b\b\b\b\b\b\b\b\b\b\b\b\b\b\b\b\b\b\b\b\b\b\b\b\b\b\b\b\b\b\b\b\b\b\b\b\b\b\b\b\b\b\b\b\b\b\b\b\b\b\b\b\b\b\b\b\b\b\b\b\b\b\b\b\b\b\b\b\b\b\b\b\b\b\b\b\b\b\r",
      "412416/412416 [==============================] - 12s 29us/sample - loss: 165.7890 - reconstruction_loss: 87.9422 - KL_loss: 22.7102 - val_loss: 105.3107 - val_reconstruction_loss: 82.9421 - val_KL_loss: 22.3686 - lr: 5.0000e-04\n",
      "Epoch 873/1000\n"
     ]
    },
    {
     "name": "stdout",
     "output_type": "stream",
     "text": [
      "\r",
      "412416/412416 [==============================] - ETA: 0s - loss: 165.7748 - reconstruction_loss: 87.9191 - KL_loss: 22.7581"
     ]
    },
    {
     "name": "stdout",
     "output_type": "stream",
     "text": [
      "\b\b\b\b\b\b\b\b\b\b\b\b\b\b\b\b\b\b\b\b\b\b\b\b\b\b\b\b\b\b\b\b\b\b\b\b\b\b\b\b\b\b\b\b\b\b\b\b\b\b\b\b\b\b\b\b\b\b\b\b\b\b\b\b\b\b\b\b\b\b\b\b\b\b\b\b\b\b\b\b\b\b\b\b\b\b\b\b\b\b\b\b\b\b\b\b\b\b\b\b\b\b\b\b\b\b\b\b\b\b\b\b\b\b\b\b\b\b\b\b\b\b\b\r",
      "412416/412416 [==============================] - 14s 35us/sample - loss: 165.7748 - reconstruction_loss: 87.9191 - KL_loss: 22.7581 - val_loss: 105.2491 - val_reconstruction_loss: 82.8645 - val_KL_loss: 22.3847 - lr: 5.0000e-04\n",
      "Epoch 874/1000\n"
     ]
    },
    {
     "name": "stdout",
     "output_type": "stream",
     "text": [
      "\r",
      "412416/412416 [==============================] - ETA: 0s - loss: 165.7259 - reconstruction_loss: 87.8900 - KL_loss: 22.7742"
     ]
    },
    {
     "name": "stdout",
     "output_type": "stream",
     "text": [
      "\b\b\b\b\b\b\b\b\b\b\b\b\b\b\b\b\b\b\b\b\b\b\b\b\b\b\b\b\b\b\b\b\b\b\b\b\b\b\b\b\b\b\b\b\b\b\b\b\b\b\b\b\b\b\b\b\b\b\b\b\b\b\b\b\b\b\b\b\b\b\b\b\b\b\b\b\b\b\b\b\b\b\b\b\b\b\b\b\b\b\b\b\b\b\b\b\b\b\b\b\b\b\b\b\b\b\b\b\b\b\b\b\b\b\b\b\b\b\b\b\b\b\b\r",
      "412416/412416 [==============================] - 12s 29us/sample - loss: 165.7259 - reconstruction_loss: 87.8900 - KL_loss: 22.7742 - val_loss: 105.2933 - val_reconstruction_loss: 82.9313 - val_KL_loss: 22.3621 - lr: 5.0000e-04\n",
      "Epoch 875/1000\n"
     ]
    },
    {
     "name": "stdout",
     "output_type": "stream",
     "text": [
      "\r",
      "412416/412416 [==============================] - ETA: 0s - loss: 165.7738 - reconstruction_loss: 87.9301 - KL_loss: 22.7553"
     ]
    },
    {
     "name": "stdout",
     "output_type": "stream",
     "text": [
      "\b\b\b\b\b\b\b\b\b\b\b\b\b\b\b\b\b\b\b\b\b\b\b\b\b\b\b\b\b\b\b\b\b\b\b\b\b\b\b\b\b\b\b\b\b\b\b\b\b\b\b\b\b\b\b\b\b\b\b\b\b\b\b\b\b\b\b\b\b\b\b\b\b\b\b\b\b\b\b\b\b\b\b\b\b\b\b\b\b\b\b\b\b\b\b\b\b\b\b\b\b\b\b\b\b\b\b\b\b\b\b\b\b\b\b\b\b\b\b\b\b\b\b\r",
      "412416/412416 [==============================] - 12s 28us/sample - loss: 165.7738 - reconstruction_loss: 87.9301 - KL_loss: 22.7553 - val_loss: 105.2581 - val_reconstruction_loss: 82.8877 - val_KL_loss: 22.3704 - lr: 5.0000e-04\n",
      "Epoch 876/1000\n"
     ]
    },
    {
     "name": "stdout",
     "output_type": "stream",
     "text": [
      "\r",
      "412416/412416 [==============================] - ETA: 0s - loss: 165.7627 - reconstruction_loss: 87.8845 - KL_loss: 22.7631"
     ]
    },
    {
     "name": "stdout",
     "output_type": "stream",
     "text": [
      "\b\b\b\b\b\b\b\b\b\b\b\b\b\b\b\b\b\b\b\b\b\b\b\b\b\b\b\b\b\b\b\b\b\b\b\b\b\b\b\b\b\b\b\b\b\b\b\b\b\b\b\b\b\b\b\b\b\b\b\b\b\b\b\b\b\b\b\b\b\b\b\b\b\b\b\b\b\b\b\b\b\b\b\b\b\b\b\b\b\b\b\b\b\b\b\b\b\b\b\b\b\b\b\b\b\b\b\b\b\b\b\b\b\b\b\b\b\b\b\b\b\b\b\r",
      "412416/412416 [==============================] - 18s 43us/sample - loss: 165.7627 - reconstruction_loss: 87.8845 - KL_loss: 22.7631 - val_loss: 105.2863 - val_reconstruction_loss: 82.8842 - val_KL_loss: 22.4021 - lr: 5.0000e-04\n",
      "Epoch 877/1000\n"
     ]
    },
    {
     "name": "stdout",
     "output_type": "stream",
     "text": [
      "\r",
      "412416/412416 [==============================] - ETA: 0s - loss: 165.7304 - reconstruction_loss: 87.8950 - KL_loss: 22.7910"
     ]
    },
    {
     "name": "stdout",
     "output_type": "stream",
     "text": [
      "\b\b\b\b\b\b\b\b\b\b\b\b\b\b\b\b\b\b\b\b\b\b\b\b\b\b\b\b\b\b\b\b\b\b\b\b\b\b\b\b\b\b\b\b\b\b\b\b\b\b\b\b\b\b\b\b\b\b\b\b\b\b\b\b\b\b\b\b\b\b\b\b\b\b\b\b\b\b\b\b\b\b\b\b\b\b\b\b\b\b\b\b\b\b\b\b\b\b\b\b\b\b\b\b\b\b\b\b\b\b\b\b\b\b\b\b\b\b\b\b\b\b\b\r",
      "412416/412416 [==============================] - 12s 28us/sample - loss: 165.7304 - reconstruction_loss: 87.8950 - KL_loss: 22.7910 - val_loss: 105.2437 - val_reconstruction_loss: 82.8617 - val_KL_loss: 22.3820 - lr: 5.0000e-04\n",
      "Epoch 878/1000\n"
     ]
    },
    {
     "name": "stdout",
     "output_type": "stream",
     "text": [
      "\r",
      "412416/412416 [==============================] - ETA: 0s - loss: 165.7087 - reconstruction_loss: 87.9006 - KL_loss: 22.7709"
     ]
    },
    {
     "name": "stdout",
     "output_type": "stream",
     "text": [
      "\b\b\b\b\b\b\b\b\b\b\b\b\b\b\b\b\b\b\b\b\b\b\b\b\b\b\b\b\b\b\b\b\b\b\b\b\b\b\b\b\b\b\b\b\b\b\b\b\b\b\b\b\b\b\b\b\b\b\b\b\b\b\b\b\b\b\b\b\b\b\b\b\b\b\b\b\b\b\b\b\b\b\b\b\b\b\b\b\b\b\b\b\b\b\b\b\b\b\b\b\b\b\b\b\b\b\b\b\b\b\b\b\b\b\b\b\b\b\b\b\b\b\b\r",
      "412416/412416 [==============================] - 14s 35us/sample - loss: 165.7087 - reconstruction_loss: 87.9006 - KL_loss: 22.7709 - val_loss: 105.2466 - val_reconstruction_loss: 82.9115 - val_KL_loss: 22.3350 - lr: 5.0000e-04\n",
      "Epoch 879/1000\n"
     ]
    },
    {
     "name": "stdout",
     "output_type": "stream",
     "text": [
      "\r",
      "412416/412416 [==============================] - ETA: 0s - loss: 165.6811 - reconstruction_loss: 87.9196 - KL_loss: 22.7281"
     ]
    },
    {
     "name": "stdout",
     "output_type": "stream",
     "text": [
      "\b\b\b\b\b\b\b\b\b\b\b\b\b\b\b\b\b\b\b\b\b\b\b\b\b\b\b\b\b\b\b\b\b\b\b\b\b\b\b\b\b\b\b\b\b\b\b\b\b\b\b\b\b\b\b\b\b\b\b\b\b\b\b\b\b\b\b\b\b\b\b\b\b\b\b\b\b\b\b\b\b\b\b\b\b\b\b\b\b\b\b\b\b\b\b\b\b\b\b\b\b\b\b\b\b\b\b\b\b\b\b\b\b\b\b\b\b\b\b\b\b\b\b\r",
      "412416/412416 [==============================] - 12s 29us/sample - loss: 165.6811 - reconstruction_loss: 87.9196 - KL_loss: 22.7281 - val_loss: 105.2212 - val_reconstruction_loss: 82.8951 - val_KL_loss: 22.3262 - lr: 5.0000e-04\n",
      "Epoch 880/1000\n"
     ]
    },
    {
     "name": "stdout",
     "output_type": "stream",
     "text": [
      "\r",
      "412416/412416 [==============================] - ETA: 0s - loss: 165.7224 - reconstruction_loss: 87.9168 - KL_loss: 22.7195"
     ]
    },
    {
     "name": "stdout",
     "output_type": "stream",
     "text": [
      "\b\b\b\b\b\b\b\b\b\b\b\b\b\b\b\b\b\b\b\b\b\b\b\b\b\b\b\b\b\b\b\b\b\b\b\b\b\b\b\b\b\b\b\b\b\b\b\b\b\b\b\b\b\b\b\b\b\b\b\b\b\b\b\b\b\b\b\b\b\b\b\b\b\b\b\b\b\b\b\b\b\b\b\b\b\b\b\b\b\b\b\b\b\b\b\b\b\b\b\b\b\b\b\b\b\b\b\b\b\b\b\b\b\b\b\b\b\b\b\b\b\b\b\r",
      "412416/412416 [==============================] - 12s 29us/sample - loss: 165.7224 - reconstruction_loss: 87.9168 - KL_loss: 22.7195 - val_loss: 105.2463 - val_reconstruction_loss: 82.8756 - val_KL_loss: 22.3707 - lr: 5.0000e-04\n",
      "Epoch 881/1000\n"
     ]
    },
    {
     "name": "stdout",
     "output_type": "stream",
     "text": [
      "\r",
      "412416/412416 [==============================] - ETA: 0s - loss: 165.6788 - reconstruction_loss: 87.9102 - KL_loss: 22.7605"
     ]
    },
    {
     "name": "stdout",
     "output_type": "stream",
     "text": [
      "\b\b\b\b\b\b\b\b\b\b\b\b\b\b\b\b\b\b\b\b\b\b\b\b\b\b\b\b\b\b\b\b\b\b\b\b\b\b\b\b\b\b\b\b\b\b\b\b\b\b\b\b\b\b\b\b\b\b\b\b\b\b\b\b\b\b\b\b\b\b\b\b\b\b\b\b\b\b\b\b\b\b\b\b\b\b\b\b\b\b\b\b\b\b\b\b\b\b\b\b\b\b\b\b\b\b\b\b\b\b\b\b\b\b\b\b\b\b\b\b\b\b\b\r",
      "412416/412416 [==============================] - 12s 30us/sample - loss: 165.6788 - reconstruction_loss: 87.9102 - KL_loss: 22.7605 - val_loss: 105.2467 - val_reconstruction_loss: 82.8706 - val_KL_loss: 22.3761 - lr: 5.0000e-04\n",
      "Epoch 882/1000\n"
     ]
    },
    {
     "name": "stdout",
     "output_type": "stream",
     "text": [
      "\r",
      "412416/412416 [==============================] - ETA: 0s - loss: 165.6431 - reconstruction_loss: 87.8854 - KL_loss: 22.7658"
     ]
    },
    {
     "name": "stdout",
     "output_type": "stream",
     "text": [
      "\b\b\b\b\b\b\b\b\b\b\b\b\b\b\b\b\b\b\b\b\b\b\b\b\b\b\b\b\b\b\b\b\b\b\b\b\b\b\b\b\b\b\b\b\b\b\b\b\b\b\b\b\b\b\b\b\b\b\b\b\b\b\b\b\b\b\b\b\b\b\b\b\b\b\b\b\b\b\b\b\b\b\b\b\b\b\b\b\b\b\b\b\b\b\b\b\b\b\b\b\b\b\b\b\b\b\b\b\b\b\b\b\b\b\b\b\b\b\b\b\b\b\b\r",
      "412416/412416 [==============================] - 16s 39us/sample - loss: 165.6431 - reconstruction_loss: 87.8854 - KL_loss: 22.7658 - val_loss: 105.2692 - val_reconstruction_loss: 82.9339 - val_KL_loss: 22.3353 - lr: 5.0000e-04\n",
      "Epoch 883/1000\n"
     ]
    },
    {
     "name": "stdout",
     "output_type": "stream",
     "text": [
      "\r",
      "412416/412416 [==============================] - ETA: 0s - loss: 165.6290 - reconstruction_loss: 87.9331 - KL_loss: 22.7284"
     ]
    },
    {
     "name": "stdout",
     "output_type": "stream",
     "text": [
      "\b\b\b\b\b\b\b\b\b\b\b\b\b\b\b\b\b\b\b\b\b\b\b\b\b\b\b\b\b\b\b\b\b\b\b\b\b\b\b\b\b\b\b\b\b\b\b\b\b\b\b\b\b\b\b\b\b\b\b\b\b\b\b\b\b\b\b\b\b\b\b\b\b\b\b\b\b\b\b\b\b\b\b\b\b\b\b\b\b\b\b\b\b\b\b\b\b\b\b\b\b\b\b\b\b\b\b\b\b\b\b\b\b\b\b\b\b\b\b\b\b\b\b\r",
      "412416/412416 [==============================] - 12s 29us/sample - loss: 165.6290 - reconstruction_loss: 87.9331 - KL_loss: 22.7284 - val_loss: 105.2376 - val_reconstruction_loss: 82.9107 - val_KL_loss: 22.3269 - lr: 5.0000e-04\n",
      "Epoch 884/1000\n"
     ]
    },
    {
     "name": "stdout",
     "output_type": "stream",
     "text": [
      "\r",
      "412416/412416 [==============================] - ETA: 0s - loss: 165.6070 - reconstruction_loss: 87.9101 - KL_loss: 22.7197"
     ]
    },
    {
     "name": "stdout",
     "output_type": "stream",
     "text": [
      "\b\b\b\b\b\b\b\b\b\b\b\b\b\b\b\b\b\b\b\b\b\b\b\b\b\b\b\b\b\b\b\b\b\b\b\b\b\b\b\b\b\b\b\b\b\b\b\b\b\b\b\b\b\b\b\b\b\b\b\b\b\b\b\b\b\b\b\b\b\b\b\b\b\b\b\b\b\b\b\b\b\b\b\b\b\b\b\b\b\b\b\b\b\b\b\b\b\b\b\b\b\b\b\b\b\b\b\b\b\b\b\b\b\b\b\b\b\b\b\b\b\b\b\r",
      "412416/412416 [==============================] - 12s 29us/sample - loss: 165.6070 - reconstruction_loss: 87.9101 - KL_loss: 22.7197 - val_loss: 105.2766 - val_reconstruction_loss: 82.9024 - val_KL_loss: 22.3743 - lr: 5.0000e-04\n",
      "Epoch 885/1000\n"
     ]
    },
    {
     "name": "stdout",
     "output_type": "stream",
     "text": [
      "\r",
      "412416/412416 [==============================] - ETA: 0s - loss: 165.6347 - reconstruction_loss: 87.8959 - KL_loss: 22.7637"
     ]
    },
    {
     "name": "stdout",
     "output_type": "stream",
     "text": [
      "\b\b\b\b\b\b\b\b\b\b\b\b\b\b\b\b\b\b\b\b\b\b\b\b\b\b\b\b\b\b\b\b\b\b\b\b\b\b\b\b\b\b\b\b\b\b\b\b\b\b\b\b\b\b\b\b\b\b\b\b\b\b\b\b\b\b\b\b\b\b\b\b\b\b\b\b\b\b\b\b\b\b\b\b\b\b\b\b\b\b\b\b\b\b\b\b\b\b\b\b\b\b\b\b\b\b\b\b\b\b\b\b\b\b\b\b\b\b\b\b\b\b\b\r",
      "412416/412416 [==============================] - 12s 29us/sample - loss: 165.6347 - reconstruction_loss: 87.8959 - KL_loss: 22.7637 - val_loss: 105.2219 - val_reconstruction_loss: 82.8374 - val_KL_loss: 22.3845 - lr: 5.0000e-04\n",
      "Epoch 886/1000\n"
     ]
    },
    {
     "name": "stdout",
     "output_type": "stream",
     "text": [
      "\r",
      "412416/412416 [==============================] - ETA: 0s - loss: 165.5540 - reconstruction_loss: 87.8366 - KL_loss: 22.7746"
     ]
    },
    {
     "name": "stdout",
     "output_type": "stream",
     "text": [
      "\b\b\b\b\b\b\b\b\b\b\b\b\b\b\b\b\b\b\b\b\b\b\b\b\b\b\b\b\b\b\b\b\b\b\b\b\b\b\b\b\b\b\b\b\b\b\b\b\b\b\b\b\b\b\b\b\b\b\b\b\b\b\b\b\b\b\b\b\b\b\b\b\b\b\b\b\b\b\b\b\b\b\b\b\b\b\b\b\b\b\b\b\b\b\b\b\b\b\b\b\b\b\b\b\b\b\b\b\b\b\b\b\b\b\b\b\b\b\b\b\b\b\b\r",
      "412416/412416 [==============================] - 12s 29us/sample - loss: 165.5540 - reconstruction_loss: 87.8366 - KL_loss: 22.7746 - val_loss: 105.2823 - val_reconstruction_loss: 82.9266 - val_KL_loss: 22.3557 - lr: 5.0000e-04\n",
      "Epoch 887/1000\n"
     ]
    },
    {
     "name": "stdout",
     "output_type": "stream",
     "text": [
      "\r",
      "412416/412416 [==============================] - ETA: 0s - loss: 165.6805 - reconstruction_loss: 87.9279 - KL_loss: 22.7494"
     ]
    },
    {
     "name": "stdout",
     "output_type": "stream",
     "text": [
      "\b\b\b\b\b\b\b\b\b\b\b\b\b\b\b\b\b\b\b\b\b\b\b\b\b\b\b\b\b\b\b\b\b\b\b\b\b\b\b\b\b\b\b\b\b\b\b\b\b\b\b\b\b\b\b\b\b\b\b\b\b\b\b\b\b\b\b\b\b\b\b\b\b\b\b\b\b\b\b\b\b\b\b\b\b\b\b\b\b\b\b\b\b\b\b\b\b\b\b\b\b\b\b\b\b\b\b\b\b\b\b\b\b\b\b\b\b\b\b\b\b\b\b\r",
      "412416/412416 [==============================] - 12s 29us/sample - loss: 165.6805 - reconstruction_loss: 87.9279 - KL_loss: 22.7494 - val_loss: 105.2383 - val_reconstruction_loss: 82.8793 - val_KL_loss: 22.3591 - lr: 5.0000e-04\n",
      "Epoch 888/1000\n"
     ]
    },
    {
     "name": "stdout",
     "output_type": "stream",
     "text": [
      "\r",
      "412416/412416 [==============================] - ETA: 0s - loss: 165.5613 - reconstruction_loss: 87.8909 - KL_loss: 22.7524"
     ]
    },
    {
     "name": "stdout",
     "output_type": "stream",
     "text": [
      "\b\b\b\b\b\b\b\b\b\b\b\b\b\b\b\b\b\b\b\b\b\b\b\b\b\b\b\b\b\b\b\b\b\b\b\b\b\b\b\b\b\b\b\b\b\b\b\b\b\b\b\b\b\b\b\b\b\b\b\b\b\b\b\b\b\b\b\b\b\b\b\b\b\b\b\b\b\b\b\b\b\b\b\b\b\b\b\b\b\b\b\b\b\b\b\b\b\b\b\b\b\b\b\b\b\b\b\b\b\b\b\b\b\b\b\b\b\b\b\b\b\b\b\r",
      "412416/412416 [==============================] - 11s 28us/sample - loss: 165.5613 - reconstruction_loss: 87.8909 - KL_loss: 22.7524 - val_loss: 105.2370 - val_reconstruction_loss: 82.8511 - val_KL_loss: 22.3859 - lr: 5.0000e-04\n",
      "Epoch 889/1000\n"
     ]
    },
    {
     "name": "stdout",
     "output_type": "stream",
     "text": [
      "\r",
      "412416/412416 [==============================] - ETA: 0s - loss: 165.5910 - reconstruction_loss: 87.8574 - KL_loss: 22.7754"
     ]
    },
    {
     "name": "stdout",
     "output_type": "stream",
     "text": [
      "\b\b\b\b\b\b\b\b\b\b\b\b\b\b\b\b\b\b\b\b\b\b\b\b\b\b\b\b\b\b\b\b\b\b\b\b\b\b\b\b\b\b\b\b\b\b\b\b\b\b\b\b\b\b\b\b\b\b\b\b\b\b\b\b\b\b\b\b\b\b\b\b\b\b\b\b\b\b\b\b\b\b\b\b\b\b\b\b\b\b\b\b\b\b\b\b\b\b\b\b\b\b\b\b\b\b\b\b\b\b\b\b\b\b\b\b\b\b\b\b\b\b\b\r",
      "412416/412416 [==============================] - 12s 28us/sample - loss: 165.5910 - reconstruction_loss: 87.8574 - KL_loss: 22.7754 - val_loss: 105.2380 - val_reconstruction_loss: 82.8371 - val_KL_loss: 22.4009 - lr: 5.0000e-04\n",
      "Epoch 890/1000\n"
     ]
    },
    {
     "name": "stdout",
     "output_type": "stream",
     "text": [
      "\r",
      "412416/412416 [==============================] - ETA: 0s - loss: 165.5745 - reconstruction_loss: 87.8309 - KL_loss: 22.7901"
     ]
    },
    {
     "name": "stdout",
     "output_type": "stream",
     "text": [
      "\b\b\b\b\b\b\b\b\b\b\b\b\b\b\b\b\b\b\b\b\b\b\b\b\b\b\b\b\b\b\b\b\b\b\b\b\b\b\b\b\b\b\b\b\b\b\b\b\b\b\b\b\b\b\b\b\b\b\b\b\b\b\b\b\b\b\b\b\b\b\b\b\b\b\b\b\b\b\b\b\b\b\b\b\b\b\b\b\b\b\b\b\b\b\b\b\b\b\b\b\b\b\b\b\b\b\b\b\b\b\b\b\b\b\b\b\b\b\b\b\b\b\b\r",
      "412416/412416 [==============================] - 12s 29us/sample - loss: 165.5745 - reconstruction_loss: 87.8309 - KL_loss: 22.7901 - val_loss: 105.2613 - val_reconstruction_loss: 82.8923 - val_KL_loss: 22.3690 - lr: 5.0000e-04\n",
      "Epoch 891/1000\n"
     ]
    },
    {
     "name": "stdout",
     "output_type": "stream",
     "text": [
      "\r",
      "412416/412416 [==============================] - ETA: 0s - loss: 165.4988 - reconstruction_loss: 87.8830 - KL_loss: 22.7615"
     ]
    },
    {
     "name": "stdout",
     "output_type": "stream",
     "text": [
      "\b\b\b\b\b\b\b\b\b\b\b\b\b\b\b\b\b\b\b\b\b\b\b\b\b\b\b\b\b\b\b\b\b\b\b\b\b\b\b\b\b\b\b\b\b\b\b\b\b\b\b\b\b\b\b\b\b\b\b\b\b\b\b\b\b\b\b\b\b\b\b\b\b\b\b\b\b\b\b\b\b\b\b\b\b\b\b\b\b\b\b\b\b\b\b\b\b\b\b\b\b\b\b\b\b\b\b\b\b\b\b\b\b\b\b\b\b\b\b\b\b\b\b\r",
      "412416/412416 [==============================] - 12s 29us/sample - loss: 165.4988 - reconstruction_loss: 87.8830 - KL_loss: 22.7615 - val_loss: 105.2158 - val_reconstruction_loss: 82.8744 - val_KL_loss: 22.3413 - lr: 5.0000e-04\n",
      "Epoch 892/1000\n"
     ]
    },
    {
     "name": "stdout",
     "output_type": "stream",
     "text": [
      "\r",
      "412416/412416 [==============================] - ETA: 0s - loss: 165.4979 - reconstruction_loss: 87.8777 - KL_loss: 22.7332"
     ]
    },
    {
     "name": "stdout",
     "output_type": "stream",
     "text": [
      "\b\b\b\b\b\b\b\b\b\b\b\b\b\b\b\b\b\b\b\b\b\b\b\b\b\b\b\b\b\b\b\b\b\b\b\b\b\b\b\b\b\b\b\b\b\b\b\b\b\b\b\b\b\b\b\b\b\b\b\b\b\b\b\b\b\b\b\b\b\b\b\b\b\b\b\b\b\b\b\b\b\b\b\b\b\b\b\b\b\b\b\b\b\b\b\b\b\b\b\b\b\b\b\b\b\b\b\b\b\b\b\b\b\b\b\b\b\b\b\b\b\b\b\r",
      "412416/412416 [==============================] - 12s 29us/sample - loss: 165.4979 - reconstruction_loss: 87.8777 - KL_loss: 22.7332 - val_loss: 105.2664 - val_reconstruction_loss: 82.9166 - val_KL_loss: 22.3499 - lr: 5.0000e-04\n",
      "Epoch 893/1000\n"
     ]
    },
    {
     "name": "stdout",
     "output_type": "stream",
     "text": [
      "\r",
      "412416/412416 [==============================] - ETA: 0s - loss: 165.6089 - reconstruction_loss: 87.9478 - KL_loss: 22.7380"
     ]
    },
    {
     "name": "stdout",
     "output_type": "stream",
     "text": [
      "\b\b\b\b\b\b\b\b\b\b\b\b\b\b\b\b\b\b\b\b\b\b\b\b\b\b\b\b\b\b\b\b\b\b\b\b\b\b\b\b\b\b\b\b\b\b\b\b\b\b\b\b\b\b\b\b\b\b\b\b\b\b\b\b\b\b\b\b\b\b\b\b\b\b\b\b\b\b\b\b\b\b\b\b\b\b\b\b\b\b\b\b\b\b\b\b\b\b\b\b\b\b\b\b\b\b\b\b\b\b\b\b\b\b\b\b\b\b\b\b\b\b\b\r",
      "412416/412416 [==============================] - 11s 28us/sample - loss: 165.6089 - reconstruction_loss: 87.9478 - KL_loss: 22.7380 - val_loss: 105.2282 - val_reconstruction_loss: 82.8751 - val_KL_loss: 22.3531 - lr: 5.0000e-04\n",
      "Epoch 894/1000\n"
     ]
    },
    {
     "name": "stdout",
     "output_type": "stream",
     "text": [
      "\r",
      "412416/412416 [==============================] - ETA: 0s - loss: 165.5428 - reconstruction_loss: 87.9141 - KL_loss: 22.7412"
     ]
    },
    {
     "name": "stdout",
     "output_type": "stream",
     "text": [
      "\b\b\b\b\b\b\b\b\b\b\b\b\b\b\b\b\b\b\b\b\b\b\b\b\b\b\b\b\b\b\b\b\b\b\b\b\b\b\b\b\b\b\b\b\b\b\b\b\b\b\b\b\b\b\b\b\b\b\b\b\b\b\b\b\b\b\b\b\b\b\b\b\b\b\b\b\b\b\b\b\b\b\b\b\b\b\b\b\b\b\b\b\b\b\b\b\b\b\b\b\b\b\b\b\b\b\b\b\b\b\b\b\b\b\b\b\b\b\b\b\b\b\b\r",
      "412416/412416 [==============================] - 12s 28us/sample - loss: 165.5428 - reconstruction_loss: 87.9141 - KL_loss: 22.7412 - val_loss: 105.2143 - val_reconstruction_loss: 82.8704 - val_KL_loss: 22.3439 - lr: 5.0000e-04\n",
      "Epoch 895/1000\n"
     ]
    },
    {
     "name": "stdout",
     "output_type": "stream",
     "text": [
      "\r",
      "412416/412416 [==============================] - ETA: 0s - loss: 165.4988 - reconstruction_loss: 87.8661 - KL_loss: 22.7355"
     ]
    },
    {
     "name": "stdout",
     "output_type": "stream",
     "text": [
      "\b\b\b\b\b\b\b\b\b\b\b\b\b\b\b\b\b\b\b\b\b\b\b\b\b\b\b\b\b\b\b\b\b\b\b\b\b\b\b\b\b\b\b\b\b\b\b\b\b\b\b\b\b\b\b\b\b\b\b\b\b\b\b\b\b\b\b\b\b\b\b\b\b\b\b\b\b\b\b\b\b\b\b\b\b\b\b\b\b\b\b\b\b\b\b\b\b\b\b\b\b\b\b\b\b\b\b\b\b\b\b\b\b\b\b\b\b\b\b\b\b\b\b\r",
      "412416/412416 [==============================] - 12s 29us/sample - loss: 165.4988 - reconstruction_loss: 87.8661 - KL_loss: 22.7355 - val_loss: 105.1995 - val_reconstruction_loss: 82.8228 - val_KL_loss: 22.3767 - lr: 5.0000e-04\n",
      "Epoch 896/1000\n"
     ]
    },
    {
     "name": "stdout",
     "output_type": "stream",
     "text": [
      "\r",
      "412416/412416 [==============================] - ETA: 0s - loss: 165.4889 - reconstruction_loss: 87.8129 - KL_loss: 22.7685"
     ]
    },
    {
     "name": "stdout",
     "output_type": "stream",
     "text": [
      "\b\b\b\b\b\b\b\b\b\b\b\b\b\b\b\b\b\b\b\b\b\b\b\b\b\b\b\b\b\b\b\b\b\b\b\b\b\b\b\b\b\b\b\b\b\b\b\b\b\b\b\b\b\b\b\b\b\b\b\b\b\b\b\b\b\b\b\b\b\b\b\b\b\b\b\b\b\b\b\b\b\b\b\b\b\b\b\b\b\b\b\b\b\b\b\b\b\b\b\b\b\b\b\b\b\b\b\b\b\b\b\b\b\b\b\b\b\b\b\b\b\b\b\r",
      "412416/412416 [==============================] - 14s 33us/sample - loss: 165.4889 - reconstruction_loss: 87.8129 - KL_loss: 22.7685 - val_loss: 105.2353 - val_reconstruction_loss: 82.8006 - val_KL_loss: 22.4347 - lr: 5.0000e-04\n",
      "Epoch 897/1000\n"
     ]
    },
    {
     "name": "stdout",
     "output_type": "stream",
     "text": [
      "\r",
      "412416/412416 [==============================] - ETA: 0s - loss: 165.5417 - reconstruction_loss: 87.8254 - KL_loss: 22.8238"
     ]
    },
    {
     "name": "stdout",
     "output_type": "stream",
     "text": [
      "\b\b\b\b\b\b\b\b\b\b\b\b\b\b\b\b\b\b\b\b\b\b\b\b\b\b\b\b\b\b\b\b\b\b\b\b\b\b\b\b\b\b\b\b\b\b\b\b\b\b\b\b\b\b\b\b\b\b\b\b\b\b\b\b\b\b\b\b\b\b\b\b\b\b\b\b\b\b\b\b\b\b\b\b\b\b\b\b\b\b\b\b\b\b\b\b\b\b\b\b\b\b\b\b\b\b\b\b\b\b\b\b\b\b\b\b\b\b\b\b\b\b\b\r",
      "412416/412416 [==============================] - 13s 33us/sample - loss: 165.5417 - reconstruction_loss: 87.8254 - KL_loss: 22.8238 - val_loss: 105.2017 - val_reconstruction_loss: 82.7544 - val_KL_loss: 22.4473 - lr: 5.0000e-04\n",
      "Epoch 898/1000\n"
     ]
    },
    {
     "name": "stdout",
     "output_type": "stream",
     "text": [
      "\r",
      "412416/412416 [==============================] - ETA: 0s - loss: 165.4938 - reconstruction_loss: 87.7704 - KL_loss: 22.8371"
     ]
    },
    {
     "name": "stdout",
     "output_type": "stream",
     "text": [
      "\b\b\b\b\b\b\b\b\b\b\b\b\b\b\b\b\b\b\b\b\b\b\b\b\b\b\b\b\b\b\b\b\b\b\b\b\b\b\b\b\b\b\b\b\b\b\b\b\b\b\b\b\b\b\b\b\b\b\b\b\b\b\b\b\b\b\b\b\b\b\b\b\b\b\b\b\b\b\b\b\b\b\b\b\b\b\b\b\b\b\b\b\b\b\b\b\b\b\b\b\b\b\b\b\b\b\b\b\b\b\b\b\b\b\b\b\b\b\b\b\b\b\b\r",
      "412416/412416 [==============================] - 12s 30us/sample - loss: 165.4938 - reconstruction_loss: 87.7704 - KL_loss: 22.8371 - val_loss: 105.2775 - val_reconstruction_loss: 82.8557 - val_KL_loss: 22.4218 - lr: 5.0000e-04\n",
      "Epoch 899/1000\n"
     ]
    },
    {
     "name": "stdout",
     "output_type": "stream",
     "text": [
      "\r",
      "412416/412416 [==============================] - ETA: 0s - loss: 165.5592 - reconstruction_loss: 87.8419 - KL_loss: 22.8148"
     ]
    },
    {
     "name": "stdout",
     "output_type": "stream",
     "text": [
      "\b\b\b\b\b\b\b\b\b\b\b\b\b\b\b\b\b\b\b\b\b\b\b\b\b\b\b\b\b\b\b\b\b\b\b\b\b\b\b\b\b\b\b\b\b\b\b\b\b\b\b\b\b\b\b\b\b\b\b\b\b\b\b\b\b\b\b\b\b\b\b\b\b\b\b\b\b\b\b\b\b\b\b\b\b\b\b\b\b\b\b\b\b\b\b\b\b\b\b\b\b\b\b\b\b\b\b\b\b\b\b\b\b\b\b\b\b\b\b\b\b\b\b\r",
      "412416/412416 [==============================] - 12s 28us/sample - loss: 165.5592 - reconstruction_loss: 87.8419 - KL_loss: 22.8148 - val_loss: 105.2725 - val_reconstruction_loss: 82.8570 - val_KL_loss: 22.4155 - lr: 5.0000e-04\n",
      "Epoch 900/1000\n"
     ]
    },
    {
     "name": "stdout",
     "output_type": "stream",
     "text": [
      "\r",
      "412416/412416 [==============================] - ETA: 0s - loss: 165.5502 - reconstruction_loss: 87.8335 - KL_loss: 22.8077"
     ]
    },
    {
     "name": "stdout",
     "output_type": "stream",
     "text": [
      "\b\b\b\b\b\b\b\b\b\b\b\b\b\b\b\b\b\b\b\b\b\b\b\b\b\b\b\b\b\b\b\b\b\b\b\b\b\b\b\b\b\b\b\b\b\b\b\b\b\b\b\b\b\b\b\b\b\b\b\b\b\b\b\b\b\b\b\b\b\b\b\b\b\b\b\b\b\b\b\b\b\b\b\b\b\b\b\b\b\b\b\b\b\b\b\b\b\b\b\b\b\b\b\b\b\b\b\b\b\b\b\b\b\b\b\b\b\b\b\b\b\b\b\r",
      "412416/412416 [==============================] - 12s 29us/sample - loss: 165.5502 - reconstruction_loss: 87.8335 - KL_loss: 22.8077 - val_loss: 105.2159 - val_reconstruction_loss: 82.7958 - val_KL_loss: 22.4200 - lr: 5.0000e-04\n",
      "Epoch 901/1000\n"
     ]
    },
    {
     "name": "stdout",
     "output_type": "stream",
     "text": [
      "\r",
      "412416/412416 [==============================] - ETA: 0s - loss: 165.4535 - reconstruction_loss: 87.7980 - KL_loss: 22.8087"
     ]
    },
    {
     "name": "stdout",
     "output_type": "stream",
     "text": [
      "\b\b\b\b\b\b\b\b\b\b\b\b\b\b\b\b\b\b\b\b\b\b\b\b\b\b\b\b\b\b\b\b\b\b\b\b\b\b\b\b\b\b\b\b\b\b\b\b\b\b\b\b\b\b\b\b\b\b\b\b\b\b\b\b\b\b\b\b\b\b\b\b\b\b\b\b\b\b\b\b\b\b\b\b\b\b\b\b\b\b\b\b\b\b\b\b\b\b\b\b\b\b\b\b\b\b\b\b\b\b\b\b\b\b\b\b\b\b\b\b\b\b\b\r",
      "412416/412416 [==============================] - 12s 28us/sample - loss: 165.4535 - reconstruction_loss: 87.7980 - KL_loss: 22.8087 - val_loss: 105.1918 - val_reconstruction_loss: 82.8063 - val_KL_loss: 22.3856 - lr: 5.0000e-04\n",
      "Epoch 902/1000\n"
     ]
    },
    {
     "name": "stdout",
     "output_type": "stream",
     "text": [
      "\r",
      "412416/412416 [==============================] - ETA: 0s - loss: 165.4231 - reconstruction_loss: 87.7932 - KL_loss: 22.7752"
     ]
    },
    {
     "name": "stdout",
     "output_type": "stream",
     "text": [
      "\b\b\b\b\b\b\b\b\b\b\b\b\b\b\b\b\b\b\b\b\b\b\b\b\b\b\b\b\b\b\b\b\b\b\b\b\b\b\b\b\b\b\b\b\b\b\b\b\b\b\b\b\b\b\b\b\b\b\b\b\b\b\b\b\b\b\b\b\b\b\b\b\b\b\b\b\b\b\b\b\b\b\b\b\b\b\b\b\b\b\b\b\b\b\b\b\b\b\b\b\b\b\b\b\b\b\b\b\b\b\b\b\b\b\b\b\b\b\b\b\b\b\b\r",
      "412416/412416 [==============================] - 17s 42us/sample - loss: 165.4231 - reconstruction_loss: 87.7932 - KL_loss: 22.7752 - val_loss: 105.2645 - val_reconstruction_loss: 82.8913 - val_KL_loss: 22.3731 - lr: 5.0000e-04\n",
      "Epoch 903/1000\n"
     ]
    },
    {
     "name": "stdout",
     "output_type": "stream",
     "text": [
      "\r",
      "412416/412416 [==============================] - ETA: 0s - loss: 165.5269 - reconstruction_loss: 87.8647 - KL_loss: 22.7667"
     ]
    },
    {
     "name": "stdout",
     "output_type": "stream",
     "text": [
      "\b\b\b\b\b\b\b\b\b\b\b\b\b\b\b\b\b\b\b\b\b\b\b\b\b\b\b\b\b\b\b\b\b\b\b\b\b\b\b\b\b\b\b\b\b\b\b\b\b\b\b\b\b\b\b\b\b\b\b\b\b\b\b\b\b\b\b\b\b\b\b\b\b\b\b\b\b\b\b\b\b\b\b\b\b\b\b\b\b\b\b\b\b\b\b\b\b\b\b\b\b\b\b\b\b\b\b\b\b\b\b\b\b\b\b\b\b\b\b\b\b\b\b\r",
      "412416/412416 [==============================] - 13s 31us/sample - loss: 165.5269 - reconstruction_loss: 87.8647 - KL_loss: 22.7667 - val_loss: 105.1888 - val_reconstruction_loss: 82.7660 - val_KL_loss: 22.4228 - lr: 5.0000e-04\n",
      "Epoch 904/1000\n"
     ]
    },
    {
     "name": "stdout",
     "output_type": "stream",
     "text": [
      "\r",
      "412416/412416 [==============================] - ETA: 0s - loss: 165.4446 - reconstruction_loss: 87.7934 - KL_loss: 22.8159"
     ]
    },
    {
     "name": "stdout",
     "output_type": "stream",
     "text": [
      "\b\b\b\b\b\b\b\b\b\b\b\b\b\b\b\b\b\b\b\b\b\b\b\b\b\b\b\b\b\b\b\b\b\b\b\b\b\b\b\b\b\b\b\b\b\b\b\b\b\b\b\b\b\b\b\b\b\b\b\b\b\b\b\b\b\b\b\b\b\b\b\b\b\b\b\b\b\b\b\b\b\b\b\b\b\b\b\b\b\b\b\b\b\b\b\b\b\b\b\b\b\b\b\b\b\b\b\b\b\b\b\b\b\b\b\b\b\b\b\b\b\b\b\r",
      "412416/412416 [==============================] - 17s 40us/sample - loss: 165.4446 - reconstruction_loss: 87.7934 - KL_loss: 22.8159 - val_loss: 105.2517 - val_reconstruction_loss: 82.7872 - val_KL_loss: 22.4644 - lr: 5.0000e-04\n",
      "Epoch 905/1000\n"
     ]
    },
    {
     "name": "stdout",
     "output_type": "stream",
     "text": [
      "\r",
      "412416/412416 [==============================] - ETA: 0s - loss: 165.5619 - reconstruction_loss: 87.7927 - KL_loss: 22.8538"
     ]
    },
    {
     "name": "stdout",
     "output_type": "stream",
     "text": [
      "\b\b\b\b\b\b\b\b\b\b\b\b\b\b\b\b\b\b\b\b\b\b\b\b\b\b\b\b\b\b\b\b\b\b\b\b\b\b\b\b\b\b\b\b\b\b\b\b\b\b\b\b\b\b\b\b\b\b\b\b\b\b\b\b\b\b\b\b\b\b\b\b\b\b\b\b\b\b\b\b\b\b\b\b\b\b\b\b\b\b\b\b\b\b\b\b\b\b\b\b\b\b\b\b\b\b\b\b\b\b\b\b\b\b\b\b\b\b\b\b\b\b\b\r",
      "412416/412416 [==============================] - 14s 34us/sample - loss: 165.5619 - reconstruction_loss: 87.7927 - KL_loss: 22.8538 - val_loss: 105.2064 - val_reconstruction_loss: 82.7572 - val_KL_loss: 22.4492 - lr: 5.0000e-04\n",
      "Epoch 906/1000\n"
     ]
    },
    {
     "name": "stdout",
     "output_type": "stream",
     "text": [
      "\r",
      "412416/412416 [==============================] - ETA: 0s - loss: 165.4135 - reconstruction_loss: 87.7536 - KL_loss: 22.8391"
     ]
    },
    {
     "name": "stdout",
     "output_type": "stream",
     "text": [
      "\b\b\b\b\b\b\b\b\b\b\b\b\b\b\b\b\b\b\b\b\b\b\b\b\b\b\b\b\b\b\b\b\b\b\b\b\b\b\b\b\b\b\b\b\b\b\b\b\b\b\b\b\b\b\b\b\b\b\b\b\b\b\b\b\b\b\b\b\b\b\b\b\b\b\b\b\b\b\b\b\b\b\b\b\b\b\b\b\b\b\b\b\b\b\b\b\b\b\b\b\b\b\b\b\b\b\b\b\b\b\b\b\b\b\b\b\b\b\b\b\b\b\b\r",
      "412416/412416 [==============================] - 12s 30us/sample - loss: 165.4135 - reconstruction_loss: 87.7536 - KL_loss: 22.8391 - val_loss: 105.2082 - val_reconstruction_loss: 82.8144 - val_KL_loss: 22.3938 - lr: 5.0000e-04\n",
      "Epoch 907/1000\n"
     ]
    },
    {
     "name": "stdout",
     "output_type": "stream",
     "text": [
      "\r",
      "412416/412416 [==============================] - ETA: 0s - loss: 165.4267 - reconstruction_loss: 87.8013 - KL_loss: 22.7873"
     ]
    },
    {
     "name": "stdout",
     "output_type": "stream",
     "text": [
      "\b\b\b\b\b\b\b\b\b\b\b\b\b\b\b\b\b\b\b\b\b\b\b\b\b\b\b\b\b\b\b\b\b\b\b\b\b\b\b\b\b\b\b\b\b\b\b\b\b\b\b\b\b\b\b\b\b\b\b\b\b\b\b\b\b\b\b\b\b\b\b\b\b\b\b\b\b\b\b\b\b\b\b\b\b\b\b\b\b\b\b\b\b\b\b\b\b\b\b\b\b\b\b\b\b\b\b\b\b\b\b\b\b\b\b\b\b\b\b\b\b\b\b\r",
      "412416/412416 [==============================] - 12s 29us/sample - loss: 165.4267 - reconstruction_loss: 87.8013 - KL_loss: 22.7873 - val_loss: 105.1916 - val_reconstruction_loss: 82.8162 - val_KL_loss: 22.3754 - lr: 5.0000e-04\n",
      "Epoch 908/1000\n"
     ]
    },
    {
     "name": "stdout",
     "output_type": "stream",
     "text": [
      "\r",
      "412416/412416 [==============================] - ETA: 0s - loss: 165.4148 - reconstruction_loss: 87.8021 - KL_loss: 22.7682"
     ]
    },
    {
     "name": "stdout",
     "output_type": "stream",
     "text": [
      "\b\b\b\b\b\b\b\b\b\b\b\b\b\b\b\b\b\b\b\b\b\b\b\b\b\b\b\b\b\b\b\b\b\b\b\b\b\b\b\b\b\b\b\b\b\b\b\b\b\b\b\b\b\b\b\b\b\b\b\b\b\b\b\b\b\b\b\b\b\b\b\b\b\b\b\b\b\b\b\b\b\b\b\b\b\b\b\b\b\b\b\b\b\b\b\b\b\b\b\b\b\b\b\b\b\b\b\b\b\b\b\b\b\b\b\b\b\b\b\b\b\b\b\r",
      "412416/412416 [==============================] - 19s 47us/sample - loss: 165.4148 - reconstruction_loss: 87.8021 - KL_loss: 22.7682 - val_loss: 105.2273 - val_reconstruction_loss: 82.8473 - val_KL_loss: 22.3800 - lr: 5.0000e-04\n",
      "Epoch 909/1000\n"
     ]
    },
    {
     "name": "stdout",
     "output_type": "stream",
     "text": [
      "\r",
      "412416/412416 [==============================] - ETA: 0s - loss: 165.4914 - reconstruction_loss: 87.8551 - KL_loss: 22.7687"
     ]
    },
    {
     "name": "stdout",
     "output_type": "stream",
     "text": [
      "\b\b\b\b\b\b\b\b\b\b\b\b\b\b\b\b\b\b\b\b\b\b\b\b\b\b\b\b\b\b\b\b\b\b\b\b\b\b\b\b\b\b\b\b\b\b\b\b\b\b\b\b\b\b\b\b\b\b\b\b\b\b\b\b\b\b\b\b\b\b\b\b\b\b\b\b\b\b\b\b\b\b\b\b\b\b\b\b\b\b\b\b\b\b\b\b\b\b\b\b\b\b\b\b\b\b\b\b\b\b\b\b\b\b\b\b\b\b\b\b\b\b\b\r",
      "412416/412416 [==============================] - 11s 28us/sample - loss: 165.4914 - reconstruction_loss: 87.8551 - KL_loss: 22.7687 - val_loss: 105.1861 - val_reconstruction_loss: 82.8257 - val_KL_loss: 22.3603 - lr: 5.0000e-04\n",
      "Epoch 910/1000\n"
     ]
    },
    {
     "name": "stdout",
     "output_type": "stream",
     "text": [
      "\r",
      "412416/412416 [==============================] - ETA: 0s - loss: 165.3486 - reconstruction_loss: 87.8142 - KL_loss: 22.7495"
     ]
    },
    {
     "name": "stdout",
     "output_type": "stream",
     "text": [
      "\b\b\b\b\b\b\b\b\b\b\b\b\b\b\b\b\b\b\b\b\b\b\b\b\b\b\b\b\b\b\b\b\b\b\b\b\b\b\b\b\b\b\b\b\b\b\b\b\b\b\b\b\b\b\b\b\b\b\b\b\b\b\b\b\b\b\b\b\b\b\b\b\b\b\b\b\b\b\b\b\b\b\b\b\b\b\b\b\b\b\b\b\b\b\b\b\b\b\b\b\b\b\b\b\b\b\b\b\b\b\b\b\b\b\b\b\b\b\b\b\b\b\b\r",
      "412416/412416 [==============================] - 12s 28us/sample - loss: 165.3486 - reconstruction_loss: 87.8142 - KL_loss: 22.7495 - val_loss: 105.2720 - val_reconstruction_loss: 82.9449 - val_KL_loss: 22.3270 - lr: 5.0000e-04\n",
      "Epoch 911/1000\n"
     ]
    },
    {
     "name": "stdout",
     "output_type": "stream",
     "text": [
      "\r",
      "412416/412416 [==============================] - ETA: 0s - loss: 165.4290 - reconstruction_loss: 87.9364 - KL_loss: 22.7206"
     ]
    },
    {
     "name": "stdout",
     "output_type": "stream",
     "text": [
      "\b\b\b\b\b\b\b\b\b\b\b\b\b\b\b\b\b\b\b\b\b\b\b\b\b\b\b\b\b\b\b\b\b\b\b\b\b\b\b\b\b\b\b\b\b\b\b\b\b\b\b\b\b\b\b\b\b\b\b\b\b\b\b\b\b\b\b\b\b\b\b\b\b\b\b\b\b\b\b\b\b\b\b\b\b\b\b\b\b\b\b\b\b\b\b\b\b\b\b\b\b\b\b\b\b\b\b\b\b\b\b\b\b\b\b\b\b\b\b\b\b\b\b\r",
      "412416/412416 [==============================] - 17s 41us/sample - loss: 165.4290 - reconstruction_loss: 87.9364 - KL_loss: 22.7206 - val_loss: 105.2451 - val_reconstruction_loss: 82.8994 - val_KL_loss: 22.3457 - lr: 5.0000e-04\n",
      "Epoch 912/1000\n"
     ]
    },
    {
     "name": "stdout",
     "output_type": "stream",
     "text": [
      "\r",
      "412416/412416 [==============================] - ETA: 0s - loss: 165.4301 - reconstruction_loss: 87.8930 - KL_loss: 22.7390"
     ]
    },
    {
     "name": "stdout",
     "output_type": "stream",
     "text": [
      "\b\b\b\b\b\b\b\b\b\b\b\b\b\b\b\b\b\b\b\b\b\b\b\b\b\b\b\b\b\b\b\b\b\b\b\b\b\b\b\b\b\b\b\b\b\b\b\b\b\b\b\b\b\b\b\b\b\b\b\b\b\b\b\b\b\b\b\b\b\b\b\b\b\b\b\b\b\b\b\b\b\b\b\b\b\b\b\b\b\b\b\b\b\b\b\b\b\b\b\b\b\b\b\b\b\b\b\b\b\b\b\b\b\b\b\b\b\b\b\b\b\b\b\r",
      "412416/412416 [==============================] - 16s 39us/sample - loss: 165.4301 - reconstruction_loss: 87.8930 - KL_loss: 22.7390 - val_loss: 105.1863 - val_reconstruction_loss: 82.7837 - val_KL_loss: 22.4026 - lr: 5.0000e-04\n",
      "Epoch 913/1000\n"
     ]
    },
    {
     "name": "stdout",
     "output_type": "stream",
     "text": [
      "\r",
      "412416/412416 [==============================] - ETA: 0s - loss: 165.3424 - reconstruction_loss: 87.7781 - KL_loss: 22.7917"
     ]
    },
    {
     "name": "stdout",
     "output_type": "stream",
     "text": [
      "\b\b\b\b\b\b\b\b\b\b\b\b\b\b\b\b\b\b\b\b\b\b\b\b\b\b\b\b\b\b\b\b\b\b\b\b\b\b\b\b\b\b\b\b\b\b\b\b\b\b\b\b\b\b\b\b\b\b\b\b\b\b\b\b\b\b\b\b\b\b\b\b\b\b\b\b\b\b\b\b\b\b\b\b\b\b\b\b\b\b\b\b\b\b\b\b\b\b\b\b\b\b\b\b\b\b\b\b\b\b\b\b\b\b\b\b\b\b\b\b\b\b\b\r",
      "412416/412416 [==============================] - 23s 55us/sample - loss: 165.3424 - reconstruction_loss: 87.7781 - KL_loss: 22.7917 - val_loss: 105.1691 - val_reconstruction_loss: 82.7669 - val_KL_loss: 22.4022 - lr: 5.0000e-04\n",
      "Epoch 914/1000\n"
     ]
    },
    {
     "name": "stdout",
     "output_type": "stream",
     "text": [
      "\r",
      "412416/412416 [==============================] - ETA: 0s - loss: 165.3657 - reconstruction_loss: 87.7720 - KL_loss: 22.7912"
     ]
    },
    {
     "name": "stdout",
     "output_type": "stream",
     "text": [
      "\b\b\b\b\b\b\b\b\b\b\b\b\b\b\b\b\b\b\b\b\b\b\b\b\b\b\b\b\b\b\b\b\b\b\b\b\b\b\b\b\b\b\b\b\b\b\b\b\b\b\b\b\b\b\b\b\b\b\b\b\b\b\b\b\b\b\b\b\b\b\b\b\b\b\b\b\b\b\b\b\b\b\b\b\b\b\b\b\b\b\b\b\b\b\b\b\b\b\b\b\b\b\b\b\b\b\b\b\b\b\b\b\b\b\b\b\b\b\b\b\b\b\b\r",
      "412416/412416 [==============================] - 13s 31us/sample - loss: 165.3657 - reconstruction_loss: 87.7720 - KL_loss: 22.7912 - val_loss: 105.1887 - val_reconstruction_loss: 82.8192 - val_KL_loss: 22.3695 - lr: 5.0000e-04\n",
      "Epoch 915/1000\n"
     ]
    },
    {
     "name": "stdout",
     "output_type": "stream",
     "text": [
      "\r",
      "412416/412416 [==============================] - ETA: 0s - loss: 165.3001 - reconstruction_loss: 87.8207 - KL_loss: 22.7621"
     ]
    },
    {
     "name": "stdout",
     "output_type": "stream",
     "text": [
      "\b\b\b\b\b\b\b\b\b\b\b\b\b\b\b\b\b\b\b\b\b\b\b\b\b\b\b\b\b\b\b\b\b\b\b\b\b\b\b\b\b\b\b\b\b\b\b\b\b\b\b\b\b\b\b\b\b\b\b\b\b\b\b\b\b\b\b\b\b\b\b\b\b\b\b\b\b\b\b\b\b\b\b\b\b\b\b\b\b\b\b\b\b\b\b\b\b\b\b\b\b\b\b\b\b\b\b\b\b\b\b\b\b\b\b\b\b\b\b\b\b\b\b\r",
      "412416/412416 [==============================] - 12s 29us/sample - loss: 165.3001 - reconstruction_loss: 87.8207 - KL_loss: 22.7621 - val_loss: 105.1378 - val_reconstruction_loss: 82.7669 - val_KL_loss: 22.3709 - lr: 5.0000e-04\n",
      "Epoch 916/1000\n"
     ]
    },
    {
     "name": "stdout",
     "output_type": "stream",
     "text": [
      "\r",
      "412416/412416 [==============================] - ETA: 0s - loss: 165.2538 - reconstruction_loss: 87.7855 - KL_loss: 22.7628"
     ]
    },
    {
     "name": "stdout",
     "output_type": "stream",
     "text": [
      "\b\b\b\b\b\b\b\b\b\b\b\b\b\b\b\b\b\b\b\b\b\b\b\b\b\b\b\b\b\b\b\b\b\b\b\b\b\b\b\b\b\b\b\b\b\b\b\b\b\b\b\b\b\b\b\b\b\b\b\b\b\b\b\b\b\b\b\b\b\b\b\b\b\b\b\b\b\b\b\b\b\b\b\b\b\b\b\b\b\b\b\b\b\b\b\b\b\b\b\b\b\b\b\b\b\b\b\b\b\b\b\b\b\b\b\b\b\b\b\b\b\b\b\r",
      "412416/412416 [==============================] - 18s 43us/sample - loss: 165.2538 - reconstruction_loss: 87.7855 - KL_loss: 22.7628 - val_loss: 105.2780 - val_reconstruction_loss: 82.8643 - val_KL_loss: 22.4137 - lr: 5.0000e-04\n",
      "Epoch 917/1000\n"
     ]
    },
    {
     "name": "stdout",
     "output_type": "stream",
     "text": [
      "\r",
      "412416/412416 [==============================] - ETA: 0s - loss: 165.3782 - reconstruction_loss: 87.8469 - KL_loss: 22.8015"
     ]
    },
    {
     "name": "stdout",
     "output_type": "stream",
     "text": [
      "\b\b\b\b\b\b\b\b\b\b\b\b\b\b\b\b\b\b\b\b\b\b\b\b\b\b\b\b\b\b\b\b\b\b\b\b\b\b\b\b\b\b\b\b\b\b\b\b\b\b\b\b\b\b\b\b\b\b\b\b\b\b\b\b\b\b\b\b\b\b\b\b\b\b\b\b\b\b\b\b\b\b\b\b\b\b\b\b\b\b\b\b\b\b\b\b\b\b\b\b\b\b\b\b\b\b\b\b\b\b\b\b\b\b\b\b\b\b\b\b\b\b\b\r",
      "412416/412416 [==============================] - 12s 29us/sample - loss: 165.3782 - reconstruction_loss: 87.8469 - KL_loss: 22.8015 - val_loss: 105.2056 - val_reconstruction_loss: 82.7978 - val_KL_loss: 22.4079 - lr: 5.0000e-04\n",
      "Epoch 918/1000\n"
     ]
    },
    {
     "name": "stdout",
     "output_type": "stream",
     "text": [
      "\r",
      "412416/412416 [==============================] - ETA: 0s - loss: 165.3842 - reconstruction_loss: 87.8028 - KL_loss: 22.7961"
     ]
    },
    {
     "name": "stdout",
     "output_type": "stream",
     "text": [
      "\b\b\b\b\b\b\b\b\b\b\b\b\b\b\b\b\b\b\b\b\b\b\b\b\b\b\b\b\b\b\b\b\b\b\b\b\b\b\b\b\b\b\b\b\b\b\b\b\b\b\b\b\b\b\b\b\b\b\b\b\b\b\b\b\b\b\b\b\b\b\b\b\b\b\b\b\b\b\b\b\b\b\b\b\b\b\b\b\b\b\b\b\b\b\b\b\b\b\b\b\b\b\b\b\b\b\b\b\b\b\b\b\b\b\b\b\b\b\b\b\b\b\b\r",
      "412416/412416 [==============================] - 11s 28us/sample - loss: 165.3842 - reconstruction_loss: 87.8028 - KL_loss: 22.7961 - val_loss: 105.2035 - val_reconstruction_loss: 82.8306 - val_KL_loss: 22.3729 - lr: 5.0000e-04\n",
      "Epoch 919/1000\n"
     ]
    },
    {
     "name": "stdout",
     "output_type": "stream",
     "text": [
      "\r",
      "412416/412416 [==============================] - ETA: 0s - loss: 165.2969 - reconstruction_loss: 87.8216 - KL_loss: 22.7653"
     ]
    },
    {
     "name": "stdout",
     "output_type": "stream",
     "text": [
      "\b\b\b\b\b\b\b\b\b\b\b\b\b\b\b\b\b\b\b\b\b\b\b\b\b\b\b\b\b\b\b\b\b\b\b\b\b\b\b\b\b\b\b\b\b\b\b\b\b\b\b\b\b\b\b\b\b\b\b\b\b\b\b\b\b\b\b\b\b\b\b\b\b\b\b\b\b\b\b\b\b\b\b\b\b\b\b\b\b\b\b\b\b\b\b\b\b\b\b\b\b\b\b\b\b\b\b\b\b\b\b\b\b\b\b\b\b\b\b\b\b\b\b\r",
      "412416/412416 [==============================] - 12s 29us/sample - loss: 165.2969 - reconstruction_loss: 87.8216 - KL_loss: 22.7653 - val_loss: 105.1676 - val_reconstruction_loss: 82.7891 - val_KL_loss: 22.3785 - lr: 5.0000e-04\n",
      "Epoch 920/1000\n"
     ]
    },
    {
     "name": "stdout",
     "output_type": "stream",
     "text": [
      "\r",
      "412416/412416 [==============================] - ETA: 0s - loss: 165.3238 - reconstruction_loss: 87.7871 - KL_loss: 22.7707"
     ]
    },
    {
     "name": "stdout",
     "output_type": "stream",
     "text": [
      "\b\b\b\b\b\b\b\b\b\b\b\b\b\b\b\b\b\b\b\b\b\b\b\b\b\b\b\b\b\b\b\b\b\b\b\b\b\b\b\b\b\b\b\b\b\b\b\b\b\b\b\b\b\b\b\b\b\b\b\b\b\b\b\b\b\b\b\b\b\b\b\b\b\b\b\b\b\b\b\b\b\b\b\b\b\b\b\b\b\b\b\b\b\b\b\b\b\b\b\b\b\b\b\b\b\b\b\b\b\b\b\b\b\b\b\b\b\b\b\b\b\b\b\r",
      "412416/412416 [==============================] - 12s 29us/sample - loss: 165.3238 - reconstruction_loss: 87.7871 - KL_loss: 22.7707 - val_loss: 105.1789 - val_reconstruction_loss: 82.7410 - val_KL_loss: 22.4379 - lr: 5.0000e-04\n",
      "Epoch 921/1000\n"
     ]
    },
    {
     "name": "stdout",
     "output_type": "stream",
     "text": [
      "\r",
      "412416/412416 [==============================] - ETA: 0s - loss: 165.2780 - reconstruction_loss: 87.7469 - KL_loss: 22.8265"
     ]
    },
    {
     "name": "stdout",
     "output_type": "stream",
     "text": [
      "\b\b\b\b\b\b\b\b\b\b\b\b\b\b\b\b\b\b\b\b\b\b\b\b\b\b\b\b\b\b\b\b\b\b\b\b\b\b\b\b\b\b\b\b\b\b\b\b\b\b\b\b\b\b\b\b\b\b\b\b\b\b\b\b\b\b\b\b\b\b\b\b\b\b\b\b\b\b\b\b\b\b\b\b\b\b\b\b\b\b\b\b\b\b\b\b\b\b\b\b\b\b\b\b\b\b\b\b\b\b\b\b\b\b\b\b\b\b\b\b\b\b\b\r",
      "412416/412416 [==============================] - 12s 29us/sample - loss: 165.2780 - reconstruction_loss: 87.7469 - KL_loss: 22.8265 - val_loss: 105.1690 - val_reconstruction_loss: 82.7124 - val_KL_loss: 22.4566 - lr: 5.0000e-04\n",
      "Epoch 922/1000\n"
     ]
    },
    {
     "name": "stdout",
     "output_type": "stream",
     "text": [
      "\r",
      "412416/412416 [==============================] - ETA: 0s - loss: 165.2351 - reconstruction_loss: 87.6933 - KL_loss: 22.8455"
     ]
    },
    {
     "name": "stdout",
     "output_type": "stream",
     "text": [
      "\b\b\b\b\b\b\b\b\b\b\b\b\b\b\b\b\b\b\b\b\b\b\b\b\b\b\b\b\b\b\b\b\b\b\b\b\b\b\b\b\b\b\b\b\b\b\b\b\b\b\b\b\b\b\b\b\b\b\b\b\b\b\b\b\b\b\b\b\b\b\b\b\b\b\b\b\b\b\b\b\b\b\b\b\b\b\b\b\b\b\b\b\b\b\b\b\b\b\b\b\b\b\b\b\b\b\b\b\b\b\b\b\b\b\b\b\b\b\b\b\b\b\b\r",
      "412416/412416 [==============================] - 12s 28us/sample - loss: 165.2351 - reconstruction_loss: 87.6933 - KL_loss: 22.8455 - val_loss: 105.2185 - val_reconstruction_loss: 82.8034 - val_KL_loss: 22.4151 - lr: 5.0000e-04\n",
      "Epoch 923/1000\n"
     ]
    },
    {
     "name": "stdout",
     "output_type": "stream",
     "text": [
      "\r",
      "412416/412416 [==============================] - ETA: 0s - loss: 165.3602 - reconstruction_loss: 87.7964 - KL_loss: 22.8078"
     ]
    },
    {
     "name": "stdout",
     "output_type": "stream",
     "text": [
      "\b\b\b\b\b\b\b\b\b\b\b\b\b\b\b\b\b\b\b\b\b\b\b\b\b\b\b\b\b\b\b\b\b\b\b\b\b\b\b\b\b\b\b\b\b\b\b\b\b\b\b\b\b\b\b\b\b\b\b\b\b\b\b\b\b\b\b\b\b\b\b\b\b\b\b\b\b\b\b\b\b\b\b\b\b\b\b\b\b\b\b\b\b\b\b\b\b\b\b\b\b\b\b\b\b\b\b\b\b\b\b\b\b\b\b\b\b\b\b\b\b\b\b\r",
      "412416/412416 [==============================] - 12s 28us/sample - loss: 165.3602 - reconstruction_loss: 87.7964 - KL_loss: 22.8078 - val_loss: 105.1525 - val_reconstruction_loss: 82.7618 - val_KL_loss: 22.3906 - lr: 5.0000e-04\n",
      "Epoch 924/1000\n"
     ]
    },
    {
     "name": "stdout",
     "output_type": "stream",
     "text": [
      "\r",
      "412416/412416 [==============================] - ETA: 0s - loss: 165.2300 - reconstruction_loss: 87.7771 - KL_loss: 22.7828"
     ]
    },
    {
     "name": "stdout",
     "output_type": "stream",
     "text": [
      "\b\b\b\b\b\b\b\b\b\b\b\b\b\b\b\b\b\b\b\b\b\b\b\b\b\b\b\b\b\b\b\b\b\b\b\b\b\b\b\b\b\b\b\b\b\b\b\b\b\b\b\b\b\b\b\b\b\b\b\b\b\b\b\b\b\b\b\b\b\b\b\b\b\b\b\b\b\b\b\b\b\b\b\b\b\b\b\b\b\b\b\b\b\b\b\b\b\b\b\b\b\b\b\b\b\b\b\b\b\b\b\b\b\b\b\b\b\b\b\b\b\b\b\r",
      "412416/412416 [==============================] - 12s 29us/sample - loss: 165.2300 - reconstruction_loss: 87.7771 - KL_loss: 22.7828 - val_loss: 105.2146 - val_reconstruction_loss: 82.8222 - val_KL_loss: 22.3924 - lr: 5.0000e-04\n",
      "Epoch 925/1000\n"
     ]
    },
    {
     "name": "stdout",
     "output_type": "stream",
     "text": [
      "\r",
      "412416/412416 [==============================] - ETA: 0s - loss: 165.2832 - reconstruction_loss: 87.8326 - KL_loss: 22.7804"
     ]
    },
    {
     "name": "stdout",
     "output_type": "stream",
     "text": [
      "\b\b\b\b\b\b\b\b\b\b\b\b\b\b\b\b\b\b\b\b\b\b\b\b\b\b\b\b\b\b\b\b\b\b\b\b\b\b\b\b\b\b\b\b\b\b\b\b\b\b\b\b\b\b\b\b\b\b\b\b\b\b\b\b\b\b\b\b\b\b\b\b\b\b\b\b\b\b\b\b\b\b\b\b\b\b\b\b\b\b\b\b\b\b\b\b\b\b\b\b\b\b\b\b\b\b\b\b\b\b\b\b\b\b\b\b\b\b\b\b\b\b\b\r",
      "412416/412416 [==============================] - 12s 28us/sample - loss: 165.2832 - reconstruction_loss: 87.8326 - KL_loss: 22.7804 - val_loss: 105.2230 - val_reconstruction_loss: 82.8389 - val_KL_loss: 22.3841 - lr: 5.0000e-04\n",
      "Epoch 926/1000\n"
     ]
    },
    {
     "name": "stdout",
     "output_type": "stream",
     "text": [
      "\r",
      "412416/412416 [==============================] - ETA: 0s - loss: 165.2584 - reconstruction_loss: 87.8105 - KL_loss: 22.7720"
     ]
    },
    {
     "name": "stdout",
     "output_type": "stream",
     "text": [
      "\b\b\b\b\b\b\b\b\b\b\b\b\b\b\b\b\b\b\b\b\b\b\b\b\b\b\b\b\b\b\b\b\b\b\b\b\b\b\b\b\b\b\b\b\b\b\b\b\b\b\b\b\b\b\b\b\b\b\b\b\b\b\b\b\b\b\b\b\b\b\b\b\b\b\b\b\b\b\b\b\b\b\b\b\b\b\b\b\b\b\b\b\b\b\b\b\b\b\b\b\b\b\b\b\b\b\b\b\b\b\b\b\b\b\b\b\b\b\b\b\b\b\b\r",
      "412416/412416 [==============================] - 12s 28us/sample - loss: 165.2584 - reconstruction_loss: 87.8105 - KL_loss: 22.7720 - val_loss: 105.1504 - val_reconstruction_loss: 82.7832 - val_KL_loss: 22.3672 - lr: 5.0000e-04\n",
      "Epoch 927/1000\n"
     ]
    },
    {
     "name": "stdout",
     "output_type": "stream",
     "text": [
      "\r",
      "412416/412416 [==============================] - ETA: 0s - loss: 165.1661 - reconstruction_loss: 87.7755 - KL_loss: 22.7582"
     ]
    },
    {
     "name": "stdout",
     "output_type": "stream",
     "text": [
      "\b\b\b\b\b\b\b\b\b\b\b\b\b\b\b\b\b\b\b\b\b\b\b\b\b\b\b\b\b\b\b\b\b\b\b\b\b\b\b\b\b\b\b\b\b\b\b\b\b\b\b\b\b\b\b\b\b\b\b\b\b\b\b\b\b\b\b\b\b\b\b\b\b\b\b\b\b\b\b\b\b\b\b\b\b\b\b\b\b\b\b\b\b\b\b\b\b\b\b\b\b\b\b\b\b\b\b\b\b\b\b\b\b\b\b\b\b\b\b\b\b\b\b\r",
      "412416/412416 [==============================] - 12s 28us/sample - loss: 165.1661 - reconstruction_loss: 87.7755 - KL_loss: 22.7582 - val_loss: 105.1368 - val_reconstruction_loss: 82.7618 - val_KL_loss: 22.3750 - lr: 5.0000e-04\n",
      "Epoch 928/1000\n"
     ]
    },
    {
     "name": "stdout",
     "output_type": "stream",
     "text": [
      "\r",
      "412416/412416 [==============================] - ETA: 0s - loss: 165.2019 - reconstruction_loss: 87.7579 - KL_loss: 22.7655"
     ]
    },
    {
     "name": "stdout",
     "output_type": "stream",
     "text": [
      "\b\b\b\b\b\b\b\b\b\b\b\b\b\b\b\b\b\b\b\b\b\b\b\b\b\b\b\b\b\b\b\b\b\b\b\b\b\b\b\b\b\b\b\b\b\b\b\b\b\b\b\b\b\b\b\b\b\b\b\b\b\b\b\b\b\b\b\b\b\b\b\b\b\b\b\b\b\b\b\b\b\b\b\b\b\b\b\b\b\b\b\b\b\b\b\b\b\b\b\b\b\b\b\b\b\b\b\b\b\b\b\b\b\b\b\b\b\b\b\b\b\b\b\r",
      "412416/412416 [==============================] - 12s 29us/sample - loss: 165.2019 - reconstruction_loss: 87.7579 - KL_loss: 22.7655 - val_loss: 105.1914 - val_reconstruction_loss: 82.7688 - val_KL_loss: 22.4225 - lr: 5.0000e-04\n",
      "Epoch 929/1000\n"
     ]
    },
    {
     "name": "stdout",
     "output_type": "stream",
     "text": [
      "\r",
      "412416/412416 [==============================] - ETA: 0s - loss: 165.2099 - reconstruction_loss: 87.7766 - KL_loss: 22.8098"
     ]
    },
    {
     "name": "stdout",
     "output_type": "stream",
     "text": [
      "\b\b\b\b\b\b\b\b\b\b\b\b\b\b\b\b\b\b\b\b\b\b\b\b\b\b\b\b\b\b\b\b\b\b\b\b\b\b\b\b\b\b\b\b\b\b\b\b\b\b\b\b\b\b\b\b\b\b\b\b\b\b\b\b\b\b\b\b\b\b\b\b\b\b\b\b\b\b\b\b\b\b\b\b\b\b\b\b\b\b\b\b\b\b\b\b\b\b\b\b\b\b\b\b\b\b\b\b\b\b\b\b\b\b\b\b\b\b\b\b\b\b\b\r",
      "412416/412416 [==============================] - 12s 29us/sample - loss: 165.2099 - reconstruction_loss: 87.7766 - KL_loss: 22.8098 - val_loss: 105.1557 - val_reconstruction_loss: 82.7195 - val_KL_loss: 22.4363 - lr: 5.0000e-04\n",
      "Epoch 930/1000\n"
     ]
    },
    {
     "name": "stdout",
     "output_type": "stream",
     "text": [
      "\r",
      "412416/412416 [==============================] - ETA: 0s - loss: 165.1440 - reconstruction_loss: 87.7184 - KL_loss: 22.8238"
     ]
    },
    {
     "name": "stdout",
     "output_type": "stream",
     "text": [
      "\b\b\b\b\b\b\b\b\b\b\b\b\b\b\b\b\b\b\b\b\b\b\b\b\b\b\b\b\b\b\b\b\b\b\b\b\b\b\b\b\b\b\b\b\b\b\b\b\b\b\b\b\b\b\b\b\b\b\b\b\b\b\b\b\b\b\b\b\b\b\b\b\b\b\b\b\b\b\b\b\b\b\b\b\b\b\b\b\b\b\b\b\b\b\b\b\b\b\b\b\b\b\b\b\b\b\b\b\b\b\b\b\b\b\b\b\b\b\b\b\b\b\b\r",
      "412416/412416 [==============================] - 12s 28us/sample - loss: 165.1440 - reconstruction_loss: 87.7184 - KL_loss: 22.8238 - val_loss: 105.2073 - val_reconstruction_loss: 82.7819 - val_KL_loss: 22.4254 - lr: 5.0000e-04\n",
      "Epoch 931/1000\n"
     ]
    },
    {
     "name": "stdout",
     "output_type": "stream",
     "text": [
      "\r",
      "412416/412416 [==============================] - ETA: 0s - loss: 165.2479 - reconstruction_loss: 87.7736 - KL_loss: 22.8163"
     ]
    },
    {
     "name": "stdout",
     "output_type": "stream",
     "text": [
      "\b\b\b\b\b\b\b\b\b\b\b\b\b\b\b\b\b\b\b\b\b\b\b\b\b\b\b\b\b\b\b\b\b\b\b\b\b\b\b\b\b\b\b\b\b\b\b\b\b\b\b\b\b\b\b\b\b\b\b\b\b\b\b\b\b\b\b\b\b\b\b\b\b\b\b\b\b\b\b\b\b\b\b\b\b\b\b\b\b\b\b\b\b\b\b\b\b\b\b\b\b\b\b\b\b\b\b\b\b\b\b\b\b\b\b\b\b\b\b\b\b\b\b\r",
      "412416/412416 [==============================] - 12s 29us/sample - loss: 165.2479 - reconstruction_loss: 87.7736 - KL_loss: 22.8163 - val_loss: 105.2296 - val_reconstruction_loss: 82.8049 - val_KL_loss: 22.4247 - lr: 5.0000e-04\n",
      "Epoch 932/1000\n"
     ]
    },
    {
     "name": "stdout",
     "output_type": "stream",
     "text": [
      "\r",
      "412416/412416 [==============================] - ETA: 0s - loss: 165.2386 - reconstruction_loss: 87.7721 - KL_loss: 22.8155"
     ]
    },
    {
     "name": "stdout",
     "output_type": "stream",
     "text": [
      "\b\b\b\b\b\b\b\b\b\b\b\b\b\b\b\b\b\b\b\b\b\b\b\b\b\b\b\b\b\b\b\b\b\b\b\b\b\b\b\b\b\b\b\b\b\b\b\b\b\b\b\b\b\b\b\b\b\b\b\b\b\b\b\b\b\b\b\b\b\b\b\b\b\b\b\b\b\b\b\b\b\b\b\b\b\b\b\b\b\b\b\b\b\b\b\b\b\b\b\b\b\b\b\b\b\b\b\b\b\b\b\b\b\b\b\b\b\b\b\b\b\b\b\r",
      "412416/412416 [==============================] - 12s 29us/sample - loss: 165.2386 - reconstruction_loss: 87.7721 - KL_loss: 22.8155 - val_loss: 105.1075 - val_reconstruction_loss: 82.6659 - val_KL_loss: 22.4415 - lr: 5.0000e-04\n",
      "Epoch 933/1000\n"
     ]
    },
    {
     "name": "stdout",
     "output_type": "stream",
     "text": [
      "\r",
      "412416/412416 [==============================] - ETA: 0s - loss: 165.1799 - reconstruction_loss: 87.6938 - KL_loss: 22.8293"
     ]
    },
    {
     "name": "stdout",
     "output_type": "stream",
     "text": [
      "\b\b\b\b\b\b\b\b\b\b\b\b\b\b\b\b\b\b\b\b\b\b\b\b\b\b\b\b\b\b\b\b\b\b\b\b\b\b\b\b\b\b\b\b\b\b\b\b\b\b\b\b\b\b\b\b\b\b\b\b\b\b\b\b\b\b\b\b\b\b\b\b\b\b\b\b\b\b\b\b\b\b\b\b\b\b\b\b\b\b\b\b\b\b\b\b\b\b\b\b\b\b\b\b\b\b\b\b\b\b\b\b\b\b\b\b\b\b\b\b\b\b\b\r",
      "412416/412416 [==============================] - 12s 29us/sample - loss: 165.1799 - reconstruction_loss: 87.6938 - KL_loss: 22.8293 - val_loss: 105.1278 - val_reconstruction_loss: 82.6893 - val_KL_loss: 22.4384 - lr: 5.0000e-04\n",
      "Epoch 934/1000\n"
     ]
    },
    {
     "name": "stdout",
     "output_type": "stream",
     "text": [
      "\r",
      "412416/412416 [==============================] - ETA: 0s - loss: 165.0690 - reconstruction_loss: 87.6709 - KL_loss: 22.8271"
     ]
    },
    {
     "name": "stdout",
     "output_type": "stream",
     "text": [
      "\b\b\b\b\b\b\b\b\b\b\b\b\b\b\b\b\b\b\b\b\b\b\b\b\b\b\b\b\b\b\b\b\b\b\b\b\b\b\b\b\b\b\b\b\b\b\b\b\b\b\b\b\b\b\b\b\b\b\b\b\b\b\b\b\b\b\b\b\b\b\b\b\b\b\b\b\b\b\b\b\b\b\b\b\b\b\b\b\b\b\b\b\b\b\b\b\b\b\b\b\b\b\b\b\b\b\b\b\b\b\b\b\b\b\b\b\b\b\b\b\b\b\b\r",
      "412416/412416 [==============================] - 12s 28us/sample - loss: 165.0690 - reconstruction_loss: 87.6709 - KL_loss: 22.8271 - val_loss: 105.2084 - val_reconstruction_loss: 82.7898 - val_KL_loss: 22.4186 - lr: 5.0000e-04\n",
      "Epoch 935/1000\n"
     ]
    },
    {
     "name": "stdout",
     "output_type": "stream",
     "text": [
      "\r",
      "412416/412416 [==============================] - ETA: 0s - loss: 165.1919 - reconstruction_loss: 87.7542 - KL_loss: 22.8113"
     ]
    },
    {
     "name": "stdout",
     "output_type": "stream",
     "text": [
      "\b\b\b\b\b\b\b\b\b\b\b\b\b\b\b\b\b\b\b\b\b\b\b\b\b\b\b\b\b\b\b\b\b\b\b\b\b\b\b\b\b\b\b\b\b\b\b\b\b\b\b\b\b\b\b\b\b\b\b\b\b\b\b\b\b\b\b\b\b\b\b\b\b\b\b\b\b\b\b\b\b\b\b\b\b\b\b\b\b\b\b\b\b\b\b\b\b\b\b\b\b\b\b\b\b\b\b\b\b\b\b\b\b\b\b\b\b\b\b\b\b\b\b\r",
      "412416/412416 [==============================] - 12s 28us/sample - loss: 165.1919 - reconstruction_loss: 87.7542 - KL_loss: 22.8113 - val_loss: 105.1584 - val_reconstruction_loss: 82.7410 - val_KL_loss: 22.4174 - lr: 5.0000e-04\n",
      "Epoch 936/1000\n"
     ]
    },
    {
     "name": "stdout",
     "output_type": "stream",
     "text": [
      "\r",
      "412416/412416 [==============================] - ETA: 0s - loss: 165.0784 - reconstruction_loss: 87.7013 - KL_loss: 22.8103"
     ]
    },
    {
     "name": "stdout",
     "output_type": "stream",
     "text": [
      "\b\b\b\b\b\b\b\b\b\b\b\b\b\b\b\b\b\b\b\b\b\b\b\b\b\b\b\b\b\b\b\b\b\b\b\b\b\b\b\b\b\b\b\b\b\b\b\b\b\b\b\b\b\b\b\b\b\b\b\b\b\b\b\b\b\b\b\b\b\b\b\b\b\b\b\b\b\b\b\b\b\b\b\b\b\b\b\b\b\b\b\b\b\b\b\b\b\b\b\b\b\b\b\b\b\b\b\b\b\b\b\b\b\b\b\b\b\b\b\b\b\b\b\r",
      "412416/412416 [==============================] - 12s 28us/sample - loss: 165.0784 - reconstruction_loss: 87.7013 - KL_loss: 22.8103 - val_loss: 105.2268 - val_reconstruction_loss: 82.8052 - val_KL_loss: 22.4216 - lr: 5.0000e-04\n",
      "Epoch 937/1000\n"
     ]
    },
    {
     "name": "stdout",
     "output_type": "stream",
     "text": [
      "\r",
      "412416/412416 [==============================] - ETA: 0s - loss: 165.1962 - reconstruction_loss: 87.8030 - KL_loss: 22.8109"
     ]
    },
    {
     "name": "stdout",
     "output_type": "stream",
     "text": [
      "\b\b\b\b\b\b\b\b\b\b\b\b\b\b\b\b\b\b\b\b\b\b\b\b\b\b\b\b\b\b\b\b\b\b\b\b\b\b\b\b\b\b\b\b\b\b\b\b\b\b\b\b\b\b\b\b\b\b\b\b\b\b\b\b\b\b\b\b\b\b\b\b\b\b\b\b\b\b\b\b\b\b\b\b\b\b\b\b\b\b\b\b\b\b\b\b\b\b\b\b\b\b\b\b\b\b\b\b\b\b\b\b\b\b\b\b\b\b\b\b\b\b\b\r",
      "412416/412416 [==============================] - 12s 28us/sample - loss: 165.1962 - reconstruction_loss: 87.8030 - KL_loss: 22.8109 - val_loss: 105.1853 - val_reconstruction_loss: 82.7857 - val_KL_loss: 22.3996 - lr: 5.0000e-04\n",
      "Epoch 938/1000\n"
     ]
    },
    {
     "name": "stdout",
     "output_type": "stream",
     "text": [
      "\r",
      "412416/412416 [==============================] - ETA: 0s - loss: 165.2484 - reconstruction_loss: 87.8007 - KL_loss: 22.7891"
     ]
    },
    {
     "name": "stdout",
     "output_type": "stream",
     "text": [
      "\b\b\b\b\b\b\b\b\b\b\b\b\b\b\b\b\b\b\b\b\b\b\b\b\b\b\b\b\b\b\b\b\b\b\b\b\b\b\b\b\b\b\b\b\b\b\b\b\b\b\b\b\b\b\b\b\b\b\b\b\b\b\b\b\b\b\b\b\b\b\b\b\b\b\b\b\b\b\b\b\b\b\b\b\b\b\b\b\b\b\b\b\b\b\b\b\b\b\b\b\b\b\b\b\b\b\b\b\b\b\b\b\b\b\b\b\b\b\b\b\b\b\b\r",
      "412416/412416 [==============================] - 13s 31us/sample - loss: 165.2484 - reconstruction_loss: 87.8007 - KL_loss: 22.7891 - val_loss: 105.1218 - val_reconstruction_loss: 82.7393 - val_KL_loss: 22.3825 - lr: 5.0000e-04\n",
      "Epoch 939/1000\n"
     ]
    },
    {
     "name": "stdout",
     "output_type": "stream",
     "text": [
      "\r",
      "412416/412416 [==============================] - ETA: 0s - loss: 165.0609 - reconstruction_loss: 87.7335 - KL_loss: 22.7748"
     ]
    },
    {
     "name": "stdout",
     "output_type": "stream",
     "text": [
      "\b\b\b\b\b\b\b\b\b\b\b\b\b\b\b\b\b\b\b\b\b\b\b\b\b\b\b\b\b\b\b\b\b\b\b\b\b\b\b\b\b\b\b\b\b\b\b\b\b\b\b\b\b\b\b\b\b\b\b\b\b\b\b\b\b\b\b\b\b\b\b\b\b\b\b\b\b\b\b\b\b\b\b\b\b\b\b\b\b\b\b\b\b\b\b\b\b\b\b\b\b\b\b\b\b\b\b\b\b\b\b\b\b\b\b\b\b\b\b\b\b\b\b\r",
      "412416/412416 [==============================] - 12s 29us/sample - loss: 165.0609 - reconstruction_loss: 87.7335 - KL_loss: 22.7748 - val_loss: 105.0997 - val_reconstruction_loss: 82.7041 - val_KL_loss: 22.3956 - lr: 5.0000e-04\n",
      "Epoch 940/1000\n"
     ]
    },
    {
     "name": "stdout",
     "output_type": "stream",
     "text": [
      "\r",
      "412416/412416 [==============================] - ETA: 0s - loss: 165.0283 - reconstruction_loss: 87.7038 - KL_loss: 22.7872"
     ]
    },
    {
     "name": "stdout",
     "output_type": "stream",
     "text": [
      "\b\b\b\b\b\b\b\b\b\b\b\b\b\b\b\b\b\b\b\b\b\b\b\b\b\b\b\b\b\b\b\b\b\b\b\b\b\b\b\b\b\b\b\b\b\b\b\b\b\b\b\b\b\b\b\b\b\b\b\b\b\b\b\b\b\b\b\b\b\b\b\b\b\b\b\b\b\b\b\b\b\b\b\b\b\b\b\b\b\b\b\b\b\b\b\b\b\b\b\b\b\b\b\b\b\b\b\b\b\b\b\b\b\b\b\b\b\b\b\b\b\b\b\r",
      "412416/412416 [==============================] - 12s 29us/sample - loss: 165.0283 - reconstruction_loss: 87.7038 - KL_loss: 22.7872 - val_loss: 105.1512 - val_reconstruction_loss: 82.7267 - val_KL_loss: 22.4245 - lr: 5.0000e-04\n",
      "Epoch 941/1000\n"
     ]
    },
    {
     "name": "stdout",
     "output_type": "stream",
     "text": [
      "\r",
      "412416/412416 [==============================] - ETA: 0s - loss: 165.1535 - reconstruction_loss: 87.7569 - KL_loss: 22.8130"
     ]
    },
    {
     "name": "stdout",
     "output_type": "stream",
     "text": [
      "\b\b\b\b\b\b\b\b\b\b\b\b\b\b\b\b\b\b\b\b\b\b\b\b\b\b\b\b\b\b\b\b\b\b\b\b\b\b\b\b\b\b\b\b\b\b\b\b\b\b\b\b\b\b\b\b\b\b\b\b\b\b\b\b\b\b\b\b\b\b\b\b\b\b\b\b\b\b\b\b\b\b\b\b\b\b\b\b\b\b\b\b\b\b\b\b\b\b\b\b\b\b\b\b\b\b\b\b\b\b\b\b\b\b\b\b\b\b\b\b\b\b\b\r",
      "412416/412416 [==============================] - 12s 28us/sample - loss: 165.1535 - reconstruction_loss: 87.7569 - KL_loss: 22.8130 - val_loss: 105.1202 - val_reconstruction_loss: 82.6732 - val_KL_loss: 22.4470 - lr: 5.0000e-04\n",
      "Epoch 942/1000\n"
     ]
    },
    {
     "name": "stdout",
     "output_type": "stream",
     "text": [
      "\r",
      "412416/412416 [==============================] - ETA: 0s - loss: 165.0389 - reconstruction_loss: 87.6760 - KL_loss: 22.8358"
     ]
    },
    {
     "name": "stdout",
     "output_type": "stream",
     "text": [
      "\b\b\b\b\b\b\b\b\b\b\b\b\b\b\b\b\b\b\b\b\b\b\b\b\b\b\b\b\b\b\b\b\b\b\b\b\b\b\b\b\b\b\b\b\b\b\b\b\b\b\b\b\b\b\b\b\b\b\b\b\b\b\b\b\b\b\b\b\b\b\b\b\b\b\b\b\b\b\b\b\b\b\b\b\b\b\b\b\b\b\b\b\b\b\b\b\b\b\b\b\b\b\b\b\b\b\b\b\b\b\b\b\b\b\b\b\b\b\b\b\b\b\b\r",
      "412416/412416 [==============================] - 12s 28us/sample - loss: 165.0389 - reconstruction_loss: 87.6760 - KL_loss: 22.8358 - val_loss: 105.1766 - val_reconstruction_loss: 82.7186 - val_KL_loss: 22.4580 - lr: 5.0000e-04\n",
      "Epoch 943/1000\n"
     ]
    },
    {
     "name": "stdout",
     "output_type": "stream",
     "text": [
      "\r",
      "412416/412416 [==============================] - ETA: 0s - loss: 165.0919 - reconstruction_loss: 87.7242 - KL_loss: 22.8500"
     ]
    },
    {
     "name": "stdout",
     "output_type": "stream",
     "text": [
      "\b\b\b\b\b\b\b\b\b\b\b\b\b\b\b\b\b\b\b\b\b\b\b\b\b\b\b\b\b\b\b\b\b\b\b\b\b\b\b\b\b\b\b\b\b\b\b\b\b\b\b\b\b\b\b\b\b\b\b\b\b\b\b\b\b\b\b\b\b\b\b\b\b\b\b\b\b\b\b\b\b\b\b\b\b\b\b\b\b\b\b\b\b\b\b\b\b\b\b\b\b\b\b\b\b\b\b\b\b\b\b\b\b\b\b\b\b\b\b\b\b\b\b\r",
      "412416/412416 [==============================] - 12s 29us/sample - loss: 165.0919 - reconstruction_loss: 87.7242 - KL_loss: 22.8500 - val_loss: 105.1900 - val_reconstruction_loss: 82.7340 - val_KL_loss: 22.4561 - lr: 5.0000e-04\n",
      "Epoch 944/1000\n"
     ]
    },
    {
     "name": "stdout",
     "output_type": "stream",
     "text": [
      "\r",
      "412416/412416 [==============================] - ETA: 0s - loss: 165.0941 - reconstruction_loss: 87.6931 - KL_loss: 22.8473"
     ]
    },
    {
     "name": "stdout",
     "output_type": "stream",
     "text": [
      "\b\b\b\b\b\b\b\b\b\b\b\b\b\b\b\b\b\b\b\b\b\b\b\b\b\b\b\b\b\b\b\b\b\b\b\b\b\b\b\b\b\b\b\b\b\b\b\b\b\b\b\b\b\b\b\b\b\b\b\b\b\b\b\b\b\b\b\b\b\b\b\b\b\b\b\b\b\b\b\b\b\b\b\b\b\b\b\b\b\b\b\b\b\b\b\b\b\b\b\b\b\b\b\b\b\b\b\b\b\b\b\b\b\b\b\b\b\b\b\b\b\b\b\r",
      "412416/412416 [==============================] - 11s 27us/sample - loss: 165.0941 - reconstruction_loss: 87.6931 - KL_loss: 22.8473 - val_loss: 105.1343 - val_reconstruction_loss: 82.6845 - val_KL_loss: 22.4498 - lr: 5.0000e-04\n",
      "Epoch 945/1000\n"
     ]
    },
    {
     "name": "stdout",
     "output_type": "stream",
     "text": [
      "\r",
      "412416/412416 [==============================] - ETA: 0s - loss: 165.0218 - reconstruction_loss: 87.6589 - KL_loss: 22.8371"
     ]
    },
    {
     "name": "stdout",
     "output_type": "stream",
     "text": [
      "\b\b\b\b\b\b\b\b\b\b\b\b\b\b\b\b\b\b\b\b\b\b\b\b\b\b\b\b\b\b\b\b\b\b\b\b\b\b\b\b\b\b\b\b\b\b\b\b\b\b\b\b\b\b\b\b\b\b\b\b\b\b\b\b\b\b\b\b\b\b\b\b\b\b\b\b\b\b\b\b\b\b\b\b\b\b\b\b\b\b\b\b\b\b\b\b\b\b\b\b\b\b\b\b\b\b\b\b\b\b\b\b\b\b\b\b\b\b\b\b\b\b\b\r",
      "412416/412416 [==============================] - 11s 27us/sample - loss: 165.0218 - reconstruction_loss: 87.6589 - KL_loss: 22.8371 - val_loss: 105.1228 - val_reconstruction_loss: 82.7224 - val_KL_loss: 22.4003 - lr: 5.0000e-04\n",
      "Epoch 946/1000\n"
     ]
    },
    {
     "name": "stdout",
     "output_type": "stream",
     "text": [
      "\r",
      "412416/412416 [==============================] - ETA: 0s - loss: 164.9811 - reconstruction_loss: 87.7109 - KL_loss: 22.7881"
     ]
    },
    {
     "name": "stdout",
     "output_type": "stream",
     "text": [
      "\b\b\b\b\b\b\b\b\b\b\b\b\b\b\b\b\b\b\b\b\b\b\b\b\b\b\b\b\b\b\b\b\b\b\b\b\b\b\b\b\b\b\b\b\b\b\b\b\b\b\b\b\b\b\b\b\b\b\b\b\b\b\b\b\b\b\b\b\b\b\b\b\b\b\b\b\b\b\b\b\b\b\b\b\b\b\b\b\b\b\b\b\b\b\b\b\b\b\b\b\b\b\b\b\b\b\b\b\b\b\b\b\b\b\b\b\b\b\b\b\b\b\b\r",
      "412416/412416 [==============================] - 11s 27us/sample - loss: 164.9811 - reconstruction_loss: 87.7109 - KL_loss: 22.7881 - val_loss: 105.1310 - val_reconstruction_loss: 82.7736 - val_KL_loss: 22.3574 - lr: 5.0000e-04\n",
      "Epoch 947/1000\n"
     ]
    },
    {
     "name": "stdout",
     "output_type": "stream",
     "text": [
      "\r",
      "412416/412416 [==============================] - ETA: 0s - loss: 164.9777 - reconstruction_loss: 87.7779 - KL_loss: 22.7486"
     ]
    },
    {
     "name": "stdout",
     "output_type": "stream",
     "text": [
      "\b\b\b\b\b\b\b\b\b\b\b\b\b\b\b\b\b\b\b\b\b\b\b\b\b\b\b\b\b\b\b\b\b\b\b\b\b\b\b\b\b\b\b\b\b\b\b\b\b\b\b\b\b\b\b\b\b\b\b\b\b\b\b\b\b\b\b\b\b\b\b\b\b\b\b\b\b\b\b\b\b\b\b\b\b\b\b\b\b\b\b\b\b\b\b\b\b\b\b\b\b\b\b\b\b\b\b\b\b\b\b\b\b\b\b\b\b\b\b\b\b\b\b\r",
      "412416/412416 [==============================] - 11s 27us/sample - loss: 164.9777 - reconstruction_loss: 87.7779 - KL_loss: 22.7486 - val_loss: 105.0868 - val_reconstruction_loss: 82.7224 - val_KL_loss: 22.3644 - lr: 5.0000e-04\n",
      "Epoch 948/1000\n"
     ]
    },
    {
     "name": "stdout",
     "output_type": "stream",
     "text": [
      "\r",
      "412416/412416 [==============================] - ETA: 0s - loss: 165.0001 - reconstruction_loss: 87.7316 - KL_loss: 22.7545"
     ]
    },
    {
     "name": "stdout",
     "output_type": "stream",
     "text": [
      "\b\b\b\b\b\b\b\b\b\b\b\b\b\b\b\b\b\b\b\b\b\b\b\b\b\b\b\b\b\b\b\b\b\b\b\b\b\b\b\b\b\b\b\b\b\b\b\b\b\b\b\b\b\b\b\b\b\b\b\b\b\b\b\b\b\b\b\b\b\b\b\b\b\b\b\b\b\b\b\b\b\b\b\b\b\b\b\b\b\b\b\b\b\b\b\b\b\b\b\b\b\b\b\b\b\b\b\b\b\b\b\b\b\b\b\b\b\b\b\b\b\b\b\r",
      "412416/412416 [==============================] - 11s 27us/sample - loss: 165.0001 - reconstruction_loss: 87.7316 - KL_loss: 22.7545 - val_loss: 105.1872 - val_reconstruction_loss: 82.7816 - val_KL_loss: 22.4056 - lr: 5.0000e-04\n",
      "Epoch 949/1000\n"
     ]
    },
    {
     "name": "stdout",
     "output_type": "stream",
     "text": [
      "\r",
      "412416/412416 [==============================] - ETA: 0s - loss: 164.9802 - reconstruction_loss: 87.7634 - KL_loss: 22.7918"
     ]
    },
    {
     "name": "stdout",
     "output_type": "stream",
     "text": [
      "\b\b\b\b\b\b\b\b\b\b\b\b\b\b\b\b\b\b\b\b\b\b\b\b\b\b\b\b\b\b\b\b\b\b\b\b\b\b\b\b\b\b\b\b\b\b\b\b\b\b\b\b\b\b\b\b\b\b\b\b\b\b\b\b\b\b\b\b\b\b\b\b\b\b\b\b\b\b\b\b\b\b\b\b\b\b\b\b\b\b\b\b\b\b\b\b\b\b\b\b\b\b\b\b\b\b\b\b\b\b\b\b\b\b\b\b\b\b\b\b\b\b\b\r",
      "412416/412416 [==============================] - 12s 28us/sample - loss: 164.9802 - reconstruction_loss: 87.7634 - KL_loss: 22.7918 - val_loss: 105.1281 - val_reconstruction_loss: 82.7078 - val_KL_loss: 22.4202 - lr: 5.0000e-04\n",
      "Epoch 950/1000\n"
     ]
    },
    {
     "name": "stdout",
     "output_type": "stream",
     "text": [
      "\r",
      "412416/412416 [==============================] - ETA: 0s - loss: 165.0018 - reconstruction_loss: 87.6977 - KL_loss: 22.8073"
     ]
    },
    {
     "name": "stdout",
     "output_type": "stream",
     "text": [
      "\b\b\b\b\b\b\b\b\b\b\b\b\b\b\b\b\b\b\b\b\b\b\b\b\b\b\b\b\b\b\b\b\b\b\b\b\b\b\b\b\b\b\b\b\b\b\b\b\b\b\b\b\b\b\b\b\b\b\b\b\b\b\b\b\b\b\b\b\b\b\b\b\b\b\b\b\b\b\b\b\b\b\b\b\b\b\b\b\b\b\b\b\b\b\b\b\b\b\b\b\b\b\b\b\b\b\b\b\b\b\b\b\b\b\b\b\b\b\b\b\b\b\b\r",
      "412416/412416 [==============================] - 11s 27us/sample - loss: 165.0018 - reconstruction_loss: 87.6977 - KL_loss: 22.8073 - val_loss: 105.1500 - val_reconstruction_loss: 82.7112 - val_KL_loss: 22.4388 - lr: 5.0000e-04\n",
      "Epoch 951/1000\n"
     ]
    },
    {
     "name": "stdout",
     "output_type": "stream",
     "text": [
      "\r",
      "412416/412416 [==============================] - ETA: 0s - loss: 165.0267 - reconstruction_loss: 87.7122 - KL_loss: 22.8299"
     ]
    },
    {
     "name": "stdout",
     "output_type": "stream",
     "text": [
      "\b\b\b\b\b\b\b\b\b\b\b\b\b\b\b\b\b\b\b\b\b\b\b\b\b\b\b\b\b\b\b\b\b\b\b\b\b\b\b\b\b\b\b\b\b\b\b\b\b\b\b\b\b\b\b\b\b\b\b\b\b\b\b\b\b\b\b\b\b\b\b\b\b\b\b\b\b\b\b\b\b\b\b\b\b\b\b\b\b\b\b\b\b\b\b\b\b\b\b\b\b\b\b\b\b\b\b\b\b\b\b\b\b\b\b\b\b\b\b\b\b\b\b\r",
      "412416/412416 [==============================] - 11s 27us/sample - loss: 165.0267 - reconstruction_loss: 87.7122 - KL_loss: 22.8299 - val_loss: 105.1173 - val_reconstruction_loss: 82.6201 - val_KL_loss: 22.4972 - lr: 5.0000e-04\n",
      "Epoch 952/1000\n"
     ]
    },
    {
     "name": "stdout",
     "output_type": "stream",
     "text": [
      "\r",
      "412416/412416 [==============================] - ETA: 0s - loss: 164.9202 - reconstruction_loss: 87.6165 - KL_loss: 22.8877"
     ]
    },
    {
     "name": "stdout",
     "output_type": "stream",
     "text": [
      "\b\b\b\b\b\b\b\b\b\b\b\b\b\b\b\b\b\b\b\b\b\b\b\b\b\b\b\b\b\b\b\b\b\b\b\b\b\b\b\b\b\b\b\b\b\b\b\b\b\b\b\b\b\b\b\b\b\b\b\b\b\b\b\b\b\b\b\b\b\b\b\b\b\b\b\b\b\b\b\b\b\b\b\b\b\b\b\b\b\b\b\b\b\b\b\b\b\b\b\b\b\b\b\b\b\b\b\b\b\b\b\b\b\b\b\b\b\b\b\b\b\b\b\r",
      "412416/412416 [==============================] - 12s 30us/sample - loss: 164.9202 - reconstruction_loss: 87.6165 - KL_loss: 22.8877 - val_loss: 105.1800 - val_reconstruction_loss: 82.6515 - val_KL_loss: 22.5285 - lr: 5.0000e-04\n",
      "Epoch 953/1000\n"
     ]
    },
    {
     "name": "stdout",
     "output_type": "stream",
     "text": [
      "\r",
      "412416/412416 [==============================] - ETA: 0s - loss: 165.0342 - reconstruction_loss: 87.6405 - KL_loss: 22.9153"
     ]
    },
    {
     "name": "stdout",
     "output_type": "stream",
     "text": [
      "\b\b\b\b\b\b\b\b\b\b\b\b\b\b\b\b\b\b\b\b\b\b\b\b\b\b\b\b\b\b\b\b\b\b\b\b\b\b\b\b\b\b\b\b\b\b\b\b\b\b\b\b\b\b\b\b\b\b\b\b\b\b\b\b\b\b\b\b\b\b\b\b\b\b\b\b\b\b\b\b\b\b\b\b\b\b\b\b\b\b\b\b\b\b\b\b\b\b\b\b\b\b\b\b\b\b\b\b\b\b\b\b\b\b\b\b\b\b\b\b\b\b\b\r",
      "412416/412416 [==============================] - 11s 27us/sample - loss: 165.0342 - reconstruction_loss: 87.6405 - KL_loss: 22.9153 - val_loss: 105.1378 - val_reconstruction_loss: 82.6525 - val_KL_loss: 22.4853 - lr: 5.0000e-04\n",
      "Epoch 954/1000\n"
     ]
    },
    {
     "name": "stdout",
     "output_type": "stream",
     "text": [
      "\r",
      "412416/412416 [==============================] - ETA: 0s - loss: 164.9530 - reconstruction_loss: 87.6503 - KL_loss: 22.8730"
     ]
    },
    {
     "name": "stdout",
     "output_type": "stream",
     "text": [
      "\b\b\b\b\b\b\b\b\b\b\b\b\b\b\b\b\b\b\b\b\b\b\b\b\b\b\b\b\b\b\b\b\b\b\b\b\b\b\b\b\b\b\b\b\b\b\b\b\b\b\b\b\b\b\b\b\b\b\b\b\b\b\b\b\b\b\b\b\b\b\b\b\b\b\b\b\b\b\b\b\b\b\b\b\b\b\b\b\b\b\b\b\b\b\b\b\b\b\b\b\b\b\b\b\b\b\b\b\b\b\b\b\b\b\b\b\b\b\b\b\b\b\b\r",
      "412416/412416 [==============================] - 11s 27us/sample - loss: 164.9530 - reconstruction_loss: 87.6503 - KL_loss: 22.8730 - val_loss: 105.1178 - val_reconstruction_loss: 82.7082 - val_KL_loss: 22.4096 - lr: 5.0000e-04\n",
      "Epoch 955/1000\n"
     ]
    },
    {
     "name": "stdout",
     "output_type": "stream",
     "text": [
      "\r",
      "412416/412416 [==============================] - ETA: 0s - loss: 164.8845 - reconstruction_loss: 87.6904 - KL_loss: 22.8012"
     ]
    },
    {
     "name": "stdout",
     "output_type": "stream",
     "text": [
      "\b\b\b\b\b\b\b\b\b\b\b\b\b\b\b\b\b\b\b\b\b\b\b\b\b\b\b\b\b\b\b\b\b\b\b\b\b\b\b\b\b\b\b\b\b\b\b\b\b\b\b\b\b\b\b\b\b\b\b\b\b\b\b\b\b\b\b\b\b\b\b\b\b\b\b\b\b\b\b\b\b\b\b\b\b\b\b\b\b\b\b\b\b\b\b\b\b\b\b\b\b\b\b\b\b\b\b\b\b\b\b\b\b\b\b\b\b\b\b\b\b\b\b\r",
      "412416/412416 [==============================] - 11s 27us/sample - loss: 164.8845 - reconstruction_loss: 87.6904 - KL_loss: 22.8012 - val_loss: 105.0869 - val_reconstruction_loss: 82.6964 - val_KL_loss: 22.3905 - lr: 5.0000e-04\n",
      "Epoch 956/1000\n"
     ]
    },
    {
     "name": "stdout",
     "output_type": "stream",
     "text": [
      "\r",
      "412416/412416 [==============================] - ETA: 0s - loss: 164.9031 - reconstruction_loss: 87.6996 - KL_loss: 22.7812"
     ]
    },
    {
     "name": "stdout",
     "output_type": "stream",
     "text": [
      "\b\b\b\b\b\b\b\b\b\b\b\b\b\b\b\b\b\b\b\b\b\b\b\b\b\b\b\b\b\b\b\b\b\b\b\b\b\b\b\b\b\b\b\b\b\b\b\b\b\b\b\b\b\b\b\b\b\b\b\b\b\b\b\b\b\b\b\b\b\b\b\b\b\b\b\b\b\b\b\b\b\b\b\b\b\b\b\b\b\b\b\b\b\b\b\b\b\b\b\b\b\b\b\b\b\b\b\b\b\b\b\b\b\b\b\b\b\b\b\b\b\b\b\r",
      "412416/412416 [==============================] - 11s 27us/sample - loss: 164.9031 - reconstruction_loss: 87.6996 - KL_loss: 22.7812 - val_loss: 105.1102 - val_reconstruction_loss: 82.7028 - val_KL_loss: 22.4074 - lr: 5.0000e-04\n",
      "Epoch 957/1000\n"
     ]
    },
    {
     "name": "stdout",
     "output_type": "stream",
     "text": [
      "\r",
      "412416/412416 [==============================] - ETA: 0s - loss: 164.8296 - reconstruction_loss: 87.7124 - KL_loss: 22.7945"
     ]
    },
    {
     "name": "stdout",
     "output_type": "stream",
     "text": [
      "\b\b\b\b\b\b\b\b\b\b\b\b\b\b\b\b\b\b\b\b\b\b\b\b\b\b\b\b\b\b\b\b\b\b\b\b\b\b\b\b\b\b\b\b\b\b\b\b\b\b\b\b\b\b\b\b\b\b\b\b\b\b\b\b\b\b\b\b\b\b\b\b\b\b\b\b\b\b\b\b\b\b\b\b\b\b\b\b\b\b\b\b\b\b\b\b\b\b\b\b\b\b\b\b\b\b\b\b\b\b\b\b\b\b\b\b\b\b\b\b\b\b\b\r",
      "412416/412416 [==============================] - 11s 28us/sample - loss: 164.8296 - reconstruction_loss: 87.7124 - KL_loss: 22.7945 - val_loss: 105.0878 - val_reconstruction_loss: 82.7215 - val_KL_loss: 22.3664 - lr: 5.0000e-04\n",
      "Epoch 958/1000\n"
     ]
    },
    {
     "name": "stdout",
     "output_type": "stream",
     "text": [
      "\r",
      "412416/412416 [==============================] - ETA: 0s - loss: 164.8563 - reconstruction_loss: 87.7242 - KL_loss: 22.7546"
     ]
    },
    {
     "name": "stdout",
     "output_type": "stream",
     "text": [
      "\b\b\b\b\b\b\b\b\b\b\b\b\b\b\b\b\b\b\b\b\b\b\b\b\b\b\b\b\b\b\b\b\b\b\b\b\b\b\b\b\b\b\b\b\b\b\b\b\b\b\b\b\b\b\b\b\b\b\b\b\b\b\b\b\b\b\b\b\b\b\b\b\b\b\b\b\b\b\b\b\b\b\b\b\b\b\b\b\b\b\b\b\b\b\b\b\b\b\b\b\b\b\b\b\b\b\b\b\b\b\b\b\b\b\b\b\b\b\b\b\b\b\b\r",
      "412416/412416 [==============================] - 11s 27us/sample - loss: 164.8563 - reconstruction_loss: 87.7242 - KL_loss: 22.7546 - val_loss: 105.1700 - val_reconstruction_loss: 82.8275 - val_KL_loss: 22.3425 - lr: 5.0000e-04\n",
      "Epoch 959/1000\n"
     ]
    },
    {
     "name": "stdout",
     "output_type": "stream",
     "text": [
      "\r",
      "412416/412416 [==============================] - ETA: 0s - loss: 164.9218 - reconstruction_loss: 87.7943 - KL_loss: 22.7345"
     ]
    },
    {
     "name": "stdout",
     "output_type": "stream",
     "text": [
      "\b\b\b\b\b\b\b\b\b\b\b\b\b\b\b\b\b\b\b\b\b\b\b\b\b\b\b\b\b\b\b\b\b\b\b\b\b\b\b\b\b\b\b\b\b\b\b\b\b\b\b\b\b\b\b\b\b\b\b\b\b\b\b\b\b\b\b\b\b\b\b\b\b\b\b\b\b\b\b\b\b\b\b\b\b\b\b\b\b\b\b\b\b\b\b\b\b\b\b\b\b\b\b\b\b\b\b\b\b\b\b\b\b\b\b\b\b\b\b\b\b\b\b\r",
      "412416/412416 [==============================] - 11s 27us/sample - loss: 164.9218 - reconstruction_loss: 87.7943 - KL_loss: 22.7345 - val_loss: 105.1412 - val_reconstruction_loss: 82.7513 - val_KL_loss: 22.3899 - lr: 5.0000e-04\n",
      "Epoch 960/1000\n"
     ]
    },
    {
     "name": "stdout",
     "output_type": "stream",
     "text": [
      "\r",
      "412416/412416 [==============================] - ETA: 0s - loss: 164.9123 - reconstruction_loss: 87.7516 - KL_loss: 22.7807"
     ]
    },
    {
     "name": "stdout",
     "output_type": "stream",
     "text": [
      "\b\b\b\b\b\b\b\b\b\b\b\b\b\b\b\b\b\b\b\b\b\b\b\b\b\b\b\b\b\b\b\b\b\b\b\b\b\b\b\b\b\b\b\b\b\b\b\b\b\b\b\b\b\b\b\b\b\b\b\b\b\b\b\b\b\b\b\b\b\b\b\b\b\b\b\b\b\b\b\b\b\b\b\b\b\b\b\b\b\b\b\b\b\b\b\b\b\b\b\b\b\b\b\b\b\b\b\b\b\b\b\b\b\b\b\b\b\b\b\b\b\b\b\r",
      "412416/412416 [==============================] - 12s 28us/sample - loss: 164.9123 - reconstruction_loss: 87.7516 - KL_loss: 22.7807 - val_loss: 105.0769 - val_reconstruction_loss: 82.6133 - val_KL_loss: 22.4637 - lr: 5.0000e-04\n",
      "Epoch 961/1000\n"
     ]
    },
    {
     "name": "stdout",
     "output_type": "stream",
     "text": [
      "\r",
      "412416/412416 [==============================] - ETA: 0s - loss: 164.8443 - reconstruction_loss: 87.6280 - KL_loss: 22.8500"
     ]
    },
    {
     "name": "stdout",
     "output_type": "stream",
     "text": [
      "\b\b\b\b\b\b\b\b\b\b\b\b\b\b\b\b\b\b\b\b\b\b\b\b\b\b\b\b\b\b\b\b\b\b\b\b\b\b\b\b\b\b\b\b\b\b\b\b\b\b\b\b\b\b\b\b\b\b\b\b\b\b\b\b\b\b\b\b\b\b\b\b\b\b\b\b\b\b\b\b\b\b\b\b\b\b\b\b\b\b\b\b\b\b\b\b\b\b\b\b\b\b\b\b\b\b\b\b\b\b\b\b\b\b\b\b\b\b\b\b\b\b\b\r",
      "412416/412416 [==============================] - 12s 29us/sample - loss: 164.8443 - reconstruction_loss: 87.6280 - KL_loss: 22.8500 - val_loss: 105.1161 - val_reconstruction_loss: 82.6419 - val_KL_loss: 22.4742 - lr: 5.0000e-04\n",
      "Epoch 962/1000\n"
     ]
    },
    {
     "name": "stdout",
     "output_type": "stream",
     "text": [
      "\r",
      "412416/412416 [==============================] - ETA: 0s - loss: 164.8520 - reconstruction_loss: 87.6219 - KL_loss: 22.8609"
     ]
    },
    {
     "name": "stdout",
     "output_type": "stream",
     "text": [
      "\b\b\b\b\b\b\b\b\b\b\b\b\b\b\b\b\b\b\b\b\b\b\b\b\b\b\b\b\b\b\b\b\b\b\b\b\b\b\b\b\b\b\b\b\b\b\b\b\b\b\b\b\b\b\b\b\b\b\b\b\b\b\b\b\b\b\b\b\b\b\b\b\b\b\b\b\b\b\b\b\b\b\b\b\b\b\b\b\b\b\b\b\b\b\b\b\b\b\b\b\b\b\b\b\b\b\b\b\b\b\b\b\b\b\b\b\b\b\b\b\b\b\b\r",
      "412416/412416 [==============================] - 13s 32us/sample - loss: 164.8520 - reconstruction_loss: 87.6219 - KL_loss: 22.8609 - val_loss: 105.1236 - val_reconstruction_loss: 82.6792 - val_KL_loss: 22.4444 - lr: 5.0000e-04\n",
      "Epoch 963/1000\n"
     ]
    },
    {
     "name": "stdout",
     "output_type": "stream",
     "text": [
      "\r",
      "412416/412416 [==============================] - ETA: 0s - loss: 164.8452 - reconstruction_loss: 87.6506 - KL_loss: 22.8349"
     ]
    },
    {
     "name": "stdout",
     "output_type": "stream",
     "text": [
      "\b\b\b\b\b\b\b\b\b\b\b\b\b\b\b\b\b\b\b\b\b\b\b\b\b\b\b\b\b\b\b\b\b\b\b\b\b\b\b\b\b\b\b\b\b\b\b\b\b\b\b\b\b\b\b\b\b\b\b\b\b\b\b\b\b\b\b\b\b\b\b\b\b\b\b\b\b\b\b\b\b\b\b\b\b\b\b\b\b\b\b\b\b\b\b\b\b\b\b\b\b\b\b\b\b\b\b\b\b\b\b\b\b\b\b\b\b\b\b\b\b\b\b\r",
      "412416/412416 [==============================] - 12s 29us/sample - loss: 164.8452 - reconstruction_loss: 87.6506 - KL_loss: 22.8349 - val_loss: 105.0490 - val_reconstruction_loss: 82.6056 - val_KL_loss: 22.4433 - lr: 5.0000e-04\n",
      "Epoch 964/1000\n"
     ]
    },
    {
     "name": "stdout",
     "output_type": "stream",
     "text": [
      "\r",
      "412416/412416 [==============================] - ETA: 0s - loss: 164.8030 - reconstruction_loss: 87.6219 - KL_loss: 22.8335"
     ]
    },
    {
     "name": "stdout",
     "output_type": "stream",
     "text": [
      "\b\b\b\b\b\b\b\b\b\b\b\b\b\b\b\b\b\b\b\b\b\b\b\b\b\b\b\b\b\b\b\b\b\b\b\b\b\b\b\b\b\b\b\b\b\b\b\b\b\b\b\b\b\b\b\b\b\b\b\b\b\b\b\b\b\b\b\b\b\b\b\b\b\b\b\b\b\b\b\b\b\b\b\b\b\b\b\b\b\b\b\b\b\b\b\b\b\b\b\b\b\b\b\b\b\b\b\b\b\b\b\b\b\b\b\b\b\b\b\b\b\b\b\r",
      "412416/412416 [==============================] - 12s 29us/sample - loss: 164.8030 - reconstruction_loss: 87.6219 - KL_loss: 22.8335 - val_loss: 105.1264 - val_reconstruction_loss: 82.6515 - val_KL_loss: 22.4748 - lr: 5.0000e-04\n",
      "Epoch 965/1000\n"
     ]
    },
    {
     "name": "stdout",
     "output_type": "stream",
     "text": [
      "\r",
      "412416/412416 [==============================] - ETA: 0s - loss: 164.9165 - reconstruction_loss: 87.6730 - KL_loss: 22.8613"
     ]
    },
    {
     "name": "stdout",
     "output_type": "stream",
     "text": [
      "\b\b\b\b\b\b\b\b\b\b\b\b\b\b\b\b\b\b\b\b\b\b\b\b\b\b\b\b\b\b\b\b\b\b\b\b\b\b\b\b\b\b\b\b\b\b\b\b\b\b\b\b\b\b\b\b\b\b\b\b\b\b\b\b\b\b\b\b\b\b\b\b\b\b\b\b\b\b\b\b\b\b\b\b\b\b\b\b\b\b\b\b\b\b\b\b\b\b\b\b\b\b\b\b\b\b\b\b\b\b\b\b\b\b\b\b\b\b\b\b\b\b\b\r",
      "412416/412416 [==============================] - 12s 29us/sample - loss: 164.9165 - reconstruction_loss: 87.6730 - KL_loss: 22.8613 - val_loss: 105.1016 - val_reconstruction_loss: 82.6310 - val_KL_loss: 22.4707 - lr: 5.0000e-04\n",
      "Epoch 966/1000\n"
     ]
    },
    {
     "name": "stdout",
     "output_type": "stream",
     "text": [
      "\r",
      "412416/412416 [==============================] - ETA: 0s - loss: 164.8456 - reconstruction_loss: 87.6430 - KL_loss: 22.8578"
     ]
    },
    {
     "name": "stdout",
     "output_type": "stream",
     "text": [
      "\b\b\b\b\b\b\b\b\b\b\b\b\b\b\b\b\b\b\b\b\b\b\b\b\b\b\b\b\b\b\b\b\b\b\b\b\b\b\b\b\b\b\b\b\b\b\b\b\b\b\b\b\b\b\b\b\b\b\b\b\b\b\b\b\b\b\b\b\b\b\b\b\b\b\b\b\b\b\b\b\b\b\b\b\b\b\b\b\b\b\b\b\b\b\b\b\b\b\b\b\b\b\b\b\b\b\b\b\b\b\b\b\b\b\b\b\b\b\b\b\b\b\b\r",
      "412416/412416 [==============================] - 12s 28us/sample - loss: 164.8456 - reconstruction_loss: 87.6430 - KL_loss: 22.8578 - val_loss: 105.1001 - val_reconstruction_loss: 82.6714 - val_KL_loss: 22.4287 - lr: 5.0000e-04\n",
      "Epoch 967/1000\n"
     ]
    },
    {
     "name": "stdout",
     "output_type": "stream",
     "text": [
      "\r",
      "412416/412416 [==============================] - ETA: 0s - loss: 164.7786 - reconstruction_loss: 87.6412 - KL_loss: 22.8198"
     ]
    },
    {
     "name": "stdout",
     "output_type": "stream",
     "text": [
      "\b\b\b\b\b\b\b\b\b\b\b\b\b\b\b\b\b\b\b\b\b\b\b\b\b\b\b\b\b\b\b\b\b\b\b\b\b\b\b\b\b\b\b\b\b\b\b\b\b\b\b\b\b\b\b\b\b\b\b\b\b\b\b\b\b\b\b\b\b\b\b\b\b\b\b\b\b\b\b\b\b\b\b\b\b\b\b\b\b\b\b\b\b\b\b\b\b\b\b\b\b\b\b\b\b\b\b\b\b\b\b\b\b\b\b\b\b\b\b\b\b\b\b\r",
      "412416/412416 [==============================] - 12s 28us/sample - loss: 164.7786 - reconstruction_loss: 87.6412 - KL_loss: 22.8198 - val_loss: 105.0853 - val_reconstruction_loss: 82.6500 - val_KL_loss: 22.4353 - lr: 5.0000e-04\n",
      "Epoch 968/1000\n"
     ]
    },
    {
     "name": "stdout",
     "output_type": "stream",
     "text": [
      "\r",
      "412416/412416 [==============================] - ETA: 0s - loss: 164.7859 - reconstruction_loss: 87.6223 - KL_loss: 22.8257"
     ]
    },
    {
     "name": "stdout",
     "output_type": "stream",
     "text": [
      "\b\b\b\b\b\b\b\b\b\b\b\b\b\b\b\b\b\b\b\b\b\b\b\b\b\b\b\b\b\b\b\b\b\b\b\b\b\b\b\b\b\b\b\b\b\b\b\b\b\b\b\b\b\b\b\b\b\b\b\b\b\b\b\b\b\b\b\b\b\b\b\b\b\b\b\b\b\b\b\b\b\b\b\b\b\b\b\b\b\b\b\b\b\b\b\b\b\b\b\b\b\b\b\b\b\b\b\b\b\b\b\b\b\b\b\b\b\b\b\b\b\b\b\r",
      "412416/412416 [==============================] - 12s 28us/sample - loss: 164.7859 - reconstruction_loss: 87.6223 - KL_loss: 22.8257 - val_loss: 105.1110 - val_reconstruction_loss: 82.6253 - val_KL_loss: 22.4857 - lr: 5.0000e-04\n",
      "Epoch 969/1000\n"
     ]
    },
    {
     "name": "stdout",
     "output_type": "stream",
     "text": [
      "\r",
      "412416/412416 [==============================] - ETA: 0s - loss: 164.7547 - reconstruction_loss: 87.6116 - KL_loss: 22.8722"
     ]
    },
    {
     "name": "stdout",
     "output_type": "stream",
     "text": [
      "\b\b\b\b\b\b\b\b\b\b\b\b\b\b\b\b\b\b\b\b\b\b\b\b\b\b\b\b\b\b\b\b\b\b\b\b\b\b\b\b\b\b\b\b\b\b\b\b\b\b\b\b\b\b\b\b\b\b\b\b\b\b\b\b\b\b\b\b\b\b\b\b\b\b\b\b\b\b\b\b\b\b\b\b\b\b\b\b\b\b\b\b\b\b\b\b\b\b\b\b\b\b\b\b\b\b\b\b\b\b\b\b\b\b\b\b\b\b\b\b\b\b\b\r",
      "412416/412416 [==============================] - 12s 29us/sample - loss: 164.7547 - reconstruction_loss: 87.6116 - KL_loss: 22.8722 - val_loss: 105.0751 - val_reconstruction_loss: 82.6094 - val_KL_loss: 22.4657 - lr: 5.0000e-04\n",
      "Epoch 970/1000\n"
     ]
    },
    {
     "name": "stdout",
     "output_type": "stream",
     "text": [
      "\r",
      "412416/412416 [==============================] - ETA: 0s - loss: 164.7430 - reconstruction_loss: 87.5999 - KL_loss: 22.8528"
     ]
    },
    {
     "name": "stdout",
     "output_type": "stream",
     "text": [
      "\b\b\b\b\b\b\b\b\b\b\b\b\b\b\b\b\b\b\b\b\b\b\b\b\b\b\b\b\b\b\b\b\b\b\b\b\b\b\b\b\b\b\b\b\b\b\b\b\b\b\b\b\b\b\b\b\b\b\b\b\b\b\b\b\b\b\b\b\b\b\b\b\b\b\b\b\b\b\b\b\b\b\b\b\b\b\b\b\b\b\b\b\b\b\b\b\b\b\b\b\b\b\b\b\b\b\b\b\b\b\b\b\b\b\b\b\b\b\b\b\b\b\b\r",
      "412416/412416 [==============================] - 12s 28us/sample - loss: 164.7430 - reconstruction_loss: 87.5999 - KL_loss: 22.8528 - val_loss: 105.1140 - val_reconstruction_loss: 82.7169 - val_KL_loss: 22.3971 - lr: 5.0000e-04\n",
      "Epoch 971/1000\n"
     ]
    },
    {
     "name": "stdout",
     "output_type": "stream",
     "text": [
      "\r",
      "412416/412416 [==============================] - ETA: 0s - loss: 164.7419 - reconstruction_loss: 87.7018 - KL_loss: 22.7886"
     ]
    },
    {
     "name": "stdout",
     "output_type": "stream",
     "text": [
      "\b\b\b\b\b\b\b\b\b\b\b\b\b\b\b\b\b\b\b\b\b\b\b\b\b\b\b\b\b\b\b\b\b\b\b\b\b\b\b\b\b\b\b\b\b\b\b\b\b\b\b\b\b\b\b\b\b\b\b\b\b\b\b\b\b\b\b\b\b\b\b\b\b\b\b\b\b\b\b\b\b\b\b\b\b\b\b\b\b\b\b\b\b\b\b\b\b\b\b\b\b\b\b\b\b\b\b\b\b\b\b\b\b\b\b\b\b\b\b\b\b\b\b\r",
      "412416/412416 [==============================] - 12s 28us/sample - loss: 164.7419 - reconstruction_loss: 87.7018 - KL_loss: 22.7886 - val_loss: 105.0514 - val_reconstruction_loss: 82.6578 - val_KL_loss: 22.3937 - lr: 5.0000e-04\n",
      "Epoch 972/1000\n"
     ]
    },
    {
     "name": "stdout",
     "output_type": "stream",
     "text": [
      "\r",
      "412416/412416 [==============================] - ETA: 0s - loss: 164.7517 - reconstruction_loss: 87.6755 - KL_loss: 22.7847"
     ]
    },
    {
     "name": "stdout",
     "output_type": "stream",
     "text": [
      "\b\b\b\b\b\b\b\b\b\b\b\b\b\b\b\b\b\b\b\b\b\b\b\b\b\b\b\b\b\b\b\b\b\b\b\b\b\b\b\b\b\b\b\b\b\b\b\b\b\b\b\b\b\b\b\b\b\b\b\b\b\b\b\b\b\b\b\b\b\b\b\b\b\b\b\b\b\b\b\b\b\b\b\b\b\b\b\b\b\b\b\b\b\b\b\b\b\b\b\b\b\b\b\b\b\b\b\b\b\b\b\b\b\b\b\b\b\b\b\b\b\b\b\r",
      "412416/412416 [==============================] - 20s 47us/sample - loss: 164.7517 - reconstruction_loss: 87.6755 - KL_loss: 22.7847 - val_loss: 105.1158 - val_reconstruction_loss: 82.6558 - val_KL_loss: 22.4600 - lr: 5.0000e-04\n",
      "Epoch 973/1000\n"
     ]
    },
    {
     "name": "stdout",
     "output_type": "stream",
     "text": [
      "\r",
      "412416/412416 [==============================] - ETA: 0s - loss: 164.8107 - reconstruction_loss: 87.6559 - KL_loss: 22.8465"
     ]
    },
    {
     "name": "stdout",
     "output_type": "stream",
     "text": [
      "\b\b\b\b\b\b\b\b\b\b\b\b\b\b\b\b\b\b\b\b\b\b\b\b\b\b\b\b\b\b\b\b\b\b\b\b\b\b\b\b\b\b\b\b\b\b\b\b\b\b\b\b\b\b\b\b\b\b\b\b\b\b\b\b\b\b\b\b\b\b\b\b\b\b\b\b\b\b\b\b\b\b\b\b\b\b\b\b\b\b\b\b\b\b\b\b\b\b\b\b\b\b\b\b\b\b\b\b\b\b\b\b\b\b\b\b\b\b\b\b\b\b\b\r",
      "412416/412416 [==============================] - 12s 29us/sample - loss: 164.8107 - reconstruction_loss: 87.6559 - KL_loss: 22.8465 - val_loss: 105.0695 - val_reconstruction_loss: 82.5697 - val_KL_loss: 22.4999 - lr: 5.0000e-04\n",
      "Epoch 974/1000\n"
     ]
    },
    {
     "name": "stdout",
     "output_type": "stream",
     "text": [
      "\r",
      "412416/412416 [==============================] - ETA: 0s - loss: 164.7752 - reconstruction_loss: 87.5648 - KL_loss: 22.8865"
     ]
    },
    {
     "name": "stdout",
     "output_type": "stream",
     "text": [
      "\b\b\b\b\b\b\b\b\b\b\b\b\b\b\b\b\b\b\b\b\b\b\b\b\b\b\b\b\b\b\b\b\b\b\b\b\b\b\b\b\b\b\b\b\b\b\b\b\b\b\b\b\b\b\b\b\b\b\b\b\b\b\b\b\b\b\b\b\b\b\b\b\b\b\b\b\b\b\b\b\b\b\b\b\b\b\b\b\b\b\b\b\b\b\b\b\b\b\b\b\b\b\b\b\b\b\b\b\b\b\b\b\b\b\b\b\b\b\b\b\b\b\b\r",
      "412416/412416 [==============================] - 12s 29us/sample - loss: 164.7752 - reconstruction_loss: 87.5648 - KL_loss: 22.8865 - val_loss: 105.0966 - val_reconstruction_loss: 82.6313 - val_KL_loss: 22.4653 - lr: 5.0000e-04\n",
      "Epoch 975/1000\n"
     ]
    },
    {
     "name": "stdout",
     "output_type": "stream",
     "text": [
      "\r",
      "412416/412416 [==============================] - ETA: 0s - loss: 164.6919 - reconstruction_loss: 87.6299 - KL_loss: 22.8564"
     ]
    },
    {
     "name": "stdout",
     "output_type": "stream",
     "text": [
      "\b\b\b\b\b\b\b\b\b\b\b\b\b\b\b\b\b\b\b\b\b\b\b\b\b\b\b\b\b\b\b\b\b\b\b\b\b\b\b\b\b\b\b\b\b\b\b\b\b\b\b\b\b\b\b\b\b\b\b\b\b\b\b\b\b\b\b\b\b\b\b\b\b\b\b\b\b\b\b\b\b\b\b\b\b\b\b\b\b\b\b\b\b\b\b\b\b\b\b\b\b\b\b\b\b\b\b\b\b\b\b\b\b\b\b\b\b\b\b\b\b\b\b\r",
      "412416/412416 [==============================] - 12s 29us/sample - loss: 164.6919 - reconstruction_loss: 87.6299 - KL_loss: 22.8564 - val_loss: 105.0864 - val_reconstruction_loss: 82.6464 - val_KL_loss: 22.4400 - lr: 5.0000e-04\n",
      "Epoch 976/1000\n"
     ]
    },
    {
     "name": "stdout",
     "output_type": "stream",
     "text": [
      "\r",
      "412416/412416 [==============================] - ETA: 0s - loss: 164.6149 - reconstruction_loss: 87.6183 - KL_loss: 22.8308"
     ]
    },
    {
     "name": "stdout",
     "output_type": "stream",
     "text": [
      "\b\b\b\b\b\b\b\b\b\b\b\b\b\b\b\b\b\b\b\b\b\b\b\b\b\b\b\b\b\b\b\b\b\b\b\b\b\b\b\b\b\b\b\b\b\b\b\b\b\b\b\b\b\b\b\b\b\b\b\b\b\b\b\b\b\b\b\b\b\b\b\b\b\b\b\b\b\b\b\b\b\b\b\b\b\b\b\b\b\b\b\b\b\b\b\b\b\b\b\b\b\b\b\b\b\b\b\b\b\b\b\b\b\b\b\b\b\b\b\b\b\b\b\r",
      "412416/412416 [==============================] - 13s 30us/sample - loss: 164.6149 - reconstruction_loss: 87.6183 - KL_loss: 22.8308 - val_loss: 105.0947 - val_reconstruction_loss: 82.6327 - val_KL_loss: 22.4620 - lr: 5.0000e-04\n",
      "Epoch 977/1000\n"
     ]
    },
    {
     "name": "stdout",
     "output_type": "stream",
     "text": [
      "\r",
      "412416/412416 [==============================] - ETA: 0s - loss: 164.7648 - reconstruction_loss: 87.6230 - KL_loss: 22.8487"
     ]
    },
    {
     "name": "stdout",
     "output_type": "stream",
     "text": [
      "\b\b\b\b\b\b\b\b\b\b\b\b\b\b\b\b\b\b\b\b\b\b\b\b\b\b\b\b\b\b\b\b\b\b\b\b\b\b\b\b\b\b\b\b\b\b\b\b\b\b\b\b\b\b\b\b\b\b\b\b\b\b\b\b\b\b\b\b\b\b\b\b\b\b\b\b\b\b\b\b\b\b\b\b\b\b\b\b\b\b\b\b\b\b\b\b\b\b\b\b\b\b\b\b\b\b\b\b\b\b\b\b\b\b\b\b\b\b\b\b\b\b\b\r",
      "412416/412416 [==============================] - 15s 36us/sample - loss: 164.7648 - reconstruction_loss: 87.6230 - KL_loss: 22.8487 - val_loss: 105.0656 - val_reconstruction_loss: 82.5925 - val_KL_loss: 22.4731 - lr: 5.0000e-04\n",
      "Epoch 978/1000\n"
     ]
    },
    {
     "name": "stdout",
     "output_type": "stream",
     "text": [
      "\r",
      "412416/412416 [==============================] - ETA: 0s - loss: 164.7006 - reconstruction_loss: 87.5951 - KL_loss: 22.8594"
     ]
    },
    {
     "name": "stdout",
     "output_type": "stream",
     "text": [
      "\b\b\b\b\b\b\b\b\b\b\b\b\b\b\b\b\b\b\b\b\b\b\b\b\b\b\b\b\b\b\b\b\b\b\b\b\b\b\b\b\b\b\b\b\b\b\b\b\b\b\b\b\b\b\b\b\b\b\b\b\b\b\b\b\b\b\b\b\b\b\b\b\b\b\b\b\b\b\b\b\b\b\b\b\b\b\b\b\b\b\b\b\b\b\b\b\b\b\b\b\b\b\b\b\b\b\b\b\b\b\b\b\b\b\b\b\b\b\b\b\b\b\b\r",
      "412416/412416 [==============================] - 12s 29us/sample - loss: 164.7006 - reconstruction_loss: 87.5951 - KL_loss: 22.8594 - val_loss: 105.0646 - val_reconstruction_loss: 82.6220 - val_KL_loss: 22.4426 - lr: 5.0000e-04\n",
      "Epoch 979/1000\n"
     ]
    },
    {
     "name": "stdout",
     "output_type": "stream",
     "text": [
      "\r",
      "412416/412416 [==============================] - ETA: 0s - loss: 164.7152 - reconstruction_loss: 87.6182 - KL_loss: 22.8325"
     ]
    },
    {
     "name": "stdout",
     "output_type": "stream",
     "text": [
      "\b\b\b\b\b\b\b\b\b\b\b\b\b\b\b\b\b\b\b\b\b\b\b\b\b\b\b\b\b\b\b\b\b\b\b\b\b\b\b\b\b\b\b\b\b\b\b\b\b\b\b\b\b\b\b\b\b\b\b\b\b\b\b\b\b\b\b\b\b\b\b\b\b\b\b\b\b\b\b\b\b\b\b\b\b\b\b\b\b\b\b\b\b\b\b\b\b\b\b\b\b\b\b\b\b\b\b\b\b\b\b\b\b\b\b\b\b\b\b\b\b\b\b\r",
      "412416/412416 [==============================] - 12s 29us/sample - loss: 164.7152 - reconstruction_loss: 87.6182 - KL_loss: 22.8325 - val_loss: 105.0309 - val_reconstruction_loss: 82.6011 - val_KL_loss: 22.4298 - lr: 5.0000e-04\n",
      "Epoch 980/1000\n"
     ]
    },
    {
     "name": "stdout",
     "output_type": "stream",
     "text": [
      "\r",
      "412416/412416 [==============================] - ETA: 0s - loss: 164.7162 - reconstruction_loss: 87.6180 - KL_loss: 22.8190"
     ]
    },
    {
     "name": "stdout",
     "output_type": "stream",
     "text": [
      "\b\b\b\b\b\b\b\b\b\b\b\b\b\b\b\b\b\b\b\b\b\b\b\b\b\b\b\b\b\b\b\b\b\b\b\b\b\b\b\b\b\b\b\b\b\b\b\b\b\b\b\b\b\b\b\b\b\b\b\b\b\b\b\b\b\b\b\b\b\b\b\b\b\b\b\b\b\b\b\b\b\b\b\b\b\b\b\b\b\b\b\b\b\b\b\b\b\b\b\b\b\b\b\b\b\b\b\b\b\b\b\b\b\b\b\b\b\b\b\b\b\b\b\r",
      "412416/412416 [==============================] - 12s 29us/sample - loss: 164.7162 - reconstruction_loss: 87.6180 - KL_loss: 22.8190 - val_loss: 105.0826 - val_reconstruction_loss: 82.6074 - val_KL_loss: 22.4752 - lr: 5.0000e-04\n",
      "Epoch 981/1000\n"
     ]
    },
    {
     "name": "stdout",
     "output_type": "stream",
     "text": [
      "\r",
      "412416/412416 [==============================] - ETA: 0s - loss: 164.6823 - reconstruction_loss: 87.6177 - KL_loss: 22.8607"
     ]
    },
    {
     "name": "stdout",
     "output_type": "stream",
     "text": [
      "\b\b\b\b\b\b\b\b\b\b\b\b\b\b\b\b\b\b\b\b\b\b\b\b\b\b\b\b\b\b\b\b\b\b\b\b\b\b\b\b\b\b\b\b\b\b\b\b\b\b\b\b\b\b\b\b\b\b\b\b\b\b\b\b\b\b\b\b\b\b\b\b\b\b\b\b\b\b\b\b\b\b\b\b\b\b\b\b\b\b\b\b\b\b\b\b\b\b\b\b\b\b\b\b\b\b\b\b\b\b\b\b\b\b\b\b\b\b\b\b\b\b\b\r",
      "412416/412416 [==============================] - 12s 29us/sample - loss: 164.6823 - reconstruction_loss: 87.6177 - KL_loss: 22.8607 - val_loss: 105.0706 - val_reconstruction_loss: 82.5793 - val_KL_loss: 22.4913 - lr: 5.0000e-04\n",
      "Epoch 982/1000\n"
     ]
    },
    {
     "name": "stdout",
     "output_type": "stream",
     "text": [
      "\r",
      "412416/412416 [==============================] - ETA: 0s - loss: 164.7070 - reconstruction_loss: 87.5804 - KL_loss: 22.8775"
     ]
    },
    {
     "name": "stdout",
     "output_type": "stream",
     "text": [
      "\b\b\b\b\b\b\b\b\b\b\b\b\b\b\b\b\b\b\b\b\b\b\b\b\b\b\b\b\b\b\b\b\b\b\b\b\b\b\b\b\b\b\b\b\b\b\b\b\b\b\b\b\b\b\b\b\b\b\b\b\b\b\b\b\b\b\b\b\b\b\b\b\b\b\b\b\b\b\b\b\b\b\b\b\b\b\b\b\b\b\b\b\b\b\b\b\b\b\b\b\b\b\b\b\b\b\b\b\b\b\b\b\b\b\b\b\b\b\b\b\b\b\b\r",
      "412416/412416 [==============================] - 14s 35us/sample - loss: 164.7070 - reconstruction_loss: 87.5804 - KL_loss: 22.8775 - val_loss: 105.0849 - val_reconstruction_loss: 82.6160 - val_KL_loss: 22.4689 - lr: 5.0000e-04\n",
      "Epoch 983/1000\n"
     ]
    },
    {
     "name": "stdout",
     "output_type": "stream",
     "text": [
      "\r",
      "412416/412416 [==============================] - ETA: 0s - loss: 164.6179 - reconstruction_loss: 87.6014 - KL_loss: 22.8590"
     ]
    },
    {
     "name": "stdout",
     "output_type": "stream",
     "text": [
      "\b\b\b\b\b\b\b\b\b\b\b\b\b\b\b\b\b\b\b\b\b\b\b\b\b\b\b\b\b\b\b\b\b\b\b\b\b\b\b\b\b\b\b\b\b\b\b\b\b\b\b\b\b\b\b\b\b\b\b\b\b\b\b\b\b\b\b\b\b\b\b\b\b\b\b\b\b\b\b\b\b\b\b\b\b\b\b\b\b\b\b\b\b\b\b\b\b\b\b\b\b\b\b\b\b\b\b\b\b\b\b\b\b\b\b\b\b\b\b\b\b\b\b\r",
      "412416/412416 [==============================] - 12s 29us/sample - loss: 164.6179 - reconstruction_loss: 87.6014 - KL_loss: 22.8590 - val_loss: 105.0388 - val_reconstruction_loss: 82.5719 - val_KL_loss: 22.4669 - lr: 5.0000e-04\n",
      "Epoch 984/1000\n"
     ]
    },
    {
     "name": "stdout",
     "output_type": "stream",
     "text": [
      "\r",
      "412416/412416 [==============================] - ETA: 0s - loss: 164.6164 - reconstruction_loss: 87.5758 - KL_loss: 22.8568"
     ]
    },
    {
     "name": "stdout",
     "output_type": "stream",
     "text": [
      "\b\b\b\b\b\b\b\b\b\b\b\b\b\b\b\b\b\b\b\b\b\b\b\b\b\b\b\b\b\b\b\b\b\b\b\b\b\b\b\b\b\b\b\b\b\b\b\b\b\b\b\b\b\b\b\b\b\b\b\b\b\b\b\b\b\b\b\b\b\b\b\b\b\b\b\b\b\b\b\b\b\b\b\b\b\b\b\b\b\b\b\b\b\b\b\b\b\b\b\b\b\b\b\b\b\b\b\b\b\b\b\b\b\b\b\b\b\b\b\b\b\b\b\r",
      "412416/412416 [==============================] - 12s 29us/sample - loss: 164.6164 - reconstruction_loss: 87.5758 - KL_loss: 22.8568 - val_loss: 105.1099 - val_reconstruction_loss: 82.5949 - val_KL_loss: 22.5150 - lr: 5.0000e-04\n",
      "Epoch 985/1000\n"
     ]
    },
    {
     "name": "stdout",
     "output_type": "stream",
     "text": [
      "\r",
      "412416/412416 [==============================] - ETA: 0s - loss: 164.6431 - reconstruction_loss: 87.5718 - KL_loss: 22.9014"
     ]
    },
    {
     "name": "stdout",
     "output_type": "stream",
     "text": [
      "\b\b\b\b\b\b\b\b\b\b\b\b\b\b\b\b\b\b\b\b\b\b\b\b\b\b\b\b\b\b\b\b\b\b\b\b\b\b\b\b\b\b\b\b\b\b\b\b\b\b\b\b\b\b\b\b\b\b\b\b\b\b\b\b\b\b\b\b\b\b\b\b\b\b\b\b\b\b\b\b\b\b\b\b\b\b\b\b\b\b\b\b\b\b\b\b\b\b\b\b\b\b\b\b\b\b\b\b\b\b\b\b\b\b\b\b\b\b\b\b\b\b\b\r",
      "412416/412416 [==============================] - 12s 29us/sample - loss: 164.6431 - reconstruction_loss: 87.5718 - KL_loss: 22.9014 - val_loss: 105.0596 - val_reconstruction_loss: 82.5514 - val_KL_loss: 22.5082 - lr: 5.0000e-04\n",
      "Epoch 986/1000\n"
     ]
    },
    {
     "name": "stdout",
     "output_type": "stream",
     "text": [
      "\r",
      "412416/412416 [==============================] - ETA: 0s - loss: 164.6164 - reconstruction_loss: 87.5442 - KL_loss: 22.8949"
     ]
    },
    {
     "name": "stdout",
     "output_type": "stream",
     "text": [
      "\b\b\b\b\b\b\b\b\b\b\b\b\b\b\b\b\b\b\b\b\b\b\b\b\b\b\b\b\b\b\b\b\b\b\b\b\b\b\b\b\b\b\b\b\b\b\b\b\b\b\b\b\b\b\b\b\b\b\b\b\b\b\b\b\b\b\b\b\b\b\b\b\b\b\b\b\b\b\b\b\b\b\b\b\b\b\b\b\b\b\b\b\b\b\b\b\b\b\b\b\b\b\b\b\b\b\b\b\b\b\b\b\b\b\b\b\b\b\b\b\b\b\b\r",
      "412416/412416 [==============================] - 12s 29us/sample - loss: 164.6164 - reconstruction_loss: 87.5442 - KL_loss: 22.8949 - val_loss: 105.0919 - val_reconstruction_loss: 82.6394 - val_KL_loss: 22.4525 - lr: 5.0000e-04\n",
      "Epoch 987/1000\n"
     ]
    },
    {
     "name": "stdout",
     "output_type": "stream",
     "text": [
      "\r",
      "412416/412416 [==============================] - ETA: 0s - loss: 164.6789 - reconstruction_loss: 87.6478 - KL_loss: 22.8426"
     ]
    },
    {
     "name": "stdout",
     "output_type": "stream",
     "text": [
      "\b\b\b\b\b\b\b\b\b\b\b\b\b\b\b\b\b\b\b\b\b\b\b\b\b\b\b\b\b\b\b\b\b\b\b\b\b\b\b\b\b\b\b\b\b\b\b\b\b\b\b\b\b\b\b\b\b\b\b\b\b\b\b\b\b\b\b\b\b\b\b\b\b\b\b\b\b\b\b\b\b\b\b\b\b\b\b\b\b\b\b\b\b\b\b\b\b\b\b\b\b\b\b\b\b\b\b\b\b\b\b\b\b\b\b\b\b\b\b\b\b\b\b\r",
      "412416/412416 [==============================] - 14s 34us/sample - loss: 164.6789 - reconstruction_loss: 87.6478 - KL_loss: 22.8426 - val_loss: 105.0764 - val_reconstruction_loss: 82.6577 - val_KL_loss: 22.4187 - lr: 5.0000e-04\n",
      "Epoch 988/1000\n"
     ]
    },
    {
     "name": "stdout",
     "output_type": "stream",
     "text": [
      "\r",
      "412416/412416 [==============================] - ETA: 0s - loss: 164.6161 - reconstruction_loss: 87.6394 - KL_loss: 22.8084"
     ]
    },
    {
     "name": "stdout",
     "output_type": "stream",
     "text": [
      "\b\b\b\b\b\b\b\b\b\b\b\b\b\b\b\b\b\b\b\b\b\b\b\b\b\b\b\b\b\b\b\b\b\b\b\b\b\b\b\b\b\b\b\b\b\b\b\b\b\b\b\b\b\b\b\b\b\b\b\b\b\b\b\b\b\b\b\b\b\b\b\b\b\b\b\b\b\b\b\b\b\b\b\b\b\b\b\b\b\b\b\b\b\b\b\b\b\b\b\b\b\b\b\b\b\b\b\b\b\b\b\b\b\b\b\b\b\b\b\b\b\b\b\r",
      "412416/412416 [==============================] - 19s 45us/sample - loss: 164.6161 - reconstruction_loss: 87.6394 - KL_loss: 22.8084 - val_loss: 105.0577 - val_reconstruction_loss: 82.6219 - val_KL_loss: 22.4358 - lr: 5.0000e-04\n",
      "Epoch 989/1000\n"
     ]
    },
    {
     "name": "stdout",
     "output_type": "stream",
     "text": [
      "\r",
      "412416/412416 [==============================] - ETA: 0s - loss: 164.6160 - reconstruction_loss: 87.6168 - KL_loss: 22.8219"
     ]
    },
    {
     "name": "stdout",
     "output_type": "stream",
     "text": [
      "\b\b\b\b\b\b\b\b\b\b\b\b\b\b\b\b\b\b\b\b\b\b\b\b\b\b\b\b\b\b\b\b\b\b\b\b\b\b\b\b\b\b\b\b\b\b\b\b\b\b\b\b\b\b\b\b\b\b\b\b\b\b\b\b\b\b\b\b\b\b\b\b\b\b\b\b\b\b\b\b\b\b\b\b\b\b\b\b\b\b\b\b\b\b\b\b\b\b\b\b\b\b\b\b\b\b\b\b\b\b\b\b\b\b\b\b\b\b\b\b\b\b\b\r",
      "412416/412416 [==============================] - 12s 29us/sample - loss: 164.6160 - reconstruction_loss: 87.6168 - KL_loss: 22.8219 - val_loss: 105.0574 - val_reconstruction_loss: 82.5990 - val_KL_loss: 22.4583 - lr: 5.0000e-04\n",
      "Epoch 990/1000\n"
     ]
    },
    {
     "name": "stdout",
     "output_type": "stream",
     "text": [
      "\r",
      "412416/412416 [==============================] - ETA: 0s - loss: 164.5570 - reconstruction_loss: 87.5694 - KL_loss: 22.8447"
     ]
    },
    {
     "name": "stdout",
     "output_type": "stream",
     "text": [
      "\b\b\b\b\b\b\b\b\b\b\b\b\b\b\b\b\b\b\b\b\b\b\b\b\b\b\b\b\b\b\b\b\b\b\b\b\b\b\b\b\b\b\b\b\b\b\b\b\b\b\b\b\b\b\b\b\b\b\b\b\b\b\b\b\b\b\b\b\b\b\b\b\b\b\b\b\b\b\b\b\b\b\b\b\b\b\b\b\b\b\b\b\b\b\b\b\b\b\b\b\b\b\b\b\b\b\b\b\b\b\b\b\b\b\b\b\b\b\b\b\b\b\b\r",
      "412416/412416 [==============================] - 12s 30us/sample - loss: 164.5570 - reconstruction_loss: 87.5694 - KL_loss: 22.8447 - val_loss: 105.0665 - val_reconstruction_loss: 82.6190 - val_KL_loss: 22.4475 - lr: 5.0000e-04\n",
      "Epoch 991/1000\n"
     ]
    },
    {
     "name": "stdout",
     "output_type": "stream",
     "text": [
      "\r",
      "412416/412416 [==============================] - ETA: 0s - loss: 164.5284 - reconstruction_loss: 87.6033 - KL_loss: 22.8380"
     ]
    },
    {
     "name": "stdout",
     "output_type": "stream",
     "text": [
      "\b\b\b\b\b\b\b\b\b\b\b\b\b\b\b\b\b\b\b\b\b\b\b\b\b\b\b\b\b\b\b\b\b\b\b\b\b\b\b\b\b\b\b\b\b\b\b\b\b\b\b\b\b\b\b\b\b\b\b\b\b\b\b\b\b\b\b\b\b\b\b\b\b\b\b\b\b\b\b\b\b\b\b\b\b\b\b\b\b\b\b\b\b\b\b\b\b\b\b\b\b\b\b\b\b\b\b\b\b\b\b\b\b\b\b\b\b\b\b\b\b\b\b\r",
      "412416/412416 [==============================] - 12s 29us/sample - loss: 164.5284 - reconstruction_loss: 87.6033 - KL_loss: 22.8380 - val_loss: 105.0211 - val_reconstruction_loss: 82.5653 - val_KL_loss: 22.4558 - lr: 5.0000e-04\n",
      "Epoch 992/1000\n"
     ]
    },
    {
     "name": "stdout",
     "output_type": "stream",
     "text": [
      "\r",
      "412416/412416 [==============================] - ETA: 0s - loss: 164.4644 - reconstruction_loss: 87.5531 - KL_loss: 22.8459"
     ]
    },
    {
     "name": "stdout",
     "output_type": "stream",
     "text": [
      "\b\b\b\b\b\b\b\b\b\b\b\b\b\b\b\b\b\b\b\b\b\b\b\b\b\b\b\b\b\b\b\b\b\b\b\b\b\b\b\b\b\b\b\b\b\b\b\b\b\b\b\b\b\b\b\b\b\b\b\b\b\b\b\b\b\b\b\b\b\b\b\b\b\b\b\b\b\b\b\b\b\b\b\b\b\b\b\b\b\b\b\b\b\b\b\b\b\b\b\b\b\b\b\b\b\b\b\b\b\b\b\b\b\b\b\b\b\b\b\b\b\b\b\r",
      "412416/412416 [==============================] - 12s 29us/sample - loss: 164.4644 - reconstruction_loss: 87.5531 - KL_loss: 22.8459 - val_loss: 105.0945 - val_reconstruction_loss: 82.6096 - val_KL_loss: 22.4849 - lr: 5.0000e-04\n",
      "Epoch 993/1000\n"
     ]
    },
    {
     "name": "stdout",
     "output_type": "stream",
     "text": [
      "\r",
      "412416/412416 [==============================] - ETA: 0s - loss: 164.5519 - reconstruction_loss: 87.6167 - KL_loss: 22.8709"
     ]
    },
    {
     "name": "stdout",
     "output_type": "stream",
     "text": [
      "\b\b\b\b\b\b\b\b\b\b\b\b\b\b\b\b\b\b\b\b\b\b\b\b\b\b\b\b\b\b\b\b\b\b\b\b\b\b\b\b\b\b\b\b\b\b\b\b\b\b\b\b\b\b\b\b\b\b\b\b\b\b\b\b\b\b\b\b\b\b\b\b\b\b\b\b\b\b\b\b\b\b\b\b\b\b\b\b\b\b\b\b\b\b\b\b\b\b\b\b\b\b\b\b\b\b\b\b\b\b\b\b\b\b\b\b\b\b\b\b\b\b\b\r",
      "412416/412416 [==============================] - 12s 29us/sample - loss: 164.5519 - reconstruction_loss: 87.6167 - KL_loss: 22.8709 - val_loss: 105.0820 - val_reconstruction_loss: 82.6123 - val_KL_loss: 22.4698 - lr: 5.0000e-04\n",
      "Epoch 994/1000\n"
     ]
    },
    {
     "name": "stdout",
     "output_type": "stream",
     "text": [
      "\r",
      "412416/412416 [==============================] - ETA: 0s - loss: 164.5302 - reconstruction_loss: 87.6031 - KL_loss: 22.8555"
     ]
    },
    {
     "name": "stdout",
     "output_type": "stream",
     "text": [
      "\b\b\b\b\b\b\b\b\b\b\b\b\b\b\b\b\b\b\b\b\b\b\b\b\b\b\b\b\b\b\b\b\b\b\b\b\b\b\b\b\b\b\b\b\b\b\b\b\b\b\b\b\b\b\b\b\b\b\b\b\b\b\b\b\b\b\b\b\b\b\b\b\b\b\b\b\b\b\b\b\b\b\b\b\b\b\b\b\b\b\b\b\b\b\b\b\b\b\b\b\b\b\b\b\b\b\b\b\b\b\b\b\b\b\b\b\b\b\b\b\b\b\b\r",
      "412416/412416 [==============================] - 12s 29us/sample - loss: 164.5302 - reconstruction_loss: 87.6031 - KL_loss: 22.8555 - val_loss: 105.0102 - val_reconstruction_loss: 82.5894 - val_KL_loss: 22.4208 - lr: 5.0000e-04\n",
      "Epoch 995/1000\n"
     ]
    },
    {
     "name": "stdout",
     "output_type": "stream",
     "text": [
      "\r",
      "412416/412416 [==============================] - ETA: 0s - loss: 164.4845 - reconstruction_loss: 87.6058 - KL_loss: 22.8099"
     ]
    },
    {
     "name": "stdout",
     "output_type": "stream",
     "text": [
      "\b\b\b\b\b\b\b\b\b\b\b\b\b\b\b\b\b\b\b\b\b\b\b\b\b\b\b\b\b\b\b\b\b\b\b\b\b\b\b\b\b\b\b\b\b\b\b\b\b\b\b\b\b\b\b\b\b\b\b\b\b\b\b\b\b\b\b\b\b\b\b\b\b\b\b\b\b\b\b\b\b\b\b\b\b\b\b\b\b\b\b\b\b\b\b\b\b\b\b\b\b\b\b\b\b\b\b\b\b\b\b\b\b\b\b\b\b\b\b\b\b\b\b\r",
      "412416/412416 [==============================] - 12s 29us/sample - loss: 164.4845 - reconstruction_loss: 87.6058 - KL_loss: 22.8099 - val_loss: 105.0357 - val_reconstruction_loss: 82.6361 - val_KL_loss: 22.3995 - lr: 5.0000e-04\n",
      "Epoch 996/1000\n"
     ]
    },
    {
     "name": "stdout",
     "output_type": "stream",
     "text": [
      "\r",
      "412416/412416 [==============================] - ETA: 0s - loss: 164.4281 - reconstruction_loss: 87.6213 - KL_loss: 22.7886"
     ]
    },
    {
     "name": "stdout",
     "output_type": "stream",
     "text": [
      "\b\b\b\b\b\b\b\b\b\b\b\b\b\b\b\b\b\b\b\b\b\b\b\b\b\b\b\b\b\b\b\b\b\b\b\b\b\b\b\b\b\b\b\b\b\b\b\b\b\b\b\b\b\b\b\b\b\b\b\b\b\b\b\b\b\b\b\b\b\b\b\b\b\b\b\b\b\b\b\b\b\b\b\b\b\b\b\b\b\b\b\b\b\b\b\b\b\b\b\b\b\b\b\b\b\b\b\b\b\b\b\b\b\b\b\b\b\b\b\b\b\b\b\r",
      "412416/412416 [==============================] - 12s 29us/sample - loss: 164.4281 - reconstruction_loss: 87.6213 - KL_loss: 22.7886 - val_loss: 105.0586 - val_reconstruction_loss: 82.6418 - val_KL_loss: 22.4168 - lr: 5.0000e-04\n",
      "Epoch 997/1000\n"
     ]
    },
    {
     "name": "stdout",
     "output_type": "stream",
     "text": [
      "\r",
      "412416/412416 [==============================] - ETA: 0s - loss: 164.5004 - reconstruction_loss: 87.6231 - KL_loss: 22.8029"
     ]
    },
    {
     "name": "stdout",
     "output_type": "stream",
     "text": [
      "\b\b\b\b\b\b\b\b\b\b\b\b\b\b\b\b\b\b\b\b\b\b\b\b\b\b\b\b\b\b\b\b\b\b\b\b\b\b\b\b\b\b\b\b\b\b\b\b\b\b\b\b\b\b\b\b\b\b\b\b\b\b\b\b\b\b\b\b\b\b\b\b\b\b\b\b\b\b\b\b\b\b\b\b\b\b\b\b\b\b\b\b\b\b\b\b\b\b\b\b\b\b\b\b\b\b\b\b\b\b\b\b\b\b\b\b\b\b\b\b\b\b\b\r",
      "412416/412416 [==============================] - 12s 29us/sample - loss: 164.5004 - reconstruction_loss: 87.6231 - KL_loss: 22.8029 - val_loss: 105.0382 - val_reconstruction_loss: 82.5955 - val_KL_loss: 22.4427 - lr: 5.0000e-04\n",
      "Epoch 998/1000\n"
     ]
    },
    {
     "name": "stdout",
     "output_type": "stream",
     "text": [
      "\r",
      "412416/412416 [==============================] - ETA: 0s - loss: 164.4035 - reconstruction_loss: 87.5714 - KL_loss: 22.8294"
     ]
    },
    {
     "name": "stdout",
     "output_type": "stream",
     "text": [
      "\b\b\b\b\b\b\b\b\b\b\b\b\b\b\b\b\b\b\b\b\b\b\b\b\b\b\b\b\b\b\b\b\b\b\b\b\b\b\b\b\b\b\b\b\b\b\b\b\b\b\b\b\b\b\b\b\b\b\b\b\b\b\b\b\b\b\b\b\b\b\b\b\b\b\b\b\b\b\b\b\b\b\b\b\b\b\b\b\b\b\b\b\b\b\b\b\b\b\b\b\b\b\b\b\b\b\b\b\b\b\b\b\b\b\b\b\b\b\b\b\b\b\b\r",
      "412416/412416 [==============================] - 12s 29us/sample - loss: 164.4035 - reconstruction_loss: 87.5714 - KL_loss: 22.8294 - val_loss: 105.0592 - val_reconstruction_loss: 82.6251 - val_KL_loss: 22.4341 - lr: 5.0000e-04\n",
      "Epoch 999/1000\n"
     ]
    },
    {
     "name": "stdout",
     "output_type": "stream",
     "text": [
      "\r",
      "412416/412416 [==============================] - ETA: 0s - loss: 164.5411 - reconstruction_loss: 87.6228 - KL_loss: 22.8246"
     ]
    },
    {
     "name": "stdout",
     "output_type": "stream",
     "text": [
      "\b\b\b\b\b\b\b\b\b\b\b\b\b\b\b\b\b\b\b\b\b\b\b\b\b\b\b\b\b\b\b\b\b\b\b\b\b\b\b\b\b\b\b\b\b\b\b\b\b\b\b\b\b\b\b\b\b\b\b\b\b\b\b\b\b\b\b\b\b\b\b\b\b\b\b\b\b\b\b\b\b\b\b\b\b\b\b\b\b\b\b\b\b\b\b\b\b\b\b\b\b\b\b\b\b\b\b\b\b\b\b\b\b\b\b\b\b\b\b\b\b\b\b\r",
      "412416/412416 [==============================] - 12s 28us/sample - loss: 164.5411 - reconstruction_loss: 87.6228 - KL_loss: 22.8246 - val_loss: 104.9901 - val_reconstruction_loss: 82.5406 - val_KL_loss: 22.4495 - lr: 5.0000e-04\n",
      "Epoch 1000/1000\n"
     ]
    },
    {
     "name": "stdout",
     "output_type": "stream",
     "text": [
      "\r",
      "412416/412416 [==============================] - ETA: 0s - loss: 164.4440 - reconstruction_loss: 87.5667 - KL_loss: 22.8396"
     ]
    },
    {
     "name": "stdout",
     "output_type": "stream",
     "text": [
      "\b\b\b\b\b\b\b\b\b\b\b\b\b\b\b\b\b\b\b\b\b\b\b\b\b\b\b\b\b\b\b\b\b\b\b\b\b\b\b\b\b\b\b\b\b\b\b\b\b\b\b\b\b\b\b\b\b\b\b\b\b\b\b\b\b\b\b\b\b\b\b\b\b\b\b\b\b\b\b\b\b\b\b\b\b\b\b\b\b\b\b\b\b\b\b\b\b\b\b\b\b\b\b\b\b\b\b\b\b\b\b\b\b\b\b\b\b\b\b\b\b\b\b\r",
      "412416/412416 [==============================] - 12s 29us/sample - loss: 164.4440 - reconstruction_loss: 87.5667 - KL_loss: 22.8396 - val_loss: 105.0237 - val_reconstruction_loss: 82.5268 - val_KL_loss: 22.4969 - lr: 5.0000e-04\n",
      "\n",
      "training finished in 1000 epochs (reach max pre-specified epoches), transform data to adjust the platform effect...\n",
      "\n"
     ]
    },
    {
     "name": "stdout",
     "output_type": "stream",
     "text": [
      "WARNING: when transforming data, after reversed Min-Max Scaling, apply exp transformation then multiple the factor and round to integer\n"
     ]
    },
    {
     "name": "stdout",
     "output_type": "stream",
     "text": [
      "\n",
      "re-run DE on CVAE transformed scRNA-seq data!\n"
     ]
    },
    {
     "name": "stdout",
     "output_type": "stream",
     "text": [
      "filtering genes present in <10 cells: 15 genes removed\n",
      "\n",
      "Differential analysis across cell-types on scRNA-seq data...\n",
      "0%..."
     ]
    },
    {
     "name": "stdout",
     "output_type": "stream",
     "text": [
      "8%..."
     ]
    },
    {
     "name": "stdout",
     "output_type": "stream",
     "text": [
      "WARNING: only 10 genes passing filtering (<20) for Endo vs Smc\n"
     ]
    },
    {
     "name": "stdout",
     "output_type": "stream",
     "text": [
      "17%..."
     ]
    },
    {
     "name": "stdout",
     "output_type": "stream",
     "text": [
      "WARNING: only 13 genes passing filtering (<20) for Micro vs Smc\n"
     ]
    },
    {
     "name": "stdout",
     "output_type": "stream",
     "text": [
      "25%..."
     ]
    },
    {
     "name": "stdout",
     "output_type": "stream",
     "text": [
      "33%..."
     ]
    },
    {
     "name": "stdout",
     "output_type": "stream",
     "text": [
      "WARNING: only 16 genes passing filtering (<20) for PVALB vs VIP\n"
     ]
    },
    {
     "name": "stdout",
     "output_type": "stream",
     "text": [
      "42%..."
     ]
    },
    {
     "name": "stdout",
     "output_type": "stream",
     "text": [
      "WARNING: only 17 genes passing filtering (<20) for SST vs PVALB\n"
     ]
    },
    {
     "name": "stdout",
     "output_type": "stream",
     "text": [
      "WARNING: only 9 genes passing filtering (<20) for SST vs VIP\n"
     ]
    },
    {
     "name": "stdout",
     "output_type": "stream",
     "text": [
      "WARNING: only 19 genes passing filtering (<20) for SST vs eL5\n"
     ]
    },
    {
     "name": "stdout",
     "output_type": "stream",
     "text": [
      "50%..."
     ]
    },
    {
     "name": "stdout",
     "output_type": "stream",
     "text": [
      "58%..."
     ]
    },
    {
     "name": "stdout",
     "output_type": "stream",
     "text": [
      "67%..."
     ]
    },
    {
     "name": "stdout",
     "output_type": "stream",
     "text": [
      "WARNING: only 14 genes passing filtering (<20) for eL2/3 vs eL4\n"
     ]
    },
    {
     "name": "stdout",
     "output_type": "stream",
     "text": [
      "WARNING: only 11 genes passing filtering (<20) for eL2/3 vs eL5\n"
     ]
    },
    {
     "name": "stdout",
     "output_type": "stream",
     "text": [
      "WARNING: only 18 genes passing filtering (<20) for eL2/3 vs eL6\n",
      "75%..."
     ]
    },
    {
     "name": "stdout",
     "output_type": "stream",
     "text": [
      "WARNING: only 13 genes passing filtering (<20) for eL4 vs eL5\n"
     ]
    },
    {
     "name": "stdout",
     "output_type": "stream",
     "text": [
      "83%..."
     ]
    },
    {
     "name": "stdout",
     "output_type": "stream",
     "text": [
      "92%..."
     ]
    },
    {
     "name": "stdout",
     "output_type": "stream",
     "text": [
      "WARNING: only 8 genes passing filtering (<20) for eL6 vs eL5\n",
      "finally selected 569 cell-type marker genes\n",
      "\n"
     ]
    },
    {
     "name": "stdout",
     "output_type": "stream",
     "text": [
      "\n",
      "save variables related to CVAE to files!\n"
     ]
    },
    {
     "name": "stdout",
     "output_type": "stream",
     "text": [
      "\n",
      "platform effect adjustment by CVAE finished. Elapsed time: 246.20 minutes.\n",
      "\n",
      "\n",
      "use the marker genes derived from CVAE transformed scRNA-seq for downstream regression!\n",
      "\n",
      "gene filtering before modeling...\n",
      "9 genes with nUMIs<5 in all spatial spots and need to be excluded\n",
      "finally use 560 genes for modeling\n",
      "\n",
      "spot filtering before modeling...\n",
      "all spots passed filtering\n",
      "\n",
      "\n",
      "######### Start GLRM modeling... #########\n",
      "\n",
      "GLRM settings:\n",
      "use SciPy minimize method:  L-BFGS-B\n",
      "global optimization turned off, local minimum will be used in GLRM\n",
      "use hybrid version of GLRM\n",
      "Numba detected total 64 available CPU cores. Use 64 CPU cores\n",
      "use 2001 points to calculate the heavy-tail density\n",
      "use weight threshold for Adaptive Lasso:  0.001\n",
      "total 287 unique nUMIs, min: 0.0, max: 1393.0\n",
      "\n",
      "Build graph: \n",
      " Graph with 581 nodes and 1029 edges\n",
      "\n",
      "estimation of gene-specific platform effect gamma_g is skipped as already using CVAE to adjust platform effect\n",
      "\n",
      "\n",
      "Start GLRM fitting...\n",
      "\n",
      "first estimate MLE theta and corresponding e^alpha and sigma^2...\n",
      "\n",
      "GLRM model initialization...\n",
      "calculate MLE theta and sigma^2 iteratively...\n",
      "  iter | time_opt | time_sig | sigma2\n"
     ]
    },
    {
     "name": "stdout",
     "output_type": "stream",
     "text": [
      "     0 |   19.755 |    4.606 |  0.388\n"
     ]
    },
    {
     "name": "stdout",
     "output_type": "stream",
     "text": [
      "     1 |   14.722 |    2.948 |  0.241\n"
     ]
    },
    {
     "name": "stdout",
     "output_type": "stream",
     "text": [
      "     2 |   12.674 |    2.977 |  0.206\n"
     ]
    },
    {
     "name": "stdout",
     "output_type": "stream",
     "text": [
      "     3 |   10.417 |    2.518 |  0.198\n"
     ]
    },
    {
     "name": "stdout",
     "output_type": "stream",
     "text": [
      "     4 |    8.640 |    2.544 |  0.196\n"
     ]
    },
    {
     "name": "stdout",
     "output_type": "stream",
     "text": [
      "     5 |    5.989 |    2.118 |  0.195\n",
      "MLE theta and sigma^2 calculation finished. Elapsed time: 1.50 minutes.\n",
      "MLE theta estimation finished. Elapsed time: 1.50 minutes.\n",
      "\n",
      "calculate weights of Adaptive Lasso...\n",
      "\n",
      "Stage 1: variable selection using Adaptive Lasso starts with the MLE theta and e^alpha, using already estimated sigma^2 and gamma_g...\n",
      "specified hyper-parameter for Adaptive Lasso is: [0.1, 0.268, 0.72, 1.931, 5.179, 13.895, 37.276, 100.0]\n",
      "hyper-parameter for Adaptive Lasso: use cross-validation to find the optimal value from 8 candidates...\n",
      "\n",
      "Start cross-validation for hyper-parameter lambda_r...\n",
      "directly estimate theta by Adaptive Lasso loss function as NO Graph Laplacian constrain!\n",
      "0%..."
     ]
    },
    {
     "name": "stdout",
     "output_type": "stream",
     "text": [
      "11%..."
     ]
    },
    {
     "name": "stdout",
     "output_type": "stream",
     "text": [
      "22%..."
     ]
    },
    {
     "name": "stdout",
     "output_type": "stream",
     "text": [
      "33%..."
     ]
    },
    {
     "name": "stdout",
     "output_type": "stream",
     "text": [
      "44%..."
     ]
    },
    {
     "name": "stdout",
     "output_type": "stream",
     "text": [
      "56%..."
     ]
    },
    {
     "name": "stdout",
     "output_type": "stream",
     "text": [
      "67%..."
     ]
    },
    {
     "name": "stdout",
     "output_type": "stream",
     "text": [
      "78%..."
     ]
    },
    {
     "name": "stdout",
     "output_type": "stream",
     "text": [
      "early stop\n",
      "find optimal lambda_r 1.931 with average negative log-likelihood 54606.9188 by 5 fold cross-validation. Elapsed time: 8.72 minutes.\n",
      "\n",
      "\n",
      "start ADMM iteration...\n",
      "  iter |  res_pri_n | res_dual_n |    eps_pri |   eps_dual |        rho |    new_rho | time_opt | time_reg | time_lap | tilde_RMSE |   hat_RMSE\n"
     ]
    },
    {
     "name": "stdout",
     "output_type": "stream",
     "text": [
      "     0 |     12.564 |     12.564 |      0.131 |      0.131 |       1.00 |       1.00 |    3.418 |    0.000 |    0.004 |   0.207721 |   0.103860\n"
     ]
    },
    {
     "name": "stdout",
     "output_type": "stream",
     "text": [
      "     1 |     12.547 |      0.064 |      0.131 |      0.143 |       1.00 |       2.00 |    7.525 |    0.000 |    0.003 |   0.207426 |   0.103713\n"
     ]
    },
    {
     "name": "stdout",
     "output_type": "stream",
     "text": [
      "     2 |     12.484 |      0.281 |      0.131 |      0.168 |       2.00 |       4.00 |    8.140 |    0.000 |    0.003 |   0.206535 |   0.103267\n"
     ]
    },
    {
     "name": "stdout",
     "output_type": "stream",
     "text": [
      "     3 |     10.170 |     15.164 |      0.133 |      0.208 |       4.00 |       8.00 |    9.961 |    0.000 |    0.003 |   0.170541 |   0.085270\n"
     ]
    },
    {
     "name": "stdout",
     "output_type": "stream",
     "text": [
      "     4 |      7.434 |     33.619 |      0.152 |      0.263 |       8.00 |       8.00 |   10.245 |    0.000 |    0.003 |   0.116404 |   0.058202\n"
     ]
    },
    {
     "name": "stdout",
     "output_type": "stream",
     "text": [
      "     5 |      5.635 |     33.738 |      0.152 |      0.295 |       8.00 |       8.00 |    9.234 |    0.001 |    0.004 |   0.085667 |   0.042834\n"
     ]
    },
    {
     "name": "stdout",
     "output_type": "stream",
     "text": [
      "     6 |      5.101 |     23.400 |      0.141 |      0.316 |       8.00 |      16.00 |    9.535 |    0.000 |    0.003 |   0.080942 |   0.040471\n"
     ]
    },
    {
     "name": "stdout",
     "output_type": "stream",
     "text": [
      "     7 |      4.159 |     26.388 |      0.144 |      0.358 |      16.00 |      16.00 |    9.829 |    0.000 |    0.003 |   0.064238 |   0.032119\n"
     ]
    },
    {
     "name": "stdout",
     "output_type": "stream",
     "text": [
      "     8 |      3.247 |     30.403 |      0.148 |      0.394 |      16.00 |      16.00 |    8.922 |    0.000 |    0.003 |   0.046736 |   0.023368\n"
     ]
    },
    {
     "name": "stdout",
     "output_type": "stream",
     "text": [
      "     9 |      2.769 |     24.780 |      0.143 |      0.421 |      16.00 |      32.00 |    8.476 |    0.000 |    0.003 |   0.040773 |   0.020386\n"
     ]
    },
    {
     "name": "stdout",
     "output_type": "stream",
     "text": [
      "    10 |      2.326 |     27.655 |      0.146 |      0.470 |      32.00 |      32.00 |    9.202 |    0.000 |    0.003 |   0.034066 |   0.017033\n"
     ]
    },
    {
     "name": "stdout",
     "output_type": "stream",
     "text": [
      "    11 |      1.950 |     29.536 |      0.148 |      0.512 |      32.00 |      32.00 |    8.339 |    0.000 |    0.003 |   0.027720 |   0.013860\n"
     ]
    },
    {
     "name": "stdout",
     "output_type": "stream",
     "text": [
      "    12 |      1.742 |     24.446 |      0.143 |      0.547 |      32.00 |      64.00 |    8.256 |    0.000 |    0.003 |   0.024738 |   0.012369\n"
     ]
    },
    {
     "name": "stdout",
     "output_type": "stream",
     "text": [
      "    13 |      1.532 |     29.152 |      0.147 |      0.616 |      64.00 |      64.00 |    8.851 |    0.000 |    0.003 |   0.021701 |   0.010851\n"
     ]
    },
    {
     "name": "stdout",
     "output_type": "stream",
     "text": [
      "    14 |      1.315 |     34.062 |      0.152 |      0.677 |      64.00 |      64.00 |    8.863 |    0.000 |    0.003 |   0.018430 |   0.009215\n"
     ]
    },
    {
     "name": "stdout",
     "output_type": "stream",
     "text": [
      "    15 |      1.151 |     31.552 |      0.150 |      0.727 |      64.00 |     128.00 |    8.500 |    0.000 |    0.003 |   0.016160 |   0.008080\n"
     ]
    },
    {
     "name": "stdout",
     "output_type": "stream",
     "text": [
      "    16 |      0.989 |     43.048 |      0.161 |      0.817 |     128.00 |     128.00 |    8.534 |    0.000 |    0.003 |   0.013867 |   0.006933\n"
     ]
    },
    {
     "name": "stdout",
     "output_type": "stream",
     "text": [
      "    17 |      0.839 |     46.985 |      0.165 |      0.891 |     128.00 |     128.00 |    8.239 |    0.000 |    0.003 |   0.011658 |   0.005829\n"
     ]
    },
    {
     "name": "stdout",
     "output_type": "stream",
     "text": [
      "    18 |      0.737 |     41.827 |      0.160 |      0.950 |     128.00 |     256.00 |    8.276 |    0.000 |    0.003 |   0.010291 |   0.005145\n"
     ]
    },
    {
     "name": "stdout",
     "output_type": "stream",
     "text": [
      "    19 |      0.636 |     53.812 |      0.172 |      1.058 |     256.00 |     256.00 |    8.474 |    0.000 |    0.003 |   0.008860 |   0.004430\n"
     ]
    },
    {
     "name": "stdout",
     "output_type": "stream",
     "text": [
      "    20 |      0.544 |     59.585 |      0.178 |      1.152 |     256.00 |     256.00 |    8.209 |    0.000 |    0.003 |   0.007524 |   0.003762\n"
     ]
    },
    {
     "name": "stdout",
     "output_type": "stream",
     "text": [
      "    21 |      0.481 |     53.051 |      0.171 |      1.230 |     256.00 |     512.00 |    8.147 |    0.000 |    0.003 |   0.006676 |   0.003338\n"
     ]
    },
    {
     "name": "stdout",
     "output_type": "stream",
     "text": [
      "    22 |      0.421 |     66.561 |      0.185 |      1.376 |     512.00 |     512.00 |    8.008 |    0.000 |    0.003 |   0.005809 |   0.002905\n"
     ]
    },
    {
     "name": "stdout",
     "output_type": "stream",
     "text": [
      "    23 |      0.368 |     72.242 |      0.190 |      1.507 |     512.00 |     512.00 |    7.736 |    0.000 |    0.003 |   0.005006 |   0.002503\n"
     ]
    },
    {
     "name": "stdout",
     "output_type": "stream",
     "text": [
      "    24 |      0.324 |     68.004 |      0.186 |      1.617 |     512.00 |    1024.00 |    7.441 |    0.000 |    0.003 |   0.004403 |   0.002202\n"
     ]
    },
    {
     "name": "stdout",
     "output_type": "stream",
     "text": [
      "    25 |      0.282 |     91.388 |      0.209 |      1.819 |    1024.00 |    1024.00 |    7.767 |    0.000 |    0.003 |   0.003799 |   0.001900\n"
     ]
    },
    {
     "name": "stdout",
     "output_type": "stream",
     "text": [
      "    26 |      0.242 |    100.615 |      0.219 |      1.992 |    1024.00 |    1024.00 |    7.389 |    0.000 |    0.003 |   0.003241 |   0.001620\n"
     ]
    },
    {
     "name": "stdout",
     "output_type": "stream",
     "text": [
      "    27 |      0.213 |     91.652 |      0.210 |      2.134 |    1024.00 |    2048.00 |    7.487 |    0.000 |    0.003 |   0.002843 |   0.001422\n"
     ]
    },
    {
     "name": "stdout",
     "output_type": "stream",
     "text": [
      "    28 |      0.184 |    116.478 |      0.235 |      2.390 |    2048.00 |    2048.00 |    7.415 |    0.000 |    0.003 |   0.002434 |   0.001217\n"
     ]
    },
    {
     "name": "stdout",
     "output_type": "stream",
     "text": [
      "    29 |      0.156 |    128.603 |      0.247 |      2.608 |    2048.00 |    2048.00 |    7.253 |    0.000 |    0.003 |   0.002042 |   0.001021\n"
     ]
    },
    {
     "name": "stdout",
     "output_type": "stream",
     "text": [
      "    30 |      0.139 |    114.105 |      0.232 |      2.790 |    2048.00 |    4096.00 |    6.933 |    0.000 |    0.003 |   0.001803 |   0.000901\n"
     ]
    },
    {
     "name": "stdout",
     "output_type": "stream",
     "text": [
      "    31 |      0.120 |    141.321 |      0.259 |      3.125 |    4096.00 |    4096.00 |    7.122 |    0.000 |    0.003 |   0.001542 |   0.000771\n"
     ]
    },
    {
     "name": "stdout",
     "output_type": "stream",
     "text": [
      "    32 |      0.102 |    159.784 |      0.278 |      3.416 |    4096.00 |    4096.00 |    6.636 |    0.000 |    0.003 |   0.001297 |   0.000648\n"
     ]
    },
    {
     "name": "stdout",
     "output_type": "stream",
     "text": [
      "    33 |      0.090 |    146.889 |      0.265 |      3.661 |    4096.00 |    8192.00 |    6.866 |    0.000 |    0.003 |   0.001137 |   0.000569\n"
     ]
    },
    {
     "name": "stdout",
     "output_type": "stream",
     "text": [
      "    34 |      0.076 |    196.641 |      0.315 |      4.092 |    8192.00 |    8192.00 |    6.742 |    0.000 |    0.003 |   0.000953 |   0.000477\n"
     ]
    },
    {
     "name": "stdout",
     "output_type": "stream",
     "text": [
      "    35 |      0.064 |    221.657 |      0.340 |      4.446 |    8192.00 |    8192.00 |    6.356 |    0.000 |    0.003 |   0.000779 |   0.000389\n"
     ]
    },
    {
     "name": "stdout",
     "output_type": "stream",
     "text": [
      "    36 |      0.056 |    195.279 |      0.313 |      4.734 |    8192.00 |   16384.00 |    6.169 |    0.000 |    0.003 |   0.000677 |   0.000339\n"
     ]
    },
    {
     "name": "stdout",
     "output_type": "stream",
     "text": [
      "    37 |      0.048 |    230.439 |      0.349 |      5.261 |   16384.00 |   16384.00 |    6.138 |    0.000 |    0.003 |   0.000572 |   0.000286\n"
     ]
    },
    {
     "name": "stdout",
     "output_type": "stream",
     "text": [
      "    38 |      0.042 |    246.004 |      0.364 |      5.731 |   16384.00 |   16384.00 |    5.912 |    0.000 |    0.003 |   0.000480 |   0.000240\n"
     ]
    },
    {
     "name": "stdout",
     "output_type": "stream",
     "text": [
      "    39 |      0.037 |    231.242 |      0.349 |      6.134 |   16384.00 |   32768.00 |    5.725 |    0.000 |    0.003 |   0.000415 |   0.000208\n"
     ]
    },
    {
     "name": "stdout",
     "output_type": "stream",
     "text": [
      "    40 |      0.031 |    312.308 |      0.430 |      6.837 |   32768.00 |   32768.00 |    5.784 |    0.000 |    0.003 |   0.000342 |   0.000171\n"
     ]
    },
    {
     "name": "stdout",
     "output_type": "stream",
     "text": [
      "    41 |      0.025 |    346.545 |      0.465 |      7.412 |   32768.00 |   32768.00 |    5.476 |    0.000 |    0.003 |   0.000276 |   0.000138\n"
     ]
    },
    {
     "name": "stdout",
     "output_type": "stream",
     "text": [
      "    42 |      0.022 |    316.056 |      0.434 |      7.871 |   32768.00 |   65536.00 |    5.336 |    0.000 |    0.003 |   0.000231 |   0.000116\n"
     ]
    },
    {
     "name": "stdout",
     "output_type": "stream",
     "text": [
      "    43 |      0.018 |    392.389 |      0.510 |      8.661 |   65536.00 |   65536.00 |    5.253 |    0.000 |    0.003 |   0.000187 |   0.000094\n"
     ]
    },
    {
     "name": "stdout",
     "output_type": "stream",
     "text": [
      "    44 |      0.015 |    431.933 |      0.550 |      9.316 |   65536.00 |   65536.00 |    5.112 |    0.000 |    0.003 |   0.000149 |   0.000074\n"
     ]
    },
    {
     "name": "stdout",
     "output_type": "stream",
     "text": [
      "    45 |      0.013 |    390.800 |      0.509 |      9.844 |   65536.00 |  131072.00 |    4.904 |    0.000 |    0.003 |   0.000125 |   0.000062\n"
     ]
    },
    {
     "name": "stdout",
     "output_type": "stream",
     "text": [
      "    46 |      0.010 |    488.238 |      0.606 |     10.732 |  131072.00 |  131072.00 |    4.511 |    0.000 |    0.003 |   0.000097 |   0.000049\n"
     ]
    },
    {
     "name": "stdout",
     "output_type": "stream",
     "text": [
      "    47 |      0.008 |    515.982 |      0.634 |     11.434 |  131072.00 |  131072.00 |    4.526 |    0.000 |    0.003 |   0.000074 |   0.000037\n"
     ]
    },
    {
     "name": "stdout",
     "output_type": "stream",
     "text": [
      "    48 |      0.007 |    449.159 |      0.567 |     11.987 |  131072.00 |          / |    4.371 |    0.000 |    0.003 |   0.000061 |   0.000030\n",
      "early stop!\n",
      "Terminated (optimal) in 49 iterations.\n",
      "One optimization by ADMM finished. Elapsed time: 5.98 minutes.\n",
      "\n",
      "Stage 1 variable selection finished. Elapsed time: 14.71 minutes.\n",
      "\n",
      "Stage 2: final theta estimation with Graph Laplacian Constrain using already estimated sigma^2 and gamma_g\n",
      "specified hyper-parameter for Graph Laplacian Constrain is: [0.1, 0.268, 0.72, 1.931, 5.179, 13.895, 37.276, 100.0]\n",
      "hyper-parameter for Graph Laplacian Constrain: use cross-validation to find the optimal value from 8 candidates...\n",
      "\n",
      "Start cross-validation for hyper-parameter lambda_g...\n",
      "still use ADMM even NO Graph Laplacian constrain (lambda_g=0)\n",
      "0%..."
     ]
    },
    {
     "name": "stdout",
     "output_type": "stream",
     "text": [
      "11%..."
     ]
    },
    {
     "name": "stdout",
     "output_type": "stream",
     "text": [
      "22%..."
     ]
    },
    {
     "name": "stdout",
     "output_type": "stream",
     "text": [
      "33%..."
     ]
    },
    {
     "name": "stdout",
     "output_type": "stream",
     "text": [
      "44%..."
     ]
    },
    {
     "name": "stdout",
     "output_type": "stream",
     "text": [
      "56%..."
     ]
    },
    {
     "name": "stdout",
     "output_type": "stream",
     "text": [
      "67%..."
     ]
    },
    {
     "name": "stdout",
     "output_type": "stream",
     "text": [
      "78%..."
     ]
    },
    {
     "name": "stdout",
     "output_type": "stream",
     "text": [
      "89%..."
     ]
    },
    {
     "name": "stdout",
     "output_type": "stream",
     "text": [
      "early stop\n",
      "find optimal lambda_g 5.179 with average negative log-likelihood 55611.2881 by 5 fold cross-validation. Elapsed time: 71.57 minutes.\n",
      "\n",
      "\n",
      "start ADMM iteration...\n",
      "  iter |  res_pri_n | res_dual_n |    eps_pri |   eps_dual |        rho |    new_rho | time_opt | time_reg | time_lap | tilde_RMSE |   hat_RMSE\n"
     ]
    },
    {
     "name": "stdout",
     "output_type": "stream",
     "text": [
      "     0 |     13.744 |     12.502 |      0.132 |      0.132 |       1.00 |       1.00 |   11.123 |    0.000 |    0.008 |   0.133217 |   0.131247\n"
     ]
    },
    {
     "name": "stdout",
     "output_type": "stream",
     "text": [
      "     1 |     11.158 |      8.435 |      0.129 |      0.140 |       1.00 |       1.00 |    4.357 |    0.000 |    0.008 |   0.151402 |   0.112660\n"
     ]
    },
    {
     "name": "stdout",
     "output_type": "stream",
     "text": [
      "     2 |      9.152 |      9.695 |      0.128 |      0.148 |       1.00 |       1.00 |    4.737 |    0.000 |    0.007 |   0.108555 |   0.096322\n"
     ]
    },
    {
     "name": "stdout",
     "output_type": "stream",
     "text": [
      "     3 |      8.029 |     10.731 |      0.129 |      0.156 |       1.00 |       2.00 |    4.417 |    0.000 |    0.007 |   0.086797 |   0.085033\n"
     ]
    },
    {
     "name": "stdout",
     "output_type": "stream",
     "text": [
      "     4 |      7.437 |     16.724 |      0.135 |      0.170 |       2.00 |       2.00 |    5.318 |    0.000 |    0.008 |   0.080471 |   0.078894\n"
     ]
    },
    {
     "name": "stdout",
     "output_type": "stream",
     "text": [
      "     5 |      6.472 |     17.861 |      0.136 |      0.183 |       2.00 |       2.00 |    5.164 |    0.000 |    0.008 |   0.074298 |   0.068758\n"
     ]
    },
    {
     "name": "stdout",
     "output_type": "stream",
     "text": [
      "     6 |      5.550 |     19.264 |      0.137 |      0.193 |       2.00 |       4.00 |    4.906 |    0.000 |    0.008 |   0.059275 |   0.059493\n"
     ]
    },
    {
     "name": "stdout",
     "output_type": "stream",
     "text": [
      "     7 |      5.019 |     28.572 |      0.147 |      0.213 |       4.00 |       4.00 |    5.613 |    0.000 |    0.008 |   0.054909 |   0.053131\n"
     ]
    },
    {
     "name": "stdout",
     "output_type": "stream",
     "text": [
      "     8 |      4.135 |     30.045 |      0.148 |      0.229 |       4.00 |       4.00 |    5.366 |    0.000 |    0.008 |   0.048477 |   0.043382\n"
     ]
    },
    {
     "name": "stdout",
     "output_type": "stream",
     "text": [
      "     9 |      3.253 |     31.856 |      0.150 |      0.241 |       4.00 |       8.00 |    4.885 |    0.000 |    0.007 |   0.034023 |   0.034570\n"
     ]
    },
    {
     "name": "stdout",
     "output_type": "stream",
     "text": [
      "    10 |      2.777 |     44.109 |      0.162 |      0.262 |       8.00 |       8.00 |    5.544 |    0.000 |    0.007 |   0.030152 |   0.028966\n"
     ]
    },
    {
     "name": "stdout",
     "output_type": "stream",
     "text": [
      "    11 |      2.063 |     45.761 |      0.164 |      0.277 |       8.00 |       8.00 |    5.128 |    0.000 |    0.007 |   0.024774 |   0.021242\n"
     ]
    },
    {
     "name": "stdout",
     "output_type": "stream",
     "text": [
      "    12 |      1.396 |     47.472 |      0.166 |      0.288 |       8.00 |      16.00 |    4.528 |    0.000 |    0.007 |   0.013838 |   0.014622\n"
     ]
    },
    {
     "name": "stdout",
     "output_type": "stream",
     "text": [
      "    13 |      1.123 |     60.386 |      0.178 |      0.304 |      16.00 |      16.00 |    5.232 |    0.000 |    0.006 |   0.011327 |   0.011489\n"
     ]
    },
    {
     "name": "stdout",
     "output_type": "stream",
     "text": [
      "    14 |      0.731 |     61.602 |      0.180 |      0.314 |      16.00 |      16.00 |    4.688 |    0.000 |    0.006 |   0.009302 |   0.007260\n"
     ]
    },
    {
     "name": "stdout",
     "output_type": "stream",
     "text": [
      "    15 |      0.378 |     62.704 |      0.181 |      0.319 |      16.00 |      32.00 |    3.404 |    0.000 |    0.006 |   0.003415 |   0.003820\n"
     ]
    },
    {
     "name": "stdout",
     "output_type": "stream",
     "text": [
      "    16 |      0.319 |     73.424 |      0.192 |      0.326 |      32.00 |      32.00 |    4.056 |    0.000 |    0.005 |   0.002186 |   0.003069\n"
     ]
    },
    {
     "name": "stdout",
     "output_type": "stream",
     "text": [
      "    17 |      0.196 |     73.971 |      0.192 |      0.329 |      32.00 |      32.00 |    4.045 |    0.000 |    0.005 |   0.002746 |   0.001737\n"
     ]
    },
    {
     "name": "stdout",
     "output_type": "stream",
     "text": [
      "    18 |      0.075 |     74.509 |      0.193 |      0.330 |      32.00 |      64.00 |    2.547 |    0.000 |    0.005 |   0.000837 |   0.000627\n"
     ]
    },
    {
     "name": "stdout",
     "output_type": "stream",
     "text": [
      "    19 |      0.091 |     82.026 |      0.200 |      0.332 |      64.00 |      64.00 |    2.538 |    0.000 |    0.005 |   0.000302 |   0.000702\n"
     ]
    },
    {
     "name": "stdout",
     "output_type": "stream",
     "text": [
      "    20 |      0.055 |     82.188 |      0.200 |      0.334 |      64.00 |      64.00 |    3.263 |    0.000 |    0.005 |   0.000809 |   0.000433\n"
     ]
    },
    {
     "name": "stdout",
     "output_type": "stream",
     "text": [
      "    21 |      0.016 |     82.389 |      0.200 |      0.334 |      64.00 |     128.00 |    2.244 |    0.000 |    0.005 |   0.000228 |   0.000142\n"
     ]
    },
    {
     "name": "stdout",
     "output_type": "stream",
     "text": [
      "    22 |      0.026 |     87.037 |      0.205 |      0.335 |     128.00 |     128.00 |    2.220 |    0.000 |    0.004 |   0.000067 |   0.000188\n"
     ]
    },
    {
     "name": "stdout",
     "output_type": "stream",
     "text": [
      "    23 |      0.016 |     87.070 |      0.205 |      0.336 |     128.00 |     128.00 |    2.779 |    0.000 |    0.004 |   0.000232 |   0.000119\n"
     ]
    },
    {
     "name": "stdout",
     "output_type": "stream",
     "text": [
      "    24 |      0.005 |     87.127 |      0.205 |      0.336 |     128.00 |     256.00 |    2.191 |    0.000 |    0.004 |   0.000072 |   0.000039\n"
     ]
    },
    {
     "name": "stdout",
     "output_type": "stream",
     "text": [
      "    25 |      0.007 |     89.742 |      0.208 |      0.337 |     256.00 |          / |    2.131 |    0.000 |    0.004 |   0.000022 |   0.000052\n",
      "early stop!\n",
      "Terminated (optimal) in 26 iterations.\n",
      "One optimization by ADMM finished. Elapsed time: 1.88 minutes.\n",
      "\n",
      "\n",
      "stage 2 finished. Elapsed time: 73.45 minutes.\n",
      "\n",
      "GLRM fitting finished. Elapsed time: 89.66 minutes.\n",
      "\n",
      "\n",
      "Post-processing estimated cell-type proportion theta...\n",
      "hard thresholding small theta values with threshold 0\n",
      "\n",
      "\n",
      "cell type deconvolution finished. Estimate results saved in /home/exouser/Spatial/celltype_proportions.csv. Elapsed time: 5.60 hours.\n",
      "\n",
      "\n",
      "######### No imputation #########\n",
      "\n",
      "\n",
      "whole pipeline finished. Total elapsed time: 5.60 hours.\n"
     ]
    },
    {
     "data": {
      "text/plain": [
       "CompletedProcess(args='runDeconvolution -q sim_seq_based_3x_spatial_spot_nUMI.csv                           -r scRNA_data_full.csv                           -c ref_scRNA_cell_celltype.csv                           -a sim_spatial_spot_adjacency_matrix.csv                           --n_marker_per_cmp 20                           -n 64                           --cvae_init_lr 0.003                           --num_hidden_layer 1                           --use_batch_norm false                           --cvae_train_epoch 1000                           --diagnosis true\\n', returncode=0)"
      ]
     },
     "execution_count": 1,
     "metadata": {},
     "output_type": "execute_result"
    }
   ],
   "source": [
    "import subprocess\n",
    "\n",
    "cmd = '''runDeconvolution -q spatial_spots_transformToscRNA_decoded.csv \\\n",
    "                          -m scRNA_decoded_avg_exp_bycelltypes.csv \\\n",
    "                          -a sim_spatial_spot_adjacency_matrix.csv \\\n",
    "                          -n 64 \\\n",
    "                          --lambda_g 0\n",
    "'''\n",
    "\n",
    "subprocess.run(cmd, check=True, text=True, shell=True)"
   ]
  }
 ],
 "metadata": {
  "kernelspec": {
   "display_name": "Python 3 (ipykernel)",
   "language": "python",
   "name": "python3"
  },
  "language_info": {
   "codemirror_mode": {
    "name": "ipython",
    "version": 3
   },
   "file_extension": ".py",
   "mimetype": "text/x-python",
   "name": "python",
   "nbconvert_exporter": "python",
   "pygments_lexer": "ipython3",
   "version": "3.9.12"
  }
 },
 "nbformat": 4,
 "nbformat_minor": 5
}
